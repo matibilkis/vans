{
 "cells": [
  {
   "cell_type": "code",
   "execution_count": 258,
   "metadata": {},
   "outputs": [
    {
     "name": "stdout",
     "output_type": "stream",
     "text": [
      "The autoreload extension is already loaded. To reload it, use:\n",
      "  %reload_ext autoreload\n"
     ]
    }
   ],
   "source": [
    "from utilities.variational import Autoencoder\n",
    "import tensorflow_quantum as tfq\n",
    "from utilities.qmodels import QNN,EnergyLoss\n",
    "import tensorflow as tf\n",
    "\n",
    "from utilities.evaluator import Evaluator\n",
    "import numpy as np\n",
    "import matplotlib.pyplot as plt\n",
    "from IPython import display\n",
    "from tqdm import tqdm\n",
    "from utilities.variational import VQE\n",
    "import cirq\n",
    "\n",
    "from datetime import datetime\n",
    "\n",
    "from utilities.variational import VQE\n",
    "from utilities.evaluator import Evaluator\n",
    "from utilities.idinserter import IdInserter\n",
    "from utilities.simplifier import Simplifier\n",
    "from utilities.unitary_killer_autoencoder import UnitaryMurder\n",
    "from utilities.misc import scheduler_selector_temperature, scheduler_parameter_perturbation_wall #this outputs always 10 for now.\n",
    "\n",
    "%load_ext autoreload\n",
    "%autoreload 2\n"
   ]
  },
  {
   "cell_type": "code",
   "execution_count": 259,
   "metadata": {},
   "outputs": [],
   "source": [
    "### load pure states\n",
    "\n",
    "indexed_pure_states=[]\n",
    "resolver_pure_states=[]\n",
    "js=np.linspace(0.5,2.3,16)[0::3]\n",
    "for bond in js:\n",
    "    problem_config ={\"problem\" : \"H2\", \"geometry\": [('H', (0., 0., 0.)), ('H', (0., 0., bond))], \"multiplicity\":1, \"charge\":0, \"basis\":\"sto-3g\"}\n",
    "    args={\"n_qubits\":8,\"problem_config\":problem_config, \"load_displaying\":False,\"specific_folder_name\":\"4_bd_{}\".format(bond)}\n",
    "    evaluator = Evaluator(args,loading=True, path=\"../data-vans/\")\n",
    "    #energies.append(evaluator.raw_history[len(list(evaluator.raw_history.keys()))-1][-1])\n",
    "    vqe_handler = VQE(n_qubits=4,noise_config={}, problem_config=problem_config,\n",
    "                            return_lower_bound=True)\n",
    "    _, cuener, indexed_circuit, resolver, bestener = evaluator.evolution[evaluator.get_best_iteration()]\n",
    "    indexed_pure_states.append(indexed_circuit)\n",
    "    resolver_pure_states.append(resolver)"
   ]
  },
  {
   "cell_type": "code",
   "execution_count": 263,
   "metadata": {},
   "outputs": [
    {
     "name": "stdout",
     "output_type": "stream",
     "text": [
      "beggining to train!\n",
      "\n",
      "Iteration #0\n",
      "Time since beggining:0:00:02.920534\n",
      " best energy: 0.0017737381858751178\n",
      "current_energy 0.0017737381858751178\n",
      " lower_bound: 0.0\n",
      "\n",
      "Iteration #1\n",
      "Time since beggining:0:00:05.844607\n",
      " best energy: 0.0017737381858751178\n",
      "current energy: 0.0017737381858751178\n",
      " lower_bound: 0.0\n",
      "\n",
      "Iteration #2\n",
      "Time since beggining:0:01:20.262081\n",
      " best energy: 0.0015503329535325368\n",
      "current energy: 0.0015503329535325368\n",
      " lower_bound: 0.0\n",
      "\n",
      "Iteration #3\n",
      "Time since beggining:0:01:23.504191\n",
      " best energy: 0.0015503329535325368\n",
      "current energy: 0.0015503329535325368\n",
      " lower_bound: 0.0\n",
      "\n",
      "Iteration #4\n",
      "Time since beggining:0:01:53.010869\n",
      " best energy: 0.0014634733088314533\n",
      "current energy: 0.0014634733088314533\n",
      " lower_bound: 0.0\n",
      "\n",
      "Iteration #5\n",
      "Time since beggining:0:01:55.286963\n",
      " best energy: 0.0014634733088314533\n",
      "current energy: 0.0014634733088314533\n",
      " lower_bound: 0.0\n",
      "\n",
      "Iteration #6\n",
      "Time since beggining:0:01:58.921539\n",
      " best energy: 0.0014634733088314533\n",
      "current energy: 0.0014634733088314533\n",
      " lower_bound: 0.0\n",
      "\n",
      "Iteration #7\n",
      "Time since beggining:0:02:00.603886\n",
      " best energy: 0.0014634733088314533\n",
      "current energy: 0.0014634733088314533\n",
      " lower_bound: 0.0\n",
      "\n",
      "Iteration #8\n",
      "Time since beggining:0:05:18.953521\n",
      " best energy: 0.00040472256174931925\n",
      "current energy: 0.00040472256174931925\n",
      " lower_bound: 0.0\n",
      "\n",
      "Iteration #9\n",
      "Time since beggining:0:05:23.169984\n",
      " best energy: 0.00040472256174931925\n",
      "current energy: 0.00040472256174931925\n",
      " lower_bound: 0.0\n",
      "\n",
      "Iteration #10\n",
      "Time since beggining:0:05:26.718898\n",
      " best energy: 0.00040472256174931925\n",
      "current energy: 0.00040472256174931925\n",
      " lower_bound: 0.0\n"
     ]
    }
   ],
   "source": [
    "\n",
    "auto_handler = Autoencoder(n_qubits=4,problem_config=problem_config, nb=2, lr = 1.,\n",
    "                        epochs=2000, verbose=0,\n",
    "                        patience=200, optimizer=\"adam\",\n",
    "                        many_indexed_circuits=indexed_pure_states, many_symbols_to_values=resolver_pure_states)\n",
    "\n",
    "evaluator = Evaluator(args={\"n_qubits\":4,\n",
    "                            \"problem_config\":{\"problem\":\"AutoencoderH2\",\"n_qubits\":3},\n",
    "                            \"noise_config\":{}},\n",
    "                      info=\"\", \n",
    "                      path=\"../data-vans/\", acceptance_percentage=0.01, \n",
    "                      accuracy_to_end=0., reduce_acceptance_percentage=False)\n",
    "\n",
    "info = \"AUTOENCODEr\\ntotal_qubits: {}\\ntrash_qubits: {}\\n\".format(len(auto_handler.qubits), auto_handler.nb)\n",
    "evaluator.displaying[\"information\"]+=info\n",
    "\n",
    "\n",
    "start = datetime.now()\n",
    "\n",
    "initialization=\"hea\"\n",
    "\n",
    "selector_temperature=10\n",
    "reps=10\n",
    "rate_iids_per_step=2.0\n",
    "wait_to_get_back=10\n",
    "\n",
    "iid = IdInserter(n_qubits=len(auto_handler.qubits))\n",
    "iid.selector_temperature = selector_temperature\n",
    "\n",
    "#Simplifier reduces gates number as much as possible while keeping same expected value of target hamiltonian\n",
    "Simp = Simplifier(n_qubits=len(auto_handler.qubits))\n",
    "\n",
    "#UnitaryMuerder is in charge of evaluating changes on the energy while setting apart one (or more) parametrized gates. If\n",
    "killer = UnitaryMurder(auto_handler, many_indexed_circuits=indexed_pure_states, many_symbols_to_values=resolver_pure_states, noise_config={})\n",
    "\n",
    "\n",
    "indexed_circuit = auto_handler.hea_ansatz_indexed_circuit(L=3)\n",
    "\n",
    "print(\"beggining to train!\")\n",
    "energy, symbol_to_value, training_evolution = auto_handler.autoencoder(indexed_circuit) #compute energy\n",
    "#add initial info to evaluator\n",
    "\n",
    "\n",
    "to_print=\"\\nIteration #{}\\nTime since beggining:{}\\n best energy: {}\\ncurrent_energy {}\\n lower_bound: {}\".format(0, datetime.now()-start, energy, energy, evaluator.accuracy_to_end)\n",
    "print(to_print)\n",
    "evaluator.displaying[\"information\"]+=to_print\n",
    "\n",
    "evaluator.add_step(indexed_circuit, symbol_to_value, energy, relevant=True)\n",
    "evaluator.lowest_energy = energy\n",
    "\n",
    "for iteration in range(1,reps+1):\n",
    "    relevant=False\n",
    "\n",
    "    ### create a mutation M (maybe this word is too fancy); we add (probably more than one) identity resolution\n",
    "    iid.selector_temperature=scheduler_selector_temperature(energy, evaluator.lowest_energy, when_on=selector_temperature)\n",
    "    M_indices, M_symbols_to_values, M_idx_to_symbols = iid.place_identities(indexed_circuit, symbol_to_value, rate_iids_per_step= rate_iids_per_step)\n",
    "\n",
    "    ### simplify the circuit as much as possible\n",
    "    Sindices, Ssymbols_to_values, Sindex_to_symbols = Simp.reduce_circuit(M_indices, M_symbols_to_values, M_idx_to_symbols)\n",
    "\n",
    "    ## compute the energy of the mutated-simplified circuit [Note 1]\n",
    "    MSenergy, MSsymbols_to_values, _ = auto_handler.autoencoder(\n",
    "        Sindices, symbols_to_values=Ssymbols_to_values,\n",
    "        parameter_perturbation_wall=scheduler_parameter_perturbation_wall(its_without_improvig=evaluator.its_without_improvig))\n",
    "\n",
    "    if evaluator.accept_energy(MSenergy):\n",
    "        indexed_circuit, symbol_to_value, index_to_symbols = Sindices, MSsymbols_to_values, Sindex_to_symbols\n",
    "        # unitary slaughter: delete as many 1-qubit gates as possible, as long as the energy doesn't go up (we allow %1 increments per iteration)\n",
    "        cnt=0\n",
    "        reduced=True\n",
    "        lmax=len(indexed_circuit)\n",
    "        while reduced and cnt < lmax:\n",
    "            indexed_circuit, symbol_to_value, index_to_symbols, energy, reduced = killer.unitary_slaughter(indexed_circuit, symbol_to_value, index_to_symbols)\n",
    "            indexed_circuit, symbol_to_value, index_to_symbols = Simp.reduce_circuit(indexed_circuit, symbol_to_value, index_to_symbols)\n",
    "            cnt+=1\n",
    "        relevant=True\n",
    "    evaluator.add_step(indexed_circuit, symbol_to_value, energy, relevant=relevant)\n",
    "\n",
    "    to_print=\"\\nIteration #{}\\nTime since beggining:{}\\n best energy: {}\\ncurrent energy: {}\\n lower_bound: {}\".format(iteration, datetime.now()-start, evaluator.lowest_energy,energy, evaluator.accuracy_to_end)\n",
    "    print(to_print)\n",
    "    evaluator.displaying[\"information\"]+=to_print\n",
    "\n",
    "    evaluator.save_dicts_and_displaying()\n",
    "\n",
    "    if evaluator.if_finish_ok is True:\n",
    "        print(\"HOMEWORK DONE! \\nBeers on me ;)\")\n",
    "        break\n",
    "\n",
    "    if evaluator.its_without_improvig == wait_to_get_back:\n",
    "        print(\"Getting back to favorite, it's been already {} iterations\".format(wait_to_get_back))\n",
    "        _, energy, indices, resolver, _, _ =  evaluator.evolution[evaluator.get_best_iteration()]\n",
    "        evaluator.its_without_improvig = 0\n"
   ]
  },
  {
   "cell_type": "markdown",
   "metadata": {},
   "source": [
    "Now we construct the inverse circuit.\n",
    "\n",
    "Let's say that VQE-VAns prepares the state $| \\psi_i >$ as $V_i |0>$. Then VAns finds an autoencoder circuit $W$.\n",
    "\n",
    "Then we'll check at the average fidelity $\\sum_i |<\\psi_i| \\tilde{\\psi}_i> |^{2}$\n",
    "\n",
    "with  $|\\tilde{\\psi}_i> = (\\mathcal{E} \\circ \\mathcal{M} \\circ \\mathcal{D}) \\; |\\psi_i>$; \n",
    "\n",
    "with $\\mathcal{E} = W$, $\\mathcal{D} = W^{\\dagger}$ and $\\mathcal{M} = \\mathcal{I}_{AB} - \\dfrac{1}{n_B} ( \\sum_j |0>_{j_B}<0| \\times \\mathcal{I}_{A, \\bar{j}})$"
   ]
  },
  {
   "cell_type": "code",
   "execution_count": 294,
   "metadata": {},
   "outputs": [],
   "source": [
    "W, infidelity, indexed_circuit, resolver, best_infidelity, _ = evaluator.evolution[evaluator.get_best_iteration()]"
   ]
  },
  {
   "cell_type": "code",
   "execution_count": 295,
   "metadata": {},
   "outputs": [],
   "source": [
    "W = cirq.unitary(W)\n",
    "Wdagger = cirq.unitary(auto_handler.give_inverse(indexed_circuit,resolver)[-1])"
   ]
  },
  {
   "cell_type": "code",
   "execution_count": 301,
   "metadata": {},
   "outputs": [],
   "source": [
    "def compute_fidelity(input_state, encoding, channel, decoding):\n",
    "    \"\"\"\n",
    "    we assume input_state is a ket.\n",
    "    \"\"\"\n",
    "    st = np.dot(encoding, input_state)\n",
    "    st = np.dot(channel, st)\n",
    "    st = np.dot(decoding, st)\n",
    "    return np.round(np.dot(np.conjugate(input_state),st), 16)"
   ]
  },
  {
   "cell_type": "code",
   "execution_count": 304,
   "metadata": {},
   "outputs": [],
   "source": [
    "fidelities = []\n",
    "for k in range(len(auto_handler.qbatch)):\n",
    "    input_state = cirq.unitary(auto_handler.qbatch[k])[:,0]\n",
    "    channel = np.eye(2**len(auto_handler.qubits)) - (1/auto_handler.nb)*(np.kron(np.kron(*[auto_handler.zero_proj(vqe_handler.qubits[k]).matrix() for k in range(2)]), np.eye(4)))\n",
    "    fidelities.append(compute_fidelity(input_state, W, channel, Wdagger))"
   ]
  },
  {
   "cell_type": "code",
   "execution_count": 308,
   "metadata": {},
   "outputs": [
    {
     "data": {
      "text/plain": [
       "(-4.407120826202616+3.69644188602273e-12j)"
      ]
     },
     "execution_count": 308,
     "metadata": {},
     "output_type": "execute_result"
    }
   ],
   "source": [
    "np.log10(1-np.mean(fidelities))"
   ]
  },
  {
   "cell_type": "markdown",
   "metadata": {},
   "source": [
    "Now we test on different bond lengths"
   ]
  },
  {
   "cell_type": "code",
   "execution_count": 349,
   "metadata": {},
   "outputs": [
    {
     "name": "stderr",
     "output_type": "stream",
     "text": [
      "100%|██████████| 16/16 [00:12<00:00,  1.31it/s]\n"
     ]
    }
   ],
   "source": [
    "bond_train=np.linspace(0.5,2.3,16)[0::3]\n",
    "bond_test=[]\n",
    "test_energies = []\n",
    "test_states=[]\n",
    "train_energies=[]\n",
    "fcis=[]\n",
    "fcis_test=[]\n",
    "fcis_train=[]\n",
    "train_states=[]\n",
    "for b in tqdm(np.linspace(0.5,2.3,16)):\n",
    "    problem_config ={\"problem\" : \"H2\", \"geometry\": [('H', (0., 0., 0.)), ('H', (0., 0., b))], \"multiplicity\":1, \"charge\":0, \"basis\":\"sto-3g\"}\n",
    "    args={\"n_qubits\":8,\"problem_config\":problem_config, \"load_displaying\":False,\"specific_folder_name\":\"4_bd_{}\".format(b)}\n",
    "    evaluator = Evaluator(args,loading=True, path=\"../data-vans/\")\n",
    "    #energies.append(evaluator.raw_history[len(list(evaluator.raw_history.keys()))-1][-1])\n",
    "    vqe_handler = VQE(n_qubits=4,noise_config={}, problem_config=problem_config,\n",
    "                            return_lower_bound=True)\n",
    "    VAnsCircuit, cuener, indexed_circuit, resolver, bestener = evaluator.evolution[evaluator.get_best_iteration()]\n",
    "    \n",
    "    model = QNN(symbols=list(resolver.keys()), observable=vqe_handler.observable, batch_sizes=1)\n",
    "    model.compile( loss=EnergyLoss())\n",
    "    fcis.append(vqe_handler.lower_bound_energy)\n",
    "    \n",
    "    if not (b in bond_train):\n",
    "        bond_test.append(b)\n",
    "        test_energies.append(np.squeeze(model(tfq.convert_to_tensor([circuit]))))\n",
    "        fcis_test.append(vqe_handler.lower_bound_energy)\n",
    "        test_states.append(cirq.unitary(VAnsCircuit)[:,0])\n",
    "        \n",
    "    else:\n",
    "        train_states.append(cirq.unitary(VAnsCircuit)[:,0])\n",
    "        \n",
    "        train_energies.append(np.squeeze(model(tfq.convert_to_tensor([circuit]))))\n",
    "        fcis_train.append(vqe_handler.lower_bound_energy)"
   ]
  },
  {
   "cell_type": "code",
   "execution_count": 357,
   "metadata": {},
   "outputs": [
    {
     "data": {
      "image/png": "[encoded data removed]",
      "text/plain": [
       "<Figure size 720x720 with 1 Axes>"
      ]
     },
     "metadata": {
      "needs_background": "light"
     },
     "output_type": "display_data"
    }
   ],
   "source": [
    "plt.figure(figsize=(10,10))\n",
    "plt.plot(np.linspace(0.5,2.3,16),fcis,color=\"black\",alpha=0.5,label=\"FCI\")\n",
    "plt.scatter(bond_train, fcis_train, color=\"red\",label=\"Train points\")\n",
    "plt.scatter(bond_test, fcis_test, color=\"green\",label=\"Test points\")\n",
    "plt.xlabel(\"bond length\",size=20)\n",
    "plt.ylabel(\"bond length\",size=20)\n",
    "plt.legend(prop={\"size\":20})\n",
    "plt.savefig(\"energies.png\")"
   ]
  },
  {
   "cell_type": "code",
   "execution_count": 354,
   "metadata": {},
   "outputs": [],
   "source": [
    "test_fidelities = []\n",
    "for state in test_states:\n",
    "    test_fidelities.append(compute_fidelity(state, W, channel, Wdagger))\n",
    "    \n",
    "train_fidelities = []\n",
    "for state in train_states:\n",
    "    train_fidelities.append(compute_fidelity(state, W, channel, Wdagger))"
   ]
  },
  {
   "cell_type": "code",
   "execution_count": null,
   "metadata": {},
   "outputs": [],
   "source": [
    "train_fidelities"
   ]
  },
  {
   "cell_type": "code",
   "execution_count": 356,
   "metadata": {},
   "outputs": [
    {
     "name": "stderr",
     "output_type": "stream",
     "text": [
      "/home/cooper-cooper/.local/lib/python3.6/site-packages/numpy/core/_asarray.py:138: ComplexWarning: Casting complex values to real discards the imaginary part\n",
      "  return array(a, dtype, copy=False, order=order, subok=True)\n"
     ]
    },
    {
     "data": {
      "image/png": "[encoded data removed]",
      "text/plain": [
       "<Figure size 720x720 with 1 Axes>"
      ]
     },
     "metadata": {
      "needs_background": "light"
     },
     "output_type": "display_data"
    }
   ],
   "source": [
    "bonds=np.linspace(0.5,2.3,16)\n",
    "plt.figure(figsize=(10,10))\n",
    "plt.plot(bonds,np.ones(len(bonds)),color=\"black\",alpha=0.5,label=\"1\")\n",
    "plt.scatter(bond_train, train_fidelities, color=\"red\",label=\"Train points\")\n",
    "plt.scatter(bond_test, test_fidelities, color=\"green\",label=\"Test points\")\n",
    "plt.xlabel(\"bond length\",size=20)\n",
    "plt.ylabel(\"bond length\",size=20)\n",
    "plt.legend(prop={\"size\":20})\n",
    "plt.savefig(\"fidelities.png\")"
   ]
  },
  {
   "cell_type": "code",
   "execution_count": null,
   "metadata": {},
   "outputs": [],
   "source": []
  },
  {
   "cell_type": "code",
   "execution_count": 323,
   "metadata": {},
   "outputs": [],
   "source": []
  },
  {
   "cell_type": "code",
   "execution_count": 324,
   "metadata": {},
   "outputs": [
    {
     "data": {
      "text/plain": [
       "(0.9999799152724766-3e-16j)"
      ]
     },
     "execution_count": 324,
     "metadata": {},
     "output_type": "execute_result"
    }
   ],
   "source": [
    "np.max(test_fidelities)"
   ]
  },
  {
   "cell_type": "code",
   "execution_count": 325,
   "metadata": {},
   "outputs": [
    {
     "data": {
      "text/plain": [
       "(0.9970496989584038-2e-16j)"
      ]
     },
     "execution_count": 325,
     "metadata": {},
     "output_type": "execute_result"
    }
   ],
   "source": [
    "np.min(test_fidelities)"
   ]
  },
  {
   "cell_type": "code",
   "execution_count": 326,
   "metadata": {},
   "outputs": [
    {
     "data": {
      "text/plain": [
       "(0.9993844358415747-2.6000000000000003e-16j)"
      ]
     },
     "execution_count": 326,
     "metadata": {},
     "output_type": "execute_result"
    }
   ],
   "source": [
    "np.mean(test_fidelities)"
   ]
  },
  {
   "cell_type": "code",
   "execution_count": 328,
   "metadata": {},
   "outputs": [],
   "source": [
    "from utilities.qmodels import QNN,EnergyLoss"
   ]
  },
  {
   "cell_type": "code",
   "execution_count": 330,
   "metadata": {},
   "outputs": [],
   "source": []
  },
  {
   "cell_type": "code",
   "execution_count": 331,
   "metadata": {},
   "outputs": [
    {
     "data": {
      "text/plain": [
       "<tf.Tensor: shape=(1,), dtype=float32, numpy=array([-0.5082592], dtype=float32)>"
      ]
     },
     "execution_count": 331,
     "metadata": {},
     "output_type": "execute_result"
    }
   ],
   "source": []
  },
  {
   "cell_type": "code",
   "execution_count": null,
   "metadata": {},
   "outputs": [],
   "source": []
  },
  {
   "cell_type": "code",
   "execution_count": null,
   "metadata": {},
   "outputs": [],
   "source": []
  },
  {
   "cell_type": "code",
   "execution_count": null,
   "metadata": {},
   "outputs": [],
   "source": [
    "indexed_pure_states=[]\n",
    "resolver_pure_states=[]\n",
    "js=np.linspace(0.5,2.3,16)[1::3]\n",
    "for bond in js:\n",
    "    problem_config ={\"problem\" : \"H2\", \"geometry\": [('H', (0., 0., 0.)), ('H', (0., 0., bond))], \"multiplicity\":1, \"charge\":0, \"basis\":\"sto-3g\"}\n",
    "    args={\"n_qubits\":8,\"problem_config\":problem_config, \"load_displaying\":False,\"specific_folder_name\":\"4_bd_{}\".format(bond)}\n",
    "    evaluator = Evaluator(args,loading=True, path=\"../data-vans/\")\n",
    "    #energies.append(evaluator.raw_history[len(list(evaluator.raw_history.keys()))-1][-1])\n",
    "    vqe_handler = VQE(n_qubits=4,noise_config={}, problem_config=problem_config,\n",
    "                            return_lower_bound=True)\n",
    "    _, cuener, indexed_circuit, resolver, bestener = evaluator.evolution[evaluator.get_best_iteration()]\n",
    "    indexed_pure_states.append(indexed_circuit)\n",
    "    resolver_pure_states.append(resolver)"
   ]
  }
 ],
 "metadata": {
  "kernelspec": {
   "display_name": "Python 3",
   "language": "python",
   "name": "python3"
  },
  "language_info": {
   "codemirror_mode": {
    "name": "ipython",
    "version": 3
   },
   "file_extension": ".py",
   "mimetype": "text/x-python",
   "name": "python",
   "nbconvert_exporter": "python",
   "pygments_lexer": "ipython3",
   "version": "3.6.9"
  }
 },
 "nbformat": 4,
 "nbformat_minor": 4
}
