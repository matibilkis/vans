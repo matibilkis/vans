{
 "cells": [
  {
   "cell_type": "code",
   "execution_count": 41,
   "metadata": {},
   "outputs": [
    {
     "name": "stdout",
     "output_type": "stream",
     "text": [
      "The autoreload extension is already loaded. To reload it, use:\n",
      "  %reload_ext autoreload\n"
     ]
    }
   ],
   "source": [
    "import os \n",
    "import numpy as np\n",
    "import sympy\n",
    "import cirq\n",
    "import tensorflow_quantum as tfq\n",
    "from tqdm import tqdm\n",
    "import tensorflow as tf\n",
    "from tqdm import tqdm\n",
    "import matplotlib.pyplot as plt\n",
    "import pickle\n",
    "\n",
    "from utilities.variational import VQE\n",
    "from utilities.circuit_basics import Evaluator\n",
    "from utilities.idinserter import IdInserter\n",
    "from utilities.simplifier import Simplifier\n",
    "from utilities.unitary_killer import UnitaryMurder\n",
    "\n",
    "%load_ext autoreload\n",
    "%autoreload 2\n",
    "\n",
    "\n",
    "n_qubits = 4\n",
    "qlr = 0.01\n",
    "qepochs = 10**3\n",
    "verbose=0\n",
    "g=1\n",
    "J=0\n",
    "noise=0.0\n",
    "problem=\"TFIM\"\n",
    "\n"
   ]
  },
  {
   "cell_type": "code",
   "execution_count": 37,
   "metadata": {},
   "outputs": [],
   "source": [
    "indexed_circuit = [vqe_handler.n_qubits+k+vqe_handler.number_of_cnots for k in range(vqe_handler.n_qubits)]\n",
    "circuit, symbols, idx = vqe_handler.give_circuit(indexed_circuit)\n",
    "\n",
    "vqe_handler = VQE(n_qubits=n_qubits, lr=qlr, epochs=10**3, patience=100,\n",
    "                  random_perturbations=True, verbose=0, g=g, J = J, \n",
    "                  problem=problem, noise_model={ \"channel\":\"depolarizing\", \"channel_params\":[0.01], \"q_batch_size\":10**3})\n"
   ]
  },
  {
   "cell_type": "code",
   "execution_count": 38,
   "metadata": {},
   "outputs": [
    {
     "data": {
      "text/plain": [
       "array(-3.966, dtype=float32)"
      ]
     },
     "execution_count": 38,
     "metadata": {},
     "output_type": "execute_result"
    }
   ],
   "source": [
    "vqe_handler.give_energy(indexed_circuit, {s:0 for s in symbols})"
   ]
  },
  {
   "cell_type": "code",
   "execution_count": 30,
   "metadata": {},
   "outputs": [],
   "source": [
    "circuit, symbols, index_to_symbol = vqe_handler.give_circuit_with_noise(indexed_circuit)\n",
    "tfqcircuit = tfq.convert_to_tensor([cirq.resolve_parameters(c, {s:0 for s in symbols}) for c in circuit])\n"
   ]
  },
  {
   "cell_type": "code",
   "execution_count": 35,
   "metadata": {},
   "outputs": [
    {
     "data": {
      "text/plain": [
       "array(-3.9720001, dtype=float32)"
      ]
     },
     "execution_count": 35,
     "metadata": {},
     "output_type": "execute_result"
    }
   ],
   "source": [
    "tfq_layer = tfq.layers.Expectation()(tf.squeeze(tfqcircuit), operators=tfq.convert_to_tensor([vqe_handler.observable]*vqe_handler.q_batch_size))\n",
    "averaged_unitaries = tf.math.reduce_mean(tfq_layer, axis=0)\n",
    "energy = np.squeeze(tf.math.reduce_sum(averaged_unitaries, axis=-1))\n",
    "energy"
   ]
  },
  {
   "cell_type": "markdown",
   "metadata": {},
   "source": [
    "Test without noise"
   ]
  },
  {
   "cell_type": "code",
   "execution_count": 42,
   "metadata": {},
   "outputs": [],
   "source": [
    "indexed_circuit = [vqe_handler.n_qubits+k+vqe_handler.number_of_cnots for k in range(vqe_handler.n_qubits)]\n",
    "circuit, symbols, idx = vqe_handler.give_circuit(indexed_circuit)\n",
    "\n",
    "vqe_handler = VQE(n_qubits=n_qubits, lr=qlr, epochs=10**3, patience=100,\n",
    "                  random_perturbations=True, verbose=0, g=g, J = J)#                  problem=problem, noise_model={ \"channel\":\"depolarizing\", \"channel_params\":[0.01], \"q_batch_size\":10**3})\n"
   ]
  },
  {
   "cell_type": "code",
   "execution_count": 43,
   "metadata": {},
   "outputs": [
    {
     "data": {
      "text/plain": [
       "array(-4., dtype=float32)"
      ]
     },
     "execution_count": 43,
     "metadata": {},
     "output_type": "execute_result"
    }
   ],
   "source": [
    "vqe_handler.give_energy(indexed_circuit, {s:0 for s in symbols})"
   ]
  },
  {
   "cell_type": "code",
   "execution_count": null,
   "metadata": {},
   "outputs": [],
   "source": []
  }
 ],
 "metadata": {
  "kernelspec": {
   "display_name": "Python 3",
   "language": "python",
   "name": "python3"
  },
  "language_info": {
   "codemirror_mode": {
    "name": "ipython",
    "version": 3
   },
   "file_extension": ".py",
   "mimetype": "text/x-python",
   "name": "python",
   "nbconvert_exporter": "python",
   "pygments_lexer": "ipython3",
   "version": "3.6.9"
  }
 },
 "nbformat": 4,
 "nbformat_minor": 4
}
