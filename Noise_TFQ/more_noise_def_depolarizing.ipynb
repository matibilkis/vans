{
 "cells": [
  {
   "cell_type": "markdown",
   "metadata": {},
   "source": [
    "In this notebook we explore the noise models provided by Cirq. Beforehand let's see that we can actually wrap this in tfq.Expectation layer."
   ]
  },
  {
   "cell_type": "code",
   "execution_count": 80,
   "metadata": {},
   "outputs": [],
   "source": [
    "import numpy as np\n",
    "import sympy\n",
    "import cirq\n",
    "import tensorflow as tf\n",
    "import tensorflow_quantum as tfq\n",
    "import matplotlib.pyplot as plt\n",
    "from tqdm import tqdm\n",
    "import matplotlib.pyplot as plt\n",
    "\n",
    "n_qubits = 4\n",
    "qubits = cirq.GridQubit.rect(1, n_qubits)\n",
    "g=1\n",
    "J=1.21\n",
    "observable = [-float(0.5*g)*cirq.Z.on(q) for q in qubits] \n",
    "for q in range(len(qubits)):\n",
    "    observable.append(-float(0.5*J)*cirq.X.on(qubits[q])*cirq.X.on(qubits[(q+1)%len(qubits)]))\n",
    "gate=[cirq.rz, cirq.rx, cirq.rz]\n",
    "\n",
    "circuit = []\n",
    "symbols=[]\n",
    "for k in range(len(qubits)-1):\n",
    "    for j in range(3):\n",
    "        symbol=\"th_\"+str(k)+\"_\"+str(j)\n",
    "        symbols.append(symbol)\n",
    "        circuit.append(gate[j](sympy.Symbol(symbol)).on(qubits[k]))\n",
    "        #circuit.append(cirq.depolarize(p=0.01).on(qubits[k]))\n",
    "for k in range(len(qubits)):\n",
    "    circuit.append(cirq.CNOT(qubits[k], qubits[(k+1)%len(qubits)]))\n",
    "circuit = cirq.Circuit(circuit)"
   ]
  },
  {
   "cell_type": "code",
   "execution_count": 81,
   "metadata": {},
   "outputs": [
    {
     "data": {
      "text/html": [
       "<pre style=\"overflow: auto; white-space: pre;\">(0, 0): ───Rz(th_0_0)───Rx(th_0_1)───Rz(th_0_2)───@───────────X───\n",
       "                                                  │           │\n",
       "(0, 1): ───Rz(th_1_0)───Rx(th_1_1)───Rz(th_1_2)───X───@───────┼───\n",
       "                                                      │       │\n",
       "(0, 2): ───Rz(th_2_0)───Rx(th_2_1)───Rz(th_2_2)───────X───@───┼───\n",
       "                                                          │   │\n",
       "(0, 3): ──────────────────────────────────────────────────X───@───</pre>"
      ],
      "text/plain": [
       "(0, 0): ───Rz(th_0_0)───Rx(th_0_1)───Rz(th_0_2)───@───────────X───\n",
       "                                                  │           │\n",
       "(0, 1): ───Rz(th_1_0)───Rx(th_1_1)───Rz(th_1_2)───X───@───────┼───\n",
       "                                                      │       │\n",
       "(0, 2): ───Rz(th_2_0)───Rx(th_2_1)───Rz(th_2_2)───────X───@───┼───\n",
       "                                                          │   │\n",
       "(0, 3): ──────────────────────────────────────────────────X───@───"
      ]
     },
     "execution_count": 81,
     "metadata": {},
     "output_type": "execute_result"
    }
   ],
   "source": [
    "circuit"
   ]
  },
  {
   "cell_type": "code",
   "execution_count": 68,
   "metadata": {},
   "outputs": [
    {
     "data": {
      "text/plain": [
       "cirq.ConstantQubitNoiseModel(cirq.depolarize(p=0.01))"
      ]
     },
     "execution_count": 68,
     "metadata": {},
     "output_type": "execute_result"
    }
   ],
   "source": []
  },
  {
   "cell_type": "code",
   "execution_count": 82,
   "metadata": {},
   "outputs": [
    {
     "data": {
      "text/html": [
       "<pre style=\"overflow: auto; white-space: pre;\">(0, 0): ───Rz(th_0_0)───D(0.01)[<virtual>]───Rx(th_0_1)───D(0.01)[<virtual>]───Rz(th_0_2)───D(0.01)[<virtual>]───@───D(0.01)[<virtual>]───────D(0.01)[<virtual>]───────D(0.01)[<virtual>]───X───D(0.01)[<virtual>]───\n",
       "                                                                                                                 │                                                                          │\n",
       "(0, 1): ───Rz(th_1_0)───D(0.01)[<virtual>]───Rx(th_1_1)───D(0.01)[<virtual>]───Rz(th_1_2)───D(0.01)[<virtual>]───X───D(0.01)[<virtual>]───@───D(0.01)[<virtual>]───────D(0.01)[<virtual>]───┼───D(0.01)[<virtual>]───\n",
       "                                                                                                                                          │                                                 │\n",
       "(0, 2): ───Rz(th_2_0)───D(0.01)[<virtual>]───Rx(th_2_1)───D(0.01)[<virtual>]───Rz(th_2_2)───D(0.01)[<virtual>]───────D(0.01)[<virtual>]───X───D(0.01)[<virtual>]───@───D(0.01)[<virtual>]───┼───D(0.01)[<virtual>]───\n",
       "                                                                                                                                                                   │                        │\n",
       "(0, 3): ────────────────D(0.01)[<virtual>]────────────────D(0.01)[<virtual>]────────────────D(0.01)[<virtual>]───────D(0.01)[<virtual>]───────D(0.01)[<virtual>]───X───D(0.01)[<virtual>]───@───D(0.01)[<virtual>]───</pre>"
      ],
      "text/plain": [
       "(0, 0): ───Rz(th_0_0)───D(0.01)[<virtual>]───Rx(th_0_1)───D(0.01)[<virtual>]───Rz(th_0_2)───D(0.01)[<virtual>]───@───D(0.01)[<virtual>]───────D(0.01)[<virtual>]───────D(0.01)[<virtual>]───X───D(0.01)[<virtual>]───\n",
       "                                                                                                                 │                                                                          │\n",
       "(0, 1): ───Rz(th_1_0)───D(0.01)[<virtual>]───Rx(th_1_1)───D(0.01)[<virtual>]───Rz(th_1_2)───D(0.01)[<virtual>]───X───D(0.01)[<virtual>]───@───D(0.01)[<virtual>]───────D(0.01)[<virtual>]───┼───D(0.01)[<virtual>]───\n",
       "                                                                                                                                          │                                                 │\n",
       "(0, 2): ───Rz(th_2_0)───D(0.01)[<virtual>]───Rx(th_2_1)───D(0.01)[<virtual>]───Rz(th_2_2)───D(0.01)[<virtual>]───────D(0.01)[<virtual>]───X───D(0.01)[<virtual>]───@───D(0.01)[<virtual>]───┼───D(0.01)[<virtual>]───\n",
       "                                                                                                                                                                   │                        │\n",
       "(0, 3): ────────────────D(0.01)[<virtual>]────────────────D(0.01)[<virtual>]────────────────D(0.01)[<virtual>]───────D(0.01)[<virtual>]───────D(0.01)[<virtual>]───X───D(0.01)[<virtual>]───@───D(0.01)[<virtual>]───"
      ]
     },
     "execution_count": 82,
     "metadata": {},
     "output_type": "execute_result"
    }
   ],
   "source": [
    "cc=circuit.with_noise(cirq.ConstantQubitNoiseModel.from_noise_model_like(cirq.depolarize(p=0.01)))\n",
    "cc"
   ]
  },
  {
   "cell_type": "code",
   "execution_count": null,
   "metadata": {},
   "outputs": [],
   "source": [
    "cc=circuit.with_noise(cirq.ConstantQubitNoiseModel.from_noise_model_like(cirq.depolarize(p=0.01)))\n",
    "cc"
   ]
  },
  {
   "cell_type": "code",
   "execution_count": 46,
   "metadata": {},
   "outputs": [],
   "source": [
    "simulator = cirq.DensityMatrixSimulator(noise=cirq.depolarize(0.01))"
   ]
  },
  {
   "cell_type": "code",
   "execution_count": 54,
   "metadata": {},
   "outputs": [],
   "source": [
    "res = simulator.simulate(circuit, param_resolver={s:k for s,k in zip(symbols,np.random.randn(len(symbols)))})"
   ]
  },
  {
   "cell_type": "code",
   "execution_count": 60,
   "metadata": {},
   "outputs": [
    {
     "data": {
      "text/plain": [
       "array([[ 5.62487245e-01+1.45213823e-08j,  7.36966683e-03+1.19510284e-02j,\n",
       "         1.80307209e-01+1.51208133e-01j, -8.50309618e-04+5.81205776e-03j,\n",
       "         1.42710358e-01-6.53418899e-02j,  3.25808208e-03+2.17602565e-03j,\n",
       "         6.33114651e-02+1.74178891e-02j,  4.59428702e-04+1.57337147e-03j,\n",
       "        -2.61589549e-02-2.97069490e-01j,  5.96902799e-03-4.44797520e-03j,\n",
       "         7.14730322e-02-1.02258690e-01j,  3.10909795e-03+1.78783841e-04j,\n",
       "        -4.11462262e-02-7.23316073e-02j,  9.97716561e-04-1.82190666e-03j,\n",
       "         6.25465158e-03-3.42470892e-02j,  8.09587247e-04-3.15811660e-04j],\n",
       "       [ 7.36966636e-03-1.19510274e-02j,  1.16887707e-02-5.82655035e-10j,\n",
       "         5.57505246e-03-1.84982480e-03j,  3.74687579e-03+3.14218132e-03j,\n",
       "         4.81477211e-04-3.88823426e-03j,  2.96559324e-03-1.35783781e-03j,\n",
       "         1.19957572e-03-1.11695589e-03j,  1.31564494e-03+3.61952523e-04j,\n",
       "        -6.65449258e-03-3.33639001e-03j, -5.43596165e-04-6.17325539e-03j,\n",
       "        -1.23623048e-03-2.85835448e-03j,  1.48524588e-03-2.12498731e-03j,\n",
       "        -2.07590614e-03-7.34595014e-05j, -8.55039456e-04-1.50308723e-03j,\n",
       "        -6.45691238e-04-5.81593777e-04j,  1.29974855e-04-7.11671833e-04j],\n",
       "       [ 1.80307239e-01-1.51208147e-01j,  5.57505153e-03+1.84982456e-03j,\n",
       "         1.14193939e-01-7.16788362e-09j,  1.49616029e-03+2.42625014e-03j,\n",
       "         2.81810258e-02-5.93089908e-02j,  1.62934884e-03-1.78306786e-04j,\n",
       "         2.89724730e-02-1.32654449e-02j,  6.61442813e-04+4.41767945e-04j,\n",
       "        -8.82437006e-02-8.81945938e-02j,  7.17685441e-04-3.03040957e-03j,\n",
       "        -5.31068444e-03-6.03098571e-02j,  1.21180795e-03-9.03009961e-04j,\n",
       "        -3.26337703e-02-1.21251866e-02j, -1.69944338e-04-8.52224824e-04j,\n",
       "        -8.35333951e-03-1.46844657e-02j,  2.02552445e-04-3.69876216e-04j],\n",
       "       [-8.50309676e-04-5.81205776e-03j,  3.74687463e-03-3.14218132e-03j,\n",
       "         1.49616005e-03-2.42625014e-03j,  2.37300736e-03+4.04217762e-12j,\n",
       "        -8.90897994e-04-1.37581723e-03j,  5.85616042e-04-1.23247097e-03j,\n",
       "         9.77475283e-05-7.89373822e-04j,  6.02062617e-04-2.75662605e-04j,\n",
       "        -3.03000957e-03+7.19373289e-04j, -1.83374877e-03-1.83272792e-03j,\n",
       "        -1.35096873e-03-6.77340257e-04j, -1.10358706e-04-1.25326915e-03j,\n",
       "        -6.85186125e-04+5.34498366e-04j, -6.78146316e-04-2.51967518e-04j,\n",
       "        -4.21442150e-04-1.49134694e-05j, -1.73586726e-04-3.05150752e-04j],\n",
       "       [ 1.42710328e-01+6.53418899e-02j,  4.81476920e-04+3.88823426e-03j,\n",
       "         2.81810258e-02+5.93090057e-02j, -8.90897820e-04+1.37581746e-03j,\n",
       "         5.69962189e-02-8.12374279e-10j,  7.46760285e-04+1.21098466e-03j,\n",
       "         1.82703286e-02+1.53217539e-02j, -8.61609224e-05+5.88929397e-04j,\n",
       "         2.78725047e-02-7.84091726e-02j,  2.03112303e-03-4.35110589e-04j,\n",
       "         3.00126132e-02-1.76416188e-02j,  7.68050028e-04+4.06531472e-04j,\n",
       "        -2.65065744e-03-3.01017333e-02j,  6.04835222e-04-4.50708380e-04j,\n",
       "         7.24228425e-03-1.03617618e-02j,  3.15041689e-04+1.81160049e-05j],\n",
       "       [ 3.25808232e-03-2.17602588e-03j,  2.96559301e-03+1.35783758e-03j,\n",
       "         1.62934908e-03+1.78306640e-04j,  5.85616217e-04+1.23247120e-03j,\n",
       "         7.46760285e-04-1.21098454e-03j,  1.18441042e-03-2.40881169e-11j,\n",
       "         5.64913964e-04-1.87440688e-04j,  3.79666657e-04+3.18393752e-04j,\n",
       "        -1.30075600e-03-1.61951082e-03j,  5.79204760e-04-1.62938237e-03j,\n",
       "         1.83959928e-05-8.68809759e-04j,  6.23677275e-04-3.66601802e-04j,\n",
       "        -6.74292387e-04-3.38072743e-04j, -5.50819968e-05-6.25529210e-04j,\n",
       "        -1.25265899e-04-2.89634016e-04j,  1.50498352e-04-2.15322652e-04j],\n",
       "       [ 6.33114874e-02-1.74178910e-02j,  1.19957619e-03+1.11695589e-03j,\n",
       "         2.89724693e-02+1.32654412e-02j,  9.77476302e-05+7.89373997e-04j,\n",
       "         1.82703286e-02-1.53217539e-02j,  5.64913964e-04+1.87440673e-04j,\n",
       "         1.15711456e-02-9.61293600e-10j,  1.51604254e-04+2.45849194e-04j,\n",
       "        -1.21433632e-02-3.26270238e-02j,  5.34116873e-04-6.85483916e-04j,\n",
       "         5.65856695e-03-1.59183107e-02j,  4.12350433e-04-8.83344619e-05j,\n",
       "        -8.94163549e-03-8.93666130e-03j,  7.27223232e-05-3.07068229e-04j,\n",
       "        -5.38125401e-04-6.11113431e-03j,  1.22791258e-04-9.15010314e-05j],\n",
       "       [ 4.59428760e-04-1.57337170e-03j,  1.31564494e-03-3.61952552e-04j,\n",
       "         6.61442929e-04-4.41768119e-04j,  6.02062617e-04+2.75662605e-04j,\n",
       "        -8.61609224e-05-5.88929339e-04j,  3.79666686e-04-3.18393752e-04j,\n",
       "         1.51604268e-04-2.45849194e-04j,  2.40454261e-04-1.32849304e-11j,\n",
       "        -8.52319761e-04-1.69469786e-04j, -2.52345199e-04-6.78006094e-04j,\n",
       "        -2.64074275e-04-3.28786584e-04j,  1.17587842e-04-3.30790615e-04j,\n",
       "        -3.07027774e-04+7.28933373e-05j, -1.85811761e-04-1.85708326e-04j,\n",
       "        -1.36892224e-04-6.86341882e-05j, -1.11825257e-05-1.26992425e-04j],\n",
       "       [-2.61589475e-02+2.97069460e-01j, -6.65449211e-03+3.33638838e-03j,\n",
       "        -8.82436782e-02+8.81945565e-02j, -3.03001003e-03-7.19373056e-04j,\n",
       "         2.78725103e-02+7.84091875e-02j, -1.30075705e-03+1.61951140e-03j,\n",
       "        -1.21433642e-02+3.26270238e-02j, -8.52319819e-04+1.69469815e-04j,\n",
       "         1.76912069e-01+1.09743583e-08j,  2.31788866e-03+3.75880697e-03j,\n",
       "         5.67097366e-02+4.75575626e-02j, -2.67437019e-04+1.82799331e-03j,\n",
       "         4.48848791e-02-2.05511618e-02j,  1.02472329e-03+6.84397819e-04j,\n",
       "         1.99125707e-02+5.47822705e-03j,  1.44498365e-04+4.94852720e-04j],\n",
       "       [ 5.96902892e-03+4.44797520e-03j, -5.43596165e-04+6.17325492e-03j,\n",
       "         7.17685733e-04+3.03041027e-03j, -1.83374842e-03+1.83272746e-03j,\n",
       "         2.03112396e-03+4.35111055e-04j,  5.79204876e-04+1.62938260e-03j,\n",
       "         5.34116931e-04+6.85483974e-04j, -2.52345228e-04+6.78005978e-04j,\n",
       "         2.31788913e-03-3.75880697e-03j,  3.67632299e-03+1.26607344e-11j,\n",
       "         1.75345037e-03-5.81802160e-04j,  1.17845705e-03+9.88270622e-04j,\n",
       "         1.51432876e-04-1.22291723e-03j,  9.32730560e-04-4.27063525e-04j,\n",
       "         3.77287506e-04-3.51301947e-04j,  4.13793256e-04+1.13840360e-04j],\n",
       "       [ 7.14730099e-02+1.02258660e-01j, -1.23623072e-03+2.85835494e-03j,\n",
       "        -5.31068863e-03+6.03098646e-02j, -1.35096919e-03+6.77340373e-04j,\n",
       "         3.00126094e-02+1.76416170e-02j,  1.83958145e-05+8.68809700e-04j,\n",
       "         5.65856509e-03+1.59183126e-02j, -2.64074362e-04+3.28786729e-04j,\n",
       "         5.67097366e-02-4.75575626e-02j,  1.75345060e-03+5.81802160e-04j,\n",
       "         3.59159671e-02-8.82045215e-10j,  4.70568397e-04+7.63097662e-04j,\n",
       "         8.86342302e-03-1.86537132e-02j,  5.12458733e-04-5.60805565e-05j,\n",
       "         9.11234505e-03-4.17221244e-03j,  2.08035213e-04+1.38943738e-04j],\n",
       "       [ 3.10909841e-03-1.78783885e-04j,  1.48524542e-03+2.12498661e-03j,\n",
       "         1.21180795e-03+9.03009903e-04j, -1.10358764e-04+1.25326973e-03j,\n",
       "         7.68050086e-04-4.06531355e-04j,  6.23677159e-04+3.66601744e-04j,\n",
       "         4.12350637e-04+8.83344619e-05j,  1.17587864e-04+3.30790615e-04j,\n",
       "        -2.67437194e-04-1.82799355e-03j,  1.17845705e-03-9.88270389e-04j,\n",
       "         4.70568339e-04-7.63097603e-04j,  7.46352016e-04+8.21138470e-12j,\n",
       "        -2.80202803e-04-4.32718400e-04j,  1.84186443e-04-3.87633510e-04j,\n",
       "         3.07433074e-05-2.48271768e-04j,  1.89359154e-04-8.67007038e-05j],\n",
       "       [-4.11462300e-02+7.23316297e-02j, -2.07590684e-03+7.34596833e-05j,\n",
       "        -3.26337814e-02+1.21251922e-02j, -6.85186242e-04-5.34498540e-04j,\n",
       "        -2.65065394e-03+3.01017296e-02j, -6.74292503e-04+3.38072714e-04j,\n",
       "        -8.94163642e-03+8.93665757e-03j, -3.07027687e-04-7.28933373e-05j,\n",
       "         4.48848829e-02+2.05511674e-02j,  1.51432876e-04+1.22291758e-03j,\n",
       "         8.86342116e-03+1.86537132e-02j, -2.80202832e-04+4.32718516e-04j,\n",
       "         1.79263055e-02+5.20635923e-10j,  2.34869120e-04+3.80875746e-04j,\n",
       "         5.74633665e-03+4.81895776e-03j, -2.70991150e-05+1.85228535e-04j],\n",
       "       [ 9.97716910e-04+1.82190700e-03j, -8.55039514e-04+1.50308770e-03j,\n",
       "        -1.69944440e-04+8.52225174e-04j, -6.78146316e-04+2.51967576e-04j,\n",
       "         6.04835281e-04+4.50708438e-04j, -5.50819968e-05+6.25529210e-04j,\n",
       "         7.27223014e-05+3.07068171e-04j, -1.85811703e-04+1.85708253e-04j,\n",
       "         1.02472352e-03-6.84397935e-04j,  9.32730676e-04+4.27063555e-04j,\n",
       "         5.12458850e-04+5.60805456e-05j,  1.84186385e-04+3.87633510e-04j,\n",
       "         2.34869047e-04-3.80875746e-04j,  3.72517708e-04+2.42331884e-11j,\n",
       "         1.77675203e-04-5.89533483e-05j,  1.19411765e-04+1.00140387e-04j],\n",
       "       [ 6.25464879e-03+3.42470892e-02j, -6.45691296e-04+5.81593777e-04j,\n",
       "        -8.35334323e-03+1.46844722e-02j, -4.21442237e-04+1.49134585e-05j,\n",
       "         7.24228239e-03+1.03617599e-02j, -1.25265913e-04+2.89633957e-04j,\n",
       "        -5.38125576e-04+6.11113338e-03j, -1.36892209e-04+6.86341955e-05j,\n",
       "         1.99125707e-02-5.47822798e-03j,  3.77287535e-04+3.51302006e-04j,\n",
       "         9.11234412e-03+4.17221291e-03j,  3.07432929e-05+2.48271739e-04j,\n",
       "         5.74633805e-03-4.81895823e-03j,  1.77675218e-04+5.89533593e-05j,\n",
       "         3.63932503e-03-6.56768737e-11j,  4.76821624e-05+7.73238498e-05j],\n",
       "       [ 8.09587247e-04+3.15811747e-04j,  1.29974796e-04+7.11671833e-04j,\n",
       "         2.02552488e-04+3.69876303e-04j, -1.73586712e-04+3.05150752e-04j,\n",
       "         3.15041631e-04-1.81159776e-05j,  1.50498308e-04+2.15322609e-04j,\n",
       "         1.22791258e-04+9.15010314e-05j, -1.11825293e-05+1.26992440e-04j,\n",
       "         1.44498379e-04-4.94852720e-04j,  4.13793197e-04-1.13840331e-04j,\n",
       "         2.08035213e-04-1.38943724e-04j,  1.89359140e-04+8.67006966e-05j,\n",
       "        -2.70990859e-05-1.85228550e-04j,  1.19411787e-04-1.00140373e-04j,\n",
       "         4.76821770e-05-7.73238426e-05j,  7.56270383e-05-1.13690871e-12j]],\n",
       "      dtype=complex64)"
      ]
     },
     "execution_count": 60,
     "metadata": {},
     "output_type": "execute_result"
    }
   ],
   "source": [
    "res.final_density_matrix"
   ]
  },
  {
   "cell_type": "code",
   "execution_count": null,
   "metadata": {},
   "outputs": [],
   "source": []
  },
  {
   "cell_type": "code",
   "execution_count": null,
   "metadata": {},
   "outputs": [],
   "source": [
    "tfq.layers.Expectation(backend=cirq.DensityMatrixSimulator(noise=cirq.depolarize(self.noise_level)))(\n",
    "        tfqcircuit,\n",
    "        operators=tfq.convert_to_tensor([self.observable]))"
   ]
  },
  {
   "cell_type": "code",
   "execution_count": null,
   "metadata": {},
   "outputs": [],
   "source": []
  },
  {
   "cell_type": "code",
   "execution_count": null,
   "metadata": {},
   "outputs": [],
   "source": []
  },
  {
   "cell_type": "code",
   "execution_count": null,
   "metadata": {},
   "outputs": [],
   "source": []
  },
  {
   "cell_type": "code",
   "execution_count": null,
   "metadata": {},
   "outputs": [],
   "source": [
    "#https://cirq.readthedocs.io/en/stable/_modules/cirq/ops/common_channels.html#depolarize\n",
    "\n",
    "\n",
    "from typing import (Any, Dict, Iterable, Optional, Sequence, Tuple, Union,\n",
    "                    TYPE_CHECKING)\n",
    "\n",
    "import numpy as np\n",
    "\n",
    "from cirq import protocols, value\n",
    "from cirq.ops import (raw_types, common_gates, pauli_gates, gate_features,\n",
    "                      identity)\n",
    "\n",
    "if TYPE_CHECKING:\n",
    "    import cirq\n",
    "\n",
    "@value.value_equality\n",
    "class AsymmetricDepolarizingChannel(gate_features.SingleQubitGate):\n",
    "\n",
    "    def __init__(self, p_x: float, p_y: float, p_z: float) -> None:\n",
    "\n",
    "        self._p_x = value.validate_probability(p_x, 'p_x')\n",
    "        self._p_y = value.validate_probability(p_y, 'p_y')\n",
    "        self._p_z = value.validate_probability(p_z, 'p_z')\n",
    "        self._p_i = 1 - value.validate_probability(p_x + p_y + p_z,\n",
    "                                                   'p_x + p_y + p_z')\n",
    "\n",
    "\n",
    "    def _mixture_(self) -> Sequence[Tuple[float, np.ndarray]]:\n",
    "        return ((self._p_i, protocols.unitary(identity.I)),\n",
    "                (self._p_x, protocols.unitary(pauli_gates.X)),\n",
    "                (self._p_y, protocols.unitary(pauli_gates.Y)),\n",
    "                (self._p_z, protocols.unitary(pauli_gates.Z)))\n",
    "\n",
    "    def _has_mixture_(self) -> bool:\n",
    "        return True\n",
    "\n",
    "    def _value_equality_values_(self):\n",
    "        return self._p_x, self._p_y, self._p_z\n",
    "\n",
    "    def __repr__(self) -> str:\n",
    "        return 'cirq.asymmetric_depolarize(p_x={!r},p_y={!r},p_z={!r})'.format(\n",
    "            self._p_x, self._p_y, self._p_z\n",
    "        )\n",
    "\n",
    "    def __str__(self) -> str:\n",
    "        return 'asymmetric_depolarize(p_x={!r},p_y={!r},p_z={!r})'.format(\n",
    "            self._p_x, self._p_y, self._p_z\n",
    "        )\n",
    "\n",
    "    def _circuit_diagram_info_(self,\n",
    "                               args: 'protocols.CircuitDiagramInfoArgs') -> str:\n",
    "        if args.precision is not None:\n",
    "            f = '{:.' + str(args.precision) + 'g}'\n",
    "            return 'A({},{},{})'.format(f, f, f).format(self._p_x, self._p_y,\n",
    "                                                        self._p_z)\n",
    "        return 'A({!r},{!r},{!r})'.format(self._p_x, self._p_y, self._p_z)\n",
    "\n",
    "    @property\n",
    "    def p_x(self) -> float:\n",
    "        \"\"\"The probability that a Pauli X and no other gate occurs.\"\"\"\n",
    "        return self._p_x\n",
    "\n",
    "    @property\n",
    "    def p_y(self) -> float:\n",
    "        \"\"\"The probability that a Pauli Y and no other gate occurs.\"\"\"\n",
    "        return self._p_y\n",
    "\n",
    "    @property\n",
    "    def p_z(self) -> float:\n",
    "        \"\"\"The probability that a Pauli Z and no other gate occurs.\"\"\"\n",
    "        return self._p_z\n",
    "\n",
    "    def _json_dict_(self) -> Dict[str, Any]:\n",
    "        return protocols.obj_to_dict_helper(self, ['p_x', 'p_y', 'p_z'])"
   ]
  },
  {
   "cell_type": "code",
   "execution_count": null,
   "metadata": {},
   "outputs": [],
   "source": []
  },
  {
   "cell_type": "code",
   "execution_count": null,
   "metadata": {},
   "outputs": [],
   "source": []
  }
 ],
 "metadata": {
  "kernelspec": {
   "display_name": "Python 3",
   "language": "python",
   "name": "python3"
  },
  "language_info": {
   "codemirror_mode": {
    "name": "ipython",
    "version": 3
   },
   "file_extension": ".py",
   "mimetype": "text/x-python",
   "name": "python",
   "nbconvert_exporter": "python",
   "pygments_lexer": "ipython3",
   "version": "3.6.9"
  }
 },
 "nbformat": 4,
 "nbformat_minor": 4
}
