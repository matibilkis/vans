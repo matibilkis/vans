{
 "cells": [
  {
   "cell_type": "markdown",
   "metadata": {},
   "source": [
    "We'll write a simplifier a la Luckasz"
   ]
  },
  {
   "cell_type": "code",
   "execution_count": 1,
   "metadata": {},
   "outputs": [],
   "source": [
    "import numpy as np\n",
    "import sympy\n",
    "import cirq\n",
    "import tensorflow as tf\n",
    "import tensorflow_quantum as tfq\n",
    "import matplotlib.pyplot as plt\n",
    "from tqdm import tqdm\n",
    "import matplotlib.pyplot as plt\n",
    "from IPython.display import SVG, display\n",
    "from cirq.contrib.svg import SVGCircuit\n",
    "\n",
    "\n",
    "\n",
    "class Solver:\n",
    "    def __init__(self, n_qubits=3, qlr=0.01, qepochs=100,verbose=0, g=1, J=0, noises={}):\n",
    "\n",
    "        \"\"\"\"solver with n**2 possible actions: n(n-1) CNOTS + n 1-qubit unitary\"\"\"\n",
    "        self.n_qubits = n_qubits\n",
    "        self.qubits = cirq.GridQubit.rect(1, n_qubits)\n",
    "        self.lower_bound_Eg = -2*self.n_qubits\n",
    "        \n",
    "        self.qlr = qlr\n",
    "        self.qepochs=qepochs\n",
    "        self.verbose=verbose\n",
    "\n",
    "\n",
    "        self.indexed_cnots = {}\n",
    "        self.cnots_index = {}\n",
    "        count = 0\n",
    "        for control in range(self.n_qubits):\n",
    "            for target in range(self.n_qubits):\n",
    "                if control != target:\n",
    "                    self.indexed_cnots[str(count)] = [control, target]\n",
    "                    self.cnots_index[str([control,target])] = count\n",
    "                    count += 1\n",
    "        self.number_of_cnots = len(self.indexed_cnots)\n",
    "        \n",
    "        self.final_params = []\n",
    "        self.parametrized_unitary = [cirq.rz, cirq.rx, cirq.rz]\n",
    "        self.noises=noises\n",
    "        self.noise_level = self.noises[\"depolarizing\"]\n",
    "        \n",
    "        self.observable=self.ising_obs(g=g, J=J)\n",
    "        self.resolver = {}\n",
    "        self.new_resolver = {} #this temporarly stores initialized parameters of identity resolution\n",
    "        self.lowest_energy_found = -.1\n",
    "        self.best_circuit_found = []\n",
    "        self.best_resolver_found = {}\n",
    "        \n",
    "        \n",
    "    def ising_obs(self, g=1, J=0):\n",
    "        # -  \\Gamma/2 \\sum_i Z_i - J/2 \\sum_{i} X_i X_{i+1}    (S_i = \\Sigma_i/2; ej S_z = Z/2, S_x = X/2)\n",
    "        ### analytic solution https://sci-hub.tw/https://www.sciencedirect.com/science/article/abs/pii/0003491670902708?via%3Dihub\n",
    "        observable = [-float(0.5*g)*cirq.Z.on(q) for q in self.qubits] \n",
    "        for q in range(len(self.qubits)):\n",
    "            observable.append(-float(0.5*J)*cirq.X.on(self.qubits[q])*cirq.X.on(self.qubits[(q+1)%len(self.qubits)]))\n",
    "        #### E_0 = -\\Gamma/2 \\sum_k \\Lambda_k , with \\Lambda_k = \\sqrt{ 1 + \\lambda^{2}  + 2 \\lambda \\cos(k)}; \n",
    "        ### k = -N/2, ... , 0 ,... N/2-1 if N even\n",
    "        #### k = -(N-1)/2, ... 0 , ... (N-1)/2 if N odd\n",
    "        if self.n_qubits%2 == 0:\n",
    "            val = -self.n_qubits/2\n",
    "        else:\n",
    "            val = -(self.n_qubits-1)/2\n",
    "        values_q = []\n",
    "        for k in range(2*self.n_qubits):\n",
    "            values_q.append(val)\n",
    "            val += 1/2\n",
    "        ###soething wrong here.\n",
    "        self.ground_energy = -(0.5*g)*np.sum(np.sqrt([1+(J/(2*g))**2 - (np.cos(2*np.pi*q/self.n_qubits)*(J/g)) for q in values_q]))\n",
    "        return observable\n",
    "        \n",
    "    def index_meaning(self,index):\n",
    "        if index<self.number_of_cnots:\n",
    "            print(\"cnot: \",self.indexed_cnots[str(index)])\n",
    "            return\n",
    "        else:\n",
    "            print(\"1-qubit unitary on: \",(index-self.number_of_cnots)%self.n_qubits)\n",
    "            return\n",
    "\n",
    "    def append_to_circuit(self, ind, circuit, params, new_index=False):\n",
    "        \"\"\"\n",
    "        appends to circuit the index of the gate;\n",
    "        and if one_hot_gate implies a rotation,\n",
    "        appends to params a symbol\n",
    "        \"\"\"\n",
    "        if ind < self.number_of_cnots:\n",
    "            control, target = self.indexed_cnots[str(ind)]\n",
    "            circuit.append(cirq.CNOT.on(self.qubits[control], self.qubits[target]))\n",
    "            return circuit, params\n",
    "        else:\n",
    "            qubit = self.qubits[(ind-self.number_of_cnots)%self.n_qubits]\n",
    "            for par, gate in zip(range(3),self.parametrized_unitary):\n",
    "                new_param = \"th_\"+str(len(params))\n",
    "                params.append(new_param)\n",
    "                circuit.append(gate(sympy.Symbol(new_param)).on(qubit))\n",
    "            return circuit, params\n",
    "        \n",
    "    def give_circuit(self, lista,one_hot=False):\n",
    "        circuit, symbols = [], []\n",
    "        for k in lista:\n",
    "            circuit, symbols = self.append_to_circuit(k,circuit,symbols)\n",
    "        circuit = cirq.Circuit(circuit)\n",
    "        return circuit, symbols\n",
    "    \n",
    "    \n",
    "    def resolution_2cnots(self, q1, q2):\n",
    "        u1 = self.number_of_cnots + q1\n",
    "        u2 = self.number_of_cnots + q2\n",
    "        cnot = self.cnots_index[str([q1,q2])]\n",
    "        return [cnot, u1, u2, cnot]\n",
    "    \n",
    "    def resolution_1qubit(self, q):\n",
    "        u1 = self.number_of_cnots + q\n",
    "        return [u1]\n",
    "        \n",
    "\n",
    "    def dressed_cnot(self,q1,q2):\n",
    "        u1 = self.number_of_cnots + q1\n",
    "        u2 = self.number_of_cnots + q2\n",
    "        cnot = self.cnots_index[str([q1,q2])]\n",
    "        u3 = self.number_of_cnots + q1\n",
    "        u4 = self.number_of_cnots + q2\n",
    "        return [u1,u2,cnot,u3,u4]\n",
    "    \n",
    "    def dressed_ansatz(self, layers=1):\n",
    "        c=[]\n",
    "        for layer in range(layers):\n",
    "            qubits = list(range(self.n_qubits))\n",
    "            qdeph = qubits[layers:]\n",
    "            for q in qubits[:layers]:\n",
    "                qdeph.append(q)\n",
    "            for ind1, ind2 in zip(qubits,qdeph):\n",
    "                for k in self.dressed_cnot(ind1,ind2):\n",
    "                    c.append(k)\n",
    "        return c\n",
    "\n",
    "\n",
    "    def prepare_circuit_insertion(self,gates_index, block_to_insert, index_insertion):\n",
    "        \"\"\"gates_index is a vector with integer entries, each one describing a gate\n",
    "            block_to_insert is block of unitaries to insert at index insertion\n",
    "        \"\"\"\n",
    "        circuit = cirq.Circuit()\n",
    "        idx_circuit=[]\n",
    "        symbols = []\n",
    "        new_symbols = []\n",
    "        new_resolver = {}\n",
    "\n",
    "        if gates_index == []:\n",
    "            indices = [-1]\n",
    "        else:\n",
    "            indices = gates_index\n",
    "        for ind, g in enumerate(indices):\n",
    "            #### insert new block ####\n",
    "            if ind == insertion_index:\n",
    "                for gate in block_to_insert:\n",
    "                    idx_circuit.append(gate)\n",
    "                    if gate < self.number_of_cnots:\n",
    "                        control, target = self.indexed_cnots[str(gate)]\n",
    "                        circuit.append(cirq.CNOT.on(self.qubits[control], self.qubits[target]))\n",
    "                    else:\n",
    "                        qubit = self.qubits[(gate-self.number_of_cnots)%self.n_qubits]\n",
    "                        for par, gateblack in zip(range(3),self.parametrized_unitary):\n",
    "                            new_symbol = \"New_th_\"+str(len(new_symbols))\n",
    "                            new_symbols.append(new_symbol)\n",
    "                            new_resolver[new_symbol] = np.random.uniform(-.1,.1) #rotation around epsilon... we can do it better afterwards\n",
    "                            circuit.append(gateblack(sympy.Symbol(new_symbol)).on(qubit))\n",
    "            if 0<= g < self.number_of_cnots:\n",
    "                idx_circuit.append(g)\n",
    "                control, target = self.indexed_cnots[str(g)]\n",
    "                circuit.append(cirq.CNOT.on(self.qubits[control], self.qubits[target]))\n",
    "            elif g>= self.number_of_cnots:\n",
    "                \n",
    "                idx_circuit.append(g)\n",
    "                qubit = self.qubits[(ind-self.number_of_cnots)%self.n_qubits]\n",
    "                for par, gate in zip(range(3),self.parametrized_unitary):\n",
    "                    new_symbol = \"th_\"+str(len(symbols))\n",
    "                    symbols.append(new_symbol)\n",
    "                    circuit.append(gate(sympy.Symbol(new_symbol)).on(qubit))\n",
    "                    if not new_symbol in self.resolver.keys(): #this is in case it's the first time. Careful when deleting !\n",
    "                        self.resolver[new_symbol] = np.random.uniform(-np.pi, np.pi)\n",
    "\n",
    "        ### add identity for TFQ tocompute correctily expected value####\n",
    "        effective_qubits = list(circuit.all_qubits())\n",
    "        for k in self.qubits:\n",
    "            if k not in effective_qubits:\n",
    "                circuit.append(cirq.I.on(k))\n",
    "        self.new_resolver = new_resolver\n",
    "        variables = [symbols, new_symbols]\n",
    "        return circuit, variables#, idx_circuit\n",
    "    \n",
    "    \n",
    "    \n",
    "    def TFQ_model(self, symbols, lr=None):\n",
    "        circuit_input = tf.keras.Input(shape=(), dtype=tf.string)\n",
    "        output = tfq.layers.Expectation(backend=cirq.DensityMatrixSimulator(noise=cirq.depolarize(self.noise_level)))(\n",
    "                circuit_input,\n",
    "                symbol_names=symbols,\n",
    "                operators=tfq.convert_to_tensor([self.observable]),\n",
    "                initializer=tf.keras.initializers.RandomNormal()) #we may change this!!!\n",
    "\n",
    "        model = tf.keras.Model(inputs=circuit_input, outputs=output)\n",
    "        if lr is None:\n",
    "            adam = tf.keras.optimizers.Adam(learning_rate=self.qlr)\n",
    "        else:\n",
    "            adam = tf.keras.optimizers.Adam(learning_rate=lr)\n",
    "        model.compile(optimizer=adam, loss='mse')\n",
    "        return model\n",
    "    \n",
    "    def initialize_model_insertion(self, variables):\n",
    "        ### initialize model with parameters from previous model (describer by variables[0]) --> values in self.resolver\n",
    "        ###(for the already-optimized ones), and close to identity for the block added, described by variables[1], whose values are in self.new_resolver\n",
    "\n",
    "        symbols, new_symbols = variables\n",
    "        circuit_symbols = []\n",
    "        init_params = []\n",
    "        for j in symbols:\n",
    "            circuit_symbols.append(j)\n",
    "            init_params.append(self.resolver[str(j)])#+ np.random.uniform(-.01,.01)) if you want to perturbate previous parameters..\n",
    "        for k in new_symbols:\n",
    "            circuit_symbols.append(k)\n",
    "            init_params.append(self.new_resolver[str(k)])\n",
    "\n",
    "        model = self.TFQ_model(circuit_symbols)\n",
    "        model.trainable_variables[0].assign(tf.convert_to_tensor(init_params)) #initialize parameters of model (continuous parameters of uniraries)\n",
    "        #with the corresponding values\n",
    "        return model\n",
    "\n",
    "    def run_circuit_from_index(self, gates_index, hyperparameters=None):\n",
    "        \"\"\"\n",
    "        takes as input vector with actions described as integer\n",
    "        and outputsthe energy of that circuit (w.r.t self.observable)\n",
    "        \n",
    "        hyperparameters = [epoch, lr]\n",
    "        \"\"\"\n",
    "        ### create a vector with the gates on the corresponding qubit(s)\n",
    "        circuit, symbols = self.give_circuit(gates_index)\n",
    "        \n",
    "        ### this is because each qubit should be \"activated\" in TFQ to do the optimization (if the observable has support on this qubit as well and you don't add I then error)\n",
    "        effective_qubits = list(circuit.all_qubits())\n",
    "        for k in self.qubits:\n",
    "            if k not in effective_qubits:\n",
    "                circuit.append(cirq.I.on(k))\n",
    "\n",
    "        tfqcircuit = tfq.convert_to_tensor([circuit])\n",
    "        if len(symbols) == 0:\n",
    "            expval = tfq.layers.Expectation(backend=cirq.DensityMatrixSimulator(noise=cirq.depolarize(self.noise_level)))(\n",
    "                                            tfqcircuit,\n",
    "                                            operators=tfq.convert_to_tensor([self.observable]))\n",
    "            energy = np.float32(np.squeeze(tf.math.reduce_sum(expval, axis=-1, keepdims=True)))\n",
    "            final_params = []\n",
    "            resolver = {\"th_\"+str(ind):var  for ind,var in enumerate(final_params)}\n",
    "        else:\n",
    "            if hyperparameters is None:\n",
    "                model = self.TFQ_model(symbols)\n",
    "                qoutput = tf.ones((1, 1))*self.lower_bound_Eg\n",
    "                print(\"about to fit!\")\n",
    "                model.fit(x=tfqcircuit, y=qoutput, batch_size=1, epochs=self.qepochs, verbose=self.verbose)#, callbacks=[tf.keras.callbacks.EarlyStopping(monitor='loss', patience=5)])\n",
    "                energy = np.squeeze(tf.math.reduce_sum(model.predict(tfqcircuit), axis=-1))\n",
    "                final_params = model.trainable_variables[0].numpy()\n",
    "                resolver = {\"th_\"+str(ind):var  for ind,var in enumerate(final_params)}\n",
    "            else:\n",
    "                model = self.TFQ_model(symbols, hyperparameters[1])\n",
    "                qoutput = tf.ones((1, 1))*self.lower_bound_Eg\n",
    "                print(\"about to fit!\")\n",
    "                model.fit(x=tfqcircuit, y=qoutput, batch_size=1, epochs=hyperparameters[0], verbose=self.verbose)#,callbacks=[tf.keras.callbacks.EarlyStopping(monitor='loss', patience=5)])\n",
    "                energy = np.squeeze(tf.math.reduce_sum(model.predict(tfqcircuit), axis=-1))\n",
    "                final_params = model.trainable_variables[0].numpy()\n",
    "                resolver = {\"th_\"+str(ind):var  for ind,var in enumerate(final_params)}\n",
    "        #self.current_circuit = gates_index\n",
    "        self.resolver = resolver\n",
    "        if self.accept_modification(energy):\n",
    "            self.lowest_energy_found = energy\n",
    "            self.best_circuit_found = gates_index\n",
    "            self.best_resolver_found = resolver\n",
    "        return gates_index, resolver, energy\n",
    "    \n",
    "    \n",
    "    def accept_modification(self, energy):\n",
    "        return np.abs(energy)/np.abs(self.lowest_energy_found) > .98\n",
    "    \n",
    "    \n",
    "    def optimize_and_update(self, gates_index, model, circuit,variables,insertion_index_loaded):\n",
    "    \n",
    "        effective_qubits = list(circuit.all_qubits())\n",
    "        q=0\n",
    "        for k in self.qubits:#che, lo que no estoy\n",
    "            if k not in effective_qubits:\n",
    "                circuit.append(cirq.I.on(k))\n",
    "                q+=1\n",
    "        if q == self.n_qubits:\n",
    "            circuit.append(cirq.rz(sympy.Symbol(\"dummy\")).on(self.qubits[0])) #hopefully you won't accept this, but in case you do, then it's better since it simplifies...\n",
    "  \n",
    "\n",
    "        tfqcircuit = tfq.convert_to_tensor([circuit])\n",
    "        qoutput = tf.ones((1, 1))*self.lower_bound_Eg\n",
    "        model.fit(x=tfqcircuit, y=qoutput, batch_size=1, epochs=self.qepochs, verbose=self.verbose)#,callbacks=[tf.keras.callbacks.EarlyStopping(monitor='loss', patience=5)])\n",
    "        energy = np.squeeze(tf.math.reduce_sum(model.predict(tfqcircuit), axis=-1))\n",
    "        \n",
    "        if self.accept_modification(energy):\n",
    "\n",
    "            #### if we accept the new configuration, then we update the resolver merging both symbols and new_symbols into self.resolver\n",
    "            symbols, new_symbols = variables\n",
    "\n",
    "            for ind,k in enumerate(symbols):\n",
    "                self.resolver[k] = model.trainable_variables[0].numpy()[ind]\n",
    "\n",
    "            for indnew,knew in enumerate(new_symbols):\n",
    "                self.new_resolver[knew] = model.trainable_variables[0].numpy()[len(symbols)+indnew]\n",
    "\n",
    "            final_symbols = []\n",
    "            old_solver = []\n",
    "            old_added = []\n",
    "\n",
    "            final_resolver = {}\n",
    "            new_circuit = []\n",
    "            for ind, g in enumerate( gates_index):                 \n",
    "                #### insert new block ####\n",
    "                if ind == insertion_index_loaded:\n",
    "                    for gate in block_to_insert:\n",
    "                        new_circuit.append(gate)\n",
    "                        if gate < sol.number_of_cnots:\n",
    "                            pass\n",
    "                        else:\n",
    "                            for par, gateblock in zip(range(3),sol.parametrized_unitary):\n",
    "\n",
    "                                var1 = \"New_th_\"+str(len(old_added))\n",
    "                                old_added.append(var1)\n",
    "\n",
    "                                var2 = \"th_\"+str(len(final_symbols))\n",
    "                                final_symbols.append(var2)\n",
    "                                final_resolver[var2] = self.new_resolver[var1] #\n",
    "\n",
    "                if g < self.number_of_cnots:\n",
    "                    new_circuit.append(g)\n",
    "                    pass\n",
    "                else:\n",
    "                    new_circuit.append(g)\n",
    "                    for par, gate in zip(range(3),self.parametrized_unitary):\n",
    "                        var3 = \"th_\"+str(len(old_solver))\n",
    "                        old_solver.append(var3)\n",
    "\n",
    "                        var4 = \"th_\"+str(len(final_symbols))\n",
    "                        final_symbols.append(var4)\n",
    "                        final_resolver[var4] = self.resolver[var3] \n",
    "\n",
    "            self.resolver = final_resolver\n",
    "            #self.current_circuit = new_circuit #### now the current circuit is the better one! otherwise you keep the previous (from self.run_circuit_from_index)\n",
    "            self.best_circuit_found = new_circuit\n",
    "            self.lowest_energy_found = energy\n",
    "            self.best_resolver_found = resolver\n",
    "            return new_circuit, self.resolver, energy, True\n",
    "        else:\n",
    "            return gates_index, self.resolver, self.lowest_energy_found, False\n",
    "    \n",
    "    def kill_one_unitary(self, gates_index, resolver, energy):\n",
    "        \"\"\"\n",
    "        this function takes circuit as described by gates_index (sequence of integers)\n",
    "        and returns when possible, a circuit, resolver, energy with one single-qubit unitary less.\n",
    "        \"\"\"\n",
    "\n",
    "        circuit_proposals=[] #storing all good candidates.\n",
    "        circuit_proposals_energies=[]\n",
    "        for j in gates_index:\n",
    "            indexed_prop=[]\n",
    "\n",
    "            prop=cirq.Circuit()\n",
    "            checking = False\n",
    "            ko=0\n",
    "            to_pop=[]\n",
    "\n",
    "            for k in gates_index:\n",
    "                if k < self.number_of_cnots:\n",
    "                    indexed_prop.append(k)\n",
    "                    control, target = self.indexed_cnots[str(k)]\n",
    "                    prop.append(cirq.CNOT.on(self.qubits[control], self.qubits[target]))\n",
    "                else:\n",
    "                    if k != j:\n",
    "                        indexed_prop.append(k)\n",
    "                        qubit = self.qubits[(k-self.number_of_cnots)%self.n_qubits]\n",
    "                        for par, gate in zip(range(3),self.parametrized_unitary):\n",
    "                            new_param = \"th_\"+str(ko)\n",
    "                            ko+=1\n",
    "                            prop.append(gate(sympy.Symbol(new_param)).on(qubit))\n",
    "                    else:\n",
    "                        checking=True\n",
    "                        for i in range(3):\n",
    "                            to_pop.append(\"th_\"+str(ko))\n",
    "                            ko+=1\n",
    "            if checking is True:\n",
    "                nr = resolver.copy()\n",
    "                for p in to_pop:\n",
    "                    nr.pop(p)  \n",
    "                \n",
    "                effective_qubits = list(prop.all_qubits())\n",
    "                for k in self.qubits:\n",
    "                    if k not in effective_qubits:\n",
    "                        prop.append(cirq.I.on(k))\n",
    "                \n",
    "                tfqcircuit = tfq.convert_to_tensor([cirq.resolve_parameters(prop, nr)]) ###resolver parameters !!!\n",
    "                expval = tfq.layers.Expectation(backend=cirq.DensityMatrixSimulator(noise=cirq.depolarize(self.noise_level)))(\n",
    "                                        tfqcircuit,\n",
    "                                        operators=tfq.convert_to_tensor([self.observable]))\n",
    "                new_energy = np.float32(np.squeeze(tf.math.reduce_sum(expval, axis=-1, keepdims=True)))\n",
    "\n",
    "                if self.accept_modification(new_energy):\n",
    "                    ordered_resolver = {}\n",
    "                    for ind,k in enumerate(nr.values()):\n",
    "                        ordered_resolver[\"th_\"+str(ind)] = k\n",
    "                    circuit_proposals.append([indexed_prop,ordered_resolver,new_energy])\n",
    "                    circuit_proposals_energies.append(new_energy)\n",
    "        if len(circuit_proposals)>0:\n",
    "            favourite = np.random.choice(len(circuit_proposals))\n",
    "            short_circuit, resolver, energy = circuit_proposals[favourite]\n",
    "            #self.current_circuit = short_circuit\n",
    "            self.resolver = resolver\n",
    "            self.best_resolver_found = resolver\n",
    "            self.best_circuit_found = short_circuit\n",
    "            self.lowest_energy_found = circuit_proposals_energies[favourite]\n",
    "\n",
    "            simplified=True\n",
    "            return short_circuit, resolver, energy, simplified\n",
    "        else:\n",
    "            simplified=False\n",
    "            return gates_index, resolver, energy, simplified\n",
    "\n",
    "    \n",
    "    def simplify_circuit(self,indexed_circuit):\n",
    "        \"\"\"this function kills repeated unitaries and \n",
    "        CNOTS and returns a simplified indexed_circuit vector\"\"\"\n",
    "        #load circuit on each qubit\n",
    "        connections={str(q):[] for q in range(self.n_qubits)} #this saves the gates in each qubit\n",
    "        places_gates = {str(q):[] for q in range(self.n_qubits)} #this saves, for each gate on each qubit, the position in the original indexed_circuit\n",
    "\n",
    "\n",
    "        flagged = [False]*len(indexed_circuit) #to check if you have seen a cnot already, so not to append it twice to the qubit's dictionary\n",
    "\n",
    "        for q in range(self.n_qubits): #sweep over all qubits\n",
    "            for nn,idq in enumerate(indexed_circuit): #sweep over all gates in original circuit's vector\n",
    "                if idq<self.number_of_cnots: #if the gate it's a CNOT or not\n",
    "                    control, target = self.indexed_cnots[str(idq)] #give control and target qubit\n",
    "                    if q in [control, target] and not flagged[nn]: #if the qubit we are looking at is affected by this CNOT, and we haven't add this CNOT to the dictionary yet\n",
    "                        connections[str(control)].append(idq)\n",
    "                        connections[str(target)].append(idq)\n",
    "                        places_gates[str(control)].append(nn)\n",
    "                        places_gates[str(target)].append(nn)\n",
    "                        flagged[nn] = True #so you don't add the other\n",
    "                else:\n",
    "                    if idq%self.n_qubits == q: #check if the unitary is applied to the qubit we are looking at\n",
    "                        connections[str(q)].append(\"u\")\n",
    "                        places_gates[str(q)].append(nn)\n",
    "\n",
    "\n",
    "        ### now reducing the circuit\n",
    "        new_indexed_circuit = indexed_circuit.copy()\n",
    "        for q, path in connections.items(): ###sweep over qubits: path is all the gates that act this qubit during the circuit\n",
    "            for ind,gate in enumerate(path):\n",
    "                if gate == \"u\": ## IF GATE IS SINGLE QUIT UNITARY, CHECK IF THE NEXT ONES ARE ALSO UNITARIES AND KILL 'EM\n",
    "                    for k in range(len(path)-ind-1):\n",
    "                        if path[ind+k+1]==\"u\":\n",
    "                            new_indexed_circuit[places_gates[str(q)][ind+k+1]] = -1\n",
    "                        else:\n",
    "                            break\n",
    "                elif gate in range(self.number_of_cnots) and ind<len(path)-1: ### self.number_of_cnots is the maximum index of a CNOT gate for a fixed self.n_qubits.\n",
    "                    if path[ind+1]==gate and not (new_indexed_circuit[places_gates[str(q)][ind]] == -1): #check if the next gate is the same CNOT; and check if I haven't corrected the original one (otherwise you may simplify 3 CNOTs to id)\n",
    "                        others = self.indexed_cnots[str(gate)].copy()\n",
    "                        others.remove(int(q)) #the other qubit affected by the CNOT\n",
    "                        for jind, jgate in enumerate(connections[str(others[0])][:-1]): ##sweep the other qubit's gates until i find \"gate\"\n",
    "                            if jgate == gate and connections[str(others[0])][jind+1] == gate: ##i find the same gate that is repeated in both the original qubit and this one\n",
    "                                if (places_gates[str(q)][ind] == places_gates[str(others[0])][jind]) and (places_gates[str(q)][ind+1] == places_gates[str(others[0])][jind+1]): #check that positions in the indexed_circuit are the same\n",
    "                                 ###maybe I changed before, so I have repeated in the original but one was shut down..\n",
    "                                    new_indexed_circuit[places_gates[str(q)][ind]] = -1 ###just kill the repeated CNOTS\n",
    "                                    new_indexed_circuit[places_gates[str(q)][ind+1]] = -1 ###just kill the repeated CNOTS\n",
    "                                    break\n",
    "                                    \n",
    "                if gate in range(self.number_of_cnots) and ind == 0: ###if I have a CNOT just before initializing, it does nothing (if |0> initialization).\n",
    "                    others = self.indexed_cnots[str(gate)].copy()\n",
    "                    others.remove(int(q)) #the other qubit affected by the CNOT\n",
    "                    for jind, jgate in enumerate(connections[str(others[0])][:-1]): ##sweep the other qubit's gates until i find \"gate\"\n",
    "                        if jgate == gate and jind==0: ##it's also the first gate in the other qubit\n",
    "                            if (places_gates[str(q)][ind] == places_gates[str(others[0])][jind]): #check that positions in the indexed_circuit are the same\n",
    "                                new_indexed_circuit[places_gates[str(q)][ind]] = -1 ###just kill the repeated CNOTS\n",
    "                                break\n",
    "                    \n",
    "        #### remove the marked indices ###### \n",
    "        #### remove the marked indices ######            \n",
    "        \n",
    "        final=[]\n",
    "        for gmarked in new_indexed_circuit:\n",
    "            if not gmarked == -1:\n",
    "                final.append(gmarked)\n",
    "        return final\n",
    "    \n",
    "    def count_number_cnots(self, gates_index):\n",
    "        c=0\n",
    "        for k in gates_index:\n",
    "            if k<self.number_of_cnots:\n",
    "                c+=1\n",
    "        return c"
   ]
  },
  {
   "cell_type": "code",
   "execution_count": null,
   "metadata": {},
   "outputs": [
    {
     "name": "stdout",
     "output_type": "stream",
     "text": [
      "dep 0.1\n",
      "about to fit!\n",
      "Train on 1 samples\n",
      "Epoch 1/10\n",
      "1/1 [==============================] - 2s 2s/sample - loss: 14.7516\n",
      "Epoch 2/10\n",
      "1/1 [==============================] - 0s 328ms/sample - loss: 14.7520\n",
      "Epoch 3/10\n",
      "1/1 [==============================] - 0s 391ms/sample - loss: 14.7515\n",
      "Epoch 4/10\n",
      "1/1 [==============================] - 0s 314ms/sample - loss: 14.7510\n",
      "Epoch 5/10\n",
      "1/1 [==============================] - 0s 304ms/sample - loss: 14.7514\n",
      "Epoch 6/10\n",
      "1/1 [==============================] - 0s 309ms/sample - loss: 14.7515\n",
      "Epoch 7/10\n",
      "1/1 [==============================] - 0s 312ms/sample - loss: 14.7512\n",
      "Epoch 8/10\n",
      "1/1 [==============================] - 0s 342ms/sample - loss: 14.7510\n",
      "Epoch 9/10\n",
      "1/1 [==============================] - 0s 395ms/sample - loss: 14.7512\n",
      "Epoch 10/10\n",
      "1/1 [==============================] - 0s 356ms/sample - loss: 14.7513\n"
     ]
    },
    {
     "name": "stderr",
     "output_type": "stream",
     "text": [
      "  0%|          | 0/10 [00:00<?, ?it/s]findfont: Font family ['Arial'] not found. Falling back to DejaVu Sans.\n"
     ]
    },
    {
     "name": "stdout",
     "output_type": "stream",
     "text": [
      "\n",
      "%%%%%%%%%%%%%%%%%%%%%%%%%\n",
      "new iteration:  0\n",
      "1:\n"
     ]
    },
    {
     "data": {
      "image/svg+xml": [
       "<svg xmlns=\"http://www.w3.org/2000/svg\" width=\"367.53304687499997\" height=\"50.0\"><line x1=\"34.7588671875\" x2=\"337.53304687499997\" y1=\"25.0\" y2=\"25.0\" stroke=\"#1967d2\" stroke-width=\"1\" /><rect x=\"10.0\" y=\"5.0\" width=\"49.517734375\" height=\"40\" stroke=\"black\" fill=\"white\" stroke-width=\"0\" /><text x=\"34.7588671875\" y=\"25.0\" dominant-baseline=\"middle\" text-anchor=\"middle\" font-size=\"14px\">(0, 0): </text><rect x=\"79.517734375\" y=\"5.0\" width=\"65.6929296875\" height=\"40\" stroke=\"black\" fill=\"white\" stroke-width=\"1\" /><text x=\"112.36419921875\" y=\"25.0\" dominant-baseline=\"middle\" text-anchor=\"middle\" font-size=\"14px\">Rz(th_0)</text><rect x=\"165.2106640625\" y=\"5.0\" width=\"66.629453125\" height=\"40\" stroke=\"black\" fill=\"white\" stroke-width=\"1\" /><text x=\"198.525390625\" y=\"25.0\" dominant-baseline=\"middle\" text-anchor=\"middle\" font-size=\"14px\">Rx(th_1)</text><rect x=\"251.8401171875\" y=\"5.0\" width=\"65.6929296875\" height=\"40\" stroke=\"black\" fill=\"white\" stroke-width=\"1\" /><text x=\"284.68658203125\" y=\"25.0\" dominant-baseline=\"middle\" text-anchor=\"middle\" font-size=\"14px\">Rz(th_2)</text></svg>"
      ],
      "text/plain": [
       "<cirq.contrib.svg.svg.SVGCircuit at 0x7f16b2a3b7f0>"
      ]
     },
     "metadata": {},
     "output_type": "display_data"
    },
    {
     "name": "stdout",
     "output_type": "stream",
     "text": [
      "Train on 1 samples\n",
      "Epoch 1/10\n",
      "1/1 [==============================] - 1s 1s/sample - loss: 15.1755\n",
      "Epoch 2/10\n",
      "1/1 [==============================] - 1s 629ms/sample - loss: 15.1794\n",
      "Epoch 3/10\n",
      "1/1 [==============================] - 0s 487ms/sample - loss: 15.1755\n",
      "Epoch 4/10\n",
      "1/1 [==============================] - 1s 668ms/sample - loss: 15.1755\n",
      "Epoch 5/10\n",
      "1/1 [==============================] - 0s 430ms/sample - loss: 15.1769\n",
      "Epoch 6/10\n",
      "1/1 [==============================] - 0s 480ms/sample - loss: 15.1763\n",
      "Epoch 7/10\n",
      "1/1 [==============================] - 1s 655ms/sample - loss: 15.1752\n",
      "Epoch 8/10\n",
      "1/1 [==============================] - 0s 444ms/sample - loss: 15.1750\n",
      "Epoch 9/10\n",
      "1/1 [==============================] - 1s 653ms/sample - loss: 15.1754\n",
      "Epoch 10/10\n",
      "1/1 [==============================] - 1s 504ms/sample - loss: 15.1758\n",
      "2:\n"
     ]
    },
    {
     "data": {
      "image/svg+xml": [
       "<svg xmlns=\"http://www.w3.org/2000/svg\" width=\"367.53304687499997\" height=\"50.0\"><line x1=\"34.7588671875\" x2=\"337.53304687499997\" y1=\"25.0\" y2=\"25.0\" stroke=\"#1967d2\" stroke-width=\"1\" /><rect x=\"10.0\" y=\"5.0\" width=\"49.517734375\" height=\"40\" stroke=\"black\" fill=\"white\" stroke-width=\"0\" /><text x=\"34.7588671875\" y=\"25.0\" dominant-baseline=\"middle\" text-anchor=\"middle\" font-size=\"14px\">(0, 0): </text><rect x=\"79.517734375\" y=\"5.0\" width=\"65.6929296875\" height=\"40\" stroke=\"black\" fill=\"white\" stroke-width=\"1\" /><text x=\"112.36419921875\" y=\"25.0\" dominant-baseline=\"middle\" text-anchor=\"middle\" font-size=\"14px\">Rz(th_0)</text><rect x=\"165.2106640625\" y=\"5.0\" width=\"66.629453125\" height=\"40\" stroke=\"black\" fill=\"white\" stroke-width=\"1\" /><text x=\"198.525390625\" y=\"25.0\" dominant-baseline=\"middle\" text-anchor=\"middle\" font-size=\"14px\">Rx(th_1)</text><rect x=\"251.8401171875\" y=\"5.0\" width=\"65.6929296875\" height=\"40\" stroke=\"black\" fill=\"white\" stroke-width=\"1\" /><text x=\"284.68658203125\" y=\"25.0\" dominant-baseline=\"middle\" text-anchor=\"middle\" font-size=\"14px\">Rz(th_2)</text></svg>"
      ],
      "text/plain": [
       "<cirq.contrib.svg.svg.SVGCircuit at 0x7f16b29ec198>"
      ]
     },
     "metadata": {},
     "output_type": "display_data"
    },
    {
     "name": "stderr",
     "output_type": "stream",
     "text": [
      "\r",
      " 10%|█         | 1/10 [00:06<00:59,  6.58s/it]"
     ]
    },
    {
     "name": "stdout",
     "output_type": "stream",
     "text": [
      "\n",
      "%%%%%%%%%%%%%%%%%%%%%%%%%\n",
      "new iteration:  1\n",
      "1:\n"
     ]
    },
    {
     "data": {
      "image/svg+xml": [
       "<svg xmlns=\"http://www.w3.org/2000/svg\" width=\"367.53304687499997\" height=\"50.0\"><line x1=\"34.7588671875\" x2=\"337.53304687499997\" y1=\"25.0\" y2=\"25.0\" stroke=\"#1967d2\" stroke-width=\"1\" /><rect x=\"10.0\" y=\"5.0\" width=\"49.517734375\" height=\"40\" stroke=\"black\" fill=\"white\" stroke-width=\"0\" /><text x=\"34.7588671875\" y=\"25.0\" dominant-baseline=\"middle\" text-anchor=\"middle\" font-size=\"14px\">(0, 0): </text><rect x=\"79.517734375\" y=\"5.0\" width=\"65.6929296875\" height=\"40\" stroke=\"black\" fill=\"white\" stroke-width=\"1\" /><text x=\"112.36419921875\" y=\"25.0\" dominant-baseline=\"middle\" text-anchor=\"middle\" font-size=\"14px\">Rz(th_0)</text><rect x=\"165.2106640625\" y=\"5.0\" width=\"66.629453125\" height=\"40\" stroke=\"black\" fill=\"white\" stroke-width=\"1\" /><text x=\"198.525390625\" y=\"25.0\" dominant-baseline=\"middle\" text-anchor=\"middle\" font-size=\"14px\">Rx(th_1)</text><rect x=\"251.8401171875\" y=\"5.0\" width=\"65.6929296875\" height=\"40\" stroke=\"black\" fill=\"white\" stroke-width=\"1\" /><text x=\"284.68658203125\" y=\"25.0\" dominant-baseline=\"middle\" text-anchor=\"middle\" font-size=\"14px\">Rz(th_2)</text></svg>"
      ],
      "text/plain": [
       "<cirq.contrib.svg.svg.SVGCircuit at 0x7f16b28a5da0>"
      ]
     },
     "metadata": {},
     "output_type": "display_data"
    },
    {
     "name": "stdout",
     "output_type": "stream",
     "text": [
      "Train on 1 samples\n",
      "Epoch 1/10\n",
      "1/1 [==============================] - 1s 1s/sample - loss: 14.7522\n",
      "Epoch 2/10\n",
      "1/1 [==============================] - 1s 522ms/sample - loss: 14.7535\n",
      "Epoch 3/10\n",
      "1/1 [==============================] - 0s 452ms/sample - loss: 14.7520\n",
      "Epoch 4/10\n",
      "1/1 [==============================] - 1s 522ms/sample - loss: 14.7515\n",
      "Epoch 5/10\n",
      "1/1 [==============================] - 0s 323ms/sample - loss: 14.7521\n",
      "Epoch 6/10\n",
      "1/1 [==============================] - 1s 536ms/sample - loss: 14.7521\n",
      "Epoch 7/10\n",
      "1/1 [==============================] - 0s 353ms/sample - loss: 14.7514\n",
      "Epoch 8/10\n",
      "1/1 [==============================] - 0s 437ms/sample - loss: 14.7512\n",
      "Epoch 9/10\n",
      "1/1 [==============================] - 0s 360ms/sample - loss: 14.7515\n",
      "Epoch 10/10\n",
      "1/1 [==============================] - 0s 441ms/sample - loss: 14.7518\n",
      "2:\n"
     ]
    },
    {
     "data": {
      "image/svg+xml": [
       "<svg xmlns=\"http://www.w3.org/2000/svg\" width=\"367.53304687499997\" height=\"100.0\"><line x1=\"34.7588671875\" x2=\"337.53304687499997\" y1=\"25.0\" y2=\"25.0\" stroke=\"#1967d2\" stroke-width=\"1\" /><line x1=\"34.7588671875\" x2=\"337.53304687499997\" y1=\"75.0\" y2=\"75.0\" stroke=\"#1967d2\" stroke-width=\"1\" /><rect x=\"10.0\" y=\"5.0\" width=\"49.517734375\" height=\"40\" stroke=\"black\" fill=\"white\" stroke-width=\"0\" /><text x=\"34.7588671875\" y=\"25.0\" dominant-baseline=\"middle\" text-anchor=\"middle\" font-size=\"14px\">(0, 0): </text><rect x=\"10.0\" y=\"55.0\" width=\"49.517734375\" height=\"40\" stroke=\"black\" fill=\"white\" stroke-width=\"0\" /><text x=\"34.7588671875\" y=\"75.0\" dominant-baseline=\"middle\" text-anchor=\"middle\" font-size=\"14px\">(0, 1): </text><rect x=\"79.517734375\" y=\"55.0\" width=\"65.6929296875\" height=\"40\" stroke=\"black\" fill=\"white\" stroke-width=\"1\" /><text x=\"112.36419921875\" y=\"75.0\" dominant-baseline=\"middle\" text-anchor=\"middle\" font-size=\"14px\">Rz(th_0)</text><rect x=\"79.517734375\" y=\"5.0\" width=\"65.6929296875\" height=\"40\" stroke=\"black\" fill=\"white\" stroke-width=\"1\" /><text x=\"112.36419921875\" y=\"25.0\" dominant-baseline=\"middle\" text-anchor=\"middle\" font-size=\"14px\">Rz(th_3)</text><rect x=\"165.2106640625\" y=\"55.0\" width=\"66.629453125\" height=\"40\" stroke=\"black\" fill=\"white\" stroke-width=\"1\" /><text x=\"198.525390625\" y=\"75.0\" dominant-baseline=\"middle\" text-anchor=\"middle\" font-size=\"14px\">Rx(th_1)</text><rect x=\"165.2106640625\" y=\"5.0\" width=\"66.629453125\" height=\"40\" stroke=\"black\" fill=\"white\" stroke-width=\"1\" /><text x=\"198.525390625\" y=\"25.0\" dominant-baseline=\"middle\" text-anchor=\"middle\" font-size=\"14px\">Rx(th_4)</text><rect x=\"251.8401171875\" y=\"55.0\" width=\"65.6929296875\" height=\"40\" stroke=\"black\" fill=\"white\" stroke-width=\"1\" /><text x=\"284.68658203125\" y=\"75.0\" dominant-baseline=\"middle\" text-anchor=\"middle\" font-size=\"14px\">Rz(th_2)</text><rect x=\"251.8401171875\" y=\"5.0\" width=\"65.6929296875\" height=\"40\" stroke=\"black\" fill=\"white\" stroke-width=\"1\" /><text x=\"284.68658203125\" y=\"25.0\" dominant-baseline=\"middle\" text-anchor=\"middle\" font-size=\"14px\">Rz(th_5)</text></svg>"
      ],
      "text/plain": [
       "<cirq.contrib.svg.svg.SVGCircuit at 0x7f16b26d97b8>"
      ]
     },
     "metadata": {},
     "output_type": "display_data"
    },
    {
     "name": "stderr",
     "output_type": "stream",
     "text": [
      "\r",
      " 20%|██        | 2/10 [00:12<00:49,  6.24s/it]"
     ]
    },
    {
     "name": "stdout",
     "output_type": "stream",
     "text": [
      "accepted\n",
      "about to simplify\n",
      "\n",
      "%%%%%%%%%%%%%%%%%%%%%%%%%\n",
      "new iteration:  2\n",
      "1:\n"
     ]
    },
    {
     "data": {
      "image/svg+xml": [
       "<svg xmlns=\"http://www.w3.org/2000/svg\" width=\"367.53304687499997\" height=\"100.0\"><line x1=\"34.7588671875\" x2=\"337.53304687499997\" y1=\"25.0\" y2=\"25.0\" stroke=\"#1967d2\" stroke-width=\"1\" /><line x1=\"34.7588671875\" x2=\"337.53304687499997\" y1=\"75.0\" y2=\"75.0\" stroke=\"#1967d2\" stroke-width=\"1\" /><rect x=\"10.0\" y=\"5.0\" width=\"49.517734375\" height=\"40\" stroke=\"black\" fill=\"white\" stroke-width=\"0\" /><text x=\"34.7588671875\" y=\"25.0\" dominant-baseline=\"middle\" text-anchor=\"middle\" font-size=\"14px\">(0, 0): </text><rect x=\"10.0\" y=\"55.0\" width=\"49.517734375\" height=\"40\" stroke=\"black\" fill=\"white\" stroke-width=\"0\" /><text x=\"34.7588671875\" y=\"75.0\" dominant-baseline=\"middle\" text-anchor=\"middle\" font-size=\"14px\">(0, 1): </text><rect x=\"79.517734375\" y=\"55.0\" width=\"65.6929296875\" height=\"40\" stroke=\"black\" fill=\"white\" stroke-width=\"1\" /><text x=\"112.36419921875\" y=\"75.0\" dominant-baseline=\"middle\" text-anchor=\"middle\" font-size=\"14px\">Rz(th_0)</text><rect x=\"79.517734375\" y=\"5.0\" width=\"65.6929296875\" height=\"40\" stroke=\"black\" fill=\"white\" stroke-width=\"1\" /><text x=\"112.36419921875\" y=\"25.0\" dominant-baseline=\"middle\" text-anchor=\"middle\" font-size=\"14px\">Rz(th_3)</text><rect x=\"165.2106640625\" y=\"55.0\" width=\"66.629453125\" height=\"40\" stroke=\"black\" fill=\"white\" stroke-width=\"1\" /><text x=\"198.525390625\" y=\"75.0\" dominant-baseline=\"middle\" text-anchor=\"middle\" font-size=\"14px\">Rx(th_1)</text><rect x=\"165.2106640625\" y=\"5.0\" width=\"66.629453125\" height=\"40\" stroke=\"black\" fill=\"white\" stroke-width=\"1\" /><text x=\"198.525390625\" y=\"25.0\" dominant-baseline=\"middle\" text-anchor=\"middle\" font-size=\"14px\">Rx(th_4)</text><rect x=\"251.8401171875\" y=\"55.0\" width=\"65.6929296875\" height=\"40\" stroke=\"black\" fill=\"white\" stroke-width=\"1\" /><text x=\"284.68658203125\" y=\"75.0\" dominant-baseline=\"middle\" text-anchor=\"middle\" font-size=\"14px\">Rz(th_2)</text><rect x=\"251.8401171875\" y=\"5.0\" width=\"65.6929296875\" height=\"40\" stroke=\"black\" fill=\"white\" stroke-width=\"1\" /><text x=\"284.68658203125\" y=\"25.0\" dominant-baseline=\"middle\" text-anchor=\"middle\" font-size=\"14px\">Rz(th_5)</text></svg>"
      ],
      "text/plain": [
       "<cirq.contrib.svg.svg.SVGCircuit at 0x7f16b26f25f8>"
      ]
     },
     "metadata": {},
     "output_type": "display_data"
    },
    {
     "name": "stdout",
     "output_type": "stream",
     "text": [
      "Train on 1 samples\n",
      "Epoch 1/10\n",
      "1/1 [==============================] - 1s 1s/sample - loss: 15.1751\n",
      "Epoch 2/10\n",
      "1/1 [==============================] - 1s 549ms/sample - loss: 15.1835\n",
      "Epoch 3/10\n",
      "1/1 [==============================] - 1s 550ms/sample - loss: 15.1756\n",
      "Epoch 4/10\n",
      "1/1 [==============================] - 1s 604ms/sample - loss: 15.1767\n",
      "Epoch 5/10\n",
      "1/1 [==============================] - 1s 626ms/sample - loss: 15.1796\n",
      "Epoch 6/10\n",
      "1/1 [==============================] - 1s 611ms/sample - loss: 15.1784\n",
      "Epoch 7/10\n",
      "1/1 [==============================] - 1s 540ms/sample - loss: 15.1760\n",
      "Epoch 8/10\n",
      "1/1 [==============================] - 1s 736ms/sample - loss: 15.1750\n",
      "Epoch 9/10\n",
      "1/1 [==============================] - 0s 443ms/sample - loss: 15.1754\n",
      "Epoch 10/10\n",
      "1/1 [==============================] - 1s 684ms/sample - loss: 15.1761\n",
      "2:\n"
     ]
    },
    {
     "data": {
      "image/svg+xml": [
       "<svg xmlns=\"http://www.w3.org/2000/svg\" width=\"367.53304687499997\" height=\"100.0\"><line x1=\"34.7588671875\" x2=\"337.53304687499997\" y1=\"25.0\" y2=\"25.0\" stroke=\"#1967d2\" stroke-width=\"1\" /><line x1=\"34.7588671875\" x2=\"337.53304687499997\" y1=\"75.0\" y2=\"75.0\" stroke=\"#1967d2\" stroke-width=\"1\" /><rect x=\"10.0\" y=\"5.0\" width=\"49.517734375\" height=\"40\" stroke=\"black\" fill=\"white\" stroke-width=\"0\" /><text x=\"34.7588671875\" y=\"25.0\" dominant-baseline=\"middle\" text-anchor=\"middle\" font-size=\"14px\">(0, 0): </text><rect x=\"10.0\" y=\"55.0\" width=\"49.517734375\" height=\"40\" stroke=\"black\" fill=\"white\" stroke-width=\"0\" /><text x=\"34.7588671875\" y=\"75.0\" dominant-baseline=\"middle\" text-anchor=\"middle\" font-size=\"14px\">(0, 1): </text><rect x=\"79.517734375\" y=\"55.0\" width=\"65.6929296875\" height=\"40\" stroke=\"black\" fill=\"white\" stroke-width=\"1\" /><text x=\"112.36419921875\" y=\"75.0\" dominant-baseline=\"middle\" text-anchor=\"middle\" font-size=\"14px\">Rz(th_0)</text><rect x=\"79.517734375\" y=\"5.0\" width=\"65.6929296875\" height=\"40\" stroke=\"black\" fill=\"white\" stroke-width=\"1\" /><text x=\"112.36419921875\" y=\"25.0\" dominant-baseline=\"middle\" text-anchor=\"middle\" font-size=\"14px\">Rz(th_3)</text><rect x=\"165.2106640625\" y=\"55.0\" width=\"66.629453125\" height=\"40\" stroke=\"black\" fill=\"white\" stroke-width=\"1\" /><text x=\"198.525390625\" y=\"75.0\" dominant-baseline=\"middle\" text-anchor=\"middle\" font-size=\"14px\">Rx(th_1)</text><rect x=\"165.2106640625\" y=\"5.0\" width=\"66.629453125\" height=\"40\" stroke=\"black\" fill=\"white\" stroke-width=\"1\" /><text x=\"198.525390625\" y=\"25.0\" dominant-baseline=\"middle\" text-anchor=\"middle\" font-size=\"14px\">Rx(th_4)</text><rect x=\"251.8401171875\" y=\"55.0\" width=\"65.6929296875\" height=\"40\" stroke=\"black\" fill=\"white\" stroke-width=\"1\" /><text x=\"284.68658203125\" y=\"75.0\" dominant-baseline=\"middle\" text-anchor=\"middle\" font-size=\"14px\">Rz(th_2)</text><rect x=\"251.8401171875\" y=\"5.0\" width=\"65.6929296875\" height=\"40\" stroke=\"black\" fill=\"white\" stroke-width=\"1\" /><text x=\"284.68658203125\" y=\"25.0\" dominant-baseline=\"middle\" text-anchor=\"middle\" font-size=\"14px\">Rz(th_5)</text></svg>"
      ],
      "text/plain": [
       "<cirq.contrib.svg.svg.SVGCircuit at 0x7f16b262a128>"
      ]
     },
     "metadata": {},
     "output_type": "display_data"
    },
    {
     "name": "stderr",
     "output_type": "stream",
     "text": [
      "\r",
      " 30%|███       | 3/10 [00:19<00:45,  6.51s/it]"
     ]
    },
    {
     "name": "stdout",
     "output_type": "stream",
     "text": [
      "\n",
      "%%%%%%%%%%%%%%%%%%%%%%%%%\n",
      "new iteration:  3\n",
      "1:\n"
     ]
    },
    {
     "data": {
      "image/svg+xml": [
       "<svg xmlns=\"http://www.w3.org/2000/svg\" width=\"367.53304687499997\" height=\"100.0\"><line x1=\"34.7588671875\" x2=\"337.53304687499997\" y1=\"25.0\" y2=\"25.0\" stroke=\"#1967d2\" stroke-width=\"1\" /><line x1=\"34.7588671875\" x2=\"337.53304687499997\" y1=\"75.0\" y2=\"75.0\" stroke=\"#1967d2\" stroke-width=\"1\" /><rect x=\"10.0\" y=\"5.0\" width=\"49.517734375\" height=\"40\" stroke=\"black\" fill=\"white\" stroke-width=\"0\" /><text x=\"34.7588671875\" y=\"25.0\" dominant-baseline=\"middle\" text-anchor=\"middle\" font-size=\"14px\">(0, 0): </text><rect x=\"10.0\" y=\"55.0\" width=\"49.517734375\" height=\"40\" stroke=\"black\" fill=\"white\" stroke-width=\"0\" /><text x=\"34.7588671875\" y=\"75.0\" dominant-baseline=\"middle\" text-anchor=\"middle\" font-size=\"14px\">(0, 1): </text><rect x=\"79.517734375\" y=\"55.0\" width=\"65.6929296875\" height=\"40\" stroke=\"black\" fill=\"white\" stroke-width=\"1\" /><text x=\"112.36419921875\" y=\"75.0\" dominant-baseline=\"middle\" text-anchor=\"middle\" font-size=\"14px\">Rz(th_0)</text><rect x=\"79.517734375\" y=\"5.0\" width=\"65.6929296875\" height=\"40\" stroke=\"black\" fill=\"white\" stroke-width=\"1\" /><text x=\"112.36419921875\" y=\"25.0\" dominant-baseline=\"middle\" text-anchor=\"middle\" font-size=\"14px\">Rz(th_3)</text><rect x=\"165.2106640625\" y=\"55.0\" width=\"66.629453125\" height=\"40\" stroke=\"black\" fill=\"white\" stroke-width=\"1\" /><text x=\"198.525390625\" y=\"75.0\" dominant-baseline=\"middle\" text-anchor=\"middle\" font-size=\"14px\">Rx(th_1)</text><rect x=\"165.2106640625\" y=\"5.0\" width=\"66.629453125\" height=\"40\" stroke=\"black\" fill=\"white\" stroke-width=\"1\" /><text x=\"198.525390625\" y=\"25.0\" dominant-baseline=\"middle\" text-anchor=\"middle\" font-size=\"14px\">Rx(th_4)</text><rect x=\"251.8401171875\" y=\"55.0\" width=\"65.6929296875\" height=\"40\" stroke=\"black\" fill=\"white\" stroke-width=\"1\" /><text x=\"284.68658203125\" y=\"75.0\" dominant-baseline=\"middle\" text-anchor=\"middle\" font-size=\"14px\">Rz(th_2)</text><rect x=\"251.8401171875\" y=\"5.0\" width=\"65.6929296875\" height=\"40\" stroke=\"black\" fill=\"white\" stroke-width=\"1\" /><text x=\"284.68658203125\" y=\"25.0\" dominant-baseline=\"middle\" text-anchor=\"middle\" font-size=\"14px\">Rz(th_5)</text></svg>"
      ],
      "text/plain": [
       "<cirq.contrib.svg.svg.SVGCircuit at 0x7f16b04a49e8>"
      ]
     },
     "metadata": {},
     "output_type": "display_data"
    },
    {
     "name": "stdout",
     "output_type": "stream",
     "text": [
      "Train on 1 samples\n",
      "Epoch 1/10\n",
      "1/1 [==============================] - 2s 2s/sample - loss: 15.6818\n",
      "Epoch 2/10\n",
      "1/1 [==============================] - 1s 900ms/sample - loss: 15.6808\n",
      "Epoch 3/10\n",
      "1/1 [==============================] - 1s 881ms/sample - loss: 15.6775\n",
      "Epoch 4/10\n",
      "1/1 [==============================] - 1s 883ms/sample - loss: 15.6691\n",
      "Epoch 5/10\n",
      "1/1 [==============================] - 1s 868ms/sample - loss: 15.6577\n",
      "Epoch 6/10\n",
      "1/1 [==============================] - 1s 852ms/sample - loss: 15.6449\n",
      "Epoch 7/10\n",
      "1/1 [==============================] - 1s 879ms/sample - loss: 15.6345\n",
      "Epoch 8/10\n",
      "1/1 [==============================] - 1s 893ms/sample - loss: 15.6297\n",
      "Epoch 9/10\n",
      "1/1 [==============================] - 1s 869ms/sample - loss: 15.6268\n",
      "Epoch 10/10\n",
      "1/1 [==============================] - 1s 892ms/sample - loss: 15.6226\n",
      "2:\n"
     ]
    },
    {
     "data": {
      "image/svg+xml": [
       "<svg xmlns=\"http://www.w3.org/2000/svg\" width=\"367.53304687499997\" height=\"100.0\"><line x1=\"34.7588671875\" x2=\"337.53304687499997\" y1=\"25.0\" y2=\"25.0\" stroke=\"#1967d2\" stroke-width=\"1\" /><line x1=\"34.7588671875\" x2=\"337.53304687499997\" y1=\"75.0\" y2=\"75.0\" stroke=\"#1967d2\" stroke-width=\"1\" /><rect x=\"10.0\" y=\"5.0\" width=\"49.517734375\" height=\"40\" stroke=\"black\" fill=\"white\" stroke-width=\"0\" /><text x=\"34.7588671875\" y=\"25.0\" dominant-baseline=\"middle\" text-anchor=\"middle\" font-size=\"14px\">(0, 0): </text><rect x=\"10.0\" y=\"55.0\" width=\"49.517734375\" height=\"40\" stroke=\"black\" fill=\"white\" stroke-width=\"0\" /><text x=\"34.7588671875\" y=\"75.0\" dominant-baseline=\"middle\" text-anchor=\"middle\" font-size=\"14px\">(0, 1): </text><rect x=\"79.517734375\" y=\"55.0\" width=\"65.6929296875\" height=\"40\" stroke=\"black\" fill=\"white\" stroke-width=\"1\" /><text x=\"112.36419921875\" y=\"75.0\" dominant-baseline=\"middle\" text-anchor=\"middle\" font-size=\"14px\">Rz(th_0)</text><rect x=\"79.517734375\" y=\"5.0\" width=\"65.6929296875\" height=\"40\" stroke=\"black\" fill=\"white\" stroke-width=\"1\" /><text x=\"112.36419921875\" y=\"25.0\" dominant-baseline=\"middle\" text-anchor=\"middle\" font-size=\"14px\">Rz(th_3)</text><rect x=\"165.2106640625\" y=\"55.0\" width=\"66.629453125\" height=\"40\" stroke=\"black\" fill=\"white\" stroke-width=\"1\" /><text x=\"198.525390625\" y=\"75.0\" dominant-baseline=\"middle\" text-anchor=\"middle\" font-size=\"14px\">Rx(th_1)</text><rect x=\"165.2106640625\" y=\"5.0\" width=\"66.629453125\" height=\"40\" stroke=\"black\" fill=\"white\" stroke-width=\"1\" /><text x=\"198.525390625\" y=\"25.0\" dominant-baseline=\"middle\" text-anchor=\"middle\" font-size=\"14px\">Rx(th_4)</text><rect x=\"251.8401171875\" y=\"55.0\" width=\"65.6929296875\" height=\"40\" stroke=\"black\" fill=\"white\" stroke-width=\"1\" /><text x=\"284.68658203125\" y=\"75.0\" dominant-baseline=\"middle\" text-anchor=\"middle\" font-size=\"14px\">Rz(th_2)</text><rect x=\"251.8401171875\" y=\"5.0\" width=\"65.6929296875\" height=\"40\" stroke=\"black\" fill=\"white\" stroke-width=\"1\" /><text x=\"284.68658203125\" y=\"25.0\" dominant-baseline=\"middle\" text-anchor=\"middle\" font-size=\"14px\">Rz(th_5)</text></svg>"
      ],
      "text/plain": [
       "<cirq.contrib.svg.svg.SVGCircuit at 0x7f16b043dfd0>"
      ]
     },
     "metadata": {},
     "output_type": "display_data"
    },
    {
     "name": "stderr",
     "output_type": "stream",
     "text": [
      "\r",
      " 40%|████      | 4/10 [00:29<00:45,  7.61s/it]"
     ]
    },
    {
     "name": "stdout",
     "output_type": "stream",
     "text": [
      "\n",
      "%%%%%%%%%%%%%%%%%%%%%%%%%\n",
      "new iteration:  4\n",
      "1:\n"
     ]
    },
    {
     "data": {
      "image/svg+xml": [
       "<svg xmlns=\"http://www.w3.org/2000/svg\" width=\"367.53304687499997\" height=\"100.0\"><line x1=\"34.7588671875\" x2=\"337.53304687499997\" y1=\"25.0\" y2=\"25.0\" stroke=\"#1967d2\" stroke-width=\"1\" /><line x1=\"34.7588671875\" x2=\"337.53304687499997\" y1=\"75.0\" y2=\"75.0\" stroke=\"#1967d2\" stroke-width=\"1\" /><rect x=\"10.0\" y=\"5.0\" width=\"49.517734375\" height=\"40\" stroke=\"black\" fill=\"white\" stroke-width=\"0\" /><text x=\"34.7588671875\" y=\"25.0\" dominant-baseline=\"middle\" text-anchor=\"middle\" font-size=\"14px\">(0, 0): </text><rect x=\"10.0\" y=\"55.0\" width=\"49.517734375\" height=\"40\" stroke=\"black\" fill=\"white\" stroke-width=\"0\" /><text x=\"34.7588671875\" y=\"75.0\" dominant-baseline=\"middle\" text-anchor=\"middle\" font-size=\"14px\">(0, 1): </text><rect x=\"79.517734375\" y=\"55.0\" width=\"65.6929296875\" height=\"40\" stroke=\"black\" fill=\"white\" stroke-width=\"1\" /><text x=\"112.36419921875\" y=\"75.0\" dominant-baseline=\"middle\" text-anchor=\"middle\" font-size=\"14px\">Rz(th_0)</text><rect x=\"79.517734375\" y=\"5.0\" width=\"65.6929296875\" height=\"40\" stroke=\"black\" fill=\"white\" stroke-width=\"1\" /><text x=\"112.36419921875\" y=\"25.0\" dominant-baseline=\"middle\" text-anchor=\"middle\" font-size=\"14px\">Rz(th_3)</text><rect x=\"165.2106640625\" y=\"55.0\" width=\"66.629453125\" height=\"40\" stroke=\"black\" fill=\"white\" stroke-width=\"1\" /><text x=\"198.525390625\" y=\"75.0\" dominant-baseline=\"middle\" text-anchor=\"middle\" font-size=\"14px\">Rx(th_1)</text><rect x=\"165.2106640625\" y=\"5.0\" width=\"66.629453125\" height=\"40\" stroke=\"black\" fill=\"white\" stroke-width=\"1\" /><text x=\"198.525390625\" y=\"25.0\" dominant-baseline=\"middle\" text-anchor=\"middle\" font-size=\"14px\">Rx(th_4)</text><rect x=\"251.8401171875\" y=\"55.0\" width=\"65.6929296875\" height=\"40\" stroke=\"black\" fill=\"white\" stroke-width=\"1\" /><text x=\"284.68658203125\" y=\"75.0\" dominant-baseline=\"middle\" text-anchor=\"middle\" font-size=\"14px\">Rz(th_2)</text><rect x=\"251.8401171875\" y=\"5.0\" width=\"65.6929296875\" height=\"40\" stroke=\"black\" fill=\"white\" stroke-width=\"1\" /><text x=\"284.68658203125\" y=\"25.0\" dominant-baseline=\"middle\" text-anchor=\"middle\" font-size=\"14px\">Rz(th_5)</text></svg>"
      ],
      "text/plain": [
       "<cirq.contrib.svg.svg.SVGCircuit at 0x7f16b27ae3c8>"
      ]
     },
     "metadata": {},
     "output_type": "display_data"
    },
    {
     "name": "stdout",
     "output_type": "stream",
     "text": [
      "Train on 1 samples\n",
      "Epoch 1/10\n",
      "1/1 [==============================] - 1s 1s/sample - loss: 15.1753\n",
      "Epoch 2/10\n",
      "1/1 [==============================] - 1s 637ms/sample - loss: 15.1812\n",
      "Epoch 3/10\n",
      "1/1 [==============================] - 1s 586ms/sample - loss: 15.1757\n",
      "Epoch 4/10\n",
      "1/1 [==============================] - 1s 570ms/sample - loss: 15.1759\n",
      "Epoch 5/10\n",
      "1/1 [==============================] - 1s 758ms/sample - loss: 15.1777\n",
      "Epoch 6/10\n",
      "1/1 [==============================] - 1s 645ms/sample - loss: 15.1769\n",
      "Epoch 7/10\n",
      "1/1 [==============================] - 1s 628ms/sample - loss: 15.1756\n",
      "Epoch 8/10\n",
      "1/1 [==============================] - 1s 607ms/sample - loss: 15.1752\n",
      "Epoch 9/10\n",
      "1/1 [==============================] - 1s 591ms/sample - loss: 15.1753\n",
      "Epoch 10/10\n",
      "1/1 [==============================] - 1s 612ms/sample - loss: 15.1754\n",
      "2:\n"
     ]
    },
    {
     "data": {
      "image/svg+xml": [
       "<svg xmlns=\"http://www.w3.org/2000/svg\" width=\"367.53304687499997\" height=\"100.0\"><line x1=\"34.7588671875\" x2=\"337.53304687499997\" y1=\"25.0\" y2=\"25.0\" stroke=\"#1967d2\" stroke-width=\"1\" /><line x1=\"34.7588671875\" x2=\"337.53304687499997\" y1=\"75.0\" y2=\"75.0\" stroke=\"#1967d2\" stroke-width=\"1\" /><rect x=\"10.0\" y=\"5.0\" width=\"49.517734375\" height=\"40\" stroke=\"black\" fill=\"white\" stroke-width=\"0\" /><text x=\"34.7588671875\" y=\"25.0\" dominant-baseline=\"middle\" text-anchor=\"middle\" font-size=\"14px\">(0, 0): </text><rect x=\"10.0\" y=\"55.0\" width=\"49.517734375\" height=\"40\" stroke=\"black\" fill=\"white\" stroke-width=\"0\" /><text x=\"34.7588671875\" y=\"75.0\" dominant-baseline=\"middle\" text-anchor=\"middle\" font-size=\"14px\">(0, 1): </text><rect x=\"79.517734375\" y=\"55.0\" width=\"65.6929296875\" height=\"40\" stroke=\"black\" fill=\"white\" stroke-width=\"1\" /><text x=\"112.36419921875\" y=\"75.0\" dominant-baseline=\"middle\" text-anchor=\"middle\" font-size=\"14px\">Rz(th_0)</text><rect x=\"79.517734375\" y=\"5.0\" width=\"65.6929296875\" height=\"40\" stroke=\"black\" fill=\"white\" stroke-width=\"1\" /><text x=\"112.36419921875\" y=\"25.0\" dominant-baseline=\"middle\" text-anchor=\"middle\" font-size=\"14px\">Rz(th_3)</text><rect x=\"165.2106640625\" y=\"55.0\" width=\"66.629453125\" height=\"40\" stroke=\"black\" fill=\"white\" stroke-width=\"1\" /><text x=\"198.525390625\" y=\"75.0\" dominant-baseline=\"middle\" text-anchor=\"middle\" font-size=\"14px\">Rx(th_1)</text><rect x=\"165.2106640625\" y=\"5.0\" width=\"66.629453125\" height=\"40\" stroke=\"black\" fill=\"white\" stroke-width=\"1\" /><text x=\"198.525390625\" y=\"25.0\" dominant-baseline=\"middle\" text-anchor=\"middle\" font-size=\"14px\">Rx(th_4)</text><rect x=\"251.8401171875\" y=\"55.0\" width=\"65.6929296875\" height=\"40\" stroke=\"black\" fill=\"white\" stroke-width=\"1\" /><text x=\"284.68658203125\" y=\"75.0\" dominant-baseline=\"middle\" text-anchor=\"middle\" font-size=\"14px\">Rz(th_2)</text><rect x=\"251.8401171875\" y=\"5.0\" width=\"65.6929296875\" height=\"40\" stroke=\"black\" fill=\"white\" stroke-width=\"1\" /><text x=\"284.68658203125\" y=\"25.0\" dominant-baseline=\"middle\" text-anchor=\"middle\" font-size=\"14px\">Rz(th_5)</text></svg>"
      ],
      "text/plain": [
       "<cirq.contrib.svg.svg.SVGCircuit at 0x7f16b271bd68>"
      ]
     },
     "metadata": {},
     "output_type": "display_data"
    },
    {
     "name": "stderr",
     "output_type": "stream",
     "text": [
      "\r",
      " 50%|█████     | 5/10 [00:36<00:37,  7.52s/it]"
     ]
    },
    {
     "name": "stdout",
     "output_type": "stream",
     "text": [
      "\n",
      "%%%%%%%%%%%%%%%%%%%%%%%%%\n",
      "new iteration:  5\n",
      "1:\n"
     ]
    },
    {
     "data": {
      "image/svg+xml": [
       "<svg xmlns=\"http://www.w3.org/2000/svg\" width=\"367.53304687499997\" height=\"100.0\"><line x1=\"34.7588671875\" x2=\"337.53304687499997\" y1=\"25.0\" y2=\"25.0\" stroke=\"#1967d2\" stroke-width=\"1\" /><line x1=\"34.7588671875\" x2=\"337.53304687499997\" y1=\"75.0\" y2=\"75.0\" stroke=\"#1967d2\" stroke-width=\"1\" /><rect x=\"10.0\" y=\"5.0\" width=\"49.517734375\" height=\"40\" stroke=\"black\" fill=\"white\" stroke-width=\"0\" /><text x=\"34.7588671875\" y=\"25.0\" dominant-baseline=\"middle\" text-anchor=\"middle\" font-size=\"14px\">(0, 0): </text><rect x=\"10.0\" y=\"55.0\" width=\"49.517734375\" height=\"40\" stroke=\"black\" fill=\"white\" stroke-width=\"0\" /><text x=\"34.7588671875\" y=\"75.0\" dominant-baseline=\"middle\" text-anchor=\"middle\" font-size=\"14px\">(0, 1): </text><rect x=\"79.517734375\" y=\"55.0\" width=\"65.6929296875\" height=\"40\" stroke=\"black\" fill=\"white\" stroke-width=\"1\" /><text x=\"112.36419921875\" y=\"75.0\" dominant-baseline=\"middle\" text-anchor=\"middle\" font-size=\"14px\">Rz(th_0)</text><rect x=\"79.517734375\" y=\"5.0\" width=\"65.6929296875\" height=\"40\" stroke=\"black\" fill=\"white\" stroke-width=\"1\" /><text x=\"112.36419921875\" y=\"25.0\" dominant-baseline=\"middle\" text-anchor=\"middle\" font-size=\"14px\">Rz(th_3)</text><rect x=\"165.2106640625\" y=\"55.0\" width=\"66.629453125\" height=\"40\" stroke=\"black\" fill=\"white\" stroke-width=\"1\" /><text x=\"198.525390625\" y=\"75.0\" dominant-baseline=\"middle\" text-anchor=\"middle\" font-size=\"14px\">Rx(th_1)</text><rect x=\"165.2106640625\" y=\"5.0\" width=\"66.629453125\" height=\"40\" stroke=\"black\" fill=\"white\" stroke-width=\"1\" /><text x=\"198.525390625\" y=\"25.0\" dominant-baseline=\"middle\" text-anchor=\"middle\" font-size=\"14px\">Rx(th_4)</text><rect x=\"251.8401171875\" y=\"55.0\" width=\"65.6929296875\" height=\"40\" stroke=\"black\" fill=\"white\" stroke-width=\"1\" /><text x=\"284.68658203125\" y=\"75.0\" dominant-baseline=\"middle\" text-anchor=\"middle\" font-size=\"14px\">Rz(th_2)</text><rect x=\"251.8401171875\" y=\"5.0\" width=\"65.6929296875\" height=\"40\" stroke=\"black\" fill=\"white\" stroke-width=\"1\" /><text x=\"284.68658203125\" y=\"25.0\" dominant-baseline=\"middle\" text-anchor=\"middle\" font-size=\"14px\">Rz(th_5)</text></svg>"
      ],
      "text/plain": [
       "<cirq.contrib.svg.svg.SVGCircuit at 0x7f16b2d530f0>"
      ]
     },
     "metadata": {},
     "output_type": "display_data"
    },
    {
     "name": "stdout",
     "output_type": "stream",
     "text": [
      "Train on 1 samples\n",
      "Epoch 1/10\n",
      "1/1 [==============================] - 1s 1s/sample - loss: 15.1754\n",
      "Epoch 2/10\n",
      "1/1 [==============================] - 1s 674ms/sample - loss: 15.1813\n",
      "Epoch 3/10\n",
      "1/1 [==============================] - 1s 620ms/sample - loss: 15.1756\n",
      "Epoch 4/10\n",
      "1/1 [==============================] - 1s 674ms/sample - loss: 15.1760\n",
      "Epoch 5/10\n",
      "1/1 [==============================] - 1s 583ms/sample - loss: 15.1779\n",
      "Epoch 6/10\n",
      "1/1 [==============================] - 1s 557ms/sample - loss: 15.1770\n",
      "Epoch 7/10\n",
      "1/1 [==============================] - 1s 568ms/sample - loss: 15.1755\n",
      "Epoch 8/10\n",
      "1/1 [==============================] - 1s 809ms/sample - loss: 15.1752\n",
      "Epoch 9/10\n",
      "1/1 [==============================] - 1s 834ms/sample - loss: 15.1755\n",
      "Epoch 10/10\n",
      "1/1 [==============================] - 1s 743ms/sample - loss: 15.1757\n",
      "2:\n"
     ]
    },
    {
     "data": {
      "image/svg+xml": [
       "<svg xmlns=\"http://www.w3.org/2000/svg\" width=\"367.53304687499997\" height=\"100.0\"><line x1=\"34.7588671875\" x2=\"337.53304687499997\" y1=\"25.0\" y2=\"25.0\" stroke=\"#1967d2\" stroke-width=\"1\" /><line x1=\"34.7588671875\" x2=\"337.53304687499997\" y1=\"75.0\" y2=\"75.0\" stroke=\"#1967d2\" stroke-width=\"1\" /><rect x=\"10.0\" y=\"5.0\" width=\"49.517734375\" height=\"40\" stroke=\"black\" fill=\"white\" stroke-width=\"0\" /><text x=\"34.7588671875\" y=\"25.0\" dominant-baseline=\"middle\" text-anchor=\"middle\" font-size=\"14px\">(0, 0): </text><rect x=\"10.0\" y=\"55.0\" width=\"49.517734375\" height=\"40\" stroke=\"black\" fill=\"white\" stroke-width=\"0\" /><text x=\"34.7588671875\" y=\"75.0\" dominant-baseline=\"middle\" text-anchor=\"middle\" font-size=\"14px\">(0, 1): </text><rect x=\"79.517734375\" y=\"55.0\" width=\"65.6929296875\" height=\"40\" stroke=\"black\" fill=\"white\" stroke-width=\"1\" /><text x=\"112.36419921875\" y=\"75.0\" dominant-baseline=\"middle\" text-anchor=\"middle\" font-size=\"14px\">Rz(th_0)</text><rect x=\"79.517734375\" y=\"5.0\" width=\"65.6929296875\" height=\"40\" stroke=\"black\" fill=\"white\" stroke-width=\"1\" /><text x=\"112.36419921875\" y=\"25.0\" dominant-baseline=\"middle\" text-anchor=\"middle\" font-size=\"14px\">Rz(th_3)</text><rect x=\"165.2106640625\" y=\"55.0\" width=\"66.629453125\" height=\"40\" stroke=\"black\" fill=\"white\" stroke-width=\"1\" /><text x=\"198.525390625\" y=\"75.0\" dominant-baseline=\"middle\" text-anchor=\"middle\" font-size=\"14px\">Rx(th_1)</text><rect x=\"165.2106640625\" y=\"5.0\" width=\"66.629453125\" height=\"40\" stroke=\"black\" fill=\"white\" stroke-width=\"1\" /><text x=\"198.525390625\" y=\"25.0\" dominant-baseline=\"middle\" text-anchor=\"middle\" font-size=\"14px\">Rx(th_4)</text><rect x=\"251.8401171875\" y=\"55.0\" width=\"65.6929296875\" height=\"40\" stroke=\"black\" fill=\"white\" stroke-width=\"1\" /><text x=\"284.68658203125\" y=\"75.0\" dominant-baseline=\"middle\" text-anchor=\"middle\" font-size=\"14px\">Rz(th_2)</text><rect x=\"251.8401171875\" y=\"5.0\" width=\"65.6929296875\" height=\"40\" stroke=\"black\" fill=\"white\" stroke-width=\"1\" /><text x=\"284.68658203125\" y=\"25.0\" dominant-baseline=\"middle\" text-anchor=\"middle\" font-size=\"14px\">Rz(th_5)</text></svg>"
      ],
      "text/plain": [
       "<cirq.contrib.svg.svg.SVGCircuit at 0x7f16b2696c88>"
      ]
     },
     "metadata": {},
     "output_type": "display_data"
    },
    {
     "name": "stderr",
     "output_type": "stream",
     "text": [
      "\r",
      " 60%|██████    | 6/10 [00:44<00:30,  7.57s/it]"
     ]
    },
    {
     "name": "stdout",
     "output_type": "stream",
     "text": [
      "\n",
      "%%%%%%%%%%%%%%%%%%%%%%%%%\n",
      "new iteration:  6\n",
      "1:\n"
     ]
    },
    {
     "data": {
      "image/svg+xml": [
       "<svg xmlns=\"http://www.w3.org/2000/svg\" width=\"367.53304687499997\" height=\"100.0\"><line x1=\"34.7588671875\" x2=\"337.53304687499997\" y1=\"25.0\" y2=\"25.0\" stroke=\"#1967d2\" stroke-width=\"1\" /><line x1=\"34.7588671875\" x2=\"337.53304687499997\" y1=\"75.0\" y2=\"75.0\" stroke=\"#1967d2\" stroke-width=\"1\" /><rect x=\"10.0\" y=\"5.0\" width=\"49.517734375\" height=\"40\" stroke=\"black\" fill=\"white\" stroke-width=\"0\" /><text x=\"34.7588671875\" y=\"25.0\" dominant-baseline=\"middle\" text-anchor=\"middle\" font-size=\"14px\">(0, 0): </text><rect x=\"10.0\" y=\"55.0\" width=\"49.517734375\" height=\"40\" stroke=\"black\" fill=\"white\" stroke-width=\"0\" /><text x=\"34.7588671875\" y=\"75.0\" dominant-baseline=\"middle\" text-anchor=\"middle\" font-size=\"14px\">(0, 1): </text><rect x=\"79.517734375\" y=\"55.0\" width=\"65.6929296875\" height=\"40\" stroke=\"black\" fill=\"white\" stroke-width=\"1\" /><text x=\"112.36419921875\" y=\"75.0\" dominant-baseline=\"middle\" text-anchor=\"middle\" font-size=\"14px\">Rz(th_0)</text><rect x=\"79.517734375\" y=\"5.0\" width=\"65.6929296875\" height=\"40\" stroke=\"black\" fill=\"white\" stroke-width=\"1\" /><text x=\"112.36419921875\" y=\"25.0\" dominant-baseline=\"middle\" text-anchor=\"middle\" font-size=\"14px\">Rz(th_3)</text><rect x=\"165.2106640625\" y=\"55.0\" width=\"66.629453125\" height=\"40\" stroke=\"black\" fill=\"white\" stroke-width=\"1\" /><text x=\"198.525390625\" y=\"75.0\" dominant-baseline=\"middle\" text-anchor=\"middle\" font-size=\"14px\">Rx(th_1)</text><rect x=\"165.2106640625\" y=\"5.0\" width=\"66.629453125\" height=\"40\" stroke=\"black\" fill=\"white\" stroke-width=\"1\" /><text x=\"198.525390625\" y=\"25.0\" dominant-baseline=\"middle\" text-anchor=\"middle\" font-size=\"14px\">Rx(th_4)</text><rect x=\"251.8401171875\" y=\"55.0\" width=\"65.6929296875\" height=\"40\" stroke=\"black\" fill=\"white\" stroke-width=\"1\" /><text x=\"284.68658203125\" y=\"75.0\" dominant-baseline=\"middle\" text-anchor=\"middle\" font-size=\"14px\">Rz(th_2)</text><rect x=\"251.8401171875\" y=\"5.0\" width=\"65.6929296875\" height=\"40\" stroke=\"black\" fill=\"white\" stroke-width=\"1\" /><text x=\"284.68658203125\" y=\"25.0\" dominant-baseline=\"middle\" text-anchor=\"middle\" font-size=\"14px\">Rz(th_5)</text></svg>"
      ],
      "text/plain": [
       "<cirq.contrib.svg.svg.SVGCircuit at 0x7f16b28dbcf8>"
      ]
     },
     "metadata": {},
     "output_type": "display_data"
    },
    {
     "name": "stdout",
     "output_type": "stream",
     "text": [
      "Train on 1 samples\n",
      "Epoch 1/10\n",
      "1/1 [==============================] - 1s 1s/sample - loss: 15.1758\n",
      "Epoch 2/10\n",
      "1/1 [==============================] - 1s 749ms/sample - loss: 15.1797\n",
      "Epoch 3/10\n",
      "1/1 [==============================] - 1s 587ms/sample - loss: 15.1757\n",
      "Epoch 4/10\n",
      "1/1 [==============================] - 1s 615ms/sample - loss: 15.1754\n",
      "Epoch 5/10\n",
      "1/1 [==============================] - 1s 695ms/sample - loss: 15.1767\n",
      "Epoch 6/10\n",
      "1/1 [==============================] - 1s 568ms/sample - loss: 15.1764\n",
      "Epoch 7/10\n",
      "1/1 [==============================] - 1s 577ms/sample - loss: 15.1754\n",
      "Epoch 8/10\n",
      "1/1 [==============================] - 1s 601ms/sample - loss: 15.1750\n",
      "Epoch 9/10\n",
      "1/1 [==============================] - 1s 620ms/sample - loss: 15.1751\n",
      "Epoch 10/10\n",
      "1/1 [==============================] - 1s 611ms/sample - loss: 15.1752\n",
      "2:\n"
     ]
    },
    {
     "data": {
      "image/svg+xml": [
       "<svg xmlns=\"http://www.w3.org/2000/svg\" width=\"367.53304687499997\" height=\"100.0\"><line x1=\"34.7588671875\" x2=\"337.53304687499997\" y1=\"25.0\" y2=\"25.0\" stroke=\"#1967d2\" stroke-width=\"1\" /><line x1=\"34.7588671875\" x2=\"337.53304687499997\" y1=\"75.0\" y2=\"75.0\" stroke=\"#1967d2\" stroke-width=\"1\" /><rect x=\"10.0\" y=\"5.0\" width=\"49.517734375\" height=\"40\" stroke=\"black\" fill=\"white\" stroke-width=\"0\" /><text x=\"34.7588671875\" y=\"25.0\" dominant-baseline=\"middle\" text-anchor=\"middle\" font-size=\"14px\">(0, 0): </text><rect x=\"10.0\" y=\"55.0\" width=\"49.517734375\" height=\"40\" stroke=\"black\" fill=\"white\" stroke-width=\"0\" /><text x=\"34.7588671875\" y=\"75.0\" dominant-baseline=\"middle\" text-anchor=\"middle\" font-size=\"14px\">(0, 1): </text><rect x=\"79.517734375\" y=\"55.0\" width=\"65.6929296875\" height=\"40\" stroke=\"black\" fill=\"white\" stroke-width=\"1\" /><text x=\"112.36419921875\" y=\"75.0\" dominant-baseline=\"middle\" text-anchor=\"middle\" font-size=\"14px\">Rz(th_0)</text><rect x=\"79.517734375\" y=\"5.0\" width=\"65.6929296875\" height=\"40\" stroke=\"black\" fill=\"white\" stroke-width=\"1\" /><text x=\"112.36419921875\" y=\"25.0\" dominant-baseline=\"middle\" text-anchor=\"middle\" font-size=\"14px\">Rz(th_3)</text><rect x=\"165.2106640625\" y=\"55.0\" width=\"66.629453125\" height=\"40\" stroke=\"black\" fill=\"white\" stroke-width=\"1\" /><text x=\"198.525390625\" y=\"75.0\" dominant-baseline=\"middle\" text-anchor=\"middle\" font-size=\"14px\">Rx(th_1)</text><rect x=\"165.2106640625\" y=\"5.0\" width=\"66.629453125\" height=\"40\" stroke=\"black\" fill=\"white\" stroke-width=\"1\" /><text x=\"198.525390625\" y=\"25.0\" dominant-baseline=\"middle\" text-anchor=\"middle\" font-size=\"14px\">Rx(th_4)</text><rect x=\"251.8401171875\" y=\"55.0\" width=\"65.6929296875\" height=\"40\" stroke=\"black\" fill=\"white\" stroke-width=\"1\" /><text x=\"284.68658203125\" y=\"75.0\" dominant-baseline=\"middle\" text-anchor=\"middle\" font-size=\"14px\">Rz(th_2)</text><rect x=\"251.8401171875\" y=\"5.0\" width=\"65.6929296875\" height=\"40\" stroke=\"black\" fill=\"white\" stroke-width=\"1\" /><text x=\"284.68658203125\" y=\"25.0\" dominant-baseline=\"middle\" text-anchor=\"middle\" font-size=\"14px\">Rz(th_5)</text></svg>"
      ],
      "text/plain": [
       "<cirq.contrib.svg.svg.SVGCircuit at 0x7f16b0509710>"
      ]
     },
     "metadata": {},
     "output_type": "display_data"
    },
    {
     "name": "stderr",
     "output_type": "stream",
     "text": [
      "\r",
      " 70%|███████   | 7/10 [00:51<00:22,  7.44s/it]"
     ]
    },
    {
     "name": "stdout",
     "output_type": "stream",
     "text": [
      "\n",
      "%%%%%%%%%%%%%%%%%%%%%%%%%\n",
      "new iteration:  7\n",
      "1:\n"
     ]
    },
    {
     "data": {
      "image/svg+xml": [
       "<svg xmlns=\"http://www.w3.org/2000/svg\" width=\"367.53304687499997\" height=\"100.0\"><line x1=\"34.7588671875\" x2=\"337.53304687499997\" y1=\"25.0\" y2=\"25.0\" stroke=\"#1967d2\" stroke-width=\"1\" /><line x1=\"34.7588671875\" x2=\"337.53304687499997\" y1=\"75.0\" y2=\"75.0\" stroke=\"#1967d2\" stroke-width=\"1\" /><rect x=\"10.0\" y=\"5.0\" width=\"49.517734375\" height=\"40\" stroke=\"black\" fill=\"white\" stroke-width=\"0\" /><text x=\"34.7588671875\" y=\"25.0\" dominant-baseline=\"middle\" text-anchor=\"middle\" font-size=\"14px\">(0, 0): </text><rect x=\"10.0\" y=\"55.0\" width=\"49.517734375\" height=\"40\" stroke=\"black\" fill=\"white\" stroke-width=\"0\" /><text x=\"34.7588671875\" y=\"75.0\" dominant-baseline=\"middle\" text-anchor=\"middle\" font-size=\"14px\">(0, 1): </text><rect x=\"79.517734375\" y=\"55.0\" width=\"65.6929296875\" height=\"40\" stroke=\"black\" fill=\"white\" stroke-width=\"1\" /><text x=\"112.36419921875\" y=\"75.0\" dominant-baseline=\"middle\" text-anchor=\"middle\" font-size=\"14px\">Rz(th_0)</text><rect x=\"79.517734375\" y=\"5.0\" width=\"65.6929296875\" height=\"40\" stroke=\"black\" fill=\"white\" stroke-width=\"1\" /><text x=\"112.36419921875\" y=\"25.0\" dominant-baseline=\"middle\" text-anchor=\"middle\" font-size=\"14px\">Rz(th_3)</text><rect x=\"165.2106640625\" y=\"55.0\" width=\"66.629453125\" height=\"40\" stroke=\"black\" fill=\"white\" stroke-width=\"1\" /><text x=\"198.525390625\" y=\"75.0\" dominant-baseline=\"middle\" text-anchor=\"middle\" font-size=\"14px\">Rx(th_1)</text><rect x=\"165.2106640625\" y=\"5.0\" width=\"66.629453125\" height=\"40\" stroke=\"black\" fill=\"white\" stroke-width=\"1\" /><text x=\"198.525390625\" y=\"25.0\" dominant-baseline=\"middle\" text-anchor=\"middle\" font-size=\"14px\">Rx(th_4)</text><rect x=\"251.8401171875\" y=\"55.0\" width=\"65.6929296875\" height=\"40\" stroke=\"black\" fill=\"white\" stroke-width=\"1\" /><text x=\"284.68658203125\" y=\"75.0\" dominant-baseline=\"middle\" text-anchor=\"middle\" font-size=\"14px\">Rz(th_2)</text><rect x=\"251.8401171875\" y=\"5.0\" width=\"65.6929296875\" height=\"40\" stroke=\"black\" fill=\"white\" stroke-width=\"1\" /><text x=\"284.68658203125\" y=\"25.0\" dominant-baseline=\"middle\" text-anchor=\"middle\" font-size=\"14px\">Rz(th_5)</text></svg>"
      ],
      "text/plain": [
       "<cirq.contrib.svg.svg.SVGCircuit at 0x7f16b0155438>"
      ]
     },
     "metadata": {},
     "output_type": "display_data"
    },
    {
     "name": "stdout",
     "output_type": "stream",
     "text": [
      "Train on 1 samples\n",
      "Epoch 1/10\n",
      "1/1 [==============================] - 1s 1s/sample - loss: 15.1776\n",
      "Epoch 2/10\n",
      "1/1 [==============================] - 1s 605ms/sample - loss: 15.1774\n",
      "Epoch 3/10\n",
      "1/1 [==============================] - 0s 425ms/sample - loss: 15.1771\n",
      "Epoch 4/10\n",
      "1/1 [==============================] - 0s 428ms/sample - loss: 15.1754\n",
      "Epoch 5/10\n",
      "1/1 [==============================] - 1s 715ms/sample - loss: 15.1753\n",
      "Epoch 6/10\n",
      "1/1 [==============================] - 1s 749ms/sample - loss: 15.1761\n",
      "Epoch 7/10\n",
      "1/1 [==============================] - 1s 776ms/sample - loss: 15.1760\n",
      "Epoch 8/10\n",
      "1/1 [==============================] - 0s 441ms/sample - loss: 15.1754\n",
      "Epoch 9/10\n",
      "1/1 [==============================] - 0s 436ms/sample - loss: 15.1752\n",
      "Epoch 10/10\n",
      "1/1 [==============================] - 0s 462ms/sample - loss: 15.1752\n",
      "2:\n"
     ]
    },
    {
     "data": {
      "image/svg+xml": [
       "<svg xmlns=\"http://www.w3.org/2000/svg\" width=\"367.53304687499997\" height=\"100.0\"><line x1=\"34.7588671875\" x2=\"337.53304687499997\" y1=\"25.0\" y2=\"25.0\" stroke=\"#1967d2\" stroke-width=\"1\" /><line x1=\"34.7588671875\" x2=\"337.53304687499997\" y1=\"75.0\" y2=\"75.0\" stroke=\"#1967d2\" stroke-width=\"1\" /><rect x=\"10.0\" y=\"5.0\" width=\"49.517734375\" height=\"40\" stroke=\"black\" fill=\"white\" stroke-width=\"0\" /><text x=\"34.7588671875\" y=\"25.0\" dominant-baseline=\"middle\" text-anchor=\"middle\" font-size=\"14px\">(0, 0): </text><rect x=\"10.0\" y=\"55.0\" width=\"49.517734375\" height=\"40\" stroke=\"black\" fill=\"white\" stroke-width=\"0\" /><text x=\"34.7588671875\" y=\"75.0\" dominant-baseline=\"middle\" text-anchor=\"middle\" font-size=\"14px\">(0, 1): </text><rect x=\"79.517734375\" y=\"55.0\" width=\"65.6929296875\" height=\"40\" stroke=\"black\" fill=\"white\" stroke-width=\"1\" /><text x=\"112.36419921875\" y=\"75.0\" dominant-baseline=\"middle\" text-anchor=\"middle\" font-size=\"14px\">Rz(th_0)</text><rect x=\"79.517734375\" y=\"5.0\" width=\"65.6929296875\" height=\"40\" stroke=\"black\" fill=\"white\" stroke-width=\"1\" /><text x=\"112.36419921875\" y=\"25.0\" dominant-baseline=\"middle\" text-anchor=\"middle\" font-size=\"14px\">Rz(th_3)</text><rect x=\"165.2106640625\" y=\"55.0\" width=\"66.629453125\" height=\"40\" stroke=\"black\" fill=\"white\" stroke-width=\"1\" /><text x=\"198.525390625\" y=\"75.0\" dominant-baseline=\"middle\" text-anchor=\"middle\" font-size=\"14px\">Rx(th_1)</text><rect x=\"165.2106640625\" y=\"5.0\" width=\"66.629453125\" height=\"40\" stroke=\"black\" fill=\"white\" stroke-width=\"1\" /><text x=\"198.525390625\" y=\"25.0\" dominant-baseline=\"middle\" text-anchor=\"middle\" font-size=\"14px\">Rx(th_4)</text><rect x=\"251.8401171875\" y=\"55.0\" width=\"65.6929296875\" height=\"40\" stroke=\"black\" fill=\"white\" stroke-width=\"1\" /><text x=\"284.68658203125\" y=\"75.0\" dominant-baseline=\"middle\" text-anchor=\"middle\" font-size=\"14px\">Rz(th_2)</text><rect x=\"251.8401171875\" y=\"5.0\" width=\"65.6929296875\" height=\"40\" stroke=\"black\" fill=\"white\" stroke-width=\"1\" /><text x=\"284.68658203125\" y=\"25.0\" dominant-baseline=\"middle\" text-anchor=\"middle\" font-size=\"14px\">Rz(th_5)</text></svg>"
      ],
      "text/plain": [
       "<cirq.contrib.svg.svg.SVGCircuit at 0x7f16b28e44e0>"
      ]
     },
     "metadata": {},
     "output_type": "display_data"
    },
    {
     "name": "stderr",
     "output_type": "stream",
     "text": [
      "\r",
      " 80%|████████  | 8/10 [00:57<00:14,  7.14s/it]"
     ]
    },
    {
     "name": "stdout",
     "output_type": "stream",
     "text": [
      "\n",
      "%%%%%%%%%%%%%%%%%%%%%%%%%\n",
      "new iteration:  8\n",
      "1:\n"
     ]
    },
    {
     "data": {
      "image/svg+xml": [
       "<svg xmlns=\"http://www.w3.org/2000/svg\" width=\"367.53304687499997\" height=\"100.0\"><line x1=\"34.7588671875\" x2=\"337.53304687499997\" y1=\"25.0\" y2=\"25.0\" stroke=\"#1967d2\" stroke-width=\"1\" /><line x1=\"34.7588671875\" x2=\"337.53304687499997\" y1=\"75.0\" y2=\"75.0\" stroke=\"#1967d2\" stroke-width=\"1\" /><rect x=\"10.0\" y=\"5.0\" width=\"49.517734375\" height=\"40\" stroke=\"black\" fill=\"white\" stroke-width=\"0\" /><text x=\"34.7588671875\" y=\"25.0\" dominant-baseline=\"middle\" text-anchor=\"middle\" font-size=\"14px\">(0, 0): </text><rect x=\"10.0\" y=\"55.0\" width=\"49.517734375\" height=\"40\" stroke=\"black\" fill=\"white\" stroke-width=\"0\" /><text x=\"34.7588671875\" y=\"75.0\" dominant-baseline=\"middle\" text-anchor=\"middle\" font-size=\"14px\">(0, 1): </text><rect x=\"79.517734375\" y=\"55.0\" width=\"65.6929296875\" height=\"40\" stroke=\"black\" fill=\"white\" stroke-width=\"1\" /><text x=\"112.36419921875\" y=\"75.0\" dominant-baseline=\"middle\" text-anchor=\"middle\" font-size=\"14px\">Rz(th_0)</text><rect x=\"79.517734375\" y=\"5.0\" width=\"65.6929296875\" height=\"40\" stroke=\"black\" fill=\"white\" stroke-width=\"1\" /><text x=\"112.36419921875\" y=\"25.0\" dominant-baseline=\"middle\" text-anchor=\"middle\" font-size=\"14px\">Rz(th_3)</text><rect x=\"165.2106640625\" y=\"55.0\" width=\"66.629453125\" height=\"40\" stroke=\"black\" fill=\"white\" stroke-width=\"1\" /><text x=\"198.525390625\" y=\"75.0\" dominant-baseline=\"middle\" text-anchor=\"middle\" font-size=\"14px\">Rx(th_1)</text><rect x=\"165.2106640625\" y=\"5.0\" width=\"66.629453125\" height=\"40\" stroke=\"black\" fill=\"white\" stroke-width=\"1\" /><text x=\"198.525390625\" y=\"25.0\" dominant-baseline=\"middle\" text-anchor=\"middle\" font-size=\"14px\">Rx(th_4)</text><rect x=\"251.8401171875\" y=\"55.0\" width=\"65.6929296875\" height=\"40\" stroke=\"black\" fill=\"white\" stroke-width=\"1\" /><text x=\"284.68658203125\" y=\"75.0\" dominant-baseline=\"middle\" text-anchor=\"middle\" font-size=\"14px\">Rz(th_2)</text><rect x=\"251.8401171875\" y=\"5.0\" width=\"65.6929296875\" height=\"40\" stroke=\"black\" fill=\"white\" stroke-width=\"1\" /><text x=\"284.68658203125\" y=\"25.0\" dominant-baseline=\"middle\" text-anchor=\"middle\" font-size=\"14px\">Rz(th_5)</text></svg>"
      ],
      "text/plain": [
       "<cirq.contrib.svg.svg.SVGCircuit at 0x7f16807422e8>"
      ]
     },
     "metadata": {},
     "output_type": "display_data"
    },
    {
     "name": "stdout",
     "output_type": "stream",
     "text": [
      "Train on 1 samples\n",
      "Epoch 1/10\n",
      "1/1 [==============================] - 1s 1s/sample - loss: 15.1779\n",
      "Epoch 2/10\n",
      "1/1 [==============================] - 0s 431ms/sample - loss: 15.1772\n",
      "Epoch 3/10\n",
      "1/1 [==============================] - 0s 443ms/sample - loss: 15.1775\n",
      "Epoch 4/10\n",
      "1/1 [==============================] - 1s 566ms/sample - loss: 15.1758\n",
      "Epoch 5/10\n",
      "1/1 [==============================] - 1s 630ms/sample - loss: 15.1751\n",
      "Epoch 6/10\n",
      "1/1 [==============================] - 1s 782ms/sample - loss: 15.1758\n",
      "Epoch 7/10\n",
      "1/1 [==============================] - 1s 696ms/sample - loss: 15.1761\n",
      "Epoch 8/10\n",
      "1/1 [==============================] - 1s 692ms/sample - loss: 15.1756\n",
      "Epoch 9/10\n",
      "1/1 [==============================] - 1s 564ms/sample - loss: 15.1753\n",
      "Epoch 10/10\n",
      "1/1 [==============================] - 1s 507ms/sample - loss: 15.1753\n",
      "2:\n"
     ]
    },
    {
     "data": {
      "image/svg+xml": [
       "<svg xmlns=\"http://www.w3.org/2000/svg\" width=\"367.53304687499997\" height=\"100.0\"><line x1=\"34.7588671875\" x2=\"337.53304687499997\" y1=\"25.0\" y2=\"25.0\" stroke=\"#1967d2\" stroke-width=\"1\" /><line x1=\"34.7588671875\" x2=\"337.53304687499997\" y1=\"75.0\" y2=\"75.0\" stroke=\"#1967d2\" stroke-width=\"1\" /><rect x=\"10.0\" y=\"5.0\" width=\"49.517734375\" height=\"40\" stroke=\"black\" fill=\"white\" stroke-width=\"0\" /><text x=\"34.7588671875\" y=\"25.0\" dominant-baseline=\"middle\" text-anchor=\"middle\" font-size=\"14px\">(0, 0): </text><rect x=\"10.0\" y=\"55.0\" width=\"49.517734375\" height=\"40\" stroke=\"black\" fill=\"white\" stroke-width=\"0\" /><text x=\"34.7588671875\" y=\"75.0\" dominant-baseline=\"middle\" text-anchor=\"middle\" font-size=\"14px\">(0, 1): </text><rect x=\"79.517734375\" y=\"55.0\" width=\"65.6929296875\" height=\"40\" stroke=\"black\" fill=\"white\" stroke-width=\"1\" /><text x=\"112.36419921875\" y=\"75.0\" dominant-baseline=\"middle\" text-anchor=\"middle\" font-size=\"14px\">Rz(th_0)</text><rect x=\"79.517734375\" y=\"5.0\" width=\"65.6929296875\" height=\"40\" stroke=\"black\" fill=\"white\" stroke-width=\"1\" /><text x=\"112.36419921875\" y=\"25.0\" dominant-baseline=\"middle\" text-anchor=\"middle\" font-size=\"14px\">Rz(th_3)</text><rect x=\"165.2106640625\" y=\"55.0\" width=\"66.629453125\" height=\"40\" stroke=\"black\" fill=\"white\" stroke-width=\"1\" /><text x=\"198.525390625\" y=\"75.0\" dominant-baseline=\"middle\" text-anchor=\"middle\" font-size=\"14px\">Rx(th_1)</text><rect x=\"165.2106640625\" y=\"5.0\" width=\"66.629453125\" height=\"40\" stroke=\"black\" fill=\"white\" stroke-width=\"1\" /><text x=\"198.525390625\" y=\"25.0\" dominant-baseline=\"middle\" text-anchor=\"middle\" font-size=\"14px\">Rx(th_4)</text><rect x=\"251.8401171875\" y=\"55.0\" width=\"65.6929296875\" height=\"40\" stroke=\"black\" fill=\"white\" stroke-width=\"1\" /><text x=\"284.68658203125\" y=\"75.0\" dominant-baseline=\"middle\" text-anchor=\"middle\" font-size=\"14px\">Rz(th_2)</text><rect x=\"251.8401171875\" y=\"5.0\" width=\"65.6929296875\" height=\"40\" stroke=\"black\" fill=\"white\" stroke-width=\"1\" /><text x=\"284.68658203125\" y=\"25.0\" dominant-baseline=\"middle\" text-anchor=\"middle\" font-size=\"14px\">Rz(th_5)</text></svg>"
      ],
      "text/plain": [
       "<cirq.contrib.svg.svg.SVGCircuit at 0x7f168072bcf8>"
      ]
     },
     "metadata": {},
     "output_type": "display_data"
    },
    {
     "name": "stderr",
     "output_type": "stream",
     "text": [
      "\r",
      " 90%|█████████ | 9/10 [01:04<00:06,  7.00s/it]"
     ]
    },
    {
     "name": "stdout",
     "output_type": "stream",
     "text": [
      "\n",
      "%%%%%%%%%%%%%%%%%%%%%%%%%\n",
      "new iteration:  9\n",
      "1:\n"
     ]
    },
    {
     "data": {
      "image/svg+xml": [
       "<svg xmlns=\"http://www.w3.org/2000/svg\" width=\"367.53304687499997\" height=\"100.0\"><line x1=\"34.7588671875\" x2=\"337.53304687499997\" y1=\"25.0\" y2=\"25.0\" stroke=\"#1967d2\" stroke-width=\"1\" /><line x1=\"34.7588671875\" x2=\"337.53304687499997\" y1=\"75.0\" y2=\"75.0\" stroke=\"#1967d2\" stroke-width=\"1\" /><rect x=\"10.0\" y=\"5.0\" width=\"49.517734375\" height=\"40\" stroke=\"black\" fill=\"white\" stroke-width=\"0\" /><text x=\"34.7588671875\" y=\"25.0\" dominant-baseline=\"middle\" text-anchor=\"middle\" font-size=\"14px\">(0, 0): </text><rect x=\"10.0\" y=\"55.0\" width=\"49.517734375\" height=\"40\" stroke=\"black\" fill=\"white\" stroke-width=\"0\" /><text x=\"34.7588671875\" y=\"75.0\" dominant-baseline=\"middle\" text-anchor=\"middle\" font-size=\"14px\">(0, 1): </text><rect x=\"79.517734375\" y=\"55.0\" width=\"65.6929296875\" height=\"40\" stroke=\"black\" fill=\"white\" stroke-width=\"1\" /><text x=\"112.36419921875\" y=\"75.0\" dominant-baseline=\"middle\" text-anchor=\"middle\" font-size=\"14px\">Rz(th_0)</text><rect x=\"79.517734375\" y=\"5.0\" width=\"65.6929296875\" height=\"40\" stroke=\"black\" fill=\"white\" stroke-width=\"1\" /><text x=\"112.36419921875\" y=\"25.0\" dominant-baseline=\"middle\" text-anchor=\"middle\" font-size=\"14px\">Rz(th_3)</text><rect x=\"165.2106640625\" y=\"55.0\" width=\"66.629453125\" height=\"40\" stroke=\"black\" fill=\"white\" stroke-width=\"1\" /><text x=\"198.525390625\" y=\"75.0\" dominant-baseline=\"middle\" text-anchor=\"middle\" font-size=\"14px\">Rx(th_1)</text><rect x=\"165.2106640625\" y=\"5.0\" width=\"66.629453125\" height=\"40\" stroke=\"black\" fill=\"white\" stroke-width=\"1\" /><text x=\"198.525390625\" y=\"25.0\" dominant-baseline=\"middle\" text-anchor=\"middle\" font-size=\"14px\">Rx(th_4)</text><rect x=\"251.8401171875\" y=\"55.0\" width=\"65.6929296875\" height=\"40\" stroke=\"black\" fill=\"white\" stroke-width=\"1\" /><text x=\"284.68658203125\" y=\"75.0\" dominant-baseline=\"middle\" text-anchor=\"middle\" font-size=\"14px\">Rz(th_2)</text><rect x=\"251.8401171875\" y=\"5.0\" width=\"65.6929296875\" height=\"40\" stroke=\"black\" fill=\"white\" stroke-width=\"1\" /><text x=\"284.68658203125\" y=\"25.0\" dominant-baseline=\"middle\" text-anchor=\"middle\" font-size=\"14px\">Rz(th_5)</text></svg>"
      ],
      "text/plain": [
       "<cirq.contrib.svg.svg.SVGCircuit at 0x7f1680752860>"
      ]
     },
     "metadata": {},
     "output_type": "display_data"
    },
    {
     "name": "stdout",
     "output_type": "stream",
     "text": [
      "Train on 1 samples\n",
      "Epoch 1/10\n",
      "1/1 [==============================] - 1s 1s/sample - loss: 15.5103\n",
      "Epoch 2/10\n",
      "1/1 [==============================] - 1s 753ms/sample - loss: 15.5225\n",
      "Epoch 3/10\n",
      "1/1 [==============================] - 1s 573ms/sample - loss: 15.5045\n",
      "Epoch 4/10\n",
      "1/1 [==============================] - 1s 551ms/sample - loss: 15.4848\n",
      "Epoch 5/10\n",
      "1/1 [==============================] - 1s 571ms/sample - loss: 15.4550\n",
      "Epoch 6/10\n",
      "1/1 [==============================] - 1s 841ms/sample - loss: 15.4210\n",
      "Epoch 7/10\n",
      "1/1 [==============================] - 1s 794ms/sample - loss: 15.3974\n",
      "Epoch 8/10\n",
      "1/1 [==============================] - 1s 581ms/sample - loss: 15.3831\n",
      "Epoch 9/10\n",
      "1/1 [==============================] - 1s 895ms/sample - loss: 15.3716\n",
      "Epoch 10/10\n",
      "1/1 [==============================] - 1s 865ms/sample - loss: 15.3582\n",
      "2:\n"
     ]
    },
    {
     "data": {
      "image/svg+xml": [
       "<svg xmlns=\"http://www.w3.org/2000/svg\" width=\"367.53304687499997\" height=\"100.0\"><line x1=\"34.7588671875\" x2=\"337.53304687499997\" y1=\"25.0\" y2=\"25.0\" stroke=\"#1967d2\" stroke-width=\"1\" /><line x1=\"34.7588671875\" x2=\"337.53304687499997\" y1=\"75.0\" y2=\"75.0\" stroke=\"#1967d2\" stroke-width=\"1\" /><rect x=\"10.0\" y=\"5.0\" width=\"49.517734375\" height=\"40\" stroke=\"black\" fill=\"white\" stroke-width=\"0\" /><text x=\"34.7588671875\" y=\"25.0\" dominant-baseline=\"middle\" text-anchor=\"middle\" font-size=\"14px\">(0, 0): </text><rect x=\"10.0\" y=\"55.0\" width=\"49.517734375\" height=\"40\" stroke=\"black\" fill=\"white\" stroke-width=\"0\" /><text x=\"34.7588671875\" y=\"75.0\" dominant-baseline=\"middle\" text-anchor=\"middle\" font-size=\"14px\">(0, 1): </text><rect x=\"79.517734375\" y=\"55.0\" width=\"65.6929296875\" height=\"40\" stroke=\"black\" fill=\"white\" stroke-width=\"1\" /><text x=\"112.36419921875\" y=\"75.0\" dominant-baseline=\"middle\" text-anchor=\"middle\" font-size=\"14px\">Rz(th_0)</text><rect x=\"79.517734375\" y=\"5.0\" width=\"65.6929296875\" height=\"40\" stroke=\"black\" fill=\"white\" stroke-width=\"1\" /><text x=\"112.36419921875\" y=\"25.0\" dominant-baseline=\"middle\" text-anchor=\"middle\" font-size=\"14px\">Rz(th_3)</text><rect x=\"165.2106640625\" y=\"55.0\" width=\"66.629453125\" height=\"40\" stroke=\"black\" fill=\"white\" stroke-width=\"1\" /><text x=\"198.525390625\" y=\"75.0\" dominant-baseline=\"middle\" text-anchor=\"middle\" font-size=\"14px\">Rx(th_1)</text><rect x=\"165.2106640625\" y=\"5.0\" width=\"66.629453125\" height=\"40\" stroke=\"black\" fill=\"white\" stroke-width=\"1\" /><text x=\"198.525390625\" y=\"25.0\" dominant-baseline=\"middle\" text-anchor=\"middle\" font-size=\"14px\">Rx(th_4)</text><rect x=\"251.8401171875\" y=\"55.0\" width=\"65.6929296875\" height=\"40\" stroke=\"black\" fill=\"white\" stroke-width=\"1\" /><text x=\"284.68658203125\" y=\"75.0\" dominant-baseline=\"middle\" text-anchor=\"middle\" font-size=\"14px\">Rz(th_2)</text><rect x=\"251.8401171875\" y=\"5.0\" width=\"65.6929296875\" height=\"40\" stroke=\"black\" fill=\"white\" stroke-width=\"1\" /><text x=\"284.68658203125\" y=\"25.0\" dominant-baseline=\"middle\" text-anchor=\"middle\" font-size=\"14px\">Rz(th_5)</text></svg>"
      ],
      "text/plain": [
       "<cirq.contrib.svg.svg.SVGCircuit at 0x7f16b0297240>"
      ]
     },
     "metadata": {},
     "output_type": "display_data"
    },
    {
     "name": "stderr",
     "output_type": "stream",
     "text": [
      "100%|██████████| 10/10 [01:12<00:00,  7.29s/it]"
     ]
    },
    {
     "name": "stdout",
     "output_type": "stream",
     "text": [
      "[array(-0.6508943, dtype=float32), array(-0.6506997, dtype=float32), array(-0.6506997, dtype=float32), array(-0.6506997, dtype=float32), array(-0.6506997, dtype=float32), array(-0.6506997, dtype=float32), array(-0.6506997, dtype=float32), array(-0.6506997, dtype=float32), array(-0.6506997, dtype=float32), array(-0.6506997, dtype=float32)]\n",
      "dep 0.01\n",
      "about to fit!\n",
      "Train on 1 samples\n",
      "Epoch 1/10\n"
     ]
    },
    {
     "name": "stderr",
     "output_type": "stream",
     "text": [
      "\n"
     ]
    },
    {
     "name": "stdout",
     "output_type": "stream",
     "text": [
      "1/1 [==============================] - 1s 937ms/sample - loss: 14.1947\n",
      "Epoch 2/10\n",
      "1/1 [==============================] - 0s 373ms/sample - loss: 14.1963\n",
      "Epoch 3/10\n",
      "1/1 [==============================] - 0s 471ms/sample - loss: 14.1946\n",
      "Epoch 4/10\n",
      "1/1 [==============================] - 0s 403ms/sample - loss: 14.1945\n",
      "Epoch 5/10\n",
      "1/1 [==============================] - 0s 382ms/sample - loss: 14.1952\n",
      "Epoch 6/10\n",
      "1/1 [==============================] - 0s 354ms/sample - loss: 14.1949\n",
      "Epoch 7/10\n",
      "1/1 [==============================] - 0s 355ms/sample - loss: 14.1943\n",
      "Epoch 8/10\n",
      "1/1 [==============================] - 0s 359ms/sample - loss: 14.1944\n",
      "Epoch 9/10\n",
      "1/1 [==============================] - 0s 398ms/sample - loss: 14.1948\n",
      "Epoch 10/10\n",
      "1/1 [==============================] - 0s 393ms/sample - loss: 14.1948\n"
     ]
    },
    {
     "name": "stderr",
     "output_type": "stream",
     "text": [
      "\r",
      "  0%|          | 0/10 [00:00<?, ?it/s]"
     ]
    },
    {
     "name": "stdout",
     "output_type": "stream",
     "text": [
      "\n",
      "%%%%%%%%%%%%%%%%%%%%%%%%%\n",
      "new iteration:  0\n",
      "1:\n"
     ]
    },
    {
     "data": {
      "image/svg+xml": [
       "<svg xmlns=\"http://www.w3.org/2000/svg\" width=\"367.53304687499997\" height=\"50.0\"><line x1=\"34.7588671875\" x2=\"337.53304687499997\" y1=\"25.0\" y2=\"25.0\" stroke=\"#1967d2\" stroke-width=\"1\" /><rect x=\"10.0\" y=\"5.0\" width=\"49.517734375\" height=\"40\" stroke=\"black\" fill=\"white\" stroke-width=\"0\" /><text x=\"34.7588671875\" y=\"25.0\" dominant-baseline=\"middle\" text-anchor=\"middle\" font-size=\"14px\">(0, 0): </text><rect x=\"79.517734375\" y=\"5.0\" width=\"65.6929296875\" height=\"40\" stroke=\"black\" fill=\"white\" stroke-width=\"1\" /><text x=\"112.36419921875\" y=\"25.0\" dominant-baseline=\"middle\" text-anchor=\"middle\" font-size=\"14px\">Rz(th_0)</text><rect x=\"165.2106640625\" y=\"5.0\" width=\"66.629453125\" height=\"40\" stroke=\"black\" fill=\"white\" stroke-width=\"1\" /><text x=\"198.525390625\" y=\"25.0\" dominant-baseline=\"middle\" text-anchor=\"middle\" font-size=\"14px\">Rx(th_1)</text><rect x=\"251.8401171875\" y=\"5.0\" width=\"65.6929296875\" height=\"40\" stroke=\"black\" fill=\"white\" stroke-width=\"1\" /><text x=\"284.68658203125\" y=\"25.0\" dominant-baseline=\"middle\" text-anchor=\"middle\" font-size=\"14px\">Rz(th_2)</text></svg>"
      ],
      "text/plain": [
       "<cirq.contrib.svg.svg.SVGCircuit at 0x7f16b00c2eb8>"
      ]
     },
     "metadata": {},
     "output_type": "display_data"
    },
    {
     "name": "stdout",
     "output_type": "stream",
     "text": [
      "Train on 1 samples\n",
      "Epoch 1/10\n",
      "1/1 [==============================] - 1s 1s/sample - loss: 14.3306\n",
      "Epoch 2/10\n",
      "1/1 [==============================] - 1s 762ms/sample - loss: 14.2282\n",
      "Epoch 3/10\n",
      "1/1 [==============================] - 1s 763ms/sample - loss: 14.0536\n",
      "Epoch 4/10\n",
      "1/1 [==============================] - 1s 798ms/sample - loss: 13.8530\n",
      "Epoch 5/10\n",
      "1/1 [==============================] - 1s 775ms/sample - loss: 13.6681\n",
      "Epoch 6/10\n",
      "1/1 [==============================] - 1s 599ms/sample - loss: 13.5470\n",
      "Epoch 7/10\n",
      "1/1 [==============================] - 1s 601ms/sample - loss: 13.5178\n",
      "Epoch 8/10\n",
      "1/1 [==============================] - 1s 596ms/sample - loss: 13.5324\n",
      "Epoch 9/10\n",
      "1/1 [==============================] - 1s 760ms/sample - loss: 13.5282\n",
      "Epoch 10/10\n",
      "1/1 [==============================] - 1s 779ms/sample - loss: 13.4998\n",
      "2:\n"
     ]
    },
    {
     "data": {
      "image/svg+xml": [
       "<svg xmlns=\"http://www.w3.org/2000/svg\" width=\"745.548359375\" height=\"100.0\"><line x1=\"34.7588671875\" x2=\"715.548359375\" y1=\"25.0\" y2=\"25.0\" stroke=\"#1967d2\" stroke-width=\"1\" /><line x1=\"34.7588671875\" x2=\"715.548359375\" y1=\"75.0\" y2=\"75.0\" stroke=\"#1967d2\" stroke-width=\"1\" /><line x1=\"99.517734375\" x2=\"99.517734375\" y1=\"25.0\" y2=\"75.0\" stroke=\"black\" stroke-width=\"3\" /><line x1=\"417.533046875\" x2=\"417.533046875\" y1=\"25.0\" y2=\"75.0\" stroke=\"black\" stroke-width=\"3\" /><rect x=\"10.0\" y=\"5.0\" width=\"49.517734375\" height=\"40\" stroke=\"black\" fill=\"white\" stroke-width=\"0\" /><text x=\"34.7588671875\" y=\"25.0\" dominant-baseline=\"middle\" text-anchor=\"middle\" font-size=\"14px\">(0, 0): </text><rect x=\"10.0\" y=\"55.0\" width=\"49.517734375\" height=\"40\" stroke=\"black\" fill=\"white\" stroke-width=\"0\" /><text x=\"34.7588671875\" y=\"75.0\" dominant-baseline=\"middle\" text-anchor=\"middle\" font-size=\"14px\">(0, 1): </text><circle cx=\"99.517734375\" cy=\"25.0\" r=\"10.0\" /><rect x=\"79.517734375\" y=\"55.0\" width=\"40\" height=\"40\" stroke=\"black\" fill=\"white\" stroke-width=\"1\" /><text x=\"99.517734375\" y=\"75.0\" dominant-baseline=\"middle\" text-anchor=\"middle\" font-size=\"18px\">X</text><rect x=\"139.517734375\" y=\"5.0\" width=\"65.6929296875\" height=\"40\" stroke=\"black\" fill=\"white\" stroke-width=\"1\" /><text x=\"172.36419921875\" y=\"25.0\" dominant-baseline=\"middle\" text-anchor=\"middle\" font-size=\"14px\">Rz(th_0)</text><rect x=\"139.517734375\" y=\"55.0\" width=\"65.6929296875\" height=\"40\" stroke=\"black\" fill=\"white\" stroke-width=\"1\" /><text x=\"172.36419921875\" y=\"75.0\" dominant-baseline=\"middle\" text-anchor=\"middle\" font-size=\"14px\">Rz(th_3)</text><rect x=\"225.2106640625\" y=\"5.0\" width=\"66.629453125\" height=\"40\" stroke=\"black\" fill=\"white\" stroke-width=\"1\" /><text x=\"258.525390625\" y=\"25.0\" dominant-baseline=\"middle\" text-anchor=\"middle\" font-size=\"14px\">Rx(th_1)</text><rect x=\"225.2106640625\" y=\"55.0\" width=\"66.629453125\" height=\"40\" stroke=\"black\" fill=\"white\" stroke-width=\"1\" /><text x=\"258.525390625\" y=\"75.0\" dominant-baseline=\"middle\" text-anchor=\"middle\" font-size=\"14px\">Rx(th_4)</text><rect x=\"311.8401171875\" y=\"5.0\" width=\"65.6929296875\" height=\"40\" stroke=\"black\" fill=\"white\" stroke-width=\"1\" /><text x=\"344.68658203125005\" y=\"25.0\" dominant-baseline=\"middle\" text-anchor=\"middle\" font-size=\"14px\">Rz(th_2)</text><rect x=\"311.8401171875\" y=\"55.0\" width=\"65.6929296875\" height=\"40\" stroke=\"black\" fill=\"white\" stroke-width=\"1\" /><text x=\"344.68658203125005\" y=\"75.0\" dominant-baseline=\"middle\" text-anchor=\"middle\" font-size=\"14px\">Rz(th_5)</text><circle cx=\"417.533046875\" cy=\"25.0\" r=\"10.0\" /><rect x=\"397.533046875\" y=\"55.0\" width=\"40\" height=\"40\" stroke=\"black\" fill=\"white\" stroke-width=\"1\" /><text x=\"417.533046875\" y=\"75.0\" dominant-baseline=\"middle\" text-anchor=\"middle\" font-size=\"18px\">X</text><rect x=\"457.53304687499997\" y=\"5.0\" width=\"65.6929296875\" height=\"40\" stroke=\"black\" fill=\"white\" stroke-width=\"1\" /><text x=\"490.37951171875\" y=\"25.0\" dominant-baseline=\"middle\" text-anchor=\"middle\" font-size=\"14px\">Rz(th_6)</text><rect x=\"543.2259765625\" y=\"5.0\" width=\"66.629453125\" height=\"40\" stroke=\"black\" fill=\"white\" stroke-width=\"1\" /><text x=\"576.540703125\" y=\"25.0\" dominant-baseline=\"middle\" text-anchor=\"middle\" font-size=\"14px\">Rx(th_7)</text><rect x=\"629.8554296875\" y=\"5.0\" width=\"65.6929296875\" height=\"40\" stroke=\"black\" fill=\"white\" stroke-width=\"1\" /><text x=\"662.70189453125\" y=\"25.0\" dominant-baseline=\"middle\" text-anchor=\"middle\" font-size=\"14px\">Rz(th_8)</text></svg>"
      ],
      "text/plain": [
       "<cirq.contrib.svg.svg.SVGCircuit at 0x7f16b01da8d0>"
      ]
     },
     "metadata": {},
     "output_type": "display_data"
    },
    {
     "name": "stdout",
     "output_type": "stream",
     "text": [
      "accepted\n",
      "3: \n"
     ]
    },
    {
     "data": {
      "image/svg+xml": [
       "<svg xmlns=\"http://www.w3.org/2000/svg\" width=\"745.548359375\" height=\"100.0\"><line x1=\"34.7588671875\" x2=\"715.548359375\" y1=\"25.0\" y2=\"25.0\" stroke=\"#1967d2\" stroke-width=\"1\" /><line x1=\"34.7588671875\" x2=\"715.548359375\" y1=\"75.0\" y2=\"75.0\" stroke=\"#1967d2\" stroke-width=\"1\" /><line x1=\"99.517734375\" x2=\"99.517734375\" y1=\"25.0\" y2=\"75.0\" stroke=\"black\" stroke-width=\"3\" /><line x1=\"417.533046875\" x2=\"417.533046875\" y1=\"25.0\" y2=\"75.0\" stroke=\"black\" stroke-width=\"3\" /><rect x=\"10.0\" y=\"5.0\" width=\"49.517734375\" height=\"40\" stroke=\"black\" fill=\"white\" stroke-width=\"0\" /><text x=\"34.7588671875\" y=\"25.0\" dominant-baseline=\"middle\" text-anchor=\"middle\" font-size=\"14px\">(0, 0): </text><rect x=\"10.0\" y=\"55.0\" width=\"49.517734375\" height=\"40\" stroke=\"black\" fill=\"white\" stroke-width=\"0\" /><text x=\"34.7588671875\" y=\"75.0\" dominant-baseline=\"middle\" text-anchor=\"middle\" font-size=\"14px\">(0, 1): </text><circle cx=\"99.517734375\" cy=\"25.0\" r=\"10.0\" /><rect x=\"79.517734375\" y=\"55.0\" width=\"40\" height=\"40\" stroke=\"black\" fill=\"white\" stroke-width=\"1\" /><text x=\"99.517734375\" y=\"75.0\" dominant-baseline=\"middle\" text-anchor=\"middle\" font-size=\"18px\">X</text><rect x=\"139.517734375\" y=\"5.0\" width=\"65.6929296875\" height=\"40\" stroke=\"black\" fill=\"white\" stroke-width=\"1\" /><text x=\"172.36419921875\" y=\"25.0\" dominant-baseline=\"middle\" text-anchor=\"middle\" font-size=\"14px\">Rz(th_0)</text><rect x=\"225.2106640625\" y=\"5.0\" width=\"66.629453125\" height=\"40\" stroke=\"black\" fill=\"white\" stroke-width=\"1\" /><text x=\"258.525390625\" y=\"25.0\" dominant-baseline=\"middle\" text-anchor=\"middle\" font-size=\"14px\">Rx(th_1)</text><rect x=\"311.8401171875\" y=\"5.0\" width=\"65.6929296875\" height=\"40\" stroke=\"black\" fill=\"white\" stroke-width=\"1\" /><text x=\"344.68658203125005\" y=\"25.0\" dominant-baseline=\"middle\" text-anchor=\"middle\" font-size=\"14px\">Rz(th_2)</text><circle cx=\"417.533046875\" cy=\"25.0\" r=\"10.0\" /><rect x=\"397.533046875\" y=\"55.0\" width=\"40\" height=\"40\" stroke=\"black\" fill=\"white\" stroke-width=\"1\" /><text x=\"417.533046875\" y=\"75.0\" dominant-baseline=\"middle\" text-anchor=\"middle\" font-size=\"18px\">X</text><rect x=\"457.53304687499997\" y=\"5.0\" width=\"65.6929296875\" height=\"40\" stroke=\"black\" fill=\"white\" stroke-width=\"1\" /><text x=\"490.37951171875\" y=\"25.0\" dominant-baseline=\"middle\" text-anchor=\"middle\" font-size=\"14px\">Rz(th_3)</text><rect x=\"543.2259765625\" y=\"5.0\" width=\"66.629453125\" height=\"40\" stroke=\"black\" fill=\"white\" stroke-width=\"1\" /><text x=\"576.540703125\" y=\"25.0\" dominant-baseline=\"middle\" text-anchor=\"middle\" font-size=\"14px\">Rx(th_4)</text><rect x=\"629.8554296875\" y=\"5.0\" width=\"65.6929296875\" height=\"40\" stroke=\"black\" fill=\"white\" stroke-width=\"1\" /><text x=\"662.70189453125\" y=\"25.0\" dominant-baseline=\"middle\" text-anchor=\"middle\" font-size=\"14px\">Rz(th_5)</text></svg>"
      ],
      "text/plain": [
       "<cirq.contrib.svg.svg.SVGCircuit at 0x7f16b01cc940>"
      ]
     },
     "metadata": {},
     "output_type": "display_data"
    },
    {
     "name": "stdout",
     "output_type": "stream",
     "text": [
      "about to simplify\n",
      "actually simplified!: running opt\n",
      "about to fit!\n",
      "Train on 1 samples\n",
      "Epoch 1/200\n",
      "1/1 [==============================] - 1s 1s/sample - loss: 14.3309\n",
      "Epoch 2/200\n",
      "1/1 [==============================] - 0s 485ms/sample - loss: 14.3234\n",
      "Epoch 3/200\n",
      "1/1 [==============================] - 1s 659ms/sample - loss: 14.3174\n",
      "Epoch 4/200\n",
      "1/1 [==============================] - 0s 497ms/sample - loss: 14.3128\n",
      "Epoch 5/200\n",
      "1/1 [==============================] - 0s 487ms/sample - loss: 14.3094\n",
      "Epoch 6/200\n",
      "1/1 [==============================] - 1s 507ms/sample - loss: 14.3068\n",
      "Epoch 7/200\n",
      "1/1 [==============================] - 1s 657ms/sample - loss: 14.3045\n",
      "Epoch 8/200\n",
      "1/1 [==============================] - 1s 506ms/sample - loss: 14.3017\n",
      "Epoch 9/200\n",
      "1/1 [==============================] - 0s 487ms/sample - loss: 14.2982\n",
      "Epoch 10/200\n",
      "1/1 [==============================] - 0s 488ms/sample - loss: 14.2937\n",
      "Epoch 11/200\n",
      "1/1 [==============================] - 1s 660ms/sample - loss: 14.2882\n",
      "Epoch 12/200\n",
      "1/1 [==============================] - 1s 502ms/sample - loss: 14.2816\n",
      "Epoch 13/200\n",
      "1/1 [==============================] - 1s 668ms/sample - loss: 14.2738\n",
      "Epoch 14/200\n",
      "1/1 [==============================] - 0s 494ms/sample - loss: 14.2649\n",
      "Epoch 15/200\n",
      "1/1 [==============================] - 1s 510ms/sample - loss: 14.2548\n",
      "Epoch 16/200\n",
      "1/1 [==============================] - 0s 500ms/sample - loss: 14.2435\n",
      "Epoch 17/200\n",
      "1/1 [==============================] - 0s 485ms/sample - loss: 14.2310\n",
      "Epoch 18/200\n",
      "1/1 [==============================] - 0s 453ms/sample - loss: 14.2172\n",
      "Epoch 19/200\n",
      "1/1 [==============================] - 0s 496ms/sample - loss: 14.2022\n",
      "Epoch 20/200\n",
      "1/1 [==============================] - 1s 501ms/sample - loss: 14.1859\n",
      "Epoch 21/200\n",
      "1/1 [==============================] - 1s 501ms/sample - loss: 14.1685\n",
      "Epoch 22/200\n",
      "1/1 [==============================] - 0s 491ms/sample - loss: 14.1499\n",
      "Epoch 23/200\n",
      "1/1 [==============================] - 0s 495ms/sample - loss: 14.1302\n",
      "Epoch 24/200\n",
      "1/1 [==============================] - 0s 489ms/sample - loss: 14.1094\n",
      "Epoch 25/200\n",
      "1/1 [==============================] - 0s 482ms/sample - loss: 14.0876\n",
      "Epoch 26/200\n",
      "1/1 [==============================] - 0s 488ms/sample - loss: 14.0648\n",
      "Epoch 27/200\n",
      "1/1 [==============================] - 0s 489ms/sample - loss: 14.0412\n",
      "Epoch 28/200\n",
      "1/1 [==============================] - 0s 495ms/sample - loss: 14.0168\n",
      "Epoch 29/200\n",
      "1/1 [==============================] - 0s 495ms/sample - loss: 13.9918\n",
      "Epoch 30/200\n",
      "1/1 [==============================] - 1s 685ms/sample - loss: 13.9662\n",
      "Epoch 31/200\n",
      "1/1 [==============================] - 0s 499ms/sample - loss: 13.9402\n",
      "Epoch 32/200\n",
      "1/1 [==============================] - 0s 491ms/sample - loss: 13.9139\n",
      "Epoch 33/200\n",
      "1/1 [==============================] - 1s 530ms/sample - loss: 13.8873\n",
      "Epoch 34/200\n",
      "1/1 [==============================] - 0s 492ms/sample - loss: 13.8608\n",
      "Epoch 35/200\n",
      "1/1 [==============================] - 1s 507ms/sample - loss: 13.8343\n",
      "Epoch 36/200\n",
      "1/1 [==============================] - 0s 491ms/sample - loss: 13.8081\n",
      "Epoch 37/200\n",
      "1/1 [==============================] - 1s 515ms/sample - loss: 13.7822\n",
      "Epoch 38/200\n",
      "1/1 [==============================] - 0s 472ms/sample - loss: 13.7569\n",
      "Epoch 39/200\n",
      "1/1 [==============================] - 0s 484ms/sample - loss: 13.7322\n",
      "Epoch 40/200\n",
      "1/1 [==============================] - 1s 527ms/sample - loss: 13.7082\n",
      "Epoch 41/200\n",
      "1/1 [==============================] - 1s 661ms/sample - loss: 13.6852\n",
      "Epoch 42/200\n",
      "1/1 [==============================] - 0s 451ms/sample - loss: 13.6631\n",
      "Epoch 43/200\n",
      "1/1 [==============================] - 0s 465ms/sample - loss: 13.6422\n",
      "Epoch 44/200\n",
      "1/1 [==============================] - 0s 455ms/sample - loss: 13.6224\n",
      "Epoch 45/200\n",
      "1/1 [==============================] - 1s 517ms/sample - loss: 13.6038\n",
      "Epoch 46/200\n",
      "1/1 [==============================] - 0s 473ms/sample - loss: 13.5864\n",
      "Epoch 47/200\n",
      "1/1 [==============================] - 0s 493ms/sample - loss: 13.5703\n",
      "Epoch 48/200\n",
      "1/1 [==============================] - 1s 503ms/sample - loss: 13.5555\n",
      "Epoch 49/200\n",
      "1/1 [==============================] - 1s 500ms/sample - loss: 13.5418\n",
      "Epoch 50/200\n",
      "1/1 [==============================] - 1s 502ms/sample - loss: 13.5294\n",
      "Epoch 51/200\n",
      "1/1 [==============================] - 0s 489ms/sample - loss: 13.5180\n",
      "Epoch 52/200\n",
      "1/1 [==============================] - 0s 473ms/sample - loss: 13.5077\n",
      "Epoch 53/200\n",
      "1/1 [==============================] - 0s 495ms/sample - loss: 13.4983\n",
      "Epoch 54/200\n",
      "1/1 [==============================] - 1s 553ms/sample - loss: 13.4897\n",
      "Epoch 55/200\n",
      "1/1 [==============================] - 0s 449ms/sample - loss: 13.4818\n",
      "Epoch 56/200\n",
      "1/1 [==============================] - 0s 468ms/sample - loss: 13.4745\n",
      "Epoch 57/200\n",
      "1/1 [==============================] - 0s 453ms/sample - loss: 13.4677\n",
      "Epoch 58/200\n",
      "1/1 [==============================] - 1s 512ms/sample - loss: 13.4613\n",
      "Epoch 59/200\n",
      "1/1 [==============================] - 1s 577ms/sample - loss: 13.4552\n",
      "Epoch 60/200\n",
      "1/1 [==============================] - 0s 484ms/sample - loss: 13.4495\n",
      "Epoch 61/200\n",
      "1/1 [==============================] - 1s 508ms/sample - loss: 13.4439\n",
      "Epoch 62/200\n",
      "1/1 [==============================] - 0s 484ms/sample - loss: 13.4385\n",
      "Epoch 63/200\n",
      "1/1 [==============================] - 1s 513ms/sample - loss: 13.4334\n",
      "Epoch 64/200\n",
      "1/1 [==============================] - 0s 491ms/sample - loss: 13.4284\n",
      "Epoch 65/200\n",
      "1/1 [==============================] - 0s 488ms/sample - loss: 13.4235\n",
      "Epoch 66/200\n",
      "1/1 [==============================] - 0s 485ms/sample - loss: 13.4189\n",
      "Epoch 67/200\n",
      "1/1 [==============================] - 1s 510ms/sample - loss: 13.4145\n",
      "Epoch 68/200\n",
      "1/1 [==============================] - 1s 512ms/sample - loss: 13.4104\n",
      "Epoch 69/200\n",
      "1/1 [==============================] - 1s 504ms/sample - loss: 13.4065\n",
      "Epoch 70/200\n",
      "1/1 [==============================] - 1s 504ms/sample - loss: 13.4029\n",
      "Epoch 71/200\n",
      "1/1 [==============================] - 0s 494ms/sample - loss: 13.3996\n",
      "Epoch 72/200\n",
      "1/1 [==============================] - 0s 492ms/sample - loss: 13.3965\n",
      "Epoch 73/200\n",
      "1/1 [==============================] - 1s 518ms/sample - loss: 13.3938\n",
      "Epoch 74/200\n",
      "1/1 [==============================] - 0s 489ms/sample - loss: 13.3914\n",
      "Epoch 75/200\n",
      "1/1 [==============================] - 1s 528ms/sample - loss: 13.3893\n",
      "Epoch 76/200\n",
      "1/1 [==============================] - 0s 450ms/sample - loss: 13.3874\n",
      "Epoch 77/200\n",
      "1/1 [==============================] - 1s 516ms/sample - loss: 13.3858\n",
      "Epoch 78/200\n",
      "1/1 [==============================] - 1s 518ms/sample - loss: 13.3843\n",
      "Epoch 79/200\n",
      "1/1 [==============================] - 0s 447ms/sample - loss: 13.3831\n",
      "Epoch 80/200\n",
      "1/1 [==============================] - 0s 497ms/sample - loss: 13.3821\n",
      "Epoch 81/200\n",
      "1/1 [==============================] - 1s 503ms/sample - loss: 13.3811\n",
      "Epoch 82/200\n",
      "1/1 [==============================] - 0s 481ms/sample - loss: 13.3803\n",
      "Epoch 83/200\n",
      "1/1 [==============================] - 0s 448ms/sample - loss: 13.3796\n",
      "Epoch 84/200\n",
      "1/1 [==============================] - 0s 476ms/sample - loss: 13.3789\n",
      "Epoch 85/200\n",
      "1/1 [==============================] - 1s 542ms/sample - loss: 13.3783\n",
      "Epoch 86/200\n",
      "1/1 [==============================] - 0s 491ms/sample - loss: 13.3778\n",
      "Epoch 87/200\n",
      "1/1 [==============================] - 0s 444ms/sample - loss: 13.3773\n",
      "Epoch 88/200\n",
      "1/1 [==============================] - 1s 546ms/sample - loss: 13.3768\n",
      "Epoch 89/200\n",
      "1/1 [==============================] - 0s 496ms/sample - loss: 13.3764\n",
      "Epoch 90/200\n",
      "1/1 [==============================] - 0s 481ms/sample - loss: 13.3760\n",
      "Epoch 91/200\n",
      "1/1 [==============================] - 1s 546ms/sample - loss: 13.3756\n",
      "Epoch 92/200\n",
      "1/1 [==============================] - 1s 727ms/sample - loss: 13.3753\n",
      "Epoch 93/200\n",
      "1/1 [==============================] - 1s 564ms/sample - loss: 13.3750\n",
      "Epoch 94/200\n",
      "1/1 [==============================] - 0s 463ms/sample - loss: 13.3748\n",
      "Epoch 95/200\n",
      "1/1 [==============================] - 0s 457ms/sample - loss: 13.3746\n",
      "Epoch 96/200\n",
      "1/1 [==============================] - 1s 502ms/sample - loss: 13.3744\n",
      "Epoch 97/200\n",
      "1/1 [==============================] - 0s 496ms/sample - loss: 13.3743\n"
     ]
    },
    {
     "name": "stdout",
     "output_type": "stream",
     "text": [
      "Epoch 98/200\n",
      "1/1 [==============================] - 1s 522ms/sample - loss: 13.3742\n",
      "Epoch 99/200\n",
      "1/1 [==============================] - 1s 561ms/sample - loss: 13.3741\n",
      "Epoch 100/200\n",
      "1/1 [==============================] - 0s 496ms/sample - loss: 13.3740\n",
      "Epoch 101/200\n",
      "1/1 [==============================] - 0s 471ms/sample - loss: 13.3740\n",
      "Epoch 102/200\n",
      "1/1 [==============================] - 0s 473ms/sample - loss: 13.3740\n",
      "Epoch 103/200\n",
      "1/1 [==============================] - 0s 488ms/sample - loss: 13.3739\n",
      "Epoch 104/200\n",
      "1/1 [==============================] - 1s 526ms/sample - loss: 13.3739\n",
      "Epoch 105/200\n",
      "1/1 [==============================] - 1s 505ms/sample - loss: 13.3739\n",
      "Epoch 106/200\n",
      "1/1 [==============================] - 1s 583ms/sample - loss: 13.3739\n",
      "Epoch 107/200\n",
      "1/1 [==============================] - 0s 486ms/sample - loss: 13.3739\n",
      "Epoch 108/200\n",
      "1/1 [==============================] - 1s 501ms/sample - loss: 13.3739\n",
      "Epoch 109/200\n",
      "1/1 [==============================] - 0s 497ms/sample - loss: 13.3739\n",
      "Epoch 110/200\n",
      "1/1 [==============================] - 1s 501ms/sample - loss: 13.3739\n",
      "Epoch 111/200\n",
      "1/1 [==============================] - 1s 543ms/sample - loss: 13.3739\n",
      "Epoch 112/200\n",
      "1/1 [==============================] - 1s 526ms/sample - loss: 13.3739\n",
      "Epoch 113/200\n",
      "1/1 [==============================] - 1s 508ms/sample - loss: 13.3739\n",
      "Epoch 114/200\n",
      "1/1 [==============================] - 0s 496ms/sample - loss: 13.3739\n",
      "Epoch 115/200\n",
      "1/1 [==============================] - 0s 492ms/sample - loss: 13.3739\n",
      "Epoch 116/200\n",
      "1/1 [==============================] - 1s 581ms/sample - loss: 13.3739\n",
      "Epoch 117/200\n",
      "1/1 [==============================] - 1s 562ms/sample - loss: 13.3739\n",
      "Epoch 118/200\n",
      "1/1 [==============================] - 1s 526ms/sample - loss: 13.3739\n",
      "Epoch 119/200\n",
      "1/1 [==============================] - 0s 490ms/sample - loss: 13.3739\n",
      "Epoch 120/200\n",
      "1/1 [==============================] - 1s 525ms/sample - loss: 13.3739\n",
      "Epoch 121/200\n",
      "1/1 [==============================] - 0s 493ms/sample - loss: 13.3739\n",
      "Epoch 122/200\n",
      "1/1 [==============================] - 0s 484ms/sample - loss: 13.3739\n",
      "Epoch 123/200\n",
      "1/1 [==============================] - 1s 707ms/sample - loss: 13.3739\n",
      "Epoch 124/200\n",
      "1/1 [==============================] - 0s 466ms/sample - loss: 13.3739\n",
      "Epoch 125/200\n",
      "1/1 [==============================] - 1s 567ms/sample - loss: 13.3739\n",
      "Epoch 126/200\n",
      "1/1 [==============================] - 1s 554ms/sample - loss: 13.3739\n",
      "Epoch 127/200\n",
      "1/1 [==============================] - 0s 490ms/sample - loss: 13.3739\n",
      "Epoch 128/200\n",
      "1/1 [==============================] - 0s 500ms/sample - loss: 13.3739\n",
      "Epoch 129/200\n",
      "1/1 [==============================] - 1s 513ms/sample - loss: 13.3739\n",
      "Epoch 130/200\n",
      "1/1 [==============================] - 1s 568ms/sample - loss: 13.3739\n",
      "Epoch 131/200\n",
      "1/1 [==============================] - 1s 582ms/sample - loss: 13.3739\n",
      "Epoch 132/200\n",
      "1/1 [==============================] - 0s 471ms/sample - loss: 13.3739\n",
      "Epoch 133/200\n",
      "1/1 [==============================] - 0s 485ms/sample - loss: 13.3739\n",
      "Epoch 134/200\n",
      "1/1 [==============================] - 1s 501ms/sample - loss: 13.3739\n",
      "Epoch 135/200\n",
      "1/1 [==============================] - 1s 597ms/sample - loss: 13.3739\n",
      "Epoch 136/200\n",
      "1/1 [==============================] - 1s 522ms/sample - loss: 13.3739\n",
      "Epoch 137/200\n",
      "1/1 [==============================] - 1s 513ms/sample - loss: 13.3739\n",
      "Epoch 138/200\n",
      "1/1 [==============================] - 1s 521ms/sample - loss: 13.3739\n",
      "Epoch 139/200\n",
      "1/1 [==============================] - 1s 529ms/sample - loss: 13.3739\n",
      "Epoch 140/200\n",
      "1/1 [==============================] - 1s 525ms/sample - loss: 13.3739\n",
      "Epoch 141/200\n",
      "1/1 [==============================] - 0s 479ms/sample - loss: 13.3739\n",
      "Epoch 142/200\n",
      "1/1 [==============================] - 1s 519ms/sample - loss: 13.3739\n",
      "Epoch 143/200\n",
      "1/1 [==============================] - 1s 556ms/sample - loss: 13.3739\n",
      "Epoch 144/200\n",
      "1/1 [==============================] - 1s 531ms/sample - loss: 13.3739\n",
      "Epoch 145/200\n",
      "1/1 [==============================] - 0s 500ms/sample - loss: 13.3739\n",
      "Epoch 146/200\n",
      "1/1 [==============================] - 1s 589ms/sample - loss: 13.3739\n",
      "Epoch 147/200\n",
      "1/1 [==============================] - 0s 491ms/sample - loss: 13.3739\n",
      "Epoch 148/200\n",
      "1/1 [==============================] - 0s 496ms/sample - loss: 13.3739\n",
      "Epoch 149/200\n",
      "1/1 [==============================] - 1s 510ms/sample - loss: 13.3739\n",
      "Epoch 150/200\n",
      "1/1 [==============================] - 1s 558ms/sample - loss: 13.3739\n",
      "Epoch 151/200\n",
      "1/1 [==============================] - 1s 539ms/sample - loss: 13.3739\n",
      "Epoch 152/200\n",
      "1/1 [==============================] - 1s 510ms/sample - loss: 13.3739\n",
      "Epoch 153/200\n",
      "1/1 [==============================] - 0s 487ms/sample - loss: 13.3739\n",
      "Epoch 154/200\n",
      "1/1 [==============================] - 1s 531ms/sample - loss: 13.3739\n",
      "Epoch 155/200\n",
      "1/1 [==============================] - 1s 598ms/sample - loss: 13.3739\n",
      "Epoch 156/200\n",
      "1/1 [==============================] - 1s 568ms/sample - loss: 13.3739\n",
      "Epoch 157/200\n",
      "1/1 [==============================] - 1s 520ms/sample - loss: 13.3739\n",
      "Epoch 158/200\n",
      "1/1 [==============================] - 1s 525ms/sample - loss: 13.3739\n",
      "Epoch 159/200\n",
      "1/1 [==============================] - 0s 495ms/sample - loss: 13.3739\n",
      "Epoch 160/200\n",
      "1/1 [==============================] - 1s 501ms/sample - loss: 13.3739\n",
      "Epoch 161/200\n",
      "1/1 [==============================] - 1s 510ms/sample - loss: 13.3739\n",
      "Epoch 162/200\n",
      "1/1 [==============================] - 1s 514ms/sample - loss: 13.3739\n",
      "Epoch 163/200\n",
      "1/1 [==============================] - 1s 507ms/sample - loss: 13.3739\n",
      "Epoch 164/200\n",
      "1/1 [==============================] - 1s 554ms/sample - loss: 13.3739\n",
      "Epoch 165/200\n",
      "1/1 [==============================] - 1s 523ms/sample - loss: 13.3739\n",
      "Epoch 166/200\n",
      "1/1 [==============================] - 1s 524ms/sample - loss: 13.3739\n",
      "Epoch 167/200\n",
      "1/1 [==============================] - 1s 519ms/sample - loss: 13.3739\n",
      "Epoch 168/200\n",
      "1/1 [==============================] - 1s 575ms/sample - loss: 13.3739\n",
      "Epoch 169/200\n",
      "1/1 [==============================] - 1s 516ms/sample - loss: 13.3739\n",
      "Epoch 170/200\n",
      "1/1 [==============================] - 1s 723ms/sample - loss: 13.3739\n",
      "Epoch 171/200\n",
      "1/1 [==============================] - 1s 533ms/sample - loss: 13.3739\n",
      "Epoch 172/200\n",
      "1/1 [==============================] - 1s 508ms/sample - loss: 13.3739\n",
      "Epoch 173/200\n",
      "1/1 [==============================] - 0s 489ms/sample - loss: 13.3739\n",
      "Epoch 174/200\n",
      "1/1 [==============================] - 0s 498ms/sample - loss: 13.3739\n",
      "Epoch 175/200\n",
      "1/1 [==============================] - 1s 525ms/sample - loss: 13.3739\n",
      "Epoch 176/200\n",
      "1/1 [==============================] - 0s 466ms/sample - loss: 13.3739\n",
      "Epoch 177/200\n",
      "1/1 [==============================] - 1s 524ms/sample - loss: 13.3739\n",
      "Epoch 178/200\n",
      "1/1 [==============================] - 1s 569ms/sample - loss: 13.3739\n",
      "Epoch 179/200\n",
      "1/1 [==============================] - 0s 443ms/sample - loss: 13.3739\n",
      "Epoch 180/200\n",
      "1/1 [==============================] - 0s 468ms/sample - loss: 13.3739\n",
      "Epoch 181/200\n",
      "1/1 [==============================] - 1s 500ms/sample - loss: 13.3739\n",
      "Epoch 182/200\n",
      "1/1 [==============================] - 1s 592ms/sample - loss: 13.3739\n",
      "Epoch 183/200\n",
      "1/1 [==============================] - 1s 541ms/sample - loss: 13.3739\n",
      "Epoch 184/200\n",
      "1/1 [==============================] - 1s 515ms/sample - loss: 13.3739\n",
      "Epoch 185/200\n",
      "1/1 [==============================] - 0s 490ms/sample - loss: 13.3739\n",
      "Epoch 186/200\n",
      "1/1 [==============================] - 0s 473ms/sample - loss: 13.3739\n",
      "Epoch 187/200\n",
      "1/1 [==============================] - 1s 501ms/sample - loss: 13.3739\n",
      "Epoch 188/200\n",
      "1/1 [==============================] - 1s 578ms/sample - loss: 13.3739\n",
      "Epoch 189/200\n",
      "1/1 [==============================] - 1s 506ms/sample - loss: 13.3739\n",
      "Epoch 190/200\n",
      "1/1 [==============================] - 1s 505ms/sample - loss: 13.3739\n",
      "Epoch 191/200\n",
      "1/1 [==============================] - 1s 557ms/sample - loss: 13.3739\n",
      "Epoch 192/200\n",
      "1/1 [==============================] - 0s 481ms/sample - loss: 13.3739\n",
      "Epoch 193/200\n",
      "1/1 [==============================] - 1s 511ms/sample - loss: 13.3739\n",
      "Epoch 194/200\n",
      "1/1 [==============================] - 0s 494ms/sample - loss: 13.3739\n"
     ]
    },
    {
     "name": "stdout",
     "output_type": "stream",
     "text": [
      "Epoch 195/200\n",
      "1/1 [==============================] - 1s 513ms/sample - loss: 13.3739\n",
      "Epoch 196/200\n",
      "1/1 [==============================] - 1s 521ms/sample - loss: 13.3739\n",
      "Epoch 197/200\n",
      "1/1 [==============================] - 0s 492ms/sample - loss: 13.3739\n",
      "Epoch 198/200\n",
      "1/1 [==============================] - 0s 483ms/sample - loss: 13.3739\n",
      "Epoch 199/200\n",
      "1/1 [==============================] - 0s 484ms/sample - loss: 13.3739\n",
      "Epoch 200/200\n",
      "1/1 [==============================] - 0s 446ms/sample - loss: 13.3739\n",
      "3:\n"
     ]
    },
    {
     "data": {
      "image/svg+xml": [
       "<svg xmlns=\"http://www.w3.org/2000/svg\" width=\"685.548359375\" height=\"100.0\"><line x1=\"34.7588671875\" x2=\"655.548359375\" y1=\"25.0\" y2=\"25.0\" stroke=\"#1967d2\" stroke-width=\"1\" /><line x1=\"34.7588671875\" x2=\"655.548359375\" y1=\"75.0\" y2=\"75.0\" stroke=\"#1967d2\" stroke-width=\"1\" /><line x1=\"357.53304687499997\" x2=\"357.53304687499997\" y1=\"25.0\" y2=\"75.0\" stroke=\"black\" stroke-width=\"3\" /><rect x=\"10.0\" y=\"5.0\" width=\"49.517734375\" height=\"40\" stroke=\"black\" fill=\"white\" stroke-width=\"0\" /><text x=\"34.7588671875\" y=\"25.0\" dominant-baseline=\"middle\" text-anchor=\"middle\" font-size=\"14px\">(0, 0): </text><rect x=\"10.0\" y=\"55.0\" width=\"49.517734375\" height=\"40\" stroke=\"black\" fill=\"white\" stroke-width=\"0\" /><text x=\"34.7588671875\" y=\"75.0\" dominant-baseline=\"middle\" text-anchor=\"middle\" font-size=\"14px\">(0, 1): </text><rect x=\"79.517734375\" y=\"5.0\" width=\"65.6929296875\" height=\"40\" stroke=\"black\" fill=\"white\" stroke-width=\"1\" /><text x=\"112.36419921875\" y=\"25.0\" dominant-baseline=\"middle\" text-anchor=\"middle\" font-size=\"14px\">Rz(th_0)</text><rect x=\"165.2106640625\" y=\"5.0\" width=\"66.629453125\" height=\"40\" stroke=\"black\" fill=\"white\" stroke-width=\"1\" /><text x=\"198.525390625\" y=\"25.0\" dominant-baseline=\"middle\" text-anchor=\"middle\" font-size=\"14px\">Rx(th_1)</text><rect x=\"251.8401171875\" y=\"5.0\" width=\"65.6929296875\" height=\"40\" stroke=\"black\" fill=\"white\" stroke-width=\"1\" /><text x=\"284.68658203125\" y=\"25.0\" dominant-baseline=\"middle\" text-anchor=\"middle\" font-size=\"14px\">Rz(th_2)</text><circle cx=\"357.53304687499997\" cy=\"25.0\" r=\"10.0\" /><rect x=\"337.53304687499997\" y=\"55.0\" width=\"40\" height=\"40\" stroke=\"black\" fill=\"white\" stroke-width=\"1\" /><text x=\"357.53304687499997\" y=\"75.0\" dominant-baseline=\"middle\" text-anchor=\"middle\" font-size=\"18px\">X</text><rect x=\"397.53304687499997\" y=\"5.0\" width=\"65.6929296875\" height=\"40\" stroke=\"black\" fill=\"white\" stroke-width=\"1\" /><text x=\"430.37951171875\" y=\"25.0\" dominant-baseline=\"middle\" text-anchor=\"middle\" font-size=\"14px\">Rz(th_3)</text><rect x=\"483.2259765624999\" y=\"5.0\" width=\"66.629453125\" height=\"40\" stroke=\"black\" fill=\"white\" stroke-width=\"1\" /><text x=\"516.5407031249999\" y=\"25.0\" dominant-baseline=\"middle\" text-anchor=\"middle\" font-size=\"14px\">Rx(th_4)</text><rect x=\"569.8554296875\" y=\"5.0\" width=\"65.6929296875\" height=\"40\" stroke=\"black\" fill=\"white\" stroke-width=\"1\" /><text x=\"602.70189453125\" y=\"25.0\" dominant-baseline=\"middle\" text-anchor=\"middle\" font-size=\"14px\">Rz(th_5)</text></svg>"
      ],
      "text/plain": [
       "<cirq.contrib.svg.svg.SVGCircuit at 0x7f16b03458d0>"
      ]
     },
     "metadata": {},
     "output_type": "display_data"
    },
    {
     "name": "stderr",
     "output_type": "stream",
     "text": [
      "\r",
      " 10%|█         | 1/10 [01:52<16:56, 112.97s/it]"
     ]
    },
    {
     "name": "stdout",
     "output_type": "stream",
     "text": [
      "\n",
      "%%%%%%%%%%%%%%%%%%%%%%%%%\n",
      "new iteration:  1\n",
      "1:\n"
     ]
    },
    {
     "data": {
      "image/svg+xml": [
       "<svg xmlns=\"http://www.w3.org/2000/svg\" width=\"745.548359375\" height=\"100.0\"><line x1=\"34.7588671875\" x2=\"715.548359375\" y1=\"25.0\" y2=\"25.0\" stroke=\"#1967d2\" stroke-width=\"1\" /><line x1=\"34.7588671875\" x2=\"715.548359375\" y1=\"75.0\" y2=\"75.0\" stroke=\"#1967d2\" stroke-width=\"1\" /><line x1=\"99.517734375\" x2=\"99.517734375\" y1=\"25.0\" y2=\"75.0\" stroke=\"black\" stroke-width=\"3\" /><line x1=\"417.533046875\" x2=\"417.533046875\" y1=\"25.0\" y2=\"75.0\" stroke=\"black\" stroke-width=\"3\" /><rect x=\"10.0\" y=\"5.0\" width=\"49.517734375\" height=\"40\" stroke=\"black\" fill=\"white\" stroke-width=\"0\" /><text x=\"34.7588671875\" y=\"25.0\" dominant-baseline=\"middle\" text-anchor=\"middle\" font-size=\"14px\">(0, 0): </text><rect x=\"10.0\" y=\"55.0\" width=\"49.517734375\" height=\"40\" stroke=\"black\" fill=\"white\" stroke-width=\"0\" /><text x=\"34.7588671875\" y=\"75.0\" dominant-baseline=\"middle\" text-anchor=\"middle\" font-size=\"14px\">(0, 1): </text><circle cx=\"99.517734375\" cy=\"25.0\" r=\"10.0\" /><rect x=\"79.517734375\" y=\"55.0\" width=\"40\" height=\"40\" stroke=\"black\" fill=\"white\" stroke-width=\"1\" /><text x=\"99.517734375\" y=\"75.0\" dominant-baseline=\"middle\" text-anchor=\"middle\" font-size=\"18px\">X</text><rect x=\"139.517734375\" y=\"5.0\" width=\"65.6929296875\" height=\"40\" stroke=\"black\" fill=\"white\" stroke-width=\"1\" /><text x=\"172.36419921875\" y=\"25.0\" dominant-baseline=\"middle\" text-anchor=\"middle\" font-size=\"14px\">Rz(th_0)</text><rect x=\"225.2106640625\" y=\"5.0\" width=\"66.629453125\" height=\"40\" stroke=\"black\" fill=\"white\" stroke-width=\"1\" /><text x=\"258.525390625\" y=\"25.0\" dominant-baseline=\"middle\" text-anchor=\"middle\" font-size=\"14px\">Rx(th_1)</text><rect x=\"311.8401171875\" y=\"5.0\" width=\"65.6929296875\" height=\"40\" stroke=\"black\" fill=\"white\" stroke-width=\"1\" /><text x=\"344.68658203125005\" y=\"25.0\" dominant-baseline=\"middle\" text-anchor=\"middle\" font-size=\"14px\">Rz(th_2)</text><circle cx=\"417.533046875\" cy=\"25.0\" r=\"10.0\" /><rect x=\"397.533046875\" y=\"55.0\" width=\"40\" height=\"40\" stroke=\"black\" fill=\"white\" stroke-width=\"1\" /><text x=\"417.533046875\" y=\"75.0\" dominant-baseline=\"middle\" text-anchor=\"middle\" font-size=\"18px\">X</text><rect x=\"457.53304687499997\" y=\"5.0\" width=\"65.6929296875\" height=\"40\" stroke=\"black\" fill=\"white\" stroke-width=\"1\" /><text x=\"490.37951171875\" y=\"25.0\" dominant-baseline=\"middle\" text-anchor=\"middle\" font-size=\"14px\">Rz(th_3)</text><rect x=\"543.2259765625\" y=\"5.0\" width=\"66.629453125\" height=\"40\" stroke=\"black\" fill=\"white\" stroke-width=\"1\" /><text x=\"576.540703125\" y=\"25.0\" dominant-baseline=\"middle\" text-anchor=\"middle\" font-size=\"14px\">Rx(th_4)</text><rect x=\"629.8554296875\" y=\"5.0\" width=\"65.6929296875\" height=\"40\" stroke=\"black\" fill=\"white\" stroke-width=\"1\" /><text x=\"662.70189453125\" y=\"25.0\" dominant-baseline=\"middle\" text-anchor=\"middle\" font-size=\"14px\">Rz(th_5)</text></svg>"
      ],
      "text/plain": [
       "<cirq.contrib.svg.svg.SVGCircuit at 0x7f16805829b0>"
      ]
     },
     "metadata": {},
     "output_type": "display_data"
    },
    {
     "name": "stdout",
     "output_type": "stream",
     "text": [
      "Train on 1 samples\n",
      "Epoch 1/10\n",
      "1/1 [==============================] - 1s 1s/sample - loss: 14.6357\n",
      "Epoch 2/10\n",
      "1/1 [==============================] - 1s 630ms/sample - loss: 14.4554\n",
      "Epoch 3/10\n",
      "1/1 [==============================] - 1s 604ms/sample - loss: 14.2557\n",
      "Epoch 4/10\n",
      "1/1 [==============================] - 1s 734ms/sample - loss: 14.0370\n",
      "Epoch 5/10\n",
      "1/1 [==============================] - 1s 584ms/sample - loss: 13.8406\n",
      "Epoch 6/10\n",
      "1/1 [==============================] - 1s 792ms/sample - loss: 13.7089\n",
      "Epoch 7/10\n",
      "1/1 [==============================] - 1s 607ms/sample - loss: 13.6371\n",
      "Epoch 8/10\n",
      "1/1 [==============================] - 1s 617ms/sample - loss: 13.5917\n",
      "Epoch 9/10\n",
      "1/1 [==============================] - 1s 584ms/sample - loss: 13.5549\n",
      "Epoch 10/10\n",
      "1/1 [==============================] - 1s 582ms/sample - loss: 13.5317\n",
      "2:\n"
     ]
    },
    {
     "data": {
      "image/svg+xml": [
       "<svg xmlns=\"http://www.w3.org/2000/svg\" width=\"745.548359375\" height=\"100.0\"><line x1=\"34.7588671875\" x2=\"715.548359375\" y1=\"25.0\" y2=\"25.0\" stroke=\"#1967d2\" stroke-width=\"1\" /><line x1=\"34.7588671875\" x2=\"715.548359375\" y1=\"75.0\" y2=\"75.0\" stroke=\"#1967d2\" stroke-width=\"1\" /><line x1=\"99.517734375\" x2=\"99.517734375\" y1=\"25.0\" y2=\"75.0\" stroke=\"black\" stroke-width=\"3\" /><line x1=\"417.533046875\" x2=\"417.533046875\" y1=\"25.0\" y2=\"75.0\" stroke=\"black\" stroke-width=\"3\" /><rect x=\"10.0\" y=\"5.0\" width=\"49.517734375\" height=\"40\" stroke=\"black\" fill=\"white\" stroke-width=\"0\" /><text x=\"34.7588671875\" y=\"25.0\" dominant-baseline=\"middle\" text-anchor=\"middle\" font-size=\"14px\">(0, 0): </text><rect x=\"10.0\" y=\"55.0\" width=\"49.517734375\" height=\"40\" stroke=\"black\" fill=\"white\" stroke-width=\"0\" /><text x=\"34.7588671875\" y=\"75.0\" dominant-baseline=\"middle\" text-anchor=\"middle\" font-size=\"14px\">(0, 1): </text><circle cx=\"99.517734375\" cy=\"25.0\" r=\"10.0\" /><rect x=\"79.517734375\" y=\"55.0\" width=\"40\" height=\"40\" stroke=\"black\" fill=\"white\" stroke-width=\"1\" /><text x=\"99.517734375\" y=\"75.0\" dominant-baseline=\"middle\" text-anchor=\"middle\" font-size=\"18px\">X</text><rect x=\"139.517734375\" y=\"5.0\" width=\"65.6929296875\" height=\"40\" stroke=\"black\" fill=\"white\" stroke-width=\"1\" /><text x=\"172.36419921875\" y=\"25.0\" dominant-baseline=\"middle\" text-anchor=\"middle\" font-size=\"14px\">Rz(th_0)</text><rect x=\"225.2106640625\" y=\"5.0\" width=\"66.629453125\" height=\"40\" stroke=\"black\" fill=\"white\" stroke-width=\"1\" /><text x=\"258.525390625\" y=\"25.0\" dominant-baseline=\"middle\" text-anchor=\"middle\" font-size=\"14px\">Rx(th_1)</text><rect x=\"311.8401171875\" y=\"5.0\" width=\"65.6929296875\" height=\"40\" stroke=\"black\" fill=\"white\" stroke-width=\"1\" /><text x=\"344.68658203125005\" y=\"25.0\" dominant-baseline=\"middle\" text-anchor=\"middle\" font-size=\"14px\">Rz(th_2)</text><circle cx=\"417.533046875\" cy=\"25.0\" r=\"10.0\" /><rect x=\"397.533046875\" y=\"55.0\" width=\"40\" height=\"40\" stroke=\"black\" fill=\"white\" stroke-width=\"1\" /><text x=\"417.533046875\" y=\"75.0\" dominant-baseline=\"middle\" text-anchor=\"middle\" font-size=\"18px\">X</text><rect x=\"457.53304687499997\" y=\"5.0\" width=\"65.6929296875\" height=\"40\" stroke=\"black\" fill=\"white\" stroke-width=\"1\" /><text x=\"490.37951171875\" y=\"25.0\" dominant-baseline=\"middle\" text-anchor=\"middle\" font-size=\"14px\">Rz(th_3)</text><rect x=\"543.2259765625\" y=\"5.0\" width=\"66.629453125\" height=\"40\" stroke=\"black\" fill=\"white\" stroke-width=\"1\" /><text x=\"576.540703125\" y=\"25.0\" dominant-baseline=\"middle\" text-anchor=\"middle\" font-size=\"14px\">Rx(th_4)</text><rect x=\"629.8554296875\" y=\"5.0\" width=\"65.6929296875\" height=\"40\" stroke=\"black\" fill=\"white\" stroke-width=\"1\" /><text x=\"662.70189453125\" y=\"25.0\" dominant-baseline=\"middle\" text-anchor=\"middle\" font-size=\"14px\">Rz(th_5)</text></svg>"
      ],
      "text/plain": [
       "<cirq.contrib.svg.svg.SVGCircuit at 0x7f16b28ac080>"
      ]
     },
     "metadata": {},
     "output_type": "display_data"
    },
    {
     "name": "stderr",
     "output_type": "stream",
     "text": [
      "\r",
      " 20%|██        | 2/10 [02:00<10:50, 81.33s/it] "
     ]
    },
    {
     "name": "stdout",
     "output_type": "stream",
     "text": [
      "\n",
      "%%%%%%%%%%%%%%%%%%%%%%%%%\n",
      "new iteration:  2\n",
      "1:\n"
     ]
    },
    {
     "data": {
      "image/svg+xml": [
       "<svg xmlns=\"http://www.w3.org/2000/svg\" width=\"745.548359375\" height=\"100.0\"><line x1=\"34.7588671875\" x2=\"715.548359375\" y1=\"25.0\" y2=\"25.0\" stroke=\"#1967d2\" stroke-width=\"1\" /><line x1=\"34.7588671875\" x2=\"715.548359375\" y1=\"75.0\" y2=\"75.0\" stroke=\"#1967d2\" stroke-width=\"1\" /><line x1=\"99.517734375\" x2=\"99.517734375\" y1=\"25.0\" y2=\"75.0\" stroke=\"black\" stroke-width=\"3\" /><line x1=\"417.533046875\" x2=\"417.533046875\" y1=\"25.0\" y2=\"75.0\" stroke=\"black\" stroke-width=\"3\" /><rect x=\"10.0\" y=\"5.0\" width=\"49.517734375\" height=\"40\" stroke=\"black\" fill=\"white\" stroke-width=\"0\" /><text x=\"34.7588671875\" y=\"25.0\" dominant-baseline=\"middle\" text-anchor=\"middle\" font-size=\"14px\">(0, 0): </text><rect x=\"10.0\" y=\"55.0\" width=\"49.517734375\" height=\"40\" stroke=\"black\" fill=\"white\" stroke-width=\"0\" /><text x=\"34.7588671875\" y=\"75.0\" dominant-baseline=\"middle\" text-anchor=\"middle\" font-size=\"14px\">(0, 1): </text><circle cx=\"99.517734375\" cy=\"25.0\" r=\"10.0\" /><rect x=\"79.517734375\" y=\"55.0\" width=\"40\" height=\"40\" stroke=\"black\" fill=\"white\" stroke-width=\"1\" /><text x=\"99.517734375\" y=\"75.0\" dominant-baseline=\"middle\" text-anchor=\"middle\" font-size=\"18px\">X</text><rect x=\"139.517734375\" y=\"5.0\" width=\"65.6929296875\" height=\"40\" stroke=\"black\" fill=\"white\" stroke-width=\"1\" /><text x=\"172.36419921875\" y=\"25.0\" dominant-baseline=\"middle\" text-anchor=\"middle\" font-size=\"14px\">Rz(th_0)</text><rect x=\"225.2106640625\" y=\"5.0\" width=\"66.629453125\" height=\"40\" stroke=\"black\" fill=\"white\" stroke-width=\"1\" /><text x=\"258.525390625\" y=\"25.0\" dominant-baseline=\"middle\" text-anchor=\"middle\" font-size=\"14px\">Rx(th_1)</text><rect x=\"311.8401171875\" y=\"5.0\" width=\"65.6929296875\" height=\"40\" stroke=\"black\" fill=\"white\" stroke-width=\"1\" /><text x=\"344.68658203125005\" y=\"25.0\" dominant-baseline=\"middle\" text-anchor=\"middle\" font-size=\"14px\">Rz(th_2)</text><circle cx=\"417.533046875\" cy=\"25.0\" r=\"10.0\" /><rect x=\"397.533046875\" y=\"55.0\" width=\"40\" height=\"40\" stroke=\"black\" fill=\"white\" stroke-width=\"1\" /><text x=\"417.533046875\" y=\"75.0\" dominant-baseline=\"middle\" text-anchor=\"middle\" font-size=\"18px\">X</text><rect x=\"457.53304687499997\" y=\"5.0\" width=\"65.6929296875\" height=\"40\" stroke=\"black\" fill=\"white\" stroke-width=\"1\" /><text x=\"490.37951171875\" y=\"25.0\" dominant-baseline=\"middle\" text-anchor=\"middle\" font-size=\"14px\">Rz(th_3)</text><rect x=\"543.2259765625\" y=\"5.0\" width=\"66.629453125\" height=\"40\" stroke=\"black\" fill=\"white\" stroke-width=\"1\" /><text x=\"576.540703125\" y=\"25.0\" dominant-baseline=\"middle\" text-anchor=\"middle\" font-size=\"14px\">Rx(th_4)</text><rect x=\"629.8554296875\" y=\"5.0\" width=\"65.6929296875\" height=\"40\" stroke=\"black\" fill=\"white\" stroke-width=\"1\" /><text x=\"662.70189453125\" y=\"25.0\" dominant-baseline=\"middle\" text-anchor=\"middle\" font-size=\"14px\">Rz(th_5)</text></svg>"
      ],
      "text/plain": [
       "<cirq.contrib.svg.svg.SVGCircuit at 0x7f16b28ac5c0>"
      ]
     },
     "metadata": {},
     "output_type": "display_data"
    },
    {
     "name": "stdout",
     "output_type": "stream",
     "text": [
      "Train on 1 samples\n",
      "Epoch 1/10\n",
      "1/1 [==============================] - 1s 1s/sample - loss: 14.6438\n",
      "Epoch 2/10\n"
     ]
    }
   ],
   "source": [
    "sols = {}\n",
    "J=1.21\n",
    "for dep in [0.1,0.01,0.001,0.0001]:\n",
    "    print(\"dep\", dep)\n",
    "    sol = Solver(n_qubits= 2, qlr=0.1, qepochs=10, g=1, J=J, noises={\"depolarizing\":dep}, verbose=1)\n",
    "    sol.history_circuits=[]\n",
    "    history_energies=[]\n",
    "    best_energies_found = []\n",
    "\n",
    "    gates_index = [sol.number_of_cnots] ## begin with a certain circuit\n",
    "    gates_index, resolver, energy= sol.run_circuit_from_index(gates_index)\n",
    "    sol.history_circuits.append(gates_index)\n",
    "#    sol.current_circuit = gates_index\n",
    "\n",
    "    for kk in tqdm(range(10)):\n",
    "        print(\"\\n%%%%%%%%%%%%%%%%%%%%%%%%%\")\n",
    "        print(\"new iteration: \",kk)\n",
    "        print(\"1:\" )\n",
    "        display(SVGCircuit(sol.give_circuit(gates_index)[0]))\n",
    "        \n",
    "        enns = [energy]\n",
    "        which_block = np.random.choice([0,1], p=[.5,.5])\n",
    "        if which_block == 0:\n",
    "            qubit = np.random.choice(sol.n_qubits)\n",
    "            block_to_insert = sol.resolution_1qubit(qubit)\n",
    "            insertion_index = np.random.choice(max(1,len(gates_index))) #gives index between \\in [0, len(gates_index) )\n",
    "        else:\n",
    "            qubits = np.random.choice(sol.n_qubits, 2,replace = False)\n",
    "            block_to_insert = sol.resolution_2cnots(qubits[0], qubits[1])\n",
    "            insertion_index = np.random.choice(max(1,len(gates_index))) #gives index between \\in [0, len(gates_index) )\n",
    "        \n",
    "        #print(block_to_insert)\n",
    "        ### optimize the circuit with the block appended. This is tricky since we initialize\n",
    "        ###  the continuous parameters with the older ones, and the \"block ones\" close to identity\n",
    "        circuit, variables = sol.prepare_circuit_insertion(gates_index, block_to_insert, insertion_index) #this either accepts or reject the insertion\n",
    "        model = sol.initialize_model_insertion(variables) ### initialize the model in the previously optimized parameters & resolution to identity for the block\n",
    "\n",
    "        gates_index, resolver, energy, accepted = sol.optimize_and_update(gates_index,model, circuit, variables, insertion_index) #inside, if better circuit is found, saves it.\n",
    "        print(\"2:\")\n",
    "        display(SVGCircuit(sol.give_circuit(gates_index)[0]))\n",
    "        if accepted:\n",
    "            print(\"accepted\")\n",
    "            sol.history_circuits.append(gates_index)\n",
    "            #### try to kill one qubit unitaries ###\n",
    "            for k in range(10):\n",
    "                if len(gates_index)-sol.count_number_cnots(gates_index) > 2:\n",
    "                    gates_index, resolver, energy, simplified =  sol.kill_one_unitary(gates_index, resolver, energy)\n",
    "                    print(\"3: \")\n",
    "                    display(SVGCircuit(sol.give_circuit(gates_index)[0]))\n",
    "                    sol.history_circuits.append(gates_index)\n",
    "                    \n",
    "            ### simplify the circuit and if the length is changed I run the optimization again\n",
    "            print(\"about to simplify\")\n",
    "            simplified_gates_index = sol.simplify_circuit(gates_index)\n",
    "            if len(simplified_gates_index)<len(gates_index) and len(simplified_gates_index)>0:\n",
    "                print(\"actually simplified!: running opt\")\n",
    "                ggates_index, rresolver, eenergy = sol.run_circuit_from_index(simplified_gates_index,hyperparameters=[200,0.01]) #here I don't save the resolver since it's a mess\n",
    "                print(\"3:\")\n",
    "                display(SVGCircuit(sol.give_circuit(ggates_index)[0]))\n",
    "                \n",
    "                if energy < sol.lowest_energy_found:\n",
    "                    sol.lowest_energy_found = energy\n",
    "                    sol.best_circuit_found = gates_index\n",
    "                    sol.best_resolver_found = resolver\n",
    "                    gates_index = ggates_index\n",
    "                    sol.history_circuits.append(gates_index)\n",
    "                    resolver = resolver\n",
    "                    energy = eenergy\n",
    "        \n",
    "        sol.new_resolver = {}\n",
    "        history_energies.append(sol.lowest_energy_found)\n",
    "        enns=[]\n",
    "        #print(\"energy: \", energy, \"... j\", j)\n",
    "    sol.history_energies=history_energies\n",
    "    sols[str(dep)] = sol\n",
    "    print(history_energies)"
   ]
  },
  {
   "cell_type": "code",
   "execution_count": null,
   "metadata": {},
   "outputs": [],
   "source": [
    "sol."
   ]
  },
  {
   "cell_type": "code",
   "execution_count": null,
   "metadata": {},
   "outputs": [],
   "source": [
    "[k.count_number_cnots(k.best_circuit_found) for k in sols.values()]"
   ]
  },
  {
   "cell_type": "code",
   "execution_count": null,
   "metadata": {},
   "outputs": [],
   "source": [
    "plt.figure(figsize=(20,10))\n",
    "plt.suptitle(r'$H = -\\sum_i^{n=4} \\; Z_i - \\;J \\sum_i^{n=4} X_i X_{i+1}$', size=25)\n",
    "ax1 = plt.subplot2grid((1,2),(0,0))\n",
    "ax2= plt.subplot2grid((1,2),(0,1))\n",
    "\n",
    "ax1.set_ylabel(\"Lowest energy found\", size=20)\n",
    "ax1.set_xlabel(\"J\", size=20)\n",
    "\n",
    "js = np.arange(.01,4.1,.4)\n",
    "ax1.scatter(js,[k.lowest_energy_found for k in sols.values()], marker=\"*\",alpha=.75, s=80, c=\"blue\",label=\"Lowest energy found after 15 its\")\n",
    "ax1.scatter(js,np.loadtxt(\"Ising4q.csv\"), alpha=.5, s=80, c=\"red\",label=\"Ground state\")\n",
    "ax1.legend(prop={\"size\":20})\n",
    "#plt.xticks(js, size=30)\n",
    "\n",
    "ax2.scatter(js, [k.count_number_cnots(k.best_circuit_found) for k in sols.values()], alpha=1, s=100)\n",
    "ax2.set_xlabel(\"J\")\n",
    "ax2.set_yticks([k.count_number_cnots(k.best_circuit_found) for k in sols.values()])\n",
    "ax2.set_ylabel(\"Number of CNOTs\", size=20)\n",
    "plt.savefig(\"ising_larger_interactions.png\")"
   ]
  },
  {
   "cell_type": "code",
   "execution_count": null,
   "metadata": {},
   "outputs": [],
   "source": [
    "list(sols.items())"
   ]
  },
  {
   "cell_type": "code",
   "execution_count": null,
   "metadata": {},
   "outputs": [],
   "source": [
    "import os\n",
    "import pickle\n",
    "os.system(\"mkdir results_ising_4qb\")\n",
    "for k,v in sols.items():\n",
    "    with open(\"results_ising_4qb/\"+k+'.pickle', 'wb') as handle:\n",
    "        pickle.dump(v, handle, protocol=pickle.HIGHEST_PROTOCOL)"
   ]
  },
  {
   "cell_type": "code",
   "execution_count": null,
   "metadata": {},
   "outputs": [],
   "source": [
    "plt.figure(figsize=(20,10))\n",
    "plt.suptitle(r'$H = -\\sum_i^{4} \\; S^{z}_i - \\;J \\; \\sum_i^{4} \\; S^{x}_i S^{x}_{i+1}$', size=25)\n",
    "ax1 = plt.subplot2grid((1,1),(0,0))\n",
    "#ax2= plt.subplot2grid((1,2),(0,1))\n",
    "\n",
    "ax1.set_ylabel(r'$\\frac{\\Delta E}{E_{ground}}$', size=45)#(r'$|E_{lowest}- E_{ground}|$', size=30)\n",
    "ax1.set_xlabel(r'$E_{ground}$', size=45)\n",
    "\n",
    "enns = np.array(np.loadtxt(\"Ising4q.csv\"))\n",
    "js = np.arange(.01,4.1,.4)\n",
    "ax1.scatter(np.abs(enns),np.abs(np.array([k.lowest_energy_found for k in sols.values()]) - enns)/np.abs(enns), marker=\"o\",alpha=.6, s=300, c=\"red\",label=r'$\\Delta E/E_ground$')\n",
    "#ax1.scatter(js,, alpha=.5, s=80, c=\"red\",label=\"Ground state\")\n",
    "#ax1.legend(prop={\"size\":20})\n",
    "#plt.xticks(js, size=30)\n",
    "ticks=[]\n",
    "for k,i in enumerate(np.abs(enns)):\n",
    "    if k!=1:\n",
    "        ticks.append(np.round(i,2))\n",
    "ax1.set_xticks(ticks)\n",
    "ax1.tick_params(axis='both', which='major', labelsize=20)\n",
    "#ax2.scatter(js, [k.count_number_cnots(k.best_circuit_found) for k in sols.values()], alpha=1, s=100)\n",
    "#ax2.set_xlabel(\"J\")\n",
    "#ax2.set_yticks([k.count_number_cnots(k.best_circuit_found) for k in sols.values()])\n",
    "#ax2.set_ylabel(\"Number of CNOTs\", size=20)\n",
    "plt.savefig(\"energies_4ising.png\")"
   ]
  },
  {
   "cell_type": "code",
   "execution_count": null,
   "metadata": {},
   "outputs": [],
   "source": [
    "plt.figure(figsize=(20,10))\n",
    "plt.suptitle(r'$H = -\\sum_i^{4} \\; S^{z}_i - \\;J \\; \\sum_i^{4} \\; S^{x}_i S^{x}_{i+1}$', size=25)\n",
    "ax1 = plt.subplot2grid((1,1),(0,0))\n",
    "#ax2= plt.subplot2grid((1,2),(0,1))\n",
    "\n",
    "ax1.set_ylabel(r'$\\Delta E$', size=45)#(r'$|E_{lowest}- E_{ground}|$', size=30)\n",
    "ax1.set_xlabel(r'$E_{ground}$', size=45)\n",
    "\n",
    "enns = np.array(np.loadtxt(\"Ising4q.csv\"))\n",
    "js = np.arange(.01,4.1,.4)\n",
    "ax1.scatter(np.abs(enns),np.abs(np.array([k.lowest_energy_found for k in sols.values()]) - enns), marker=\"*\",alpha=.6, s=180, c=\"blue\",label=r'$\\Delta E$')\n",
    "#ax1.scatter(js,, alpha=.5, s=80, c=\"red\",label=\"Ground state\")\n",
    "#ax1.legend(prop={\"size\":20})\n",
    "#plt.xticks(js, size=30)\n",
    "ticks=[]\n",
    "for k,i in enumerate(np.abs(enns)):\n",
    "    if k!=1:\n",
    "        ticks.append(np.round(i,2))\n",
    "ax1.set_xticks(ticks)\n",
    "ax1.tick_params(axis='both', which='major', labelsize=20)\n",
    "#ax2.scatter(js, [k.count_number_cnots(k.best_circuit_found) for k in sols.values()], alpha=1, s=100)\n",
    "#ax2.set_xlabel(\"J\")\n",
    "#ax2.set_yticks([k.count_number_cnots(k.best_circuit_found) for k in sols.values()])\n",
    "#ax2.set_ylabel(\"Number of CNOTs\", size=20)\n",
    "#plt.savefig(\"energies.png\")"
   ]
  },
  {
   "cell_type": "code",
   "execution_count": null,
   "metadata": {},
   "outputs": [],
   "source": []
  }
 ],
 "metadata": {
  "kernelspec": {
   "display_name": "Python 3",
   "language": "python",
   "name": "python3"
  },
  "language_info": {
   "codemirror_mode": {
    "name": "ipython",
    "version": 3
   },
   "file_extension": ".py",
   "mimetype": "text/x-python",
   "name": "python",
   "nbconvert_exporter": "python",
   "pygments_lexer": "ipython3",
   "version": "3.6.9"
  }
 },
 "nbformat": 4,
 "nbformat_minor": 4
}
