{
 "cells": [
  {
   "cell_type": "code",
   "execution_count": 4,
   "metadata": {},
   "outputs": [],
   "source": [
    "import numpy as np\n",
    "\n",
    "\n",
    "def ep(k, J=1, h=1):\n",
    "    return 2*J*np.sqrt((np.cos(k)-(h/J))**2  + np.sin(k)**2  )\n",
    "\n",
    "\n",
    "def ks(L):\n",
    "    if L%2 == 0:\n",
    "        l0 = -L/2\n",
    "        lmax = L\n",
    "    else:\n",
    "        l0 = -(L+1)/2\n",
    "        lmax=L-1\n",
    "    ks=[l0]\n",
    "    for n in range(1,lmax):\n",
    "        kk=(ks[-1]+n)*np.pi*2/L\n",
    "        if kk < np.pi and kk > 0:\n",
    "            ks.append(kk)\n",
    "    return np.array(ks)\n",
    "\n",
    "def e0(J=1,h=0, L=3):\n",
    "    return -2*J - np.sum([ep(kk,J,h) for kk in ks(L)[1:]])"
   ]
  },
  {
   "cell_type": "code",
   "execution_count": 8,
   "metadata": {},
   "outputs": [
    {
     "data": {
      "text/plain": [
       "-0.02"
      ]
     },
     "execution_count": 8,
     "metadata": {},
     "output_type": "execute_result"
    }
   ],
   "source": [
    "e0(J=0.01,h=10)"
   ]
  },
  {
   "cell_type": "code",
   "execution_count": null,
   "metadata": {},
   "outputs": [],
   "source": []
  }
 ],
 "metadata": {
  "kernelspec": {
   "display_name": "Python 3",
   "language": "python",
   "name": "python3"
  },
  "language_info": {
   "codemirror_mode": {
    "name": "ipython",
    "version": 3
   },
   "file_extension": ".py",
   "mimetype": "text/x-python",
   "name": "python",
   "nbconvert_exporter": "python",
   "pygments_lexer": "ipython3",
   "version": "3.6.9"
  }
 },
 "nbformat": 4,
 "nbformat_minor": 4
}
