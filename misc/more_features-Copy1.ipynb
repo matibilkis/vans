{
 "cells": [
  {
   "cell_type": "markdown",
   "metadata": {},
   "source": [
    "We'll write a simplifier a la Luckasz"
   ]
  },
  {
   "cell_type": "code",
   "execution_count": 59,
   "metadata": {},
   "outputs": [],
   "source": [
    "import numpy as np\n",
    "import sympy\n",
    "import cirq\n",
    "import tensorflow as tf\n",
    "import tensorflow_quantum as tfq\n",
    "import matplotlib.pyplot as plt\n",
    "from tqdm import tqdm\n",
    "import matplotlib.pyplot as plt\n",
    "\n",
    "class Solver:\n",
    "    def __init__(self, n_qubits=3, qlr=0.01, qepochs=100,verbose=0, g=1, J=0):\n",
    "\n",
    "        \"\"\"\"solver with n**2 possible actions: n(n-1) CNOTS + n 1-qubit unitary\"\"\"\n",
    "        self.n_qubits = n_qubits\n",
    "        self.qubits = cirq.GridQubit.rect(1, n_qubits)\n",
    "        self.lower_bound_Eg = -2*self.n_qubits\n",
    "        \n",
    "        self.qlr = qlr\n",
    "        self.qepochs=qepochs\n",
    "        self.verbose=verbose\n",
    "\n",
    "\n",
    "        self.indexed_cnots = {}\n",
    "        self.cnots_index = {}\n",
    "        count = 0\n",
    "        for control in range(self.n_qubits):\n",
    "            for target in range(self.n_qubits):\n",
    "                if control != target:\n",
    "                    self.indexed_cnots[str(count)] = [control, target]\n",
    "                    self.cnots_index[str([control,target])] = count\n",
    "                    count += 1\n",
    "        self.number_of_cnots = len(self.indexed_cnots)\n",
    "        \n",
    "        self.final_params = []\n",
    "        self.parametrized_unitary = [cirq.rz, cirq.rx, cirq.rz]\n",
    "        \n",
    "        self.observable=self.ising_obs(g=g, J=J)\n",
    "        self.resolver = {}\n",
    "        self.new_resolver = {} #this temporarly stores initialized parameters of identity resolution\n",
    "        self.lowest_energy_found = -.1\n",
    "        self.best_circuit_found = []\n",
    "        self.best_resolver_found = {}\n",
    "        \n",
    "        \n",
    "    def ising_obs(self, g=1, J=0):\n",
    "        # -  \\Gamma/2 \\sum_i Z_i - J/2 \\sum_{i} X_i X_{i+1}    (S_i = \\Sigma_i/2; ej S_z = Z/2, S_x = X/2)\n",
    "        ### analytic solution https://sci-hub.tw/https://www.sciencedirect.com/science/article/abs/pii/0003491670902708?via%3Dihub\n",
    "        observable = [-float(0.5*g)*cirq.Z.on(q) for q in self.qubits] \n",
    "        for q in range(len(self.qubits)):\n",
    "            observable.append(-float(0.5*J)*cirq.X.on(self.qubits[q])*cirq.X.on(self.qubits[(q+1)%len(self.qubits)]))\n",
    "        #### E_0 = -\\Gamma/2 \\sum_k \\Lambda_k , with \\Lambda_k = \\sqrt{ 1 + \\lambda^{2}  + 2 \\lambda \\cos(k)}; \n",
    "        ### k = -N/2, ... , 0 ,... N/2-1 if N even\n",
    "        #### k = -(N-1)/2, ... 0 , ... (N-1)/2 if N odd\n",
    "        if self.n_qubits%2 == 0:\n",
    "            val = -self.n_qubits/2\n",
    "        else:\n",
    "            val = -(self.n_qubits-1)/2\n",
    "        values_q = []\n",
    "        for k in range(2*self.n_qubits-1):\n",
    "            values_q.append(val)\n",
    "            val += 1/2\n",
    "        \n",
    "        self.ground_energy = -(0.5*g)*np.sum(np.sqrt([1+(J/(2*g))**2 + (np.cos(2*np.pi*q/self.n_qubits)*(J/g)) for q in values_q]))\n",
    "        return self.ground_energy"
   ]
  },
  {
   "cell_type": "code",
   "execution_count": 62,
   "metadata": {},
   "outputs": [
    {
     "data": {
      "text/plain": [
       "-2.938901059316734"
      ]
     },
     "execution_count": 62,
     "metadata": {},
     "output_type": "execute_result"
    }
   ],
   "source": [
    "sol = Solver(n_qubits= 3, qlr=0.1, qepochs=100, g=1, J=1)\n",
    "sol.ground_energy"
   ]
  },
  {
   "cell_type": "code",
   "execution_count": null,
   "metadata": {},
   "outputs": [],
   "source": []
  },
  {
   "cell_type": "code",
   "execution_count": 7,
   "metadata": {},
   "outputs": [
    {
     "data": {
      "text/plain": [
       "0"
      ]
     },
     "execution_count": 7,
     "metadata": {},
     "output_type": "execute_result"
    }
   ],
   "source": []
  },
  {
   "cell_type": "code",
   "execution_count": 11,
   "metadata": {},
   "outputs": [
    {
     "name": "stdout",
     "output_type": "stream",
     "text": [
      "energy:  -0.1\n",
      "energy:  -0.1\n",
      "energy:  -0.1\n",
      "energy:  -2.222256\n",
      "energy:  -2.230218\n",
      "energy:  -2.2297394\n",
      "energy:  -2.230114\n",
      "energy:  -2.2297835\n",
      "energy:  -2.2306125\n",
      "energy:  -2.2309031\n",
      "energy:  -2.230927\n",
      "energy:  -2.2307742\n",
      "energy:  -2.2307742\n",
      "energy:  -2.2307742\n",
      "energy:  -2.2307742\n",
      "energy:  -2.2307742\n",
      "energy:  -2.2307742\n",
      "energy:  -2.2307742\n",
      "energy:  -2.2307742\n",
      "energy:  -2.2307742\n",
      "energy:  -2.2307742\n",
      "energy:  -2.2307742\n",
      "energy:  -2.2307742\n",
      "energy:  -2.2307742\n",
      "energy:  -2.2307742\n"
     ]
    }
   ],
   "source": [
    "sol = Solver(n_qubits= 2, qlr=0.1, qepochs=100, g=1, J=.5)\n",
    "history_energies=[]\n",
    "best_energies_found = []\n",
    "\n",
    "gates_index = [sol.number_of_cnots] ## begin with a certain circuit\n",
    "gates_index, resolver, energy= sol.run_circuit_from_index(gates_index)\n",
    "sol.current_circuit = gates_index\n",
    "\n",
    "for k in range(25):\n",
    "    \n",
    "    which_block = np.random.choice([0,1], p=[.8,.2])\n",
    "    if which_block == 0:\n",
    "        qubit = np.random.choice(sol.n_qubits)\n",
    "        block_to_insert = sol.resolution_1qubit(qubit)\n",
    "    else:\n",
    "        qubits = np.random.choice(sol.n_qubits, 2,replace = False)\n",
    "        block_to_insert = sol.resolution_2cnots(qubits[0], qubits[1])\n",
    "    insertion_index = np.random.choice(max(1,len(gates_index))) #gives index between \\in [0, len(gates_index) )\n",
    "    \n",
    "    ### optimize the circuit with the block appended. This is tricky since we initialize\n",
    "    ###  the continuous parameters with the older ones, and the \"block ones\" close to identity\n",
    "    circuit, variables = sol.prepare_circuit_insertion(gates_index, block_to_insert, insertion_index)\n",
    "    model = sol.initialize_model_insertion(variables) ### initialize the model in the previously optimized parameters & resolution to identity for the block\n",
    "    \n",
    "    gates_index, resolver, energy = sol.optimize_and_update(model, circuit, variables, insertion_index) #inside, if better circuit is found, saves it.\n",
    "    s=0\n",
    "    for k in range(50):\n",
    "        gates_index, resolver, energy, simplified =  sol.kill_one_unitary(gates_index, resolver, energy)\n",
    "        if simplified is False:\n",
    "            s+=-1\n",
    "        else:\n",
    "            s+=1\n",
    "        if s<-15:\n",
    "            break\n",
    "\n",
    "    ### now I simplify the circuit and if the length is changed I run the optimization again\n",
    "    simplified_gates_index = sol.simplify_circuit(gates_index)\n",
    "    if len(simplified_gates_index)<len(gates_index):\n",
    "        gates_index, resolver, energy = sol.run_circuit_from_index(simplified_gates_index)\n",
    "        sol.current_circuit = gates_index\n",
    "        sol.resolver = resolver\n",
    "\n",
    "    sol.new_resolver = {}\n",
    "    history_energies.append(energy)\n",
    "    best_energies_found.append(sol.lowest_energy_found)\n",
    "    \n",
    "    print(\"energy: \", energy)"
   ]
  },
  {
   "cell_type": "code",
   "execution_count": 16,
   "metadata": {},
   "outputs": [
    {
     "data": {
      "text/plain": [
       "-1.8133759499971027"
      ]
     },
     "execution_count": 16,
     "metadata": {},
     "output_type": "execute_result"
    }
   ],
   "source": [
    "sol.ground_energy"
   ]
  },
  {
   "cell_type": "code",
   "execution_count": 13,
   "metadata": {},
   "outputs": [
    {
     "data": {
      "text/plain": [
       "2.0615528128088303"
      ]
     },
     "execution_count": 13,
     "metadata": {},
     "output_type": "execute_result"
    }
   ],
   "source": [
    "np.sqrt(1+(1/16))*2"
   ]
  },
  {
   "cell_type": "code",
   "execution_count": 59,
   "metadata": {},
   "outputs": [
    {
     "data": {
      "text/plain": [
       "Text(0.5, 0, 'iteration')"
      ]
     },
     "execution_count": 59,
     "metadata": {},
     "output_type": "execute_result"
    },
    {
     "data": {
      "image/png": "[encoded data removed]",
      "text/plain": [
       "<Figure size 432x288 with 1 Axes>"
      ]
     },
     "metadata": {
      "needs_background": "light"
     },
     "output_type": "display_data"
    }
   ],
   "source": [
    "plt.plot(range(len(history_energies)), history_energies, linewidth=4, alpha=.5, color= \"blue\")\n",
    "plt.scatter(range(len(history_energies)), history_energies,  s=60,alpha=.9, color= \"blue\", label=\"4 qubits\")\n",
    "plt.ylabel(\"Lowest energy found\", size=20)\n",
    "plt.xticks(range(len(history_energies)))\n",
    "plt.xlabel(\"iteration\", size=20)"
   ]
  },
  {
   "cell_type": "code",
   "execution_count": 72,
   "metadata": {},
   "outputs": [],
   "source": [
    "hist5 = history_energies"
   ]
  },
  {
   "cell_type": "code",
   "execution_count": 87,
   "metadata": {},
   "outputs": [
    {
     "data": {
      "image/png": "[encoded data removed]",
      "text/plain": [
       "<Figure size 720x720 with 1 Axes>"
      ]
     },
     "metadata": {
      "needs_background": "light"
     },
     "output_type": "display_data"
    }
   ],
   "source": [
    "plt.figure(figsize=(10,10))\n",
    "plt.title(r'$H = \\sum_i^{n} \\; Z_i$', size=25)\n",
    "\n",
    "plt.plot(range(len(history_energies)), history_energies, linewidth=4, alpha=.5, color= \"red\")\n",
    "plt.scatter(range(len(history_energies)), history_energies,  s=60,alpha=.9, color= \"red\", label=\"n=4\")\n",
    "plt.plot(range(len(hist5)), hist5, linewidth=4, alpha=.5, color= \"blue\")\n",
    "plt.scatter(range(len(history_energies)), hist5,  s=60,alpha=.9, color= \"blue\", label=\"n=5\")\n",
    "plt.ylabel(\"Lowest energy found\", size=20)\n",
    "plt.xticks(range(len(history_energies)))\n",
    "plt.xlabel(\"iteration\", size=20)\n",
    "plt.legend(prop={\"size\":40})\n",
    "plt.savefig(\"preliminar_diagonal_ising.png\")"
   ]
  },
  {
   "cell_type": "code",
   "execution_count": 83,
   "metadata": {},
   "outputs": [
    {
     "data": {
      "text/plain": [
       "<Figure size 432x288 with 0 Axes>"
      ]
     },
     "metadata": {},
     "output_type": "display_data"
    }
   ],
   "source": []
  },
  {
   "cell_type": "code",
   "execution_count": 85,
   "metadata": {},
   "outputs": [
    {
     "data": {
      "text/html": [
       "<pre style=\"overflow: auto; white-space: pre;\">                                                                                                               ┌──┐                                               ┌──┐                                       ┌──┐\n",
       "(0, 0): ───Rz(th_0)────Rx(th_1)────Rz(th_2)────X───Rz(th_12)───Rx(th_13)───Rz(th_14)────────────────────────────@─────Rz(th_18)───Rx(th_19)───Rz(th_20)───@────────X─────Rz(th_24)───Rx(th_25)───Rz(th_26)────X─────Rz(th_33)───Rx(th_34)───Rz(th_35)───\n",
       "                                               │                                                                │                                         │        │                                          │\n",
       "(0, 1): ───Rz(th_15)───Rx(th_16)───Rz(th_17)───┼────────────────────────────────────────────────────────────────┼X────────────────────────────────────────┼────────┼X────Rz(th_30)───Rx(th_31)───Rz(th_32)────┼X────────────────────────────────────────\n",
       "                                               │                                                                ││                                        │        ││                                         ││\n",
       "(0, 2): ───Rz(th_3)────Rx(th_4)────Rz(th_5)────┼───@───────────X───────────Rz(th_9)────Rx(th_10)───Rz(th_11)────┼@────────────────────────────────────────┼───X────@┼────Rz(th_21)───Rx(th_22)───Rz(th_23)────@┼────────────────────────────────────────\n",
       "                                               │   │           │                                                │                                         │   │     │                                          │\n",
       "(0, 3): ───────────────────────────────────────@───X───────────@───────────Rz(th_6)────Rx(th_7)────Rz(th_8)─────X─────────────────────────────────────────X───@─────@────Rz(th_27)───Rx(th_28)───Rz(th_29)─────@────────────────────────────────────────\n",
       "                                                                                                               └──┘                                               └──┘                                       └──┘</pre>"
      ],
      "text/plain": [
       "                                                                                                               ┌──┐                                               ┌──┐                                       ┌──┐\n",
       "(0, 0): ───Rz(th_0)────Rx(th_1)────Rz(th_2)────X───Rz(th_12)───Rx(th_13)───Rz(th_14)────────────────────────────@─────Rz(th_18)───Rx(th_19)───Rz(th_20)───@────────X─────Rz(th_24)───Rx(th_25)───Rz(th_26)────X─────Rz(th_33)───Rx(th_34)───Rz(th_35)───\n",
       "                                               │                                                                │                                         │        │                                          │\n",
       "(0, 1): ───Rz(th_15)───Rx(th_16)───Rz(th_17)───┼────────────────────────────────────────────────────────────────┼X────────────────────────────────────────┼────────┼X────Rz(th_30)───Rx(th_31)───Rz(th_32)────┼X────────────────────────────────────────\n",
       "                                               │                                                                ││                                        │        ││                                         ││\n",
       "(0, 2): ───Rz(th_3)────Rx(th_4)────Rz(th_5)────┼───@───────────X───────────Rz(th_9)────Rx(th_10)───Rz(th_11)────┼@────────────────────────────────────────┼───X────@┼────Rz(th_21)───Rx(th_22)───Rz(th_23)────@┼────────────────────────────────────────\n",
       "                                               │   │           │                                                │                                         │   │     │                                          │\n",
       "(0, 3): ───────────────────────────────────────@───X───────────@───────────Rz(th_6)────Rx(th_7)────Rz(th_8)─────X─────────────────────────────────────────X───@─────@────Rz(th_27)───Rx(th_28)───Rz(th_29)─────@────────────────────────────────────────\n",
       "                                                                                                               └──┘                                               └──┘                                       └──┘"
      ]
     },
     "execution_count": 85,
     "metadata": {},
     "output_type": "execute_result"
    }
   ],
   "source": [
    "sol.give_circuit(sol.best_circuit_found)[0]"
   ]
  },
  {
   "cell_type": "code",
   "execution_count": null,
   "metadata": {},
   "outputs": [],
   "source": []
  }
 ],
 "metadata": {
  "kernelspec": {
   "display_name": "Python 3",
   "language": "python",
   "name": "python3"
  },
  "language_info": {
   "codemirror_mode": {
    "name": "ipython",
    "version": 3
   },
   "file_extension": ".py",
   "mimetype": "text/x-python",
   "name": "python",
   "nbconvert_exporter": "python",
   "pygments_lexer": "ipython3",
   "version": "3.6.9"
  }
 },
 "nbformat": 4,
 "nbformat_minor": 4
}
