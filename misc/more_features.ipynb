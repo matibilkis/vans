{
 "cells": [
  {
   "cell_type": "markdown",
   "metadata": {},
   "source": [
    "We'll write a simplifier a la Luckasz"
   ]
  },
  {
   "cell_type": "code",
   "execution_count": 38,
   "metadata": {},
   "outputs": [],
   "source": [
    "import numpy as np\n",
    "import sympy\n",
    "import cirq\n",
    "import tensorflow as tf\n",
    "import tensorflow_quantum as tfq\n",
    "import matplotlib.pyplot as plt\n",
    "from tqdm import tqdm\n",
    "import matplotlib.pyplot as plt\n",
    "\n",
    "class Solver:\n",
    "    def __init__(self, n_qubits=3, qlr=0.01, qepochs=100,verbose=0, g=1, J=0):\n",
    "\n",
    "        \"\"\"\"solver with n**2 possible actions: n(n-1) CNOTS + n 1-qubit unitary\"\"\"\n",
    "        self.n_qubits = n_qubits\n",
    "        self.qubits = cirq.GridQubit.rect(1, n_qubits)\n",
    "        self.lower_bound_Eg = -2*self.n_qubits\n",
    "        \n",
    "        self.qlr = qlr\n",
    "        self.qepochs=qepochs\n",
    "        self.verbose=verbose\n",
    "\n",
    "\n",
    "        self.indexed_cnots = {}\n",
    "        self.cnots_index = {}\n",
    "        count = 0\n",
    "        for control in range(self.n_qubits):\n",
    "            for target in range(self.n_qubits):\n",
    "                if control != target:\n",
    "                    self.indexed_cnots[str(count)] = [control, target]\n",
    "                    self.cnots_index[str([control,target])] = count\n",
    "                    count += 1\n",
    "        self.number_of_cnots = len(self.indexed_cnots)\n",
    "        \n",
    "        self.final_params = []\n",
    "        self.parametrized_unitary = [cirq.rz, cirq.rx, cirq.rz]\n",
    "        \n",
    "        self.observable=self.ising_obs(g=g, J=J)\n",
    "        self.resolver = {}\n",
    "        self.new_resolver = {} #this temporarly stores initialized parameters of identity resolution\n",
    "        self.lowest_energy_found = -.1\n",
    "        self.best_circuit_found = []\n",
    "        self.best_resolver_found = {}\n",
    "        \n",
    "        \n",
    "    def ising_obs(self, g=1, J=0):\n",
    "        # -  \\Gamma/2 \\sum_i Z_i - J/2 \\sum_{i} X_i X_{i+1}    (S_i = \\Sigma_i/2; ej S_z = Z/2, S_x = X/2)\n",
    "        ### analytic solution https://sci-hub.tw/https://www.sciencedirect.com/science/article/abs/pii/0003491670902708?via%3Dihub\n",
    "        observable = [-float(0.5*g)*cirq.Z.on(q) for q in self.qubits] \n",
    "        for q in range(len(self.qubits)):\n",
    "            observable.append(-float(0.5*J)*cirq.X.on(self.qubits[q])*cirq.X.on(self.qubits[(q+1)%len(self.qubits)]))\n",
    "        #### E_0 = -\\Gamma/2 \\sum_k \\Lambda_k , with \\Lambda_k = \\sqrt{ 1 + \\lambda^{2}  + 2 \\lambda \\cos(k)}; \n",
    "        ### k = -N/2, ... , 0 ,... N/2-1 if N even\n",
    "        #### k = -(N-1)/2, ... 0 , ... (N-1)/2 if N odd\n",
    "        if self.n_qubits%2 == 0:\n",
    "            val = -self.n_qubits/2\n",
    "        else:\n",
    "            val = -(self.n_qubits-1)/2\n",
    "        values_q = []\n",
    "        for k in range(2*self.n_qubits):\n",
    "            values_q.append(val)\n",
    "            val += 1/2\n",
    "        ###soething wrong here.\n",
    "        self.ground_energy = -(0.5*g)*np.sum(np.sqrt([1+(J/(2*g))**2 - (np.cos(2*np.pi*q/self.n_qubits)*(J/g)) for q in values_q]))\n",
    "        return observable\n",
    "        \n",
    "    def index_meaning(self,index):\n",
    "        if index<self.number_of_cnots:\n",
    "            print(\"cnot: \",self.indexed_cnots[str(index)])\n",
    "            return\n",
    "        else:\n",
    "            print(\"1-qubit unitary on: \",(index-self.number_of_cnots)%self.n_qubits)\n",
    "            return\n",
    "\n",
    "    def append_to_circuit(self, ind, circuit, params, new_index=False):\n",
    "        \"\"\"\n",
    "        appends to circuit the index of the gate;\n",
    "        and if one_hot_gate implies a rotation,\n",
    "        appends to params a symbol\n",
    "        \"\"\"\n",
    "        if ind < self.number_of_cnots:\n",
    "            control, target = self.indexed_cnots[str(ind)]\n",
    "            circuit.append(cirq.CNOT.on(self.qubits[control], self.qubits[target]))\n",
    "            return circuit, params\n",
    "        else:\n",
    "            qubit = self.qubits[(ind-self.number_of_cnots)%self.n_qubits]\n",
    "            for par, gate in zip(range(3),self.parametrized_unitary):\n",
    "                new_param = \"th_\"+str(len(params))\n",
    "                params.append(new_param)\n",
    "                circuit.append(gate(sympy.Symbol(new_param)).on(qubit))\n",
    "            return circuit, params\n",
    "        \n",
    "    def give_circuit(self, lista,one_hot=False):\n",
    "        circuit, symbols = [], []\n",
    "        for k in lista:\n",
    "            circuit, symbols = self.append_to_circuit(k,circuit,symbols)\n",
    "        circuit = cirq.Circuit(circuit)\n",
    "        return circuit, symbols\n",
    "    \n",
    "    \n",
    "    def resolution_2cnots(self, q1, q2):\n",
    "        u1 = self.number_of_cnots + q1\n",
    "        u2 = self.number_of_cnots + q2\n",
    "        cnot = self.cnots_index[str([q1,q2])]\n",
    "        return [cnot, u1, u2, cnot]\n",
    "    \n",
    "    def resolution_1qubit(self, q):\n",
    "        u1 = self.number_of_cnots + q\n",
    "        return [u1]\n",
    "        \n",
    "\n",
    "    def dressed_cnot(self,q1,q2):\n",
    "        u1 = self.number_of_cnots + q1\n",
    "        u2 = self.number_of_cnots + q2\n",
    "        cnot = self.cnots_index[str([q1,q2])]\n",
    "        u3 = self.number_of_cnots + q1\n",
    "        u4 = self.number_of_cnots + q2\n",
    "        return [u1,u2,cnot,u3,u4]\n",
    "    \n",
    "    def dressed_ansatz(self, layers=1):\n",
    "        c=[]\n",
    "        for layer in range(layers):\n",
    "            qubits = list(range(self.n_qubits))\n",
    "            qdeph = qubits[layers:]\n",
    "            for q in qubits[:layers]:\n",
    "                qdeph.append(q)\n",
    "            for ind1, ind2 in zip(qubits,qdeph):\n",
    "                for k in self.dressed_cnot(ind1,ind2):\n",
    "                    c.append(k)\n",
    "        return c\n",
    "\n",
    "\n",
    "    def prepare_circuit_insertion(self,gates_index, block_to_insert, index_insertion):\n",
    "        \"\"\"gates_index is a vector with integer entries, each one describing a gate\n",
    "            block_to_insert is block of unitaries to insert at index insertion\n",
    "        \"\"\"\n",
    "        circuit = cirq.Circuit()\n",
    "        idx_circuit=[]\n",
    "        symbols = []\n",
    "        new_symbols = []\n",
    "        new_resolver = {}\n",
    "\n",
    "        for ind, g in enumerate(gates_index):\n",
    "            #### insert new block ####\n",
    "            if ind == insertion_index:\n",
    "                for gate in block_to_insert:\n",
    "                    idx_circuit.append(gate)\n",
    "                    if gate < self.number_of_cnots:\n",
    "                        control, target = self.indexed_cnots[str(gate)]\n",
    "                        circuit.append(cirq.CNOT.on(self.qubits[control], self.qubits[target]))\n",
    "                    else:\n",
    "                        qubit = self.qubits[(gate-self.number_of_cnots)%self.n_qubits]\n",
    "                        for par, gateblack in zip(range(3),self.parametrized_unitary):\n",
    "                            new_symbol = \"New_th_\"+str(len(new_symbols))\n",
    "                            new_symbols.append(new_symbol)\n",
    "                            new_resolver[new_symbol] = np.random.uniform(-.1,.1) #rotation around epsilon... we can do it better afterwards\n",
    "                            circuit.append(gateblack(sympy.Symbol(new_symbol)).on(qubit))\n",
    "            if g < self.number_of_cnots:\n",
    "                idx_circuit.append(g)\n",
    "                control, target = self.indexed_cnots[str(g)]\n",
    "                circuit.append(cirq.CNOT.on(self.qubits[control], self.qubits[target]))\n",
    "            else:\n",
    "                idx_circuit.append(g)\n",
    "                qubit = self.qubits[(ind-self.number_of_cnots)%self.n_qubits]\n",
    "                for par, gate in zip(range(3),self.parametrized_unitary):\n",
    "                    new_symbol = \"th_\"+str(len(symbols))\n",
    "                    symbols.append(new_symbol)\n",
    "                    circuit.append(gate(sympy.Symbol(new_symbol)).on(qubit))\n",
    "                    if not new_symbol in self.resolver.keys(): #this is in case it's the first time. Careful when deleting !\n",
    "                        self.resolver[new_symbol] = np.random.uniform(-np.pi, np.pi)\n",
    "\n",
    "        ### add identity for TFQ tocompute correctily expected value####\n",
    "        effective_qubits = list(circuit.all_qubits())\n",
    "        for k in self.qubits:\n",
    "            if k not in effective_qubits:\n",
    "                circuit.append(cirq.I.on(k))\n",
    "        self.new_resolver = new_resolver\n",
    "        #self.current_circuit = idx_circuit ### store the new indexed circuit (whose resolver is obtained from both self.new_resolver and self.resolver)\n",
    "        variables = [symbols, new_symbols]\n",
    "        return circuit, variables#, idx_circuit\n",
    "    \n",
    "    \n",
    "    \n",
    "    def TFQ_model(self, symbols):\n",
    "        circuit_input = tf.keras.Input(shape=(), dtype=tf.string)\n",
    "        output = tfq.layers.Expectation()(\n",
    "                circuit_input,\n",
    "                symbol_names=symbols,\n",
    "                operators=tfq.convert_to_tensor([self.observable]),\n",
    "                initializer=tf.keras.initializers.RandomNormal()) #we may change this!!!\n",
    "\n",
    "        model = tf.keras.Model(inputs=circuit_input, outputs=output)\n",
    "        adam = tf.keras.optimizers.Adam(learning_rate=self.qlr)\n",
    "        model.compile(optimizer=adam, loss='mse')\n",
    "        return model\n",
    "    \n",
    "    def initialize_model_insertion(self, variables):\n",
    "        ### initialize model with parameters from previous model (describer by variables[0]) --> values in self.resolver\n",
    "        ###(for the already-optimized ones), and close to identity for the block added, described by variables[1], whose values are in self.new_resolver\n",
    "\n",
    "        symbols, new_symbols = variables\n",
    "        circuit_symbols = []\n",
    "        init_params = []\n",
    "        for j in symbols:\n",
    "            circuit_symbols.append(j)\n",
    "            init_params.append(self.resolver[str(j)])#+ np.random.uniform(-.01,.01)) if you want to perturbate previous parameters..\n",
    "        for k in new_symbols:\n",
    "            circuit_symbols.append(k)\n",
    "            init_params.append(self.new_resolver[str(k)])\n",
    "\n",
    "        model = self.TFQ_model(circuit_symbols)\n",
    "        model.trainable_variables[0].assign(tf.convert_to_tensor(init_params)) #initialize parameters of model (continuous parameters of uniraries)\n",
    "        #with the corresponding values\n",
    "        return model\n",
    "\n",
    "    def run_circuit_from_index(self, gates_index):\n",
    "        \"\"\"\n",
    "        takes as input vector with actions described as integer\n",
    "        and outputsthe energy of that circuit (w.r.t self.observable)\n",
    "        \"\"\"\n",
    "        ### create a vector with the gates on the corresponding qubit(s)\n",
    "        circuit, symbols = self.give_circuit(gates_index)\n",
    "        \n",
    "        ### this is because each qubit should be \"activated\" in TFQ to do the optimization (if the observable has support on this qubit as well and you don't add I then error)\n",
    "        effective_qubits = list(circuit.all_qubits())\n",
    "        for k in self.qubits:\n",
    "            if k not in effective_qubits:\n",
    "                circuit.append(cirq.I.on(k))\n",
    "\n",
    "        tfqcircuit = tfq.convert_to_tensor([circuit])\n",
    "        if len(symbols) == 0:\n",
    "            expval = tfq.layers.Expectation()(\n",
    "                                            tfqcircuit,\n",
    "                                            operators=tfq.convert_to_tensor([self.observable]))\n",
    "            energy = np.float32(np.squeeze(tf.math.reduce_sum(expval, axis=-1, keepdims=True)))\n",
    "            final_params = []\n",
    "            resolver = {\"th_\"+str(ind):var  for ind,var in enumerate(final_params)}\n",
    "        else:\n",
    "            model = self.TFQ_model(symbols)\n",
    "            qoutput = tf.ones((1, 1))*self.lower_bound_Eg\n",
    "            model.fit(x=tfqcircuit, y=qoutput, batch_size=1, epochs=self.qepochs, verbose=self.verbose)\n",
    "            energy = np.squeeze(tf.math.reduce_sum(model.predict(tfqcircuit), axis=-1))\n",
    "            final_params = model.trainable_variables[0].numpy()\n",
    "            resolver = {\"th_\"+str(ind):var  for ind,var in enumerate(final_params)}\n",
    "        return gates_index, resolver, energy\n",
    "    \n",
    "    \n",
    "    def accept_modification(self, energy):\n",
    "        return energy < self.lowest_energy_found# or np.random.random() >.9# accept a bad one with some probability a la metropolis (maybe use \\delta E)\n",
    "    \n",
    "    \n",
    "    def optimize_and_update(self, model, circuit,variables,insertion_index_loaded):\n",
    "        #### fit continuous parameters ###\n",
    "        \n",
    "        k=0\n",
    "        for ind,gh in enumerate(list(circuit.all_operations())):\n",
    "            if gh.gate == cirq.I:\n",
    "                k+=1\n",
    "        if ind == k-1:\n",
    "            return self.current_circuit, self.resolver, self.lowest_energy_found\n",
    "            \n",
    "        tfqcircuit = tfq.convert_to_tensor([circuit])\n",
    "        qoutput = tf.ones((1, 1))*self.lower_bound_Eg\n",
    "        model.fit(x=tfqcircuit, y=qoutput, batch_size=1, epochs=self.qepochs, verbose=0)\n",
    "        energy = np.squeeze(tf.math.reduce_sum(model.predict(tfqcircuit), axis=-1))\n",
    "\n",
    "        if self.accept_modification(energy):\n",
    "            self.lowest_energy_found = energy\n",
    "            \n",
    "            #### if we accept the new configuration, then we update the resolver merging both symbols and new_symbols into self.resolver\n",
    "            symbols, new_symbols = variables\n",
    "\n",
    "            for ind,k in enumerate(symbols):\n",
    "                self.resolver[k] = model.trainable_variables[0].numpy()[ind]\n",
    "\n",
    "            for indnew,knew in enumerate(new_symbols):\n",
    "                self.new_resolver[knew] = model.trainable_variables[0].numpy()[len(symbols)+indnew]\n",
    "\n",
    "            final_symbols = []\n",
    "            old_solver = []\n",
    "            old_added = []\n",
    "\n",
    "            final_resolver = {}\n",
    "            new_circuit = []\n",
    "            for ind, g in enumerate(self.current_circuit): #self.current_circuit is associated with symbols and current self.resolver\n",
    "                \n",
    "                #### insert new block ####\n",
    "                if ind == insertion_index_loaded:\n",
    "                    for gate in block_to_insert:\n",
    "                        new_circuit.append(gate)\n",
    "                        if gate < sol.number_of_cnots:\n",
    "                            pass\n",
    "                        else:\n",
    "                            for par, gateblock in zip(range(3),sol.parametrized_unitary):\n",
    "\n",
    "                                var1 = \"New_th_\"+str(len(old_added))\n",
    "                                old_added.append(var1)\n",
    "\n",
    "                                var2 = \"th_\"+str(len(final_symbols))\n",
    "                                final_symbols.append(var2)\n",
    "                                final_resolver[var2] = self.new_resolver[var1] #\n",
    "\n",
    "                if g < self.number_of_cnots:\n",
    "                    new_circuit.append(g)\n",
    "                    pass\n",
    "                else:\n",
    "                    new_circuit.append(g)\n",
    "                    for par, gate in zip(range(3),self.parametrized_unitary):\n",
    "                        var3 = \"th_\"+str(len(old_solver))\n",
    "                        old_solver.append(var3)\n",
    "\n",
    "                        var4 = \"th_\"+str(len(final_symbols))\n",
    "                        final_symbols.append(var4)\n",
    "                        final_resolver[var4] = self.resolver[var3] \n",
    "\n",
    "            self.resolver = final_resolver\n",
    "            self.current_circuit = new_circuit #### now the current circuit is the better one! :\n",
    "            self.best_circuit_found = new_circuit\n",
    "            self.best_resolver_found = resolver\n",
    "            return new_circuit, self.resolver, energy\n",
    "        else:\n",
    "            return self.current_circuit, self.resolver, self.lowest_energy_found\n",
    "    \n",
    "    def kill_one_unitary(self, gates_index, resolver, energy):\n",
    "        \"\"\"\n",
    "        this function takes circuit as described by gates_index (sequence of integers)\n",
    "        and returns when possible, a circuit, resolver, energy with one single-qubit unitary less.\n",
    "        \"\"\"\n",
    "        if energy == 0.:\n",
    "            energy = 10**-12\n",
    "\n",
    "        circuit_proposals=[] #storing all good candidates.\n",
    "        \n",
    "        for j in gates_index:\n",
    "            indexed_prop=[]\n",
    "\n",
    "            prop=cirq.Circuit()\n",
    "            checking = False\n",
    "            ko=0\n",
    "            to_pop=[]\n",
    "\n",
    "            for k in gates_index:\n",
    "                if k < self.number_of_cnots:\n",
    "                    indexed_prop.append(k)\n",
    "                    control, target = self.indexed_cnots[str(k)]\n",
    "                    prop.append(cirq.CNOT.on(self.qubits[control], self.qubits[target]))\n",
    "                else:\n",
    "                    if k != j:\n",
    "                        indexed_prop.append(k)\n",
    "                        qubit = self.qubits[(k-self.number_of_cnots)%self.n_qubits]\n",
    "                        for par, gate in zip(range(3),self.parametrized_unitary):\n",
    "                            new_param = \"th_\"+str(ko)\n",
    "                            ko+=1\n",
    "                            prop.append(gate(sympy.Symbol(new_param)).on(qubit))\n",
    "                    else:\n",
    "                        checking=True\n",
    "                        for i in range(3):\n",
    "                            to_pop.append(\"th_\"+str(ko))\n",
    "                            ko+=1\n",
    "            if checking is True:\n",
    "                nr = resolver.copy()\n",
    "                for p in to_pop:\n",
    "                    nr.pop(p)  \n",
    "                \n",
    "                effective_qubits = list(prop.all_qubits())\n",
    "                for k in self.qubits:\n",
    "                    if k not in effective_qubits:\n",
    "                        prop.append(cirq.I.on(k))\n",
    "                \n",
    "                tfqcircuit = tfq.convert_to_tensor([cirq.resolve_parameters(prop, nr)]) ###resolver parameters !!!\n",
    "                expval = tfq.layers.Expectation()(\n",
    "                                        tfqcircuit,\n",
    "                                        operators=tfq.convert_to_tensor([self.observable]))\n",
    "                new_energy = np.float32(np.squeeze(tf.math.reduce_sum(expval, axis=-1, keepdims=True)))\n",
    "\n",
    "                if self.accept_modification(new_energy):\n",
    "                    ordered_resolver = {}\n",
    "                    for ind,k in enumerate(nr.values()):\n",
    "                        ordered_resolver[\"th_\"+str(ind)] = k\n",
    "                    circuit_proposals.append([indexed_prop,ordered_resolver,new_energy])\n",
    "        if len(circuit_proposals)>0:\n",
    "            favourite = np.random.choice(len(circuit_proposals))\n",
    "            short_circuit, resolver, energy = circuit_proposals[favourite]\n",
    "            self.current_circuit = short_circuit\n",
    "            self.resolver = resolver\n",
    "            \n",
    "            ### save shortest..\n",
    "            self.best_resolver_found = resolver\n",
    "            self.best_circuit_found = short_circuit\n",
    "            simplified=True\n",
    "            return short_circuit, resolver, energy, simplified\n",
    "        else:\n",
    "            simplified=False\n",
    "            return gates_index, resolver, energy, simplified\n",
    "\n",
    "    \n",
    "    def simplify_circuit(self,indexed_circuit):\n",
    "        \"\"\"this function kills repeated unitaries and \n",
    "        CNOTS and returns a simplified indexed_circuit vector\"\"\"\n",
    "        #load circuit on each qubit\n",
    "        connections={str(q):[] for q in range(self.n_qubits)} #this saves the gates in each qubit\n",
    "        places_gates = {str(q):[] for q in range(self.n_qubits)} #this saves, for each gate on each qubit, the position in the original indexed_circuit\n",
    "\n",
    "\n",
    "        flagged = [False]*len(indexed_circuit) #to check if you have seen a cnot already, so not to append it twice to the qubit's dictionary\n",
    "\n",
    "        for q in range(self.n_qubits): #sweep over all qubits\n",
    "            for nn,idq in enumerate(indexed_circuit): #sweep over all gates in original circuit's vector\n",
    "                if idq<self.number_of_cnots: #if the gate it's a CNOT or not\n",
    "                    control, target = self.indexed_cnots[str(idq)] #give control and target qubit\n",
    "                    if q in [control, target] and not flagged[nn]: #if the qubit we are looking at is affected by this CNOT, and we haven't add this CNOT to the dictionary yet\n",
    "                        connections[str(control)].append(idq)\n",
    "                        connections[str(target)].append(idq)\n",
    "                        places_gates[str(control)].append(nn)\n",
    "                        places_gates[str(target)].append(nn)\n",
    "                        flagged[nn] = True #so you don't add the other\n",
    "                else:\n",
    "                    if idq%self.n_qubits == q: #check if the unitary is applied to the qubit we are looking at\n",
    "                        connections[str(q)].append(\"u\")\n",
    "                        places_gates[str(q)].append(nn)\n",
    "\n",
    "\n",
    "        ### now reducing the circuit\n",
    "        new_indexed_circuit = indexed_circuit.copy()\n",
    "        for q, path in connections.items(): ###sweep over qubits: path is all the gates that act this qubit during the circuit\n",
    "            for ind,gate in enumerate(path):\n",
    "                if gate == \"u\": ## IF GATE IS SINGLE QUIT UNITARY, CHECK IF THE NEXT ONES ARE ALSO UNITARIES AND KILL 'EM\n",
    "                    for k in range(len(path)-ind-1):\n",
    "                        if path[ind+k+1]==\"u\":\n",
    "                            new_indexed_circuit[places_gates[str(q)][ind+k+1]] = -1\n",
    "                        else:\n",
    "                            break\n",
    "                elif gate in range(self.number_of_cnots) and ind<len(path)-1: ### self.number_of_cnots is the maximum index of a CNOT gate for a fixed self.n_qubits.\n",
    "                    if path[ind+1]==gate and not (new_indexed_circuit[places_gates[str(q)][ind]] == -1): #check if the next gate is the same CNOT; and check if I haven't corrected the original one (otherwise you may simplify 3 CNOTs to id)\n",
    "                        others = self.indexed_cnots[str(gate)].copy()\n",
    "                        others.remove(int(q)) #the other qubit affected by the CNOT\n",
    "                        for jind, jgate in enumerate(connections[str(others[0])][:-1]): ##sweep the other qubit's gates until i find \"gate\"\n",
    "                            if jgate == gate and connections[str(others[0])][jind+1] == gate: ##i find the same gate that is repeated in both the original qubit and this one\n",
    "                                if (places_gates[str(q)][ind] == places_gates[str(others[0])][jind]) and (places_gates[str(q)][ind+1] == places_gates[str(others[0])][jind+1]): #check that positions in the indexed_circuit are the same\n",
    "                                 ###maybe I changed before, so I have repeated in the original but one was shut down..\n",
    "                                    new_indexed_circuit[places_gates[str(q)][ind]] = -1 ###just kill the repeated CNOTS\n",
    "                                    new_indexed_circuit[places_gates[str(q)][ind+1]] = -1 ###just kill the repeated CNOTS\n",
    "                                    break\n",
    "                                    \n",
    "                if gate in range(self.number_of_cnots) and ind == 0: ###if I have a CNOT just before initializing, it does nothing (if |0> initialization).\n",
    "                    others = self.indexed_cnots[str(gate)].copy()\n",
    "                    others.remove(int(q)) #the other qubit affected by the CNOT\n",
    "                    for jind, jgate in enumerate(connections[str(others[0])][:-1]): ##sweep the other qubit's gates until i find \"gate\"\n",
    "                        if jgate == gate and jind==0: ##it's also the first gate in the other qubit\n",
    "                            if (places_gates[str(q)][ind] == places_gates[str(others[0])][jind]): #check that positions in the indexed_circuit are the same\n",
    "                                new_indexed_circuit[places_gates[str(q)][ind]] = -1 ###just kill the repeated CNOTS\n",
    "                                break\n",
    "                    \n",
    "        #### remove the marked indices ###### \n",
    "        #### remove the marked indices ######            \n",
    "        \n",
    "        final=[]\n",
    "        for gmarked in new_indexed_circuit:\n",
    "            if not gmarked == -1:\n",
    "                final.append(gmarked)\n",
    "        return final\n",
    "    \n",
    "    def count_number_cnots(self, gates_index):\n",
    "        c=0\n",
    "        for k in gates_index:\n",
    "            if k<self.number_of_cnots:\n",
    "                c+=1\n",
    "        return c"
   ]
  },
  {
   "cell_type": "code",
   "execution_count": 65,
   "metadata": {},
   "outputs": [
    {
     "name": "stderr",
     "output_type": "stream",
     "text": [
      "\r",
      "  0%|          | 0/21 [00:00<?, ?it/s]"
     ]
    },
    {
     "name": "stdout",
     "output_type": "stream",
     "text": [
      "energy:  -1.5000043 ... j 0.01\n",
      "energy:  -1.5000122 ... j 0.01\n",
      "energy:  -1.5000117 ... j 0.01\n",
      "energy:  -1.5000117 ... j 0.01\n",
      "energy:  -1.5000117 ... j 0.01\n",
      "energy:  -1.5000061 ... j 0.01\n",
      "energy:  -1.5000123 ... j 0.01\n",
      "energy:  -1.4999918 ... j 0.01\n",
      "energy:  -1.5000203 ... j 0.01\n",
      "energy:  -1.5000203 ... j 0.01\n",
      "energy:  -1.5000203 ... j 0.01\n",
      "energy:  -1.5000203 ... j 0.01\n",
      "energy:  -1.5000203 ... j 0.01\n",
      "energy:  -1.5000203 ... j 0.01\n"
     ]
    },
    {
     "name": "stderr",
     "output_type": "stream",
     "text": [
      "\r",
      "  5%|▍         | 1/21 [00:37<12:37, 37.88s/it]"
     ]
    },
    {
     "name": "stdout",
     "output_type": "stream",
     "text": [
      "energy:  -1.5000203 ... j 0.01\n",
      "energy:  -1.5014957 ... j 0.11\n",
      "energy:  -1.5014957 ... j 0.11\n",
      "energy:  -1.5014957 ... j 0.11\n",
      "energy:  -1.5014966 ... j 0.11\n",
      "energy:  -1.5031654 ... j 0.11\n",
      "energy:  -1.5031701 ... j 0.11\n",
      "energy:  -1.5031637 ... j 0.11\n",
      "energy:  -1.5031637 ... j 0.11\n",
      "energy:  -1.5031637 ... j 0.11\n",
      "energy:  -1.5031637 ... j 0.11\n",
      "energy:  -1.5031637 ... j 0.11\n",
      "energy:  -1.5031637 ... j 0.11\n",
      "energy:  -1.5031637 ... j 0.11\n",
      "energy:  -1.504733 ... j 0.11\n"
     ]
    },
    {
     "name": "stderr",
     "output_type": "stream",
     "text": [
      "\r",
      " 10%|▉         | 2/21 [01:19<12:18, 38.88s/it]"
     ]
    },
    {
     "name": "stdout",
     "output_type": "stream",
     "text": [
      "energy:  -1.504733 ... j 0.11\n",
      "energy:  -1.5 ... j 0.21000000000000002\n",
      "energy:  -1.4999895 ... j 0.21000000000000002\n",
      "energy:  -1.4999895 ... j 0.21000000000000002\n",
      "energy:  -1.4999895 ... j 0.21000000000000002\n",
      "energy:  -1.4999895 ... j 0.21000000000000002\n",
      "energy:  -1.4999895 ... j 0.21000000000000002\n",
      "energy:  -1.4999895 ... j 0.21000000000000002\n",
      "energy:  -1.4999895 ... j 0.21000000000000002\n",
      "energy:  -1.4999895 ... j 0.21000000000000002\n",
      "energy:  -1.4999895 ... j 0.21000000000000002\n",
      "energy:  -1.4999895 ... j 0.21000000000000002\n",
      "energy:  -1.4999895 ... j 0.21000000000000002\n",
      "energy:  -1.4999895 ... j 0.21000000000000002\n"
     ]
    },
    {
     "name": "stderr",
     "output_type": "stream",
     "text": [
      "\r",
      " 14%|█▍        | 3/21 [01:21<08:23, 27.96s/it]"
     ]
    },
    {
     "name": "stdout",
     "output_type": "stream",
     "text": [
      "energy:  -1.4999895 ... j 0.21000000000000002\n",
      "energy:  -1.4999895 ... j 0.21000000000000002\n",
      "energy:  -1.5118401 ... j 0.31000000000000005\n",
      "energy:  -1.5118577 ... j 0.31000000000000005\n",
      "energy:  -1.5118577 ... j 0.31000000000000005\n",
      "energy:  -1.5118577 ... j 0.31000000000000005\n",
      "energy:  -1.5118486 ... j 0.31000000000000005\n",
      "energy:  -1.5118595 ... j 0.31000000000000005\n",
      "energy:  -1.5409278 ... j 0.31000000000000005\n",
      "energy:  -1.5412132 ... j 0.31000000000000005\n",
      "energy:  -1.5412682 ... j 0.31000000000000005\n",
      "energy:  -1.541282 ... j 0.31000000000000005\n",
      "energy:  -1.541282 ... j 0.31000000000000005\n",
      "energy:  -1.541282 ... j 0.31000000000000005\n",
      "energy:  -1.541282 ... j 0.31000000000000005\n",
      "energy:  -1.541282 ... j 0.31000000000000005\n"
     ]
    },
    {
     "name": "stderr",
     "output_type": "stream",
     "text": [
      "\r",
      " 19%|█▉        | 4/21 [02:06<09:23, 33.12s/it]"
     ]
    },
    {
     "name": "stdout",
     "output_type": "stream",
     "text": [
      "energy:  -1.541282 ... j 0.31000000000000005\n",
      "energy:  -1.5 ... j 0.41000000000000003\n",
      "energy:  -1.5 ... j 0.41000000000000003\n",
      "energy:  -1.5 ... j 0.41000000000000003\n",
      "energy:  -1.520675 ... j 0.41000000000000003\n",
      "energy:  -1.520659 ... j 0.41000000000000003\n",
      "energy:  -1.5518456 ... j 0.41000000000000003\n",
      "energy:  -1.5518454 ... j 0.41000000000000003\n",
      "energy:  -1.5518454 ... j 0.41000000000000003\n",
      "energy:  -1.5518454 ... j 0.41000000000000003\n",
      "energy:  -1.5518454 ... j 0.41000000000000003\n",
      "energy:  -1.5518454 ... j 0.41000000000000003\n",
      "energy:  -1.5518454 ... j 0.41000000000000003\n",
      "energy:  -1.5518454 ... j 0.41000000000000003\n",
      "energy:  -1.5751547 ... j 0.41000000000000003\n"
     ]
    },
    {
     "name": "stderr",
     "output_type": "stream",
     "text": [
      "\r",
      " 24%|██▍       | 5/21 [02:35<08:31, 31.94s/it]"
     ]
    },
    {
     "name": "stdout",
     "output_type": "stream",
     "text": [
      "energy:  -1.575202 ... j 0.41000000000000003\n",
      "energy:  -1.5318383 ... j 0.51\n",
      "energy:  -1.5317969 ... j 0.51\n",
      "energy:  -1.5317969 ... j 0.51\n",
      "energy:  -1.5318187 ... j 0.51\n",
      "energy:  -1.5318413 ... j 0.51\n",
      "energy:  -1.5318413 ... j 0.51\n",
      "energy:  -1.5318413 ... j 0.51\n",
      "energy:  -1.5318413 ... j 0.51\n",
      "energy:  -1.5318413 ... j 0.51\n",
      "energy:  -1.5318413 ... j 0.51\n",
      "energy:  -1.5318413 ... j 0.51\n",
      "energy:  -1.5318413 ... j 0.51\n",
      "energy:  -1.5318413 ... j 0.51\n",
      "energy:  -1.5318413 ... j 0.51\n"
     ]
    },
    {
     "name": "stderr",
     "output_type": "stream",
     "text": [
      "\r",
      " 29%|██▊       | 6/21 [02:57<07:13, 28.90s/it]"
     ]
    },
    {
     "name": "stdout",
     "output_type": "stream",
     "text": [
      "energy:  -1.5318413 ... j 0.51\n",
      "energy:  -1.5452645 ... j 0.6100000000000001\n",
      "energy:  -1.5453395 ... j 0.6100000000000001\n",
      "energy:  -1.5453395 ... j 0.6100000000000001\n",
      "energy:  -1.5453395 ... j 0.6100000000000001\n",
      "energy:  -1.6285498 ... j 0.6100000000000001\n",
      "energy:  -1.6286851 ... j 0.6100000000000001\n",
      "energy:  -1.6287029 ... j 0.6100000000000001\n",
      "energy:  -1.6287029 ... j 0.6100000000000001\n",
      "energy:  -1.6287029 ... j 0.6100000000000001\n",
      "energy:  -1.6287029 ... j 0.6100000000000001\n",
      "energy:  -1.6287061 ... j 0.6100000000000001\n",
      "energy:  -1.628604 ... j 0.6100000000000001\n",
      "energy:  -1.6287352 ... j 0.6100000000000001\n",
      "energy:  -1.6287352 ... j 0.6100000000000001\n"
     ]
    },
    {
     "name": "stderr",
     "output_type": "stream",
     "text": [
      "\r",
      " 33%|███▎      | 7/21 [03:51<08:27, 36.28s/it]"
     ]
    },
    {
     "name": "stdout",
     "output_type": "stream",
     "text": [
      "energy:  -1.6286924 ... j 0.6100000000000001\n",
      "energy:  -1.5 ... j 0.7100000000000001\n",
      "energy:  -1.4999893 ... j 0.7100000000000001\n",
      "energy:  -1.4999893 ... j 0.7100000000000001\n",
      "energy:  -1.4999893 ... j 0.7100000000000001\n",
      "energy:  -1.4999893 ... j 0.7100000000000001\n",
      "energy:  -1.4999893 ... j 0.7100000000000001\n",
      "energy:  -1.4999893 ... j 0.7100000000000001\n",
      "energy:  -1.4999893 ... j 0.7100000000000001\n",
      "energy:  -1.4999893 ... j 0.7100000000000001\n",
      "energy:  -1.4999893 ... j 0.7100000000000001\n",
      "energy:  -1.4999893 ... j 0.7100000000000001\n",
      "energy:  -1.4999893 ... j 0.7100000000000001\n",
      "energy:  -1.4999893 ... j 0.7100000000000001\n",
      "energy:  -1.4999893 ... j 0.7100000000000001\n"
     ]
    },
    {
     "name": "stderr",
     "output_type": "stream",
     "text": [
      "\r",
      " 38%|███▊      | 8/21 [03:53<05:39, 26.14s/it]"
     ]
    },
    {
     "name": "stdout",
     "output_type": "stream",
     "text": [
      "energy:  -1.4999893 ... j 0.7100000000000001\n",
      "energy:  -1.5000002 ... j 0.81\n",
      "energy:  -1.6043473 ... j 0.81\n",
      "energy:  -1.6897875 ... j 0.81\n",
      "energy:  -1.6897875 ... j 0.81\n",
      "energy:  -1.677931 ... j 0.81\n",
      "energy:  -1.677931 ... j 0.81\n",
      "energy:  -1.677931 ... j 0.81\n",
      "energy:  -1.677931 ... j 0.81\n",
      "energy:  -1.677931 ... j 0.81\n",
      "energy:  -1.5787048 ... j 0.81\n",
      "energy:  -1.7522261 ... j 0.81\n",
      "energy:  -1.7521169 ... j 0.81\n",
      "energy:  -1.6415904 ... j 0.81\n",
      "energy:  -1.7929858 ... j 0.81\n"
     ]
    },
    {
     "name": "stderr",
     "output_type": "stream",
     "text": [
      "\r",
      " 43%|████▎     | 9/21 [04:50<07:04, 35.35s/it]"
     ]
    },
    {
     "name": "stdout",
     "output_type": "stream",
     "text": [
      "energy:  -1.7929858 ... j 0.81\n",
      "energy:  -1.59852 ... j 0.91\n",
      "energy:  -1.5984923 ... j 0.91\n",
      "energy:  -1.6904706 ... j 0.91\n",
      "energy:  -1.6904706 ... j 0.91\n",
      "energy:  -1.6904706 ... j 0.91\n",
      "energy:  -1.6904706 ... j 0.91\n",
      "energy:  -1.6904706 ... j 0.91\n",
      "energy:  -1.6904706 ... j 0.91\n",
      "energy:  -1.6904706 ... j 0.91\n",
      "energy:  -1.6904706 ... j 0.91\n",
      "energy:  -1.6904706 ... j 0.91\n",
      "energy:  -1.6904706 ... j 0.91\n",
      "energy:  -1.6904706 ... j 0.91\n",
      "energy:  -1.6904706 ... j 0.91\n"
     ]
    },
    {
     "name": "stderr",
     "output_type": "stream",
     "text": [
      "\r",
      " 48%|████▊     | 10/21 [05:21<06:15, 34.15s/it]"
     ]
    },
    {
     "name": "stdout",
     "output_type": "stream",
     "text": [
      "energy:  -1.6904706 ... j 0.91\n",
      "energy:  -1.5 ... j 1.01\n",
      "energy:  -1.4999943 ... j 1.01\n",
      "energy:  -1.4999943 ... j 1.01\n",
      "energy:  -1.4999943 ... j 1.01\n",
      "energy:  -1.4999943 ... j 1.01\n",
      "energy:  -1.4999943 ... j 1.01\n",
      "energy:  -1.4999943 ... j 1.01\n",
      "energy:  -1.4999943 ... j 1.01\n",
      "energy:  -1.4999943 ... j 1.01\n",
      "energy:  -1.4999943 ... j 1.01\n",
      "energy:  -1.4999943 ... j 1.01\n",
      "energy:  -1.4999943 ... j 1.01\n",
      "energy:  -1.4999943 ... j 1.01\n",
      "energy:  -1.4999943 ... j 1.01\n"
     ]
    },
    {
     "name": "stderr",
     "output_type": "stream",
     "text": [
      "\r",
      " 52%|█████▏    | 11/21 [05:24<04:05, 24.55s/it]"
     ]
    },
    {
     "name": "stdout",
     "output_type": "stream",
     "text": [
      "energy:  -1.4999943 ... j 1.01\n",
      "energy:  -1.6436121 ... j 1.11\n",
      "energy:  -1.6436228 ... j 1.11\n",
      "energy:  -2.025188 ... j 1.11\n",
      "energy:  -2.025191 ... j 1.11\n",
      "energy:  -2.088687 ... j 1.11\n",
      "energy:  -2.088687 ... j 1.11\n",
      "energy:  -2.088687 ... j 1.11\n",
      "energy:  -2.088687 ... j 1.11\n",
      "energy:  -2.088687 ... j 1.11\n",
      "energy:  -2.088687 ... j 1.11\n",
      "energy:  -2.088687 ... j 1.11\n",
      "energy:  -2.088687 ... j 1.11\n",
      "energy:  -2.088687 ... j 1.11\n",
      "energy:  -2.088687 ... j 1.11\n"
     ]
    },
    {
     "name": "stderr",
     "output_type": "stream",
     "text": [
      "\r",
      " 57%|█████▋    | 12/21 [06:20<05:08, 34.25s/it]"
     ]
    },
    {
     "name": "stdout",
     "output_type": "stream",
     "text": [
      "energy:  -2.088687 ... j 1.11\n",
      "energy:  -1.6687062 ... j 1.2100000000000002\n",
      "energy:  -1.6686425 ... j 1.2100000000000002\n",
      "energy:  -1.6687459 ... j 1.2100000000000002\n",
      "energy:  -1.6687459 ... j 1.2100000000000002\n",
      "energy:  -2.134998 ... j 1.2100000000000002\n",
      "energy:  -2.135102 ... j 1.2100000000000002\n",
      "energy:  -2.2215908 ... j 1.2100000000000002\n",
      "energy:  -2.2242944 ... j 1.2100000000000002\n",
      "energy:  -2.2245877 ... j 1.2100000000000002\n",
      "energy:  -2.2245877 ... j 1.2100000000000002\n",
      "energy:  -2.2245877 ... j 1.2100000000000002\n",
      "energy:  -2.2245877 ... j 1.2100000000000002\n",
      "energy:  -2.2245877 ... j 1.2100000000000002\n",
      "energy:  -2.2245877 ... j 1.2100000000000002\n"
     ]
    },
    {
     "name": "stderr",
     "output_type": "stream",
     "text": [
      "\r",
      " 62%|██████▏   | 13/21 [07:27<05:52, 44.02s/it]"
     ]
    },
    {
     "name": "stdout",
     "output_type": "stream",
     "text": [
      "energy:  -2.2245877 ... j 1.2100000000000002\n",
      "energy:  -1.5 ... j 1.31\n",
      "energy:  -1.4999986 ... j 1.31\n",
      "energy:  -1.4999986 ... j 1.31\n",
      "energy:  -1.4999986 ... j 1.31\n",
      "energy:  -1.4999986 ... j 1.31\n",
      "energy:  -1.4999986 ... j 1.31\n",
      "energy:  -1.4999986 ... j 1.31\n",
      "energy:  -1.4999986 ... j 1.31\n",
      "energy:  -1.4999986 ... j 1.31\n",
      "energy:  -1.4999986 ... j 1.31\n"
     ]
    },
    {
     "name": "stderr",
     "output_type": "stream",
     "text": [
      "\r",
      " 67%|██████▋   | 14/21 [07:30<03:40, 31.55s/it]"
     ]
    },
    {
     "name": "stdout",
     "output_type": "stream",
     "text": [
      "energy:  -1.4999986 ... j 1.31\n",
      "energy:  -1.4999986 ... j 1.31\n",
      "energy:  -1.4999986 ... j 1.31\n",
      "energy:  -1.4999986 ... j 1.31\n",
      "energy:  -1.4999986 ... j 1.31\n",
      "energy:  -1.7235248 ... j 1.4100000000000001\n",
      "energy:  -2.3003674 ... j 1.4100000000000001\n",
      "energy:  -2.3810244 ... j 1.4100000000000001\n",
      "energy:  -2.3820806 ... j 1.4100000000000001\n",
      "energy:  -2.3820252 ... j 1.4100000000000001\n",
      "energy:  -2.3820252 ... j 1.4100000000000001\n",
      "energy:  -2.3797657 ... j 1.4100000000000001\n",
      "energy:  -2.3821301 ... j 1.4100000000000001\n",
      "energy:  -2.3835657 ... j 1.4100000000000001\n",
      "energy:  -2.394948 ... j 1.4100000000000001\n",
      "energy:  -2.394948 ... j 1.4100000000000001\n",
      "energy:  -2.394948 ... j 1.4100000000000001\n",
      "energy:  -2.3860343 ... j 1.4100000000000001\n",
      "energy:  -2.459811 ... j 1.4100000000000001\n"
     ]
    },
    {
     "name": "stderr",
     "output_type": "stream",
     "text": [
      "\r",
      " 71%|███████▏  | 15/21 [08:23<03:48, 38.04s/it]"
     ]
    },
    {
     "name": "stdout",
     "output_type": "stream",
     "text": [
      "energy:  -2.3864408 ... j 1.4100000000000001\n",
      "energy:  -2.43392 ... j 1.51\n",
      "energy:  -2.4362428 ... j 1.51\n",
      "energy:  -1.7726269 ... j 1.51\n",
      "energy:  -2.437416 ... j 1.51\n",
      "energy:  -2.4992375 ... j 1.51\n",
      "energy:  -2.499535 ... j 1.51\n",
      "energy:  -2.499535 ... j 1.51\n",
      "energy:  -2.499535 ... j 1.51\n",
      "energy:  -2.499535 ... j 1.51\n",
      "energy:  -2.5837402 ... j 1.51\n",
      "energy:  -2.5837598 ... j 1.51\n",
      "energy:  -2.5837598 ... j 1.51\n",
      "energy:  -2.5837598 ... j 1.51\n",
      "energy:  -2.5837598 ... j 1.51\n"
     ]
    },
    {
     "name": "stderr",
     "output_type": "stream",
     "text": [
      "\r",
      " 76%|███████▌  | 16/21 [09:02<03:12, 38.48s/it]"
     ]
    },
    {
     "name": "stdout",
     "output_type": "stream",
     "text": [
      "energy:  -2.5837598 ... j 1.51\n",
      "energy:  -1.5 ... j 1.61\n",
      "energy:  -1.4999924 ... j 1.61\n",
      "energy:  -1.4999924 ... j 1.61\n",
      "energy:  -1.4999924 ... j 1.61\n",
      "energy:  -1.4999924 ... j 1.61\n",
      "energy:  -1.4999924 ... j 1.61\n",
      "energy:  -1.4999924 ... j 1.61\n",
      "energy:  -1.4999924 ... j 1.61\n",
      "energy:  -1.4999924 ... j 1.61\n",
      "energy:  -1.4999924 ... j 1.61\n",
      "energy:  -1.4999924 ... j 1.61\n",
      "energy:  -1.4999924 ... j 1.61\n",
      "energy:  -1.4999924 ... j 1.61\n",
      "energy:  -1.4999924 ... j 1.61\n"
     ]
    },
    {
     "name": "stderr",
     "output_type": "stream",
     "text": [
      "\r",
      " 81%|████████  | 17/21 [09:05<01:50, 27.57s/it]"
     ]
    },
    {
     "name": "stdout",
     "output_type": "stream",
     "text": [
      "energy:  -1.4999924 ... j 1.61\n",
      "energy:  -1.8155172 ... j 1.7100000000000002\n",
      "energy:  -1.8155296 ... j 1.7100000000000002\n",
      "energy:  -1.8155296 ... j 1.7100000000000002\n",
      "energy:  -1.815556 ... j 1.7100000000000002\n",
      "energy:  -2.7826166 ... j 1.7100000000000002\n",
      "energy:  -2.7826166 ... j 1.7100000000000002\n",
      "energy:  -2.7826166 ... j 1.7100000000000002\n",
      "energy:  -2.7826166 ... j 1.7100000000000002\n",
      "energy:  -2.714466 ... j 1.7100000000000002\n",
      "energy:  -2.7839873 ... j 1.7100000000000002\n",
      "energy:  -2.7839873 ... j 1.7100000000000002\n",
      "energy:  -2.7128654 ... j 1.7100000000000002\n",
      "energy:  -1.815607 ... j 1.7100000000000002\n",
      "energy:  -2.785042 ... j 1.7100000000000002\n"
     ]
    },
    {
     "name": "stderr",
     "output_type": "stream",
     "text": [
      "\r",
      " 86%|████████▌ | 18/21 [09:46<01:35, 31.80s/it]"
     ]
    },
    {
     "name": "stdout",
     "output_type": "stream",
     "text": [
      "energy:  -2.787738 ... j 1.7100000000000002\n",
      "energy:  -2.8532727 ... j 1.81\n",
      "energy:  -2.8544025 ... j 1.81\n",
      "energy:  -2.8964741 ... j 1.81\n",
      "energy:  -2.8964741 ... j 1.81\n",
      "energy:  -2.8964741 ... j 1.81\n",
      "energy:  -2.9202619 ... j 1.81\n",
      "energy:  -2.9208715 ... j 1.81\n",
      "energy:  -2.9214056 ... j 1.81\n",
      "energy:  -2.9211602 ... j 1.81\n",
      "energy:  -2.9211602 ... j 1.81\n",
      "energy:  -2.9207 ... j 1.81\n",
      "energy:  -2.9349835 ... j 1.81\n",
      "energy:  -2.9720788 ... j 1.81\n",
      "energy:  -2.9720788 ... j 1.81\n"
     ]
    },
    {
     "name": "stderr",
     "output_type": "stream",
     "text": [
      "\r",
      " 90%|█████████ | 19/21 [10:38<01:15, 37.91s/it]"
     ]
    },
    {
     "name": "stdout",
     "output_type": "stream",
     "text": [
      "energy:  -2.9720788 ... j 1.81\n",
      "energy:  -1.8823726 ... j 1.9100000000000001\n",
      "energy:  -2.9940157 ... j 1.9100000000000001\n",
      "energy:  -3.0583725 ... j 1.9100000000000001\n",
      "energy:  -2.9973135 ... j 1.9100000000000001\n",
      "energy:  -3.0599647 ... j 1.9100000000000001\n",
      "energy:  -3.0593762 ... j 1.9100000000000001\n",
      "energy:  -3.060374 ... j 1.9100000000000001\n",
      "energy:  -3.0383456 ... j 1.9100000000000001\n",
      "energy:  -3.0606995 ... j 1.9100000000000001\n",
      "energy:  -3.0606995 ... j 1.9100000000000001\n",
      "energy:  -3.1055803 ... j 1.9100000000000001\n",
      "energy:  -3.1046906 ... j 1.9100000000000001\n",
      "energy:  -3.1055279 ... j 1.9100000000000001\n",
      "energy:  -3.1048894 ... j 1.9100000000000001\n"
     ]
    },
    {
     "name": "stderr",
     "output_type": "stream",
     "text": [
      "\r",
      " 95%|█████████▌| 20/21 [12:11<00:54, 54.37s/it]"
     ]
    },
    {
     "name": "stdout",
     "output_type": "stream",
     "text": [
      "energy:  -3.1048894 ... j 1.9100000000000001\n",
      "energy:  -1.5 ... j 2.01\n",
      "energy:  -1.4999967 ... j 2.01\n",
      "energy:  -1.4999967 ... j 2.01\n",
      "energy:  -1.4999967 ... j 2.01\n",
      "energy:  -1.4999967 ... j 2.01\n",
      "energy:  -1.4999967 ... j 2.01\n",
      "energy:  -1.4999967 ... j 2.01\n",
      "energy:  -1.4999967 ... j 2.01\n",
      "energy:  -1.4999967 ... j 2.01\n",
      "energy:  -1.4999967 ... j 2.01\n",
      "energy:  -1.4999967 ... j 2.01\n",
      "energy:  -1.4999967 ... j 2.01\n",
      "energy:  -1.4999967 ... j 2.01\n",
      "energy:  -1.4999967 ... j 2.01\n"
     ]
    },
    {
     "name": "stderr",
     "output_type": "stream",
     "text": [
      "100%|██████████| 21/21 [12:13<00:00, 34.94s/it]"
     ]
    },
    {
     "name": "stdout",
     "output_type": "stream",
     "text": [
      "energy:  -1.4999967 ... j 2.01\n"
     ]
    },
    {
     "name": "stderr",
     "output_type": "stream",
     "text": [
      "\n"
     ]
    }
   ],
   "source": [
    "sols = {}\n",
    "for j in tqdm(np.arange(.01,2.1,.1)):\n",
    "\n",
    "    sol = Solver(n_qubits= 3, qlr=0.1, qepochs=100, g=1, J=j)\n",
    "    history_energies=[]\n",
    "    best_energies_found = []\n",
    "\n",
    "    gates_index = [sol.number_of_cnots] ## begin with a certain circuit\n",
    "    gates_index, resolver, energy= sol.run_circuit_from_index(gates_index)\n",
    "    sol.current_circuit = gates_index\n",
    "\n",
    "    cnots_number = []\n",
    "    for k in range(15):\n",
    "\n",
    "        which_block = np.random.choice([0,1], p=[.5,.5])\n",
    "        if which_block == 0:\n",
    "            qubit = np.random.choice(sol.n_qubits)\n",
    "            block_to_insert = sol.resolution_1qubit(qubit)\n",
    "        else:\n",
    "            qubits = np.random.choice(sol.n_qubits, 2,replace = False)\n",
    "            block_to_insert = sol.resolution_2cnots(qubits[0], qubits[1])\n",
    "            insertion_index = np.random.choice(max(1,len(gates_index))) #gives index between \\in [0, len(gates_index) )\n",
    "\n",
    "        ### optimize the circuit with the block appended. This is tricky since we initialize\n",
    "        ###  the continuous parameters with the older ones, and the \"block ones\" close to identity\n",
    "        circuit, variables = sol.prepare_circuit_insertion(gates_index, block_to_insert, insertion_index)\n",
    "        model = sol.initialize_model_insertion(variables) ### initialize the model in the previously optimized parameters & resolution to identity for the block\n",
    "\n",
    "        gates_index, resolver, energy = sol.optimize_and_update(model, circuit, variables, insertion_index) #inside, if better circuit is found, saves it.\n",
    "        s=0\n",
    "        for k in range(50):\n",
    "            gates_index, resolver, energy, simplified =  sol.kill_one_unitary(gates_index, resolver, energy)\n",
    "            if simplified is False:\n",
    "                s+=-1\n",
    "            else:\n",
    "                s+=1\n",
    "            if s<-15:\n",
    "                break\n",
    "\n",
    "        ### now I simplify the circuit and if the length is changed I run the optimization again\n",
    "        simplified_gates_index = sol.simplify_circuit(gates_index)\n",
    "        if len(simplified_gates_index)<len(gates_index):\n",
    "            gates_index, resolver, energy = sol.run_circuit_from_index(simplified_gates_index)\n",
    "            sol.current_circuit = gates_index\n",
    "            sol.resolver = resolver\n",
    "            #sol.best_cnots_number.append(sol.count_cnots_number(gates_index))\n",
    "        sol.new_resolver = {}\n",
    "        history_energies.append(energy)\n",
    "        best_energies_found.append(sol.lowest_energy_found)\n",
    "\n",
    "        print(\"energy: \", energy, \"... j\", j)\n",
    "    sols[str(j)] = sol"
   ]
  },
  {
   "cell_type": "code",
   "execution_count": 91,
   "metadata": {},
   "outputs": [
    {
     "data": {
      "text/plain": [
       "array([0.01, 0.11, 0.21, 0.31, 0.41, 0.51, 0.61, 0.71, 0.81, 0.91, 1.01,\n",
       "       1.11, 1.21, 1.31, 1.41, 1.51, 1.61, 1.71, 1.81, 1.91, 2.01])"
      ]
     },
     "execution_count": 91,
     "metadata": {},
     "output_type": "execute_result"
    }
   ],
   "source": [
    "np.arange(.01,2.1,.1)"
   ]
  },
  {
   "cell_type": "code",
   "execution_count": 92,
   "metadata": {},
   "outputs": [
    {
     "data": {
      "text/plain": [
       "21"
      ]
     },
     "execution_count": 92,
     "metadata": {},
     "output_type": "execute_result"
    }
   ],
   "source": [
    "len(np.loadtxt(\"vals_comparison.csv\"))"
   ]
  },
  {
   "cell_type": "code",
   "execution_count": 121,
   "metadata": {},
   "outputs": [
    {
     "data": {
      "text/plain": [
       "[4, 5, 0, 5, 6, 1, 5, 0, 8, 2, 0, 5, 7, 0, 7, 4, 0, 4, 4, 11, 0]"
      ]
     },
     "execution_count": 121,
     "metadata": {},
     "output_type": "execute_result"
    }
   ],
   "source": [
    "[k.count_number_cnots(k.best_circuit_found) for k in sols.values()]"
   ]
  },
  {
   "cell_type": "code",
   "execution_count": 131,
   "metadata": {},
   "outputs": [
    {
     "data": {
      "text/plain": [
       "Text(0, 0.5, 'CNOTs')"
      ]
     },
     "execution_count": 131,
     "metadata": {},
     "output_type": "execute_result"
    },
    {
     "data": {
      "image/png": "[encoded data removed]",
      "text/plain": [
       "<Figure size 1440x720 with 2 Axes>"
      ]
     },
     "metadata": {
      "needs_background": "light"
     },
     "output_type": "display_data"
    }
   ],
   "source": [
    "plt.figure(figsize=(20,10))\n",
    "plt.title(r'$H = -\\sum_i^{n=3} \\; Z_i - \\;J \\sum_i^{n=3} X_i X_{i+1}$', size=25)\n",
    "ax1 = plt.subplot2grid((1,2),(0,0))\n",
    "ax2= plt.subplot2grid((1,2),(0,1))\n",
    "\n",
    "ax1.set_ylabel(\"Lowest energy found\", size=20)\n",
    "ax1.set_xlabel(\"J\", size=20)\n",
    "\n",
    "js = np.arange(.01,2.1,.1)\n",
    "ax1.scatter(js,[k.lowest_energy_found for k in sols.values()], marker=\"*\",alpha=.75, s=80, c=\"blue\",label=\"Lowest energy found after 15 its\")\n",
    "ax1.scatter(js,np.loadtxt(\"vals_comparison.csv\"), alpha=.5, s=80, c=\"red\",label=\"Ground state\")\n",
    "ax1.legend(prop={\"size\":20})\n",
    "#plt.xticks(js, size=30)\n",
    "\n",
    "ax2.scatter(js, [k.count_number_cnots(k.best_circuit_found) for k in sols.values()], alpha=1, s=100)\n",
    "ax2.set_xlabel(\"J\")\n",
    "ax2.set_ylabel(\"CNOTs\")"
   ]
  },
  {
   "cell_type": "markdown",
   "metadata": {},
   "source": []
  },
  {
   "cell_type": "code",
   "execution_count": 81,
   "metadata": {},
   "outputs": [
    {
     "data": {
      "text/plain": [
       "array([-1.50003769, -1.50478945, -1.51829075, -1.54162281, -1.57568938,\n",
       "       -1.62108314, -1.67798339, -1.74612289, -1.82483694, -1.91317535,\n",
       "       -2.01003731, -2.11429222, -2.22486606, -2.34079088, -2.4612245 ,\n",
       "       -2.58545105, -2.71287073, -2.84298521, -2.97538212, -3.10972052])"
      ]
     },
     "execution_count": 81,
     "metadata": {},
     "output_type": "execute_result"
    }
   ],
   "source": []
  },
  {
   "cell_type": "code",
   "execution_count": 80,
   "metadata": {},
   "outputs": [
    {
     "data": {
      "text/plain": [
       "<_csv.reader at 0x7f9d1ecd1668>"
      ]
     },
     "execution_count": 80,
     "metadata": {},
     "output_type": "execute_result"
    }
   ],
   "source": [
    "csv.reader(\"vals_comparison.csv\")"
   ]
  },
  {
   "cell_type": "code",
   "execution_count": 50,
   "metadata": {},
   "outputs": [
    {
     "data": {
      "text/html": [
       "<pre style=\"overflow: auto; white-space: pre;\">(0, 0): ───Rz(th_3)───Rx(th_4)───Rz(th_5)───@───Rz(th_6)───Rx(th_7)───Rz(th_8)───@───X───Rz(th_9)───Rx(th_10)───Rz(th_11)───\n",
       "                                            │                                    │   │\n",
       "(0, 1): ───Rz(th_0)───Rx(th_1)───Rz(th_2)───X────────────────────────────────────X───@──────────────────────────────────────</pre>"
      ],
      "text/plain": [
       "(0, 0): ───Rz(th_3)───Rx(th_4)───Rz(th_5)───@───Rz(th_6)───Rx(th_7)───Rz(th_8)───@───X───Rz(th_9)───Rx(th_10)───Rz(th_11)───\n",
       "                                            │                                    │   │\n",
       "(0, 1): ───Rz(th_0)───Rx(th_1)───Rz(th_2)───X────────────────────────────────────X───@──────────────────────────────────────"
      ]
     },
     "execution_count": 50,
     "metadata": {},
     "output_type": "execute_result"
    }
   ],
   "source": [
    "sol.give_circuit(sol.simplify_circuit(sol.best_circuit_found))[0]"
   ]
  },
  {
   "cell_type": "code",
   "execution_count": 48,
   "metadata": {},
   "outputs": [
    {
     "data": {
      "text/plain": [
       "[3, 2, 0, 2, 3, 0, 1, 2]"
      ]
     },
     "execution_count": 48,
     "metadata": {},
     "output_type": "execute_result"
    }
   ],
   "source": [
    "sol.best_circuit_found"
   ]
  },
  {
   "cell_type": "code",
   "execution_count": 59,
   "metadata": {},
   "outputs": [
    {
     "data": {
      "text/plain": [
       "Text(0.5, 0, 'iteration')"
      ]
     },
     "execution_count": 59,
     "metadata": {},
     "output_type": "execute_result"
    },
    {
     "data": {
      "image/png": "[encoded data removed]",
      "text/plain": [
       "<Figure size 432x288 with 1 Axes>"
      ]
     },
     "metadata": {
      "needs_background": "light"
     },
     "output_type": "display_data"
    }
   ],
   "source": [
    "plt.plot(range(len(history_energies)), history_energies, linewidth=4, alpha=.5, color= \"blue\")\n",
    "plt.scatter(range(len(history_energies)), history_energies,  s=60,alpha=.9, color= \"blue\", label=\"4 qubits\")\n",
    "plt.ylabel(\"Lowest energy found\", size=20)\n",
    "plt.xticks(range(len(history_energies)))\n",
    "plt.xlabel(\"iteration\", size=20)"
   ]
  },
  {
   "cell_type": "code",
   "execution_count": 72,
   "metadata": {},
   "outputs": [],
   "source": [
    "hist5 = history_energies"
   ]
  },
  {
   "cell_type": "code",
   "execution_count": 87,
   "metadata": {},
   "outputs": [
    {
     "data": {
      "image/png": "[encoded data removed]",
      "text/plain": [
       "<Figure size 720x720 with 1 Axes>"
      ]
     },
     "metadata": {
      "needs_background": "light"
     },
     "output_type": "display_data"
    }
   ],
   "source": [
    "plt.figure(figsize=(10,10))\n",
    "plt.title(r'$H = \\sum_i^{n} \\; Z_i$', size=25)\n",
    "plt.ylabel(\"Lowest energy found\", size=20)\n",
    "plt.xticks(range(len(history_energies)))\n",
    "plt.xlabel(\"iteration\", size=20)\n",
    "plt.legend(prop={\"size\":40})\n",
    "\n",
    "plt.plot(range(len(history_energies)), history_energies, linewidth=4, alpha=.5, color= \"red\")\n",
    "plt.scatter(range(len(history_energies)), history_energies,  s=60,alpha=.9, color= \"red\", label=\"n=4\")\n",
    "plt.plot(range(len(hist5)), hist5, linewidth=4, alpha=.5, color= \"blue\")\n",
    "plt.scatter(range(len(history_energies)), hist5,  s=60,alpha=.9, color= \"blue\", label=\"n=5\")\n",
    "plt.ylabel(\"Lowest energy found\", size=20)\n",
    "plt.xticks(range(len(history_energies)))\n",
    "plt.xlabel(\"iteration\", size=20)\n",
    "plt.legend(prop={\"size\":40})\n",
    "plt.savefig(\"preliminar_diagonal_ising.png\")"
   ]
  },
  {
   "cell_type": "code",
   "execution_count": 83,
   "metadata": {},
   "outputs": [
    {
     "data": {
      "text/plain": [
       "<Figure size 432x288 with 0 Axes>"
      ]
     },
     "metadata": {},
     "output_type": "display_data"
    }
   ],
   "source": []
  },
  {
   "cell_type": "code",
   "execution_count": 85,
   "metadata": {},
   "outputs": [
    {
     "data": {
      "text/html": [
       "<pre style=\"overflow: auto; white-space: pre;\">                                                                                                               ┌──┐                                               ┌──┐                                       ┌──┐\n",
       "(0, 0): ───Rz(th_0)────Rx(th_1)────Rz(th_2)────X───Rz(th_12)───Rx(th_13)───Rz(th_14)────────────────────────────@─────Rz(th_18)───Rx(th_19)───Rz(th_20)───@────────X─────Rz(th_24)───Rx(th_25)───Rz(th_26)────X─────Rz(th_33)───Rx(th_34)───Rz(th_35)───\n",
       "                                               │                                                                │                                         │        │                                          │\n",
       "(0, 1): ───Rz(th_15)───Rx(th_16)───Rz(th_17)───┼────────────────────────────────────────────────────────────────┼X────────────────────────────────────────┼────────┼X────Rz(th_30)───Rx(th_31)───Rz(th_32)────┼X────────────────────────────────────────\n",
       "                                               │                                                                ││                                        │        ││                                         ││\n",
       "(0, 2): ───Rz(th_3)────Rx(th_4)────Rz(th_5)────┼───@───────────X───────────Rz(th_9)────Rx(th_10)───Rz(th_11)────┼@────────────────────────────────────────┼───X────@┼────Rz(th_21)───Rx(th_22)───Rz(th_23)────@┼────────────────────────────────────────\n",
       "                                               │   │           │                                                │                                         │   │     │                                          │\n",
       "(0, 3): ───────────────────────────────────────@───X───────────@───────────Rz(th_6)────Rx(th_7)────Rz(th_8)─────X─────────────────────────────────────────X───@─────@────Rz(th_27)───Rx(th_28)───Rz(th_29)─────@────────────────────────────────────────\n",
       "                                                                                                               └──┘                                               └──┘                                       └──┘</pre>"
      ],
      "text/plain": [
       "                                                                                                               ┌──┐                                               ┌──┐                                       ┌──┐\n",
       "(0, 0): ───Rz(th_0)────Rx(th_1)────Rz(th_2)────X───Rz(th_12)───Rx(th_13)───Rz(th_14)────────────────────────────@─────Rz(th_18)───Rx(th_19)───Rz(th_20)───@────────X─────Rz(th_24)───Rx(th_25)───Rz(th_26)────X─────Rz(th_33)───Rx(th_34)───Rz(th_35)───\n",
       "                                               │                                                                │                                         │        │                                          │\n",
       "(0, 1): ───Rz(th_15)───Rx(th_16)───Rz(th_17)───┼────────────────────────────────────────────────────────────────┼X────────────────────────────────────────┼────────┼X────Rz(th_30)───Rx(th_31)───Rz(th_32)────┼X────────────────────────────────────────\n",
       "                                               │                                                                ││                                        │        ││                                         ││\n",
       "(0, 2): ───Rz(th_3)────Rx(th_4)────Rz(th_5)────┼───@───────────X───────────Rz(th_9)────Rx(th_10)───Rz(th_11)────┼@────────────────────────────────────────┼───X────@┼────Rz(th_21)───Rx(th_22)───Rz(th_23)────@┼────────────────────────────────────────\n",
       "                                               │   │           │                                                │                                         │   │     │                                          │\n",
       "(0, 3): ───────────────────────────────────────@───X───────────@───────────Rz(th_6)────Rx(th_7)────Rz(th_8)─────X─────────────────────────────────────────X───@─────@────Rz(th_27)───Rx(th_28)───Rz(th_29)─────@────────────────────────────────────────\n",
       "                                                                                                               └──┘                                               └──┘                                       └──┘"
      ]
     },
     "execution_count": 85,
     "metadata": {},
     "output_type": "execute_result"
    }
   ],
   "source": [
    "sol.give_circuit(sol.best_circuit_found)[0]"
   ]
  },
  {
   "cell_type": "code",
   "execution_count": null,
   "metadata": {},
   "outputs": [],
   "source": []
  }
 ],
 "metadata": {
  "kernelspec": {
   "display_name": "Python 3",
   "language": "python",
   "name": "python3"
  },
  "language_info": {
   "codemirror_mode": {
    "name": "ipython",
    "version": 3
   },
   "file_extension": ".py",
   "mimetype": "text/x-python",
   "name": "python",
   "nbconvert_exporter": "python",
   "pygments_lexer": "ipython3",
   "version": "3.6.9"
  }
 },
 "nbformat": 4,
 "nbformat_minor": 4
}
