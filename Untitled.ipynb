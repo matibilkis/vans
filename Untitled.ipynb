{
 "cells": [
  {
   "cell_type": "code",
   "execution_count": null,
   "metadata": {},
   "outputs": [],
   "source": [
    "\n",
    "import numpy as np\n",
    "import sympy\n",
    "import cirq\n",
    "import tensorflow_quantum as tfq\n",
    "from tqdm import tqdm\n",
    "import tensorflow as tf\n",
    "\n",
    "from utilities.variational import VQE\n",
    "from utilities.circuit_basics import Evaluator\n",
    "from utilities.idinserter import IdInserter\n",
    "from utilities.simplifier import Simplifier\n",
    "from utilities.unitary_killer import UnitaryMurder\n",
    "\n",
    "n_qubits = 4\n",
    "qlr = 0.01\n",
    "qepochs = 10**3\n",
    "verbose=0\n",
    "g=1\n",
    "J=0\n",
    "noise=0.0\n",
    "problem=\"TFIM\"\n",
    "vqe_handler = VQE(n_qubits=n_qubits, lr=qlr, epochs=qepochs, patience=100,\n",
    "                  random_perturbations=True, verbose=verbose, g=g, J = J, noise=noise, problem=problem)\n",
    "\n",
    "iid = IdInserter(n_qubits=n_qubits)\n",
    "Simp = Simplifier(n_qubits=n_qubits)\n",
    "killer = UnitaryMurder(vqe_handler)\n",
    "indexed_circuit=[vqe_handler.number_of_cnots+k for k in range(vqe_handler.n_qubits,2*vqe_handler.n_qubits)]\n",
    "\n",
    "\n",
    "circuit, symbols, idx_symbols = vqe_handler.give_circuit(indexed_circuit)\n",
    "\n",
    "\n"
   ]
  },
  {
   "cell_type": "code",
   "execution_count": null,
   "metadata": {},
   "outputs": [],
   "source": [
    "\n",
    "\n",
    "pauls = [cirq.X, cirq.Y, cirq.Z]\n",
    "circuit_res = cirq.resolve_parameters(circuit, {s:0 for s,k in zip(symbols, range(len(symbols)))})\n",
    "p=0.01\n",
    "cbatch = []\n",
    "totals=10**3\n",
    "for k in range(totals):\n",
    "    circ = circuit.copy()\n",
    "\n",
    "    if k<int((1-p)*totals):\n",
    "        cbatch.append(circ)\n",
    "    elif int((1-p)*totals)<=k:\n",
    "        which = np.random.choice(range(3), 1)[0]\n",
    "        gate = pauls[which]\n",
    "        for q in vqe_handler.qubits:\n",
    "            circ.append(gate.on(q))\n",
    "        cbatch.append(circ)\n"
   ]
  }
 ],
 "metadata": {
  "kernelspec": {
   "display_name": "Python 3",
   "language": "python",
   "name": "python3"
  }
 },
 "nbformat": 4,
 "nbformat_minor": 4
}
