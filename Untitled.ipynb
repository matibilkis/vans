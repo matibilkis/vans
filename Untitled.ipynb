{
 "cells": [
  {
   "cell_type": "code",
   "execution_count": 47,
   "id": "systematic-rapid",
   "metadata": {},
   "outputs": [],
   "source": [
    "from utilities.variational import VQE\n",
    "from utilities.evaluator import Evaluator\n",
    "import numpy as np"
   ]
  },
  {
   "cell_type": "code",
   "execution_count": 5,
   "id": "eastern-conservation",
   "metadata": {},
   "outputs": [],
   "source": [
    "bd = 1.5\n",
    "problem_config ={\"problem\" : \"H2\", \"geometry\": [('H', (0., 0., 0.)), ('H', (0., 0., bd)), ('H', (0., 0., 2*bd)), ('H', (0., 0., 3*bd))], \n",
    "                      \"multiplicity\":1, \"charge\":0, \"basis\":\"sto-3g\"}\n",
    "vqe_handler = VQE(n_qubits=8,problem_config=problem_config)"
   ]
  },
  {
   "cell_type": "code",
   "execution_count": 50,
   "id": "divine-reasoning",
   "metadata": {},
   "outputs": [],
   "source": [
    "exa = np.min(np.linalg.eigvals(sum(vqe_handler.observable).matrix()))"
   ]
  },
  {
   "cell_type": "code",
   "execution_count": 68,
   "id": "material-carbon",
   "metadata": {},
   "outputs": [],
   "source": [
    "folder=\"../data-vans/H4/N8_geometry_[(H, (0.0, 0.0, 0.0)), (H, (0.0, 0.0, 1.5)), (H, (0.0, 0.0, 3.0)), (H, (0.0, 0.0, 4.5))]_multip_1_charge_0_basissto-3g_quiet/run_0/\"\n",
    "last = np.load(folder+\"accuracy_to_end.npy\")"
   ]
  },
  {
   "cell_type": "code",
   "execution_count": 73,
   "id": "otherwise-integer",
   "metadata": {},
   "outputs": [
    {
     "data": {
      "text/plain": [
       "array([1.e-04])"
      ]
     },
     "execution_count": 73,
     "metadata": {},
     "output_type": "execute_result"
    }
   ],
   "source": [
    "last-vqe_handler.lower_bound_energy"
   ]
  },
  {
   "cell_type": "code",
   "execution_count": 76,
   "id": "thick-pipeline",
   "metadata": {},
   "outputs": [
    {
     "data": {
      "text/plain": [
       "-1.2434497875801753e-14"
      ]
     },
     "execution_count": 76,
     "metadata": {},
     "output_type": "execute_result"
    }
   ],
   "source": [
    "vqe_handler.lower_bound_energy+1.996150325518802\n"
   ]
  },
  {
   "cell_type": "code",
   "execution_count": 74,
   "id": "quantitative-program",
   "metadata": {},
   "outputs": [
    {
     "data": {
      "text/plain": [
       "-1.9945503255188144"
      ]
     },
     "execution_count": 74,
     "metadata": {},
     "output_type": "execute_result"
    }
   ],
   "source": []
  },
  {
   "cell_type": "code",
   "execution_count": 14,
   "id": "usual-adult",
   "metadata": {},
   "outputs": [],
   "source": [
    "problem_config ={\"problem\" : \"H4\", \"geometry\": str([('H', (0., 0., 0.)), ('H', (0., 0., bd)), ('H', (0., 0., 2*bd)), ('H', (0., 0., 3*bd))]).replace(\"\\'\",\"\"), \n",
    "                      \"multiplicity\":1, \"charge\":0, \"basis\":\"sto-3g\"}\n",
    "args = {\"n_qubits\":8, \"problem_config\":problem_config}\n",
    "evaluator = Evaluator(args, loading=True,path=\"../data-vans/\",nrun_load=0)"
   ]
  },
  {
   "cell_type": "code",
   "execution_count": 43,
   "id": "superb-semester",
   "metadata": {},
   "outputs": [
    {
     "name": "stdout",
     "output_type": "stream",
     "text": [
      "67 107 0.000296901446548814\n"
     ]
    }
   ],
   "source": [
    "circuit, energy, indexed_circuit, resolver, best_energy, bound = evaluator.evolution[evaluator.get_best_iteration()]\n",
    "print(vqe_handler.count_cnots(indexed_circuit),\n",
    "vqe_handler.count_params(indexed_circuit),energy-vqe_handler.lower_bound_energy)"
   ]
  },
  {
   "cell_type": "code",
   "execution_count": 41,
   "id": "exterior-position",
   "metadata": {},
   "outputs": [
    {
     "name": "stdout",
     "output_type": "stream",
     "text": [
      "63 144 tf.Tensor(0.0021679401, shape=(), dtype=float32)\n"
     ]
    }
   ],
   "source": [
    "circuit, energy, indexed_circuit, resolver, best_energy, bound = evaluator.evolution[0]\n",
    "print(vqe_handler.count_cnots(indexed_circuit),\n",
    "vqe_handler.count_params(indexed_circuit),energy-vqe_handler.lower_bound_energy)"
   ]
  },
  {
   "cell_type": "code",
   "execution_count": 45,
   "id": "expressed-miller",
   "metadata": {},
   "outputs": [
    {
     "data": {
      "text/plain": [
       "9.99999999971024e-05"
      ]
     },
     "execution_count": 45,
     "metadata": {},
     "output_type": "execute_result"
    }
   ],
   "source": [
    "bound-vqe_handler.lower_bound_energy"
   ]
  },
  {
   "cell_type": "code",
   "execution_count": 34,
   "id": "spatial-error",
   "metadata": {},
   "outputs": [
    {
     "name": "stdout",
     "output_type": "stream",
     "text": [
      "63 144\n"
     ]
    }
   ],
   "source": []
  },
  {
   "cell_type": "code",
   "execution_count": 32,
   "id": "plain-return",
   "metadata": {},
   "outputs": [
    {
     "data": {
      "text/plain": [
       "107"
      ]
     },
     "execution_count": 32,
     "metadata": {},
     "output_type": "execute_result"
    }
   ],
   "source": []
  },
  {
   "cell_type": "code",
   "execution_count": 33,
   "id": "intelligent-dayton",
   "metadata": {},
   "outputs": [],
   "source": [
    "circuit, energy, indexed_circuit, resolver, best_energy, bound = evaluator.evolution[0]"
   ]
  },
  {
   "cell_type": "code",
   "execution_count": null,
   "id": "compatible-delaware",
   "metadata": {},
   "outputs": [],
   "source": []
  }
 ],
 "metadata": {
  "kernelspec": {
   "display_name": "Python 3",
   "language": "python",
   "name": "python3"
  },
  "language_info": {
   "codemirror_mode": {
    "name": "ipython",
    "version": 3
   },
   "file_extension": ".py",
   "mimetype": "text/x-python",
   "name": "python",
   "nbconvert_exporter": "python",
   "pygments_lexer": "ipython3",
   "version": "3.8.5"
  }
 },
 "nbformat": 4,
 "nbformat_minor": 5
}
