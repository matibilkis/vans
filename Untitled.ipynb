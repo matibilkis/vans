{
 "cells": [
  {
   "cell_type": "code",
   "execution_count": 2,
   "metadata": {},
   "outputs": [],
   "source": [
    "import numpy as np\n",
    "from utilities.variational import VQE\n",
    "import cirq\n",
    "g=0.75\n",
    "js=np.linspace(-1.1, 1.1,20)\n",
    "j=.4\n",
    "\n",
    "v = VQE(n_qubits=4, g=g,J=j, problem=\"xxz\")\n"
   ]
  },
  {
   "cell_type": "code",
   "execution_count": 6,
   "metadata": {},
   "outputs": [],
   "source": [
    "f = cirq.Circuit(v.observable)"
   ]
  },
  {
   "cell_type": "code",
   "execution_count": 18,
   "metadata": {},
   "outputs": [
    {
     "ename": "TypeError",
     "evalue": "No Pauli expansion for object [((0.75+0j)*cirq.Z(cirq.GridQubit(0, 0))), ((0.75+0j)*cirq.Z(cirq.GridQubit(0, 1))), ((0.75+0j)*cirq.Z(cirq.GridQubit(0, 2))), ((0.75+0j)*cirq.Z(cirq.GridQubit(0, 3))), (cirq.X(cirq.GridQubit(0, 0))*cirq.X(cirq.GridQubit(0, 1))), (cirq.Y(cirq.GridQubit(0, 0))*cirq.Y(cirq.GridQubit(0, 1))), ((0.4+0j)*cirq.Z(cirq.GridQubit(0, 0))*cirq.Z(cirq.GridQubit(0, 1))), (cirq.X(cirq.GridQubit(0, 1))*cirq.X(cirq.GridQubit(0, 2))), (cirq.Y(cirq.GridQubit(0, 1))*cirq.Y(cirq.GridQubit(0, 2))), ((0.4+0j)*cirq.Z(cirq.GridQubit(0, 1))*cirq.Z(cirq.GridQubit(0, 2))), (cirq.X(cirq.GridQubit(0, 2))*cirq.X(cirq.GridQubit(0, 3))), (cirq.Y(cirq.GridQubit(0, 2))*cirq.Y(cirq.GridQubit(0, 3))), ((0.4+0j)*cirq.Z(cirq.GridQubit(0, 2))*cirq.Z(cirq.GridQubit(0, 3))), (cirq.X(cirq.GridQubit(0, 0))*cirq.X(cirq.GridQubit(0, 3))), (cirq.Y(cirq.GridQubit(0, 0))*cirq.Y(cirq.GridQubit(0, 3))), ((0.4+0j)*cirq.Z(cirq.GridQubit(0, 0))*cirq.Z(cirq.GridQubit(0, 3)))] of type <class 'list'>",
     "output_type": "error",
     "traceback": [
      "\u001b[0;31m---------------------------------------------------------------------------\u001b[0m",
      "\u001b[0;31mTypeError\u001b[0m                                 Traceback (most recent call last)",
      "\u001b[0;32m<ipython-input-18-4c98a169bda6>\u001b[0m in \u001b[0;36m<module>\u001b[0;34m\u001b[0m\n\u001b[0;32m----> 1\u001b[0;31m \u001b[0mcirq\u001b[0m\u001b[0;34m.\u001b[0m\u001b[0mpauli_expansion\u001b[0m\u001b[0;34m(\u001b[0m\u001b[0mv\u001b[0m\u001b[0;34m.\u001b[0m\u001b[0mobservable\u001b[0m\u001b[0;34m)\u001b[0m\u001b[0;34m\u001b[0m\u001b[0;34m\u001b[0m\u001b[0m\n\u001b[0m",
      "\u001b[0;32m~/.local/lib/python3.6/site-packages/cirq/protocols/pauli_expansion_protocol.py\u001b[0m in \u001b[0;36mpauli_expansion\u001b[0;34m(val, default, atol)\u001b[0m\n\u001b[1;32m     71\u001b[0m             raise TypeError(\n\u001b[1;32m     72\u001b[0m                 'No Pauli expansion for object {} of type {}'.format(\n\u001b[0;32m---> 73\u001b[0;31m                     val, type(val)))\n\u001b[0m\u001b[1;32m     74\u001b[0m         \u001b[0;32mreturn\u001b[0m \u001b[0mdefault\u001b[0m\u001b[0;34m\u001b[0m\u001b[0;34m\u001b[0m\u001b[0m\n\u001b[1;32m     75\u001b[0m \u001b[0;34m\u001b[0m\u001b[0m\n",
      "\u001b[0;31mTypeError\u001b[0m: No Pauli expansion for object [((0.75+0j)*cirq.Z(cirq.GridQubit(0, 0))), ((0.75+0j)*cirq.Z(cirq.GridQubit(0, 1))), ((0.75+0j)*cirq.Z(cirq.GridQubit(0, 2))), ((0.75+0j)*cirq.Z(cirq.GridQubit(0, 3))), (cirq.X(cirq.GridQubit(0, 0))*cirq.X(cirq.GridQubit(0, 1))), (cirq.Y(cirq.GridQubit(0, 0))*cirq.Y(cirq.GridQubit(0, 1))), ((0.4+0j)*cirq.Z(cirq.GridQubit(0, 0))*cirq.Z(cirq.GridQubit(0, 1))), (cirq.X(cirq.GridQubit(0, 1))*cirq.X(cirq.GridQubit(0, 2))), (cirq.Y(cirq.GridQubit(0, 1))*cirq.Y(cirq.GridQubit(0, 2))), ((0.4+0j)*cirq.Z(cirq.GridQubit(0, 1))*cirq.Z(cirq.GridQubit(0, 2))), (cirq.X(cirq.GridQubit(0, 2))*cirq.X(cirq.GridQubit(0, 3))), (cirq.Y(cirq.GridQubit(0, 2))*cirq.Y(cirq.GridQubit(0, 3))), ((0.4+0j)*cirq.Z(cirq.GridQubit(0, 2))*cirq.Z(cirq.GridQubit(0, 3))), (cirq.X(cirq.GridQubit(0, 0))*cirq.X(cirq.GridQubit(0, 3))), (cirq.Y(cirq.GridQubit(0, 0))*cirq.Y(cirq.GridQubit(0, 3))), ((0.4+0j)*cirq.Z(cirq.GridQubit(0, 0))*cirq.Z(cirq.GridQubit(0, 3)))] of type <class 'list'>"
     ]
    }
   ],
   "source": [
    "cirq.pauli_expansion(v.observable)"
   ]
  },
  {
   "cell_type": "code",
   "execution_count": 23,
   "metadata": {},
   "outputs": [],
   "source": [
    "import tensorflow_quantum as tfq"
   ]
  },
  {
   "cell_type": "code",
   "execution_count": 27,
   "metadata": {},
   "outputs": [],
   "source": [
    "ff=tfq.convert_to_tensor([v.observable])"
   ]
  },
  {
   "cell_type": "code",
   "execution_count": 31,
   "metadata": {},
   "outputs": [
    {
     "data": {
      "text/plain": [
       "['__add__',\n",
       " '__bool__',\n",
       " '__class__',\n",
       " '__copy__',\n",
       " '__delattr__',\n",
       " '__dict__',\n",
       " '__dir__',\n",
       " '__doc__',\n",
       " '__eq__',\n",
       " '__format__',\n",
       " '__ge__',\n",
       " '__getattribute__',\n",
       " '__getitem__',\n",
       " '__gt__',\n",
       " '__hash__',\n",
       " '__init__',\n",
       " '__init_subclass__',\n",
       " '__iter__',\n",
       " '__le__',\n",
       " '__len__',\n",
       " '__lt__',\n",
       " '__module__',\n",
       " '__ne__',\n",
       " '__new__',\n",
       " '__pow__',\n",
       " '__reduce__',\n",
       " '__reduce_ex__',\n",
       " '__repr__',\n",
       " '__setattr__',\n",
       " '__sizeof__',\n",
       " '__slotnames__',\n",
       " '__str__',\n",
       " '__subclasshook__',\n",
       " '__weakref__',\n",
       " '_approx_eq_',\n",
       " '_from_json_dict_',\n",
       " '_json_dict_',\n",
       " '_operation_touching',\n",
       " '_operations',\n",
       " '_qubits',\n",
       " 'operates_on',\n",
       " 'operates_on_single_qubit',\n",
       " 'operations',\n",
       " 'qubits',\n",
       " 'transform_qubits',\n",
       " 'with_operation',\n",
       " 'without_operations_touching']"
      ]
     },
     "execution_count": 31,
     "metadata": {},
     "output_type": "execute_result"
    }
   ],
   "source": [
    "dir(f[0])"
   ]
  },
  {
   "cell_type": "code",
   "execution_count": null,
   "metadata": {},
   "outputs": [],
   "source": []
  }
 ],
 "metadata": {
  "kernelspec": {
   "display_name": "Python 3",
   "language": "python",
   "name": "python3"
  },
  "language_info": {
   "codemirror_mode": {
    "name": "ipython",
    "version": 3
   },
   "file_extension": ".py",
   "mimetype": "text/x-python",
   "name": "python",
   "nbconvert_exporter": "python",
   "pygments_lexer": "ipython3",
   "version": "3.6.9"
  }
 },
 "nbformat": 4,
 "nbformat_minor": 4
}
