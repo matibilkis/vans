{
 "cells": [
  {
   "cell_type": "code",
   "execution_count": 16,
   "metadata": {},
   "outputs": [],
   "source": [
    "import gc\n",
    "import numpy as np\n",
    "import sympy\n",
    "import cirq\n",
    "import tensorflow_quantum as tfq\n",
    "from tqdm import tqdm\n",
    "import tensorflow as tf\n",
    "import argparse\n",
    "import os\n",
    "import pickle\n",
    "import matplotlib.pyplot as plt"
   ]
  },
  {
   "cell_type": "code",
   "execution_count": 125,
   "metadata": {},
   "outputs": [],
   "source": [
    "class Solver:\n",
    "    def __init__(self, n_qubits=3, qlr=0.01, qepochs=100,verbose=0, g=1, J=0, noise=False, noise_level=0.01):\n",
    "\n",
    "        self.n_qubits = n_qubits\n",
    "        self.qubits = cirq.GridQubit.rect(1, n_qubits)\n",
    "        self.lower_bound_Eg = -2*self.n_qubits\n",
    "\n",
    "        self.qlr = qlr\n",
    "        self.qepochs=qepochs\n",
    "        self.verbose=verbose\n",
    "\n",
    "\n",
    "        self.indexed_cnots = {}\n",
    "        self.cnots_index = {}\n",
    "        count = 0\n",
    "        for control in range(self.n_qubits):\n",
    "            for target in range(self.n_qubits):\n",
    "                if control != target:\n",
    "                    self.indexed_cnots[str(count)] = [control, target]\n",
    "                    self.cnots_index[str([control,target])] = count\n",
    "                    count += 1\n",
    "        self.number_of_cnots = len(self.indexed_cnots)\n",
    "        self.final_params = []\n",
    "\n",
    "        \n",
    "    def append_to_circuit(self, ind, circuit, params, index_to_symbols):\n",
    "        #### add CNOT\n",
    "        if ind < self.number_of_cnots:\n",
    "            control, target = self.indexed_cnots[str(ind)]\n",
    "            circuit.append(cirq.CNOT.on(self.qubits[control], self.qubits[target]))\n",
    "            if isinstance(index_to_symbols,dict):\n",
    "                index_to_symbols[len(list(index_to_symbols.keys()))] = []\n",
    "                return circuit, params, index_to_symbols\n",
    "            else:\n",
    "                return circuit, params\n",
    "\n",
    "        #### add rz #####\n",
    "        elif 0 <= ind - self.number_of_cnots  < self.n_qubits:\n",
    "            qubit = self.qubits[(ind-self.number_of_cnots)%self.n_qubits]\n",
    "            for par, gate in zip(range(1),[cirq.rz]):\n",
    "                new_param = \"th_\"+str(len(params))\n",
    "                params.append(new_param)\n",
    "                circuit.append(gate(sympy.Symbol(new_param)).on(qubit))\n",
    "                index_to_symbols[len(list(index_to_symbols.keys()))] = new_param\n",
    "                return circuit, params, index_to_symbols\n",
    "\n",
    "        #### add rx #####\n",
    "        elif self.n_qubits <= ind - self.number_of_cnots  < 2*self.n_qubits:\n",
    "            qubit = self.qubits[(ind-self.number_of_cnots)%self.n_qubits]\n",
    "            for par, gate in zip(range(1),[cirq.rx]):\n",
    "                new_param = \"th_\"+str(len(params))\n",
    "                params.append(new_param)\n",
    "                circuit.append(gate(sympy.Symbol(new_param)).on(qubit))\n",
    "                index_to_symbols[len(list(index_to_symbols.keys()))] = new_param\n",
    "            return circuit, params, index_to_symbols\n",
    "            \n",
    "    def give_unitary(self,idx, res):\n",
    "        return cirq.resolve_parameters(self.give_circuit(idx)[0], res)\n",
    "\n",
    "    def give_circuit(self, lista):\n",
    "        circuit, symbols, index_to_symbols = [], [], {}\n",
    "        for k in lista:\n",
    "            circuit, symbols, index_to_symbols = self.append_to_circuit(k,circuit,symbols, index_to_symbols)\n",
    "        circuit = cirq.Circuit(circuit)\n",
    "        return circuit, symbols, index_to_symbols\n",
    "\n",
    "    def resolution_2cnots(self, q1, q2):\n",
    "        rzq1 = self.number_of_cnots + q1\n",
    "        rzq2 = self.number_of_cnots +  q2\n",
    "        rxq1 = self.number_of_cnots + self.n_qubits + q1\n",
    "        rxq2 = self.number_of_cnots + self.n_qubits + q2\n",
    "        cnot = self.cnots_index[str([q1,q2])]\n",
    "        return [cnot, rzq1, rxq1, rzq1,  rzq2, rxq2, rzq2, cnot]\n",
    "\n",
    "    def resolution_1qubit(self, q):\n",
    "        rzq1 = self.number_of_cnots +  q1\n",
    "        rxq1 = self.number_of_cnots + self.n_qubits + q1\n",
    "        return [rzq1, rxq1, rzq1]\n",
    "\n",
    "    def rotation(self,vals):\n",
    "        alpha,beta,gamma = vals\n",
    "        return np.array([[np.cos(beta/2)*np.cos(alpha/2 + gamma/2) - 1j*np.cos(beta/2)*np.sin(alpha/2 + gamma/2),\n",
    "                 (-1j)*np.cos(alpha/2 - gamma/2)*np.sin(beta/2) - np.sin(beta/2)*np.sin(alpha/2 - gamma/2)],\n",
    "                [(-1j)*np.cos(alpha/2 - gamma/2)*np.sin(beta/2) + np.sin(beta/2)*np.sin(alpha/2 - gamma/2),\n",
    "                 np.cos(beta/2)*np.cos(alpha/2 + gamma/2) + 1j*np.cos(beta/2)*np.sin(alpha/2 + gamma/2)]])\n",
    "\n",
    "\n",
    "    def give_rz_rx_rz(self,u):\n",
    "        \"\"\"\n",
    "        finds \\alpha, \\beta \\gamma s.t m = Rz(\\alpha) Rx(\\beta) Rz(\\gamma)\n",
    "        ****\n",
    "        input: 2x2 unitary matrix as numpy array\n",
    "        output: [\\alpha \\beta \\gamma]\n",
    "        \"\"\"\n",
    "        a = sympy.Symbol(\"a\")\n",
    "        b = sympy.Symbol(\"b\")\n",
    "        g = sympy.Symbol(\"g\")\n",
    "\n",
    "        eqs = [sympy.exp(-sympy.I*.5*(a+g))*sympy.cos(.5*b) ,\n",
    "               -sympy.I*sympy.exp(-sympy.I*.5*(a-g))*sympy.sin(.5*b),\n",
    "                sympy.exp(sympy.I*.5*(a+g))*sympy.cos(.5*b)\n",
    "              ]\n",
    "\n",
    "        kk = np.reshape(u, (4,))\n",
    "        s=[]\n",
    "        for i,r in enumerate(kk):\n",
    "            if i!=2:\n",
    "                s.append(r)\n",
    "\n",
    "        t=[]\n",
    "        for eq, val in zip(eqs,s):\n",
    "            t.append((eq)-np.round(val,5))\n",
    "\n",
    "        ### this while appears since the seed values may enter in vanishing gradients and through Matrix-zero error.\n",
    "        error=True\n",
    "        while error:\n",
    "            try:\n",
    "                solution = sympy.nsolve(t,[a,b,g],np.pi*np.array([np.random.random(),np.random.random(),np.random.random()]) ,maxsteps=3000, verify=True)\n",
    "                vals = np.array(solution.values()).astype(np.complex64)\n",
    "                #print(np.round(rotation(vals),3)-m)\n",
    "                error=False\n",
    "            except Exception:\n",
    "                error=True\n",
    "        return vals\n",
    "\n",
    "\n",
    "\n",
    "    def simplify_circuit_sant(self,indexed_circuit, index_to_symbols, symbol_to_value):\n",
    "\n",
    "        connections={str(q):[] for q in range(self.n_qubits)} #this saves the gates in each qubit. Notice that this does not necessarily respects the order.\n",
    "        places_gates = {str(q):[] for q in range(self.n_qubits)} #this saves, for each gate on each qubit, the position in the original indexed_circuit\n",
    "\n",
    "        flagged = [False]*len(indexed_circuit) #to check if you have seen a cnot already, so not to append it twice to the qubit's dictionary\n",
    "\n",
    "        for nn,idq in enumerate(indexed_circuit): #sweep over all gates in original circuit's vector\n",
    "            for q in range(self.n_qubits): #sweep over all qubits\n",
    "                if idq<self.number_of_cnots: #if the gate it's a CNOT or not\n",
    "                    control, target = self.indexed_cnots[str(idq)] #give control and target qubit\n",
    "                    if q in [control, target] and not flagged[nn]: #if the qubit we are looking at is affected by this CNOT, and we haven't add this CNOT to the dictionary yet\n",
    "                        connections[str(control)].append(idq)\n",
    "                        connections[str(target)].append(idq)\n",
    "                        places_gates[str(control)].append(nn)\n",
    "                        places_gates[str(target)].append(nn)\n",
    "                        flagged[nn] = True #so you don't add the other\n",
    "                else:\n",
    "                    if (idq-self.number_of_cnots)%self.n_qubits == q: #check if the unitary is applied to the qubit we are looking at\n",
    "                        if 0 <= idq - self.number_of_cnots< self.n_qubits:\n",
    "                            connections[str(q)].append(\"rz\")\n",
    "                        elif self.n_qubits <= idq-self.number_of_cnots <  2*self.n_qubits:\n",
    "                            connections[str(q)].append(\"rx\")\n",
    "                        places_gates[str(q)].append (nn)\n",
    "                    flagged[nn] = True #to check that all gates have been flagged\n",
    "\n",
    "\n",
    "        ### now reducing the circuit\n",
    "        new_indexed_circuit = indexed_circuit.copy()\n",
    "        new_symbol_to_value = symbol_to_value.copy()\n",
    "        flagged_symbols = {k:True for k in list(symbol_to_value.keys())}\n",
    "\n",
    "        NRE ={}\n",
    "        symbols_to_delete=[]\n",
    "        symbols_to_use = []\n",
    "        symbols_on = {str(q):[] for q in list(connections.keys())}\n",
    "        for q, path in connections.items(): ###sweep over qubits: path is all the gates that act this qubit during the circuit\n",
    "            for ind,gate in enumerate(path):\n",
    "                if gate == \"u\" and not new_indexed_circuit[places_gates[str(q)][ind]] == -1: ## IF GATE IS SINGLE QUIT UNITARY, CHECK IF THE NEXT ONES ARE ALSO UNITARIES AND KILL 'EM\n",
    "                    gate_to_compile=[]\n",
    "                    pars_here=[]\n",
    "                    compile_gate=False\n",
    "                    symbols_deleted_here=[]\n",
    "                    for ug, symbol in zip(self.single_qubit_unitaries[gate], index_to_symbols[places_gates[str(q)][ind]]):\n",
    "                        value_symbol = symbol_to_value[symbol]\n",
    "                        gate_to_compile.append(ug(value_symbol).on(self.qubits[int(q)]))\n",
    "                        pars_here.append(symbol)\n",
    "\n",
    "                    for k in range(len(path)-ind-1):\n",
    "                        if path[ind+k+1] in list(self.single_qubit_unitaries.keys()):\n",
    "                            new_indexed_circuit[places_gates[str(q)][ind+k+1]] = -1\n",
    "                            compile_gate = True #we'll compile!\n",
    "                            for ug, symbol in zip(self.single_qubit_unitaries[gate], index_to_symbols[places_gates[str(q)][ind+k+1]]):\n",
    "                                value_symbol = symbol_to_value[symbol]\n",
    "                                symbols_to_delete.append(symbol)\n",
    "                                symbols_deleted_here.append(symbol)\n",
    "                                gate_to_compile.append(ug(value_symbol).on(self.qubits[int(q)]))\n",
    "                        else:\n",
    "                            break\n",
    "                    if compile_gate:\n",
    "                        u = cirq.unitary(cirq.Circuit(gate_to_compile))\n",
    "                        vals = np.real(self.give_rz_rx_rz(u)[::-1]) #not entirely real since finite number of iterations\n",
    "                        for smb,v in zip(pars_here,vals):\n",
    "                            sname = \"th_\"+str(int(smb.replace(\"th_\",\"\"))+len(symbols_to_delete)-len(symbols_deleted_here))\n",
    "                            NRE[sname] = v\n",
    "                            symbols_on[str(q)].append(sname)\n",
    "                    else:\n",
    "                        old_values = [symbol_to_value[sym] for sym in index_to_symbols[places_gates[str(q)][ind]]]\n",
    "\n",
    "                        for smb,v in zip(pars_here,old_values):\n",
    "                            #print(smb)\n",
    "                            ##### this +len(symbols_to_delete) should respect qubit order..\n",
    "                            sname=\"th_\"+str(int(smb.replace(\"th_\",\"\"))+len(symbols_to_delete)-len(symbols_deleted_here))\n",
    "                            NRE[sname] = v\n",
    "                            symbols_on[str(q)].append(sname)\n",
    "\n",
    "                if gate in range(self.number_of_cnots) and ind<len(path)-1: ### self.number_of_cnots is the maximum index of a CNOT gate for a fixed self.n_qubits.\n",
    "                    if path[ind+1]==gate and not (new_indexed_circuit[places_gates[str(q)][ind]] == -1): #check if the next gate is the same CNOT; and check if I haven't corrected the original one (otherwise you may simplify 3 CNOTs to id)\n",
    "                        others = self.indexed_cnots[str(gate)].copy()\n",
    "                        others.remove(int(q)) #the other qubit affected by the CNOT\n",
    "                        for jind, jgate in enumerate(connections[str(others[0])][:-1]): ##sweep the other qubit's gates until i find \"gate\"\n",
    "                            if jgate == gate and connections[str(others[0])][jind+1] == gate: ##i find the same gate that is repeated in both the original qubit and this one\n",
    "                                if (places_gates[str(q)][ind] == places_gates[str(others[0])][jind]) and (places_gates[str(q)][ind+1] == places_gates[str(others[0])][jind+1]): #check that positions in the indexed_circuit are the same\n",
    "                                 ###maybe I changed before, so I have repeated in the original but one was shut down..\n",
    "                                    new_indexed_circuit[places_gates[str(q)][ind]] = -1 ###just kill the repeated CNOTS\n",
    "                                    new_indexed_circuit[places_gates[str(q)][ind+1]] = -1 ###just kill the repeated CNOTS\n",
    "                                    break\n",
    "\n",
    "                if gate in range(self.number_of_cnots) and ind == 0 and not new_indexed_circuit[places_gates[str(q)][ind]] == -1: ###if I have a CNOT just before initializing, it does nothing (if |0> initialization).\n",
    "                    others = self.indexed_cnots[str(gate)].copy()\n",
    "                    others.remove(int(q)) #the other qubit affected by the CNOT\n",
    "                    for jind, jgate in enumerate(connections[str(others[0])][:-1]): ##sweep the other qubit's gates until i find \"gate\"\n",
    "                        if jgate == gate and jind==0: ##it's also the first gate in the other qubit\n",
    "                            if (places_gates[str(q)][ind] == places_gates[str(others[0])][jind]): #check that positions in the indexed_circuit are the same\n",
    "                                new_indexed_circuit[places_gates[str(q)][ind]] = -1 ###just kill the repeated CNOTS\n",
    "                                break\n",
    "\n",
    "                                \n",
    "                if gate == \"rz\" and not new_indexed_circuit[places_gates[str(q)][ind]] == -1 and ind==0: ## If YOU HAVE RZ AT BEGGINING, DOES NOTHING..\n",
    "                    pars_here=[]\n",
    "                    symbols_deleted_here=[]\n",
    "                    symbol = index_to_symbols[places_gates[str(q)][ind]]\n",
    "                    value_symbol = symbol_to_value[symbol]\n",
    "                    pars_here.append(symbol)\n",
    "\n",
    "                    new_indexed_circuit[places_gates[str(q)][ind]] = -1\n",
    "                    symbols_to_delete.append(symbol)\n",
    "\n",
    "                    \n",
    "        final=[]\n",
    "        final_values={}\n",
    "        fpars=[]\n",
    "        final_idx_to_symbols={}\n",
    "        final_dict = {}\n",
    "\n",
    "        SN=0\n",
    "        for gmarked in new_indexed_circuit:\n",
    "            if not gmarked == -1:\n",
    "                final.append(gmarked)\n",
    "                final_idx_to_symbols[int(len(final)-1)] = []\n",
    "\n",
    "                if 0 <= gmarked - self.number_of_cnots < self.n_qubits:\n",
    "                    for indd, sym in enumerate(symbols_on[str((gmarked - self.number_of_cnots)%self.n_qubits)]):\n",
    "                        if sym != -1:\n",
    "                            break\n",
    "                    for k in range(3):\n",
    "                        final_idx_to_symbols[int(len(final)-1)].append(\"th_\"+str(SN))#symbols_on[str((gmarked - self.number_of_cnots)%self.n_qubits)][indd+k])\n",
    "                        final_dict[\"th_\"+str(SN)] = NRE[symbols_on[str((gmarked - self.number_of_cnots)%self.n_qubits)][indd+k]]\n",
    "                        symbols_on[str((gmarked - self.number_of_cnots)%self.n_qubits)][indd+k]=-1\n",
    "                        SN+=1\n",
    "                if self.n_qubits <= gmarked - self.number_of_cnots < 3*self.n_qubits:\n",
    "                    for indd, sym in enumerate(symbols_on[str((gmarked - self.number_of_cnots)%self.n_qubits)]):\n",
    "                        if sym != -1:\n",
    "                            break\n",
    "                    for k in range(1):\n",
    "                        final_idx_to_symbols[int(len(final)-1)].append(\"th_\"+str(SN))#symbols_on[str((gmarked - self.number_of_cnots)%self.n_qubits)][indd+k])\n",
    "                        final_dict[\"th_\"+str(SN)] = NRE[symbols_on[str((gmarked - self.number_of_cnots)%self.n_qubits)][indd+k]]\n",
    "                        symbols_on[str((gmarked - self.number_of_cnots)%self.n_qubits)][indd+k]=-1\n",
    "                        SN+=1\n",
    "\n",
    "        #_,_, final_idx_to_symbols = self.give_circuit(final)\n",
    "        return final, final_idx_to_symbols, final_dict\n",
    "\n",
    "\n",
    "\n",
    "def diff(u_1, u_2, cnots_simplified = False, numpy_type=True):\n",
    "    ui = cirq.unitary(u_1)\n",
    "    uf = cirq.unitary(u_2)\n",
    "    if cnots_simplified:\n",
    "        return np.sum(np.abs((ui - uf)[:,0]))\n",
    "    else:\n",
    "        return np.sum(np.abs((ui - uf)))\n"
   ]
  },
  {
   "cell_type": "code",
   "execution_count": 126,
   "metadata": {},
   "outputs": [],
   "source": [
    "sol = Solver(n_qubits=4)"
   ]
  },
  {
   "cell_type": "code",
   "execution_count": 127,
   "metadata": {},
   "outputs": [
    {
     "data": {
      "text/plain": [
       "((0, 0): ───Rz(th_0)───Rx(th_4)───\n",
       "\n",
       "(0, 1): ───Rz(th_1)───Rx(th_5)───\n",
       "\n",
       "(0, 2): ───Rz(th_2)───Rx(th_6)───\n",
       "\n",
       "(0, 3): ───Rz(th_3)───Rx(th_7)───,\n",
       " ['th_0', 'th_1', 'th_2', 'th_3', 'th_4', 'th_5', 'th_6', 'th_7'],\n",
       " {0: 'th_0',\n",
       "  1: 'th_1',\n",
       "  2: 'th_2',\n",
       "  3: 'th_3',\n",
       "  4: 'th_4',\n",
       "  5: 'th_5',\n",
       "  6: 'th_6',\n",
       "  7: 'th_7'})"
      ]
     },
     "execution_count": 127,
     "metadata": {},
     "output_type": "execute_result"
    }
   ],
   "source": [
    "sol.give_circuit([sol.number_of_cnots+k for k in range(2*sol.n_qubits)])"
   ]
  },
  {
   "cell_type": "code",
   "execution_count": null,
   "metadata": {},
   "outputs": [],
   "source": []
  },
  {
   "cell_type": "code",
   "execution_count": null,
   "metadata": {},
   "outputs": [],
   "source": []
  },
  {
   "cell_type": "code",
   "execution_count": 120,
   "metadata": {},
   "outputs": [],
   "source": [
    "from solver import GeneticSolver, History\n",
    "sol = GeneticSolver(n_qubits=3, g=1, J=1.21, qlr=.01, qepochs=100)\n",
    "historial=History(g=sol.g,J=sol.J)\n",
    "\n",
    "indexed_circuitt=[12,13,14,9,10,11]#10,10,10,11,11,11]\n",
    "circuit, symbols, index_to_symbolss = sol.give_circuit(indexed_circuitt)\n",
    "symbol_to_value, energy, h = sol.compute_energy_first_time(circuit, symbols,[10,0.1]) ##very nie 5000, 0.01\n",
    "\n",
    "connections={str(q):[] for q in range(sol.n_qubits)} #this saves the gates in each qubit. Notice that this does not necessarily respects the order.\n",
    "places_gates = {str(q):[] for q in range(sol.n_qubits)} #this saves, for each gate on each qubit, the position in the original indexed_circuit\n",
    "\n",
    "indexed_circuit = sol.unravel(indexed_circuitt) ### unravelcircuit, this means forget about the u structure.\n",
    "index_to_symbols={}\n",
    "cnt=0\n",
    "for kkk in index_to_symbolss.values():\n",
    "    if len(kkk)==0:\n",
    "        index_to_symbols[cnt] = \"void\"\n",
    "        cnt+=1\n",
    "    else:\n",
    "\n",
    "        for kin in kkk:\n",
    "            index_to_symbols[cnt] = kin\n",
    "            cnt+=1\n",
    "\n",
    "flagged = [False]*len(indexed_circuit) #to check if you have seen a cnot already, so not to append it twice to the qubit's dictionary\n",
    "\n",
    "\n",
    "for nn,idq in enumerate(indexed_circuit): #sweep over all gates in original circuit's vector\n",
    "    for q in range(sol.n_qubits): #sweep over all qubits\n",
    "        if idq<sol.number_of_cnots: #if the gate it's a CNOT or not\n",
    "            control, target = sol.indexed_cnots[str(idq)] #give control and target qubit\n",
    "            if q in [control, target] and not flagged[nn]: #if the qubit we are looking at is affected by this CNOT, and we haven't add this CNOT to the dictionary yet\n",
    "                connections[str(control)].append(idq)\n",
    "                connections[str(target)].append(idq)\n",
    "                places_gates[str(control)].append(nn)\n",
    "                places_gates[str(target)].append(nn)\n",
    "                flagged[nn] = True #so you don't add the other\n",
    "        else:\n",
    "            if (idq-sol.number_of_cnots)%sol.n_qubits == q: #check if the unitary is applied to the qubit we are looking at\n",
    "                if 0 <= idq - sol.number_of_cnots< sol.n_qubits:\n",
    "                    connections[str(q)].append(\"u\")\n",
    "                elif sol.n_qubits <= idq-sol.number_of_cnots <  2*sol.n_qubits:\n",
    "                    connections[str(q)].append(\"rz\")\n",
    "                elif 2*sol.n_qubits <= idq-sol.number_of_cnots <  3*sol.n_qubits:\n",
    "                    connections[str(q)].append(\"rx\")\n",
    "                places_gates[str(q)].append (nn)\n",
    "            flagged[nn] = True #to check that all gates have been flagged\n",
    "\n",
    "\n",
    "### now reducing the circuit\n",
    "new_indexed_circuit = indexed_circuit.copy()\n",
    "new_symbol_to_value = symbol_to_value.copy()\n",
    "flagged_symbols = {k:True for k in list(symbol_to_value.keys())}\n",
    "\n",
    "NRE ={}\n",
    "symbols_to_delete=[]\n",
    "symbols_to_use = []\n",
    "symbols_on = {str(q):[] for q in list(connections.keys())}\n",
    "\n",
    "for q, path in connections.items(): ###sweep over qubits: path is all the gates that act this qubit during the circuit\n",
    "    for ind,gate in enumerate(path):\n",
    "\n",
    "        ##### CNOTS ONLY ####\n",
    "        ##### CNOTS ONLY ####\n",
    "        if gate in range(sol.number_of_cnots) and ind<len(path)-1 and not (new_indexed_circuit[places_gates[str(q)][ind]] == -1 and new_indexed_circuit[places_gates[str(q)][ind+1]] == -1): ### sol.number_of_cnots is the maximum index of a CNOT gate for a fixed sol.n_qubits.\n",
    "            if path[ind+1]==gate and not (new_indexed_circuit[places_gates[str(q)][ind]] == -1): #check if the next gate is the same CNOT; and check if I haven't corrected the original one (otherwise you may simplify 3 CNOTs to id)\n",
    "                others = sol.indexed_cnots[str(gate)].copy()\n",
    "                others.remove(int(q)) #the other qubit affected by the CNOT\n",
    "                for jind, jgate in enumerate(connections[str(others[0])][:-1]): ##sweep the other qubit's gates until i find \"gate\"\n",
    "                    if jgate == gate and connections[str(others[0])][jind+1] == gate: ##i find the same gate that is repeated in both the original qubit and this one\n",
    "                        if (places_gates[str(q)][ind] == places_gates[str(others[0])][jind]) and (places_gates[str(q)][ind+1] == places_gates[str(others[0])][jind+1]): #check that positions in the indexed_circuit are the same\n",
    "                         ###maybe I changed before, so I have repeated in the original but one was shut down..\n",
    "                            new_indexed_circuit[places_gates[str(q)][ind]] = -1 ###just kill the repeated CNOTS\n",
    "                            new_indexed_circuit[places_gates[str(q)][ind+1]] = -1 ###just kill the repeated CNOTS\n",
    "                            break\n",
    "\n",
    "        if gate in range(sol.number_of_cnots) and ind == 0 and not new_indexed_circuit[places_gates[str(q)][ind]] == -1: ###if I have a CNOT just before initializing, it does nothing (if |0> initialization).\n",
    "            others = sol.indexed_cnots[str(gate)].copy()\n",
    "            others.remove(int(q)) #the other qubit affected by the CNOT\n",
    "            for jind, jgate in enumerate(connections[str(others[0])][:-1]): ##sweep the other qubit's gates until i find \"gate\"\n",
    "                if jgate == gate and jind==0: ##it's also the first gate in the other qubit\n",
    "                    if (places_gates[str(q)][ind] == places_gates[str(others[0])][jind]): #check that positions in the indexed_circuit are the same\n",
    "                        new_indexed_circuit[places_gates[str(q)][ind]] = -1 ###just kill the repeated CNOTS\n",
    "                        break\n",
    "        ##### CNOTS ONLY ####\n",
    "        ##### CNOTS ONLY ####\n",
    "\n",
    "        #### ROTATIONS ####\n",
    "        if gate in [\"rz\",\"rx\"] and not new_indexed_circuit[places_gates[str(q)][ind]] == -1:\n",
    "            \n",
    "            original_symbol = index_to_symbols[places_gates[str(q)][ind]]\n",
    "            original_value = symbol_to_value[original_symbol]\n",
    "        \n",
    "            if ind==0 and gate==\"rz\": ### RZ AT BEGGINING DOES NOTHING\n",
    "                symbols_to_delete.append(original_symbol)\n",
    "                new_indexed_circuit[places_gates[str(q)][ind]] = -1\n",
    "                \n",
    "            elif ind != len(path)-1:\n",
    "                if path[ind+1] == gate:\n",
    "                    next_symbol = index_to_symbols[places_gates[str(q)][ind+1]]\n",
    "                    symbols_to_delete.append(next_symbol)\n",
    "                    new_indexed_circuit[places_gates[str(q)][ind+1]] = -1\n",
    "                    \n",
    "                    sname=\"th_\"+str(len(list(NRE.keys()))) ## this is safe, since we are looping on the indices first, and the resolver dict is ordered\n",
    "                    NRE[sname] = original_value + symbol_to_value[next_symbol]\n",
    "                    symbols_on[str(q)].append(sname)\n",
    "                else: ###notice with the elif above you don't add this one..\n",
    "                    sname=\"th_\"+str(len(list(NRE.keys()))) ## this is safe, since we are looping on the indices first, and the resolver dict is ordered\n",
    "                    NRE[sname] = original_value\n",
    "                    symbols_on[str(q)].append(sname)\n",
    "                    \n",
    "            else:\n",
    "                sname=\"th_\"+str(len(list(NRE.keys()))) ## this is safe, since we are looping on the indices first, and the resolver dict is ordered\n",
    "                NRE[sname] = original_value\n",
    "                symbols_on[str(q)].append(sname)\n",
    "                \n",
    "                \n",
    "\n",
    "final=[]\n",
    "final_values={}\n",
    "fpars=[]\n",
    "final_idx_to_symbols={}\n",
    "final_dict = {}\n",
    "\n"
   ]
  },
  {
   "cell_type": "code",
   "execution_count": 123,
   "metadata": {},
   "outputs": [
    {
     "data": {
      "text/plain": [
       "{0: 'th_0', 1: 'th_1', 2: 'th_2', 3: 'th_3', 4: 'th_4', 5: 'th_5'}"
      ]
     },
     "execution_count": 123,
     "metadata": {},
     "output_type": "execute_result"
    }
   ],
   "source": [
    "index_to_symbols"
   ]
  },
  {
   "cell_type": "code",
   "execution_count": 116,
   "metadata": {},
   "outputs": [
    {
     "ename": "KeyError",
     "evalue": "-1",
     "output_type": "error",
     "traceback": [
      "\u001b[0;31m---------------------------------------------------------------------------\u001b[0m",
      "\u001b[0;31mKeyError\u001b[0m                                  Traceback (most recent call last)",
      "\u001b[0;32m<ipython-input-116-37a82058ec8e>\u001b[0m in \u001b[0;36m<module>\u001b[0;34m\u001b[0m\n\u001b[1;32m      7\u001b[0m         \u001b[0;32mif\u001b[0m \u001b[0msol\u001b[0m\u001b[0;34m.\u001b[0m\u001b[0mn_qubits\u001b[0m \u001b[0;34m<=\u001b[0m \u001b[0mgmarked\u001b[0m \u001b[0;34m-\u001b[0m \u001b[0msol\u001b[0m\u001b[0;34m.\u001b[0m\u001b[0mnumber_of_cnots\u001b[0m \u001b[0;34m<\u001b[0m \u001b[0;36m3\u001b[0m\u001b[0;34m*\u001b[0m\u001b[0msol\u001b[0m\u001b[0;34m.\u001b[0m\u001b[0mn_qubits\u001b[0m\u001b[0;34m:\u001b[0m\u001b[0;34m\u001b[0m\u001b[0;34m\u001b[0m\u001b[0m\n\u001b[1;32m      8\u001b[0m             \u001b[0mfinal_idx_to_symbols\u001b[0m\u001b[0;34m[\u001b[0m\u001b[0mint\u001b[0m\u001b[0;34m(\u001b[0m\u001b[0mlen\u001b[0m\u001b[0;34m(\u001b[0m\u001b[0mfinal\u001b[0m\u001b[0;34m)\u001b[0m\u001b[0;34m-\u001b[0m\u001b[0;36m1\u001b[0m\u001b[0;34m)\u001b[0m\u001b[0;34m]\u001b[0m\u001b[0;34m.\u001b[0m\u001b[0mappend\u001b[0m\u001b[0;34m(\u001b[0m\u001b[0;34m\"th_\"\u001b[0m\u001b[0;34m+\u001b[0m\u001b[0mstr\u001b[0m\u001b[0;34m(\u001b[0m\u001b[0mlen\u001b[0m\u001b[0;34m(\u001b[0m\u001b[0mlist\u001b[0m\u001b[0;34m(\u001b[0m\u001b[0mfinal_idx_to_symbols\u001b[0m\u001b[0;34m.\u001b[0m\u001b[0mkeys\u001b[0m\u001b[0;34m(\u001b[0m\u001b[0;34m)\u001b[0m\u001b[0;34m)\u001b[0m\u001b[0;34m)\u001b[0m\u001b[0;34m)\u001b[0m\u001b[0;34m)\u001b[0m\u001b[0;34m\u001b[0m\u001b[0;34m\u001b[0m\u001b[0m\n\u001b[0;32m----> 9\u001b[0;31m             \u001b[0mfinal_dict\u001b[0m\u001b[0;34m[\u001b[0m\u001b[0;34m\"th_\"\u001b[0m\u001b[0;34m+\u001b[0m\u001b[0mstr\u001b[0m\u001b[0;34m(\u001b[0m\u001b[0mSN\u001b[0m\u001b[0;34m)\u001b[0m\u001b[0;34m]\u001b[0m \u001b[0;34m=\u001b[0m \u001b[0mNRE\u001b[0m\u001b[0;34m[\u001b[0m\u001b[0msymbols_on\u001b[0m\u001b[0;34m[\u001b[0m\u001b[0mstr\u001b[0m\u001b[0;34m(\u001b[0m\u001b[0;34m(\u001b[0m\u001b[0mgmarked\u001b[0m \u001b[0;34m-\u001b[0m \u001b[0msol\u001b[0m\u001b[0;34m.\u001b[0m\u001b[0mnumber_of_cnots\u001b[0m\u001b[0;34m)\u001b[0m\u001b[0;34m%\u001b[0m\u001b[0msol\u001b[0m\u001b[0;34m.\u001b[0m\u001b[0mn_qubits\u001b[0m\u001b[0;34m)\u001b[0m\u001b[0;34m]\u001b[0m\u001b[0;34m[\u001b[0m\u001b[0mindd\u001b[0m\u001b[0;34m+\u001b[0m\u001b[0mk\u001b[0m\u001b[0;34m]\u001b[0m\u001b[0;34m]\u001b[0m\u001b[0;34m\u001b[0m\u001b[0;34m\u001b[0m\u001b[0m\n\u001b[0m\u001b[1;32m     10\u001b[0m             \u001b[0msymbols_on\u001b[0m\u001b[0;34m[\u001b[0m\u001b[0mstr\u001b[0m\u001b[0;34m(\u001b[0m\u001b[0;34m(\u001b[0m\u001b[0mgmarked\u001b[0m \u001b[0;34m-\u001b[0m \u001b[0msol\u001b[0m\u001b[0;34m.\u001b[0m\u001b[0mnumber_of_cnots\u001b[0m\u001b[0;34m)\u001b[0m\u001b[0;34m%\u001b[0m\u001b[0msol\u001b[0m\u001b[0;34m.\u001b[0m\u001b[0mn_qubits\u001b[0m\u001b[0;34m)\u001b[0m\u001b[0;34m]\u001b[0m\u001b[0;34m[\u001b[0m\u001b[0mindd\u001b[0m\u001b[0;34m+\u001b[0m\u001b[0mk\u001b[0m\u001b[0;34m]\u001b[0m\u001b[0;34m=\u001b[0m\u001b[0;34m-\u001b[0m\u001b[0;36m1\u001b[0m\u001b[0;34m\u001b[0m\u001b[0;34m\u001b[0m\u001b[0m\n\u001b[1;32m     11\u001b[0m             \u001b[0mSN\u001b[0m\u001b[0;34m+=\u001b[0m\u001b[0;36m1\u001b[0m\u001b[0;34m\u001b[0m\u001b[0;34m\u001b[0m\u001b[0m\n",
      "\u001b[0;31mKeyError\u001b[0m: -1"
     ]
    }
   ],
   "source": [
    "index_gate=0\n",
    "for gmarked in new_indexed_circuit:\n",
    "    if not gmarked == -1:\n",
    "        final.append(gmarked)\n",
    "        \n",
    "        if sol.n_qubits <= gmarked - sol.number_of_cnots < 3*sol.n_qubits:\n",
    "            final_idx_to_symbols[int(len(final)-1)].append(\"th_\"+str(len(list(final_idx_to_symbols.keys()))))\n",
    "            final_dict[\"th_\"+str(SN)] = NRE[symbols_on[str((gmarked - sol.number_of_cnots)%sol.n_qubits)][indd+k]]\n",
    "            symbols_on[str((gmarked - sol.number_of_cnots)%sol.n_qubits)][indd+k]=-1\n",
    "            SN+=1\n"
   ]
  },
  {
   "cell_type": "code",
   "execution_count": 113,
   "metadata": {},
   "outputs": [
    {
     "data": {
      "text/plain": [
       "{'0': ['th_0', 'th_1'], '1': ['th_2', 'th_3'], '2': ['th_4', 'th_5']}"
      ]
     },
     "execution_count": 113,
     "metadata": {},
     "output_type": "execute_result"
    }
   ],
   "source": [
    "symbols_on"
   ]
  },
  {
   "cell_type": "code",
   "execution_count": 111,
   "metadata": {},
   "outputs": [
    {
     "data": {
      "text/plain": [
       "{'0': ['th_0', 'th_1'], '1': ['th_2', 'th_3'], '2': ['th_4', 'th_5']}"
      ]
     },
     "execution_count": 111,
     "metadata": {},
     "output_type": "execute_result"
    }
   ],
   "source": [
    "symbols_on"
   ]
  },
  {
   "cell_type": "code",
   "execution_count": 108,
   "metadata": {},
   "outputs": [
    {
     "data": {
      "text/plain": [
       "{'th_0': -0.17219424853614204,\n",
       " 'th_1': -0.4100077560848983,\n",
       " 'th_2': 0.26337501619883663,\n",
       " 'th_3': 0.4885395636144124,\n",
       " 'th_4': 0.2814049890876301,\n",
       " 'th_5': 0.48291854560046427}"
      ]
     },
     "execution_count": 108,
     "metadata": {},
     "output_type": "execute_result"
    }
   ],
   "source": [
    "{s:k/np.pi for s,k in zip(list(NRE.keys()),list(NRE.values()))}"
   ]
  },
  {
   "cell_type": "code",
   "execution_count": 109,
   "metadata": {},
   "outputs": [],
   "source": [
    "u1=sol.give_unitary(indexed_circuit, symbol_to_value)\n",
    "u2=sol.give_unitary(final, NRE)"
   ]
  },
  {
   "cell_type": "code",
   "execution_count": 110,
   "metadata": {},
   "outputs": [
    {
     "data": {
      "text/html": [
       "<pre style=\"overflow: auto; white-space: pre;\">(0, 0): ───Rx(-0.172π)───Rz(-0.41π)───\n",
       "\n",
       "(0, 1): ───Rx(0.263π)────Rz(0.489π)───\n",
       "\n",
       "(0, 2): ───Rx(0.281π)────Rz(0.483π)───</pre>"
      ],
      "text/plain": [
       "(0, 0): ───Rx(-0.172π)───Rz(-0.41π)───\n",
       "\n",
       "(0, 1): ───Rx(0.263π)────Rz(0.489π)───\n",
       "\n",
       "(0, 2): ───Rx(0.281π)────Rz(0.483π)───"
      ]
     },
     "execution_count": 110,
     "metadata": {},
     "output_type": "execute_result"
    }
   ],
   "source": [
    "u1"
   ]
  },
  {
   "cell_type": "code",
   "execution_count": 100,
   "metadata": {},
   "outputs": [
    {
     "data": {
      "text/html": [
       "<pre style=\"overflow: auto; white-space: pre;\">(0, 0): ───Rx(-0.204π)───Rz(0.347π)───\n",
       "\n",
       "(0, 1): ───Rx(-0.354π)───Rz(0.116π)───\n",
       "\n",
       "(0, 2): ───Rx(0.411π)────Rz(0.913π)───</pre>"
      ],
      "text/plain": [
       "(0, 0): ───Rx(-0.204π)───Rz(0.347π)───\n",
       "\n",
       "(0, 1): ───Rx(-0.354π)───Rz(0.116π)───\n",
       "\n",
       "(0, 2): ───Rx(0.411π)────Rz(0.913π)───"
      ]
     },
     "execution_count": 100,
     "metadata": {},
     "output_type": "execute_result"
    }
   ],
   "source": [
    "u2"
   ]
  },
  {
   "cell_type": "code",
   "execution_count": 95,
   "metadata": {},
   "outputs": [],
   "source": [
    "e=[]\n",
    "for u in [u1, u2]:\n",
    "    effective_qubits = list(u.all_qubits())\n",
    "    for k in sol.qubits:\n",
    "        if k not in effective_qubits:\n",
    "            u.append(cirq.I.on(k))\n",
    "    expectation_layer = tfq.layers.Expectation()\n",
    "    tfqciru1 = tfq.convert_to_tensor([u]) ###SymbolToValue parameters !!!\n",
    "    exp1 = expectation_layer(tfqciru1,\n",
    "                                operators=tfq.convert_to_tensor([sol.observable]))\n",
    "    e.append(np.float32(np.squeeze(tf.math.reduce_sum(exp1, axis=-1, keepdims=True))))"
   ]
  },
  {
   "cell_type": "code",
   "execution_count": 96,
   "metadata": {},
   "outputs": [
    {
     "data": {
      "text/plain": [
       "[-0.5723573, -0.5723573]"
      ]
     },
     "execution_count": 96,
     "metadata": {},
     "output_type": "execute_result"
    }
   ],
   "source": [
    "e"
   ]
  },
  {
   "cell_type": "code",
   "execution_count": null,
   "metadata": {},
   "outputs": [],
   "source": [
    "#not sure if this is correct... rotating on z adds a phase, is it important ?\n",
    "cirq.unitary(cirq.Circuit([cirq.rz(1.0).on(sol.qubits[0])]))"
   ]
  },
  {
   "cell_type": "code",
   "execution_count": null,
   "metadata": {},
   "outputs": [],
   "source": []
  },
  {
   "cell_type": "code",
   "execution_count": null,
   "metadata": {},
   "outputs": [],
   "source": [
    "def diff(u_1, u_2, cnots_simplified = False, numpy_type=True, expect=False):\n",
    "    if not expect:\n",
    "        ui = cirq.unitary(u_1)\n",
    "        uf = cirq.unitary(u_2)\n",
    "        if cnots_simplified:\n",
    "            return np.sum(np.abs((ui - uf)[:,0]))\n",
    "        else:\n",
    "            return np.sum(np.abs((ui - uf)))\n",
    "    else:\n",
    "        for u in [u_1, u_2]:\n",
    "            effective_qubits = list(u.all_qubits())\n",
    "            for k in sol.qubits:\n",
    "                if k not in effective_qubits:\n",
    "                    u.append(cirq.I.on(k))\n",
    "        expectation_layer = tfq.layers.Expectation()\n",
    "        tfqciru1 = tfq.convert_to_tensor([u_1, u_2]) ###SymbolToValue parameters !!!\n",
    "        #backend=cirq.DensityMatrixSimulator(noise=cirq.depolarize(self.noise_level))\n",
    "        exp1 = expectation_layer(  tfqciru1,\n",
    "                                operators=tfq.convert_to_tensor([sol.observable]))\n",
    "        e1 = np.float32(np.squeeze(tf.math.reduce_sum(expval_gates_index, axis=-1, keepdims=True)))\n",
    "        return e1"
   ]
  },
  {
   "cell_type": "code",
   "execution_count": null,
   "metadata": {},
   "outputs": [],
   "source": []
  },
  {
   "cell_type": "code",
   "execution_count": null,
   "metadata": {},
   "outputs": [],
   "source": []
  }
 ],
 "metadata": {
  "kernelspec": {
   "display_name": "Python 3",
   "language": "python",
   "name": "python3"
  },
  "language_info": {
   "codemirror_mode": {
    "name": "ipython",
    "version": 3
   },
   "file_extension": ".py",
   "mimetype": "text/x-python",
   "name": "python",
   "nbconvert_exporter": "python",
   "pygments_lexer": "ipython3",
   "version": "3.6.9"
  }
 },
 "nbformat": 4,
 "nbformat_minor": 4
}
