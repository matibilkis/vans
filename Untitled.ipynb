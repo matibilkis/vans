{
 "cells": [
  {
   "cell_type": "code",
   "execution_count": 1,
   "metadata": {},
   "outputs": [],
   "source": [
    "import os\n",
    "import numpy as np\n",
    "import multiprocessing as mp\n",
    "from utilities.misc import dict_to_json\n",
    "\n",
    "\n",
    "QUBITS = 2\n",
    "QEPOCHS = 10**3\n",
    "GENETIC_RUNS=10**1\n",
    "insts=[]\n",
    "# problem_config = dict_to_json({\"problem\" : \"TFIM\", \"g\":1.0, \"J\": 0.3})\n",
    "problem_config = dict_to_json({\"problem\" : \"XXZ\", \"g\":1.0, \"J\": 0.3})"
   ]
  },
  {
   "cell_type": "code",
   "execution_count": 3,
   "metadata": {},
   "outputs": [
    {
     "data": {
      "text/plain": [
       "'python3 main.py --path_results \"/data/uab-giq/scratch/matias\" --qlr 0.01 --acceptange_percentage 0.01 --n_qubits 2 --reps 10 --qepochs 1000 --problem_config \\'{\"problem\":\"XXZ\",\"g\":\"1.0\",\"J\":\"0.3\"}\\''"
      ]
     },
     "execution_count": 3,
     "metadata": {},
     "output_type": "execute_result"
    }
   ],
   "source": [
    "for J in [1]:\n",
    "    instruction = \"python3 main.py --path_results \"+\"\\\"/data/uab-giq/scratch/matias\\\"\"+\" --qlr 0.01 --acceptange_percentage 0.01 --n_qubits \"+str(QUBITS)+\" --reps \"+str(GENETIC_RUNS)+\" --qepochs \"+str(QEPOCHS)+ \" --problem_config \"+problem_config#+\" --noise_config \"+noise_config + \"\n",
    "    insts.append(instruction)\n",
    "instruction"
   ]
  },
  {
   "cell_type": "code",
   "execution_count": null,
   "metadata": {},
   "outputs": [],
   "source": [
    "os.system(instruction[0])"
   ]
  },
  {
   "cell_type": "code",
   "execution_count": null,
   "metadata": {},
   "outputs": [],
   "source": []
  }
 ],
 "metadata": {
  "kernelspec": {
   "display_name": "qenv_bilkis",
   "language": "python",
   "name": "qenv_bilkis"
  },
  "language_info": {
   "codemirror_mode": {
    "name": "ipython",
    "version": 3
   },
   "file_extension": ".py",
   "mimetype": "text/x-python",
   "name": "python",
   "nbconvert_exporter": "python",
   "pygments_lexer": "ipython3",
   "version": "3.6.8"
  }
 },
 "nbformat": 4,
 "nbformat_minor": 4
}
