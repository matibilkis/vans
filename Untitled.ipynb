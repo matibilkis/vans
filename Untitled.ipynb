{
 "cells": [
  {
   "cell_type": "code",
   "execution_count": 1,
   "metadata": {},
   "outputs": [],
   "source": [
    "import gym\n",
    "from vans_gym.envs import VansEnv\n",
    "from vans_gym.solvers import CirqSolver, CirqSmartSolver, VAnsatzSmart\n",
    "from vans_gym.models import Duel_DQN\n",
    "\n",
    "import warnings\n",
    "warnings.filterwarnings('ignore')\n",
    "\n",
    "\n",
    "observable_name = \"Ising_High_TFields\"\n",
    "\n",
    "solver = CirqSmartSolver(n_qubits = 3, observable_name=observable_name)\n",
    "env = VansEnv(solver, depth_circuit=3, state_as_sequence=True, printing=False)"
   ]
  },
  {
   "cell_type": "code",
   "execution_count": 2,
   "metadata": {},
   "outputs": [],
   "source": [
    "solver = CirqSmartSolver(n_qubits=3,observable_name=\"Ising_High_TFields\")\n",
    "checker = VAnsatzSmart(solver.n_qubits, solver.observable_name, solver.target_reward, [0])"
   ]
  },
  {
   "cell_type": "code",
   "execution_count": 3,
   "metadata": {},
   "outputs": [
    {
     "data": {
      "text/html": [
       "<pre style=\"overflow: auto; white-space: pre;\">(0, 0): ───@───\n",
       "           │\n",
       "(0, 1): ───X───\n",
       "\n",
       "(0, 2): ───I───</pre>"
      ],
      "text/plain": [
       "(0, 0): ───@───\n",
       "           │\n",
       "(0, 1): ───X───\n",
       "\n",
       "(0, 2): ───I───"
      ]
     },
     "execution_count": 3,
     "metadata": {},
     "output_type": "execute_result"
    }
   ],
   "source": [
    "checker.get_state(checker.qubits)"
   ]
  },
  {
   "cell_type": "code",
   "execution_count": 4,
   "metadata": {},
   "outputs": [
    {
     "data": {
      "text/plain": [
       "[1, -1, -1, -1, -1, -1, -1, -1, -1, -1, -1, -1, -1, -1, -1]"
      ]
     },
     "execution_count": 4,
     "metadata": {},
     "output_type": "execute_result"
    }
   ],
   "source": [
    "solver.alphabet[0]"
   ]
  },
  {
   "cell_type": "code",
   "execution_count": 5,
   "metadata": {},
   "outputs": [
    {
     "data": {
      "text/plain": [
       "([-1, -1, -1, -1, -1, -1, -1, -1, -1, -1, -1, -1, 1, -1, -1],\n",
       " [-1, -1, -1, -1, -1, -1, -1, -1, -1, -1, -1, -1, -1, 1, -1],\n",
       " 1)"
      ]
     },
     "execution_count": 5,
     "metadata": {},
     "output_type": "execute_result"
    }
   ],
   "source": [
    "w1 = [-1]*len(checker.alphabet)\n",
    "w2 = [-1]*len(checker.alphabet)\n",
    "\n",
    "w1[0] =1\n",
    "w2[0] =1\n",
    "checker.check_two(w1,w2,0)"
   ]
  },
  {
   "cell_type": "code",
   "execution_count": 7,
   "metadata": {},
   "outputs": [
    {
     "data": {
      "text/plain": [
       "([-1, -1, -1, -1, -1, -1, -1, -1, -1, -1, -1, -1, 1, -1, -1],\n",
       " [-1, -1, -1, -1, -1, -1, -1, -1, -1, -1, -1, -1, -1, 1, -1],\n",
       " 1)"
      ]
     },
     "execution_count": 7,
     "metadata": {},
     "output_type": "execute_result"
    }
   ],
   "source": [
    "w1 = solver.alphabet[0]\n",
    "w2 = solver.alphabet[0]\n",
    "\n",
    "checker.check_two(w1,w2,0)"
   ]
  },
  {
   "cell_type": "code",
   "execution_count": null,
   "metadata": {},
   "outputs": [],
   "source": [
    "checker.number_of_cnots"
   ]
  },
  {
   "cell_type": "code",
   "execution_count": null,
   "metadata": {},
   "outputs": [],
   "source": []
  }
 ],
 "metadata": {
  "kernelspec": {
   "display_name": "Python 3",
   "language": "python",
   "name": "python3"
  },
  "language_info": {
   "codemirror_mode": {
    "name": "ipython",
    "version": 3
   },
   "file_extension": ".py",
   "mimetype": "text/x-python",
   "name": "python",
   "nbconvert_exporter": "python",
   "pygments_lexer": "ipython3",
   "version": "3.6.9"
  }
 },
 "nbformat": 4,
 "nbformat_minor": 4
}
