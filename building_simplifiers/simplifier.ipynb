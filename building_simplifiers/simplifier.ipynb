{
 "cells": [
  {
   "cell_type": "markdown",
   "metadata": {},
   "source": [
    "We'll write a simplifier a la Luckasz"
   ]
  },
  {
   "cell_type": "code",
   "execution_count": 2,
   "metadata": {},
   "outputs": [],
   "source": [
    "import numpy as np\n",
    "import sympy\n",
    "import cirq\n",
    "import tensorflow as tf\n",
    "import tensorflow_quantum as tfq\n",
    "import matplotlib.pyplot as plt\n",
    "from tqdm import tqdm\n",
    "\n",
    "\n",
    "class Solver:\n",
    "    def __init__(self, n_qubits=3, qlr=0.01, qepochs=200,verbose=0, g=1, J=0):\n",
    "\n",
    "        \"\"\"\"solver with n**2 possible actions: n(n-1) CNOTS + n 1-qubit unitary\"\"\"\n",
    "        self.n_qubits = n_qubits\n",
    "        self.qubits = cirq.GridQubit.rect(1, n_qubits)\n",
    "        self.lower_bound_Eg = -2*self.n_qubits\n",
    "        \n",
    "        self.qlr = qlr\n",
    "        self.qepochs=qepochs\n",
    "        self.verbose=verbose\n",
    "\n",
    "\n",
    "        self.indexed_cnots = {}\n",
    "        self.cnots_index = {}\n",
    "        count = 0\n",
    "        for control in range(self.n_qubits):\n",
    "            for target in range(self.n_qubits):\n",
    "                if control != target:\n",
    "                    self.indexed_cnots[str(count)] = [control, target]\n",
    "                    self.cnots_index[str([control,target])] = count\n",
    "                    count += 1\n",
    "        self.number_of_cnots = len(self.indexed_cnots)\n",
    "        \n",
    "        self.final_params = []\n",
    "        self.parametrized_unitary = [cirq.rz, cirq.rx, cirq.rz]\n",
    "        \n",
    "        self.observable=self.ising_obs(g=g, J=J)\n",
    "        \n",
    "    def ising_obs(self, g=1, J=0):\n",
    "        # g \\sum_i Z_i - J \\sum_{i} X_i X_{i+1}\n",
    "        observable = [float(g)*cirq.Z.on(q) for q in self.qubits] \n",
    "        for q in range(len(self.qubits)):\n",
    "            observable.append(float(J)*cirq.X.on(self.qubits[q])*cirq.X.on(self.qubits[(q+1)%len(self.qubits)]))\n",
    "        self.ground_energy = -g*np.sum(np.sqrt([1+(J/4*g)**2 - (np.cos(q)*(J/2*g)) for q in range(self.n_qubits)]))\n",
    "        return observable\n",
    "        \n",
    "    def index_meaning(self,index):\n",
    "        if index<self.number_of_cnots:\n",
    "            print(\"cnot: \",self.indexed_cnots[str(index)])\n",
    "            return\n",
    "        else:\n",
    "            print(\"1-qubit unitary on: \",(index-self.number_of_cnots)%self.n_qubits)\n",
    "            return\n",
    "\n",
    "    def append_to_circuit(self, ind, circuit, params):\n",
    "        \"\"\"\n",
    "        appends to circuit the index of the gate;\n",
    "        and if one_hot_gate it implies a rotation,\n",
    "        appends to params a symbol\n",
    "        \"\"\"\n",
    "\n",
    "        if ind < self.number_of_cnots:\n",
    "            control, target = self.indexed_cnots[str(ind)]\n",
    "            circuit.append(cirq.CNOT.on(self.qubits[control], self.qubits[target]))\n",
    "            return circuit, params\n",
    "        else:\n",
    "            qubit = self.qubits[(ind-self.number_of_cnots)%self.n_qubits]\n",
    "            for par, gate in zip(range(3),self.parametrized_unitary):\n",
    "                new_param = \"th_\"+str(len(params))\n",
    "                params.append(new_param)\n",
    "                circuit.append(gate(sympy.Symbol(new_param)).on(qubit))\n",
    "            return circuit, params\n",
    "        \n",
    "    def give_circuit(self, lista,one_hot=False):\n",
    "        circuit, symbols = [], []\n",
    "        for k in lista:\n",
    "            circuit, symbols = self.append_to_circuit(k,circuit,symbols)\n",
    "        circuit = cirq.Circuit(circuit)\n",
    "        return circuit, symbols\n",
    "\n",
    "    def dressed_cnot(self,q1,q2):\n",
    "        u1 = self.number_of_cnots + q1\n",
    "        u2 = self.number_of_cnots + q2\n",
    "        cnot = self.cnots_index[str([q1,q2])]\n",
    "        u3 = self.number_of_cnots + q1\n",
    "        u4 = self.number_of_cnots + q2\n",
    "        return [u1,u2,cnot,u3,u4]\n",
    "    \n",
    "    def dressed_ansatz(self, layers=1):\n",
    "        c=[]\n",
    "        for layer in range(layers):\n",
    "            qubits = list(range(self.n_qubits))\n",
    "            qdeph = qubits[layers:]\n",
    "            for q in qubits[:layers]:\n",
    "                qdeph.append(q)\n",
    "            for ind1, ind2 in zip(qubits,qdeph):\n",
    "                for k in self.dressed_cnot(ind1,ind2):\n",
    "                    c.append(k)\n",
    "        return c\n",
    "\n",
    "\n",
    "    def TFQ_model(self, symbols):\n",
    "        circuit_input = tf.keras.Input(shape=(), dtype=tf.string)\n",
    "        output = tfq.layers.Expectation()(\n",
    "                circuit_input,\n",
    "                symbol_names=symbols,\n",
    "                operators=tfq.convert_to_tensor([self.observable]),\n",
    "                initializer=tf.keras.initializers.RandomNormal()) #we may change this!!!\n",
    "        model = tf.keras.Model(inputs=circuit_input, outputs=output)\n",
    "        adam = tf.keras.optimizers.Adam(learning_rate=self.qlr)\n",
    "        model.compile(optimizer=adam, loss='mse')\n",
    "        return model\n",
    "\n",
    "\n",
    "    def run_circuit(self, gates_index, sim_q_state=False):\n",
    "        \"\"\"\n",
    "        takes as input vector with actions described as integer\n",
    "        and outputsthe energy of that circuit (w.r.t self.observable)\n",
    "        \"\"\"\n",
    "        ### create a vector with the gates on the corresponding qubit(s)\n",
    "        circuit, symbols = self.give_circuit(gates_index)\n",
    "        \n",
    "        ### this is because each qubit should be \"activated\" in TFQ to do the optimization (if the observable has support on this qubit as well and you don't add I then error)\n",
    "        effective_qubits = list(circuit.all_qubits())\n",
    "        for k in self.qubits:\n",
    "            if k not in effective_qubits:\n",
    "                circuit.append(cirq.I.on(k))\n",
    "\n",
    "        tfqcircuit = tfq.convert_to_tensor([circuit])\n",
    "        if len(symbols) == 0:\n",
    "            expval = tfq.layers.Expectation()(\n",
    "                                            tfqcircuit,\n",
    "                                            operators=tfq.convert_to_tensor([self.observable]))\n",
    "            energy = np.float32(np.squeeze(tf.math.reduce_sum(expval, axis=-1, keepdims=True)))\n",
    "            self.final_params = []\n",
    "\n",
    "        else:\n",
    "            model = self.TFQ_model(symbols)\n",
    "            qoutput = tf.ones((1, 1))*self.lower_bound_Eg\n",
    "            model.fit(x=tfqcircuit, y=qoutput, batch_size=1, epochs=self.qepochs, verbose=self.verbose)\n",
    "            energy = np.squeeze(tf.math.reduce_sum(model.predict(tfqcircuit), axis=-1))\n",
    "            self.final_params = [np.squeeze(k.numpy()) for k in model.trainable_variables]\n",
    "\n",
    "        #if sim_q_state:\n",
    "            #simulator = cirq.Simulator()\n",
    "            #result = simulator.simulate(circuit, qubit_order=self.qubits)\n",
    "            #probs = np.abs(result.final_state)**2\n",
    "            #return energy, probs\n",
    "        return energy"
   ]
  },
  {
   "cell_type": "code",
   "execution_count": 3,
   "metadata": {},
   "outputs": [],
   "source": [
    "sol = Solver()"
   ]
  },
  {
   "cell_type": "code",
   "execution_count": 4,
   "metadata": {},
   "outputs": [
    {
     "data": {
      "text/plain": [
       "{'0': [0, 1], '1': [0, 2], '2': [1, 0], '3': [1, 2], '4': [2, 0], '5': [2, 1]}"
      ]
     },
     "execution_count": 4,
     "metadata": {},
     "output_type": "execute_result"
    }
   ],
   "source": [
    "sol.indexed_cnots"
   ]
  },
  {
   "cell_type": "code",
   "execution_count": 14,
   "metadata": {},
   "outputs": [
    {
     "data": {
      "text/plain": [
       "((0, 0): ───@────────────────────────────────────────────────────────────────────────────\n",
       "           │\n",
       "(0, 1): ───X──────────Rz(th_0)───Rx(th_1)───Rz(th_2)───Rz(th_3)───Rx(th_4)───Rz(th_5)───\n",
       "\n",
       "(0, 2): ───Rz(th_6)───Rx(th_7)───Rz(th_8)───────────────────────────────────────────────,\n",
       " ['th_0', 'th_1', 'th_2', 'th_3', 'th_4', 'th_5', 'th_6', 'th_7', 'th_8'])"
      ]
     },
     "execution_count": 14,
     "metadata": {},
     "output_type": "execute_result"
    }
   ],
   "source": [
    "indexed_circuit = [0,7,7,8]\n",
    "sol.give_circuit(indexed_circuit)"
   ]
  },
  {
   "cell_type": "code",
   "execution_count": 71,
   "metadata": {},
   "outputs": [
    {
     "data": {
      "text/plain": [
       "((0, 0): ───@───@──────────────────────────────────────────────────────────────────────────────────────────────────────\n",
       "           │   │\n",
       "(0, 1): ───X───X───Rz(th_0)───Rx(th_1)───Rz(th_2)───Rz(th_3)───Rx(th_4)───Rz(th_5)───Rz(th_6)───Rx(th_7)───Rz(th_8)───,\n",
       " ['th_0', 'th_1', 'th_2', 'th_3', 'th_4', 'th_5', 'th_6', 'th_7', 'th_8'])"
      ]
     },
     "execution_count": 71,
     "metadata": {},
     "output_type": "execute_result"
    }
   ],
   "source": [
    "indexed_circuit = [0,0,7,7,7]\n",
    "sol.give_circuit(indexed_circuit)\n"
   ]
  },
  {
   "cell_type": "code",
   "execution_count": 74,
   "metadata": {},
   "outputs": [],
   "source": [
    "#load circuit on each qubit\n",
    "connections={str(q):[\"init\"] for q in range(sol.n_qubits)}\n",
    "simplified = []\n",
    "flagged = [False]*len(indexed_circuit) #to check if you have seen the cnots\n",
    "for q in range(sol.n_qubits):\n",
    "    for nn,idq in enumerate(indexed_circuit):\n",
    "        if idq<sol.number_of_cnots:\n",
    "            control, target = sol.indexed_cnots[str(idq)]\n",
    "            if q in [control, target] and not flagged[nn]: #if this particular CNOT i haven't append it to connections\n",
    "                if not (connections[str(control)][-1] == \"cnot_control\" and connections[str(target)][-1] == \"cnot_target\"): #if the previous gate on each qubit is \n",
    "                    simplified.append(idq)\n",
    "                connections[str(control)].append(\"cnot_control\") \n",
    "                connections[str(target)].append(\"cnot_target\")\n",
    "                flagged[nn] = True #so you don't add the other\n",
    "\n",
    "            #elif q in [control, target] and connections[str(control)][-1] == \"cnot_control\" and connections[str(target)][-1] == \"cnot_target\":\n",
    "             #   :\n",
    "        else:\n",
    "            if idq%sol.n_qubits == q:\n",
    "                if connections[str(q)][-1] != \"u\":\n",
    "                    simplified.append(idq)\n",
    "                connections[str(q)].append(\"u\")\n",
    "                "
   ]
  },
  {
   "cell_type": "code",
   "execution_count": null,
   "metadata": {},
   "outputs": [],
   "source": []
  },
  {
   "cell_type": "code",
   "execution_count": 110,
   "metadata": {},
   "outputs": [],
   "source": [
    "\n",
    "def simplify(sol,indexed_circuit):\n",
    "\n",
    "    #load circuit on each qubit\n",
    "    connections={str(q):[\"init\"] for q in range(sol.n_qubits)}\n",
    "    cnotsections={str(q):[] for q in range(sol.n_qubits)}\n",
    "\n",
    "    simplified = []\n",
    "    flagged = [False]*len(indexed_circuit) #to check if you have seen the cnots\n",
    "    for q in range(sol.n_qubits):\n",
    "        for nn,idq in enumerate(indexed_circuit):\n",
    "            if idq<sol.number_of_cnots:\n",
    "                control, target = sol.indexed_cnots[str(idq)]\n",
    "\n",
    "                if q in [control, target] and not flagged[nn]: #if this particular CNOT i haven't append it to connections\n",
    "                    #cnotsections[str(control)].append(idq)\n",
    "                    #cnotsections[str(target)].append(idq)\n",
    "\n",
    "\n",
    "                    if (connections[str(control)][-1] != \"u\") and (connections[str(control)][-1] != \"init\") and (connections[str(control)][-1] == connections[str(target)][-1]):\n",
    "                        connections[str(control)].pop(-1)\n",
    "                        connections[str(target)].pop(-1)\n",
    "                        simplified()\n",
    "                    else:\n",
    "                        simplified.append(idq)\n",
    "                        indexed_appendings[str()]\n",
    "                    connections[str(control)].append(idq) \n",
    "                    connections[str(target)].append(idq)\n",
    "                    flagged[nn] = True #so you don't add the other\n",
    "                                #elif q in [control, target] and connections[str(control)][-1] == \"cnot_control\" and connections[str(target)][-1] == \"cnot_target\":\n",
    "                 #   :\n",
    "            else:\n",
    "                if idq%sol.n_qubits == q:\n",
    "                    if connections[str(q)][-1] != \"u\":\n",
    "                        simplified.append(idq)\n",
    "                    connections[str(q)].append(\"u\")\n",
    "    return simplified"
   ]
  },
  {
   "cell_type": "code",
   "execution_count": null,
   "metadata": {},
   "outputs": [],
   "source": [
    "casa = [1,2,3,4,5]"
   ]
  },
  {
   "cell_type": "code",
   "execution_count": 116,
   "metadata": {},
   "outputs": [
    {
     "data": {
      "text/plain": [
       "((0, 0): ───@───@──────────────────────────────────────────────────────────────────────────────────────────────────────\n",
       "           │   │\n",
       "(0, 1): ───X───X───Rz(th_0)───Rx(th_1)───Rz(th_2)───Rz(th_3)───Rx(th_4)───Rz(th_5)───Rz(th_6)───Rx(th_7)───Rz(th_8)───,\n",
       " ['th_0', 'th_1', 'th_2', 'th_3', 'th_4', 'th_5', 'th_6', 'th_7', 'th_8'])"
      ]
     },
     "execution_count": 116,
     "metadata": {},
     "output_type": "execute_result"
    }
   ],
   "source": [
    "indexed_circuit = [0,0,7,7,7]\n",
    "simplified =simplify(sol,indexed_circuit)\n",
    "sol.give_circuit(indexed_circuit)"
   ]
  },
  {
   "cell_type": "code",
   "execution_count": 117,
   "metadata": {},
   "outputs": [
    {
     "data": {
      "text/plain": [
       "((0, 0): ───@────────────────────────────────────\n",
       "           │\n",
       "(0, 1): ───X───Rz(th_0)───Rx(th_1)───Rz(th_2)───,\n",
       " ['th_0', 'th_1', 'th_2'])"
      ]
     },
     "execution_count": 117,
     "metadata": {},
     "output_type": "execute_result"
    }
   ],
   "source": [
    "sol.give_circuit(simplified)"
   ]
  },
  {
   "cell_type": "code",
   "execution_count": 108,
   "metadata": {},
   "outputs": [
    {
     "data": {
      "text/plain": [
       "((0, 0): ───@────────────────────────────────────\n",
       "           │\n",
       "(0, 1): ───X───Rz(th_0)───Rx(th_1)───Rz(th_2)───,\n",
       " ['th_0', 'th_1', 'th_2'])"
      ]
     },
     "execution_count": 108,
     "metadata": {},
     "output_type": "execute_result"
    }
   ],
   "source": [
    "sol.give_circuit(simplified)"
   ]
  },
  {
   "cell_type": "code",
   "execution_count": 87,
   "metadata": {},
   "outputs": [
    {
     "data": {
      "text/plain": [
       "[1, 2]"
      ]
     },
     "execution_count": 87,
     "metadata": {},
     "output_type": "execute_result"
    }
   ],
   "source": [
    "casa"
   ]
  },
  {
   "cell_type": "code",
   "execution_count": 80,
   "metadata": {},
   "outputs": [
    {
     "data": {
      "text/plain": [
       "((0, 0): ───@───@───@───@───@──────────────────────────────────────────────────────────────────────────────────────────────────────\n",
       "           │   │   │   │   │\n",
       "(0, 1): ───X───X───X───X───X───Rz(th_0)───Rx(th_1)───Rz(th_2)───Rz(th_3)───Rx(th_4)───Rz(th_5)───Rz(th_6)───Rx(th_7)───Rz(th_8)───,\n",
       " ['th_0', 'th_1', 'th_2', 'th_3', 'th_4', 'th_5', 'th_6', 'th_7', 'th_8'])"
      ]
     },
     "execution_count": 80,
     "metadata": {},
     "output_type": "execute_result"
    }
   ],
   "source": []
  },
  {
   "cell_type": "code",
   "execution_count": 81,
   "metadata": {},
   "outputs": [
    {
     "data": {
      "text/plain": [
       "((0, 0): ───@────────────────────────────────────\n",
       "           │\n",
       "(0, 1): ───X───Rz(th_0)───Rx(th_1)───Rz(th_2)───,\n",
       " ['th_0', 'th_1', 'th_2'])"
      ]
     },
     "execution_count": 81,
     "metadata": {},
     "output_type": "execute_result"
    }
   ],
   "source": [
    "sol.give_circuit(simplified)"
   ]
  },
  {
   "cell_type": "code",
   "execution_count": null,
   "metadata": {},
   "outputs": [],
   "source": []
  }
 ],
 "metadata": {
  "kernelspec": {
   "display_name": "Python 3",
   "language": "python",
   "name": "python3"
  },
  "language_info": {
   "codemirror_mode": {
    "name": "ipython",
    "version": 3
   },
   "file_extension": ".py",
   "mimetype": "text/x-python",
   "name": "python",
   "nbconvert_exporter": "python",
   "pygments_lexer": "ipython3",
   "version": "3.6.9"
  }
 },
 "nbformat": 4,
 "nbformat_minor": 4
}
