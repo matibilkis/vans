{
 "cells": [
  {
   "cell_type": "markdown",
   "metadata": {},
   "source": [
    "In this notebook we explore different ways of adding noise to the circuits."
   ]
  },
  {
   "cell_type": "code",
   "execution_count": 1,
   "metadata": {},
   "outputs": [],
   "source": [
    "import numpy as np\n",
    "import sympy\n",
    "import cirq\n",
    "import tensorflow_quantum as tfq\n",
    "from tqdm import tqdm\n",
    "import tensorflow as tf\n",
    "\n",
    "from utilities.variational import VQE\n",
    "from utilities.circuit_basics import Evaluator\n",
    "from utilities.idinserter import IdInserter\n",
    "from utilities.simplifier import Simplifier\n",
    "from utilities.unitary_killer import UnitaryMurder\n",
    "\n",
    "n_qubits = 4\n",
    "qlr = 0.01\n",
    "qepochs = 10**3\n",
    "verbose=0\n",
    "g=1\n",
    "J=0\n",
    "noise=0.0\n",
    "problem=\"TFIM\"\n",
    "vqe_handler = VQE(n_qubits=n_qubits, lr=qlr, epochs=qepochs, patience=100,\n",
    "                  random_perturbations=True, verbose=verbose, g=g, J = J, noise=noise, problem=problem)\n",
    "\n",
    "iid = IdInserter(n_qubits=n_qubits)\n",
    "Simp = Simplifier(n_qubits=n_qubits)\n",
    "killer = UnitaryMurder(vqe_handler)\n",
    "indexed_circuit=[vqe_handler.number_of_cnots+k for k in range(vqe_handler.n_qubits,2*vqe_handler.n_qubits)]"
   ]
  },
  {
   "cell_type": "code",
   "execution_count": 13,
   "metadata": {},
   "outputs": [
    {
     "data": {
      "text/html": [
       "<pre style=\"overflow: auto; white-space: pre;\">(0, 0): ───Rx(th_0)───\n",
       "\n",
       "(0, 1): ───Rx(th_1)───\n",
       "\n",
       "(0, 2): ───Rx(th_2)───\n",
       "\n",
       "(0, 3): ───Rx(th_3)───</pre>"
      ],
      "text/plain": [
       "(0, 0): ───Rx(th_0)───\n",
       "\n",
       "(0, 1): ───Rx(th_1)───\n",
       "\n",
       "(0, 2): ───Rx(th_2)───\n",
       "\n",
       "(0, 3): ───Rx(th_3)───"
      ]
     },
     "execution_count": 13,
     "metadata": {},
     "output_type": "execute_result"
    }
   ],
   "source": [
    "circuit, symbols, idx_symbols = vqe_handler.give_circuit(indexed_circuit) \n",
    "circuit"
   ]
  },
  {
   "cell_type": "code",
   "execution_count": 16,
   "metadata": {},
   "outputs": [
    {
     "data": {
      "text/html": [
       "<pre style=\"overflow: auto; white-space: pre;\">(0, 0): ───Rx(th_0)───D(0.01)[<virtual>]───\n",
       "\n",
       "(0, 1): ───Rx(th_1)───D(0.01)[<virtual>]───\n",
       "\n",
       "(0, 2): ───Rx(th_2)───D(0.01)[<virtual>]───\n",
       "\n",
       "(0, 3): ───Rx(th_3)───D(0.01)[<virtual>]───</pre>"
      ],
      "text/plain": [
       "(0, 0): ───Rx(th_0)───D(0.01)[<virtual>]───\n",
       "\n",
       "(0, 1): ───Rx(th_1)───D(0.01)[<virtual>]───\n",
       "\n",
       "(0, 2): ───Rx(th_2)───D(0.01)[<virtual>]───\n",
       "\n",
       "(0, 3): ───Rx(th_3)───D(0.01)[<virtual>]───"
      ]
     },
     "execution_count": 16,
     "metadata": {},
     "output_type": "execute_result"
    }
   ],
   "source": [
    "circuit.with_noise(cirq.depolarize(0.01))"
   ]
  },
  {
   "cell_type": "code",
   "execution_count": 14,
   "metadata": {},
   "outputs": [
    {
     "data": {
      "text/plain": [
       "array(-3.9466667, dtype=float32)"
      ]
     },
     "execution_count": 14,
     "metadata": {},
     "output_type": "execute_result"
    }
   ],
   "source": [
    "circuit_res= cirq.resolve_parameters(circuit, {s:0 for s,k in zip(symbols, range(len(symbols)))})\n",
    "tfq_circuit_noise = tfq.convert_to_tensor([circuit_res])\n",
    "noisy_expectation = tfq.layers.Expectation(backend=cirq.DensityMatrixSimulator(noise=cirq.depolarize(0.01)))\n",
    "tfq_layer_noisy = noisy_expectation(tfq_circuit_noise, operators=tfq.convert_to_tensor([vqe_handler.observable]))\n",
    "noisy_energy = np.squeeze(tf.math.reduce_sum(tfq_layer_noisy, axis=-1))\n",
    "noisy_energy"
   ]
  },
  {
   "cell_type": "code",
   "execution_count": 17,
   "metadata": {},
   "outputs": [],
   "source": [
    "pauls = [cirq.X, cirq.Y, cirq.Z]\n",
    "circuit_res = cirq.resolve_parameters(circuit, {s:0 for s,k in zip(symbols, range(len(symbols)))})\n",
    "p=0.01\n",
    "cbatch = []\n",
    "totals=10**3\n",
    "for k in range(totals):\n",
    "    circ = circuit_res.copy()\n",
    "    \n",
    "    if k<int((1-p)*totals):\n",
    "        cbatch.append(circ)\n",
    "    elif int((1-p)*totals)<=k:\n",
    "        which = np.random.choice(range(3), 1)[0]\n",
    "        gate = pauls[which]\n",
    "        for q in vqe_handler.qubits:\n",
    "            circ.append(gate.on(q))\n",
    "        cbatch.append(circ)"
   ]
  },
  {
   "cell_type": "code",
   "execution_count": 19,
   "metadata": {},
   "outputs": [
    {
     "data": {
      "text/plain": [
       "array(-3.944, dtype=float32)"
      ]
     },
     "execution_count": 19,
     "metadata": {},
     "output_type": "execute_result"
    }
   ],
   "source": [
    "tfq_circuit = tfq.convert_to_tensor(cbatch)\n",
    "expectation = tfq.layers.Expectation()\n",
    "tfq_layer = expectation(tfq_circuit, operators=tfq.convert_to_tensor([vqe_handler.observable]*1000))\n",
    "averaged_unitaries = tf.math.reduce_mean(tfq_layer, axis=0)\n",
    "energy = np.squeeze(tf.math.reduce_sum(averaged_unitaries, axis=-1))\n",
    "energy"
   ]
  },
  {
   "cell_type": "code",
   "execution_count": null,
   "metadata": {},
   "outputs": [],
   "source": []
  }
 ],
 "metadata": {
  "kernelspec": {
   "display_name": "Python 3",
   "language": "python",
   "name": "python3"
  },
  "language_info": {
   "codemirror_mode": {
    "name": "ipython",
    "version": 3
   },
   "file_extension": ".py",
   "mimetype": "text/x-python",
   "name": "python",
   "nbconvert_exporter": "python",
   "pygments_lexer": "ipython3",
   "version": "3.6.9"
  }
 },
 "nbformat": 4,
 "nbformat_minor": 4
}
