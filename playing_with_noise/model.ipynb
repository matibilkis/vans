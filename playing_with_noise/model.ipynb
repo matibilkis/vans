{
 "cells": [
  {
   "cell_type": "code",
   "execution_count": 1,
   "metadata": {},
   "outputs": [],
   "source": [
    "import os \n",
    "os.chdir(\"..\")\n",
    "import numpy as np\n",
    "import sympy\n",
    "import cirq\n",
    "import tensorflow_quantum as tfq\n",
    "from tqdm import tqdm\n",
    "import tensorflow as tf\n",
    "\n",
    "from utilities.variational import VQE\n",
    "from utilities.circuit_basics import Evaluator\n",
    "from utilities.idinserter import IdInserter\n",
    "from utilities.simplifier import Simplifier\n",
    "from utilities.unitary_killer import UnitaryMurder\n",
    "\n",
    "%load_ext autoreload\n",
    "%autoreload 2\n",
    "\n",
    "\n",
    "n_qubits = 4\n",
    "qlr = 0.01\n",
    "qepochs = 10**3\n",
    "verbose=0\n",
    "g=1\n",
    "J=0\n",
    "noise=0.0\n",
    "problem=\"TFIM\"\n",
    "vqe_handler = VQE(n_qubits=n_qubits, lr=qlr, epochs=qepochs, patience=100,\n",
    "                  random_perturbations=True, verbose=verbose, g=g, J = J, noise=noise, problem=problem)\n",
    "\n",
    "iid = IdInserter(n_qubits=n_qubits)\n",
    "Simp = Simplifier(n_qubits=n_qubits)\n",
    "killer = UnitaryMurder(vqe_handler)\n",
    "indexed_circuit=[vqe_handler.number_of_cnots+k for k in range(vqe_handler.n_qubits,2*vqe_handler.n_qubits)]\n",
    "circuit, symbols, idx_symbols = vqe_handler.give_circuit(indexed_circuit)\n"
   ]
  },
  {
   "cell_type": "code",
   "execution_count": 21,
   "metadata": {},
   "outputs": [],
   "source": [
    "indexed_circuit=[vqe_handler.number_of_cnots+k for k in range(vqe_handler.n_qubits,2*vqe_handler.n_qubits)]\n",
    "for k in range(vqe_handler.n_qubits):d\n",
    "    indexed_circuit.append(k)\n",
    "for k in range(vqe_handler.n_qubits,2*vqe_handler.n_qubits):\n",
    "    indexed_circuit.append(k)\n",
    "circuit, symbols, idx_symbols = vqe_handler.give_circuit(indexed_circuit)"
   ]
  },
  {
   "cell_type": "code",
   "execution_count": 22,
   "metadata": {},
   "outputs": [
    {
     "data": {
      "text/html": [
       "<pre style=\"overflow: auto; white-space: pre;\">                                                                                                                                                                        ┌──┐\n",
       "(0, 0): ───Rx(th_0)───D(0.01)[<virtual>]───@───D(0.01)[<virtual>]───@───D(0.01)[<virtual>]───@───D(0.01)[<virtual>]───X───D(0.01)[<virtual>]───────D(0.01)[<virtual>]─────X────D(0.01)[<virtual>]───────D(0.01)[<virtual>]───\n",
       "                                           │                        │                        │                        │                                                   │\n",
       "(0, 1): ───Rx(th_1)───D(0.01)[<virtual>]───X───D(0.01)[<virtual>]───┼───D(0.01)[<virtual>]───┼───D(0.01)[<virtual>]───@───D(0.01)[<virtual>]───@───D(0.01)[<virtual>]────@┼────D(0.01)[<virtual>]───X───D(0.01)[<virtual>]───\n",
       "                                                                    │                        │                                                 │                         ││                         │\n",
       "(0, 2): ───Rx(th_2)───D(0.01)[<virtual>]───────D(0.01)[<virtual>]───X───D(0.01)[<virtual>]───┼───D(0.01)[<virtual>]───────D(0.01)[<virtual>]───X───D(0.01)[<virtual>]────┼@────D(0.01)[<virtual>]───@───D(0.01)[<virtual>]───\n",
       "                                                                                             │                                                                           │\n",
       "(0, 3): ───Rx(th_3)───D(0.01)[<virtual>]───────D(0.01)[<virtual>]───────D(0.01)[<virtual>]───X───D(0.01)[<virtual>]───────D(0.01)[<virtual>]───────D(0.01)[<virtual>]────X─────D(0.01)[<virtual>]───────D(0.01)[<virtual>]───\n",
       "                                                                                                                                                                        └──┘</pre>"
      ],
      "text/plain": [
       "                                                                                                                                                                        ┌──┐\n",
       "(0, 0): ───Rx(th_0)───D(0.01)[<virtual>]───@───D(0.01)[<virtual>]───@───D(0.01)[<virtual>]───@───D(0.01)[<virtual>]───X───D(0.01)[<virtual>]───────D(0.01)[<virtual>]─────X────D(0.01)[<virtual>]───────D(0.01)[<virtual>]───\n",
       "                                           │                        │                        │                        │                                                   │\n",
       "(0, 1): ───Rx(th_1)───D(0.01)[<virtual>]───X───D(0.01)[<virtual>]───┼───D(0.01)[<virtual>]───┼───D(0.01)[<virtual>]───@───D(0.01)[<virtual>]───@───D(0.01)[<virtual>]────@┼────D(0.01)[<virtual>]───X───D(0.01)[<virtual>]───\n",
       "                                                                    │                        │                                                 │                         ││                         │\n",
       "(0, 2): ───Rx(th_2)───D(0.01)[<virtual>]───────D(0.01)[<virtual>]───X───D(0.01)[<virtual>]───┼───D(0.01)[<virtual>]───────D(0.01)[<virtual>]───X───D(0.01)[<virtual>]────┼@────D(0.01)[<virtual>]───@───D(0.01)[<virtual>]───\n",
       "                                                                                             │                                                                           │\n",
       "(0, 3): ───Rx(th_3)───D(0.01)[<virtual>]───────D(0.01)[<virtual>]───────D(0.01)[<virtual>]───X───D(0.01)[<virtual>]───────D(0.01)[<virtual>]───────D(0.01)[<virtual>]────X─────D(0.01)[<virtual>]───────D(0.01)[<virtual>]───\n",
       "                                                                                                                                                                        └──┘"
      ]
     },
     "execution_count": 22,
     "metadata": {},
     "output_type": "execute_result"
    }
   ],
   "source": [
    "circuit.with_noise(cirq.depolarize(0.01))"
   ]
  },
  {
   "cell_type": "code",
   "execution_count": 26,
   "metadata": {},
   "outputs": [
    {
     "name": "stdout",
     "output_type": "stream",
     "text": [
      "['__add__', '__bool__', '__class__', '__copy__', '__delattr__', '__dict__', '__dir__', '__doc__', '__eq__', '__format__', '__ge__', '__getattribute__', '__getitem__', '__gt__', '__hash__', '__init__', '__init_subclass__', '__iter__', '__le__', '__len__', '__lt__', '__module__', '__ne__', '__new__', '__pow__', '__reduce__', '__reduce_ex__', '__repr__', '__setattr__', '__sizeof__', '__str__', '__subclasshook__', '__weakref__', '_approx_eq_', '_from_json_dict_', '_json_dict_', '_operation_touching', '_operations', '_qubits', 'operates_on', 'operates_on_single_qubit', 'operations', 'qubits', 'transform_qubits', 'with_operation', 'without_operations_touching'] frozenset({cirq.GridQubit(0, 0), cirq.GridQubit(0, 1), cirq.GridQubit(0, 2), cirq.GridQubit(0, 3)})\n",
      "['__add__', '__bool__', '__class__', '__copy__', '__delattr__', '__dict__', '__dir__', '__doc__', '__eq__', '__format__', '__ge__', '__getattribute__', '__getitem__', '__gt__', '__hash__', '__init__', '__init_subclass__', '__iter__', '__le__', '__len__', '__lt__', '__module__', '__ne__', '__new__', '__pow__', '__reduce__', '__reduce_ex__', '__repr__', '__setattr__', '__sizeof__', '__str__', '__subclasshook__', '__weakref__', '_approx_eq_', '_from_json_dict_', '_json_dict_', '_operation_touching', '_operations', '_qubits', 'operates_on', 'operates_on_single_qubit', 'operations', 'qubits', 'transform_qubits', 'with_operation', 'without_operations_touching'] frozenset({cirq.GridQubit(0, 0), cirq.GridQubit(0, 1)})\n",
      "['__add__', '__bool__', '__class__', '__copy__', '__delattr__', '__dict__', '__dir__', '__doc__', '__eq__', '__format__', '__ge__', '__getattribute__', '__getitem__', '__gt__', '__hash__', '__init__', '__init_subclass__', '__iter__', '__le__', '__len__', '__lt__', '__module__', '__ne__', '__new__', '__pow__', '__reduce__', '__reduce_ex__', '__repr__', '__setattr__', '__sizeof__', '__str__', '__subclasshook__', '__weakref__', '_approx_eq_', '_from_json_dict_', '_json_dict_', '_operation_touching', '_operations', '_qubits', 'operates_on', 'operates_on_single_qubit', 'operations', 'qubits', 'transform_qubits', 'with_operation', 'without_operations_touching'] frozenset({cirq.GridQubit(0, 0), cirq.GridQubit(0, 2)})\n",
      "['__add__', '__bool__', '__class__', '__copy__', '__delattr__', '__dict__', '__dir__', '__doc__', '__eq__', '__format__', '__ge__', '__getattribute__', '__getitem__', '__gt__', '__hash__', '__init__', '__init_subclass__', '__iter__', '__le__', '__len__', '__lt__', '__module__', '__ne__', '__new__', '__pow__', '__reduce__', '__reduce_ex__', '__repr__', '__setattr__', '__sizeof__', '__str__', '__subclasshook__', '__weakref__', '_approx_eq_', '_from_json_dict_', '_json_dict_', '_operation_touching', '_operations', '_qubits', 'operates_on', 'operates_on_single_qubit', 'operations', 'qubits', 'transform_qubits', 'with_operation', 'without_operations_touching'] frozenset({cirq.GridQubit(0, 0), cirq.GridQubit(0, 3)})\n",
      "['__add__', '__bool__', '__class__', '__copy__', '__delattr__', '__dict__', '__dir__', '__doc__', '__eq__', '__format__', '__ge__', '__getattribute__', '__getitem__', '__gt__', '__hash__', '__init__', '__init_subclass__', '__iter__', '__le__', '__len__', '__lt__', '__module__', '__ne__', '__new__', '__pow__', '__reduce__', '__reduce_ex__', '__repr__', '__setattr__', '__sizeof__', '__str__', '__subclasshook__', '__weakref__', '_approx_eq_', '_from_json_dict_', '_json_dict_', '_operation_touching', '_operations', '_qubits', 'operates_on', 'operates_on_single_qubit', 'operations', 'qubits', 'transform_qubits', 'with_operation', 'without_operations_touching'] frozenset({cirq.GridQubit(0, 0), cirq.GridQubit(0, 1)})\n",
      "['__add__', '__bool__', '__class__', '__copy__', '__delattr__', '__dict__', '__dir__', '__doc__', '__eq__', '__format__', '__ge__', '__getattribute__', '__getitem__', '__gt__', '__hash__', '__init__', '__init_subclass__', '__iter__', '__le__', '__len__', '__lt__', '__module__', '__ne__', '__new__', '__pow__', '__reduce__', '__reduce_ex__', '__repr__', '__setattr__', '__sizeof__', '__str__', '__subclasshook__', '__weakref__', '_approx_eq_', '_from_json_dict_', '_json_dict_', '_operation_touching', '_operations', '_qubits', 'operates_on', 'operates_on_single_qubit', 'operations', 'qubits', 'transform_qubits', 'with_operation', 'without_operations_touching'] frozenset({cirq.GridQubit(0, 1), cirq.GridQubit(0, 2)})\n",
      "['__add__', '__bool__', '__class__', '__copy__', '__delattr__', '__dict__', '__dir__', '__doc__', '__eq__', '__format__', '__ge__', '__getattribute__', '__getitem__', '__gt__', '__hash__', '__init__', '__init_subclass__', '__iter__', '__le__', '__len__', '__lt__', '__module__', '__ne__', '__new__', '__pow__', '__reduce__', '__reduce_ex__', '__repr__', '__setattr__', '__sizeof__', '__str__', '__subclasshook__', '__weakref__', '_approx_eq_', '_from_json_dict_', '_json_dict_', '_operation_touching', '_operations', '_qubits', 'operates_on', 'operates_on_single_qubit', 'operations', 'qubits', 'transform_qubits', 'with_operation', 'without_operations_touching'] frozenset({cirq.GridQubit(0, 0), cirq.GridQubit(0, 1), cirq.GridQubit(0, 2), cirq.GridQubit(0, 3)})\n",
      "['__add__', '__bool__', '__class__', '__copy__', '__delattr__', '__dict__', '__dir__', '__doc__', '__eq__', '__format__', '__ge__', '__getattribute__', '__getitem__', '__gt__', '__hash__', '__init__', '__init_subclass__', '__iter__', '__le__', '__len__', '__lt__', '__module__', '__ne__', '__new__', '__pow__', '__reduce__', '__reduce_ex__', '__repr__', '__setattr__', '__sizeof__', '__str__', '__subclasshook__', '__weakref__', '_approx_eq_', '_from_json_dict_', '_json_dict_', '_operation_touching', '_operations', '_qubits', 'operates_on', 'operates_on_single_qubit', 'operations', 'qubits', 'transform_qubits', 'with_operation', 'without_operations_touching'] frozenset({cirq.GridQubit(0, 1), cirq.GridQubit(0, 2)})\n"
     ]
    }
   ],
   "source": [
    "for k in indexed_circuit:\n",
    "    noisy"
   ]
  },
  {
   "cell_type": "code",
   "execution_count": 15,
   "metadata": {},
   "outputs": [
    {
     "name": "stdout",
     "output_type": "stream",
     "text": [
      "Rx(th_0/piπ)((0, 0)) and Rx(th_1/piπ)((0, 1)) and Rx(th_2/piπ)((0, 2)) and Rx(th_3/piπ)((0, 3))\n"
     ]
    }
   ],
   "source": [
    "noisy_circuit = circuit.copy()\n",
    "for ind, gate in enumerate(circuit):\n",
    "    noisy_circuit.append()"
   ]
  },
  {
   "cell_type": "code",
   "execution_count": 6,
   "metadata": {},
   "outputs": [
    {
     "data": {
      "text/plain": [
       "[1, 2, 4, 3]"
      ]
     },
     "execution_count": 6,
     "metadata": {},
     "output_type": "execute_result"
    }
   ],
   "source": [
    "casi=[1,2,3]\n",
    "casi.insert(-1,4)\n",
    "casi"
   ]
  },
  {
   "cell_type": "code",
   "execution_count": 2,
   "metadata": {},
   "outputs": [
    {
     "data": {
      "text/plain": [
       "({'0': ['rx'], '1': ['rx'], '2': ['rx'], '3': ['rx']},\n",
       " {'0': [0], '1': [1], '2': [2], '3': [3]})"
      ]
     },
     "execution_count": 2,
     "metadata": {},
     "output_type": "execute_result"
    }
   ],
   "source": [
    "for ind,k in enumerate(indexed_circuit):\n",
    "    if k<vqe_handler.number_of_cnots:\n",
    "        pass\n",
    "    else:\n",
    "        circuit"
   ]
  },
  {
   "cell_type": "code",
   "execution_count": 50,
   "metadata": {},
   "outputs": [],
   "source": [
    "its = (([[-1, cirq.I.on(vqe_handler.qubits[0])]]))\n",
    "circuit.batch_insert_into(its)"
   ]
  },
  {
   "cell_type": "code",
   "execution_count": 51,
   "metadata": {},
   "outputs": [
    {
     "data": {
      "text/html": [
       "<pre style=\"overflow: auto; white-space: pre;\">                                          ┌──┐\n",
       "(0, 0): ───Rx(th_0)───@───@───@───X─────────X────I───\n",
       "                      │   │   │   │         │\n",
       "(0, 1): ───Rx(th_1)───X───┼───┼───@───@────@┼────X───\n",
       "                          │   │       │    ││    │\n",
       "(0, 2): ───Rx(th_2)───────X───┼───────X────┼@────@───\n",
       "                              │            │\n",
       "(0, 3): ───Rx(th_3)───────────X────────────X─────────\n",
       "                                          └──┘</pre>"
      ],
      "text/plain": [
       "                                          ┌──┐\n",
       "(0, 0): ───Rx(th_0)───@───@───@───X─────────X────I───\n",
       "                      │   │   │   │         │\n",
       "(0, 1): ───Rx(th_1)───X───┼───┼───@───@────@┼────X───\n",
       "                          │   │       │    ││    │\n",
       "(0, 2): ───Rx(th_2)───────X───┼───────X────┼@────@───\n",
       "                              │            │\n",
       "(0, 3): ───Rx(th_3)───────────X────────────X─────────\n",
       "                                          └──┘"
      ]
     },
     "execution_count": 51,
     "metadata": {},
     "output_type": "execute_result"
    }
   ],
   "source": [
    "circuit"
   ]
  },
  {
   "cell_type": "code",
   "execution_count": 54,
   "metadata": {},
   "outputs": [],
   "source": [
    "its = (([[2, cirq.I.on(vqe_handler.qubits[0])]]))\n",
    "circuit.batch_insert(its)\n",
    "circuit"
   ]
  },
  {
   "cell_type": "code",
   "execution_count": 55,
   "metadata": {},
   "outputs": [
    {
     "data": {
      "text/html": [
       "<pre style=\"overflow: auto; white-space: pre;\">                                              ┌──┐\n",
       "(0, 0): ───Rx(th_0)───@───I───@───@───X─────────X────I───I───\n",
       "                      │       │   │   │         │\n",
       "(0, 1): ───Rx(th_1)───X───────┼───┼───@───@────@┼────────X───\n",
       "                              │   │       │    ││        │\n",
       "(0, 2): ───Rx(th_2)───────────X───┼───────X────┼@────────@───\n",
       "                                  │            │\n",
       "(0, 3): ───Rx(th_3)───────────────X────────────X─────────────\n",
       "                                              └──┘</pre>"
      ],
      "text/plain": [
       "                                              ┌──┐\n",
       "(0, 0): ───Rx(th_0)───@───I───@───@───X─────────X────I───I───\n",
       "                      │       │   │   │         │\n",
       "(0, 1): ───Rx(th_1)───X───────┼───┼───@───@────@┼────────X───\n",
       "                              │   │       │    ││        │\n",
       "(0, 2): ───Rx(th_2)───────────X───┼───────X────┼@────────@───\n",
       "                                  │            │\n",
       "(0, 3): ───Rx(th_3)───────────────X────────────X─────────────\n",
       "                                              └──┘"
      ]
     },
     "execution_count": 55,
     "metadata": {},
     "output_type": "execute_result"
    }
   ],
   "source": []
  },
  {
   "cell_type": "code",
   "execution_count": null,
   "metadata": {},
   "outputs": [],
   "source": [
    "def noisy_batch(circuit,args={\"channel\":\"depolarizing\", \"p\":0.1}):\n",
    "    if \"channel\" == \"depolarizing\":\n",
    "        pauls = [cirq.X, cirq.Y, cirq.Z]\n",
    "        #circuit_res = cirq.resolve_parameters(circuit, {s:0 for s,k in zip(symbols, range(len(symbols)))})\n",
    "        p=0.01\n",
    "        cbatch = []\n",
    "        totals=10**3\n",
    "        for k in range(totals):\n",
    "            circ = circuit.copy()\n",
    "            if k<int((1-p)*totals):\n",
    "                cbatch.append(circ)\n",
    "            elif int((1-p)*totals)<=k:\n",
    "                which = np.random.choice(range(3), 1)[0]\n",
    "                gate = pauls[which]\n",
    "                for q in vqe_handler.qubits:\n",
    "                    circ.append(gate.on(q))\n",
    "                cbatch.append(circ)"
   ]
  },
  {
   "cell_type": "code",
   "execution_count": null,
   "metadata": {},
   "outputs": [],
   "source": []
  },
  {
   "cell_type": "code",
   "execution_count": null,
   "metadata": {},
   "outputs": [],
   "source": [
    "circuit_input = tf.keras.Input(shape=(), dtype=tf.string)\n",
    "output = tfq.layers.Expectation()(circuit_input, symbol_names=symbols, operators=tfq.convert_to_tensor([vqe_handler.observable]*1000),\n",
    "        initializer=tf.keras.initializers.RandomUniform(minval=-np.pi, maxval=np.pi))\n",
    "\n",
    "model = tf.keras.Model(inputs=circuit_input, outputs=output)\n",
    "adam = tf.keras.optimizers.Adam(learning_rate=vqe_handler.lr)\n",
    "model.compile(optimizer=adam, loss='mse')\n",
    "tfqcircuit = tfq.convert_to_tensor(cbatch)\n",
    "qoutput = tf.ones((10**3, 1))*vqe_handler.lower_bound_Eg\n",
    "from datetime import datetime\n",
    "now = datetime.now()\n",
    "h=model.fit(x=tfqcircuit, y=qoutput, batch_size=10**3, epochs=100,\n",
    "          verbose=1, callbacks=[tf.keras.callbacks.EarlyStopping(monitor='loss', patience=vqe_handler.patience, mode=\"min\", min_delta=10**-3)])\n",
    "print(datetime.now()-now)"
   ]
  },
  {
   "cell_type": "code",
   "execution_count": null,
   "metadata": {},
   "outputs": [],
   "source": [
    "import matplotlib.pyplot as plt"
   ]
  },
  {
   "cell_type": "code",
   "execution_count": null,
   "metadata": {},
   "outputs": [],
   "source": [
    "plt.plot(h.history[\"loss\"])"
   ]
  },
  {
   "cell_type": "code",
   "execution_count": null,
   "metadata": {},
   "outputs": [],
   "source": []
  }
 ],
 "metadata": {
  "kernelspec": {
   "display_name": "Python 3",
   "language": "python",
   "name": "python3"
  },
  "language_info": {
   "codemirror_mode": {
    "name": "ipython",
    "version": 3
   },
   "file_extension": ".py",
   "mimetype": "text/x-python",
   "name": "python",
   "nbconvert_exporter": "python",
   "pygments_lexer": "ipython3",
   "version": "3.6.9"
  }
 },
 "nbformat": 4,
 "nbformat_minor": 4
}
