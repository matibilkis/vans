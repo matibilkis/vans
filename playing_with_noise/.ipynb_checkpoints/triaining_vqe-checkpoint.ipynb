{
 "cells": [
  {
   "cell_type": "code",
   "execution_count": 1,
   "metadata": {},
   "outputs": [
    {
     "ename": "ModuleNotFoundError",
     "evalue": "No module named 'utilities'",
     "output_type": "error",
     "traceback": [
      "\u001b[0;31m---------------------------------------------------------------------------\u001b[0m",
      "\u001b[0;31mModuleNotFoundError\u001b[0m                       Traceback (most recent call last)",
      "\u001b[0;32m<ipython-input-1-6f58a44e5a82>\u001b[0m in \u001b[0;36m<module>\u001b[0;34m\u001b[0m\n\u001b[1;32m      6\u001b[0m \u001b[0;32mimport\u001b[0m \u001b[0mtensorflow\u001b[0m \u001b[0;32mas\u001b[0m \u001b[0mtf\u001b[0m\u001b[0;34m\u001b[0m\u001b[0;34m\u001b[0m\u001b[0m\n\u001b[1;32m      7\u001b[0m \u001b[0;34m\u001b[0m\u001b[0m\n\u001b[0;32m----> 8\u001b[0;31m \u001b[0;32mfrom\u001b[0m \u001b[0mutilities\u001b[0m\u001b[0;34m.\u001b[0m\u001b[0mvariational\u001b[0m \u001b[0;32mimport\u001b[0m \u001b[0mVQE\u001b[0m\u001b[0;34m\u001b[0m\u001b[0;34m\u001b[0m\u001b[0m\n\u001b[0m\u001b[1;32m      9\u001b[0m \u001b[0;32mfrom\u001b[0m \u001b[0mutilities\u001b[0m\u001b[0;34m.\u001b[0m\u001b[0mcircuit_basics\u001b[0m \u001b[0;32mimport\u001b[0m \u001b[0mEvaluator\u001b[0m\u001b[0;34m\u001b[0m\u001b[0;34m\u001b[0m\u001b[0m\n\u001b[1;32m     10\u001b[0m \u001b[0;32mfrom\u001b[0m \u001b[0mutilities\u001b[0m\u001b[0;34m.\u001b[0m\u001b[0midinserter\u001b[0m \u001b[0;32mimport\u001b[0m \u001b[0mIdInserter\u001b[0m\u001b[0;34m\u001b[0m\u001b[0;34m\u001b[0m\u001b[0m\n",
      "\u001b[0;31mModuleNotFoundError\u001b[0m: No module named 'utilities'"
     ]
    }
   ],
   "source": [
    "\n",
    "import numpy as np\n",
    "import sympy\n",
    "import cirq\n",
    "import tensorflow_quantum as tfq\n",
    "from tqdm import tqdm\n",
    "import tensorflow as tf\n",
    "\n",
    "from utilities.variational import VQE\n",
    "from utilities.circuit_basics import Evaluator\n",
    "from utilities.idinserter import IdInserter\n",
    "from utilities.simplifier import Simplifier\n",
    "from utilities.unitary_killer import UnitaryMurder\n",
    "\n",
    "n_qubits = 4\n",
    "qlr = 0.01\n",
    "qepochs = 10**3\n",
    "verbose=0\n",
    "g=1\n",
    "J=0\n",
    "noise=0.0\n",
    "problem=\"TFIM\"\n",
    "vqe_handler = VQE(n_qubits=n_qubits, lr=qlr, epochs=qepochs, patience=100,\n",
    "                  random_perturbations=True, verbose=verbose, g=g, J = J, noise=noise, problem=problem)\n",
    "\n",
    "iid = IdInserter(n_qubits=n_qubits)\n",
    "Simp = Simplifier(n_qubits=n_qubits)\n",
    "killer = UnitaryMurder(vqe_handler)\n",
    "indexed_circuit=[vqe_handler.number_of_cnots+k for k in range(vqe_handler.n_qubits,2*vqe_handler.n_qubits)]\n",
    "\n",
    "\n",
    "circuit, symbols, idx_symbols = vqe_handler.give_circuit(indexed_circuit)\n",
    "\n",
    "\n",
    "\n",
    "pauls = [cirq.X, cirq.Y, cirq.Z]\n",
    "circuit_res = cirq.resolve_parameters(circuit, {s:0 for s,k in zip(symbols, range(len(symbols)))})\n",
    "p=0.01\n",
    "cbatch = []\n",
    "totals=10**3\n",
    "for k in range(totals):\n",
    "    circ = circuit.copy()\n",
    "\n",
    "    if k<int((1-p)*totals):\n",
    "        cbatch.append(circ)\n",
    "    elif int((1-p)*totals)<=k:\n",
    "        which = np.random.choice(range(3), 1)[0]\n",
    "        gate = pauls[which]\n",
    "        for q in vqe_handler.qubits:\n",
    "            circ.append(gate.on(q))\n",
    "        cbatch.append(circ)\n",
    "\n",
    "\n"
   ]
  },
  {
   "cell_type": "code",
   "execution_count": null,
   "metadata": {},
   "outputs": [],
   "source": []
  },
  {
   "cell_type": "code",
   "execution_count": null,
   "metadata": {},
   "outputs": [],
   "source": []
  },
  {
   "cell_type": "code",
   "execution_count": null,
   "metadata": {},
   "outputs": [],
   "source": []
  },
  {
   "cell_type": "code",
   "execution_count": null,
   "metadata": {},
   "outputs": [],
   "source": []
  },
  {
   "cell_type": "code",
   "execution_count": null,
   "metadata": {},
   "outputs": [],
   "source": [
    "\n",
    "\n",
    "circuit_input = tf.keras.Input(shape=(), dtype=tf.string)\n",
    "output = tfq.layers.Expectation()(circuit_input, symbol_names=symbols, operators=tfq.convert_to_tensor([vqe_handler.observable]*1000),\n",
    "        initializer=tf.keras.initializers.RandomUniform(minval=-np.pi, maxval=np.pi))\n",
    "\n",
    "model = tf.keras.Model(inputs=circuit_input, outputs=output)\n",
    "adam = tf.keras.optimizers.Adam(learning_rate=vqe_handler.lr)\n",
    "model.compile(optimizer=adam, loss='mse')\n",
    "tfqcircuit = tfq.convert_to_tensor(cbatch)\n",
    "qoutput = tf.ones((10**3, 1))*vqe_handler.lower_bound_Eg\n",
    "from datetime import datetime\n",
    "now = datetime.now()\n",
    "h=model.fit(x=tfqcircuit, y=qoutput, batch_size=10**3, epochs=100,\n",
    "          verbose=1, callbacks=[tf.keras.callbacks.EarlyStopping(monitor='loss', patience=vqe_handler.patience, mode=\"min\", min_delta=10**-3)])\n",
    "print(datetime.now()-now)"
   ]
  },
  {
   "cell_type": "code",
   "execution_count": 3,
   "metadata": {},
   "outputs": [],
   "source": [
    "import matplotlib.pyplot as plt"
   ]
  },
  {
   "cell_type": "code",
   "execution_count": 6,
   "metadata": {},
   "outputs": [
    {
     "data": {
      "text/plain": [
       "[<matplotlib.lines.Line2D at 0x7fe324047128>]"
      ]
     },
     "execution_count": 6,
     "metadata": {},
     "output_type": "execute_result"
    },
    {
     "data": {
      "image/png": "[encoded data removed]",
      "text/plain": [
       "<Figure size 432x288 with 1 Axes>"
      ]
     },
     "metadata": {
      "needs_background": "light"
     },
     "output_type": "display_data"
    }
   ],
   "source": [
    "plt.plot(h.history[\"loss\"])"
   ]
  },
  {
   "cell_type": "code",
   "execution_count": null,
   "metadata": {},
   "outputs": [],
   "source": []
  }
 ],
 "metadata": {
  "kernelspec": {
   "display_name": "Python 3",
   "language": "python",
   "name": "python3"
  },
  "language_info": {
   "codemirror_mode": {
    "name": "ipython",
    "version": 3
   },
   "file_extension": ".py",
   "mimetype": "text/x-python",
   "name": "python",
   "nbconvert_exporter": "python",
   "pygments_lexer": "ipython3",
   "version": "3.6.9"
  }
 },
 "nbformat": 4,
 "nbformat_minor": 4
}
