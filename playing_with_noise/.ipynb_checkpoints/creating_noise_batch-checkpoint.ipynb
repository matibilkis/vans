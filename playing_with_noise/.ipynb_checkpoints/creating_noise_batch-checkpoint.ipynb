{
 "cells": [
  {
   "cell_type": "code",
   "execution_count": 66,
   "metadata": {},
   "outputs": [
    {
     "name": "stdout",
     "output_type": "stream",
     "text": [
      "The autoreload extension is already loaded. To reload it, use:\n",
      "  %reload_ext autoreload\n"
     ]
    }
   ],
   "source": [
    "import os \n",
    "os.chdir(\"..\")\n",
    "import numpy as np\n",
    "import sympy\n",
    "import cirq\n",
    "import tensorflow_quantum as tfq\n",
    "from tqdm import tqdm\n",
    "import tensorflow as tf\n",
    "\n",
    "from utilities.variational import VQE\n",
    "from utilities.circuit_basics import Evaluator\n",
    "from utilities.idinserter import IdInserter\n",
    "from utilities.simplifier import Simplifier\n",
    "from utilities.unitary_killer import UnitaryMurder\n",
    "\n",
    "%load_ext autoreload\n",
    "%autoreload 2\n",
    "\n",
    "\n",
    "n_qubits = 4\n",
    "qlr = 0.01\n",
    "qepochs = 10**3\n",
    "verbose=0\n",
    "g=1\n",
    "J=0\n",
    "noise=0.0\n",
    "problem=\"TFIM\"\n",
    "vqe_handler = VQE(n_qubits=n_qubits, lr=qlr, epochs=qepochs, patience=100,\n",
    "                  random_perturbations=True, verbose=verbose, g=g, J = J, noise=noise, problem=problem)\n",
    "\n",
    "iid = IdInserter(n_qubits=n_qubits)\n",
    "Simp = Simplifier(n_qubits=n_qubits)\n",
    "killer = UnitaryMurder(vqe_handler)\n",
    "\n",
    "\n"
   ]
  },
  {
   "cell_type": "code",
   "execution_count": 188,
   "metadata": {},
   "outputs": [
    {
     "data": {
      "text/html": [
       "<pre style=\"overflow: auto; white-space: pre;\">(0, 0): ───X───Rx(th_0)───X───Rz(th_4)───X───\n",
       "\n",
       "(0, 1): ───X───Rx(th_1)───X───Rz(th_5)───X───\n",
       "\n",
       "(0, 2): ───X───Rx(th_2)───X───Rz(th_6)───X───\n",
       "\n",
       "(0, 3): ───X───Rx(th_3)───X───Rz(th_7)───X───</pre>"
      ],
      "text/plain": [
       "(0, 0): ───X───Rx(th_0)───X───Rz(th_4)───X───\n",
       "\n",
       "(0, 1): ───X───Rx(th_1)───X───Rz(th_5)───X───\n",
       "\n",
       "(0, 2): ───X───Rx(th_2)───X───Rz(th_6)───X───\n",
       "\n",
       "(0, 3): ───X───Rx(th_3)───X───Rz(th_7)───X───"
      ]
     },
     "execution_count": 188,
     "metadata": {},
     "output_type": "execute_result"
    }
   ],
   "source": [
    "indexed_circuit=[vqe_handler.number_of_cnots+k for k in range(vqe_handler.n_qubits,2*vqe_handler.n_qubits)]\n",
    "for k in range(vqe_handler.n_qubits):\n",
    "    indexed_circuit.append(k+vqe_handler.number_of_cnots)\n",
    "    \n",
    "circuit, symbols, idx_symbols = vqe_handler.give_circuit(indexed_circuit)\n",
    "\n",
    "tup=()\n",
    "aps=0\n",
    "for ind,k in enumerate(indexed_circuit):\n",
    "    qubs = vqe_handler.give_qubit(k)\n",
    "    for iq,q in enumerate(qubs):\n",
    "        tup+=((ind,cirq.X.on(vqe_handler.qubits[q])),)\n",
    "tup=((0,cirq.X.on(vqe_handler.qubits[0])),(1,cirq.X.on(vqe_handler.qubits[1])),(1,cirq.X.on(vqe_handler.qubits[2])), (1,cirq.X.on(vqe_handler.qubits[3])))\n",
    "for tupp in tup:\n",
    "    circuit.batch_insert(tuple([tupp]))\n",
    "    \n",
    "tup=(tuple([(2,cirq.X.on(vqe_handler.qubits[k])) for k in range(4)]))\n",
    "for tupp in tup:\n",
    "    circuit.batch_insert(tuple([tupp]))  \n",
    "    \n",
    "tup=(tuple([(4,cirq.X.on(vqe_handler.qubits[k])) for k in range(4)]))\n",
    "for tupp in tup:\n",
    "    circuit.batch_insert(tuple([tupp]))  \n",
    "circuit"
   ]
  },
  {
   "cell_type": "code",
   "execution_count": 193,
   "metadata": {},
   "outputs": [
    {
     "data": {
      "text/html": [
       "<pre style=\"overflow: auto; white-space: pre;\">(0, 0): ───X───Rx(th_0)───X───Rz(th_4)───\n",
       "\n",
       "(0, 1): ───X───Rx(th_1)───X───Rz(th_5)───\n",
       "\n",
       "(0, 2): ───X───Rx(th_2)───X───Rz(th_6)───\n",
       "\n",
       "(0, 3): ───X───Rx(th_3)───X───Rz(th_7)───</pre>"
      ],
      "text/plain": [
       "(0, 0): ───X───Rx(th_0)───X───Rz(th_4)───\n",
       "\n",
       "(0, 1): ───X───Rx(th_1)───X───Rz(th_5)───\n",
       "\n",
       "(0, 2): ───X───Rx(th_2)───X───Rz(th_6)───\n",
       "\n",
       "(0, 3): ───X───Rx(th_3)───X───Rz(th_7)───"
      ]
     },
     "execution_count": 193,
     "metadata": {},
     "output_type": "execute_result"
    }
   ],
   "source": [
    "indexed_circuit=[vqe_handler.number_of_cnots+k for k in range(vqe_handler.n_qubits,2*vqe_handler.n_qubits)]\n",
    "for k in range(vqe_handler.n_qubits):\n",
    "    indexed_circuit.append(k+vqe_handler.number_of_cnots)\n",
    "    \n",
    "circuit, symbols, idx_symbols = vqe_handler.give_circuit(indexed_circuit)\n",
    "\n",
    "tup=()\n",
    "aps=0\n",
    "for ind,k in enumerate(indexed_circuit):\n",
    "    qubs = vqe_handler.give_qubit(k)\n",
    "    if ind < 4:\n",
    "        ii=0\n",
    "    else:\n",
    "        ii=2\n",
    "    for iq,q in enumerate(qubs):\n",
    "        tup+=((ii,cirq.X.on(vqe_handler.qubits[q])),)\n",
    "for tupp in tup:\n",
    "    circuit.batch_insert(tuple([tupp]))  \n",
    "circuit"
   ]
  },
  {
   "cell_type": "code",
   "execution_count": 219,
   "metadata": {},
   "outputs": [
    {
     "data": {
      "text/html": [
       "<pre style=\"overflow: auto; white-space: pre;\">(0, 0): ───X───Rx(th_0)───X───Rz(th_4)───X───Rx(th_8)────X───Rz(th_12)───X───Rx(th_16)───X───Rz(th_20)───X───Rx(th_24)───X───Rz(th_28)───\n",
       "\n",
       "(0, 1): ───X───Rx(th_1)───X───Rz(th_5)───X───Rx(th_9)────X───Rz(th_13)───X───Rx(th_17)───X───Rz(th_21)───X───Rx(th_25)───X───Rz(th_29)───\n",
       "\n",
       "(0, 2): ───X───Rx(th_2)───X───Rz(th_6)───X───Rx(th_10)───X───Rz(th_14)───X───Rx(th_18)───X───Rz(th_22)───X───Rx(th_26)───X───Rz(th_30)───\n",
       "\n",
       "(0, 3): ───X───Rx(th_3)───X───Rz(th_7)───X───Rx(th_11)───X───Rz(th_15)───X───Rx(th_19)───X───Rz(th_23)───X───Rx(th_27)───X───Rz(th_31)───</pre>"
      ],
      "text/plain": [
       "(0, 0): ───X───Rx(th_0)───X───Rz(th_4)───X───Rx(th_8)────X───Rz(th_12)───X───Rx(th_16)───X───Rz(th_20)───X───Rx(th_24)───X───Rz(th_28)───\n",
       "\n",
       "(0, 1): ───X───Rx(th_1)───X───Rz(th_5)───X───Rx(th_9)────X───Rz(th_13)───X───Rx(th_17)───X───Rz(th_21)───X───Rx(th_25)───X───Rz(th_29)───\n",
       "\n",
       "(0, 2): ───X───Rx(th_2)───X───Rz(th_6)───X───Rx(th_10)───X───Rz(th_14)───X───Rx(th_18)───X───Rz(th_22)───X───Rx(th_26)───X───Rz(th_30)───\n",
       "\n",
       "(0, 3): ───X───Rx(th_3)───X───Rz(th_7)───X───Rx(th_11)───X───Rz(th_15)───X───Rx(th_19)───X───Rz(th_23)───X───Rx(th_27)───X───Rz(th_31)───"
      ]
     },
     "execution_count": 219,
     "metadata": {},
     "output_type": "execute_result"
    }
   ],
   "source": [
    "indexed_circuit=[vqe_handler.number_of_cnots+k for k in range(vqe_handler.n_qubits,2*vqe_handler.n_qubits)]\n",
    "for k in range(vqe_handler.n_qubits):\n",
    "    indexed_circuit.append(k+vqe_handler.number_of_cnots)\n",
    "indexed_circuit = indexed_circuit*4\n",
    "\n",
    "circuit, symbols, idx_symbols = vqe_handler.give_circuit(indexed_circuit)\n",
    "\n",
    "tup=()\n",
    "aps=0\n",
    "for ind,k in enumerate(indexed_circuit):\n",
    "    qubs = vqe_handler.give_qubit(k)\n",
    "    for iq,q in enumerate(qubs):\n",
    "        tup+=((ind-int(len(tup)/2)-1,cirq.X.on(vqe_handler.qubits[q])),)\n",
    "for tupp in tup:\n",
    "    circuit.batch_insert(tuple([tupp]))  \n",
    "circuit"
   ]
  },
  {
   "cell_type": "code",
   "execution_count": 177,
   "metadata": {},
   "outputs": [
    {
     "data": {
      "text/plain": [
       "(0, cirq.X(cirq.GridQubit(0, 0)))"
      ]
     },
     "execution_count": 177,
     "metadata": {},
     "output_type": "execute_result"
    }
   ],
   "source": [
    "tup[0]"
   ]
  },
  {
   "cell_type": "code",
   "execution_count": 117,
   "metadata": {},
   "outputs": [
    {
     "data": {
      "text/html": [
       "<pre style=\"overflow: auto; white-space: pre;\">(0, 0): ───Rx(th_0)───X───Rz(th_4)───X───────\n",
       "\n",
       "(0, 1): ───Rx(th_1)───────Rz(th_5)───X───X───\n",
       "\n",
       "(0, 2): ───Rx(th_2)───────Rz(th_6)───X───X───\n",
       "\n",
       "(0, 3): ───Rx(th_3)───────Rz(th_7)───X───X───</pre>"
      ],
      "text/plain": [
       "(0, 0): ───Rx(th_0)───X───Rz(th_4)───X───────\n",
       "\n",
       "(0, 1): ───Rx(th_1)───────Rz(th_5)───X───X───\n",
       "\n",
       "(0, 2): ───Rx(th_2)───────Rz(th_6)───X───X───\n",
       "\n",
       "(0, 3): ───Rx(th_3)───────Rz(th_7)───X───X───"
      ]
     },
     "execution_count": 117,
     "metadata": {},
     "output_type": "execute_result"
    }
   ],
   "source": [
    "circuit.batch_insert(tup)\n",
    "circuit"
   ]
  },
  {
   "cell_type": "code",
   "execution_count": null,
   "metadata": {},
   "outputs": [],
   "source": []
  },
  {
   "cell_type": "code",
   "execution_count": 104,
   "metadata": {},
   "outputs": [
    {
     "data": {
      "text/html": [
       "<pre style=\"overflow: auto; white-space: pre;\">(0, 0): ───Rx(th_0)───Rz(th_4)───\n",
       "\n",
       "(0, 1): ───Rx(th_1)───Rz(th_5)───\n",
       "\n",
       "(0, 2): ───Rx(th_2)───Rz(th_6)───\n",
       "\n",
       "(0, 3): ───Rx(th_3)───Rz(th_7)───</pre>"
      ],
      "text/plain": [
       "(0, 0): ───Rx(th_0)───Rz(th_4)───\n",
       "\n",
       "(0, 1): ───Rx(th_1)───Rz(th_5)───\n",
       "\n",
       "(0, 2): ───Rx(th_2)───Rz(th_6)───\n",
       "\n",
       "(0, 3): ───Rx(th_3)───Rz(th_7)───"
      ]
     },
     "execution_count": 104,
     "metadata": {},
     "output_type": "execute_result"
    }
   ],
   "source": [
    "indexed_circuit=[vqe_handler.number_of_cnots+k for k in range(vqe_handler.n_qubits,2*vqe_handler.n_qubits)]\n",
    "for k in range(vqe_handler.n_qubits):\n",
    "    indexed_circuit.append(k+vqe_handler.number_of_cnots)\n",
    "circuit, symbols, idx_symbols = vqe_handler.give_circuit(indexed_circuit)\n",
    "\n",
    "circuit"
   ]
  },
  {
   "cell_type": "code",
   "execution_count": 108,
   "metadata": {},
   "outputs": [
    {
     "data": {
      "text/html": [
       "<pre style=\"overflow: auto; white-space: pre;\">(0, 0): ───X───Rx(th_0)───Rz(th_4)───\n",
       "\n",
       "(0, 1): ───────Rx(th_1)───Rz(th_5)───\n",
       "\n",
       "(0, 2): ───────Rx(th_2)───Rz(th_6)───\n",
       "\n",
       "(0, 3): ───────Rx(th_3)───Rz(th_7)───</pre>"
      ],
      "text/plain": [
       "(0, 0): ───X───Rx(th_0)───Rz(th_4)───\n",
       "\n",
       "(0, 1): ───────Rx(th_1)───Rz(th_5)───\n",
       "\n",
       "(0, 2): ───────Rx(th_2)───Rz(th_6)───\n",
       "\n",
       "(0, 3): ───────Rx(th_3)───Rz(th_7)───"
      ]
     },
     "execution_count": 108,
     "metadata": {},
     "output_type": "execute_result"
    }
   ],
   "source": [
    "tup = ((0, cirq.X.on(vqe_handler.qubits[0])),)\n",
    "circuit.batch_insert(tup)\n",
    "circuit"
   ]
  },
  {
   "cell_type": "code",
   "execution_count": 114,
   "metadata": {},
   "outputs": [
    {
     "data": {
      "text/html": [
       "<pre style=\"overflow: auto; white-space: pre;\">(0, 0): ───X───Rx(th_0)───X───Rz(th_4)───\n",
       "\n",
       "(0, 1): ───────Rx(th_1)───────Rz(th_5)───\n",
       "\n",
       "(0, 2): ───────Rx(th_2)───────Rz(th_6)───\n",
       "\n",
       "(0, 3): ───────Rx(th_3)───────Rz(th_7)───</pre>"
      ],
      "text/plain": [
       "(0, 0): ───X───Rx(th_0)───X───Rz(th_4)───\n",
       "\n",
       "(0, 1): ───────Rx(th_1)───────Rz(th_5)───\n",
       "\n",
       "(0, 2): ───────Rx(th_2)───────Rz(th_6)───\n",
       "\n",
       "(0, 3): ───────Rx(th_3)───────Rz(th_7)───"
      ]
     },
     "execution_count": 114,
     "metadata": {},
     "output_type": "execute_result"
    }
   ],
   "source": [
    "circuitt=circuit.copy()\n",
    "tup = ((2, cirq.X.on(vqe_handler.qubits[0])),)\n",
    "circuitt.batch_insert(tup)\n",
    "circuitt"
   ]
  },
  {
   "cell_type": "code",
   "execution_count": null,
   "metadata": {},
   "outputs": [],
   "source": []
  },
  {
   "cell_type": "code",
   "execution_count": null,
   "metadata": {},
   "outputs": [],
   "source": []
  },
  {
   "cell_type": "code",
   "execution_count": null,
   "metadata": {},
   "outputs": [],
   "source": []
  },
  {
   "cell_type": "code",
   "execution_count": null,
   "metadata": {},
   "outputs": [],
   "source": []
  },
  {
   "cell_type": "code",
   "execution_count": null,
   "metadata": {},
   "outputs": [],
   "source": []
  },
  {
   "cell_type": "code",
   "execution_count": null,
   "metadata": {},
   "outputs": [],
   "source": [
    "tup=()\n",
    "aps=0\n",
    "for ind,k in enumerate(indexed_circuit):\n",
    "    qubs = vqe_handler.give_qubit(k)\n",
    "    for iq,q in enumerate(qubs):\n",
    "        tup+=((ind+len(tup)-1,cirq.X.on(vqe_handler.qubits[q])),)\n",
    "circuit.batch_insert(tup)\n",
    "circuit"
   ]
  },
  {
   "cell_type": "code",
   "execution_count": null,
   "metadata": {},
   "outputs": [],
   "source": []
  },
  {
   "cell_type": "code",
   "execution_count": null,
   "metadata": {},
   "outputs": [],
   "source": []
  },
  {
   "cell_type": "code",
   "execution_count": null,
   "metadata": {},
   "outputs": [],
   "source": []
  },
  {
   "cell_type": "code",
   "execution_count": null,
   "metadata": {},
   "outputs": [],
   "source": []
  },
  {
   "cell_type": "code",
   "execution_count": null,
   "metadata": {},
   "outputs": [],
   "source": []
  },
  {
   "cell_type": "code",
   "execution_count": null,
   "metadata": {},
   "outputs": [],
   "source": []
  },
  {
   "cell_type": "code",
   "execution_count": 95,
   "metadata": {},
   "outputs": [
    {
     "data": {
      "text/html": [
       "<pre style=\"overflow: auto; white-space: pre;\">(0, 0): ───X───Rx(th_0)───────Rz(th_4)───X───────\n",
       "\n",
       "(0, 1): ───────Rx(th_1)───X───Rz(th_5)───X───────\n",
       "\n",
       "(0, 2): ───────Rx(th_2)───────Rz(th_6)───X───X───\n",
       "\n",
       "(0, 3): ───────Rx(th_3)───────Rz(th_7)───X───X───</pre>"
      ],
      "text/plain": [
       "(0, 0): ───X───Rx(th_0)───────Rz(th_4)───X───────\n",
       "\n",
       "(0, 1): ───────Rx(th_1)───X───Rz(th_5)───X───────\n",
       "\n",
       "(0, 2): ───────Rx(th_2)───────Rz(th_6)───X───X───\n",
       "\n",
       "(0, 3): ───────Rx(th_3)───────Rz(th_7)───X───X───"
      ]
     },
     "execution_count": 95,
     "metadata": {},
     "output_type": "execute_result"
    }
   ],
   "source": []
  },
  {
   "cell_type": "code",
   "execution_count": null,
   "metadata": {},
   "outputs": [],
   "source": []
  },
  {
   "cell_type": "code",
   "execution_count": null,
   "metadata": {},
   "outputs": [],
   "source": []
  },
  {
   "cell_type": "code",
   "execution_count": null,
   "metadata": {},
   "outputs": [],
   "source": []
  },
  {
   "cell_type": "code",
   "execution_count": null,
   "metadata": {},
   "outputs": [],
   "source": []
  },
  {
   "cell_type": "code",
   "execution_count": null,
   "metadata": {},
   "outputs": [],
   "source": []
  },
  {
   "cell_type": "code",
   "execution_count": null,
   "metadata": {},
   "outputs": [],
   "source": []
  },
  {
   "cell_type": "code",
   "execution_count": null,
   "metadata": {},
   "outputs": [],
   "source": []
  },
  {
   "cell_type": "code",
   "execution_count": null,
   "metadata": {},
   "outputs": [],
   "source": []
  },
  {
   "cell_type": "code",
   "execution_count": null,
   "metadata": {},
   "outputs": [],
   "source": []
  },
  {
   "cell_type": "code",
   "execution_count": null,
   "metadata": {},
   "outputs": [],
   "source": []
  },
  {
   "cell_type": "code",
   "execution_count": null,
   "metadata": {},
   "outputs": [],
   "source": []
  },
  {
   "cell_type": "code",
   "execution_count": 88,
   "metadata": {},
   "outputs": [
    {
     "data": {
      "text/plain": [
       "((0, cirq.X(cirq.GridQubit(0, 0))),\n",
       " (1, cirq.X(cirq.GridQubit(0, 1))),\n",
       " (2, cirq.X(cirq.GridQubit(0, 2))),\n",
       " (3, cirq.X(cirq.GridQubit(0, 3))),\n",
       " (4, cirq.X(cirq.GridQubit(0, 0))),\n",
       " (5, cirq.X(cirq.GridQubit(0, 1))),\n",
       " (6, cirq.X(cirq.GridQubit(0, 2))),\n",
       " (7, cirq.X(cirq.GridQubit(0, 3))))"
      ]
     },
     "execution_count": 88,
     "metadata": {},
     "output_type": "execute_result"
    }
   ],
   "source": [
    "tup"
   ]
  },
  {
   "cell_type": "code",
   "execution_count": 47,
   "metadata": {},
   "outputs": [
    {
     "data": {
      "text/html": [
       "<pre style=\"overflow: auto; white-space: pre;\">(0, 0): ───Rx(th_0)───Rz(th_4)───\n",
       "\n",
       "(0, 1): ───Rx(th_1)───Rz(th_5)───\n",
       "\n",
       "(0, 2): ───Rx(th_2)───Rz(th_6)───\n",
       "\n",
       "(0, 3): ───Rx(th_3)───Rz(th_7)───</pre>"
      ],
      "text/plain": [
       "(0, 0): ───Rx(th_0)───Rz(th_4)───\n",
       "\n",
       "(0, 1): ───Rx(th_1)───Rz(th_5)───\n",
       "\n",
       "(0, 2): ───Rx(th_2)───Rz(th_6)───\n",
       "\n",
       "(0, 3): ───Rx(th_3)───Rz(th_7)───"
      ]
     },
     "execution_count": 47,
     "metadata": {},
     "output_type": "execute_result"
    }
   ],
   "source": [
    "circuit"
   ]
  },
  {
   "cell_type": "code",
   "execution_count": 54,
   "metadata": {},
   "outputs": [],
   "source": [
    "its = (([[2, cirq.I.on(vqe_handler.qubits[0])]]))\n",
    "circuit.batch_insert(its)\n",
    "circuit"
   ]
  },
  {
   "cell_type": "code",
   "execution_count": 55,
   "metadata": {},
   "outputs": [
    {
     "data": {
      "text/html": [
       "<pre style=\"overflow: auto; white-space: pre;\">                                              ┌──┐\n",
       "(0, 0): ───Rx(th_0)───@───I───@───@───X─────────X────I───I───\n",
       "                      │       │   │   │         │\n",
       "(0, 1): ───Rx(th_1)───X───────┼───┼───@───@────@┼────────X───\n",
       "                              │   │       │    ││        │\n",
       "(0, 2): ───Rx(th_2)───────────X───┼───────X────┼@────────@───\n",
       "                                  │            │\n",
       "(0, 3): ───Rx(th_3)───────────────X────────────X─────────────\n",
       "                                              └──┘</pre>"
      ],
      "text/plain": [
       "                                              ┌──┐\n",
       "(0, 0): ───Rx(th_0)───@───I───@───@───X─────────X────I───I───\n",
       "                      │       │   │   │         │\n",
       "(0, 1): ───Rx(th_1)───X───────┼───┼───@───@────@┼────────X───\n",
       "                              │   │       │    ││        │\n",
       "(0, 2): ───Rx(th_2)───────────X───┼───────X────┼@────────@───\n",
       "                                  │            │\n",
       "(0, 3): ───Rx(th_3)───────────────X────────────X─────────────\n",
       "                                              └──┘"
      ]
     },
     "execution_count": 55,
     "metadata": {},
     "output_type": "execute_result"
    }
   ],
   "source": []
  },
  {
   "cell_type": "code",
   "execution_count": null,
   "metadata": {},
   "outputs": [],
   "source": [
    "def noisy_batch(circuit,args={\"channel\":\"depolarizing\", \"p\":0.1}):\n",
    "    if \"channel\" == \"depolarizing\":\n",
    "        pauls = [cirq.X, cirq.Y, cirq.Z]\n",
    "        #circuit_res = cirq.resolve_parameters(circuit, {s:0 for s,k in zip(symbols, range(len(symbols)))})\n",
    "        p=0.01\n",
    "        cbatch = []\n",
    "        totals=10**3\n",
    "        for k in range(totals):\n",
    "            circ = circuit.copy()\n",
    "            if k<int((1-p)*totals):\n",
    "                cbatch.append(circ)\n",
    "            elif int((1-p)*totals)<=k:\n",
    "                which = np.random.choice(range(3), 1)[0]\n",
    "                gate = pauls[which]\n",
    "                for q in vqe_handler.qubits:\n",
    "                    circ.append(gate.on(q))\n",
    "                cbatch.append(circ)"
   ]
  },
  {
   "cell_type": "code",
   "execution_count": null,
   "metadata": {},
   "outputs": [],
   "source": []
  },
  {
   "cell_type": "code",
   "execution_count": null,
   "metadata": {},
   "outputs": [],
   "source": [
    "circuit_input = tf.keras.Input(shape=(), dtype=tf.string)\n",
    "output = tfq.layers.Expectation()(circuit_input, symbol_names=symbols, operators=tfq.convert_to_tensor([vqe_handler.observable]*1000),\n",
    "        initializer=tf.keras.initializers.RandomUniform(minval=-np.pi, maxval=np.pi))\n",
    "\n",
    "model = tf.keras.Model(inputs=circuit_input, outputs=output)\n",
    "adam = tf.keras.optimizers.Adam(learning_rate=vqe_handler.lr)\n",
    "model.compile(optimizer=adam, loss='mse')\n",
    "tfqcircuit = tfq.convert_to_tensor(cbatch)\n",
    "qoutput = tf.ones((10**3, 1))*vqe_handler.lower_bound_Eg\n",
    "from datetime import datetime\n",
    "now = datetime.now()\n",
    "h=model.fit(x=tfqcircuit, y=qoutput, batch_size=10**3, epochs=100,\n",
    "          verbose=1, callbacks=[tf.keras.callbacks.EarlyStopping(monitor='loss', patience=vqe_handler.patience, mode=\"min\", min_delta=10**-3)])\n",
    "print(datetime.now()-now)"
   ]
  },
  {
   "cell_type": "code",
   "execution_count": null,
   "metadata": {},
   "outputs": [],
   "source": [
    "import matplotlib.pyplot as plt"
   ]
  },
  {
   "cell_type": "code",
   "execution_count": null,
   "metadata": {},
   "outputs": [],
   "source": [
    "plt.plot(h.history[\"loss\"])"
   ]
  },
  {
   "cell_type": "code",
   "execution_count": null,
   "metadata": {},
   "outputs": [],
   "source": []
  }
 ],
 "metadata": {
  "kernelspec": {
   "display_name": "Python 3",
   "language": "python",
   "name": "python3"
  },
  "language_info": {
   "codemirror_mode": {
    "name": "ipython",
    "version": 3
   },
   "file_extension": ".py",
   "mimetype": "text/x-python",
   "name": "python",
   "nbconvert_exporter": "python",
   "pygments_lexer": "ipython3",
   "version": "3.6.9"
  }
 },
 "nbformat": 4,
 "nbformat_minor": 4
}
