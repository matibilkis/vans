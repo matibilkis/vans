{
 "cells": [
  {
   "cell_type": "code",
   "execution_count": 2,
   "metadata": {},
   "outputs": [],
   "source": [
    "import os \n",
    "os.chdir(\"..\")\n",
    "import numpy as np\n",
    "import sympy\n",
    "import cirq\n",
    "import tensorflow_quantum as tfq\n",
    "from tqdm import tqdm\n",
    "import tensorflow as tf\n",
    "\n",
    "from utilities.variational import VQE\n",
    "from utilities.circuit_basics import Evaluator\n",
    "from utilities.idinserter import IdInserter\n",
    "from utilities.simplifier import Simplifier\n",
    "from utilities.unitary_killer import UnitaryMurder\n",
    "\n",
    "n_qubits = 4\n",
    "qlr = 0.01\n",
    "qepochs = 10**3\n",
    "verbose=0\n",
    "g=1\n",
    "J=0\n",
    "noise=0.0\n",
    "problem=\"TFIM\"\n",
    "vqe_handler = VQE(n_qubits=n_qubits, lr=qlr, epochs=qepochs, patience=100,\n",
    "                  random_perturbations=True, verbose=verbose, g=g, J = J, problem=problem)\n",
    "\n",
    "iid = IdInserter(n_qubits=n_qubits)\n",
    "Simp = Simplifier(n_qubits=n_qubits)\n",
    "killer = UnitaryMurder(vqe_handler)\n",
    "indexed_circuit=[vqe_handler.number_of_cnots+k for k in range(vqe_handler.n_qubits,2*vqe_handler.n_qubits)]\n",
    "\n",
    "\n",
    "circuit, symbols, idx_symbols = vqe_handler.give_circuit(indexed_circuit)\n"
   ]
  },
  {
   "cell_type": "code",
   "execution_count": 3,
   "metadata": {},
   "outputs": [],
   "source": [
    "pauls = [cirq.X, cirq.Y, cirq.Z]\n",
    "circuit_res = cirq.resolve_parameters(circuit, {s:0 for s,k in zip(symbols, range(len(symbols)))})\n",
    "p=0.01\n",
    "cbatch = []\n",
    "totals=10**3\n",
    "for k in range(totals):\n",
    "    circ = circuit.copy()\n",
    "    if k<int((1-p)*totals):\n",
    "        cbatch.append(circ)\n",
    "    elif int((1-p)*totals)<=k:\n",
    "        which = np.random.choice(range(3), 1)[0]\n",
    "        gate = pauls[which]\n",
    "        for q in vqe_handler.qubits:\n",
    "            circ.append(gate.on(q))\n",
    "        cbatch.append(circ)"
   ]
  },
  {
   "cell_type": "code",
   "execution_count": 4,
   "metadata": {},
   "outputs": [
    {
     "data": {
      "text/plain": [
       "1000"
      ]
     },
     "execution_count": 4,
     "metadata": {},
     "output_type": "execute_result"
    }
   ],
   "source": [
    "len(cbatch)"
   ]
  },
  {
   "cell_type": "code",
   "execution_count": 5,
   "metadata": {},
   "outputs": [
    {
     "name": "stdout",
     "output_type": "stream",
     "text": [
      "Train on 1000 samples\n",
      "Epoch 1/10\n",
      "1000/1000 [==============================] - 1s 1ms/sample - loss: 6407.6597\n",
      "Epoch 2/10\n",
      "1000/1000 [==============================] - 0s 155us/sample - loss: 6407.0381\n",
      "Epoch 3/10\n",
      "1000/1000 [==============================] - 0s 153us/sample - loss: 6406.4087\n",
      "Epoch 4/10\n",
      "1000/1000 [==============================] - 0s 159us/sample - loss: 6405.7871\n",
      "Epoch 5/10\n",
      "1000/1000 [==============================] - 0s 160us/sample - loss: 6405.1440\n",
      "Epoch 6/10\n",
      "1000/1000 [==============================] - 0s 157us/sample - loss: 6404.5137\n",
      "Epoch 7/10\n",
      "1000/1000 [==============================] - 0s 153us/sample - loss: 6403.8921\n",
      "Epoch 8/10\n",
      "1000/1000 [==============================] - 0s 157us/sample - loss: 6403.2695\n",
      "Epoch 9/10\n",
      "1000/1000 [==============================] - 0s 153us/sample - loss: 6402.6372\n",
      "Epoch 10/10\n",
      "1000/1000 [==============================] - 0s 156us/sample - loss: 6401.9946\n",
      "0:00:02.911785\n"
     ]
    }
   ],
   "source": [
    "circuit_input = tf.keras.Input(shape=(), dtype=tf.string)\n",
    "output = tfq.layers.Expectation()(circuit_input, symbol_names=symbols, operators=tfq.convert_to_tensor([vqe_handler.observable]*1000),\n",
    "        initializer=tf.keras.initializers.RandomUniform(minval=-np.pi, maxval=np.pi))\n",
    "\n",
    "model = tf.keras.Model(inputs=circuit_input, outputs=output)\n",
    "adam = tf.keras.optimizers.Adam(learning_rate=vqe_handler.lr)\n",
    "model.compile(optimizer=adam, loss='mse')\n",
    "tfqcircuit = tfq.convert_to_tensor(cbatch)\n",
    "qoutput = tf.ones((10**3, 1))*vqe_handler.lower_bound_Eg\n",
    "from datetime import datetime\n",
    "now = datetime.now()\n",
    "h=model.fit(x=tfqcircuit, y=qoutput, batch_size=10**3, epochs=10,\n",
    "          verbose=1, callbacks=[tf.keras.callbacks.EarlyStopping(monitor='loss', patience=vqe_handler.patience, mode=\"min\", min_delta=10**-3)])\n",
    "print(datetime.now()-now)"
   ]
  },
  {
   "cell_type": "code",
   "execution_count": 7,
   "metadata": {},
   "outputs": [],
   "source": [
    "import matplotlib.pyplot as plt"
   ]
  },
  {
   "cell_type": "code",
   "execution_count": 8,
   "metadata": {},
   "outputs": [
    {
     "data": {
      "text/plain": [
       "[<matplotlib.lines.Line2D at 0x7f1bd859eda0>]"
      ]
     },
     "execution_count": 8,
     "metadata": {},
     "output_type": "execute_result"
    },
    {
     "data": {
      "image/png": "[encoded data removed]",
      "text/plain": [
       "<Figure size 432x288 with 1 Axes>"
      ]
     },
     "metadata": {
      "needs_background": "light"
     },
     "output_type": "display_data"
    }
   ],
   "source": [
    "plt.plot(h.history[\"loss\"])"
   ]
  },
  {
   "cell_type": "code",
   "execution_count": 12,
   "metadata": {},
   "outputs": [
    {
     "data": {
      "text/plain": [
       "<tf.Tensor: shape=(), dtype=float32, numpy=0.0075935707>"
      ]
     },
     "execution_count": 12,
     "metadata": {},
     "output_type": "execute_result"
    }
   ],
   "source": [
    "tf.tf.math.reduce_mean(model(tfqcircuit))"
   ]
  },
  {
   "cell_type": "code",
   "execution_count": null,
   "metadata": {},
   "outputs": [],
   "source": []
  }
 ],
 "metadata": {
  "kernelspec": {
   "display_name": "Python 3",
   "language": "python",
   "name": "python3"
  },
  "language_info": {
   "codemirror_mode": {
    "name": "ipython",
    "version": 3
   },
   "file_extension": ".py",
   "mimetype": "text/x-python",
   "name": "python",
   "nbconvert_exporter": "python",
   "pygments_lexer": "ipython3",
   "version": "3.6.9"
  }
 },
 "nbformat": 4,
 "nbformat_minor": 4
}
