{
 "cells": [
  {
   "cell_type": "code",
   "execution_count": 1,
   "metadata": {},
   "outputs": [],
   "source": [
    "import numpy as np\n",
    "import sympy\n",
    "import cirq\n",
    "import tensorflow as tf\n",
    "import tensorflow_quantum as tfq\n",
    "import matplotlib.pyplot as plt\n",
    "from tqdm import tqdm\n",
    "import matplotlib.pyplot as plt\n",
    "\n",
    "\n",
    "class solver:\n",
    "    def __init__(self, n_qubits):\n",
    "\n",
    "        self.n_qubits=n_qubits\n",
    "        self.qubits = cirq.GridQubit.rect(1, n_qubits)\n",
    "\n",
    "        #observable = [-float(1/self.n_qubits)*cirq.Z.on(q)*cirq.Z.on(q) for q in qubits] \n",
    "        #for q in range(len(qubits)):\n",
    "        #    observable.append(-float(0.5)*cirq.X.on(qubits[q])*cirq.X.on(qubits[(q+1)%len(qubits)]))\n",
    "\n",
    "        #self.observable = observable\n",
    "        \n",
    "        self.indexed_cnots = {}\n",
    "        self.cnots_index = {}\n",
    "        count = 0\n",
    "        for control in range(self.n_qubits):\n",
    "            for target in range(self.n_qubits):\n",
    "                if control != target:\n",
    "                    self.indexed_cnots[str(count)] = [control, target]\n",
    "                    self.cnots_index[str([control,target])] = count\n",
    "                    count += 1\n",
    "        self.number_of_cnots = len(self.indexed_cnots)\n",
    "        self.parametrized_unitary = [cirq.rz, cirq.rx, cirq.rz]\n",
    "        \n",
    "\n",
    "    def append_to_circuit(self, ind, circuit, params, new_index=False):\n",
    "        if ind < self.number_of_cnots:\n",
    "            control, target = self.indexed_cnots[str(ind)]\n",
    "            circuit.append(cirq.CNOT.on(self.qubits[control], self.qubits[target]))\n",
    "            return circuit, params\n",
    "        else:\n",
    "            qubit = self.qubits[(ind-self.number_of_cnots)%self.n_qubits]\n",
    "            for par, gate in zip(range(3),self.parametrized_unitary):\n",
    "                new_param = \"th_\"+str(len(params))\n",
    "                params.append(new_param)\n",
    "                circuit.append(gate(sympy.Symbol(new_param)).on(qubit))\n",
    "            return circuit, params\n",
    "\n",
    "    def give_circuit(self, lista, one_hot=False):\n",
    "        circuit, symbols = [], []\n",
    "        for k in lista:\n",
    "            circuit, symbols = self.append_to_circuit(k,circuit,symbols)\n",
    "        circuit = cirq.Circuit(circuit)\n",
    "        return circuit, symbols\n",
    "    \n",
    "\n",
    "    def cirq_friendly_observable(self, obs):\n",
    "        PAULI_BASIS = {\n",
    "            'I': np.eye(2),\n",
    "            'X': np.array([[0., 1.], [1., 0.]]),\n",
    "            'Y': np.array([[0., -1j], [1j, 0.]]),\n",
    "            'Z': np.diag([1., -1]),\n",
    "        }\n",
    "\n",
    "        pauli3 = cirq.linalg.operator_spaces.kron_bases(PAULI_BASIS, repeat=self.n_qubits)\n",
    "        decomp = cirq.linalg.operator_spaces.expand_matrix_in_orthogonal_basis(obs, pauli3)\n",
    "\n",
    "        PAULI_BASIS_CIRQ = {\n",
    "            'I': cirq.X,\n",
    "            'X': cirq.X,\n",
    "            'Y': cirq.Y,\n",
    "            'Z': cirq.Z,\n",
    "        }\n",
    "\n",
    "        unt = []\n",
    "        for term in decomp.items():\n",
    "            gate_name = term[0]\n",
    "            coeff = term[1]\n",
    "            s = 0\n",
    "            ot = float(coeff)\n",
    "            for qpos, single_gate in enumerate(gate_name):\n",
    "                if single_gate == \"I\":\n",
    "                    ot *= PAULI_BASIS_CIRQ[single_gate](self.qubits[qpos])*PAULI_BASIS_CIRQ[single_gate](self.qubits[qpos])\n",
    "                else:\n",
    "                    ot *= PAULI_BASIS_CIRQ[single_gate](self.qubits[qpos])\n",
    "            if s < 3:\n",
    "                unt.append(ot)\n",
    "        return unt\n"
   ]
  },
  {
   "cell_type": "code",
   "execution_count": 5,
   "metadata": {},
   "outputs": [
    {
     "data": {
      "text/html": [
       "<pre style=\"overflow: auto; white-space: pre;\">(0, 0): ───Rz(th_0)───Rx(th_1)───Rz(th_2)───@───Rz(th_6)───Rx(th_7)────Rz(th_8)────@───Rz(th_12)───Rx(th_13)───Rz(th_14)───@───Rz(th_18)───Rx(th_19)───Rz(th_20)───\n",
       "                                            │                                      │                                       │\n",
       "(0, 1): ───Rz(th_3)───Rx(th_4)───Rz(th_5)───X───Rz(th_9)───Rx(th_10)───Rz(th_11)───X───Rz(th_15)───Rx(th_16)───Rz(th_17)───X───Rz(th_21)───Rx(th_22)───Rz(th_23)───</pre>"
      ],
      "text/plain": [
       "(0, 0): ───Rz(th_0)───Rx(th_1)───Rz(th_2)───@───Rz(th_6)───Rx(th_7)────Rz(th_8)────@───Rz(th_12)───Rx(th_13)───Rz(th_14)───@───Rz(th_18)───Rx(th_19)───Rz(th_20)───\n",
       "                                            │                                      │                                       │\n",
       "(0, 1): ───Rz(th_3)───Rx(th_4)───Rz(th_5)───X───Rz(th_9)───Rx(th_10)───Rz(th_11)───X───Rz(th_15)───Rx(th_16)───Rz(th_17)───X───Rz(th_21)───Rx(th_22)───Rz(th_23)───"
      ]
     },
     "execution_count": 5,
     "metadata": {},
     "output_type": "execute_result"
    }
   ],
   "source": [
    "sol=solver(2)\n",
    "circuit,symbols =sol.give_circuit([sol.number_of_cnots,sol.number_of_cnots+1,0,sol.number_of_cnots,sol.number_of_cnots+1,0,sol.number_of_cnots,sol.number_of_cnots+1,0,sol.number_of_cnots,sol.number_of_cnots+1])\n",
    "circuit"
   ]
  },
  {
   "cell_type": "code",
   "execution_count": 6,
   "metadata": {},
   "outputs": [
    {
     "data": {
      "text/plain": [
       "<tf.Tensor: shape=(4, 2), dtype=float32, numpy=\n",
       "array([[-0.23296219,  0.44150847],\n",
       "       [-0.14875033, -0.08669233],\n",
       "       [ 0.5804954 , -0.21613944],\n",
       "       [-0.1987832 , -0.13867661]], dtype=float32)>"
      ]
     },
     "execution_count": 6,
     "metadata": {},
     "output_type": "execute_result"
    }
   ],
   "source": [
    "tfqcircuit = tfq.convert_to_tensor([circuit])\n",
    "\n",
    "circuit_input = tf.keras.Input(shape=(), dtype=tf.string)\n",
    "\n",
    "outps = tfq.layers.PQC(circuit,[cirq.Z(sol.qubits[0]),cirq.Z(sol.qubits[1])])\n",
    "\n",
    "\n",
    "\n",
    "angles=[[0.,0.], [-np.pi,0.],[0.,-np.pi], [-np.pi,-np.pi]]\n",
    "qdataset = [cirq.Circuit([cirq.ry(ang1)(sol.qubits[0]), cirq.ry(ang2)(sol.qubits[1])]) for ang1, ang2 in angles]\n",
    "labs = [[1.,1.], [-1.,1.],[1.,-1.],[-1.,-1.]]\n",
    "\n",
    "outps(tfq.convert_to_tensor(qdataset))"
   ]
  },
  {
   "cell_type": "code",
   "execution_count": 7,
   "metadata": {},
   "outputs": [
    {
     "data": {
      "text/plain": [
       "[measurements: (no measurements)\n",
       "output vector: |00⟩,\n",
       " measurements: (no measurements)\n",
       "output vector: -1|10⟩,\n",
       " measurements: (no measurements)\n",
       "output vector: -1|01⟩,\n",
       " measurements: (no measurements)\n",
       "output vector: |11⟩]"
      ]
     },
     "execution_count": 7,
     "metadata": {},
     "output_type": "execute_result"
    }
   ],
   "source": [
    "sim = cirq.Simulator()\n",
    "[sim.simulate(c) for c in qdataset]\n",
    "#[sim.simulate(cirq.resolve_parameters(circuit,res)) for k in range(4)]"
   ]
  },
  {
   "cell_type": "code",
   "execution_count": 8,
   "metadata": {},
   "outputs": [
    {
     "data": {
      "text/plain": [
       "<tf.Tensor: shape=(1, 2), dtype=float32, numpy=array([[-0.23296219,  0.44150847]], dtype=float32)>"
      ]
     },
     "execution_count": 8,
     "metadata": {},
     "output_type": "execute_result"
    }
   ],
   "source": [
    "outps(tfq.convert_to_tensor([cirq.Circuit([])]))"
   ]
  },
  {
   "cell_type": "code",
   "execution_count": 9,
   "metadata": {},
   "outputs": [],
   "source": [
    "model = tf.keras.Sequential([\n",
    "    tf.keras.layers.Input(shape=(), dtype=tf.string),\n",
    "    outps,\n",
    "])\n",
    "\n",
    "model.compile(\n",
    "    loss=tf.keras.losses.MeanSquaredError(),\n",
    "    optimizer=tf.keras.optimizers.Adam(lr=0.01))\n"
   ]
  },
  {
   "cell_type": "code",
   "execution_count": 10,
   "metadata": {},
   "outputs": [
    {
     "data": {
      "text/plain": [
       "array([[-0.23296219,  0.44150847],\n",
       "       [-0.14875033, -0.08669233],\n",
       "       [ 0.5804954 , -0.21613944],\n",
       "       [-0.1987832 , -0.13867661]], dtype=float32)"
      ]
     },
     "execution_count": 10,
     "metadata": {},
     "output_type": "execute_result"
    }
   ],
   "source": [
    "model.predict(tfq.convert_to_tensor(qdataset))"
   ]
  },
  {
   "cell_type": "code",
   "execution_count": 11,
   "metadata": {},
   "outputs": [
    {
     "name": "stdout",
     "output_type": "stream",
     "text": [
      "Train on 4 samples\n",
      "Epoch 1/100\n",
      "4/4 [==============================] - 2s 393ms/sample - loss: 0.7040\n",
      "Epoch 2/100\n",
      "4/4 [==============================] - 0s 15ms/sample - loss: 0.5839\n",
      "Epoch 3/100\n",
      "4/4 [==============================] - 0s 13ms/sample - loss: 0.4851\n",
      "Epoch 4/100\n",
      "4/4 [==============================] - 0s 13ms/sample - loss: 0.3889\n",
      "Epoch 5/100\n",
      "4/4 [==============================] - 0s 13ms/sample - loss: 0.2924\n",
      "Epoch 6/100\n",
      "4/4 [==============================] - 0s 13ms/sample - loss: 0.2232\n",
      "Epoch 7/100\n",
      "4/4 [==============================] - 0s 13ms/sample - loss: 0.1675\n",
      "Epoch 8/100\n",
      "4/4 [==============================] - 0s 14ms/sample - loss: 0.1250\n",
      "Epoch 9/100\n",
      "4/4 [==============================] - 0s 14ms/sample - loss: 0.0932\n",
      "Epoch 10/100\n",
      "4/4 [==============================] - 0s 13ms/sample - loss: 0.0669\n",
      "Epoch 11/100\n",
      "4/4 [==============================] - 0s 13ms/sample - loss: 0.0507\n",
      "Epoch 12/100\n",
      "4/4 [==============================] - 0s 12ms/sample - loss: 0.0380\n",
      "Epoch 13/100\n",
      "4/4 [==============================] - 0s 12ms/sample - loss: 0.0299\n",
      "Epoch 14/100\n",
      "4/4 [==============================] - 0s 12ms/sample - loss: 0.0221\n",
      "Epoch 15/100\n",
      "4/4 [==============================] - 0s 16ms/sample - loss: 0.0178\n",
      "Epoch 16/100\n",
      "4/4 [==============================] - 0s 14ms/sample - loss: 0.0138\n",
      "Epoch 17/100\n",
      "4/4 [==============================] - 0s 14ms/sample - loss: 0.0109\n",
      "Epoch 18/100\n",
      "4/4 [==============================] - 0s 13ms/sample - loss: 0.0090\n",
      "Epoch 19/100\n",
      "4/4 [==============================] - 0s 14ms/sample - loss: 0.0075\n",
      "Epoch 20/100\n",
      "4/4 [==============================] - 0s 15ms/sample - loss: 0.0062\n",
      "Epoch 21/100\n",
      "4/4 [==============================] - 0s 13ms/sample - loss: 0.0053\n",
      "Epoch 22/100\n",
      "4/4 [==============================] - 0s 16ms/sample - loss: 0.0046\n",
      "Epoch 23/100\n",
      "4/4 [==============================] - 0s 13ms/sample - loss: 0.0040\n",
      "Epoch 24/100\n",
      "4/4 [==============================] - 0s 14ms/sample - loss: 0.0035\n",
      "Epoch 25/100\n",
      "4/4 [==============================] - 0s 15ms/sample - loss: 0.0031\n",
      "Epoch 26/100\n",
      "4/4 [==============================] - 0s 14ms/sample - loss: 0.0027\n",
      "Epoch 27/100\n",
      "4/4 [==============================] - 0s 12ms/sample - loss: 0.0025\n",
      "Epoch 28/100\n",
      "4/4 [==============================] - 0s 15ms/sample - loss: 0.0022\n",
      "Epoch 29/100\n",
      "4/4 [==============================] - 0s 13ms/sample - loss: 0.0020\n",
      "Epoch 30/100\n",
      "4/4 [==============================] - 0s 13ms/sample - loss: 0.0018\n",
      "Epoch 31/100\n",
      "4/4 [==============================] - 0s 12ms/sample - loss: 0.0016\n",
      "Epoch 32/100\n",
      "4/4 [==============================] - 0s 14ms/sample - loss: 0.0015\n",
      "Epoch 33/100\n",
      "4/4 [==============================] - 0s 17ms/sample - loss: 0.0014\n",
      "Epoch 34/100\n",
      "4/4 [==============================] - 0s 16ms/sample - loss: 0.0013\n",
      "Epoch 35/100\n",
      "4/4 [==============================] - 0s 15ms/sample - loss: 0.0012\n",
      "Epoch 36/100\n",
      "4/4 [==============================] - 0s 16ms/sample - loss: 0.0011\n",
      "Epoch 37/100\n",
      "4/4 [==============================] - 0s 15ms/sample - loss: 0.0010\n",
      "Epoch 38/100\n",
      "4/4 [==============================] - 0s 12ms/sample - loss: 9.3956e-04\n",
      "Epoch 39/100\n",
      "4/4 [==============================] - 0s 12ms/sample - loss: 8.7627e-04\n",
      "Epoch 40/100\n",
      "4/4 [==============================] - 0s 13ms/sample - loss: 8.1307e-04\n",
      "Epoch 41/100\n",
      "4/4 [==============================] - 0s 15ms/sample - loss: 7.6192e-04\n",
      "Epoch 42/100\n",
      "4/4 [==============================] - 0s 13ms/sample - loss: 7.0912e-04\n",
      "Epoch 43/100\n",
      "4/4 [==============================] - 0s 13ms/sample - loss: 6.6661e-04\n",
      "Epoch 44/100\n",
      "4/4 [==============================] - 0s 12ms/sample - loss: 6.2443e-04\n",
      "Epoch 45/100\n",
      "4/4 [==============================] - 0s 13ms/sample - loss: 5.8507e-04\n",
      "Epoch 46/100\n",
      "4/4 [==============================] - 0s 12ms/sample - loss: 5.5269e-04\n",
      "Epoch 47/100\n",
      "4/4 [==============================] - 0s 15ms/sample - loss: 5.2076e-04\n",
      "Epoch 48/100\n",
      "4/4 [==============================] - 0s 12ms/sample - loss: 4.9345e-04\n",
      "Epoch 49/100\n",
      "4/4 [==============================] - 0s 15ms/sample - loss: 4.6505e-04\n",
      "Epoch 50/100\n",
      "4/4 [==============================] - 0s 13ms/sample - loss: 4.4092e-04\n",
      "Epoch 51/100\n",
      "4/4 [==============================] - 0s 15ms/sample - loss: 4.1662e-04\n",
      "Epoch 52/100\n",
      "4/4 [==============================] - 0s 14ms/sample - loss: 3.9670e-04\n",
      "Epoch 53/100\n",
      "4/4 [==============================] - 0s 14ms/sample - loss: 3.7706e-04\n",
      "Epoch 54/100\n",
      "4/4 [==============================] - 0s 14ms/sample - loss: 3.5762e-04\n",
      "Epoch 55/100\n",
      "4/4 [==============================] - 0s 15ms/sample - loss: 3.3849e-04\n",
      "Epoch 56/100\n",
      "4/4 [==============================] - 0s 14ms/sample - loss: 3.2179e-04\n",
      "Epoch 57/100\n",
      "4/4 [==============================] - 0s 14ms/sample - loss: 3.0781e-04\n",
      "Epoch 58/100\n",
      "4/4 [==============================] - 0s 15ms/sample - loss: 2.9253e-04\n",
      "Epoch 59/100\n",
      "4/4 [==============================] - 0s 15ms/sample - loss: 2.7946e-04\n",
      "Epoch 60/100\n",
      "4/4 [==============================] - 0s 14ms/sample - loss: 2.6794e-04\n",
      "Epoch 61/100\n",
      "4/4 [==============================] - 0s 15ms/sample - loss: 2.5682e-04\n",
      "Epoch 62/100\n",
      "4/4 [==============================] - 0s 18ms/sample - loss: 2.4396e-04\n",
      "Epoch 63/100\n",
      "4/4 [==============================] - 0s 17ms/sample - loss: 2.3389e-04\n",
      "Epoch 64/100\n",
      "4/4 [==============================] - 0s 15ms/sample - loss: 2.2375e-04\n",
      "Epoch 65/100\n",
      "4/4 [==============================] - 0s 16ms/sample - loss: 2.1499e-04\n",
      "Epoch 66/100\n",
      "4/4 [==============================] - 0s 16ms/sample - loss: 2.0642e-04\n",
      "Epoch 67/100\n",
      "4/4 [==============================] - 0s 13ms/sample - loss: 1.9804e-04\n",
      "Epoch 68/100\n",
      "4/4 [==============================] - 0s 16ms/sample - loss: 1.8920e-04\n",
      "Epoch 69/100\n",
      "4/4 [==============================] - 0s 15ms/sample - loss: 1.8257e-04\n",
      "Epoch 70/100\n",
      "4/4 [==============================] - 0s 14ms/sample - loss: 1.7538e-04\n",
      "Epoch 71/100\n",
      "4/4 [==============================] - 0s 13ms/sample - loss: 1.6811e-04\n",
      "Epoch 72/100\n",
      "4/4 [==============================] - 0s 14ms/sample - loss: 1.6224e-04\n",
      "Epoch 73/100\n",
      "4/4 [==============================] - 0s 13ms/sample - loss: 1.5583e-04\n",
      "Epoch 74/100\n",
      "4/4 [==============================] - 0s 14ms/sample - loss: 1.5094e-04\n",
      "Epoch 75/100\n",
      "4/4 [==============================] - 0s 12ms/sample - loss: 1.4451e-04\n",
      "Epoch 76/100\n",
      "4/4 [==============================] - 0s 10ms/sample - loss: 1.3966e-04\n",
      "Epoch 77/100\n",
      "4/4 [==============================] - 0s 15ms/sample - loss: 1.3493e-04\n",
      "Epoch 78/100\n",
      "4/4 [==============================] - 0s 13ms/sample - loss: 1.3006e-04\n",
      "Epoch 79/100\n",
      "4/4 [==============================] - 0s 13ms/sample - loss: 1.2587e-04\n",
      "Epoch 80/100\n",
      "4/4 [==============================] - 0s 16ms/sample - loss: 1.2146e-04\n",
      "Epoch 81/100\n",
      "4/4 [==============================] - 0s 21ms/sample - loss: 1.1786e-04\n",
      "Epoch 82/100\n",
      "4/4 [==============================] - 0s 18ms/sample - loss: 1.1355e-04\n",
      "Epoch 83/100\n",
      "4/4 [==============================] - 0s 13ms/sample - loss: 1.0989e-04\n",
      "Epoch 84/100\n",
      "4/4 [==============================] - 0s 15ms/sample - loss: 1.0615e-04\n",
      "Epoch 85/100\n",
      "4/4 [==============================] - 0s 12ms/sample - loss: 1.0273e-04\n",
      "Epoch 86/100\n",
      "4/4 [==============================] - 0s 13ms/sample - loss: 9.9784e-05\n",
      "Epoch 87/100\n",
      "4/4 [==============================] - 0s 14ms/sample - loss: 9.6671e-05\n",
      "Epoch 88/100\n",
      "4/4 [==============================] - 0s 15ms/sample - loss: 9.3523e-05\n",
      "Epoch 89/100\n",
      "4/4 [==============================] - 0s 13ms/sample - loss: 9.0764e-05\n",
      "Epoch 90/100\n",
      "4/4 [==============================] - 0s 14ms/sample - loss: 8.8240e-05\n",
      "Epoch 91/100\n",
      "4/4 [==============================] - 0s 13ms/sample - loss: 8.5375e-05\n",
      "Epoch 92/100\n",
      "4/4 [==============================] - 0s 14ms/sample - loss: 8.3201e-05\n",
      "Epoch 93/100\n",
      "4/4 [==============================] - 0s 17ms/sample - loss: 8.0659e-05\n",
      "Epoch 94/100\n",
      "4/4 [==============================] - 0s 15ms/sample - loss: 7.8222e-05\n",
      "Epoch 95/100\n",
      "4/4 [==============================] - 0s 12ms/sample - loss: 7.5918e-05\n",
      "Epoch 96/100\n",
      "4/4 [==============================] - 0s 15ms/sample - loss: 7.3680e-05\n",
      "Epoch 97/100\n"
     ]
    },
    {
     "name": "stdout",
     "output_type": "stream",
     "text": [
      "4/4 [==============================] - 0s 13ms/sample - loss: 7.1762e-05\n",
      "Epoch 98/100\n",
      "4/4 [==============================] - 0s 12ms/sample - loss: 6.9752e-05\n",
      "Epoch 99/100\n",
      "4/4 [==============================] - 0s 12ms/sample - loss: 6.7926e-05\n",
      "Epoch 100/100\n",
      "4/4 [==============================] - 0s 13ms/sample - loss: 6.6086e-05\n"
     ]
    }
   ],
   "source": [
    "history = model.fit(tfq.convert_to_tensor(qdataset), tf.convert_to_tensor(labs),batch_size=1, epochs=100)"
   ]
  },
  {
   "cell_type": "code",
   "execution_count": 12,
   "metadata": {},
   "outputs": [
    {
     "data": {
      "text/plain": [
       "[<matplotlib.lines.Line2D at 0x7fc874556b38>]"
      ]
     },
     "execution_count": 12,
     "metadata": {},
     "output_type": "execute_result"
    },
    {
     "data": {
      "image/png": "[encoded data removed]",
      "text/plain": [
       "<Figure size 432x288 with 1 Axes>"
      ]
     },
     "metadata": {
      "needs_background": "light"
     },
     "output_type": "display_data"
    }
   ],
   "source": [
    "plt.plot(history.history[\"loss\"])"
   ]
  },
  {
   "cell_type": "code",
   "execution_count": 13,
   "metadata": {},
   "outputs": [
    {
     "data": {
      "text/plain": [
       "[<tf.Variable 'parameters:0' shape=(24,) dtype=float32, numpy=\n",
       " array([6.4348006 , 2.3985968 , 1.9570186 , 4.1542325 , 2.161478  ,\n",
       "        2.6489956 , 4.770464  , 4.9081707 , 5.252306  , 2.288011  ,\n",
       "        3.240815  , 0.559709  , 5.2282295 , 1.6871475 , 4.8015795 ,\n",
       "        4.905895  , 2.7631102 , 2.673824  , 4.735284  , 2.9007018 ,\n",
       "        2.66785   , 0.08614937, 2.5553336 , 0.72618437], dtype=float32)>]"
      ]
     },
     "execution_count": 13,
     "metadata": {},
     "output_type": "execute_result"
    }
   ],
   "source": [
    "model.trainable_variables"
   ]
  },
  {
   "cell_type": "code",
   "execution_count": 14,
   "metadata": {},
   "outputs": [],
   "source": [
    "res={sy:j for sy,j in zip(symbols,model.trainable_variables[0].numpy())}"
   ]
  },
  {
   "cell_type": "code",
   "execution_count": 22,
   "metadata": {},
   "outputs": [
    {
     "data": {
      "text/plain": [
       "array([[-0.4548+0.0352j,  0.0334-0.7364j,  0.1266-0.1977j,\n",
       "        -0.3811-0.2196j],\n",
       "       [ 0.0947+0.0378j,  0.2909-0.3284j, -0.1762+0.6839j,\n",
       "        -0.1632+0.5213j],\n",
       "       [-0.5925-0.3275j, -0.0376-0.0201j, -0.4259-0.1663j,\n",
       "         0.4522+0.3555j],\n",
       "       [ 0.3862-0.4173j, -0.3794-0.3441j, -0.45  +0.186j ,\n",
       "         0.119 -0.4039j]])"
      ]
     },
     "execution_count": 22,
     "metadata": {},
     "output_type": "execute_result"
    }
   ],
   "source": [
    "np.round(cirq.unitary(cirq.resolve_parameters(circuit,res)),4)"
   ]
  },
  {
   "cell_type": "code",
   "execution_count": 23,
   "metadata": {},
   "outputs": [
    {
     "data": {
      "text/plain": [
       "array([[ 0.996352  ,  0.99193054],\n",
       "       [-0.9975326 ,  0.98893815],\n",
       "       [ 0.9927864 , -0.99230236],\n",
       "       [-0.9916049 , -0.98856604]], dtype=float32)"
      ]
     },
     "execution_count": 23,
     "metadata": {},
     "output_type": "execute_result"
    }
   ],
   "source": [
    "model.predict(tfq.convert_to_tensor(qdataset))"
   ]
  },
  {
   "cell_type": "code",
   "execution_count": 24,
   "metadata": {},
   "outputs": [
    {
     "data": {
      "text/plain": [
       "array([-0.4548+0.0352j,  0.0947+0.0378j, -0.5925-0.3275j,  0.3862-0.4173j])"
      ]
     },
     "execution_count": 24,
     "metadata": {},
     "output_type": "execute_result"
    }
   ],
   "source": [
    "np.dot(np.round(cirq.unitary(cirq.resolve_parameters(circuit,res)),4),np.array([1,0,0,0]))"
   ]
  },
  {
   "cell_type": "code",
   "execution_count": null,
   "metadata": {},
   "outputs": [],
   "source": []
  }
 ],
 "metadata": {
  "kernelspec": {
   "display_name": "Python 3",
   "language": "python",
   "name": "python3"
  },
  "language_info": {
   "codemirror_mode": {
    "name": "ipython",
    "version": 3
   },
   "file_extension": ".py",
   "mimetype": "text/x-python",
   "name": "python",
   "nbconvert_exporter": "python",
   "pygments_lexer": "ipython3",
   "version": "3.6.9"
  }
 },
 "nbformat": 4,
 "nbformat_minor": 4
}
