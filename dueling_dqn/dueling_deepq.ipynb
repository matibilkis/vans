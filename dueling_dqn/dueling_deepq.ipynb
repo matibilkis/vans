{
 "cells": [
  {
   "cell_type": "code",
   "execution_count": 299,
   "metadata": {},
   "outputs": [],
   "source": [
    "import tensorflow as tf\n",
    "from tensorflow.keras.initializers import VarianceScaling\n",
    "from tensorflow.keras.layers import (Add, Conv2D, Dense, Flatten, Input,\n",
    "                                     Lambda, Subtract)\n",
    "from tensorflow.keras.models import Model\n",
    "from tensorflow.keras.optimizers import Adam, RMSprop\n",
    "import numpy as np\n",
    "\n",
    "from vans_gym.envs import VansEnv\n",
    "from vans_gym.solvers import CirqSolver, VAnsatz\n",
    "from tqdm import tqdm\n",
    "import os\n",
    "import random\n",
    "import matplotlib.pyplot as plt"
   ]
  },
  {
   "cell_type": "code",
   "execution_count": 300,
   "metadata": {},
   "outputs": [],
   "source": [
    "def build_q_network(solver, learning_rate=0.01):\n",
    "    n_actions = len(solver.alphabet)\n",
    "    model_input = Input(shape=(solver.n_qubits))\n",
    "    x = Lambda(lambda layer: layer / n_actions)(model_input)\n",
    "    \n",
    "    x = Dense(64, kernel_initializer=VarianceScaling(scale=2.), activation='relu', use_bias=False)(model_input)\n",
    "    x = Dense(1024, kernel_initializer=VarianceScaling(scale=2.), activation='relu', use_bias=False)(x)\n",
    "\n",
    "    # Split into value and advantage streams\n",
    "    val_stream, adv_stream = Lambda(lambda w: tf.split(w, 2, 1))(x)  # custom splitting layer\n",
    "\n",
    "    val_stream = Flatten()(val_stream)\n",
    "    val = Dense(1, kernel_initializer=VarianceScaling(scale=2.))(val_stream)\n",
    "\n",
    "    adv_stream = Flatten()(adv_stream)\n",
    "    adv = Dense(n_actions, kernel_initializer=VarianceScaling(scale=2.))(adv_stream)\n",
    "\n",
    "    ###https://arxiv.org/pdf/1511.06581.pdf###\n",
    "    # Combine streams into Q-Values On the one hand this loses the \n",
    "    #original semantics ofVandAbecause  they  are  now  off-target  \n",
    "    #by  a  constant,  but  onthe other hand it increases the stability \n",
    "    #of the optimization:with (9) the advantages only need to change \n",
    "    #as fast as themean, instead of having to compensate any change to the\n",
    "    #optimal action’s advantage in (8).  \n",
    "    \n",
    "    reduce_mean = Lambda(lambda w: tf.reduce_mean(w, axis=1, keepdims=True))  # custom layer for reduce mean\n",
    "    q_vals = Add()([val, Subtract()([adv, reduce_mean(adv)])])\n",
    "\n",
    "    # Build model\n",
    "    model = Model(model_input, q_vals)\n",
    "    model.compile(Adam(learning_rate), loss=tf.keras.losses.Huber())\n",
    "\n",
    "    return model\n"
   ]
  },
  {
   "cell_type": "code",
   "execution_count": 301,
   "metadata": {},
   "outputs": [
    {
     "name": "stderr",
     "output_type": "stream",
     "text": [
      "/home/cooper-cooper/.local/lib/python3.6/site-packages/gym/logger.py:30: UserWarning: \u001b[33mWARN: Box bound precision lowered by casting to float32\u001b[0m\n",
      "  warnings.warn(colorize('%s: %s'%('WARN', msg % args), 'yellow'))\n"
     ]
    }
   ],
   "source": [
    "observable_name=\"Ising_High_TFields_HX\"\n",
    "solver = CirqSolver(n_qubits = 3 ,observable_name=observable_name)\n",
    "env = VansEnv(solver,maximum_number_of_gates=solver.n_qubits, state_as_sequence=True, printing=False)\n",
    "env.reset()\n",
    "solver.state_length = env.maximum_number_of_gates\n",
    "prim_qnet = build_q_network(solver, learning_rate=0.01)\n",
    "target_qnet = build_q_network(solver, learning_rate=0.01)"
   ]
  },
  {
   "cell_type": "code",
   "execution_count": 307,
   "metadata": {},
   "outputs": [],
   "source": []
  },
  {
   "cell_type": "code",
   "execution_count": 343,
   "metadata": {},
   "outputs": [],
   "source": [
    "class ReplayBuffer:\n",
    "    def __init__(self, solver, size=10**2, use_per=True):\n",
    "        self.size = size\n",
    "        self.count = 0  # total index of memory written to, always less than self.size\n",
    "        self.current = 0  # index to write to\n",
    "        self.state_shape = solver.state_length\n",
    "\n",
    "        # Pre-allocate memory\n",
    "        self.actions = np.empty(self.size, dtype=np.int32)\n",
    "        self.rewards = np.empty(self.size, dtype=np.float32)\n",
    "        self.states = np.empty((self.size, 2, self.state_shape ), dtype=np.float32)\n",
    "        self.terminal_flags = np.empty(self.size, dtype=np.bool)\n",
    "        self.priorities = np.zeros(self.size, dtype=np.float32)\n",
    "        self.use_per = use_per\n",
    "        \n",
    "    def add_experience(self, action, states, reward, terminal):\n",
    "\n",
    "        self.actions[self.current] = action\n",
    "        self.states[self.current] = states\n",
    "        self.rewards[self.current] = reward\n",
    "        self.terminal_flags[self.current] = terminal\n",
    "        self.priorities[self.current] = max(self.priorities.max(), 1)  # make the most recent experience important\n",
    "        self.count = max(self.count, self.current+1) #\n",
    "        self.current = (self.current + 1) % self.size #\n",
    "        \n",
    "    def get_minibatch(self, batch_size=32, priority_scale=0.7):\n",
    "        \"\"\"Returns a minibatch of self.batch_size = 32 transitions\n",
    "        Arguments:\n",
    "            batch_size: How many samples to return\n",
    "            priority_scale: How much to weight priorities. 0 = completely random, 1 = completely based on priority\n",
    "        Returns:\n",
    "            A tuple of states, actions, rewards, new_states, and terminals\n",
    "            If use_per is True:\n",
    "                An array describing the importance of transition. Used for scaling gradient steps.\n",
    "                An array of each index that was sampled\n",
    "        \"\"\"\n",
    "\n",
    "        # Get sampling probabilities from priority list\n",
    "        if self.use_per:\n",
    "            scaled_priorities = self.priorities[:self.count] ** priority_scale\n",
    "            sample_probabilities = scaled_priorities / sum(scaled_priorities)\n",
    "\n",
    "        # Get a list of valid indices\n",
    "        indices = []\n",
    "        for i in range(batch_size):\n",
    "            # Get a random number from history_length to maximum frame written with probabilities based on priority weights\n",
    "            if self.use_per:\n",
    "                index = np.random.choice(np.arange(self.count), p=sample_probabilities)\n",
    "            else:\n",
    "                index = random.randint(0,self.count - 1)\n",
    "            indices.append(index)\n",
    "\n",
    "        # Retrieve states from memory\n",
    "        states = []\n",
    "        new_states = []\n",
    "        for idx in indices:\n",
    "            states.append(self.states[idx][0])\n",
    "            new_states.append(self.states[idx][1])\n",
    "\n",
    "        if self.use_per:\n",
    "            # Get importance weights from probabilities calculated earlier\n",
    "            importance = 1/self.count * 1/sample_probabilities[[index for index in indices]]\n",
    "            importance = importance / importance.max()\n",
    "            return (states, self.actions[indices], self.rewards[indices], new_states, self.terminal_flags[indices]), importance, indices\n",
    "        else:\n",
    "            return states, self.actions[indices], self.rewards[indices], new_states, self.terminal_flags[indices]\n",
    "\n",
    "    def set_priorities(self, indices, errors, offset=0.1):\n",
    "        \"\"\"Update priorities for PER\n",
    "        Arguments:\n",
    "            indices: Indices to update\n",
    "            errors: For each index, the error between the target Q-vals and the predicted Q-vals\n",
    "        \"\"\"\n",
    "        for i, e in zip(indices, errors):\n",
    "            self.priorities[i] = abs(e) + offset\n",
    "\n",
    "    def save(self, folder_name):\n",
    "        \"\"\"Save the replay buffer to a folder\"\"\"\n",
    "\n",
    "        if not os.path.isdir(folder_name):\n",
    "            os.mkdir(folder_name)\n",
    "\n",
    "        np.save(folder_name + '/actions.npy', self.actions)\n",
    "        np.save(folder_name + '/frames.npy', self.states)\n",
    "        np.save(folder_name + '/rewards.npy', self.rewards)\n",
    "        np.save(folder_name + '/terminal_flags.npy', self.terminal_flags)\n",
    "        np.save(folder_name+\"/priorities.npy\", self.priorities)\n",
    "\n",
    "    def load(self, folder_name):\n",
    "        \"\"\"Loads the replay buffer from a folder\"\"\"\n",
    "        self.actions = np.load(folder_name + '/actions.npy')\n",
    "        self.states = np.load(folder_name + '/frames.npy')\n",
    "        self.rewards = np.load(folder_name + '/rewards.npy')\n",
    "        self.terminal_flags = np.load(folder_name + '/terminal_flags.npy')\n",
    "        self.count = len(self.rewards)\n",
    "        self.current = len(self.rewards)\n",
    "        self.priorities = np.load(folder_name+\"/priorities.npy\")\n",
    "rp = ReplayBuffer(solver, use_per=True)\n",
    "rp.load(\"buffer_test\")"
   ]
  },
  {
   "cell_type": "code",
   "execution_count": 344,
   "metadata": {},
   "outputs": [],
   "source": [
    "def update_target_parameters(target_net,primary_net, tau=0.01):\n",
    "    prim_weights = primary_net.get_weights()\n",
    "    targ_weights = target_net.get_weights()\n",
    "    weights = []\n",
    "    for i in tf.range(len(prim_weights)):\n",
    "        weights.append(tau * prim_weights[i] + (1 - tau) * targ_weights[i])\n",
    "    target_net.set_weights(weights)\n",
    "    return\n"
   ]
  },
  {
   "cell_type": "code",
   "execution_count": 340,
   "metadata": {},
   "outputs": [],
   "source": [
    "def learn_step(buffer, batch_size=32):\n",
    "    if buffer.use_per:\n",
    "        (states, actions, rewards, nstates ,dones), importance, indices  = buffer.get_minibatch(batch_size=batch_size)\n",
    "    else:\n",
    "        states, actions, rewards, nstates ,dones  = buffer.get_minibatch(batch_size=batch_size)\n",
    "        \n",
    "    arg_q_max = prim_qnet.predict(tf.stack(states)).argmax(axis=1)\n",
    "    future_q_vals = target_qnet.predict(tf.stack(nstates))\n",
    "    nextq = future_q_vals[range(batch_size), arg_q_max]\n",
    "    target_q = rewards + (1-dones)*nextq\n",
    "    with tf.GradientTape() as tape:\n",
    "        tape.watch(prim_qnet.trainable_variables)\n",
    "        qvalues = prim_qnet(tf.stack(states))\n",
    "        Q = tf.reduce_sum(tf.multiply(qvalues, tf.keras.utils.to_categorical(actions, len(solver.alphabet))), axis=1)\n",
    "        error = target_q - Q #this is for importance sample\n",
    "        loss = tf.keras.losses.Huber()(target_q, Q)\n",
    "        if buffer.use_per:\n",
    "            loss = tf.reduce_mean(loss*importance)\n",
    "            \n",
    "    grads = tape.gradient(loss, prim_qnet.trainable_variables)\n",
    "    prim_qnet.optimizer.apply_gradients(zip(grads, prim_qnet.trainable_variables))\n",
    "    update_target_parameters(target_qnet,prim_qnet, tau=0.01)\n",
    "    if buffer.use_per:\n",
    "        buffer.set_priorities(indices, error)\n",
    "    return loss.numpy()"
   ]
  },
  {
   "cell_type": "code",
   "execution_count": 341,
   "metadata": {},
   "outputs": [
    {
     "name": "stderr",
     "output_type": "stream",
     "text": [
      "100%|██████████| 100/100 [00:06<00:00, 15.89it/s]\n"
     ]
    },
    {
     "data": {
      "text/plain": [
       "[<matplotlib.lines.Line2D at 0x7fc517b1b5c0>]"
      ]
     },
     "execution_count": 341,
     "metadata": {},
     "output_type": "execute_result"
    },
    {
     "data": {
      "image/png": "[encoded data removed]",
      "text/plain": [
       "<Figure size 432x288 with 1 Axes>"
      ]
     },
     "metadata": {
      "needs_background": "light"
     },
     "output_type": "display_data"
    }
   ],
   "source": [
    "l=[]\n",
    "for k in tqdm(range(10**2)):\n",
    "    l.append(learn_step(rp))\n",
    "    \n",
    "plt.plot(l)"
   ]
  },
  {
   "cell_type": "code",
   "execution_count": 298,
   "metadata": {},
   "outputs": [
    {
     "data": {
      "text/plain": [
       "[<matplotlib.lines.Line2D at 0x7fc517513438>]"
      ]
     },
     "execution_count": 298,
     "metadata": {},
     "output_type": "execute_result"
    },
    {
     "data": {
      "image/png": "[encoded data removed]",
      "text/plain": [
       "<Figure size 432x288 with 1 Axes>"
      ]
     },
     "metadata": {
      "needs_background": "light"
     },
     "output_type": "display_data"
    }
   ],
   "source": []
  },
  {
   "cell_type": "code",
   "execution_count": null,
   "metadata": {},
   "outputs": [],
   "source": []
  },
  {
   "cell_type": "code",
   "execution_count": null,
   "metadata": {},
   "outputs": [],
   "source": []
  },
  {
   "cell_type": "code",
   "execution_count": 322,
   "metadata": {},
   "outputs": [],
   "source": [
    "N=100\n",
    "\n",
    "for k in range(N):\n",
    "    done = False\n",
    "    env.reset()\n",
    "    while not done:\n",
    "        action = np.random.choice(range(len(solver.alphabet)))\n",
    "        next_state, reward, done, info = env.step(action)\n",
    "        rp.add_experience(action, [state, next_state], reward, done)\n",
    "        state = next_state\n",
    "rp.save(\"buffer_test\")\n"
   ]
  },
  {
   "cell_type": "code",
   "execution_count": null,
   "metadata": {},
   "outputs": [],
   "source": []
  },
  {
   "cell_type": "code",
   "execution_count": null,
   "metadata": {},
   "outputs": [],
   "source": [
    "N=100\n",
    "inps = np.zeros((N, env.n_qubits))\n",
    "labs = np.zeros(N)\n",
    "for k in range(N):\n",
    "    done = False\n",
    "    env.reset()\n",
    "    while not done:\n",
    "        action = np.random.choice(range(len(solver.alphabet)))\n",
    "        next_state, reward, done, info = env.step(action)\n",
    "        rp.add_experience(action, [state, next_state], reward, done)\n",
    "        state = next_state\n",
    "    #inps[k] = state\n",
    "    #labs[k] = reward"
   ]
  }
 ],
 "metadata": {
  "kernelspec": {
   "display_name": "Python 3",
   "language": "python",
   "name": "python3"
  },
  "language_info": {
   "codemirror_mode": {
    "name": "ipython",
    "version": 3
   },
   "file_extension": ".py",
   "mimetype": "text/x-python",
   "name": "python",
   "nbconvert_exporter": "python",
   "pygments_lexer": "ipython3",
   "version": "3.6.9"
  }
 },
 "nbformat": 4,
 "nbformat_minor": 4
}
