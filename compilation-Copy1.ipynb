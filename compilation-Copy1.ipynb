{
 "cells": [
  {
   "cell_type": "code",
   "execution_count": 29,
   "metadata": {},
   "outputs": [
    {
     "name": "stdout",
     "output_type": "stream",
     "text": [
      "The autoreload extension is already loaded. To reload it, use:\n",
      "  %reload_ext autoreload\n"
     ]
    }
   ],
   "source": [
    "%load_ext autoreload\n",
    "%autoreload 2\n",
    "import tensorflow_quantum as tfq\n",
    "from utilities.variational import VQE\n",
    "from utilities.qmodels import *\n",
    "from utilities.evaluator import Evaluator\n",
    "from utilities.idinserter import IdInserter\n",
    "from utilities.unitary_killer import UnitaryMurder\n",
    "from utilities.simplifier import Simplifier\n",
    "import cirq\n",
    "import numpy as np"
   ]
  },
  {
   "cell_type": "code",
   "execution_count": 30,
   "metadata": {},
   "outputs": [
    {
     "name": "stdout",
     "output_type": "stream",
     "text": [
      "tf.Tensor([-7.9999995], shape=(1,), dtype=float32) tf.Tensor(-7.9999995, shape=(), dtype=float32)\n"
     ]
    }
   ],
   "source": [
    "\n",
    "vqe_handler = VQE(n_qubits=2, problem_config={\"problem\":\"XXZ\",\"g\":1,\"J\":2})\n",
    "iid_inserter = IdInserter(n_qubits = vqe_handler.n_qubits, selector_temperature=40, epsilon=0.1)\n",
    "simplifier = Simplifier(n_qubits=vqe_handler.n_qubits,testing=True)\n",
    "\n",
    "#indexed_circuit = [vqe_handler.number_of_cnots + k for k in range(vqe_handler.n_qubits, 2*vqe_handler.n_qubits )]\n",
    "indexed_circuit = [4,5,3,5,0,5,5,5,5,4,5,5,2]\n",
    "#indexed_circuit = [5,3,3,5,4,0,5,5,3,3,5,3,5]\n",
    "circuit, symbols, index_to_symbols = vqe_handler.give_circuit(indexed_circuit)\n",
    "energy, resolver, history = vqe_handler.vqe(indexed_circuit)\n",
    "\n",
    "model = QNN(symbols=list(resolver.keys()), observable=vqe_handler.observable)\n",
    "print(model(cirq.resolve_parameters(circuit,resolver)), energy)\n"
   ]
  },
  {
   "cell_type": "code",
   "execution_count": 31,
   "metadata": {},
   "outputs": [
    {
     "data": {
      "text/html": [
       "<pre style=\"overflow: auto; white-space: pre;\">(0, 0): ───Rx(-0.5π)────────────────────────────@───Rx(2π)──────Rz(0.5π)───────────────────────────────────────────────────────────\n",
       "                                                │\n",
       "(0, 1): ───Rx(0)───────Rz(0.235π)───Rx(1.51π)───X───Rx(1.86π)───Rx(-0.212π)───Rx(-0.999π)───Rx(-1.53π)───Rx(1.36π)───Rx(-0.995π)───</pre>"
      ],
      "text/plain": [
       "(0, 0): ───Rx(-0.5π)────────────────────────────@───Rx(2π)──────Rz(0.5π)───────────────────────────────────────────────────────────\n",
       "                                                │\n",
       "(0, 1): ───Rx(0)───────Rz(0.235π)───Rx(1.51π)───X───Rx(1.86π)───Rx(-0.212π)───Rx(-0.999π)───Rx(-1.53π)───Rx(1.36π)───Rx(-0.995π)───"
      ]
     },
     "execution_count": 31,
     "metadata": {},
     "output_type": "execute_result"
    }
   ],
   "source": [
    "#Mindexed_circuit, Mresolver, Mindex_to_symbols = iid_inserter.place_identities(indexed_circuit,symbol_to_value=resolver,rate_iids_per_step=2)\n",
    "Mcircuit = vqe_handler.give_unitary(indexed_circuit, resolver)\n",
    "Mcircuit"
   ]
  },
  {
   "cell_type": "code",
   "execution_count": 32,
   "metadata": {},
   "outputs": [
    {
     "name": "stdout",
     "output_type": "stream",
     "text": [
      "7\n"
     ]
    }
   ],
   "source": [
    "i,r,po=simplifier.reduce_circuit(indexed_circuit,resolver,index_to_symbols)"
   ]
  },
  {
   "cell_type": "code",
   "execution_count": 33,
   "metadata": {},
   "outputs": [
    {
     "data": {
      "text/html": [
       "<pre style=\"overflow: auto; white-space: pre;\">(0, 0): ───Rx(-0.5π)────────────────────────@───Rx(2π)───Rz(0.5π)───\n",
       "                                            │\n",
       "(0, 1): ───Rx(0)───────Rz(0.235π)───Rx(π)───X───────────────────────</pre>"
      ],
      "text/plain": [
       "(0, 0): ───Rx(-0.5π)────────────────────────@───Rx(2π)───Rz(0.5π)───\n",
       "                                            │\n",
       "(0, 1): ───Rx(0)───────Rz(0.235π)───Rx(π)───X───────────────────────"
      ]
     },
     "execution_count": 33,
     "metadata": {},
     "output_type": "execute_result"
    }
   ],
   "source": [
    "nu=vqe_handler.give_unitary(i,r)\n",
    "nu"
   ]
  },
  {
   "cell_type": "code",
   "execution_count": 34,
   "metadata": {},
   "outputs": [
    {
     "data": {
      "text/plain": [
       "<tf.Tensor: shape=(1,), dtype=float32, numpy=array([-8.], dtype=float32)>"
      ]
     },
     "execution_count": 34,
     "metadata": {},
     "output_type": "execute_result"
    }
   ],
   "source": [
    "model(nu)"
   ]
  },
  {
   "cell_type": "code",
   "execution_count": null,
   "metadata": {},
   "outputs": [],
   "source": []
  }
 ],
 "metadata": {
  "kernelspec": {
   "display_name": "Python 3",
   "language": "python",
   "name": "python3"
  },
  "language_info": {
   "codemirror_mode": {
    "name": "ipython",
    "version": 3
   },
   "file_extension": ".py",
   "mimetype": "text/x-python",
   "name": "python",
   "nbconvert_exporter": "python",
   "pygments_lexer": "ipython3",
   "version": "3.6.9"
  }
 },
 "nbformat": 4,
 "nbformat_minor": 4
}
