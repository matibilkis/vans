{
 "cells": [
  {
   "cell_type": "code",
   "execution_count": 1,
   "metadata": {},
   "outputs": [],
   "source": [
    "import tensorflow_quantum as tfq\n",
    "from utilities.variational import VQE\n",
    "from utilities.qmodels import *\n",
    "from utilities.evaluator import Evaluator\n",
    "from utilities.idinserter import IdInserter\n",
    "from utilities.unitary_killer import UnitaryMurder\n",
    "from utilities.simplifier import Simplifier\n",
    "import cirq"
   ]
  },
  {
   "cell_type": "code",
   "execution_count": 2,
   "metadata": {},
   "outputs": [],
   "source": [
    "vqe_handler = VQE(n_qubits=3, problem_config={\"problem\":\"XXZ\",\"g\":1,\"J\":2})\n",
    "iid_inserter = IdInserter(n_qubits = vqe_handler.n_qubits, selector_temperature=0, epsilon=0.1)\n",
    "simplifier = Simplifier(n_qubits=vqe_handler.n_qubits)"
   ]
  },
  {
   "cell_type": "code",
   "execution_count": 3,
   "metadata": {},
   "outputs": [],
   "source": [
    "indexed_circuit = [vqe_handler.number_of_cnots + k for k in range(vqe_handler.n_qubits, 2*vqe_handler.n_qubits )]\n",
    "circuit, symbols, index_to_symbols = vqe_handler.give_circuit(indexed_circuit)\n",
    "energy, resolver, history = vqe_handler.vqe(indexed_circuit)"
   ]
  },
  {
   "cell_type": "code",
   "execution_count": 4,
   "metadata": {},
   "outputs": [],
   "source": [
    "Mindexed_circuit, Mresolver, Mindex_to_symbols = iid_inserter.place_identities(indexed_circuit,symbol_to_value=resolver)\n",
    "Mcircuit = vqe_handler.give_unitary(Mindexed_circuit, Mresolver)"
   ]
  },
  {
   "cell_type": "code",
   "execution_count": 5,
   "metadata": {},
   "outputs": [
    {
     "name": "stdout",
     "output_type": "stream",
     "text": [
      "tf.Tensor([-2.0491378], shape=(1,), dtype=float32) tf.Tensor([-2.9191527], shape=(1,), dtype=float32)\n"
     ]
    }
   ],
   "source": [
    "model = QNN(symbols=list(Mresolver.keys()), observable=vqe_handler.observable)\n",
    "print(model(circuit), model(Mcircuit))"
   ]
  },
  {
   "cell_type": "code",
   "execution_count": 6,
   "metadata": {},
   "outputs": [],
   "source": [
    "OMenergy, OMresolver, OMhistory = vqe_handler.vqe(Mindexed_circuit, symbols_to_values=Mresolver)\n",
    "OMcircuit = vqe_handler.give_unitary(Mindexed_circuit, OMresolver)"
   ]
  },
  {
   "cell_type": "code",
   "execution_count": 7,
   "metadata": {},
   "outputs": [
    {
     "name": "stdout",
     "output_type": "stream",
     "text": [
      "tf.Tensor([-2.9191527], shape=(1,), dtype=float32) tf.Tensor([-2.999975], shape=(1,), dtype=float32)\n"
     ]
    }
   ],
   "source": [
    "print(model(Mcircuit), model(OMcircuit))"
   ]
  },
  {
   "cell_type": "code",
   "execution_count": 8,
   "metadata": {},
   "outputs": [],
   "source": [
    "Sindexed_circuit, Sresolver, Sindex_to_symbols = simplifier.reduce_circuit(Mindexed_circuit, OMresolver, Mindex_to_symbols)"
   ]
  },
  {
   "cell_type": "code",
   "execution_count": 9,
   "metadata": {},
   "outputs": [
    {
     "name": "stdout",
     "output_type": "stream",
     "text": [
      "tf.Tensor([-2.9771419], shape=(1,), dtype=float32) tf.Tensor(-2.999976, shape=(), dtype=float32)\n"
     ]
    }
   ],
   "source": [
    "Scircuit = vqe_handler.give_unitary(Sindexed_circuit,Sresolver)\n",
    "print(model(Scircuit),OMenergy)"
   ]
  },
  {
   "cell_type": "code",
   "execution_count": 13,
   "metadata": {},
   "outputs": [
    {
     "data": {
      "text/html": [
       "<pre style=\"overflow: auto; white-space: pre;\">(0, 0): ───Rx(-0.992π)──────────────────────────────@───Rz(0.027π)───Rx(0)────────Rz(-0.036π)───@───Rz(0.027π)───Rx(0)─────────Rz(0.029π)───@───@────────────────\n",
       "                                                    │                                           │                                           │   │\n",
       "(0, 1): ───Rx(-0.017π)──────────────────────────────┼───────────────────────────────────────────X───Rx(0.015π)───Rz(-0.034π)───Rx(0.002π)───X───┼────────────────\n",
       "                                                    │                                                                                           │\n",
       "(0, 2): ───Rz(-0.032π)───Rx(0.014π)───Rz(-0.023π)───X───Rx(0.026π)───Rz(0.005π)───Rx(-0.029π)───────────────────────────────────────────────────X───Rx(0.981π)───</pre>"
      ],
      "text/plain": [
       "(0, 0): ───Rx(-0.992π)──────────────────────────────@───Rz(0.027π)───Rx(0)────────Rz(-0.036π)───@───Rz(0.027π)───Rx(0)─────────Rz(0.029π)───@───@────────────────\n",
       "                                                    │                                           │                                           │   │\n",
       "(0, 1): ───Rx(-0.017π)──────────────────────────────┼───────────────────────────────────────────X───Rx(0.015π)───Rz(-0.034π)───Rx(0.002π)───X───┼────────────────\n",
       "                                                    │                                                                                           │\n",
       "(0, 2): ───Rz(-0.032π)───Rx(0.014π)───Rz(-0.023π)───X───Rx(0.026π)───Rz(0.005π)───Rx(-0.029π)───────────────────────────────────────────────────X───Rx(0.981π)───"
      ]
     },
     "execution_count": 13,
     "metadata": {},
     "output_type": "execute_result"
    }
   ],
   "source": [
    "OMcircuit"
   ]
  },
  {
   "cell_type": "code",
   "execution_count": 14,
   "metadata": {},
   "outputs": [
    {
     "data": {
      "text/html": [
       "<pre style=\"overflow: auto; white-space: pre;\">(0, 0): ───Rx(-0.992π)─────────────────@───Rz(0.027π)───Rx(0)────────Rz(-0.009π)───@───Rx(0.027π)───Rz(0)─────────@───@────────────────\n",
       "                                       │                                           │                              │   │\n",
       "(0, 1): ───Rx(-0.002π)─────────────────┼───────────────────────────────────────────X───Rz(0.015π)───Rx(-0.034π)───X───┼────────────────\n",
       "                                       │                                                                              │\n",
       "(0, 2): ───Rx(0.014π)────Rz(-0.023π)───X───Rx(0.026π)───Rz(0.005π)───Rx(-0.029π)──────────────────────────────────────X───Rx(0.981π)───</pre>"
      ],
      "text/plain": [
       "(0, 0): ───Rx(-0.992π)─────────────────@───Rz(0.027π)───Rx(0)────────Rz(-0.009π)───@───Rx(0.027π)───Rz(0)─────────@───@────────────────\n",
       "                                       │                                           │                              │   │\n",
       "(0, 1): ───Rx(-0.002π)─────────────────┼───────────────────────────────────────────X───Rz(0.015π)───Rx(-0.034π)───X───┼────────────────\n",
       "                                       │                                                                              │\n",
       "(0, 2): ───Rx(0.014π)────Rz(-0.023π)───X───Rx(0.026π)───Rz(0.005π)───Rx(-0.029π)──────────────────────────────────────X───Rx(0.981π)───"
      ]
     },
     "execution_count": 14,
     "metadata": {},
     "output_type": "execute_result"
    }
   ],
   "source": [
    "Scircuit"
   ]
  },
  {
   "cell_type": "code",
   "execution_count": null,
   "metadata": {},
   "outputs": [],
   "source": []
  },
  {
   "cell_type": "code",
   "execution_count": 19,
   "metadata": {},
   "outputs": [
    {
     "data": {
      "text/html": [
       "<pre style=\"overflow: auto; white-space: pre;\">(0, 0): ───Rx(th_0)──────────────@───Rz(th_4)───Rx(th_5)────Rz(th_6)────@───Rx(th_8)────Rz(th_9)────@───@───────────────\n",
       "                                 │                                      │                           │   │\n",
       "(0, 1): ───Rx(th_1)──────────────┼──────────────────────────────────────X───Rz(th_10)───Rx(th_11)───X───┼───────────────\n",
       "                                 │                                                                      │\n",
       "(0, 2): ───Rx(th_2)───Rz(th_3)───X───Rx(th_7)───Rz(th_12)───Rx(th_13)───────────────────────────────────X───Rx(th_14)───</pre>"
      ],
      "text/plain": [
       "(0, 0): ───Rx(th_0)──────────────@───Rz(th_4)───Rx(th_5)────Rz(th_6)────@───Rx(th_8)────Rz(th_9)────@───@───────────────\n",
       "                                 │                                      │                           │   │\n",
       "(0, 1): ───Rx(th_1)──────────────┼──────────────────────────────────────X───Rz(th_10)───Rx(th_11)───X───┼───────────────\n",
       "                                 │                                                                      │\n",
       "(0, 2): ───Rx(th_2)───Rz(th_3)───X───Rx(th_7)───Rz(th_12)───Rx(th_13)───────────────────────────────────X───Rx(th_14)───"
      ]
     },
     "execution_count": 19,
     "metadata": {},
     "output_type": "execute_result"
    }
   ],
   "source": [
    "vqe_handler.give_circuit(Sindexed_circuit)[0]"
   ]
  },
  {
   "cell_type": "code",
   "execution_count": 20,
   "metadata": {},
   "outputs": [
    {
     "data": {
      "text/html": [
       "<pre style=\"overflow: auto; white-space: pre;\">(0, 0): ───Rx(th_0)─────────────────────────@───Rz(th_5)───Rx(th_6)────Rz(th_7)────@───Rz(th_9)────Rx(th_10)───Rz(th_11)───@───@───────────────\n",
       "                                            │                                      │                                       │   │\n",
       "(0, 1): ───Rx(th_1)─────────────────────────┼──────────────────────────────────────X───Rx(th_12)───Rz(th_13)───Rx(th_14)───X───┼───────────────\n",
       "                                            │                                                                                  │\n",
       "(0, 2): ───Rz(th_2)───Rx(th_3)───Rz(th_4)───X───Rx(th_8)───Rz(th_15)───Rx(th_16)───────────────────────────────────────────────X───Rx(th_17)───</pre>"
      ],
      "text/plain": [
       "(0, 0): ───Rx(th_0)─────────────────────────@───Rz(th_5)───Rx(th_6)────Rz(th_7)────@───Rz(th_9)────Rx(th_10)───Rz(th_11)───@───@───────────────\n",
       "                                            │                                      │                                       │   │\n",
       "(0, 1): ───Rx(th_1)─────────────────────────┼──────────────────────────────────────X───Rx(th_12)───Rz(th_13)───Rx(th_14)───X───┼───────────────\n",
       "                                            │                                                                                  │\n",
       "(0, 2): ───Rz(th_2)───Rx(th_3)───Rz(th_4)───X───Rx(th_8)───Rz(th_15)───Rx(th_16)───────────────────────────────────────────────X───Rx(th_17)───"
      ]
     },
     "execution_count": 20,
     "metadata": {},
     "output_type": "execute_result"
    }
   ],
   "source": [
    "vqe_handler.give_circuit(Mindexed_circuit)[0]"
   ]
  },
  {
   "cell_type": "code",
   "execution_count": 36,
   "metadata": {},
   "outputs": [],
   "source": [
    "q=vqe_handler.qubits[0]\n",
    "u1 = cirq.unitary(cirq.Circuit([cirq.rx(Sresolver[\"th_2\"]).on(q),cirq.rz(Sresolver[\"th_3\"]).on(q)]))\n",
    "u2 = cirq.unitary(cirq.Circuit([cirq.rz(Mresolver[\"th_2\"]).on(q),cirq.rx(\"th_3\").on(q),cirq.rz(\"th_4\")     ]))"
   ]
  },
  {
   "cell_type": "code",
   "execution_count": null,
   "metadata": {},
   "outputs": [],
   "source": []
  },
  {
   "cell_type": "code",
   "execution_count": null,
   "metadata": {},
   "outputs": [],
   "source": [
    "indexed_circuit = [vqe_handler]"
   ]
  },
  {
   "cell_type": "code",
   "execution_count": null,
   "metadata": {},
   "outputs": [],
   "source": [
    "iid_inserter.resolution_2cnots"
   ]
  },
  {
   "cell_type": "code",
   "execution_count": null,
   "metadata": {},
   "outputs": [],
   "source": []
  },
  {
   "cell_type": "code",
   "execution_count": null,
   "metadata": {},
   "outputs": [],
   "source": []
  }
 ],
 "metadata": {
  "kernelspec": {
   "display_name": "Python 3",
   "language": "python",
   "name": "python3"
  },
  "language_info": {
   "codemirror_mode": {
    "name": "ipython",
    "version": 3
   },
   "file_extension": ".py",
   "mimetype": "text/x-python",
   "name": "python",
   "nbconvert_exporter": "python",
   "pygments_lexer": "ipython3",
   "version": "3.6.9"
  }
 },
 "nbformat": 4,
 "nbformat_minor": 4
}
