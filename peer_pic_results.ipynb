{
 "cells": [
  {
   "cell_type": "code",
   "execution_count": 24,
   "metadata": {},
   "outputs": [
    {
     "name": "stdout",
     "output_type": "stream",
     "text": [
      "The autoreload extension is already loaded. To reload it, use:\n",
      "  %reload_ext autoreload\n"
     ]
    }
   ],
   "source": [
    "from utilities.evaluator import Evaluator\n",
    "import numpy as np\n",
    "import matplotlib.pyplot as plt\n",
    "from IPython import display\n",
    "from utilities.misc import dict_to_json\n",
    "%load_ext autoreload\n",
    "%autoreload 2"
   ]
  },
  {
   "cell_type": "code",
   "execution_count": 46,
   "metadata": {},
   "outputs": [
    {
     "name": "stdout",
     "output_type": "stream",
     "text": [
      "6\n",
      "5\n",
      "7\n",
      "5\n",
      "6\n",
      "5\n",
      "6\n",
      "4\n",
      "4\n",
      "4\n",
      "2\n",
      "6\n",
      "4\n",
      "6\n",
      "4\n",
      "2\n",
      "7\n",
      "6\n",
      "5\n",
      "3\n",
      "7\n",
      "4\n",
      "5\n",
      "2\n",
      "3\n",
      "2\n",
      "3\n",
      "3\n",
      "4\n",
      "4\n",
      "1\n",
      "17\n",
      "7\n",
      "13\n",
      "2\n",
      "12\n",
      "8\n",
      "1\n",
      "20\n",
      "31\n",
      "14\n",
      "33\n",
      "14\n",
      "13\n"
     ]
    }
   ],
   "source": [
    "bond=1.5\n",
    "for rr in np.round(np.arange(1.0,3.2,0.05),2):\n",
    "\n",
    "    problem_config={\"problem\" : \"H4\", \"geometry\": str([('H', (0., 0., 0.)), ('H', (0., 0., bond)), ('H', (0., 0., 2*bond)), ('H', (0., 0., 3*bond))]).replace(\"'\",\"\"), \"multiplicity\":1, \"charge\":0, \"basis\":\"sto-3g\"}\n",
    "    arguss= {\"n_qubits\":8,\"problem_config\":problem_config,\"specific_name\":\"_rate_{}\".format(rr), \"noise_config\":{}}\n",
    "    evaluator = Evaluator(args=arguss,loading=True)\n",
    "    print(len(evaluator.evolution.keys()))"
   ]
  },
  {
   "cell_type": "code",
   "execution_count": 50,
   "metadata": {},
   "outputs": [
    {
     "name": "stdout",
     "output_type": "stream",
     "text": [
      "\n",
      " Hola, I'm VANS, and current local time is 2021-02-20 07:26:20.456853 \n",
      "len(n_qubits): 8\n",
      "noise: {}\n",
      "qlr: 0.01\n",
      "qepochs: 2000\n",
      "patience: 200\n",
      "genetic runs: 3000\n",
      "acceptange_percentage runs: 0.05\n",
      "rate_iids_per_step: 3.15\n",
      "problem_info: {'problem': 'H4', 'geometry': '[(H, (0.0, 0.0, 0.0)), (H, (0.0, 0.0, 1.5)), (H, (0.0, 0.0, 3.0)), (H, (0.0, 0.0, 4.5))]', 'multiplicity': '1', 'charge': '0', 'basis': 'sto-3g'}\n",
      "\n",
      "Iteration #0\n",
      "Time since beggining:0:00:15.562555\n",
      " best energy: None\n",
      " lower_bound: -1.9945503255188075\n",
      "Iteration #1\n",
      "Time since beggining:0:00:52.110269\n",
      " best energy: -1.774492859840393\n",
      " lower_bound: -1.9945503255188075\n",
      "Iteration #2\n",
      "Time since beggining:0:01:43.226449\n",
      " best energy: -1.774492859840393\n",
      " lower_bound: -1.9945503255188075\n",
      "Iteration #3\n",
      "Time since beggining:0:02:13.002763\n",
      " best energy: -1.774492859840393\n",
      " lower_bound: -1.9945503255188075\n",
      "Iteration #4\n",
      "Time since beggining:0:02:31.544637\n",
      " best energy: -1.774492859840393\n",
      " lower_bound: -1.9945503255188075\n",
      "Iteration #5\n",
      "Time since beggining:0:03:23.751397\n",
      " best energy: -1.8291375637054443\n",
      " lower_bound: -1.9945503255188075\n",
      "Iteration #6\n",
      "Time since beggining:0:03:42.097373\n",
      " best energy: -1.8291375637054443\n",
      " lower_bound: -1.9945503255188075\n",
      "Iteration #7\n",
      "Time since beggining:0:07:01.565504\n",
      " best energy: -1.8291375637054443\n",
      " lower_bound: -1.9945503255188075\n",
      "Iteration #8\n",
      "Time since beggining:0:07:19.806096\n",
      " best energy: -1.8291375637054443\n",
      " lower_bound: -1.9945503255188075\n",
      "Iteration #9\n",
      "Time since beggining:0:07:37.586064\n",
      " best energy: -1.8291375637054443\n",
      " lower_bound: -1.9945503255188075\n",
      "Iteration #10\n",
      "Time since beggining:0:08:18.049788\n",
      " best energy: -1.8291375637054443\n",
      " lower_bound: -1.9945503255188075\n",
      "Iteration #11\n",
      "Time since beggining:0:08:43.162473\n",
      " best energy: -1.8291375637054443\n",
      " lower_bound: -1.9945503255188075\n",
      "Iteration #12\n",
      "Time since beggining:0:10:02.937468\n",
      " best energy: -1.8291375637054443\n",
      " lower_bound: -1.9945503255188075\n",
      "Iteration #13\n",
      "Time since beggining:0:10:29.878878\n",
      " best energy: -1.8291375637054443\n",
      " lower_bound: -1.9945503255188075\n",
      "Iteration #14\n",
      "Time since beggining:0:10:47.068035\n",
      " best energy: -1.8291375637054443\n",
      " lower_bound: -1.9945503255188075\n",
      "Iteration #15\n",
      "Time since beggining:0:11:04.603765\n",
      " best energy: -1.8291375637054443\n",
      " lower_bound: -1.9945503255188075\n",
      "Iteration #16\n",
      "Time since beggining:0:11:37.927370\n",
      " best energy: -1.8291375637054443\n",
      " lower_bound: -1.9945503255188075\n",
      "Iteration #17\n",
      "Time since beggining:0:11:54.744908\n",
      " best energy: -1.8291375637054443\n",
      " lower_bound: -1.9945503255188075\n",
      "Iteration #18\n",
      "Time since beggining:0:12:50.060493\n",
      " best energy: -1.8291375637054443\n",
      " lower_bound: -1.9945503255188075\n"
     ]
    }
   ],
   "source": [
    "print(evaluator.displaying[\"information\"])"
   ]
  },
  {
   "cell_type": "code",
   "execution_count": null,
   "metadata": {},
   "outputs": [],
   "source": []
  }
 ],
 "metadata": {
  "kernelspec": {
   "display_name": "qenv_bilkis",
   "language": "python",
   "name": "qenv_bilkis"
  },
  "language_info": {
   "codemirror_mode": {
    "name": "ipython",
    "version": 3
   },
   "file_extension": ".py",
   "mimetype": "text/x-python",
   "name": "python",
   "nbconvert_exporter": "python",
   "pygments_lexer": "ipython3",
   "version": "3.6.8"
  }
 },
 "nbformat": 4,
 "nbformat_minor": 4
}
