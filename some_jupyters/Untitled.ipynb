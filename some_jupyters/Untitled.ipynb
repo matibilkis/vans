{
 "cells": [
  {
   "cell_type": "code",
   "execution_count": null,
   "metadata": {},
   "outputs": [],
   "source": [
    "\n",
    "\n",
    "\n",
    "def projector(ket):\n",
    "    ket = np.expand_dims(ket, 1)\n",
    "    proj = ket.dot(ket.conjugate().T)\n",
    "    return proj\n",
    "\n",
    "sq = 1 / np.sqrt(3)\n",
    "w_state = np.array([0, sq, sq, 0, sq, 0, 0, 0])\n",
    "W = projector(w_state)\n",
    "\n",
    "dev = qml.device(\"default.qubit\", wires=3)\n",
    "@qml.qnode(dev)\n",
    "def circuit(params):\n",
    "    qml.RZ(np.pi, wires=[0])\n",
    "    qml.PauliX(wires=[2])\n",
    "    qml.RY(params[0], wires=[1])\n",
    "    qml.CNOT(wires=[1,2])\n",
    "    qml.CNOT(wires=[1,0])\n",
    "    qml.RY(params[1], wires=[0])\n",
    "    qml.CNOT(wires=[1,0])\n",
    "    qml.Rot(params[2:][0],params[2:][1],params[2:][2],wires=[0])\n",
    "    qml.CNOT(wires=[0,1])\n",
    "    #return qml.probs(wires=range(3))\n",
    "    return qml.expval(qml.Hermitian(W,wires=[0,1,2]))\n",
    "\n",
    "\n",
    "sq = 1 / np.sqrt(3)\n",
    "w_state = np.array([0, sq, sq, 0, sq, 0, 0, 0])\n",
    "W = projector(w_state)"
   ]
  },
  {
   "cell_type": "code",
   "execution_count": null,
   "metadata": {},
   "outputs": [],
   "source": [
    "circuit.arg_vars"
   ]
  },
  {
   "cell_type": "code",
   "execution_count": null,
   "metadata": {},
   "outputs": [],
   "source": [
    "def loss(x):\n",
    "    return 1-circuit(x)\n",
    "\n",
    "opt = qml.GradientDescentOptimizer(stepsize=0.1)\n",
    "\n",
    "steps = 100\n",
    "params = np.random.sample(5)\n",
    "\n",
    "for i in range(steps):\n",
    "    params = opt.step(loss, params)\n",
    "    if (i + 1) % 5 == 0:\n",
    "        print(\"Cost after step {:5d}: {: .7f}\".format(i + 1, loss(params)))\n",
    "print(\"Optimized rotation angles: {}\".format(params))"
   ]
  },
  {
   "cell_type": "markdown",
   "metadata": {},
   "source": [
    "What I want now is to define the circuit s.t. i first append the gate that depends on continuous parameters and then I declare the dependence."
   ]
  },
  {
   "cell_type": "code",
   "execution_count": null,
   "metadata": {},
   "outputs": [],
   "source": [
    "import pickle \n",
    "with open('alphabet_w.pickle', 'rb') as alphabet:\n",
    "    alphabet = pickle.load(alphabet)\n",
    "\n",
    "def append_gate(alphabet, index):\n",
    "    # let's say the parametrized gates are only rotations of 1 free param (how to )\n",
    "    if \"params\" in list(alphabet[str(index)].keys()):\n",
    "        if alphabet[str(index)][\"gate\"] == qml.Rot:\n",
    "            params = alphabet[str(index)][\"params\"]\n",
    "            return alphabet[str(index)][\"gate\"](params[0], params[1], params[2], wires=alphabet[str(index)][\"wires\"])\n",
    "        else:\n",
    "            return alphabet[str(index)][\"gate\"](alphabet[str(index)][\"params\"][0], wires=alphabet[str(index)][\"wires\"])\n",
    "    else:\n",
    "        return alphabet[str(index)][\"gate\"](wires=alphabet[str(index)][\"wires\"])\n"
   ]
  },
  {
   "cell_type": "code",
   "execution_count": null,
   "metadata": {},
   "outputs": [],
   "source": [
    "def gett_params(alphabet, list_ops):\n",
    "    p=np.array([])\n",
    "    for index in list_ops:\n",
    "        if \"params\" in list(alphabet[str(index)].keys()):\n",
    "            p = np.append(p,alphabet[str(index)][\"params\"])\n",
    "    return p"
   ]
  },
  {
   "cell_type": "code",
   "execution_count": null,
   "metadata": {},
   "outputs": [],
   "source": [
    "pars = gett_params(alphabet,np.array([1,2,3,4]))\n",
    "variables = {}\n",
    "for i,k in enumerate(pars):\n",
    "    variables[str(i)] = qml.variable.Variable(idx=i)"
   ]
  },
  {
   "cell_type": "code",
   "execution_count": null,
   "metadata": {},
   "outputs": [],
   "source": [
    "def build_circuit():\n",
    "    for op in list_ops:\n",
    "        append_gate(alphabet, int(op))"
   ]
  },
  {
   "cell_type": "code",
   "execution_count": null,
   "metadata": {},
   "outputs": [],
   "source": [
    "vv = list(variables.values())"
   ]
  },
  {
   "cell_type": "code",
   "execution_count": null,
   "metadata": {},
   "outputs": [],
   "source": [
    "\n",
    "dev = qml.device(\"default.qubit\", wires=3)\n",
    "@qml.qnode(device=dev)\n",
    "def circuit_obs(vv):\n",
    "    build_circuit()\n",
    "    return qml.expval(qml.Hermitian(W,wires=[0,1,2]))\n",
    "\n",
    "circuit_obs(pars)"
   ]
  },
  {
   "cell_type": "code",
   "execution_count": null,
   "metadata": {},
   "outputs": [],
   "source": [
    "#OK this not gonna work, since i have to pass the params as a list of parameters. The best way to do this is "
   ]
  },
  {
   "cell_type": "code",
   "execution_count": null,
   "metadata": {},
   "outputs": [],
   "source": [
    "circuit_obs.arg_vars"
   ]
  },
  {
   "cell_type": "code",
   "execution_count": null,
   "metadata": {},
   "outputs": [],
   "source": [
    "params=[np.random.random()]"
   ]
  },
  {
   "cell_type": "code",
   "execution_count": null,
   "metadata": {},
   "outputs": [],
   "source": [
    "dev = qml.device(\"default.qubit\", wires=3)\n",
    "@qml.qnode(dev)\n",
    "def circuit(params):\n",
    "    qml.RZ(np.pi, wires=[0])\n",
    "    qml.PauliX(wires=[2])\n",
    "    qml.RY(params[0], wires=[1])\n",
    "    qml.CNOT(wires=[1,2])\n",
    "    return qml.expval(qml.Hermitian(W,wires=[0,1,2]))\n",
    "\n"
   ]
  },
  {
   "cell_type": "code",
   "execution_count": null,
   "metadata": {},
   "outputs": [],
   "source": []
  },
  {
   "cell_type": "code",
   "execution_count": null,
   "metadata": {},
   "outputs": [],
   "source": []
  },
  {
   "cell_type": "code",
   "execution_count": null,
   "metadata": {},
   "outputs": [],
   "source": []
  },
  {
   "cell_type": "code",
   "execution_count": null,
   "metadata": {},
   "outputs": [],
   "source": []
  },
  {
   "cell_type": "code",
   "execution_count": null,
   "metadata": {},
   "outputs": [],
   "source": []
  },
  {
   "cell_type": "code",
   "execution_count": null,
   "metadata": {},
   "outputs": [],
   "source": []
  },
  {
   "cell_type": "code",
   "execution_count": null,
   "metadata": {},
   "outputs": [],
   "source": []
  },
  {
   "cell_type": "code",
   "execution_count": null,
   "metadata": {},
   "outputs": [],
   "source": []
  },
  {
   "cell_type": "code",
   "execution_count": 1,
   "metadata": {},
   "outputs": [],
   "source": [
    "import pennylane as qml\n",
    "import gym\n",
    "from pennylane import numpy as np\n",
    "from gym import spaces"
   ]
  },
  {
   "cell_type": "code",
   "execution_count": 20,
   "metadata": {},
   "outputs": [],
   "source": [
    "alphabet_w = {\"0\":{\"gate\": qml.PauliX, \"wires\": [2]}, \n",
    "            \"1\":{\"gate\": qml.RZ, \"wires\": [0]},\n",
    "            \"2\":{\"gate\": qml.RY, \"wires\": [1]},\n",
    "            \"3\":{\"gate\": qml.CNOT, \"wires\": [1,2]},#, \"params\":[np.pi]},\n",
    "            \"4\":{\"gate\": qml.CNOT, \"wires\": [1,0]},#, \"params\":[np.pi]},\n",
    "            \"5\":{\"gate\": qml.RY, \"wires\": [0]},\n",
    "            \"6\":{\"gate\":qml.Rot, \"wires\":[0]}, #borrowed from other optimization\n",
    "            \"7\":{\"gate\": qml.CNOT, \"wires\": [0,1]},#, \"params\":[np.pi]},\n",
    "           }\n",
    "\n",
    "\n",
    "def projector(ket):\n",
    "    ket = np.expand_dims(ket, 1)\n",
    "    proj = ket.dot(ket.conjugate().T)\n",
    "    return proj\n",
    "\n",
    "sq = 1 / np.sqrt(3)\n",
    "w_state = np.array([0, sq, sq, 0, sq, 0, 0, 0])\n",
    "W = projector(w_state)"
   ]
  },
  {
   "cell_type": "code",
   "execution_count": 21,
   "metadata": {},
   "outputs": [],
   "source": [
    "traj = np.array([3,1,0,6,6])"
   ]
  },
  {
   "cell_type": "code",
   "execution_count": 27,
   "metadata": {},
   "outputs": [],
   "source": [
    "parametros=np.array([])\n",
    "to_yield = []\n",
    "for k in traj:\n",
    "    op = alphabet_w[str(k)]\n",
    "    num_params_op = op[\"gate\"].num_params\n",
    "    if num_params_op >0:\n",
    "        parametros_this_gate = [qml.variable.Variable(idx=k+len(parametros)) for k in range(num_params_op)]\n",
    "        parametros = np.append(parametros, parametros_this_gate)\n",
    "        if len(parametros_this_gate) == 3:\n",
    "            to_yield.append(op[\"gate\"](parametros_this_gate[0],parametros_this_gate[1], parametros_this_gate[2], wires=op[\"wires\"]))\n",
    "        else:\n",
    "            to_yield.append(op[\"gate\"](parametros_this_gate[0], wires=op[\"wires\"]))\n",
    "    else:\n",
    "        to_yield.append(op[\"gate\"](wires=op[\"wires\"]))"
   ]
  },
  {
   "cell_type": "code",
   "execution_count": 28,
   "metadata": {},
   "outputs": [],
   "source": [
    "dev = qml.device(\"default.qubit\", wires=3)\n",
    "@qml.qnode(dev)\n",
    "def circuit(parametros):\n",
    "    for pp in to_yield:\n",
    "        pp\n",
    "    return qml.expval(qml.Hermitian(W,wires=[0,1,2]))"
   ]
  },
  {
   "cell_type": "code",
   "execution_count": 34,
   "metadata": {},
   "outputs": [
    {
     "data": {
      "text/plain": [
       "0.0"
      ]
     },
     "execution_count": 34,
     "metadata": {},
     "output_type": "execute_result"
    }
   ],
   "source": [
    "circuit(parametros)"
   ]
  },
  {
   "cell_type": "code",
   "execution_count": 38,
   "metadata": {},
   "outputs": [
    {
     "name": "stdout",
     "output_type": "stream",
     "text": [
      "<bound method BaseQNode.draw of <QNode (differentiable): device='default.qubit', func=circuit, wires=3, interface=autograd>>\n"
     ]
    }
   ],
   "source": [
    "print(circuit.draw)"
   ]
  },
  {
   "cell_type": "code",
   "execution_count": null,
   "metadata": {},
   "outputs": [],
   "source": []
  }
 ],
 "metadata": {
  "kernelspec": {
   "display_name": "Python 3",
   "language": "python",
   "name": "python3"
  },
  "language_info": {
   "codemirror_mode": {
    "name": "ipython",
    "version": 3
   },
   "file_extension": ".py",
   "mimetype": "text/x-python",
   "name": "python",
   "nbconvert_exporter": "python",
   "pygments_lexer": "ipython3",
   "version": "3.6.9"
  }
 },
 "nbformat": 4,
 "nbformat_minor": 4
}
