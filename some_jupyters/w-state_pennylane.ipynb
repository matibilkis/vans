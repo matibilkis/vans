{
 "cells": [
  {
   "cell_type": "markdown",
   "metadata": {},
   "source": [
    "First we prepare W-state with PennyLane.Notice this is with a fixed ansatz, with parameters optimized.\n",
    "\n",
    "Second, we free those parameters and see if GradientDescent can find the optimals. It does."
   ]
  },
  {
   "cell_type": "code",
   "execution_count": 196,
   "metadata": {},
   "outputs": [],
   "source": [
    "import pennylane as qml\n",
    "import gym\n",
    "from pennylane import numpy as np\n",
    "from gym import spaces\n",
    "import matplotlib.pyplot as plt"
   ]
  },
  {
   "cell_type": "code",
   "execution_count": 172,
   "metadata": {},
   "outputs": [
    {
     "data": {
      "text/plain": [
       "0.3923841652634414"
      ]
     },
     "execution_count": 172,
     "metadata": {},
     "output_type": "execute_result"
    }
   ],
   "source": [
    "ang=np.arccos(0.924) #obtained from Noise resiliance... Cerezo et.al.\n",
    "np.sin(ang)\n",
    "ang"
   ]
  },
  {
   "cell_type": "code",
   "execution_count": 173,
   "metadata": {},
   "outputs": [
    {
     "data": {
      "text/plain": [
       "array([[ 0.+0.924j     ,  0.+0.38239247j],\n",
       "       [ 0.+0.38239247j, -0.-0.924j     ]])"
      ]
     },
     "execution_count": 173,
     "metadata": {},
     "output_type": "execute_result"
    }
   ],
   "source": [
    "U1 = 1j*np.array([[np.cos(ang),np.sin(ang) ],[np.sin(ang), -np.cos(ang)]])\n",
    "U1"
   ]
  },
  {
   "cell_type": "code",
   "execution_count": 234,
   "metadata": {},
   "outputs": [
    {
     "data": {
      "text/plain": [
       "0.7847683305268828"
      ]
     },
     "execution_count": 234,
     "metadata": {},
     "output_type": "execute_result"
    }
   ],
   "source": [
    "np.arccos(0.924)*2"
   ]
  },
  {
   "cell_type": "code",
   "execution_count": 174,
   "metadata": {},
   "outputs": [],
   "source": [
    "dev = qml.device(\"default.qubit\", analytic=True, wires=3)\n",
    "@qml.qnode(dev)\n",
    "def circuit(params):\n",
    "    qml.RZ(np.pi, wires=[0])\n",
    "    qml.PauliX(wires=[2])\n",
    "    qml.RY(0.608*np.pi, wires=[1])\n",
    "    qml.CNOT(wires=[1,2])\n",
    "    qml.CNOT(wires=[1,0])\n",
    "    qml.RY(np.arccos(0.924)*2, wires=[0])\n",
    "    qml.CNOT(wires=[1,0])\n",
    "    qml.QubitUnitary(U1,wires=[0])\n",
    "    qml.CNOT(wires=[0,1])\n",
    "    return qml.probs(wires=range(3))"
   ]
  },
  {
   "cell_type": "code",
   "execution_count": 175,
   "metadata": {},
   "outputs": [
    {
     "name": "stdout",
     "output_type": "stream",
     "text": [
      "[0.         0.33359023 0.33362461 0.         0.33278516 0.\n",
      " 0.         0.        ]\n",
      "***\n",
      " 0: ──RZ(3.142)──────╭X──RY(0.785)──╭X──U0──╭C──╭┤ Probs \n",
      " 1: ──RY(1.91)───╭C──╰C─────────────╰C──────╰X──├┤ Probs \n",
      " 2: ──X──────────╰X─────────────────────────────╰┤ Probs \n",
      "U0 =\n",
      "[[ 0.+0.924j       0.+0.38239247j]\n",
      " [ 0.+0.38239247j -0.-0.924j     ]]\n",
      "\n"
     ]
    }
   ],
   "source": [
    "print(circuit([]))\n",
    "print(\"***\")\n",
    "print(circuit.draw())"
   ]
  },
  {
   "cell_type": "code",
   "execution_count": 176,
   "metadata": {},
   "outputs": [
    {
     "data": {
      "text/plain": [
       "1.6931922264262766e-07"
      ]
     },
     "execution_count": 176,
     "metadata": {},
     "output_type": "execute_result"
    }
   ],
   "source": [
    "sq = 1/np.sqrt(3)\n",
    "w_state= np.array([0,sq,sq,0,sq,0,0,0])\n",
    "def cost(output_circuit, target_state):\n",
    "    return 1-np.dot(np.sqrt(output_circuit), target_state)\n",
    "\n",
    "cost(circuit([]), w_state)"
   ]
  },
  {
   "cell_type": "markdown",
   "metadata": {},
   "source": [
    "Now let's do the same but variatonally!"
   ]
  },
  {
   "cell_type": "code",
   "execution_count": 184,
   "metadata": {},
   "outputs": [],
   "source": [
    "def projector(ket):\n",
    "    n = len(ket)\n",
    "    proj=np.zeros((n,n))\n",
    "    for ind1,i in enumerate(ket):\n",
    "        for ind2,j in enumerate(ket):\n",
    "            proj[ind1,ind2] = i*np.conjugate(j)\n",
    "    return proj\n",
    "W = projector(w_state)"
   ]
  },
  {
   "cell_type": "code",
   "execution_count": 215,
   "metadata": {},
   "outputs": [],
   "source": [
    "dev = qml.device(\"default.qubit\", wires=3)\n",
    "@qml.qnode(dev)\n",
    "def circuit(params):\n",
    "    qml.RZ(np.pi, wires=[0])\n",
    "    qml.PauliX(wires=[2])\n",
    "    qml.RY(params[0], wires=[1])\n",
    "    qml.CNOT(wires=[1,2])\n",
    "    qml.CNOT(wires=[1,0])\n",
    "    qml.RY(np.arccos(0.924)*2, wires=[0])\n",
    "    qml.CNOT(wires=[1,0])\n",
    "    qml.QubitUnitary(1j*np.array([[np.cos(0.39),np.sin(0.39) ],\n",
    "                                  [np.sin(0.39), -np.cos(0.39)]])\n",
    ",wires=[0])\n",
    "    qml.CNOT(wires=[0,1])\n",
    "    #return qml.probs(wires=range(3))\n",
    "    return qml.expval(qml.Hermitian(W,wires=[0,1,2]))\n"
   ]
  },
  {
   "cell_type": "code",
   "execution_count": 207,
   "metadata": {},
   "outputs": [],
   "source": [
    "dcircuit = qml.grad(circuit, argnum=0)"
   ]
  },
  {
   "cell_type": "code",
   "execution_count": 210,
   "metadata": {},
   "outputs": [
    {
     "data": {
      "text/plain": [
       "[<matplotlib.lines.Line2D at 0x7f1938fc48d0>]"
      ]
     },
     "execution_count": 210,
     "metadata": {},
     "output_type": "execute_result"
    },
    {
     "data": {
      "image/png": "[encoded data removed]",
      "text/plain": [
       "<Figure size 432x288 with 1 Axes>"
      ]
     },
     "metadata": {
      "needs_background": "light"
     },
     "output_type": "display_data"
    }
   ],
   "source": [
    "optimal = 0.608*np.pi\n",
    "fids=[]\n",
    "grad=[]\n",
    "for k in np.arange(0,2*np.pi,.1):\n",
    "    fids.append(circuit([k]))\n",
    "    grad.append(dcircuit([k]))\n",
    "plt.plot(np.arange(0,2*np.pi,.01), fids, c=\"red\")\n",
    "plt.plot(np.arange(0,2*np.pi,.01), grad, c=\"blue\")\n",
    "plt.scatter([optimal], [circuit([optimal])],s=50)\n",
    "plt.plot([0, 2*np.pi], [0,0],c=\"black\")"
   ]
  },
  {
   "cell_type": "markdown",
   "metadata": {},
   "source": [
    "OK! Let's optimize this with gradient descent :)"
   ]
  },
  {
   "cell_type": "code",
   "execution_count": 218,
   "metadata": {},
   "outputs": [
    {
     "name": "stdout",
     "output_type": "stream",
     "text": [
      "Cost after step     5:  0.4542126\n",
      "Cost after step    10:  0.3348710\n",
      "Cost after step    15:  0.2329616\n",
      "Cost after step    20:  0.1545380\n",
      "Cost after step    25:  0.0989471\n",
      "Cost after step    30:  0.0618196\n",
      "Cost after step    35:  0.0380068\n",
      "Cost after step    40:  0.0231300\n",
      "Cost after step    45:  0.0139885\n",
      "Cost after step    50:  0.0084284\n",
      "Cost after step    55:  0.0050676\n",
      "Cost after step    60:  0.0030438\n",
      "Cost after step    65:  0.0018280\n",
      "Cost after step    70:  0.0010985\n",
      "Cost after step    75:  0.0006612\n",
      "Cost after step    80:  0.0003992\n",
      "Cost after step    85:  0.0002422\n",
      "Cost after step    90:  0.0001482\n",
      "Cost after step    95:  0.0000920\n",
      "Cost after step   100:  0.0000582\n",
      "Optimized rotation angles: [1.896447138509207]\n",
      "Optimal angle: 1.9100883333825942\n"
     ]
    }
   ],
   "source": [
    "def loss(x):\n",
    "    return 1-circuit(x)\n",
    "\n",
    "opt = qml.GradientDescentOptimizer(stepsize=0.1)\n",
    "\n",
    "steps = 100\n",
    "params = [np.random.random()]\n",
    "\n",
    "for i in range(steps):\n",
    "    params = opt.step(loss, params)\n",
    "    if (i + 1) % 5 == 0:\n",
    "        print(\"Cost after step {:5d}: {: .7f}\".format(i + 1, loss(params)))\n",
    "print(\"Optimized rotation angles: {}\".format(params))\n",
    "print(\"Optimal angle: {}\".format(optimal))"
   ]
  },
  {
   "cell_type": "markdown",
   "metadata": {},
   "source": [
    "Nice! What happens if now I give you more free parameters ? (although there will be one point at which you'll see a barren plateau, i guess)"
   ]
  },
  {
   "cell_type": "code",
   "execution_count": 227,
   "metadata": {},
   "outputs": [],
   "source": [
    "dev = qml.device(\"default.qubit\", wires=3)\n",
    "@qml.qnode(dev)\n",
    "def circuit(params):\n",
    "    qml.RZ(np.pi, wires=[0])\n",
    "    qml.PauliX(wires=[2])\n",
    "    qml.RY(params[0], wires=[1])\n",
    "    qml.CNOT(wires=[1,2])\n",
    "    qml.CNOT(wires=[1,0])\n",
    "    qml.RY(np.arccos(0.924)*2, wires=[0])\n",
    "    qml.CNOT(wires=[1,0])\n",
    "    qml.Rot(params[1],params[2],params[3],wires=[0])\n",
    "    qml.CNOT(wires=[0,1])\n",
    "    #return qml.probs(wires=range(3))\n",
    "    return qml.expval(qml.Hermitian(W,wires=[0,1,2]))\n"
   ]
  },
  {
   "cell_type": "code",
   "execution_count": 229,
   "metadata": {},
   "outputs": [
    {
     "name": "stdout",
     "output_type": "stream",
     "text": [
      "0.06831318145984475\n",
      " 0: ──RZ(3.142)──────╭X──RY(0.785)──╭X──Rot(2.086, 2.073, -1.422)──╭C──╭┤ ⟨H0⟩ \n",
      " 1: ──RY(5.389)──╭C──╰C─────────────╰C─────────────────────────────╰X──├┤ ⟨H0⟩ \n",
      " 2: ──X──────────╰X────────────────────────────────────────────────────╰┤ ⟨H0⟩ \n",
      "H0 =\n",
      "[[0.         0.         0.         0.         0.         0.\n",
      "  0.         0.        ]\n",
      " [0.         0.33333333 0.33333333 0.         0.33333333 0.\n",
      "  0.         0.        ]\n",
      " [0.         0.33333333 0.33333333 0.         0.33333333 0.\n",
      "  0.         0.        ]\n",
      " [0.         0.         0.         0.         0.         0.\n",
      "  0.         0.        ]\n",
      " [0.         0.33333333 0.33333333 0.         0.33333333 0.\n",
      "  0.         0.        ]\n",
      " [0.         0.         0.         0.         0.         0.\n",
      "  0.         0.        ]\n",
      " [0.         0.         0.         0.         0.         0.\n",
      "  0.         0.        ]\n",
      " [0.         0.         0.         0.         0.         0.\n",
      "  0.         0.        ]]\n",
      "\n"
     ]
    }
   ],
   "source": [
    "print(circuit(np.pi*np.random.randn(4)))\n",
    "print(circuit.draw())"
   ]
  },
  {
   "cell_type": "code",
   "execution_count": 232,
   "metadata": {},
   "outputs": [
    {
     "name": "stdout",
     "output_type": "stream",
     "text": [
      "Cost after step    10:  0.9873988\n",
      "Cost after step    20:  0.9852985\n",
      "Cost after step    30:  0.9827180\n",
      "Cost after step    40:  0.9794788\n",
      "Cost after step    50:  0.9753228\n",
      "Cost after step    60:  0.9698848\n",
      "Cost after step    70:  0.9626657\n",
      "Cost after step    80:  0.9530065\n",
      "Cost after step    90:  0.9400652\n",
      "Cost after step   100:  0.9227807\n",
      "Cost after step   110:  0.8997824\n",
      "Cost after step   120:  0.8691594\n",
      "Cost after step   130:  0.8279620\n",
      "Cost after step   140:  0.7713153\n",
      "Cost after step   150:  0.6913570\n",
      "Cost after step   160:  0.5778776\n",
      "Cost after step   170:  0.4268719\n",
      "Cost after step   180:  0.2607620\n",
      "Cost after step   190:  0.1277322\n",
      "Cost after step   200:  0.0523551\n",
      "Cost after step   210:  0.0193752\n",
      "Cost after step   220:  0.0068625\n",
      "Cost after step   230:  0.0024070\n",
      "Cost after step   240:  0.0008560\n",
      "Cost after step   250:  0.0003172\n",
      "Cost after step   260:  0.0001278\n",
      "Cost after step   270:  0.0000593\n",
      "Cost after step   280:  0.0000330\n",
      "Cost after step   290:  0.0000218\n",
      "Cost after step   300:  0.0000161\n",
      "Cost after step   310:  0.0000127\n",
      "Cost after step   320:  0.0000103\n",
      "Cost after step   330:  0.0000085\n",
      "Cost after step   340:  0.0000071\n",
      "Cost after step   350:  0.0000059\n",
      "Cost after step   360:  0.0000049\n",
      "Cost after step   370:  0.0000041\n",
      "Cost after step   380:  0.0000034\n",
      "Cost after step   390:  0.0000028\n",
      "Cost after step   400:  0.0000024\n",
      "Cost after step   410:  0.0000020\n",
      "Cost after step   420:  0.0000017\n",
      "Cost after step   430:  0.0000014\n",
      "Cost after step   440:  0.0000012\n",
      "Cost after step   450:  0.0000010\n",
      "Cost after step   460:  0.0000008\n",
      "Cost after step   470:  0.0000007\n",
      "Cost after step   480:  0.0000006\n",
      "Cost after step   490:  0.0000005\n",
      "Cost after step   500:  0.0000004\n"
     ]
    }
   ],
   "source": [
    "def loss(x):\n",
    "    return 1-circuit(x)\n",
    "\n",
    "opt = qml.GradientDescentOptimizer(stepsize=0.1)\n",
    "\n",
    "steps = 500\n",
    "params = np.pi*np.random.randn(4)\n",
    "\n",
    "for i in range(steps):\n",
    "    params = opt.step(loss, params)\n",
    "    if (i + 1) % 10 == 0:\n",
    "        print(\"Cost after step {:5d}: {: .7f}\".format(i + 1, loss(params)))"
   ]
  },
  {
   "cell_type": "code",
   "execution_count": 233,
   "metadata": {},
   "outputs": [
    {
     "data": {
      "text/plain": [
       "1000"
      ]
     },
     "execution_count": 233,
     "metadata": {},
     "output_type": "execute_result"
    }
   ],
   "source": [
    "dev.shots"
   ]
  },
  {
   "cell_type": "code",
   "execution_count": 236,
   "metadata": {},
   "outputs": [
    {
     "data": {
      "text/plain": [
       "array([-2.31419177e-03,  5.49757776e+00,  3.14314062e+00])"
      ]
     },
     "execution_count": 236,
     "metadata": {},
     "output_type": "execute_result"
    }
   ],
   "source": [
    "params[1:]"
   ]
  },
  {
   "cell_type": "code",
   "execution_count": 237,
   "metadata": {},
   "outputs": [
    {
     "data": {
      "text/plain": [
       "array([-2.31419177e-03,  5.49757776e+00,  3.14314062e+00])"
      ]
     },
     "execution_count": 237,
     "metadata": {},
     "output_type": "execute_result"
    }
   ],
   "source": []
  },
  {
   "cell_type": "code",
   "execution_count": null,
   "metadata": {},
   "outputs": [],
   "source": []
  }
 ],
 "metadata": {
  "kernelspec": {
   "display_name": "Python 3",
   "language": "python",
   "name": "python3"
  },
  "language_info": {
   "codemirror_mode": {
    "name": "ipython",
    "version": 3
   },
   "file_extension": ".py",
   "mimetype": "text/x-python",
   "name": "python",
   "nbconvert_exporter": "python",
   "pygments_lexer": "ipython3",
   "version": "3.6.9"
  }
 },
 "nbformat": 4,
 "nbformat_minor": 4
}
