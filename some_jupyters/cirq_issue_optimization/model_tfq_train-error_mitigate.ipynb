{
 "cells": [
  {
   "cell_type": "code",
   "execution_count": null,
   "metadata": {},
   "outputs": [],
   "source": []
  },
  {
   "cell_type": "code",
   "execution_count": 1,
   "metadata": {},
   "outputs": [],
   "source": [
    "import numpy as np\n",
    "import sympy\n",
    "import cirq\n",
    "import tensorflow as tf\n",
    "import tensorflow_quantum as tfq\n",
    "import matplotlib.pyplot as plt"
   ]
  },
  {
   "cell_type": "code",
   "execution_count": 15,
   "metadata": {},
   "outputs": [],
   "source": [
    "qubits = cirq.GridQubit.rect(1, 3)\n",
    "circuit = cirq.Circuit()\n",
    "symbols=[]\n",
    "for k in range(3):\n",
    "    circuit += cirq.I.on(qubits[k])    \n",
    "for k in range(2):\n",
    "    sy=sympy.Symbol(str(k))\n",
    "    symbols.append(str(k))\n",
    "    circuit += cirq.ry(sy)(qubits[k])\n"
   ]
  },
  {
   "cell_type": "code",
   "execution_count": 16,
   "metadata": {},
   "outputs": [
    {
     "data": {
      "text/html": [
       "<pre style=\"overflow: auto; white-space: pre;\">(0, 0): ───I───Ry(0)───\n",
       "\n",
       "(0, 1): ───I───Ry(1)───\n",
       "\n",
       "(0, 2): ───I───────────</pre>"
      ],
      "text/plain": [
       "(0, 0): ───I───Ry(0)───\n",
       "\n",
       "(0, 1): ───I───Ry(1)───\n",
       "\n",
       "(0, 2): ───I───────────"
      ]
     },
     "execution_count": 16,
     "metadata": {},
     "output_type": "execute_result"
    }
   ],
   "source": [
    "circuit"
   ]
  },
  {
   "cell_type": "code",
   "execution_count": 17,
   "metadata": {},
   "outputs": [],
   "source": [
    "ops = tfq.convert_to_tensor([[cirq.Z(qubits[2])]])"
   ]
  },
  {
   "cell_type": "code",
   "execution_count": 18,
   "metadata": {},
   "outputs": [],
   "source": [
    "circuit_inputs = tf.keras.Input(shape=(), dtype=tf.dtypes.string)\n",
    "expectation = tfq.layers.Expectation()(\n",
    "        circuit_inputs,\n",
    "        symbol_names = symbols,\n",
    "        operators = ops\n",
    "        )"
   ]
  },
  {
   "cell_type": "code",
   "execution_count": 19,
   "metadata": {},
   "outputs": [],
   "source": [
    "model = tf.keras.Model(inputs = circuit_inputs, outputs=expectation)\n",
    "model.compile(\n",
    "    optimizer=tf.keras.optimizers.Adam(learning_rate=0.01),\n",
    "    loss=tf.keras.losses.mean_squared_error)"
   ]
  },
  {
   "cell_type": "code",
   "execution_count": 20,
   "metadata": {},
   "outputs": [
    {
     "data": {
      "text/plain": [
       "<tf.Tensor: shape=(1, 1), dtype=float32, numpy=array([[0.9999999]], dtype=float32)>"
      ]
     },
     "execution_count": 20,
     "metadata": {},
     "output_type": "execute_result"
    }
   ],
   "source": [
    "model(tfq.convert_to_tensor([circuit]))"
   ]
  },
  {
   "cell_type": "code",
   "execution_count": 21,
   "metadata": {},
   "outputs": [],
   "source": [
    "desired_outputs = tf.ones((1,2))*.5"
   ]
  },
  {
   "cell_type": "code",
   "execution_count": 22,
   "metadata": {},
   "outputs": [],
   "source": [
    "@tf.function\n",
    "def step():\n",
    "    with tf.GradientTape() as tape:\n",
    "        tape.watch(model.trainable_variables)\n",
    "        preds = model(tfq.convert_to_tensor([circuit]))\n",
    "        loss = model.loss(desired_outputs, preds)\n",
    "        grads = tape.gradient(loss, model.trainable_variables)\n",
    "        model.optimizer.apply_gradients(zip(grads, model.trainable_variables))\n",
    "        return loss\n",
    "    \n",
    "#@tf.function\n",
    "def step1():\n",
    "    with tf.GradientTape() as tape:\n",
    "        tape.watch(model.trainable_variables)\n",
    "        preds = model(tfq.convert_to_tensor([circuit]))\n",
    "        loss = model.loss(desired_outputs, preds)\n",
    "        grads = tape.gradient(loss, model.trainable_variables)\n",
    "        model.optimizer.apply_gradients(zip(grads, model.trainable_variables))\n",
    "        return loss"
   ]
  },
  {
   "cell_type": "code",
   "execution_count": 24,
   "metadata": {},
   "outputs": [],
   "source": [
    "ll = []\n",
    "for k in range(1000):\n",
    "    ll.append(step().numpy()[0])"
   ]
  },
  {
   "cell_type": "code",
   "execution_count": 25,
   "metadata": {},
   "outputs": [
    {
     "data": {
      "text/plain": [
       "[<matplotlib.lines.Line2D at 0x7fa78b6221d0>]"
      ]
     },
     "execution_count": 25,
     "metadata": {},
     "output_type": "execute_result"
    },
    {
     "data": {
      "image/png": "[encoded data removed]",
      "text/plain": [
       "<Figure size 432x288 with 1 Axes>"
      ]
     },
     "metadata": {
      "needs_background": "light"
     },
     "output_type": "display_data"
    }
   ],
   "source": [
    "plt.plot(ll)"
   ]
  },
  {
   "cell_type": "code",
   "execution_count": 26,
   "metadata": {},
   "outputs": [
    {
     "data": {
      "text/plain": [
       "measurements: (no measurements)\n",
       "output vector: -0.364|000⟩ - 0.094|010⟩ + 0.897|100⟩ + 0.232|110⟩"
      ]
     },
     "execution_count": 26,
     "metadata": {},
     "output_type": "execute_result"
    }
   ],
   "source": [
    "resolver = {k: v for k, v in zip(symbols, model.get_weights()[0])}\n",
    "simulator = cirq.Simulator()\n",
    "simulator.simulate(cirq.resolve_parameters(circuit,resolver))"
   ]
  },
  {
   "cell_type": "code",
   "execution_count": 27,
   "metadata": {},
   "outputs": [
    {
     "data": {
      "text/plain": [
       "<tf.Tensor: shape=(1, 1), dtype=float32, numpy=array([[1.]], dtype=float32)>"
      ]
     },
     "execution_count": 27,
     "metadata": {},
     "output_type": "execute_result"
    }
   ],
   "source": [
    "la = tfq.convert_to_tensor([cirq.resolve_parameters(circuit,resolver)])\n",
    "tfq.layers.Expectation()(la, operators= ops)"
   ]
  },
  {
   "cell_type": "code",
   "execution_count": null,
   "metadata": {},
   "outputs": [],
   "source": []
  }
 ],
 "metadata": {
  "kernelspec": {
   "display_name": "Python 3",
   "language": "python",
   "name": "python3"
  },
  "language_info": {
   "codemirror_mode": {
    "name": "ipython",
    "version": 3
   },
   "file_extension": ".py",
   "mimetype": "text/x-python",
   "name": "python",
   "nbconvert_exporter": "python",
   "pygments_lexer": "ipython3",
   "version": "3.6.9"
  }
 },
 "nbformat": 4,
 "nbformat_minor": 4
}
