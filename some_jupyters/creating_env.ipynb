{
 "cells": [
  {
   "cell_type": "code",
   "execution_count": 26,
   "metadata": {},
   "outputs": [],
   "source": [
    "import numpy as np\n",
    "import pennylane as qml\n",
    "import pickle\n",
    "\n",
    "\n",
    "def projector(ket):\n",
    "    ket = np.expand_dims(ket, 1)\n",
    "    proj = ket.dot(ket.conjugate().T)\n",
    "    return proj\n",
    "\n",
    "\n",
    "\n",
    "\n",
    "class PennylaneSolver:\n",
    "    def __init__(self, n_qubits=3, observable=None):\n",
    "        self.n_qubits = n_qubits\n",
    "        self.observable = observable\n",
    "        self.circuit = None\n",
    "\n",
    "        self.dev = qml.device(\"default.qubit\", wires=n_qubits)\n",
    "        self.current_cont_params = []\n",
    "        \n",
    "        with open('alphabet_w.pickle', 'rb') as alphabet:\n",
    "            self.alphabet = pickle.load(alphabet)\n",
    "\n",
    "        if observable is None:  # then take projector on W state\n",
    "            sq = 1 / np.sqrt(3)\n",
    "            w_state = np.array([0, sq, sq, 0, sq, 0, 0, 0])\n",
    "            self.observable = qml.Hermitian(projector(w_state), wires=[0, 1, 2])\n",
    "\n",
    "    def append_gate(self, index):\n",
    "        if \"params\" in list(self.alphabet[str(index)].keys()):\n",
    "            params = self.alphabet[str(index)][\"params\"]\n",
    "            self.current_cont_params.append(params)\n",
    "            if self.alphabet[str(index)][\"gate\"] == qml.Rot:\n",
    "                return self.alphabet[str(index)][\"gate\"](params[0], params[1], params[2], wires=self.alphabet[str(index)][\"wires\"])\n",
    "            else:\n",
    "                return self.alphabet[str(index)][\"gate\"](params[0], wires=self.alphabet[str(index)][\"wires\"])\n",
    "        else:\n",
    "            return self.alphabet[str(index)][\"gate\"](wires=self.alphabet[str(index)][\"wires\"])\n",
    "            \n",
    "    def run_circuit(self, list_ops, parameters):\n",
    "        def circuit():\n",
    "            for op in list_ops:\n",
    "                append_gate(self.alphabet, int(op))\n",
    "\n",
    "        @qml.qnode(device=self.dev)\n",
    "        def circuit_probs():\n",
    "            circuit()\n",
    "            return qml.probs(wires=list(range(self.n_qubits)))\n",
    "\n",
    "        @qml.qnode(device=self.dev)\n",
    "        def circuit_obs(parameters):\n",
    "            circuit()\n",
    "            return qml.expval(self.observable)\n",
    "\n",
    "        energy = circuit_obs()\n",
    "        probs = circuit_probs()\n",
    "\n",
    "    \n",
    "        return energy, probs\n"
   ]
  },
  {
   "cell_type": "code",
   "execution_count": 27,
   "metadata": {},
   "outputs": [],
   "source": []
  },
  {
   "cell_type": "code",
   "execution_count": null,
   "metadata": {},
   "outputs": [],
   "source": []
  },
  {
   "cell_type": "code",
   "execution_count": null,
   "metadata": {},
   "outputs": [],
   "source": []
  },
  {
   "cell_type": "code",
   "execution_count": 2,
   "metadata": {},
   "outputs": [
    {
     "name": "stdout",
     "output_type": "stream",
     "text": [
      "0.0189483167302114 [0.00000000e+00 3.33589945e-01 5.65603238e-07 0.00000000e+00\n",
      " 6.66409207e-01 0.00000000e+00 0.00000000e+00 2.83128671e-07]\n"
     ]
    }
   ],
   "source": [
    "\n",
    "energy, probs = solver.run_circuit([0, 1, 2, 3, 4, 5, 6, 7])\n",
    "\n",
    "print(energy, probs)\n"
   ]
  },
  {
   "cell_type": "code",
   "execution_count": 4,
   "metadata": {},
   "outputs": [],
   "source": [
    "list_ops = [0, 1, 2, 3, 4, 5, 6, 7]\n",
    "def circuit():\n",
    "    for op in list_ops:\n",
    "        append_gate(solver.alphabet, int(op))\n",
    "\n",
    "@qml.qnode(device=solver.dev)\n",
    "def circuit_probs():\n",
    "    circuit()\n",
    "    return qml.probs(wires=list(range(solver.n_qubits)))\n",
    "\n",
    "@qml.qnode(device=solver.dev)\n",
    "def circuit_obs():\n",
    "    circuit()\n",
    "    return qml.expval(solver.observable)\n",
    "\n",
    "energy = circuit_obs()\n",
    "probs = circuit_probs()\n"
   ]
  },
  {
   "cell_type": "code",
   "execution_count": 10,
   "metadata": {},
   "outputs": [],
   "source": [
    "ff = circuit_probs()"
   ]
  },
  {
   "cell_type": "code",
   "execution_count": 24,
   "metadata": {},
   "outputs": [
    {
     "ename": "AttributeError",
     "evalue": "'function' object has no attribute 'numpy'",
     "output_type": "error",
     "traceback": [
      "\u001b[0;31m---------------------------------------------------------------------------\u001b[0m",
      "\u001b[0;31mAttributeError\u001b[0m                            Traceback (most recent call last)",
      "\u001b[0;32m<ipython-input-24-d5b8c24b3ed0>\u001b[0m in \u001b[0;36m<module>\u001b[0;34m\u001b[0m\n\u001b[0;32m----> 1\u001b[0;31m \u001b[0mcircuit_probs\u001b[0m\u001b[0;34m.\u001b[0m\u001b[0mto_tf\u001b[0m\u001b[0;34m.\u001b[0m\u001b[0mnumpy\u001b[0m\u001b[0;34m(\u001b[0m\u001b[0;34m)\u001b[0m\u001b[0;34m\u001b[0m\u001b[0;34m\u001b[0m\u001b[0m\n\u001b[0m",
      "\u001b[0;31mAttributeError\u001b[0m: 'function' object has no attribute 'numpy'"
     ]
    }
   ],
   "source": [
    "circuit_probs"
   ]
  },
  {
   "cell_type": "code",
   "execution_count": null,
   "metadata": {},
   "outputs": [],
   "source": [
    "import numpy as np\n",
    "import pennylane as qml\n",
    "import pickle\n",
    "\n",
    "\n",
    "def projector(ket):\n",
    "    ket = np.expand_dims(ket, 1)\n",
    "    proj = ket.dot(ket.conjugate().T)\n",
    "    return proj\n",
    "\n",
    "\n",
    "def append_gate(alphabet, index):\n",
    "    if \"params\" in list(alphabet[str(index)].keys()):\n",
    "        if alphabet[str(index)][\"gate\"] == qml.Rot:\n",
    "            params = alphabet[str(index)][\"params\"]\n",
    "            return alphabet[str(index)][\"gate\"](params[0], params[1], params[2], wires=alphabet[str(index)][\"wires\"])\n",
    "        else:\n",
    "            return alphabet[str(index)][\"gate\"](alphabet[str(index)][\"params\"][0], wires=alphabet[str(index)][\"wires\"])\n",
    "    else:\n",
    "        return alphabet[str(index)][\"gate\"](wires=alphabet[str(index)][\"wires\"])\n",
    "\n"
   ]
  },
  {
   "cell_type": "code",
   "execution_count": null,
   "metadata": {},
   "outputs": [],
   "source": []
  },
  {
   "cell_type": "code",
   "execution_count": null,
   "metadata": {},
   "outputs": [],
   "source": [
    "\n",
    "class PennylaneSolver:\n",
    "    def __init__(self, n_qubits=3, observable=None):\n",
    "        self.n_qubits = n_qubits\n",
    "        self.observable = observable\n",
    "        self.circuit = None\n",
    "\n",
    "        self.dev = qml.device(\"default.qubit\", wires=n_qubits)\n",
    "\n",
    "        with open('alphabet_w.pickle', 'rb') as alphabet:\n",
    "            self.alphabet = pickle.load(alphabet)\n",
    "\n",
    "        if observable is None:  # then take projector on W state\n",
    "            sq = 1 / np.sqrt(3)\n",
    "            w_state = np.array([0, sq, sq, 0, sq, 0, 0, 0])\n",
    "            self.observable = qml.Hermitian(projector(w_state), wires=[0, 1, 2])\n",
    "\n",
    "    def run_circuit(self, list_ops):\n",
    "        def circuit():\n",
    "            for op in list_ops:\n",
    "                append_gate(self.alphabet, int(op))\n",
    "\n",
    "        @qml.qnode(device=self.dev)\n",
    "        def circuit_probs():\n",
    "            circuit()\n",
    "            return qml.probs(wires=list(range(self.n_qubits)))\n",
    "\n",
    "        @qml.qnode(device=self.dev)\n",
    "        def circuit_obs():\n",
    "            circuit()\n",
    "            return qml.expval(self.observable)\n",
    "\n",
    "        energy = circuit_obs()\n",
    "        probs = circuit_probs()\n",
    "\n",
    "        return energy, probs\n",
    "\n",
    "\n",
    "\n"
   ]
  },
  {
   "cell_type": "code",
   "execution_count": null,
   "metadata": {},
   "outputs": [],
   "source": []
  },
  {
   "cell_type": "code",
   "execution_count": null,
   "metadata": {},
   "outputs": [],
   "source": []
  }
 ],
 "metadata": {
  "kernelspec": {
   "display_name": "Python 3",
   "language": "python",
   "name": "python3"
  },
  "language_info": {
   "codemirror_mode": {
    "name": "ipython",
    "version": 3
   },
   "file_extension": ".py",
   "mimetype": "text/x-python",
   "name": "python",
   "nbconvert_exporter": "python",
   "pygments_lexer": "ipython3",
   "version": "3.6.9"
  }
 },
 "nbformat": 4,
 "nbformat_minor": 4
}
