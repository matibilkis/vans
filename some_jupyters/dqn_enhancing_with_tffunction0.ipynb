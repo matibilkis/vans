{
 "cells": [
  {
   "cell_type": "code",
   "execution_count": 23,
   "metadata": {},
   "outputs": [
    {
     "name": "stderr",
     "output_type": "stream",
     "text": [
      "  0%|          | 4/2999 [00:00<09:06,  5.48it/s]"
     ]
    },
    {
     "name": "stdout",
     "output_type": "stream",
     "text": [
      "WARNING:tensorflow:5 out of the last 5 calls to <function step at 0x7fea26e49b70> triggered tf.function retracing. Tracing is expensive and the excessive number of tracings is likely due to passing python objects instead of tensors. Also, tf.function has experimental_relax_shapes=True option that relaxes argument shapes that can avoid unnecessary retracing. Please refer to https://www.tensorflow.org/tutorials/customization/performance#python_or_tensor_args and https://www.tensorflow.org/api_docs/python/tf/function for more details.\n"
     ]
    },
    {
     "name": "stderr",
     "output_type": "stream",
     "text": [
      "WARNING:tensorflow:5 out of the last 5 calls to <function step at 0x7fea26e49b70> triggered tf.function retracing. Tracing is expensive and the excessive number of tracings is likely due to passing python objects instead of tensors. Also, tf.function has experimental_relax_shapes=True option that relaxes argument shapes that can avoid unnecessary retracing. Please refer to https://www.tensorflow.org/tutorials/customization/performance#python_or_tensor_args and https://www.tensorflow.org/api_docs/python/tf/function for more details.\n",
      "  0%|          | 5/2999 [00:00<08:09,  6.11it/s]"
     ]
    },
    {
     "name": "stdout",
     "output_type": "stream",
     "text": [
      "WARNING:tensorflow:6 out of the last 6 calls to <function step at 0x7fea26e49b70> triggered tf.function retracing. Tracing is expensive and the excessive number of tracings is likely due to passing python objects instead of tensors. Also, tf.function has experimental_relax_shapes=True option that relaxes argument shapes that can avoid unnecessary retracing. Please refer to https://www.tensorflow.org/tutorials/customization/performance#python_or_tensor_args and https://www.tensorflow.org/api_docs/python/tf/function for more details.\n"
     ]
    },
    {
     "name": "stderr",
     "output_type": "stream",
     "text": [
      "WARNING:tensorflow:6 out of the last 6 calls to <function step at 0x7fea26e49b70> triggered tf.function retracing. Tracing is expensive and the excessive number of tracings is likely due to passing python objects instead of tensors. Also, tf.function has experimental_relax_shapes=True option that relaxes argument shapes that can avoid unnecessary retracing. Please refer to https://www.tensorflow.org/tutorials/customization/performance#python_or_tensor_args and https://www.tensorflow.org/api_docs/python/tf/function for more details.\n",
      "  0%|          | 6/2999 [00:00<07:57,  6.27it/s]"
     ]
    },
    {
     "name": "stdout",
     "output_type": "stream",
     "text": [
      "WARNING:tensorflow:7 out of the last 7 calls to <function step at 0x7fea26e49b70> triggered tf.function retracing. Tracing is expensive and the excessive number of tracings is likely due to passing python objects instead of tensors. Also, tf.function has experimental_relax_shapes=True option that relaxes argument shapes that can avoid unnecessary retracing. Please refer to https://www.tensorflow.org/tutorials/customization/performance#python_or_tensor_args and https://www.tensorflow.org/api_docs/python/tf/function for more details.\n"
     ]
    },
    {
     "name": "stderr",
     "output_type": "stream",
     "text": [
      "WARNING:tensorflow:7 out of the last 7 calls to <function step at 0x7fea26e49b70> triggered tf.function retracing. Tracing is expensive and the excessive number of tracings is likely due to passing python objects instead of tensors. Also, tf.function has experimental_relax_shapes=True option that relaxes argument shapes that can avoid unnecessary retracing. Please refer to https://www.tensorflow.org/tutorials/customization/performance#python_or_tensor_args and https://www.tensorflow.org/api_docs/python/tf/function for more details.\n",
      "  0%|          | 7/2999 [00:01<07:58,  6.25it/s]"
     ]
    },
    {
     "name": "stdout",
     "output_type": "stream",
     "text": [
      "WARNING:tensorflow:8 out of the last 8 calls to <function step at 0x7fea26e49b70> triggered tf.function retracing. Tracing is expensive and the excessive number of tracings is likely due to passing python objects instead of tensors. Also, tf.function has experimental_relax_shapes=True option that relaxes argument shapes that can avoid unnecessary retracing. Please refer to https://www.tensorflow.org/tutorials/customization/performance#python_or_tensor_args and https://www.tensorflow.org/api_docs/python/tf/function for more details.\n"
     ]
    },
    {
     "name": "stderr",
     "output_type": "stream",
     "text": [
      "WARNING:tensorflow:8 out of the last 8 calls to <function step at 0x7fea26e49b70> triggered tf.function retracing. Tracing is expensive and the excessive number of tracings is likely due to passing python objects instead of tensors. Also, tf.function has experimental_relax_shapes=True option that relaxes argument shapes that can avoid unnecessary retracing. Please refer to https://www.tensorflow.org/tutorials/customization/performance#python_or_tensor_args and https://www.tensorflow.org/api_docs/python/tf/function for more details.\n",
      "100%|██████████| 2999/2999 [01:49<00:00, 27.41it/s]\n"
     ]
    }
   ],
   "source": [
    "import tensorflow as tf\n",
    "from tensorflow.keras.layers import Dense\n",
    "import numpy as np\n",
    "import warnings\n",
    "from collections import deque\n",
    "import random\n",
    "from vans_gym.envs import VansEnv\n",
    "from vans_gym.solvers import PennylaneSolver\n",
    "import matplotlib.pyplot as plt\n",
    "from tqdm import tqdm as tqdm\n",
    "\n",
    "\n",
    "warnings.filterwarnings('ignore')\n",
    "\n",
    "class Critic(tf.keras.Model):\n",
    "    def __init__(self,tau=0.01, seed_val = 0.05):\n",
    "        super(Critic,self).__init__()\n",
    "\n",
    "        self.tau = tau\n",
    "        self.l1 = Dense(30,kernel_initializer=tf.random_uniform_initializer(minval=-seed_val, maxval=seed_val),\n",
    "        bias_initializer = tf.random_uniform_initializer(minval=-seed_val, maxval=seed_val))\n",
    "        \n",
    "        self.l2 = Dense(30,kernel_initializer=tf.random_uniform_initializer(minval=-seed_val, maxval=seed_val),\n",
    "        bias_initializer = tf.random_uniform_initializer(minval=-seed_val, maxval=seed_val))\n",
    "\n",
    "        \n",
    "        self.l3 = Dense(8, kernel_initializer=tf.random_uniform_initializer(minval=-seed_val, maxval=seed_val),\n",
    "                        bias_initializer = tf.random_uniform_initializer(minval=-seed_val, maxval=seed_val)) #n_actions in the alphabet\n",
    "\n",
    "\n",
    "\n",
    "    def update_target_parameters(self,primary_net):\n",
    "        prim_weights = primary_net.get_weights()\n",
    "        targ_weights = self.get_weights()\n",
    "        weights = []\n",
    "        for i in tf.range(len(prim_weights)):\n",
    "            weights.append(self.tau * prim_weights[i] + (1 - self.tau) * targ_weights[i])\n",
    "        self.set_weights(weights)\n",
    "        return\n",
    "\n",
    "    def give_action(self,state, ep=0.01, more_states=1):\n",
    "        if np.random.random() < ep:\n",
    "            random_action = np.random.choice(range(8))\n",
    "            return random_action\n",
    "        else:\n",
    "            qvals = np.squeeze(self(tf.expand_dims(state, axis=0)))\n",
    "            action_gredy = np.random.choice(np.where(qvals == np.max(qvals))[0])\n",
    "            return action_gredy\n",
    "\n",
    "    def call(self, inputs):\n",
    "        feat = tf.nn.relu(self.l1(inputs))\n",
    "        feat = tf.nn.relu(self.l2(feat))\n",
    "        feat = tf.nn.tanh(self.l3(feat))\n",
    "        return feat\n",
    "\n",
    "\n",
    "\n",
    "class ReplayBuffer():\n",
    "    def __init__(self, buffer_size=10**3):\n",
    "        self.buffer_size = buffer_size\n",
    "        self.count = 0\n",
    "        self.buffer = deque()\n",
    "\n",
    "    def add(self, experience):\n",
    "        if not isinstance(experience, tuple):\n",
    "            raise ValueError(\"buffer wants tuples!\")\n",
    "        if self.count < self.buffer_size:\n",
    "            self.buffer.append(experience)\n",
    "            self.count += 1\n",
    "        else:\n",
    "            self.buffer.popleft()\n",
    "            self.buffer.append(experience)\n",
    "\n",
    "    def size(self):\n",
    "        return self.count\n",
    "\n",
    "    def sample(self, batch_size):\n",
    "        batch = []\n",
    "        if self.count < batch_size:\n",
    "            batch = random.sample(self.buffer, self.count)\n",
    "        else:\n",
    "            batch = random.sample(self.buffer, int(batch_size))\n",
    "        return batch\n",
    "\n",
    "    def clear(self):\n",
    "        self.buffer.clear()\n",
    "        self.count = 0\n",
    "\n",
    "\n",
    "\n",
    "\n",
    "buffer = ReplayBuffer()\n",
    "critic = Critic()\n",
    "critic_target = Critic(tau=0.01)\n",
    "solver = PennylaneSolver(3, combinatorial_only=True)\n",
    "\n",
    "env = VansEnv(solver, 8, mdp_length=2, state_as_sequence=True, printing=False)\n",
    "\n",
    "\n",
    "buffer = ReplayBuffer()\n",
    "critic = Critic(seed_val=.5)\n",
    "n_qubits = 3\n",
    "solver = PennylaneSolver(n_qubits, combinatorial_only=True)\n",
    "optimizer = tf.keras.optimizers.Adam(lr=0.0001)\n",
    "\n",
    "@tf.function\n",
    "def step(labels,states):\n",
    "    with tf.GradientTape() as tape:\n",
    "        tape.watch(critic.trainable_variables)\n",
    "        qpreds = critic(states)\n",
    "        loss = tf.reduce_mean(tf.keras.losses.MSE(labels,qpreds))\n",
    "        grads = tape.gradient(loss, critic.trainable_variables)\n",
    "    optimizer.apply_gradients(zip(grads, critic.trainable_variables))\n",
    "    return loss\n",
    "\n",
    "#this is written very cumbersome since I tried to use @tf.function, but in the end i'm not using it here\n",
    "#since i get an error when sweeping the actions.\n",
    "def give_labels(critic, buffer, batch_size=16):\n",
    "    batch = buffer.sample(batch_size)\n",
    "    states, actions, next_states, rewards, dones = np.transpose(batch)\n",
    "    rws = tf.convert_to_tensor(rewards.astype(np.float32))\n",
    "    nextq = tf.math.reduce_max(critic_target(tf.stack(next_states)), axis=1)\n",
    "    states = tf.stack(states)\n",
    "    dones = tf.constant(list(dones))\n",
    "\n",
    "    labels = critic(states)\n",
    "    tst=[]\n",
    "    for ind, ac_ind in enumerate(actions):\n",
    "        pts = tf.unstack(tf.unstack(labels)[ind])\n",
    "        if dones[ind] == True:\n",
    "            pts[ac_ind] = rws[ind]\n",
    "        else:\n",
    "            pts[ac_ind] = nextq[ind]\n",
    "        pts = tf.stack(pts)\n",
    "        tst.append(pts)\n",
    "    labels = tf.stack(tst, axis=0)\n",
    "    return labels,tf.stack(states)\n",
    "\n",
    "env = VansEnv(solver, 8, mdp_length=2, state_as_sequence=True, printing=False)\n",
    "\n",
    "r=[]\n",
    "pt=[]\n",
    "cumre=0\n",
    "episodes = np.arange(1,3000,1)\n",
    "tt = .75*len(episodes)/np.log(1/0.05)\n",
    "def schedule(k):\n",
    "    if k< 10:\n",
    "        return 1\n",
    "    else:\n",
    "        return max(0.1, np.exp(-k/tt))\n",
    "lhist=[]\n",
    "for k in tqdm(episodes):\n",
    "    state = env.reset()\n",
    "    done = False\n",
    "    while not done:\n",
    "        action = critic.give_action(state, ep=schedule(k))\n",
    "        next_state, reward, done, info = env.step(action)\n",
    "        buffer.add((state, action, next_state, reward, done))\n",
    "        state = next_state\n",
    "    cumre+=reward\n",
    "    r.append(cumre)\n",
    "\n",
    "    state = env.reset()\n",
    "    done = False\n",
    "    while not done:\n",
    "        action = critic.give_action(state, ep=0)\n",
    "        next_state, reward, done, info = env.step(action)\n",
    "        state = next_state\n",
    "\n",
    "    labels,states = give_labels(critic, buffer)\n",
    "    l=step(labels,states)\n",
    "    lhist.append(l.numpy())\n",
    "    critic_target.update_target_parameters(critic)\n",
    "\n",
    "    pt.append(reward)\n",
    "    \n"
   ]
  },
  {
   "cell_type": "code",
   "execution_count": 24,
   "metadata": {},
   "outputs": [
    {
     "data": {
      "text/plain": [
       "[<matplotlib.lines.Line2D at 0x7fea1eb40e48>]"
      ]
     },
     "execution_count": 24,
     "metadata": {},
     "output_type": "execute_result"
    },
    {
     "data": {
      "image/png": "[encoded data removed]",
      "text/plain": [
       "<Figure size 432x288 with 1 Axes>"
      ]
     },
     "metadata": {
      "needs_background": "light"
     },
     "output_type": "display_data"
    }
   ],
   "source": [
    "plt.plot(r/episodes)"
   ]
  },
  {
   "cell_type": "code",
   "execution_count": 25,
   "metadata": {},
   "outputs": [
    {
     "data": {
      "text/plain": [
       "[<matplotlib.lines.Line2D at 0x7fea1eb34898>]"
      ]
     },
     "execution_count": 25,
     "metadata": {},
     "output_type": "execute_result"
    },
    {
     "data": {
      "image/png": "[encoded data removed]",
      "text/plain": [
       "<Figure size 432x288 with 1 Axes>"
      ]
     },
     "metadata": {
      "needs_background": "light"
     },
     "output_type": "display_data"
    }
   ],
   "source": [
    "plt.plot(pt)"
   ]
  },
  {
   "cell_type": "code",
   "execution_count": 26,
   "metadata": {},
   "outputs": [],
   "source": [
    "state = env.reset()\n",
    "done = False\n",
    "while not done:\n",
    "    action = critic.give_action(state, ep=0)\n",
    "    next_state, reward, done, info = env.step(action)\n",
    "    state = next_state\n"
   ]
  },
  {
   "cell_type": "code",
   "execution_count": 28,
   "metadata": {},
   "outputs": [
    {
     "data": {
      "text/plain": [
       "array([0., 1., 2., 3., 4., 5., 4., 5., 6.], dtype=float32)"
      ]
     },
     "execution_count": 28,
     "metadata": {},
     "output_type": "execute_result"
    }
   ],
   "source": [
    "state*8"
   ]
  },
  {
   "cell_type": "code",
   "execution_count": null,
   "metadata": {},
   "outputs": [],
   "source": []
  },
  {
   "cell_type": "code",
   "execution_count": null,
   "metadata": {},
   "outputs": [],
   "source": []
  },
  {
   "cell_type": "code",
   "execution_count": null,
   "metadata": {},
   "outputs": [],
   "source": []
  },
  {
   "cell_type": "code",
   "execution_count": null,
   "metadata": {},
   "outputs": [],
   "source": []
  },
  {
   "cell_type": "code",
   "execution_count": 29,
   "metadata": {},
   "outputs": [
    {
     "name": "stderr",
     "output_type": "stream",
     "text": [
      "  0%|          | 4/2999 [00:00<09:00,  5.54it/s]"
     ]
    },
    {
     "name": "stdout",
     "output_type": "stream",
     "text": [
      "WARNING:tensorflow:5 out of the last 5 calls to <function step at 0x7fea1eaec488> triggered tf.function retracing. Tracing is expensive and the excessive number of tracings is likely due to passing python objects instead of tensors. Also, tf.function has experimental_relax_shapes=True option that relaxes argument shapes that can avoid unnecessary retracing. Please refer to https://www.tensorflow.org/tutorials/customization/performance#python_or_tensor_args and https://www.tensorflow.org/api_docs/python/tf/function for more details.\n"
     ]
    },
    {
     "name": "stderr",
     "output_type": "stream",
     "text": [
      "WARNING:tensorflow:5 out of the last 5 calls to <function step at 0x7fea1eaec488> triggered tf.function retracing. Tracing is expensive and the excessive number of tracings is likely due to passing python objects instead of tensors. Also, tf.function has experimental_relax_shapes=True option that relaxes argument shapes that can avoid unnecessary retracing. Please refer to https://www.tensorflow.org/tutorials/customization/performance#python_or_tensor_args and https://www.tensorflow.org/api_docs/python/tf/function for more details.\n",
      "  0%|          | 5/2999 [00:00<08:27,  5.90it/s]"
     ]
    },
    {
     "name": "stdout",
     "output_type": "stream",
     "text": [
      "WARNING:tensorflow:6 out of the last 6 calls to <function step at 0x7fea1eaec488> triggered tf.function retracing. Tracing is expensive and the excessive number of tracings is likely due to passing python objects instead of tensors. Also, tf.function has experimental_relax_shapes=True option that relaxes argument shapes that can avoid unnecessary retracing. Please refer to https://www.tensorflow.org/tutorials/customization/performance#python_or_tensor_args and https://www.tensorflow.org/api_docs/python/tf/function for more details.\n"
     ]
    },
    {
     "name": "stderr",
     "output_type": "stream",
     "text": [
      "WARNING:tensorflow:6 out of the last 6 calls to <function step at 0x7fea1eaec488> triggered tf.function retracing. Tracing is expensive and the excessive number of tracings is likely due to passing python objects instead of tensors. Also, tf.function has experimental_relax_shapes=True option that relaxes argument shapes that can avoid unnecessary retracing. Please refer to https://www.tensorflow.org/tutorials/customization/performance#python_or_tensor_args and https://www.tensorflow.org/api_docs/python/tf/function for more details.\n",
      "  0%|          | 6/2999 [00:00<08:27,  5.89it/s]"
     ]
    },
    {
     "name": "stdout",
     "output_type": "stream",
     "text": [
      "WARNING:tensorflow:7 out of the last 7 calls to <function step at 0x7fea1eaec488> triggered tf.function retracing. Tracing is expensive and the excessive number of tracings is likely due to passing python objects instead of tensors. Also, tf.function has experimental_relax_shapes=True option that relaxes argument shapes that can avoid unnecessary retracing. Please refer to https://www.tensorflow.org/tutorials/customization/performance#python_or_tensor_args and https://www.tensorflow.org/api_docs/python/tf/function for more details.\n"
     ]
    },
    {
     "name": "stderr",
     "output_type": "stream",
     "text": [
      "WARNING:tensorflow:7 out of the last 7 calls to <function step at 0x7fea1eaec488> triggered tf.function retracing. Tracing is expensive and the excessive number of tracings is likely due to passing python objects instead of tensors. Also, tf.function has experimental_relax_shapes=True option that relaxes argument shapes that can avoid unnecessary retracing. Please refer to https://www.tensorflow.org/tutorials/customization/performance#python_or_tensor_args and https://www.tensorflow.org/api_docs/python/tf/function for more details.\n",
      "  0%|          | 7/2999 [00:01<08:26,  5.91it/s]"
     ]
    },
    {
     "name": "stdout",
     "output_type": "stream",
     "text": [
      "WARNING:tensorflow:8 out of the last 8 calls to <function step at 0x7fea1eaec488> triggered tf.function retracing. Tracing is expensive and the excessive number of tracings is likely due to passing python objects instead of tensors. Also, tf.function has experimental_relax_shapes=True option that relaxes argument shapes that can avoid unnecessary retracing. Please refer to https://www.tensorflow.org/tutorials/customization/performance#python_or_tensor_args and https://www.tensorflow.org/api_docs/python/tf/function for more details.\n"
     ]
    },
    {
     "name": "stderr",
     "output_type": "stream",
     "text": [
      "WARNING:tensorflow:8 out of the last 8 calls to <function step at 0x7fea1eaec488> triggered tf.function retracing. Tracing is expensive and the excessive number of tracings is likely due to passing python objects instead of tensors. Also, tf.function has experimental_relax_shapes=True option that relaxes argument shapes that can avoid unnecessary retracing. Please refer to https://www.tensorflow.org/tutorials/customization/performance#python_or_tensor_args and https://www.tensorflow.org/api_docs/python/tf/function for more details.\n",
      "100%|██████████| 2999/2999 [01:41<00:00, 29.53it/s]\n"
     ]
    }
   ],
   "source": [
    "import tensorflow as tf\n",
    "from tensorflow.keras.layers import Dense\n",
    "import numpy as np\n",
    "import warnings\n",
    "from collections import deque\n",
    "import random\n",
    "from vans_gym.envs import VansEnv\n",
    "from vans_gym.solvers import PennylaneSolver\n",
    "import matplotlib.pyplot as plt\n",
    "from tqdm import tqdm as tqdm\n",
    "\n",
    "\n",
    "warnings.filterwarnings('ignore')\n",
    "\n",
    "class Critic(tf.keras.Model):\n",
    "    def __init__(self,tau=0.01, seed_val = 0.05):\n",
    "        super(Critic,self).__init__()\n",
    "\n",
    "        self.tau = tau\n",
    "        self.l1 = Dense(60,kernel_initializer=tf.random_uniform_initializer(minval=-seed_val, maxval=seed_val),\n",
    "        bias_initializer = tf.random_uniform_initializer(minval=-seed_val, maxval=seed_val))\n",
    "        \n",
    "        self.l2 = Dense(60,kernel_initializer=tf.random_uniform_initializer(minval=-seed_val, maxval=seed_val),\n",
    "        bias_initializer = tf.random_uniform_initializer(minval=-seed_val, maxval=seed_val))\n",
    "\n",
    "        \n",
    "        self.l3 = Dense(8, kernel_initializer=tf.random_uniform_initializer(minval=-seed_val, maxval=seed_val),\n",
    "                        bias_initializer = tf.random_uniform_initializer(minval=-seed_val, maxval=seed_val)) #n_actions in the alphabet\n",
    "\n",
    "\n",
    "\n",
    "    def update_target_parameters(self,primary_net):\n",
    "        prim_weights = primary_net.get_weights()\n",
    "        targ_weights = self.get_weights()\n",
    "        weights = []\n",
    "        for i in tf.range(len(prim_weights)):\n",
    "            weights.append(self.tau * prim_weights[i] + (1 - self.tau) * targ_weights[i])\n",
    "        self.set_weights(weights)\n",
    "        return\n",
    "\n",
    "    def give_action(self,state, ep=0.01):\n",
    "        if np.random.random() < ep:\n",
    "            random_action = np.random.choice(range(8))\n",
    "            return random_action\n",
    "        else:\n",
    "            qvals = np.squeeze(self(tf.expand_dims(state, axis=0)))\n",
    "            action_gredy = np.random.choice(np.where(qvals == np.max(qvals))[0])\n",
    "            return action_gredy\n",
    "\n",
    "    def call(self, inputs):\n",
    "        feat = tf.nn.relu(self.l1(inputs))\n",
    "        feat = tf.nn.relu(self.l2(feat))\n",
    "        feat = tf.nn.tanh(self.l3(feat))\n",
    "        return feat\n",
    "\n",
    "\n",
    "\n",
    "class ReplayBuffer():\n",
    "    def __init__(self, buffer_size=10**3):\n",
    "        self.buffer_size = buffer_size\n",
    "        self.count = 0\n",
    "        self.buffer = deque()\n",
    "\n",
    "    def add(self, experience):\n",
    "        if not isinstance(experience, tuple):\n",
    "            raise ValueError(\"buffer wants tuples!\")\n",
    "        if self.count < self.buffer_size:\n",
    "            self.buffer.append(experience)\n",
    "            self.count += 1\n",
    "        else:\n",
    "            self.buffer.popleft()\n",
    "            self.buffer.append(experience)\n",
    "\n",
    "    def size(self):\n",
    "        return self.count\n",
    "\n",
    "    def sample(self, batch_size):\n",
    "        batch = []\n",
    "        if self.count < batch_size:\n",
    "            batch = random.sample(self.buffer, self.count)\n",
    "        else:\n",
    "            batch = random.sample(self.buffer, int(batch_size))\n",
    "        return batch\n",
    "\n",
    "    def clear(self):\n",
    "        self.buffer.clear()\n",
    "        self.count = 0\n",
    "\n",
    "\n",
    "\n",
    "\n",
    "buffer = ReplayBuffer()\n",
    "critic = Critic()\n",
    "critic_target = Critic(tau=0.01)\n",
    "solver = PennylaneSolver(3, combinatorial_only=True)\n",
    "\n",
    "env = VansEnv(solver, 8, mdp_length=2, state_as_sequence=True, printing=False)\n",
    "\n",
    "\n",
    "buffer = ReplayBuffer()\n",
    "critic = Critic(seed_val=.5)\n",
    "n_qubits = 3\n",
    "solver = PennylaneSolver(n_qubits, combinatorial_only=True)\n",
    "optimizer = tf.keras.optimizers.Adam(lr=0.01)\n",
    "\n",
    "@tf.function\n",
    "def step(labels,states):\n",
    "    with tf.GradientTape() as tape:\n",
    "        tape.watch(critic.trainable_variables)\n",
    "        qpreds = critic(states)\n",
    "        loss = tf.reduce_mean(tf.keras.losses.MSE(labels,qpreds))\n",
    "        grads = tape.gradient(loss, critic.trainable_variables)\n",
    "    optimizer.apply_gradients(zip(grads, critic.trainable_variables))\n",
    "    return loss\n",
    "\n",
    "#this is written very cumbersome since I tried to use @tf.function, but in the end i'm not using it here\n",
    "#since i get an error when sweeping the actions.\n",
    "def give_labels(critic, buffer, batch_size=16):\n",
    "    batch = buffer.sample(batch_size)\n",
    "    states, actions, next_states, rewards, dones = np.transpose(batch)\n",
    "    rws = tf.convert_to_tensor(rewards.astype(np.float32))\n",
    "    nextq = tf.math.reduce_max(critic_target(tf.stack(next_states)), axis=1)\n",
    "    states = tf.stack(states)\n",
    "    dones = tf.constant(list(dones))\n",
    "\n",
    "    labels = critic(states)\n",
    "    tst=[]\n",
    "    for ind, ac_ind in enumerate(actions):\n",
    "        pts = tf.unstack(tf.unstack(labels)[ind])\n",
    "        if dones[ind] == True:\n",
    "            pts[ac_ind] = rws[ind]\n",
    "        else:\n",
    "            pts[ac_ind] = nextq[ind]\n",
    "        pts = tf.stack(pts)\n",
    "        tst.append(pts)\n",
    "    labels = tf.stack(tst, axis=0)\n",
    "    return labels,tf.stack(states)\n",
    "\n",
    "env = VansEnv(solver, 8, mdp_length=2, state_as_sequence=True, printing=False)\n",
    "\n",
    "r=[]\n",
    "pt=[]\n",
    "cumre=0\n",
    "episodes = np.arange(1,10**3,1)\n",
    "tt = .75*len(episodes)/np.log(1/0.05)\n",
    "def schedule(k):\n",
    "    if k< 10:\n",
    "        return 1\n",
    "    else:\n",
    "        return max(0.01, np.exp(-k/tt))\n",
    "lhist=[]\n",
    "for k in tqdm(episodes):\n",
    "    state = env.reset()\n",
    "    done = False\n",
    "    while not done:\n",
    "        action = critic.give_action(state, ep=0.01)\n",
    "        next_state, reward, done, info = env.step(action)\n",
    "        buffer.add((state, action, next_state, reward, done))\n",
    "        state = next_state\n",
    "    cumre+=reward\n",
    "    r.append(cumre)\n",
    "\n",
    "    state = env.reset()\n",
    "    done = False\n",
    "    while not done:\n",
    "        action = critic.give_action(state, ep=0)\n",
    "        next_state, reward, done, info = env.step(action)\n",
    "        state = next_state\n",
    "\n",
    "    labels,states = give_labels(critic, buffer)\n",
    "    l=step(labels,states)\n",
    "    lhist.append(l.numpy())\n",
    "    critic_target.update_target_parameters(critic)\n",
    "\n",
    "    pt.append(reward)\n",
    "    \n"
   ]
  },
  {
   "cell_type": "code",
   "execution_count": 67,
   "metadata": {},
   "outputs": [],
   "source": [
    "batch =buffer.sample(20)\n",
    "states, actions, next_states, rewards, dones = np.transpose(batch)\n"
   ]
  },
  {
   "cell_type": "code",
   "execution_count": 68,
   "metadata": {},
   "outputs": [
    {
     "data": {
      "text/plain": [
       "array([0, 0.05566933296151461, 0, 0, 0, -1, 0.09493743739106493, 0, 0, 0,\n",
       "       0.09493743739106493, 0, 0, 0.05566933296151461,\n",
       "       0.05566933296151461, 0, 0, 0.44462534316398106, -1, 0],\n",
       "      dtype=object)"
      ]
     },
     "execution_count": 68,
     "metadata": {},
     "output_type": "execute_result"
    }
   ],
   "source": [
    "rewards"
   ]
  },
  {
   "cell_type": "code",
   "execution_count": null,
   "metadata": {},
   "outputs": [],
   "source": [
    "\n",
    "qpreds = critic(tf.stack(states))\n",
    "labels = qpreds.numpy()\n",
    "for inda, act in enumerate(actions):\n",
    "    if dones[inda] is False:\n",
    "        labels[inda,act] = critic.give_action(next_states[inda], ep=0)\n",
    "    else:\n",
    "        labels[inda, act] = rewards[inda]"
   ]
  },
  {
   "cell_type": "code",
   "execution_count": null,
   "metadata": {},
   "outputs": [],
   "source": []
  },
  {
   "cell_type": "code",
   "execution_count": 62,
   "metadata": {},
   "outputs": [
    {
     "data": {
      "text/plain": [
       "array([0.   , 0.125, 0.25 , 0.375, 0.5  , 0.625, 0.5  , 0.75 , 0.875],\n",
       "      dtype=float32)"
      ]
     },
     "execution_count": 62,
     "metadata": {},
     "output_type": "execute_result"
    }
   ],
   "source": [
    "next_state"
   ]
  },
  {
   "cell_type": "code",
   "execution_count": null,
   "metadata": {},
   "outputs": [],
   "source": []
  },
  {
   "cell_type": "code",
   "execution_count": 34,
   "metadata": {},
   "outputs": [],
   "source": [
    "state = env.reset()\n",
    "done = False\n",
    "k=0\n",
    "actions=[6,7]\n",
    "while not done:\n",
    "    action = actions[k]\n",
    "    k+=1\n",
    "    next_state, reward, done, info = env.step(action)\n",
    "    state = next_state\n"
   ]
  },
  {
   "cell_type": "code",
   "execution_count": 39,
   "metadata": {},
   "outputs": [],
   "source": [
    "alls = buffer.sample(buffer.count)"
   ]
  },
  {
   "cell_type": "code",
   "execution_count": 46,
   "metadata": {},
   "outputs": [
    {
     "data": {
      "text/plain": [
       "<matplotlib.collections.PathCollection at 0x7fea1c8b8198>"
      ]
     },
     "execution_count": 46,
     "metadata": {},
     "output_type": "execute_result"
    },
    {
     "data": {
      "image/png": "[encoded data removed]",
      "text/plain": [
       "<Figure size 432x288 with 1 Axes>"
      ]
     },
     "metadata": {
      "needs_background": "light"
     },
     "output_type": "display_data"
    }
   ],
   "source": [
    "plt.scatter(range(len(np.transpose(alls)[1])), np.transpose(alls)[1])"
   ]
  },
  {
   "cell_type": "code",
   "execution_count": 47,
   "metadata": {},
   "outputs": [],
   "source": [
    "import pandas as pd"
   ]
  },
  {
   "cell_type": "code",
   "execution_count": 50,
   "metadata": {},
   "outputs": [
    {
     "data": {
      "text/plain": [
       "(array([101, 109, 134, 138, 137, 113, 143, 125]),\n",
       " array([0.0, 0.875, 1.75, 2.625, 3.5, 4.375, 5.25, 6.125, 7.0],\n",
       "       dtype=object))"
      ]
     },
     "execution_count": 50,
     "metadata": {},
     "output_type": "execute_result"
    }
   ],
   "source": [
    "np.histogram(np.transpose(alls)[1], bins=8)"
   ]
  },
  {
   "cell_type": "code",
   "execution_count": 51,
   "metadata": {},
   "outputs": [
    {
     "data": {
      "text/plain": [
       "array([5, 6, 4, 3, 1, 5, 4, 6, 5, 3, 5, 4, 2, 4, 4, 4, 0, 3, 5, 6, 3, 6,\n",
       "       5, 1, 7, 3, 2, 4, 2, 1, 7, 5, 2, 3, 1, 1, 7, 3, 7, 7, 2, 2, 3, 4,\n",
       "       4, 3, 0, 1, 2, 0, 7, 6, 7, 0, 1, 7, 6, 6, 3, 3, 5, 2, 7, 4, 7, 2,\n",
       "       6, 1, 1, 4, 2, 5, 2, 0, 7, 5, 5, 4, 3, 4, 6, 6, 6, 5, 3, 7, 3, 5,\n",
       "       0, 6, 3, 7, 7, 2, 0, 1, 5, 3, 7, 3, 3, 4, 4, 6, 1, 6, 7, 6, 3, 7,\n",
       "       0, 1, 4, 0, 5, 4, 2, 4, 2, 4, 6, 6, 2, 6, 6, 4, 2, 0, 4, 6, 5, 5,\n",
       "       4, 7, 0, 5, 3, 7, 6, 3, 1, 6, 2, 3, 2, 2, 7, 5, 5, 7, 7, 2, 1, 4,\n",
       "       4, 5, 0, 7, 4, 2, 2, 7, 2, 3, 3, 4, 4, 2, 4, 7, 6, 5, 0, 2, 3, 2,\n",
       "       4, 0, 7, 6, 1, 2, 0, 7, 1, 0, 5, 3, 6, 5, 4, 0, 5, 5, 7, 4, 4, 5,\n",
       "       5, 6, 5, 2, 0, 1, 6, 5, 3, 3, 5, 2, 3, 4, 5, 6, 1, 4, 0, 5, 6, 6,\n",
       "       4, 3, 4, 1, 2, 1, 2, 2, 1, 2, 6, 7, 5, 0, 7, 0, 4, 3, 1, 1, 4, 5,\n",
       "       7, 0, 3, 5, 6, 4, 5, 3, 6, 2, 3, 5, 1, 4, 0, 4, 7, 6, 6, 4, 7, 6,\n",
       "       3, 3, 3, 6, 1, 4, 0, 6, 6, 1, 0, 3, 2, 3, 2, 6, 0, 4, 5, 6, 6, 6,\n",
       "       5, 3, 5, 7, 1, 7, 6, 6, 2, 1, 4, 3, 6, 4, 3, 4, 7, 7, 7, 3, 6, 6,\n",
       "       3, 2, 1, 5, 3, 4, 6, 2, 0, 7, 2, 7, 7, 3, 4, 7, 3, 7, 2, 7, 1, 3,\n",
       "       0, 3, 2, 7, 0, 3, 7, 1, 6, 1, 4, 6, 7, 6, 6, 7, 3, 7, 2, 6, 6, 0,\n",
       "       2, 2, 7, 0, 5, 1, 0, 5, 6, 3, 4, 3, 1, 7, 0, 7, 4, 6, 6, 1, 6, 3,\n",
       "       1, 7, 3, 2, 5, 1, 3, 5, 6, 4, 0, 7, 3, 0, 3, 3, 2, 3, 1, 5, 3, 4,\n",
       "       1, 6, 2, 2, 1, 4, 3, 0, 0, 4, 4, 2, 1, 0, 1, 7, 7, 6, 2, 3, 5, 6,\n",
       "       7, 4, 7, 1, 7, 4, 0, 1, 3, 0, 1, 5, 5, 7, 4, 2, 1, 7, 1, 3, 4, 2,\n",
       "       2, 0, 7, 5, 4, 4, 2, 6, 7, 7, 2, 0, 6, 5, 1, 1, 4, 5, 0, 4, 3, 3,\n",
       "       4, 1, 3, 3, 7, 4, 4, 1, 0, 4, 3, 3, 4, 2, 4, 6, 5, 4, 3, 3, 1, 0,\n",
       "       2, 5, 1, 3, 4, 6, 6, 2, 6, 2, 1, 2, 6, 5, 4, 0, 7, 7, 5, 1, 2, 6,\n",
       "       2, 1, 7, 3, 7, 4, 1, 4, 0, 6, 1, 1, 3, 0, 6, 2, 0, 1, 3, 2, 7, 2,\n",
       "       6, 5, 5, 4, 3, 0, 2, 3, 1, 3, 3, 1, 5, 0, 4, 2, 7, 5, 7, 3, 6, 6,\n",
       "       7, 6, 6, 2, 6, 7, 0, 6, 0, 1, 2, 5, 2, 2, 0, 6, 7, 7, 4, 6, 3, 2,\n",
       "       3, 5, 3, 3, 4, 7, 2, 4, 2, 7, 1, 4, 1, 6, 4, 4, 5, 1, 2, 0, 0, 1,\n",
       "       4, 7, 0, 5, 6, 0, 5, 5, 5, 6, 0, 6, 1, 3, 0, 7, 3, 0, 3, 0, 2, 4,\n",
       "       1, 3, 2, 4, 3, 6, 0, 1, 2, 0, 5, 5, 0, 2, 0, 5, 7, 5, 3, 3, 0, 6,\n",
       "       2, 2, 5, 5, 4, 2, 1, 3, 2, 6, 5, 6, 0, 2, 2, 7, 5, 1, 2, 2, 6, 4,\n",
       "       2, 3, 5, 1, 4, 3, 5, 2, 2, 0, 1, 4, 1, 2, 5, 0, 1, 1, 5, 0, 4, 7,\n",
       "       3, 4, 2, 2, 1, 7, 2, 3, 2, 6, 1, 0, 6, 2, 3, 1, 7, 5, 3, 7, 7, 2,\n",
       "       1, 5, 2, 4, 5, 4, 0, 7, 5, 7, 6, 6, 3, 1, 0, 7, 4, 4, 7, 3, 4, 4,\n",
       "       4, 4, 2, 5, 4, 0, 6, 3, 6, 2, 0, 4, 5, 2, 4, 1, 0, 2, 6, 2, 1, 3,\n",
       "       6, 2, 6, 4, 1, 2, 0, 5, 1, 0, 5, 6, 2, 3, 6, 2, 6, 5, 2, 1, 6, 7,\n",
       "       5, 4, 5, 4, 2, 6, 2, 7, 0, 4, 6, 2, 2, 3, 0, 6, 7, 6, 6, 6, 6, 2,\n",
       "       3, 4, 4, 6, 0, 4, 7, 6, 4, 7, 2, 4, 6, 3, 6, 7, 6, 3, 3, 7, 6, 7,\n",
       "       3, 2, 4, 2, 3, 2, 4, 2, 4, 7, 0, 4, 7, 2, 5, 2, 3, 0, 3, 1, 0, 6,\n",
       "       4, 6, 7, 3, 0, 7, 1, 5, 2, 4, 1, 3, 3, 6, 0, 2, 3, 5, 0, 3, 5, 7,\n",
       "       7, 0, 3, 6, 3, 7, 7, 4, 7, 7, 5, 1, 3, 5, 0, 5, 4, 7, 2, 7, 3, 6,\n",
       "       3, 4, 6, 2, 1, 6, 4, 1, 2, 3, 4, 5, 4, 1, 1, 5, 6, 6, 4, 3, 5, 3,\n",
       "       7, 0, 0, 6, 0, 2, 7, 5, 1, 1, 1, 4, 4, 6, 4, 4, 1, 3, 2, 6, 0, 6,\n",
       "       6, 0, 5, 1, 5, 5, 5, 6, 0, 7, 6, 0, 5, 4, 7, 6, 1, 7, 5, 1, 4, 5,\n",
       "       3, 2, 7, 0, 1, 1, 7, 2, 6, 6, 1, 4, 7, 6, 3, 3, 7, 0, 7, 6, 4, 3,\n",
       "       5, 5, 5, 2, 1, 1, 1, 3, 0, 6, 7, 4, 2, 6, 6, 6, 3, 1, 2, 4, 3, 3,\n",
       "       4, 3, 0, 7, 7, 5, 6, 2, 7, 3], dtype=object)"
      ]
     },
     "execution_count": 51,
     "metadata": {},
     "output_type": "execute_result"
    }
   ],
   "source": [
    "np.transpose(alls)[1]"
   ]
  },
  {
   "cell_type": "code",
   "execution_count": 56,
   "metadata": {},
   "outputs": [
    {
     "data": {
      "text/plain": [
       "array([-0.125, -0.125, -0.125, -0.125, -0.125, -0.125, -0.125, -0.125,\n",
       "       -0.125], dtype=float32)"
      ]
     },
     "execution_count": 56,
     "metadata": {},
     "output_type": "execute_result"
    }
   ],
   "source": []
  },
  {
   "cell_type": "code",
   "execution_count": 57,
   "metadata": {},
   "outputs": [
    {
     "data": {
      "text/plain": [
       "<tf.Tensor: shape=(1, 9), dtype=float32, numpy=\n",
       "array([[-0.125, -0.125, -0.125, -0.125, -0.125, -0.125, -0.125, -0.125,\n",
       "        -0.125]], dtype=float32)>"
      ]
     },
     "execution_count": 57,
     "metadata": {},
     "output_type": "execute_result"
    }
   ],
   "source": []
  },
  {
   "cell_type": "code",
   "execution_count": 60,
   "metadata": {},
   "outputs": [
    {
     "data": {
      "text/plain": [
       "<tf.Tensor: shape=(1, 8), dtype=float32, numpy=\n",
       "array([[0.36894906, 0.30802962, 0.27983195, 0.236437  , 0.23071098,\n",
       "        0.2574616 , 0.30446997, 0.37027442]], dtype=float32)>"
      ]
     },
     "execution_count": 60,
     "metadata": {},
     "output_type": "execute_result"
    }
   ],
   "source": [
    "critic(tf.expand_dims(env.state,axis=0))"
   ]
  },
  {
   "cell_type": "code",
   "execution_count": null,
   "metadata": {},
   "outputs": [],
   "source": []
  }
 ],
 "metadata": {
  "kernelspec": {
   "display_name": "Python 3",
   "language": "python",
   "name": "python3"
  }
 },
 "nbformat": 4,
 "nbformat_minor": 4
}
