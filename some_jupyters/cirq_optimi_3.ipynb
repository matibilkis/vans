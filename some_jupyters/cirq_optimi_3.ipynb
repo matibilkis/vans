{
 "cells": [
  {
   "cell_type": "code",
   "execution_count": 1,
   "metadata": {},
   "outputs": [],
   "source": [
    "import numpy as np\n",
    "import sympy\n",
    "import cirq\n",
    "import tensorflow as tf\n",
    "import tensorflow_quantum as tfq\n",
    "import pennylane as qml\n",
    "\n",
    "alphabet = {\"0\":{\"gate\": qml.PauliX, \"wires\": [2]},\n",
    "                    \"1\":{\"gate\": qml.RZ, \"wires\": [0]},\n",
    "                    \"2\":{\"gate\": qml.RY, \"wires\": [1]},\n",
    "                    \"3\":{\"gate\": qml.CNOT, \"wires\": [1,2]},#, \"params\":[np.pi]},\n",
    "                    \"4\":{\"gate\": qml.CNOT, \"wires\": [1,0]},#, \"params\":[np.pi]},\n",
    "                    \"5\":{\"gate\": qml.RY, \"wires\": [0]},\n",
    "                    \"6\":{\"gate\":qml.Rot, \"wires\":[0]}, #borrowed from other optimization\n",
    "                    \"7\":{\"gate\": qml.CNOT, \"wires\": [0,1]},#, \"params\":[np.pi]},\n",
    "                   }\n",
    "\n",
    "alphabet_cirq = {\"0\":{\"gate\": cirq.X, \"wires\": [2]},\n",
    "                    \"1\":{\"gate\": cirq.rz, \"wires\": [0]},\n",
    "                    \"2\":{\"gate\": cirq.ry, \"wires\": [1]},\n",
    "                    \"3\":{\"gate\": cirq.CNOT, \"wires\": [1,2]},#, \"params\":[np.pi]},\n",
    "                    \"4\":{\"gate\": cirq.CNOT, \"wires\": [1,0]},#, \"params\":[np.pi]},\n",
    "                    \"5\":{\"gate\": cirq.ry, \"wires\": [0]},\n",
    "                    \"6\":{\"gate\":cirq.rz, \"wires\":[0]},#optimal sequence will be larger..\n",
    "                    \"7\":{\"gate\": cirq.CNOT, \"wires\": [0,1]},#, \"params\":[np.pi]},\n",
    "                   }\n",
    "parametrized = [cirq.rz, cirq.ry, cirq.rx]"
   ]
  },
  {
   "cell_type": "code",
   "execution_count": 2,
   "metadata": {},
   "outputs": [],
   "source": [
    "class W_state:\n",
    "    def __init__(self, qubits, trajectory):\n",
    "        self.qubits = qubits\n",
    "        param_ind=0\n",
    "        gates=[]\n",
    "        wires=[]\n",
    "        params_cirquit=[]\n",
    "        parhere=[]\n",
    "        self.symbols=[]\n",
    "        for gate_ind in trajectory:\n",
    "            g = alphabet_cirq[str(int(gate_ind))][\"gate\"]\n",
    "            wires.append(alphabet_cirq[str(int(gate_ind))][\"wires\"])\n",
    "            if g in parametrized: #assuming is one qubit unitary\n",
    "                symbol = \"x_{}\".format(param_ind)\n",
    "                self.symbols.append(symbol)\n",
    "                params_cirquit.append(sympy.Symbol(self.symbols[-1]))\n",
    "                param_ind+=1\n",
    "                gates.append(g(params_cirquit[-1]))\n",
    "                parhere.append(True)\n",
    "            else:\n",
    "                gates.append(g)\n",
    "                parhere.append(False)\n",
    "        self.wires = wires\n",
    "        self._gates=gates\n",
    "        self.parhere =parhere\n",
    "        self.circuit=self.get_state(qubits)\n",
    "\n",
    "    def get_state(self, qubits, params=None):\n",
    "        circuit = cirq.Circuit()\n",
    "        cc=[]\n",
    "        for ind, g in enumerate(self._gates):\n",
    "            if len(self.wires[ind])==1:\n",
    "                indqub = self.wires[ind][0]\n",
    "                cc.append(g(qubits[indqub]))\n",
    "            else:\n",
    "                control, target = self.wires[ind]\n",
    "                cc.append(g(qubits[control], qubits[target]))\n",
    "        circuit.append(cc)\n",
    "        if params is None:\n",
    "            return circuit\n",
    "        resolver = {k: v for k, v in zip(self.symbols, params)}\n",
    "        return cirq.resolve_parameters(circuit, resolver)"
   ]
  },
  {
   "cell_type": "code",
   "execution_count": 3,
   "metadata": {},
   "outputs": [],
   "source": [
    "qubits = cirq.GridQubit.rect(1, 3)\n",
    "trajectory = np.array([0,1,2,3,4,5,4,6,5,6,7])\n",
    "wst = W_state(qubits, trajectory)\n",
    "\n",
    "sq = 1 / np.sqrt(3)\n",
    "w_state = np.array([0, sq, sq, 0, sq, 0, 0, 0])\n",
    "ww = cirq.density_matrix_from_state_vector(w_state)"
   ]
  },
  {
   "cell_type": "code",
   "execution_count": 33,
   "metadata": {},
   "outputs": [
    {
     "name": "stderr",
     "output_type": "stream",
     "text": [
      "/home/cooper-cooper/.local/lib/python3.6/site-packages/ipykernel_launcher.py:23: ComplexWarning: Casting complex values to real discards the imaginary part\n"
     ]
    }
   ],
   "source": [
    "PAULI_BASIS = {\n",
    "    'I': np.eye(2),\n",
    "    'X': np.array([[0., 1.], [1., 0.]]),\n",
    "    'Y': np.array([[0., -1j], [1j, 0.]]),\n",
    "    'Z': np.diag([1., -1]),\n",
    "}\n",
    "\n",
    "pauli3 = cirq.linalg.operator_spaces.kron_bases(PAULI_BASIS, repeat=3)\n",
    "decomp = cirq.linalg.operator_spaces.expand_matrix_in_orthogonal_basis(ww, pauli3) #notice it's not required to be orthonormal!\n",
    "\n",
    "PAULI_BASIS_CIRQ = {\n",
    "    'I': cirq.X,\n",
    "    'X': cirq.X,\n",
    "    'Y': cirq.Y,\n",
    "    'Z': cirq.Z,\n",
    "}\n",
    "\n",
    "unt = []\n",
    "for term in decomp.items():\n",
    "    gate_name = term[0]\n",
    "    coeff = term[1]\n",
    "    s=0\n",
    "    ot=float(coeff)\n",
    "    for qpos, single_gate in enumerate(gate_name):\n",
    "        if single_gate == \"I\":\n",
    "            ot*=PAULI_BASIS_CIRQ[single_gate](qubits[qpos])*PAULI_BASIS_CIRQ[single_gate](qubits[qpos])\n",
    "        else:\n",
    "            ot*=PAULI_BASIS_CIRQ[single_gate](qubits[qpos])\n",
    "    if s<3:\n",
    "        unt.append(ot)"
   ]
  },
  {
   "cell_type": "code",
   "execution_count": 35,
   "metadata": {},
   "outputs": [
    {
     "data": {
      "text/plain": [
       "8"
      ]
     },
     "execution_count": 35,
     "metadata": {},
     "output_type": "execute_result"
    }
   ],
   "source": [
    "len(alphabet_cirq)"
   ]
  },
  {
   "cell_type": "code",
   "execution_count": 8,
   "metadata": {},
   "outputs": [],
   "source": [
    "def w_keras_model(wst, observable):\n",
    "    # Construct measurement layers.\n",
    "    circuit_input = tf.keras.Input(shape=(), dtype=tf.string)\n",
    "    output = tfq.layers.Expectation()(\n",
    "            circuit_input,\n",
    "            symbol_names=wst.symbols,\n",
    "            operators=tfq.convert_to_tensor([observable]),\n",
    "            initializer=tf.keras.initializers.RandomNormal())\n",
    "\n",
    "    output = tf.math.reduce_sum(output, axis=-1, keepdims=True)\n",
    "\n",
    "    model = tf.keras.Model(inputs=circuit_input, outputs=output)\n",
    "    adam = tf.keras.optimizers.Adam(learning_rate=0.001)\n",
    "    model.compile(optimizer=adam, loss='mse')\n",
    "    return model\n",
    "\n",
    "model = w_keras_model(wst, unt)"
   ]
  },
  {
   "cell_type": "code",
   "execution_count": 9,
   "metadata": {},
   "outputs": [],
   "source": [
    "w_input = tfq.convert_to_tensor([wst.circuit])\n",
    "w_output = tf.ones((1,1))"
   ]
  },
  {
   "cell_type": "code",
   "execution_count": 12,
   "metadata": {},
   "outputs": [],
   "source": [
    "history = model.fit(x=w_input, y=w_output, batch_size=1, epochs=10**4,\n",
    "                    verbose=0)"
   ]
  },
  {
   "cell_type": "code",
   "execution_count": 13,
   "metadata": {},
   "outputs": [
    {
     "data": {
      "text/plain": [
       "0.9994077086448669"
      ]
     },
     "execution_count": 13,
     "metadata": {},
     "output_type": "execute_result"
    }
   ],
   "source": [
    "float(np.squeeze(model.predict(w_input)))"
   ]
  },
  {
   "cell_type": "code",
   "execution_count": 14,
   "metadata": {},
   "outputs": [
    {
     "data": {
      "text/plain": [
       "[<matplotlib.lines.Line2D at 0x7fa2d4078278>]"
      ]
     },
     "execution_count": 14,
     "metadata": {},
     "output_type": "execute_result"
    },
    {
     "data": {
      "image/png": "[encoded data removed]",
      "text/plain": [
       "<Figure size 432x288 with 1 Axes>"
      ]
     },
     "metadata": {
      "needs_background": "light"
     },
     "output_type": "display_data"
    }
   ],
   "source": [
    "import matplotlib.pyplot as plt\n",
    "plt.plot(history.history['loss'])\n"
   ]
  },
  {
   "cell_type": "code",
   "execution_count": 15,
   "metadata": {},
   "outputs": [],
   "source": [
    "ucirq = cirq.unitary(wst.get_state(qubits, model.get_weights()[0]))"
   ]
  },
  {
   "cell_type": "code",
   "execution_count": 16,
   "metadata": {},
   "outputs": [
    {
     "data": {
      "text/plain": [
       "array([0.00000000e+00, 3.56459147e-01, 3.21778815e-01, 0.00000000e+00,\n",
       "       3.21761847e-01, 0.00000000e+00, 0.00000000e+00, 1.90529256e-07])"
      ]
     },
     "execution_count": 16,
     "metadata": {},
     "output_type": "execute_result"
    }
   ],
   "source": [
    "np.abs(ucirq[:,0])**2"
   ]
  },
  {
   "cell_type": "code",
   "execution_count": 17,
   "metadata": {},
   "outputs": [
    {
     "data": {
      "text/plain": [
       "(0.999407950883274+0j)"
      ]
     },
     "execution_count": 17,
     "metadata": {},
     "output_type": "execute_result"
    }
   ],
   "source": [
    "np.dot(np.dot(ucirq[:,0], nn), np.conjugate(np.transpose(ucirq)[0])) #mean value of W! (fidelity with W-state!)"
   ]
  },
  {
   "cell_type": "code",
   "execution_count": 18,
   "metadata": {},
   "outputs": [
    {
     "data": {
      "text/plain": [
       "0.9994079508832742"
      ]
     },
     "execution_count": 18,
     "metadata": {},
     "output_type": "execute_result"
    }
   ],
   "source": [
    "np.abs(np.dot(ucirq[:,0], w_state))**2"
   ]
  },
  {
   "cell_type": "code",
   "execution_count": 23,
   "metadata": {},
   "outputs": [
    {
     "data": {
      "text/plain": [
       "array([0.        , 0.33333333, 0.33333333, 0.        , 0.33333333,\n",
       "       0.        , 0.        , 0.        ])"
      ]
     },
     "execution_count": 23,
     "metadata": {},
     "output_type": "execute_result"
    }
   ],
   "source": [
    "w_state**2"
   ]
  },
  {
   "cell_type": "code",
   "execution_count": 24,
   "metadata": {},
   "outputs": [
    {
     "data": {
      "text/plain": [
       "array([0.0000000e+00, 3.5645911e-01, 3.2177880e-01, 0.0000000e+00,\n",
       "       3.2176182e-01, 0.0000000e+00, 0.0000000e+00, 1.9051683e-07],\n",
       "      dtype=float32)"
      ]
     },
     "execution_count": 24,
     "metadata": {},
     "output_type": "execute_result"
    }
   ],
   "source": [
    "simulator = cirq.Simulator()\n",
    "result = simulator.simulate(wst.get_state(qubits,params=model.get_weights()[0]), qubit_order=qubits)\n",
    "np.abs(result.final_state)**2"
   ]
  },
  {
   "cell_type": "code",
   "execution_count": null,
   "metadata": {},
   "outputs": [],
   "source": []
  }
 ],
 "metadata": {
  "kernelspec": {
   "display_name": "Python 3",
   "language": "python",
   "name": "python3"
  },
  "language_info": {
   "codemirror_mode": {
    "name": "ipython",
    "version": 3
   },
   "file_extension": ".py",
   "mimetype": "text/x-python",
   "name": "python",
   "nbconvert_exporter": "python",
   "pygments_lexer": "ipython3",
   "version": "3.6.9"
  }
 },
 "nbformat": 4,
 "nbformat_minor": 4
}
