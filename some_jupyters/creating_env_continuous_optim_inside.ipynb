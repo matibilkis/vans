{
 "cells": [
  {
   "cell_type": "code",
   "execution_count": 1,
   "metadata": {},
   "outputs": [],
   "source": [
    "import pennylane as qml\n",
    "import gym\n",
    "from pennylane import numpy as np\n",
    "from gym import spaces\n",
    "import inspect\n",
    "import pickle"
   ]
  },
  {
   "cell_type": "code",
   "execution_count": 2,
   "metadata": {},
   "outputs": [],
   "source": [
    "sq = 1/np.sqrt(3)\n",
    "w_state= np.array([0,sq,sq,0,sq,0,0,0])\n",
    "\n",
    "def projector(ket):\n",
    "    n = len(ket)\n",
    "    proj=np.zeros((n,n))\n",
    "    for ind1,i in enumerate(ket):\n",
    "        for ind2,j in enumerate(ket):\n",
    "            proj[ind1,ind2] = i*np.conjugate(j)\n",
    "    return proj\n",
    "W = projector(w_state)"
   ]
  },
  {
   "cell_type": "code",
   "execution_count": 4,
   "metadata": {},
   "outputs": [
    {
     "data": {
      "text/plain": [
       "0"
      ]
     },
     "execution_count": 4,
     "metadata": {},
     "output_type": "execute_result"
    }
   ],
   "source": [
    "qml.PauliX.num_params"
   ]
  },
  {
   "cell_type": "code",
   "execution_count": 3,
   "metadata": {},
   "outputs": [
    {
     "data": {
      "text/plain": [
       "3"
      ]
     },
     "execution_count": 3,
     "metadata": {},
     "output_type": "execute_result"
    }
   ],
   "source": [
    "qml.Rot.num_params"
   ]
  },
  {
   "cell_type": "code",
   "execution_count": 138,
   "metadata": {},
   "outputs": [],
   "source": [
    "alphabet_w = {\"0\":{\"gate\": qml.PauliX, \"wires\": [2]}, \n",
    "            \"1\":{\"gate\": qml.RZ, \"wires\": [0], \"params\":[np.pi]},\n",
    "            \"2\":{\"gate\": qml.RY, \"wires\": [1], \"params\":[0.608*np.pi]},\n",
    "            \"3\":{\"gate\": qml.CNOT, \"wires\": [1,2]},#, \"params\":[np.pi]},\n",
    "            \"4\":{\"gate\": qml.CNOT, \"wires\": [1,0]},#, \"params\":[np.pi]},\n",
    "            \"5\":{\"gate\": qml.RY, \"wires\": [0], \"params\":[0.78476]},\n",
    "            \"6\":{\"gate\":qml.Rot, \"wires\":[0], \"params\": np.array([-2.31419177e-03,  5.49757776e+00,  3.14314062e+00])}, #borrowed from other optimization\n",
    "            \"7\":{\"gate\": qml.CNOT, \"wires\": [0,1]},#, \"params\":[np.pi]},\n",
    "           }"
   ]
  },
  {
   "cell_type": "code",
   "execution_count": null,
   "metadata": {},
   "outputs": [],
   "source": [
    "alphabet_w = {\"0\":{\"gate\": qml.PauliX, \"wires\": [2]}, \n",
    "            \"1\":{\"gate\": qml.RZ, \"wires\": [0]},\n",
    "            \"2\":{\"gate\": qml.RY, \"wires\": [1]},\n",
    "            \"3\":{\"gate\": qml.CNOT, \"wires\": [1,2]},#, \"params\":[np.pi]},\n",
    "            \"4\":{\"gate\": qml.CNOT, \"wires\": [1,0]},#, \"params\":[np.pi]},\n",
    "            \"5\":{\"gate\": qml.RY, \"wires\": [0]},\n",
    "            \"6\":{\"gate\":qml.Rot, \"wires\":[0]}, #borrowed from other optimization\n",
    "            \"7\":{\"gate\": qml.CNOT, \"wires\": [0,1]},#, \"params\":[np.pi]},\n",
    "           }"
   ]
  },
  {
   "cell_type": "code",
   "execution_count": 139,
   "metadata": {},
   "outputs": [],
   "source": [
    "f = open(\"alphabet_w.pickle\",\"wb\")\n",
    "pickle.dump(alphabet_w,f, protocol=pickle.HIGHEST_PROTOCOL)\n",
    "f.close()"
   ]
  },
  {
   "cell_type": "code",
   "execution_count": 94,
   "metadata": {},
   "outputs": [],
   "source": [
    "state_indexed = [0,1,2,3,4,5,4,6,7]"
   ]
  },
  {
   "cell_type": "code",
   "execution_count": 95,
   "metadata": {},
   "outputs": [],
   "source": [
    "dev = qml.device(\"default.qubit\", wires=3)\n",
    "@qml.qnode(dev)\n",
    "def circuit(state_indexed):\n",
    "    for ind in state_indexed:\n",
    "        append_gate(alphabet, ind.val)\n",
    "    return qml.expval(qml.Hermitian(W,wires=[0,1,2]))"
   ]
  },
  {
   "cell_type": "code",
   "execution_count": 116,
   "metadata": {},
   "outputs": [
    {
     "data": {
      "text/plain": [
       "5"
      ]
     },
     "execution_count": 116,
     "metadata": {},
     "output_type": "execute_result"
    }
   ],
   "source": [
    "np.count_nonzero(np.random.choice(range(10),30)==8)"
   ]
  },
  {
   "cell_type": "code",
   "execution_count": 102,
   "metadata": {},
   "outputs": [
    {
     "data": {
      "text/plain": [
       "Discrete(8)"
      ]
     },
     "execution_count": 102,
     "metadata": {},
     "output_type": "execute_result"
    }
   ],
   "source": [
    "spaces.Discrete(8)"
   ]
  },
  {
   "cell_type": "code",
   "execution_count": 169,
   "metadata": {},
   "outputs": [],
   "source": [
    "class Ansatz(gym.Env):\n",
    "    \n",
    "    def __init__(self, maximum_number_of_gates=15):\n",
    "        super(Ansatz, self).__init__()\n",
    "        \n",
    "        self.state_indexed = np.array([])\n",
    "        self.maximum_number_of_gates = maximum_number_of_gates\n",
    "\n",
    "        with open('alphabet_w.pickle', 'rb') as alphabet:\n",
    "            self.alphabet = pickle.load(alphabet)\n",
    "    \n",
    "        self.n_actions = len(self.alphabet)\n",
    "        self.action_space = spaces.Discrete(self.n_actions)\n",
    "        \n",
    "        sq = 1/np.sqrt(3)\n",
    "        w_state= np.array([0,sq,sq,0,sq,0,0,0])\n",
    "        self.W = projector(w_state) \n",
    "        self.reward_history = np.array([])\n",
    "\n",
    "    def projector(self,ket):\n",
    "        n = len(ket)\n",
    "        proj=np.zeros((n,n))\n",
    "        for ind1,i in enumerate(ket):\n",
    "            for ind2,j in enumerate(ket):\n",
    "                proj[ind1,ind2] = i*np.conjugate(j)\n",
    "        return proj\n",
    "    \n",
    "    def reset(self):\n",
    "        \"\"\"\n",
    "        the observation must be a numpy array (??)\n",
    "        \n",
    "        !!!** Not necessarily, notice that Luckasz selects at random, so in principle\n",
    "        it should be enough to give the sequence of gates done.\n",
    "        \"\"\"\n",
    "        self.state_indexed = np.array([])\n",
    "        self.reward_history = np.array([])\n",
    "        return np.array([self.state_indexed]).astype(np.float32)\n",
    "\n",
    "    \n",
    "    def check_if_finish(self):\n",
    "        #np.count_nonzero(self.state_indexed,self.alphabet.CNOTS_indexes)\n",
    "        if len(self.state_indexed)>self.maximum_number_of_gates:\n",
    "            return True\n",
    "        else:\n",
    "            return False\n",
    "        \n",
    "    \n",
    "    def step(self, action):\n",
    "        \"\"\"importantly, action is an integer between 0 and len(self.alphaber)-1 \"\"\"\n",
    "        self.state_indexed = np.append(self.state_indexed, action)\n",
    "        done = self.check_if_finish()\n",
    "        reward = self.give_reward()\n",
    "        self.reward_history = np.append(self.reward_history,reward)\n",
    "        info={}\n",
    "        return self.state_indexed.astype(np.float32), reward, done, info #maybe instaed of \n",
    "\n",
    "    def give_reward(self):\n",
    "        dev = qml.device(\"default.qubit\", wires=3)\n",
    "        @qml.qnode(dev)\n",
    "        def circuit(state_indexed):\n",
    "            for ind in state_indexed:\n",
    "                append_gate(self.alphabet, int(ind.val))\n",
    "            return qml.expval(qml.Hermitian(self.W,wires=[0,1,2]))\n",
    "        return circuit(self.state_indexed)"
   ]
  },
  {
   "cell_type": "code",
   "execution_count": 170,
   "metadata": {},
   "outputs": [],
   "source": [
    "env = Ansatz()\n",
    "env.reset()\n",
    "optimal_policy = [0,1,2,3,4,5,4,6,7]\n",
    "for k in optimal_policy:\n",
    "    env.step(k)"
   ]
  },
  {
   "cell_type": "code",
   "execution_count": 171,
   "metadata": {},
   "outputs": [
    {
     "data": {
      "text/plain": [
       "array([0.33333333, 0.33333333, 0.11119674, 0.64766351, 0.11119674,\n",
       "       0.01635693, 0.55296147, 0.44462534, 0.99999948])"
      ]
     },
     "execution_count": 171,
     "metadata": {},
     "output_type": "execute_result"
    }
   ],
   "source": [
    "env.reward_history"
   ]
  },
  {
   "cell_type": "code",
   "execution_count": 173,
   "metadata": {},
   "outputs": [
    {
     "data": {
      "text/plain": [
       "array([0.00000000e+00, 0.00000000e+00, 0.00000000e+00, 4.87403522e-02,\n",
       "       2.82910636e-07, 0.00000000e+00, 0.00000000e+00, 4.88401737e-02])"
      ]
     },
     "execution_count": 173,
     "metadata": {},
     "output_type": "execute_result"
    }
   ],
   "source": [
    "#a sub-optimal policy\n",
    "env.reset()\n",
    "optimal_policy = np.random.choice(range(env.n_actions),8)\n",
    "for k in optimal_policy:\n",
    "    env.step(k)\n",
    "env.reward_history"
   ]
  },
  {
   "cell_type": "code",
   "execution_count": null,
   "metadata": {},
   "outputs": [],
   "source": []
  },
  {
   "cell_type": "code",
   "execution_count": null,
   "metadata": {},
   "outputs": [],
   "source": []
  }
 ],
 "metadata": {
  "kernelspec": {
   "display_name": "Python 3",
   "language": "python",
   "name": "python3"
  },
  "language_info": {
   "codemirror_mode": {
    "name": "ipython",
    "version": 3
   },
   "file_extension": ".py",
   "mimetype": "text/x-python",
   "name": "python",
   "nbconvert_exporter": "python",
   "pygments_lexer": "ipython3",
   "version": "3.6.9"
  }
 },
 "nbformat": 4,
 "nbformat_minor": 4
}
