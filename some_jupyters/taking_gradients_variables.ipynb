{
 "cells": [
  {
   "cell_type": "code",
   "execution_count": 163,
   "metadata": {},
   "outputs": [],
   "source": [
    "import pennylane as qml\n",
    "from pennylane import numpy as np\n",
    "import pickle\n",
    "import matplotlib.pyplot as plt"
   ]
  },
  {
   "cell_type": "code",
   "execution_count": 91,
   "metadata": {},
   "outputs": [],
   "source": [
    "with open('alphabet_w.pickle', 'rb') as alphabet:\n",
    "    alphabet = pickle.load(alphabet)"
   ]
  },
  {
   "cell_type": "code",
   "execution_count": 92,
   "metadata": {},
   "outputs": [
    {
     "data": {
      "text/plain": [
       "{'0': {'gate': pennylane.ops.qubit.PauliX, 'wires': [2]},\n",
       " '1': {'gate': pennylane.ops.qubit.RZ,\n",
       "  'wires': [0],\n",
       "  'params': [3.141592653589793]},\n",
       " '2': {'gate': pennylane.ops.qubit.RY,\n",
       "  'wires': [1],\n",
       "  'params': [1.9100883333825942]},\n",
       " '3': {'gate': pennylane.ops.qubit.CNOT, 'wires': [1, 2]},\n",
       " '4': {'gate': pennylane.ops.qubit.CNOT, 'wires': [1, 0]},\n",
       " '5': {'gate': pennylane.ops.qubit.RY, 'wires': [0], 'params': [0.78476]},\n",
       " '6': {'gate': pennylane.ops.qubit.Rot,\n",
       "  'wires': [0],\n",
       "  'params': array([-2.31419177e-03,  5.49757776e+00,  3.14314062e+00])},\n",
       " '7': {'gate': pennylane.ops.qubit.CNOT, 'wires': [0, 1]}}"
      ]
     },
     "execution_count": 92,
     "metadata": {},
     "output_type": "execute_result"
    }
   ],
   "source": [
    "alphabet"
   ]
  },
  {
   "cell_type": "code",
   "execution_count": 146,
   "metadata": {},
   "outputs": [],
   "source": [
    "def return_list_pars(route):\n",
    "    #route specifies the gates to append. This function is to be able to compute the gradient\n",
    "    ind_par=0\n",
    "    p=[]\n",
    "    for k in route:\n",
    "        if \"params\" in alphabet[str(k)].keys():\n",
    "            p.append(qml.variable.Variable(idx=ind_par))\n",
    "            ind_par+=1\n",
    "    return p"
   ]
  },
  {
   "cell_type": "code",
   "execution_count": 165,
   "metadata": {},
   "outputs": [],
   "source": [
    "dev = qml.device(\"default.qubit\", wires=3)\n",
    "\n",
    "@qml.qnode(dev)\n",
    "def circuit(params,route):\n",
    "    ind_par=0\n",
    "    for k in route:\n",
    "        operation = alphabet[str(int(k.val))]\n",
    "        if \"params\" in operation.keys():\n",
    "            if operation[\"gate\"].num_params == 1:\n",
    "                operation[\"gate\"](params[ind_par], wires = operation[\"wires\"])\n",
    "                ind_par+=1\n",
    "            else:\n",
    "                operation[\"gate\"](params[ind_par],params[ind_par+1],params[ind_par+2], wires = operation[\"wires\"])\n",
    "                ind_par+=3\n",
    "        else:\n",
    "            operation[\"gate\"](wires = operation[\"wires\"])\n",
    "    return qml.expval(qml.PauliZ(1))"
   ]
  },
  {
   "cell_type": "code",
   "execution_count": 168,
   "metadata": {},
   "outputs": [],
   "source": [
    "route = [2]\n",
    "params = return_list_pars(route)\n",
    "circuit(np.random.sample(len(params)),route)\n",
    "qgrad = qml.grad(circuit, argnum=0)\n",
    "g=[]\n",
    "for val in np.arange(-np.pi,np.pi,.01):\n",
    "    g.append(qgrad([val],route)[0])"
   ]
  },
  {
   "cell_type": "code",
   "execution_count": 169,
   "metadata": {},
   "outputs": [
    {
     "data": {
      "text/plain": [
       "[<matplotlib.lines.Line2D at 0x7f1d71fea550>]"
      ]
     },
     "execution_count": 169,
     "metadata": {},
     "output_type": "execute_result"
    },
    {
     "data": {
      "image/png": "[encoded data removed]",
      "text/plain": [
       "<Figure size 432x288 with 1 Axes>"
      ]
     },
     "metadata": {
      "needs_background": "light"
     },
     "output_type": "display_data"
    }
   ],
   "source": [
    "plt.plot(g)"
   ]
  },
  {
   "cell_type": "markdown",
   "metadata": {},
   "source": [
    "Now let's translate this into the W-state preparation:"
   ]
  },
  {
   "cell_type": "code",
   "execution_count": 180,
   "metadata": {},
   "outputs": [],
   "source": [
    "import numpy as np\n",
    "import pennylane as qml\n",
    "import pickle\n",
    "\n",
    "\n",
    "def projector(ket):\n",
    "    ket = np.expand_dims(ket, 1)\n",
    "    proj = ket.dot(ket.conjugate().T)\n",
    "    return proj\n",
    "\n",
    "n_qubits=3\n",
    "dev = qml.device(\"default.qubit\", wires=n_qubits)\n",
    "\n",
    "with open('alphabet_w.pickle', 'rb') as alphabet:\n",
    "    alphabet = pickle.load(alphabet)\n",
    "\n",
    "\n",
    "sq = 1 / np.sqrt(3)\n",
    "w_state = np.array([0, sq, sq, 0, sq, 0, 0, 0])\n",
    "observable = qml.Hermitian(projector(w_state), wires=[0, 1, 2])\n",
    "\n"
   ]
  },
  {
   "cell_type": "code",
   "execution_count": 193,
   "metadata": {},
   "outputs": [],
   "source": [
    "def return_list_pars(route):\n",
    "    #route specifies the gates to append. This function is to be able to compute the gradient.\n",
    "    #The gates we use are qml.Rot (3 free parameters), or RX, RY, RZ (only one free param).\n",
    "    #optimal_route for W-state = [0,1,2,3,4,5,4,6,7] \n",
    "    ind_par=0\n",
    "    p=[]\n",
    "    for k in route:\n",
    "        operation = alphabet[str(k)]\n",
    "        if \"params\" in operation.keys():\n",
    "            if operation[\"gate\"].num_params == 1:\n",
    "                p.append(qml.variable.Variable(idx=ind_par))\n",
    "                ind_par+=1\n",
    "            else:\n",
    "                for ind1 in range(3):\n",
    "                    p.append(qml.variable.Variable(idx=ind_par+ind1))\n",
    "                ind_par+=3\n",
    "    return p"
   ]
  },
  {
   "cell_type": "code",
   "execution_count": 181,
   "metadata": {},
   "outputs": [],
   "source": [
    "dev = qml.device(\"default.qubit\", wires=3)\n",
    "\n",
    "@qml.qnode(dev)\n",
    "def circuit_energy(params,route):\n",
    "    ind_par=0\n",
    "    for k in route:\n",
    "        operation = alphabet[str(int(k.val))]\n",
    "        if \"params\" in operation.keys():\n",
    "            if operation[\"gate\"].num_params == 1:\n",
    "                operation[\"gate\"](params[ind_par], wires = operation[\"wires\"])\n",
    "                ind_par+=1\n",
    "            else:\n",
    "                operation[\"gate\"](params[ind_par],params[ind_par+1],params[ind_par+2], wires = operation[\"wires\"])\n",
    "                ind_par+=3\n",
    "        else:\n",
    "            operation[\"gate\"](wires = operation[\"wires\"])\n",
    "    return qml.expval(qml.Hermitian(projector(w_state), wires=[0, 1, 2]))\n",
    "\n",
    "pars = return_list_pars(route)\n",
    "circuit(np.random.sample(len(pars)), route)\n",
    "#qgrad = qml.grad(circuit, argnum=0)\n",
    "#qgrad(np.random.sample(len(opt_pars)), optimal_route)\n",
    "\n",
    "def loss(x):\n",
    "    return 1-circuit_energy(x, optimal_route)\n",
    "\n",
    "opt = qml.GradientDescentOptimizer(stepsize=0.1)\n",
    "steps = 100\n",
    "params = np.random.sample(len(opt_pars))\n",
    "\n",
    "for i in range(steps):\n",
    "    params = opt.step(loss, params)\n",
    "energy = circuit_energy()"
   ]
  },
  {
   "cell_type": "code",
   "execution_count": 199,
   "metadata": {},
   "outputs": [
    {
     "data": {
      "text/plain": [
       "0.3333333333333334"
      ]
     },
     "execution_count": 199,
     "metadata": {},
     "output_type": "execute_result"
    }
   ],
   "source": [
    "route = [0]\n",
    "pars = return_list_pars(route)\n",
    "circuit([], route)"
   ]
  },
  {
   "cell_type": "code",
   "execution_count": 191,
   "metadata": {},
   "outputs": [
    {
     "data": {
      "text/plain": [
       "0.9969111372977922"
      ]
     },
     "execution_count": 191,
     "metadata": {},
     "output_type": "execute_result"
    }
   ],
   "source": [
    "circuit(params, optimal_route)"
   ]
  },
  {
   "cell_type": "code",
   "execution_count": null,
   "metadata": {},
   "outputs": [],
   "source": [
    "def run_state(list_ops):\n",
    "\n",
    "    @qml.qnode(device=dev)\n",
    "    def circuit_probs():\n",
    "        circuit()\n",
    "        return qml.probs(wires=list(range(n_qubits)))\n",
    "\n",
    "    @qml.qnode(device=dev)\n",
    "    def circuit_obs():\n",
    "        circuit()\n",
    "        return qml.expval(observable)\n",
    "\n",
    "    energy = circuit_obs()\n",
    "    probs = circuit_probs()\n",
    "    print(qml.grad(circuit_obs, argnum=0))\n",
    "    return energy, probs\n"
   ]
  }
 ],
 "metadata": {
  "kernelspec": {
   "display_name": "Python 3",
   "language": "python",
   "name": "python3"
  },
  "language_info": {
   "codemirror_mode": {
    "name": "ipython",
    "version": 3
   },
   "file_extension": ".py",
   "mimetype": "text/x-python",
   "name": "python",
   "nbconvert_exporter": "python",
   "pygments_lexer": "ipython3",
   "version": "3.6.9"
  }
 },
 "nbformat": 4,
 "nbformat_minor": 4
}
