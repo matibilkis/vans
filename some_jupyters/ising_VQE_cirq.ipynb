{
 "cells": [
  {
   "cell_type": "code",
   "execution_count": 1,
   "metadata": {},
   "outputs": [],
   "source": [
    "import networkx as nx\n",
    "import numpy as np\n",
    "import sympy\n",
    "import cirq\n",
    "# TensorFlow\n",
    "import tensorflow as tf\n",
    "from tensorflow.keras import Input, Model\n",
    "from tensorflow.keras.optimizers import Adam\n",
    "import tensorflow.keras.backend as K\n",
    "# TensorFlow Quantum\n",
    "import tensorflow_quantum as tfq\n",
    "from tensorflow_quantum.python.layers import Expectation\n",
    "\n",
    "import matplotlib.pyplot as plt\n",
    "%matplotlib inline"
   ]
  },
  {
   "cell_type": "code",
   "execution_count": 2,
   "metadata": {},
   "outputs": [
    {
     "data": {
      "image/png": "[encoded data removed]",
      "text/plain": [
       "<Figure size 432x288 with 3 Axes>"
      ]
     },
     "metadata": {
      "needs_background": "light"
     },
     "output_type": "display_data"
    },
    {
     "name": "stdout",
     "output_type": "stream",
     "text": [
      "((0, 1), 0.0684219766242915) ((0, 5), -1.3281330415939832) ((1, 2), -0.4759481828751495) ((2, 3), -1.0423294015086495) ((3, 4), -0.5625653467895169) ((4, 5), 1.4748785348094264)\n",
      "(0, -1.476920993990063) (1, -0.4517340842341979) (2, -1.410464984467898) (3, 0.5060585363559404) (4, 1.1773255714161315) (5, -0.6588018927365509)\n"
     ]
    }
   ],
   "source": [
    "# Define the number of qubits of our target quantum system.\n",
    "N = 6\n",
    "G = nx.cycle_graph(N)\n",
    "weights = [4*(np.random.random()-0.5) for _ in G.edges]\n",
    "biases = [4*(np.random.random()-0.5) for _ in G.nodes]\n",
    "\n",
    "def draw(graph, pos, weights, biases, title):\n",
    "    label = {i:'{}'.format(i) for i in graph.nodes}\n",
    "    edge_options = {\n",
    "        \"edge_color\": weights,\n",
    "        \"width\": 4,\n",
    "        \"edge_cmap\": plt.cm.RdBu,\n",
    "        \"edge_vmin\" : -2,\n",
    "        \"edge_vmax\" : 2,\n",
    "    }\n",
    "    node_options = {\n",
    "        \"node_color\": biases,\n",
    "        \"cmap\": plt.cm.BrBG,\n",
    "        \"vmin\" : -2,\n",
    "        \"vmax\" : 2,\n",
    "    }\n",
    "    nx.draw_networkx_labels(graph, pos, label, font_color=\"w\")\n",
    "    nodes = nx.draw_networkx_nodes(graph, pos, **node_options)\n",
    "    edges = nx.draw_networkx_edges(graph, pos, **edge_options)\n",
    "    edges.set_cmap(plt.cm.RdBu)\n",
    "    edges.set_clim(-2, 2)\n",
    "\n",
    "    plt.title(title)\n",
    "    plt.colorbar(nodes)\n",
    "    plt.colorbar(edges)\n",
    "    plt.show()\n",
    "\n",
    "\n",
    "pos = nx.circular_layout(G)\n",
    "draw(G, pos, weights, biases, 'Target Ising model')\n",
    "print(*zip(G.edges, weights))\n",
    "print(*zip(G.nodes, biases))"
   ]
  },
  {
   "cell_type": "code",
   "execution_count": 3,
   "metadata": {},
   "outputs": [
    {
     "name": "stdout",
     "output_type": "stream",
     "text": [
      "(0.0684219766242915+0j)*Z((0, 0))*Z((0, 1))\n",
      "(-1.3281330415939832+0j)*Z((0, 0))*Z((0, 5))\n",
      "(-0.4759481828751495+0j)*Z((0, 1))*Z((0, 2))\n",
      "(-1.0423294015086495+0j)*Z((0, 2))*Z((0, 3))\n",
      "(-0.5625653467895169+0j)*Z((0, 3))*Z((0, 4))\n",
      "(1.4748785348094264+0j)*Z((0, 4))*Z((0, 5))\n",
      "(-1.476920993990063+0j)*Z((0, 0))\n",
      "(-0.4517340842341979+0j)*Z((0, 1))\n",
      "(-1.410464984467898+0j)*Z((0, 2))\n",
      "(0.5060585363559404+0j)*Z((0, 3))\n",
      "(1.1773255714161315+0j)*Z((0, 4))\n",
      "(-0.6588018927365509+0j)*Z((0, 5))\n",
      "X((0, 0))\n",
      "X((0, 1))\n",
      "X((0, 2))\n",
      "X((0, 3))\n",
      "X((0, 4))\n",
      "X((0, 5))\n"
     ]
    }
   ],
   "source": [
    "def Hamiltonian(graph, weights, biases, qubits):\n",
    "    H_cost = [w * cirq.Z(qubits[i]) * cirq.Z(qubits[j]) \\\n",
    "            for (i, j), w in zip(graph.edges, weights)]\n",
    "    H_cost += [b * cirq.Z(qubits[v]) for v, b in enumerate(biases)]\n",
    "    H_mixer = [cirq.X(q) for q in qubits]\n",
    "    return H_cost, H_mixer\n",
    "\n",
    "qubits = cirq.GridQubit.rect(1, N)\n",
    "true_H_cost, true_H_mixer = Hamiltonian(G, weights, biases, qubits) \n",
    "for cost in true_H_cost:\n",
    "    print(cost)\n",
    "for mixer in true_H_mixer:\n",
    "    print(mixer)\n"
   ]
  },
  {
   "cell_type": "code",
   "execution_count": 4,
   "metadata": {},
   "outputs": [
    {
     "name": "stdout",
     "output_type": "stream",
     "text": [
      "(0, 0): ───X^t_x0───Z^t_z0───\n",
      "\n",
      "(0, 1): ───X^t_x1───Z^t_z1───\n",
      "\n",
      "(0, 2): ───X^t_x2───Z^t_z2───\n",
      "\n",
      "(0, 3): ───X^t_x3───Z^t_z3───\n",
      "\n",
      "(0, 4): ───X^t_x4───Z^t_z4───\n",
      "\n",
      "(0, 5): ───X^t_x5───Z^t_z5───\n"
     ]
    }
   ],
   "source": [
    "\n",
    "\n",
    "class VQE:\n",
    "    \"\"\"Variational Quantum Eigensolver\"\"\"\n",
    "    def __init__(self, qubits):\n",
    "        self.qubits = qubits\n",
    "        # Parameters\n",
    "        t_x = ['t_x{}'.format(i) for i, _ in enumerate(qubits)]\n",
    "        t_z = ['t_z{}'.format(i) for i, _ in enumerate(qubits)]\n",
    "        self.symbols = t_x + t_z\n",
    "        # Parameterized quantum gates without Qubits\n",
    "        gates = []\n",
    "        gates.append([cirq.XPowGate(exponent=sympy.Symbol(x)) for x in t_x])\n",
    "        gates.append([cirq.ZPowGate(exponent=sympy.Symbol(z)) for z in t_z])\n",
    "        self._gates = gates\n",
    "        self.circuit = self.get_state(qubits)\n",
    "\n",
    "    def get_state(self, qubits, params=None):\n",
    "        \"\"\"Outputs quantum data with given qubits.\"\"\"\n",
    "        circuit = cirq.Circuit(\n",
    "            [g(i) for gates in self._gates for i, g in zip(qubits, gates)])\n",
    "        if params is None:\n",
    "            return circuit\n",
    "        resolver = {k: v for k, v in zip(self.symbols, params)}\n",
    "        return cirq.resolve_parameters(circuit, resolver)\n",
    "\n",
    "vqe = VQE(qubits)\n",
    "print(vqe.circuit)\n",
    "\n"
   ]
  },
  {
   "cell_type": "code",
   "execution_count": 13,
   "metadata": {},
   "outputs": [
    {
     "data": {
      "text/plain": [
       "['t_x0',\n",
       " 't_x1',\n",
       " 't_x2',\n",
       " 't_x3',\n",
       " 't_x4',\n",
       " 't_x5',\n",
       " 't_z0',\n",
       " 't_z1',\n",
       " 't_z2',\n",
       " 't_z3',\n",
       " 't_z4',\n",
       " 't_z5']"
      ]
     },
     "execution_count": 13,
     "metadata": {},
     "output_type": "execute_result"
    }
   ],
   "source": [
    "vqe.symbols"
   ]
  },
  {
   "cell_type": "code",
   "execution_count": 5,
   "metadata": {},
   "outputs": [],
   "source": [
    "def vqe_keras_model(vqe, H_target):\n",
    "    # Construct measurement layers.\n",
    "    circuit_input = Input(shape=(), dtype=tf.string)\n",
    "    output = Expectation()(\n",
    "            circuit_input,\n",
    "            symbol_names=vqe.symbols,\n",
    "            operators=tfq.convert_to_tensor([H_target]),\n",
    "            initializer=tf.keras.initializers.RandomNormal())\n",
    "    # Each term in H_target is calculated respectively.\n",
    "    # Here, we sum them up to get the final <H>.\n",
    "    output = tf.math.reduce_sum(output, axis=-1, keepdims=True)\n",
    "\n",
    "    # Model compile\n",
    "    model = Model(inputs=circuit_input, outputs=output)\n",
    "    adam = Adam(learning_rate=0.05)\n",
    "    model.compile(optimizer=adam, loss='mse')\n",
    "    return model\n",
    "\n",
    "H_target = true_H_cost + true_H_mixer\n",
    "model = vqe_keras_model(vqe, H_target)"
   ]
  },
  {
   "cell_type": "code",
   "execution_count": 11,
   "metadata": {},
   "outputs": [
    {
     "data": {
      "text/plain": [
       "cirq.ops.pauli_string.PauliString"
      ]
     },
     "execution_count": 11,
     "metadata": {},
     "output_type": "execute_result"
    }
   ],
   "source": [
    "type(H_target[0])"
   ]
  },
  {
   "cell_type": "code",
   "execution_count": 12,
   "metadata": {},
   "outputs": [
    {
     "data": {
      "text/plain": [
       "<tf.Tensor: shape=(1, 1), dtype=float64, numpy=array([[-16.63358255]])>"
      ]
     },
     "execution_count": 12,
     "metadata": {},
     "output_type": "execute_result"
    }
   ],
   "source": [
    "vqe_output"
   ]
  },
  {
   "cell_type": "code",
   "execution_count": 6,
   "metadata": {},
   "outputs": [
    {
     "name": "stdout",
     "output_type": "stream",
     "text": [
      "Before training : <H>=[[-4.130685]]\n",
      "After training : <H>=[[-10.632116]] >= -16.6335825474018\n"
     ]
    },
    {
     "data": {
      "image/png": "[encoded data removed]",
      "text/plain": [
       "<Figure size 432x288 with 1 Axes>"
      ]
     },
     "metadata": {
      "needs_background": "light"
     },
     "output_type": "display_data"
    }
   ],
   "source": [
    "lower_bound = -np.sum(np.abs(weights + biases)) - N\n",
    "vqe_input = tfq.convert_to_tensor([vqe.circuit])\n",
    "vqe_output = tf.convert_to_tensor([[lower_bound]])\n",
    "print('Before training : <H>={}'.format(model.predict(x=vqe_input)))\n",
    "history = model.fit(x=vqe_input, y=vqe_output, batch_size=1, epochs=100,\n",
    "                    verbose=0)\n",
    "plt.plot(history.history['loss'])\n",
    "print('After training : <H>={} >= {}'.format(model.predict(x=vqe_input),\n",
    "                                             lower_bound))"
   ]
  },
  {
   "cell_type": "code",
   "execution_count": null,
   "metadata": {},
   "outputs": [],
   "source": []
  }
 ],
 "metadata": {
  "kernelspec": {
   "display_name": "Python 3",
   "language": "python",
   "name": "python3"
  },
  "language_info": {
   "codemirror_mode": {
    "name": "ipython",
    "version": 3
   },
   "file_extension": ".py",
   "mimetype": "text/x-python",
   "name": "python",
   "nbconvert_exporter": "python",
   "pygments_lexer": "ipython3",
   "version": "3.6.9"
  }
 },
 "nbformat": 4,
 "nbformat_minor": 4
}
