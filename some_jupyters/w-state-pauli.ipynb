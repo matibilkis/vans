{
 "cells": [
  {
   "cell_type": "markdown",
   "metadata": {},
   "source": [
    "We decompose the W state following this method: https://quantumcomputing.stackexchange.com/questions/8725/can-arbitrary-matrices-be-decomposed-using-the-pauli-basis"
   ]
  },
  {
   "cell_type": "code",
   "execution_count": 29,
   "metadata": {},
   "outputs": [],
   "source": [
    "import numpy as np\n",
    "import itertools"
   ]
  },
  {
   "cell_type": "markdown",
   "metadata": {},
   "source": [
    "## Prepare W state"
   ]
  },
  {
   "cell_type": "code",
   "execution_count": 17,
   "metadata": {},
   "outputs": [],
   "source": [
    "sq = 1/np.sqrt(3)\n",
    "w_state= np.expand_dims(np.array([0,sq,sq,0,sq,0,0,0]), 1)\n",
    "W = w_state.dot(w_state.T.conj())"
   ]
  },
  {
   "cell_type": "markdown",
   "metadata": {},
   "source": [
    "## Find the pauli elements"
   ]
  },
  {
   "cell_type": "code",
   "execution_count": 36,
   "metadata": {},
   "outputs": [],
   "source": [
    "X = np.array([[0, 1], [1, 0]])\n",
    "Y = np.array([[0, -1j], [1j, 0]])\n",
    "Z = np.array([[1, 0], [0, -1]])\n",
    "I = np.eye(2)\n",
    "\n",
    "pauli_matrices = {\"X\": X,\n",
    "                  \"Y\": Y,\n",
    "                  \"Z\": Z,\n",
    "                  \"I\": I}"
   ]
  },
  {
   "cell_type": "code",
   "execution_count": 57,
   "metadata": {},
   "outputs": [
    {
     "name": "stdout",
     "output_type": "stream",
     "text": [
      "('X', 'X', 'Z') 0.6665\n",
      "('X', 'X', 'I') 0.6665\n",
      "('X', 'Z', 'X') 0.6665\n",
      "('X', 'I', 'X') 0.6665\n",
      "('Y', 'Y', 'Z') 0.6665\n",
      "('Y', 'Y', 'I') 0.6665\n",
      "('Y', 'Z', 'Y') 0.6665\n",
      "('Y', 'I', 'Y') 0.6665\n",
      "('Z', 'X', 'X') 0.6665\n",
      "('Z', 'Y', 'Y') 0.6665\n",
      "('Z', 'Z', 'Z') -1.0\n",
      "('Z', 'Z', 'I') -0.3333\n",
      "('Z', 'I', 'Z') -0.3333\n",
      "('Z', 'I', 'I') 0.3333\n",
      "('I', 'X', 'X') 0.6665\n",
      "('I', 'Y', 'Y') 0.6665\n",
      "('I', 'Z', 'Z') -0.3333\n",
      "('I', 'Z', 'I') 0.3333\n",
      "('I', 'I', 'Z') 0.3333\n",
      "('I', 'I', 'I') 1.0\n"
     ]
    },
    {
     "name": "stderr",
     "output_type": "stream",
     "text": [
      "/home/artix41/miniconda3/envs/vans/lib/python3.7/site-packages/ipykernel_launcher.py:6: ComplexWarning: Casting complex values to real discards the imaginary part\n",
      "  \n"
     ]
    }
   ],
   "source": [
    "hamiltonian = []\n",
    "for pauli_term in itertools.product(pauli_matrices.keys(), repeat=3):\n",
    "    pauli_op = np.kron(np.kron(pauli_matrices[pauli_term[0]], pauli_matrices[pauli_term[1]]), pauli_matrices[pauli_term[2]])\n",
    "    element = np.trace(pauli_op.dot(W))\n",
    "    if element != 0:\n",
    "        print(pauli_term, np.array(element, dtype=\"float16\"))\n",
    "        hamiltonian.append((pauli_op, element))"
   ]
  },
  {
   "cell_type": "markdown",
   "metadata": {},
   "source": [
    "## Verification"
   ]
  },
  {
   "cell_type": "code",
   "execution_count": 55,
   "metadata": {},
   "outputs": [
    {
     "name": "stderr",
     "output_type": "stream",
     "text": [
      "/home/artix41/miniconda3/envs/vans/lib/python3.7/site-packages/ipykernel_launcher.py:4: ComplexWarning: Casting complex values to real discards the imaginary part\n",
      "  after removing the cwd from sys.path.\n"
     ]
    }
   ],
   "source": [
    "H = np.zeros((8, 8), dtype=\"complex128\")\n",
    "for pauli_op, element in hamiltonian:\n",
    "    H += pauli_op * element / 8\n",
    "H = np.array(H, dtype=\"float16\")"
   ]
  },
  {
   "cell_type": "code",
   "execution_count": 56,
   "metadata": {},
   "outputs": [
    {
     "data": {
      "text/plain": [
       "array([[ 0.    ,  0.    ,  0.    ,  0.    ,  0.    ,  0.    ,  0.    ,\n",
       "         0.    ],\n",
       "       [ 0.    ,  0.3333,  0.3333,  0.    ,  0.3333,  0.    ,  0.    ,\n",
       "         0.    ],\n",
       "       [ 0.    ,  0.3333,  0.3333,  0.    ,  0.3333,  0.    ,  0.    ,\n",
       "         0.    ],\n",
       "       [ 0.    ,  0.    ,  0.    ,  0.    ,  0.    ,  0.    ,  0.    ,\n",
       "         0.    ],\n",
       "       [ 0.    ,  0.3333,  0.3333,  0.    ,  0.3333,  0.    ,  0.    ,\n",
       "         0.    ],\n",
       "       [ 0.    ,  0.    ,  0.    ,  0.    ,  0.    ,  0.    ,  0.    ,\n",
       "         0.    ],\n",
       "       [ 0.    ,  0.    ,  0.    ,  0.    ,  0.    ,  0.    ,  0.    ,\n",
       "         0.    ],\n",
       "       [ 0.    ,  0.    ,  0.    ,  0.    ,  0.    ,  0.    ,  0.    ,\n",
       "        -0.    ]], dtype=float16)"
      ]
     },
     "execution_count": 56,
     "metadata": {},
     "output_type": "execute_result"
    }
   ],
   "source": [
    "H"
   ]
  },
  {
   "cell_type": "code",
   "execution_count": null,
   "metadata": {},
   "outputs": [],
   "source": []
  }
 ],
 "metadata": {
  "kernelspec": {
   "display_name": "Python 3",
   "language": "python",
   "name": "python3"
  },
  "language_info": {
   "codemirror_mode": {
    "name": "ipython",
    "version": 3
   },
   "file_extension": ".py",
   "mimetype": "text/x-python",
   "name": "python",
   "nbconvert_exporter": "python",
   "pygments_lexer": "ipython3",
   "version": "3.7.7"
  }
 },
 "nbformat": 4,
 "nbformat_minor": 4
}
