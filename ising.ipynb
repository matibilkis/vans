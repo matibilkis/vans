{
 "cells": [
  {
   "cell_type": "markdown",
   "metadata": {},
   "source": [
    "We'll write a simplifier a la Luckasz"
   ]
  },
  {
   "cell_type": "code",
   "execution_count": 251,
   "metadata": {},
   "outputs": [],
   "source": [
    "import numpy as np\n",
    "import sympy\n",
    "import cirq\n",
    "import tensorflow as tf\n",
    "import tensorflow_quantum as tfq\n",
    "import matplotlib.pyplot as plt\n",
    "from tqdm import tqdm\n",
    "\n",
    "\n",
    "class Solver:\n",
    "    def __init__(self, n_qubits=3, qlr=0.01, qepochs=200,verbose=0, g=1, J=0):\n",
    "\n",
    "        \"\"\"\"solver with n**2 possible actions: n(n-1) CNOTS + n 1-qubit unitary\"\"\"\n",
    "        self.n_qubits = n_qubits\n",
    "        self.qubits = cirq.GridQubit.rect(1, n_qubits)\n",
    "        self.lower_bound_Eg = -2*self.n_qubits\n",
    "        \n",
    "        self.qlr = qlr\n",
    "        self.qepochs=qepochs\n",
    "        self.verbose=verbose\n",
    "\n",
    "\n",
    "        self.indexed_cnots = {}\n",
    "        self.cnots_index = {}\n",
    "        count = 0\n",
    "        for control in range(self.n_qubits):\n",
    "            for target in range(self.n_qubits):\n",
    "                if control != target:\n",
    "                    self.indexed_cnots[str(count)] = [control, target]\n",
    "                    self.cnots_index[str([control,target])] = count\n",
    "                    count += 1\n",
    "        self.number_of_cnots = len(self.indexed_cnots)\n",
    "        \n",
    "        self.final_params = []\n",
    "        self.parametrized_unitary = [cirq.rz, cirq.rx, cirq.rz]\n",
    "        \n",
    "        self.observable=self.ising_obs(g=g, J=J)\n",
    "        \n",
    "    def ising_obs(self, g=1, J=0):\n",
    "        # g \\sum_i Z_i - J \\sum_{i} X_i X_{i+1}\n",
    "        observable = [float(g)*cirq.Z.on(q) for q in self.qubits] \n",
    "        for q in range(len(self.qubits)):\n",
    "            observable.append(float(J)*cirq.X.on(self.qubits[q])*cirq.X.on(self.qubits[(q+1)%len(self.qubits)]))\n",
    "        self.ground_energy = -g*np.sum(np.sqrt([1+(J/4*g)**2 - (np.cos(q)*(J/2*g)) for q in range(self.n_qubits)]))\n",
    "        return observable\n",
    "        \n",
    "    def index_meaning(self,index):\n",
    "        if index<self.number_of_cnots:\n",
    "            print(\"cnot: \",self.indexed_cnots[str(index)])\n",
    "            return\n",
    "        else:\n",
    "            print(\"1-qubit unitary on: \",(index-self.number_of_cnots)%self.n_qubits)\n",
    "            return\n",
    "\n",
    "    def append_to_circuit(self, ind, circuit, params):\n",
    "        \"\"\"\n",
    "        appends to circuit the index of the gate;\n",
    "        and if one_hot_gate it implies a rotation,\n",
    "        appends to params a symbol\n",
    "        \"\"\"\n",
    "\n",
    "        if ind < self.number_of_cnots:\n",
    "            control, target = self.indexed_cnots[str(ind)]\n",
    "            circuit.append(cirq.CNOT.on(self.qubits[control], self.qubits[target]))\n",
    "            return circuit, params\n",
    "        else:\n",
    "            qubit = self.qubits[(ind-self.number_of_cnots)%self.n_qubits]\n",
    "            for par, gate in zip(range(3),self.parametrized_unitary):\n",
    "                new_param = \"th_\"+str(len(params))\n",
    "                params.append(new_param)\n",
    "                circuit.append(gate(sympy.Symbol(new_param)).on(qubit))\n",
    "            return circuit, params\n",
    "        \n",
    "    def give_circuit(self, lista,one_hot=False):\n",
    "        circuit, symbols = [], []\n",
    "        for k in lista:\n",
    "            circuit, symbols = self.append_to_circuit(k,circuit,symbols)\n",
    "        circuit = cirq.Circuit(circuit)\n",
    "        return circuit, symbols\n",
    "\n",
    "    def dressed_cnot(self,q1,q2):\n",
    "        u1 = self.number_of_cnots + q1\n",
    "        u2 = self.number_of_cnots + q2\n",
    "        cnot = self.cnots_index[str([q1,q2])]\n",
    "        u3 = self.number_of_cnots + q1\n",
    "        u4 = self.number_of_cnots + q2\n",
    "        return [u1,u2,cnot,u3,u4]\n",
    "    \n",
    "    def dressed_ansatz(self, layers=1):\n",
    "        c=[]\n",
    "        for layer in range(layers):\n",
    "            qubits = list(range(self.n_qubits))\n",
    "            qdeph = qubits[layers:]\n",
    "            for q in qubits[:layers]:\n",
    "                qdeph.append(q)\n",
    "            for ind1, ind2 in zip(qubits,qdeph):\n",
    "                for k in self.dressed_cnot(ind1,ind2):\n",
    "                    c.append(k)\n",
    "        return c\n",
    "\n",
    "\n",
    "    def TFQ_model(self, symbols):\n",
    "        circuit_input = tf.keras.Input(shape=(), dtype=tf.string)\n",
    "        output = tfq.layers.Expectation()(\n",
    "                circuit_input,\n",
    "                symbol_names=symbols,\n",
    "                operators=tfq.convert_to_tensor([self.observable]),\n",
    "                initializer=tf.keras.initializers.RandomNormal()) #we may change this!!!\n",
    "        model = tf.keras.Model(inputs=circuit_input, outputs=output)\n",
    "        adam = tf.keras.optimizers.Adam(learning_rate=self.qlr)\n",
    "        model.compile(optimizer=adam, loss='mse')\n",
    "        return model\n",
    "\n",
    "\n",
    "    def run_circuit(self, gates_index, sim_q_state=False):\n",
    "        \"\"\"\n",
    "        takes as input vector with actions described as integer\n",
    "        and outputsthe energy of that circuit (w.r.t self.observable)\n",
    "        \"\"\"\n",
    "        ### create a vector with the gates on the corresponding qubit(s)\n",
    "        circuit, symbols = self.give_circuit(gates_index)\n",
    "        \n",
    "        ### this is because each qubit should be \"activated\" in TFQ to do the optimization (if the observable has support on this qubit as well and you don't add I then error)\n",
    "        effective_qubits = list(circuit.all_qubits())\n",
    "        for k in self.qubits:\n",
    "            if k not in effective_qubits:\n",
    "                circuit.append(cirq.I.on(k))\n",
    "\n",
    "        tfqcircuit = tfq.convert_to_tensor([circuit])\n",
    "        if len(symbols) == 0:\n",
    "            expval = tfq.layers.Expectation()(\n",
    "                                            tfqcircuit,\n",
    "                                            operators=tfq.convert_to_tensor([self.observable]))\n",
    "            energy = np.float32(np.squeeze(tf.math.reduce_sum(expval, axis=-1, keepdims=True)))\n",
    "            self.final_params = []\n",
    "\n",
    "        else:\n",
    "            model = self.TFQ_model(symbols)\n",
    "            qoutput = tf.ones((1, 1))*self.lower_bound_Eg\n",
    "            model.fit(x=tfqcircuit, y=qoutput, batch_size=1, epochs=self.qepochs, verbose=self.verbose)\n",
    "            energy = np.squeeze(tf.math.reduce_sum(model.predict(tfqcircuit), axis=-1))\n",
    "            self.final_params = [np.squeeze(k.numpy()) for k in model.trainable_variables]\n",
    "\n",
    "        #if sim_q_state:\n",
    "            #simulator = cirq.Simulator()\n",
    "            #result = simulator.simulate(circuit, qubit_order=self.qubits)\n",
    "            #probs = np.abs(result.final_state)**2\n",
    "            #return energy, probs\n",
    "        return energy"
   ]
  },
  {
   "cell_type": "code",
   "execution_count": 252,
   "metadata": {},
   "outputs": [
    {
     "name": "stderr",
     "output_type": "stream",
     "text": [
      "10it [05:15, 31.55s/it]\n"
     ]
    }
   ],
   "source": [
    "en=[]\n",
    "gri = np.arange(.01,1,.1).astype(np.float32)\n",
    "en = np.zeros((len(gri), len(gri)))\n",
    "solved = np.zeros((len(gri), len(gri)))\n",
    "for i1,J in tqdm(enumerate(gri)):\n",
    "    for i2,g in enumerate(gri):\n",
    "        sol = Solver(g=g, J=J)\n",
    "        en[i1,i2] = sol.ground_energy\n",
    "        solved[i1,i2] = sol.run_circuit(sol.dressed_ansatz(layers=1))"
   ]
  },
  {
   "cell_type": "code",
   "execution_count": 254,
   "metadata": {},
   "outputs": [
    {
     "data": {
      "text/plain": [
       "array([[-4.06405680e-03, -2.51481765e-04, -1.29571051e-04,\n",
       "        -4.25265157e-04, -6.34726999e-04,  3.20105740e-03,\n",
       "         3.75256335e-03,  6.48052927e-03, -1.82733967e-03,\n",
       "        -2.05014248e-03],\n",
       "       [-8.94949816e-02, -4.52347708e-02, -2.41775373e-02,\n",
       "        -2.13116794e-02, -2.01920982e-02, -2.00868947e-02,\n",
       "        -2.23479628e-02, -2.63926032e-02, -2.81568246e-02,\n",
       "        -3.33539951e-02],\n",
       "       [-1.94862545e-01, -1.09504190e-01, -9.48205931e-02,\n",
       "        -7.60280931e-02, -5.20330192e-02, -5.53492221e-02,\n",
       "        -6.30053720e-02, -5.72030910e-02, -7.27138445e-02,\n",
       "        -6.91545926e-02],\n",
       "       [-2.79689468e-01, -1.88603338e-01, -1.68265951e-01,\n",
       "        -1.36956200e-01, -1.16686586e-01, -1.22326609e-01,\n",
       "        -1.14502673e-01, -1.00197341e-01, -1.06803322e-01,\n",
       "        -1.32754892e-01],\n",
       "       [-3.87640400e-01, -3.18561733e-01, -2.48761152e-01,\n",
       "        -1.15276179e-01, -1.98618099e-01, -1.91751478e-01,\n",
       "        -1.59227096e-01, -1.60657165e-01, -1.88526355e-01,\n",
       "        -1.92754188e-01],\n",
       "       [-4.87923848e-01, -3.47478964e-01, -3.52901975e-01,\n",
       "        -2.27667584e-01, -2.44682684e-01, -2.36959177e-01,\n",
       "        -2.34916512e-01, -2.41783647e-01, -2.25712536e-01,\n",
       "        -2.60741103e-01],\n",
       "       [-5.77189794e-01, -5.07887710e-01, -3.99562142e-01,\n",
       "        -3.18779829e-01, -2.97682491e-01, -3.42380833e-01,\n",
       "        -3.26839754e-01, -2.99282937e-01, -2.77058826e-01,\n",
       "        -3.46010275e-01],\n",
       "       [-6.83283561e-01, -5.68980249e-01, -5.14896310e-01,\n",
       "        -4.42983295e-01, -4.36193177e-01, -4.20603191e-01,\n",
       "        -4.24371906e-01, -3.59351482e-01, -4.01270905e-01,\n",
       "        -3.63801248e-01],\n",
       "       [-7.84338887e-01, -6.58520448e-01, -6.12897239e-01,\n",
       "        -5.02840820e-01, -5.49604191e-01, -5.09732993e-01,\n",
       "        -4.81235290e-01, -1.93991962e-02, -5.01887073e-01,\n",
       "        -4.57659795e-01],\n",
       "       [-8.84803649e-01, -6.74899853e-01, -7.18331129e-01,\n",
       "        -5.11161893e-01, -5.76044998e-01, -5.80432514e-01,\n",
       "        -4.66915237e-01, -5.89610691e-01, -5.74687076e-01,\n",
       "        -5.60414872e-01]])"
      ]
     },
     "execution_count": 254,
     "metadata": {},
     "output_type": "execute_result"
    }
   ],
   "source": [
    "solved-en"
   ]
  },
  {
   "cell_type": "code",
   "execution_count": 247,
   "metadata": {},
   "outputs": [
    {
     "data": {
      "text/plain": [
       "<matplotlib.image.AxesImage at 0x7fade8d6fcc0>"
      ]
     },
     "execution_count": 247,
     "metadata": {},
     "output_type": "execute_result"
    },
    {
     "data": {
      "image/png": "[encoded data removed]",
      "text/plain": [
       "<Figure size 500x500 with 1 Axes>"
      ]
     },
     "metadata": {
      "needs_background": "light"
     },
     "output_type": "display_data"
    }
   ],
   "source": [
    "plt.figure(figsize=(50,50), dpi=10)\n",
    "ax = plt.subplot2grid((1,1),(0,0))\n",
    "ax.matshow(en,cmap=plt.get_cmap('gray'))"
   ]
  },
  {
   "cell_type": "code",
   "execution_count": 257,
   "metadata": {},
   "outputs": [
    {
     "name": "stderr",
     "output_type": "stream",
     "text": [
      "10it [58:35, 351.59s/it]\n"
     ]
    }
   ],
   "source": [
    "en=[]\n",
    "gri = np.arange(.01,1,.1).astype(np.float32)\n",
    "en = np.zeros((len(gri), len(gri)))\n",
    "solved = np.zeros((len(gri), len(gri)))\n",
    "for i1,J in tqdm(enumerate(gri)):\n",
    "    for i2,g in enumerate(gri):\n",
    "        sol = Solver(g=g, J=J,qepochs=1000, qlr=0.005)\n",
    "        en[i1,i2] = sol.ground_energy\n",
    "        solved[i1,i2] = sol.run_circuit(sol.dressed_ansatz(layers=2))"
   ]
  },
  {
   "cell_type": "code",
   "execution_count": 259,
   "metadata": {},
   "outputs": [
    {
     "data": {
      "text/plain": [
       "array([[-4.64124210e-03, -6.84569114e-04, -4.71046061e-04,\n",
       "        -5.06327474e-04, -6.49628160e-04, -8.73516120e-04,\n",
       "        -1.16100515e-03, -1.51746038e-03, -1.92771390e-03,\n",
       "        -2.39751835e-03],\n",
       "       [-1.00653552e-01, -5.14212561e-02, -3.45424870e-02,\n",
       "        -2.73701935e-02, -2.44044777e-02, -2.38213641e-02,\n",
       "        -2.48122573e-02, -2.70246508e-02, -3.02179532e-02,\n",
       "        -3.43055237e-02],\n",
       "       [-2.00353623e-01, -1.33915451e-01, -1.00027059e-01,\n",
       "        -8.17402446e-02, -7.19769718e-02, -6.74682769e-02,\n",
       "        -6.66996679e-02, -6.86540970e-02, -7.28061125e-02,\n",
       "        -7.89118729e-02],\n",
       "       [-3.00241239e-01, -2.25500581e-01, -1.79991674e-01,\n",
       "        -1.52050480e-01, -1.35257963e-01, -1.26070854e-01,\n",
       "        -1.22390990e-01, -1.23053338e-01, -1.27106810e-01,\n",
       "        -1.34144634e-01],\n",
       "       [-4.00189114e-01, -3.20697308e-01, -2.67339145e-01,\n",
       "        -2.31863818e-01, -2.08954498e-01, -1.95219157e-01,\n",
       "        -1.88513957e-01, -1.87402961e-01, -1.90807783e-01,\n",
       "        -1.98178688e-01],\n",
       "       [-5.00155973e-01, -4.17663493e-01, -3.58856419e-01,\n",
       "        -3.17675843e-01, -2.89757385e-01, -2.72046166e-01,\n",
       "        -2.62500826e-01, -2.59545831e-01, -2.62123583e-01,\n",
       "        -2.69373524e-01],\n",
       "       [-6.00124827e-01, -5.15619863e-01, -4.52927015e-01,\n",
       "        -4.07406572e-01, -3.75484076e-01, -3.54491424e-01,\n",
       "        -3.42403242e-01, -3.37693124e-01, -3.39390979e-01,\n",
       "        -3.46474953e-01],\n",
       "       [-7.00118655e-01, -6.14189597e-01, -5.48661030e-01,\n",
       "        -4.99857213e-01, -4.64791962e-01, -4.41066538e-01,\n",
       "        -4.26833101e-01, -4.20719232e-01, -4.21438255e-01,\n",
       "        -4.28317315e-01],\n",
       "       [-8.00055916e-01, -7.13158477e-01, -6.45534358e-01,\n",
       "        -5.94234290e-01, -5.56700958e-01, -5.30810864e-01,\n",
       "        -5.14871383e-01, -5.07425815e-01, -5.07403840e-01,\n",
       "        -5.13804271e-01],\n",
       "       [-9.00089439e-01, -8.12408484e-01, -7.43221791e-01,\n",
       "        -6.90021604e-01, -6.50577149e-01, -6.22971633e-01,\n",
       "        -6.05633365e-01, -5.97164030e-01, -5.96415115e-01,\n",
       "        -6.02433047e-01]])"
      ]
     },
     "execution_count": 259,
     "metadata": {},
     "output_type": "execute_result"
    }
   ],
   "source": [
    "solved - en"
   ]
  },
  {
   "cell_type": "code",
   "execution_count": null,
   "metadata": {},
   "outputs": [],
   "source": []
  }
 ],
 "metadata": {
  "kernelspec": {
   "display_name": "Python 3",
   "language": "python",
   "name": "python3"
  },
  "language_info": {
   "codemirror_mode": {
    "name": "ipython",
    "version": 3
   },
   "file_extension": ".py",
   "mimetype": "text/x-python",
   "name": "python",
   "nbconvert_exporter": "python",
   "pygments_lexer": "ipython3",
   "version": "3.6.9"
  }
 },
 "nbformat": 4,
 "nbformat_minor": 4
}
