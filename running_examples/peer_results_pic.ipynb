{
 "cells": [
  {
   "cell_type": "code",
   "execution_count": 5,
   "metadata": {},
   "outputs": [
    {
     "name": "stdout",
     "output_type": "stream",
     "text": [
      "The autoreload extension is already loaded. To reload it, use:\n",
      "  %reload_ext autoreload\n"
     ]
    }
   ],
   "source": [
    "%load_ext autoreload\n",
    "%autoreload 2\n",
    "import numpy as np\n",
    "import matplotlib.pyplot as plt\n",
    "import matplotlib\n",
    "import os\n",
    "import sys\n",
    "from tqdm import tqdm\n",
    "#sys.path[0] = \"/home/cooper-cooper/Desktop/vans/\"\n",
    "from utilities.evaluator import Evaluator\n",
    "import os\n",
    "from utilities.misc import compute_ground_energy\n",
    "from utilities.variational import VQE\n",
    "import cirq\n",
    "from utilities.misc import dict_to_json"
   ]
  },
  {
   "cell_type": "code",
   "execution_count": 7,
   "metadata": {},
   "outputs": [],
   "source": []
  },
  {
   "cell_type": "code",
   "execution_count": 11,
   "metadata": {},
   "outputs": [],
   "source": [
    "bd=2\n",
    "args={\"n_qubits\":8,\"problem_config\":{\"problem\" : \"H4\", \"geometry\": [(\"H\", (0., 0., 0)), (\"H\", (0., 0., bd)), (\"H\", (0., 0., 2*bd)), (\"H\", (0., 0., 3*bd))], \n",
    "                                     \"multiplicity\":1, \"charge\":0, \"basis\":\"sto-3g\"},\"specific_name\":\"H4/N8_geometry_H4_multip_[(H, (0.0, 0.0, 0.0)), (H, (0.0, 0.0, 2)), (H, (0.0, 0.0, 4)), (H, (0.0, 0.0, 6))]_charge_1_basis0_quiet\"}\n",
    "\n",
    "evaluator = Evaluator(args,loading=True, path=\"/data/uab-giq/scratch/matias/data-vans/\")\n"
   ]
  },
  {
   "cell_type": "code",
   "execution_count": 12,
   "metadata": {},
   "outputs": [
    {
     "data": {
      "text/plain": [
       "array(-1.8400819, dtype=float32)"
      ]
     },
     "execution_count": 12,
     "metadata": {},
     "output_type": "execute_result"
    }
   ],
   "source": [
    "evaluator.raw_history[len(list(evaluator.raw_history.keys()))-1][-1]"
   ]
  },
  {
   "cell_type": "code",
   "execution_count": 13,
   "metadata": {},
   "outputs": [
    {
     "data": {
      "text/plain": [
       "636"
      ]
     },
     "execution_count": 13,
     "metadata": {},
     "output_type": "execute_result"
    }
   ],
   "source": [
    "len(evaluator.raw_history.keys())"
   ]
  },
  {
   "cell_type": "code",
   "execution_count": null,
   "metadata": {},
   "outputs": [],
   "source": []
  },
  {
   "cell_type": "code",
   "execution_count": null,
   "metadata": {},
   "outputs": [],
   "source": [
    "vansenergies.append(evaluator.raw_history[len(list(evaluator.raw_history.keys()))-1][-1])"
   ]
  }
 ],
 "metadata": {
  "kernelspec": {
   "display_name": "qenv_bilkis",
   "language": "python",
   "name": "qenv_bilkis"
  },
  "language_info": {
   "codemirror_mode": {
    "name": "ipython",
    "version": 3
   },
   "file_extension": ".py",
   "mimetype": "text/x-python",
   "name": "python",
   "nbconvert_exporter": "python",
   "pygments_lexer": "ipython3",
   "version": "3.6.8"
  }
 },
 "nbformat": 4,
 "nbformat_minor": 4
}
