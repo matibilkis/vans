{
 "cells": [
  {
   "cell_type": "code",
   "execution_count": 32,
   "metadata": {},
   "outputs": [
    {
     "name": "stdout",
     "output_type": "stream",
     "text": [
      "The autoreload extension is already loaded. To reload it, use:\n",
      "  %reload_ext autoreload\n"
     ]
    }
   ],
   "source": [
    "from utilities.evaluator import Evaluator\n",
    "import numpy as np\n",
    "import matplotlib.pyplot as plt\n",
    "from IPython import display\n",
    "from utilities.misc import dict_to_json\n",
    "%load_ext autoreload\n",
    "%autoreload 2"
   ]
  },
  {
   "cell_type": "code",
   "execution_count": 53,
   "metadata": {},
   "outputs": [],
   "source": [
    "bond=1.5\n",
    "problem_config={\"problem\" : \"H4\", \"geometry\": str([('H', (0., 0., 0.)), ('H', (0., 0., bond)), ('H', (0., 0., 2*bond)), ('H', (0., 0., 3*bond))]).replace(\"'\",\"\"), \"multiplicity\":1, \"charge\":0, \"basis\":\"sto-3g\"}\n",
    "arguss= {\"n_qubits\":8,\"problem_config\":problem_config,\"specific_name\":\"_rate_{}\".format(1.0), \"noise_config\":{}}\n",
    "evaluator = Evaluator(args=arguss,loading=True,path=\"../data-vans/\",nrun_load=23)\n",
    "\n",
    "\n",
    "from utilities.variational import VQE\n",
    "from utilities.evaluator import Evaluator\n",
    "from utilities.idinserter import IdInserter\n",
    "from utilities.simplifier import Simplifier\n",
    "from utilities.unitary_killer import UnitaryMurder\n",
    "\n",
    "bond=1.5\n",
    "problem_config ={\"problem\" : \"H4\", \n",
    "                               \"geometry\": [('H', (0., 0., 0.)), ('H', (0., 0., bond)), ('H', (0., 0., 2*bond)), ('H', (0., 0., 3*bond))], \n",
    "                               \"multiplicity\":1, \"charge\":0, \"basis\":\"sto-3g\"}\n",
    "q=8\n",
    "vqe_handler = VQE(n_qubits=q, lr=0.01, epochs=2000,\n",
    "                    noise_config={}, problem_config=problem_config,\n",
    "                    patience=200, random_perturbations=True, \n",
    "                  return_lower_bound=0, optimizer=\"adam\")\n",
    "\n",
    "iid = IdInserter(n_qubits=len(vqe_handler.qubits))\n",
    "Simp = Simplifier(n_qubits=len(vqe_handler.qubits))\n",
    "killer = UnitaryMurder(vqe_handler, noise_config={})\n"
   ]
  },
  {
   "cell_type": "code",
   "execution_count": null,
   "metadata": {},
   "outputs": [],
   "source": []
  },
  {
   "cell_type": "code",
   "execution_count": 54,
   "metadata": {},
   "outputs": [
    {
     "data": {
      "text/html": [
       "<pre style=\"overflow: auto; white-space: pre;\">(0, 0): ───Rx(π)────Rz(0.367π)────\n",
       "\n",
       "(0, 1): ───Rx(π)────Rz(1.38π)─────\n",
       "\n",
       "(0, 2): ───Rx(π)────Rz(-0.003π)───\n",
       "\n",
       "(0, 3): ───Rx(π)────Rz(0.856π)────\n",
       "\n",
       "(0, 4): ───Rx(2π)───Rz(0.496π)────\n",
       "\n",
       "(0, 5): ───Rx(2π)───Rz(1.36π)─────\n",
       "\n",
       "(0, 6): ───Rx(0)────Rz(-2.0π)─────\n",
       "\n",
       "(0, 7): ───Rx(0)────Rz(0.91π)─────</pre>"
      ],
      "text/plain": [
       "(0, 0): ───Rx(π)────Rz(0.367π)────\n",
       "\n",
       "(0, 1): ───Rx(π)────Rz(1.38π)─────\n",
       "\n",
       "(0, 2): ───Rx(π)────Rz(-0.003π)───\n",
       "\n",
       "(0, 3): ───Rx(π)────Rz(0.856π)────\n",
       "\n",
       "(0, 4): ───Rx(2π)───Rz(0.496π)────\n",
       "\n",
       "(0, 5): ───Rx(2π)───Rz(1.36π)─────\n",
       "\n",
       "(0, 6): ───Rx(0)────Rz(-2.0π)─────\n",
       "\n",
       "(0, 7): ───Rx(0)────Rz(0.91π)─────"
      ]
     },
     "metadata": {},
     "output_type": "display_data"
    },
    {
     "data": {
      "text/html": [
       "<pre style=\"overflow: auto; white-space: pre;\">(0, 0): ───Rx(π)────\n",
       "\n",
       "(0, 1): ───Rx(π)────\n",
       "\n",
       "(0, 2): ───Rx(π)────\n",
       "\n",
       "(0, 3): ───Rx(π)────\n",
       "\n",
       "(0, 4): ───Rx(0)────\n",
       "\n",
       "(0, 5): ───Rx(2π)───\n",
       "\n",
       "(0, 6): ───Rx(0)────\n",
       "\n",
       "(0, 7): ───Rx(0)────</pre>"
      ],
      "text/plain": [
       "(0, 0): ───Rx(π)────\n",
       "\n",
       "(0, 1): ───Rx(π)────\n",
       "\n",
       "(0, 2): ───Rx(π)────\n",
       "\n",
       "(0, 3): ───Rx(π)────\n",
       "\n",
       "(0, 4): ───Rx(0)────\n",
       "\n",
       "(0, 5): ───Rx(2π)───\n",
       "\n",
       "(0, 6): ───Rx(0)────\n",
       "\n",
       "(0, 7): ───Rx(0)────"
      ]
     },
     "metadata": {},
     "output_type": "display_data"
    },
    {
     "data": {
      "text/html": [
       "<pre style=\"overflow: auto; white-space: pre;\">(0, 0): ───Rx(π)────────\n",
       "\n",
       "(0, 1): ───Rx(π)────────\n",
       "\n",
       "(0, 2): ───Rx(π)────────\n",
       "\n",
       "(0, 3): ───Rx(0.999π)───\n",
       "\n",
       "(0, 4): ───Rx(0)────────\n",
       "\n",
       "(0, 5): ───Rx(2π)───────\n",
       "\n",
       "(0, 6): ───Rx(0)────────\n",
       "\n",
       "(0, 7): ───Rx(0)────────</pre>"
      ],
      "text/plain": [
       "(0, 0): ───Rx(π)────────\n",
       "\n",
       "(0, 1): ───Rx(π)────────\n",
       "\n",
       "(0, 2): ───Rx(π)────────\n",
       "\n",
       "(0, 3): ───Rx(0.999π)───\n",
       "\n",
       "(0, 4): ───Rx(0)────────\n",
       "\n",
       "(0, 5): ───Rx(2π)───────\n",
       "\n",
       "(0, 6): ───Rx(0)────────\n",
       "\n",
       "(0, 7): ───Rx(0)────────"
      ]
     },
     "metadata": {},
     "output_type": "display_data"
    },
    {
     "data": {
      "text/html": [
       "<pre style=\"overflow: auto; white-space: pre;\">(0, 0): ───Rx(π)───\n",
       "\n",
       "(0, 1): ───Rx(π)───\n",
       "\n",
       "(0, 2): ───Rx(π)───\n",
       "\n",
       "(0, 3): ───Rx(π)───\n",
       "\n",
       "(0, 4): ───Rx(0)───\n",
       "\n",
       "(0, 5): ───Rx(0)───\n",
       "\n",
       "(0, 6): ───Rx(0)───\n",
       "\n",
       "(0, 7): ───Rx(0)───</pre>"
      ],
      "text/plain": [
       "(0, 0): ───Rx(π)───\n",
       "\n",
       "(0, 1): ───Rx(π)───\n",
       "\n",
       "(0, 2): ───Rx(π)───\n",
       "\n",
       "(0, 3): ───Rx(π)───\n",
       "\n",
       "(0, 4): ───Rx(0)───\n",
       "\n",
       "(0, 5): ───Rx(0)───\n",
       "\n",
       "(0, 6): ───Rx(0)───\n",
       "\n",
       "(0, 7): ───Rx(0)───"
      ]
     },
     "metadata": {},
     "output_type": "display_data"
    },
    {
     "data": {
      "text/html": [
       "<pre style=\"overflow: auto; white-space: pre;\">(0, 0): ───Rx(π)────────\n",
       "\n",
       "(0, 1): ───Rx(π)────────\n",
       "\n",
       "(0, 2): ───Rx(π)────────\n",
       "\n",
       "(0, 3): ───Rx(π)────────\n",
       "\n",
       "(0, 4): ───Rx(0.002π)───\n",
       "\n",
       "(0, 5): ───Rx(0)────────\n",
       "\n",
       "(0, 6): ───Rx(0)────────\n",
       "\n",
       "(0, 7): ───Rx(0)────────</pre>"
      ],
      "text/plain": [
       "(0, 0): ───Rx(π)────────\n",
       "\n",
       "(0, 1): ───Rx(π)────────\n",
       "\n",
       "(0, 2): ───Rx(π)────────\n",
       "\n",
       "(0, 3): ───Rx(π)────────\n",
       "\n",
       "(0, 4): ───Rx(0.002π)───\n",
       "\n",
       "(0, 5): ───Rx(0)────────\n",
       "\n",
       "(0, 6): ───Rx(0)────────\n",
       "\n",
       "(0, 7): ───Rx(0)────────"
      ]
     },
     "metadata": {},
     "output_type": "display_data"
    },
    {
     "data": {
      "text/html": [
       "<pre style=\"overflow: auto; white-space: pre;\">(0, 0): ───Rx(π)───\n",
       "\n",
       "(0, 1): ───Rx(π)───\n",
       "\n",
       "(0, 2): ───Rx(π)───\n",
       "\n",
       "(0, 3): ───Rx(π)───\n",
       "\n",
       "(0, 4): ───Rx(0)───\n",
       "\n",
       "(0, 5): ───Rx(0)───\n",
       "\n",
       "(0, 6): ───Rx(0)───\n",
       "\n",
       "(0, 7): ───Rx(0)───</pre>"
      ],
      "text/plain": [
       "(0, 0): ───Rx(π)───\n",
       "\n",
       "(0, 1): ───Rx(π)───\n",
       "\n",
       "(0, 2): ───Rx(π)───\n",
       "\n",
       "(0, 3): ───Rx(π)───\n",
       "\n",
       "(0, 4): ───Rx(0)───\n",
       "\n",
       "(0, 5): ───Rx(0)───\n",
       "\n",
       "(0, 6): ───Rx(0)───\n",
       "\n",
       "(0, 7): ───Rx(0)───"
      ]
     },
     "metadata": {},
     "output_type": "display_data"
    },
    {
     "data": {
      "text/html": [
       "<pre style=\"overflow: auto; white-space: pre;\">(0, 0): ───Rx(π)───\n",
       "\n",
       "(0, 1): ───Rx(π)───\n",
       "\n",
       "(0, 2): ───Rx(π)───\n",
       "\n",
       "(0, 3): ───Rx(π)───\n",
       "\n",
       "(0, 4): ───Rx(0)───\n",
       "\n",
       "(0, 5): ───Rx(0)───\n",
       "\n",
       "(0, 6): ───Rx(0)───\n",
       "\n",
       "(0, 7): ───Rx(0)───</pre>"
      ],
      "text/plain": [
       "(0, 0): ───Rx(π)───\n",
       "\n",
       "(0, 1): ───Rx(π)───\n",
       "\n",
       "(0, 2): ───Rx(π)───\n",
       "\n",
       "(0, 3): ───Rx(π)───\n",
       "\n",
       "(0, 4): ───Rx(0)───\n",
       "\n",
       "(0, 5): ───Rx(0)───\n",
       "\n",
       "(0, 6): ───Rx(0)───\n",
       "\n",
       "(0, 7): ───Rx(0)───"
      ]
     },
     "metadata": {},
     "output_type": "display_data"
    },
    {
     "data": {
      "text/html": [
       "<pre style=\"overflow: auto; white-space: pre;\">(0, 0): ───Rx(π)───\n",
       "\n",
       "(0, 1): ───Rx(π)───\n",
       "\n",
       "(0, 2): ───Rx(π)───\n",
       "\n",
       "(0, 3): ───Rx(π)───\n",
       "\n",
       "(0, 4): ───Rx(0)───\n",
       "\n",
       "(0, 5): ───Rx(0)───\n",
       "\n",
       "(0, 6): ───Rx(0)───\n",
       "\n",
       "(0, 7): ───Rx(0)───</pre>"
      ],
      "text/plain": [
       "(0, 0): ───Rx(π)───\n",
       "\n",
       "(0, 1): ───Rx(π)───\n",
       "\n",
       "(0, 2): ───Rx(π)───\n",
       "\n",
       "(0, 3): ───Rx(π)───\n",
       "\n",
       "(0, 4): ───Rx(0)───\n",
       "\n",
       "(0, 5): ───Rx(0)───\n",
       "\n",
       "(0, 6): ───Rx(0)───\n",
       "\n",
       "(0, 7): ───Rx(0)───"
      ]
     },
     "metadata": {},
     "output_type": "display_data"
    },
    {
     "data": {
      "text/html": [
       "<pre style=\"overflow: auto; white-space: pre;\">(0, 0): ───Rx(π)────────\n",
       "\n",
       "(0, 1): ───Rx(π)────────\n",
       "\n",
       "(0, 2): ───Rx(π)────────\n",
       "\n",
       "(0, 3): ───Rx(π)────────\n",
       "\n",
       "(0, 4): ───Rx(0.001π)───\n",
       "\n",
       "(0, 5): ───Rx(0)────────\n",
       "\n",
       "(0, 6): ───Rx(0)────────\n",
       "\n",
       "(0, 7): ───Rx(0)────────</pre>"
      ],
      "text/plain": [
       "(0, 0): ───Rx(π)────────\n",
       "\n",
       "(0, 1): ───Rx(π)────────\n",
       "\n",
       "(0, 2): ───Rx(π)────────\n",
       "\n",
       "(0, 3): ───Rx(π)────────\n",
       "\n",
       "(0, 4): ───Rx(0.001π)───\n",
       "\n",
       "(0, 5): ───Rx(0)────────\n",
       "\n",
       "(0, 6): ───Rx(0)────────\n",
       "\n",
       "(0, 7): ───Rx(0)────────"
      ]
     },
     "metadata": {},
     "output_type": "display_data"
    },
    {
     "data": {
      "text/html": [
       "<pre style=\"overflow: auto; white-space: pre;\">(0, 0): ───Rx(π)───\n",
       "\n",
       "(0, 1): ───Rx(π)───\n",
       "\n",
       "(0, 2): ───Rx(π)───\n",
       "\n",
       "(0, 3): ───Rx(π)───\n",
       "\n",
       "(0, 4): ───Rx(0)───\n",
       "\n",
       "(0, 5): ───Rx(0)───\n",
       "\n",
       "(0, 6): ───Rx(0)───\n",
       "\n",
       "(0, 7): ───Rx(0)───</pre>"
      ],
      "text/plain": [
       "(0, 0): ───Rx(π)───\n",
       "\n",
       "(0, 1): ───Rx(π)───\n",
       "\n",
       "(0, 2): ───Rx(π)───\n",
       "\n",
       "(0, 3): ───Rx(π)───\n",
       "\n",
       "(0, 4): ───Rx(0)───\n",
       "\n",
       "(0, 5): ───Rx(0)───\n",
       "\n",
       "(0, 6): ───Rx(0)───\n",
       "\n",
       "(0, 7): ───Rx(0)───"
      ]
     },
     "metadata": {},
     "output_type": "display_data"
    },
    {
     "data": {
      "text/html": [
       "<pre style=\"overflow: auto; white-space: pre;\">(0, 0): ───Rx(π)───\n",
       "\n",
       "(0, 1): ───Rx(π)───\n",
       "\n",
       "(0, 2): ───Rx(π)───\n",
       "\n",
       "(0, 3): ───Rx(π)───\n",
       "\n",
       "(0, 4): ───Rx(0)───\n",
       "\n",
       "(0, 5): ───Rx(0)───\n",
       "\n",
       "(0, 6): ───Rx(0)───\n",
       "\n",
       "(0, 7): ───Rx(0)───</pre>"
      ],
      "text/plain": [
       "(0, 0): ───Rx(π)───\n",
       "\n",
       "(0, 1): ───Rx(π)───\n",
       "\n",
       "(0, 2): ───Rx(π)───\n",
       "\n",
       "(0, 3): ───Rx(π)───\n",
       "\n",
       "(0, 4): ───Rx(0)───\n",
       "\n",
       "(0, 5): ───Rx(0)───\n",
       "\n",
       "(0, 6): ───Rx(0)───\n",
       "\n",
       "(0, 7): ───Rx(0)───"
      ]
     },
     "metadata": {},
     "output_type": "display_data"
    },
    {
     "data": {
      "text/html": [
       "<pre style=\"overflow: auto; white-space: pre;\">(0, 0): ───Rx(π)────────\n",
       "\n",
       "(0, 1): ───Rx(π)────────\n",
       "\n",
       "(0, 2): ───Rx(π)────────\n",
       "\n",
       "(0, 3): ───Rx(π)────────\n",
       "\n",
       "(0, 4): ───Rx(0)────────\n",
       "\n",
       "(0, 5): ───Rx(0)────────\n",
       "\n",
       "(0, 6): ───Rx(0)────────\n",
       "\n",
       "(0, 7): ───Rx(0.001π)───</pre>"
      ],
      "text/plain": [
       "(0, 0): ───Rx(π)────────\n",
       "\n",
       "(0, 1): ───Rx(π)────────\n",
       "\n",
       "(0, 2): ───Rx(π)────────\n",
       "\n",
       "(0, 3): ───Rx(π)────────\n",
       "\n",
       "(0, 4): ───Rx(0)────────\n",
       "\n",
       "(0, 5): ───Rx(0)────────\n",
       "\n",
       "(0, 6): ───Rx(0)────────\n",
       "\n",
       "(0, 7): ───Rx(0.001π)───"
      ]
     },
     "metadata": {},
     "output_type": "display_data"
    }
   ],
   "source": [
    "for k in list(evaluator.raw_history.values()):\n",
    "    display.display(k[0])"
   ]
  },
  {
   "cell_type": "code",
   "execution_count": 58,
   "metadata": {},
   "outputs": [
    {
     "ename": "TypeError",
     "evalue": "super(type, obj): obj must be an instance or subtype of type",
     "output_type": "error",
     "traceback": [
      "\u001b[0;31m---------------------------------------------------------------------------\u001b[0m",
      "\u001b[0;31mTypeError\u001b[0m                                 Traceback (most recent call last)",
      "\u001b[0;32m<ipython-input-58-38643620a0f4>\u001b[0m in \u001b[0;36m<module>\u001b[0;34m\u001b[0m\n\u001b[1;32m      5\u001b[0m                   return_lower_bound=0, optimizer=\"adam\")\n\u001b[1;32m      6\u001b[0m \u001b[0;34m\u001b[0m\u001b[0m\n\u001b[0;32m----> 7\u001b[0;31m \u001b[0miid\u001b[0m \u001b[0;34m=\u001b[0m \u001b[0mIdInserter\u001b[0m\u001b[0;34m(\u001b[0m\u001b[0mn_qubits\u001b[0m\u001b[0;34m=\u001b[0m\u001b[0mlen\u001b[0m\u001b[0;34m(\u001b[0m\u001b[0mvqe_handler\u001b[0m\u001b[0;34m.\u001b[0m\u001b[0mqubits\u001b[0m\u001b[0;34m)\u001b[0m\u001b[0;34m)\u001b[0m\u001b[0;34m\u001b[0m\u001b[0;34m\u001b[0m\u001b[0m\n\u001b[0m\u001b[1;32m      8\u001b[0m \u001b[0mSimp\u001b[0m \u001b[0;34m=\u001b[0m \u001b[0mSimplifier\u001b[0m\u001b[0;34m(\u001b[0m\u001b[0mn_qubits\u001b[0m\u001b[0;34m=\u001b[0m\u001b[0mlen\u001b[0m\u001b[0;34m(\u001b[0m\u001b[0mvqe_handler\u001b[0m\u001b[0;34m.\u001b[0m\u001b[0mqubits\u001b[0m\u001b[0;34m)\u001b[0m\u001b[0;34m)\u001b[0m\u001b[0;34m\u001b[0m\u001b[0;34m\u001b[0m\u001b[0m\n\u001b[1;32m      9\u001b[0m \u001b[0mkiller\u001b[0m \u001b[0;34m=\u001b[0m \u001b[0mUnitaryMurder\u001b[0m\u001b[0;34m(\u001b[0m\u001b[0mvqe_handler\u001b[0m\u001b[0;34m,\u001b[0m \u001b[0mnoise_config\u001b[0m\u001b[0;34m=\u001b[0m\u001b[0;34m{\u001b[0m\u001b[0;34m}\u001b[0m\u001b[0;34m)\u001b[0m\u001b[0;34m\u001b[0m\u001b[0;34m\u001b[0m\u001b[0m\n",
      "\u001b[0;32m~/Desktop/vans/utilities/idinserter.py\u001b[0m in \u001b[0;36m__init__\u001b[0;34m(self, n_qubits, epsilon, initialization, selector_temperature)\u001b[0m\n\u001b[1;32m      9\u001b[0m                         \u001b[0mOptions\u001b[0m \u001b[0;34m=\u001b[0m \u001b[0;34m[\u001b[0m\u001b[0;34m\"PosNeg\"\u001b[0m\u001b[0;34m,\u001b[0m \u001b[0;34m\"epsilon\"\u001b[0m\u001b[0;34m]\u001b[0m\u001b[0;34m\u001b[0m\u001b[0;34m\u001b[0m\u001b[0m\n\u001b[1;32m     10\u001b[0m         \"\"\"\n\u001b[0;32m---> 11\u001b[0;31m         \u001b[0msuper\u001b[0m\u001b[0;34m(\u001b[0m\u001b[0mIdInserter\u001b[0m\u001b[0;34m,\u001b[0m \u001b[0mself\u001b[0m\u001b[0;34m)\u001b[0m\u001b[0;34m.\u001b[0m\u001b[0m__init__\u001b[0m\u001b[0;34m(\u001b[0m\u001b[0mn_qubits\u001b[0m\u001b[0;34m=\u001b[0m\u001b[0mn_qubits\u001b[0m\u001b[0;34m)\u001b[0m\u001b[0;34m\u001b[0m\u001b[0;34m\u001b[0m\u001b[0m\n\u001b[0m\u001b[1;32m     12\u001b[0m         \u001b[0mself\u001b[0m\u001b[0;34m.\u001b[0m\u001b[0mepsilon\u001b[0m \u001b[0;34m=\u001b[0m \u001b[0mepsilon\u001b[0m\u001b[0;34m\u001b[0m\u001b[0;34m\u001b[0m\u001b[0m\n\u001b[1;32m     13\u001b[0m         \u001b[0mself\u001b[0m\u001b[0;34m.\u001b[0m\u001b[0minit_params\u001b[0m \u001b[0;34m=\u001b[0m \u001b[0minitialization\u001b[0m\u001b[0;34m\u001b[0m\u001b[0;34m\u001b[0m\u001b[0m\n",
      "\u001b[0;31mTypeError\u001b[0m: super(type, obj): obj must be an instance or subtype of type"
     ]
    }
   ],
   "source": [
    "q=8\n",
    "vqe_handler = VQE(n_qubits=q, lr=0.01, epochs=2000,\n",
    "                    noise_config={}, problem_config=problem_config,\n",
    "                    patience=200, random_perturbations=True, \n",
    "                  return_lower_bound=0, optimizer=\"adam\")\n",
    "\n",
    "iid = IdInserter(n_qubits=len(vqe_handler.qubits))\n",
    "Simp = Simplifier(n_qubits=len(vqe_handler.qubits))\n",
    "killer = UnitaryMurder(vqe_handler, noise_config={})"
   ]
  },
  {
   "cell_type": "code",
   "execution_count": null,
   "metadata": {},
   "outputs": [],
   "source": [
    "iid."
   ]
  },
  {
   "cell_type": "code",
   "execution_count": null,
   "metadata": {},
   "outputs": [],
   "source": []
  },
  {
   "cell_type": "code",
   "execution_count": 45,
   "metadata": {},
   "outputs": [],
   "source": [
    "indi=k[2]"
   ]
  },
  {
   "cell_type": "code",
   "execution_count": 49,
   "metadata": {},
   "outputs": [],
   "source": [
    "coun = vqe_handler.gate_counter_on_qubits(indi)"
   ]
  },
  {
   "cell_type": "code",
   "execution_count": 52,
   "metadata": {},
   "outputs": [
    {
     "data": {
      "text/plain": [
       "8"
      ]
     },
     "execution_count": 52,
     "metadata": {},
     "output_type": "execute_result"
    }
   ],
   "source": [
    "np.count_nonzero(np.array(list(coun.values()))[:,1] < 1)"
   ]
  },
  {
   "cell_type": "code",
   "execution_count": null,
   "metadata": {},
   "outputs": [],
   "source": []
  },
  {
   "cell_type": "code",
   "execution_count": 14,
   "metadata": {},
   "outputs": [],
   "source": [
    "circ, energy, indexed_circuit,resolver, lowest_energy = evaluator.evolution[len(evaluator.evolution.keys())-1]"
   ]
  },
  {
   "cell_type": "code",
   "execution_count": 16,
   "metadata": {},
   "outputs": [
    {
     "data": {
      "text/html": [
       "<pre style=\"overflow: auto; white-space: pre;\">(0, 0): ───Rx(th_5)──────────────────\n",
       "\n",
       "(0, 1): ───Rx(th_4)──────────────────\n",
       "\n",
       "(0, 2): ──────────────X───Rz(th_2)───\n",
       "                      │\n",
       "(0, 3): ───Rx(th_1)───┼──────────────\n",
       "                      │\n",
       "(0, 4): ───Rx(th_6)───┼──────────────\n",
       "                      │\n",
       "(0, 5): ───Rx(th_0)───@───Rx(th_3)───\n",
       "\n",
       "(0, 6): ───Rx(th_7)──────────────────\n",
       "\n",
       "(0, 7): ───Rx(th_8)──────────────────</pre>"
      ],
      "text/plain": [
       "(0, 0): ───Rx(th_5)──────────────────\n",
       "\n",
       "(0, 1): ───Rx(th_4)──────────────────\n",
       "\n",
       "(0, 2): ──────────────X───Rz(th_2)───\n",
       "                      │\n",
       "(0, 3): ───Rx(th_1)───┼──────────────\n",
       "                      │\n",
       "(0, 4): ───Rx(th_6)───┼──────────────\n",
       "                      │\n",
       "(0, 5): ───Rx(th_0)───@───Rx(th_3)───\n",
       "\n",
       "(0, 6): ───Rx(th_7)──────────────────\n",
       "\n",
       "(0, 7): ───Rx(th_8)──────────────────"
      ]
     },
     "execution_count": 16,
     "metadata": {},
     "output_type": "execute_result"
    }
   ],
   "source": [
    "vqe_handler.give_circuit(indexed_circuit)[0]"
   ]
  },
  {
   "cell_type": "code",
   "execution_count": 24,
   "metadata": {},
   "outputs": [
    {
     "data": {
      "text/plain": [
       "2"
      ]
     },
     "execution_count": 24,
     "metadata": {},
     "output_type": "execute_result"
    }
   ],
   "source": [
    "np.count_nonzero(np.array(list(vqe_handler.gate_counter_on_qubits(indexed_circuit).values()))[:,1] >= 1)"
   ]
  },
  {
   "cell_type": "code",
   "execution_count": null,
   "metadata": {},
   "outputs": [],
   "source": []
  },
  {
   "cell_type": "code",
   "execution_count": null,
   "metadata": {},
   "outputs": [],
   "source": []
  },
  {
   "cell_type": "code",
   "execution_count": null,
   "metadata": {},
   "outputs": [],
   "source": []
  },
  {
   "cell_type": "code",
   "execution_count": 12,
   "metadata": {},
   "outputs": [],
   "source": []
  },
  {
   "cell_type": "code",
   "execution_count": 36,
   "metadata": {},
   "outputs": [
    {
     "data": {
      "text/plain": [
       "[<matplotlib.lines.Line2D at 0x7fc0b40749e8>]"
      ]
     },
     "execution_count": 36,
     "metadata": {},
     "output_type": "execute_result"
    },
    {
     "data": {
      "image/png": "[encoded data removed]",
      "text/plain": [
       "<Figure size 432x288 with 1 Axes>"
      ]
     },
     "metadata": {
      "needs_background": "light"
     },
     "output_type": "display_data"
    }
   ],
   "source": [
    "energy, symbol_to_value, training_evolution = vqe_handler.vqe(indexed_circuit) #compute energy\n",
    "plt.plot(training_evolution.history[\"energy\"])"
   ]
  },
  {
   "cell_type": "code",
   "execution_count": 56,
   "metadata": {},
   "outputs": [
    {
     "ename": "TypeError",
     "evalue": "operation_at() missing 1 required positional argument: 'moment_index'",
     "output_type": "error",
     "traceback": [
      "\u001b[0;31m---------------------------------------------------------------------------\u001b[0m",
      "\u001b[0;31mTypeError\u001b[0m                                 Traceback (most recent call last)",
      "\u001b[0;32m<ipython-input-56-ac1dc5de37cb>\u001b[0m in \u001b[0;36m<module>\u001b[0;34m\u001b[0m\n\u001b[1;32m      1\u001b[0m \u001b[0mcircuit\u001b[0m \u001b[0;34m=\u001b[0m \u001b[0mvqe_handler\u001b[0m\u001b[0;34m.\u001b[0m\u001b[0mgive_circuit\u001b[0m\u001b[0;34m(\u001b[0m\u001b[0mindexed_circuit\u001b[0m\u001b[0;34m)\u001b[0m\u001b[0;34m[\u001b[0m\u001b[0;36m0\u001b[0m\u001b[0;34m]\u001b[0m\u001b[0;34m\u001b[0m\u001b[0;34m\u001b[0m\u001b[0m\n\u001b[0;32m----> 2\u001b[0;31m \u001b[0mcircuit\u001b[0m\u001b[0;34m.\u001b[0m\u001b[0moperation_at\u001b[0m\u001b[0;34m(\u001b[0m\u001b[0;36m0\u001b[0m\u001b[0;34m)\u001b[0m\u001b[0;34m\u001b[0m\u001b[0;34m\u001b[0m\u001b[0m\n\u001b[0m",
      "\u001b[0;31mTypeError\u001b[0m: operation_at() missing 1 required positional argument: 'moment_index'"
     ]
    }
   ],
   "source": [
    "circuit = vqe_handler.give_circuit(indexed_circuit)[0]\n",
    "circuit.operation_at(0)"
   ]
  },
  {
   "cell_type": "code",
   "execution_count": 63,
   "metadata": {},
   "outputs": [],
   "source": [
    "import cirq"
   ]
  },
  {
   "cell_type": "code",
   "execution_count": 80,
   "metadata": {},
   "outputs": [
    {
     "data": {
      "text/plain": [
       "False"
      ]
     },
     "execution_count": 80,
     "metadata": {},
     "output_type": "execute_result"
    }
   ],
   "source": [
    "list(circuit.moments)[0].operates_on_single_qubit(vqe_handler.qubits[-1])"
   ]
  },
  {
   "cell_type": "code",
   "execution_count": null,
   "metadata": {},
   "outputs": [],
   "source": []
  },
  {
   "cell_type": "code",
   "execution_count": null,
   "metadata": {},
   "outputs": [],
   "source": []
  },
  {
   "cell_type": "code",
   "execution_count": null,
   "metadata": {},
   "outputs": [],
   "source": [
    "iid.inserter(indexed_circuit,resolver,-1)"
   ]
  },
  {
   "cell_type": "code",
   "execution_count": null,
   "metadata": {},
   "outputs": [],
   "source": []
  },
  {
   "cell_type": "code",
   "execution_count": null,
   "metadata": {},
   "outputs": [],
   "source": []
  }
 ],
 "metadata": {
  "kernelspec": {
   "display_name": "Python 3",
   "language": "python",
   "name": "python3"
  },
  "language_info": {
   "codemirror_mode": {
    "name": "ipython",
    "version": 3
   },
   "file_extension": ".py",
   "mimetype": "text/x-python",
   "name": "python",
   "nbconvert_exporter": "python",
   "pygments_lexer": "ipython3",
   "version": "3.6.9"
  }
 },
 "nbformat": 4,
 "nbformat_minor": 4
}
