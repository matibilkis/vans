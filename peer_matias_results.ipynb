{
 "cells": [
  {
   "cell_type": "code",
   "execution_count": 1,
   "metadata": {},
   "outputs": [],
   "source": [
    "from utilities.evaluator import Evaluator\n",
    "import numpy as np\n",
    "import matplotlib.pyplot as plt\n",
    "from IPython import display\n",
    "from utilities.misc import dict_to_json\n",
    "%load_ext autoreload\n",
    "%autoreload 2"
   ]
  },
  {
   "cell_type": "code",
   "execution_count": 22,
   "metadata": {},
   "outputs": [],
   "source": [
    "bond=1.5\n",
    "problem_config={\"problem\" : \"H4\", \"geometry\": str([('H', (0., 0., 0.)), ('H', (0., 0., bond)), ('H', (0., 0., 2*bond)), ('H', (0., 0., 3*bond))]).replace(\"'\",\"\"), \"multiplicity\":1, \"charge\":0, \"basis\":\"sto-3g\"}\n",
    "arguss= {\"n_qubits\":8,\"problem_config\":problem_config,\"specific_name\":\"_rate_{}\".format(1.0), \"noise_config\":{}}\n",
    "evaluator = Evaluator(args=arguss,loading=True,path=\"../data-vans/\",nrun_load=1)"
   ]
  },
  {
   "cell_type": "code",
   "execution_count": 25,
   "metadata": {},
   "outputs": [
    {
     "data": {
      "text/plain": [
       "[(0, 0): ───Rx(1.29π)───@───X───────Rx(1.0π)────X───@───Rx(1.15π)───@───Rz(-1.5π)───\n",
       "                       │   │                   │   │               │\n",
       "(0, 1): ───────────────X───@───────Rx(1.71π)───@───┼───────────────┼───────────────\n",
       "                                                   │               │\n",
       "(0, 2): ───Rx(2π)──────────────────────────────────┼───────────────┼───────────────\n",
       "                                                   │               │\n",
       "(0, 3): ───Rx(π)───────────────────────────────────┼───────────────┼───────────────\n",
       "                                                   │               │\n",
       "(0, 4): ───Rx(1.38π)───────────────────────────────X───Rx(1.62π)───X───────────────\n",
       "\n",
       "(0, 5): ───Rx(π)───────@───────────────────────────────────────────────────────────\n",
       "                       │\n",
       "(0, 6): ───Rx(0)───────┼───────────────────────────────────────────────────────────\n",
       "                       │\n",
       "(0, 7): ───────────────X───Rx(π)───────────────────────────────────────────────────,\n",
       " array(-1.7940139, dtype=float32),\n",
       " [68, 64, 0, 7, 65, 64, 7, 67, 66, 3, 68, 64, 3, 69, 41, 56, 71, 70],\n",
       " {'th_0': 4.321494,\n",
       "  'th_1': 4.058066,\n",
       "  'th_2': 5.366711,\n",
       "  'th_3': 3.1462808,\n",
       "  'th_4': 3.1415465,\n",
       "  'th_5': 6.283228,\n",
       "  'th_6': 5.101155,\n",
       "  'th_7': 3.6257503,\n",
       "  'th_8': 3.141356,\n",
       "  'th_9': 7.853717,\n",
       "  'th_10': 3.141223,\n",
       "  'th_11': 0},\n",
       " array(-1.8291376, dtype=float32)]"
      ]
     },
     "execution_count": 25,
     "metadata": {},
     "output_type": "execute_result"
    }
   ],
   "source": [
    "circuit, indeevaluator.evolution[len(evaluator.evolution.keys())-1]"
   ]
  },
  {
   "cell_type": "code",
   "execution_count": 10,
   "metadata": {},
   "outputs": [
    {
     "name": "stdout",
     "output_type": "stream",
     "text": [
      "\n",
      " Hola, I'm VANS, and current local time is 2021-02-22 14:09:00.987903 \n",
      "len(n_qubits): 8\n",
      "noise: {}\n",
      "qlr: 0.01\n",
      "qepochs: 2000\n",
      "patience: 200\n",
      "genetic runs: 3000\n",
      "acceptange_percentage runs: 0.05\n",
      "rate_iids_per_step: 10.0\n",
      "problem_info: {'problem': 'H4', 'geometry': '[(H, (0.0, 0.0, 0.0)), (H, (0.0, 0.0, 1.5)), (H, (0.0, 0.0, 3.0)), (H, (0.0, 0.0, 4.5))]', 'multiplicity': '1', 'charge': '0', 'basis': 'sto-3g'}\n",
      "\n",
      "Iteration #0\n",
      "Time since beggining:0:00:05.109299\n",
      " best energy: None\n",
      " lower_bound: -1.9945503255188062\n",
      "Iteration #1\n",
      "Time since beggining:0:00:16.766827\n",
      " best energy: -1.7744927406311035\n",
      " lower_bound: -1.9945503255188062\n",
      "Iteration #2\n",
      "Time since beggining:0:00:40.562872\n",
      " best energy: -1.7744927406311035\n",
      " lower_bound: -1.9945503255188062\n",
      "Iteration #3\n",
      "Time since beggining:0:00:56.359717\n",
      " best energy: -1.7760682106018066\n",
      " lower_bound: -1.9945503255188062\n",
      "Iteration #4\n",
      "Time since beggining:0:01:03.866658\n",
      " best energy: -1.8291370868682861\n",
      " lower_bound: -1.9945503255188062\n",
      "Iteration #5\n",
      "Time since beggining:0:01:25.331239\n",
      " best energy: -1.8291370868682861\n",
      " lower_bound: -1.9945503255188062\n"
     ]
    }
   ],
   "source": [
    "print(evaluator.displaying[\"information\"])"
   ]
  },
  {
   "cell_type": "code",
   "execution_count": null,
   "metadata": {},
   "outputs": [],
   "source": []
  }
 ],
 "metadata": {
  "kernelspec": {
   "display_name": "Python 3",
   "language": "python",
   "name": "python3"
  },
  "language_info": {
   "codemirror_mode": {
    "name": "ipython",
    "version": 3
   },
   "file_extension": ".py",
   "mimetype": "text/x-python",
   "name": "python",
   "nbconvert_exporter": "python",
   "pygments_lexer": "ipython3",
   "version": "3.6.9"
  }
 },
 "nbformat": 4,
 "nbformat_minor": 4
}
