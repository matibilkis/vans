{
 "cells": [
  {
   "cell_type": "markdown",
   "metadata": {},
   "source": [
    "We'll write a simplifier a la Luckasz"
   ]
  },
  {
   "cell_type": "code",
   "execution_count": 3,
   "metadata": {},
   "outputs": [],
   "source": [
    "import numpy as np\n",
    "import sympy\n",
    "import cirq\n",
    "import tensorflow as tf\n",
    "import tensorflow_quantum as tfq\n",
    "import matplotlib.pyplot as plt\n",
    "from tqdm import tqdm\n",
    "import matplotlib.pyplot as plt\n",
    "from IPython.display import SVG, display\n",
    "from cirq.contrib.svg import SVGCircuit\n",
    "\n",
    "\n",
    "class Solver:\n",
    "    def __init__(self, n_qubits=3, qlr=0.01, qepochs=100,verbose=0, g=1, J=0, noises={}):\n",
    "\n",
    "        \"\"\"\"solver with n**2 possible actions: n(n-1) CNOTS + n 1-qubit unitary\"\"\"\n",
    "        self.n_qubits = n_qubits\n",
    "        self.qubits = cirq.GridQubit.rect(1, n_qubits)\n",
    "        self.lower_bound_Eg = -2*self.n_qubits\n",
    "        \n",
    "        self.qlr = qlr\n",
    "        self.qepochs=qepochs\n",
    "        self.verbose=verbose\n",
    "\n",
    "\n",
    "        self.indexed_cnots = {}\n",
    "        self.cnots_index = {}\n",
    "        count = 0\n",
    "        for control in range(self.n_qubits):\n",
    "            for target in range(self.n_qubits):\n",
    "                if control != target:\n",
    "                    self.indexed_cnots[str(count)] = [control, target]\n",
    "                    self.cnots_index[str([control,target])] = count\n",
    "                    count += 1\n",
    "        self.number_of_cnots = len(self.indexed_cnots)\n",
    "        \n",
    "        self.final_params = []\n",
    "        self.parametrized_unitary = [cirq.rz, cirq.rx, cirq.rz]\n",
    "        self.noises=noises\n",
    "        self.noise_level = self.noises[\"depolarizing\"]\n",
    "        \n",
    "        self.observable=self.ising_obs(g=g, J=J)\n",
    "        self.resolver = {}\n",
    "        self.new_resolver = {} #this temporarly stores initialized parameters of identity resolution\n",
    "        self.lowest_energy_found = -.1\n",
    "        self.best_circuit_found = []\n",
    "        self.best_resolver_found = {}\n",
    "        \n",
    "        \n",
    "    def ising_obs(self, g=1, J=0):\n",
    "        # -  \\Gamma/2 \\sum_i Z_i - J/2 \\sum_{i} X_i X_{i+1}    (S_i = \\Sigma_i/2; ej S_z = Z/2, S_x = X/2)\n",
    "        ### analytic solution https://sci-hub.tw/https://www.sciencedirect.com/science/article/abs/pii/0003491670902708?via%3Dihub\n",
    "        observable = [-float(0.5*g)*cirq.Z.on(q) for q in self.qubits] \n",
    "        for q in range(len(self.qubits)):\n",
    "            observable.append(-float(0.5*J)*cirq.X.on(self.qubits[q])*cirq.X.on(self.qubits[(q+1)%len(self.qubits)]))\n",
    "        #### E_0 = -\\Gamma/2 \\sum_k \\Lambda_k , with \\Lambda_k = \\sqrt{ 1 + \\lambda^{2}  + 2 \\lambda \\cos(k)}; \n",
    "        ### k = -N/2, ... , 0 ,... N/2-1 if N even\n",
    "        #### k = -(N-1)/2, ... 0 , ... (N-1)/2 if N odd\n",
    "        if self.n_qubits%2 == 0:\n",
    "            val = -self.n_qubits/2\n",
    "        else:\n",
    "            val = -(self.n_qubits-1)/2\n",
    "        values_q = []\n",
    "        for k in range(2*self.n_qubits):\n",
    "            values_q.append(val)\n",
    "            val += 1/2\n",
    "        ###soething wrong here.\n",
    "        self.ground_energy = -(0.5*g)*np.sum(np.sqrt([1+(J/(2*g))**2 - (np.cos(2*np.pi*q/self.n_qubits)*(J/g)) for q in values_q]))\n",
    "        return observable\n",
    "        \n",
    "    def index_meaning(self,index):\n",
    "        if index<self.number_of_cnots:\n",
    "            print(\"cnot: \",self.indexed_cnots[str(index)])\n",
    "            return\n",
    "        else:\n",
    "            print(\"1-qubit unitary on: \",(index-self.number_of_cnots)%self.n_qubits)\n",
    "            return\n",
    "\n",
    "    def append_to_circuit(self, ind, circuit, params, new_index=False):\n",
    "        \"\"\"\n",
    "        appends to circuit the index of the gate;\n",
    "        and if one_hot_gate implies a rotation,\n",
    "        appends to params a symbol\n",
    "        \"\"\"\n",
    "        if ind < self.number_of_cnots:\n",
    "            control, target = self.indexed_cnots[str(ind)]\n",
    "            circuit.append(cirq.CNOT.on(self.qubits[control], self.qubits[target]))\n",
    "            return circuit, params\n",
    "        else:\n",
    "            qubit = self.qubits[(ind-self.number_of_cnots)%self.n_qubits]\n",
    "            for par, gate in zip(range(3),self.parametrized_unitary):\n",
    "                new_param = \"th_\"+str(len(params))\n",
    "                params.append(new_param)\n",
    "                circuit.append(gate(sympy.Symbol(new_param)).on(qubit))\n",
    "            return circuit, params\n",
    "        \n",
    "    def give_circuit(self, lista,one_hot=False):\n",
    "        circuit, symbols = [], []\n",
    "        for k in lista:\n",
    "            circuit, symbols = self.append_to_circuit(k,circuit,symbols)\n",
    "        circuit = cirq.Circuit(circuit)\n",
    "        return circuit, symbols\n",
    "    \n",
    "    \n",
    "    def resolution_2cnots(self, q1, q2):\n",
    "        u1 = self.number_of_cnots + q1\n",
    "        u2 = self.number_of_cnots + q2\n",
    "        cnot = self.cnots_index[str([q1,q2])]\n",
    "        return [cnot, u1, u2, cnot]\n",
    "    \n",
    "    def resolution_1qubit(self, q):\n",
    "        u1 = self.number_of_cnots + q\n",
    "        return [u1]\n",
    "        \n",
    "\n",
    "    def dressed_cnot(self,q1,q2):\n",
    "        u1 = self.number_of_cnots + q1\n",
    "        u2 = self.number_of_cnots + q2\n",
    "        cnot = self.cnots_index[str([q1,q2])]\n",
    "        u3 = self.number_of_cnots + q1\n",
    "        u4 = self.number_of_cnots + q2\n",
    "        return [u1,u2,cnot,u3,u4]\n",
    "    \n",
    "    def dressed_ansatz(self, layers=1):\n",
    "        c=[]\n",
    "        for layer in range(layers):\n",
    "            qubits = list(range(self.n_qubits))\n",
    "            qdeph = qubits[layers:]\n",
    "            for q in qubits[:layers]:\n",
    "                qdeph.append(q)\n",
    "            for ind1, ind2 in zip(qubits,qdeph):\n",
    "                for k in self.dressed_cnot(ind1,ind2):\n",
    "                    c.append(k)\n",
    "        return c\n",
    "\n",
    "\n",
    "    def prepare_circuit_insertion(self,gates_index, block_to_insert, index_insertion):\n",
    "        \"\"\"gates_index is a vector with integer entries, each one describing a gate\n",
    "            block_to_insert is block of unitaries to insert at index insertion\n",
    "        \"\"\"\n",
    "        circuit = cirq.Circuit()\n",
    "        idx_circuit=[]\n",
    "        symbols = []\n",
    "        new_symbols = []\n",
    "        new_resolver = {}\n",
    "\n",
    "        if gates_index == []:\n",
    "            indices = [-1]\n",
    "        else:\n",
    "            indices = gates_index\n",
    "        for ind, g in enumerate(indices):\n",
    "            #### insert new block ####\n",
    "            if ind == insertion_index:\n",
    "                for gate in block_to_insert:\n",
    "                    idx_circuit.append(gate)\n",
    "                    if gate < self.number_of_cnots:\n",
    "                        control, target = self.indexed_cnots[str(gate)]\n",
    "                        circuit.append(cirq.CNOT.on(self.qubits[control], self.qubits[target]))\n",
    "                    else:\n",
    "                        qubit = self.qubits[(gate-self.number_of_cnots)%self.n_qubits]\n",
    "                        for par, gateblack in zip(range(3),self.parametrized_unitary):\n",
    "                            new_symbol = \"New_th_\"+str(len(new_symbols))\n",
    "                            new_symbols.append(new_symbol)\n",
    "                            new_resolver[new_symbol] = np.random.uniform(-.1,.1) #rotation around epsilon... we can do it better afterwards\n",
    "                            circuit.append(gateblack(sympy.Symbol(new_symbol)).on(qubit))\n",
    "            if 0<= g < self.number_of_cnots:\n",
    "                idx_circuit.append(g)\n",
    "                control, target = self.indexed_cnots[str(g)]\n",
    "                circuit.append(cirq.CNOT.on(self.qubits[control], self.qubits[target]))\n",
    "            elif g>= self.number_of_cnots:\n",
    "                \n",
    "                idx_circuit.append(g)\n",
    "                qubit = self.qubits[(ind-self.number_of_cnots)%self.n_qubits]\n",
    "                for par, gate in zip(range(3),self.parametrized_unitary):\n",
    "                    new_symbol = \"th_\"+str(len(symbols))\n",
    "                    symbols.append(new_symbol)\n",
    "                    circuit.append(gate(sympy.Symbol(new_symbol)).on(qubit))\n",
    "                    if not new_symbol in self.resolver.keys(): #this is in case it's the first time. Careful when deleting !\n",
    "                        self.resolver[new_symbol] = np.random.uniform(-np.pi, np.pi)\n",
    "\n",
    "        ### add identity for TFQ tocompute correctily expected value####\n",
    "        effective_qubits = list(circuit.all_qubits())\n",
    "        for k in self.qubits:\n",
    "            if k not in effective_qubits:\n",
    "                circuit.append(cirq.I.on(k))\n",
    "        self.new_resolver = new_resolver\n",
    "        variables = [symbols, new_symbols]\n",
    "        return circuit, variables#, idx_circuit\n",
    "    \n",
    "    \n",
    "    \n",
    "    def TFQ_model(self, symbols, lr=None):\n",
    "        circuit_input = tf.keras.Input(shape=(), dtype=tf.string)\n",
    "        output = tfq.layers.Expectation(backend=cirq.DensityMatrixSimulator(noise=cirq.depolarize(self.noise_level)))(\n",
    "                circuit_input,\n",
    "                symbol_names=symbols,\n",
    "                operators=tfq.convert_to_tensor([self.observable]),\n",
    "                initializer=tf.keras.initializers.RandomNormal()) #we may change this!!!\n",
    "\n",
    "        model = tf.keras.Model(inputs=circuit_input, outputs=output)\n",
    "        if lr is None:\n",
    "            adam = tf.keras.optimizers.Adam(learning_rate=self.qlr)\n",
    "        else:\n",
    "            adam = tf.keras.optimizers.Adam(learning_rate=lr)\n",
    "        model.compile(optimizer=adam, loss='mse')\n",
    "        return model\n",
    "    \n",
    "    def initialize_model_insertion(self, variables):\n",
    "        ### initialize model with parameters from previous model (describer by variables[0]) --> values in self.resolver\n",
    "        ###(for the already-optimized ones), and close to identity for the block added, described by variables[1], whose values are in self.new_resolver\n",
    "\n",
    "        symbols, new_symbols = variables\n",
    "        circuit_symbols = []\n",
    "        init_params = []\n",
    "        for j in symbols:\n",
    "            circuit_symbols.append(j)\n",
    "            init_params.append(self.resolver[str(j)])#+ np.random.uniform(-.01,.01)) if you want to perturbate previous parameters..\n",
    "        for k in new_symbols:\n",
    "            circuit_symbols.append(k)\n",
    "            init_params.append(self.new_resolver[str(k)])\n",
    "\n",
    "        model = self.TFQ_model(circuit_symbols)\n",
    "        model.trainable_variables[0].assign(tf.convert_to_tensor(init_params)) #initialize parameters of model (continuous parameters of uniraries)\n",
    "        #with the corresponding values\n",
    "        return model\n",
    "\n",
    "    def run_circuit_from_index(self, gates_index, hyperparameters=None):\n",
    "        \"\"\"\n",
    "        takes as input vector with actions described as integer\n",
    "        and outputsthe energy of that circuit (w.r.t self.observable)\n",
    "        \n",
    "        hyperparameters = [epoch, lr]\n",
    "        \"\"\"\n",
    "        ### create a vector with the gates on the corresponding qubit(s)\n",
    "        circuit, symbols = self.give_circuit(gates_index)\n",
    "        \n",
    "        ### this is because each qubit should be \"activated\" in TFQ to do the optimization (if the observable has support on this qubit as well and you don't add I then error)\n",
    "        effective_qubits = list(circuit.all_qubits())\n",
    "        for k in self.qubits:\n",
    "            if k not in effective_qubits:\n",
    "                circuit.append(cirq.I.on(k))\n",
    "\n",
    "        tfqcircuit = tfq.convert_to_tensor([circuit])\n",
    "        if len(symbols) == 0:\n",
    "            expval = tfq.layers.Expectation(backend=cirq.DensityMatrixSimulator(noise=cirq.depolarize(self.noise_level)))(\n",
    "                                            tfqcircuit,\n",
    "                                            operators=tfq.convert_to_tensor([self.observable]))\n",
    "            energy = np.float32(np.squeeze(tf.math.reduce_sum(expval, axis=-1, keepdims=True)))\n",
    "            final_params = []\n",
    "            resolver = {\"th_\"+str(ind):var  for ind,var in enumerate(final_params)}\n",
    "        else:\n",
    "            if hyperparameters is None:\n",
    "                model = self.TFQ_model(symbols)\n",
    "                qoutput = tf.ones((1, 1))*self.lower_bound_Eg\n",
    "                print(\"about to fit!\")\n",
    "                model.fit(x=tfqcircuit, y=qoutput, batch_size=1, epochs=self.qepochs, verbose=self.verbose, callbacks=[tf.keras.callbacks.EarlyStopping(monitor='loss', patience=5)])\n",
    "                energy = np.squeeze(tf.math.reduce_sum(model.predict(tfqcircuit), axis=-1))\n",
    "                final_params = model.trainable_variables[0].numpy()\n",
    "                resolver = {\"th_\"+str(ind):var  for ind,var in enumerate(final_params)}\n",
    "            else:\n",
    "                model = self.TFQ_model(symbols, hyperparameters[1])\n",
    "                qoutput = tf.ones((1, 1))*self.lower_bound_Eg\n",
    "                print(\"about to fit!\")\n",
    "                model.fit(x=tfqcircuit, y=qoutput, batch_size=1, epochs=hyperparameters[0], verbose=self.verbose,callbacks=[tf.keras.callbacks.EarlyStopping(monitor='loss', patience=5)])\n",
    "                energy = np.squeeze(tf.math.reduce_sum(model.predict(tfqcircuit), axis=-1))\n",
    "                final_params = model.trainable_variables[0].numpy()\n",
    "                resolver = {\"th_\"+str(ind):var  for ind,var in enumerate(final_params)}\n",
    "        #self.current_circuit = gates_index\n",
    "        self.resolver = resolver\n",
    "        if self.accept_modification(energy):\n",
    "            self.lowest_energy_found = energy\n",
    "            self.best_circuit_found = gates_index\n",
    "            self.best_resolver_found = resolver\n",
    "        return gates_index, resolver, energy\n",
    "    \n",
    "    \n",
    "    def accept_modification(self, energy):\n",
    "        return np.abs(energy)/np.abs(self.lowest_energy_found) > .98\n",
    "    \n",
    "    \n",
    "    def optimize_and_update(self, gates_index, model, circuit,variables,insertion_index_loaded):\n",
    "    \n",
    "        effective_qubits = list(circuit.all_qubits())\n",
    "        q=0\n",
    "        for k in self.qubits:#che, lo que no estoy\n",
    "            if k not in effective_qubits:\n",
    "                circuit.append(cirq.I.on(k))\n",
    "                q+=1\n",
    "        if q == self.n_qubits:\n",
    "            circuit.append(cirq.rz(sympy.Symbol(\"dummy\")).on(self.qubits[0])) #hopefully you won't accept this, but in case you do, then it's better since it simplifies...\n",
    "  \n",
    "\n",
    "        tfqcircuit = tfq.convert_to_tensor([circuit])\n",
    "        qoutput = tf.ones((1, 1))*self.lower_bound_Eg\n",
    "        model.fit(x=tfqcircuit, y=qoutput, batch_size=1, epochs=self.qepochs, verbose=self.verbose,callbacks=[tf.keras.callbacks.EarlyStopping(monitor='loss', patience=5)])\n",
    "        energy = np.squeeze(tf.math.reduce_sum(model.predict(tfqcircuit), axis=-1))\n",
    "        \n",
    "        if self.accept_modification(energy):\n",
    "\n",
    "            #### if we accept the new configuration, then we update the resolver merging both symbols and new_symbols into self.resolver\n",
    "            symbols, new_symbols = variables\n",
    "\n",
    "            for ind,k in enumerate(symbols):\n",
    "                self.resolver[k] = model.trainable_variables[0].numpy()[ind]\n",
    "\n",
    "            for indnew,knew in enumerate(new_symbols):\n",
    "                self.new_resolver[knew] = model.trainable_variables[0].numpy()[len(symbols)+indnew]\n",
    "\n",
    "            final_symbols = []\n",
    "            old_solver = []\n",
    "            old_added = []\n",
    "\n",
    "            final_resolver = {}\n",
    "            new_circuit = []\n",
    "            for ind, g in enumerate( gates_index):                 \n",
    "                #### insert new block ####\n",
    "                if ind == insertion_index_loaded:\n",
    "                    for gate in block_to_insert:\n",
    "                        new_circuit.append(gate)\n",
    "                        if gate < sol.number_of_cnots:\n",
    "                            pass\n",
    "                        else:\n",
    "                            for par, gateblock in zip(range(3),sol.parametrized_unitary):\n",
    "\n",
    "                                var1 = \"New_th_\"+str(len(old_added))\n",
    "                                old_added.append(var1)\n",
    "\n",
    "                                var2 = \"th_\"+str(len(final_symbols))\n",
    "                                final_symbols.append(var2)\n",
    "                                final_resolver[var2] = self.new_resolver[var1] #\n",
    "\n",
    "                if g < self.number_of_cnots:\n",
    "                    new_circuit.append(g)\n",
    "                    pass\n",
    "                else:\n",
    "                    new_circuit.append(g)\n",
    "                    for par, gate in zip(range(3),self.parametrized_unitary):\n",
    "                        var3 = \"th_\"+str(len(old_solver))\n",
    "                        old_solver.append(var3)\n",
    "\n",
    "                        var4 = \"th_\"+str(len(final_symbols))\n",
    "                        final_symbols.append(var4)\n",
    "                        final_resolver[var4] = self.resolver[var3] \n",
    "\n",
    "            self.resolver = final_resolver\n",
    "            #self.current_circuit = new_circuit #### now the current circuit is the better one! otherwise you keep the previous (from self.run_circuit_from_index)\n",
    "            self.best_circuit_found = new_circuit\n",
    "            self.lowest_energy_found = energy\n",
    "            self.best_resolver_found = resolver\n",
    "            return new_circuit, self.resolver, energy, True\n",
    "        else:\n",
    "            return gates_index, self.resolver, self.lowest_energy_found, False\n",
    "    \n",
    "    def kill_one_unitary(self, gates_index, resolver, energy):\n",
    "        \"\"\"\n",
    "        this function takes circuit as described by gates_index (sequence of integers)\n",
    "        and returns when possible, a circuit, resolver, energy with one single-qubit unitary less.\n",
    "        \"\"\"\n",
    "\n",
    "        circuit_proposals=[] #storing all good candidates.\n",
    "        circuit_proposals_energies=[]\n",
    "        for j in gates_index:\n",
    "            indexed_prop=[]\n",
    "\n",
    "            prop=cirq.Circuit()\n",
    "            checking = False\n",
    "            ko=0\n",
    "            to_pop=[]\n",
    "\n",
    "            for k in gates_index:\n",
    "                if k < self.number_of_cnots:\n",
    "                    indexed_prop.append(k)\n",
    "                    control, target = self.indexed_cnots[str(k)]\n",
    "                    prop.append(cirq.CNOT.on(self.qubits[control], self.qubits[target]))\n",
    "                else:\n",
    "                    if k != j:\n",
    "                        indexed_prop.append(k)\n",
    "                        qubit = self.qubits[(k-self.number_of_cnots)%self.n_qubits]\n",
    "                        for par, gate in zip(range(3),self.parametrized_unitary):\n",
    "                            new_param = \"th_\"+str(ko)\n",
    "                            ko+=1\n",
    "                            prop.append(gate(sympy.Symbol(new_param)).on(qubit))\n",
    "                    else:\n",
    "                        checking=True\n",
    "                        for i in range(3):\n",
    "                            to_pop.append(\"th_\"+str(ko))\n",
    "                            ko+=1\n",
    "            if checking is True:\n",
    "                nr = resolver.copy()\n",
    "                for p in to_pop:\n",
    "                    nr.pop(p)  \n",
    "                \n",
    "                effective_qubits = list(prop.all_qubits())\n",
    "                for k in self.qubits:\n",
    "                    if k not in effective_qubits:\n",
    "                        prop.append(cirq.I.on(k))\n",
    "                \n",
    "                tfqcircuit = tfq.convert_to_tensor([cirq.resolve_parameters(prop, nr)]) ###resolver parameters !!!\n",
    "                expval = tfq.layers.Expectation(backend=cirq.DensityMatrixSimulator(noise=cirq.depolarize(self.noise_level)))(\n",
    "                                        tfqcircuit,\n",
    "                                        operators=tfq.convert_to_tensor([self.observable]))\n",
    "                new_energy = np.float32(np.squeeze(tf.math.reduce_sum(expval, axis=-1, keepdims=True)))\n",
    "\n",
    "                if self.accept_modification(new_energy):\n",
    "                    ordered_resolver = {}\n",
    "                    for ind,k in enumerate(nr.values()):\n",
    "                        ordered_resolver[\"th_\"+str(ind)] = k\n",
    "                    circuit_proposals.append([indexed_prop,ordered_resolver,new_energy])\n",
    "                    circuit_proposals_energies.append(new_energy)\n",
    "        if len(circuit_proposals)>0:\n",
    "            favourite = np.random.choice(len(circuit_proposals))\n",
    "            short_circuit, resolver, energy = circuit_proposals[favourite]\n",
    "            #self.current_circuit = short_circuit\n",
    "            self.resolver = resolver\n",
    "            self.best_resolver_found = resolver\n",
    "            self.best_circuit_found = short_circuit\n",
    "            self.lowest_energy_found = circuit_proposals_energies[favourite]\n",
    "\n",
    "            simplified=True\n",
    "            return short_circuit, resolver, energy, simplified\n",
    "        else:\n",
    "            simplified=False\n",
    "            return gates_index, resolver, energy, simplified\n",
    "\n",
    "    \n",
    "    def simplify_circuit(self,indexed_circuit):\n",
    "        \"\"\"this function kills repeated unitaries and \n",
    "        CNOTS and returns a simplified indexed_circuit vector\"\"\"\n",
    "        #load circuit on each qubit\n",
    "        connections={str(q):[] for q in range(self.n_qubits)} #this saves the gates in each qubit\n",
    "        places_gates = {str(q):[] for q in range(self.n_qubits)} #this saves, for each gate on each qubit, the position in the original indexed_circuit\n",
    "\n",
    "\n",
    "        flagged = [False]*len(indexed_circuit) #to check if you have seen a cnot already, so not to append it twice to the qubit's dictionary\n",
    "\n",
    "        for q in range(self.n_qubits): #sweep over all qubits\n",
    "            for nn,idq in enumerate(indexed_circuit): #sweep over all gates in original circuit's vector\n",
    "                if idq<self.number_of_cnots: #if the gate it's a CNOT or not\n",
    "                    control, target = self.indexed_cnots[str(idq)] #give control and target qubit\n",
    "                    if q in [control, target] and not flagged[nn]: #if the qubit we are looking at is affected by this CNOT, and we haven't add this CNOT to the dictionary yet\n",
    "                        connections[str(control)].append(idq)\n",
    "                        connections[str(target)].append(idq)\n",
    "                        places_gates[str(control)].append(nn)\n",
    "                        places_gates[str(target)].append(nn)\n",
    "                        flagged[nn] = True #so you don't add the other\n",
    "                else:\n",
    "                    if idq%self.n_qubits == q: #check if the unitary is applied to the qubit we are looking at\n",
    "                        connections[str(q)].append(\"u\")\n",
    "                        places_gates[str(q)].append(nn)\n",
    "\n",
    "\n",
    "        ### now reducing the circuit\n",
    "        new_indexed_circuit = indexed_circuit.copy()\n",
    "        for q, path in connections.items(): ###sweep over qubits: path is all the gates that act this qubit during the circuit\n",
    "            for ind,gate in enumerate(path):\n",
    "                if gate == \"u\": ## IF GATE IS SINGLE QUIT UNITARY, CHECK IF THE NEXT ONES ARE ALSO UNITARIES AND KILL 'EM\n",
    "                    for k in range(len(path)-ind-1):\n",
    "                        if path[ind+k+1]==\"u\":\n",
    "                            new_indexed_circuit[places_gates[str(q)][ind+k+1]] = -1\n",
    "                        else:\n",
    "                            break\n",
    "                elif gate in range(self.number_of_cnots) and ind<len(path)-1: ### self.number_of_cnots is the maximum index of a CNOT gate for a fixed self.n_qubits.\n",
    "                    if path[ind+1]==gate and not (new_indexed_circuit[places_gates[str(q)][ind]] == -1): #check if the next gate is the same CNOT; and check if I haven't corrected the original one (otherwise you may simplify 3 CNOTs to id)\n",
    "                        others = self.indexed_cnots[str(gate)].copy()\n",
    "                        others.remove(int(q)) #the other qubit affected by the CNOT\n",
    "                        for jind, jgate in enumerate(connections[str(others[0])][:-1]): ##sweep the other qubit's gates until i find \"gate\"\n",
    "                            if jgate == gate and connections[str(others[0])][jind+1] == gate: ##i find the same gate that is repeated in both the original qubit and this one\n",
    "                                if (places_gates[str(q)][ind] == places_gates[str(others[0])][jind]) and (places_gates[str(q)][ind+1] == places_gates[str(others[0])][jind+1]): #check that positions in the indexed_circuit are the same\n",
    "                                 ###maybe I changed before, so I have repeated in the original but one was shut down..\n",
    "                                    new_indexed_circuit[places_gates[str(q)][ind]] = -1 ###just kill the repeated CNOTS\n",
    "                                    new_indexed_circuit[places_gates[str(q)][ind+1]] = -1 ###just kill the repeated CNOTS\n",
    "                                    break\n",
    "                                    \n",
    "                if gate in range(self.number_of_cnots) and ind == 0: ###if I have a CNOT just before initializing, it does nothing (if |0> initialization).\n",
    "                    others = self.indexed_cnots[str(gate)].copy()\n",
    "                    others.remove(int(q)) #the other qubit affected by the CNOT\n",
    "                    for jind, jgate in enumerate(connections[str(others[0])][:-1]): ##sweep the other qubit's gates until i find \"gate\"\n",
    "                        if jgate == gate and jind==0: ##it's also the first gate in the other qubit\n",
    "                            if (places_gates[str(q)][ind] == places_gates[str(others[0])][jind]): #check that positions in the indexed_circuit are the same\n",
    "                                new_indexed_circuit[places_gates[str(q)][ind]] = -1 ###just kill the repeated CNOTS\n",
    "                                break\n",
    "                    \n",
    "        #### remove the marked indices ###### \n",
    "        #### remove the marked indices ######            \n",
    "        \n",
    "        final=[]\n",
    "        for gmarked in new_indexed_circuit:\n",
    "            if not gmarked == -1:\n",
    "                final.append(gmarked)\n",
    "        return final\n",
    "    \n",
    "    def count_number_cnots(self, gates_index):\n",
    "        c=0\n",
    "        for k in gates_index:\n",
    "            if k<self.number_of_cnots:\n",
    "                c+=1\n",
    "        return c"
   ]
  },
  {
   "cell_type": "code",
   "execution_count": null,
   "metadata": {},
   "outputs": [
    {
     "name": "stdout",
     "output_type": "stream",
     "text": [
      "dep 0.1\n",
      "about to fit!\n",
      "Train on 1 samples\n",
      "Epoch 1/10\n",
      "1/1 [==============================] - 1s 899ms/sample - loss: 14.7517\n",
      "Epoch 2/10\n",
      "1/1 [==============================] - 0s 311ms/sample - loss: 14.7519\n",
      "Epoch 3/10\n",
      "1/1 [==============================] - 0s 384ms/sample - loss: 14.7516\n",
      "Epoch 4/10\n",
      "1/1 [==============================] - 0s 375ms/sample - loss: 14.7510\n",
      "Epoch 5/10\n",
      "1/1 [==============================] - 0s 319ms/sample - loss: 14.7514\n",
      "Epoch 6/10\n",
      "1/1 [==============================] - 0s 323ms/sample - loss: 14.7515\n",
      "Epoch 7/10\n",
      "1/1 [==============================] - 0s 346ms/sample - loss: 14.7512\n",
      "Epoch 8/10\n",
      "1/1 [==============================] - 0s 300ms/sample - loss: 14.7510\n",
      "Epoch 9/10\n",
      "1/1 [==============================] - 0s 301ms/sample - loss: 14.7512\n"
     ]
    },
    {
     "name": "stderr",
     "output_type": "stream",
     "text": [
      "  0%|          | 0/10 [00:00<?, ?it/s]findfont: Font family ['Arial'] not found. Falling back to DejaVu Sans.\n"
     ]
    },
    {
     "name": "stdout",
     "output_type": "stream",
     "text": [
      "\n",
      "%%%%%%%%%%%%%%%%%%%%%%%%%\n",
      "new iteration:  0\n",
      "1:\n"
     ]
    },
    {
     "data": {
      "image/svg+xml": [
       "<svg xmlns=\"http://www.w3.org/2000/svg\" width=\"367.53304687499997\" height=\"50.0\"><line x1=\"34.7588671875\" x2=\"337.53304687499997\" y1=\"25.0\" y2=\"25.0\" stroke=\"#1967d2\" stroke-width=\"1\" /><rect x=\"10.0\" y=\"5.0\" width=\"49.517734375\" height=\"40\" stroke=\"black\" fill=\"white\" stroke-width=\"0\" /><text x=\"34.7588671875\" y=\"25.0\" dominant-baseline=\"middle\" text-anchor=\"middle\" font-size=\"14px\">(0, 0): </text><rect x=\"79.517734375\" y=\"5.0\" width=\"65.6929296875\" height=\"40\" stroke=\"black\" fill=\"white\" stroke-width=\"1\" /><text x=\"112.36419921875\" y=\"25.0\" dominant-baseline=\"middle\" text-anchor=\"middle\" font-size=\"14px\">Rz(th_0)</text><rect x=\"165.2106640625\" y=\"5.0\" width=\"66.629453125\" height=\"40\" stroke=\"black\" fill=\"white\" stroke-width=\"1\" /><text x=\"198.525390625\" y=\"25.0\" dominant-baseline=\"middle\" text-anchor=\"middle\" font-size=\"14px\">Rx(th_1)</text><rect x=\"251.8401171875\" y=\"5.0\" width=\"65.6929296875\" height=\"40\" stroke=\"black\" fill=\"white\" stroke-width=\"1\" /><text x=\"284.68658203125\" y=\"25.0\" dominant-baseline=\"middle\" text-anchor=\"middle\" font-size=\"14px\">Rz(th_2)</text></svg>"
      ],
      "text/plain": [
       "<cirq.contrib.svg.svg.SVGCircuit at 0x7fe72047d2b0>"
      ]
     },
     "metadata": {},
     "output_type": "display_data"
    },
    {
     "name": "stdout",
     "output_type": "stream",
     "text": [
      "Train on 1 samples\n",
      "Epoch 1/10\n",
      "1/1 [==============================] - 1s 1s/sample - loss: 15.1760\n",
      "Epoch 2/10\n",
      "1/1 [==============================] - 1s 648ms/sample - loss: 15.1784\n",
      "Epoch 3/10\n",
      "1/1 [==============================] - 0s 450ms/sample - loss: 15.1756\n",
      "Epoch 4/10\n",
      "1/1 [==============================] - 1s 642ms/sample - loss: 15.1753\n",
      "Epoch 5/10\n",
      "1/1 [==============================] - 0s 454ms/sample - loss: 15.1765\n",
      "Epoch 6/10\n",
      "1/1 [==============================] - 0s 421ms/sample - loss: 15.1760\n",
      "Epoch 7/10\n",
      "1/1 [==============================] - 0s 482ms/sample - loss: 15.1750\n",
      "Epoch 8/10\n",
      "1/1 [==============================] - 0s 479ms/sample - loss: 15.1752\n",
      "Epoch 9/10\n",
      "1/1 [==============================] - 0s 495ms/sample - loss: 15.1758\n",
      "Epoch 10/10\n",
      "1/1 [==============================] - 0s 476ms/sample - loss: 15.1757\n",
      "2:\n"
     ]
    },
    {
     "data": {
      "image/svg+xml": [
       "<svg xmlns=\"http://www.w3.org/2000/svg\" width=\"367.53304687499997\" height=\"50.0\"><line x1=\"34.7588671875\" x2=\"337.53304687499997\" y1=\"25.0\" y2=\"25.0\" stroke=\"#1967d2\" stroke-width=\"1\" /><rect x=\"10.0\" y=\"5.0\" width=\"49.517734375\" height=\"40\" stroke=\"black\" fill=\"white\" stroke-width=\"0\" /><text x=\"34.7588671875\" y=\"25.0\" dominant-baseline=\"middle\" text-anchor=\"middle\" font-size=\"14px\">(0, 0): </text><rect x=\"79.517734375\" y=\"5.0\" width=\"65.6929296875\" height=\"40\" stroke=\"black\" fill=\"white\" stroke-width=\"1\" /><text x=\"112.36419921875\" y=\"25.0\" dominant-baseline=\"middle\" text-anchor=\"middle\" font-size=\"14px\">Rz(th_0)</text><rect x=\"165.2106640625\" y=\"5.0\" width=\"66.629453125\" height=\"40\" stroke=\"black\" fill=\"white\" stroke-width=\"1\" /><text x=\"198.525390625\" y=\"25.0\" dominant-baseline=\"middle\" text-anchor=\"middle\" font-size=\"14px\">Rx(th_1)</text><rect x=\"251.8401171875\" y=\"5.0\" width=\"65.6929296875\" height=\"40\" stroke=\"black\" fill=\"white\" stroke-width=\"1\" /><text x=\"284.68658203125\" y=\"25.0\" dominant-baseline=\"middle\" text-anchor=\"middle\" font-size=\"14px\">Rz(th_2)</text></svg>"
      ],
      "text/plain": [
       "<cirq.contrib.svg.svg.SVGCircuit at 0x7fe67863da90>"
      ]
     },
     "metadata": {},
     "output_type": "display_data"
    },
    {
     "name": "stderr",
     "output_type": "stream",
     "text": [
      "\r",
      " 10%|█         | 1/10 [00:06<00:55,  6.18s/it]"
     ]
    },
    {
     "name": "stdout",
     "output_type": "stream",
     "text": [
      "\n",
      "%%%%%%%%%%%%%%%%%%%%%%%%%\n",
      "new iteration:  1\n",
      "1:\n"
     ]
    },
    {
     "data": {
      "image/svg+xml": [
       "<svg xmlns=\"http://www.w3.org/2000/svg\" width=\"367.53304687499997\" height=\"50.0\"><line x1=\"34.7588671875\" x2=\"337.53304687499997\" y1=\"25.0\" y2=\"25.0\" stroke=\"#1967d2\" stroke-width=\"1\" /><rect x=\"10.0\" y=\"5.0\" width=\"49.517734375\" height=\"40\" stroke=\"black\" fill=\"white\" stroke-width=\"0\" /><text x=\"34.7588671875\" y=\"25.0\" dominant-baseline=\"middle\" text-anchor=\"middle\" font-size=\"14px\">(0, 0): </text><rect x=\"79.517734375\" y=\"5.0\" width=\"65.6929296875\" height=\"40\" stroke=\"black\" fill=\"white\" stroke-width=\"1\" /><text x=\"112.36419921875\" y=\"25.0\" dominant-baseline=\"middle\" text-anchor=\"middle\" font-size=\"14px\">Rz(th_0)</text><rect x=\"165.2106640625\" y=\"5.0\" width=\"66.629453125\" height=\"40\" stroke=\"black\" fill=\"white\" stroke-width=\"1\" /><text x=\"198.525390625\" y=\"25.0\" dominant-baseline=\"middle\" text-anchor=\"middle\" font-size=\"14px\">Rx(th_1)</text><rect x=\"251.8401171875\" y=\"5.0\" width=\"65.6929296875\" height=\"40\" stroke=\"black\" fill=\"white\" stroke-width=\"1\" /><text x=\"284.68658203125\" y=\"25.0\" dominant-baseline=\"middle\" text-anchor=\"middle\" font-size=\"14px\">Rz(th_2)</text></svg>"
      ],
      "text/plain": [
       "<cirq.contrib.svg.svg.SVGCircuit at 0x7fe690222a58>"
      ]
     },
     "metadata": {},
     "output_type": "display_data"
    },
    {
     "name": "stdout",
     "output_type": "stream",
     "text": [
      "Train on 1 samples\n",
      "Epoch 1/10\n",
      "1/1 [==============================] - 1s 1s/sample - loss: 15.1768\n",
      "Epoch 2/10\n",
      "1/1 [==============================] - 1s 628ms/sample - loss: 15.1768\n",
      "Epoch 3/10\n",
      "1/1 [==============================] - 0s 450ms/sample - loss: 15.1764\n",
      "Epoch 4/10\n",
      "1/1 [==============================] - 0s 452ms/sample - loss: 15.1750\n",
      "Epoch 5/10\n",
      "1/1 [==============================] - 0s 419ms/sample - loss: 15.1753\n",
      "Epoch 6/10\n",
      "1/1 [==============================] - 0s 456ms/sample - loss: 15.1758\n",
      "Epoch 7/10\n",
      "1/1 [==============================] - 0s 470ms/sample - loss: 15.1756\n",
      "Epoch 8/10\n",
      "1/1 [==============================] - 1s 559ms/sample - loss: 15.1752\n",
      "Epoch 9/10\n",
      "1/1 [==============================] - 0s 470ms/sample - loss: 15.1750\n",
      "Epoch 10/10\n",
      "1/1 [==============================] - 0s 471ms/sample - loss: 15.1750\n",
      "2:\n"
     ]
    },
    {
     "data": {
      "image/svg+xml": [
       "<svg xmlns=\"http://www.w3.org/2000/svg\" width=\"367.53304687499997\" height=\"50.0\"><line x1=\"34.7588671875\" x2=\"337.53304687499997\" y1=\"25.0\" y2=\"25.0\" stroke=\"#1967d2\" stroke-width=\"1\" /><rect x=\"10.0\" y=\"5.0\" width=\"49.517734375\" height=\"40\" stroke=\"black\" fill=\"white\" stroke-width=\"0\" /><text x=\"34.7588671875\" y=\"25.0\" dominant-baseline=\"middle\" text-anchor=\"middle\" font-size=\"14px\">(0, 0): </text><rect x=\"79.517734375\" y=\"5.0\" width=\"65.6929296875\" height=\"40\" stroke=\"black\" fill=\"white\" stroke-width=\"1\" /><text x=\"112.36419921875\" y=\"25.0\" dominant-baseline=\"middle\" text-anchor=\"middle\" font-size=\"14px\">Rz(th_0)</text><rect x=\"165.2106640625\" y=\"5.0\" width=\"66.629453125\" height=\"40\" stroke=\"black\" fill=\"white\" stroke-width=\"1\" /><text x=\"198.525390625\" y=\"25.0\" dominant-baseline=\"middle\" text-anchor=\"middle\" font-size=\"14px\">Rx(th_1)</text><rect x=\"251.8401171875\" y=\"5.0\" width=\"65.6929296875\" height=\"40\" stroke=\"black\" fill=\"white\" stroke-width=\"1\" /><text x=\"284.68658203125\" y=\"25.0\" dominant-baseline=\"middle\" text-anchor=\"middle\" font-size=\"14px\">Rz(th_2)</text></svg>"
      ],
      "text/plain": [
       "<cirq.contrib.svg.svg.SVGCircuit at 0x7fe690449668>"
      ]
     },
     "metadata": {},
     "output_type": "display_data"
    },
    {
     "name": "stderr",
     "output_type": "stream",
     "text": [
      "\r",
      " 20%|██        | 2/10 [00:12<00:48,  6.09s/it]"
     ]
    },
    {
     "name": "stdout",
     "output_type": "stream",
     "text": [
      "\n",
      "%%%%%%%%%%%%%%%%%%%%%%%%%\n",
      "new iteration:  2\n",
      "1:\n"
     ]
    },
    {
     "data": {
      "image/svg+xml": [
       "<svg xmlns=\"http://www.w3.org/2000/svg\" width=\"367.53304687499997\" height=\"50.0\"><line x1=\"34.7588671875\" x2=\"337.53304687499997\" y1=\"25.0\" y2=\"25.0\" stroke=\"#1967d2\" stroke-width=\"1\" /><rect x=\"10.0\" y=\"5.0\" width=\"49.517734375\" height=\"40\" stroke=\"black\" fill=\"white\" stroke-width=\"0\" /><text x=\"34.7588671875\" y=\"25.0\" dominant-baseline=\"middle\" text-anchor=\"middle\" font-size=\"14px\">(0, 0): </text><rect x=\"79.517734375\" y=\"5.0\" width=\"65.6929296875\" height=\"40\" stroke=\"black\" fill=\"white\" stroke-width=\"1\" /><text x=\"112.36419921875\" y=\"25.0\" dominant-baseline=\"middle\" text-anchor=\"middle\" font-size=\"14px\">Rz(th_0)</text><rect x=\"165.2106640625\" y=\"5.0\" width=\"66.629453125\" height=\"40\" stroke=\"black\" fill=\"white\" stroke-width=\"1\" /><text x=\"198.525390625\" y=\"25.0\" dominant-baseline=\"middle\" text-anchor=\"middle\" font-size=\"14px\">Rx(th_1)</text><rect x=\"251.8401171875\" y=\"5.0\" width=\"65.6929296875\" height=\"40\" stroke=\"black\" fill=\"white\" stroke-width=\"1\" /><text x=\"284.68658203125\" y=\"25.0\" dominant-baseline=\"middle\" text-anchor=\"middle\" font-size=\"14px\">Rz(th_2)</text></svg>"
      ],
      "text/plain": [
       "<cirq.contrib.svg.svg.SVGCircuit at 0x7fe67850d7f0>"
      ]
     },
     "metadata": {},
     "output_type": "display_data"
    },
    {
     "name": "stdout",
     "output_type": "stream",
     "text": [
      "Train on 1 samples\n",
      "Epoch 1/10\n",
      "1/1 [==============================] - 1s 1s/sample - loss: 15.4987\n",
      "Epoch 2/10\n",
      "1/1 [==============================] - 1s 566ms/sample - loss: 15.4806\n",
      "Epoch 3/10\n",
      "1/1 [==============================] - 1s 755ms/sample - loss: 15.4595\n",
      "Epoch 4/10\n",
      "1/1 [==============================] - 1s 695ms/sample - loss: 15.4494\n",
      "Epoch 5/10\n",
      "1/1 [==============================] - 1s 662ms/sample - loss: 15.4491\n",
      "Epoch 6/10\n",
      "1/1 [==============================] - 1s 535ms/sample - loss: 15.4474\n",
      "Epoch 7/10\n",
      "1/1 [==============================] - 1s 701ms/sample - loss: 15.4419\n",
      "Epoch 8/10\n",
      "1/1 [==============================] - 1s 529ms/sample - loss: 15.4331\n",
      "Epoch 9/10\n",
      "1/1 [==============================] - 1s 790ms/sample - loss: 15.4218\n",
      "Epoch 10/10\n",
      "1/1 [==============================] - 1s 796ms/sample - loss: 15.4090\n",
      "2:\n"
     ]
    },
    {
     "data": {
      "image/svg+xml": [
       "<svg xmlns=\"http://www.w3.org/2000/svg\" width=\"367.53304687499997\" height=\"50.0\"><line x1=\"34.7588671875\" x2=\"337.53304687499997\" y1=\"25.0\" y2=\"25.0\" stroke=\"#1967d2\" stroke-width=\"1\" /><rect x=\"10.0\" y=\"5.0\" width=\"49.517734375\" height=\"40\" stroke=\"black\" fill=\"white\" stroke-width=\"0\" /><text x=\"34.7588671875\" y=\"25.0\" dominant-baseline=\"middle\" text-anchor=\"middle\" font-size=\"14px\">(0, 0): </text><rect x=\"79.517734375\" y=\"5.0\" width=\"65.6929296875\" height=\"40\" stroke=\"black\" fill=\"white\" stroke-width=\"1\" /><text x=\"112.36419921875\" y=\"25.0\" dominant-baseline=\"middle\" text-anchor=\"middle\" font-size=\"14px\">Rz(th_0)</text><rect x=\"165.2106640625\" y=\"5.0\" width=\"66.629453125\" height=\"40\" stroke=\"black\" fill=\"white\" stroke-width=\"1\" /><text x=\"198.525390625\" y=\"25.0\" dominant-baseline=\"middle\" text-anchor=\"middle\" font-size=\"14px\">Rx(th_1)</text><rect x=\"251.8401171875\" y=\"5.0\" width=\"65.6929296875\" height=\"40\" stroke=\"black\" fill=\"white\" stroke-width=\"1\" /><text x=\"284.68658203125\" y=\"25.0\" dominant-baseline=\"middle\" text-anchor=\"middle\" font-size=\"14px\">Rz(th_2)</text></svg>"
      ],
      "text/plain": [
       "<cirq.contrib.svg.svg.SVGCircuit at 0x7fe67851cc50>"
      ]
     },
     "metadata": {},
     "output_type": "display_data"
    },
    {
     "name": "stderr",
     "output_type": "stream",
     "text": [
      "\r",
      " 30%|███       | 3/10 [00:19<00:45,  6.55s/it]"
     ]
    },
    {
     "name": "stdout",
     "output_type": "stream",
     "text": [
      "\n",
      "%%%%%%%%%%%%%%%%%%%%%%%%%\n",
      "new iteration:  3\n",
      "1:\n"
     ]
    },
    {
     "data": {
      "image/svg+xml": [
       "<svg xmlns=\"http://www.w3.org/2000/svg\" width=\"367.53304687499997\" height=\"50.0\"><line x1=\"34.7588671875\" x2=\"337.53304687499997\" y1=\"25.0\" y2=\"25.0\" stroke=\"#1967d2\" stroke-width=\"1\" /><rect x=\"10.0\" y=\"5.0\" width=\"49.517734375\" height=\"40\" stroke=\"black\" fill=\"white\" stroke-width=\"0\" /><text x=\"34.7588671875\" y=\"25.0\" dominant-baseline=\"middle\" text-anchor=\"middle\" font-size=\"14px\">(0, 0): </text><rect x=\"79.517734375\" y=\"5.0\" width=\"65.6929296875\" height=\"40\" stroke=\"black\" fill=\"white\" stroke-width=\"1\" /><text x=\"112.36419921875\" y=\"25.0\" dominant-baseline=\"middle\" text-anchor=\"middle\" font-size=\"14px\">Rz(th_0)</text><rect x=\"165.2106640625\" y=\"5.0\" width=\"66.629453125\" height=\"40\" stroke=\"black\" fill=\"white\" stroke-width=\"1\" /><text x=\"198.525390625\" y=\"25.0\" dominant-baseline=\"middle\" text-anchor=\"middle\" font-size=\"14px\">Rx(th_1)</text><rect x=\"251.8401171875\" y=\"5.0\" width=\"65.6929296875\" height=\"40\" stroke=\"black\" fill=\"white\" stroke-width=\"1\" /><text x=\"284.68658203125\" y=\"25.0\" dominant-baseline=\"middle\" text-anchor=\"middle\" font-size=\"14px\">Rz(th_2)</text></svg>"
      ],
      "text/plain": [
       "<cirq.contrib.svg.svg.SVGCircuit at 0x7fe678578f60>"
      ]
     },
     "metadata": {},
     "output_type": "display_data"
    },
    {
     "name": "stdout",
     "output_type": "stream",
     "text": [
      "Train on 1 samples\n",
      "Epoch 1/10\n",
      "1/1 [==============================] - 1s 1s/sample - loss: 15.5244\n",
      "Epoch 2/10\n",
      "1/1 [==============================] - 1s 592ms/sample - loss: 15.5082\n",
      "Epoch 3/10\n",
      "1/1 [==============================] - 1s 808ms/sample - loss: 15.5031\n",
      "Epoch 4/10\n",
      "1/1 [==============================] - 1s 803ms/sample - loss: 15.4931\n",
      "Epoch 5/10\n",
      "1/1 [==============================] - 1s 607ms/sample - loss: 15.4787\n",
      "Epoch 6/10\n",
      "1/1 [==============================] - 1s 563ms/sample - loss: 15.4619\n",
      "Epoch 7/10\n",
      "1/1 [==============================] - 1s 768ms/sample - loss: 15.4483\n",
      "Epoch 8/10\n",
      "1/1 [==============================] - 1s 575ms/sample - loss: 15.4439\n",
      "Epoch 9/10\n",
      "1/1 [==============================] - 1s 782ms/sample - loss: 15.4483\n",
      "Epoch 10/10\n",
      "1/1 [==============================] - 1s 603ms/sample - loss: 15.4526\n",
      "2:\n"
     ]
    },
    {
     "data": {
      "image/svg+xml": [
       "<svg xmlns=\"http://www.w3.org/2000/svg\" width=\"367.53304687499997\" height=\"50.0\"><line x1=\"34.7588671875\" x2=\"337.53304687499997\" y1=\"25.0\" y2=\"25.0\" stroke=\"#1967d2\" stroke-width=\"1\" /><rect x=\"10.0\" y=\"5.0\" width=\"49.517734375\" height=\"40\" stroke=\"black\" fill=\"white\" stroke-width=\"0\" /><text x=\"34.7588671875\" y=\"25.0\" dominant-baseline=\"middle\" text-anchor=\"middle\" font-size=\"14px\">(0, 0): </text><rect x=\"79.517734375\" y=\"5.0\" width=\"65.6929296875\" height=\"40\" stroke=\"black\" fill=\"white\" stroke-width=\"1\" /><text x=\"112.36419921875\" y=\"25.0\" dominant-baseline=\"middle\" text-anchor=\"middle\" font-size=\"14px\">Rz(th_0)</text><rect x=\"165.2106640625\" y=\"5.0\" width=\"66.629453125\" height=\"40\" stroke=\"black\" fill=\"white\" stroke-width=\"1\" /><text x=\"198.525390625\" y=\"25.0\" dominant-baseline=\"middle\" text-anchor=\"middle\" font-size=\"14px\">Rx(th_1)</text><rect x=\"251.8401171875\" y=\"5.0\" width=\"65.6929296875\" height=\"40\" stroke=\"black\" fill=\"white\" stroke-width=\"1\" /><text x=\"284.68658203125\" y=\"25.0\" dominant-baseline=\"middle\" text-anchor=\"middle\" font-size=\"14px\">Rz(th_2)</text></svg>"
      ],
      "text/plain": [
       "<cirq.contrib.svg.svg.SVGCircuit at 0x7fe6784f9eb8>"
      ]
     },
     "metadata": {},
     "output_type": "display_data"
    },
    {
     "name": "stderr",
     "output_type": "stream",
     "text": [
      "\r",
      " 40%|████      | 4/10 [00:27<00:41,  6.87s/it]"
     ]
    },
    {
     "name": "stdout",
     "output_type": "stream",
     "text": [
      "\n",
      "%%%%%%%%%%%%%%%%%%%%%%%%%\n",
      "new iteration:  4\n",
      "1:\n"
     ]
    },
    {
     "data": {
      "image/svg+xml": [
       "<svg xmlns=\"http://www.w3.org/2000/svg\" width=\"367.53304687499997\" height=\"50.0\"><line x1=\"34.7588671875\" x2=\"337.53304687499997\" y1=\"25.0\" y2=\"25.0\" stroke=\"#1967d2\" stroke-width=\"1\" /><rect x=\"10.0\" y=\"5.0\" width=\"49.517734375\" height=\"40\" stroke=\"black\" fill=\"white\" stroke-width=\"0\" /><text x=\"34.7588671875\" y=\"25.0\" dominant-baseline=\"middle\" text-anchor=\"middle\" font-size=\"14px\">(0, 0): </text><rect x=\"79.517734375\" y=\"5.0\" width=\"65.6929296875\" height=\"40\" stroke=\"black\" fill=\"white\" stroke-width=\"1\" /><text x=\"112.36419921875\" y=\"25.0\" dominant-baseline=\"middle\" text-anchor=\"middle\" font-size=\"14px\">Rz(th_0)</text><rect x=\"165.2106640625\" y=\"5.0\" width=\"66.629453125\" height=\"40\" stroke=\"black\" fill=\"white\" stroke-width=\"1\" /><text x=\"198.525390625\" y=\"25.0\" dominant-baseline=\"middle\" text-anchor=\"middle\" font-size=\"14px\">Rx(th_1)</text><rect x=\"251.8401171875\" y=\"5.0\" width=\"65.6929296875\" height=\"40\" stroke=\"black\" fill=\"white\" stroke-width=\"1\" /><text x=\"284.68658203125\" y=\"25.0\" dominant-baseline=\"middle\" text-anchor=\"middle\" font-size=\"14px\">Rz(th_2)</text></svg>"
      ],
      "text/plain": [
       "<cirq.contrib.svg.svg.SVGCircuit at 0x7fe6781ec278>"
      ]
     },
     "metadata": {},
     "output_type": "display_data"
    },
    {
     "name": "stdout",
     "output_type": "stream",
     "text": [
      "Train on 1 samples\n",
      "Epoch 1/10\n",
      "1/1 [==============================] - 1s 1s/sample - loss: 15.1750\n",
      "Epoch 2/10\n",
      "1/1 [==============================] - 0s 479ms/sample - loss: 15.1816\n",
      "Epoch 3/10\n",
      "1/1 [==============================] - 0s 483ms/sample - loss: 15.1754\n",
      "Epoch 4/10\n",
      "1/1 [==============================] - 0s 497ms/sample - loss: 15.1764\n",
      "Epoch 5/10\n",
      "1/1 [==============================] - 0s 474ms/sample - loss: 15.1787\n",
      "Epoch 6/10\n",
      "1/1 [==============================] - 1s 567ms/sample - loss: 15.1775\n",
      "2:\n"
     ]
    },
    {
     "data": {
      "image/svg+xml": [
       "<svg xmlns=\"http://www.w3.org/2000/svg\" width=\"367.53304687499997\" height=\"50.0\"><line x1=\"34.7588671875\" x2=\"337.53304687499997\" y1=\"25.0\" y2=\"25.0\" stroke=\"#1967d2\" stroke-width=\"1\" /><rect x=\"10.0\" y=\"5.0\" width=\"49.517734375\" height=\"40\" stroke=\"black\" fill=\"white\" stroke-width=\"0\" /><text x=\"34.7588671875\" y=\"25.0\" dominant-baseline=\"middle\" text-anchor=\"middle\" font-size=\"14px\">(0, 0): </text><rect x=\"79.517734375\" y=\"5.0\" width=\"65.6929296875\" height=\"40\" stroke=\"black\" fill=\"white\" stroke-width=\"1\" /><text x=\"112.36419921875\" y=\"25.0\" dominant-baseline=\"middle\" text-anchor=\"middle\" font-size=\"14px\">Rz(th_0)</text><rect x=\"165.2106640625\" y=\"5.0\" width=\"66.629453125\" height=\"40\" stroke=\"black\" fill=\"white\" stroke-width=\"1\" /><text x=\"198.525390625\" y=\"25.0\" dominant-baseline=\"middle\" text-anchor=\"middle\" font-size=\"14px\">Rx(th_1)</text><rect x=\"251.8401171875\" y=\"5.0\" width=\"65.6929296875\" height=\"40\" stroke=\"black\" fill=\"white\" stroke-width=\"1\" /><text x=\"284.68658203125\" y=\"25.0\" dominant-baseline=\"middle\" text-anchor=\"middle\" font-size=\"14px\">Rz(th_2)</text></svg>"
      ],
      "text/plain": [
       "<cirq.contrib.svg.svg.SVGCircuit at 0x7fe67817a550>"
      ]
     },
     "metadata": {},
     "output_type": "display_data"
    },
    {
     "name": "stderr",
     "output_type": "stream",
     "text": [
      "\r",
      " 50%|█████     | 5/10 [00:31<00:29,  6.00s/it]"
     ]
    },
    {
     "name": "stdout",
     "output_type": "stream",
     "text": [
      "\n",
      "%%%%%%%%%%%%%%%%%%%%%%%%%\n",
      "new iteration:  5\n",
      "1:\n"
     ]
    },
    {
     "data": {
      "image/svg+xml": [
       "<svg xmlns=\"http://www.w3.org/2000/svg\" width=\"367.53304687499997\" height=\"50.0\"><line x1=\"34.7588671875\" x2=\"337.53304687499997\" y1=\"25.0\" y2=\"25.0\" stroke=\"#1967d2\" stroke-width=\"1\" /><rect x=\"10.0\" y=\"5.0\" width=\"49.517734375\" height=\"40\" stroke=\"black\" fill=\"white\" stroke-width=\"0\" /><text x=\"34.7588671875\" y=\"25.0\" dominant-baseline=\"middle\" text-anchor=\"middle\" font-size=\"14px\">(0, 0): </text><rect x=\"79.517734375\" y=\"5.0\" width=\"65.6929296875\" height=\"40\" stroke=\"black\" fill=\"white\" stroke-width=\"1\" /><text x=\"112.36419921875\" y=\"25.0\" dominant-baseline=\"middle\" text-anchor=\"middle\" font-size=\"14px\">Rz(th_0)</text><rect x=\"165.2106640625\" y=\"5.0\" width=\"66.629453125\" height=\"40\" stroke=\"black\" fill=\"white\" stroke-width=\"1\" /><text x=\"198.525390625\" y=\"25.0\" dominant-baseline=\"middle\" text-anchor=\"middle\" font-size=\"14px\">Rx(th_1)</text><rect x=\"251.8401171875\" y=\"5.0\" width=\"65.6929296875\" height=\"40\" stroke=\"black\" fill=\"white\" stroke-width=\"1\" /><text x=\"284.68658203125\" y=\"25.0\" dominant-baseline=\"middle\" text-anchor=\"middle\" font-size=\"14px\">Rz(th_2)</text></svg>"
      ],
      "text/plain": [
       "<cirq.contrib.svg.svg.SVGCircuit at 0x7fe664798f28>"
      ]
     },
     "metadata": {},
     "output_type": "display_data"
    },
    {
     "name": "stdout",
     "output_type": "stream",
     "text": [
      "Train on 1 samples\n",
      "Epoch 1/10\n",
      "1/1 [==============================] - 1s 1s/sample - loss: 15.1763\n",
      "Epoch 2/10\n",
      "1/1 [==============================] - 0s 481ms/sample - loss: 15.1775\n",
      "Epoch 3/10\n",
      "1/1 [==============================] - 0s 446ms/sample - loss: 15.1760\n",
      "Epoch 4/10\n",
      "1/1 [==============================] - 0s 489ms/sample - loss: 15.1750\n",
      "Epoch 5/10\n",
      "1/1 [==============================] - 0s 446ms/sample - loss: 15.1758\n",
      "Epoch 6/10\n",
      "1/1 [==============================] - 1s 508ms/sample - loss: 15.1760\n",
      "Epoch 7/10\n",
      "1/1 [==============================] - 0s 493ms/sample - loss: 15.1754\n",
      "Epoch 8/10\n",
      "1/1 [==============================] - 0s 484ms/sample - loss: 15.1750\n",
      "Epoch 9/10\n",
      "1/1 [==============================] - 0s 496ms/sample - loss: 15.1750\n",
      "2:\n"
     ]
    },
    {
     "data": {
      "image/svg+xml": [
       "<svg xmlns=\"http://www.w3.org/2000/svg\" width=\"367.53304687499997\" height=\"50.0\"><line x1=\"34.7588671875\" x2=\"337.53304687499997\" y1=\"25.0\" y2=\"25.0\" stroke=\"#1967d2\" stroke-width=\"1\" /><rect x=\"10.0\" y=\"5.0\" width=\"49.517734375\" height=\"40\" stroke=\"black\" fill=\"white\" stroke-width=\"0\" /><text x=\"34.7588671875\" y=\"25.0\" dominant-baseline=\"middle\" text-anchor=\"middle\" font-size=\"14px\">(0, 0): </text><rect x=\"79.517734375\" y=\"5.0\" width=\"65.6929296875\" height=\"40\" stroke=\"black\" fill=\"white\" stroke-width=\"1\" /><text x=\"112.36419921875\" y=\"25.0\" dominant-baseline=\"middle\" text-anchor=\"middle\" font-size=\"14px\">Rz(th_0)</text><rect x=\"165.2106640625\" y=\"5.0\" width=\"66.629453125\" height=\"40\" stroke=\"black\" fill=\"white\" stroke-width=\"1\" /><text x=\"198.525390625\" y=\"25.0\" dominant-baseline=\"middle\" text-anchor=\"middle\" font-size=\"14px\">Rx(th_1)</text><rect x=\"251.8401171875\" y=\"5.0\" width=\"65.6929296875\" height=\"40\" stroke=\"black\" fill=\"white\" stroke-width=\"1\" /><text x=\"284.68658203125\" y=\"25.0\" dominant-baseline=\"middle\" text-anchor=\"middle\" font-size=\"14px\">Rz(th_2)</text></svg>"
      ],
      "text/plain": [
       "<cirq.contrib.svg.svg.SVGCircuit at 0x7fe66476ae10>"
      ]
     },
     "metadata": {},
     "output_type": "display_data"
    },
    {
     "name": "stderr",
     "output_type": "stream",
     "text": [
      "\r",
      " 60%|██████    | 6/10 [00:36<00:23,  5.82s/it]"
     ]
    },
    {
     "name": "stdout",
     "output_type": "stream",
     "text": [
      "\n",
      "%%%%%%%%%%%%%%%%%%%%%%%%%\n",
      "new iteration:  6\n",
      "1:\n"
     ]
    },
    {
     "data": {
      "image/svg+xml": [
       "<svg xmlns=\"http://www.w3.org/2000/svg\" width=\"367.53304687499997\" height=\"50.0\"><line x1=\"34.7588671875\" x2=\"337.53304687499997\" y1=\"25.0\" y2=\"25.0\" stroke=\"#1967d2\" stroke-width=\"1\" /><rect x=\"10.0\" y=\"5.0\" width=\"49.517734375\" height=\"40\" stroke=\"black\" fill=\"white\" stroke-width=\"0\" /><text x=\"34.7588671875\" y=\"25.0\" dominant-baseline=\"middle\" text-anchor=\"middle\" font-size=\"14px\">(0, 0): </text><rect x=\"79.517734375\" y=\"5.0\" width=\"65.6929296875\" height=\"40\" stroke=\"black\" fill=\"white\" stroke-width=\"1\" /><text x=\"112.36419921875\" y=\"25.0\" dominant-baseline=\"middle\" text-anchor=\"middle\" font-size=\"14px\">Rz(th_0)</text><rect x=\"165.2106640625\" y=\"5.0\" width=\"66.629453125\" height=\"40\" stroke=\"black\" fill=\"white\" stroke-width=\"1\" /><text x=\"198.525390625\" y=\"25.0\" dominant-baseline=\"middle\" text-anchor=\"middle\" font-size=\"14px\">Rx(th_1)</text><rect x=\"251.8401171875\" y=\"5.0\" width=\"65.6929296875\" height=\"40\" stroke=\"black\" fill=\"white\" stroke-width=\"1\" /><text x=\"284.68658203125\" y=\"25.0\" dominant-baseline=\"middle\" text-anchor=\"middle\" font-size=\"14px\">Rz(th_2)</text></svg>"
      ],
      "text/plain": [
       "<cirq.contrib.svg.svg.SVGCircuit at 0x7fe664744f60>"
      ]
     },
     "metadata": {},
     "output_type": "display_data"
    },
    {
     "name": "stdout",
     "output_type": "stream",
     "text": [
      "Train on 1 samples\n",
      "Epoch 1/10\n",
      "1/1 [==============================] - 1s 1s/sample - loss: 15.1750\n",
      "Epoch 2/10\n",
      "1/1 [==============================] - 0s 432ms/sample - loss: 15.1820\n",
      "Epoch 3/10\n",
      "1/1 [==============================] - 0s 481ms/sample - loss: 15.1754\n",
      "Epoch 4/10\n",
      "1/1 [==============================] - 0s 450ms/sample - loss: 15.1765\n",
      "Epoch 5/10\n",
      "1/1 [==============================] - 0s 491ms/sample - loss: 15.1788\n",
      "Epoch 6/10\n",
      "1/1 [==============================] - 0s 493ms/sample - loss: 15.1778\n",
      "2:\n"
     ]
    },
    {
     "data": {
      "image/svg+xml": [
       "<svg xmlns=\"http://www.w3.org/2000/svg\" width=\"367.53304687499997\" height=\"50.0\"><line x1=\"34.7588671875\" x2=\"337.53304687499997\" y1=\"25.0\" y2=\"25.0\" stroke=\"#1967d2\" stroke-width=\"1\" /><rect x=\"10.0\" y=\"5.0\" width=\"49.517734375\" height=\"40\" stroke=\"black\" fill=\"white\" stroke-width=\"0\" /><text x=\"34.7588671875\" y=\"25.0\" dominant-baseline=\"middle\" text-anchor=\"middle\" font-size=\"14px\">(0, 0): </text><rect x=\"79.517734375\" y=\"5.0\" width=\"65.6929296875\" height=\"40\" stroke=\"black\" fill=\"white\" stroke-width=\"1\" /><text x=\"112.36419921875\" y=\"25.0\" dominant-baseline=\"middle\" text-anchor=\"middle\" font-size=\"14px\">Rz(th_0)</text><rect x=\"165.2106640625\" y=\"5.0\" width=\"66.629453125\" height=\"40\" stroke=\"black\" fill=\"white\" stroke-width=\"1\" /><text x=\"198.525390625\" y=\"25.0\" dominant-baseline=\"middle\" text-anchor=\"middle\" font-size=\"14px\">Rx(th_1)</text><rect x=\"251.8401171875\" y=\"5.0\" width=\"65.6929296875\" height=\"40\" stroke=\"black\" fill=\"white\" stroke-width=\"1\" /><text x=\"284.68658203125\" y=\"25.0\" dominant-baseline=\"middle\" text-anchor=\"middle\" font-size=\"14px\">Rz(th_2)</text></svg>"
      ],
      "text/plain": [
       "<cirq.contrib.svg.svg.SVGCircuit at 0x7fe6645d3780>"
      ]
     },
     "metadata": {},
     "output_type": "display_data"
    },
    {
     "name": "stderr",
     "output_type": "stream",
     "text": [
      "\r",
      " 70%|███████   | 7/10 [00:40<00:15,  5.22s/it]"
     ]
    },
    {
     "name": "stdout",
     "output_type": "stream",
     "text": [
      "\n",
      "%%%%%%%%%%%%%%%%%%%%%%%%%\n",
      "new iteration:  7\n",
      "1:\n"
     ]
    },
    {
     "data": {
      "image/svg+xml": [
       "<svg xmlns=\"http://www.w3.org/2000/svg\" width=\"367.53304687499997\" height=\"50.0\"><line x1=\"34.7588671875\" x2=\"337.53304687499997\" y1=\"25.0\" y2=\"25.0\" stroke=\"#1967d2\" stroke-width=\"1\" /><rect x=\"10.0\" y=\"5.0\" width=\"49.517734375\" height=\"40\" stroke=\"black\" fill=\"white\" stroke-width=\"0\" /><text x=\"34.7588671875\" y=\"25.0\" dominant-baseline=\"middle\" text-anchor=\"middle\" font-size=\"14px\">(0, 0): </text><rect x=\"79.517734375\" y=\"5.0\" width=\"65.6929296875\" height=\"40\" stroke=\"black\" fill=\"white\" stroke-width=\"1\" /><text x=\"112.36419921875\" y=\"25.0\" dominant-baseline=\"middle\" text-anchor=\"middle\" font-size=\"14px\">Rz(th_0)</text><rect x=\"165.2106640625\" y=\"5.0\" width=\"66.629453125\" height=\"40\" stroke=\"black\" fill=\"white\" stroke-width=\"1\" /><text x=\"198.525390625\" y=\"25.0\" dominant-baseline=\"middle\" text-anchor=\"middle\" font-size=\"14px\">Rx(th_1)</text><rect x=\"251.8401171875\" y=\"5.0\" width=\"65.6929296875\" height=\"40\" stroke=\"black\" fill=\"white\" stroke-width=\"1\" /><text x=\"284.68658203125\" y=\"25.0\" dominant-baseline=\"middle\" text-anchor=\"middle\" font-size=\"14px\">Rz(th_2)</text></svg>"
      ],
      "text/plain": [
       "<cirq.contrib.svg.svg.SVGCircuit at 0x7fe664403668>"
      ]
     },
     "metadata": {},
     "output_type": "display_data"
    },
    {
     "name": "stdout",
     "output_type": "stream",
     "text": [
      "Train on 1 samples\n",
      "Epoch 1/10\n",
      "1/1 [==============================] - 1s 1s/sample - loss: 15.1760\n",
      "Epoch 2/10\n",
      "1/1 [==============================] - 0s 459ms/sample - loss: 15.1778\n",
      "Epoch 3/10\n",
      "1/1 [==============================] - 0s 444ms/sample - loss: 15.1757\n",
      "Epoch 4/10\n",
      "1/1 [==============================] - 0s 476ms/sample - loss: 15.1750\n",
      "Epoch 5/10\n",
      "1/1 [==============================] - 0s 436ms/sample - loss: 15.1760\n",
      "Epoch 6/10\n",
      "1/1 [==============================] - 0s 494ms/sample - loss: 15.1760\n",
      "Epoch 7/10\n",
      "1/1 [==============================] - 1s 509ms/sample - loss: 15.1753\n",
      "Epoch 8/10\n",
      "1/1 [==============================] - 1s 515ms/sample - loss: 15.1750\n",
      "Epoch 9/10\n",
      "1/1 [==============================] - 0s 479ms/sample - loss: 15.1750\n",
      "Epoch 10/10\n",
      "1/1 [==============================] - 0s 495ms/sample - loss: 15.1752\n",
      "2:\n"
     ]
    },
    {
     "data": {
      "image/svg+xml": [
       "<svg xmlns=\"http://www.w3.org/2000/svg\" width=\"367.53304687499997\" height=\"50.0\"><line x1=\"34.7588671875\" x2=\"337.53304687499997\" y1=\"25.0\" y2=\"25.0\" stroke=\"#1967d2\" stroke-width=\"1\" /><rect x=\"10.0\" y=\"5.0\" width=\"49.517734375\" height=\"40\" stroke=\"black\" fill=\"white\" stroke-width=\"0\" /><text x=\"34.7588671875\" y=\"25.0\" dominant-baseline=\"middle\" text-anchor=\"middle\" font-size=\"14px\">(0, 0): </text><rect x=\"79.517734375\" y=\"5.0\" width=\"65.6929296875\" height=\"40\" stroke=\"black\" fill=\"white\" stroke-width=\"1\" /><text x=\"112.36419921875\" y=\"25.0\" dominant-baseline=\"middle\" text-anchor=\"middle\" font-size=\"14px\">Rz(th_0)</text><rect x=\"165.2106640625\" y=\"5.0\" width=\"66.629453125\" height=\"40\" stroke=\"black\" fill=\"white\" stroke-width=\"1\" /><text x=\"198.525390625\" y=\"25.0\" dominant-baseline=\"middle\" text-anchor=\"middle\" font-size=\"14px\">Rx(th_1)</text><rect x=\"251.8401171875\" y=\"5.0\" width=\"65.6929296875\" height=\"40\" stroke=\"black\" fill=\"white\" stroke-width=\"1\" /><text x=\"284.68658203125\" y=\"25.0\" dominant-baseline=\"middle\" text-anchor=\"middle\" font-size=\"14px\">Rz(th_2)</text></svg>"
      ],
      "text/plain": [
       "<cirq.contrib.svg.svg.SVGCircuit at 0x7fe66443c0b8>"
      ]
     },
     "metadata": {},
     "output_type": "display_data"
    },
    {
     "name": "stderr",
     "output_type": "stream",
     "text": [
      "\r",
      " 80%|████████  | 8/10 [00:46<00:10,  5.49s/it]"
     ]
    },
    {
     "name": "stdout",
     "output_type": "stream",
     "text": [
      "\n",
      "%%%%%%%%%%%%%%%%%%%%%%%%%\n",
      "new iteration:  8\n",
      "1:\n"
     ]
    },
    {
     "data": {
      "image/svg+xml": [
       "<svg xmlns=\"http://www.w3.org/2000/svg\" width=\"367.53304687499997\" height=\"50.0\"><line x1=\"34.7588671875\" x2=\"337.53304687499997\" y1=\"25.0\" y2=\"25.0\" stroke=\"#1967d2\" stroke-width=\"1\" /><rect x=\"10.0\" y=\"5.0\" width=\"49.517734375\" height=\"40\" stroke=\"black\" fill=\"white\" stroke-width=\"0\" /><text x=\"34.7588671875\" y=\"25.0\" dominant-baseline=\"middle\" text-anchor=\"middle\" font-size=\"14px\">(0, 0): </text><rect x=\"79.517734375\" y=\"5.0\" width=\"65.6929296875\" height=\"40\" stroke=\"black\" fill=\"white\" stroke-width=\"1\" /><text x=\"112.36419921875\" y=\"25.0\" dominant-baseline=\"middle\" text-anchor=\"middle\" font-size=\"14px\">Rz(th_0)</text><rect x=\"165.2106640625\" y=\"5.0\" width=\"66.629453125\" height=\"40\" stroke=\"black\" fill=\"white\" stroke-width=\"1\" /><text x=\"198.525390625\" y=\"25.0\" dominant-baseline=\"middle\" text-anchor=\"middle\" font-size=\"14px\">Rx(th_1)</text><rect x=\"251.8401171875\" y=\"5.0\" width=\"65.6929296875\" height=\"40\" stroke=\"black\" fill=\"white\" stroke-width=\"1\" /><text x=\"284.68658203125\" y=\"25.0\" dominant-baseline=\"middle\" text-anchor=\"middle\" font-size=\"14px\">Rz(th_2)</text></svg>"
      ],
      "text/plain": [
       "<cirq.contrib.svg.svg.SVGCircuit at 0x7fe6643cf4a8>"
      ]
     },
     "metadata": {},
     "output_type": "display_data"
    },
    {
     "name": "stdout",
     "output_type": "stream",
     "text": [
      "Train on 1 samples\n",
      "Epoch 1/10\n",
      "1/1 [==============================] - 1s 1s/sample - loss: 14.7535\n",
      "Epoch 2/10\n",
      "1/1 [==============================] - 0s 377ms/sample - loss: 14.7525\n",
      "Epoch 3/10\n",
      "1/1 [==============================] - 0s 475ms/sample - loss: 14.7527\n",
      "Epoch 4/10\n",
      "1/1 [==============================] - 0s 453ms/sample - loss: 14.7525\n",
      "Epoch 5/10\n",
      "1/1 [==============================] - 0s 452ms/sample - loss: 14.7519\n",
      "Epoch 6/10\n",
      "1/1 [==============================] - 0s 381ms/sample - loss: 14.7513\n",
      "Epoch 7/10\n",
      "1/1 [==============================] - 0s 450ms/sample - loss: 14.7517\n",
      "Epoch 8/10\n",
      "1/1 [==============================] - 0s 490ms/sample - loss: 14.7521\n",
      "Epoch 9/10\n",
      "1/1 [==============================] - 0s 361ms/sample - loss: 14.7519\n",
      "Epoch 10/10\n",
      "1/1 [==============================] - 0s 329ms/sample - loss: 14.7513\n",
      "2:\n"
     ]
    },
    {
     "data": {
      "image/svg+xml": [
       "<svg xmlns=\"http://www.w3.org/2000/svg\" width=\"367.53304687499997\" height=\"100.0\"><line x1=\"34.7588671875\" x2=\"337.53304687499997\" y1=\"25.0\" y2=\"25.0\" stroke=\"#1967d2\" stroke-width=\"1\" /><line x1=\"34.7588671875\" x2=\"337.53304687499997\" y1=\"75.0\" y2=\"75.0\" stroke=\"#1967d2\" stroke-width=\"1\" /><rect x=\"10.0\" y=\"5.0\" width=\"49.517734375\" height=\"40\" stroke=\"black\" fill=\"white\" stroke-width=\"0\" /><text x=\"34.7588671875\" y=\"25.0\" dominant-baseline=\"middle\" text-anchor=\"middle\" font-size=\"14px\">(0, 0): </text><rect x=\"10.0\" y=\"55.0\" width=\"49.517734375\" height=\"40\" stroke=\"black\" fill=\"white\" stroke-width=\"0\" /><text x=\"34.7588671875\" y=\"75.0\" dominant-baseline=\"middle\" text-anchor=\"middle\" font-size=\"14px\">(0, 1): </text><rect x=\"79.517734375\" y=\"55.0\" width=\"65.6929296875\" height=\"40\" stroke=\"black\" fill=\"white\" stroke-width=\"1\" /><text x=\"112.36419921875\" y=\"75.0\" dominant-baseline=\"middle\" text-anchor=\"middle\" font-size=\"14px\">Rz(th_0)</text><rect x=\"79.517734375\" y=\"5.0\" width=\"65.6929296875\" height=\"40\" stroke=\"black\" fill=\"white\" stroke-width=\"1\" /><text x=\"112.36419921875\" y=\"25.0\" dominant-baseline=\"middle\" text-anchor=\"middle\" font-size=\"14px\">Rz(th_3)</text><rect x=\"165.2106640625\" y=\"55.0\" width=\"66.629453125\" height=\"40\" stroke=\"black\" fill=\"white\" stroke-width=\"1\" /><text x=\"198.525390625\" y=\"75.0\" dominant-baseline=\"middle\" text-anchor=\"middle\" font-size=\"14px\">Rx(th_1)</text><rect x=\"165.2106640625\" y=\"5.0\" width=\"66.629453125\" height=\"40\" stroke=\"black\" fill=\"white\" stroke-width=\"1\" /><text x=\"198.525390625\" y=\"25.0\" dominant-baseline=\"middle\" text-anchor=\"middle\" font-size=\"14px\">Rx(th_4)</text><rect x=\"251.8401171875\" y=\"55.0\" width=\"65.6929296875\" height=\"40\" stroke=\"black\" fill=\"white\" stroke-width=\"1\" /><text x=\"284.68658203125\" y=\"75.0\" dominant-baseline=\"middle\" text-anchor=\"middle\" font-size=\"14px\">Rz(th_2)</text><rect x=\"251.8401171875\" y=\"5.0\" width=\"65.6929296875\" height=\"40\" stroke=\"black\" fill=\"white\" stroke-width=\"1\" /><text x=\"284.68658203125\" y=\"25.0\" dominant-baseline=\"middle\" text-anchor=\"middle\" font-size=\"14px\">Rz(th_5)</text></svg>"
      ],
      "text/plain": [
       "<cirq.contrib.svg.svg.SVGCircuit at 0x7fe6784e6390>"
      ]
     },
     "metadata": {},
     "output_type": "display_data"
    },
    {
     "name": "stderr",
     "output_type": "stream",
     "text": [
      "\r",
      " 90%|█████████ | 9/10 [00:51<00:05,  5.41s/it]"
     ]
    },
    {
     "name": "stdout",
     "output_type": "stream",
     "text": [
      "accepted\n",
      "about to simplify\n",
      "\n",
      "%%%%%%%%%%%%%%%%%%%%%%%%%\n",
      "new iteration:  9\n",
      "1:\n"
     ]
    },
    {
     "data": {
      "image/svg+xml": [
       "<svg xmlns=\"http://www.w3.org/2000/svg\" width=\"367.53304687499997\" height=\"100.0\"><line x1=\"34.7588671875\" x2=\"337.53304687499997\" y1=\"25.0\" y2=\"25.0\" stroke=\"#1967d2\" stroke-width=\"1\" /><line x1=\"34.7588671875\" x2=\"337.53304687499997\" y1=\"75.0\" y2=\"75.0\" stroke=\"#1967d2\" stroke-width=\"1\" /><rect x=\"10.0\" y=\"5.0\" width=\"49.517734375\" height=\"40\" stroke=\"black\" fill=\"white\" stroke-width=\"0\" /><text x=\"34.7588671875\" y=\"25.0\" dominant-baseline=\"middle\" text-anchor=\"middle\" font-size=\"14px\">(0, 0): </text><rect x=\"10.0\" y=\"55.0\" width=\"49.517734375\" height=\"40\" stroke=\"black\" fill=\"white\" stroke-width=\"0\" /><text x=\"34.7588671875\" y=\"75.0\" dominant-baseline=\"middle\" text-anchor=\"middle\" font-size=\"14px\">(0, 1): </text><rect x=\"79.517734375\" y=\"55.0\" width=\"65.6929296875\" height=\"40\" stroke=\"black\" fill=\"white\" stroke-width=\"1\" /><text x=\"112.36419921875\" y=\"75.0\" dominant-baseline=\"middle\" text-anchor=\"middle\" font-size=\"14px\">Rz(th_0)</text><rect x=\"79.517734375\" y=\"5.0\" width=\"65.6929296875\" height=\"40\" stroke=\"black\" fill=\"white\" stroke-width=\"1\" /><text x=\"112.36419921875\" y=\"25.0\" dominant-baseline=\"middle\" text-anchor=\"middle\" font-size=\"14px\">Rz(th_3)</text><rect x=\"165.2106640625\" y=\"55.0\" width=\"66.629453125\" height=\"40\" stroke=\"black\" fill=\"white\" stroke-width=\"1\" /><text x=\"198.525390625\" y=\"75.0\" dominant-baseline=\"middle\" text-anchor=\"middle\" font-size=\"14px\">Rx(th_1)</text><rect x=\"165.2106640625\" y=\"5.0\" width=\"66.629453125\" height=\"40\" stroke=\"black\" fill=\"white\" stroke-width=\"1\" /><text x=\"198.525390625\" y=\"25.0\" dominant-baseline=\"middle\" text-anchor=\"middle\" font-size=\"14px\">Rx(th_4)</text><rect x=\"251.8401171875\" y=\"55.0\" width=\"65.6929296875\" height=\"40\" stroke=\"black\" fill=\"white\" stroke-width=\"1\" /><text x=\"284.68658203125\" y=\"75.0\" dominant-baseline=\"middle\" text-anchor=\"middle\" font-size=\"14px\">Rz(th_2)</text><rect x=\"251.8401171875\" y=\"5.0\" width=\"65.6929296875\" height=\"40\" stroke=\"black\" fill=\"white\" stroke-width=\"1\" /><text x=\"284.68658203125\" y=\"25.0\" dominant-baseline=\"middle\" text-anchor=\"middle\" font-size=\"14px\">Rz(th_5)</text></svg>"
      ],
      "text/plain": [
       "<cirq.contrib.svg.svg.SVGCircuit at 0x7fe678507f60>"
      ]
     },
     "metadata": {},
     "output_type": "display_data"
    },
    {
     "name": "stdout",
     "output_type": "stream",
     "text": [
      "Train on 1 samples\n",
      "Epoch 1/10\n",
      "1/1 [==============================] - 1s 1s/sample - loss: 15.1763\n",
      "Epoch 2/10\n",
      "1/1 [==============================] - 1s 610ms/sample - loss: 15.1795\n",
      "Epoch 3/10\n",
      "1/1 [==============================] - 1s 720ms/sample - loss: 15.1762\n",
      "Epoch 4/10\n",
      "1/1 [==============================] - 1s 630ms/sample - loss: 15.1755\n",
      "Epoch 5/10\n",
      "1/1 [==============================] - 1s 641ms/sample - loss: 15.1767\n",
      "Epoch 6/10\n",
      "1/1 [==============================] - 1s 686ms/sample - loss: 15.1767\n",
      "Epoch 7/10\n",
      "1/1 [==============================] - 1s 680ms/sample - loss: 15.1756\n",
      "Epoch 8/10\n",
      "1/1 [==============================] - 1s 772ms/sample - loss: 15.1750\n",
      "Epoch 9/10\n",
      "1/1 [==============================] - 1s 620ms/sample - loss: 15.1753\n",
      "Epoch 10/10\n",
      "1/1 [==============================] - 1s 549ms/sample - loss: 15.1757\n",
      "2:\n"
     ]
    },
    {
     "data": {
      "image/svg+xml": [
       "<svg xmlns=\"http://www.w3.org/2000/svg\" width=\"367.53304687499997\" height=\"100.0\"><line x1=\"34.7588671875\" x2=\"337.53304687499997\" y1=\"25.0\" y2=\"25.0\" stroke=\"#1967d2\" stroke-width=\"1\" /><line x1=\"34.7588671875\" x2=\"337.53304687499997\" y1=\"75.0\" y2=\"75.0\" stroke=\"#1967d2\" stroke-width=\"1\" /><rect x=\"10.0\" y=\"5.0\" width=\"49.517734375\" height=\"40\" stroke=\"black\" fill=\"white\" stroke-width=\"0\" /><text x=\"34.7588671875\" y=\"25.0\" dominant-baseline=\"middle\" text-anchor=\"middle\" font-size=\"14px\">(0, 0): </text><rect x=\"10.0\" y=\"55.0\" width=\"49.517734375\" height=\"40\" stroke=\"black\" fill=\"white\" stroke-width=\"0\" /><text x=\"34.7588671875\" y=\"75.0\" dominant-baseline=\"middle\" text-anchor=\"middle\" font-size=\"14px\">(0, 1): </text><rect x=\"79.517734375\" y=\"55.0\" width=\"65.6929296875\" height=\"40\" stroke=\"black\" fill=\"white\" stroke-width=\"1\" /><text x=\"112.36419921875\" y=\"75.0\" dominant-baseline=\"middle\" text-anchor=\"middle\" font-size=\"14px\">Rz(th_0)</text><rect x=\"79.517734375\" y=\"5.0\" width=\"65.6929296875\" height=\"40\" stroke=\"black\" fill=\"white\" stroke-width=\"1\" /><text x=\"112.36419921875\" y=\"25.0\" dominant-baseline=\"middle\" text-anchor=\"middle\" font-size=\"14px\">Rz(th_3)</text><rect x=\"165.2106640625\" y=\"55.0\" width=\"66.629453125\" height=\"40\" stroke=\"black\" fill=\"white\" stroke-width=\"1\" /><text x=\"198.525390625\" y=\"75.0\" dominant-baseline=\"middle\" text-anchor=\"middle\" font-size=\"14px\">Rx(th_1)</text><rect x=\"165.2106640625\" y=\"5.0\" width=\"66.629453125\" height=\"40\" stroke=\"black\" fill=\"white\" stroke-width=\"1\" /><text x=\"198.525390625\" y=\"25.0\" dominant-baseline=\"middle\" text-anchor=\"middle\" font-size=\"14px\">Rx(th_4)</text><rect x=\"251.8401171875\" y=\"55.0\" width=\"65.6929296875\" height=\"40\" stroke=\"black\" fill=\"white\" stroke-width=\"1\" /><text x=\"284.68658203125\" y=\"75.0\" dominant-baseline=\"middle\" text-anchor=\"middle\" font-size=\"14px\">Rz(th_2)</text><rect x=\"251.8401171875\" y=\"5.0\" width=\"65.6929296875\" height=\"40\" stroke=\"black\" fill=\"white\" stroke-width=\"1\" /><text x=\"284.68658203125\" y=\"25.0\" dominant-baseline=\"middle\" text-anchor=\"middle\" font-size=\"14px\">Rz(th_5)</text></svg>"
      ],
      "text/plain": [
       "<cirq.contrib.svg.svg.SVGCircuit at 0x7fe67851c0b8>"
      ]
     },
     "metadata": {},
     "output_type": "display_data"
    },
    {
     "name": "stderr",
     "output_type": "stream",
     "text": [
      "100%|██████████| 10/10 [00:59<00:00,  5.95s/it]"
     ]
    },
    {
     "name": "stdout",
     "output_type": "stream",
     "text": [
      "[array(-0.6508051, dtype=float32), array(-0.6508051, dtype=float32), array(-0.6508051, dtype=float32), array(-0.6508051, dtype=float32), array(-0.6508051, dtype=float32), array(-0.6508051, dtype=float32), array(-0.6508051, dtype=float32), array(-0.6508051, dtype=float32), array(-0.6509583, dtype=float32), array(-0.6509583, dtype=float32)]\n",
      "dep 0.01\n",
      "about to fit!\n",
      "Train on 1 samples\n",
      "Epoch 1/10\n"
     ]
    },
    {
     "name": "stderr",
     "output_type": "stream",
     "text": [
      "\n"
     ]
    },
    {
     "name": "stdout",
     "output_type": "stream",
     "text": [
      "1/1 [==============================] - 1s 910ms/sample - loss: 14.1944\n",
      "Epoch 2/10\n",
      "1/1 [==============================] - 0s 363ms/sample - loss: 14.1972\n",
      "Epoch 3/10\n",
      "1/1 [==============================] - 0s 329ms/sample - loss: 14.1945\n",
      "Epoch 4/10\n",
      "1/1 [==============================] - 0s 342ms/sample - loss: 14.1948\n",
      "Epoch 5/10\n",
      "1/1 [==============================] - 0s 335ms/sample - loss: 14.1958\n",
      "Epoch 6/10\n",
      "1/1 [==============================] - 0s 455ms/sample - loss: 14.1952\n"
     ]
    },
    {
     "name": "stderr",
     "output_type": "stream",
     "text": [
      "\r",
      "  0%|          | 0/10 [00:00<?, ?it/s]"
     ]
    },
    {
     "name": "stdout",
     "output_type": "stream",
     "text": [
      "\n",
      "%%%%%%%%%%%%%%%%%%%%%%%%%\n",
      "new iteration:  0\n",
      "1:\n"
     ]
    },
    {
     "data": {
      "image/svg+xml": [
       "<svg xmlns=\"http://www.w3.org/2000/svg\" width=\"367.53304687499997\" height=\"50.0\"><line x1=\"34.7588671875\" x2=\"337.53304687499997\" y1=\"25.0\" y2=\"25.0\" stroke=\"#1967d2\" stroke-width=\"1\" /><rect x=\"10.0\" y=\"5.0\" width=\"49.517734375\" height=\"40\" stroke=\"black\" fill=\"white\" stroke-width=\"0\" /><text x=\"34.7588671875\" y=\"25.0\" dominant-baseline=\"middle\" text-anchor=\"middle\" font-size=\"14px\">(0, 0): </text><rect x=\"79.517734375\" y=\"5.0\" width=\"65.6929296875\" height=\"40\" stroke=\"black\" fill=\"white\" stroke-width=\"1\" /><text x=\"112.36419921875\" y=\"25.0\" dominant-baseline=\"middle\" text-anchor=\"middle\" font-size=\"14px\">Rz(th_0)</text><rect x=\"165.2106640625\" y=\"5.0\" width=\"66.629453125\" height=\"40\" stroke=\"black\" fill=\"white\" stroke-width=\"1\" /><text x=\"198.525390625\" y=\"25.0\" dominant-baseline=\"middle\" text-anchor=\"middle\" font-size=\"14px\">Rx(th_1)</text><rect x=\"251.8401171875\" y=\"5.0\" width=\"65.6929296875\" height=\"40\" stroke=\"black\" fill=\"white\" stroke-width=\"1\" /><text x=\"284.68658203125\" y=\"25.0\" dominant-baseline=\"middle\" text-anchor=\"middle\" font-size=\"14px\">Rz(th_2)</text></svg>"
      ],
      "text/plain": [
       "<cirq.contrib.svg.svg.SVGCircuit at 0x7fe664468048>"
      ]
     },
     "metadata": {},
     "output_type": "display_data"
    },
    {
     "name": "stdout",
     "output_type": "stream",
     "text": [
      "Train on 1 samples\n",
      "Epoch 1/10\n",
      "1/1 [==============================] - 1s 1s/sample - loss: 14.1980\n",
      "Epoch 2/10\n",
      "1/1 [==============================] - 0s 326ms/sample - loss: 14.1973\n",
      "Epoch 3/10\n",
      "1/1 [==============================] - 0s 459ms/sample - loss: 14.1965\n",
      "Epoch 4/10\n",
      "1/1 [==============================] - 1s 537ms/sample - loss: 14.1967\n",
      "Epoch 5/10\n",
      "1/1 [==============================] - 0s 334ms/sample - loss: 14.1965\n",
      "Epoch 6/10\n",
      "1/1 [==============================] - 0s 452ms/sample - loss: 14.1954\n",
      "Epoch 7/10\n",
      "1/1 [==============================] - 0s 381ms/sample - loss: 14.1950\n",
      "Epoch 8/10\n",
      "1/1 [==============================] - 0s 446ms/sample - loss: 14.1954\n",
      "Epoch 9/10\n",
      "1/1 [==============================] - 1s 506ms/sample - loss: 14.1958\n",
      "Epoch 10/10\n",
      "1/1 [==============================] - 1s 511ms/sample - loss: 14.1955\n",
      "2:\n"
     ]
    },
    {
     "data": {
      "image/svg+xml": [
       "<svg xmlns=\"http://www.w3.org/2000/svg\" width=\"367.53304687499997\" height=\"100.0\"><line x1=\"34.7588671875\" x2=\"337.53304687499997\" y1=\"25.0\" y2=\"25.0\" stroke=\"#1967d2\" stroke-width=\"1\" /><line x1=\"34.7588671875\" x2=\"337.53304687499997\" y1=\"75.0\" y2=\"75.0\" stroke=\"#1967d2\" stroke-width=\"1\" /><rect x=\"10.0\" y=\"5.0\" width=\"49.517734375\" height=\"40\" stroke=\"black\" fill=\"white\" stroke-width=\"0\" /><text x=\"34.7588671875\" y=\"25.0\" dominant-baseline=\"middle\" text-anchor=\"middle\" font-size=\"14px\">(0, 0): </text><rect x=\"10.0\" y=\"55.0\" width=\"49.517734375\" height=\"40\" stroke=\"black\" fill=\"white\" stroke-width=\"0\" /><text x=\"34.7588671875\" y=\"75.0\" dominant-baseline=\"middle\" text-anchor=\"middle\" font-size=\"14px\">(0, 1): </text><rect x=\"79.517734375\" y=\"55.0\" width=\"65.6929296875\" height=\"40\" stroke=\"black\" fill=\"white\" stroke-width=\"1\" /><text x=\"112.36419921875\" y=\"75.0\" dominant-baseline=\"middle\" text-anchor=\"middle\" font-size=\"14px\">Rz(th_0)</text><rect x=\"79.517734375\" y=\"5.0\" width=\"65.6929296875\" height=\"40\" stroke=\"black\" fill=\"white\" stroke-width=\"1\" /><text x=\"112.36419921875\" y=\"25.0\" dominant-baseline=\"middle\" text-anchor=\"middle\" font-size=\"14px\">Rz(th_3)</text><rect x=\"165.2106640625\" y=\"55.0\" width=\"66.629453125\" height=\"40\" stroke=\"black\" fill=\"white\" stroke-width=\"1\" /><text x=\"198.525390625\" y=\"75.0\" dominant-baseline=\"middle\" text-anchor=\"middle\" font-size=\"14px\">Rx(th_1)</text><rect x=\"165.2106640625\" y=\"5.0\" width=\"66.629453125\" height=\"40\" stroke=\"black\" fill=\"white\" stroke-width=\"1\" /><text x=\"198.525390625\" y=\"25.0\" dominant-baseline=\"middle\" text-anchor=\"middle\" font-size=\"14px\">Rx(th_4)</text><rect x=\"251.8401171875\" y=\"55.0\" width=\"65.6929296875\" height=\"40\" stroke=\"black\" fill=\"white\" stroke-width=\"1\" /><text x=\"284.68658203125\" y=\"75.0\" dominant-baseline=\"middle\" text-anchor=\"middle\" font-size=\"14px\">Rz(th_2)</text><rect x=\"251.8401171875\" y=\"5.0\" width=\"65.6929296875\" height=\"40\" stroke=\"black\" fill=\"white\" stroke-width=\"1\" /><text x=\"284.68658203125\" y=\"25.0\" dominant-baseline=\"middle\" text-anchor=\"middle\" font-size=\"14px\">Rz(th_5)</text></svg>"
      ],
      "text/plain": [
       "<cirq.contrib.svg.svg.SVGCircuit at 0x7fe67866c0f0>"
      ]
     },
     "metadata": {},
     "output_type": "display_data"
    },
    {
     "name": "stderr",
     "output_type": "stream",
     "text": [
      "\r",
      " 10%|█         | 1/10 [00:05<00:48,  5.35s/it]"
     ]
    },
    {
     "name": "stdout",
     "output_type": "stream",
     "text": [
      "accepted\n",
      "about to simplify\n",
      "\n",
      "%%%%%%%%%%%%%%%%%%%%%%%%%\n",
      "new iteration:  1\n",
      "1:\n"
     ]
    },
    {
     "data": {
      "image/svg+xml": [
       "<svg xmlns=\"http://www.w3.org/2000/svg\" width=\"367.53304687499997\" height=\"100.0\"><line x1=\"34.7588671875\" x2=\"337.53304687499997\" y1=\"25.0\" y2=\"25.0\" stroke=\"#1967d2\" stroke-width=\"1\" /><line x1=\"34.7588671875\" x2=\"337.53304687499997\" y1=\"75.0\" y2=\"75.0\" stroke=\"#1967d2\" stroke-width=\"1\" /><rect x=\"10.0\" y=\"5.0\" width=\"49.517734375\" height=\"40\" stroke=\"black\" fill=\"white\" stroke-width=\"0\" /><text x=\"34.7588671875\" y=\"25.0\" dominant-baseline=\"middle\" text-anchor=\"middle\" font-size=\"14px\">(0, 0): </text><rect x=\"10.0\" y=\"55.0\" width=\"49.517734375\" height=\"40\" stroke=\"black\" fill=\"white\" stroke-width=\"0\" /><text x=\"34.7588671875\" y=\"75.0\" dominant-baseline=\"middle\" text-anchor=\"middle\" font-size=\"14px\">(0, 1): </text><rect x=\"79.517734375\" y=\"55.0\" width=\"65.6929296875\" height=\"40\" stroke=\"black\" fill=\"white\" stroke-width=\"1\" /><text x=\"112.36419921875\" y=\"75.0\" dominant-baseline=\"middle\" text-anchor=\"middle\" font-size=\"14px\">Rz(th_0)</text><rect x=\"79.517734375\" y=\"5.0\" width=\"65.6929296875\" height=\"40\" stroke=\"black\" fill=\"white\" stroke-width=\"1\" /><text x=\"112.36419921875\" y=\"25.0\" dominant-baseline=\"middle\" text-anchor=\"middle\" font-size=\"14px\">Rz(th_3)</text><rect x=\"165.2106640625\" y=\"55.0\" width=\"66.629453125\" height=\"40\" stroke=\"black\" fill=\"white\" stroke-width=\"1\" /><text x=\"198.525390625\" y=\"75.0\" dominant-baseline=\"middle\" text-anchor=\"middle\" font-size=\"14px\">Rx(th_1)</text><rect x=\"165.2106640625\" y=\"5.0\" width=\"66.629453125\" height=\"40\" stroke=\"black\" fill=\"white\" stroke-width=\"1\" /><text x=\"198.525390625\" y=\"25.0\" dominant-baseline=\"middle\" text-anchor=\"middle\" font-size=\"14px\">Rx(th_4)</text><rect x=\"251.8401171875\" y=\"55.0\" width=\"65.6929296875\" height=\"40\" stroke=\"black\" fill=\"white\" stroke-width=\"1\" /><text x=\"284.68658203125\" y=\"75.0\" dominant-baseline=\"middle\" text-anchor=\"middle\" font-size=\"14px\">Rz(th_2)</text><rect x=\"251.8401171875\" y=\"5.0\" width=\"65.6929296875\" height=\"40\" stroke=\"black\" fill=\"white\" stroke-width=\"1\" /><text x=\"284.68658203125\" y=\"25.0\" dominant-baseline=\"middle\" text-anchor=\"middle\" font-size=\"14px\">Rz(th_5)</text></svg>"
      ],
      "text/plain": [
       "<cirq.contrib.svg.svg.SVGCircuit at 0x7fe66419a470>"
      ]
     },
     "metadata": {},
     "output_type": "display_data"
    },
    {
     "name": "stdout",
     "output_type": "stream",
     "text": [
      "Train on 1 samples\n",
      "Epoch 1/10\n",
      "1/1 [==============================] - 1s 1s/sample - loss: 14.2621\n",
      "Epoch 2/10\n",
      "1/1 [==============================] - 1s 626ms/sample - loss: 14.2749\n",
      "Epoch 3/10\n",
      "1/1 [==============================] - 0s 499ms/sample - loss: 14.2626\n",
      "Epoch 4/10\n",
      "1/1 [==============================] - 1s 535ms/sample - loss: 14.2632\n",
      "Epoch 5/10\n",
      "1/1 [==============================] - 1s 566ms/sample - loss: 14.2660\n",
      "Epoch 6/10\n",
      "1/1 [==============================] - 1s 662ms/sample - loss: 14.2641\n",
      "2:\n"
     ]
    },
    {
     "data": {
      "image/svg+xml": [
       "<svg xmlns=\"http://www.w3.org/2000/svg\" width=\"367.53304687499997\" height=\"100.0\"><line x1=\"34.7588671875\" x2=\"337.53304687499997\" y1=\"25.0\" y2=\"25.0\" stroke=\"#1967d2\" stroke-width=\"1\" /><line x1=\"34.7588671875\" x2=\"337.53304687499997\" y1=\"75.0\" y2=\"75.0\" stroke=\"#1967d2\" stroke-width=\"1\" /><rect x=\"10.0\" y=\"5.0\" width=\"49.517734375\" height=\"40\" stroke=\"black\" fill=\"white\" stroke-width=\"0\" /><text x=\"34.7588671875\" y=\"25.0\" dominant-baseline=\"middle\" text-anchor=\"middle\" font-size=\"14px\">(0, 0): </text><rect x=\"10.0\" y=\"55.0\" width=\"49.517734375\" height=\"40\" stroke=\"black\" fill=\"white\" stroke-width=\"0\" /><text x=\"34.7588671875\" y=\"75.0\" dominant-baseline=\"middle\" text-anchor=\"middle\" font-size=\"14px\">(0, 1): </text><rect x=\"79.517734375\" y=\"55.0\" width=\"65.6929296875\" height=\"40\" stroke=\"black\" fill=\"white\" stroke-width=\"1\" /><text x=\"112.36419921875\" y=\"75.0\" dominant-baseline=\"middle\" text-anchor=\"middle\" font-size=\"14px\">Rz(th_0)</text><rect x=\"79.517734375\" y=\"5.0\" width=\"65.6929296875\" height=\"40\" stroke=\"black\" fill=\"white\" stroke-width=\"1\" /><text x=\"112.36419921875\" y=\"25.0\" dominant-baseline=\"middle\" text-anchor=\"middle\" font-size=\"14px\">Rz(th_3)</text><rect x=\"165.2106640625\" y=\"55.0\" width=\"66.629453125\" height=\"40\" stroke=\"black\" fill=\"white\" stroke-width=\"1\" /><text x=\"198.525390625\" y=\"75.0\" dominant-baseline=\"middle\" text-anchor=\"middle\" font-size=\"14px\">Rx(th_1)</text><rect x=\"165.2106640625\" y=\"5.0\" width=\"66.629453125\" height=\"40\" stroke=\"black\" fill=\"white\" stroke-width=\"1\" /><text x=\"198.525390625\" y=\"25.0\" dominant-baseline=\"middle\" text-anchor=\"middle\" font-size=\"14px\">Rx(th_4)</text><rect x=\"251.8401171875\" y=\"55.0\" width=\"65.6929296875\" height=\"40\" stroke=\"black\" fill=\"white\" stroke-width=\"1\" /><text x=\"284.68658203125\" y=\"75.0\" dominant-baseline=\"middle\" text-anchor=\"middle\" font-size=\"14px\">Rz(th_2)</text><rect x=\"251.8401171875\" y=\"5.0\" width=\"65.6929296875\" height=\"40\" stroke=\"black\" fill=\"white\" stroke-width=\"1\" /><text x=\"284.68658203125\" y=\"25.0\" dominant-baseline=\"middle\" text-anchor=\"middle\" font-size=\"14px\">Rz(th_5)</text></svg>"
      ],
      "text/plain": [
       "<cirq.contrib.svg.svg.SVGCircuit at 0x7fe66406fef0>"
      ]
     },
     "metadata": {},
     "output_type": "display_data"
    },
    {
     "name": "stderr",
     "output_type": "stream",
     "text": [
      "\r",
      " 20%|██        | 2/10 [00:09<00:40,  5.08s/it]"
     ]
    },
    {
     "name": "stdout",
     "output_type": "stream",
     "text": [
      "\n",
      "%%%%%%%%%%%%%%%%%%%%%%%%%\n",
      "new iteration:  2\n",
      "1:\n"
     ]
    },
    {
     "data": {
      "image/svg+xml": [
       "<svg xmlns=\"http://www.w3.org/2000/svg\" width=\"367.53304687499997\" height=\"100.0\"><line x1=\"34.7588671875\" x2=\"337.53304687499997\" y1=\"25.0\" y2=\"25.0\" stroke=\"#1967d2\" stroke-width=\"1\" /><line x1=\"34.7588671875\" x2=\"337.53304687499997\" y1=\"75.0\" y2=\"75.0\" stroke=\"#1967d2\" stroke-width=\"1\" /><rect x=\"10.0\" y=\"5.0\" width=\"49.517734375\" height=\"40\" stroke=\"black\" fill=\"white\" stroke-width=\"0\" /><text x=\"34.7588671875\" y=\"25.0\" dominant-baseline=\"middle\" text-anchor=\"middle\" font-size=\"14px\">(0, 0): </text><rect x=\"10.0\" y=\"55.0\" width=\"49.517734375\" height=\"40\" stroke=\"black\" fill=\"white\" stroke-width=\"0\" /><text x=\"34.7588671875\" y=\"75.0\" dominant-baseline=\"middle\" text-anchor=\"middle\" font-size=\"14px\">(0, 1): </text><rect x=\"79.517734375\" y=\"55.0\" width=\"65.6929296875\" height=\"40\" stroke=\"black\" fill=\"white\" stroke-width=\"1\" /><text x=\"112.36419921875\" y=\"75.0\" dominant-baseline=\"middle\" text-anchor=\"middle\" font-size=\"14px\">Rz(th_0)</text><rect x=\"79.517734375\" y=\"5.0\" width=\"65.6929296875\" height=\"40\" stroke=\"black\" fill=\"white\" stroke-width=\"1\" /><text x=\"112.36419921875\" y=\"25.0\" dominant-baseline=\"middle\" text-anchor=\"middle\" font-size=\"14px\">Rz(th_3)</text><rect x=\"165.2106640625\" y=\"55.0\" width=\"66.629453125\" height=\"40\" stroke=\"black\" fill=\"white\" stroke-width=\"1\" /><text x=\"198.525390625\" y=\"75.0\" dominant-baseline=\"middle\" text-anchor=\"middle\" font-size=\"14px\">Rx(th_1)</text><rect x=\"165.2106640625\" y=\"5.0\" width=\"66.629453125\" height=\"40\" stroke=\"black\" fill=\"white\" stroke-width=\"1\" /><text x=\"198.525390625\" y=\"25.0\" dominant-baseline=\"middle\" text-anchor=\"middle\" font-size=\"14px\">Rx(th_4)</text><rect x=\"251.8401171875\" y=\"55.0\" width=\"65.6929296875\" height=\"40\" stroke=\"black\" fill=\"white\" stroke-width=\"1\" /><text x=\"284.68658203125\" y=\"75.0\" dominant-baseline=\"middle\" text-anchor=\"middle\" font-size=\"14px\">Rz(th_2)</text><rect x=\"251.8401171875\" y=\"5.0\" width=\"65.6929296875\" height=\"40\" stroke=\"black\" fill=\"white\" stroke-width=\"1\" /><text x=\"284.68658203125\" y=\"25.0\" dominant-baseline=\"middle\" text-anchor=\"middle\" font-size=\"14px\">Rz(th_5)</text></svg>"
      ],
      "text/plain": [
       "<cirq.contrib.svg.svg.SVGCircuit at 0x7fe638792ef0>"
      ]
     },
     "metadata": {},
     "output_type": "display_data"
    },
    {
     "name": "stdout",
     "output_type": "stream",
     "text": [
      "Train on 1 samples\n",
      "Epoch 1/10\n",
      "1/1 [==============================] - 1s 1s/sample - loss: 14.2623\n",
      "Epoch 2/10\n",
      "1/1 [==============================] - 0s 495ms/sample - loss: 14.2735\n",
      "Epoch 3/10\n",
      "1/1 [==============================] - 1s 576ms/sample - loss: 14.2624\n",
      "Epoch 4/10\n",
      "1/1 [==============================] - 1s 752ms/sample - loss: 14.2632\n",
      "Epoch 5/10\n",
      "1/1 [==============================] - 1s 828ms/sample - loss: 14.2658\n",
      "Epoch 6/10\n",
      "1/1 [==============================] - 1s 710ms/sample - loss: 14.2641\n",
      "2:\n"
     ]
    },
    {
     "data": {
      "image/svg+xml": [
       "<svg xmlns=\"http://www.w3.org/2000/svg\" width=\"367.53304687499997\" height=\"100.0\"><line x1=\"34.7588671875\" x2=\"337.53304687499997\" y1=\"25.0\" y2=\"25.0\" stroke=\"#1967d2\" stroke-width=\"1\" /><line x1=\"34.7588671875\" x2=\"337.53304687499997\" y1=\"75.0\" y2=\"75.0\" stroke=\"#1967d2\" stroke-width=\"1\" /><rect x=\"10.0\" y=\"5.0\" width=\"49.517734375\" height=\"40\" stroke=\"black\" fill=\"white\" stroke-width=\"0\" /><text x=\"34.7588671875\" y=\"25.0\" dominant-baseline=\"middle\" text-anchor=\"middle\" font-size=\"14px\">(0, 0): </text><rect x=\"10.0\" y=\"55.0\" width=\"49.517734375\" height=\"40\" stroke=\"black\" fill=\"white\" stroke-width=\"0\" /><text x=\"34.7588671875\" y=\"75.0\" dominant-baseline=\"middle\" text-anchor=\"middle\" font-size=\"14px\">(0, 1): </text><rect x=\"79.517734375\" y=\"55.0\" width=\"65.6929296875\" height=\"40\" stroke=\"black\" fill=\"white\" stroke-width=\"1\" /><text x=\"112.36419921875\" y=\"75.0\" dominant-baseline=\"middle\" text-anchor=\"middle\" font-size=\"14px\">Rz(th_0)</text><rect x=\"79.517734375\" y=\"5.0\" width=\"65.6929296875\" height=\"40\" stroke=\"black\" fill=\"white\" stroke-width=\"1\" /><text x=\"112.36419921875\" y=\"25.0\" dominant-baseline=\"middle\" text-anchor=\"middle\" font-size=\"14px\">Rz(th_3)</text><rect x=\"165.2106640625\" y=\"55.0\" width=\"66.629453125\" height=\"40\" stroke=\"black\" fill=\"white\" stroke-width=\"1\" /><text x=\"198.525390625\" y=\"75.0\" dominant-baseline=\"middle\" text-anchor=\"middle\" font-size=\"14px\">Rx(th_1)</text><rect x=\"165.2106640625\" y=\"5.0\" width=\"66.629453125\" height=\"40\" stroke=\"black\" fill=\"white\" stroke-width=\"1\" /><text x=\"198.525390625\" y=\"25.0\" dominant-baseline=\"middle\" text-anchor=\"middle\" font-size=\"14px\">Rx(th_4)</text><rect x=\"251.8401171875\" y=\"55.0\" width=\"65.6929296875\" height=\"40\" stroke=\"black\" fill=\"white\" stroke-width=\"1\" /><text x=\"284.68658203125\" y=\"75.0\" dominant-baseline=\"middle\" text-anchor=\"middle\" font-size=\"14px\">Rz(th_2)</text><rect x=\"251.8401171875\" y=\"5.0\" width=\"65.6929296875\" height=\"40\" stroke=\"black\" fill=\"white\" stroke-width=\"1\" /><text x=\"284.68658203125\" y=\"25.0\" dominant-baseline=\"middle\" text-anchor=\"middle\" font-size=\"14px\">Rz(th_5)</text></svg>"
      ],
      "text/plain": [
       "<cirq.contrib.svg.svg.SVGCircuit at 0x7fe63873ad68>"
      ]
     },
     "metadata": {},
     "output_type": "display_data"
    },
    {
     "name": "stderr",
     "output_type": "stream",
     "text": [
      "\r",
      " 30%|███       | 3/10 [00:14<00:35,  5.09s/it]"
     ]
    },
    {
     "name": "stdout",
     "output_type": "stream",
     "text": [
      "\n",
      "%%%%%%%%%%%%%%%%%%%%%%%%%\n",
      "new iteration:  3\n",
      "1:\n"
     ]
    },
    {
     "data": {
      "image/svg+xml": [
       "<svg xmlns=\"http://www.w3.org/2000/svg\" width=\"367.53304687499997\" height=\"100.0\"><line x1=\"34.7588671875\" x2=\"337.53304687499997\" y1=\"25.0\" y2=\"25.0\" stroke=\"#1967d2\" stroke-width=\"1\" /><line x1=\"34.7588671875\" x2=\"337.53304687499997\" y1=\"75.0\" y2=\"75.0\" stroke=\"#1967d2\" stroke-width=\"1\" /><rect x=\"10.0\" y=\"5.0\" width=\"49.517734375\" height=\"40\" stroke=\"black\" fill=\"white\" stroke-width=\"0\" /><text x=\"34.7588671875\" y=\"25.0\" dominant-baseline=\"middle\" text-anchor=\"middle\" font-size=\"14px\">(0, 0): </text><rect x=\"10.0\" y=\"55.0\" width=\"49.517734375\" height=\"40\" stroke=\"black\" fill=\"white\" stroke-width=\"0\" /><text x=\"34.7588671875\" y=\"75.0\" dominant-baseline=\"middle\" text-anchor=\"middle\" font-size=\"14px\">(0, 1): </text><rect x=\"79.517734375\" y=\"55.0\" width=\"65.6929296875\" height=\"40\" stroke=\"black\" fill=\"white\" stroke-width=\"1\" /><text x=\"112.36419921875\" y=\"75.0\" dominant-baseline=\"middle\" text-anchor=\"middle\" font-size=\"14px\">Rz(th_0)</text><rect x=\"79.517734375\" y=\"5.0\" width=\"65.6929296875\" height=\"40\" stroke=\"black\" fill=\"white\" stroke-width=\"1\" /><text x=\"112.36419921875\" y=\"25.0\" dominant-baseline=\"middle\" text-anchor=\"middle\" font-size=\"14px\">Rz(th_3)</text><rect x=\"165.2106640625\" y=\"55.0\" width=\"66.629453125\" height=\"40\" stroke=\"black\" fill=\"white\" stroke-width=\"1\" /><text x=\"198.525390625\" y=\"75.0\" dominant-baseline=\"middle\" text-anchor=\"middle\" font-size=\"14px\">Rx(th_1)</text><rect x=\"165.2106640625\" y=\"5.0\" width=\"66.629453125\" height=\"40\" stroke=\"black\" fill=\"white\" stroke-width=\"1\" /><text x=\"198.525390625\" y=\"25.0\" dominant-baseline=\"middle\" text-anchor=\"middle\" font-size=\"14px\">Rx(th_4)</text><rect x=\"251.8401171875\" y=\"55.0\" width=\"65.6929296875\" height=\"40\" stroke=\"black\" fill=\"white\" stroke-width=\"1\" /><text x=\"284.68658203125\" y=\"75.0\" dominant-baseline=\"middle\" text-anchor=\"middle\" font-size=\"14px\">Rz(th_2)</text><rect x=\"251.8401171875\" y=\"5.0\" width=\"65.6929296875\" height=\"40\" stroke=\"black\" fill=\"white\" stroke-width=\"1\" /><text x=\"284.68658203125\" y=\"25.0\" dominant-baseline=\"middle\" text-anchor=\"middle\" font-size=\"14px\">Rz(th_5)</text></svg>"
      ],
      "text/plain": [
       "<cirq.contrib.svg.svg.SVGCircuit at 0x7fe638768048>"
      ]
     },
     "metadata": {},
     "output_type": "display_data"
    },
    {
     "name": "stdout",
     "output_type": "stream",
     "text": [
      "Train on 1 samples\n",
      "Epoch 1/10\n",
      "1/1 [==============================] - 2s 2s/sample - loss: 14.4255\n",
      "Epoch 2/10\n",
      "1/1 [==============================] - 1s 899ms/sample - loss: 14.3571\n",
      "Epoch 3/10\n",
      "1/1 [==============================] - 1s 922ms/sample - loss: 14.3956\n",
      "Epoch 4/10\n",
      "1/1 [==============================] - 1s 917ms/sample - loss: 14.3834\n",
      "Epoch 5/10\n",
      "1/1 [==============================] - 1s 916ms/sample - loss: 14.3517\n",
      "Epoch 6/10\n",
      "1/1 [==============================] - 1s 738ms/sample - loss: 14.3308\n",
      "Epoch 7/10\n",
      "1/1 [==============================] - 1s 873ms/sample - loss: 14.3055\n",
      "Epoch 8/10\n",
      "1/1 [==============================] - 1s 723ms/sample - loss: 14.2331\n",
      "Epoch 9/10\n",
      "1/1 [==============================] - 1s 1s/sample - loss: 14.0953\n",
      "Epoch 10/10\n",
      "1/1 [==============================] - 1s 881ms/sample - loss: 13.9096\n",
      "2:\n"
     ]
    },
    {
     "data": {
      "image/svg+xml": [
       "<svg xmlns=\"http://www.w3.org/2000/svg\" width=\"763.3628125000001\" height=\"100.0\"><line x1=\"34.7588671875\" x2=\"733.3628125000001\" y1=\"25.0\" y2=\"25.0\" stroke=\"#1967d2\" stroke-width=\"1\" /><line x1=\"34.7588671875\" x2=\"733.3628125000001\" y1=\"75.0\" y2=\"75.0\" stroke=\"#1967d2\" stroke-width=\"1\" /><line x1=\"99.517734375\" x2=\"99.517734375\" y1=\"25.0\" y2=\"75.0\" stroke=\"black\" stroke-width=\"3\" /><line x1=\"417.533046875\" x2=\"417.533046875\" y1=\"25.0\" y2=\"75.0\" stroke=\"black\" stroke-width=\"3\" /><rect x=\"10.0\" y=\"5.0\" width=\"49.517734375\" height=\"40\" stroke=\"black\" fill=\"white\" stroke-width=\"0\" /><text x=\"34.7588671875\" y=\"25.0\" dominant-baseline=\"middle\" text-anchor=\"middle\" font-size=\"14px\">(0, 0): </text><rect x=\"10.0\" y=\"55.0\" width=\"49.517734375\" height=\"40\" stroke=\"black\" fill=\"white\" stroke-width=\"0\" /><text x=\"34.7588671875\" y=\"75.0\" dominant-baseline=\"middle\" text-anchor=\"middle\" font-size=\"14px\">(0, 1): </text><circle cx=\"99.517734375\" cy=\"75.0\" r=\"10.0\" /><rect x=\"79.517734375\" y=\"5.0\" width=\"40\" height=\"40\" stroke=\"black\" fill=\"white\" stroke-width=\"1\" /><text x=\"99.517734375\" y=\"25.0\" dominant-baseline=\"middle\" text-anchor=\"middle\" font-size=\"18px\">X</text><rect x=\"139.517734375\" y=\"55.0\" width=\"65.6929296875\" height=\"40\" stroke=\"black\" fill=\"white\" stroke-width=\"1\" /><text x=\"172.36419921875\" y=\"75.0\" dominant-baseline=\"middle\" text-anchor=\"middle\" font-size=\"14px\">Rz(th_0)</text><rect x=\"139.517734375\" y=\"5.0\" width=\"65.6929296875\" height=\"40\" stroke=\"black\" fill=\"white\" stroke-width=\"1\" /><text x=\"172.36419921875\" y=\"25.0\" dominant-baseline=\"middle\" text-anchor=\"middle\" font-size=\"14px\">Rz(th_3)</text><rect x=\"225.2106640625\" y=\"55.0\" width=\"66.629453125\" height=\"40\" stroke=\"black\" fill=\"white\" stroke-width=\"1\" /><text x=\"258.525390625\" y=\"75.0\" dominant-baseline=\"middle\" text-anchor=\"middle\" font-size=\"14px\">Rx(th_1)</text><rect x=\"225.2106640625\" y=\"5.0\" width=\"66.629453125\" height=\"40\" stroke=\"black\" fill=\"white\" stroke-width=\"1\" /><text x=\"258.525390625\" y=\"25.0\" dominant-baseline=\"middle\" text-anchor=\"middle\" font-size=\"14px\">Rx(th_4)</text><rect x=\"311.8401171875\" y=\"55.0\" width=\"65.6929296875\" height=\"40\" stroke=\"black\" fill=\"white\" stroke-width=\"1\" /><text x=\"344.68658203125005\" y=\"75.0\" dominant-baseline=\"middle\" text-anchor=\"middle\" font-size=\"14px\">Rz(th_2)</text><rect x=\"311.8401171875\" y=\"5.0\" width=\"65.6929296875\" height=\"40\" stroke=\"black\" fill=\"white\" stroke-width=\"1\" /><text x=\"344.68658203125005\" y=\"25.0\" dominant-baseline=\"middle\" text-anchor=\"middle\" font-size=\"14px\">Rz(th_5)</text><circle cx=\"417.533046875\" cy=\"75.0\" r=\"10.0\" /><rect x=\"397.533046875\" y=\"5.0\" width=\"40\" height=\"40\" stroke=\"black\" fill=\"white\" stroke-width=\"1\" /><text x=\"417.533046875\" y=\"25.0\" dominant-baseline=\"middle\" text-anchor=\"middle\" font-size=\"18px\">X</text><rect x=\"457.53304687499997\" y=\"55.0\" width=\"65.6929296875\" height=\"40\" stroke=\"black\" fill=\"white\" stroke-width=\"1\" /><text x=\"490.37951171875\" y=\"75.0\" dominant-baseline=\"middle\" text-anchor=\"middle\" font-size=\"14px\">Rz(th_6)</text><rect x=\"457.53304687499997\" y=\"5.0\" width=\"65.6929296875\" height=\"40\" stroke=\"black\" fill=\"white\" stroke-width=\"1\" /><text x=\"490.37951171875\" y=\"25.0\" dominant-baseline=\"middle\" text-anchor=\"middle\" font-size=\"14px\">Rz(th_9)</text><rect x=\"543.2259765625\" y=\"55.0\" width=\"75.53667968750001\" height=\"40\" stroke=\"black\" fill=\"white\" stroke-width=\"1\" /><text x=\"580.99431640625\" y=\"75.0\" dominant-baseline=\"middle\" text-anchor=\"middle\" font-size=\"14px\">Rx(th_7)</text><rect x=\"543.2259765625\" y=\"5.0\" width=\"75.53667968750001\" height=\"40\" stroke=\"black\" fill=\"white\" stroke-width=\"1\" /><text x=\"580.99431640625\" y=\"25.0\" dominant-baseline=\"middle\" text-anchor=\"middle\" font-size=\"14px\">Rx(th_10)</text><rect x=\"638.7626562500001\" y=\"55.0\" width=\"74.60015625000001\" height=\"40\" stroke=\"black\" fill=\"white\" stroke-width=\"1\" /><text x=\"676.0627343750001\" y=\"75.0\" dominant-baseline=\"middle\" text-anchor=\"middle\" font-size=\"14px\">Rz(th_8)</text><rect x=\"638.7626562500001\" y=\"5.0\" width=\"74.60015625000001\" height=\"40\" stroke=\"black\" fill=\"white\" stroke-width=\"1\" /><text x=\"676.0627343750001\" y=\"25.0\" dominant-baseline=\"middle\" text-anchor=\"middle\" font-size=\"14px\">Rz(th_11)</text></svg>"
      ],
      "text/plain": [
       "<cirq.contrib.svg.svg.SVGCircuit at 0x7fe638566278>"
      ]
     },
     "metadata": {},
     "output_type": "display_data"
    },
    {
     "name": "stdout",
     "output_type": "stream",
     "text": [
      "accepted\n",
      "3: \n"
     ]
    },
    {
     "data": {
      "image/svg+xml": [
       "<svg xmlns=\"http://www.w3.org/2000/svg\" width=\"763.3628125000001\" height=\"100.0\"><line x1=\"34.7588671875\" x2=\"733.3628125000001\" y1=\"25.0\" y2=\"25.0\" stroke=\"#1967d2\" stroke-width=\"1\" /><line x1=\"34.7588671875\" x2=\"733.3628125000001\" y1=\"75.0\" y2=\"75.0\" stroke=\"#1967d2\" stroke-width=\"1\" /><line x1=\"99.517734375\" x2=\"99.517734375\" y1=\"25.0\" y2=\"75.0\" stroke=\"black\" stroke-width=\"3\" /><line x1=\"417.533046875\" x2=\"417.533046875\" y1=\"25.0\" y2=\"75.0\" stroke=\"black\" stroke-width=\"3\" /><rect x=\"10.0\" y=\"5.0\" width=\"49.517734375\" height=\"40\" stroke=\"black\" fill=\"white\" stroke-width=\"0\" /><text x=\"34.7588671875\" y=\"25.0\" dominant-baseline=\"middle\" text-anchor=\"middle\" font-size=\"14px\">(0, 0): </text><rect x=\"10.0\" y=\"55.0\" width=\"49.517734375\" height=\"40\" stroke=\"black\" fill=\"white\" stroke-width=\"0\" /><text x=\"34.7588671875\" y=\"75.0\" dominant-baseline=\"middle\" text-anchor=\"middle\" font-size=\"14px\">(0, 1): </text><circle cx=\"99.517734375\" cy=\"75.0\" r=\"10.0\" /><rect x=\"79.517734375\" y=\"5.0\" width=\"40\" height=\"40\" stroke=\"black\" fill=\"white\" stroke-width=\"1\" /><text x=\"99.517734375\" y=\"25.0\" dominant-baseline=\"middle\" text-anchor=\"middle\" font-size=\"18px\">X</text><rect x=\"139.517734375\" y=\"55.0\" width=\"65.6929296875\" height=\"40\" stroke=\"black\" fill=\"white\" stroke-width=\"1\" /><text x=\"172.36419921875\" y=\"75.0\" dominant-baseline=\"middle\" text-anchor=\"middle\" font-size=\"14px\">Rz(th_0)</text><rect x=\"139.517734375\" y=\"5.0\" width=\"65.6929296875\" height=\"40\" stroke=\"black\" fill=\"white\" stroke-width=\"1\" /><text x=\"172.36419921875\" y=\"25.0\" dominant-baseline=\"middle\" text-anchor=\"middle\" font-size=\"14px\">Rz(th_3)</text><rect x=\"225.2106640625\" y=\"55.0\" width=\"66.629453125\" height=\"40\" stroke=\"black\" fill=\"white\" stroke-width=\"1\" /><text x=\"258.525390625\" y=\"75.0\" dominant-baseline=\"middle\" text-anchor=\"middle\" font-size=\"14px\">Rx(th_1)</text><rect x=\"225.2106640625\" y=\"5.0\" width=\"66.629453125\" height=\"40\" stroke=\"black\" fill=\"white\" stroke-width=\"1\" /><text x=\"258.525390625\" y=\"25.0\" dominant-baseline=\"middle\" text-anchor=\"middle\" font-size=\"14px\">Rx(th_4)</text><rect x=\"311.8401171875\" y=\"55.0\" width=\"65.6929296875\" height=\"40\" stroke=\"black\" fill=\"white\" stroke-width=\"1\" /><text x=\"344.68658203125005\" y=\"75.0\" dominant-baseline=\"middle\" text-anchor=\"middle\" font-size=\"14px\">Rz(th_2)</text><rect x=\"311.8401171875\" y=\"5.0\" width=\"65.6929296875\" height=\"40\" stroke=\"black\" fill=\"white\" stroke-width=\"1\" /><text x=\"344.68658203125005\" y=\"25.0\" dominant-baseline=\"middle\" text-anchor=\"middle\" font-size=\"14px\">Rz(th_5)</text><circle cx=\"417.533046875\" cy=\"75.0\" r=\"10.0\" /><rect x=\"397.533046875\" y=\"5.0\" width=\"40\" height=\"40\" stroke=\"black\" fill=\"white\" stroke-width=\"1\" /><text x=\"417.533046875\" y=\"25.0\" dominant-baseline=\"middle\" text-anchor=\"middle\" font-size=\"18px\">X</text><rect x=\"457.53304687499997\" y=\"55.0\" width=\"65.6929296875\" height=\"40\" stroke=\"black\" fill=\"white\" stroke-width=\"1\" /><text x=\"490.37951171875\" y=\"75.0\" dominant-baseline=\"middle\" text-anchor=\"middle\" font-size=\"14px\">Rz(th_6)</text><rect x=\"457.53304687499997\" y=\"5.0\" width=\"65.6929296875\" height=\"40\" stroke=\"black\" fill=\"white\" stroke-width=\"1\" /><text x=\"490.37951171875\" y=\"25.0\" dominant-baseline=\"middle\" text-anchor=\"middle\" font-size=\"14px\">Rz(th_9)</text><rect x=\"543.2259765625\" y=\"55.0\" width=\"75.53667968750001\" height=\"40\" stroke=\"black\" fill=\"white\" stroke-width=\"1\" /><text x=\"580.99431640625\" y=\"75.0\" dominant-baseline=\"middle\" text-anchor=\"middle\" font-size=\"14px\">Rx(th_7)</text><rect x=\"543.2259765625\" y=\"5.0\" width=\"75.53667968750001\" height=\"40\" stroke=\"black\" fill=\"white\" stroke-width=\"1\" /><text x=\"580.99431640625\" y=\"25.0\" dominant-baseline=\"middle\" text-anchor=\"middle\" font-size=\"14px\">Rx(th_10)</text><rect x=\"638.7626562500001\" y=\"55.0\" width=\"74.60015625000001\" height=\"40\" stroke=\"black\" fill=\"white\" stroke-width=\"1\" /><text x=\"676.0627343750001\" y=\"75.0\" dominant-baseline=\"middle\" text-anchor=\"middle\" font-size=\"14px\">Rz(th_8)</text><rect x=\"638.7626562500001\" y=\"5.0\" width=\"74.60015625000001\" height=\"40\" stroke=\"black\" fill=\"white\" stroke-width=\"1\" /><text x=\"676.0627343750001\" y=\"25.0\" dominant-baseline=\"middle\" text-anchor=\"middle\" font-size=\"14px\">Rz(th_11)</text></svg>"
      ],
      "text/plain": [
       "<cirq.contrib.svg.svg.SVGCircuit at 0x7fe6383d7908>"
      ]
     },
     "metadata": {},
     "output_type": "display_data"
    },
    {
     "name": "stdout",
     "output_type": "stream",
     "text": [
      "3: \n"
     ]
    },
    {
     "data": {
      "image/svg+xml": [
       "<svg xmlns=\"http://www.w3.org/2000/svg\" width=\"763.3628125000001\" height=\"100.0\"><line x1=\"34.7588671875\" x2=\"733.3628125000001\" y1=\"25.0\" y2=\"25.0\" stroke=\"#1967d2\" stroke-width=\"1\" /><line x1=\"34.7588671875\" x2=\"733.3628125000001\" y1=\"75.0\" y2=\"75.0\" stroke=\"#1967d2\" stroke-width=\"1\" /><line x1=\"99.517734375\" x2=\"99.517734375\" y1=\"25.0\" y2=\"75.0\" stroke=\"black\" stroke-width=\"3\" /><line x1=\"417.533046875\" x2=\"417.533046875\" y1=\"25.0\" y2=\"75.0\" stroke=\"black\" stroke-width=\"3\" /><rect x=\"10.0\" y=\"5.0\" width=\"49.517734375\" height=\"40\" stroke=\"black\" fill=\"white\" stroke-width=\"0\" /><text x=\"34.7588671875\" y=\"25.0\" dominant-baseline=\"middle\" text-anchor=\"middle\" font-size=\"14px\">(0, 0): </text><rect x=\"10.0\" y=\"55.0\" width=\"49.517734375\" height=\"40\" stroke=\"black\" fill=\"white\" stroke-width=\"0\" /><text x=\"34.7588671875\" y=\"75.0\" dominant-baseline=\"middle\" text-anchor=\"middle\" font-size=\"14px\">(0, 1): </text><circle cx=\"99.517734375\" cy=\"75.0\" r=\"10.0\" /><rect x=\"79.517734375\" y=\"5.0\" width=\"40\" height=\"40\" stroke=\"black\" fill=\"white\" stroke-width=\"1\" /><text x=\"99.517734375\" y=\"25.0\" dominant-baseline=\"middle\" text-anchor=\"middle\" font-size=\"18px\">X</text><rect x=\"139.517734375\" y=\"55.0\" width=\"65.6929296875\" height=\"40\" stroke=\"black\" fill=\"white\" stroke-width=\"1\" /><text x=\"172.36419921875\" y=\"75.0\" dominant-baseline=\"middle\" text-anchor=\"middle\" font-size=\"14px\">Rz(th_0)</text><rect x=\"139.517734375\" y=\"5.0\" width=\"65.6929296875\" height=\"40\" stroke=\"black\" fill=\"white\" stroke-width=\"1\" /><text x=\"172.36419921875\" y=\"25.0\" dominant-baseline=\"middle\" text-anchor=\"middle\" font-size=\"14px\">Rz(th_3)</text><rect x=\"225.2106640625\" y=\"55.0\" width=\"66.629453125\" height=\"40\" stroke=\"black\" fill=\"white\" stroke-width=\"1\" /><text x=\"258.525390625\" y=\"75.0\" dominant-baseline=\"middle\" text-anchor=\"middle\" font-size=\"14px\">Rx(th_1)</text><rect x=\"225.2106640625\" y=\"5.0\" width=\"66.629453125\" height=\"40\" stroke=\"black\" fill=\"white\" stroke-width=\"1\" /><text x=\"258.525390625\" y=\"25.0\" dominant-baseline=\"middle\" text-anchor=\"middle\" font-size=\"14px\">Rx(th_4)</text><rect x=\"311.8401171875\" y=\"55.0\" width=\"65.6929296875\" height=\"40\" stroke=\"black\" fill=\"white\" stroke-width=\"1\" /><text x=\"344.68658203125005\" y=\"75.0\" dominant-baseline=\"middle\" text-anchor=\"middle\" font-size=\"14px\">Rz(th_2)</text><rect x=\"311.8401171875\" y=\"5.0\" width=\"65.6929296875\" height=\"40\" stroke=\"black\" fill=\"white\" stroke-width=\"1\" /><text x=\"344.68658203125005\" y=\"25.0\" dominant-baseline=\"middle\" text-anchor=\"middle\" font-size=\"14px\">Rz(th_5)</text><circle cx=\"417.533046875\" cy=\"75.0\" r=\"10.0\" /><rect x=\"397.533046875\" y=\"5.0\" width=\"40\" height=\"40\" stroke=\"black\" fill=\"white\" stroke-width=\"1\" /><text x=\"417.533046875\" y=\"25.0\" dominant-baseline=\"middle\" text-anchor=\"middle\" font-size=\"18px\">X</text><rect x=\"457.53304687499997\" y=\"55.0\" width=\"65.6929296875\" height=\"40\" stroke=\"black\" fill=\"white\" stroke-width=\"1\" /><text x=\"490.37951171875\" y=\"75.0\" dominant-baseline=\"middle\" text-anchor=\"middle\" font-size=\"14px\">Rz(th_6)</text><rect x=\"457.53304687499997\" y=\"5.0\" width=\"65.6929296875\" height=\"40\" stroke=\"black\" fill=\"white\" stroke-width=\"1\" /><text x=\"490.37951171875\" y=\"25.0\" dominant-baseline=\"middle\" text-anchor=\"middle\" font-size=\"14px\">Rz(th_9)</text><rect x=\"543.2259765625\" y=\"55.0\" width=\"75.53667968750001\" height=\"40\" stroke=\"black\" fill=\"white\" stroke-width=\"1\" /><text x=\"580.99431640625\" y=\"75.0\" dominant-baseline=\"middle\" text-anchor=\"middle\" font-size=\"14px\">Rx(th_7)</text><rect x=\"543.2259765625\" y=\"5.0\" width=\"75.53667968750001\" height=\"40\" stroke=\"black\" fill=\"white\" stroke-width=\"1\" /><text x=\"580.99431640625\" y=\"25.0\" dominant-baseline=\"middle\" text-anchor=\"middle\" font-size=\"14px\">Rx(th_10)</text><rect x=\"638.7626562500001\" y=\"55.0\" width=\"74.60015625000001\" height=\"40\" stroke=\"black\" fill=\"white\" stroke-width=\"1\" /><text x=\"676.0627343750001\" y=\"75.0\" dominant-baseline=\"middle\" text-anchor=\"middle\" font-size=\"14px\">Rz(th_8)</text><rect x=\"638.7626562500001\" y=\"5.0\" width=\"74.60015625000001\" height=\"40\" stroke=\"black\" fill=\"white\" stroke-width=\"1\" /><text x=\"676.0627343750001\" y=\"25.0\" dominant-baseline=\"middle\" text-anchor=\"middle\" font-size=\"14px\">Rz(th_11)</text></svg>"
      ],
      "text/plain": [
       "<cirq.contrib.svg.svg.SVGCircuit at 0x7fe6785720f0>"
      ]
     },
     "metadata": {},
     "output_type": "display_data"
    },
    {
     "name": "stdout",
     "output_type": "stream",
     "text": [
      "3: \n"
     ]
    },
    {
     "data": {
      "image/svg+xml": [
       "<svg xmlns=\"http://www.w3.org/2000/svg\" width=\"763.3628125000001\" height=\"100.0\"><line x1=\"34.7588671875\" x2=\"733.3628125000001\" y1=\"25.0\" y2=\"25.0\" stroke=\"#1967d2\" stroke-width=\"1\" /><line x1=\"34.7588671875\" x2=\"733.3628125000001\" y1=\"75.0\" y2=\"75.0\" stroke=\"#1967d2\" stroke-width=\"1\" /><line x1=\"99.517734375\" x2=\"99.517734375\" y1=\"25.0\" y2=\"75.0\" stroke=\"black\" stroke-width=\"3\" /><line x1=\"417.533046875\" x2=\"417.533046875\" y1=\"25.0\" y2=\"75.0\" stroke=\"black\" stroke-width=\"3\" /><rect x=\"10.0\" y=\"5.0\" width=\"49.517734375\" height=\"40\" stroke=\"black\" fill=\"white\" stroke-width=\"0\" /><text x=\"34.7588671875\" y=\"25.0\" dominant-baseline=\"middle\" text-anchor=\"middle\" font-size=\"14px\">(0, 0): </text><rect x=\"10.0\" y=\"55.0\" width=\"49.517734375\" height=\"40\" stroke=\"black\" fill=\"white\" stroke-width=\"0\" /><text x=\"34.7588671875\" y=\"75.0\" dominant-baseline=\"middle\" text-anchor=\"middle\" font-size=\"14px\">(0, 1): </text><circle cx=\"99.517734375\" cy=\"75.0\" r=\"10.0\" /><rect x=\"79.517734375\" y=\"5.0\" width=\"40\" height=\"40\" stroke=\"black\" fill=\"white\" stroke-width=\"1\" /><text x=\"99.517734375\" y=\"25.0\" dominant-baseline=\"middle\" text-anchor=\"middle\" font-size=\"18px\">X</text><rect x=\"139.517734375\" y=\"55.0\" width=\"65.6929296875\" height=\"40\" stroke=\"black\" fill=\"white\" stroke-width=\"1\" /><text x=\"172.36419921875\" y=\"75.0\" dominant-baseline=\"middle\" text-anchor=\"middle\" font-size=\"14px\">Rz(th_0)</text><rect x=\"139.517734375\" y=\"5.0\" width=\"65.6929296875\" height=\"40\" stroke=\"black\" fill=\"white\" stroke-width=\"1\" /><text x=\"172.36419921875\" y=\"25.0\" dominant-baseline=\"middle\" text-anchor=\"middle\" font-size=\"14px\">Rz(th_3)</text><rect x=\"225.2106640625\" y=\"55.0\" width=\"66.629453125\" height=\"40\" stroke=\"black\" fill=\"white\" stroke-width=\"1\" /><text x=\"258.525390625\" y=\"75.0\" dominant-baseline=\"middle\" text-anchor=\"middle\" font-size=\"14px\">Rx(th_1)</text><rect x=\"225.2106640625\" y=\"5.0\" width=\"66.629453125\" height=\"40\" stroke=\"black\" fill=\"white\" stroke-width=\"1\" /><text x=\"258.525390625\" y=\"25.0\" dominant-baseline=\"middle\" text-anchor=\"middle\" font-size=\"14px\">Rx(th_4)</text><rect x=\"311.8401171875\" y=\"55.0\" width=\"65.6929296875\" height=\"40\" stroke=\"black\" fill=\"white\" stroke-width=\"1\" /><text x=\"344.68658203125005\" y=\"75.0\" dominant-baseline=\"middle\" text-anchor=\"middle\" font-size=\"14px\">Rz(th_2)</text><rect x=\"311.8401171875\" y=\"5.0\" width=\"65.6929296875\" height=\"40\" stroke=\"black\" fill=\"white\" stroke-width=\"1\" /><text x=\"344.68658203125005\" y=\"25.0\" dominant-baseline=\"middle\" text-anchor=\"middle\" font-size=\"14px\">Rz(th_5)</text><circle cx=\"417.533046875\" cy=\"75.0\" r=\"10.0\" /><rect x=\"397.533046875\" y=\"5.0\" width=\"40\" height=\"40\" stroke=\"black\" fill=\"white\" stroke-width=\"1\" /><text x=\"417.533046875\" y=\"25.0\" dominant-baseline=\"middle\" text-anchor=\"middle\" font-size=\"18px\">X</text><rect x=\"457.53304687499997\" y=\"55.0\" width=\"65.6929296875\" height=\"40\" stroke=\"black\" fill=\"white\" stroke-width=\"1\" /><text x=\"490.37951171875\" y=\"75.0\" dominant-baseline=\"middle\" text-anchor=\"middle\" font-size=\"14px\">Rz(th_6)</text><rect x=\"457.53304687499997\" y=\"5.0\" width=\"65.6929296875\" height=\"40\" stroke=\"black\" fill=\"white\" stroke-width=\"1\" /><text x=\"490.37951171875\" y=\"25.0\" dominant-baseline=\"middle\" text-anchor=\"middle\" font-size=\"14px\">Rz(th_9)</text><rect x=\"543.2259765625\" y=\"55.0\" width=\"75.53667968750001\" height=\"40\" stroke=\"black\" fill=\"white\" stroke-width=\"1\" /><text x=\"580.99431640625\" y=\"75.0\" dominant-baseline=\"middle\" text-anchor=\"middle\" font-size=\"14px\">Rx(th_7)</text><rect x=\"543.2259765625\" y=\"5.0\" width=\"75.53667968750001\" height=\"40\" stroke=\"black\" fill=\"white\" stroke-width=\"1\" /><text x=\"580.99431640625\" y=\"25.0\" dominant-baseline=\"middle\" text-anchor=\"middle\" font-size=\"14px\">Rx(th_10)</text><rect x=\"638.7626562500001\" y=\"55.0\" width=\"74.60015625000001\" height=\"40\" stroke=\"black\" fill=\"white\" stroke-width=\"1\" /><text x=\"676.0627343750001\" y=\"75.0\" dominant-baseline=\"middle\" text-anchor=\"middle\" font-size=\"14px\">Rz(th_8)</text><rect x=\"638.7626562500001\" y=\"5.0\" width=\"74.60015625000001\" height=\"40\" stroke=\"black\" fill=\"white\" stroke-width=\"1\" /><text x=\"676.0627343750001\" y=\"25.0\" dominant-baseline=\"middle\" text-anchor=\"middle\" font-size=\"14px\">Rz(th_11)</text></svg>"
      ],
      "text/plain": [
       "<cirq.contrib.svg.svg.SVGCircuit at 0x7fe7203d2208>"
      ]
     },
     "metadata": {},
     "output_type": "display_data"
    },
    {
     "name": "stdout",
     "output_type": "stream",
     "text": [
      "3: \n"
     ]
    },
    {
     "data": {
      "image/svg+xml": [
       "<svg xmlns=\"http://www.w3.org/2000/svg\" width=\"763.3628125000001\" height=\"100.0\"><line x1=\"34.7588671875\" x2=\"733.3628125000001\" y1=\"25.0\" y2=\"25.0\" stroke=\"#1967d2\" stroke-width=\"1\" /><line x1=\"34.7588671875\" x2=\"733.3628125000001\" y1=\"75.0\" y2=\"75.0\" stroke=\"#1967d2\" stroke-width=\"1\" /><line x1=\"99.517734375\" x2=\"99.517734375\" y1=\"25.0\" y2=\"75.0\" stroke=\"black\" stroke-width=\"3\" /><line x1=\"417.533046875\" x2=\"417.533046875\" y1=\"25.0\" y2=\"75.0\" stroke=\"black\" stroke-width=\"3\" /><rect x=\"10.0\" y=\"5.0\" width=\"49.517734375\" height=\"40\" stroke=\"black\" fill=\"white\" stroke-width=\"0\" /><text x=\"34.7588671875\" y=\"25.0\" dominant-baseline=\"middle\" text-anchor=\"middle\" font-size=\"14px\">(0, 0): </text><rect x=\"10.0\" y=\"55.0\" width=\"49.517734375\" height=\"40\" stroke=\"black\" fill=\"white\" stroke-width=\"0\" /><text x=\"34.7588671875\" y=\"75.0\" dominant-baseline=\"middle\" text-anchor=\"middle\" font-size=\"14px\">(0, 1): </text><circle cx=\"99.517734375\" cy=\"75.0\" r=\"10.0\" /><rect x=\"79.517734375\" y=\"5.0\" width=\"40\" height=\"40\" stroke=\"black\" fill=\"white\" stroke-width=\"1\" /><text x=\"99.517734375\" y=\"25.0\" dominant-baseline=\"middle\" text-anchor=\"middle\" font-size=\"18px\">X</text><rect x=\"139.517734375\" y=\"55.0\" width=\"65.6929296875\" height=\"40\" stroke=\"black\" fill=\"white\" stroke-width=\"1\" /><text x=\"172.36419921875\" y=\"75.0\" dominant-baseline=\"middle\" text-anchor=\"middle\" font-size=\"14px\">Rz(th_0)</text><rect x=\"139.517734375\" y=\"5.0\" width=\"65.6929296875\" height=\"40\" stroke=\"black\" fill=\"white\" stroke-width=\"1\" /><text x=\"172.36419921875\" y=\"25.0\" dominant-baseline=\"middle\" text-anchor=\"middle\" font-size=\"14px\">Rz(th_3)</text><rect x=\"225.2106640625\" y=\"55.0\" width=\"66.629453125\" height=\"40\" stroke=\"black\" fill=\"white\" stroke-width=\"1\" /><text x=\"258.525390625\" y=\"75.0\" dominant-baseline=\"middle\" text-anchor=\"middle\" font-size=\"14px\">Rx(th_1)</text><rect x=\"225.2106640625\" y=\"5.0\" width=\"66.629453125\" height=\"40\" stroke=\"black\" fill=\"white\" stroke-width=\"1\" /><text x=\"258.525390625\" y=\"25.0\" dominant-baseline=\"middle\" text-anchor=\"middle\" font-size=\"14px\">Rx(th_4)</text><rect x=\"311.8401171875\" y=\"55.0\" width=\"65.6929296875\" height=\"40\" stroke=\"black\" fill=\"white\" stroke-width=\"1\" /><text x=\"344.68658203125005\" y=\"75.0\" dominant-baseline=\"middle\" text-anchor=\"middle\" font-size=\"14px\">Rz(th_2)</text><rect x=\"311.8401171875\" y=\"5.0\" width=\"65.6929296875\" height=\"40\" stroke=\"black\" fill=\"white\" stroke-width=\"1\" /><text x=\"344.68658203125005\" y=\"25.0\" dominant-baseline=\"middle\" text-anchor=\"middle\" font-size=\"14px\">Rz(th_5)</text><circle cx=\"417.533046875\" cy=\"75.0\" r=\"10.0\" /><rect x=\"397.533046875\" y=\"5.0\" width=\"40\" height=\"40\" stroke=\"black\" fill=\"white\" stroke-width=\"1\" /><text x=\"417.533046875\" y=\"25.0\" dominant-baseline=\"middle\" text-anchor=\"middle\" font-size=\"18px\">X</text><rect x=\"457.53304687499997\" y=\"55.0\" width=\"65.6929296875\" height=\"40\" stroke=\"black\" fill=\"white\" stroke-width=\"1\" /><text x=\"490.37951171875\" y=\"75.0\" dominant-baseline=\"middle\" text-anchor=\"middle\" font-size=\"14px\">Rz(th_6)</text><rect x=\"457.53304687499997\" y=\"5.0\" width=\"65.6929296875\" height=\"40\" stroke=\"black\" fill=\"white\" stroke-width=\"1\" /><text x=\"490.37951171875\" y=\"25.0\" dominant-baseline=\"middle\" text-anchor=\"middle\" font-size=\"14px\">Rz(th_9)</text><rect x=\"543.2259765625\" y=\"55.0\" width=\"75.53667968750001\" height=\"40\" stroke=\"black\" fill=\"white\" stroke-width=\"1\" /><text x=\"580.99431640625\" y=\"75.0\" dominant-baseline=\"middle\" text-anchor=\"middle\" font-size=\"14px\">Rx(th_7)</text><rect x=\"543.2259765625\" y=\"5.0\" width=\"75.53667968750001\" height=\"40\" stroke=\"black\" fill=\"white\" stroke-width=\"1\" /><text x=\"580.99431640625\" y=\"25.0\" dominant-baseline=\"middle\" text-anchor=\"middle\" font-size=\"14px\">Rx(th_10)</text><rect x=\"638.7626562500001\" y=\"55.0\" width=\"74.60015625000001\" height=\"40\" stroke=\"black\" fill=\"white\" stroke-width=\"1\" /><text x=\"676.0627343750001\" y=\"75.0\" dominant-baseline=\"middle\" text-anchor=\"middle\" font-size=\"14px\">Rz(th_8)</text><rect x=\"638.7626562500001\" y=\"5.0\" width=\"74.60015625000001\" height=\"40\" stroke=\"black\" fill=\"white\" stroke-width=\"1\" /><text x=\"676.0627343750001\" y=\"25.0\" dominant-baseline=\"middle\" text-anchor=\"middle\" font-size=\"14px\">Rz(th_11)</text></svg>"
      ],
      "text/plain": [
       "<cirq.contrib.svg.svg.SVGCircuit at 0x7fe66454e7f0>"
      ]
     },
     "metadata": {},
     "output_type": "display_data"
    },
    {
     "name": "stdout",
     "output_type": "stream",
     "text": [
      "3: \n"
     ]
    },
    {
     "data": {
      "image/svg+xml": [
       "<svg xmlns=\"http://www.w3.org/2000/svg\" width=\"763.3628125000001\" height=\"100.0\"><line x1=\"34.7588671875\" x2=\"733.3628125000001\" y1=\"25.0\" y2=\"25.0\" stroke=\"#1967d2\" stroke-width=\"1\" /><line x1=\"34.7588671875\" x2=\"733.3628125000001\" y1=\"75.0\" y2=\"75.0\" stroke=\"#1967d2\" stroke-width=\"1\" /><line x1=\"99.517734375\" x2=\"99.517734375\" y1=\"25.0\" y2=\"75.0\" stroke=\"black\" stroke-width=\"3\" /><line x1=\"417.533046875\" x2=\"417.533046875\" y1=\"25.0\" y2=\"75.0\" stroke=\"black\" stroke-width=\"3\" /><rect x=\"10.0\" y=\"5.0\" width=\"49.517734375\" height=\"40\" stroke=\"black\" fill=\"white\" stroke-width=\"0\" /><text x=\"34.7588671875\" y=\"25.0\" dominant-baseline=\"middle\" text-anchor=\"middle\" font-size=\"14px\">(0, 0): </text><rect x=\"10.0\" y=\"55.0\" width=\"49.517734375\" height=\"40\" stroke=\"black\" fill=\"white\" stroke-width=\"0\" /><text x=\"34.7588671875\" y=\"75.0\" dominant-baseline=\"middle\" text-anchor=\"middle\" font-size=\"14px\">(0, 1): </text><circle cx=\"99.517734375\" cy=\"75.0\" r=\"10.0\" /><rect x=\"79.517734375\" y=\"5.0\" width=\"40\" height=\"40\" stroke=\"black\" fill=\"white\" stroke-width=\"1\" /><text x=\"99.517734375\" y=\"25.0\" dominant-baseline=\"middle\" text-anchor=\"middle\" font-size=\"18px\">X</text><rect x=\"139.517734375\" y=\"55.0\" width=\"65.6929296875\" height=\"40\" stroke=\"black\" fill=\"white\" stroke-width=\"1\" /><text x=\"172.36419921875\" y=\"75.0\" dominant-baseline=\"middle\" text-anchor=\"middle\" font-size=\"14px\">Rz(th_0)</text><rect x=\"139.517734375\" y=\"5.0\" width=\"65.6929296875\" height=\"40\" stroke=\"black\" fill=\"white\" stroke-width=\"1\" /><text x=\"172.36419921875\" y=\"25.0\" dominant-baseline=\"middle\" text-anchor=\"middle\" font-size=\"14px\">Rz(th_3)</text><rect x=\"225.2106640625\" y=\"55.0\" width=\"66.629453125\" height=\"40\" stroke=\"black\" fill=\"white\" stroke-width=\"1\" /><text x=\"258.525390625\" y=\"75.0\" dominant-baseline=\"middle\" text-anchor=\"middle\" font-size=\"14px\">Rx(th_1)</text><rect x=\"225.2106640625\" y=\"5.0\" width=\"66.629453125\" height=\"40\" stroke=\"black\" fill=\"white\" stroke-width=\"1\" /><text x=\"258.525390625\" y=\"25.0\" dominant-baseline=\"middle\" text-anchor=\"middle\" font-size=\"14px\">Rx(th_4)</text><rect x=\"311.8401171875\" y=\"55.0\" width=\"65.6929296875\" height=\"40\" stroke=\"black\" fill=\"white\" stroke-width=\"1\" /><text x=\"344.68658203125005\" y=\"75.0\" dominant-baseline=\"middle\" text-anchor=\"middle\" font-size=\"14px\">Rz(th_2)</text><rect x=\"311.8401171875\" y=\"5.0\" width=\"65.6929296875\" height=\"40\" stroke=\"black\" fill=\"white\" stroke-width=\"1\" /><text x=\"344.68658203125005\" y=\"25.0\" dominant-baseline=\"middle\" text-anchor=\"middle\" font-size=\"14px\">Rz(th_5)</text><circle cx=\"417.533046875\" cy=\"75.0\" r=\"10.0\" /><rect x=\"397.533046875\" y=\"5.0\" width=\"40\" height=\"40\" stroke=\"black\" fill=\"white\" stroke-width=\"1\" /><text x=\"417.533046875\" y=\"25.0\" dominant-baseline=\"middle\" text-anchor=\"middle\" font-size=\"18px\">X</text><rect x=\"457.53304687499997\" y=\"55.0\" width=\"65.6929296875\" height=\"40\" stroke=\"black\" fill=\"white\" stroke-width=\"1\" /><text x=\"490.37951171875\" y=\"75.0\" dominant-baseline=\"middle\" text-anchor=\"middle\" font-size=\"14px\">Rz(th_6)</text><rect x=\"457.53304687499997\" y=\"5.0\" width=\"65.6929296875\" height=\"40\" stroke=\"black\" fill=\"white\" stroke-width=\"1\" /><text x=\"490.37951171875\" y=\"25.0\" dominant-baseline=\"middle\" text-anchor=\"middle\" font-size=\"14px\">Rz(th_9)</text><rect x=\"543.2259765625\" y=\"55.0\" width=\"75.53667968750001\" height=\"40\" stroke=\"black\" fill=\"white\" stroke-width=\"1\" /><text x=\"580.99431640625\" y=\"75.0\" dominant-baseline=\"middle\" text-anchor=\"middle\" font-size=\"14px\">Rx(th_7)</text><rect x=\"543.2259765625\" y=\"5.0\" width=\"75.53667968750001\" height=\"40\" stroke=\"black\" fill=\"white\" stroke-width=\"1\" /><text x=\"580.99431640625\" y=\"25.0\" dominant-baseline=\"middle\" text-anchor=\"middle\" font-size=\"14px\">Rx(th_10)</text><rect x=\"638.7626562500001\" y=\"55.0\" width=\"74.60015625000001\" height=\"40\" stroke=\"black\" fill=\"white\" stroke-width=\"1\" /><text x=\"676.0627343750001\" y=\"75.0\" dominant-baseline=\"middle\" text-anchor=\"middle\" font-size=\"14px\">Rz(th_8)</text><rect x=\"638.7626562500001\" y=\"5.0\" width=\"74.60015625000001\" height=\"40\" stroke=\"black\" fill=\"white\" stroke-width=\"1\" /><text x=\"676.0627343750001\" y=\"25.0\" dominant-baseline=\"middle\" text-anchor=\"middle\" font-size=\"14px\">Rz(th_11)</text></svg>"
      ],
      "text/plain": [
       "<cirq.contrib.svg.svg.SVGCircuit at 0x7fe66478aa90>"
      ]
     },
     "metadata": {},
     "output_type": "display_data"
    },
    {
     "name": "stdout",
     "output_type": "stream",
     "text": [
      "3: \n"
     ]
    },
    {
     "data": {
      "image/svg+xml": [
       "<svg xmlns=\"http://www.w3.org/2000/svg\" width=\"763.3628125000001\" height=\"100.0\"><line x1=\"34.7588671875\" x2=\"733.3628125000001\" y1=\"25.0\" y2=\"25.0\" stroke=\"#1967d2\" stroke-width=\"1\" /><line x1=\"34.7588671875\" x2=\"733.3628125000001\" y1=\"75.0\" y2=\"75.0\" stroke=\"#1967d2\" stroke-width=\"1\" /><line x1=\"99.517734375\" x2=\"99.517734375\" y1=\"25.0\" y2=\"75.0\" stroke=\"black\" stroke-width=\"3\" /><line x1=\"417.533046875\" x2=\"417.533046875\" y1=\"25.0\" y2=\"75.0\" stroke=\"black\" stroke-width=\"3\" /><rect x=\"10.0\" y=\"5.0\" width=\"49.517734375\" height=\"40\" stroke=\"black\" fill=\"white\" stroke-width=\"0\" /><text x=\"34.7588671875\" y=\"25.0\" dominant-baseline=\"middle\" text-anchor=\"middle\" font-size=\"14px\">(0, 0): </text><rect x=\"10.0\" y=\"55.0\" width=\"49.517734375\" height=\"40\" stroke=\"black\" fill=\"white\" stroke-width=\"0\" /><text x=\"34.7588671875\" y=\"75.0\" dominant-baseline=\"middle\" text-anchor=\"middle\" font-size=\"14px\">(0, 1): </text><circle cx=\"99.517734375\" cy=\"75.0\" r=\"10.0\" /><rect x=\"79.517734375\" y=\"5.0\" width=\"40\" height=\"40\" stroke=\"black\" fill=\"white\" stroke-width=\"1\" /><text x=\"99.517734375\" y=\"25.0\" dominant-baseline=\"middle\" text-anchor=\"middle\" font-size=\"18px\">X</text><rect x=\"139.517734375\" y=\"55.0\" width=\"65.6929296875\" height=\"40\" stroke=\"black\" fill=\"white\" stroke-width=\"1\" /><text x=\"172.36419921875\" y=\"75.0\" dominant-baseline=\"middle\" text-anchor=\"middle\" font-size=\"14px\">Rz(th_0)</text><rect x=\"139.517734375\" y=\"5.0\" width=\"65.6929296875\" height=\"40\" stroke=\"black\" fill=\"white\" stroke-width=\"1\" /><text x=\"172.36419921875\" y=\"25.0\" dominant-baseline=\"middle\" text-anchor=\"middle\" font-size=\"14px\">Rz(th_3)</text><rect x=\"225.2106640625\" y=\"55.0\" width=\"66.629453125\" height=\"40\" stroke=\"black\" fill=\"white\" stroke-width=\"1\" /><text x=\"258.525390625\" y=\"75.0\" dominant-baseline=\"middle\" text-anchor=\"middle\" font-size=\"14px\">Rx(th_1)</text><rect x=\"225.2106640625\" y=\"5.0\" width=\"66.629453125\" height=\"40\" stroke=\"black\" fill=\"white\" stroke-width=\"1\" /><text x=\"258.525390625\" y=\"25.0\" dominant-baseline=\"middle\" text-anchor=\"middle\" font-size=\"14px\">Rx(th_4)</text><rect x=\"311.8401171875\" y=\"55.0\" width=\"65.6929296875\" height=\"40\" stroke=\"black\" fill=\"white\" stroke-width=\"1\" /><text x=\"344.68658203125005\" y=\"75.0\" dominant-baseline=\"middle\" text-anchor=\"middle\" font-size=\"14px\">Rz(th_2)</text><rect x=\"311.8401171875\" y=\"5.0\" width=\"65.6929296875\" height=\"40\" stroke=\"black\" fill=\"white\" stroke-width=\"1\" /><text x=\"344.68658203125005\" y=\"25.0\" dominant-baseline=\"middle\" text-anchor=\"middle\" font-size=\"14px\">Rz(th_5)</text><circle cx=\"417.533046875\" cy=\"75.0\" r=\"10.0\" /><rect x=\"397.533046875\" y=\"5.0\" width=\"40\" height=\"40\" stroke=\"black\" fill=\"white\" stroke-width=\"1\" /><text x=\"417.533046875\" y=\"25.0\" dominant-baseline=\"middle\" text-anchor=\"middle\" font-size=\"18px\">X</text><rect x=\"457.53304687499997\" y=\"55.0\" width=\"65.6929296875\" height=\"40\" stroke=\"black\" fill=\"white\" stroke-width=\"1\" /><text x=\"490.37951171875\" y=\"75.0\" dominant-baseline=\"middle\" text-anchor=\"middle\" font-size=\"14px\">Rz(th_6)</text><rect x=\"457.53304687499997\" y=\"5.0\" width=\"65.6929296875\" height=\"40\" stroke=\"black\" fill=\"white\" stroke-width=\"1\" /><text x=\"490.37951171875\" y=\"25.0\" dominant-baseline=\"middle\" text-anchor=\"middle\" font-size=\"14px\">Rz(th_9)</text><rect x=\"543.2259765625\" y=\"55.0\" width=\"75.53667968750001\" height=\"40\" stroke=\"black\" fill=\"white\" stroke-width=\"1\" /><text x=\"580.99431640625\" y=\"75.0\" dominant-baseline=\"middle\" text-anchor=\"middle\" font-size=\"14px\">Rx(th_7)</text><rect x=\"543.2259765625\" y=\"5.0\" width=\"75.53667968750001\" height=\"40\" stroke=\"black\" fill=\"white\" stroke-width=\"1\" /><text x=\"580.99431640625\" y=\"25.0\" dominant-baseline=\"middle\" text-anchor=\"middle\" font-size=\"14px\">Rx(th_10)</text><rect x=\"638.7626562500001\" y=\"55.0\" width=\"74.60015625000001\" height=\"40\" stroke=\"black\" fill=\"white\" stroke-width=\"1\" /><text x=\"676.0627343750001\" y=\"75.0\" dominant-baseline=\"middle\" text-anchor=\"middle\" font-size=\"14px\">Rz(th_8)</text><rect x=\"638.7626562500001\" y=\"5.0\" width=\"74.60015625000001\" height=\"40\" stroke=\"black\" fill=\"white\" stroke-width=\"1\" /><text x=\"676.0627343750001\" y=\"25.0\" dominant-baseline=\"middle\" text-anchor=\"middle\" font-size=\"14px\">Rz(th_11)</text></svg>"
      ],
      "text/plain": [
       "<cirq.contrib.svg.svg.SVGCircuit at 0x7fe664585710>"
      ]
     },
     "metadata": {},
     "output_type": "display_data"
    },
    {
     "name": "stdout",
     "output_type": "stream",
     "text": [
      "3: \n"
     ]
    },
    {
     "data": {
      "image/svg+xml": [
       "<svg xmlns=\"http://www.w3.org/2000/svg\" width=\"763.3628125000001\" height=\"100.0\"><line x1=\"34.7588671875\" x2=\"733.3628125000001\" y1=\"25.0\" y2=\"25.0\" stroke=\"#1967d2\" stroke-width=\"1\" /><line x1=\"34.7588671875\" x2=\"733.3628125000001\" y1=\"75.0\" y2=\"75.0\" stroke=\"#1967d2\" stroke-width=\"1\" /><line x1=\"99.517734375\" x2=\"99.517734375\" y1=\"25.0\" y2=\"75.0\" stroke=\"black\" stroke-width=\"3\" /><line x1=\"417.533046875\" x2=\"417.533046875\" y1=\"25.0\" y2=\"75.0\" stroke=\"black\" stroke-width=\"3\" /><rect x=\"10.0\" y=\"5.0\" width=\"49.517734375\" height=\"40\" stroke=\"black\" fill=\"white\" stroke-width=\"0\" /><text x=\"34.7588671875\" y=\"25.0\" dominant-baseline=\"middle\" text-anchor=\"middle\" font-size=\"14px\">(0, 0): </text><rect x=\"10.0\" y=\"55.0\" width=\"49.517734375\" height=\"40\" stroke=\"black\" fill=\"white\" stroke-width=\"0\" /><text x=\"34.7588671875\" y=\"75.0\" dominant-baseline=\"middle\" text-anchor=\"middle\" font-size=\"14px\">(0, 1): </text><circle cx=\"99.517734375\" cy=\"75.0\" r=\"10.0\" /><rect x=\"79.517734375\" y=\"5.0\" width=\"40\" height=\"40\" stroke=\"black\" fill=\"white\" stroke-width=\"1\" /><text x=\"99.517734375\" y=\"25.0\" dominant-baseline=\"middle\" text-anchor=\"middle\" font-size=\"18px\">X</text><rect x=\"139.517734375\" y=\"55.0\" width=\"65.6929296875\" height=\"40\" stroke=\"black\" fill=\"white\" stroke-width=\"1\" /><text x=\"172.36419921875\" y=\"75.0\" dominant-baseline=\"middle\" text-anchor=\"middle\" font-size=\"14px\">Rz(th_0)</text><rect x=\"139.517734375\" y=\"5.0\" width=\"65.6929296875\" height=\"40\" stroke=\"black\" fill=\"white\" stroke-width=\"1\" /><text x=\"172.36419921875\" y=\"25.0\" dominant-baseline=\"middle\" text-anchor=\"middle\" font-size=\"14px\">Rz(th_3)</text><rect x=\"225.2106640625\" y=\"55.0\" width=\"66.629453125\" height=\"40\" stroke=\"black\" fill=\"white\" stroke-width=\"1\" /><text x=\"258.525390625\" y=\"75.0\" dominant-baseline=\"middle\" text-anchor=\"middle\" font-size=\"14px\">Rx(th_1)</text><rect x=\"225.2106640625\" y=\"5.0\" width=\"66.629453125\" height=\"40\" stroke=\"black\" fill=\"white\" stroke-width=\"1\" /><text x=\"258.525390625\" y=\"25.0\" dominant-baseline=\"middle\" text-anchor=\"middle\" font-size=\"14px\">Rx(th_4)</text><rect x=\"311.8401171875\" y=\"55.0\" width=\"65.6929296875\" height=\"40\" stroke=\"black\" fill=\"white\" stroke-width=\"1\" /><text x=\"344.68658203125005\" y=\"75.0\" dominant-baseline=\"middle\" text-anchor=\"middle\" font-size=\"14px\">Rz(th_2)</text><rect x=\"311.8401171875\" y=\"5.0\" width=\"65.6929296875\" height=\"40\" stroke=\"black\" fill=\"white\" stroke-width=\"1\" /><text x=\"344.68658203125005\" y=\"25.0\" dominant-baseline=\"middle\" text-anchor=\"middle\" font-size=\"14px\">Rz(th_5)</text><circle cx=\"417.533046875\" cy=\"75.0\" r=\"10.0\" /><rect x=\"397.533046875\" y=\"5.0\" width=\"40\" height=\"40\" stroke=\"black\" fill=\"white\" stroke-width=\"1\" /><text x=\"417.533046875\" y=\"25.0\" dominant-baseline=\"middle\" text-anchor=\"middle\" font-size=\"18px\">X</text><rect x=\"457.53304687499997\" y=\"55.0\" width=\"65.6929296875\" height=\"40\" stroke=\"black\" fill=\"white\" stroke-width=\"1\" /><text x=\"490.37951171875\" y=\"75.0\" dominant-baseline=\"middle\" text-anchor=\"middle\" font-size=\"14px\">Rz(th_6)</text><rect x=\"457.53304687499997\" y=\"5.0\" width=\"65.6929296875\" height=\"40\" stroke=\"black\" fill=\"white\" stroke-width=\"1\" /><text x=\"490.37951171875\" y=\"25.0\" dominant-baseline=\"middle\" text-anchor=\"middle\" font-size=\"14px\">Rz(th_9)</text><rect x=\"543.2259765625\" y=\"55.0\" width=\"75.53667968750001\" height=\"40\" stroke=\"black\" fill=\"white\" stroke-width=\"1\" /><text x=\"580.99431640625\" y=\"75.0\" dominant-baseline=\"middle\" text-anchor=\"middle\" font-size=\"14px\">Rx(th_7)</text><rect x=\"543.2259765625\" y=\"5.0\" width=\"75.53667968750001\" height=\"40\" stroke=\"black\" fill=\"white\" stroke-width=\"1\" /><text x=\"580.99431640625\" y=\"25.0\" dominant-baseline=\"middle\" text-anchor=\"middle\" font-size=\"14px\">Rx(th_10)</text><rect x=\"638.7626562500001\" y=\"55.0\" width=\"74.60015625000001\" height=\"40\" stroke=\"black\" fill=\"white\" stroke-width=\"1\" /><text x=\"676.0627343750001\" y=\"75.0\" dominant-baseline=\"middle\" text-anchor=\"middle\" font-size=\"14px\">Rz(th_8)</text><rect x=\"638.7626562500001\" y=\"5.0\" width=\"74.60015625000001\" height=\"40\" stroke=\"black\" fill=\"white\" stroke-width=\"1\" /><text x=\"676.0627343750001\" y=\"25.0\" dominant-baseline=\"middle\" text-anchor=\"middle\" font-size=\"14px\">Rz(th_11)</text></svg>"
      ],
      "text/plain": [
       "<cirq.contrib.svg.svg.SVGCircuit at 0x7fe7203d2208>"
      ]
     },
     "metadata": {},
     "output_type": "display_data"
    },
    {
     "name": "stdout",
     "output_type": "stream",
     "text": [
      "3: \n"
     ]
    },
    {
     "data": {
      "image/svg+xml": [
       "<svg xmlns=\"http://www.w3.org/2000/svg\" width=\"763.3628125000001\" height=\"100.0\"><line x1=\"34.7588671875\" x2=\"733.3628125000001\" y1=\"25.0\" y2=\"25.0\" stroke=\"#1967d2\" stroke-width=\"1\" /><line x1=\"34.7588671875\" x2=\"733.3628125000001\" y1=\"75.0\" y2=\"75.0\" stroke=\"#1967d2\" stroke-width=\"1\" /><line x1=\"99.517734375\" x2=\"99.517734375\" y1=\"25.0\" y2=\"75.0\" stroke=\"black\" stroke-width=\"3\" /><line x1=\"417.533046875\" x2=\"417.533046875\" y1=\"25.0\" y2=\"75.0\" stroke=\"black\" stroke-width=\"3\" /><rect x=\"10.0\" y=\"5.0\" width=\"49.517734375\" height=\"40\" stroke=\"black\" fill=\"white\" stroke-width=\"0\" /><text x=\"34.7588671875\" y=\"25.0\" dominant-baseline=\"middle\" text-anchor=\"middle\" font-size=\"14px\">(0, 0): </text><rect x=\"10.0\" y=\"55.0\" width=\"49.517734375\" height=\"40\" stroke=\"black\" fill=\"white\" stroke-width=\"0\" /><text x=\"34.7588671875\" y=\"75.0\" dominant-baseline=\"middle\" text-anchor=\"middle\" font-size=\"14px\">(0, 1): </text><circle cx=\"99.517734375\" cy=\"75.0\" r=\"10.0\" /><rect x=\"79.517734375\" y=\"5.0\" width=\"40\" height=\"40\" stroke=\"black\" fill=\"white\" stroke-width=\"1\" /><text x=\"99.517734375\" y=\"25.0\" dominant-baseline=\"middle\" text-anchor=\"middle\" font-size=\"18px\">X</text><rect x=\"139.517734375\" y=\"55.0\" width=\"65.6929296875\" height=\"40\" stroke=\"black\" fill=\"white\" stroke-width=\"1\" /><text x=\"172.36419921875\" y=\"75.0\" dominant-baseline=\"middle\" text-anchor=\"middle\" font-size=\"14px\">Rz(th_0)</text><rect x=\"139.517734375\" y=\"5.0\" width=\"65.6929296875\" height=\"40\" stroke=\"black\" fill=\"white\" stroke-width=\"1\" /><text x=\"172.36419921875\" y=\"25.0\" dominant-baseline=\"middle\" text-anchor=\"middle\" font-size=\"14px\">Rz(th_3)</text><rect x=\"225.2106640625\" y=\"55.0\" width=\"66.629453125\" height=\"40\" stroke=\"black\" fill=\"white\" stroke-width=\"1\" /><text x=\"258.525390625\" y=\"75.0\" dominant-baseline=\"middle\" text-anchor=\"middle\" font-size=\"14px\">Rx(th_1)</text><rect x=\"225.2106640625\" y=\"5.0\" width=\"66.629453125\" height=\"40\" stroke=\"black\" fill=\"white\" stroke-width=\"1\" /><text x=\"258.525390625\" y=\"25.0\" dominant-baseline=\"middle\" text-anchor=\"middle\" font-size=\"14px\">Rx(th_4)</text><rect x=\"311.8401171875\" y=\"55.0\" width=\"65.6929296875\" height=\"40\" stroke=\"black\" fill=\"white\" stroke-width=\"1\" /><text x=\"344.68658203125005\" y=\"75.0\" dominant-baseline=\"middle\" text-anchor=\"middle\" font-size=\"14px\">Rz(th_2)</text><rect x=\"311.8401171875\" y=\"5.0\" width=\"65.6929296875\" height=\"40\" stroke=\"black\" fill=\"white\" stroke-width=\"1\" /><text x=\"344.68658203125005\" y=\"25.0\" dominant-baseline=\"middle\" text-anchor=\"middle\" font-size=\"14px\">Rz(th_5)</text><circle cx=\"417.533046875\" cy=\"75.0\" r=\"10.0\" /><rect x=\"397.533046875\" y=\"5.0\" width=\"40\" height=\"40\" stroke=\"black\" fill=\"white\" stroke-width=\"1\" /><text x=\"417.533046875\" y=\"25.0\" dominant-baseline=\"middle\" text-anchor=\"middle\" font-size=\"18px\">X</text><rect x=\"457.53304687499997\" y=\"55.0\" width=\"65.6929296875\" height=\"40\" stroke=\"black\" fill=\"white\" stroke-width=\"1\" /><text x=\"490.37951171875\" y=\"75.0\" dominant-baseline=\"middle\" text-anchor=\"middle\" font-size=\"14px\">Rz(th_6)</text><rect x=\"457.53304687499997\" y=\"5.0\" width=\"65.6929296875\" height=\"40\" stroke=\"black\" fill=\"white\" stroke-width=\"1\" /><text x=\"490.37951171875\" y=\"25.0\" dominant-baseline=\"middle\" text-anchor=\"middle\" font-size=\"14px\">Rz(th_9)</text><rect x=\"543.2259765625\" y=\"55.0\" width=\"75.53667968750001\" height=\"40\" stroke=\"black\" fill=\"white\" stroke-width=\"1\" /><text x=\"580.99431640625\" y=\"75.0\" dominant-baseline=\"middle\" text-anchor=\"middle\" font-size=\"14px\">Rx(th_7)</text><rect x=\"543.2259765625\" y=\"5.0\" width=\"75.53667968750001\" height=\"40\" stroke=\"black\" fill=\"white\" stroke-width=\"1\" /><text x=\"580.99431640625\" y=\"25.0\" dominant-baseline=\"middle\" text-anchor=\"middle\" font-size=\"14px\">Rx(th_10)</text><rect x=\"638.7626562500001\" y=\"55.0\" width=\"74.60015625000001\" height=\"40\" stroke=\"black\" fill=\"white\" stroke-width=\"1\" /><text x=\"676.0627343750001\" y=\"75.0\" dominant-baseline=\"middle\" text-anchor=\"middle\" font-size=\"14px\">Rz(th_8)</text><rect x=\"638.7626562500001\" y=\"5.0\" width=\"74.60015625000001\" height=\"40\" stroke=\"black\" fill=\"white\" stroke-width=\"1\" /><text x=\"676.0627343750001\" y=\"25.0\" dominant-baseline=\"middle\" text-anchor=\"middle\" font-size=\"14px\">Rz(th_11)</text></svg>"
      ],
      "text/plain": [
       "<cirq.contrib.svg.svg.SVGCircuit at 0x7fe66478ae48>"
      ]
     },
     "metadata": {},
     "output_type": "display_data"
    },
    {
     "name": "stdout",
     "output_type": "stream",
     "text": [
      "3: \n"
     ]
    },
    {
     "data": {
      "image/svg+xml": [
       "<svg xmlns=\"http://www.w3.org/2000/svg\" width=\"763.3628125000001\" height=\"100.0\"><line x1=\"34.7588671875\" x2=\"733.3628125000001\" y1=\"25.0\" y2=\"25.0\" stroke=\"#1967d2\" stroke-width=\"1\" /><line x1=\"34.7588671875\" x2=\"733.3628125000001\" y1=\"75.0\" y2=\"75.0\" stroke=\"#1967d2\" stroke-width=\"1\" /><line x1=\"99.517734375\" x2=\"99.517734375\" y1=\"25.0\" y2=\"75.0\" stroke=\"black\" stroke-width=\"3\" /><line x1=\"417.533046875\" x2=\"417.533046875\" y1=\"25.0\" y2=\"75.0\" stroke=\"black\" stroke-width=\"3\" /><rect x=\"10.0\" y=\"5.0\" width=\"49.517734375\" height=\"40\" stroke=\"black\" fill=\"white\" stroke-width=\"0\" /><text x=\"34.7588671875\" y=\"25.0\" dominant-baseline=\"middle\" text-anchor=\"middle\" font-size=\"14px\">(0, 0): </text><rect x=\"10.0\" y=\"55.0\" width=\"49.517734375\" height=\"40\" stroke=\"black\" fill=\"white\" stroke-width=\"0\" /><text x=\"34.7588671875\" y=\"75.0\" dominant-baseline=\"middle\" text-anchor=\"middle\" font-size=\"14px\">(0, 1): </text><circle cx=\"99.517734375\" cy=\"75.0\" r=\"10.0\" /><rect x=\"79.517734375\" y=\"5.0\" width=\"40\" height=\"40\" stroke=\"black\" fill=\"white\" stroke-width=\"1\" /><text x=\"99.517734375\" y=\"25.0\" dominant-baseline=\"middle\" text-anchor=\"middle\" font-size=\"18px\">X</text><rect x=\"139.517734375\" y=\"55.0\" width=\"65.6929296875\" height=\"40\" stroke=\"black\" fill=\"white\" stroke-width=\"1\" /><text x=\"172.36419921875\" y=\"75.0\" dominant-baseline=\"middle\" text-anchor=\"middle\" font-size=\"14px\">Rz(th_0)</text><rect x=\"139.517734375\" y=\"5.0\" width=\"65.6929296875\" height=\"40\" stroke=\"black\" fill=\"white\" stroke-width=\"1\" /><text x=\"172.36419921875\" y=\"25.0\" dominant-baseline=\"middle\" text-anchor=\"middle\" font-size=\"14px\">Rz(th_3)</text><rect x=\"225.2106640625\" y=\"55.0\" width=\"66.629453125\" height=\"40\" stroke=\"black\" fill=\"white\" stroke-width=\"1\" /><text x=\"258.525390625\" y=\"75.0\" dominant-baseline=\"middle\" text-anchor=\"middle\" font-size=\"14px\">Rx(th_1)</text><rect x=\"225.2106640625\" y=\"5.0\" width=\"66.629453125\" height=\"40\" stroke=\"black\" fill=\"white\" stroke-width=\"1\" /><text x=\"258.525390625\" y=\"25.0\" dominant-baseline=\"middle\" text-anchor=\"middle\" font-size=\"14px\">Rx(th_4)</text><rect x=\"311.8401171875\" y=\"55.0\" width=\"65.6929296875\" height=\"40\" stroke=\"black\" fill=\"white\" stroke-width=\"1\" /><text x=\"344.68658203125005\" y=\"75.0\" dominant-baseline=\"middle\" text-anchor=\"middle\" font-size=\"14px\">Rz(th_2)</text><rect x=\"311.8401171875\" y=\"5.0\" width=\"65.6929296875\" height=\"40\" stroke=\"black\" fill=\"white\" stroke-width=\"1\" /><text x=\"344.68658203125005\" y=\"25.0\" dominant-baseline=\"middle\" text-anchor=\"middle\" font-size=\"14px\">Rz(th_5)</text><circle cx=\"417.533046875\" cy=\"75.0\" r=\"10.0\" /><rect x=\"397.533046875\" y=\"5.0\" width=\"40\" height=\"40\" stroke=\"black\" fill=\"white\" stroke-width=\"1\" /><text x=\"417.533046875\" y=\"25.0\" dominant-baseline=\"middle\" text-anchor=\"middle\" font-size=\"18px\">X</text><rect x=\"457.53304687499997\" y=\"55.0\" width=\"65.6929296875\" height=\"40\" stroke=\"black\" fill=\"white\" stroke-width=\"1\" /><text x=\"490.37951171875\" y=\"75.0\" dominant-baseline=\"middle\" text-anchor=\"middle\" font-size=\"14px\">Rz(th_6)</text><rect x=\"457.53304687499997\" y=\"5.0\" width=\"65.6929296875\" height=\"40\" stroke=\"black\" fill=\"white\" stroke-width=\"1\" /><text x=\"490.37951171875\" y=\"25.0\" dominant-baseline=\"middle\" text-anchor=\"middle\" font-size=\"14px\">Rz(th_9)</text><rect x=\"543.2259765625\" y=\"55.0\" width=\"75.53667968750001\" height=\"40\" stroke=\"black\" fill=\"white\" stroke-width=\"1\" /><text x=\"580.99431640625\" y=\"75.0\" dominant-baseline=\"middle\" text-anchor=\"middle\" font-size=\"14px\">Rx(th_7)</text><rect x=\"543.2259765625\" y=\"5.0\" width=\"75.53667968750001\" height=\"40\" stroke=\"black\" fill=\"white\" stroke-width=\"1\" /><text x=\"580.99431640625\" y=\"25.0\" dominant-baseline=\"middle\" text-anchor=\"middle\" font-size=\"14px\">Rx(th_10)</text><rect x=\"638.7626562500001\" y=\"55.0\" width=\"74.60015625000001\" height=\"40\" stroke=\"black\" fill=\"white\" stroke-width=\"1\" /><text x=\"676.0627343750001\" y=\"75.0\" dominant-baseline=\"middle\" text-anchor=\"middle\" font-size=\"14px\">Rz(th_8)</text><rect x=\"638.7626562500001\" y=\"5.0\" width=\"74.60015625000001\" height=\"40\" stroke=\"black\" fill=\"white\" stroke-width=\"1\" /><text x=\"676.0627343750001\" y=\"25.0\" dominant-baseline=\"middle\" text-anchor=\"middle\" font-size=\"14px\">Rz(th_11)</text></svg>"
      ],
      "text/plain": [
       "<cirq.contrib.svg.svg.SVGCircuit at 0x7fe66441c278>"
      ]
     },
     "metadata": {},
     "output_type": "display_data"
    },
    {
     "name": "stdout",
     "output_type": "stream",
     "text": [
      "3: \n"
     ]
    },
    {
     "data": {
      "image/svg+xml": [
       "<svg xmlns=\"http://www.w3.org/2000/svg\" width=\"763.3628125000001\" height=\"100.0\"><line x1=\"34.7588671875\" x2=\"733.3628125000001\" y1=\"25.0\" y2=\"25.0\" stroke=\"#1967d2\" stroke-width=\"1\" /><line x1=\"34.7588671875\" x2=\"733.3628125000001\" y1=\"75.0\" y2=\"75.0\" stroke=\"#1967d2\" stroke-width=\"1\" /><line x1=\"99.517734375\" x2=\"99.517734375\" y1=\"25.0\" y2=\"75.0\" stroke=\"black\" stroke-width=\"3\" /><line x1=\"417.533046875\" x2=\"417.533046875\" y1=\"25.0\" y2=\"75.0\" stroke=\"black\" stroke-width=\"3\" /><rect x=\"10.0\" y=\"5.0\" width=\"49.517734375\" height=\"40\" stroke=\"black\" fill=\"white\" stroke-width=\"0\" /><text x=\"34.7588671875\" y=\"25.0\" dominant-baseline=\"middle\" text-anchor=\"middle\" font-size=\"14px\">(0, 0): </text><rect x=\"10.0\" y=\"55.0\" width=\"49.517734375\" height=\"40\" stroke=\"black\" fill=\"white\" stroke-width=\"0\" /><text x=\"34.7588671875\" y=\"75.0\" dominant-baseline=\"middle\" text-anchor=\"middle\" font-size=\"14px\">(0, 1): </text><circle cx=\"99.517734375\" cy=\"75.0\" r=\"10.0\" /><rect x=\"79.517734375\" y=\"5.0\" width=\"40\" height=\"40\" stroke=\"black\" fill=\"white\" stroke-width=\"1\" /><text x=\"99.517734375\" y=\"25.0\" dominant-baseline=\"middle\" text-anchor=\"middle\" font-size=\"18px\">X</text><rect x=\"139.517734375\" y=\"55.0\" width=\"65.6929296875\" height=\"40\" stroke=\"black\" fill=\"white\" stroke-width=\"1\" /><text x=\"172.36419921875\" y=\"75.0\" dominant-baseline=\"middle\" text-anchor=\"middle\" font-size=\"14px\">Rz(th_0)</text><rect x=\"139.517734375\" y=\"5.0\" width=\"65.6929296875\" height=\"40\" stroke=\"black\" fill=\"white\" stroke-width=\"1\" /><text x=\"172.36419921875\" y=\"25.0\" dominant-baseline=\"middle\" text-anchor=\"middle\" font-size=\"14px\">Rz(th_3)</text><rect x=\"225.2106640625\" y=\"55.0\" width=\"66.629453125\" height=\"40\" stroke=\"black\" fill=\"white\" stroke-width=\"1\" /><text x=\"258.525390625\" y=\"75.0\" dominant-baseline=\"middle\" text-anchor=\"middle\" font-size=\"14px\">Rx(th_1)</text><rect x=\"225.2106640625\" y=\"5.0\" width=\"66.629453125\" height=\"40\" stroke=\"black\" fill=\"white\" stroke-width=\"1\" /><text x=\"258.525390625\" y=\"25.0\" dominant-baseline=\"middle\" text-anchor=\"middle\" font-size=\"14px\">Rx(th_4)</text><rect x=\"311.8401171875\" y=\"55.0\" width=\"65.6929296875\" height=\"40\" stroke=\"black\" fill=\"white\" stroke-width=\"1\" /><text x=\"344.68658203125005\" y=\"75.0\" dominant-baseline=\"middle\" text-anchor=\"middle\" font-size=\"14px\">Rz(th_2)</text><rect x=\"311.8401171875\" y=\"5.0\" width=\"65.6929296875\" height=\"40\" stroke=\"black\" fill=\"white\" stroke-width=\"1\" /><text x=\"344.68658203125005\" y=\"25.0\" dominant-baseline=\"middle\" text-anchor=\"middle\" font-size=\"14px\">Rz(th_5)</text><circle cx=\"417.533046875\" cy=\"75.0\" r=\"10.0\" /><rect x=\"397.533046875\" y=\"5.0\" width=\"40\" height=\"40\" stroke=\"black\" fill=\"white\" stroke-width=\"1\" /><text x=\"417.533046875\" y=\"25.0\" dominant-baseline=\"middle\" text-anchor=\"middle\" font-size=\"18px\">X</text><rect x=\"457.53304687499997\" y=\"55.0\" width=\"65.6929296875\" height=\"40\" stroke=\"black\" fill=\"white\" stroke-width=\"1\" /><text x=\"490.37951171875\" y=\"75.0\" dominant-baseline=\"middle\" text-anchor=\"middle\" font-size=\"14px\">Rz(th_6)</text><rect x=\"457.53304687499997\" y=\"5.0\" width=\"65.6929296875\" height=\"40\" stroke=\"black\" fill=\"white\" stroke-width=\"1\" /><text x=\"490.37951171875\" y=\"25.0\" dominant-baseline=\"middle\" text-anchor=\"middle\" font-size=\"14px\">Rz(th_9)</text><rect x=\"543.2259765625\" y=\"55.0\" width=\"75.53667968750001\" height=\"40\" stroke=\"black\" fill=\"white\" stroke-width=\"1\" /><text x=\"580.99431640625\" y=\"75.0\" dominant-baseline=\"middle\" text-anchor=\"middle\" font-size=\"14px\">Rx(th_7)</text><rect x=\"543.2259765625\" y=\"5.0\" width=\"75.53667968750001\" height=\"40\" stroke=\"black\" fill=\"white\" stroke-width=\"1\" /><text x=\"580.99431640625\" y=\"25.0\" dominant-baseline=\"middle\" text-anchor=\"middle\" font-size=\"14px\">Rx(th_10)</text><rect x=\"638.7626562500001\" y=\"55.0\" width=\"74.60015625000001\" height=\"40\" stroke=\"black\" fill=\"white\" stroke-width=\"1\" /><text x=\"676.0627343750001\" y=\"75.0\" dominant-baseline=\"middle\" text-anchor=\"middle\" font-size=\"14px\">Rz(th_8)</text><rect x=\"638.7626562500001\" y=\"5.0\" width=\"74.60015625000001\" height=\"40\" stroke=\"black\" fill=\"white\" stroke-width=\"1\" /><text x=\"676.0627343750001\" y=\"25.0\" dominant-baseline=\"middle\" text-anchor=\"middle\" font-size=\"14px\">Rz(th_11)</text></svg>"
      ],
      "text/plain": [
       "<cirq.contrib.svg.svg.SVGCircuit at 0x7fe6645cce80>"
      ]
     },
     "metadata": {},
     "output_type": "display_data"
    },
    {
     "name": "stdout",
     "output_type": "stream",
     "text": [
      "about to simplify\n",
      "actually simplified!: running opt\n",
      "about to fit!\n",
      "Train on 1 samples\n",
      "Epoch 1/200\n",
      "1/1 [==============================] - 1s 992ms/sample - loss: 14.3435\n",
      "Epoch 2/200\n",
      "1/1 [==============================] - 1s 587ms/sample - loss: 14.3338\n",
      "Epoch 3/200\n",
      "1/1 [==============================] - 1s 603ms/sample - loss: 14.3258\n",
      "Epoch 4/200\n",
      "1/1 [==============================] - 1s 693ms/sample - loss: 14.3196\n",
      "Epoch 5/200\n",
      "1/1 [==============================] - 1s 550ms/sample - loss: 14.3149\n",
      "Epoch 6/200\n",
      "1/1 [==============================] - 1s 557ms/sample - loss: 14.3115\n",
      "Epoch 7/200\n",
      "1/1 [==============================] - 1s 600ms/sample - loss: 14.3090\n",
      "Epoch 8/200\n",
      "1/1 [==============================] - 1s 782ms/sample - loss: 14.3071\n",
      "Epoch 9/200\n",
      "1/1 [==============================] - 1s 580ms/sample - loss: 14.3053\n",
      "Epoch 10/200\n",
      "1/1 [==============================] - 1s 661ms/sample - loss: 14.3032\n",
      "Epoch 11/200\n",
      "1/1 [==============================] - 1s 600ms/sample - loss: 14.3005\n",
      "Epoch 12/200\n",
      "1/1 [==============================] - 1s 826ms/sample - loss: 14.2971\n",
      "Epoch 13/200\n",
      "1/1 [==============================] - 1s 765ms/sample - loss: 14.2928\n",
      "Epoch 14/200\n",
      "1/1 [==============================] - 1s 823ms/sample - loss: 14.2876\n",
      "Epoch 15/200\n",
      "1/1 [==============================] - 1s 773ms/sample - loss: 14.2814\n",
      "Epoch 16/200\n",
      "1/1 [==============================] - 1s 773ms/sample - loss: 14.2741\n",
      "Epoch 17/200\n",
      "1/1 [==============================] - 1s 648ms/sample - loss: 14.2656\n",
      "Epoch 18/200\n",
      "1/1 [==============================] - 1s 561ms/sample - loss: 14.2560\n",
      "Epoch 19/200\n",
      "1/1 [==============================] - 1s 711ms/sample - loss: 14.2451\n",
      "Epoch 20/200\n",
      "1/1 [==============================] - 1s 778ms/sample - loss: 14.2330\n",
      "Epoch 21/200\n",
      "1/1 [==============================] - 1s 779ms/sample - loss: 14.2197\n",
      "Epoch 22/200\n",
      "1/1 [==============================] - 1s 760ms/sample - loss: 14.2052\n",
      "Epoch 23/200\n",
      "1/1 [==============================] - 1s 553ms/sample - loss: 14.1895\n",
      "Epoch 24/200\n",
      "1/1 [==============================] - 1s 727ms/sample - loss: 14.1726\n",
      "Epoch 25/200\n",
      "1/1 [==============================] - 1s 624ms/sample - loss: 14.1544\n",
      "Epoch 26/200\n",
      "1/1 [==============================] - 1s 726ms/sample - loss: 14.1352\n",
      "Epoch 27/200\n",
      "1/1 [==============================] - 1s 575ms/sample - loss: 14.1148\n",
      "Epoch 28/200\n",
      "1/1 [==============================] - 1s 619ms/sample - loss: 14.0934\n",
      "Epoch 29/200\n",
      "1/1 [==============================] - 1s 595ms/sample - loss: 14.0711\n",
      "Epoch 30/200\n",
      "1/1 [==============================] - 1s 558ms/sample - loss: 14.0479\n",
      "Epoch 31/200\n",
      "1/1 [==============================] - 1s 632ms/sample - loss: 14.0239\n",
      "Epoch 32/200\n",
      "1/1 [==============================] - 1s 749ms/sample - loss: 13.9993\n",
      "Epoch 33/200\n",
      "1/1 [==============================] - 1s 623ms/sample - loss: 13.9741\n",
      "Epoch 34/200\n",
      "1/1 [==============================] - 1s 619ms/sample - loss: 13.9486\n",
      "Epoch 35/200\n",
      "1/1 [==============================] - 0s 443ms/sample - loss: 13.9228\n",
      "Epoch 36/200\n",
      "1/1 [==============================] - 1s 575ms/sample - loss: 13.8968\n",
      "Epoch 37/200\n",
      "1/1 [==============================] - 1s 517ms/sample - loss: 13.8709\n",
      "Epoch 38/200\n",
      "1/1 [==============================] - 1s 548ms/sample - loss: 13.8451\n",
      "Epoch 39/200\n",
      "1/1 [==============================] - 1s 705ms/sample - loss: 13.8196\n",
      "Epoch 40/200\n",
      "1/1 [==============================] - 1s 737ms/sample - loss: 13.7946\n",
      "Epoch 41/200\n",
      "1/1 [==============================] - 1s 607ms/sample - loss: 13.7702\n",
      "Epoch 42/200\n",
      "1/1 [==============================] - 1s 611ms/sample - loss: 13.7466\n",
      "Epoch 43/200\n",
      "1/1 [==============================] - 1s 610ms/sample - loss: 13.7238\n",
      "Epoch 44/200\n",
      "1/1 [==============================] - 1s 562ms/sample - loss: 13.7019\n",
      "Epoch 45/200\n",
      "1/1 [==============================] - 1s 802ms/sample - loss: 13.6811\n",
      "Epoch 46/200\n",
      "1/1 [==============================] - 1s 663ms/sample - loss: 13.6615\n",
      "Epoch 47/200\n",
      "1/1 [==============================] - 1s 659ms/sample - loss: 13.6431\n",
      "Epoch 48/200\n",
      "1/1 [==============================] - 1s 600ms/sample - loss: 13.6260\n",
      "Epoch 49/200\n",
      "1/1 [==============================] - 1s 638ms/sample - loss: 13.6101\n",
      "Epoch 50/200\n",
      "1/1 [==============================] - 1s 605ms/sample - loss: 13.5955\n",
      "Epoch 51/200\n",
      "1/1 [==============================] - 1s 639ms/sample - loss: 13.5821\n",
      "Epoch 52/200\n",
      "1/1 [==============================] - 1s 627ms/sample - loss: 13.5699\n",
      "Epoch 53/200\n",
      "1/1 [==============================] - 1s 808ms/sample - loss: 13.5588\n",
      "Epoch 54/200\n",
      "1/1 [==============================] - 1s 625ms/sample - loss: 13.5487\n",
      "Epoch 55/200\n",
      "1/1 [==============================] - 1s 659ms/sample - loss: 13.5395\n",
      "Epoch 56/200\n",
      "1/1 [==============================] - 1s 603ms/sample - loss: 13.5312\n",
      "Epoch 57/200\n",
      "1/1 [==============================] - 1s 818ms/sample - loss: 13.5234\n",
      "Epoch 58/200\n",
      "1/1 [==============================] - 1s 633ms/sample - loss: 13.5163\n",
      "Epoch 59/200\n",
      "1/1 [==============================] - 1s 666ms/sample - loss: 13.5096\n",
      "Epoch 60/200\n",
      "1/1 [==============================] - 1s 590ms/sample - loss: 13.5033\n",
      "Epoch 61/200\n",
      "1/1 [==============================] - 1s 751ms/sample - loss: 13.4973\n",
      "Epoch 62/200\n",
      "1/1 [==============================] - 1s 608ms/sample - loss: 13.4916\n",
      "Epoch 63/200\n",
      "1/1 [==============================] - 1s 587ms/sample - loss: 13.4860\n",
      "Epoch 64/200\n",
      "1/1 [==============================] - 1s 624ms/sample - loss: 13.4807\n",
      "Epoch 65/200\n",
      "1/1 [==============================] - 1s 644ms/sample - loss: 13.4755\n",
      "Epoch 66/200\n",
      "1/1 [==============================] - 0s 496ms/sample - loss: 13.4704\n",
      "Epoch 67/200\n",
      "1/1 [==============================] - 1s 593ms/sample - loss: 13.4656\n",
      "Epoch 68/200\n",
      "1/1 [==============================] - 1s 597ms/sample - loss: 13.4610\n",
      "Epoch 69/200\n",
      "1/1 [==============================] - 1s 778ms/sample - loss: 13.4566\n",
      "Epoch 70/200\n",
      "1/1 [==============================] - 1s 629ms/sample - loss: 13.4525\n",
      "Epoch 71/200\n",
      "1/1 [==============================] - 1s 642ms/sample - loss: 13.4486\n",
      "Epoch 72/200\n",
      "1/1 [==============================] - 1s 616ms/sample - loss: 13.4451\n",
      "Epoch 73/200\n",
      "1/1 [==============================] - 1s 641ms/sample - loss: 13.4418\n",
      "Epoch 74/200\n",
      "1/1 [==============================] - 1s 615ms/sample - loss: 13.4389\n",
      "Epoch 75/200\n",
      "1/1 [==============================] - 1s 622ms/sample - loss: 13.4363\n",
      "Epoch 76/200\n",
      "1/1 [==============================] - 1s 614ms/sample - loss: 13.4340\n",
      "Epoch 77/200\n",
      "1/1 [==============================] - 1s 622ms/sample - loss: 13.4320\n",
      "Epoch 78/200\n",
      "1/1 [==============================] - 1s 629ms/sample - loss: 13.4303\n",
      "Epoch 79/200\n",
      "1/1 [==============================] - 1s 662ms/sample - loss: 13.4287\n",
      "Epoch 80/200\n",
      "1/1 [==============================] - 1s 575ms/sample - loss: 13.4274\n",
      "Epoch 81/200\n",
      "1/1 [==============================] - 1s 623ms/sample - loss: 13.4262\n",
      "Epoch 82/200\n",
      "1/1 [==============================] - 1s 663ms/sample - loss: 13.4252\n",
      "Epoch 83/200\n",
      "1/1 [==============================] - 1s 629ms/sample - loss: 13.4243\n",
      "Epoch 84/200\n",
      "1/1 [==============================] - 1s 643ms/sample - loss: 13.4235\n",
      "Epoch 85/200\n",
      "1/1 [==============================] - 1s 635ms/sample - loss: 13.4228\n",
      "Epoch 86/200\n",
      "1/1 [==============================] - 1s 640ms/sample - loss: 13.4221\n",
      "Epoch 87/200\n",
      "1/1 [==============================] - 1s 621ms/sample - loss: 13.4215\n",
      "Epoch 88/200\n",
      "1/1 [==============================] - 1s 669ms/sample - loss: 13.4209\n",
      "Epoch 89/200\n",
      "1/1 [==============================] - 1s 539ms/sample - loss: 13.4203\n",
      "Epoch 90/200\n",
      "1/1 [==============================] - 1s 572ms/sample - loss: 13.4198\n",
      "Epoch 91/200\n",
      "1/1 [==============================] - 1s 620ms/sample - loss: 13.4193\n",
      "Epoch 92/200\n",
      "1/1 [==============================] - 1s 621ms/sample - loss: 13.4189\n",
      "Epoch 93/200\n",
      "1/1 [==============================] - 1s 621ms/sample - loss: 13.4184\n",
      "Epoch 94/200\n",
      "1/1 [==============================] - 1s 630ms/sample - loss: 13.4181\n",
      "Epoch 95/200\n",
      "1/1 [==============================] - 1s 627ms/sample - loss: 13.4177\n",
      "Epoch 96/200\n",
      "1/1 [==============================] - 1s 631ms/sample - loss: 13.4174\n",
      "Epoch 97/200\n",
      "1/1 [==============================] - 1s 628ms/sample - loss: 13.4172\n"
     ]
    },
    {
     "name": "stdout",
     "output_type": "stream",
     "text": [
      "Epoch 98/200\n",
      "1/1 [==============================] - 1s 650ms/sample - loss: 13.4170\n",
      "Epoch 99/200\n",
      "1/1 [==============================] - 1s 587ms/sample - loss: 13.4168\n",
      "Epoch 100/200\n",
      "1/1 [==============================] - 1s 720ms/sample - loss: 13.4166\n",
      "Epoch 101/200\n",
      "1/1 [==============================] - 1s 707ms/sample - loss: 13.4165\n",
      "Epoch 102/200\n",
      "1/1 [==============================] - 1s 828ms/sample - loss: 13.4164\n",
      "Epoch 103/200\n",
      "1/1 [==============================] - 1s 962ms/sample - loss: 13.4163\n",
      "Epoch 104/200\n",
      "1/1 [==============================] - 1s 819ms/sample - loss: 13.4161\n",
      "Epoch 105/200\n",
      "1/1 [==============================] - 1s 755ms/sample - loss: 13.4160\n",
      "Epoch 106/200\n",
      "1/1 [==============================] - 1s 666ms/sample - loss: 13.4160\n",
      "Epoch 107/200\n",
      "1/1 [==============================] - 0s 496ms/sample - loss: 13.4159\n",
      "Epoch 108/200\n",
      "1/1 [==============================] - 1s 587ms/sample - loss: 13.4158\n",
      "Epoch 109/200\n",
      "1/1 [==============================] - 1s 611ms/sample - loss: 13.4157\n",
      "Epoch 110/200\n",
      "1/1 [==============================] - 1s 646ms/sample - loss: 13.4155\n",
      "Epoch 111/200\n",
      "1/1 [==============================] - 1s 627ms/sample - loss: 13.4154\n",
      "Epoch 112/200\n",
      "1/1 [==============================] - 1s 720ms/sample - loss: 13.4153\n",
      "Epoch 113/200\n",
      "1/1 [==============================] - 1s 562ms/sample - loss: 13.4152\n",
      "Epoch 114/200\n",
      "1/1 [==============================] - 1s 622ms/sample - loss: 13.4151\n",
      "Epoch 115/200\n",
      "1/1 [==============================] - 1s 640ms/sample - loss: 13.4150\n",
      "Epoch 116/200\n",
      "1/1 [==============================] - 1s 603ms/sample - loss: 13.4149\n",
      "Epoch 117/200\n",
      "1/1 [==============================] - 1s 622ms/sample - loss: 13.4148\n",
      "Epoch 118/200\n",
      "1/1 [==============================] - 1s 622ms/sample - loss: 13.4147\n",
      "Epoch 119/200\n",
      "1/1 [==============================] - 1s 827ms/sample - loss: 13.4146\n",
      "Epoch 120/200\n",
      "1/1 [==============================] - 1s 609ms/sample - loss: 13.4145\n",
      "Epoch 121/200\n",
      "1/1 [==============================] - 1s 616ms/sample - loss: 13.4144\n",
      "Epoch 122/200\n",
      "1/1 [==============================] - 1s 614ms/sample - loss: 13.4143\n",
      "Epoch 123/200\n",
      "1/1 [==============================] - 1s 631ms/sample - loss: 13.4142\n",
      "Epoch 124/200\n",
      "1/1 [==============================] - 1s 635ms/sample - loss: 13.4141\n",
      "Epoch 125/200\n",
      "1/1 [==============================] - 1s 646ms/sample - loss: 13.4140\n",
      "Epoch 126/200\n",
      "1/1 [==============================] - 1s 626ms/sample - loss: 13.4139\n",
      "Epoch 127/200\n",
      "1/1 [==============================] - 1s 631ms/sample - loss: 13.4138\n",
      "Epoch 128/200\n",
      "1/1 [==============================] - 1s 623ms/sample - loss: 13.4136\n",
      "Epoch 129/200\n",
      "1/1 [==============================] - 1s 625ms/sample - loss: 13.4135\n",
      "Epoch 130/200\n",
      "1/1 [==============================] - 1s 628ms/sample - loss: 13.4134\n",
      "Epoch 131/200\n",
      "1/1 [==============================] - 1s 673ms/sample - loss: 13.4133\n",
      "Epoch 132/200\n",
      "1/1 [==============================] - 1s 637ms/sample - loss: 13.4132\n",
      "Epoch 133/200\n",
      "1/1 [==============================] - 1s 807ms/sample - loss: 13.4131\n",
      "Epoch 134/200\n",
      "1/1 [==============================] - 1s 575ms/sample - loss: 13.4129\n",
      "Epoch 135/200\n",
      "1/1 [==============================] - 1s 561ms/sample - loss: 13.4128\n",
      "Epoch 136/200\n",
      "1/1 [==============================] - 1s 575ms/sample - loss: 13.4127\n",
      "Epoch 137/200\n",
      "1/1 [==============================] - 1s 639ms/sample - loss: 13.4126\n",
      "Epoch 138/200\n",
      "1/1 [==============================] - 1s 626ms/sample - loss: 13.4124\n",
      "Epoch 139/200\n",
      "1/1 [==============================] - 1s 640ms/sample - loss: 13.4123\n",
      "Epoch 140/200\n",
      "1/1 [==============================] - 1s 670ms/sample - loss: 13.4122\n",
      "Epoch 141/200\n",
      "1/1 [==============================] - 1s 640ms/sample - loss: 13.4121\n",
      "Epoch 142/200\n",
      "1/1 [==============================] - 1s 606ms/sample - loss: 13.4119\n",
      "Epoch 143/200\n",
      "1/1 [==============================] - 1s 621ms/sample - loss: 13.4118\n",
      "Epoch 144/200\n",
      "1/1 [==============================] - 1s 630ms/sample - loss: 13.4117\n",
      "Epoch 145/200\n",
      "1/1 [==============================] - 1s 660ms/sample - loss: 13.4115\n",
      "Epoch 146/200\n",
      "1/1 [==============================] - 1s 640ms/sample - loss: 13.4114\n",
      "Epoch 147/200\n",
      "1/1 [==============================] - 1s 794ms/sample - loss: 13.4113\n",
      "Epoch 148/200\n",
      "1/1 [==============================] - 1s 620ms/sample - loss: 13.4111\n",
      "Epoch 149/200\n",
      "1/1 [==============================] - 1s 624ms/sample - loss: 13.4110\n",
      "Epoch 150/200\n",
      "1/1 [==============================] - 1s 606ms/sample - loss: 13.4109\n",
      "Epoch 151/200\n",
      "1/1 [==============================] - 1s 789ms/sample - loss: 13.4107\n",
      "Epoch 152/200\n",
      "1/1 [==============================] - 1s 769ms/sample - loss: 13.4106\n",
      "Epoch 153/200\n",
      "1/1 [==============================] - 1s 690ms/sample - loss: 13.4105\n",
      "Epoch 154/200\n",
      "1/1 [==============================] - 1s 761ms/sample - loss: 13.4103\n",
      "Epoch 155/200\n",
      "1/1 [==============================] - 1s 663ms/sample - loss: 13.4102\n",
      "Epoch 156/200\n",
      "1/1 [==============================] - 1s 767ms/sample - loss: 13.4100\n",
      "Epoch 157/200\n",
      "1/1 [==============================] - 1s 658ms/sample - loss: 13.4099\n",
      "Epoch 158/200\n",
      "1/1 [==============================] - 1s 556ms/sample - loss: 13.4098\n",
      "Epoch 159/200\n",
      "1/1 [==============================] - 1s 814ms/sample - loss: 13.4096\n",
      "Epoch 160/200\n",
      "1/1 [==============================] - 1s 811ms/sample - loss: 13.4095\n",
      "Epoch 161/200\n",
      "1/1 [==============================] - 1s 656ms/sample - loss: 13.4093\n",
      "Epoch 162/200\n",
      "1/1 [==============================] - 1s 608ms/sample - loss: 13.4092\n",
      "Epoch 163/200\n",
      "1/1 [==============================] - 1s 608ms/sample - loss: 13.4090\n",
      "Epoch 164/200\n",
      "1/1 [==============================] - 1s 639ms/sample - loss: 13.4089\n",
      "Epoch 165/200\n",
      "1/1 [==============================] - 1s 642ms/sample - loss: 13.4087\n",
      "Epoch 166/200\n",
      "1/1 [==============================] - 1s 629ms/sample - loss: 13.4086\n",
      "Epoch 167/200\n",
      "1/1 [==============================] - 1s 908ms/sample - loss: 13.4084\n",
      "Epoch 168/200\n",
      "1/1 [==============================] - 1s 824ms/sample - loss: 13.4083\n",
      "Epoch 169/200\n",
      "1/1 [==============================] - 1s 929ms/sample - loss: 13.4081\n",
      "Epoch 170/200\n",
      "1/1 [==============================] - 1s 807ms/sample - loss: 13.4080\n",
      "Epoch 171/200\n",
      "1/1 [==============================] - 1s 699ms/sample - loss: 13.4078\n",
      "Epoch 172/200\n",
      "1/1 [==============================] - 1s 732ms/sample - loss: 13.4077\n",
      "Epoch 173/200\n",
      "1/1 [==============================] - 1s 623ms/sample - loss: 13.4075\n",
      "Epoch 174/200\n",
      "1/1 [==============================] - 1s 768ms/sample - loss: 13.4074\n",
      "Epoch 175/200\n",
      "1/1 [==============================] - 1s 589ms/sample - loss: 13.4072\n",
      "Epoch 176/200\n",
      "1/1 [==============================] - 1s 839ms/sample - loss: 13.4071\n",
      "Epoch 177/200\n",
      "1/1 [==============================] - 1s 582ms/sample - loss: 13.4069\n",
      "Epoch 178/200\n",
      "1/1 [==============================] - 1s 752ms/sample - loss: 13.4067\n",
      "Epoch 179/200\n",
      "1/1 [==============================] - 1s 575ms/sample - loss: 13.4066\n",
      "Epoch 180/200\n",
      "1/1 [==============================] - 1s 716ms/sample - loss: 13.4064\n",
      "Epoch 181/200\n",
      "1/1 [==============================] - 1s 768ms/sample - loss: 13.4062\n",
      "Epoch 182/200\n",
      "1/1 [==============================] - 1s 646ms/sample - loss: 13.4061\n",
      "Epoch 183/200\n",
      "1/1 [==============================] - 1s 737ms/sample - loss: 13.4059\n",
      "Epoch 184/200\n",
      "1/1 [==============================] - 1s 672ms/sample - loss: 13.4058\n",
      "Epoch 185/200\n",
      "1/1 [==============================] - 1s 789ms/sample - loss: 13.4056\n",
      "Epoch 186/200\n",
      "1/1 [==============================] - 1s 610ms/sample - loss: 13.4054\n",
      "Epoch 187/200\n",
      "1/1 [==============================] - 1s 562ms/sample - loss: 13.4053\n",
      "Epoch 188/200\n",
      "1/1 [==============================] - 1s 744ms/sample - loss: 13.4051\n",
      "Epoch 189/200\n",
      "1/1 [==============================] - 1s 765ms/sample - loss: 13.4049\n",
      "Epoch 190/200\n",
      "1/1 [==============================] - 1s 757ms/sample - loss: 13.4047\n",
      "Epoch 191/200\n",
      "1/1 [==============================] - 1s 616ms/sample - loss: 13.4046\n",
      "Epoch 192/200\n",
      "1/1 [==============================] - 1s 626ms/sample - loss: 13.4044\n",
      "Epoch 193/200\n",
      "1/1 [==============================] - 0s 497ms/sample - loss: 13.4042\n",
      "Epoch 194/200\n",
      "1/1 [==============================] - 1s 561ms/sample - loss: 13.4041\n"
     ]
    },
    {
     "name": "stdout",
     "output_type": "stream",
     "text": [
      "Epoch 195/200\n",
      "1/1 [==============================] - 1s 598ms/sample - loss: 13.4039\n",
      "Epoch 196/200\n",
      "1/1 [==============================] - 1s 563ms/sample - loss: 13.4037\n",
      "Epoch 197/200\n",
      "1/1 [==============================] - 1s 743ms/sample - loss: 13.4035\n",
      "Epoch 198/200\n",
      "1/1 [==============================] - 1s 548ms/sample - loss: 13.4034\n",
      "Epoch 199/200\n",
      "1/1 [==============================] - 1s 760ms/sample - loss: 13.4032\n",
      "Epoch 200/200\n",
      "1/1 [==============================] - 1s 791ms/sample - loss: 13.4030\n",
      "3:\n"
     ]
    },
    {
     "data": {
      "image/svg+xml": [
       "<svg xmlns=\"http://www.w3.org/2000/svg\" width=\"685.548359375\" height=\"100.0\"><line x1=\"34.7588671875\" x2=\"655.548359375\" y1=\"25.0\" y2=\"25.0\" stroke=\"#1967d2\" stroke-width=\"1\" /><line x1=\"34.7588671875\" x2=\"655.548359375\" y1=\"75.0\" y2=\"75.0\" stroke=\"#1967d2\" stroke-width=\"1\" /><line x1=\"357.53304687499997\" x2=\"357.53304687499997\" y1=\"25.0\" y2=\"75.0\" stroke=\"black\" stroke-width=\"3\" /><rect x=\"10.0\" y=\"5.0\" width=\"49.517734375\" height=\"40\" stroke=\"black\" fill=\"white\" stroke-width=\"0\" /><text x=\"34.7588671875\" y=\"25.0\" dominant-baseline=\"middle\" text-anchor=\"middle\" font-size=\"14px\">(0, 0): </text><rect x=\"10.0\" y=\"55.0\" width=\"49.517734375\" height=\"40\" stroke=\"black\" fill=\"white\" stroke-width=\"0\" /><text x=\"34.7588671875\" y=\"75.0\" dominant-baseline=\"middle\" text-anchor=\"middle\" font-size=\"14px\">(0, 1): </text><rect x=\"79.517734375\" y=\"55.0\" width=\"65.6929296875\" height=\"40\" stroke=\"black\" fill=\"white\" stroke-width=\"1\" /><text x=\"112.36419921875\" y=\"75.0\" dominant-baseline=\"middle\" text-anchor=\"middle\" font-size=\"14px\">Rz(th_0)</text><rect x=\"79.517734375\" y=\"5.0\" width=\"65.6929296875\" height=\"40\" stroke=\"black\" fill=\"white\" stroke-width=\"1\" /><text x=\"112.36419921875\" y=\"25.0\" dominant-baseline=\"middle\" text-anchor=\"middle\" font-size=\"14px\">Rz(th_3)</text><rect x=\"165.2106640625\" y=\"55.0\" width=\"66.629453125\" height=\"40\" stroke=\"black\" fill=\"white\" stroke-width=\"1\" /><text x=\"198.525390625\" y=\"75.0\" dominant-baseline=\"middle\" text-anchor=\"middle\" font-size=\"14px\">Rx(th_1)</text><rect x=\"165.2106640625\" y=\"5.0\" width=\"66.629453125\" height=\"40\" stroke=\"black\" fill=\"white\" stroke-width=\"1\" /><text x=\"198.525390625\" y=\"25.0\" dominant-baseline=\"middle\" text-anchor=\"middle\" font-size=\"14px\">Rx(th_4)</text><rect x=\"251.8401171875\" y=\"55.0\" width=\"65.6929296875\" height=\"40\" stroke=\"black\" fill=\"white\" stroke-width=\"1\" /><text x=\"284.68658203125\" y=\"75.0\" dominant-baseline=\"middle\" text-anchor=\"middle\" font-size=\"14px\">Rz(th_2)</text><rect x=\"251.8401171875\" y=\"5.0\" width=\"65.6929296875\" height=\"40\" stroke=\"black\" fill=\"white\" stroke-width=\"1\" /><text x=\"284.68658203125\" y=\"25.0\" dominant-baseline=\"middle\" text-anchor=\"middle\" font-size=\"14px\">Rz(th_5)</text><circle cx=\"357.53304687499997\" cy=\"75.0\" r=\"10.0\" /><rect x=\"337.53304687499997\" y=\"5.0\" width=\"40\" height=\"40\" stroke=\"black\" fill=\"white\" stroke-width=\"1\" /><text x=\"357.53304687499997\" y=\"25.0\" dominant-baseline=\"middle\" text-anchor=\"middle\" font-size=\"18px\">X</text><rect x=\"397.53304687499997\" y=\"5.0\" width=\"65.6929296875\" height=\"40\" stroke=\"black\" fill=\"white\" stroke-width=\"1\" /><text x=\"430.37951171875\" y=\"25.0\" dominant-baseline=\"middle\" text-anchor=\"middle\" font-size=\"14px\">Rz(th_6)</text><rect x=\"483.2259765624999\" y=\"5.0\" width=\"66.629453125\" height=\"40\" stroke=\"black\" fill=\"white\" stroke-width=\"1\" /><text x=\"516.5407031249999\" y=\"25.0\" dominant-baseline=\"middle\" text-anchor=\"middle\" font-size=\"14px\">Rx(th_7)</text><rect x=\"569.8554296875\" y=\"5.0\" width=\"65.6929296875\" height=\"40\" stroke=\"black\" fill=\"white\" stroke-width=\"1\" /><text x=\"602.70189453125\" y=\"25.0\" dominant-baseline=\"middle\" text-anchor=\"middle\" font-size=\"14px\">Rz(th_8)</text></svg>"
      ],
      "text/plain": [
       "<cirq.contrib.svg.svg.SVGCircuit at 0x7fe6786cc2e8>"
      ]
     },
     "metadata": {},
     "output_type": "display_data"
    },
    {
     "name": "stderr",
     "output_type": "stream",
     "text": [
      "\r",
      " 40%|████      | 4/10 [02:46<04:54, 49.02s/it]"
     ]
    },
    {
     "name": "stdout",
     "output_type": "stream",
     "text": [
      "\n",
      "%%%%%%%%%%%%%%%%%%%%%%%%%\n",
      "new iteration:  4\n",
      "1:\n"
     ]
    },
    {
     "data": {
      "image/svg+xml": [
       "<svg xmlns=\"http://www.w3.org/2000/svg\" width=\"763.3628125000001\" height=\"100.0\"><line x1=\"34.7588671875\" x2=\"733.3628125000001\" y1=\"25.0\" y2=\"25.0\" stroke=\"#1967d2\" stroke-width=\"1\" /><line x1=\"34.7588671875\" x2=\"733.3628125000001\" y1=\"75.0\" y2=\"75.0\" stroke=\"#1967d2\" stroke-width=\"1\" /><line x1=\"99.517734375\" x2=\"99.517734375\" y1=\"25.0\" y2=\"75.0\" stroke=\"black\" stroke-width=\"3\" /><line x1=\"417.533046875\" x2=\"417.533046875\" y1=\"25.0\" y2=\"75.0\" stroke=\"black\" stroke-width=\"3\" /><rect x=\"10.0\" y=\"5.0\" width=\"49.517734375\" height=\"40\" stroke=\"black\" fill=\"white\" stroke-width=\"0\" /><text x=\"34.7588671875\" y=\"25.0\" dominant-baseline=\"middle\" text-anchor=\"middle\" font-size=\"14px\">(0, 0): </text><rect x=\"10.0\" y=\"55.0\" width=\"49.517734375\" height=\"40\" stroke=\"black\" fill=\"white\" stroke-width=\"0\" /><text x=\"34.7588671875\" y=\"75.0\" dominant-baseline=\"middle\" text-anchor=\"middle\" font-size=\"14px\">(0, 1): </text><circle cx=\"99.517734375\" cy=\"75.0\" r=\"10.0\" /><rect x=\"79.517734375\" y=\"5.0\" width=\"40\" height=\"40\" stroke=\"black\" fill=\"white\" stroke-width=\"1\" /><text x=\"99.517734375\" y=\"25.0\" dominant-baseline=\"middle\" text-anchor=\"middle\" font-size=\"18px\">X</text><rect x=\"139.517734375\" y=\"55.0\" width=\"65.6929296875\" height=\"40\" stroke=\"black\" fill=\"white\" stroke-width=\"1\" /><text x=\"172.36419921875\" y=\"75.0\" dominant-baseline=\"middle\" text-anchor=\"middle\" font-size=\"14px\">Rz(th_0)</text><rect x=\"139.517734375\" y=\"5.0\" width=\"65.6929296875\" height=\"40\" stroke=\"black\" fill=\"white\" stroke-width=\"1\" /><text x=\"172.36419921875\" y=\"25.0\" dominant-baseline=\"middle\" text-anchor=\"middle\" font-size=\"14px\">Rz(th_3)</text><rect x=\"225.2106640625\" y=\"55.0\" width=\"66.629453125\" height=\"40\" stroke=\"black\" fill=\"white\" stroke-width=\"1\" /><text x=\"258.525390625\" y=\"75.0\" dominant-baseline=\"middle\" text-anchor=\"middle\" font-size=\"14px\">Rx(th_1)</text><rect x=\"225.2106640625\" y=\"5.0\" width=\"66.629453125\" height=\"40\" stroke=\"black\" fill=\"white\" stroke-width=\"1\" /><text x=\"258.525390625\" y=\"25.0\" dominant-baseline=\"middle\" text-anchor=\"middle\" font-size=\"14px\">Rx(th_4)</text><rect x=\"311.8401171875\" y=\"55.0\" width=\"65.6929296875\" height=\"40\" stroke=\"black\" fill=\"white\" stroke-width=\"1\" /><text x=\"344.68658203125005\" y=\"75.0\" dominant-baseline=\"middle\" text-anchor=\"middle\" font-size=\"14px\">Rz(th_2)</text><rect x=\"311.8401171875\" y=\"5.0\" width=\"65.6929296875\" height=\"40\" stroke=\"black\" fill=\"white\" stroke-width=\"1\" /><text x=\"344.68658203125005\" y=\"25.0\" dominant-baseline=\"middle\" text-anchor=\"middle\" font-size=\"14px\">Rz(th_5)</text><circle cx=\"417.533046875\" cy=\"75.0\" r=\"10.0\" /><rect x=\"397.533046875\" y=\"5.0\" width=\"40\" height=\"40\" stroke=\"black\" fill=\"white\" stroke-width=\"1\" /><text x=\"417.533046875\" y=\"25.0\" dominant-baseline=\"middle\" text-anchor=\"middle\" font-size=\"18px\">X</text><rect x=\"457.53304687499997\" y=\"55.0\" width=\"65.6929296875\" height=\"40\" stroke=\"black\" fill=\"white\" stroke-width=\"1\" /><text x=\"490.37951171875\" y=\"75.0\" dominant-baseline=\"middle\" text-anchor=\"middle\" font-size=\"14px\">Rz(th_6)</text><rect x=\"457.53304687499997\" y=\"5.0\" width=\"65.6929296875\" height=\"40\" stroke=\"black\" fill=\"white\" stroke-width=\"1\" /><text x=\"490.37951171875\" y=\"25.0\" dominant-baseline=\"middle\" text-anchor=\"middle\" font-size=\"14px\">Rz(th_9)</text><rect x=\"543.2259765625\" y=\"55.0\" width=\"75.53667968750001\" height=\"40\" stroke=\"black\" fill=\"white\" stroke-width=\"1\" /><text x=\"580.99431640625\" y=\"75.0\" dominant-baseline=\"middle\" text-anchor=\"middle\" font-size=\"14px\">Rx(th_7)</text><rect x=\"543.2259765625\" y=\"5.0\" width=\"75.53667968750001\" height=\"40\" stroke=\"black\" fill=\"white\" stroke-width=\"1\" /><text x=\"580.99431640625\" y=\"25.0\" dominant-baseline=\"middle\" text-anchor=\"middle\" font-size=\"14px\">Rx(th_10)</text><rect x=\"638.7626562500001\" y=\"55.0\" width=\"74.60015625000001\" height=\"40\" stroke=\"black\" fill=\"white\" stroke-width=\"1\" /><text x=\"676.0627343750001\" y=\"75.0\" dominant-baseline=\"middle\" text-anchor=\"middle\" font-size=\"14px\">Rz(th_8)</text><rect x=\"638.7626562500001\" y=\"5.0\" width=\"74.60015625000001\" height=\"40\" stroke=\"black\" fill=\"white\" stroke-width=\"1\" /><text x=\"676.0627343750001\" y=\"25.0\" dominant-baseline=\"middle\" text-anchor=\"middle\" font-size=\"14px\">Rz(th_11)</text></svg>"
      ],
      "text/plain": [
       "<cirq.contrib.svg.svg.SVGCircuit at 0x7fe678156710>"
      ]
     },
     "metadata": {},
     "output_type": "display_data"
    },
    {
     "name": "stdout",
     "output_type": "stream",
     "text": [
      "Train on 1 samples\n",
      "Epoch 1/10\n",
      "1/1 [==============================] - 2s 2s/sample - loss: 15.0033\n",
      "Epoch 2/10\n",
      "1/1 [==============================] - 1s 1s/sample - loss: 14.5693\n",
      "Epoch 3/10\n",
      "1/1 [==============================] - 2s 2s/sample - loss: 14.4146\n",
      "Epoch 4/10\n",
      "1/1 [==============================] - 1s 1s/sample - loss: 14.3249\n",
      "Epoch 5/10\n"
     ]
    }
   ],
   "source": [
    "sols = {}\n",
    "J=1.21\n",
    "for dep in [0.1,0.01,0.001,0.0001]:\n",
    "    print(\"dep\", dep)\n",
    "    sol = Solver(n_qubits= 4, qlr=0.1, qepochs=10, g=1, J=J, noises={\"depolarizing\":dep}, verbose=1)\n",
    "    sol.history_circuits=[]\n",
    "    history_energies=[]\n",
    "    best_energies_found = []\n",
    "\n",
    "    gates_index = [sol.number_of_cnots] ## begin with a certain circuit\n",
    "    gates_index, resolver, energy= sol.run_circuit_from_index(gates_index)\n",
    "    sol.history_circuits.append(gates_index)\n",
    "#    sol.current_circuit = gates_index\n",
    "\n",
    "    for kk in tqdm(range(10)):\n",
    "        print(\"\\n%%%%%%%%%%%%%%%%%%%%%%%%%\")\n",
    "        print(\"new iteration: \",kk)\n",
    "        print(\"1:\" )\n",
    "        display(SVGCircuit(sol.give_circuit(gates_index)[0]))\n",
    "        \n",
    "        enns = [energy]\n",
    "        which_block = np.random.choice([0,1], p=[.5,.5])\n",
    "        if which_block == 0:\n",
    "            qubit = np.random.choice(sol.n_qubits)\n",
    "            block_to_insert = sol.resolution_1qubit(qubit)\n",
    "            insertion_index = np.random.choice(max(1,len(gates_index))) #gives index between \\in [0, len(gates_index) )\n",
    "        else:\n",
    "            qubits = np.random.choice(sol.n_qubits, 2,replace = False)\n",
    "            block_to_insert = sol.resolution_2cnots(qubits[0], qubits[1])\n",
    "            insertion_index = np.random.choice(max(1,len(gates_index))) #gives index between \\in [0, len(gates_index) )\n",
    "        \n",
    "        #print(block_to_insert)\n",
    "        ### optimize the circuit with the block appended. This is tricky since we initialize\n",
    "        ###  the continuous parameters with the older ones, and the \"block ones\" close to identity\n",
    "        circuit, variables = sol.prepare_circuit_insertion(gates_index, block_to_insert, insertion_index) #this either accepts or reject the insertion\n",
    "        model = sol.initialize_model_insertion(variables) ### initialize the model in the previously optimized parameters & resolution to identity for the block\n",
    "\n",
    "        gates_index, resolver, energy, accepted = sol.optimize_and_update(gates_index,model, circuit, variables, insertion_index) #inside, if better circuit is found, saves it.\n",
    "        print(\"2:\")\n",
    "        display(SVGCircuit(sol.give_circuit(gates_index)[0]))\n",
    "        if accepted:\n",
    "            print(\"accepted\")\n",
    "            sol.history_circuits.append(gates_index)\n",
    "            #### try to kill one qubit unitaries ###\n",
    "            for k in range(10):\n",
    "                if len(gates_index)-sol.count_number_cnots(gates_index) > 2:\n",
    "                    gates_index, resolver, energy, simplified =  sol.kill_one_unitary(gates_index, resolver, energy)\n",
    "                    print(\"3: \")\n",
    "                    display(SVGCircuit(sol.give_circuit(gates_index)[0]))\n",
    "                    sol.history_circuits.append(gates_index)\n",
    "                    \n",
    "            ### simplify the circuit and if the length is changed I run the optimization again\n",
    "            print(\"about to simplify\")\n",
    "            simplified_gates_index = sol.simplify_circuit(gates_index)\n",
    "            if len(simplified_gates_index)<len(gates_index) and len(simplified_gates_index)>0:\n",
    "                print(\"actually simplified!: running opt\")\n",
    "                ggates_index, rresolver, eenergy = sol.run_circuit_from_index(simplified_gates_index,hyperparameters=[200,0.01]) #here I don't save the resolver since it's a mess\n",
    "                print(\"3:\")\n",
    "                display(SVGCircuit(sol.give_circuit(ggates_index)[0]))\n",
    "                \n",
    "                if energy < sol.lowest_energy_found:\n",
    "                    sol.lowest_energy_found = energy\n",
    "                    sol.best_circuit_found = gates_index\n",
    "                    sol.best_resolver_found = resolver\n",
    "                    gates_index = ggates_index\n",
    "                    sol.history_circuits.append(gates_index)\n",
    "                    resolver = resolver\n",
    "                    energy = eenergy\n",
    "        \n",
    "        sol.new_resolver = {}\n",
    "        history_energies.append(sol.lowest_energy_found)\n",
    "        enns=[]\n",
    "        #print(\"energy: \", energy, \"... j\", j)\n",
    "    sol.history_energies=history_energies\n",
    "    sols[str(dep)] = sol\n",
    "    print(history_energies)\n",
    "    \n",
    "import os\n",
    "import pickle\n",
    "os.system(\"mkdir noise_test\")\n",
    "for k,v in sols.items():\n",
    "    with open(\"noise_test/\"+k+'.pickle', 'wb') as handle:\n",
    "        pickle.dump(v, handle, protocol=pickle.HIGHEST_PROTOCOL)"
   ]
  },
  {
   "cell_type": "code",
   "execution_count": null,
   "metadata": {},
   "outputs": [],
   "source": [
    "sol."
   ]
  },
  {
   "cell_type": "code",
   "execution_count": null,
   "metadata": {},
   "outputs": [],
   "source": [
    "[k.count_number_cnots(k.best_circuit_found) for k in sols.values()]"
   ]
  },
  {
   "cell_type": "code",
   "execution_count": null,
   "metadata": {},
   "outputs": [],
   "source": [
    "plt.figure(figsize=(20,10))\n",
    "plt.suptitle(r'$H = -\\sum_i^{n=4} \\; Z_i - \\;J \\sum_i^{n=4} X_i X_{i+1}$', size=25)\n",
    "ax1 = plt.subplot2grid((1,2),(0,0))\n",
    "ax2= plt.subplot2grid((1,2),(0,1))\n",
    "\n",
    "ax1.set_ylabel(\"Lowest energy found\", size=20)\n",
    "ax1.set_xlabel(\"J\", size=20)\n",
    "\n",
    "js = np.arange(.01,4.1,.4)\n",
    "ax1.scatter(js,[k.lowest_energy_found for k in sols.values()], marker=\"*\",alpha=.75, s=80, c=\"blue\",label=\"Lowest energy found after 15 its\")\n",
    "ax1.scatter(js,np.loadtxt(\"Ising4q.csv\"), alpha=.5, s=80, c=\"red\",label=\"Ground state\")\n",
    "ax1.legend(prop={\"size\":20})\n",
    "#plt.xticks(js, size=30)\n",
    "\n",
    "ax2.scatter(js, [k.count_number_cnots(k.best_circuit_found) for k in sols.values()], alpha=1, s=100)\n",
    "ax2.set_xlabel(\"J\")\n",
    "ax2.set_yticks([k.count_number_cnots(k.best_circuit_found) for k in sols.values()])\n",
    "ax2.set_ylabel(\"Number of CNOTs\", size=20)\n",
    "plt.savefig(\"ising_larger_interactions.png\")"
   ]
  },
  {
   "cell_type": "code",
   "execution_count": null,
   "metadata": {},
   "outputs": [],
   "source": [
    "list(sols.items())"
   ]
  },
  {
   "cell_type": "code",
   "execution_count": null,
   "metadata": {},
   "outputs": [],
   "source": []
  },
  {
   "cell_type": "code",
   "execution_count": null,
   "metadata": {},
   "outputs": [],
   "source": [
    "plt.figure(figsize=(20,10))\n",
    "plt.suptitle(r'$H = -\\sum_i^{4} \\; S^{z}_i - \\;J \\; \\sum_i^{4} \\; S^{x}_i S^{x}_{i+1}$', size=25)\n",
    "ax1 = plt.subplot2grid((1,1),(0,0))\n",
    "#ax2= plt.subplot2grid((1,2),(0,1))\n",
    "\n",
    "ax1.set_ylabel(r'$\\frac{\\Delta E}{E_{ground}}$', size=45)#(r'$|E_{lowest}- E_{ground}|$', size=30)\n",
    "ax1.set_xlabel(r'$E_{ground}$', size=45)\n",
    "\n",
    "enns = np.array(np.loadtxt(\"Ising4q.csv\"))\n",
    "js = np.arange(.01,4.1,.4)\n",
    "ax1.scatter(np.abs(enns),np.abs(np.array([k.lowest_energy_found for k in sols.values()]) - enns)/np.abs(enns), marker=\"o\",alpha=.6, s=300, c=\"red\",label=r'$\\Delta E/E_ground$')\n",
    "#ax1.scatter(js,, alpha=.5, s=80, c=\"red\",label=\"Ground state\")\n",
    "#ax1.legend(prop={\"size\":20})\n",
    "#plt.xticks(js, size=30)\n",
    "ticks=[]\n",
    "for k,i in enumerate(np.abs(enns)):\n",
    "    if k!=1:\n",
    "        ticks.append(np.round(i,2))\n",
    "ax1.set_xticks(ticks)\n",
    "ax1.tick_params(axis='both', which='major', labelsize=20)\n",
    "#ax2.scatter(js, [k.count_number_cnots(k.best_circuit_found) for k in sols.values()], alpha=1, s=100)\n",
    "#ax2.set_xlabel(\"J\")\n",
    "#ax2.set_yticks([k.count_number_cnots(k.best_circuit_found) for k in sols.values()])\n",
    "#ax2.set_ylabel(\"Number of CNOTs\", size=20)\n",
    "plt.savefig(\"energies_4ising.png\")"
   ]
  },
  {
   "cell_type": "code",
   "execution_count": null,
   "metadata": {},
   "outputs": [],
   "source": [
    "plt.figure(figsize=(20,10))\n",
    "plt.suptitle(r'$H = -\\sum_i^{4} \\; S^{z}_i - \\;J \\; \\sum_i^{4} \\; S^{x}_i S^{x}_{i+1}$', size=25)\n",
    "ax1 = plt.subplot2grid((1,1),(0,0))\n",
    "#ax2= plt.subplot2grid((1,2),(0,1))\n",
    "\n",
    "ax1.set_ylabel(r'$\\Delta E$', size=45)#(r'$|E_{lowest}- E_{ground}|$', size=30)\n",
    "ax1.set_xlabel(r'$E_{ground}$', size=45)\n",
    "\n",
    "enns = np.array(np.loadtxt(\"Ising4q.csv\"))\n",
    "js = np.arange(.01,4.1,.4)\n",
    "ax1.scatter(np.abs(enns),np.abs(np.array([k.lowest_energy_found for k in sols.values()]) - enns), marker=\"*\",alpha=.6, s=180, c=\"blue\",label=r'$\\Delta E$')\n",
    "#ax1.scatter(js,, alpha=.5, s=80, c=\"red\",label=\"Ground state\")\n",
    "#ax1.legend(prop={\"size\":20})\n",
    "#plt.xticks(js, size=30)\n",
    "ticks=[]\n",
    "for k,i in enumerate(np.abs(enns)):\n",
    "    if k!=1:\n",
    "        ticks.append(np.round(i,2))\n",
    "ax1.set_xticks(ticks)\n",
    "ax1.tick_params(axis='both', which='major', labelsize=20)\n",
    "#ax2.scatter(js, [k.count_number_cnots(k.best_circuit_found) for k in sols.values()], alpha=1, s=100)\n",
    "#ax2.set_xlabel(\"J\")\n",
    "#ax2.set_yticks([k.count_number_cnots(k.best_circuit_found) for k in sols.values()])\n",
    "#ax2.set_ylabel(\"Number of CNOTs\", size=20)\n",
    "#plt.savefig(\"energies.png\")"
   ]
  },
  {
   "cell_type": "code",
   "execution_count": null,
   "metadata": {},
   "outputs": [],
   "source": []
  }
 ],
 "metadata": {
  "kernelspec": {
   "display_name": "Python 3",
   "language": "python",
   "name": "python3"
  },
  "language_info": {
   "codemirror_mode": {
    "name": "ipython",
    "version": 3
   },
   "file_extension": ".py",
   "mimetype": "text/x-python",
   "name": "python",
   "nbconvert_exporter": "python",
   "pygments_lexer": "ipython3",
   "version": "3.6.9"
  }
 },
 "nbformat": 4,
 "nbformat_minor": 4
}
