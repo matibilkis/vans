{
 "cells": [
  {
   "cell_type": "code",
   "execution_count": 1,
   "metadata": {},
   "outputs": [],
   "source": [
    "import numpy as np\n",
    "import sympy\n",
    "import cirq\n",
    "import tensorflow as tf\n",
    "import tensorflow_quantum as tfq\n",
    "import matplotlib.pyplot as plt\n",
    "from tqdm import tqdm\n",
    "import matplotlib.pyplot as plt\n"
   ]
  },
  {
   "cell_type": "code",
   "execution_count": 2,
   "metadata": {},
   "outputs": [],
   "source": [
    "n_qubits = 3\n",
    "\n",
    "qubits = cirq.GridQubit.rect(1, n_qubits)\n",
    "g=1\n",
    "J=1.21\n",
    "observable = [-float(0.5*g)*cirq.Z.on(q) for q in qubits] \n",
    "for q in range(len(qubits)):\n",
    "    observable.append(-float(0.5*J)*cirq.X.on(qubits[q])*cirq.X.on(qubits[(q+1)%len(qubits)]))\n",
    "circuit = []\n",
    "\n",
    "parametrized_unitary = [cirq.rz, cirq.rx, cirq.rz]\n",
    "\n",
    "indexed_cnots = {}\n",
    "cnots_index = {}\n",
    "count = 0\n",
    "for control in range(n_qubits):\n",
    "    for target in range(n_qubits):\n",
    "        if control != target:\n",
    "            indexed_cnots[str(count)] = [control, target]\n",
    "            cnots_index[str([control,target])] = count\n",
    "            count += 1\n",
    "number_of_cnots = len(indexed_cnots)\n",
    "\n",
    "def append_to_circuit(ind, circuit, params, new_index=False):\n",
    "    if ind < number_of_cnots:\n",
    "        control, target = indexed_cnots[str(ind)]\n",
    "        circuit.append(cirq.CNOT.on(qubits[control], qubits[target]))\n",
    "        return circuit, params\n",
    "    else:\n",
    "        qubit = qubits[(ind-number_of_cnots)%n_qubits]\n",
    "        for par, gate in zip(range(3),parametrized_unitary):\n",
    "            new_param = \"th_\"+str(len(params))\n",
    "            params.append(new_param)\n",
    "            circuit.append(gate(sympy.Symbol(new_param)).on(qubit))\n",
    "        return circuit, params\n",
    "    \n",
    "def give_circuit(lista):\n",
    "    circuit, symbols = [], []\n",
    "    for k in lista:\n",
    "        circuit, symbols = append_to_circuit(k,circuit,symbols)\n",
    "    circuit = cirq.Circuit(circuit)\n",
    "    return circuit, symbols"
   ]
  },
  {
   "cell_type": "code",
   "execution_count": null,
   "metadata": {},
   "outputs": [
    {
     "name": "stderr",
     "output_type": "stream",
     "text": [
      "\r",
      "  0%|          | 0/30 [00:00<?, ?it/s]"
     ]
    },
    {
     "name": "stdout",
     "output_type": "stream",
     "text": [
      "Train on 1 samples\n",
      "Epoch 1/2\n",
      "1/1 [==============================] - 2s 2s/sample - loss: 33.4428\n",
      "Epoch 2/2\n",
      "1/1 [==============================] - 1s 506ms/sample - loss: 33.4291\n"
     ]
    },
    {
     "name": "stderr",
     "output_type": "stream",
     "text": [
      "\r",
      "  3%|▎         | 1/30 [00:03<01:51,  3.84s/it]"
     ]
    },
    {
     "name": "stdout",
     "output_type": "stream",
     "text": [
      "Train on 1 samples\n",
      "Epoch 1/2\n",
      "1/1 [==============================] - 1s 1s/sample - loss: 33.3266\n",
      "Epoch 2/2\n",
      "1/1 [==============================] - 1s 803ms/sample - loss: 33.3152\n"
     ]
    },
    {
     "name": "stderr",
     "output_type": "stream",
     "text": [
      "\r",
      "  7%|▋         | 2/30 [00:05<01:32,  3.30s/it]"
     ]
    },
    {
     "name": "stdout",
     "output_type": "stream",
     "text": [
      "Train on 1 samples\n",
      "Epoch 1/2\n",
      "1/1 [==============================] - 1s 1s/sample - loss: 33.3107\n",
      "Epoch 2/2\n",
      "1/1 [==============================] - 1s 551ms/sample - loss: 33.3035\n"
     ]
    },
    {
     "name": "stderr",
     "output_type": "stream",
     "text": [
      "\r",
      " 10%|█         | 3/30 [00:07<01:17,  2.86s/it]"
     ]
    },
    {
     "name": "stdout",
     "output_type": "stream",
     "text": [
      "Train on 1 samples\n",
      "Epoch 1/2\n",
      "1/1 [==============================] - 1s 1s/sample - loss: 33.3950\n",
      "Epoch 2/2\n",
      "1/1 [==============================] - 1s 573ms/sample - loss: 33.3858\n"
     ]
    },
    {
     "name": "stderr",
     "output_type": "stream",
     "text": [
      "\r",
      " 13%|█▎        | 4/30 [00:09<01:07,  2.58s/it]"
     ]
    },
    {
     "name": "stdout",
     "output_type": "stream",
     "text": [
      "Train on 1 samples\n",
      "Epoch 1/2\n",
      "1/1 [==============================] - 1s 1s/sample - loss: 33.3734\n",
      "Epoch 2/2\n",
      "1/1 [==============================] - 1s 537ms/sample - loss: 33.3632\n"
     ]
    },
    {
     "name": "stderr",
     "output_type": "stream",
     "text": [
      "\r",
      " 17%|█▋        | 5/30 [00:11<01:00,  2.44s/it]"
     ]
    },
    {
     "name": "stdout",
     "output_type": "stream",
     "text": [
      "Train on 1 samples\n",
      "Epoch 1/2\n",
      "1/1 [==============================] - 1s 1s/sample - loss: 33.2153\n",
      "Epoch 2/2\n",
      "1/1 [==============================] - 0s 451ms/sample - loss: 33.2060\n"
     ]
    },
    {
     "name": "stderr",
     "output_type": "stream",
     "text": [
      "\r",
      " 20%|██        | 6/30 [00:13<00:53,  2.24s/it]"
     ]
    },
    {
     "name": "stdout",
     "output_type": "stream",
     "text": [
      "Train on 1 samples\n",
      "Epoch 1/2\n",
      "1/1 [==============================] - 1s 1s/sample - loss: 33.3245\n",
      "Epoch 2/2\n",
      "1/1 [==============================] - 1s 608ms/sample - loss: 33.3111\n"
     ]
    },
    {
     "name": "stderr",
     "output_type": "stream",
     "text": [
      "\r",
      " 23%|██▎       | 7/30 [00:15<00:50,  2.18s/it]"
     ]
    },
    {
     "name": "stdout",
     "output_type": "stream",
     "text": [
      "Train on 1 samples\n",
      "Epoch 1/2\n"
     ]
    },
    {
     "name": "stderr",
     "output_type": "stream",
     "text": [
      "Process ForkPoolWorker-123:\n",
      "Process ForkPoolWorker-122:\n",
      "Process ForkPoolWorker-124:\n",
      "Traceback (most recent call last):\n",
      "Process ForkPoolWorker-121:\n",
      "  File \"/home/cooper-cooper/.local/lib/python3.6/site-packages/multiprocess/process.py\", line 258, in _bootstrap\n",
      "    self.run()\n",
      "Traceback (most recent call last):\n",
      "  File \"/home/cooper-cooper/.local/lib/python3.6/site-packages/multiprocess/process.py\", line 93, in run\n",
      "    self._target(*self._args, **self._kwargs)\n",
      "Traceback (most recent call last):\n",
      "  File \"/home/cooper-cooper/.local/lib/python3.6/site-packages/multiprocess/pool.py\", line 108, in worker\n",
      "    task = get()\n",
      "Traceback (most recent call last):\n",
      "  File \"/home/cooper-cooper/.local/lib/python3.6/site-packages/multiprocess/process.py\", line 258, in _bootstrap\n",
      "    self.run()\n",
      "  File \"/home/cooper-cooper/.local/lib/python3.6/site-packages/multiprocess/process.py\", line 258, in _bootstrap\n",
      "    self.run()\n",
      "  File \"/home/cooper-cooper/.local/lib/python3.6/site-packages/multiprocess/queues.py\", line 337, in get\n",
      "    with self._rlock:\n",
      "  File \"/home/cooper-cooper/.local/lib/python3.6/site-packages/multiprocess/process.py\", line 258, in _bootstrap\n",
      "    self.run()\n",
      "  File \"/home/cooper-cooper/.local/lib/python3.6/site-packages/multiprocess/process.py\", line 93, in run\n",
      "    self._target(*self._args, **self._kwargs)\n",
      "  File \"/home/cooper-cooper/.local/lib/python3.6/site-packages/multiprocess/process.py\", line 93, in run\n",
      "    self._target(*self._args, **self._kwargs)\n",
      "  File \"/home/cooper-cooper/.local/lib/python3.6/site-packages/multiprocess/synchronize.py\", line 101, in __enter__\n",
      "    return self._semlock.__enter__()\n",
      "  File \"/home/cooper-cooper/.local/lib/python3.6/site-packages/multiprocess/pool.py\", line 108, in worker\n",
      "    task = get()\n",
      "  File \"/home/cooper-cooper/.local/lib/python3.6/site-packages/multiprocess/pool.py\", line 108, in worker\n",
      "    task = get()\n",
      "KeyboardInterrupt\n",
      "  File \"/home/cooper-cooper/.local/lib/python3.6/site-packages/multiprocess/process.py\", line 93, in run\n",
      "    self._target(*self._args, **self._kwargs)\n",
      "  File \"/home/cooper-cooper/.local/lib/python3.6/site-packages/multiprocess/queues.py\", line 338, in get\n",
      "    res = self._reader.recv_bytes()\n",
      "  File \"/home/cooper-cooper/.local/lib/python3.6/site-packages/multiprocess/queues.py\", line 337, in get\n",
      "    with self._rlock:\n",
      "  File \"/home/cooper-cooper/.local/lib/python3.6/site-packages/multiprocess/connection.py\", line 219, in recv_bytes\n",
      "    buf = self._recv_bytes(maxlength)\n",
      "  File \"/home/cooper-cooper/.local/lib/python3.6/site-packages/multiprocess/pool.py\", line 108, in worker\n",
      "    task = get()\n",
      "  File \"/home/cooper-cooper/.local/lib/python3.6/site-packages/multiprocess/synchronize.py\", line 101, in __enter__\n",
      "    return self._semlock.__enter__()\n",
      "KeyboardInterrupt\n",
      "  File \"/home/cooper-cooper/.local/lib/python3.6/site-packages/multiprocess/connection.py\", line 410, in _recv_bytes\n",
      "    buf = self._recv(4)\n",
      "  File \"/home/cooper-cooper/.local/lib/python3.6/site-packages/multiprocess/queues.py\", line 337, in get\n",
      "    with self._rlock:\n",
      "  File \"/home/cooper-cooper/.local/lib/python3.6/site-packages/multiprocess/connection.py\", line 382, in _recv\n",
      "    chunk = read(handle, remaining)\n",
      "  File \"/home/cooper-cooper/.local/lib/python3.6/site-packages/multiprocess/synchronize.py\", line 101, in __enter__\n",
      "    return self._semlock.__enter__()\n",
      "KeyboardInterrupt\n",
      "KeyboardInterrupt\n"
     ]
    }
   ],
   "source": [
    "for k in tqdm(range(30)):\n",
    "    circuit,symbols = give_circuit([number_of_cnots,number_of_cnots+1,number_of_cnots+2])\n",
    "\n",
    "    circuit_input = tf.keras.Input(shape=(), dtype=tf.string)\n",
    "    output = tfq.layers.Expectation(backend=cirq.DensityMatrixSimulator(noise=cirq.depolarize(0.00001)))(\n",
    "    circuit_input,\n",
    "    symbol_names=symbols,\n",
    "    operators=tfq.convert_to_tensor([observable]),\n",
    "    initializer=tf.keras.initializers.RandomNormal()) #we may change this!!!\n",
    "\n",
    "    model = tf.keras.Model(inputs=circuit_input, outputs=output)\n",
    "    adam = tf.keras.optimizers.Adam(learning_rate=0.01)\n",
    "    model.compile(optimizer=adam, loss='mse')\n",
    "\n",
    "    tfqcircuit = tfq.convert_to_tensor([circuit])\n",
    "    qoutput = tf.ones((1, 1))*-2.*n_qubits\n",
    "    \n",
    "    model.set_weights([tf.random.uniform((len(symbols),))])\n",
    "    model.fit(x=tfqcircuit, y=qoutput,validation_steps=None,\n",
    "              steps_per_epoch=1, batch_size=1, epochs=2, verbose=1, \n",
    "              callbacks=[tf.keras.callbacks.EarlyStopping(monitor='loss', patience=5)])"
   ]
  },
  {
   "cell_type": "raw",
   "metadata": {},
   "source": [
    "circuit,symbols = give_circuit([number_of_cnots,number_of_cnots+1,number_of_cnots+2])"
   ]
  },
  {
   "cell_type": "code",
   "execution_count": null,
   "metadata": {},
   "outputs": [],
   "source": [
    "np.squeeze(tf.math.reduce_sum(model.predict(tfqcircuit), axis=-1))"
   ]
  },
  {
   "cell_type": "code",
   "execution_count": null,
   "metadata": {},
   "outputs": [],
   "source": [
    "circuit_input = tf.keras.Input(shape=(), dtype=tf.string)\n",
    "output = tfq.layers.Expectation()(\n",
    "circuit_input,\n",
    "symbol_names=symbols,\n",
    "operators=tfq.convert_to_tensor([observable]),\n",
    "initializer=tf.keras.initializers.RandomNormal()) #we may change this!!!\n",
    "\n",
    "model = tf.keras.Model(inputs=circuit_input, outputs=output)\n",
    "adam = tf.keras.optimizers.Adam(learning_rate=0.01)\n",
    "model.compile(optimizer=adam, loss='mse')\n",
    "tfqcircuit = tfq.convert_to_tensor([circuit])\n",
    "qoutput = tf.ones((1, 1))*-2.*n_qubits\n",
    "model.fit(x=tfqcircuit, y=qoutput, batch_size=1, epochs=250, verbose=1, callbacks=[tf.keras.callbacks.EarlyStopping(monitor='loss', patience=5)])"
   ]
  },
  {
   "cell_type": "code",
   "execution_count": null,
   "metadata": {},
   "outputs": [],
   "source": [
    "np.squeeze(tf.math.reduce_sum(model.predict(tfqcircuit), axis=-1))"
   ]
  },
  {
   "cell_type": "code",
   "execution_count": null,
   "metadata": {},
   "outputs": [],
   "source": []
  }
 ],
 "metadata": {
  "kernelspec": {
   "display_name": "Python 3",
   "language": "python",
   "name": "python3"
  },
  "language_info": {
   "codemirror_mode": {
    "name": "ipython",
    "version": 3
   },
   "file_extension": ".py",
   "mimetype": "text/x-python",
   "name": "python",
   "nbconvert_exporter": "python",
   "pygments_lexer": "ipython3",
   "version": "3.6.9"
  }
 },
 "nbformat": 4,
 "nbformat_minor": 4
}
