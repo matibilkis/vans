{
 "cells": [
  {
   "cell_type": "code",
   "execution_count": 3,
   "metadata": {},
   "outputs": [],
   "source": [
    "import numpy as np\n",
    "import matplotlib.pyplot as plt\n",
    "\n",
    "js = np.load(\"results/xxz/data/jotas.npy\")\n",
    "ge = np.load(\"results/xxz/data/grounds9mar.npy\")\n",
    "energies = np.load(\"results/xxz/data/vanseners9mar.npy\")\n"
   ]
  },
  {
   "cell_type": "code",
   "execution_count": 7,
   "metadata": {},
   "outputs": [
    {
     "data": {
      "text/plain": [
       "array([-2.67028809e-05, -3.12805176e-05, -3.58581543e-05, -2.51770020e-05,\n",
       "       -4.69207764e-05, -2.67028809e-05, -3.31878662e-05, -2.44140625e-05,\n",
       "       -2.13623047e-05, -2.59399414e-05, -2.28881836e-05, -1.98364258e-05,\n",
       "       -2.25067139e-05, -2.13623047e-05, -1.06811524e-05, -1.90734863e-05,\n",
       "       -1.60217285e-05, -1.48773193e-05, -1.37329102e-05, -1.44958496e-05,\n",
       "       -1.71661377e-05, -1.79290772e-05, -1.20162964e-05, -1.18255615e-05,\n",
       "       -1.25885010e-05,  9.53674316e-07,  2.82287599e-05,  4.99415586e-02,\n",
       "        6.17471677e-03,  4.09887798e-02,  9.24135223e-02,  5.93654990e-02,\n",
       "        1.43435872e-01,  1.48719791e-01,  5.00750322e-01,  1.40870609e-01,\n",
       "        7.14851325e-02,  2.31620978e-01,  1.00575086e-01,  7.76827352e-02,\n",
       "        5.15896697e-02,  5.96831735e-03,  8.20700694e-03,  7.57005357e-03,\n",
       "        8.24715248e-02,  1.03482937e-01,  9.93530706e-02,  1.71950231e-01,\n",
       "        4.07419330e-02,  8.31361159e-03])"
      ]
     },
     "execution_count": 7,
     "metadata": {},
     "output_type": "execute_result"
    }
   ],
   "source": [
    "energies-ge"
   ]
  },
  {
   "cell_type": "code",
   "execution_count": null,
   "metadata": {},
   "outputs": [],
   "source": []
  }
 ],
 "metadata": {
  "kernelspec": {
   "display_name": "Python 3",
   "language": "python",
   "name": "python3"
  },
  "language_info": {
   "codemirror_mode": {
    "name": "ipython",
    "version": 3
   },
   "file_extension": ".py",
   "mimetype": "text/x-python",
   "name": "python",
   "nbconvert_exporter": "python",
   "pygments_lexer": "ipython3",
   "version": "3.6.9"
  }
 },
 "nbformat": 4,
 "nbformat_minor": 4
}
