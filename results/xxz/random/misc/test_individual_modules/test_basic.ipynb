{
 "cells": [
  {
   "cell_type": "code",
   "execution_count": 1,
   "metadata": {},
   "outputs": [],
   "source": [
    "import numpy as np\n",
    "from circuit_basics import Basic\n",
    "charly = Basic(n_qubits=10)"
   ]
  },
  {
   "cell_type": "code",
   "execution_count": 2,
   "metadata": {},
   "outputs": [
    {
     "data": {
      "text/plain": [
       "((0, 0): ───Rz(th_0)───\n",
       "\n",
       "(0, 1): ───Rz(th_1)───\n",
       "\n",
       "(0, 2): ───Rz(th_2)───\n",
       "\n",
       "(0, 3): ───Rz(th_3)───\n",
       "\n",
       "(0, 4): ───Rz(th_4)───\n",
       "\n",
       "(0, 5): ───Rz(th_5)───\n",
       "\n",
       "(0, 6): ───Rz(th_6)───\n",
       "\n",
       "(0, 7): ───Rz(th_7)───\n",
       "\n",
       "(0, 8): ───Rz(th_8)───\n",
       "\n",
       "(0, 9): ───Rz(th_9)───,\n",
       " ['th_0',\n",
       "  'th_1',\n",
       "  'th_2',\n",
       "  'th_3',\n",
       "  'th_4',\n",
       "  'th_5',\n",
       "  'th_6',\n",
       "  'th_7',\n",
       "  'th_8',\n",
       "  'th_9'],\n",
       " {0: 'th_0',\n",
       "  1: 'th_1',\n",
       "  2: 'th_2',\n",
       "  3: 'th_3',\n",
       "  4: 'th_4',\n",
       "  5: 'th_5',\n",
       "  6: 'th_6',\n",
       "  7: 'th_7',\n",
       "  8: 'th_8',\n",
       "  9: 'th_9'})"
      ]
     },
     "execution_count": 2,
     "metadata": {},
     "output_type": "execute_result"
    }
   ],
   "source": [
    "charly.give_circuit(np.arange(10)+charly.number_of_cnots)"
   ]
  },
  {
   "cell_type": "code",
   "execution_count": 5,
   "metadata": {},
   "outputs": [
    {
     "data": {
      "text/plain": [
       "((0, 0): ───Rx(th_0)───\n",
       "\n",
       "(0, 1): ───Rx(th_1)───\n",
       "\n",
       "(0, 2): ───Rx(th_2)───\n",
       "\n",
       "(0, 3): ───Rx(th_3)───\n",
       "\n",
       "(0, 4): ───Rx(th_4)───\n",
       "\n",
       "(0, 5): ───Rx(th_5)───\n",
       "\n",
       "(0, 6): ───Rx(th_6)───\n",
       "\n",
       "(0, 7): ───Rx(th_7)───\n",
       "\n",
       "(0, 8): ───Rx(th_8)───\n",
       "\n",
       "(0, 9): ───Rx(th_9)───,\n",
       " ['th_0',\n",
       "  'th_1',\n",
       "  'th_2',\n",
       "  'th_3',\n",
       "  'th_4',\n",
       "  'th_5',\n",
       "  'th_6',\n",
       "  'th_7',\n",
       "  'th_8',\n",
       "  'th_9'],\n",
       " {0: 'th_0',\n",
       "  1: 'th_1',\n",
       "  2: 'th_2',\n",
       "  3: 'th_3',\n",
       "  4: 'th_4',\n",
       "  5: 'th_5',\n",
       "  6: 'th_6',\n",
       "  7: 'th_7',\n",
       "  8: 'th_8',\n",
       "  9: 'th_9'})"
      ]
     },
     "execution_count": 5,
     "metadata": {},
     "output_type": "execute_result"
    }
   ],
   "source": [
    "charly.give_circuit(np.arange(10)+(charly.number_of_cnots+charly.n_qubits))"
   ]
  },
  {
   "cell_type": "code",
   "execution_count": 7,
   "metadata": {},
   "outputs": [
    {
     "data": {
      "text/plain": [
       "(                                   ┌──┐               ┌──┐\n",
       "(0, 0): ───@───@───@───@───X─────────X──────────────────X────────────────X───────────────\n",
       "           │   │   │   │   │         │                  │                │\n",
       "(0, 1): ───X───┼───┼───┼───@───@────@┼────@───X─────────┼────X───────────┼───X───────────\n",
       "               │   │   │       │    ││    │   │         │    │           │   │\n",
       "(0, 2): ───────X───┼───┼───────X────┼@────┼───@───@────@┼────┼───X───────┼───┼───X───────\n",
       "                   │   │            │     │       │    ││    │   │       │   │   │\n",
       "(0, 3): ───────────X───┼────────────X─────┼───────X────┼@────@───@───@───┼───┼───┼───X───\n",
       "                       │                  │            │             │   │   │   │   │\n",
       "(0, 4): ───────────────X──────────────────X────────────X─────────────X───@───@───@───@───\n",
       "                                   └──┘               └──┘,\n",
       " [],\n",
       " {0: [],\n",
       "  1: [],\n",
       "  2: [],\n",
       "  3: [],\n",
       "  4: [],\n",
       "  5: [],\n",
       "  6: [],\n",
       "  7: [],\n",
       "  8: [],\n",
       "  9: [],\n",
       "  10: [],\n",
       "  11: [],\n",
       "  12: [],\n",
       "  13: [],\n",
       "  14: [],\n",
       "  15: [],\n",
       "  16: [],\n",
       "  17: [],\n",
       "  18: [],\n",
       "  19: []})"
      ]
     },
     "execution_count": 7,
     "metadata": {},
     "output_type": "execute_result"
    }
   ],
   "source": [
    "charly = Basic(n_qubits=5)\n",
    "charly.give_circuit(range(charly.number_of_cnots))"
   ]
  }
 ],
 "metadata": {
  "kernelspec": {
   "display_name": "Python 3",
   "language": "python",
   "name": "python3"
  },
  "language_info": {
   "codemirror_mode": {
    "name": "ipython",
    "version": 3
   },
   "file_extension": ".py",
   "mimetype": "text/x-python",
   "name": "python",
   "nbconvert_exporter": "python",
   "pygments_lexer": "ipython3",
   "version": "3.6.9"
  }
 },
 "nbformat": 4,
 "nbformat_minor": 4
}
