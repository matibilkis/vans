{
 "cells": [
  {
   "cell_type": "code",
   "execution_count": 1,
   "metadata": {},
   "outputs": [],
   "source": [
    "from idinserter import IdInserter\n",
    "import numpy as np"
   ]
  },
  {
   "cell_type": "code",
   "execution_count": 2,
   "metadata": {},
   "outputs": [],
   "source": [
    "iid = IdInserter(n_qubits=3)"
   ]
  },
  {
   "cell_type": "code",
   "execution_count": 3,
   "metadata": {},
   "outputs": [
    {
     "data": {
      "text/html": [
       "<pre style=\"overflow: auto; white-space: pre;\">                          ┌─────────┐\n",
       "(0, 0): ───Rz(th_0)───@────X───────────────────────\n",
       "                      │    │\n",
       "(0, 1): ───Rz(th_1)───X────┼Rx(th_3)───────────────\n",
       "                           │\n",
       "(0, 2): ───Rz(th_2)────────@────────────Rx(th_4)───\n",
       "                          └─────────┘</pre>"
      ],
      "text/plain": [
       "                          ┌─────────┐\n",
       "(0, 0): ───Rz(th_0)───@────X───────────────────────\n",
       "                      │    │\n",
       "(0, 1): ───Rz(th_1)───X────┼Rx(th_3)───────────────\n",
       "                           │\n",
       "(0, 2): ───Rz(th_2)────────@────────────Rx(th_4)───\n",
       "                          └─────────┘"
      ]
     },
     "execution_count": 3,
     "metadata": {},
     "output_type": "execute_result"
    }
   ],
   "source": [
    "inds = [6,7,8,0,4,10,11]\n",
    "c,s,idx_to_s=iid.give_circuit(inds)\n",
    "c"
   ]
  },
  {
   "cell_type": "code",
   "execution_count": 4,
   "metadata": {},
   "outputs": [
    {
     "data": {
      "text/html": [
       "<pre style=\"overflow: auto; white-space: pre;\">                            ┌────────────┐\n",
       "(0, 0): ───Rz(0.271π)───@────X─────────────────────────────\n",
       "                        │    │\n",
       "(0, 1): ───Rz(0.323π)───X────┼Rx(-0.148π)──────────────────\n",
       "                             │\n",
       "(0, 2): ───Rz(0.127π)────────@───────────────Rx(-0.166π)───\n",
       "                            └────────────┘</pre>"
      ],
      "text/plain": [
       "                            ┌────────────┐\n",
       "(0, 0): ───Rz(0.271π)───@────X─────────────────────────────\n",
       "                        │    │\n",
       "(0, 1): ───Rz(0.323π)───X────┼Rx(-0.148π)──────────────────\n",
       "                             │\n",
       "(0, 2): ───Rz(0.127π)────────@───────────────Rx(-0.166π)───\n",
       "                            └────────────┘"
      ]
     },
     "execution_count": 4,
     "metadata": {},
     "output_type": "execute_result"
    }
   ],
   "source": [
    "res={ss:k for ss,k in zip(s, np.random.randn(len(s)))}\n",
    "iid.give_unitary(inds,res)"
   ]
  },
  {
   "cell_type": "markdown",
   "metadata": {},
   "source": [
    "### now we append a block"
   ]
  },
  {
   "cell_type": "code",
   "execution_count": 29,
   "metadata": {},
   "outputs": [
    {
     "data": {
      "text/html": [
       "<pre style=\"overflow: auto; white-space: pre;\">                                                                                     ┌────────────┐\n",
       "(0, 0): ───Rz(0.271π)───@───Rz(0.032π)───Rx(0.032π)───Rz(-0.032π)───@───@─────────────X─────────────────────────────\n",
       "                        │                                           │   │             │\n",
       "(0, 1): ───Rz(0.323π)───┼───────────────────────────────────────────┼───X─────────────┼Rx(-0.148π)──────────────────\n",
       "                        │                                           │                 │\n",
       "(0, 2): ────────────────X───Rz(0.032π)───Rx(0.032π)───Rz(-0.032π)───X───Rz(0.127π)────@───────────────Rx(-0.166π)───\n",
       "                                                                                     └────────────┘</pre>"
      ],
      "text/plain": [
       "                                                                                     ┌────────────┐\n",
       "(0, 0): ───Rz(0.271π)───@───Rz(0.032π)───Rx(0.032π)───Rz(-0.032π)───@───@─────────────X─────────────────────────────\n",
       "                        │                                           │   │             │\n",
       "(0, 1): ───Rz(0.323π)───┼───────────────────────────────────────────┼───X─────────────┼Rx(-0.148π)──────────────────\n",
       "                        │                                           │                 │\n",
       "(0, 2): ────────────────X───Rz(0.032π)───Rx(0.032π)───Rz(-0.032π)───X───Rz(0.127π)────@───────────────Rx(-0.166π)───\n",
       "                                                                                     └────────────┘"
      ]
     },
     "execution_count": 29,
     "metadata": {},
     "output_type": "execute_result"
    }
   ],
   "source": [
    "ic, ires, iind = iid.randomly_place_almost_identity(inds,res)\n",
    "iid.give_unitary(ic, ires)"
   ]
  },
  {
   "cell_type": "code",
   "execution_count": 30,
   "metadata": {},
   "outputs": [
    {
     "data": {
      "text/plain": [
       "{0: 'th_0',\n",
       " 1: 'th_1',\n",
       " 2: [],\n",
       " 3: 'th_2',\n",
       " 4: 'th_3',\n",
       " 5: 'th_4',\n",
       " 6: 'th_5',\n",
       " 7: 'th_6',\n",
       " 8: 'th_7',\n",
       " 9: [],\n",
       " 10: 'th_8',\n",
       " 11: [],\n",
       " 12: [],\n",
       " 13: 'th_9',\n",
       " 14: 'th_10'}"
      ]
     },
     "execution_count": 30,
     "metadata": {},
     "output_type": "execute_result"
    }
   ],
   "source": [
    "iind"
   ]
  },
  {
   "cell_type": "code",
   "execution_count": 34,
   "metadata": {},
   "outputs": [
    {
     "data": {
      "text/plain": [
       "{0: 'th_0', 1: 'th_1', 2: 'th_2', 3: [], 4: [], 5: 'th_3', 6: 'th_4'}"
      ]
     },
     "execution_count": 34,
     "metadata": {},
     "output_type": "execute_result"
    }
   ],
   "source": [
    "idx_to_s"
   ]
  },
  {
   "cell_type": "code",
   "execution_count": 35,
   "metadata": {},
   "outputs": [
    {
     "data": {
      "text/html": [
       "<pre style=\"overflow: auto; white-space: pre;\">                          ┌─────────┐\n",
       "(0, 0): ───Rz(th_0)───@────X───────────────────────\n",
       "                      │    │\n",
       "(0, 1): ───Rz(th_1)───X────┼Rx(th_3)───────────────\n",
       "                           │\n",
       "(0, 2): ───Rz(th_2)────────@────────────Rx(th_4)───\n",
       "                          └─────────┘</pre>"
      ],
      "text/plain": [
       "                          ┌─────────┐\n",
       "(0, 0): ───Rz(th_0)───@────X───────────────────────\n",
       "                      │    │\n",
       "(0, 1): ───Rz(th_1)───X────┼Rx(th_3)───────────────\n",
       "                           │\n",
       "(0, 2): ───Rz(th_2)────────@────────────Rx(th_4)───\n",
       "                          └─────────┘"
      ]
     },
     "execution_count": 35,
     "metadata": {},
     "output_type": "execute_result"
    }
   ],
   "source": [
    "c"
   ]
  },
  {
   "cell_type": "code",
   "execution_count": null,
   "metadata": {},
   "outputs": [],
   "source": []
  }
 ],
 "metadata": {
  "kernelspec": {
   "display_name": "Python 3",
   "language": "python",
   "name": "python3"
  },
  "language_info": {
   "codemirror_mode": {
    "name": "ipython",
    "version": 3
   },
   "file_extension": ".py",
   "mimetype": "text/x-python",
   "name": "python",
   "nbconvert_exporter": "python",
   "pygments_lexer": "ipython3",
   "version": "3.6.9"
  }
 },
 "nbformat": 4,
 "nbformat_minor": 4
}
