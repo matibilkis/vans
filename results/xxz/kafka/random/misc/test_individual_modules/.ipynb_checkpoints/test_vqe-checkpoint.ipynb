{
 "cells": [
  {
   "cell_type": "code",
   "execution_count": 29,
   "metadata": {},
   "outputs": [],
   "source": [
    "from variational import VQE\n",
    "from circuit_basics import Basic\n",
    "import numpy as np\n",
    "import cirq"
   ]
  },
  {
   "cell_type": "markdown",
   "metadata": {},
   "source": [
    "### Stupid example number 1: three qubits"
   ]
  },
  {
   "cell_type": "code",
   "execution_count": 18,
   "metadata": {},
   "outputs": [
    {
     "data": {
      "text/plain": [
       "((0, 0): ───Rz(th_0)───\n",
       "\n",
       "(0, 1): ───Rz(th_1)───\n",
       "\n",
       "(0, 2): ───Rz(th_2)───,\n",
       " ['th_0', 'th_1', 'th_2'],\n",
       " {0: 'th_0', 1: 'th_1', 2: 'th_2'})"
      ]
     },
     "execution_count": 18,
     "metadata": {},
     "output_type": "execute_result"
    }
   ],
   "source": [
    "bob = VQE(lr=0.01,epochs=2000)\n",
    "bob.give_circuit([6,7,8])"
   ]
  },
  {
   "cell_type": "code",
   "execution_count": 9,
   "metadata": {},
   "outputs": [
    {
     "data": {
      "text/plain": [
       "(array(-1.5, dtype=float32),\n",
       " {'th_0': 2.7857838, 'th_1': -1.1969179, 'th_2': -0.8617432},\n",
       " <tensorflow.python.keras.callbacks.History at 0x7f0190145860>)"
      ]
     },
     "execution_count": 9,
     "metadata": {},
     "output_type": "execute_result"
    }
   ],
   "source": [
    "bob.vqe([6,7,8])"
   ]
  },
  {
   "cell_type": "markdown",
   "metadata": {},
   "source": [
    "### Stupid example number 2: four qubits"
   ]
  },
  {
   "cell_type": "code",
   "execution_count": 3,
   "metadata": {},
   "outputs": [],
   "source": [
    "import tensorflow_quantum as tfq"
   ]
  },
  {
   "cell_type": "code",
   "execution_count": 4,
   "metadata": {},
   "outputs": [
    {
     "ename": "AttributeError",
     "evalue": "module 'tensorflow_quantum' has no attribute 'reduce_sum'",
     "output_type": "error",
     "traceback": [
      "\u001b[0;31m---------------------------------------------------------------------------\u001b[0m",
      "\u001b[0;31mAttributeError\u001b[0m                            Traceback (most recent call last)",
      "\u001b[0;32m<ipython-input-4-66927f299e7e>\u001b[0m in \u001b[0;36m<module>\u001b[0;34m\u001b[0m\n\u001b[0;32m----> 1\u001b[0;31m \u001b[0mtfq\u001b[0m\u001b[0;34m.\u001b[0m\u001b[0mreduce_sum\u001b[0m\u001b[0;34m(\u001b[0m\u001b[0;34m)\u001b[0m\u001b[0;34m\u001b[0m\u001b[0;34m\u001b[0m\u001b[0m\n\u001b[0m",
      "\u001b[0;31mAttributeError\u001b[0m: module 'tensorflow_quantum' has no attribute 'reduce_sum'"
     ]
    }
   ],
   "source": [
    "tfq."
   ]
  },
  {
   "cell_type": "code",
   "execution_count": null,
   "metadata": {},
   "outputs": [],
   "source": []
  },
  {
   "cell_type": "code",
   "execution_count": null,
   "metadata": {},
   "outputs": [],
   "source": []
  },
  {
   "cell_type": "code",
   "execution_count": 15,
   "metadata": {},
   "outputs": [
    {
     "data": {
      "text/plain": [
       "((0, 0): ───Rx(th_0)───\n",
       "\n",
       "(0, 1): ───Rx(th_1)───\n",
       "\n",
       "(0, 2): ───Rx(th_2)───\n",
       "\n",
       "(0, 3): ───Rx(th_3)───,\n",
       " ['th_0', 'th_1', 'th_2', 'th_3'],\n",
       " {0: 'th_0', 1: 'th_1', 2: 'th_2', 3: 'th_3'})"
      ]
     },
     "execution_count": 15,
     "metadata": {},
     "output_type": "execute_result"
    }
   ],
   "source": [
    "bob = VQE(lr=0.01,epochs=2000, n_qubits=4)\n",
    "indices = np.arange(bob.n_qubits)+bob.number_of_cnots+bob.n_qubits\n",
    "bob.give_circuit(indices)"
   ]
  },
  {
   "cell_type": "code",
   "execution_count": 17,
   "metadata": {},
   "outputs": [
    {
     "data": {
      "text/plain": [
       "(array(-1.9999996, dtype=float32),\n",
       " {'th_0': -0.00049141404,\n",
       "  'th_1': -0.0007600637,\n",
       "  'th_2': -0.0010592847,\n",
       "  'th_3': -0.00051656086},\n",
       " <tensorflow.python.keras.callbacks.History at 0x7f017017e208>)"
      ]
     },
     "execution_count": 17,
     "metadata": {},
     "output_type": "execute_result"
    }
   ],
   "source": [
    "bob.vqe(indices)"
   ]
  },
  {
   "cell_type": "markdown",
   "metadata": {},
   "source": [
    "### Loading parameters into model (just a random check)"
   ]
  },
  {
   "cell_type": "code",
   "execution_count": 26,
   "metadata": {},
   "outputs": [
    {
     "data": {
      "text/html": [
       "<pre style=\"overflow: auto; white-space: pre;\">                              ┌─────────┐\n",
       "(0, 0): ───Rx(th_0)───@───@────@────────────X──────────Rz(th_4)───\n",
       "                      │   │    │            │\n",
       "(0, 1): ───Rx(th_1)───X───┼────┼────────────@──────────Rz(th_5)───\n",
       "                          │    │\n",
       "(0, 2): ───Rx(th_2)───────X────┼Rz(th_6)──────────────────────────\n",
       "                               │\n",
       "(0, 3): ───Rx(th_3)────────────X────────────Rz(th_7)──────────────\n",
       "                              └─────────┘</pre>"
      ],
      "text/plain": [
       "                              ┌─────────┐\n",
       "(0, 0): ───Rx(th_0)───@───@────@────────────X──────────Rz(th_4)───\n",
       "                      │   │    │            │\n",
       "(0, 1): ───Rx(th_1)───X───┼────┼────────────@──────────Rz(th_5)───\n",
       "                          │    │\n",
       "(0, 2): ───Rx(th_2)───────X────┼Rz(th_6)──────────────────────────\n",
       "                               │\n",
       "(0, 3): ───Rx(th_3)────────────X────────────Rz(th_7)──────────────\n",
       "                              └─────────┘"
      ]
     },
     "execution_count": 26,
     "metadata": {},
     "output_type": "execute_result"
    }
   ],
   "source": [
    "bob = VQE(lr=0.01,epochs=2000, n_qubits=4)\n",
    "indices = list(np.arange(bob.n_qubits)+bob.number_of_cnots+bob.n_qubits)\n",
    "for l in range(4):\n",
    "    indices.append(l)\n",
    "for k in list(np.arange(bob.n_qubits)+bob.number_of_cnots):\n",
    "    indices.append(k)\n",
    "circuit, symbols, index_to_symbol = bob.give_circuit(indices)\n",
    "circuit"
   ]
  },
  {
   "cell_type": "code",
   "execution_count": 30,
   "metadata": {},
   "outputs": [
    {
     "data": {
      "text/html": [
       "<pre style=\"overflow: auto; white-space: pre;\">                                 ┌───────────┐\n",
       "(0, 0): ───Rx(1.45π)─────@───@────@──────────────X─────────────Rz(-0.42π)───\n",
       "                         │   │    │              │\n",
       "(0, 1): ───Rx(-0.022π)───X───┼────┼──────────────@─────────────Rz(0.433π)───\n",
       "                             │    │\n",
       "(0, 2): ───Rx(-0.069π)───────X────┼Rz(0.629π)───────────────────────────────\n",
       "                                  │\n",
       "(0, 3): ───Rx(0.441π)─────────────X──────────────Rz(-0.027π)────────────────\n",
       "                                 └───────────┘</pre>"
      ],
      "text/plain": [
       "                                 ┌───────────┐\n",
       "(0, 0): ───Rx(1.45π)─────@───@────@──────────────X─────────────Rz(-0.42π)───\n",
       "                         │   │    │              │\n",
       "(0, 1): ───Rx(-0.022π)───X───┼────┼──────────────@─────────────Rz(0.433π)───\n",
       "                             │    │\n",
       "(0, 2): ───Rx(-0.069π)───────X────┼Rz(0.629π)───────────────────────────────\n",
       "                                  │\n",
       "(0, 3): ───Rx(0.441π)─────────────X──────────────Rz(-0.027π)────────────────\n",
       "                                 └───────────┘"
      ]
     },
     "execution_count": 30,
     "metadata": {},
     "output_type": "execute_result"
    }
   ],
   "source": [
    "resolver = {s:k for s,k in zip(symbols, np.pi*np.random.randn(len(symbols)))}\n",
    "cirq.resolve_parameters(circuit, resolver)"
   ]
  },
  {
   "cell_type": "code",
   "execution_count": 35,
   "metadata": {},
   "outputs": [],
   "source": [
    "charly = VQE(lr=0.01,epochs=2000, n_qubits=4, random_perturbations=False)\n",
    "modelito = charly.TFQ_model(symbols, resolver)"
   ]
  },
  {
   "cell_type": "code",
   "execution_count": 36,
   "metadata": {},
   "outputs": [
    {
     "data": {
      "text/plain": [
       "array([ 1.4482538 , -0.02235573, -0.06946884,  0.4413845 , -0.42012054,\n",
       "        0.43295857,  0.62949127, -0.02657553], dtype=float32)"
      ]
     },
     "execution_count": 36,
     "metadata": {},
     "output_type": "execute_result"
    }
   ],
   "source": [
    "modelito.trainable_variables[0].numpy()/np.pi"
   ]
  },
  {
   "cell_type": "markdown",
   "metadata": {},
   "source": [
    "### Here it'd be nice to compare curve obtained from the exact solution and the VQE."
   ]
  },
  {
   "cell_type": "code",
   "execution_count": null,
   "metadata": {},
   "outputs": [],
   "source": []
  }
 ],
 "metadata": {
  "kernelspec": {
   "display_name": "Python 3",
   "language": "python",
   "name": "python3"
  },
  "language_info": {
   "codemirror_mode": {
    "name": "ipython",
    "version": 3
   },
   "file_extension": ".py",
   "mimetype": "text/x-python",
   "name": "python",
   "nbconvert_exporter": "python",
   "pygments_lexer": "ipython3",
   "version": "3.6.9"
  }
 },
 "nbformat": 4,
 "nbformat_minor": 4
}
