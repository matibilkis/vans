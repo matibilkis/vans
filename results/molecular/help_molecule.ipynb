{
 "cells": [
  {
   "cell_type": "code",
   "execution_count": 1,
   "metadata": {},
   "outputs": [],
   "source": [
    "from utilities.evaluator import Evaluator\n",
    "import numpy as np\n",
    "import matplotlib.pyplot as plt\n",
    "from IPython import display\n",
    "from tqdm import tqdm\n",
    "from utilities.misc import dict_to_json\n",
    "%load_ext autoreload\n",
    "%autoreload 2"
   ]
  },
  {
   "cell_type": "code",
   "execution_count": 2,
   "metadata": {},
   "outputs": [],
   "source": [
    "bond=1.5\n",
    "problem_config={\"problem\" : \"H4\", \"geometry\": str([('H', (0., 0., 0.)), ('H', (0., 0., bond)), ('H', (0., 0., 2*bond)), ('H', (0., 0., 3*bond))]).replace(\"'\",\"\"), \"multiplicity\":1, \"charge\":0, \"basis\":\"sto-3g\"}\n",
    "arguss= {\"n_qubits\":8,\"problem_config\":problem_config,\"specific_name\":\"_rate_{}\".format(1.0), \"noise_config\":{}}\n",
    "evaluator = Evaluator(args=arguss,loading=True,path=\"../data-vans/\",nrun_load=3)"
   ]
  },
  {
   "cell_type": "code",
   "execution_count": 3,
   "metadata": {},
   "outputs": [],
   "source": [
    "from utilities.variational import VQE\n",
    "from utilities.evaluator import Evaluator\n",
    "from utilities.idinserter import IdInserter\n",
    "from utilities.simplifier import Simplifier\n",
    "from utilities.unitary_killer import UnitaryMurder\n",
    "\n",
    "bond=1.5\n",
    "problem_config ={\"problem\" : \"H4\", \n",
    "                               \"geometry\": [('H', (0., 0., 0.)), ('H', (0., 0., bond)), ('H', (0., 0., 2*bond)), ('H', (0., 0., 3*bond))], \n",
    "                               \"multiplicity\":1, \"charge\":0, \"basis\":\"sto-3g\"}\n",
    "q=8\n",
    "vqe_handler = VQE(n_qubits=q, lr=0.01, epochs=2000,\n",
    "                    noise_config={}, problem_config=problem_config,\n",
    "                    patience=200, random_perturbations=True, \n",
    "                  return_lower_bound=1, optimizer=\"adam\")\n",
    "\n",
    "iid = IdInserter(n_qubits=len(vqe_handler.qubits))\n",
    "Simp = Simplifier(n_qubits=len(vqe_handler.qubits))\n",
    "killer = UnitaryMurder(vqe_handler, noise_config={})\n"
   ]
  },
  {
   "cell_type": "code",
   "execution_count": 6,
   "metadata": {},
   "outputs": [
    {
     "data": {
      "text/html": [
       "<pre style=\"overflow: auto; white-space: pre;\">                                                ┌───────────┐   ┌───────────┐                               ┌──┐   ┌──┐               ┌──┐                    ┌──────────┐       ┌──────────┐                 ┌────────────────────┐                ┌───────────┐   ┌───────────┐                    ┌──────────┐   ┌───────────┐   ┌───────────┐   ┌───────────┐\n",
       "(0, 0): ────────────────────────────X───────@────Rz(1.65π)───────@──────────────────────────────────────X─────@────────────────────────@──────────────────@────@───────────────────────────X────Rz(0.376π)─────Rx(-1.63π)──────────────Rz(-0.58π)────X──────────────────────────────────@──────────────────────X───────────────────────────────X─────────────────────────────────────────────────────────────────────\n",
       "                                    │       │                    │                                      │     │                        │                  │    │                           │                                                         │                                  │                      │                               │\n",
       "(0, 1): ───Rx(0.198π)───@───────@───┼───────┼────────────────────┼──────────────────────────────────────┼─────┼────────────────────────┼──────────────────┼────┼─────────────@────Rz(1.57π)┼─────────────────────────────────────────────────────────┼──────────────────────────────@───X─────────────@────────┼───────────────X───────────────┼───────────────X─────────────────────────────────────────────────────\n",
       "                        │       │   │       │                    │                                      │     │                        │                  │    │             │             │                                                         │                              │                 │        │               │               │               │\n",
       "(0, 2): ───Rx(0.508π)───X───@───X───@───────┼────────────────────┼──────────────────X───Rz(1.4π)────X───@────@┼──────X─────────────────┼X─────────────────┼────┼─────────────┼────@────────┼────Rz(1.92π)──────@───────────────────────@─────────────┼Rx(0.518π)───────────────@────┼─────────────────X────────┼─────@─────────┼───────────────┼───────────────┼──────────────────────X──────────────X───────────────\n",
       "                            │               │                    │                  │               │        ││      │                 ││                 │    │             │    │        │                   │                       │             │                         │    │                          │     │         │               │               │                      │              │\n",
       "(0, 3): ────────────────────X───@───────────┼────────────────────┼──────────────────┼───────────────┼────────X┼─────@┼─────────────────┼┼─────────────────┼────┼─────────────┼────┼────────┼───────────────────┼───────────────────────┼─────────────┼─────────────────────────┼────┼──────────────────────────┼─────X─────────┼─────@─────────┼──────────────@┼────Rz(-0.008π)───@───┼──────────────┼───────────────\n",
       "                                │           │                    │                  │               │         │     ││                 ││                 │    │             │    │        │                   │                       │             │                         │    │                          │               │     │         │              ││                  │   │              │\n",
       "(0, 4): ────────────────X───────X───@───────┼──────────────@─────┼Rz(0.844π)────@───┼───────────────┼─────────┼─────X┼────@────────────X┼────Rz(0.523π)───X────┼Rz(1.26π)────X────┼────────@────Rx(1.32π)──────┼─────────Rz(0.588π)────┼─────────────@───────────────Rz(0.543π)┼────X───Rz(0.336π)────Rx(1.01π)┼─────Rz(1.7π)──┼─────X─────────┼─────Rz(1.18π)┼┼────Rx(0.499π)────┼───┼──────────────┼───@───────────\n",
       "                        │           │       │              │     │              │   │               │         │      │    │             │                      │                  │                            │                       │                                       │                               │               │               │              ││                  │   │              │   │\n",
       "(0, 5): ────────────────┼───────────X───@───X────Rz(1.5π)──┼─────X──────────────┼───┼───────────────┼─────────┼──────┼────X─────────────┼──────────────────────┼─────────────@────X─────────────Rz(-0.682π)────X───────────────────────┼───────────────────────────────────────┼───────────────────────────────┼───────────────┼───────────────┼──────────────X┼────Rz(1.62π)─────X───@───Rz(1.5π)───@───X───@───────\n",
       "                        │               │                  │                    │   │               │         │      │                  │                      │             │                                                         │                                       │                               │               │               │               │                                             │\n",
       "(0, 6): ───Rx(1.64π)────@───────────────X───@──────────────X────────────────────X───@───Rz(0.42π)───@─────────X──────@────Rz(1.74π)─────@──────────────────────X─────────────X────@────────────────────────────────────────────────────X───────────────────────────────────────X───────────────────────────────@─────Rz(0.497π)┼───────────────@───────────────┼─────────────────────────────────────────────X───@───\n",
       "                                            │                                                                                                                                     │                                                                                                                                            │                               │                                                 │\n",
       "(0, 7): ────────────────────────────────────X────Rz(0.184π)───────────────────────────────────────────────────────────────────────────────────────────────────────────────────────X─────────────Rz(1.36π)──────────────────────────────────────────────────────────────────────────────────────────────────────────────────────@─────Rz(0.134π)────────────────@─────────────────────────────────────────────────X───\n",
       "                                                └───────────┘   └───────────┘                               └──┘   └──┘               └──┘                    └──────────┘       └──────────┘                 └────────────────────┘                └───────────┘   └───────────┘                    └──────────┘   └───────────┘   └───────────┘   └───────────┘</pre>"
      ],
      "text/plain": [
       "                                                ┌───────────┐   ┌───────────┐                               ┌──┐   ┌──┐               ┌──┐                    ┌──────────┐       ┌──────────┐                 ┌────────────────────┐                ┌───────────┐   ┌───────────┐                    ┌──────────┐   ┌───────────┐   ┌───────────┐   ┌───────────┐\n",
       "(0, 0): ────────────────────────────X───────@────Rz(1.65π)───────@──────────────────────────────────────X─────@────────────────────────@──────────────────@────@───────────────────────────X────Rz(0.376π)─────Rx(-1.63π)──────────────Rz(-0.58π)────X──────────────────────────────────@──────────────────────X───────────────────────────────X─────────────────────────────────────────────────────────────────────\n",
       "                                    │       │                    │                                      │     │                        │                  │    │                           │                                                         │                                  │                      │                               │\n",
       "(0, 1): ───Rx(0.198π)───@───────@───┼───────┼────────────────────┼──────────────────────────────────────┼─────┼────────────────────────┼──────────────────┼────┼─────────────@────Rz(1.57π)┼─────────────────────────────────────────────────────────┼──────────────────────────────@───X─────────────@────────┼───────────────X───────────────┼───────────────X─────────────────────────────────────────────────────\n",
       "                        │       │   │       │                    │                                      │     │                        │                  │    │             │             │                                                         │                              │                 │        │               │               │               │\n",
       "(0, 2): ───Rx(0.508π)───X───@───X───@───────┼────────────────────┼──────────────────X───Rz(1.4π)────X───@────@┼──────X─────────────────┼X─────────────────┼────┼─────────────┼────@────────┼────Rz(1.92π)──────@───────────────────────@─────────────┼Rx(0.518π)───────────────@────┼─────────────────X────────┼─────@─────────┼───────────────┼───────────────┼──────────────────────X──────────────X───────────────\n",
       "                            │               │                    │                  │               │        ││      │                 ││                 │    │             │    │        │                   │                       │             │                         │    │                          │     │         │               │               │                      │              │\n",
       "(0, 3): ────────────────────X───@───────────┼────────────────────┼──────────────────┼───────────────┼────────X┼─────@┼─────────────────┼┼─────────────────┼────┼─────────────┼────┼────────┼───────────────────┼───────────────────────┼─────────────┼─────────────────────────┼────┼──────────────────────────┼─────X─────────┼─────@─────────┼──────────────@┼────Rz(-0.008π)───@───┼──────────────┼───────────────\n",
       "                                │           │                    │                  │               │         │     ││                 ││                 │    │             │    │        │                   │                       │             │                         │    │                          │               │     │         │              ││                  │   │              │\n",
       "(0, 4): ────────────────X───────X───@───────┼──────────────@─────┼Rz(0.844π)────@───┼───────────────┼─────────┼─────X┼────@────────────X┼────Rz(0.523π)───X────┼Rz(1.26π)────X────┼────────@────Rx(1.32π)──────┼─────────Rz(0.588π)────┼─────────────@───────────────Rz(0.543π)┼────X───Rz(0.336π)────Rx(1.01π)┼─────Rz(1.7π)──┼─────X─────────┼─────Rz(1.18π)┼┼────Rx(0.499π)────┼───┼──────────────┼───@───────────\n",
       "                        │           │       │              │     │              │   │               │         │      │    │             │                      │                  │                            │                       │                                       │                               │               │               │              ││                  │   │              │   │\n",
       "(0, 5): ────────────────┼───────────X───@───X────Rz(1.5π)──┼─────X──────────────┼───┼───────────────┼─────────┼──────┼────X─────────────┼──────────────────────┼─────────────@────X─────────────Rz(-0.682π)────X───────────────────────┼───────────────────────────────────────┼───────────────────────────────┼───────────────┼───────────────┼──────────────X┼────Rz(1.62π)─────X───@───Rz(1.5π)───@───X───@───────\n",
       "                        │               │                  │                    │   │               │         │      │                  │                      │             │                                                         │                                       │                               │               │               │               │                                             │\n",
       "(0, 6): ───Rx(1.64π)────@───────────────X───@──────────────X────────────────────X───@───Rz(0.42π)───@─────────X──────@────Rz(1.74π)─────@──────────────────────X─────────────X────@────────────────────────────────────────────────────X───────────────────────────────────────X───────────────────────────────@─────Rz(0.497π)┼───────────────@───────────────┼─────────────────────────────────────────────X───@───\n",
       "                                            │                                                                                                                                     │                                                                                                                                            │                               │                                                 │\n",
       "(0, 7): ────────────────────────────────────X────Rz(0.184π)───────────────────────────────────────────────────────────────────────────────────────────────────────────────────────X─────────────Rz(1.36π)──────────────────────────────────────────────────────────────────────────────────────────────────────────────────────@─────Rz(0.134π)────────────────@─────────────────────────────────────────────────X───\n",
       "                                                └───────────┘   └───────────┘                               └──┘   └──┘               └──┘                    └──────────┘       └──────────┘                 └────────────────────┘                └───────────┘   └───────────┘                    └──────────┘   └───────────┘   └───────────┘   └───────────┘"
      ]
     },
     "execution_count": 6,
     "metadata": {},
     "output_type": "execute_result"
    }
   ],
   "source": [
    "pcirc"
   ]
  },
  {
   "cell_type": "code",
   "execution_count": null,
   "metadata": {},
   "outputs": [],
   "source": []
  },
  {
   "cell_type": "code",
   "execution_count": null,
   "metadata": {},
   "outputs": [],
   "source": []
  },
  {
   "cell_type": "code",
   "execution_count": 4,
   "metadata": {},
   "outputs": [
    {
     "name": "stderr",
     "output_type": "stream",
     "text": [
      "100%|██████████| 63/63 [00:00<00:00, 11658.56it/s]\n"
     ]
    }
   ],
   "source": [
    "circ, energy, indexed_circuit,resolver, lowest_energy = evaluator.evolution[len(evaluator.evolution.keys())-1]\n",
    "itsen=[]\n",
    "itslen=[]\n",
    "ncnots=[]\n",
    "nparams=[]\n",
    "for k in tqdm(range(len(evaluator.evolution.keys()))):\n",
    "    things = evaluator.evolution[k]\n",
    "    itsen.append(things[1])\n",
    "    itslen.append(things[-1])\n",
    "    ncnots.append(vqe_handler.count_cnots(things[2]))\n",
    "    nparams.append(len(things[2]) - ncnots[-1])\n",
    "    if evaluator.evolution[k][1] == lowest_energy:\n",
    "        pcirc, penergy, pindexed_circuit,presolver, plowest_energy = things"
   ]
  },
  {
   "cell_type": "code",
   "execution_count": 5,
   "metadata": {},
   "outputs": [
    {
     "data": {
      "text/plain": [
       "[<matplotlib.lines.Line2D at 0x7f4e70dce438>]"
      ]
     },
     "execution_count": 5,
     "metadata": {},
     "output_type": "execute_result"
    },
    {
     "data": {
      "image/png": "[encoded data removed]",
      "text/plain": [
       "<Figure size 432x288 with 2 Axes>"
      ]
     },
     "metadata": {
      "needs_background": "light"
     },
     "output_type": "display_data"
    }
   ],
   "source": [
    "ax1, ax2 = [plt.subplot2grid((1,2),(0,k)) for k in range(2)]\n",
    "ax1.plot(itsen, label=\"energy of current circuit\")\n",
    "ax1.plot(itslen, label=\"lowest found\")\n",
    "ax1.plot(np.ones(len(itslen))*vqe_handler.lower_bound_energy,'--', label=\"FCI\")\n",
    "\n",
    "ax2.plot(ncnots)\n",
    "ax2.plot(nparams,'--')"
   ]
  },
  {
   "cell_type": "markdown",
   "metadata": {},
   "source": [
    "Let's try now to add gates to the circuit, so it converges :) "
   ]
  },
  {
   "cell_type": "code",
   "execution_count": 62,
   "metadata": {},
   "outputs": [
    {
     "data": {
      "text/plain": [
       "[<matplotlib.lines.Line2D at 0x7f15c1f7a898>]"
      ]
     },
     "execution_count": 62,
     "metadata": {},
     "output_type": "execute_result"
    },
    {
     "data": {
      "image/png": "[encoded data removed]",
      "text/plain": [
       "<Figure size 432x288 with 1 Axes>"
      ]
     },
     "metadata": {
      "needs_background": "light"
     },
     "output_type": "display_data"
    }
   ],
   "source": [
    "energy, symbol_to_value, training_evolution = vqe_handler.vqe(pindexed_circuit, symbols_to_values=presolver) #compute energy\n",
    "plt.plot(training_evolution.history[\"energy\"])"
   ]
  },
  {
   "cell_type": "code",
   "execution_count": 94,
   "metadata": {},
   "outputs": [],
   "source": [
    "def gate_counter_on_qubits(self, indexed_circuit):\n",
    "    ngates = {k:[0,0] for k in range(len(self.qubits))}\n",
    "    for ind in indexed_circuit:\n",
    "        if ind < self.number_of_cnots:\n",
    "            control, target = self.indexed_cnots[str(ind)]\n",
    "            ngates[control][1]+=1\n",
    "            ngates[target][1]+=1   \n",
    "        else:\n",
    "            qind = (ind-self.number_of_cnots)%self.n_qubits\n",
    "            ngates[qind][0]+=1\n",
    "    return ngates"
   ]
  },
  {
   "cell_type": "code",
   "execution_count": 93,
   "metadata": {},
   "outputs": [
    {
     "data": {
      "text/plain": [
       "{0: [3, 7],\n",
       " 1: [2, 4],\n",
       " 2: [1, 6],\n",
       " 3: [1, 10],\n",
       " 4: [1, 14],\n",
       " 5: [2, 12],\n",
       " 6: [1, 12],\n",
       " 7: [4, 9]}"
      ]
     },
     "execution_count": 93,
     "metadata": {},
     "output_type": "execute_result"
    }
   ],
   "source": [
    "gate_counter(vqe_handler, indexed_circuit)"
   ]
  },
  {
   "cell_type": "code",
   "execution_count": 107,
   "metadata": {},
   "outputs": [],
   "source": [
    "def choose_qubit_from_N1q(self, beta=10):\n",
    "    \"\"\"\n",
    "    Note that beta could be annealed as energy decreases.. (at beta = 0 we get uniform sampling)\n",
    "    function that selects qubit according to how many gates are acting on each one in the circuit\n",
    "    \"\"\"\n",
    "    gc=np.array(list(ngates.values()))[:,0] #### gives the gate population for each qubit\n",
    "    probs=np.exp(beta*(1-gc/np.sum(gc)))/np.sum(np.exp(beta*(1-gc/np.sum(gc))))\n",
    "    return np.random.choice(range(vqe_handler.n_qubits),1,p=probs)[0]"
   ]
  },
  {
   "cell_type": "code",
   "execution_count": 112,
   "metadata": {},
   "outputs": [],
   "source": [
    "gc=np.array(list(ngates.values()))[:,1] #### gives the gate population for each qubit\n",
    "probs=np.exp(beta*(1-gc/np.sum(gc)))/np.sum(np.exp(beta*(1-gc/np.sum(gc))))"
   ]
  },
  {
   "cell_type": "code",
   "execution_count": 124,
   "metadata": {},
   "outputs": [
    {
     "data": {
      "text/plain": [
       "array([3, 0])"
      ]
     },
     "execution_count": 124,
     "metadata": {},
     "output_type": "execute_result"
    }
   ],
   "source": [
    "np.random.choice(range(vqe_handler.n_qubits),2,p=probs, replace=False)"
   ]
  },
  {
   "cell_type": "code",
   "execution_count": 55,
   "metadata": {},
   "outputs": [
    {
     "ename": "TypeError",
     "evalue": "operation_at() missing 1 required positional argument: 'moment_index'",
     "output_type": "error",
     "traceback": [
      "\u001b[0;31m---------------------------------------------------------------------------\u001b[0m",
      "\u001b[0;31mTypeError\u001b[0m                                 Traceback (most recent call last)",
      "\u001b[0;32m<ipython-input-55-ac1dc5de37cb>\u001b[0m in \u001b[0;36m<module>\u001b[0;34m\u001b[0m\n\u001b[1;32m      1\u001b[0m \u001b[0mcircuit\u001b[0m \u001b[0;34m=\u001b[0m \u001b[0mvqe_handler\u001b[0m\u001b[0;34m.\u001b[0m\u001b[0mgive_circuit\u001b[0m\u001b[0;34m(\u001b[0m\u001b[0mindexed_circuit\u001b[0m\u001b[0;34m)\u001b[0m\u001b[0;34m[\u001b[0m\u001b[0;36m0\u001b[0m\u001b[0;34m]\u001b[0m\u001b[0;34m\u001b[0m\u001b[0;34m\u001b[0m\u001b[0m\n\u001b[0;32m----> 2\u001b[0;31m \u001b[0mcircuit\u001b[0m\u001b[0;34m.\u001b[0m\u001b[0moperation_at\u001b[0m\u001b[0;34m(\u001b[0m\u001b[0;36m0\u001b[0m\u001b[0;34m)\u001b[0m\u001b[0;34m\u001b[0m\u001b[0;34m\u001b[0m\u001b[0m\n\u001b[0m",
      "\u001b[0;31mTypeError\u001b[0m: operation_at() missing 1 required positional argument: 'moment_index'"
     ]
    }
   ],
   "source": [
    "circuit = vqe_handler.give_circuit(indexed_circuit)[0]\n"
   ]
  },
  {
   "cell_type": "code",
   "execution_count": 63,
   "metadata": {},
   "outputs": [],
   "source": [
    "import cirq"
   ]
  },
  {
   "cell_type": "code",
   "execution_count": 80,
   "metadata": {},
   "outputs": [
    {
     "data": {
      "text/plain": [
       "False"
      ]
     },
     "execution_count": 80,
     "metadata": {},
     "output_type": "execute_result"
    }
   ],
   "source": []
  },
  {
   "cell_type": "code",
   "execution_count": null,
   "metadata": {},
   "outputs": [],
   "source": []
  },
  {
   "cell_type": "code",
   "execution_count": null,
   "metadata": {},
   "outputs": [],
   "source": []
  },
  {
   "cell_type": "code",
   "execution_count": null,
   "metadata": {},
   "outputs": [],
   "source": [
    "iid.inserter(indexed_circuit,resolver,-1)"
   ]
  },
  {
   "cell_type": "code",
   "execution_count": null,
   "metadata": {},
   "outputs": [],
   "source": []
  },
  {
   "cell_type": "code",
   "execution_count": null,
   "metadata": {},
   "outputs": [],
   "source": []
  }
 ],
 "metadata": {
  "kernelspec": {
   "display_name": "Python 3",
   "language": "python",
   "name": "python3"
  },
  "language_info": {
   "codemirror_mode": {
    "name": "ipython",
    "version": 3
   },
   "file_extension": ".py",
   "mimetype": "text/x-python",
   "name": "python",
   "nbconvert_exporter": "python",
   "pygments_lexer": "ipython3",
   "version": "3.8.2"
  }
 },
 "nbformat": 4,
 "nbformat_minor": 4
}
