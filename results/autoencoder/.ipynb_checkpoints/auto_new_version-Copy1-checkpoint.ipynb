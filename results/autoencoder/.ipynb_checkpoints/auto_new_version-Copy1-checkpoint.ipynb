{
 "cells": [
  {
   "cell_type": "code",
   "execution_count": 94,
   "metadata": {},
   "outputs": [
    {
     "name": "stdout",
     "output_type": "stream",
     "text": [
      "The autoreload extension is already loaded. To reload it, use:\n",
      "  %reload_ext autoreload\n"
     ]
    }
   ],
   "source": [
    "import sys\n",
    "import os \n",
    "%load_ext autoreload\n",
    "%autoreload 2\n",
    "\n",
    "os.chdir(\"/home/cooper-cooper/Desktop/vans/\")\n",
    "\n",
    "sys.path[0] = \"/home/cooper-cooper/Desktop/vans/\"\n",
    "\n",
    "\n",
    "from utilities.variational import Autoencoder\n",
    "import tensorflow_quantum as tfq\n",
    "from utilities.qmodels import QNN,EnergyLoss\n",
    "\n",
    "import tensorflow as tf\n",
    "\n",
    "from utilities.evaluator import Evaluator\n",
    "import numpy as np\n",
    "\n",
    "import matplotlib.pyplot as plt\n",
    "from IPython import display\n",
    "from tqdm import tqdm\n",
    "from utilities.variational import VQE\n",
    "import cirq\n",
    "\n",
    "from datetime import datetime\n",
    "\n",
    "from utilities.variational import VQE\n",
    "from utilities.evaluator import Evaluator\n",
    "from utilities.idinserter import IdInserter\n",
    "from utilities.simplifier import Simplifier\n",
    "from utilities.unitary_killer_autoencoder import UnitaryMurder\n",
    "from utilities.misc import scheduler_selector_temperature, scheduler_parameter_perturbation_wall #this outputs always 10 for now.\n",
    "\n",
    "\n",
    "\n",
    "### load pure states\n",
    "\n",
    "indexed_pure_states=[]\n",
    "resolver_pure_states=[]\n",
    "train_bonds=[]\n",
    "energsin=[]\n",
    "js=np.linspace(0.5,2.3,16)[0::3]\n",
    "for bond in js:\n",
    "    problem_config ={\"problem\" : \"H2\", \"geometry\": str([('H', (0., 0., 0.)), ('H', (0., 0., bond))]).replace(\"\\'\",\"\"), \"multiplicity\":1, \"charge\":0, \"basis\":\"sto-3g\"}\n",
    "    args={\"n_qubits\":4,\"problem_config\":problem_config, \"load_displaying\":False}\n",
    "    evaluator_load = Evaluator(args,loading=True, path=\"../data-vans/\")\n",
    "    #energies.append(evaluator.raw_history[len(list(evaluator.raw_history.keys()))-1][-1])\n",
    "    vqe_handler = VQE(n_qubits=4,noise_config={}, problem_config=problem_config,\n",
    "                            return_lower_bound=True)\n",
    "    _, cuener, indexed_circuit, resolver, bestener,low = evaluator_load.evolution[evaluator_load.get_best_iteration()]\n",
    "    energsin.append(cuener)\n",
    "    indexed_pure_states.append(indexed_circuit)\n",
    "    resolver_pure_states.append(resolver)\n",
    "    train_bonds.append(bond)"
   ]
  },
  {
   "cell_type": "code",
   "execution_count": 102,
   "metadata": {},
   "outputs": [
    {
     "data": {
      "text/plain": [
       "[<matplotlib.lines.Line2D at 0x7f5f34993d68>]"
      ]
     },
     "execution_count": 102,
     "metadata": {},
     "output_type": "execute_result"
    },
    {
     "data": {
      "image/png": "[encoded data removed]",
      "text/plain": [
       "<Figure size 432x288 with 1 Axes>"
      ]
     },
     "metadata": {
      "needs_background": "light"
     },
     "output_type": "display_data"
    }
   ],
   "source": [
    "plt.plot(train_bonds,energsin,'.')\n",
    "plt.plot(np.linspace(.5,2.3,100),fcisfull)"
   ]
  },
  {
   "cell_type": "code",
   "execution_count": 9,
   "metadata": {},
   "outputs": [
    {
     "name": "stdout",
     "output_type": "stream",
     "text": [
      "beggining to train!\n",
      "\n",
      "Iteration #0\n",
      "Time since beggining:0:00:02.363721\n",
      " best energy: 0.24148106575012207\n",
      "current_energy 0.24148106575012207\n",
      " lower_bound: 0.0\n",
      "I killed 1 unitaries, Ef - Ei: 1.7881393432617188e-07\n",
      "\n",
      "Iteration #1\n",
      "Time since beggining:0:00:22.669005\n",
      " best energy: 0.06748676300048828\n",
      "current energy: 0.06748676300048828\n",
      " lower_bound: 0.0\n",
      "I killed 1 unitaries, Ef - Ei: 0.0\n",
      "\n",
      "Iteration #2\n",
      "Time since beggining:0:00:24.991652\n",
      " best energy: 0.06748634576797485\n",
      "current energy: 0.06748634576797485\n",
      " lower_bound: 0.0\n",
      "I killed 1 unitaries, Ef - Ei: 5.960464477539063e-08\n",
      "\n",
      "Iteration #3\n",
      "Time since beggining:0:00:39.159189\n",
      " best energy: 0.06738781929016113\n",
      "current energy: 0.06738781929016113\n",
      " lower_bound: 0.0\n",
      "I killed 1 unitaries, Ef - Ei: -1.7881393432617188e-07\n",
      "I killed 2 unitaries, Ef - Ei: -2.384185791015625e-07\n",
      "I killed 3 unitaries, Ef - Ei: -2.384185791015625e-07\n",
      "I killed 4 unitaries, Ef - Ei: -2.384185791015625e-07\n",
      "I killed 5 unitaries, Ef - Ei: -2.384185791015625e-07\n",
      "I killed 6 unitaries, Ef - Ei: -2.980232238769531e-07\n",
      "I killed 7 unitaries, Ef - Ei: -2.980232238769531e-07\n",
      "I killed 8 unitaries, Ef - Ei: -2.980232238769531e-07\n",
      "I killed 9 unitaries, Ef - Ei: -2.980232238769531e-07\n",
      "I killed 10 unitaries, Ef - Ei: -2.980232238769531e-07\n",
      "I killed 11 unitaries, Ef - Ei: -2.384185791015625e-07\n",
      "I killed 12 unitaries, Ef - Ei: -2.384185791015625e-07\n",
      "I killed 13 unitaries, Ef - Ei: -2.384185791015625e-07\n",
      "I killed 14 unitaries, Ef - Ei: -2.384185791015625e-07\n",
      "I killed 15 unitaries, Ef - Ei: -2.384185791015625e-07\n",
      "I killed 16 unitaries, Ef - Ei: -2.384185791015625e-07\n",
      "I killed 17 unitaries, Ef - Ei: -2.384185791015625e-07\n",
      "I killed 18 unitaries, Ef - Ei: -2.384185791015625e-07\n",
      "I killed 19 unitaries, Ef - Ei: -2.384185791015625e-07\n",
      "I killed 20 unitaries, Ef - Ei: -2.384185791015625e-07\n",
      "I killed 21 unitaries, Ef - Ei: -2.384185791015625e-07\n",
      "I killed 22 unitaries, Ef - Ei: -2.384185791015625e-07\n",
      "I killed 23 unitaries, Ef - Ei: -2.384185791015625e-07\n",
      "I killed 24 unitaries, Ef - Ei: -2.384185791015625e-07\n",
      "I killed 25 unitaries, Ef - Ei: -1.7881393432617188e-07\n",
      "I killed 26 unitaries, Ef - Ei: -2.384185791015625e-07\n",
      "I killed 27 unitaries, Ef - Ei: -1.7881393432617188e-07\n",
      "I killed 28 unitaries, Ef - Ei: 0.0\n",
      "I killed 29 unitaries, Ef - Ei: 0.0\n",
      "I killed 30 unitaries, Ef - Ei: 0.0\n",
      "\n",
      "Iteration #4\n",
      "Time since beggining:0:04:49.291568\n",
      " best energy: 0.05948972702026367\n",
      "current energy: 0.05948972702026367\n",
      " lower_bound: 0.0\n",
      "\n",
      "Iteration #5\n",
      "Time since beggining:0:05:06.564275\n",
      " best energy: 0.05948972702026367\n",
      "current energy: 0.05948972702026367\n",
      " lower_bound: 0.0\n",
      "I killed 1 unitaries, Ef - Ei: -2.980232238769531e-07\n",
      "I killed 2 unitaries, Ef - Ei: -2.980232238769531e-07\n",
      "I killed 3 unitaries, Ef - Ei: -2.980232238769531e-07\n",
      "I killed 4 unitaries, Ef - Ei: -2.384185791015625e-07\n",
      "I killed 5 unitaries, Ef - Ei: -2.384185791015625e-07\n",
      "\n",
      "Iteration #6\n",
      "Time since beggining:0:07:16.984523\n",
      " best energy: 0.0022583603858947754\n",
      "current energy: 0.0022583603858947754\n",
      " lower_bound: 0.0\n",
      "I killed 1 unitaries, Ef - Ei: -5.364418029785156e-07\n",
      "I killed 2 unitaries, Ef - Ei: -5.364418029785156e-07\n",
      "\n",
      "Iteration #7\n",
      "Time since beggining:0:08:19.430595\n",
      " best energy: 0.0011920332908630371\n",
      "current energy: 0.0011920332908630371\n",
      " lower_bound: 0.0\n",
      "I killed 1 unitaries, Ef - Ei: -1.1920928955078125e-07\n",
      "I killed 2 unitaries, Ef - Ei: -1.1920928955078125e-07\n",
      "\n",
      "Iteration #8\n",
      "Time since beggining:0:09:57.425456\n",
      " best energy: 0.0009923577308654785\n",
      "current energy: 0.0009923577308654785\n",
      " lower_bound: 0.0\n",
      "I killed 1 unitaries, Ef - Ei: -2.980232238769531e-07\n",
      "I killed 2 unitaries, Ef - Ei: -4.172325134277344e-07\n",
      "I killed 3 unitaries, Ef - Ei: -4.172325134277344e-07\n",
      "I killed 4 unitaries, Ef - Ei: -4.172325134277344e-07\n",
      "\n",
      "Iteration #9\n",
      "Time since beggining:0:14:03.755194\n",
      " best energy: 0.0002575516700744629\n",
      "current energy: 0.0002575516700744629\n",
      " lower_bound: 0.0\n",
      "I killed 1 unitaries, Ef - Ei: -1.1920928955078125e-07\n",
      "I killed 2 unitaries, Ef - Ei: -1.1920928955078125e-07\n",
      "\n",
      "Iteration #10\n",
      "Time since beggining:0:16:47.377655\n",
      " best energy: 8.887052536010742e-05\n",
      "current energy: 8.887052536010742e-05\n",
      " lower_bound: 0.0\n",
      "I killed 1 unitaries, Ef - Ei: 1.0132789611816406e-06\n",
      "\n",
      "Iteration #11\n",
      "Time since beggining:0:18:38.578917\n",
      " best energy: 5.27501106262207e-05\n",
      "current energy: 5.27501106262207e-05\n",
      " lower_bound: 0.0\n",
      "I killed 1 unitaries, Ef - Ei: 2.384185791015625e-07\n",
      "\n",
      "Iteration #12\n",
      "Time since beggining:0:20:32.311522\n",
      " best energy: 4.589557647705078e-06\n",
      "current energy: 4.589557647705078e-06\n",
      " lower_bound: 0.0\n",
      "I killed 1 unitaries, Ef - Ei: -9.5367431640625e-07\n",
      "I killed 2 unitaries, Ef - Ei: -9.5367431640625e-07\n",
      "I killed 3 unitaries, Ef - Ei: -9.5367431640625e-07\n",
      "I killed 4 unitaries, Ef - Ei: -8.940696716308594e-07\n",
      "I killed 5 unitaries, Ef - Ei: -9.5367431640625e-07\n",
      "I killed 6 unitaries, Ef - Ei: -8.344650268554688e-07\n",
      "I killed 7 unitaries, Ef - Ei: -6.556510925292969e-07\n",
      "I killed 8 unitaries, Ef - Ei: -3.5762786865234375e-07\n",
      "I killed 9 unitaries, Ef - Ei: -3.5762786865234375e-07\n",
      "\n",
      "Iteration #13\n",
      "Time since beggining:0:37:55.119358\n",
      " best energy: 2.682209014892578e-06\n",
      "current energy: 2.682209014892578e-06\n",
      " lower_bound: 0.0\n",
      "\n",
      "Iteration #14\n",
      "Time since beggining:0:38:36.463743\n",
      " best energy: 2.682209014892578e-06\n",
      "current energy: 2.682209014892578e-06\n",
      " lower_bound: 0.0\n",
      "I killed 1 unitaries, Ef - Ei: 0.0\n",
      "I killed 2 unitaries, Ef - Ei: 0.0\n",
      "\n",
      "Iteration #15\n",
      "Time since beggining:0:44:39.425377\n",
      " best energy: 2.682209014892578e-06\n",
      "current energy: 2.682209014892578e-06\n",
      " lower_bound: 0.0\n",
      "I killed 1 unitaries, Ef - Ei: 1.7881393432617188e-07\n",
      "\n",
      "Iteration #16\n",
      "Time since beggining:0:47:44.745191\n",
      " best energy: 7.152557373046875e-07\n",
      "current energy: 7.152557373046875e-07\n",
      " lower_bound: 0.0\n",
      "\n",
      "Iteration #17\n",
      "Time since beggining:0:47:57.409320\n",
      " best energy: 7.152557373046875e-07\n",
      "current energy: 7.152557373046875e-07\n",
      " lower_bound: 0.0\n",
      "I killed 1 unitaries, Ef - Ei: 2.980232238769531e-07\n",
      "\n",
      "Iteration #18\n",
      "Time since beggining:0:51:13.806634\n",
      " best energy: 4.76837158203125e-07\n",
      "current energy: 4.76837158203125e-07\n",
      " lower_bound: 0.0\n",
      "\n",
      "Iteration #19\n",
      "Time since beggining:0:51:42.044136\n",
      " best energy: 4.76837158203125e-07\n",
      "current energy: 4.76837158203125e-07\n",
      " lower_bound: 0.0\n",
      "I killed 1 unitaries, Ef - Ei: 7.152557373046875e-07\n",
      "\n",
      "Iteration #20\n",
      "Time since beggining:0:55:38.552123\n",
      " best energy: 4.76837158203125e-07\n",
      "current energy: 9.5367431640625e-07\n",
      " lower_bound: 0.0\n",
      "\n",
      "Iteration #21\n",
      "Time since beggining:0:56:09.532487\n",
      " best energy: 4.76837158203125e-07\n",
      "current energy: 9.5367431640625e-07\n",
      " lower_bound: 0.0\n",
      "\n",
      "Iteration #22\n",
      "Time since beggining:0:56:52.404494\n",
      " best energy: 4.76837158203125e-07\n",
      "current energy: 9.5367431640625e-07\n",
      " lower_bound: 0.0\n",
      "\n",
      "Iteration #23\n",
      "Time since beggining:0:57:01.260231\n",
      " best energy: 4.76837158203125e-07\n",
      "current energy: 9.5367431640625e-07\n",
      " lower_bound: 0.0\n",
      "\n",
      "Iteration #24\n",
      "Time since beggining:0:57:42.252388\n",
      " best energy: 4.76837158203125e-07\n",
      "current energy: 9.5367431640625e-07\n",
      " lower_bound: 0.0\n",
      "\n",
      "Iteration #25\n",
      "Time since beggining:0:58:13.594138\n",
      " best energy: 4.76837158203125e-07\n",
      "current energy: 9.5367431640625e-07\n",
      " lower_bound: 0.0\n"
     ]
    }
   ],
   "source": [
    "\n",
    "auto_handler = Autoencoder(n_qubits=4,problem_config=problem_config, nb=1, lr = 0.01,\n",
    "                        epochs=5000, verbose=0,\n",
    "                        patience=200, optimizer=\"adam\",\n",
    "                        many_indexed_circuits=indexed_pure_states, many_symbols_to_values=resolver_pure_states)\n",
    "\n",
    "au_evaluator = Evaluator(args={\"n_qubits\":4,\n",
    "                            \"problem_config\":{\"problem\":\"AutoencoderH2\",\"n_qubits\":3},\n",
    "                            \"noise_config\":{}},\n",
    "                      info=\"\", \n",
    "                      path=\"../data-vans/\", acceptance_percentage=1e-5,\n",
    "                      accuracy_to_end=0., reduce_acceptance_percentage=True)\n",
    "\n",
    "info = \"AUTOENCODEr\\ntotal_qubits: {}\\ntrash_qubits: {}\\n\".format(len(auto_handler.qubits), auto_handler.nb)\n",
    "au_evaluator.displaying[\"information\"]+=info\n",
    "\n",
    "\n",
    "start = datetime.now()\n",
    "\n",
    "initialization=\"hea\"\n",
    "\n",
    "selector_temperature=20\n",
    "reps=4\n",
    "rate_iids_per_step=1.5\n",
    "wait_to_get_back=10\n",
    "\n",
    "iid = IdInserter(n_qubits=len(auto_handler.qubits))\n",
    "iid.selector_temperature = selector_temperature\n",
    "\n",
    "#Simplifier reduces gates number as much as possible while keeping same expected value of target hamiltonian\n",
    "Simp = Simplifier(n_qubits=len(auto_handler.qubits))\n",
    "\n",
    "#UnitaryMuerder is in charge of evaluating changes on the energy while setting apart one (or more) parametrized gates. If\n",
    "killer = UnitaryMurder(auto_handler, many_indexed_circuits=indexed_pure_states,\n",
    "                       many_symbols_to_values=resolver_pure_states, noise_config={}, accept_wall=2/evaluator.acceptance_percentage)\n",
    "\n",
    "indexed_circuit = auto_handler.hea_ansatz_indexed_circuit(L=3)\n",
    "#inexed_circuit = [auto_handler.number_of_cnots+k for k in range(auto_handler.n_qubits,2*vqe_handler.n_qubits)]\n",
    "print(\"beggining to train!\")\n",
    "energy, symbol_to_value, training_evolution = auto_handler.autoencoder(indexed_circuit) #compute energy\n",
    "#add initial info to evaluator\n",
    "\n",
    "\n",
    "to_print=\"\\nIteration #{}\\nTime since beggining:{}\\n best energy: {}\\ncurrent_energy {}\\n lower_bound: {}\".format(0, datetime.now()-start, energy, energy, au_evaluator.accuracy_to_end)\n",
    "print(to_print)\n",
    "au_evaluator.displaying[\"information\"]+=to_print\n",
    "\n",
    "au_evaluator.add_step(indexed_circuit, symbol_to_value, energy, relevant=True)\n",
    "au_evaluator.lowest_energy = energy\n",
    "\n",
    "for iteration in range(1,reps+1):\n",
    "    relevant=False\n",
    "\n",
    "    ### create a mutation M (maybe this word is too fancy); we add (probably more than one) identity resolution\n",
    "    iid.selector_temperature=scheduler_selector_temperature(energy, au_evaluator.lowest_energy, when_on=selector_temperature)\n",
    "    M_indices, M_symbols_to_values, M_idx_to_symbols = iid.place_identities(indexed_circuit, symbol_to_value, rate_iids_per_step= rate_iids_per_step)\n",
    "\n",
    "    ### simplify the circuit as much as possible\n",
    "    Sindices, Ssymbols_to_values, Sindex_to_symbols = Simp.reduce_circuit(M_indices, M_symbols_to_values, M_idx_to_symbols)\n",
    "\n",
    "    ## compute the energy of the mutated-simplified circuit [Note 1]\n",
    "    MSenergy, MSsymbols_to_values, _ = auto_handler.autoencoder(\n",
    "        Sindices, symbols_to_values=Ssymbols_to_values,\n",
    "        parameter_perturbation_wall=scheduler_parameter_perturbation_wall(its_without_improvig=evaluator.its_without_improvig))\n",
    "\n",
    "    if evaluator.accept_energy(MSenergy):\n",
    "        indexed_circuit, symbol_to_value, index_to_symbols = Sindices, MSsymbols_to_values, Sindex_to_symbols\n",
    "        # unitary slaughter: delete as many 1-qubit gates as possible, as long as the energy doesn't go up (we allow %1 increments per iteration)\n",
    "        cnt=0\n",
    "        reduced=True\n",
    "        lmax=len(indexed_circuit)\n",
    "        while reduced and cnt < lmax:\n",
    "            indexed_circuit, symbol_to_value, index_to_symbols, energy, reduced = killer.unitary_slaughter(indexed_circuit, symbol_to_value, index_to_symbols, reference_energy=MSenergy)\n",
    "            indexed_circuit, symbol_to_value, index_to_symbols = Simp.reduce_circuit(indexed_circuit, symbol_to_value, index_to_symbols)\n",
    "            cnt+=1\n",
    "        relevant=True\n",
    "    au_evaluator.add_step(indexed_circuit, symbol_to_value, energy, relevant=relevant)\n",
    "\n",
    "    to_print=\"\\nIteration #{}\\nTime since beggining:{}\\n best energy: {}\\ncurrent energy: {}\\n lower_bound: {}\".format(iteration, datetime.now()-start, evaluator.lowest_energy,energy, evaluator.accuracy_to_end)\n",
    "    print(to_print)\n",
    "    evaluator.displaying[\"information\"]+=to_print\n",
    "\n",
    "    evaluator.save_dicts_and_displaying()\n",
    "\n",
    "    if evaluator.if_finish_ok is True:\n",
    "        print(\"HOMEWORK DONE! \\nBeers on me ;)\")\n",
    "        break\n",
    "\n",
    "    if evaluator.its_without_improvig == wait_to_get_back:\n",
    "        print(\"Getting back to favorite, it's been already {} iterations\".format(wait_to_get_back))\n",
    "        _, energy, indices, resolver, _, _ =  evaluator.evolution[evaluator.get_best_iteration()]\n",
    "        evaluator.its_without_improvig = 0\n"
   ]
  },
  {
   "cell_type": "markdown",
   "metadata": {},
   "source": [
    "Now we construct the inverse circuit.\n",
    "\n",
    "Let's say that VQE-VAns prepares the state $| \\psi_i >$ as $V_i |0>$. Then VAns finds an autoencoder circuit $W$.\n",
    "\n",
    "Then we'll check at the average fidelity $\\sum_i |<\\psi_i| \\tilde{\\psi}_i> |^{2}$\n",
    "\n",
    "with  $|\\tilde{\\psi}_i> = (\\mathcal{E} \\circ \\mathcal{M} \\circ \\mathcal{D}) \\; |\\psi_i>$; \n",
    "\n",
    "with $\\mathcal{E} = W$, $\\mathcal{D} = W^{\\dagger}$ and $\\mathcal{M} = \\mathcal{I}_{AB} - \\dfrac{1}{n_B} ( \\sum_j |0>_{j_B}<0| \\times \\mathcal{I}_{A, \\bar{j}})$"
   ]
  },
  {
   "cell_type": "code",
   "execution_count": null,
   "metadata": {},
   "outputs": [],
   "source": []
  },
  {
   "cell_type": "code",
   "execution_count": 91,
   "metadata": {},
   "outputs": [
    {
     "name": "stderr",
     "output_type": "stream",
     "text": [
      "100%|██████████| 16/16 [00:42<00:00,  2.64s/it]\n"
     ]
    }
   ],
   "source": [
    "W, cost, indexed_circuit, resolver, best_infidelity,_ = evaluator.evolution[evaluator.get_best_iteration()]\n",
    "\n",
    "inverse_indexed_circuit, inversolver, Wdagger = auto_handler.give_inverse(indexed_circuit,resolver)\n",
    "Wdagger = cirq.unitary(Wdagger)\n",
    "\n",
    "\n",
    "\n",
    "def compute_fidelity(input_state, encoding, channel, decoding):\n",
    "    \"\"\"\n",
    "    we assume input_state is a ket.\n",
    "    \"\"\"\n",
    "    st = np.dot(encoding, input_state)\n",
    "    st = np.dot(channel, st)\n",
    "    st = np.dot(decoding, st)\n",
    "    return np.round(np.dot(np.conjugate(input_state),st), 16)\n",
    "\n",
    "def compute_energy(input_state, encoding, channel, decoding, observable):\n",
    "    \"\"\"\n",
    "    we assume input_state is a ket.\n",
    "    \"\"\"\n",
    "    st = np.dot(encoding, input_state)\n",
    "    st = np.dot(channel, st)\n",
    "    st = np.dot(decoding, st)\n",
    "    return np.dot(np.conjugate(st),np.dot(observable,st))\n",
    "\n",
    "from utilities.misc import give_kronecker_of_list\n",
    "projector = give_kronecker_of_list([auto_handler.zero_proj(vqe_handler.qubits[k]).matrix() for k in range(auto_handler.nb)])\n",
    "channel = np.kron(projector, np.eye(8))\n",
    "\n",
    "\n",
    "bond_train=np.linspace(0.5,2.3,16)[0::3]\n",
    "bond_test=[]\n",
    "test_energies = []\n",
    "test_states=[]\n",
    "train_energies=[]\n",
    "fcis=[]\n",
    "fcis_test=[]\n",
    "eners=[]\n",
    "fcis_train=[]\n",
    "train_states=[]\n",
    "\n",
    "for b in tqdm(np.linspace(0.5,2.3,16)):\n",
    "    \n",
    "    problem_config ={\"problem\" : \"H2\", \"geometry\": str([('H', (0., 0., 0.)), ('H', (0., 0., b))]).replace(\"\\'\",\"\"), \"multiplicity\":1, \"charge\":0, \"basis\":\"sto-3g\"}\n",
    "    args={\"n_qubits\":4,\"problem_config\":problem_config, \"load_displaying\":False}\n",
    "    \n",
    "    vqe_evaluator = Evaluator(args,loading=True, path=\"../data-vans/\")\n",
    "\n",
    "    vqe_handler = VQE(n_qubits=4,noise_config={}, problem_config=problem_config,\n",
    "                            return_lower_bound=True, lr=0.01, epochs=4000,patience=400)\n",
    "    VAnsCircuit, cuener, indexed_circuit, resolver, bestener,_ = vqe_evaluator.evolution[vqe_evaluator.get_best_iteration()]\n",
    "    \n",
    "    inpst = VAnsCircuit\n",
    "    ene=np.squeeze(model(tfq.convert_to_tensor([inpst])))\n",
    "    if np.abs(ene-cuener)>0.01:\n",
    "\n",
    "        ass = vqe_handler.vqe(indexed_circuit)\n",
    "        inpst =cirq.resolve_parameters(vqe_handler.give_circuit(indexed_circuit)[0],ass[1])\n",
    "        ene=np.squeeze(model(tfq.convert_to_tensor([inpst])))\n",
    "    \n",
    "    if not (b in bond_train):\n",
    "        bond_test.append(b)\n",
    "        test_energies.append(ene)\n",
    "        fcis_test.append(vqe_handler.lower_bound_energy)\n",
    "        test_states.append(cirq.unitary(VAnsCircuit)[:,0])\n",
    "        \n",
    "    else:\n",
    "        train_states.append(cirq.unitary(VAnsCircuit)[:,0])\n",
    "        train_energies.append(ene)\n",
    "        fcis_train.append(vqe_handler.lower_bound_energy)\n"
   ]
  },
  {
   "cell_type": "code",
   "execution_count": 92,
   "metadata": {},
   "outputs": [
    {
     "data": {
      "text/plain": [
       "<matplotlib.legend.Legend at 0x7f5f33562d68>"
      ]
     },
     "execution_count": 92,
     "metadata": {},
     "output_type": "execute_result"
    },
    {
     "data": {
      "image/png": "[encoded data removed]",
      "text/plain": [
       "<Figure size 720x720 with 1 Axes>"
      ]
     },
     "metadata": {
      "needs_background": "light"
     },
     "output_type": "display_data"
    }
   ],
   "source": [
    "#fcisfull=[]\n",
    "#for b in tqdm(np.linspace(0.5,2.3,100)):\n",
    "#    problem_config ={\"problem\" : \"H2\", \"geometry\": [('H', (0., 0., 0.)), ('H', (0., 0., b))], \"multiplicity\":1, \"charge\":0, \"basis\":\"sto-3g\"}\n",
    "#    args={\"n_qubits\":8,\"problem_config\":problem_config, \"load_displaying\":False,\"specific_folder_name\":\"4_bd_{}\".format(b)}\n",
    "#    vqe_handler = VQE(n_qubits=4,noise_config={}, problem_config=problem_config,\n",
    "#                            return_lower_bound=True)\n",
    "#    fcisfull.append(vqe_handler.lower_bound_energy)\n",
    "fcisfull=np.load(\"results/autoencoder/H2/fcisfull.npy\")\n",
    "\n",
    "\n",
    "plt.figure(figsize=(10,10))\n",
    "plt.plot(np.linspace(0.5,2.3,100),fcisfull,color=\"red\",linewidth=5,alpha=0.5,label=\"FCI\")\n",
    "\n",
    "plt.scatter(bond_train, train_energies,s=300, color=\"green\",label=\"Train points\")\n",
    "plt.scatter(bond_test, test_energies, s=300,color=\"blue\",label=\"Test points\")\n",
    "\n",
    "#plt.scatter(bond_train, fcis_train,s=300, color=\"green\",label=\"Train points\")\n",
    "#plt.scatter(bond_test, fcis_test, s=300,color=\"blue\",label=\"Test points\")\n",
    "plt.xlabel(\"bond length\",size=20)\n",
    "plt.ylabel(\"bond length\",size=20)\n",
    "plt.legend(prop={\"size\":20})\n",
    "#plt.savefig(fol+\"energies.png\")"
   ]
  },
  {
   "cell_type": "code",
   "execution_count": 12,
   "metadata": {},
   "outputs": [],
   "source": [
    "\n",
    "def compute_fidelity(input_state, encoding, channel, decoding):\n",
    "    \"\"\"\n",
    "    we assume input_state is a ket.\n",
    "    \"\"\"\n",
    "    st = np.dot(encoding, input_state)\n",
    "    st = np.dot(channel, st)\n",
    "    st = np.dot(decoding, st)\n",
    "    return np.round(np.dot(np.conjugate(input_state),st), 16)\n",
    "\n",
    "def compute_energy(input_state, encoding, channel, decoding, observable):\n",
    "    \"\"\"\n",
    "    we assume input_state is a ket.\n",
    "    \"\"\"\n",
    "    st = np.dot(encoding, input_state)\n",
    "    st = np.dot(channel, st)\n",
    "    st = np.dot(decoding, st)\n",
    "    return np.dot(np.conjugate(st),np.dot(observable,st))\n"
   ]
  },
  {
   "cell_type": "code",
   "execution_count": 13,
   "metadata": {},
   "outputs": [
    {
     "data": {
      "text/plain": [
       "[(0.9999980939361937+4e-16j),\n",
       " (0.999998697329916+3e-16j),\n",
       " (0.5626715843170536+0j),\n",
       " (0.999999486968069+2e-16j),\n",
       " (0.9999998742468352+2e-16j),\n",
       " (0.9999999268958558+1e-16j),\n",
       " (0.9999996541785788+1e-16j),\n",
       " (0.999999337523694-1e-16j),\n",
       " (0.9999985541443742+0j),\n",
       " (0.9999891353321538+2e-16j)]"
      ]
     },
     "execution_count": 13,
     "metadata": {},
     "output_type": "execute_result"
    }
   ],
   "source": [
    "[compute_fidelity(test_states[k], cirq.unitary(W), channel, Wdagger) for k in range(len(test_states))]"
   ]
  },
  {
   "cell_type": "code",
   "execution_count": 15,
   "metadata": {},
   "outputs": [
    {
     "data": {
      "text/plain": [
       "[(0.9999991733713816+0j),\n",
       " (0.9999989365603904+4e-16j),\n",
       " (0.9999997312573126+2e-16j),\n",
       " (0.9999998538771886+2e-16j),\n",
       " (0.9999989494288652+0j),\n",
       " (0.999999436190993-2e-16j)]"
      ]
     },
     "execution_count": 15,
     "metadata": {},
     "output_type": "execute_result"
    }
   ],
   "source": [
    "[compute_fidelity(train_states[k], cirq.unitary(W), channel, Wdagger) for k in range(len(train_states))]"
   ]
  },
  {
   "cell_type": "code",
   "execution_count": null,
   "metadata": {},
   "outputs": [],
   "source": []
  },
  {
   "cell_type": "code",
   "execution_count": null,
   "metadata": {},
   "outputs": [],
   "source": []
  },
  {
   "cell_type": "code",
   "execution_count": null,
   "metadata": {},
   "outputs": [],
   "source": []
  },
  {
   "cell_type": "code",
   "execution_count": null,
   "metadata": {},
   "outputs": [],
   "source": []
  },
  {
   "cell_type": "code",
   "execution_count": 22,
   "metadata": {},
   "outputs": [
    {
     "name": "stderr",
     "output_type": "stream",
     "text": [
      "100%|██████████| 16/16 [00:08<00:00,  1.91it/s]\n"
     ]
    }
   ],
   "source": [
    "from utilities.misc import give_kronecker_of_list\n",
    "projector = give_kronecker_of_list([auto_handler.zero_proj(vqe_handler.qubits[k]).matrix() for k in range(auto_handler.nb)])\n",
    "channel = np.kron(projector, np.eye(8))\n",
    "\n",
    "\n",
    "bond_train=np.linspace(0.5,2.3,16)[0::3]\n",
    "bond_test=[]\n",
    "test_energies = []\n",
    "test_states=[]\n",
    "train_energies=[]\n",
    "fcis=[]\n",
    "fcis_test=[]\n",
    "eners=[]\n",
    "fcis_train=[]\n",
    "train_states=[]\n",
    "\n",
    "for b in tqdm(np.linspace(0.5,2.3,16)):\n",
    "    problem_config ={\"problem\" : \"H2\", \"geometry\": [('H', (0., 0., 0.)), ('H', (0., 0., b))], \"multiplicity\":1, \"charge\":0, \"basis\":\"sto-3g\"}\n",
    "    args={\"n_qubits\":8,\"problem_config\":problem_config, \"load_displaying\":False,\"specific_folder_name\":\"4_bd_{}\".format(b)}\n",
    "    vqe_evaluator = Evaluator(args,loading=True, path=\"../data-vans/data-in-paper-2marzo/\")\n",
    "\n",
    "    vqe_handler = VQE(n_qubits=4,noise_config={}, problem_config=problem_config,\n",
    "                            return_lower_bound=True)\n",
    "    VAnsCircuit, cuener, indexed_circuit, resolver, bestener = vqe_evaluator.evolution[vqe_evaluator.get_best_iteration()]\n",
    "    \n",
    "    eners.append(cuener)\n",
    "    model = QNN(symbols=list(resolver.keys()), observable=vqe_handler.observable, batch_sizes=1)\n",
    "    model.compile(loss=EnergyLoss())\n",
    "    fcis.append(vqe_handler.lower_bound_energy)\n",
    "\n",
    "    ene=compute_energy(cirq.unitary(VAnsCircuit)[:,0], cirq.unitary(W), channel, Wdagger, sum(vqe_handler.observable).matrix())   \n",
    "\n",
    "    if not (b in bond_train):\n",
    "        bond_test.append(b)\n",
    "        test_energies.append(ene)\n",
    "        fcis_test.append(vqe_handler.lower_bound_energy)\n",
    "        test_states.append(cirq.unitary(VAnsCircuit)[:,0])\n",
    "        \n",
    "    else:\n",
    "        train_states.append(cirq.unitary(VAnsCircuit)[:,0])\n",
    "        train_energies.append(ene)\n",
    "        fcis_train.append(vqe_handler.lower_bound_energy)"
   ]
  },
  {
   "cell_type": "code",
   "execution_count": 14,
   "metadata": {},
   "outputs": [],
   "source": []
  },
  {
   "cell_type": "code",
   "execution_count": 23,
   "metadata": {},
   "outputs": [
    {
     "name": "stderr",
     "output_type": "stream",
     "text": [
      "/home/cooper-cooper/.local/lib/python3.6/site-packages/numpy/core/_asarray.py:138: ComplexWarning: Casting complex values to real discards the imaginary part\n",
      "  return array(a, dtype, copy=False, order=order, subok=True)\n"
     ]
    },
    {
     "data": {
      "text/plain": [
       "<matplotlib.legend.Legend at 0x7fa01407f7b8>"
      ]
     },
     "execution_count": 23,
     "metadata": {},
     "output_type": "execute_result"
    },
    {
     "data": {
      "image/png": "[encoded data removed]",
      "text/plain": [
       "<Figure size 720x720 with 1 Axes>"
      ]
     },
     "metadata": {
      "needs_background": "light"
     },
     "output_type": "display_data"
    }
   ],
   "source": []
  },
  {
   "cell_type": "code",
   "execution_count": 103,
   "metadata": {},
   "outputs": [
    {
     "data": {
      "text/plain": [
       "array([0.5 , 0.62, 0.74, 0.86, 0.98, 1.1 , 1.22, 1.34, 1.46, 1.58, 1.7 ,\n",
       "       1.82, 1.94, 2.06, 2.18, 2.3 ])"
      ]
     },
     "execution_count": 103,
     "metadata": {},
     "output_type": "execute_result"
    }
   ],
   "source": [
    "np.linspace(.5,2.3,16)"
   ]
  },
  {
   "cell_type": "code",
   "execution_count": 41,
   "metadata": {},
   "outputs": [
    {
     "data": {
      "text/plain": [
       "[(0.999987001045023-1e-16j),\n",
       " (0.9999797510382044-1e-16j),\n",
       " (0.6069880827793881+1e-16j),\n",
       " (0.9999949895617508-2e-16j),\n",
       " (0.9996692811822004-2e-16j),\n",
       " (0.9995050217309132+0j),\n",
       " (0.9999924772180666-1e-16j),\n",
       " (0.9990423218778548-2e-16j),\n",
       " (0.9982837995940435-2e-16j),\n",
       " (0.9975105269018816-1e-16j)]"
      ]
     },
     "execution_count": 41,
     "metadata": {},
     "output_type": "execute_result"
    }
   ],
   "source": []
  },
  {
   "cell_type": "code",
   "execution_count": 45,
   "metadata": {},
   "outputs": [
    {
     "data": {
      "text/plain": [
       "(0.9999999348308672+0j)"
      ]
     },
     "execution_count": 45,
     "metadata": {},
     "output_type": "execute_result"
    }
   ],
   "source": []
  },
  {
   "cell_type": "code",
   "execution_count": 48,
   "metadata": {},
   "outputs": [],
   "source": [
    "encoding = cirq.unitary(W)\n",
    "channel = channel\n",
    "decoding = Wdagger\n",
    "input_state=train_states[0]\n",
    "\n",
    "st = np.dot(encoding, input_state)\n",
    "st = np.dot(channel, st)\n",
    "st = np.dot(decoding, st)"
   ]
  },
  {
   "cell_type": "code",
   "execution_count": 49,
   "metadata": {},
   "outputs": [
    {
     "data": {
      "text/plain": [
       "array([-9.89355708e-03-1.27635707e-05j, -2.49836582e-02+1.38004124e-03j,\n",
       "        4.54590747e-04+6.67052405e-02j,  1.84268295e-03-3.71599536e-03j,\n",
       "       -9.53022842e-05-9.11785843e-05j,  3.17180018e-05-3.66148957e-05j,\n",
       "       -3.28610104e-05+2.92178700e-05j, -1.34782134e-05+2.02233733e-05j,\n",
       "        4.23065118e-05+2.17386436e-05j, -6.78983503e-05-3.10593769e-05j,\n",
       "       -7.05523044e-05+4.50857093e-05j,  1.92717968e-05-1.24983771e-05j,\n",
       "        1.72919110e-02-5.11870571e-02j,  6.20009978e-03+9.23603322e-01j,\n",
       "       -3.46534647e-01-1.60345517e-02j, -1.35885546e-01-1.23559164e-04j])"
      ]
     },
     "execution_count": 49,
     "metadata": {},
     "output_type": "execute_result"
    }
   ],
   "source": [
    "st"
   ]
  },
  {
   "cell_type": "code",
   "execution_count": 109,
   "metadata": {},
   "outputs": [],
   "source": [
    "b=0.5\n",
    "propor ={\"problem\" : \"H2\", \"geometry\": str([('H', (0., 0., 0.)), ('H', (0., 0., b))]).replace(\"\\'\",\"\"), \"multiplicity\":1, \"charge\":0, \"basis\":\"sto-3g\"}\n",
    "args={\"n_qubits\":4,\"problem_config\":propor, \"load_displaying\":False}\n",
    "vva = Evaluator(args,loading=True, path=\"../data-vans/\")\n",
    "\n",
    "bebe = VQE(n_qubits=4,noise_config={}, problem_config=propor,\n",
    "                        return_lower_bound=True)\n",
    "vanidad, cuener, indexed_circuit, resolver, bestener,_ = vva.evolution[vva.get_best_iteration()]\n"
   ]
  },
  {
   "cell_type": "code",
   "execution_count": 113,
   "metadata": {},
   "outputs": [
    {
     "data": {
      "text/plain": [
       "(0.688188329895297+2e-16j)"
      ]
     },
     "execution_count": 113,
     "metadata": {},
     "output_type": "execute_result"
    }
   ],
   "source": [
    "compute_fidelity(cirq.unitary(vanidad)[:,0], cirq.unitary(W), channel, Wdagger)"
   ]
  },
  {
   "cell_type": "code",
   "execution_count": 111,
   "metadata": {},
   "outputs": [
    {
     "data": {
      "text/plain": [
       "(0.04011726850079057+0.008174623344677681j)"
      ]
     },
     "execution_count": 111,
     "metadata": {},
     "output_type": "execute_result"
    }
   ],
   "source": [
    "np.dot(np.conjugate(st),cirq.unitary(vanidad)[:,0])"
   ]
  },
  {
   "cell_type": "code",
   "execution_count": 100,
   "metadata": {},
   "outputs": [
    {
     "data": {
      "text/plain": [
       "(-0.02060116782235159-1.0842021724855044e-19j)"
      ]
     },
     "execution_count": 100,
     "metadata": {},
     "output_type": "execute_result"
    }
   ],
   "source": [
    "v = cirq.unitary(vanidad)[:,0]\n",
    "ob =sum(bebe.observable).matrix()\n",
    "np.dot(np.conjugate(v),np.dot(ob,v))"
   ]
  },
  {
   "cell_type": "code",
   "execution_count": 112,
   "metadata": {},
   "outputs": [
    {
     "data": {
      "text/plain": [
       "<tf.Tensor: shape=(1,), dtype=float32, numpy=array([-0.7600861], dtype=float32)>"
      ]
     },
     "execution_count": 112,
     "metadata": {},
     "output_type": "execute_result"
    }
   ],
   "source": [
    "model=QNN(symbols= list(resolver.keys()),observable=bebe.observable)\n",
    "model(tfq.convert_to_tensor([vanidad]))"
   ]
  },
  {
   "cell_type": "code",
   "execution_count": 81,
   "metadata": {},
   "outputs": [],
   "source": [
    "cir = cirq.resolve_parameters(vqe_handler.give_circuit(indexed_circuit)[0], resolver)\n",
    "circ=tfq.convert_to_tensor([cir])"
   ]
  },
  {
   "cell_type": "code",
   "execution_count": 82,
   "metadata": {},
   "outputs": [
    {
     "data": {
      "text/plain": [
       "<tf.Tensor: shape=(1,), dtype=float32, numpy=array([-0.02060091], dtype=float32)>"
      ]
     },
     "execution_count": 82,
     "metadata": {},
     "output_type": "execute_result"
    }
   ],
   "source": [
    "model(circ)"
   ]
  },
  {
   "cell_type": "code",
   "execution_count": 66,
   "metadata": {},
   "outputs": [],
   "source": [
    "??QNN"
   ]
  },
  {
   "cell_type": "code",
   "execution_count": 32,
   "metadata": {},
   "outputs": [
    {
     "data": {
      "image/png": "[encoded data removed]",
      "text/plain": [
       "<Figure size 1440x1440 with 1 Axes>"
      ]
     },
     "metadata": {
      "needs_background": "light"
     },
     "output_type": "display_data"
    }
   ],
   "source": [
    "\n",
    "cost_value=[]\n",
    "for k in list(evaluator.evolution.values()):\n",
    "    cost_value.append(k[1])\n",
    "    \n",
    "    \n",
    "\n",
    "color1=\"#D79922\"\n",
    "color2=\"#4056A1\"\n",
    "color3=\"#F13C20\"\n",
    "color4=\"#5D001E\"\n",
    "color5=\"#8E8D8A\"\n",
    "import matplotlib\n",
    "\n",
    "plt.style.use('results/plots/style.mplstyle')\n",
    "matplotlib.rc(\"text\",usetex=True)\n",
    "plt.rcParams[\"font.family\"] = \"Times New Roman\"\n",
    "\n",
    "import matplotlib.colors as colors\n",
    "converter = colors.ColorConverter()\n",
    "plt.rcParams.update({'font.size': 45})\n",
    "\n",
    "\n",
    "plt.figure(figsize=(20,20))\n",
    "plt.plot(np.log10(cost_value),color=converter.to_rgb(color2),linewidth=10,alpha=0.5,label=\"VAns cost function\")\n",
    "plt.tick_params(direction='out', length=6, width=2, colors='black', grid_alpha=0.5,labelsize=40)\n",
    "#plt.xticks([0.5,2.0,1.0,1.5,2.0,2.3])\n",
    "plt.xlabel(\"Accepted modification\")\n",
    "plt.ylabel(\"Cost value \"+r'$[\\log _{10}]$')\n",
    "plt.legend(prop={\"size\":45})\n",
    "plt.savefig(\"cost_value_separable.pdf\",format=\"pdf\")"
   ]
  },
  {
   "cell_type": "markdown",
   "metadata": {},
   "source": [
    "Let's check fidelities in both train and test set"
   ]
  },
  {
   "cell_type": "code",
   "execution_count": null,
   "metadata": {},
   "outputs": [],
   "source": [
    "vqe_handler = VQE(n_qubits=4,noise_config={}, problem_config=problem_config,\n",
    "                        return_lower_bound=True)\n",
    "VAnsCircuit, cuener, indexed_circuit, resolver, bestener = vqe_evaluator.evolution[vqe_evaluator.get_best_iteration()]\n",
    "\n",
    "model = QNN(symbols=list(resolver.keys()), observable=vqe_handler.observable, batch_sizes=1)\n",
    "model.compile(loss=EnergyLoss())\n"
   ]
  },
  {
   "cell_type": "code",
   "execution_count": null,
   "metadata": {},
   "outputs": [],
   "source": [
    "model.trainable_variables[0].assign(np.array(list(resolver.values())))"
   ]
  },
  {
   "cell_type": "code",
   "execution_count": null,
   "metadata": {},
   "outputs": [],
   "source": [
    "things = auto_evaluator.evolution[auto_evaluator.get_best_iteration()]"
   ]
  },
  {
   "cell_type": "code",
   "execution_count": null,
   "metadata": {},
   "outputs": [],
   "source": [
    "things[1]"
   ]
  },
  {
   "cell_type": "code",
   "execution_count": 18,
   "metadata": {},
   "outputs": [
    {
     "data": {
      "text/plain": [
       "array([[1.+0.j, 0.+0.j, 0.+0.j, 0.+0.j, 0.+0.j, 0.+0.j, 0.+0.j, 0.+0.j],\n",
       "       [0.+0.j, 1.+0.j, 0.+0.j, 0.+0.j, 0.+0.j, 0.+0.j, 0.+0.j, 0.+0.j],\n",
       "       [0.+0.j, 0.+0.j, 1.+0.j, 0.+0.j, 0.+0.j, 0.+0.j, 0.+0.j, 0.+0.j],\n",
       "       [0.+0.j, 0.+0.j, 0.+0.j, 1.+0.j, 0.+0.j, 0.+0.j, 0.+0.j, 0.+0.j],\n",
       "       [0.+0.j, 0.+0.j, 0.+0.j, 0.+0.j, 0.+0.j, 0.+0.j, 0.+0.j, 0.+0.j],\n",
       "       [0.+0.j, 0.+0.j, 0.+0.j, 0.+0.j, 0.+0.j, 0.+0.j, 0.+0.j, 0.+0.j],\n",
       "       [0.+0.j, 0.+0.j, 0.+0.j, 0.+0.j, 0.+0.j, 0.+0.j, 0.+0.j, 0.+0.j],\n",
       "       [0.+0.j, 0.+0.j, 0.+0.j, 0.+0.j, 0.+0.j, 0.+0.j, 0.+0.j, 0.+0.j]])"
      ]
     },
     "execution_count": 18,
     "metadata": {},
     "output_type": "execute_result"
    }
   ],
   "source": []
  },
  {
   "cell_type": "code",
   "execution_count": 20,
   "metadata": {},
   "outputs": [
    {
     "data": {
      "text/plain": [
       "array([[1.+0.j, 0.+0.j],\n",
       "       [0.+0.j, 0.+0.j]])"
      ]
     },
     "execution_count": 20,
     "metadata": {},
     "output_type": "execute_result"
    }
   ],
   "source": []
  },
  {
   "cell_type": "code",
   "execution_count": null,
   "metadata": {},
   "outputs": [],
   "source": [
    "#### CHECK AT TRAIN FIDELITIES\n",
    "\n",
    "fidelities = []\n",
    "for k in range(len(auto_handler.qbatch)):\n",
    "    input_state = cirq.unitary(auto_handler.qbatch[k])[:,0]\n",
    "    channel = (np.kron(np.kron(*[auto_handler.zero_proj(vqe_handler.qubits[k]).matrix() for k in range(2)]), np.eye(4)))\n",
    "    fidelities.append(np.real(compute_fidelity(input_state, cirq.unitary(W), channel, Wdagger)))\n",
    "fidelities"
   ]
  },
  {
   "cell_type": "code",
   "execution_count": null,
   "metadata": {},
   "outputs": [],
   "source": [
    "#### CHECK AT TRAIN FIDELITIES\n",
    "\n",
    "fidelities = []\n",
    "for k in test_states:\n",
    "    input_state = k#cirq.unitary(auto_handler.qbatch[k])[:,0]\n",
    "    channel = (np.kron(np.kron(*[auto_handler.zero_proj(vqe_handler.qubits[k]).matrix() for k in range(2)]), np.eye(4)))\n",
    "    fidelities.append(np.real(compute_fidelity(input_state, cirq.unitary(W), channel, Wdagger)))\n",
    "fidelities"
   ]
  },
  {
   "cell_type": "code",
   "execution_count": null,
   "metadata": {},
   "outputs": [],
   "source": [
    "#### CHECK AT TRAIN FIDELITIES\n",
    "\n",
    "fidelities = []\n",
    "for k in train_states:\n",
    "    input_state = k#cirq.unitary(auto_handler.qbatch[k])[:,0]\n",
    "    channel = (np.kron(np.kron(*[auto_handler.zero_proj(vqe_handler.qubits[k]).matrix() for k in range(2)]), np.eye(4)))\n",
    "    fidelities.append(np.real(compute_fidelity(input_state, cirq.unitary(W), channel, Wdagger)))\n",
    "fidelities"
   ]
  },
  {
   "cell_type": "code",
   "execution_count": null,
   "metadata": {},
   "outputs": [],
   "source": [
    "st =np.dot(cirq.unitary(W),train_states[0])"
   ]
  },
  {
   "cell_type": "code",
   "execution_count": null,
   "metadata": {},
   "outputs": [],
   "source": []
  },
  {
   "cell_type": "code",
   "execution_count": null,
   "metadata": {},
   "outputs": [],
   "source": [
    "b=0.5\n",
    "problem_config ={\"problem\" : \"H2\", \"geometry\": [('H', (0., 0., 0.)), ('H', (0., 0., b))], \"multiplicity\":1, \"charge\":0, \"basis\":\"sto-3g\"}\n",
    "  \n",
    "vqe_handler = VQE(n_qubits=4,noise_config={}, problem_config=problem_config,\n",
    "                            return_lower_bound=True)"
   ]
  },
  {
   "cell_type": "code",
   "execution_count": null,
   "metadata": {},
   "outputs": [],
   "source": [
    "def compute_energy(input_state, encoding, channel, decoding, observable):\n",
    "    \"\"\"\n",
    "    we assume input_state is a ket.\n",
    "    \"\"\"\n",
    "    st = np.dot(encoding, input_state)\n",
    "    st = np.dot(channel, st)\n",
    "    st = np.dot(decoding, st)\n",
    "    return np.dot(np.conjugate(st),np.dot(observable,st))\n",
    "\n",
    "channel = (np.kron(np.kron(*[auto_handler.zero_proj(vqe_handler.qubits[k]).matrix() for k in range(2)]), np.eye(4)))\n",
    "ene=compute_energy(cirq.unitary(VAnsCircuit)[:,0], cirq.unitary(W), channel, Wdagger, sum(vqe_handler.observable).matrix())   \n",
    "print(ene,cuener)"
   ]
  },
  {
   "cell_type": "code",
   "execution_count": null,
   "metadata": {},
   "outputs": [],
   "source": [
    "b=0.5\n",
    "problem_config ={\"problem\" : \"H2\", \"geometry\": [('H', (0., 0., 0.)), ('H', (0., 0., b))], \"multiplicity\":1, \"charge\":0, \"basis\":\"sto-3g\"}\n",
    "args={\"n_qubits\":8,\"problem_config\":problem_config, \"load_displaying\":False,\"specific_folder_name\":\"4_bd_{}\".format(b)}\n",
    "vqe_evaluator = Evaluator(args,loading=True, path=\"../data-vans/data-in-paper-2marzo/\")\n",
    "\n",
    "vqe_handler = VQE(n_qubits=4,noise_config={}, problem_config=problem_config,\n",
    "                        return_lower_bound=True)\n",
    "VAnsCircuit, cuener, indexed_circuit, resolver, bestener = vqe_evaluator.evolution[vqe_evaluator.get_best_iteration()]\n"
   ]
  },
  {
   "cell_type": "code",
   "execution_count": null,
   "metadata": {},
   "outputs": [],
   "source": []
  },
  {
   "cell_type": "code",
   "execution_count": null,
   "metadata": {},
   "outputs": [],
   "source": [
    "projector = give_kronecker_of_list([auto_handler.zero_proj(vqe_handler.qubits[k]).matrix() for k in range(auto_handler.nb)])\n",
    "channel = np.kron(projector, np.eye(4))\n",
    "compute_energy(cirq.unitary(VAnsCircuit)[:,0],cirq.unitary(W), channel, Wdagger, sum(vqe_handler.observable).matrix())"
   ]
  },
  {
   "cell_type": "code",
   "execution_count": null,
   "metadata": {},
   "outputs": [],
   "source": [
    "compute_fidelity(cirq.unitary(VAnsCircuit)[:,0], cirq.unitary(W), channel, Wdagger)"
   ]
  },
  {
   "cell_type": "code",
   "execution_count": null,
   "metadata": {},
   "outputs": [],
   "source": []
  },
  {
   "cell_type": "code",
   "execution_count": null,
   "metadata": {},
   "outputs": [],
   "source": [
    "test_fidelities = []\n",
    "for k in test_states:\n",
    "    input_state = k#cirq.unitary(auto_handler.qbatch[k])[:,0]\n",
    "    channel = (np.kron(np.kron(*[auto_handler.zero_proj(vqe_handler.qbits[k]).matrix() for k in range(2)]), np.eye(4)))\n",
    "    test_fidelities.append(np.real(compute_fidelity(input_state, cirq.unitary(W), channel, Wdagger)))\n",
    "test_fidelities"
   ]
  },
  {
   "cell_type": "code",
   "execution_count": null,
   "metadata": {},
   "outputs": [],
   "source": [
    "train_fidelities = []\n",
    "for k in train_states:\n",
    "    input_state = k#cirq.unitary(auto_handler.qbatch[k])[:,0]\n",
    "    channel = (np.kron(np.kron(*[auto_handler.zero_proj(vqe_handler.qubits[k]).matrix() for k in range(2)]), np.eye(4)))\n",
    "    train_fidelities.append(np.real(compute_fidelity(input_state, cirq.unitary(W), channel, Wdagger)))\n",
    "train_fidelities"
   ]
  },
  {
   "cell_type": "code",
   "execution_count": null,
   "metadata": {},
   "outputs": [],
   "source": []
  },
  {
   "cell_type": "code",
   "execution_count": null,
   "metadata": {},
   "outputs": [],
   "source": []
  },
  {
   "cell_type": "code",
   "execution_count": null,
   "metadata": {},
   "outputs": [],
   "source": []
  },
  {
   "cell_type": "code",
   "execution_count": null,
   "metadata": {},
   "outputs": [],
   "source": [
    "channel = np.eye(2**len(auto_handler.qubits)) - (1/auto_handler.nb)*(np.kron(np.kron(*[auto_handler.zero_proj(vqe_handler.qubits[k]).matrix() for k in range(2)]), np.eye(4)))\n",
    "\n",
    "test_fidelities = []\n",
    "for state in test_states:\n",
    "    test_fidelities.append(compute_fidelity(state, W, channel, Wdagger))\n",
    "    \n",
    "train_fidelities = []\n",
    "for state in train_states:\n",
    "    train_fidelities.append(compute_fidelity(state, W, channel, Wdagger))"
   ]
  },
  {
   "cell_type": "code",
   "execution_count": null,
   "metadata": {},
   "outputs": [],
   "source": []
  },
  {
   "cell_type": "code",
   "execution_count": null,
   "metadata": {},
   "outputs": [],
   "source": []
  },
  {
   "cell_type": "code",
   "execution_count": null,
   "metadata": {},
   "outputs": [],
   "source": [
    "import os \n",
    "fol=\"results/autoencoder/H2/\"\n",
    "os.makedirs(fol,exist_ok=True)\n",
    "sts=[\"fcis_train\", \"fcis_test\", \"bond_train\",\"bond_test\", \"bonds\", \"test_fidelities\", \"train_fidelities\",\"fcisfull\"]\n",
    "fis=[fcis_train, fcis_test, bond_train, bond_test,np.linspace(0.5,2.3,16), test_fidelities, train_fidelities,fcisfull]\n",
    "for strfi, thi in zip(sts, fis):\n",
    "    np.save(fol+strfi,thi)"
   ]
  },
  {
   "cell_type": "code",
   "execution_count": null,
   "metadata": {},
   "outputs": [],
   "source": [
    "bonds=np.linspace(0.5,2.3,16)\n",
    "plt.figure(figsize=(10,10))\n",
    "plt.plot(bonds,np.ones(len(bonds)),color=\"black\",alpha=0.5,label=\"1\")\n",
    "plt.scatter(bond_train, train_fidelities, color=\"red\",label=\"Train points\")\n",
    "plt.scatter(bond_test, test_fidelities, color=\"green\",label=\"Test points\")\n",
    "plt.xlabel(\"bond length\",size=20)\n",
    "plt.ylabel(\"bond length\",size=20)\n",
    "plt.legend(prop={\"size\":20})\n",
    "plt.savefig(\"fidelities.png\")"
   ]
  }
 ],
 "metadata": {
  "kernelspec": {
   "display_name": "Python 3",
   "language": "python",
   "name": "python3"
  },
  "language_info": {
   "codemirror_mode": {
    "name": "ipython",
    "version": 3
   },
   "file_extension": ".py",
   "mimetype": "text/x-python",
   "name": "python",
   "nbconvert_exporter": "python",
   "pygments_lexer": "ipython3",
   "version": "3.6.9"
  }
 },
 "nbformat": 4,
 "nbformat_minor": 4
}
