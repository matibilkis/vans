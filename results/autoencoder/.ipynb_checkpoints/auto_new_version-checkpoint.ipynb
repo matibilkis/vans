{
 "cells": [
  {
   "cell_type": "code",
   "execution_count": 3,
   "metadata": {},
   "outputs": [
    {
     "name": "stdout",
     "output_type": "stream",
     "text": [
      "The autoreload extension is already loaded. To reload it, use:\n",
      "  %reload_ext autoreload\n"
     ]
    }
   ],
   "source": [
    "import sys\n",
    "import os \n",
    "%load_ext autoreload\n",
    "%autoreload 2\n",
    "\n",
    "os.chdir(\"/home/cooper-cooper/Desktop/vans/\")\n",
    "\n",
    "sys.path[0] = \"/home/cooper-cooper/Desktop/vans/\"\n",
    "\n",
    "\n",
    "from utilities.variational import Autoencoder\n",
    "import tensorflow_quantum as tfq\n",
    "from utilities.qmodels import QNN,EnergyLoss\n",
    "\n",
    "import tensorflow as tf\n",
    "\n",
    "from utilities.evaluator import Evaluator\n",
    "import numpy as np\n",
    "\n",
    "import matplotlib.pyplot as plt\n",
    "from IPython import display\n",
    "from tqdm import tqdm\n",
    "from utilities.variational import VQE\n",
    "import cirq\n",
    "\n",
    "from datetime import datetime\n",
    "\n",
    "from utilities.variational import VQE\n",
    "from utilities.evaluator import Evaluator\n",
    "from utilities.idinserter import IdInserter\n",
    "from utilities.simplifier import Simplifier\n",
    "from utilities.unitary_killer_autoencoder import UnitaryMurder\n",
    "from utilities.misc import scheduler_selector_temperature, scheduler_parameter_perturbation_wall #this outputs always 10 for now.\n",
    "\n",
    "\n",
    "\n",
    "### load pure states\n",
    "\n",
    "indexed_pure_states=[]\n",
    "resolver_pure_states=[]\n",
    "train_bonds=[]\n",
    "js=np.linspace(0.5,2.3,16)[0::3]\n",
    "for bond in js:\n",
    "    problem_config ={\"problem\" : \"H2\", \"geometry\": [('H', (0., 0., 0.)), ('H', (0., 0., bond))], \"multiplicity\":1, \"charge\":0, \"basis\":\"sto-3g\"}\n",
    "    args={\"n_qubits\":8,\"problem_config\":problem_config, \"load_displaying\":False,\"specific_folder_name\":\"4_bd_{}\".format(bond)}\n",
    "    evaluator = Evaluator(args,loading=True, path=\"../data-vans/data-in-paper-2marzo/\")\n",
    "    #energies.append(evaluator.raw_history[len(list(evaluator.raw_history.keys()))-1][-1])\n",
    "    vqe_handler = VQE(n_qubits=4,noise_config={}, problem_config=problem_config,\n",
    "                            return_lower_bound=True)\n",
    "    _, cuener, indexed_circuit, resolver, bestener = evaluator.evolution[evaluator.get_best_iteration()]\n",
    "    indexed_pure_states.append(indexed_circuit)\n",
    "    resolver_pure_states.append(resolver)\n",
    "    train_bonds.append(bond)"
   ]
  },
  {
   "cell_type": "code",
   "execution_count": 5,
   "metadata": {},
   "outputs": [
    {
     "name": "stdout",
     "output_type": "stream",
     "text": [
      "beggining to train!\n",
      "\n",
      "Iteration #0\n",
      "Time since beggining:0:00:05.522697\n",
      " best energy: 0.11040329933166504\n",
      "current_energy 0.11040329933166504\n",
      " lower_bound: 0.0\n",
      "I killed 1 unitaries, Ef - Ei: 0.0\n",
      "I killed 2 unitaries, Ef - Ei: 0.0\n",
      "I killed 3 unitaries, Ef - Ei: 0.0\n",
      "\n",
      "Iteration #1\n",
      "Time since beggining:0:01:09.067428\n",
      " best energy: 0.02775019407272339\n",
      "current energy: 0.02775019407272339\n",
      " lower_bound: 0.0\n"
     ]
    },
    {
     "ename": "KeyboardInterrupt",
     "evalue": "",
     "output_type": "error",
     "traceback": [
      "\u001b[0;31m---------------------------------------------------------------------------\u001b[0m",
      "\u001b[0;31mKeyboardInterrupt\u001b[0m                         Traceback (most recent call last)",
      "\u001b[0;32m<ipython-input-5-b93989d8438e>\u001b[0m in \u001b[0;36m<module>\u001b[0;34m\u001b[0m\n\u001b[1;32m     60\u001b[0m     MSenergy, MSsymbols_to_values, _ = auto_handler.autoencoder(\n\u001b[1;32m     61\u001b[0m         \u001b[0mSindices\u001b[0m\u001b[0;34m,\u001b[0m \u001b[0msymbols_to_values\u001b[0m\u001b[0;34m=\u001b[0m\u001b[0mSsymbols_to_values\u001b[0m\u001b[0;34m,\u001b[0m\u001b[0;34m\u001b[0m\u001b[0;34m\u001b[0m\u001b[0m\n\u001b[0;32m---> 62\u001b[0;31m         parameter_perturbation_wall=scheduler_parameter_perturbation_wall(its_without_improvig=evaluator.its_without_improvig))\n\u001b[0m\u001b[1;32m     63\u001b[0m \u001b[0;34m\u001b[0m\u001b[0m\n\u001b[1;32m     64\u001b[0m     \u001b[0;32mif\u001b[0m \u001b[0mevaluator\u001b[0m\u001b[0;34m.\u001b[0m\u001b[0maccept_energy\u001b[0m\u001b[0;34m(\u001b[0m\u001b[0mMSenergy\u001b[0m\u001b[0;34m)\u001b[0m\u001b[0;34m:\u001b[0m\u001b[0;34m\u001b[0m\u001b[0;34m\u001b[0m\u001b[0m\n",
      "\u001b[0;32m~/Desktop/vans/utilities/variational.py\u001b[0m in \u001b[0;36mautoencoder\u001b[0;34m(self, indexed_circuit, symbols_to_values, parameter_perturbation_wall)\u001b[0m\n\u001b[1;32m    305\u001b[0m         \u001b[0;31m#\u001b[0m\u001b[0;34m\u001b[0m\u001b[0;34m\u001b[0m\u001b[0;34m\u001b[0m\u001b[0m\n\u001b[1;32m    306\u001b[0m \u001b[0;34m\u001b[0m\u001b[0m\n\u001b[0;32m--> 307\u001b[0;31m         \u001b[0mtraining_history\u001b[0m \u001b[0;34m=\u001b[0m \u001b[0mmodel\u001b[0m\u001b[0;34m.\u001b[0m\u001b[0mfit\u001b[0m\u001b[0;34m(\u001b[0m\u001b[0mx\u001b[0m\u001b[0;34m=\u001b[0m\u001b[0mtfqcircuit\u001b[0m\u001b[0;34m,\u001b[0m \u001b[0my\u001b[0m\u001b[0;34m=\u001b[0m\u001b[0mtf\u001b[0m\u001b[0;34m.\u001b[0m\u001b[0mzeros\u001b[0m\u001b[0;34m(\u001b[0m\u001b[0;34m(\u001b[0m\u001b[0mself\u001b[0m\u001b[0;34m.\u001b[0m\u001b[0mq_batch_size\u001b[0m\u001b[0;34m,\u001b[0m\u001b[0;34m)\u001b[0m\u001b[0;34m)\u001b[0m\u001b[0;34m,\u001b[0m\u001b[0mverbose\u001b[0m\u001b[0;34m=\u001b[0m\u001b[0mself\u001b[0m\u001b[0;34m.\u001b[0m\u001b[0mverbose\u001b[0m\u001b[0;34m,\u001b[0m \u001b[0mepochs\u001b[0m\u001b[0;34m=\u001b[0m\u001b[0mself\u001b[0m\u001b[0;34m.\u001b[0m\u001b[0mepochs\u001b[0m\u001b[0;34m,\u001b[0m \u001b[0mbatch_size\u001b[0m\u001b[0;34m=\u001b[0m\u001b[0mself\u001b[0m\u001b[0;34m.\u001b[0m\u001b[0mq_batch_size\u001b[0m\u001b[0;34m,\u001b[0m \u001b[0mcallbacks\u001b[0m\u001b[0;34m=\u001b[0m\u001b[0mcalls\u001b[0m\u001b[0;34m)\u001b[0m\u001b[0;34m\u001b[0m\u001b[0;34m\u001b[0m\u001b[0m\n\u001b[0m\u001b[1;32m    308\u001b[0m         \u001b[0;31m#\u001b[0m\u001b[0;34m\u001b[0m\u001b[0;34m\u001b[0m\u001b[0;34m\u001b[0m\u001b[0m\n\u001b[1;32m    309\u001b[0m     \u001b[0;31m#    antifidelity = 1-(((1/self.nb)*model.cost_value.result())/len(self.qbatch)) #equal priors.\u001b[0m\u001b[0;34m\u001b[0m\u001b[0;34m\u001b[0m\u001b[0;34m\u001b[0m\u001b[0m\n",
      "\u001b[0;32m~/.local/lib/python3.6/site-packages/tensorflow/python/keras/engine/training.py\u001b[0m in \u001b[0;36m_method_wrapper\u001b[0;34m(self, *args, **kwargs)\u001b[0m\n\u001b[1;32m    106\u001b[0m   \u001b[0;32mdef\u001b[0m \u001b[0m_method_wrapper\u001b[0m\u001b[0;34m(\u001b[0m\u001b[0mself\u001b[0m\u001b[0;34m,\u001b[0m \u001b[0;34m*\u001b[0m\u001b[0margs\u001b[0m\u001b[0;34m,\u001b[0m \u001b[0;34m**\u001b[0m\u001b[0mkwargs\u001b[0m\u001b[0;34m)\u001b[0m\u001b[0;34m:\u001b[0m\u001b[0;34m\u001b[0m\u001b[0;34m\u001b[0m\u001b[0m\n\u001b[1;32m    107\u001b[0m     \u001b[0;32mif\u001b[0m \u001b[0;32mnot\u001b[0m \u001b[0mself\u001b[0m\u001b[0;34m.\u001b[0m\u001b[0m_in_multi_worker_mode\u001b[0m\u001b[0;34m(\u001b[0m\u001b[0;34m)\u001b[0m\u001b[0;34m:\u001b[0m  \u001b[0;31m# pylint: disable=protected-access\u001b[0m\u001b[0;34m\u001b[0m\u001b[0;34m\u001b[0m\u001b[0m\n\u001b[0;32m--> 108\u001b[0;31m       \u001b[0;32mreturn\u001b[0m \u001b[0mmethod\u001b[0m\u001b[0;34m(\u001b[0m\u001b[0mself\u001b[0m\u001b[0;34m,\u001b[0m \u001b[0;34m*\u001b[0m\u001b[0margs\u001b[0m\u001b[0;34m,\u001b[0m \u001b[0;34m**\u001b[0m\u001b[0mkwargs\u001b[0m\u001b[0;34m)\u001b[0m\u001b[0;34m\u001b[0m\u001b[0;34m\u001b[0m\u001b[0m\n\u001b[0m\u001b[1;32m    109\u001b[0m \u001b[0;34m\u001b[0m\u001b[0m\n\u001b[1;32m    110\u001b[0m     \u001b[0;31m# Running inside `run_distribute_coordinator` already.\u001b[0m\u001b[0;34m\u001b[0m\u001b[0;34m\u001b[0m\u001b[0;34m\u001b[0m\u001b[0m\n",
      "\u001b[0;32m~/.local/lib/python3.6/site-packages/tensorflow/python/keras/engine/training.py\u001b[0m in \u001b[0;36mfit\u001b[0;34m(self, x, y, batch_size, epochs, verbose, callbacks, validation_split, validation_data, shuffle, class_weight, sample_weight, initial_epoch, steps_per_epoch, validation_steps, validation_batch_size, validation_freq, max_queue_size, workers, use_multiprocessing)\u001b[0m\n\u001b[1;32m   1096\u001b[0m                 batch_size=batch_size):\n\u001b[1;32m   1097\u001b[0m               \u001b[0mcallbacks\u001b[0m\u001b[0;34m.\u001b[0m\u001b[0mon_train_batch_begin\u001b[0m\u001b[0;34m(\u001b[0m\u001b[0mstep\u001b[0m\u001b[0;34m)\u001b[0m\u001b[0;34m\u001b[0m\u001b[0;34m\u001b[0m\u001b[0m\n\u001b[0;32m-> 1098\u001b[0;31m               \u001b[0mtmp_logs\u001b[0m \u001b[0;34m=\u001b[0m \u001b[0mtrain_function\u001b[0m\u001b[0;34m(\u001b[0m\u001b[0miterator\u001b[0m\u001b[0;34m)\u001b[0m\u001b[0;34m\u001b[0m\u001b[0;34m\u001b[0m\u001b[0m\n\u001b[0m\u001b[1;32m   1099\u001b[0m               \u001b[0;32mif\u001b[0m \u001b[0mdata_handler\u001b[0m\u001b[0;34m.\u001b[0m\u001b[0mshould_sync\u001b[0m\u001b[0;34m:\u001b[0m\u001b[0;34m\u001b[0m\u001b[0;34m\u001b[0m\u001b[0m\n\u001b[1;32m   1100\u001b[0m                 \u001b[0mcontext\u001b[0m\u001b[0;34m.\u001b[0m\u001b[0masync_wait\u001b[0m\u001b[0;34m(\u001b[0m\u001b[0;34m)\u001b[0m\u001b[0;34m\u001b[0m\u001b[0;34m\u001b[0m\u001b[0m\n",
      "\u001b[0;32m~/.local/lib/python3.6/site-packages/tensorflow/python/eager/def_function.py\u001b[0m in \u001b[0;36m__call__\u001b[0;34m(self, *args, **kwds)\u001b[0m\n\u001b[1;32m    778\u001b[0m       \u001b[0;32melse\u001b[0m\u001b[0;34m:\u001b[0m\u001b[0;34m\u001b[0m\u001b[0;34m\u001b[0m\u001b[0m\n\u001b[1;32m    779\u001b[0m         \u001b[0mcompiler\u001b[0m \u001b[0;34m=\u001b[0m \u001b[0;34m\"nonXla\"\u001b[0m\u001b[0;34m\u001b[0m\u001b[0;34m\u001b[0m\u001b[0m\n\u001b[0;32m--> 780\u001b[0;31m         \u001b[0mresult\u001b[0m \u001b[0;34m=\u001b[0m \u001b[0mself\u001b[0m\u001b[0;34m.\u001b[0m\u001b[0m_call\u001b[0m\u001b[0;34m(\u001b[0m\u001b[0;34m*\u001b[0m\u001b[0margs\u001b[0m\u001b[0;34m,\u001b[0m \u001b[0;34m**\u001b[0m\u001b[0mkwds\u001b[0m\u001b[0;34m)\u001b[0m\u001b[0;34m\u001b[0m\u001b[0;34m\u001b[0m\u001b[0m\n\u001b[0m\u001b[1;32m    781\u001b[0m \u001b[0;34m\u001b[0m\u001b[0m\n\u001b[1;32m    782\u001b[0m       \u001b[0mnew_tracing_count\u001b[0m \u001b[0;34m=\u001b[0m \u001b[0mself\u001b[0m\u001b[0;34m.\u001b[0m\u001b[0m_get_tracing_count\u001b[0m\u001b[0;34m(\u001b[0m\u001b[0;34m)\u001b[0m\u001b[0;34m\u001b[0m\u001b[0;34m\u001b[0m\u001b[0m\n",
      "\u001b[0;32m~/.local/lib/python3.6/site-packages/tensorflow/python/eager/def_function.py\u001b[0m in \u001b[0;36m_call\u001b[0;34m(self, *args, **kwds)\u001b[0m\n\u001b[1;32m    805\u001b[0m       \u001b[0;31m# In this case we have created variables on the first call, so we run the\u001b[0m\u001b[0;34m\u001b[0m\u001b[0;34m\u001b[0m\u001b[0;34m\u001b[0m\u001b[0m\n\u001b[1;32m    806\u001b[0m       \u001b[0;31m# defunned version which is guaranteed to never create variables.\u001b[0m\u001b[0;34m\u001b[0m\u001b[0;34m\u001b[0m\u001b[0;34m\u001b[0m\u001b[0m\n\u001b[0;32m--> 807\u001b[0;31m       \u001b[0;32mreturn\u001b[0m \u001b[0mself\u001b[0m\u001b[0;34m.\u001b[0m\u001b[0m_stateless_fn\u001b[0m\u001b[0;34m(\u001b[0m\u001b[0;34m*\u001b[0m\u001b[0margs\u001b[0m\u001b[0;34m,\u001b[0m \u001b[0;34m**\u001b[0m\u001b[0mkwds\u001b[0m\u001b[0;34m)\u001b[0m  \u001b[0;31m# pylint: disable=not-callable\u001b[0m\u001b[0;34m\u001b[0m\u001b[0;34m\u001b[0m\u001b[0m\n\u001b[0m\u001b[1;32m    808\u001b[0m     \u001b[0;32melif\u001b[0m \u001b[0mself\u001b[0m\u001b[0;34m.\u001b[0m\u001b[0m_stateful_fn\u001b[0m \u001b[0;32mis\u001b[0m \u001b[0;32mnot\u001b[0m \u001b[0;32mNone\u001b[0m\u001b[0;34m:\u001b[0m\u001b[0;34m\u001b[0m\u001b[0;34m\u001b[0m\u001b[0m\n\u001b[1;32m    809\u001b[0m       \u001b[0;31m# Release the lock early so that multiple threads can perform the call\u001b[0m\u001b[0;34m\u001b[0m\u001b[0;34m\u001b[0m\u001b[0;34m\u001b[0m\u001b[0m\n",
      "\u001b[0;32m~/.local/lib/python3.6/site-packages/tensorflow/python/eager/function.py\u001b[0m in \u001b[0;36m__call__\u001b[0;34m(self, *args, **kwargs)\u001b[0m\n\u001b[1;32m   2827\u001b[0m     \u001b[0;32mwith\u001b[0m \u001b[0mself\u001b[0m\u001b[0;34m.\u001b[0m\u001b[0m_lock\u001b[0m\u001b[0;34m:\u001b[0m\u001b[0;34m\u001b[0m\u001b[0;34m\u001b[0m\u001b[0m\n\u001b[1;32m   2828\u001b[0m       \u001b[0mgraph_function\u001b[0m\u001b[0;34m,\u001b[0m \u001b[0margs\u001b[0m\u001b[0;34m,\u001b[0m \u001b[0mkwargs\u001b[0m \u001b[0;34m=\u001b[0m \u001b[0mself\u001b[0m\u001b[0;34m.\u001b[0m\u001b[0m_maybe_define_function\u001b[0m\u001b[0;34m(\u001b[0m\u001b[0margs\u001b[0m\u001b[0;34m,\u001b[0m \u001b[0mkwargs\u001b[0m\u001b[0;34m)\u001b[0m\u001b[0;34m\u001b[0m\u001b[0;34m\u001b[0m\u001b[0m\n\u001b[0;32m-> 2829\u001b[0;31m     \u001b[0;32mreturn\u001b[0m \u001b[0mgraph_function\u001b[0m\u001b[0;34m.\u001b[0m\u001b[0m_filtered_call\u001b[0m\u001b[0;34m(\u001b[0m\u001b[0margs\u001b[0m\u001b[0;34m,\u001b[0m \u001b[0mkwargs\u001b[0m\u001b[0;34m)\u001b[0m  \u001b[0;31m# pylint: disable=protected-access\u001b[0m\u001b[0;34m\u001b[0m\u001b[0;34m\u001b[0m\u001b[0m\n\u001b[0m\u001b[1;32m   2830\u001b[0m \u001b[0;34m\u001b[0m\u001b[0m\n\u001b[1;32m   2831\u001b[0m   \u001b[0;34m@\u001b[0m\u001b[0mproperty\u001b[0m\u001b[0;34m\u001b[0m\u001b[0;34m\u001b[0m\u001b[0m\n",
      "\u001b[0;32m~/.local/lib/python3.6/site-packages/tensorflow/python/eager/function.py\u001b[0m in \u001b[0;36m_filtered_call\u001b[0;34m(self, args, kwargs, cancellation_manager)\u001b[0m\n\u001b[1;32m   1846\u001b[0m                            resource_variable_ops.BaseResourceVariable))],\n\u001b[1;32m   1847\u001b[0m         \u001b[0mcaptured_inputs\u001b[0m\u001b[0;34m=\u001b[0m\u001b[0mself\u001b[0m\u001b[0;34m.\u001b[0m\u001b[0mcaptured_inputs\u001b[0m\u001b[0;34m,\u001b[0m\u001b[0;34m\u001b[0m\u001b[0;34m\u001b[0m\u001b[0m\n\u001b[0;32m-> 1848\u001b[0;31m         cancellation_manager=cancellation_manager)\n\u001b[0m\u001b[1;32m   1849\u001b[0m \u001b[0;34m\u001b[0m\u001b[0m\n\u001b[1;32m   1850\u001b[0m   \u001b[0;32mdef\u001b[0m \u001b[0m_call_flat\u001b[0m\u001b[0;34m(\u001b[0m\u001b[0mself\u001b[0m\u001b[0;34m,\u001b[0m \u001b[0margs\u001b[0m\u001b[0;34m,\u001b[0m \u001b[0mcaptured_inputs\u001b[0m\u001b[0;34m,\u001b[0m \u001b[0mcancellation_manager\u001b[0m\u001b[0;34m=\u001b[0m\u001b[0;32mNone\u001b[0m\u001b[0;34m)\u001b[0m\u001b[0;34m:\u001b[0m\u001b[0;34m\u001b[0m\u001b[0;34m\u001b[0m\u001b[0m\n",
      "\u001b[0;32m~/.local/lib/python3.6/site-packages/tensorflow/python/eager/function.py\u001b[0m in \u001b[0;36m_call_flat\u001b[0;34m(self, args, captured_inputs, cancellation_manager)\u001b[0m\n\u001b[1;32m   1922\u001b[0m       \u001b[0;31m# No tape is watching; skip to running the function.\u001b[0m\u001b[0;34m\u001b[0m\u001b[0;34m\u001b[0m\u001b[0;34m\u001b[0m\u001b[0m\n\u001b[1;32m   1923\u001b[0m       return self._build_call_outputs(self._inference_function.call(\n\u001b[0;32m-> 1924\u001b[0;31m           ctx, args, cancellation_manager=cancellation_manager))\n\u001b[0m\u001b[1;32m   1925\u001b[0m     forward_backward = self._select_forward_and_backward_functions(\n\u001b[1;32m   1926\u001b[0m         \u001b[0margs\u001b[0m\u001b[0;34m,\u001b[0m\u001b[0;34m\u001b[0m\u001b[0;34m\u001b[0m\u001b[0m\n",
      "\u001b[0;32m~/.local/lib/python3.6/site-packages/tensorflow/python/eager/function.py\u001b[0m in \u001b[0;36mcall\u001b[0;34m(self, ctx, args, cancellation_manager)\u001b[0m\n\u001b[1;32m    548\u001b[0m               \u001b[0minputs\u001b[0m\u001b[0;34m=\u001b[0m\u001b[0margs\u001b[0m\u001b[0;34m,\u001b[0m\u001b[0;34m\u001b[0m\u001b[0;34m\u001b[0m\u001b[0m\n\u001b[1;32m    549\u001b[0m               \u001b[0mattrs\u001b[0m\u001b[0;34m=\u001b[0m\u001b[0mattrs\u001b[0m\u001b[0;34m,\u001b[0m\u001b[0;34m\u001b[0m\u001b[0;34m\u001b[0m\u001b[0m\n\u001b[0;32m--> 550\u001b[0;31m               ctx=ctx)\n\u001b[0m\u001b[1;32m    551\u001b[0m         \u001b[0;32melse\u001b[0m\u001b[0;34m:\u001b[0m\u001b[0;34m\u001b[0m\u001b[0;34m\u001b[0m\u001b[0m\n\u001b[1;32m    552\u001b[0m           outputs = execute.execute_with_cancellation(\n",
      "\u001b[0;32m~/.local/lib/python3.6/site-packages/tensorflow/python/eager/execute.py\u001b[0m in \u001b[0;36mquick_execute\u001b[0;34m(op_name, num_outputs, inputs, attrs, ctx, name)\u001b[0m\n\u001b[1;32m     58\u001b[0m     \u001b[0mctx\u001b[0m\u001b[0;34m.\u001b[0m\u001b[0mensure_initialized\u001b[0m\u001b[0;34m(\u001b[0m\u001b[0;34m)\u001b[0m\u001b[0;34m\u001b[0m\u001b[0;34m\u001b[0m\u001b[0m\n\u001b[1;32m     59\u001b[0m     tensors = pywrap_tfe.TFE_Py_Execute(ctx._handle, device_name, op_name,\n\u001b[0;32m---> 60\u001b[0;31m                                         inputs, attrs, num_outputs)\n\u001b[0m\u001b[1;32m     61\u001b[0m   \u001b[0;32mexcept\u001b[0m \u001b[0mcore\u001b[0m\u001b[0;34m.\u001b[0m\u001b[0m_NotOkStatusException\u001b[0m \u001b[0;32mas\u001b[0m \u001b[0me\u001b[0m\u001b[0;34m:\u001b[0m\u001b[0;34m\u001b[0m\u001b[0;34m\u001b[0m\u001b[0m\n\u001b[1;32m     62\u001b[0m     \u001b[0;32mif\u001b[0m \u001b[0mname\u001b[0m \u001b[0;32mis\u001b[0m \u001b[0;32mnot\u001b[0m \u001b[0;32mNone\u001b[0m\u001b[0;34m:\u001b[0m\u001b[0;34m\u001b[0m\u001b[0;34m\u001b[0m\u001b[0m\n",
      "\u001b[0;31mKeyboardInterrupt\u001b[0m: "
     ]
    }
   ],
   "source": [
    "\n",
    "auto_handler = Autoencoder(n_qubits=4,problem_config=problem_config, nb=1, lr = 0.01,\n",
    "                        epochs=5000, verbose=0,\n",
    "                        patience=200, optimizer=\"adam\",\n",
    "                        many_indexed_circuits=indexed_pure_states, many_symbols_to_values=resolver_pure_states)\n",
    "\n",
    "evaluator = Evaluator(args={\"n_qubits\":4,\n",
    "                            \"problem_config\":{\"problem\":\"AutoencoderH2\",\"n_qubits\":3},\n",
    "                            \"noise_config\":{}},\n",
    "                      info=\"\", \n",
    "                      path=\"../data-vans/\", acceptance_percentage=1e-4,\n",
    "                      accuracy_to_end=0., reduce_acceptance_percentage=True)\n",
    "\n",
    "info = \"AUTOENCODEr\\ntotal_qubits: {}\\ntrash_qubits: {}\\n\".format(len(auto_handler.qubits), auto_handler.nb)\n",
    "evaluator.displaying[\"information\"]+=info\n",
    "\n",
    "\n",
    "start = datetime.now()\n",
    "\n",
    "initialization=\"hea\"\n",
    "\n",
    "selector_temperature=20\n",
    "reps=25\n",
    "rate_iids_per_step=1.5\n",
    "wait_to_get_back=10\n",
    "\n",
    "iid = IdInserter(n_qubits=len(auto_handler.qubits))\n",
    "iid.selector_temperature = selector_temperature\n",
    "\n",
    "#Simplifier reduces gates number as much as possible while keeping same expected value of target hamiltonian\n",
    "Simp = Simplifier(n_qubits=len(auto_handler.qubits))\n",
    "\n",
    "#UnitaryMuerder is in charge of evaluating changes on the energy while setting apart one (or more) parametrized gates. If\n",
    "killer = UnitaryMurder(auto_handler, many_indexed_circuits=indexed_pure_states, many_symbols_to_values=resolver_pure_states, noise_config={}, accept_wall=1e5)\n",
    "\n",
    "#indexed_circuit = auto_handler.hea_ansatz_indexed_circuit(L=4)\n",
    "inexed_circuit = [auto_handler.number_of_cnots+k for k in range(auto_handler.n_qubits,2*vqe_handler.n_qubits)]\n",
    "print(\"beggining to train!\")\n",
    "energy, symbol_to_value, training_evolution = auto_handler.autoencoder(indexed_circuit) #compute energy\n",
    "#add initial info to evaluator\n",
    "\n",
    "\n",
    "to_print=\"\\nIteration #{}\\nTime since beggining:{}\\n best energy: {}\\ncurrent_energy {}\\n lower_bound: {}\".format(0, datetime.now()-start, energy, energy, evaluator.accuracy_to_end)\n",
    "print(to_print)\n",
    "evaluator.displaying[\"information\"]+=to_print\n",
    "\n",
    "evaluator.add_step(indexed_circuit, symbol_to_value, energy, relevant=True)\n",
    "evaluator.lowest_energy = energy\n",
    "\n",
    "for iteration in range(1,reps+1):\n",
    "    relevant=False\n",
    "\n",
    "    ### create a mutation M (maybe this word is too fancy); we add (probably more than one) identity resolution\n",
    "    iid.selector_temperature=scheduler_selector_temperature(energy, evaluator.lowest_energy, when_on=selector_temperature)\n",
    "    M_indices, M_symbols_to_values, M_idx_to_symbols = iid.place_identities(indexed_circuit, symbol_to_value, rate_iids_per_step= rate_iids_per_step)\n",
    "\n",
    "    ### simplify the circuit as much as possible\n",
    "    Sindices, Ssymbols_to_values, Sindex_to_symbols = Simp.reduce_circuit(M_indices, M_symbols_to_values, M_idx_to_symbols)\n",
    "\n",
    "    ## compute the energy of the mutated-simplified circuit [Note 1]\n",
    "    MSenergy, MSsymbols_to_values, _ = auto_handler.autoencoder(\n",
    "        Sindices, symbols_to_values=Ssymbols_to_values,\n",
    "        parameter_perturbation_wall=scheduler_parameter_perturbation_wall(its_without_improvig=evaluator.its_without_improvig))\n",
    "\n",
    "    if evaluator.accept_energy(MSenergy):\n",
    "        indexed_circuit, symbol_to_value, index_to_symbols = Sindices, MSsymbols_to_values, Sindex_to_symbols\n",
    "        # unitary slaughter: delete as many 1-qubit gates as possible, as long as the energy doesn't go up (we allow %1 increments per iteration)\n",
    "        cnt=0\n",
    "        reduced=True\n",
    "        lmax=len(indexed_circuit)\n",
    "        while reduced and cnt < lmax:\n",
    "            indexed_circuit, symbol_to_value, index_to_symbols, energy, reduced = killer.unitary_slaughter(indexed_circuit, symbol_to_value, index_to_symbols, reference_energy=MSenergy)\n",
    "            indexed_circuit, symbol_to_value, index_to_symbols = Simp.reduce_circuit(indexed_circuit, symbol_to_value, index_to_symbols)\n",
    "            cnt+=1\n",
    "        relevant=True\n",
    "    evaluator.add_step(indexed_circuit, symbol_to_value, energy, relevant=relevant)\n",
    "\n",
    "    to_print=\"\\nIteration #{}\\nTime since beggining:{}\\n best energy: {}\\ncurrent energy: {}\\n lower_bound: {}\".format(iteration, datetime.now()-start, evaluator.lowest_energy,energy, evaluator.accuracy_to_end)\n",
    "    print(to_print)\n",
    "    evaluator.displaying[\"information\"]+=to_print\n",
    "\n",
    "    evaluator.save_dicts_and_displaying()\n",
    "\n",
    "    if evaluator.if_finish_ok is True:\n",
    "        print(\"HOMEWORK DONE! \\nBeers on me ;)\")\n",
    "        break\n",
    "\n",
    "    if evaluator.its_without_improvig == wait_to_get_back:\n",
    "        print(\"Getting back to favorite, it's been already {} iterations\".format(wait_to_get_back))\n",
    "        _, energy, indices, resolver, _, _ =  evaluator.evolution[evaluator.get_best_iteration()]\n",
    "        evaluator.its_without_improvig = 0\n"
   ]
  },
  {
   "cell_type": "markdown",
   "metadata": {},
   "source": [
    "Now we construct the inverse circuit.\n",
    "\n",
    "Let's say that VQE-VAns prepares the state $| \\psi_i >$ as $V_i |0>$. Then VAns finds an autoencoder circuit $W$.\n",
    "\n",
    "Then we'll check at the average fidelity $\\sum_i |<\\psi_i| \\tilde{\\psi}_i> |^{2}$\n",
    "\n",
    "with  $|\\tilde{\\psi}_i> = (\\mathcal{E} \\circ \\mathcal{M} \\circ \\mathcal{D}) \\; |\\psi_i>$; \n",
    "\n",
    "with $\\mathcal{E} = W$, $\\mathcal{D} = W^{\\dagger}$ and $\\mathcal{M} = \\mathcal{I}_{AB} - \\dfrac{1}{n_B} ( \\sum_j |0>_{j_B}<0| \\times \\mathcal{I}_{A, \\bar{j}})$"
   ]
  },
  {
   "cell_type": "code",
   "execution_count": null,
   "metadata": {},
   "outputs": [],
   "source": [
    "W, cost, indexed_circuit, resolver, best_infidelity,_ = evaluator.evolution[evaluator.get_best_iteration()]\n",
    "\n",
    "inverse_indexed_circuit, inversolver, Wdagger = auto_handler.give_inverse(indexed_circuit,resolver)\n",
    "Wdagger = cirq.unitary(Wdagger)"
   ]
  },
  {
   "cell_type": "code",
   "execution_count": null,
   "metadata": {},
   "outputs": [],
   "source": [
    "\n",
    "def compute_fidelity(input_state, encoding, channel, decoding):\n",
    "    \"\"\"\n",
    "    we assume input_state is a ket.\n",
    "    \"\"\"\n",
    "    st = np.dot(encoding, input_state)\n",
    "    st = np.dot(channel, st)\n",
    "    st = np.dot(decoding, st)\n",
    "    return np.round(np.dot(np.conjugate(input_state),st), 16)\n",
    "\n",
    "def compute_energy(input_state, encoding, channel, decoding, observable):\n",
    "    \"\"\"\n",
    "    we assume input_state is a ket.\n",
    "    \"\"\"\n",
    "    st = np.dot(encoding, input_state)\n",
    "    st = np.dot(channel, st)\n",
    "    st = np.dot(decoding, st)\n",
    "    return np.dot(np.conjugate(st),np.dot(observable,st))\n"
   ]
  },
  {
   "cell_type": "code",
   "execution_count": null,
   "metadata": {},
   "outputs": [],
   "source": [
    "auto_handler.observable[0].dense(auto_handler.qubits)"
   ]
  },
  {
   "cell_type": "code",
   "execution_count": null,
   "metadata": {},
   "outputs": [],
   "source": [
    "sum(auto_handler.observable).matrix().dense(auto_handler.qubits)"
   ]
  },
  {
   "cell_type": "code",
   "execution_count": null,
   "metadata": {},
   "outputs": [],
   "source": [
    "bond_train=np.linspace(0.5,2.3,16)[0::3]\n",
    "bond_test=[]\n",
    "test_energies = []\n",
    "test_states=[]\n",
    "train_energies=[]\n",
    "fcis=[]\n",
    "fcis_test=[]\n",
    "eners=[]\n",
    "fcis_train=[]\n",
    "train_states=[]\n",
    "for b in tqdm(np.linspace(0.5,2.3,16)):\n",
    "    problem_config ={\"problem\" : \"H2\", \"geometry\": [('H', (0., 0., 0.)), ('H', (0., 0., b))], \"multiplicity\":1, \"charge\":0, \"basis\":\"sto-3g\"}\n",
    "    args={\"n_qubits\":8,\"problem_config\":problem_config, \"load_displaying\":False,\"specific_folder_name\":\"4_bd_{}\".format(b)}\n",
    "    vqe_evaluator = Evaluator(args,loading=True, path=\"../data-vans/data-in-paper-2marzo/\")\n",
    "\n",
    "    vqe_handler = VQE(n_qubits=4,noise_config={}, problem_config=problem_config,\n",
    "                            return_lower_bound=True)\n",
    "    VAnsCircuit, cuener, indexed_circuit, resolver, bestener = vqe_evaluator.evolution[vqe_evaluator.get_best_iteration()]\n",
    "    \n",
    "    eners.append(cuener)\n",
    "    model = QNN(symbols=list(resolver.keys()), observable=vqe_handler.observable, batch_sizes=1)\n",
    "    model.compile(loss=EnergyLoss())\n",
    "    fcis.append(vqe_handler.lower_bound_energy)\n",
    "\n",
    "    channel = (np.kron(np.kron(*[auto_handler.zero_proj(vqe_handler.qubits[k]).matrix() for k in range(2)]), np.eye(4)))\n",
    "    ene=compute_energy(cirq.unitary(VAnsCircuit)[:,0], cirq.unitary(W), channel, Wdagger, sum(vqe_handler.observable).matrix())   \n",
    "\n",
    "    if not (b in bond_train):\n",
    "        bond_test.append(b)\n",
    "        test_energies.append(ene)\n",
    "        fcis_test.append(vqe_handler.lower_bound_energy)\n",
    "        test_states.append(cirq.unitary(VAnsCircuit)[:,0])\n",
    "        \n",
    "    else:\n",
    "        train_states.append(cirq.unitary(VAnsCircuit)[:,0])\n",
    "        train_energies.append(ene)\n",
    "        fcis_train.append(vqe_handler.lower_bound_energy)"
   ]
  },
  {
   "cell_type": "code",
   "execution_count": null,
   "metadata": {},
   "outputs": [],
   "source": []
  },
  {
   "cell_type": "code",
   "execution_count": null,
   "metadata": {},
   "outputs": [],
   "source": [
    "#fcisfull=[]\n",
    "#for b in tqdm(np.linspace(0.5,2.3,100)):\n",
    "#    problem_config ={\"problem\" : \"H2\", \"geometry\": [('H', (0., 0., 0.)), ('H', (0., 0., b))], \"multiplicity\":1, \"charge\":0, \"basis\":\"sto-3g\"}\n",
    "#    args={\"n_qubits\":8,\"problem_config\":problem_config, \"load_displaying\":False,\"specific_folder_name\":\"4_bd_{}\".format(b)}\n",
    "#    vqe_handler = VQE(n_qubits=4,noise_config={}, problem_config=problem_config,\n",
    "#                            return_lower_bound=True)\n",
    "#    fcisfull.append(vqe_handler.lower_bound_energy)\n",
    "fcisfull=np.load(\"results/autoencoder/H2/fcisfull.npy\")"
   ]
  },
  {
   "cell_type": "code",
   "execution_count": null,
   "metadata": {},
   "outputs": [],
   "source": [
    "plt.figure(figsize=(10,10))\n",
    "plt.plot(np.linspace(0.5,2.3,100),fcisfull,color=\"red\",linewidth=5,alpha=0.5,label=\"FCI\")\n",
    "plt.plot(np.linspace(0.5,2.3,16),eners,color=\"blue\",linewidth=5,alpha=0.5,label=\"FCI\")\n",
    "\n",
    "plt.scatter(bond_train, train_energies,s=300, color=\"green\",label=\"Train points\")\n",
    "plt.scatter(bond_test, test_energies, s=300,color=\"blue\",label=\"Test points\")\n",
    "\n",
    "#plt.scatter(bond_train, fcis_train,s=300, color=\"green\",label=\"Train points\")\n",
    "#plt.scatter(bond_test, fcis_test, s=300,color=\"blue\",label=\"Test points\")\n",
    "plt.xlabel(\"bond length\",size=20)\n",
    "plt.ylabel(\"bond length\",size=20)\n",
    "plt.legend(prop={\"size\":20})\n",
    "#plt.savefig(fol+\"energies.png\")"
   ]
  },
  {
   "cell_type": "code",
   "execution_count": null,
   "metadata": {},
   "outputs": [],
   "source": [
    "\n",
    "cost_value=[]\n",
    "for k in list(auto_evaluator.evolution.values()):\n",
    "    cost_value.append(k[1])\n",
    "    \n",
    "    \n",
    "\n",
    "color1=\"#D79922\"\n",
    "color2=\"#4056A1\"\n",
    "color3=\"#F13C20\"\n",
    "color4=\"#5D001E\"\n",
    "color5=\"#8E8D8A\"\n",
    "import matplotlib\n",
    "\n",
    "plt.style.use('results/plots/style.mplstyle')\n",
    "matplotlib.rc(\"text\",usetex=True)\n",
    "plt.rcParams[\"font.family\"] = \"Times New Roman\"\n",
    "\n",
    "import matplotlib.colors as colors\n",
    "converter = colors.ColorConverter()\n",
    "plt.rcParams.update({'font.size': 45})\n",
    "\n",
    "\n",
    "plt.figure(figsize=(20,20))\n",
    "plt.plot(cost_value,color=converter.to_rgb(color5),linewidth=10,alpha=0.5,label=\"FCI\")\n",
    "plt.tick_params(direction='out', length=6, width=2, colors='black', grid_alpha=0.5,labelsize=40)\n",
    "#plt.xticks([0.5,2.0,1.0,1.5,2.0,2.3])\n",
    "plt.xlabel(\"Accepted modification\")\n",
    "plt.ylabel(\"Cost value\")\n",
    "plt.legend(prop={\"size\":45})\n",
    "plt.savefig(\"cost_value.pdf\",format=\"pdf\")"
   ]
  },
  {
   "cell_type": "markdown",
   "metadata": {},
   "source": [
    "Let's check fidelities in both train and test set"
   ]
  },
  {
   "cell_type": "code",
   "execution_count": null,
   "metadata": {},
   "outputs": [],
   "source": [
    "vqe_handler = VQE(n_qubits=4,noise_config={}, problem_config=problem_config,\n",
    "                        return_lower_bound=True)\n",
    "VAnsCircuit, cuener, indexed_circuit, resolver, bestener = vqe_evaluator.evolution[vqe_evaluator.get_best_iteration()]\n",
    "\n",
    "model = QNN(symbols=list(resolver.keys()), observable=vqe_handler.observable, batch_sizes=1)\n",
    "model.compile(loss=EnergyLoss())\n"
   ]
  },
  {
   "cell_type": "code",
   "execution_count": null,
   "metadata": {},
   "outputs": [],
   "source": [
    "model.trainable_variables[0].assign(np.array(list(resolver.values())))"
   ]
  },
  {
   "cell_type": "code",
   "execution_count": null,
   "metadata": {},
   "outputs": [],
   "source": [
    "things = auto_evaluator.evolution[auto_evaluator.get_best_iteration()]"
   ]
  },
  {
   "cell_type": "code",
   "execution_count": null,
   "metadata": {},
   "outputs": [],
   "source": [
    "things[1]"
   ]
  },
  {
   "cell_type": "code",
   "execution_count": null,
   "metadata": {},
   "outputs": [],
   "source": []
  },
  {
   "cell_type": "code",
   "execution_count": null,
   "metadata": {},
   "outputs": [],
   "source": []
  },
  {
   "cell_type": "code",
   "execution_count": null,
   "metadata": {},
   "outputs": [],
   "source": [
    "#### CHECK AT TRAIN FIDELITIES\n",
    "\n",
    "fidelities = []\n",
    "for k in range(len(auto_handler.qbatch)):\n",
    "    input_state = cirq.unitary(auto_handler.qbatch[k])[:,0]\n",
    "    channel = (np.kron(np.kron(*[auto_handler.zero_proj(vqe_handler.qubits[k]).matrix() for k in range(2)]), np.eye(4)))\n",
    "    fidelities.append(np.real(compute_fidelity(input_state, cirq.unitary(W), channel, Wdagger)))\n",
    "fidelities"
   ]
  },
  {
   "cell_type": "code",
   "execution_count": null,
   "metadata": {},
   "outputs": [],
   "source": [
    "#### CHECK AT TRAIN FIDELITIES\n",
    "\n",
    "fidelities = []\n",
    "for k in test_states:\n",
    "    input_state = k#cirq.unitary(auto_handler.qbatch[k])[:,0]\n",
    "    channel = (np.kron(np.kron(*[auto_handler.zero_proj(vqe_handler.qubits[k]).matrix() for k in range(2)]), np.eye(4)))\n",
    "    fidelities.append(np.real(compute_fidelity(input_state, cirq.unitary(W), channel, Wdagger)))\n",
    "fidelities"
   ]
  },
  {
   "cell_type": "code",
   "execution_count": null,
   "metadata": {},
   "outputs": [],
   "source": [
    "#### CHECK AT TRAIN FIDELITIES\n",
    "\n",
    "fidelities = []\n",
    "for k in train_states:\n",
    "    input_state = k#cirq.unitary(auto_handler.qbatch[k])[:,0]\n",
    "    channel = (np.kron(np.kron(*[auto_handler.zero_proj(vqe_handler.qubits[k]).matrix() for k in range(2)]), np.eye(4)))\n",
    "    fidelities.append(np.real(compute_fidelity(input_state, cirq.unitary(W), channel, Wdagger)))\n",
    "fidelities"
   ]
  },
  {
   "cell_type": "code",
   "execution_count": null,
   "metadata": {},
   "outputs": [],
   "source": [
    "st =np.dot(cirq.unitary(W),train_states[0])"
   ]
  },
  {
   "cell_type": "code",
   "execution_count": null,
   "metadata": {},
   "outputs": [],
   "source": []
  },
  {
   "cell_type": "code",
   "execution_count": null,
   "metadata": {},
   "outputs": [],
   "source": [
    "b=0.5\n",
    "problem_config ={\"problem\" : \"H2\", \"geometry\": [('H', (0., 0., 0.)), ('H', (0., 0., b))], \"multiplicity\":1, \"charge\":0, \"basis\":\"sto-3g\"}\n",
    "  \n",
    "vqe_handler = VQE(n_qubits=4,noise_config={}, problem_config=problem_config,\n",
    "                            return_lower_bound=True)"
   ]
  },
  {
   "cell_type": "code",
   "execution_count": null,
   "metadata": {},
   "outputs": [],
   "source": [
    "def compute_energy(input_state, encoding, channel, decoding, observable):\n",
    "    \"\"\"\n",
    "    we assume input_state is a ket.\n",
    "    \"\"\"\n",
    "    st = np.dot(encoding, input_state)\n",
    "    st = np.dot(channel, st)\n",
    "    st = np.dot(decoding, st)\n",
    "    return np.dot(np.conjugate(st),np.dot(observable,st))\n",
    "\n",
    "channel = (np.kron(np.kron(*[auto_handler.zero_proj(vqe_handler.qubits[k]).matrix() for k in range(2)]), np.eye(4)))\n",
    "ene=compute_energy(cirq.unitary(VAnsCircuit)[:,0], cirq.unitary(W), channel, Wdagger, sum(vqe_handler.observable).matrix())   \n",
    "print(ene,cuener)"
   ]
  },
  {
   "cell_type": "code",
   "execution_count": null,
   "metadata": {},
   "outputs": [],
   "source": [
    "b=0.5\n",
    "problem_config ={\"problem\" : \"H2\", \"geometry\": [('H', (0., 0., 0.)), ('H', (0., 0., b))], \"multiplicity\":1, \"charge\":0, \"basis\":\"sto-3g\"}\n",
    "args={\"n_qubits\":8,\"problem_config\":problem_config, \"load_displaying\":False,\"specific_folder_name\":\"4_bd_{}\".format(b)}\n",
    "vqe_evaluator = Evaluator(args,loading=True, path=\"../data-vans/data-in-paper-2marzo/\")\n",
    "\n",
    "vqe_handler = VQE(n_qubits=4,noise_config={}, problem_config=problem_config,\n",
    "                        return_lower_bound=True)\n",
    "VAnsCircuit, cuener, indexed_circuit, resolver, bestener = vqe_evaluator.evolution[vqe_evaluator.get_best_iteration()]\n"
   ]
  },
  {
   "cell_type": "code",
   "execution_count": null,
   "metadata": {},
   "outputs": [],
   "source": [
    "def give_kronecker_of_list(lista):\n",
    "    #lista=[auto_handler.zero_proj(vqe_handler.qubits[k]).matrix() for k in range(3)]\n",
    "    m=[]\n",
    "    for ind,k in enumerate(lista):\n",
    "        if ind == 0:\n",
    "            m.append(k)\n",
    "        else:\n",
    "            m.append(np.kron(m[-1],k))\n",
    "    return m[-1]"
   ]
  },
  {
   "cell_type": "code",
   "execution_count": null,
   "metadata": {},
   "outputs": [],
   "source": [
    "projector = give_kronecker_of_list([auto_handler.zero_proj(vqe_handler.qubits[k]).matrix() for k in range(auto_handler.nb)])\n",
    "channel = np.kron(projector, np.eye(4))\n",
    "compute_energy(cirq.unitary(VAnsCircuit)[:,0],cirq.unitary(W), channel, Wdagger, sum(vqe_handler.observable).matrix())"
   ]
  },
  {
   "cell_type": "code",
   "execution_count": null,
   "metadata": {},
   "outputs": [],
   "source": [
    "compute_fidelity(cirq.unitary(VAnsCircuit)[:,0], cirq.unitary(W), channel, Wdagger)"
   ]
  },
  {
   "cell_type": "code",
   "execution_count": null,
   "metadata": {},
   "outputs": [],
   "source": []
  },
  {
   "cell_type": "code",
   "execution_count": null,
   "metadata": {},
   "outputs": [],
   "source": [
    "test_fidelities = []\n",
    "for k in test_states:\n",
    "    input_state = k#cirq.unitary(auto_handler.qbatch[k])[:,0]\n",
    "    channel = (np.kron(np.kron(*[auto_handler.zero_proj(vqe_handler.qbits[k]).matrix() for k in range(2)]), np.eye(4)))\n",
    "    test_fidelities.append(np.real(compute_fidelity(input_state, cirq.unitary(W), channel, Wdagger)))\n",
    "test_fidelities"
   ]
  },
  {
   "cell_type": "code",
   "execution_count": null,
   "metadata": {},
   "outputs": [],
   "source": [
    "train_fidelities = []\n",
    "for k in train_states:\n",
    "    input_state = k#cirq.unitary(auto_handler.qbatch[k])[:,0]\n",
    "    channel = (np.kron(np.kron(*[auto_handler.zero_proj(vqe_handler.qubits[k]).matrix() for k in range(2)]), np.eye(4)))\n",
    "    train_fidelities.append(np.real(compute_fidelity(input_state, cirq.unitary(W), channel, Wdagger)))\n",
    "train_fidelities"
   ]
  },
  {
   "cell_type": "code",
   "execution_count": null,
   "metadata": {},
   "outputs": [],
   "source": []
  },
  {
   "cell_type": "code",
   "execution_count": null,
   "metadata": {},
   "outputs": [],
   "source": []
  },
  {
   "cell_type": "code",
   "execution_count": null,
   "metadata": {},
   "outputs": [],
   "source": []
  },
  {
   "cell_type": "code",
   "execution_count": null,
   "metadata": {},
   "outputs": [],
   "source": [
    "channel = np.eye(2**len(auto_handler.qubits)) - (1/auto_handler.nb)*(np.kron(np.kron(*[auto_handler.zero_proj(vqe_handler.qubits[k]).matrix() for k in range(2)]), np.eye(4)))\n",
    "\n",
    "test_fidelities = []\n",
    "for state in test_states:\n",
    "    test_fidelities.append(compute_fidelity(state, W, channel, Wdagger))\n",
    "    \n",
    "train_fidelities = []\n",
    "for state in train_states:\n",
    "    train_fidelities.append(compute_fidelity(state, W, channel, Wdagger))"
   ]
  },
  {
   "cell_type": "code",
   "execution_count": null,
   "metadata": {},
   "outputs": [],
   "source": []
  },
  {
   "cell_type": "code",
   "execution_count": null,
   "metadata": {},
   "outputs": [],
   "source": []
  },
  {
   "cell_type": "code",
   "execution_count": null,
   "metadata": {},
   "outputs": [],
   "source": [
    "import os \n",
    "fol=\"results/autoencoder/H2/\"\n",
    "os.makedirs(fol,exist_ok=True)\n",
    "sts=[\"fcis_train\", \"fcis_test\", \"bond_train\",\"bond_test\", \"bonds\", \"test_fidelities\", \"train_fidelities\",\"fcisfull\"]\n",
    "fis=[fcis_train, fcis_test, bond_train, bond_test,np.linspace(0.5,2.3,16), test_fidelities, train_fidelities,fcisfull]\n",
    "for strfi, thi in zip(sts, fis):\n",
    "    np.save(fol+strfi,thi)"
   ]
  },
  {
   "cell_type": "code",
   "execution_count": null,
   "metadata": {},
   "outputs": [],
   "source": [
    "bonds=np.linspace(0.5,2.3,16)\n",
    "plt.figure(figsize=(10,10))\n",
    "plt.plot(bonds,np.ones(len(bonds)),color=\"black\",alpha=0.5,label=\"1\")\n",
    "plt.scatter(bond_train, train_fidelities, color=\"red\",label=\"Train points\")\n",
    "plt.scatter(bond_test, test_fidelities, color=\"green\",label=\"Test points\")\n",
    "plt.xlabel(\"bond length\",size=20)\n",
    "plt.ylabel(\"bond length\",size=20)\n",
    "plt.legend(prop={\"size\":20})\n",
    "plt.savefig(\"fidelities.png\")"
   ]
  }
 ],
 "metadata": {
  "kernelspec": {
   "display_name": "Python 3",
   "language": "python",
   "name": "python3"
  },
  "language_info": {
   "codemirror_mode": {
    "name": "ipython",
    "version": 3
   },
   "file_extension": ".py",
   "mimetype": "text/x-python",
   "name": "python",
   "nbconvert_exporter": "python",
   "pygments_lexer": "ipython3",
   "version": "3.6.9"
  }
 },
 "nbformat": 4,
 "nbformat_minor": 4
}
