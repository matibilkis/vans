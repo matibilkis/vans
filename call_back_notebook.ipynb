{
 "cells": [
  {
   "cell_type": "code",
   "execution_count": 1,
   "metadata": {},
   "outputs": [],
   "source": [
    "from stable_baselines3.common.callbacks import BaseCallback\n",
    "#\n",
    "import warnings\n",
    "warnings.filterwarnings('ignore') #this is due to W projector construction in CirqSolver: search for ot=float(coeff) in vans_gym/solvers/cirq_solver\n",
    "\n",
    "#\n",
    "class GreedyCallback(BaseCallback):\n",
    "    \"\"\"\n",
    "    Callback for printing reward of greedy strategy.\n",
    "    \"\"\"\n",
    "    def __init__(self, check_freq: int, verbose=0):\n",
    "        super(GreedyCallback, self).__init__(verbose)\n",
    "        self.check_freq = check_freq\n",
    "        # self.save_path = os.path.join(log_dir, 'best_model')\n",
    "        # self.best_mean_reward = -np.inf\n",
    "\n",
    "    def _on_step(self) -> bool:\n",
    "        print(model.get_env)\n",
    "        \"\"\"\n",
    "        Any way to know if step is done?\n",
    "        \n",
    "        The idea is that afterwards you run:\n",
    "        \n",
    "            done =False\n",
    "            while not done\n",
    "            action, _states = model.predict(obs, deterministic=True)\n",
    "            obs, reward, done, info = env.step(action)\n",
    "            env.render()\n",
    "            if done:\n",
    "              obs = env.reset()\n",
    "        \"\"\"\n",
    "        return True\n",
    "\n",
    "  "
   ]
  },
  {
   "cell_type": "code",
   "execution_count": null,
   "metadata": {},
   "outputs": [],
   "source": [
    "import gym\n",
    "\n",
    "from stable_baselines3 import PPO\n",
    "from vans_gym.envs import VansEnv\n",
    "from vans_gym.solvers import PennylaneSolver\n",
    "from vans_gym.solvers import CirqSolver\n",
    "\n",
    "n_qubits = 3\n",
    "maximum_number_of_gates = 9\n",
    "tensorboard_folder = \"./tensorboard/\"\n",
    "solver = CirqSolver(n_qubits)\n",
    "env = VansEnv(solver, maximum_number_of_gates)\n",
    "model = PPO('MlpPolicy', env, n_steps=10, tensorboard_log=tensorboard_folder)\n",
    "test_env = VansEnv(solver, maximum_number_of_gates, training_env=False)\n",
    "eval_callback = GreedyCallback(check_freq = 1)\n"
   ]
  },
  {
   "cell_type": "code",
   "execution_count": null,
   "metadata": {},
   "outputs": [],
   "source": [
    "model.learn(total_timesteps=50, callback=eval_callback)"
   ]
  },
  {
   "cell_type": "code",
   "execution_count": null,
   "metadata": {},
   "outputs": [],
   "source": []
  }
 ],
 "metadata": {
  "kernelspec": {
   "display_name": "Python 3",
   "language": "python",
   "name": "python3"
  },
  "language_info": {
   "codemirror_mode": {
    "name": "ipython",
    "version": 3
   },
   "file_extension": ".py",
   "mimetype": "text/x-python",
   "name": "python",
   "nbconvert_exporter": "python",
   "pygments_lexer": "ipython3",
   "version": "3.6.9"
  }
 },
 "nbformat": 4,
 "nbformat_minor": 4
}
