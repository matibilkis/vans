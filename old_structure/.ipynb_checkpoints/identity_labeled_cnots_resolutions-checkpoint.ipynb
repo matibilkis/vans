{
 "cells": [
  {
   "cell_type": "code",
   "execution_count": 1,
   "metadata": {},
   "outputs": [],
   "source": [
    "import numpy as np\n",
    "import sympy\n",
    "import cirq\n",
    "import tensorflow as tf\n",
    "import tensorflow_quantum as tfq\n",
    "import matplotlib.pyplot as plt\n",
    "from tqdm import tqdm\n",
    "import matplotlib.pyplot as plt\n",
    "\n",
    "\n",
    "class solver:\n",
    "    def __init__(self, n_qubits):\n",
    "\n",
    "        self.n_qubits=n_qubits\n",
    "        self.qubits = cirq.GridQubit.rect(1, n_qubits)\n",
    "\n",
    "        #observable = [-float(1/self.n_qubits)*cirq.Z.on(q)*cirq.Z.on(q) for q in qubits] \n",
    "        #for q in range(len(qubits)):\n",
    "        #    observable.append(-float(0.5)*cirq.X.on(qubits[q])*cirq.X.on(qubits[(q+1)%len(qubits)]))\n",
    "\n",
    "        #self.observable = observable\n",
    "        \n",
    "        self.indexed_cnots = {}\n",
    "        self.cnots_index = {}\n",
    "        count = 0\n",
    "        for control in range(self.n_qubits):\n",
    "            for target in range(self.n_qubits):\n",
    "                if control != target:\n",
    "                    self.indexed_cnots[str(count)] = [control, target]\n",
    "                    self.cnots_index[str([control,target])] = count\n",
    "                    count += 1\n",
    "        self.number_of_cnots = len(self.indexed_cnots)\n",
    "        self.parametrized_unitary = [cirq.rz, cirq.rx, cirq.rz]\n",
    "        \n",
    "\n",
    "    def append_to_circuit(self, ind, circuit, params, new_index=False):\n",
    "        if ind < self.number_of_cnots:\n",
    "            control, target = self.indexed_cnots[str(ind)]\n",
    "            circuit.append(cirq.CNOT.on(self.qubits[control], self.qubits[target]))\n",
    "            return circuit, params\n",
    "        else:\n",
    "            qubit = self.qubits[(ind-self.number_of_cnots)%self.n_qubits]\n",
    "            for par, gate in zip(range(3),self.parametrized_unitary):\n",
    "                new_param = \"th_\"+str(len(params))\n",
    "                params.append(new_param)\n",
    "                circuit.append(gate(sympy.Symbol(new_param)).on(qubit))\n",
    "            return circuit, params\n",
    "\n",
    "    def give_circuit(self, lista, one_hot=False):\n",
    "        circuit, symbols = [], []\n",
    "        for k in lista:\n",
    "            circuit, symbols = self.append_to_circuit(k,circuit,symbols)\n",
    "        circuit = cirq.Circuit(circuit)\n",
    "        return circuit, symbols\n",
    "    \n",
    "\n",
    "    def cirq_friendly_observable(self, obs):\n",
    "        PAULI_BASIS = {\n",
    "            'I': np.eye(2),\n",
    "            'X': np.array([[0., 1.], [1., 0.]]),\n",
    "            'Y': np.array([[0., -1j], [1j, 0.]]),\n",
    "            'Z': np.diag([1., -1]),\n",
    "        }\n",
    "\n",
    "        pauli3 = cirq.linalg.operator_spaces.kron_bases(PAULI_BASIS, repeat=self.n_qubits)\n",
    "        decomp = cirq.linalg.operator_spaces.expand_matrix_in_orthogonal_basis(obs, pauli3)\n",
    "\n",
    "        PAULI_BASIS_CIRQ = {\n",
    "            'I': cirq.X,\n",
    "            'X': cirq.X,\n",
    "            'Y': cirq.Y,\n",
    "            'Z': cirq.Z,\n",
    "        }\n",
    "\n",
    "        unt = []\n",
    "        for term in decomp.items():\n",
    "            gate_name = term[0]\n",
    "            coeff = term[1]\n",
    "            s = 0\n",
    "            ot = float(coeff)\n",
    "            for qpos, single_gate in enumerate(gate_name):\n",
    "                if single_gate == \"I\":\n",
    "                    ot *= PAULI_BASIS_CIRQ[single_gate](self.qubits[qpos])*PAULI_BASIS_CIRQ[single_gate](self.qubits[qpos])\n",
    "                else:\n",
    "                    ot *= PAULI_BASIS_CIRQ[single_gate](self.qubits[qpos])\n",
    "            if s < 3:\n",
    "                unt.append(ot)\n",
    "        return unt\n"
   ]
  },
  {
   "cell_type": "code",
   "execution_count": 122,
   "metadata": {},
   "outputs": [
    {
     "data": {
      "text/html": [
       "<pre style=\"overflow: auto; white-space: pre;\">(0, 0): ───@───Rz(th_0)───Rx(th_1)───Rz(th_2)───@───\n",
       "           │                                    │\n",
       "(0, 1): ───X───Rz(th_3)───Rx(th_4)───Rz(th_5)───X───</pre>"
      ],
      "text/plain": [
       "(0, 0): ───@───Rz(th_0)───Rx(th_1)───Rz(th_2)───@───\n",
       "           │                                    │\n",
       "(0, 1): ───X───Rz(th_3)───Rx(th_4)───Rz(th_5)───X───"
      ]
     },
     "execution_count": 122,
     "metadata": {},
     "output_type": "execute_result"
    }
   ],
   "source": [
    "sol=solver(2)\n",
    "circuit,symbols =sol.give_circuit([0,sol.number_of_cnots,sol.number_of_cnots+1,0])\n",
    "circuit"
   ]
  },
  {
   "cell_type": "code",
   "execution_count": 164,
   "metadata": {},
   "outputs": [
    {
     "data": {
      "text/plain": [
       "<tf.Tensor: shape=(4, 2), dtype=float32, numpy=\n",
       "array([[ 0.59865534,  0.3652465 ],\n",
       "       [-0.59865564,  0.36524677],\n",
       "       [ 0.5986553 , -0.36524656],\n",
       "       [-0.5986556 , -0.36524674]], dtype=float32)>"
      ]
     },
     "execution_count": 164,
     "metadata": {},
     "output_type": "execute_result"
    }
   ],
   "source": [
    "tfqcircuit = tfq.convert_to_tensor([circuit])\n",
    "\n",
    "circuit_input = tf.keras.Input(shape=(), dtype=tf.string)\n",
    "\n",
    "outps = tfq.layers.PQC(circuit,[cirq.Z(sol.qubits[0]),cirq.Z(sol.qubits[1])])\n",
    "\n",
    "\n",
    "\n",
    "angles=[[0.,0.], [-np.pi,0.],[0.,-np.pi], [-np.pi,-np.pi]]\n",
    "qdataset = [cirq.Circuit([cirq.ry(ang1)(sol.qubits[0]), cirq.ry(ang2)(sol.qubits[1])]) for ang1, ang2 in angles]\n",
    "labs = [[1.,1.], [-1.,1.],[1.,-1.],[-1.,-1.]]\n",
    "\n",
    "outps(tfq.convert_to_tensor(qdataset))"
   ]
  },
  {
   "cell_type": "code",
   "execution_count": 126,
   "metadata": {},
   "outputs": [
    {
     "data": {
      "text/plain": [
       "[measurements: (no measurements)\n",
       "output vector: |00⟩,\n",
       " measurements: (no measurements)\n",
       "output vector: -1|10⟩,\n",
       " measurements: (no measurements)\n",
       "output vector: -1|01⟩,\n",
       " measurements: (no measurements)\n",
       "output vector: |11⟩]"
      ]
     },
     "execution_count": 126,
     "metadata": {},
     "output_type": "execute_result"
    }
   ],
   "source": [
    "sim = cirq.Simulator()\n",
    "[sim.simulate(c) for c in qdataset]\n",
    "#[sim.simulate(cirq.resolve_parameters(circuit,res)) for k in range(4)]"
   ]
  },
  {
   "cell_type": "code",
   "execution_count": 159,
   "metadata": {},
   "outputs": [],
   "source": [
    "outps = tfq.layers.PQC(cirq.Circuit([cirq.ry(sympy.Symbol(\"alp1\"))(sol.qubits[0]),cirq.ry(sympy.Symbol(\"alp2\"))(sol.qubits[1])]),[cirq.Z(sol.qubits[0]),cirq.Z(sol.qubits[1])])"
   ]
  },
  {
   "cell_type": "code",
   "execution_count": 160,
   "metadata": {},
   "outputs": [
    {
     "data": {
      "text/plain": [
       "<tf.Variable 'UnreadVariable' shape=(2,) dtype=float32, numpy=array([-3.1415927, -3.1415927], dtype=float32)>"
      ]
     },
     "execution_count": 160,
     "metadata": {},
     "output_type": "execute_result"
    }
   ],
   "source": [
    "outps.trainable_variables[0].assign(tf.convert_to_tensor(np.array([-np.pi,-np.pi]).astype(np.float32)))"
   ]
  },
  {
   "cell_type": "code",
   "execution_count": 161,
   "metadata": {},
   "outputs": [
    {
     "data": {
      "text/plain": [
       "<tf.Tensor: shape=(1, 2), dtype=float32, numpy=array([[-1., -1.]], dtype=float32)>"
      ]
     },
     "execution_count": 161,
     "metadata": {},
     "output_type": "execute_result"
    }
   ],
   "source": [
    "outps(tfq.convert_to_tensor([cirq.Circuit([])]))"
   ]
  },
  {
   "cell_type": "code",
   "execution_count": 167,
   "metadata": {},
   "outputs": [],
   "source": [
    "model = tf.keras.Sequential([\n",
    "    tf.keras.layers.Input(shape=(), dtype=tf.string),\n",
    "    outps,\n",
    "])\n",
    "\n",
    "model.compile(\n",
    "    loss=tf.keras.losses.MeanSquaredError(),\n",
    "    optimizer=tf.keras.optimizers.Adam(lr=0.01))\n"
   ]
  },
  {
   "cell_type": "code",
   "execution_count": 168,
   "metadata": {},
   "outputs": [
    {
     "data": {
      "text/plain": [
       "array([[ 0.59865534,  0.3652465 ],\n",
       "       [-0.59865564,  0.36524677],\n",
       "       [ 0.5986553 , -0.36524656],\n",
       "       [-0.5986556 , -0.36524674]], dtype=float32)"
      ]
     },
     "execution_count": 168,
     "metadata": {},
     "output_type": "execute_result"
    }
   ],
   "source": [
    "model.predict(tfq.convert_to_tensor(qdataset))"
   ]
  },
  {
   "cell_type": "code",
   "execution_count": 169,
   "metadata": {},
   "outputs": [
    {
     "name": "stdout",
     "output_type": "stream",
     "text": [
      "Train on 4 samples\n",
      "Epoch 1/100\n",
      "4/4 [==============================] - 1s 181ms/sample - loss: 0.2683\n",
      "Epoch 2/100\n",
      "4/4 [==============================] - 0s 6ms/sample - loss: 0.2332\n",
      "Epoch 3/100\n",
      "4/4 [==============================] - 0s 5ms/sample - loss: 0.2009\n",
      "Epoch 4/100\n",
      "4/4 [==============================] - 0s 5ms/sample - loss: 0.1716\n",
      "Epoch 5/100\n",
      "4/4 [==============================] - 0s 5ms/sample - loss: 0.1455\n",
      "Epoch 6/100\n",
      "4/4 [==============================] - 0s 5ms/sample - loss: 0.1226\n",
      "Epoch 7/100\n",
      "4/4 [==============================] - 0s 5ms/sample - loss: 0.1027\n",
      "Epoch 8/100\n",
      "4/4 [==============================] - 0s 5ms/sample - loss: 0.0857\n",
      "Epoch 9/100\n",
      "4/4 [==============================] - 0s 6ms/sample - loss: 0.0714\n",
      "Epoch 10/100\n",
      "4/4 [==============================] - 0s 7ms/sample - loss: 0.0594\n",
      "Epoch 11/100\n",
      "4/4 [==============================] - 0s 8ms/sample - loss: 0.0495\n",
      "Epoch 12/100\n",
      "4/4 [==============================] - 0s 8ms/sample - loss: 0.0413\n",
      "Epoch 13/100\n",
      "4/4 [==============================] - 0s 8ms/sample - loss: 0.0347\n",
      "Epoch 14/100\n",
      "4/4 [==============================] - 0s 8ms/sample - loss: 0.0292\n",
      "Epoch 15/100\n",
      "4/4 [==============================] - 0s 7ms/sample - loss: 0.0247\n",
      "Epoch 16/100\n",
      "4/4 [==============================] - 0s 9ms/sample - loss: 0.0210\n",
      "Epoch 17/100\n",
      "4/4 [==============================] - 0s 7ms/sample - loss: 0.0180\n",
      "Epoch 18/100\n",
      "4/4 [==============================] - 0s 8ms/sample - loss: 0.0155\n",
      "Epoch 19/100\n",
      "4/4 [==============================] - 0s 9ms/sample - loss: 0.0135\n",
      "Epoch 20/100\n",
      "4/4 [==============================] - 0s 7ms/sample - loss: 0.0118\n",
      "Epoch 21/100\n",
      "4/4 [==============================] - 0s 8ms/sample - loss: 0.0103\n",
      "Epoch 22/100\n",
      "4/4 [==============================] - 0s 7ms/sample - loss: 0.0091\n",
      "Epoch 23/100\n",
      "4/4 [==============================] - 0s 10ms/sample - loss: 0.0081\n",
      "Epoch 24/100\n",
      "4/4 [==============================] - 0s 7ms/sample - loss: 0.0072\n",
      "Epoch 25/100\n",
      "4/4 [==============================] - 0s 8ms/sample - loss: 0.0064\n",
      "Epoch 26/100\n",
      "4/4 [==============================] - 0s 5ms/sample - loss: 0.0058\n",
      "Epoch 27/100\n",
      "4/4 [==============================] - 0s 6ms/sample - loss: 0.0052\n",
      "Epoch 28/100\n",
      "4/4 [==============================] - 0s 6ms/sample - loss: 0.0047\n",
      "Epoch 29/100\n",
      "4/4 [==============================] - 0s 5ms/sample - loss: 0.0043\n",
      "Epoch 30/100\n",
      "4/4 [==============================] - 0s 6ms/sample - loss: 0.0039\n",
      "Epoch 31/100\n",
      "4/4 [==============================] - 0s 7ms/sample - loss: 0.0036\n",
      "Epoch 32/100\n",
      "4/4 [==============================] - 0s 6ms/sample - loss: 0.0033\n",
      "Epoch 33/100\n",
      "4/4 [==============================] - 0s 7ms/sample - loss: 0.0030\n",
      "Epoch 34/100\n",
      "4/4 [==============================] - 0s 9ms/sample - loss: 0.0028\n",
      "Epoch 35/100\n",
      "4/4 [==============================] - 0s 7ms/sample - loss: 0.0026\n",
      "Epoch 36/100\n",
      "4/4 [==============================] - 0s 7ms/sample - loss: 0.0024\n",
      "Epoch 37/100\n",
      "4/4 [==============================] - 0s 6ms/sample - loss: 0.0022\n",
      "Epoch 38/100\n",
      "4/4 [==============================] - 0s 6ms/sample - loss: 0.0021\n",
      "Epoch 39/100\n",
      "4/4 [==============================] - 0s 6ms/sample - loss: 0.0019\n",
      "Epoch 40/100\n",
      "4/4 [==============================] - 0s 5ms/sample - loss: 0.0018\n",
      "Epoch 41/100\n",
      "4/4 [==============================] - 0s 7ms/sample - loss: 0.0017\n",
      "Epoch 42/100\n",
      "4/4 [==============================] - 0s 7ms/sample - loss: 0.0016\n",
      "Epoch 43/100\n",
      "4/4 [==============================] - 0s 8ms/sample - loss: 0.0015\n",
      "Epoch 44/100\n",
      "4/4 [==============================] - 0s 7ms/sample - loss: 0.0014\n",
      "Epoch 45/100\n",
      "4/4 [==============================] - 0s 9ms/sample - loss: 0.0013\n",
      "Epoch 46/100\n",
      "4/4 [==============================] - 0s 9ms/sample - loss: 0.0012\n",
      "Epoch 47/100\n",
      "4/4 [==============================] - 0s 4ms/sample - loss: 0.0011\n",
      "Epoch 48/100\n",
      "4/4 [==============================] - 0s 7ms/sample - loss: 0.0011\n",
      "Epoch 49/100\n",
      "4/4 [==============================] - 0s 7ms/sample - loss: 0.0010\n",
      "Epoch 50/100\n",
      "4/4 [==============================] - 0s 10ms/sample - loss: 9.6287e-04\n",
      "Epoch 51/100\n",
      "4/4 [==============================] - 0s 9ms/sample - loss: 9.1089e-04\n",
      "Epoch 52/100\n",
      "4/4 [==============================] - 0s 8ms/sample - loss: 8.6260e-04\n",
      "Epoch 53/100\n",
      "4/4 [==============================] - 0s 6ms/sample - loss: 8.1762e-04\n",
      "Epoch 54/100\n",
      "4/4 [==============================] - 0s 7ms/sample - loss: 7.7569e-04\n",
      "Epoch 55/100\n",
      "4/4 [==============================] - 0s 9ms/sample - loss: 7.3659e-04\n",
      "Epoch 56/100\n",
      "4/4 [==============================] - 0s 8ms/sample - loss: 7.0006e-04\n",
      "Epoch 57/100\n",
      "4/4 [==============================] - 0s 8ms/sample - loss: 6.6588e-04\n",
      "Epoch 58/100\n",
      "4/4 [==============================] - 0s 8ms/sample - loss: 6.3389e-04\n",
      "Epoch 59/100\n",
      "4/4 [==============================] - 0s 7ms/sample - loss: 6.0389e-04\n",
      "Epoch 60/100\n",
      "4/4 [==============================] - 0s 7ms/sample - loss: 5.7576e-04\n",
      "Epoch 61/100\n",
      "4/4 [==============================] - 0s 6ms/sample - loss: 5.4934e-04\n",
      "Epoch 62/100\n",
      "4/4 [==============================] - 0s 5ms/sample - loss: 5.2451e-04\n",
      "Epoch 63/100\n",
      "4/4 [==============================] - 0s 8ms/sample - loss: 5.0113e-04\n",
      "Epoch 64/100\n",
      "4/4 [==============================] - 0s 7ms/sample - loss: 4.7912e-04\n",
      "Epoch 65/100\n",
      "4/4 [==============================] - 0s 6ms/sample - loss: 4.5836e-04\n",
      "Epoch 66/100\n",
      "4/4 [==============================] - 0s 5ms/sample - loss: 4.3878e-04\n",
      "Epoch 67/100\n",
      "4/4 [==============================] - 0s 7ms/sample - loss: 4.2028e-04\n",
      "Epoch 68/100\n",
      "4/4 [==============================] - 0s 7ms/sample - loss: 4.0281e-04\n",
      "Epoch 69/100\n",
      "4/4 [==============================] - 0s 5ms/sample - loss: 3.8628e-04\n",
      "Epoch 70/100\n",
      "4/4 [==============================] - 0s 6ms/sample - loss: 3.7063e-04\n",
      "Epoch 71/100\n",
      "4/4 [==============================] - 0s 6ms/sample - loss: 3.5582e-04\n",
      "Epoch 72/100\n",
      "4/4 [==============================] - 0s 5ms/sample - loss: 3.4177e-04\n",
      "Epoch 73/100\n",
      "4/4 [==============================] - 0s 6ms/sample - loss: 3.2844e-04\n",
      "Epoch 74/100\n",
      "4/4 [==============================] - 0s 8ms/sample - loss: 3.1579e-04\n",
      "Epoch 75/100\n",
      "4/4 [==============================] - 0s 6ms/sample - loss: 3.0378e-04\n",
      "Epoch 76/100\n",
      "4/4 [==============================] - 0s 8ms/sample - loss: 2.9236e-04\n",
      "Epoch 77/100\n",
      "4/4 [==============================] - 0s 6ms/sample - loss: 2.8150e-04\n",
      "Epoch 78/100\n",
      "4/4 [==============================] - 0s 5ms/sample - loss: 2.7117e-04\n",
      "Epoch 79/100\n",
      "4/4 [==============================] - 0s 7ms/sample - loss: 2.6134e-04\n",
      "Epoch 80/100\n",
      "4/4 [==============================] - 0s 7ms/sample - loss: 2.5196e-04\n",
      "Epoch 81/100\n",
      "4/4 [==============================] - 0s 8ms/sample - loss: 2.4302e-04\n",
      "Epoch 82/100\n",
      "4/4 [==============================] - 0s 9ms/sample - loss: 2.3450e-04\n",
      "Epoch 83/100\n",
      "4/4 [==============================] - 0s 9ms/sample - loss: 2.2637e-04\n",
      "Epoch 84/100\n",
      "4/4 [==============================] - 0s 6ms/sample - loss: 2.1861e-04\n",
      "Epoch 85/100\n",
      "4/4 [==============================] - 0s 7ms/sample - loss: 2.1120e-04\n",
      "Epoch 86/100\n",
      "4/4 [==============================] - 0s 6ms/sample - loss: 2.0411e-04\n",
      "Epoch 87/100\n",
      "4/4 [==============================] - 0s 6ms/sample - loss: 1.9733e-04\n",
      "Epoch 88/100\n",
      "4/4 [==============================] - 0s 8ms/sample - loss: 1.9083e-04\n",
      "Epoch 89/100\n",
      "4/4 [==============================] - 0s 7ms/sample - loss: 1.8462e-04\n",
      "Epoch 90/100\n",
      "4/4 [==============================] - 0s 8ms/sample - loss: 1.7866e-04\n",
      "Epoch 91/100\n",
      "4/4 [==============================] - 0s 8ms/sample - loss: 1.7297e-04\n",
      "Epoch 92/100\n",
      "4/4 [==============================] - 0s 5ms/sample - loss: 1.6750e-04\n",
      "Epoch 93/100\n",
      "4/4 [==============================] - 0s 6ms/sample - loss: 1.6226e-04\n",
      "Epoch 94/100\n",
      "4/4 [==============================] - 0s 7ms/sample - loss: 1.5723e-04\n",
      "Epoch 95/100\n",
      "4/4 [==============================] - 0s 8ms/sample - loss: 1.5241e-04\n",
      "Epoch 96/100\n",
      "4/4 [==============================] - 0s 7ms/sample - loss: 1.4777e-04\n",
      "Epoch 97/100\n",
      "4/4 [==============================] - 0s 7ms/sample - loss: 1.4333e-04\n",
      "Epoch 98/100\n",
      "4/4 [==============================] - 0s 6ms/sample - loss: 1.3904e-04\n",
      "Epoch 99/100\n"
     ]
    },
    {
     "name": "stdout",
     "output_type": "stream",
     "text": [
      "4/4 [==============================] - 0s 6ms/sample - loss: 1.3493e-04\n",
      "Epoch 100/100\n",
      "4/4 [==============================] - 0s 7ms/sample - loss: 1.3099e-04\n"
     ]
    }
   ],
   "source": [
    "history = model.fit(tfq.convert_to_tensor(qdataset), tf.convert_to_tensor(labs),batch_size=1, epochs=100)"
   ]
  },
  {
   "cell_type": "code",
   "execution_count": 170,
   "metadata": {},
   "outputs": [
    {
     "data": {
      "text/plain": [
       "[<matplotlib.lines.Line2D at 0x7f1fd8f5ab38>]"
      ]
     },
     "execution_count": 170,
     "metadata": {},
     "output_type": "execute_result"
    },
    {
     "data": {
      "image/png": "[encoded data removed]",
      "text/plain": [
       "<Figure size 432x288 with 1 Axes>"
      ]
     },
     "metadata": {
      "needs_background": "light"
     },
     "output_type": "display_data"
    }
   ],
   "source": [
    "plt.plot(history.history[\"loss\"])"
   ]
  },
  {
   "cell_type": "code",
   "execution_count": 171,
   "metadata": {},
   "outputs": [
    {
     "data": {
      "text/plain": [
       "[<tf.Variable 'parameters:0' shape=(6,) dtype=float32, numpy=\n",
       " array([1.3457744 , 6.151106  , 4.549841  , 3.4567046 , 0.09799265,\n",
       "        4.628463  ], dtype=float32)>]"
      ]
     },
     "execution_count": 171,
     "metadata": {},
     "output_type": "execute_result"
    }
   ],
   "source": [
    "model.trainable_variables"
   ]
  },
  {
   "cell_type": "code",
   "execution_count": 108,
   "metadata": {},
   "outputs": [],
   "source": [
    "res={sy:j for sy,j in zip(symbols,model.trainable_variables[0].numpy())}"
   ]
  },
  {
   "cell_type": "code",
   "execution_count": 172,
   "metadata": {},
   "outputs": [
    {
     "data": {
      "text/plain": [
       "array([[ 0.+1.j, -0.-0.j, -0.-0.j,  0.+0.j],\n",
       "       [ 0.-0.j,  1.-0.j,  0.-0.j,  0.-0.j],\n",
       "       [-0.+0.j, -0.+0.j,  0.-1.j,  0.-0.j],\n",
       "       [-0.-0.j,  0.+0.j, -0.-0.j,  1.+0.j]])"
      ]
     },
     "execution_count": 172,
     "metadata": {},
     "output_type": "execute_result"
    }
   ],
   "source": [
    "np.round(cirq.unitary(cirq.resolve_parameters(circuit,res)))"
   ]
  },
  {
   "cell_type": "code",
   "execution_count": 173,
   "metadata": {},
   "outputs": [
    {
     "data": {
      "text/plain": [
       "array([[ 0.99129033,  0.9865347 ],\n",
       "       [-0.99129057,  0.98653495],\n",
       "       [ 0.99129045, -0.98653483],\n",
       "       [-0.9912905 , -0.98653483]], dtype=float32)"
      ]
     },
     "execution_count": 173,
     "metadata": {},
     "output_type": "execute_result"
    }
   ],
   "source": [
    "model.predict(tfq.convert_to_tensor(qdataset))"
   ]
  },
  {
   "cell_type": "code",
   "execution_count": null,
   "metadata": {},
   "outputs": [],
   "source": []
  }
 ],
 "metadata": {
  "kernelspec": {
   "display_name": "Python 3",
   "language": "python",
   "name": "python3"
  },
  "language_info": {
   "codemirror_mode": {
    "name": "ipython",
    "version": 3
   },
   "file_extension": ".py",
   "mimetype": "text/x-python",
   "name": "python",
   "nbconvert_exporter": "python",
   "pygments_lexer": "ipython3",
   "version": "3.6.9"
  }
 },
 "nbformat": 4,
 "nbformat_minor": 4
}
