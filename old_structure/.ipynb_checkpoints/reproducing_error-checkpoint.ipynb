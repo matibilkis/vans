{
 "cells": [
  {
   "cell_type": "code",
   "execution_count": 1,
   "metadata": {},
   "outputs": [],
   "source": [
    "import numpy as np\n",
    "import sympy\n",
    "import cirq\n",
    "import tensorflow as tf\n",
    "import tensorflow_quantum as tfq\n",
    "import matplotlib.pyplot as plt\n",
    "from tqdm import tqdm\n",
    "import matplotlib.pyplot as plt\n"
   ]
  },
  {
   "cell_type": "code",
   "execution_count": 2,
   "metadata": {},
   "outputs": [],
   "source": [
    "n_qubits = 3\n",
    "\n",
    "qubits = cirq.GridQubit.rect(1, n_qubits)\n",
    "g=1\n",
    "J=1.21\n",
    "observable = [-float(0.5*g)*cirq.Z.on(q) for q in qubits] \n",
    "for q in range(len(qubits)):\n",
    "    observable.append(-float(0.5*J)*cirq.X.on(qubits[q])*cirq.X.on(qubits[(q+1)%len(qubits)]))\n",
    "circuit = []\n",
    "\n",
    "parametrized_unitary = [cirq.rz, cirq.rx, cirq.rz]\n",
    "\n",
    "indexed_cnots = {}\n",
    "cnots_index = {}\n",
    "count = 0\n",
    "for control in range(n_qubits):\n",
    "    for target in range(n_qubits):\n",
    "        if control != target:\n",
    "            indexed_cnots[str(count)] = [control, target]\n",
    "            cnots_index[str([control,target])] = count\n",
    "            count += 1\n",
    "number_of_cnots = len(indexed_cnots)\n",
    "\n",
    "def append_to_circuit(ind, circuit, params, new_index=False):\n",
    "    if ind < number_of_cnots:\n",
    "        control, target = indexed_cnots[str(ind)]\n",
    "        circuit.append(cirq.CNOT.on(qubits[control], qubits[target]))\n",
    "        return circuit, params\n",
    "    else:\n",
    "        qubit = qubits[(ind-number_of_cnots)%n_qubits]\n",
    "        for par, gate in zip(range(3),parametrized_unitary):\n",
    "            new_param = \"th_\"+str(len(params))\n",
    "            params.append(new_param)\n",
    "            circuit.append(gate(sympy.Symbol(new_param)).on(qubit))\n",
    "        return circuit, params\n",
    "    \n",
    "def give_circuit(lista):\n",
    "    circuit, symbols = [], []\n",
    "    for k in lista:\n",
    "        circuit, symbols = append_to_circuit(k,circuit,symbols)\n",
    "    circuit = cirq.Circuit(circuit)\n",
    "    return circuit, symbols"
   ]
  },
  {
   "cell_type": "code",
   "execution_count": 3,
   "metadata": {},
   "outputs": [],
   "source": [
    "circuit,symbols = give_circuit([number_of_cnots,number_of_cnots+1,number_of_cnots+2])"
   ]
  },
  {
   "cell_type": "code",
   "execution_count": 4,
   "metadata": {},
   "outputs": [
    {
     "data": {
      "text/html": [
       "<pre style=\"overflow: auto; white-space: pre;\">(0, 0): ───Rz(th_0)───Rx(th_1)───Rz(th_2)───\n",
       "\n",
       "(0, 1): ───Rz(th_3)───Rx(th_4)───Rz(th_5)───\n",
       "\n",
       "(0, 2): ───Rz(th_6)───Rx(th_7)───Rz(th_8)───</pre>"
      ],
      "text/plain": [
       "(0, 0): ───Rz(th_0)───Rx(th_1)───Rz(th_2)───\n",
       "\n",
       "(0, 1): ───Rz(th_3)───Rx(th_4)───Rz(th_5)───\n",
       "\n",
       "(0, 2): ───Rz(th_6)───Rx(th_7)───Rz(th_8)───"
      ]
     },
     "execution_count": 4,
     "metadata": {},
     "output_type": "execute_result"
    }
   ],
   "source": [
    "circuit"
   ]
  },
  {
   "cell_type": "code",
   "execution_count": 5,
   "metadata": {},
   "outputs": [],
   "source": [
    "circuit_input = tf.keras.Input(shape=(), dtype=tf.string)\n",
    "output = tfq.layers.Expectation(backend=cirq.DensityMatrixSimulator(noise=cirq.depolarize(0.00001)))(\n",
    "circuit_input,\n",
    "symbol_names=symbols,\n",
    "operators=tfq.convert_to_tensor([observable]),\n",
    "initializer=tf.keras.initializers.RandomNormal()) #we may change this!!!\n",
    "\n",
    "model = tf.keras.Model(inputs=circuit_input, outputs=output)\n",
    "adam = tf.keras.optimizers.Adam(learning_rate=0.01)\n",
    "model.compile(optimizer=adam, loss='mse')\n",
    "\n",
    "tfqcircuit = tfq.convert_to_tensor([circuit])\n",
    "qoutput = tf.ones((1, 1))*-2.*n_qubits"
   ]
  },
  {
   "cell_type": "code",
   "execution_count": 6,
   "metadata": {},
   "outputs": [
    {
     "name": "stderr",
     "output_type": "stream",
     "text": [
      "\r",
      "  0%|          | 0/2 [00:00<?, ?it/s]"
     ]
    },
    {
     "name": "stdout",
     "output_type": "stream",
     "text": [
      "Train on 1 samples\n",
      "Epoch 1/20\n",
      "1/1 [==============================] - 2s 2s/sample - loss: 33.3630\n",
      "Epoch 2/20\n",
      "1/1 [==============================] - 1s 788ms/sample - loss: 33.3501\n",
      "Epoch 3/20\n",
      "1/1 [==============================] - 0s 464ms/sample - loss: 33.3377\n",
      "Epoch 4/20\n",
      "1/1 [==============================] - 0s 444ms/sample - loss: 33.3258\n",
      "Epoch 5/20\n",
      "1/1 [==============================] - 0s 452ms/sample - loss: 33.3145\n",
      "Epoch 6/20\n",
      "1/1 [==============================] - 0s 492ms/sample - loss: 33.3037\n",
      "Epoch 7/20\n",
      "1/1 [==============================] - 1s 508ms/sample - loss: 33.2933\n",
      "Epoch 8/20\n",
      "1/1 [==============================] - 0s 493ms/sample - loss: 33.2833\n",
      "Epoch 9/20\n",
      "1/1 [==============================] - 1s 524ms/sample - loss: 33.2736\n",
      "Epoch 10/20\n",
      "1/1 [==============================] - 0s 448ms/sample - loss: 33.2642\n",
      "Epoch 11/20\n",
      "1/1 [==============================] - 0s 451ms/sample - loss: 33.2550\n",
      "Epoch 12/20\n",
      "1/1 [==============================] - 0s 422ms/sample - loss: 33.2462\n",
      "Epoch 13/20\n",
      "1/1 [==============================] - 1s 535ms/sample - loss: 33.2376\n",
      "Epoch 14/20\n",
      "1/1 [==============================] - 1s 630ms/sample - loss: 33.2292\n",
      "Epoch 15/20\n",
      "1/1 [==============================] - 1s 564ms/sample - loss: 33.2212\n",
      "Epoch 16/20\n",
      "1/1 [==============================] - 0s 435ms/sample - loss: 33.2135\n",
      "Epoch 17/20\n",
      "1/1 [==============================] - 1s 573ms/sample - loss: 33.2061\n",
      "Epoch 18/20\n",
      "1/1 [==============================] - 1s 638ms/sample - loss: 33.1990\n",
      "Epoch 19/20\n",
      "1/1 [==============================] - 1s 550ms/sample - loss: 33.1923\n",
      "Epoch 20/20\n",
      "1/1 [==============================] - 0s 421ms/sample - loss: 33.1858\n"
     ]
    },
    {
     "name": "stderr",
     "output_type": "stream",
     "text": [
      "\r",
      " 50%|█████     | 1/2 [00:12<00:12, 12.22s/it]"
     ]
    },
    {
     "name": "stdout",
     "output_type": "stream",
     "text": [
      "Train on 1 samples\n",
      "Epoch 1/20\n",
      "1/1 [==============================] - 0s 441ms/sample - loss: 33.5159\n",
      "Epoch 2/20\n",
      "1/1 [==============================] - 0s 498ms/sample - loss: 33.4951\n",
      "Epoch 3/20\n",
      "1/1 [==============================] - 1s 560ms/sample - loss: 33.4732\n",
      "Epoch 4/20\n",
      "1/1 [==============================] - 1s 607ms/sample - loss: 33.4504\n",
      "Epoch 5/20\n",
      "1/1 [==============================] - 1s 562ms/sample - loss: 33.4271\n",
      "Epoch 6/20\n",
      "1/1 [==============================] - 1s 632ms/sample - loss: 33.4033\n",
      "Epoch 7/20\n",
      "1/1 [==============================] - 1s 514ms/sample - loss: 33.3793\n",
      "Epoch 8/20\n",
      "1/1 [==============================] - 1s 551ms/sample - loss: 33.3552\n",
      "Epoch 9/20\n",
      "1/1 [==============================] - 0s 439ms/sample - loss: 33.3312\n",
      "Epoch 10/20\n",
      "1/1 [==============================] - 0s 432ms/sample - loss: 33.3073\n",
      "Epoch 11/20\n",
      "1/1 [==============================] - 0s 425ms/sample - loss: 33.2837\n",
      "Epoch 12/20\n",
      "1/1 [==============================] - 1s 623ms/sample - loss: 33.2603\n",
      "Epoch 13/20\n",
      "1/1 [==============================] - 0s 485ms/sample - loss: 33.2373\n",
      "Epoch 14/20\n",
      "1/1 [==============================] - 1s 511ms/sample - loss: 33.2147\n",
      "Epoch 15/20\n",
      "1/1 [==============================] - 0s 422ms/sample - loss: 33.1926\n",
      "Epoch 16/20\n",
      "1/1 [==============================] - 1s 553ms/sample - loss: 33.1710\n",
      "Epoch 17/20\n",
      "1/1 [==============================] - 0s 431ms/sample - loss: 33.1498\n",
      "Epoch 18/20\n",
      "1/1 [==============================] - 0s 434ms/sample - loss: 33.1292\n",
      "Epoch 19/20\n",
      "1/1 [==============================] - 0s 432ms/sample - loss: 33.1091\n",
      "Epoch 20/20\n",
      "1/1 [==============================] - 0s 434ms/sample - loss: 33.0896\n"
     ]
    },
    {
     "name": "stderr",
     "output_type": "stream",
     "text": [
      "100%|██████████| 2/2 [00:22<00:00, 11.14s/it]\n"
     ]
    }
   ],
   "source": [
    "for k in tqdm(range(2)):\n",
    "    model.set_weights([tf.random.uniform((len(symbols),))])\n",
    "    model.fit(x=tfqcircuit, y=qoutput,validation_steps=None,\n",
    "              steps_per_epoch=1, batch_size=1, epochs=10, verbose=1, \n",
    "              callbacks=[tf.keras.callbacks.EarlyStopping(monitor='loss', patience=5)])"
   ]
  },
  {
   "cell_type": "raw",
   "metadata": {},
   "source": [
    "circuit,symbols = give_circuit([number_of_cnots,number_of_cnots+1,number_of_cnots+2])"
   ]
  },
  {
   "cell_type": "code",
   "execution_count": null,
   "metadata": {},
   "outputs": [],
   "source": [
    "np.squeeze(tf.math.reduce_sum(model.predict(tfqcircuit), axis=-1))"
   ]
  },
  {
   "cell_type": "code",
   "execution_count": null,
   "metadata": {},
   "outputs": [],
   "source": [
    "circuit_input = tf.keras.Input(shape=(), dtype=tf.string)\n",
    "output = tfq.layers.Expectation()(\n",
    "circuit_input,\n",
    "symbol_names=symbols,\n",
    "operators=tfq.convert_to_tensor([observable]),\n",
    "initializer=tf.keras.initializers.RandomNormal()) #we may change this!!!\n",
    "\n",
    "model = tf.keras.Model(inputs=circuit_input, outputs=output)\n",
    "adam = tf.keras.optimizers.Adam(learning_rate=0.01)\n",
    "model.compile(optimizer=adam, loss='mse')\n",
    "tfqcircuit = tfq.convert_to_tensor([circuit])\n",
    "qoutput = tf.ones((1, 1))*-2.*n_qubits\n",
    "model.fit(x=tfqcircuit, y=qoutput, batch_size=1, epochs=250, verbose=1, callbacks=[tf.keras.callbacks.EarlyStopping(monitor='loss', patience=5)])"
   ]
  },
  {
   "cell_type": "code",
   "execution_count": null,
   "metadata": {},
   "outputs": [],
   "source": [
    "np.squeeze(tf.math.reduce_sum(model.predict(tfqcircuit), axis=-1))"
   ]
  },
  {
   "cell_type": "code",
   "execution_count": null,
   "metadata": {},
   "outputs": [],
   "source": []
  }
 ],
 "metadata": {
  "kernelspec": {
   "display_name": "Python 3",
   "language": "python",
   "name": "python3"
  },
  "language_info": {
   "codemirror_mode": {
    "name": "ipython",
    "version": 3
   },
   "file_extension": ".py",
   "mimetype": "text/x-python",
   "name": "python",
   "nbconvert_exporter": "python",
   "pygments_lexer": "ipython3",
   "version": "3.6.9"
  }
 },
 "nbformat": 4,
 "nbformat_minor": 4
}
