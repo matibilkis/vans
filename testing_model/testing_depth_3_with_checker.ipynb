{
 "cells": [
  {
   "cell_type": "code",
   "execution_count": 2,
   "metadata": {},
   "outputs": [],
   "source": [
    "import gym\n",
    "from vans_gym.envs import VansEnvsSeq\n",
    "from vans_gym.solvers import CirqSolverR, Checker\n",
    "from vans_gym.models import DuelDQN\n",
    "import numpy as np\n",
    "from tqdm import tqdm"
   ]
  },
  {
   "cell_type": "code",
   "execution_count": 5,
   "metadata": {},
   "outputs": [
    {
     "name": "stderr",
     "output_type": "stream",
     "text": [
      "100%|██████████| 6/6 [01:50<00:00, 18.42s/it]"
     ]
    },
    {
     "name": "stdout",
     "output_type": "stream",
     "text": [
      "[5 3 5]\n",
      "0.9999996\n",
      "Rx(-0.5π) on qubit:  1\n",
      "<function rz at 0x7ffb385c6a60> on qubit:  1\n",
      "Rx(-0.5π) on qubit:  1\n"
     ]
    },
    {
     "name": "stderr",
     "output_type": "stream",
     "text": [
      "\n"
     ]
    }
   ],
   "source": [
    "solver = CirqSolverR(n_qubits = 2, observable_name=\"Ising_\",qlr=0.05,qepochs=100)\n",
    "checker = Checker(solver)\n",
    "\n",
    "env = VansEnvsSeq(solver,checker=checker, depth_circuit=4)\n",
    "\n",
    "gates_number = len(solver.alphabet) - solver.n_qubits\n",
    "\n",
    "energies=[]\n",
    "seqs=[]\n",
    "for g1 in tqdm(range(gates_number)): #I quit the identity..\n",
    "    for g2 in range(gates_number):\n",
    "        for g3 in range(gates_number):\n",
    "            seq = [g1, g2, g3]\n",
    "            seq=env.checker.correct_trajectory(seq)\n",
    "            if len(seq)<3:\n",
    "                pass\n",
    "            else:\n",
    "                energy = solver.run_circuit(seq, sim_q_state=False)\n",
    "                energies.append(energy)\n",
    "                seqs.append(seq)\n",
    "\n",
    "\n",
    "    \n",
    "opt = np.argmax(np.array(energies))\n",
    "print(seqs[opt])\n",
    "print(energies[opt])\n",
    "\n",
    "for k in seqs[opt]:\n",
    "    solver.index_meaning(k)\n",
    "    \n",
    "#np.where(energies==np.sort(energies)[-2])\n",
    "\n",
    "#for j in seqs[33]:\n",
    "#    index_meaning(j)"
   ]
  },
  {
   "cell_type": "code",
   "execution_count": 9,
   "metadata": {},
   "outputs": [
    {
     "data": {
      "text/plain": [
       "array([ 0.,  0.,  0., -0., -0., -0.,  0.,  0., -0.,  0., -0., -0., -0.,\n",
       "        0., -0., -0., -0., -0.,  0., -0.,  0.,  0., -0., -0.,  0., -0.,\n",
       "        1., -0., -0., -0., -0.,  0., -0.,  1., -0., -0.,  0.,  0., -0.,\n",
       "        0., -0., -0.,  0.,  0., -0., -0., -0., -0.,  0.,  0.,  0.,  0.,\n",
       "       -0., -0., -0., -0., -0., -0., -0., -0.,  0., -0.,  1., -0., -0.,\n",
       "       -0., -0.,  0., -0.,  1., -0., -0.,  0.,  0.,  0., -0., -0., -0.,\n",
       "       -0., -0.,  0.,  0., -0., -0., -0., -0., -0., -0., -0., -0., -0.,\n",
       "        0., -0., -0., -0., -0.,  0., -0.,  1., -0., -0., -0., -0.,  0.,\n",
       "       -0.,  1., -0., -0., -0., -0., -0.,  0., -0., -0.,  0., -0., -0.,\n",
       "       -0., -0., -0.,  0.,  0., -0., -0., -0., -0.,  0.,  0., -0., -0.,\n",
       "       -0., -0.,  0., -0.,  1., -0., -0., -0., -0.,  0., -0.,  1., -0.,\n",
       "       -0., -0., -0.,  0.,  0.,  0.,  0.,  0., -0.,  1., -0., -0., -0.,\n",
       "        0.,  1.,  1.,  1.,  1.,  1.,  0., -0.,  1., -0., -0., -0., -0.,\n",
       "       -0.,  0., -0., -0., -0.,  0.,  0.,  1.,  1., -0., -0., -0.,  0.,\n",
       "       -0.,  1., -0., -0., -0., -0.,  0.,  0.,  0.,  0., -0.,  0., -0.,\n",
       "        1., -0., -0.,  1.,  0.,  1.,  1.,  1.,  1.,  0.,  0.,  1.,  1.,\n",
       "       -0., -0., -0., -0., -0.,  0., -0., -0.], dtype=float32)"
      ]
     },
     "execution_count": 9,
     "metadata": {},
     "output_type": "execute_result"
    }
   ],
   "source": [
    "np.round(np.array(energies))"
   ]
  },
  {
   "cell_type": "code",
   "execution_count": null,
   "metadata": {},
   "outputs": [],
   "source": []
  }
 ],
 "metadata": {
  "kernelspec": {
   "display_name": "Python 3",
   "language": "python",
   "name": "python3"
  },
  "language_info": {
   "codemirror_mode": {
    "name": "ipython",
    "version": 3
   },
   "file_extension": ".py",
   "mimetype": "text/x-python",
   "name": "python",
   "nbconvert_exporter": "python",
   "pygments_lexer": "ipython3",
   "version": "3.6.9"
  }
 },
 "nbformat": 4,
 "nbformat_minor": 4
}
