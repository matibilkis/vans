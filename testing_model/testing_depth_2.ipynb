{
 "cells": [
  {
   "cell_type": "code",
   "execution_count": 19,
   "metadata": {},
   "outputs": [],
   "source": [
    "import gym\n",
    "from vans_gym.envs import VansEnvsSeq\n",
    "from vans_gym.solvers import CirqSolverR, Checker\n",
    "from vans_gym.models import DuelDQN\n",
    "import numpy as np"
   ]
  },
  {
   "cell_type": "code",
   "execution_count": 15,
   "metadata": {},
   "outputs": [],
   "source": [
    "solver = CirqSolverR(n_qubits = 2, observable_name=\"Ising_\",qlr=0.05,qepochs=100)\n",
    "env = VansEnvsSeq(solver, depth_circuit=2)\n",
    "\n",
    "gates_number = len(solver.alphabet) - solver.n_qubits\n",
    "\n",
    "energies=[]\n",
    "seqs=[]\n",
    "for g1 in range(gates_number): #I quit the identity..\n",
    "    for g2 in range(gates_number):\n",
    "        seq = [g1, g2]\n",
    "        energy = solver.run_circuit(seq, sim_q_state=False)[0]\n",
    "        energies.append(energy)\n",
    "        seqs.append(seq)\n",
    "        \n",
    "\n",
    "def index_meaning(index):\n",
    "    if index<solver.number_of_cnots:\n",
    "        print(\"cnot: \",solver.indexed_cnots[str(index)])\n",
    "        return \n",
    "    else:\n",
    "        print(solver.alphabet_gates[1:][int((index-solver.number_of_cnots)/solver.n_qubits)], \"on qubit: \",(index-solver.number_of_cnots)%solver.n_qubits)\n",
    "        return\n",
    "    \n",
    "opt = np.argmax(np.array(energies))\n",
    "print(seqs[opt])\n",
    "print(energies[opt])\n",
    "\n",
    "for k in seqs[opt]:\n",
    "    index_meaning(k)\n",
    "    \n",
    "np.where(energies==np.sort(energies)[-2])\n",
    "\n",
    "for j in seqs[33]:\n",
    "    index_meaning(j)"
   ]
  },
  {
   "cell_type": "code",
   "execution_count": 65,
   "metadata": {},
   "outputs": [
    {
     "data": {
      "text/plain": [
       "array([ 0.,  0., -0.,  0., -0., -0.,  0.,  0., -0.,  0., -0., -0., -0.,\n",
       "       -0.,  0., -0., -0., -0., -0., -0.,  0., -0., -0., -0.,  0., -0.,\n",
       "        1., -0., -0., -0., -0.,  0., -0.,  1., -0., -0.], dtype=float32)"
      ]
     },
     "execution_count": 65,
     "metadata": {},
     "output_type": "execute_result"
    }
   ],
   "source": [
    "np.round(np.array(energies),3)"
   ]
  },
  {
   "cell_type": "markdown",
   "metadata": {},
   "source": [
    "<img src=\"DuelDQN/run_6/learning_curves.png\"> "
   ]
  },
  {
   "cell_type": "code",
   "execution_count": null,
   "metadata": {},
   "outputs": [],
   "source": []
  }
 ],
 "metadata": {
  "kernelspec": {
   "display_name": "Python 3",
   "language": "python",
   "name": "python3"
  },
  "language_info": {
   "codemirror_mode": {
    "name": "ipython",
    "version": 3
   },
   "file_extension": ".py",
   "mimetype": "text/x-python",
   "name": "python",
   "nbconvert_exporter": "python",
   "pygments_lexer": "ipython3",
   "version": "3.6.9"
  }
 },
 "nbformat": 4,
 "nbformat_minor": 4
}
