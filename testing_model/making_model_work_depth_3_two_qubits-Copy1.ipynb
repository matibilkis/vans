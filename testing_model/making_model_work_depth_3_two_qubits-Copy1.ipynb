{
 "cells": [
  {
   "cell_type": "code",
   "execution_count": 8,
   "metadata": {},
   "outputs": [],
   "source": [
    "import argparse\n",
    "import gym\n",
    "from vans_gym.envs import VansEnvsSeq\n",
    "from vans_gym.solvers import CirqSolverR, Checker\n",
    "from vans_gym.models import DuelDQN\n",
    "import matplotlib.pyplot as plt\n",
    "import numpy as np\n",
    "from tqdm import tqdm\n",
    "import tensorflow as tf"
   ]
  },
  {
   "cell_type": "code",
   "execution_count": 49,
   "metadata": {},
   "outputs": [],
   "source": [
    "solver = CirqSolverR(n_qubits = 2, observable_name=\"Ising_\",qlr=0.05,qepochs=100)\n",
    "checker = Checker(solver)\n",
    "\n",
    "env = VansEnvsSeq(solver,checker=checker, depth_circuit=3)\n",
    "\n",
    "\n",
    "model = DuelDQN(env, name=\"WorkingOut\",\n",
    "               priority_scale=0.0, learning_rate=0.00001, tau=0.05)\n",
    "model.replay_buffer.load(\"DuelDQN/run_9/data_collected/\")"
   ]
  },
  {
   "cell_type": "code",
   "execution_count": 50,
   "metadata": {},
   "outputs": [
    {
     "data": {
      "text/plain": [
       "array([[-0.01276574,  0.21107237,  0.05765701,  0.05197726, -0.04438023,\n",
       "         0.11725076]], dtype=float32)"
      ]
     },
     "execution_count": 50,
     "metadata": {},
     "output_type": "execute_result"
    }
   ],
   "source": [
    "qold = model.prim_qnet.predict(tf.stack(np.array([[-1.,-1.,-1.]]).astype(np.float32)))\n",
    "qold"
   ]
  },
  {
   "cell_type": "code",
   "execution_count": 65,
   "metadata": {},
   "outputs": [],
   "source": [
    "def step(model):\n",
    "\n",
    "    batch_size=128\n",
    "    (states, actions, rewards, nstates, dones), importance, indices = model.replay_buffer.get_minibatch(batch_size=batch_size, priority_scale=model.priority_scale)\n",
    "\n",
    "    arg_q_max = model.prim_qnet.predict(tf.stack(states)).argmax(axis=1)\n",
    "    future_q_vals = model.target_qnet.predict(tf.stack(nstates))\n",
    "    nextq = future_q_vals[range(batch_size), arg_q_max]\n",
    "    target_q = rewards + (1-dones)*nextq\n",
    "\n",
    "    with tf.GradientTape() as tape:\n",
    "        tape.watch(model.prim_qnet.trainable_variables)\n",
    "        qvalues = model.prim_qnet(tf.stack(states))\n",
    "        Q = tf.reduce_sum(tf.multiply(qvalues, tf.keras.utils.to_categorical(actions, model.n_actions)), axis=1)\n",
    "        error = target_q - Q  # this is for importance sample\n",
    "        loss = tf.reduce_mean(tf.keras.losses.MSE(target_q, Q))\n",
    "    grads = tape.gradient(loss, model.prim_qnet.trainable_variables)\n",
    "    model.prim_qnet.optimizer.apply_gradients(zip(grads, model.prim_qnet.trainable_variables))\n",
    "    model.update_target_parameters()\n",
    "\n",
    "    return loss.numpy()"
   ]
  },
  {
   "cell_type": "code",
   "execution_count": 52,
   "metadata": {},
   "outputs": [
    {
     "name": "stderr",
     "output_type": "stream",
     "text": [
      "100%|██████████| 1000/1000 [00:58<00:00, 17.13it/s]\n"
     ]
    }
   ],
   "source": [
    "l=[]\n",
    "for j in tqdm(range(10**3)):\n",
    "    l.append(step(model))"
   ]
  },
  {
   "cell_type": "code",
   "execution_count": 53,
   "metadata": {},
   "outputs": [
    {
     "data": {
      "text/plain": [
       "[<matplotlib.lines.Line2D at 0x7f8420fdd4e0>]"
      ]
     },
     "execution_count": 53,
     "metadata": {},
     "output_type": "execute_result"
    },
    {
     "data": {
      "image/png": "[encoded data removed]",
      "text/plain": [
       "<Figure size 432x288 with 1 Axes>"
      ]
     },
     "metadata": {
      "needs_background": "light"
     },
     "output_type": "display_data"
    }
   ],
   "source": [
    "plt.plot(l)"
   ]
  },
  {
   "cell_type": "code",
   "execution_count": 57,
   "metadata": {},
   "outputs": [],
   "source": [
    "state = model.env.reset()\n",
    "done = False\n",
    "while not done:\n",
    "    action = model.give_action(state, ep=0)\n",
    "    next_state, reward, done, info = model.env.step(action, evaluating=False)\n",
    "    state = next_state\n"
   ]
  },
  {
   "cell_type": "code",
   "execution_count": 58,
   "metadata": {},
   "outputs": [
    {
     "data": {
      "text/plain": [
       "array(0.9999894, dtype=float32)"
      ]
     },
     "execution_count": 58,
     "metadata": {},
     "output_type": "execute_result"
    }
   ],
   "source": [
    "solver.run_circuit(state)"
   ]
  },
  {
   "cell_type": "code",
   "execution_count": 59,
   "metadata": {},
   "outputs": [
    {
     "data": {
      "text/plain": [
       "5"
      ]
     },
     "execution_count": 59,
     "metadata": {},
     "output_type": "execute_result"
    }
   ],
   "source": [
    "np.argmax(model.prim_qnet.predict(tf.stack(np.array([[-1.,-1.,-1.]]).astype(np.float32))))"
   ]
  },
  {
   "cell_type": "code",
   "execution_count": 60,
   "metadata": {},
   "outputs": [
    {
     "data": {
      "text/plain": [
       "array([[-0.00524273,  0.02820227, -0.01312972, -0.00344125, -0.0773262 ,\n",
       "         0.02826311]], dtype=float32)"
      ]
     },
     "execution_count": 60,
     "metadata": {},
     "output_type": "execute_result"
    }
   ],
   "source": [
    "model.prim_qnet.predict(tf.stack(np.array([[-1.,-1.,-1.]]).astype(np.float32)))"
   ]
  },
  {
   "cell_type": "code",
   "execution_count": 62,
   "metadata": {},
   "outputs": [
    {
     "data": {
      "text/plain": [
       "array([[ 0.00542188, -0.03441755,  0.03545082,  0.05008619, -0.05239047,\n",
       "        -0.04604851]], dtype=float32)"
      ]
     },
     "execution_count": 62,
     "metadata": {},
     "output_type": "execute_result"
    }
   ],
   "source": [
    "model.prim_qnet.predict(tf.stack(np.array([[1.,-1.,-1.]]).astype(np.float32)))"
   ]
  },
  {
   "cell_type": "code",
   "execution_count": 63,
   "metadata": {},
   "outputs": [],
   "source": [
    "state = np.array([1.,-1.,-1.])\n",
    "done = False\n",
    "while not done:\n",
    "    action = model.give_action(state, ep=0)\n",
    "    next_state, reward, done, info = model.env.step(action, evaluating=False)\n",
    "    state = next_state"
   ]
  },
  {
   "cell_type": "code",
   "execution_count": 64,
   "metadata": {},
   "outputs": [
    {
     "data": {
      "text/plain": [
       "array(0.9999883, dtype=float32)"
      ]
     },
     "execution_count": 64,
     "metadata": {},
     "output_type": "execute_result"
    }
   ],
   "source": [
    "reward"
   ]
  },
  {
   "cell_type": "code",
   "execution_count": null,
   "metadata": {},
   "outputs": [],
   "source": []
  },
  {
   "cell_type": "code",
   "execution_count": null,
   "metadata": {},
   "outputs": [],
   "source": []
  },
  {
   "cell_type": "code",
   "execution_count": 39,
   "metadata": {},
   "outputs": [
    {
     "data": {
      "text/plain": [
       "4"
      ]
     },
     "execution_count": 39,
     "metadata": {},
     "output_type": "execute_result"
    }
   ],
   "source": [
    "np.argmax(model.prim_qnet.predict(tf.stack(np.array([[4.,2.,-1.]]).astype(np.float32))))"
   ]
  },
  {
   "cell_type": "code",
   "execution_count": 40,
   "metadata": {},
   "outputs": [
    {
     "data": {
      "text/plain": [
       "5"
      ]
     },
     "execution_count": 40,
     "metadata": {},
     "output_type": "execute_result"
    }
   ],
   "source": [
    "np.argmax(model.prim_qnet.predict(tf.stack(np.array([[1.,-1.,-1.]]).astype(np.float32))))"
   ]
  },
  {
   "cell_type": "code",
   "execution_count": 41,
   "metadata": {},
   "outputs": [
    {
     "data": {
      "text/plain": [
       "5"
      ]
     },
     "execution_count": 41,
     "metadata": {},
     "output_type": "execute_result"
    }
   ],
   "source": [
    "np.argmax(model.prim_qnet.predict(tf.stack(np.array([[-1.,-1.,-1.]]).astype(np.float32))))"
   ]
  },
  {
   "cell_type": "code",
   "execution_count": 46,
   "metadata": {},
   "outputs": [
    {
     "data": {
      "text/plain": [
       "3"
      ]
     },
     "execution_count": 46,
     "metadata": {},
     "output_type": "execute_result"
    }
   ],
   "source": [
    "np.argmax(model.prim_qnet.predict(tf.stack(np.array([[5.,5.,3.]]).astype(np.float32))))"
   ]
  },
  {
   "cell_type": "code",
   "execution_count": null,
   "metadata": {},
   "outputs": [],
   "source": []
  }
 ],
 "metadata": {
  "kernelspec": {
   "display_name": "Python 3",
   "language": "python",
   "name": "python3"
  },
  "language_info": {
   "codemirror_mode": {
    "name": "ipython",
    "version": 3
   },
   "file_extension": ".py",
   "mimetype": "text/x-python",
   "name": "python",
   "nbconvert_exporter": "python",
   "pygments_lexer": "ipython3",
   "version": "3.6.9"
  }
 },
 "nbformat": 4,
 "nbformat_minor": 4
}
