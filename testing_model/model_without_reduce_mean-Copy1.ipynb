{
 "cells": [
  {
   "cell_type": "code",
   "execution_count": 4,
   "metadata": {},
   "outputs": [],
   "source": [
    "import argparse\n",
    "import gym\n",
    "from vans_gym.envs import VansEnvsSeq\n",
    "from vans_gym.solvers import CirqSolverR, Checker\n",
    "from vans_gym.models import DuelDQN\n",
    "import matplotlib.pyplot as plt\n",
    "import numpy as np\n",
    "from tqdm import tqdm\n",
    "import tensorflow as tf"
   ]
  },
  {
   "cell_type": "code",
   "execution_count": 5,
   "metadata": {},
   "outputs": [],
   "source": [
    "solver = CirqSolverR(n_qubits = 2, observable_name=\"Ising_\",qlr=0.05,qepochs=100)\n",
    "checker = Checker(solver)\n",
    "env = VansEnvsSeq(solver,checker=checker, depth_circuit=3)\n",
    "\n",
    "model = DuelDQN(env, name=\"WorkingOut\",priority_scale=0.1, learning_rate=0.01, tau=0.5)\n",
    "model.replay_buffer.load(\"DuelDQN/run_9/data_collected/\")"
   ]
  },
  {
   "cell_type": "code",
   "execution_count": null,
   "metadata": {},
   "outputs": [],
   "source": [
    "for k in tqdm(range(100)):\n",
    "    model.learn_step(batch_size=64)"
   ]
  },
  {
   "cell_type": "code",
   "execution_count": 7,
   "metadata": {},
   "outputs": [],
   "source": [
    "(states, actions, rewards, nstates, dones), importance, indices = model.replay_buffer.get_minibatch(batch_size=1, priority_scale=model.priority_scale)"
   ]
  },
  {
   "cell_type": "code",
   "execution_count": 8,
   "metadata": {},
   "outputs": [
    {
     "data": {
      "text/plain": [
       "array([[-0.02945315, -0.00605267, -0.03324292,  0.09253455,  0.08927465,\n",
       "        -0.14925666]], dtype=float32)"
      ]
     },
     "execution_count": 8,
     "metadata": {},
     "output_type": "execute_result"
    }
   ],
   "source": [
    "model.prim_qnet.predict(tf.stack(np.array([[-1,-1,-1]]).astype(np.float32)))"
   ]
  },
  {
   "cell_type": "code",
   "execution_count": 9,
   "metadata": {},
   "outputs": [
    {
     "data": {
      "text/plain": [
       "array([[-0.0974717 ,  0.37892026,  0.03494024,  0.2073739 , -0.08444621,\n",
       "        -0.42722702]], dtype=float32)"
      ]
     },
     "execution_count": 9,
     "metadata": {},
     "output_type": "execute_result"
    }
   ],
   "source": [
    "model.prim_qnet.predict(tf.stack(np.array([[3.,-1,-1]]).astype(np.float32)))"
   ]
  },
  {
   "cell_type": "code",
   "execution_count": 10,
   "metadata": {},
   "outputs": [
    {
     "data": {
      "text/plain": [
       "array([[ 0.05134374,  0.41767755,  0.11996649, -0.08629922, -0.628417  ,\n",
       "        -0.32184175]], dtype=float32)"
      ]
     },
     "execution_count": 10,
     "metadata": {},
     "output_type": "execute_result"
    }
   ],
   "source": [
    "model.prim_qnet.predict(tf.stack(np.array([[3.,5.,3.]]).astype(np.float32)))"
   ]
  },
  {
   "cell_type": "code",
   "execution_count": null,
   "metadata": {},
   "outputs": [],
   "source": []
  }
 ],
 "metadata": {
  "kernelspec": {
   "display_name": "Python 3",
   "language": "python",
   "name": "python3"
  },
  "language_info": {
   "codemirror_mode": {
    "name": "ipython",
    "version": 3
   },
   "file_extension": ".py",
   "mimetype": "text/x-python",
   "name": "python",
   "nbconvert_exporter": "python",
   "pygments_lexer": "ipython3",
   "version": "3.6.9"
  }
 },
 "nbformat": 4,
 "nbformat_minor": 4
}
