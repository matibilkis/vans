{
 "cells": [
  {
   "cell_type": "code",
   "execution_count": 45,
   "metadata": {},
   "outputs": [],
   "source": [
    "import argparse\n",
    "import gym\n",
    "from vans_gym.envs import VansEnvsSeq\n",
    "from vans_gym.solvers import CirqSolverR, Checker\n",
    "from vans_gym.models import DuelDQN\n",
    "import matplotlib.pyplot as plt\n",
    "import numpy as np\n",
    "from tqdm import tqdm\n",
    "import tensorflow as tf"
   ]
  },
  {
   "cell_type": "code",
   "execution_count": 2,
   "metadata": {},
   "outputs": [],
   "source": [
    "solver = CirqSolverR(n_qubits = 2, observable_name=\"Ising_\",qlr=0.05,qepochs=100)\n",
    "checker = Checker(solver)\n",
    "\n",
    "env = VansEnvsSeq(solver,checker=checker, depth_circuit=3)\n"
   ]
  },
  {
   "cell_type": "code",
   "execution_count": 3,
   "metadata": {},
   "outputs": [],
   "source": [
    "model = DuelDQN(env, name=\"WorkingOut\",\n",
    "               priority_scale=0.1, learning_rate=0.01, tau=0.5)\n",
    "model.replay_buffer.load(\"DuelDQN/run_9/data_collected/\")"
   ]
  },
  {
   "cell_type": "code",
   "execution_count": 14,
   "metadata": {},
   "outputs": [],
   "source": [
    "state = model.env.reset()\n",
    "done = False\n",
    "while not done:\n",
    "    action = model.give_action(state, ep=0)\n",
    "    next_state, reward, done, info = model.env.step(action)\n",
    "    state = next_state\n"
   ]
  },
  {
   "cell_type": "code",
   "execution_count": 65,
   "metadata": {},
   "outputs": [
    {
     "data": {
      "text/plain": [
       "True"
      ]
     },
     "execution_count": 65,
     "metadata": {},
     "output_type": "execute_result"
    }
   ],
   "source": [
    "[1,1] == [1,1]"
   ]
  },
  {
   "cell_type": "code",
   "execution_count": 71,
   "metadata": {},
   "outputs": [
    {
     "name": "stdout",
     "output_type": "stream",
     "text": [
      "[[-1. -1. -1.]\n",
      " [ 4. -1. -1.]]\n",
      "[[-1. -1. -1.]\n",
      " [ 1. -1. -1.]]\n",
      "[[-1. -1. -1.]\n",
      " [ 3. -1. -1.]]\n",
      "[[-1. -1. -1.]\n",
      " [ 0. -1. -1.]]\n",
      "[[-1. -1. -1.]\n",
      " [ 1. -1. -1.]]\n",
      "[[-1. -1. -1.]\n",
      " [ 3. -1. -1.]]\n",
      "[[-1. -1. -1.]\n",
      " [ 4. -1. -1.]]\n",
      "[[-1. -1. -1.]\n",
      " [ 5. -1. -1.]]\n",
      "[[-1. -1. -1.]\n",
      " [ 5. -1. -1.]]\n",
      "[[-1. -1. -1.]\n",
      " [ 4. -1. -1.]]\n",
      "[[-1. -1. -1.]\n",
      " [ 2. -1. -1.]]\n",
      "[[-1. -1. -1.]\n",
      " [ 2. -1. -1.]]\n",
      "[[-1. -1. -1.]\n",
      " [ 2. -1. -1.]]\n",
      "[[-1. -1. -1.]\n",
      " [ 3. -1. -1.]]\n",
      "[[-1. -1. -1.]\n",
      " [ 4. -1. -1.]]\n",
      "[[-1. -1. -1.]\n",
      " [ 2. -1. -1.]]\n",
      "[[-1. -1. -1.]\n",
      " [ 4. -1. -1.]]\n",
      "[[-1. -1. -1.]\n",
      " [ 0. -1. -1.]]\n",
      "[[-1. -1. -1.]\n",
      " [ 0. -1. -1.]]\n",
      "[[-1. -1. -1.]\n",
      " [ 5. -1. -1.]]\n",
      "[[-1. -1. -1.]\n",
      " [ 1. -1. -1.]]\n",
      "[[-1. -1. -1.]\n",
      " [ 4. -1. -1.]]\n",
      "[[-1. -1. -1.]\n",
      " [ 3. -1. -1.]]\n",
      "[[-1. -1. -1.]\n",
      " [ 2. -1. -1.]]\n",
      "[[-1. -1. -1.]\n",
      " [ 1. -1. -1.]]\n",
      "[[-1. -1. -1.]\n",
      " [ 5. -1. -1.]]\n",
      "[[-1. -1. -1.]\n",
      " [ 2. -1. -1.]]\n",
      "[[-1. -1. -1.]\n",
      " [ 1. -1. -1.]]\n",
      "[[-1. -1. -1.]\n",
      " [ 3. -1. -1.]]\n",
      "[[-1. -1. -1.]\n",
      " [ 4. -1. -1.]]\n",
      "[[-1. -1. -1.]\n",
      " [ 3. -1. -1.]]\n",
      "[[-1. -1. -1.]\n",
      " [ 1. -1. -1.]]\n",
      "[[-1. -1. -1.]\n",
      " [ 4. -1. -1.]]\n",
      "[[-1. -1. -1.]\n",
      " [ 0. -1. -1.]]\n",
      "[[-1. -1. -1.]\n",
      " [ 2. -1. -1.]]\n",
      "[[-1. -1. -1.]\n",
      " [ 1. -1. -1.]]\n",
      "[[-1. -1. -1.]\n",
      " [ 1. -1. -1.]]\n",
      "[[-1. -1. -1.]\n",
      " [ 2. -1. -1.]]\n",
      "[[-1. -1. -1.]\n",
      " [ 0. -1. -1.]]\n",
      "[[-1. -1. -1.]\n",
      " [ 5. -1. -1.]]\n",
      "[[-1. -1. -1.]\n",
      " [ 2. -1. -1.]]\n"
     ]
    }
   ],
   "source": [
    "for k in model.replay_buffer.states[:model.replay_buffer.count]:\n",
    "    if not (k[0] == k[1])[0]:\n",
    "        print(k)\n",
    "    #if k[0] != k[1]:\n",
    "    #    print(\"differentss\")"
   ]
  },
  {
   "cell_type": "code",
   "execution_count": 72,
   "metadata": {},
   "outputs": [],
   "source": [
    "state = model.env.reset()\n",
    "while not done:\n",
    "    action = model.give_action(state, ep=model.schedule(k, total_timesteps))\n",
    "    next_state, reward, done, info = model.env.step(action)"
   ]
  },
  {
   "cell_type": "code",
   "execution_count": null,
   "metadata": {},
   "outputs": [],
   "source": []
  },
  {
   "cell_type": "code",
   "execution_count": null,
   "metadata": {},
   "outputs": [],
   "source": []
  },
  {
   "cell_type": "code",
   "execution_count": null,
   "metadata": {},
   "outputs": [],
   "source": []
  },
  {
   "cell_type": "code",
   "execution_count": null,
   "metadata": {},
   "outputs": [],
   "source": []
  },
  {
   "cell_type": "code",
   "execution_count": 53,
   "metadata": {},
   "outputs": [
    {
     "data": {
      "text/plain": [
       "array([[[1., 5., 3.],\n",
       "        [1., 5., 3.]],\n",
       "\n",
       "       [[3., 5., 3.],\n",
       "        [3., 5., 3.]],\n",
       "\n",
       "       [[2., 5., 3.],\n",
       "        [2., 5., 3.]],\n",
       "\n",
       "       [[4., 2., 4.],\n",
       "        [4., 2., 4.]]], dtype=float32)"
      ]
     },
     "execution_count": 53,
     "metadata": {},
     "output_type": "execute_result"
    }
   ],
   "source": [
    "model.replay_buffer.states[np.where(np.round(model.replay_buffer.rewards)==1)][:4]"
   ]
  },
  {
   "cell_type": "markdown",
   "metadata": {},
   "source": [
    "OK! Let's train the network s.t. it recognizes the optimal action at first .."
   ]
  },
  {
   "cell_type": "code",
   "execution_count": 39,
   "metadata": {},
   "outputs": [
    {
     "name": "stderr",
     "output_type": "stream",
     "text": [
      "100%|██████████| 100/100 [00:06<00:00, 15.24it/s]\n"
     ]
    }
   ],
   "source": [
    "for k in tqdm(range(100)):\n",
    "    model.learn_step(batch_size=64)"
   ]
  },
  {
   "cell_type": "code",
   "execution_count": 42,
   "metadata": {},
   "outputs": [],
   "source": [
    "(states, actions, rewards, nstates, dones), importance, indices = model.replay_buffer.get_minibatch(batch_size=1, priority_scale=model.priority_scale)"
   ]
  },
  {
   "cell_type": "code",
   "execution_count": 52,
   "metadata": {},
   "outputs": [
    {
     "data": {
      "text/plain": [
       "array([[180.22615, 160.75142, 171.45552, 185.59444, 207.60086, 228.84091]],\n",
       "      dtype=float32)"
      ]
     },
     "execution_count": 52,
     "metadata": {},
     "output_type": "execute_result"
    }
   ],
   "source": [
    "model.prim_qnet.predict(tf.stack(np.array([[-1,-1,-1]]).astype(np.float32)))"
   ]
  },
  {
   "cell_type": "code",
   "execution_count": 54,
   "metadata": {},
   "outputs": [
    {
     "data": {
      "text/plain": [
       "array([[180.22615, 160.75142, 171.45552, 185.59444, 207.60086, 228.84091]],\n",
       "      dtype=float32)"
      ]
     },
     "execution_count": 54,
     "metadata": {},
     "output_type": "execute_result"
    }
   ],
   "source": [
    "model.prim_qnet.predict(tf.stack(np.array([[-1,-1,-1]]).astype(np.float32)))"
   ]
  },
  {
   "cell_type": "code",
   "execution_count": 55,
   "metadata": {},
   "outputs": [
    {
     "data": {
      "text/plain": [
       "array([[187.52869, 182.91484, 191.88638, 184.84996, 189.40388, 194.17445]],\n",
       "      dtype=float32)"
      ]
     },
     "execution_count": 55,
     "metadata": {},
     "output_type": "execute_result"
    }
   ],
   "source": [
    "model.prim_qnet.predict(tf.stack(np.array([[3.,-1,-1]]).astype(np.float32)))"
   ]
  },
  {
   "cell_type": "code",
   "execution_count": null,
   "metadata": {},
   "outputs": [],
   "source": []
  }
 ],
 "metadata": {
  "kernelspec": {
   "display_name": "Python 3",
   "language": "python",
   "name": "python3"
  },
  "language_info": {
   "codemirror_mode": {
    "name": "ipython",
    "version": 3
   },
   "file_extension": ".py",
   "mimetype": "text/x-python",
   "name": "python",
   "nbconvert_exporter": "python",
   "pygments_lexer": "ipython3",
   "version": "3.6.9"
  }
 },
 "nbformat": 4,
 "nbformat_minor": 4
}
