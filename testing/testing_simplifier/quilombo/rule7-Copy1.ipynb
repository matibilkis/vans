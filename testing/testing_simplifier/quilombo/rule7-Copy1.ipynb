{
 "cells": [
  {
   "cell_type": "code",
   "execution_count": 92,
   "metadata": {},
   "outputs": [
    {
     "name": "stdout",
     "output_type": "stream",
     "text": [
      "The autoreload extension is already loaded. To reload it, use:\n",
      "  %reload_ext autoreload\n"
     ]
    }
   ],
   "source": [
    "%load_ext autoreload\n",
    "%autoreload 2\n",
    "\n",
    "import tensorflow_quantum as tfq\n",
    "from utilities.variational import VQE\n",
    "from utilities.qmodels import *\n",
    "from utilities.evaluator import Evaluator\n",
    "from utilities.idinserter import IdInserter\n",
    "from utilities.unitary_killer import UnitaryMurder\n",
    "from utilities.simplifier import Simplifier\n",
    "import cirq"
   ]
  },
  {
   "cell_type": "code",
   "execution_count": 93,
   "metadata": {},
   "outputs": [],
   "source": [
    "vqe_handler = VQE(n_qubits=2, problem_config={\"problem\":\"XXZ\",\"g\":1,\"J\":2})\n",
    "iid_inserter = IdInserter(n_qubits = vqe_handler.n_qubits, selector_temperature=0, epsilon=0.1)\n",
    "simplifier = Simplifier(n_qubits=vqe_handler.n_qubits,testing=True)"
   ]
  },
  {
   "cell_type": "code",
   "execution_count": 94,
   "metadata": {},
   "outputs": [],
   "source": [
    "Mindexed_circuit = [vqe_handler.number_of_cnots+vqe_handler.n_qubits,vqe_handler.number_of_cnots+vqe_handler.n_qubits + 1]+ iid_inserter.resolution_2cnots(0,1)+[vqe_handler.number_of_cnots+vqe_handler.n_qubits + 1]"
   ]
  },
  {
   "cell_type": "code",
   "execution_count": 95,
   "metadata": {},
   "outputs": [
    {
     "data": {
      "text/html": [
       "<pre style=\"overflow: auto; white-space: pre;\">(0, 0): ───Rx(th_0)───@───Rz(th_2)───Rx(th_3)───Rz(th_4)───@──────────────\n",
       "                      │                                    │\n",
       "(0, 1): ───Rx(th_1)───X───Rx(th_5)───Rz(th_6)───Rx(th_7)───X───Rx(th_8)───</pre>"
      ],
      "text/plain": [
       "(0, 0): ───Rx(th_0)───@───Rz(th_2)───Rx(th_3)───Rz(th_4)───@──────────────\n",
       "                      │                                    │\n",
       "(0, 1): ───Rx(th_1)───X───Rx(th_5)───Rz(th_6)───Rx(th_7)───X───Rx(th_8)───"
      ]
     },
     "execution_count": 95,
     "metadata": {},
     "output_type": "execute_result"
    }
   ],
   "source": [
    "vqe_handler.give_circuit(Mindexed_circuit)[0]"
   ]
  },
  {
   "cell_type": "code",
   "execution_count": 110,
   "metadata": {},
   "outputs": [],
   "source": [
    "a,b,Mindex_to_symbols = vqe_handler.give_circuit(Mindexed_circuit)\n",
    "Menergy, OMresolver, history = vqe_handler.vqe(Mindexed_circuit)"
   ]
  },
  {
   "cell_type": "code",
   "execution_count": 129,
   "metadata": {},
   "outputs": [
    {
     "data": {
      "text/plain": [
       "{'th_0': -12.56637,\n",
       " 'th_1': 24.393335,\n",
       " 'th_2': 7.7470903,\n",
       " 'th_3': 4.712301,\n",
       " 'th_4': 32.986675,\n",
       " 'th_5': -19.103405,\n",
       " 'th_6': -3.1415343,\n",
       " 'th_7': 18.186104,\n",
       " 'th_8': 9.094963}"
      ]
     },
     "execution_count": 129,
     "metadata": {},
     "output_type": "execute_result"
    }
   ],
   "source": [
    "OMresolver"
   ]
  },
  {
   "cell_type": "code",
   "execution_count": 128,
   "metadata": {},
   "outputs": [
    {
     "data": {
      "text/plain": [
       "-0.9173012"
      ]
     },
     "execution_count": 128,
     "metadata": {},
     "output_type": "execute_result"
    }
   ],
   "source": [
    "OMresolver[\"th_5\"]+OMresolver[\"th_7\"]"
   ]
  },
  {
   "cell_type": "code",
   "execution_count": 178,
   "metadata": {},
   "outputs": [
    {
     "data": {
      "text/html": [
       "<pre style=\"overflow: auto; white-space: pre;\">(0, 0): ───Rx(th_0)───@───Rz(th_2)───Rx(th_3)───Rz(th_4)───@──────────────\n",
       "                      │                                    │\n",
       "(0, 1): ───Rx(th_1)───X───Rx(th_5)───Rz(th_6)───Rx(th_7)───X───Rx(th_8)───</pre>"
      ],
      "text/plain": [
       "(0, 0): ───Rx(th_0)───@───Rz(th_2)───Rx(th_3)───Rz(th_4)───@──────────────\n",
       "                      │                                    │\n",
       "(0, 1): ───Rx(th_1)───X───Rx(th_5)───Rz(th_6)───Rx(th_7)───X───Rx(th_8)───"
      ]
     },
     "execution_count": 178,
     "metadata": {},
     "output_type": "execute_result"
    }
   ],
   "source": [
    "vqe_handler.give_circuit(Mindexed_circuit)[0]"
   ]
  },
  {
   "cell_type": "code",
   "execution_count": 179,
   "metadata": {},
   "outputs": [
    {
     "data": {
      "text/html": [
       "<pre style=\"overflow: auto; white-space: pre;\">(0, 0): ───Rx(0)─────────@───Rz(-1.53π)───Rx(1.5π)───Rz(-1.5π)───@───────────────\n",
       "                         │                                       │\n",
       "(0, 1): ───Rx(-0.235π)───X───Rx(1.92π)────Rz(-π)─────Rx(1.79π)───X───Rx(-1.1π)───</pre>"
      ],
      "text/plain": [
       "(0, 0): ───Rx(0)─────────@───Rz(-1.53π)───Rx(1.5π)───Rz(-1.5π)───@───────────────\n",
       "                         │                                       │\n",
       "(0, 1): ───Rx(-0.235π)───X───Rx(1.92π)────Rz(-π)─────Rx(1.79π)───X───Rx(-1.1π)───"
      ]
     },
     "execution_count": 179,
     "metadata": {},
     "output_type": "execute_result"
    }
   ],
   "source": [
    "vqe_handler.give_unitary(Mindexed_circuit,OMresolver)"
   ]
  },
  {
   "cell_type": "code",
   "execution_count": 207,
   "metadata": {},
   "outputs": [
    {
     "name": "stdout",
     "output_type": "stream",
     "text": [
      "connections\n",
      "{'0': ['rx', 0, 'rz', 'rx', 'rz', 0], '1': ['rx', 0, 'rx', 'rz', 'rx', 0, 'rx']}\n",
      "\n",
      "\n",
      "places_gates:\n",
      "{'0': [0, 2, 3, 4, 5, 9], '1': [1, 2, 6, 7, 8, 9, 10]}\n",
      "\n",
      "\n",
      "******\n",
      "{'th_0': -12.56637, 'th_1': 7.7470903, 'th_2': 4.712301, 'th_3': 32.986675}\n",
      "[4, 5, 0, 2, 4, 2, 5, 3, 5, 0, 5]\n",
      "{'0': ['th_0', 'th_1', 'th_2', 'th_3'], '1': []}\n",
      "7\n",
      "['th_5']\n",
      "7\n",
      "['th_5', 'th_8']\n",
      "******\n",
      "{'th_0': -12.56637, 'th_1': 7.7470903, 'th_2': 4.712301, 'th_3': 32.986675, 'th_4': 5.2899303, 'th_5': -19.103405, 'th_6': -3.1415343, 'th_7': 27.281067, 'th_8': 9.094963}\n",
      "[4, 5, 0, 2, 4, 2, -1, 3, 5, 0, -1]\n",
      "{'0': ['th_0', 'th_1', 'th_2', 'th_3'], '1': ['th_4', 'th_5', 'th_6', 'th_7', 'th_8']}\n"
     ]
    }
   ],
   "source": [
    "Sindexed_circuit, Sresolver, Sindex_to_symbols = simplifier.simplify_step(Mindexed_circuit, OMresolver, Mindex_to_symbols)"
   ]
  },
  {
   "cell_type": "code",
   "execution_count": 206,
   "metadata": {},
   "outputs": [
    {
     "data": {
      "text/html": [
       "<pre style=\"overflow: auto; white-space: pre;\">(0, 0): ───Rx(th_0)───@───Rz(th_2)───Rx(th_3)───Rz(th_4)───@──────────────\n",
       "                      │                                    │\n",
       "(0, 1): ───Rx(th_1)───X───Rx(th_5)───Rz(th_6)───Rx(th_7)───X───Rx(th_8)───</pre>"
      ],
      "text/plain": [
       "(0, 0): ───Rx(th_0)───@───Rz(th_2)───Rx(th_3)───Rz(th_4)───@──────────────\n",
       "                      │                                    │\n",
       "(0, 1): ───Rx(th_1)───X───Rx(th_5)───Rz(th_6)───Rx(th_7)───X───Rx(th_8)───"
      ]
     },
     "execution_count": 206,
     "metadata": {},
     "output_type": "execute_result"
    }
   ],
   "source": [
    "vqe_handler.give_circuit(Mindexed_circuit)[0]"
   ]
  },
  {
   "cell_type": "code",
   "execution_count": 208,
   "metadata": {},
   "outputs": [
    {
     "data": {
      "text/plain": [
       "{'th_0': -12.56637,\n",
       " 'th_1': 24.393335,\n",
       " 'th_2': 7.7470903,\n",
       " 'th_3': 4.712301,\n",
       " 'th_4': 32.986675,\n",
       " 'th_5': -19.103405,\n",
       " 'th_6': -3.1415343,\n",
       " 'th_7': 18.186104,\n",
       " 'th_8': 9.094963}"
      ]
     },
     "execution_count": 208,
     "metadata": {},
     "output_type": "execute_result"
    }
   ],
   "source": [
    "OMresolver"
   ]
  },
  {
   "cell_type": "code",
   "execution_count": null,
   "metadata": {},
   "outputs": [],
   "source": []
  },
  {
   "cell_type": "code",
   "execution_count": null,
   "metadata": {},
   "outputs": [],
   "source": []
  },
  {
   "cell_type": "code",
   "execution_count": 187,
   "metadata": {},
   "outputs": [],
   "source": [
    "dicti = {'th_0': -12.56637, 'th_1': 7.7470903, 'th_2': 4.712301, 'th_3': 32.986675, 'th_4': 5.2899303, 'th_5': -19.103405, 'th_6': -3.1415343, 'th_7': 27.281067, 'th_8': 9.094963}"
   ]
  },
  {
   "cell_type": "code",
   "execution_count": 189,
   "metadata": {},
   "outputs": [
    {
     "data": {
      "text/plain": [
       "-19.103405"
      ]
     },
     "execution_count": 189,
     "metadata": {},
     "output_type": "execute_result"
    }
   ],
   "source": [
    "dicti.pop(\"th_8\")\n",
    "dicti.pop(\"th_5\")"
   ]
  },
  {
   "cell_type": "code",
   "execution_count": 192,
   "metadata": {},
   "outputs": [],
   "source": [
    "dd={'th_0': -12.56637,\n",
    " 'th_1': 7.7470903,\n",
    " 'th_2': 4.712301,\n",
    " 'th_3': 32.986675,\n",
    " 'th_4': 5.2899303,\n",
    " 'th_5': -3.1415343,\n",
    " 'th_6': 27.281067}"
   ]
  },
  {
   "cell_type": "code",
   "execution_count": 196,
   "metadata": {},
   "outputs": [],
   "source": [
    "nn = [4, 5, 0, 2, 4, 2, -1, 3, 5, 0, -1]"
   ]
  },
  {
   "cell_type": "code",
   "execution_count": 199,
   "metadata": {},
   "outputs": [],
   "source": [
    "for ind, k in enumerate(nn):\n",
    "    if k == -1:\n",
    "        nn.pop(ind)"
   ]
  },
  {
   "cell_type": "code",
   "execution_count": 203,
   "metadata": {},
   "outputs": [
    {
     "data": {
      "text/html": [
       "<pre style=\"overflow: auto; white-space: pre;\">(0, 0): ───Rx(0)────────@───Rz(1.5π)───Rx(-1.5π)────Rz(1.68π)───@───\n",
       "                        │                                       │\n",
       "(0, 1): ───Rx(-1.53π)───X───Rz(-π)─────Rx(0.684π)───────────────X───</pre>"
      ],
      "text/plain": [
       "(0, 0): ───Rx(0)────────@───Rz(1.5π)───Rx(-1.5π)────Rz(1.68π)───@───\n",
       "                        │                                       │\n",
       "(0, 1): ───Rx(-1.53π)───X───Rz(-π)─────Rx(0.684π)───────────────X───"
      ]
     },
     "execution_count": 203,
     "metadata": {},
     "output_type": "execute_result"
    }
   ],
   "source": [
    "cirq.resolve_parameters(vqe_handler.give_circuit(nn)[0],dd)"
   ]
  },
  {
   "cell_type": "code",
   "execution_count": null,
   "metadata": {},
   "outputs": [],
   "source": []
  },
  {
   "cell_type": "code",
   "execution_count": null,
   "metadata": {},
   "outputs": [],
   "source": []
  },
  {
   "cell_type": "code",
   "execution_count": null,
   "metadata": {},
   "outputs": [],
   "source": []
  },
  {
   "cell_type": "code",
   "execution_count": 150,
   "metadata": {},
   "outputs": [
    {
     "data": {
      "text/html": [
       "<pre style=\"overflow: auto; white-space: pre;\">(0, 0): ───Rx(th_0)───@───Rz(th_2)───Rx(th_3)───Rz(th_4)───@───\n",
       "                      │                                    │\n",
       "(0, 1): ───Rx(th_1)───X───Rz(th_5)───Rx(th_6)──────────────X───</pre>"
      ],
      "text/plain": [
       "(0, 0): ───Rx(th_0)───@───Rz(th_2)───Rx(th_3)───Rz(th_4)───@───\n",
       "                      │                                    │\n",
       "(0, 1): ───Rx(th_1)───X───Rz(th_5)───Rx(th_6)──────────────X───"
      ]
     },
     "execution_count": 150,
     "metadata": {},
     "output_type": "execute_result"
    }
   ],
   "source": [
    "vqe_handler.give_circuit(Sindexed_circuit)[0]"
   ]
  },
  {
   "cell_type": "code",
   "execution_count": null,
   "metadata": {},
   "outputs": [],
   "source": []
  },
  {
   "cell_type": "code",
   "execution_count": null,
   "metadata": {},
   "outputs": [],
   "source": []
  },
  {
   "cell_type": "code",
   "execution_count": 135,
   "metadata": {},
   "outputs": [
    {
     "data": {
      "text/plain": [
       "{'th_0': -12.56637,\n",
       " 'th_1': 24.393335,\n",
       " 'th_2': 7.7470903,\n",
       " 'th_3': 4.712301,\n",
       " 'th_4': 32.986675,\n",
       " 'th_5': -19.103405,\n",
       " 'th_6': -3.1415343,\n",
       " 'th_7': 18.186104,\n",
       " 'th_8': 9.094963}"
      ]
     },
     "execution_count": 135,
     "metadata": {},
     "output_type": "execute_result"
    }
   ],
   "source": [
    "OMresolver"
   ]
  },
  {
   "cell_type": "code",
   "execution_count": 143,
   "metadata": {},
   "outputs": [
    {
     "data": {
      "text/html": [
       "<pre style=\"overflow: auto; white-space: pre;\">(0, 0): ───Rx(0)─────────@───Rz(-1.53π)───Rx(1.5π)───Rz(-1.5π)───@───────────────\n",
       "                         │                                       │\n",
       "(0, 1): ───Rx(-0.235π)───X───Rx(1.92π)────Rz(-π)─────Rx(1.79π)───X───Rx(-1.1π)───</pre>"
      ],
      "text/plain": [
       "(0, 0): ───Rx(0)─────────@───Rz(-1.53π)───Rx(1.5π)───Rz(-1.5π)───@───────────────\n",
       "                         │                                       │\n",
       "(0, 1): ───Rx(-0.235π)───X───Rx(1.92π)────Rz(-π)─────Rx(1.79π)───X───Rx(-1.1π)───"
      ]
     },
     "execution_count": 143,
     "metadata": {},
     "output_type": "execute_result"
    }
   ],
   "source": [
    "vqe_handler.give_unitary(Mindexed_circuit,OMresolver)"
   ]
  },
  {
   "cell_type": "code",
   "execution_count": 142,
   "metadata": {},
   "outputs": [
    {
     "ename": "NameError",
     "evalue": "name 'indexed_circuit' is not defined",
     "output_type": "error",
     "traceback": [
      "\u001b[0;31m---------------------------------------------------------------------------\u001b[0m",
      "\u001b[0;31mNameError\u001b[0m                                 Traceback (most recent call last)",
      "\u001b[0;32m<ipython-input-142-c8b6e62f62fc>\u001b[0m in \u001b[0;36m<module>\u001b[0;34m\u001b[0m\n\u001b[0;32m----> 1\u001b[0;31m \u001b[0mvqe_handler\u001b[0m\u001b[0;34m.\u001b[0m\u001b[0mgive_unitary\u001b[0m\u001b[0;34m(\u001b[0m\u001b[0mindexed_circuit\u001b[0m\u001b[0;34m,\u001b[0m\u001b[0mresolver\u001b[0m\u001b[0;34m)\u001b[0m\u001b[0;34m\u001b[0m\u001b[0;34m\u001b[0m\u001b[0m\n\u001b[0m",
      "\u001b[0;31mNameError\u001b[0m: name 'indexed_circuit' is not defined"
     ]
    }
   ],
   "source": [
    "vqe_handler.give_unitary(indexed_circuit,resolver)"
   ]
  },
  {
   "cell_type": "code",
   "execution_count": null,
   "metadata": {},
   "outputs": [],
   "source": []
  },
  {
   "cell_type": "code",
   "execution_count": null,
   "metadata": {},
   "outputs": [],
   "source": []
  },
  {
   "cell_type": "code",
   "execution_count": 120,
   "metadata": {},
   "outputs": [
    {
     "data": {
      "text/html": [
       "<pre style=\"overflow: auto; white-space: pre;\">(0, 0): ───Rx(0)─────────@───Rz(-1.53π)───Rx(1.5π)───Rz(-1.5π)───@───────────────\n",
       "                         │                                       │\n",
       "(0, 1): ───Rx(-0.235π)───X───Rx(1.92π)────Rz(-π)─────Rx(1.79π)───X───Rx(-1.1π)───</pre>"
      ],
      "text/plain": [
       "(0, 0): ───Rx(0)─────────@───Rz(-1.53π)───Rx(1.5π)───Rz(-1.5π)───@───────────────\n",
       "                         │                                       │\n",
       "(0, 1): ───Rx(-0.235π)───X───Rx(1.92π)────Rz(-π)─────Rx(1.79π)───X───Rx(-1.1π)───"
      ]
     },
     "execution_count": 120,
     "metadata": {},
     "output_type": "execute_result"
    }
   ],
   "source": [
    "u1 = vqe_handler.give_unitary(Mindexed_circuit,OMresolver)\n",
    "u1"
   ]
  },
  {
   "cell_type": "code",
   "execution_count": 125,
   "metadata": {},
   "outputs": [
    {
     "data": {
      "text/html": [
       "<pre style=\"overflow: auto; white-space: pre;\">(0, 0): ───Rx(0)───────@───Rz(-1.53π)───Rx(1.5π)───Rz(-1.5π)───@───\n",
       "                       │                                       │\n",
       "(0, 1): ───Rx(1.68π)───X───Rz(1.92π)────Rx(-π)─────────────────X───</pre>"
      ],
      "text/plain": [
       "(0, 0): ───Rx(0)───────@───Rz(-1.53π)───Rx(1.5π)───Rz(-1.5π)───@───\n",
       "                       │                                       │\n",
       "(0, 1): ───Rx(1.68π)───X───Rz(1.92π)────Rx(-π)─────────────────X───"
      ]
     },
     "execution_count": 125,
     "metadata": {},
     "output_type": "execute_result"
    }
   ],
   "source": [
    "u2 = vqe_handler.give_unitary(Sindexed_circuit,Sresolver)\n",
    "u2"
   ]
  },
  {
   "cell_type": "code",
   "execution_count": 47,
   "metadata": {},
   "outputs": [
    {
     "data": {
      "text/plain": [
       "array([[ 0.22822967+0.42700392j, -0.3101406 +0.93513739j,\n",
       "         0.65801768-0.73328303j, -0.03857048-0.48263577j],\n",
       "       [-0.65805645-0.73323178j, -0.0385391 +0.48263224j,\n",
       "         0.22820516-0.42702385j,  0.31020434+0.93512915j],\n",
       "       [ 0.65802092+0.73328476j,  0.03856339-0.48263342j,\n",
       "         0.22822411-0.42699894j,  0.31014426+0.93513768j],\n",
       "       [-0.2281996 -0.42701886j,  0.310208  -0.93512944j,\n",
       "         0.65805969-0.73323351j, -0.03853201-0.48262989j]])"
      ]
     },
     "execution_count": 47,
     "metadata": {},
     "output_type": "execute_result"
    }
   ],
   "source": [
    "cirq.unitary(u1)-cirq.unitary(u2)"
   ]
  },
  {
   "cell_type": "code",
   "execution_count": 48,
   "metadata": {},
   "outputs": [],
   "source": [
    "Sindexed_circuit, Sresolver, Sindex_to_symbols = simplifier.reduce_circuit(Mindexed_circuit, OMresolver, Mindex_to_symbols)"
   ]
  },
  {
   "cell_type": "code",
   "execution_count": 49,
   "metadata": {},
   "outputs": [
    {
     "data": {
      "text/html": [
       "<pre style=\"overflow: auto; white-space: pre;\">(0, 0): ───Rx(2π)──────@───Rz(1.63π)─────Rx(0.5π)───Rz(1.5π)───@───\n",
       "                       │                                       │\n",
       "(0, 1): ───Rx(0.48π)───X───Rz(-0.182π)───Rx(-π)────────────────X───</pre>"
      ],
      "text/plain": [
       "(0, 0): ───Rx(2π)──────@───Rz(1.63π)─────Rx(0.5π)───Rz(1.5π)───@───\n",
       "                       │                                       │\n",
       "(0, 1): ───Rx(0.48π)───X───Rz(-0.182π)───Rx(-π)────────────────X───"
      ]
     },
     "execution_count": 49,
     "metadata": {},
     "output_type": "execute_result"
    }
   ],
   "source": [
    "u2 = vqe_handler.give_unitary(Sindexed_circuit,Sresolver)\n",
    "u2"
   ]
  },
  {
   "cell_type": "code",
   "execution_count": 50,
   "metadata": {},
   "outputs": [
    {
     "data": {
      "text/plain": [
       "False"
      ]
     },
     "execution_count": 50,
     "metadata": {},
     "output_type": "execute_result"
    }
   ],
   "source": [
    "simplifier.testing"
   ]
  },
  {
   "cell_type": "code",
   "execution_count": null,
   "metadata": {},
   "outputs": [],
   "source": []
  }
 ],
 "metadata": {
  "kernelspec": {
   "display_name": "Python 3",
   "language": "python",
   "name": "python3"
  },
  "language_info": {
   "codemirror_mode": {
    "name": "ipython",
    "version": 3
   },
   "file_extension": ".py",
   "mimetype": "text/x-python",
   "name": "python",
   "nbconvert_exporter": "python",
   "pygments_lexer": "ipython3",
   "version": "3.6.9"
  }
 },
 "nbformat": 4,
 "nbformat_minor": 4
}
