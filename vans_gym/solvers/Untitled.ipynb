{
 "cells": [
  {
   "cell_type": "code",
   "execution_count": 2,
   "metadata": {},
   "outputs": [],
   "source": [
    "\n",
    "\n",
    "class PennylaneSolver:\n",
    "    def __init__(self, n_qubits=3, observable=None):\n",
    "        self.n_qubits = n_qubits\n",
    "        self.observable = observable\n",
    "        self.circuit = None\n",
    "\n",
    "        self.dev = qml.device(\"default.qubit\", wires=n_qubits)\n",
    "\n",
    "        with open('alphabet_w.pickle', 'rb') as alphabet:\n",
    "            self.alphabet = pickle.load(alphabet)\n",
    "\n",
    "        if observable is None:  # then take projector on W state\n",
    "            sq = 1 / np.sqrt(3)\n",
    "            w_state = np.array([0, sq, sq, 0, sq, 0, 0, 0])\n",
    "            self.observable = qml.Hermitian(projector(w_state), wires=[0, 1, 2])\n",
    "\n",
    "    def run_circuit(self, list_ops):\n",
    "        def circuit():\n",
    "            for op in list_ops:\n",
    "                append_gate(self.alphabet, int(op))\n",
    "\n",
    "        @qml.qnode(device=self.dev)\n",
    "        def circuit_probs():\n",
    "            circuit()\n",
    "            return qml.probs(wires=list(range(self.n_qubits)))\n",
    "\n",
    "        @qml.qnode(device=self.dev)\n",
    "        def circuit_obs():\n",
    "            circuit()\n",
    "            return qml.expval(self.observable)\n",
    "\n",
    "        energy = circuit_obs()\n",
    "        probs = circuit_probs()\n",
    "\n",
    "        return energy, probs\n"
   ]
  },
  {
   "cell_type": "code",
   "execution_count": 3,
   "metadata": {},
   "outputs": [
    {
     "name": "stdout",
     "output_type": "stream",
     "text": [
      "0.0189483167302114 [0.00000000e+00 3.33589945e-01 5.65603238e-07 0.00000000e+00\n",
      " 6.66409207e-01 0.00000000e+00 0.00000000e+00 2.83128671e-07]\n"
     ]
    }
   ],
   "source": [
    "solver = PennylaneSolver()\n",
    "energy, probs = solver.run_circuit([0, 1, 2, 3, 4, 5, 6, 7])\n",
    "\n",
    "print(energy, probs)\n"
   ]
  },
  {
   "cell_type": "markdown",
   "metadata": {},
   "source": []
  },
  {
   "cell_type": "code",
   "execution_count": 24,
   "metadata": {},
   "outputs": [],
   "source": []
  },
  {
   "cell_type": "code",
   "execution_count": 22,
   "metadata": {},
   "outputs": [],
   "source": []
  },
  {
   "cell_type": "code",
   "execution_count": 23,
   "metadata": {},
   "outputs": [
    {
     "name": "stdout",
     "output_type": "stream",
     "text": [
      "<function unary_to_nary.<locals>.nary_operator.<locals>.nary_f at 0x7feae4aad6a8>\n"
     ]
    },
    {
     "data": {
      "text/plain": [
       "(0.0,\n",
       " array([0.33359023, 0.        , 0.        , 0.        , 0.        ,\n",
       "        0.        , 0.        , 0.66640977]))"
      ]
     },
     "execution_count": 23,
     "metadata": {},
     "output_type": "execute_result"
    }
   ],
   "source": [
    "run_state([1,2,3,4])"
   ]
  },
  {
   "cell_type": "code",
   "execution_count": null,
   "metadata": {},
   "outputs": [],
   "source": []
  },
  {
   "cell_type": "code",
   "execution_count": null,
   "metadata": {},
   "outputs": [],
   "source": []
  },
  {
   "cell_type": "code",
   "execution_count": null,
   "metadata": {},
   "outputs": [],
   "source": []
  },
  {
   "cell_type": "code",
   "execution_count": null,
   "metadata": {},
   "outputs": [],
   "source": []
  },
  {
   "cell_type": "code",
   "execution_count": null,
   "metadata": {},
   "outputs": [],
   "source": []
  }
 ],
 "metadata": {
  "kernelspec": {
   "display_name": "Python 3",
   "language": "python",
   "name": "python3"
  },
  "language_info": {
   "codemirror_mode": {
    "name": "ipython",
    "version": 3
   },
   "file_extension": ".py",
   "mimetype": "text/x-python",
   "name": "python",
   "nbconvert_exporter": "python",
   "pygments_lexer": "ipython3",
   "version": "3.6.9"
  }
 },
 "nbformat": 4,
 "nbformat_minor": 4
}
