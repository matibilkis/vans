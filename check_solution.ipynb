{
 "cells": [
  {
   "cell_type": "code",
   "execution_count": 5,
   "metadata": {},
   "outputs": [
    {
     "name": "stdout",
     "output_type": "stream",
     "text": [
      "J:  0.001\n",
      "Lowest Energy found:  -2.1947758\n",
      "Ground state energy:  -2.911\n",
      "|E_found-E_ground|/E_ground 0.24604059780884838\n"
     ]
    },
    {
     "data": {
      "image/svg+xml": [
       "<svg xmlns=\"http://www.w3.org/2000/svg\" width=\"925.548359375\" height=\"200.0\"><line x1=\"34.7588671875\" x2=\"895.548359375\" y1=\"25.0\" y2=\"25.0\" stroke=\"#1967d2\" stroke-width=\"1\" /><line x1=\"34.7588671875\" x2=\"895.548359375\" y1=\"75.0\" y2=\"75.0\" stroke=\"#1967d2\" stroke-width=\"1\" /><line x1=\"34.7588671875\" x2=\"895.548359375\" y1=\"125.0\" y2=\"125.0\" stroke=\"#1967d2\" stroke-width=\"1\" /><line x1=\"34.7588671875\" x2=\"895.548359375\" y1=\"175.0\" y2=\"175.0\" stroke=\"#1967d2\" stroke-width=\"1\" /><line x1=\"99.517734375\" x2=\"99.517734375\" y1=\"125.0\" y2=\"175.0\" stroke=\"black\" stroke-width=\"3\" /><line x1=\"99.517734375\" x2=\"99.517734375\" y1=\"25.0\" y2=\"75.0\" stroke=\"black\" stroke-width=\"3\" /><line x1=\"417.533046875\" x2=\"417.533046875\" y1=\"125.0\" y2=\"175.0\" stroke=\"black\" stroke-width=\"3\" /><line x1=\"477.533046875\" x2=\"477.533046875\" y1=\"75.0\" y2=\"125.0\" stroke=\"black\" stroke-width=\"3\" /><line x1=\"795.548359375\" x2=\"795.548359375\" y1=\"75.0\" y2=\"125.0\" stroke=\"black\" stroke-width=\"3\" /><line x1=\"855.548359375\" x2=\"855.548359375\" y1=\"25.0\" y2=\"75.0\" stroke=\"black\" stroke-width=\"3\" /><rect x=\"10.0\" y=\"5.0\" width=\"49.517734375\" height=\"40\" stroke=\"black\" fill=\"white\" stroke-width=\"0\" /><text x=\"34.7588671875\" y=\"25.0\" dominant-baseline=\"middle\" text-anchor=\"middle\" font-size=\"14px\">(0, 0): </text><rect x=\"10.0\" y=\"55.0\" width=\"49.517734375\" height=\"40\" stroke=\"black\" fill=\"white\" stroke-width=\"0\" /><text x=\"34.7588671875\" y=\"75.0\" dominant-baseline=\"middle\" text-anchor=\"middle\" font-size=\"14px\">(0, 1): </text><rect x=\"10.0\" y=\"105.0\" width=\"49.517734375\" height=\"40\" stroke=\"black\" fill=\"white\" stroke-width=\"0\" /><text x=\"34.7588671875\" y=\"125.0\" dominant-baseline=\"middle\" text-anchor=\"middle\" font-size=\"14px\">(0, 2): </text><rect x=\"10.0\" y=\"155.0\" width=\"49.517734375\" height=\"40\" stroke=\"black\" fill=\"white\" stroke-width=\"0\" /><text x=\"34.7588671875\" y=\"175.0\" dominant-baseline=\"middle\" text-anchor=\"middle\" font-size=\"14px\">(0, 3): </text><circle cx=\"99.517734375\" cy=\"125.0\" r=\"10.0\" /><rect x=\"79.517734375\" y=\"155.0\" width=\"40\" height=\"40\" stroke=\"black\" fill=\"white\" stroke-width=\"1\" /><text x=\"99.517734375\" y=\"175.0\" dominant-baseline=\"middle\" text-anchor=\"middle\" font-size=\"18px\">X</text><circle cx=\"99.517734375\" cy=\"25.0\" r=\"10.0\" /><rect x=\"79.517734375\" y=\"55.0\" width=\"40\" height=\"40\" stroke=\"black\" fill=\"white\" stroke-width=\"1\" /><text x=\"99.517734375\" y=\"75.0\" dominant-baseline=\"middle\" text-anchor=\"middle\" font-size=\"18px\">X</text><rect x=\"139.517734375\" y=\"105.0\" width=\"65.6929296875\" height=\"40\" stroke=\"black\" fill=\"white\" stroke-width=\"1\" /><text x=\"172.36419921875\" y=\"125.0\" dominant-baseline=\"middle\" text-anchor=\"middle\" font-size=\"14px\">Rz(th_0)</text><rect x=\"225.2106640625\" y=\"105.0\" width=\"66.629453125\" height=\"40\" stroke=\"black\" fill=\"white\" stroke-width=\"1\" /><text x=\"258.525390625\" y=\"125.0\" dominant-baseline=\"middle\" text-anchor=\"middle\" font-size=\"14px\">Rx(th_1)</text><rect x=\"311.8401171875\" y=\"105.0\" width=\"65.6929296875\" height=\"40\" stroke=\"black\" fill=\"white\" stroke-width=\"1\" /><text x=\"344.68658203125005\" y=\"125.0\" dominant-baseline=\"middle\" text-anchor=\"middle\" font-size=\"14px\">Rz(th_2)</text><circle cx=\"417.533046875\" cy=\"125.0\" r=\"10.0\" /><rect x=\"397.533046875\" y=\"155.0\" width=\"40\" height=\"40\" stroke=\"black\" fill=\"white\" stroke-width=\"1\" /><text x=\"417.533046875\" y=\"175.0\" dominant-baseline=\"middle\" text-anchor=\"middle\" font-size=\"18px\">X</text><circle cx=\"477.533046875\" cy=\"125.0\" r=\"10.0\" /><rect x=\"457.533046875\" y=\"55.0\" width=\"40\" height=\"40\" stroke=\"black\" fill=\"white\" stroke-width=\"1\" /><text x=\"477.533046875\" y=\"75.0\" dominant-baseline=\"middle\" text-anchor=\"middle\" font-size=\"18px\">X</text><rect x=\"517.533046875\" y=\"105.0\" width=\"65.6929296875\" height=\"40\" stroke=\"black\" fill=\"white\" stroke-width=\"1\" /><text x=\"550.37951171875\" y=\"125.0\" dominant-baseline=\"middle\" text-anchor=\"middle\" font-size=\"14px\">Rz(th_3)</text><rect x=\"603.2259765625\" y=\"105.0\" width=\"66.629453125\" height=\"40\" stroke=\"black\" fill=\"white\" stroke-width=\"1\" /><text x=\"636.540703125\" y=\"125.0\" dominant-baseline=\"middle\" text-anchor=\"middle\" font-size=\"14px\">Rx(th_4)</text><rect x=\"689.8554296875\" y=\"105.0\" width=\"65.6929296875\" height=\"40\" stroke=\"black\" fill=\"white\" stroke-width=\"1\" /><text x=\"722.70189453125\" y=\"125.0\" dominant-baseline=\"middle\" text-anchor=\"middle\" font-size=\"14px\">Rz(th_5)</text><circle cx=\"795.548359375\" cy=\"125.0\" r=\"10.0\" /><rect x=\"775.548359375\" y=\"55.0\" width=\"40\" height=\"40\" stroke=\"black\" fill=\"white\" stroke-width=\"1\" /><text x=\"795.548359375\" y=\"75.0\" dominant-baseline=\"middle\" text-anchor=\"middle\" font-size=\"18px\">X</text><circle cx=\"855.548359375\" cy=\"25.0\" r=\"10.0\" /><rect x=\"835.548359375\" y=\"55.0\" width=\"40\" height=\"40\" stroke=\"black\" fill=\"white\" stroke-width=\"1\" /><text x=\"855.548359375\" y=\"75.0\" dominant-baseline=\"middle\" text-anchor=\"middle\" font-size=\"18px\">X</text></svg>"
      ],
      "text/plain": [
       "<cirq.contrib.svg.svg.SVGCircuit at 0x7f091c134470>"
      ]
     },
     "metadata": {},
     "output_type": "display_data"
    },
    {
     "name": "stdout",
     "output_type": "stream",
     "text": [
      "\n",
      "\n",
      "\n"
     ]
    }
   ],
   "source": [
    "import os\n",
    "import pickle\n",
    "import numpy as np\n",
    "from cirq.contrib.svg import SVGCircuit\n",
    "from IPython.display import SVG, display\n",
    "from vans_gym.solvers import GeneticSolver\n",
    "import cirq \n",
    "\n",
    "js = [0.001]\n",
    "sols={}\n",
    "for k in js:\n",
    "    with open(\"noise_test/\"+str(k)+'.pickle', 'rb') as handle:\n",
    "        sols[str(k)] = pickle.load(handle)\n",
    "        \n",
    "gse=np.ones(2)*-2.911\n",
    "\n",
    "for i,k in enumerate(js):\n",
    "    sol = sols[str(k)]\n",
    "    print(\"J: \",k)\n",
    "    print(\"Lowest Energy found: \",sol.lowest_energy_found)\n",
    "    print(\"Ground state energy: \",gse[i])    \n",
    "    print(\"|E_found-E_ground|/E_ground\", np.abs(sol.lowest_energy_found-gse[i])/np.abs(gse[i]))\n",
    "    display(SVGCircuit(sol.give_circuit(sol.best_circuit_found)[0]))\n",
    "    print(\"\\n\\n\")\n"
   ]
  },
  {
   "cell_type": "markdown",
   "metadata": {},
   "source": [
    "The noise model implemented:"
   ]
  },
  {
   "cell_type": "code",
   "execution_count": 7,
   "metadata": {},
   "outputs": [
    {
     "data": {
      "image/svg+xml": [
       "<svg xmlns=\"http://www.w3.org/2000/svg\" width=\"2777.4323046875006\" height=\"200.0\"><line x1=\"34.7588671875\" x2=\"2747.4323046875006\" y1=\"25.0\" y2=\"25.0\" stroke=\"#1967d2\" stroke-width=\"1\" /><line x1=\"34.7588671875\" x2=\"2747.4323046875006\" y1=\"75.0\" y2=\"75.0\" stroke=\"#1967d2\" stroke-width=\"1\" /><line x1=\"34.7588671875\" x2=\"2747.4323046875006\" y1=\"125.0\" y2=\"125.0\" stroke=\"#1967d2\" stroke-width=\"1\" /><line x1=\"34.7588671875\" x2=\"2747.4323046875006\" y1=\"175.0\" y2=\"175.0\" stroke=\"#1967d2\" stroke-width=\"1\" /><line x1=\"99.517734375\" x2=\"99.517734375\" y1=\"125.0\" y2=\"175.0\" stroke=\"black\" stroke-width=\"3\" /><line x1=\"99.517734375\" x2=\"99.517734375\" y1=\"25.0\" y2=\"75.0\" stroke=\"black\" stroke-width=\"3\" /><line x1=\"1090.9453906250003\" x2=\"1090.9453906250003\" y1=\"125.0\" y2=\"175.0\" stroke=\"black\" stroke-width=\"3\" /><line x1=\"1319.2984765625004\" x2=\"1319.2984765625004\" y1=\"75.0\" y2=\"125.0\" stroke=\"black\" stroke-width=\"3\" /><line x1=\"2310.7261328125005\" x2=\"2310.7261328125005\" y1=\"75.0\" y2=\"125.0\" stroke=\"black\" stroke-width=\"3\" /><line x1=\"2539.0792187500006\" x2=\"2539.0792187500006\" y1=\"25.0\" y2=\"75.0\" stroke=\"black\" stroke-width=\"3\" /><rect x=\"10.0\" y=\"5.0\" width=\"49.517734375\" height=\"40\" stroke=\"black\" fill=\"white\" stroke-width=\"0\" /><text x=\"34.7588671875\" y=\"25.0\" dominant-baseline=\"middle\" text-anchor=\"middle\" font-size=\"14px\">(0, 0): </text><rect x=\"10.0\" y=\"55.0\" width=\"49.517734375\" height=\"40\" stroke=\"black\" fill=\"white\" stroke-width=\"0\" /><text x=\"34.7588671875\" y=\"75.0\" dominant-baseline=\"middle\" text-anchor=\"middle\" font-size=\"14px\">(0, 1): </text><rect x=\"10.0\" y=\"105.0\" width=\"49.517734375\" height=\"40\" stroke=\"black\" fill=\"white\" stroke-width=\"0\" /><text x=\"34.7588671875\" y=\"125.0\" dominant-baseline=\"middle\" text-anchor=\"middle\" font-size=\"14px\">(0, 2): </text><rect x=\"10.0\" y=\"155.0\" width=\"49.517734375\" height=\"40\" stroke=\"black\" fill=\"white\" stroke-width=\"0\" /><text x=\"34.7588671875\" y=\"175.0\" dominant-baseline=\"middle\" text-anchor=\"middle\" font-size=\"14px\">(0, 3): </text><circle cx=\"99.517734375\" cy=\"125.0\" r=\"10.0\" /><rect x=\"79.517734375\" y=\"155.0\" width=\"40\" height=\"40\" stroke=\"black\" fill=\"white\" stroke-width=\"1\" /><text x=\"99.517734375\" y=\"175.0\" dominant-baseline=\"middle\" text-anchor=\"middle\" font-size=\"18px\">X</text><circle cx=\"99.517734375\" cy=\"25.0\" r=\"10.0\" /><rect x=\"79.517734375\" y=\"55.0\" width=\"40\" height=\"40\" stroke=\"black\" fill=\"white\" stroke-width=\"1\" /><text x=\"99.517734375\" y=\"75.0\" dominant-baseline=\"middle\" text-anchor=\"middle\" font-size=\"18px\">X</text><rect x=\"139.51773437499997\" y=\"5.0\" width=\"148.35308593750003\" height=\"40\" stroke=\"black\" fill=\"white\" stroke-width=\"1\" /><text x=\"213.69427734375\" y=\"25.0\" dominant-baseline=\"middle\" text-anchor=\"middle\" font-size=\"14px\">D(0.001)[<virtual>]</text><rect x=\"139.51773437499997\" y=\"55.0\" width=\"148.35308593750003\" height=\"40\" stroke=\"black\" fill=\"white\" stroke-width=\"1\" /><text x=\"213.69427734375\" y=\"75.0\" dominant-baseline=\"middle\" text-anchor=\"middle\" font-size=\"14px\">D(0.001)[<virtual>]</text><rect x=\"139.51773437499997\" y=\"105.0\" width=\"148.35308593750003\" height=\"40\" stroke=\"black\" fill=\"white\" stroke-width=\"1\" /><text x=\"213.69427734375\" y=\"125.0\" dominant-baseline=\"middle\" text-anchor=\"middle\" font-size=\"14px\">D(0.001)[<virtual>]</text><rect x=\"139.51773437499997\" y=\"155.0\" width=\"148.35308593750003\" height=\"40\" stroke=\"black\" fill=\"white\" stroke-width=\"1\" /><text x=\"213.69427734375\" y=\"175.0\" dominant-baseline=\"middle\" text-anchor=\"middle\" font-size=\"14px\">D(0.001)[<virtual>]</text><rect x=\"307.8708203125\" y=\"105.0\" width=\"65.6929296875\" height=\"40\" stroke=\"black\" fill=\"white\" stroke-width=\"1\" /><text x=\"340.71728515625\" y=\"125.0\" dominant-baseline=\"middle\" text-anchor=\"middle\" font-size=\"14px\">Rz(th_0)</text><rect x=\"393.56375\" y=\"5.0\" width=\"148.35308593750003\" height=\"40\" stroke=\"black\" fill=\"white\" stroke-width=\"1\" /><text x=\"467.74029296875005\" y=\"25.0\" dominant-baseline=\"middle\" text-anchor=\"middle\" font-size=\"14px\">D(0.001)[<virtual>]</text><rect x=\"393.56375\" y=\"55.0\" width=\"148.35308593750003\" height=\"40\" stroke=\"black\" fill=\"white\" stroke-width=\"1\" /><text x=\"467.74029296875005\" y=\"75.0\" dominant-baseline=\"middle\" text-anchor=\"middle\" font-size=\"14px\">D(0.001)[<virtual>]</text><rect x=\"393.56375\" y=\"105.0\" width=\"148.35308593750003\" height=\"40\" stroke=\"black\" fill=\"white\" stroke-width=\"1\" /><text x=\"467.74029296875005\" y=\"125.0\" dominant-baseline=\"middle\" text-anchor=\"middle\" font-size=\"14px\">D(0.001)[<virtual>]</text><rect x=\"393.56375\" y=\"155.0\" width=\"148.35308593750003\" height=\"40\" stroke=\"black\" fill=\"white\" stroke-width=\"1\" /><text x=\"467.74029296875005\" y=\"175.0\" dominant-baseline=\"middle\" text-anchor=\"middle\" font-size=\"14px\">D(0.001)[<virtual>]</text><rect x=\"561.9168359375001\" y=\"105.0\" width=\"66.629453125\" height=\"40\" stroke=\"black\" fill=\"white\" stroke-width=\"1\" /><text x=\"595.2315625000001\" y=\"125.0\" dominant-baseline=\"middle\" text-anchor=\"middle\" font-size=\"14px\">Rx(th_1)</text><rect x=\"648.5462890625001\" y=\"5.0\" width=\"148.35308593750003\" height=\"40\" stroke=\"black\" fill=\"white\" stroke-width=\"1\" /><text x=\"722.7228320312502\" y=\"25.0\" dominant-baseline=\"middle\" text-anchor=\"middle\" font-size=\"14px\">D(0.001)[<virtual>]</text><rect x=\"648.5462890625001\" y=\"55.0\" width=\"148.35308593750003\" height=\"40\" stroke=\"black\" fill=\"white\" stroke-width=\"1\" /><text x=\"722.7228320312502\" y=\"75.0\" dominant-baseline=\"middle\" text-anchor=\"middle\" font-size=\"14px\">D(0.001)[<virtual>]</text><rect x=\"648.5462890625001\" y=\"105.0\" width=\"148.35308593750003\" height=\"40\" stroke=\"black\" fill=\"white\" stroke-width=\"1\" /><text x=\"722.7228320312502\" y=\"125.0\" dominant-baseline=\"middle\" text-anchor=\"middle\" font-size=\"14px\">D(0.001)[<virtual>]</text><rect x=\"648.5462890625001\" y=\"155.0\" width=\"148.35308593750003\" height=\"40\" stroke=\"black\" fill=\"white\" stroke-width=\"1\" /><text x=\"722.7228320312502\" y=\"175.0\" dominant-baseline=\"middle\" text-anchor=\"middle\" font-size=\"14px\">D(0.001)[<virtual>]</text><rect x=\"816.8993750000002\" y=\"105.0\" width=\"65.6929296875\" height=\"40\" stroke=\"black\" fill=\"white\" stroke-width=\"1\" /><text x=\"849.7458398437502\" y=\"125.0\" dominant-baseline=\"middle\" text-anchor=\"middle\" font-size=\"14px\">Rz(th_2)</text><rect x=\"902.5923046875002\" y=\"5.0\" width=\"148.35308593750003\" height=\"40\" stroke=\"black\" fill=\"white\" stroke-width=\"1\" /><text x=\"976.7688476562503\" y=\"25.0\" dominant-baseline=\"middle\" text-anchor=\"middle\" font-size=\"14px\">D(0.001)[<virtual>]</text><rect x=\"902.5923046875002\" y=\"55.0\" width=\"148.35308593750003\" height=\"40\" stroke=\"black\" fill=\"white\" stroke-width=\"1\" /><text x=\"976.7688476562503\" y=\"75.0\" dominant-baseline=\"middle\" text-anchor=\"middle\" font-size=\"14px\">D(0.001)[<virtual>]</text><rect x=\"902.5923046875002\" y=\"105.0\" width=\"148.35308593750003\" height=\"40\" stroke=\"black\" fill=\"white\" stroke-width=\"1\" /><text x=\"976.7688476562503\" y=\"125.0\" dominant-baseline=\"middle\" text-anchor=\"middle\" font-size=\"14px\">D(0.001)[<virtual>]</text><rect x=\"902.5923046875002\" y=\"155.0\" width=\"148.35308593750003\" height=\"40\" stroke=\"black\" fill=\"white\" stroke-width=\"1\" /><text x=\"976.7688476562503\" y=\"175.0\" dominant-baseline=\"middle\" text-anchor=\"middle\" font-size=\"14px\">D(0.001)[<virtual>]</text><circle cx=\"1090.9453906250003\" cy=\"125.0\" r=\"10.0\" /><rect x=\"1070.9453906250003\" y=\"155.0\" width=\"40\" height=\"40\" stroke=\"black\" fill=\"white\" stroke-width=\"1\" /><text x=\"1090.9453906250003\" y=\"175.0\" dominant-baseline=\"middle\" text-anchor=\"middle\" font-size=\"18px\">X</text><rect x=\"1130.9453906250003\" y=\"5.0\" width=\"148.35308593750003\" height=\"40\" stroke=\"black\" fill=\"white\" stroke-width=\"1\" /><text x=\"1205.1219335937503\" y=\"25.0\" dominant-baseline=\"middle\" text-anchor=\"middle\" font-size=\"14px\">D(0.001)[<virtual>]</text><rect x=\"1130.9453906250003\" y=\"55.0\" width=\"148.35308593750003\" height=\"40\" stroke=\"black\" fill=\"white\" stroke-width=\"1\" /><text x=\"1205.1219335937503\" y=\"75.0\" dominant-baseline=\"middle\" text-anchor=\"middle\" font-size=\"14px\">D(0.001)[<virtual>]</text><rect x=\"1130.9453906250003\" y=\"105.0\" width=\"148.35308593750003\" height=\"40\" stroke=\"black\" fill=\"white\" stroke-width=\"1\" /><text x=\"1205.1219335937503\" y=\"125.0\" dominant-baseline=\"middle\" text-anchor=\"middle\" font-size=\"14px\">D(0.001)[<virtual>]</text><rect x=\"1130.9453906250003\" y=\"155.0\" width=\"148.35308593750003\" height=\"40\" stroke=\"black\" fill=\"white\" stroke-width=\"1\" /><text x=\"1205.1219335937503\" y=\"175.0\" dominant-baseline=\"middle\" text-anchor=\"middle\" font-size=\"14px\">D(0.001)[<virtual>]</text><circle cx=\"1319.2984765625004\" cy=\"125.0\" r=\"10.0\" /><rect x=\"1299.2984765625004\" y=\"55.0\" width=\"40\" height=\"40\" stroke=\"black\" fill=\"white\" stroke-width=\"1\" /><text x=\"1319.2984765625004\" y=\"75.0\" dominant-baseline=\"middle\" text-anchor=\"middle\" font-size=\"18px\">X</text><rect x=\"1359.2984765625004\" y=\"5.0\" width=\"148.35308593750003\" height=\"40\" stroke=\"black\" fill=\"white\" stroke-width=\"1\" /><text x=\"1433.4750195312504\" y=\"25.0\" dominant-baseline=\"middle\" text-anchor=\"middle\" font-size=\"14px\">D(0.001)[<virtual>]</text><rect x=\"1359.2984765625004\" y=\"55.0\" width=\"148.35308593750003\" height=\"40\" stroke=\"black\" fill=\"white\" stroke-width=\"1\" /><text x=\"1433.4750195312504\" y=\"75.0\" dominant-baseline=\"middle\" text-anchor=\"middle\" font-size=\"14px\">D(0.001)[<virtual>]</text><rect x=\"1359.2984765625004\" y=\"105.0\" width=\"148.35308593750003\" height=\"40\" stroke=\"black\" fill=\"white\" stroke-width=\"1\" /><text x=\"1433.4750195312504\" y=\"125.0\" dominant-baseline=\"middle\" text-anchor=\"middle\" font-size=\"14px\">D(0.001)[<virtual>]</text><rect x=\"1359.2984765625004\" y=\"155.0\" width=\"148.35308593750003\" height=\"40\" stroke=\"black\" fill=\"white\" stroke-width=\"1\" /><text x=\"1433.4750195312504\" y=\"175.0\" dominant-baseline=\"middle\" text-anchor=\"middle\" font-size=\"14px\">D(0.001)[<virtual>]</text><rect x=\"1527.6515625000004\" y=\"105.0\" width=\"65.6929296875\" height=\"40\" stroke=\"black\" fill=\"white\" stroke-width=\"1\" /><text x=\"1560.4980273437504\" y=\"125.0\" dominant-baseline=\"middle\" text-anchor=\"middle\" font-size=\"14px\">Rz(th_3)</text><rect x=\"1613.3444921875005\" y=\"5.0\" width=\"148.35308593750003\" height=\"40\" stroke=\"black\" fill=\"white\" stroke-width=\"1\" /><text x=\"1687.5210351562505\" y=\"25.0\" dominant-baseline=\"middle\" text-anchor=\"middle\" font-size=\"14px\">D(0.001)[<virtual>]</text><rect x=\"1613.3444921875005\" y=\"55.0\" width=\"148.35308593750003\" height=\"40\" stroke=\"black\" fill=\"white\" stroke-width=\"1\" /><text x=\"1687.5210351562505\" y=\"75.0\" dominant-baseline=\"middle\" text-anchor=\"middle\" font-size=\"14px\">D(0.001)[<virtual>]</text><rect x=\"1613.3444921875005\" y=\"105.0\" width=\"148.35308593750003\" height=\"40\" stroke=\"black\" fill=\"white\" stroke-width=\"1\" /><text x=\"1687.5210351562505\" y=\"125.0\" dominant-baseline=\"middle\" text-anchor=\"middle\" font-size=\"14px\">D(0.001)[<virtual>]</text><rect x=\"1613.3444921875005\" y=\"155.0\" width=\"148.35308593750003\" height=\"40\" stroke=\"black\" fill=\"white\" stroke-width=\"1\" /><text x=\"1687.5210351562505\" y=\"175.0\" dominant-baseline=\"middle\" text-anchor=\"middle\" font-size=\"14px\">D(0.001)[<virtual>]</text><rect x=\"1781.6975781250005\" y=\"105.0\" width=\"66.629453125\" height=\"40\" stroke=\"black\" fill=\"white\" stroke-width=\"1\" /><text x=\"1815.0123046875005\" y=\"125.0\" dominant-baseline=\"middle\" text-anchor=\"middle\" font-size=\"14px\">Rx(th_4)</text><rect x=\"1868.3270312500006\" y=\"5.0\" width=\"148.35308593750003\" height=\"40\" stroke=\"black\" fill=\"white\" stroke-width=\"1\" /><text x=\"1942.5035742187506\" y=\"25.0\" dominant-baseline=\"middle\" text-anchor=\"middle\" font-size=\"14px\">D(0.001)[<virtual>]</text><rect x=\"1868.3270312500006\" y=\"55.0\" width=\"148.35308593750003\" height=\"40\" stroke=\"black\" fill=\"white\" stroke-width=\"1\" /><text x=\"1942.5035742187506\" y=\"75.0\" dominant-baseline=\"middle\" text-anchor=\"middle\" font-size=\"14px\">D(0.001)[<virtual>]</text><rect x=\"1868.3270312500006\" y=\"105.0\" width=\"148.35308593750003\" height=\"40\" stroke=\"black\" fill=\"white\" stroke-width=\"1\" /><text x=\"1942.5035742187506\" y=\"125.0\" dominant-baseline=\"middle\" text-anchor=\"middle\" font-size=\"14px\">D(0.001)[<virtual>]</text><rect x=\"1868.3270312500006\" y=\"155.0\" width=\"148.35308593750003\" height=\"40\" stroke=\"black\" fill=\"white\" stroke-width=\"1\" /><text x=\"1942.5035742187506\" y=\"175.0\" dominant-baseline=\"middle\" text-anchor=\"middle\" font-size=\"14px\">D(0.001)[<virtual>]</text><rect x=\"2036.6801171875006\" y=\"105.0\" width=\"65.6929296875\" height=\"40\" stroke=\"black\" fill=\"white\" stroke-width=\"1\" /><text x=\"2069.5265820312507\" y=\"125.0\" dominant-baseline=\"middle\" text-anchor=\"middle\" font-size=\"14px\">Rz(th_5)</text><rect x=\"2122.3730468750005\" y=\"5.0\" width=\"148.35308593750003\" height=\"40\" stroke=\"black\" fill=\"white\" stroke-width=\"1\" /><text x=\"2196.5495898437503\" y=\"25.0\" dominant-baseline=\"middle\" text-anchor=\"middle\" font-size=\"14px\">D(0.001)[<virtual>]</text><rect x=\"2122.3730468750005\" y=\"55.0\" width=\"148.35308593750003\" height=\"40\" stroke=\"black\" fill=\"white\" stroke-width=\"1\" /><text x=\"2196.5495898437503\" y=\"75.0\" dominant-baseline=\"middle\" text-anchor=\"middle\" font-size=\"14px\">D(0.001)[<virtual>]</text><rect x=\"2122.3730468750005\" y=\"105.0\" width=\"148.35308593750003\" height=\"40\" stroke=\"black\" fill=\"white\" stroke-width=\"1\" /><text x=\"2196.5495898437503\" y=\"125.0\" dominant-baseline=\"middle\" text-anchor=\"middle\" font-size=\"14px\">D(0.001)[<virtual>]</text><rect x=\"2122.3730468750005\" y=\"155.0\" width=\"148.35308593750003\" height=\"40\" stroke=\"black\" fill=\"white\" stroke-width=\"1\" /><text x=\"2196.5495898437503\" y=\"175.0\" dominant-baseline=\"middle\" text-anchor=\"middle\" font-size=\"14px\">D(0.001)[<virtual>]</text><circle cx=\"2310.7261328125005\" cy=\"125.0\" r=\"10.0\" /><rect x=\"2290.7261328125005\" y=\"55.0\" width=\"40\" height=\"40\" stroke=\"black\" fill=\"white\" stroke-width=\"1\" /><text x=\"2310.7261328125005\" y=\"75.0\" dominant-baseline=\"middle\" text-anchor=\"middle\" font-size=\"18px\">X</text><rect x=\"2350.7261328125005\" y=\"5.0\" width=\"148.35308593750003\" height=\"40\" stroke=\"black\" fill=\"white\" stroke-width=\"1\" /><text x=\"2424.9026757812503\" y=\"25.0\" dominant-baseline=\"middle\" text-anchor=\"middle\" font-size=\"14px\">D(0.001)[<virtual>]</text><rect x=\"2350.7261328125005\" y=\"55.0\" width=\"148.35308593750003\" height=\"40\" stroke=\"black\" fill=\"white\" stroke-width=\"1\" /><text x=\"2424.9026757812503\" y=\"75.0\" dominant-baseline=\"middle\" text-anchor=\"middle\" font-size=\"14px\">D(0.001)[<virtual>]</text><rect x=\"2350.7261328125005\" y=\"105.0\" width=\"148.35308593750003\" height=\"40\" stroke=\"black\" fill=\"white\" stroke-width=\"1\" /><text x=\"2424.9026757812503\" y=\"125.0\" dominant-baseline=\"middle\" text-anchor=\"middle\" font-size=\"14px\">D(0.001)[<virtual>]</text><rect x=\"2350.7261328125005\" y=\"155.0\" width=\"148.35308593750003\" height=\"40\" stroke=\"black\" fill=\"white\" stroke-width=\"1\" /><text x=\"2424.9026757812503\" y=\"175.0\" dominant-baseline=\"middle\" text-anchor=\"middle\" font-size=\"14px\">D(0.001)[<virtual>]</text><circle cx=\"2539.0792187500006\" cy=\"25.0\" r=\"10.0\" /><rect x=\"2519.0792187500006\" y=\"55.0\" width=\"40\" height=\"40\" stroke=\"black\" fill=\"white\" stroke-width=\"1\" /><text x=\"2539.0792187500006\" y=\"75.0\" dominant-baseline=\"middle\" text-anchor=\"middle\" font-size=\"18px\">X</text><rect x=\"2579.0792187500006\" y=\"5.0\" width=\"148.35308593750003\" height=\"40\" stroke=\"black\" fill=\"white\" stroke-width=\"1\" /><text x=\"2653.2557617187504\" y=\"25.0\" dominant-baseline=\"middle\" text-anchor=\"middle\" font-size=\"14px\">D(0.001)[<virtual>]</text><rect x=\"2579.0792187500006\" y=\"55.0\" width=\"148.35308593750003\" height=\"40\" stroke=\"black\" fill=\"white\" stroke-width=\"1\" /><text x=\"2653.2557617187504\" y=\"75.0\" dominant-baseline=\"middle\" text-anchor=\"middle\" font-size=\"14px\">D(0.001)[<virtual>]</text><rect x=\"2579.0792187500006\" y=\"105.0\" width=\"148.35308593750003\" height=\"40\" stroke=\"black\" fill=\"white\" stroke-width=\"1\" /><text x=\"2653.2557617187504\" y=\"125.0\" dominant-baseline=\"middle\" text-anchor=\"middle\" font-size=\"14px\">D(0.001)[<virtual>]</text><rect x=\"2579.0792187500006\" y=\"155.0\" width=\"148.35308593750003\" height=\"40\" stroke=\"black\" fill=\"white\" stroke-width=\"1\" /><text x=\"2653.2557617187504\" y=\"175.0\" dominant-baseline=\"middle\" text-anchor=\"middle\" font-size=\"14px\">D(0.001)[<virtual>]</text></svg>"
      ],
      "text/plain": [
       "<cirq.contrib.svg.svg.SVGCircuit at 0x7f091cc37f28>"
      ]
     },
     "execution_count": 7,
     "metadata": {},
     "output_type": "execute_result"
    }
   ],
   "source": [
    "SVGCircuit(sol.give_circuit(sol.best_circuit_found)[0].with_noise(cirq.depolarize(p=0.001)))"
   ]
  },
  {
   "cell_type": "code",
   "execution_count": 8,
   "metadata": {},
   "outputs": [
    {
     "data": {
      "text/html": [
       "<pre style=\"overflow: auto; white-space: pre;\">(0, 0): ───@───D(0.001)[<virtual>]──────────────D(0.001)[<virtual>]──────────────D(0.001)[<virtual>]──────────────D(0.001)[<virtual>]───────D(0.001)[<virtual>]───────D(0.001)[<virtual>]──────────────D(0.001)[<virtual>]──────────────D(0.001)[<virtual>]──────────────D(0.001)[<virtual>]───────D(0.001)[<virtual>]───@───D(0.001)[<virtual>]───\n",
       "           │                                                                                                                                                                                                                                                                                                             │\n",
       "(0, 1): ───X───D(0.001)[<virtual>]──────────────D(0.001)[<virtual>]──────────────D(0.001)[<virtual>]──────────────D(0.001)[<virtual>]───────D(0.001)[<virtual>]───X───D(0.001)[<virtual>]──────────────D(0.001)[<virtual>]──────────────D(0.001)[<virtual>]──────────────D(0.001)[<virtual>]───X───D(0.001)[<virtual>]───X───D(0.001)[<virtual>]───\n",
       "                                                                                                                                                                  │                                                                                                                            │\n",
       "(0, 2): ───@───D(0.001)[<virtual>]───Rz(th_0)───D(0.001)[<virtual>]───Rx(th_1)───D(0.001)[<virtual>]───Rz(th_2)───D(0.001)[<virtual>]───@───D(0.001)[<virtual>]───@───D(0.001)[<virtual>]───Rz(th_3)───D(0.001)[<virtual>]───Rx(th_4)───D(0.001)[<virtual>]───Rz(th_5)───D(0.001)[<virtual>]───@───D(0.001)[<virtual>]───────D(0.001)[<virtual>]───\n",
       "           │                                                                                                                            │\n",
       "(0, 3): ───X───D(0.001)[<virtual>]──────────────D(0.001)[<virtual>]──────────────D(0.001)[<virtual>]──────────────D(0.001)[<virtual>]───X───D(0.001)[<virtual>]───────D(0.001)[<virtual>]──────────────D(0.001)[<virtual>]──────────────D(0.001)[<virtual>]──────────────D(0.001)[<virtual>]───────D(0.001)[<virtual>]───────D(0.001)[<virtual>]───</pre>"
      ],
      "text/plain": [
       "(0, 0): ───@───D(0.001)[<virtual>]──────────────D(0.001)[<virtual>]──────────────D(0.001)[<virtual>]──────────────D(0.001)[<virtual>]───────D(0.001)[<virtual>]───────D(0.001)[<virtual>]──────────────D(0.001)[<virtual>]──────────────D(0.001)[<virtual>]──────────────D(0.001)[<virtual>]───────D(0.001)[<virtual>]───@───D(0.001)[<virtual>]───\n",
       "           │                                                                                                                                                                                                                                                                                                             │\n",
       "(0, 1): ───X───D(0.001)[<virtual>]──────────────D(0.001)[<virtual>]──────────────D(0.001)[<virtual>]──────────────D(0.001)[<virtual>]───────D(0.001)[<virtual>]───X───D(0.001)[<virtual>]──────────────D(0.001)[<virtual>]──────────────D(0.001)[<virtual>]──────────────D(0.001)[<virtual>]───X───D(0.001)[<virtual>]───X───D(0.001)[<virtual>]───\n",
       "                                                                                                                                                                  │                                                                                                                            │\n",
       "(0, 2): ───@───D(0.001)[<virtual>]───Rz(th_0)───D(0.001)[<virtual>]───Rx(th_1)───D(0.001)[<virtual>]───Rz(th_2)───D(0.001)[<virtual>]───@───D(0.001)[<virtual>]───@───D(0.001)[<virtual>]───Rz(th_3)───D(0.001)[<virtual>]───Rx(th_4)───D(0.001)[<virtual>]───Rz(th_5)───D(0.001)[<virtual>]───@───D(0.001)[<virtual>]───────D(0.001)[<virtual>]───\n",
       "           │                                                                                                                            │\n",
       "(0, 3): ───X───D(0.001)[<virtual>]──────────────D(0.001)[<virtual>]──────────────D(0.001)[<virtual>]──────────────D(0.001)[<virtual>]───X───D(0.001)[<virtual>]───────D(0.001)[<virtual>]──────────────D(0.001)[<virtual>]──────────────D(0.001)[<virtual>]──────────────D(0.001)[<virtual>]───────D(0.001)[<virtual>]───────D(0.001)[<virtual>]───"
      ]
     },
     "execution_count": 8,
     "metadata": {},
     "output_type": "execute_result"
    }
   ],
   "source": [
    "sol.give_circuit(sol.best_circuit_found)[0].with_noise(cirq.depolarize(p=0.001))"
   ]
  },
  {
   "cell_type": "code",
   "execution_count": 9,
   "metadata": {},
   "outputs": [
    {
     "data": {
      "text/html": [
       "<pre style=\"overflow: auto; white-space: pre;\">(0, 0): ───@───D(0.01)[<virtual>]──────────────D(0.01)[<virtual>]──────────────D(0.01)[<virtual>]──────────────D(0.01)[<virtual>]───────D(0.01)[<virtual>]───────D(0.01)[<virtual>]──────────────D(0.01)[<virtual>]──────────────D(0.01)[<virtual>]──────────────D(0.01)[<virtual>]───────D(0.01)[<virtual>]───@───D(0.01)[<virtual>]───\n",
       "           │                                                                                                                                                                                                                                                                                                   │\n",
       "(0, 1): ───X───D(0.01)[<virtual>]──────────────D(0.01)[<virtual>]──────────────D(0.01)[<virtual>]──────────────D(0.01)[<virtual>]───────D(0.01)[<virtual>]───X───D(0.01)[<virtual>]──────────────D(0.01)[<virtual>]──────────────D(0.01)[<virtual>]──────────────D(0.01)[<virtual>]───X───D(0.01)[<virtual>]───X───D(0.01)[<virtual>]───\n",
       "                                                                                                                                                             │                                                                                                                        │\n",
       "(0, 2): ───@───D(0.01)[<virtual>]───Rz(th_0)───D(0.01)[<virtual>]───Rx(th_1)───D(0.01)[<virtual>]───Rz(th_2)───D(0.01)[<virtual>]───@───D(0.01)[<virtual>]───@───D(0.01)[<virtual>]───Rz(th_3)───D(0.01)[<virtual>]───Rx(th_4)───D(0.01)[<virtual>]───Rz(th_5)───D(0.01)[<virtual>]───@───D(0.01)[<virtual>]───────D(0.01)[<virtual>]───\n",
       "           │                                                                                                                        │\n",
       "(0, 3): ───X───D(0.01)[<virtual>]──────────────D(0.01)[<virtual>]──────────────D(0.01)[<virtual>]──────────────D(0.01)[<virtual>]───X───D(0.01)[<virtual>]───────D(0.01)[<virtual>]──────────────D(0.01)[<virtual>]──────────────D(0.01)[<virtual>]──────────────D(0.01)[<virtual>]───────D(0.01)[<virtual>]───────D(0.01)[<virtual>]───</pre>"
      ],
      "text/plain": [
       "(0, 0): ───@───D(0.01)[<virtual>]──────────────D(0.01)[<virtual>]──────────────D(0.01)[<virtual>]──────────────D(0.01)[<virtual>]───────D(0.01)[<virtual>]───────D(0.01)[<virtual>]──────────────D(0.01)[<virtual>]──────────────D(0.01)[<virtual>]──────────────D(0.01)[<virtual>]───────D(0.01)[<virtual>]───@───D(0.01)[<virtual>]───\n",
       "           │                                                                                                                                                                                                                                                                                                   │\n",
       "(0, 1): ───X───D(0.01)[<virtual>]──────────────D(0.01)[<virtual>]──────────────D(0.01)[<virtual>]──────────────D(0.01)[<virtual>]───────D(0.01)[<virtual>]───X───D(0.01)[<virtual>]──────────────D(0.01)[<virtual>]──────────────D(0.01)[<virtual>]──────────────D(0.01)[<virtual>]───X───D(0.01)[<virtual>]───X───D(0.01)[<virtual>]───\n",
       "                                                                                                                                                             │                                                                                                                        │\n",
       "(0, 2): ───@───D(0.01)[<virtual>]───Rz(th_0)───D(0.01)[<virtual>]───Rx(th_1)───D(0.01)[<virtual>]───Rz(th_2)───D(0.01)[<virtual>]───@───D(0.01)[<virtual>]───@───D(0.01)[<virtual>]───Rz(th_3)───D(0.01)[<virtual>]───Rx(th_4)───D(0.01)[<virtual>]───Rz(th_5)───D(0.01)[<virtual>]───@───D(0.01)[<virtual>]───────D(0.01)[<virtual>]───\n",
       "           │                                                                                                                        │\n",
       "(0, 3): ───X───D(0.01)[<virtual>]──────────────D(0.01)[<virtual>]──────────────D(0.01)[<virtual>]──────────────D(0.01)[<virtual>]───X───D(0.01)[<virtual>]───────D(0.01)[<virtual>]──────────────D(0.01)[<virtual>]──────────────D(0.01)[<virtual>]──────────────D(0.01)[<virtual>]───────D(0.01)[<virtual>]───────D(0.01)[<virtual>]───"
      ]
     },
     "execution_count": 9,
     "metadata": {},
     "output_type": "execute_result"
    }
   ],
   "source": [
    "sol.give_circuit(sol.best_circuit_found)[0].with_noise(cirq.ConstantQubitNoiseModel.from_noise_model_like(cirq.depolarize(p=0.01)))"
   ]
  },
  {
   "cell_type": "code",
   "execution_count": null,
   "metadata": {},
   "outputs": [],
   "source": []
  }
 ],
 "metadata": {
  "kernelspec": {
   "display_name": "Python 3",
   "language": "python",
   "name": "python3"
  },
  "language_info": {
   "codemirror_mode": {
    "name": "ipython",
    "version": 3
   },
   "file_extension": ".py",
   "mimetype": "text/x-python",
   "name": "python",
   "nbconvert_exporter": "python",
   "pygments_lexer": "ipython3",
   "version": "3.6.9"
  }
 },
 "nbformat": 4,
 "nbformat_minor": 4
}
