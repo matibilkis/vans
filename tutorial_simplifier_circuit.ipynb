{
 "cells": [
  {
   "cell_type": "markdown",
   "metadata": {},
   "source": [
    "### In this notebook we showcase our circuit simplifier"
   ]
  },
  {
   "cell_type": "code",
   "execution_count": 1,
   "metadata": {},
   "outputs": [],
   "source": [
    "import gc\n",
    "import numpy as np\n",
    "import sympy\n",
    "import cirq\n",
    "import tensorflow_quantum as tfq\n",
    "from tqdm import tqdm\n",
    "import tensorflow as tf\n",
    "import argparse\n",
    "import os\n",
    "import pickle\n",
    "import matplotlib.pyplot as plt"
   ]
  },
  {
   "cell_type": "code",
   "execution_count": 459,
   "metadata": {},
   "outputs": [],
   "source": [
    "class Solver:\n",
    "    def __init__(self, n_qubits=3, qlr=0.01, qepochs=100,verbose=0, g=1, J=0, noise=False, noise_level=0.01):\n",
    "\n",
    "        self.n_qubits = n_qubits\n",
    "        self.qubits = cirq.GridQubit.rect(1, n_qubits)\n",
    "        self.lower_bound_Eg = -2*self.n_qubits\n",
    "\n",
    "        self.qlr = qlr\n",
    "        self.qepochs=qepochs\n",
    "        self.verbose=verbose\n",
    "\n",
    "\n",
    "        self.indexed_cnots = {}\n",
    "        self.cnots_index = {}\n",
    "        count = 0\n",
    "        for control in range(self.n_qubits):\n",
    "            for target in range(self.n_qubits):\n",
    "                if control != target:\n",
    "                    self.indexed_cnots[str(count)] = [control, target]\n",
    "                    self.cnots_index[str([control,target])] = count\n",
    "                    count += 1\n",
    "        self.number_of_cnots = len(self.indexed_cnots)\n",
    "        self.final_params = []\n",
    "        self.single_qubit_unitaries = {\"rx\":cirq.rx, \"rz\":cirq.rz}\n",
    "        \n",
    "        self.observable=self.ising_obs(g=g, J=J)\n",
    "        \n",
    "        self.noise = noise\n",
    "        self.noise_level = noise_level\n",
    "        \n",
    "    def ising_obs(self, g=1, J=0):\n",
    "        self.g=g\n",
    "        self.J=J\n",
    "        observable = [-float(0.5*g)*cirq.Z.on(q) for q in self.qubits]\n",
    "        for q in range(len(self.qubits)):\n",
    "            observable.append(-float(0.5*J)*cirq.X.on(self.qubits[q])*cirq.X.on(self.qubits[(q+1)%len(self.qubits)]))\n",
    "        return observable\n",
    "    \n",
    "    def append_to_circuit(self, ind, circuit, params, index_to_symbols):\n",
    "        #### add CNOT\n",
    "        if ind < self.number_of_cnots:\n",
    "            control, target = self.indexed_cnots[str(ind)]\n",
    "            circuit.append(cirq.CNOT.on(self.qubits[control], self.qubits[target]))\n",
    "            if isinstance(index_to_symbols,dict):\n",
    "                index_to_symbols[len(list(index_to_symbols.keys()))] = []\n",
    "                return circuit, params, index_to_symbols\n",
    "            else:\n",
    "                return circuit, params\n",
    "\n",
    "        #### add rz #####\n",
    "        elif 0 <= ind - self.number_of_cnots  < self.n_qubits:\n",
    "            qubit = self.qubits[(ind-self.number_of_cnots)%self.n_qubits]\n",
    "            for par, gate in zip(range(1),[cirq.rz]):\n",
    "                new_param = \"th_\"+str(len(params))\n",
    "                params.append(new_param)\n",
    "                circuit.append(gate(sympy.Symbol(new_param)).on(qubit))\n",
    "                index_to_symbols[len(list(index_to_symbols.keys()))] = new_param\n",
    "                return circuit, params, index_to_symbols\n",
    "\n",
    "        #### add rx #####\n",
    "        elif self.n_qubits <= ind - self.number_of_cnots  < 2*self.n_qubits:\n",
    "            qubit = self.qubits[(ind-self.number_of_cnots)%self.n_qubits]\n",
    "            for par, gate in zip(range(1),[cirq.rx]):\n",
    "                new_param = \"th_\"+str(len(params))\n",
    "                params.append(new_param)\n",
    "                circuit.append(gate(sympy.Symbol(new_param)).on(qubit))\n",
    "                index_to_symbols[len(list(index_to_symbols.keys()))] = new_param\n",
    "            return circuit, params, index_to_symbols\n",
    "            \n",
    "    def give_unitary(self,idx, res):\n",
    "        return cirq.resolve_parameters(self.give_circuit(idx)[0], res)\n",
    "\n",
    "    def give_circuit(self, lista):\n",
    "        circuit, symbols, index_to_symbols = [], [], {}\n",
    "        for k in lista:\n",
    "            circuit, symbols, index_to_symbols = self.append_to_circuit(k,circuit,symbols, index_to_symbols)\n",
    "        circuit = cirq.Circuit(circuit)\n",
    "        return circuit, symbols, index_to_symbols\n",
    "\n",
    "    def resolution_2cnots(self, q1, q2):\n",
    "        rzq1 = self.number_of_cnots + q1\n",
    "        rzq2 = self.number_of_cnots +  q2\n",
    "        rxq1 = self.number_of_cnots + self.n_qubits + q1\n",
    "        rxq2 = self.number_of_cnots + self.n_qubits + q2\n",
    "        cnot = self.cnots_index[str([q1,q2])]\n",
    "        return [cnot, rzq1, rxq1, rzq1,  rzq2, rxq2, rzq2, cnot]\n",
    "\n",
    "    def resolution_1qubit(self, q):\n",
    "        rzq1 = self.number_of_cnots +  q1\n",
    "        rxq1 = self.number_of_cnots + self.n_qubits + q1\n",
    "        return [rzq1, rxq1, rzq1]\n",
    "\n",
    "    def rotation(self,vals):\n",
    "        alpha,beta,gamma = vals\n",
    "        return np.array([[np.cos(beta/2)*np.cos(alpha/2 + gamma/2) - 1j*np.cos(beta/2)*np.sin(alpha/2 + gamma/2),\n",
    "                 (-1j)*np.cos(alpha/2 - gamma/2)*np.sin(beta/2) - np.sin(beta/2)*np.sin(alpha/2 - gamma/2)],\n",
    "                [(-1j)*np.cos(alpha/2 - gamma/2)*np.sin(beta/2) + np.sin(beta/2)*np.sin(alpha/2 - gamma/2),\n",
    "                 np.cos(beta/2)*np.cos(alpha/2 + gamma/2) + 1j*np.cos(beta/2)*np.sin(alpha/2 + gamma/2)]])\n",
    "\n",
    "\n",
    "    def give_rz_rx_rz(self,u):\n",
    "        \"\"\"\n",
    "        finds \\alpha, \\beta \\gamma s.t m = Rz(\\alpha) Rx(\\beta) Rz(\\gamma)\n",
    "        ****\n",
    "        input: 2x2 unitary matrix as numpy array\n",
    "        output: [\\alpha \\beta \\gamma]\n",
    "        \"\"\"\n",
    "        a = sympy.Symbol(\"a\")\n",
    "        b = sympy.Symbol(\"b\")\n",
    "        g = sympy.Symbol(\"g\")\n",
    "\n",
    "        eqs = [sympy.exp(-sympy.I*.5*(a+g))*sympy.cos(.5*b) ,\n",
    "               -sympy.I*sympy.exp(-sympy.I*.5*(a-g))*sympy.sin(.5*b),\n",
    "                sympy.exp(sympy.I*.5*(a+g))*sympy.cos(.5*b)\n",
    "              ]\n",
    "\n",
    "        kk = np.reshape(u, (4,))\n",
    "        s=[]\n",
    "        for i,r in enumerate(kk):\n",
    "            if i!=2:\n",
    "                s.append(r)\n",
    "\n",
    "        t=[]\n",
    "        for eq, val in zip(eqs,s):\n",
    "            t.append((eq)-np.round(val,5))\n",
    "\n",
    "        ### this while appears since the seed values may enter in vanishing gradients and through Matrix-zero error.\n",
    "        error=True\n",
    "        while error:\n",
    "            try:\n",
    "                solution = sympy.nsolve(t,[a,b,g],np.pi*np.array([np.random.random(),np.random.random(),np.random.random()]) ,maxsteps=3000, verify=True)\n",
    "                vals = np.array(solution.values()).astype(np.complex64)\n",
    "                #print(np.round(rotation(vals),3)-m)\n",
    "                error=False\n",
    "            except Exception:\n",
    "                error=True\n",
    "        return vals\n",
    "    \n",
    "    \n",
    "    def TFQ_model(self, symbols, lr):\n",
    "        circuit_input = tf.keras.Input(shape=(), dtype=tf.string)\n",
    "\n",
    "        if self.noise is True:\n",
    "            output = tfq.layers.Expectation(backend=cirq.DensityMatrixSimulator(noise=cirq.depolarize(self.noise_level)))(\n",
    "                    circuit_input,\n",
    "                    symbol_names=symbols,\n",
    "                    operators=tfq.convert_to_tensor([self.observable]),\n",
    "                    initializer=tf.keras.initializers.RandomNormal(stddev=np.pi/2))\n",
    "\n",
    "        else:\n",
    "            output = tfq.layers.Expectation()(\n",
    "                    circuit_input,\n",
    "                    symbol_names=symbols,\n",
    "                    operators=tfq.convert_to_tensor([self.observable]),\n",
    "                    initializer=tf.keras.initializers.RandomNormal(stddev=np.pi/2))\n",
    "\n",
    "        model = tf.keras.Model(inputs=circuit_input, outputs=output)\n",
    "        adam = tf.keras.optimizers.Adam(learning_rate=lr)\n",
    "        model.compile(optimizer=adam, loss='mse')\n",
    "        return model\n",
    "\n",
    "\n",
    "    def compute_energy_first_time(self, circuit, symbols, hyperparameters):\n",
    "        \"\"\"\n",
    "        takes as input vector with actions described as integer\n",
    "        and outputsthe energy of that circuit (w.r.t self.observable)\n",
    "\n",
    "        hyperparameters = [epoch, lr]\n",
    "        \"\"\"\n",
    "\n",
    "        ### this is because each qubit should be \"activated\" in TFQ to do the optimization (if the observable has support on this qubit as well and you don't add I then error)\n",
    "        effective_qubits = list(circuit.all_qubits())\n",
    "        for k in self.qubits:\n",
    "            if k not in effective_qubits:\n",
    "                circuit.append(cirq.I.on(k))\n",
    "\n",
    "        tfqcircuit = tfq.convert_to_tensor([circuit])\n",
    "\n",
    "        model = self.TFQ_model(symbols, hyperparameters[1])\n",
    "        qoutput = tf.ones((1, 1))*self.lower_bound_Eg ##### important to discuss with Lucksasz.\n",
    "        #print(\"about to fit!\")\n",
    "        h=model.fit(x=tfqcircuit, y=qoutput, batch_size=1,\n",
    "                    epochs=hyperparameters[0], verbose=self.verbose, callbacks=[tf.keras.callbacks.EarlyStopping(monitor='loss', patience=20, mode=\"min\")])\n",
    "        energy = np.squeeze(tf.math.reduce_sum(model.predict(tfqcircuit), axis=-1))\n",
    "        final_params = model.trainable_variables[0].numpy()\n",
    "        resolver = {\"th_\"+str(ind):var  for ind,var in enumerate(final_params)}\n",
    "        del model\n",
    "        gc.collect()\n",
    "\n",
    "        return resolver, energy,h\n",
    "\n",
    "\n",
    "    def simplify_circuit(self,indexed_circuit, index_to_symbols, symbol_to_value):\n",
    "\n",
    "        connections={str(q):[] for q in range(self.n_qubits)} #this saves the gates in each qubit. Notice that this does not necessarily respects the order.\n",
    "        places_gates = {str(q):[] for q in range(self.n_qubits)} #this saves, for each gate on each qubit, the position in the original indexed_circuit\n",
    "\n",
    "        flagged = [False]*len(indexed_circuit) #to check if you have seen a cnot already, so not to append it twice to the qubit's dictionary\n",
    "\n",
    "        for nn,idq in enumerate(indexed_circuit): #sweep over all gates in original circuit's vector\n",
    "            for q in range(self.n_qubits): #sweep over all qubits\n",
    "                if idq<self.number_of_cnots: #if the gate it's a CNOT or not\n",
    "                    control, target = self.indexed_cnots[str(idq)] #give control and target qubit\n",
    "                    if q in [control, target] and not flagged[nn]: #if the qubit we are looking at is affected by this CNOT, and we haven't add this CNOT to the dictionary yet\n",
    "                        connections[str(control)].append(idq)\n",
    "                        connections[str(target)].append(idq)\n",
    "                        places_gates[str(control)].append(nn)\n",
    "                        places_gates[str(target)].append(nn)\n",
    "                        flagged[nn] = True #so you don't add the other\n",
    "                else:\n",
    "                    if (idq-self.number_of_cnots)%self.n_qubits == q: #check if the unitary is applied to the qubit we are looking at\n",
    "                        if 0 <= idq - self.number_of_cnots< self.n_qubits:\n",
    "                            connections[str(q)].append(\"rz\")\n",
    "                        elif self.n_qubits <= idq-self.number_of_cnots <  2*self.n_qubits:\n",
    "                            connections[str(q)].append(\"rx\")\n",
    "                        places_gates[str(q)].append (nn)\n",
    "                    flagged[nn] = True #to check that all gates have been flagged\n",
    "\n",
    "        new_indexed_circuit = indexed_circuit.copy()\n",
    "        new_indexed_circuit_unitary = [False for k in indexed_circuit]\n",
    "        NRE ={}\n",
    "        symbols_to_delete=[]\n",
    "        symbols_on = {str(q):[] for q in list(connections.keys())}\n",
    "\n",
    "        for q, path in connections.items(): ###sweep over qubits: path is all the gates that act this qubit during the circuit\n",
    "            for ind,gate in enumerate(path):\n",
    "\n",
    "                ##### CNOTS ONLY ####\n",
    "                ##### CNOTS ONLY ####\n",
    "                if gate in range(self.number_of_cnots) and ind == 0 and not new_indexed_circuit[places_gates[str(q)][ind]] == -1: ###if I have a CNOT just before initializing, it does nothing (if |0> initialization).\n",
    "                    others = self.indexed_cnots[str(gate)].copy()\n",
    "                    others.remove(int(q)) #the other qubit affected by the CNOT\n",
    "                    for jind, jgate in enumerate(connections[str(others[0])][:-1]): ##sweep the other qubit's gates until i find \"gate\"\n",
    "                        if jgate == gate and jind==0: ##it's also the first gate in the other qubit\n",
    "                            if (places_gates[str(q)][ind] == places_gates[str(others[0])][jind]): #check that positions in the indexed_circuit are the same\n",
    "                                new_indexed_circuit[places_gates[str(q)][ind]] = -1 ###just kill the repeated CNOTS\n",
    "                                break\n",
    "\n",
    "                elif gate in range(self.number_of_cnots) and ind<len(path)-1 and not (new_indexed_circuit[places_gates[str(q)][ind]] == -1 and new_indexed_circuit[places_gates[str(q)][ind+1]] == -1): ### self.number_of_cnots is the maximum index of a CNOT gate for a fixed self.n_qubits.\n",
    "                    if path[ind+1]==gate and not (new_indexed_circuit[places_gates[str(q)][ind]] == -1): #check if the next gate is the same CNOT; and check if I haven't corrected the original one (otherwise you may simplify 3 CNOTs to id)\n",
    "                        others = self.indexed_cnots[str(gate)].copy()\n",
    "                        others.remove(int(q)) #the other qubit affected by the CNOT\n",
    "                        for jind, jgate in enumerate(connections[str(others[0])][:-1]): ##sweep the other qubit's gates until i find \"gate\"\n",
    "                            if jgate == gate and connections[str(others[0])][jind+1] == gate: ##i find the same gate that is repeated in both the original qubit and this one\n",
    "                                if (places_gates[str(q)][ind] == places_gates[str(others[0])][jind]) and (places_gates[str(q)][ind+1] == places_gates[str(others[0])][jind+1]): #check that positions in the indexed_circuit are the same\n",
    "                                 ###maybe I changed before, so I have repeated in the original but one was shut down..\n",
    "                                    new_indexed_circuit[places_gates[str(q)][ind]] = -1 ###just kill the repeated CNOTS\n",
    "                                    new_indexed_circuit[places_gates[str(q)][ind+1]] = -1 ###just kill the repeated CNOTS\n",
    "                                    break\n",
    "                ##### CNOTS ONLY ####\n",
    "                ##### CNOTS ONLY ####\n",
    "\n",
    "                #### ROTATIONS ####\n",
    "                elif gate in [\"rz\",\"rx\"] and not new_indexed_circuit[places_gates[str(q)][ind]] == -1:\n",
    "                    finish_here = False\n",
    "\n",
    "                    gates = [\"rz\", \"rx\"]\n",
    "                    gates.remove(gate)\n",
    "                    other_gate = gates[0]\n",
    "\n",
    "                    original_symbol = index_to_symbols[places_gates[str(q)][ind]]\n",
    "                    original_value = symbol_to_value[original_symbol]\n",
    "\n",
    "                    if ind==0 and gate==\"rz\": ### RZ AT BEGGINING DOES NOTHING\n",
    "                        symbols_to_delete.append(original_symbol)\n",
    "                        new_indexed_circuit[places_gates[str(q)][ind]] = -1\n",
    "                        finish_here = True\n",
    "\n",
    "\n",
    "                    elif ind != len(path)-1:\n",
    "                        #### two equal rotations: addd values\n",
    "                        if path[ind+1] == gate and not new_indexed_circuit[places_gates[str(q)][ind+1]] == -1:\n",
    "                            next_symbol = index_to_symbols[places_gates[str(q)][ind+1]]\n",
    "                            symbols_to_delete.append(next_symbol)\n",
    "                            new_indexed_circuit[places_gates[str(q)][ind+1]] = -1\n",
    "\n",
    "                            sname=\"th_\"+str(len(list(NRE.keys()))) ## this is safe, since we are looping on the indices first, and the resolver dict is ordered\n",
    "                            NRE[sname] = original_value + symbol_to_value[next_symbol]\n",
    "                            symbols_on[str(q)].append(sname)\n",
    "                            finish_here = True\n",
    "\n",
    "                        #### IF YOU HAVE ENOUGH EXPRESSIVITY..\n",
    "                        elif ind< len(path)-2:\n",
    "                            if path[ind+1] == other_gate and path[ind+2] == gate:\n",
    "                                compile_gate = False\n",
    "                                gate_to_compile = [self.single_qubit_unitaries[gate](original_value).on(self.qubits[int(q)])]\n",
    "\n",
    "                                for pp in [1,2]:\n",
    "                                    gate_to_compile.append(self.single_qubit_unitaries[path[ind+pp]](symbol_to_value[index_to_symbols[places_gates[str(q)][ind+pp]]]).on(self.qubits[int(q)]))\n",
    "\n",
    "                                for ilum, next_gates_to_compile in enumerate(path[(ind+3):]):\n",
    "                                    if next_gates_to_compile in [\"rz\",\"rx\"] and not new_indexed_circuit[places_gates[str(q)][ind+3+ilum]] == -1:\n",
    "                                        compile_gate = True #we'll compile!\n",
    "\n",
    "                                        new_indexed_circuit[places_gates[str(q)][ind+3+ilum]] = -1\n",
    "                                        dele = index_to_symbols[places_gates[str(q)][ind+3+ilum]]\n",
    "                                        symbols_to_delete.append(dele)\n",
    "\n",
    "                                        gate_to_compile.append(self.single_qubit_unitaries[next_gates_to_compile](symbol_to_value[dele]).on(self.qubits[int(q)]))\n",
    "                                    else:\n",
    "                                        break\n",
    "                                if compile_gate:\n",
    "                                    u = cirq.unitary(cirq.Circuit(gate_to_compile))\n",
    "                                    vals = np.real(self.give_rz_rx_rz(u)[::-1]) #not entirely real since finite number of iterations\n",
    "\n",
    "                                    #### make sure this is rz rx rz\n",
    "                                    new_indexed_circuit[places_gates[str(q)][ind]] = self.number_of_cnots+int(q)\n",
    "                                    new_indexed_circuit[places_gates[str(q)][ind+1]] = self.number_of_cnots+int(q)+self.n_qubits\n",
    "                                    new_indexed_circuit[places_gates[str(q)][ind+2]] = self.number_of_cnots+int(q)\n",
    "\n",
    "                                    for o in range(3):\n",
    "                                        new_indexed_circuit_unitary[places_gates[str(q)][ind+o]] = True\n",
    "\n",
    "                                    for v in zip(list(vals)):\n",
    "                                        sname=\"th_\"+str(len(list(NRE.keys()))) ## this is safe, since we are looping on the indices first, and the resolver dict is ordered\n",
    "                                        NRE[sname] = v[0]\n",
    "                                        symbols_on[str(q)].append(sname)\n",
    "                                    finish_here = True\n",
    "\n",
    "\n",
    "                            elif gate in [\"rz\",\"rx\"] and path[ind+1] not in [\"rx\", \"rz\",\"u\"]:\n",
    "                                control, target = self.indexed_cnots[str(path[ind+1])]\n",
    "                                if int(q) == control:\n",
    "                                    if gate == \"rz\":# and not :\n",
    "                                        values_added=[]\n",
    "                                        for npip, pip in enumerate(path[ind+2:]):\n",
    "                                            if new_indexed_circuit[places_gates[str(q)][ind+2+npip]] == -1:\n",
    "                                                break\n",
    "                                            else:\n",
    "                                                if pip not in [\"rz\", \"rx\"]: # it's a cnot\n",
    "                                                    if not self.indexed_cnots[str(pip)][0] == int(q): #i still have this control!\n",
    "                                                        break\n",
    "                                                else:\n",
    "                                                    break\n",
    "                                                    \n",
    "                                            \n",
    "                                        if ind+2+npip < len(path) and npip>0:\n",
    "                                            if path[ind+2+npip] == \"rz\":\n",
    "                                                next_symbol = index_to_symbols[places_gates[str(q)][ind+2+npip]]\n",
    "                                                symbols_to_delete.append(next_symbol)\n",
    "                                                new_indexed_circuit[places_gates[str(q)][ind+2+npip]] = -1\n",
    "                                                value_to_add = symbol_to_value[next_symbol]\n",
    "                                                \n",
    "                                                sname=\"th_\"+str(len(list(NRE.keys()))) ## this is safe, since we are looping on the indices first, and the resolver dict is ordered\n",
    "                                                NRE[sname] = original_value + value_to_add\n",
    "                                                symbols_on[str(q)].append(sname)\n",
    "                                                finish_here = True\n",
    "\n",
    "                                if int(q) == target:\n",
    "                                    if gate == \"rx\":# and not :\n",
    "                                        values_added=[]\n",
    "                                        for npip, pip in enumerate(path[ind+2:]):\n",
    "                                            if new_indexed_circuit[places_gates[str(q)][ind+2+npip]] == -1:\n",
    "                                                break\n",
    "                                            else:\n",
    "                                                if pip not in [\"rz\", \"rx\"]: # it's a cnot\n",
    "                                                    if not self.indexed_cnots[str(pip)][1] == int(q): #i still have this target!\n",
    "                                                        break\n",
    "                                                else:\n",
    "                                                    break\n",
    "                                                    \n",
    "                                            \n",
    "                                        if ind+2+npip < len(path) and npip>0:\n",
    "                                            if path[ind+2+npip] == \"rx\":\n",
    "                                                next_symbol = index_to_symbols[places_gates[str(q)][ind+2+npip]]\n",
    "                                                symbols_to_delete.append(next_symbol)\n",
    "                                                new_indexed_circuit[places_gates[str(q)][ind+2+npip]] = -1\n",
    "                                                value_to_add = symbol_to_value[next_symbol]\n",
    "                                                \n",
    "                                                sname=\"th_\"+str(len(list(NRE.keys()))) ## this is safe, since we are looping on the indices first, and the resolver dict is ordered\n",
    "                                                NRE[sname] = original_value + value_to_add\n",
    "                                                symbols_on[str(q)].append(sname)\n",
    "                                                finish_here = True\n",
    "\n",
    "\n",
    "\n",
    "                    if finish_here == False and new_indexed_circuit_unitary[places_gates[str(q)][ind]] == False:\n",
    "                        sname=\"th_\"+str(len(list(NRE.keys()))) ## this is safe, since we are looping on the indices first, and the resolver dict is ordered\n",
    "                        NRE[sname] = original_value\n",
    "                        symbols_on[str(q)].append(sname)\n",
    "\n",
    "\n",
    "\n",
    "\n",
    "        #### TRANSLATE THIS TO THE OUTPUT\n",
    "        final=[]\n",
    "        final_idx_to_symbols={}\n",
    "        final_dict = {}\n",
    "\n",
    "        index_gate=0\n",
    "        for gmarked in new_indexed_circuit:\n",
    "            if not gmarked == -1:\n",
    "                final.append(gmarked)\n",
    "                if 0 <= gmarked - self.number_of_cnots < 2*self.n_qubits:\n",
    "\n",
    "                    ### in which position we add this symbol ?\n",
    "                    for indd, k in enumerate(symbols_on[str((gmarked - self.number_of_cnots)%self.n_qubits)]):\n",
    "                        if k != -1:\n",
    "                            break\n",
    "                    final_idx_to_symbols[int(len(final)-1)] = \"th_\"+str(len(list(final_dict.keys())))\n",
    "                    final_dict[\"th_\"+str(len(list(final_dict.keys())))] = NRE[symbols_on[str((gmarked - self.number_of_cnots)%self.n_qubits)][indd]]\n",
    "                    \n",
    "                    symbols_on[str((gmarked - self.number_of_cnots)%self.n_qubits)][indd]=-1\n",
    "                else:\n",
    "                    final_idx_to_symbols[int(len(final)-1)] = \"\"\n",
    "\n",
    "        return final, final_idx_to_symbols, final_dict\n",
    "\n",
    "    def check_qubits_on(self,circuit):\n",
    "        \"\"\"function that checks if all qubits are touched by a gate in the circuit\"\"\"\n",
    "        check = True\n",
    "        effective_qubits = list(circuit.all_qubits())\n",
    "        for k in self.qubits:\n",
    "            if k not in effective_qubits:\n",
    "                check = False\n",
    "                break\n",
    "        return check\n",
    "    \n",
    "    def reduce_circuit(self, indexed_circuit, index_to_symbols, symbol_to_value, max_its=None):\n",
    "        \"\"\"iterate many times simplify circuit, break if you have\n",
    "        no gates on a given qubit (can happen after applying kill_unitary, if the circuit is no good enough)\"\"\"\n",
    "        \n",
    "        l0 = len(indexed_circuit)\n",
    "        reducing = True\n",
    "        \n",
    "        if max_its is None:\n",
    "            max_its = l0\n",
    "\n",
    "        for its in range(max_its):\n",
    "            if len(indexed_circuit) == l0 or self.check_qubits_on(self.give_circuit(indexed_circuit)[0]) is False:\n",
    "                reducing = False\n",
    "            indexed_circuit, index_to_symbols, symbol_to_value = self.simplify_circuit(indexed_circuit, index_to_symbols, symbol_to_value) #it would be great to have a way to realize that insertion was trivial...RL? :-)\n",
    "\n",
    "        return indexed_circuit, index_to_symbols, symbol_to_value\n",
    "\n",
    "def diff(u_1, u_2, cnots_simplified = False, numpy_type=True):\n",
    "    ui = cirq.unitary(u_1)\n",
    "    uf = cirq.unitary(u_2)\n",
    "    if cnots_simplified:\n",
    "        return np.sum(np.abs((ui - uf)[:,0]))\n",
    "    else:\n",
    "        return np.sum(np.abs((ui - uf)))\n",
    "\n",
    "def diff_expectation(u1,u2):\n",
    "    e=[]\n",
    "    for u in [u1, u2]:\n",
    "        effective_qubits = list(u.all_qubits())\n",
    "        for k in sol.qubits:\n",
    "            if k not in effective_qubits:\n",
    "                u.append(cirq.I.on(k))\n",
    "        expectation_layer = tfq.layers.Expectation()\n",
    "        tfqciru1 = tfq.convert_to_tensor([u]) ###SymbolToValue parameters !!!\n",
    "        exp1 = expectation_layer(tfqciru1,\n",
    "                                    operators=tfq.convert_to_tensor([sol.observable]))\n",
    "        e.append(np.float32(np.squeeze(tf.math.reduce_sum(exp1, axis=-1, keepdims=True))))\n",
    "    return e[0] - e[1]"
   ]
  },
  {
   "cell_type": "markdown",
   "metadata": {},
   "source": [
    "### Repeated CNOTS ###"
   ]
  },
  {
   "cell_type": "code",
   "execution_count": 460,
   "metadata": {},
   "outputs": [
    {
     "data": {
      "text/html": [
       "<pre style=\"overflow: auto; white-space: pre;\">(0, 0): ───Rx(-0.146π)───@───@───@───@───X───X───────────X───X───Rz(0.11π)───────\n",
       "                         │   │   │   │   │   │           │   │\n",
       "(0, 1): ───Rx(0.065π)────X───X───┼───┼───@───@───@───@───┼───┼───X───────────X───\n",
       "                                 │   │           │   │   │   │   │           │\n",
       "(0, 2): ───Rx(0.149π)────────────X───X───────────X───X───@───@───@───────────@───</pre>"
      ],
      "text/plain": [
       "(0, 0): ───Rx(-0.146π)───@───@───@───@───X───X───────────X───X───Rz(0.11π)───────\n",
       "                         │   │   │   │   │   │           │   │\n",
       "(0, 1): ───Rx(0.065π)────X───X───┼───┼───@───@───@───@───┼───┼───X───────────X───\n",
       "                                 │   │           │   │   │   │   │           │\n",
       "(0, 2): ───Rx(0.149π)────────────X───X───────────X───X───@───@───@───────────@───"
      ]
     },
     "execution_count": 460,
     "metadata": {},
     "output_type": "execute_result"
    }
   ],
   "source": [
    "sol = Solver(n_qubits=3)\n",
    "indexed_circuit = [9,10,11]\n",
    "for k in range(sol.number_of_cnots):\n",
    "    for j in range(2):\n",
    "        indexed_circuit.append(k)\n",
    "indexed_circuit.append(k+1) #we append the last one\n",
    "circuit, symbols, index_to_symbols = sol.give_circuit(indexed_circuit)\n",
    "symbol_to_value, energy, h = sol.compute_energy_first_time(circuit, symbols,[10,0.1]) ##very nie 5000, 0.01\n",
    "sol.give_unitary(indexed_circuit, symbol_to_value)"
   ]
  },
  {
   "cell_type": "code",
   "execution_count": 461,
   "metadata": {},
   "outputs": [
    {
     "data": {
      "text/html": [
       "<pre style=\"overflow: auto; white-space: pre;\">(0, 0): ───Rx(-0.146π)───Rz(0.11π)───\n",
       "\n",
       "(0, 1): ───Rx(0.065π)────────────────\n",
       "\n",
       "(0, 2): ───Rx(0.149π)────────────────</pre>"
      ],
      "text/plain": [
       "(0, 0): ───Rx(-0.146π)───Rz(0.11π)───\n",
       "\n",
       "(0, 1): ───Rx(0.065π)────────────────\n",
       "\n",
       "(0, 2): ───Rx(0.149π)────────────────"
      ]
     },
     "execution_count": 461,
     "metadata": {},
     "output_type": "execute_result"
    }
   ],
   "source": [
    "final, final_idx, final_dict = sol.reduce_circuit(indexed_circuit, index_to_symbols, symbol_to_value)\n",
    "u2=sol.give_unitary(final, final_dict)\n",
    "u2"
   ]
  },
  {
   "cell_type": "markdown",
   "metadata": {},
   "source": [
    "### Repeated rotations"
   ]
  },
  {
   "cell_type": "code",
   "execution_count": 462,
   "metadata": {},
   "outputs": [
    {
     "data": {
      "text/html": [
       "<pre style=\"overflow: auto; white-space: pre;\">                            ┌───────────┐                                   ┌───────────┐\n",
       "(0, 0): ───Rx(0.517π)───@────@──────────────Rz(-0.896π)───Rz(-0.86π)────@────@──────────────Rx(-0.541π)───Rx(-0.138π)───\n",
       "                        │    │                                          │    │\n",
       "(0, 1): ───Rx(0.903π)───X────┼Rz(0.048π)────Rz(0.065π)──────────────────X────┼Rx(0.324π)────Rx(0.948π)──────────────────\n",
       "                             │                                               │\n",
       "(0, 2): ───Rx(0.019π)────────X──────────────Rz(0.257π)────Rz(-0.284π)────────X──────────────Rx(-0.286π)───Rx(0.444π)────\n",
       "                            └───────────┘                                   └───────────┘</pre>"
      ],
      "text/plain": [
       "                            ┌───────────┐                                   ┌───────────┐\n",
       "(0, 0): ───Rx(0.517π)───@────@──────────────Rz(-0.896π)───Rz(-0.86π)────@────@──────────────Rx(-0.541π)───Rx(-0.138π)───\n",
       "                        │    │                                          │    │\n",
       "(0, 1): ───Rx(0.903π)───X────┼Rz(0.048π)────Rz(0.065π)──────────────────X────┼Rx(0.324π)────Rx(0.948π)──────────────────\n",
       "                             │                                               │\n",
       "(0, 2): ───Rx(0.019π)────────X──────────────Rz(0.257π)────Rz(-0.284π)────────X──────────────Rx(-0.286π)───Rx(0.444π)────\n",
       "                            └───────────┘                                   └───────────┘"
      ]
     },
     "execution_count": 462,
     "metadata": {},
     "output_type": "execute_result"
    }
   ],
   "source": [
    "sol = Solver(n_qubits=3)\n",
    "indexed_circuit = [9,10,11,0,1,6,6,7,7,8,8,0,1,9,9,10,10,11,11]\n",
    "circuit, symbols, index_to_symbols = sol.give_circuit(indexed_circuit)\n",
    "symbol_to_value, energy, h = sol.compute_energy_first_time(circuit, symbols,[10,0.1]) ##very nie 5000, 0.01\n",
    "u1 = sol.give_unitary(indexed_circuit, symbol_to_value)\n",
    "u1"
   ]
  },
  {
   "cell_type": "code",
   "execution_count": 465,
   "metadata": {},
   "outputs": [
    {
     "name": "stdout",
     "output_type": "stream",
     "text": [
      "difference expectation values:  1.1920929e-07\n"
     ]
    },
    {
     "data": {
      "text/html": [
       "<pre style=\"overflow: auto; white-space: pre;\">                            ┌───────────┐                     ┌──────────┐\n",
       "(0, 0): ───Rx(0.517π)───@────@──────────────Rz(-1.76π)────@────@─────────────Rx(-0.678π)───\n",
       "                        │    │                            │    │\n",
       "(0, 1): ───Rx(0.903π)───X────┼Rz(0.113π)──────────────────X────┼Rx(1.27π)──────────────────\n",
       "                             │                                 │\n",
       "(0, 2): ───Rx(0.019π)────────X──────────────Rz(-0.027π)────────X─────────────Rx(0.159π)────\n",
       "                            └───────────┘                     └──────────┘</pre>"
      ],
      "text/plain": [
       "                            ┌───────────┐                     ┌──────────┐\n",
       "(0, 0): ───Rx(0.517π)───@────@──────────────Rz(-1.76π)────@────@─────────────Rx(-0.678π)───\n",
       "                        │    │                            │    │\n",
       "(0, 1): ───Rx(0.903π)───X────┼Rz(0.113π)──────────────────X────┼Rx(1.27π)──────────────────\n",
       "                             │                                 │\n",
       "(0, 2): ───Rx(0.019π)────────X──────────────Rz(-0.027π)────────X─────────────Rx(0.159π)────\n",
       "                            └───────────┘                     └──────────┘"
      ]
     },
     "execution_count": 465,
     "metadata": {},
     "output_type": "execute_result"
    }
   ],
   "source": [
    "final, final_idx, final_dict = sol.reduce_circuit(indexed_circuit, index_to_symbols, symbol_to_value)\n",
    "u2=sol.give_unitary(final, final_dict)\n",
    "print(\"difference expectation values: \",diff_expectation(u1,u2))\n",
    "u2"
   ]
  },
  {
   "cell_type": "markdown",
   "metadata": {},
   "source": [
    "### Rotations and CNOTs"
   ]
  },
  {
   "cell_type": "code",
   "execution_count": 466,
   "metadata": {},
   "outputs": [
    {
     "data": {
      "text/html": [
       "<pre style=\"overflow: auto; white-space: pre;\">(0, 0): ───Rx(-0.048π)───Rz(0.507π)────@─────────────@───Rz(0.987π)───Rz(0.683π)───\n",
       "                                       │             │\n",
       "(0, 1): ───Rx(0.29π)─────Rz(-0.233π)───X─────────────┼───@─────────────────────────\n",
       "                                                     │   │\n",
       "(0, 2): ───Rx(0.295π)────Rz(0.141π)────Rx(-0.565π)───X───X────────────Rx(0.699π)───</pre>"
      ],
      "text/plain": [
       "(0, 0): ───Rx(-0.048π)───Rz(0.507π)────@─────────────@───Rz(0.987π)───Rz(0.683π)───\n",
       "                                       │             │\n",
       "(0, 1): ───Rx(0.29π)─────Rz(-0.233π)───X─────────────┼───@─────────────────────────\n",
       "                                                     │   │\n",
       "(0, 2): ───Rx(0.295π)────Rz(0.141π)────Rx(-0.565π)───X───X────────────Rx(0.699π)───"
      ]
     },
     "execution_count": 466,
     "metadata": {},
     "output_type": "execute_result"
    }
   ],
   "source": [
    "sol = Solver(n_qubits=3)\n",
    "indexed_circuit = [9,10,11,6,7,8,11,0,1,3,6,6,11]\n",
    "circuit, symbols, index_to_symbols = sol.give_circuit(indexed_circuit)\n",
    "symbol_to_value, energy, h = sol.compute_energy_first_time(circuit, symbols,[10,0.1]) ##very nie 5000, 0.01\n",
    "u1 = sol.give_unitary(indexed_circuit, symbol_to_value)\n",
    "u1"
   ]
  },
  {
   "cell_type": "code",
   "execution_count": 467,
   "metadata": {},
   "outputs": [
    {
     "name": "stdout",
     "output_type": "stream",
     "text": [
      "difference expectation values:  2.3841858e-07\n"
     ]
    },
    {
     "data": {
      "text/html": [
       "<pre style=\"overflow: auto; white-space: pre;\">(0, 0): ───Rx(-0.048π)───Rz(-1.82π)────@────────────@───────\n",
       "                                       │            │\n",
       "(0, 1): ───Rx(0.29π)─────Rz(-0.233π)───X────────────┼───@───\n",
       "                                                    │   │\n",
       "(0, 2): ───Rx(0.295π)────Rz(0.141π)────Rx(0.134π)───X───X───</pre>"
      ],
      "text/plain": [
       "(0, 0): ───Rx(-0.048π)───Rz(-1.82π)────@────────────@───────\n",
       "                                       │            │\n",
       "(0, 1): ───Rx(0.29π)─────Rz(-0.233π)───X────────────┼───@───\n",
       "                                                    │   │\n",
       "(0, 2): ───Rx(0.295π)────Rz(0.141π)────Rx(0.134π)───X───X───"
      ]
     },
     "execution_count": 467,
     "metadata": {},
     "output_type": "execute_result"
    }
   ],
   "source": [
    "final, final_idx, final_dict = sol.reduce_circuit(indexed_circuit, index_to_symbols, symbol_to_value)\n",
    "u2=sol.give_unitary(final, final_dict)\n",
    "print(\"difference expectation values: \",diff_expectation(u1,u2))\n",
    "u2"
   ]
  },
  {
   "cell_type": "markdown",
   "metadata": {},
   "source": [
    "### Rotations & CNOTS: part II"
   ]
  },
  {
   "cell_type": "code",
   "execution_count": 468,
   "metadata": {},
   "outputs": [
    {
     "data": {
      "text/html": [
       "<pre style=\"overflow: auto; white-space: pre;\">(0, 0): ───Rx(0.774π)───Rz(0.678π)────@───@───@───@───@───@───Rz(-1.01π)───Rz(0.129π)───Rz(0.632π)───Rz(0.152π)───\n",
       "                                      │   │   │   │   │   │\n",
       "(0, 1): ───Rx(0.944π)───Rz(-0.221π)───X───┼───X───┼───X───┼───────────────────────────────────────────────────────\n",
       "                                          │       │       │\n",
       "(0, 2): ───Rx(0.807π)───Rz(-0.022π)───────X───────X───────X───────────────────────────────────────────────────────</pre>"
      ],
      "text/plain": [
       "(0, 0): ───Rx(0.774π)───Rz(0.678π)────@───@───@───@───@───@───Rz(-1.01π)───Rz(0.129π)───Rz(0.632π)───Rz(0.152π)───\n",
       "                                      │   │   │   │   │   │\n",
       "(0, 1): ───Rx(0.944π)───Rz(-0.221π)───X───┼───X───┼───X───┼───────────────────────────────────────────────────────\n",
       "                                          │       │       │\n",
       "(0, 2): ───Rx(0.807π)───Rz(-0.022π)───────X───────X───────X───────────────────────────────────────────────────────"
      ]
     },
     "execution_count": 468,
     "metadata": {},
     "output_type": "execute_result"
    }
   ],
   "source": [
    "sol = Solver(n_qubits=3)\n",
    "indexed_circuit = [9,10,11,6,7,8,0,1,0,1,0,1,6,6,6,6]\n",
    "circuit, symbols, index_to_symbols = sol.give_circuit(indexed_circuit)\n",
    "symbol_to_value, energy, h = sol.compute_energy_first_time(circuit, symbols,[10,0.1]) ##very nie 5000, 0.01\n",
    "u1 = sol.give_unitary(indexed_circuit, symbol_to_value)\n",
    "u1"
   ]
  },
  {
   "cell_type": "code",
   "execution_count": 469,
   "metadata": {},
   "outputs": [
    {
     "name": "stdout",
     "output_type": "stream",
     "text": [
      "difference expectation values:  2.9802322e-08\n"
     ]
    },
    {
     "data": {
      "text/html": [
       "<pre style=\"overflow: auto; white-space: pre;\">(0, 0): ───Rx(0.774π)───Rz(0.576π)────@───@───@───@───@───@───\n",
       "                                      │   │   │   │   │   │\n",
       "(0, 1): ───Rx(0.944π)───Rz(-0.221π)───X───┼───X───┼───X───┼───\n",
       "                                          │       │       │\n",
       "(0, 2): ───Rx(0.807π)───Rz(-0.022π)───────X───────X───────X───</pre>"
      ],
      "text/plain": [
       "(0, 0): ───Rx(0.774π)───Rz(0.576π)────@───@───@───@───@───@───\n",
       "                                      │   │   │   │   │   │\n",
       "(0, 1): ───Rx(0.944π)───Rz(-0.221π)───X───┼───X───┼───X───┼───\n",
       "                                          │       │       │\n",
       "(0, 2): ───Rx(0.807π)───Rz(-0.022π)───────X───────X───────X───"
      ]
     },
     "execution_count": 469,
     "metadata": {},
     "output_type": "execute_result"
    }
   ],
   "source": [
    "final, final_idx, final_dict = sol.reduce_circuit(indexed_circuit, index_to_symbols, symbol_to_value)\n",
    "u2=sol.give_unitary(final, final_dict)\n",
    "print(\"difference expectation values: \",diff_expectation(u1,u2))\n",
    "u2"
   ]
  },
  {
   "cell_type": "markdown",
   "metadata": {},
   "source": [
    "### CNOTS at beggining"
   ]
  },
  {
   "cell_type": "code",
   "execution_count": 470,
   "metadata": {},
   "outputs": [
    {
     "data": {
      "text/html": [
       "<pre style=\"overflow: auto; white-space: pre;\">(0, 0): ───@───@───X───────X───Rz(-0.058π)───\n",
       "           │   │   │       │\n",
       "(0, 1): ───X───┼───@───@───┼───X─────────────\n",
       "               │       │   │   │\n",
       "(0, 2): ───────X───────X───@───@─────────────</pre>"
      ],
      "text/plain": [
       "(0, 0): ───@───@───X───────X───Rz(-0.058π)───\n",
       "           │   │   │       │\n",
       "(0, 1): ───X───┼───@───@───┼───X─────────────\n",
       "               │       │   │   │\n",
       "(0, 2): ───────X───────X───@───@─────────────"
      ]
     },
     "execution_count": 470,
     "metadata": {},
     "output_type": "execute_result"
    }
   ],
   "source": [
    "sol = Solver(n_qubits=3)\n",
    "indexed_circuit = [k for k in range(sol.number_of_cnots)]\n",
    "indexed_circuit.append(k+1)\n",
    "circuit, symbols, index_to_symbols = sol.give_circuit(indexed_circuit)\n",
    "symbol_to_value, energy, h = sol.compute_energy_first_time(circuit, symbols,[10,0.1]) ##very nie 5000, 0.01\n",
    "u1 = sol.give_unitary(indexed_circuit, symbol_to_value)\n",
    "u1"
   ]
  },
  {
   "cell_type": "markdown",
   "metadata": {},
   "source": [
    "###### <U> note:</u> the following does not go to void since I ask reduce_circuit to stop"
   ]
  },
  {
   "cell_type": "code",
   "execution_count": 471,
   "metadata": {},
   "outputs": [
    {
     "name": "stdout",
     "output_type": "stream",
     "text": [
      "difference expectation values:  0.0\n"
     ]
    },
    {
     "data": {
      "text/html": [
       "<pre style=\"overflow: auto; white-space: pre;\">(0, 0): ───I───\n",
       "\n",
       "(0, 1): ───X───\n",
       "           │\n",
       "(0, 2): ───@───</pre>"
      ],
      "text/plain": [
       "(0, 0): ───I───\n",
       "\n",
       "(0, 1): ───X───\n",
       "           │\n",
       "(0, 2): ───@───"
      ]
     },
     "execution_count": 471,
     "metadata": {},
     "output_type": "execute_result"
    }
   ],
   "source": [
    "final, final_idx, final_dict = sol.reduce_circuit(indexed_circuit, index_to_symbols, symbol_to_value)\n",
    "u2=sol.give_unitary(final, final_dict)\n",
    "print(\"difference expectation values: \",diff_expectation(u1,u2))\n",
    "u2"
   ]
  },
  {
   "cell_type": "markdown",
   "metadata": {},
   "source": [
    "### Rz at beggining"
   ]
  },
  {
   "cell_type": "code",
   "execution_count": 476,
   "metadata": {},
   "outputs": [
    {
     "data": {
      "text/html": [
       "<pre style=\"overflow: auto; white-space: pre;\">(0, 0): ───Rz(0.347π)───Rx(0.107π)────\n",
       "\n",
       "(0, 1): ───Rz(-0.1π)────Rx(-0.059π)───\n",
       "\n",
       "(0, 2): ───Rz(0.672π)───Rx(1.43π)─────</pre>"
      ],
      "text/plain": [
       "(0, 0): ───Rz(0.347π)───Rx(0.107π)────\n",
       "\n",
       "(0, 1): ───Rz(-0.1π)────Rx(-0.059π)───\n",
       "\n",
       "(0, 2): ───Rz(0.672π)───Rx(1.43π)─────"
      ]
     },
     "execution_count": 476,
     "metadata": {},
     "output_type": "execute_result"
    }
   ],
   "source": [
    "sol = Solver(n_qubits=3)\n",
    "indexed_circuit = [sol.number_of_cnots+k for k in range(sol.n_qubits)]\n",
    "indexed_circuit.append(9)\n",
    "indexed_circuit.append(10)\n",
    "indexed_circuit.append(11)\n",
    "circuit, symbols, index_to_symbols = sol.give_circuit(indexed_circuit)\n",
    "symbol_to_value, energy, h = sol.compute_energy_first_time(circuit, symbols,[10,0.1]) ##very nie 5000, 0.01\n",
    "u1 = sol.give_unitary(indexed_circuit, symbol_to_value)\n",
    "u1"
   ]
  },
  {
   "cell_type": "code",
   "execution_count": 477,
   "metadata": {},
   "outputs": [
    {
     "name": "stdout",
     "output_type": "stream",
     "text": [
      "difference expectation values:  1.7881393e-07\n"
     ]
    },
    {
     "data": {
      "text/html": [
       "<pre style=\"overflow: auto; white-space: pre;\">(0, 0): ───Rx(0.107π)────\n",
       "\n",
       "(0, 1): ───Rx(-0.059π)───\n",
       "\n",
       "(0, 2): ───Rx(1.43π)─────</pre>"
      ],
      "text/plain": [
       "(0, 0): ───Rx(0.107π)────\n",
       "\n",
       "(0, 1): ───Rx(-0.059π)───\n",
       "\n",
       "(0, 2): ───Rx(1.43π)─────"
      ]
     },
     "execution_count": 477,
     "metadata": {},
     "output_type": "execute_result"
    }
   ],
   "source": [
    "final, final_idx, final_dict = sol.reduce_circuit(indexed_circuit, index_to_symbols, symbol_to_value)\n",
    "u2=sol.give_unitary(final, final_dict)\n",
    "print(\"difference expectation values: \",diff_expectation(u1,u2))\n",
    "u2"
   ]
  },
  {
   "cell_type": "markdown",
   "metadata": {},
   "source": [
    "### Circuits than can be simplified by many iterations"
   ]
  },
  {
   "cell_type": "code",
   "execution_count": 479,
   "metadata": {},
   "outputs": [
    {
     "data": {
      "text/html": [
       "<pre style=\"overflow: auto; white-space: pre;\">(0, 0): ───Rx(0.176π)───@─────────────@───────────Rz(-0.988π)───X───X───Rz(0.906π)────Rx(-0.203π)───\n",
       "                        │             │                         │   │\n",
       "(0, 1): ───Rx(0.179π)───X─────────────X───────────Rz(-0.377π)───@───@───Rz(-0.633π)───Rx(0.148π)────\n",
       "\n",
       "(0, 2): ───Rx(0.258π)───Rz(-0.606π)───Rz(1.42π)───Rx(0.443π)────────────────────────────────────────</pre>"
      ],
      "text/plain": [
       "(0, 0): ───Rx(0.176π)───@─────────────@───────────Rz(-0.988π)───X───X───Rz(0.906π)────Rx(-0.203π)───\n",
       "                        │             │                         │   │\n",
       "(0, 1): ───Rx(0.179π)───X─────────────X───────────Rz(-0.377π)───@───@───Rz(-0.633π)───Rx(0.148π)────\n",
       "\n",
       "(0, 2): ───Rx(0.258π)───Rz(-0.606π)───Rz(1.42π)───Rx(0.443π)────────────────────────────────────────"
      ]
     },
     "execution_count": 479,
     "metadata": {},
     "output_type": "execute_result"
    }
   ],
   "source": [
    "sol = Solver(n_qubits=3)\n",
    "indexed_circuit = [9,10,11,0,0,6,7,8,2,2,6,7,8]\n",
    "indexed_circuit.append(9)\n",
    "indexed_circuit.append(10)\n",
    "indexed_circuit.append(11)\n",
    "circuit, symbols, index_to_symbols = sol.give_circuit(indexed_circuit)\n",
    "symbol_to_value, energy, h = sol.compute_energy_first_time(circuit, symbols,[10,0.1]) ##very nie 5000, 0.01\n",
    "u1 = sol.give_unitary(indexed_circuit, symbol_to_value)\n",
    "u1"
   ]
  },
  {
   "cell_type": "code",
   "execution_count": 481,
   "metadata": {},
   "outputs": [
    {
     "name": "stdout",
     "output_type": "stream",
     "text": [
      "difference expectation values:  -3.5762787e-07\n"
     ]
    },
    {
     "data": {
      "text/html": [
       "<pre style=\"overflow: auto; white-space: pre;\">(0, 0): ───Rx(0.176π)───Rz(-0.083π)───Rx(-0.203π)───\n",
       "\n",
       "(0, 1): ───Rx(0.179π)───Rz(-1.01π)────Rx(0.148π)────\n",
       "\n",
       "(0, 2): ───Rx(0.258π)───Rz(0.817π)────Rx(0.443π)────</pre>"
      ],
      "text/plain": [
       "(0, 0): ───Rx(0.176π)───Rz(-0.083π)───Rx(-0.203π)───\n",
       "\n",
       "(0, 1): ───Rx(0.179π)───Rz(-1.01π)────Rx(0.148π)────\n",
       "\n",
       "(0, 2): ───Rx(0.258π)───Rz(0.817π)────Rx(0.443π)────"
      ]
     },
     "execution_count": 481,
     "metadata": {},
     "output_type": "execute_result"
    }
   ],
   "source": [
    "final, final_idx, final_dict = sol.reduce_circuit(indexed_circuit, index_to_symbols, symbol_to_value)\n",
    "u2=sol.give_unitary(final, final_dict)\n",
    "print(\"difference expectation values: \",diff_expectation(u1,u2))\n",
    "u2"
   ]
  },
  {
   "cell_type": "code",
   "execution_count": null,
   "metadata": {},
   "outputs": [],
   "source": []
  }
 ],
 "metadata": {
  "kernelspec": {
   "display_name": "Python 3",
   "language": "python",
   "name": "python3"
  },
  "language_info": {
   "codemirror_mode": {
    "name": "ipython",
    "version": 3
   },
   "file_extension": ".py",
   "mimetype": "text/x-python",
   "name": "python",
   "nbconvert_exporter": "python",
   "pygments_lexer": "ipython3",
   "version": "3.6.9"
  }
 },
 "nbformat": 4,
 "nbformat_minor": 4
}
