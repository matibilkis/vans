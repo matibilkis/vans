{
 "cells": [
  {
   "cell_type": "code",
   "execution_count": 1,
   "metadata": {},
   "outputs": [],
   "source": [
    "import numpy as np\n",
    "import sympy\n",
    "import cirq\n",
    "import tensorflow as tf\n",
    "import tensorflow_quantum as tfq\n",
    "\n",
    "n_qubits = 3\n",
    "qubits = cirq.GridQubit.rect(1, n_qubits)\n",
    "observable = [1.*cirq.X.on(q) for q in qubits] # -J \\sum_{i} Z_i Z_{i+1} - g \\sum_i X_i    when g>>J\n",
    "for q in range(len(qubits)):\n",
    "    observable.append(0.1*cirq.Z.on(qubits[q])*cirq.Z.on(qubits[(q+1)%len(qubits)]))"
   ]
  },
  {
   "cell_type": "code",
   "execution_count": 2,
   "metadata": {},
   "outputs": [
    {
     "data": {
      "text/plain": [
       "[X((0, 0)),\n",
       " X((0, 1)),\n",
       " X((0, 2)),\n",
       " (0.1+0j)*Z((0, 0))*Z((0, 1)),\n",
       " (0.1+0j)*Z((0, 1))*Z((0, 2)),\n",
       " (0.1+0j)*Z((0, 0))*Z((0, 2))]"
      ]
     },
     "execution_count": 2,
     "metadata": {},
     "output_type": "execute_result"
    }
   ],
   "source": [
    "observable"
   ]
  },
  {
   "cell_type": "code",
   "execution_count": 3,
   "metadata": {},
   "outputs": [],
   "source": [
    "circuit = cirq.Circuit()\n",
    "symbols=[]\n",
    "for k in range(3):\n",
    "    sym = sympy.Symbol(\"a\"+str(k))\n",
    "    symbols.append(sym)\n",
    "    circuit.append(cirq.ry(sym).on(qubits[k]))"
   ]
  },
  {
   "cell_type": "code",
   "execution_count": 4,
   "metadata": {},
   "outputs": [],
   "source": [
    "circuit_input = tf.keras.Input(shape=(), dtype=tf.string)\n",
    "output = tfq.layers.Expectation()(\n",
    "        circuit_input,\n",
    "        symbol_names=symbols,\n",
    "        operators=tfq.convert_to_tensor([observable]),\n",
    "        initializer=tf.keras.initializers.RandomNormal()) #notice this is not strictly necessary.\n",
    "\n",
    "output = tf.math.reduce_sum(output, axis=-1, keepdims=True)\n",
    "model = tf.keras.Model(inputs=circuit_input, outputs=output)\n",
    "adam = tf.keras.optimizers.Adam(learning_rate=0.1)\n",
    "model.compile(optimizer=adam, loss='mse')"
   ]
  },
  {
   "cell_type": "code",
   "execution_count": null,
   "metadata": {},
   "outputs": [],
   "source": []
  },
  {
   "cell_type": "code",
   "execution_count": null,
   "metadata": {},
   "outputs": [],
   "source": []
  },
  {
   "cell_type": "code",
   "execution_count": null,
   "metadata": {},
   "outputs": [],
   "source": []
  },
  {
   "cell_type": "code",
   "execution_count": null,
   "metadata": {},
   "outputs": [],
   "source": [
    "indexed_cnots = {}\n",
    "count = 0\n",
    "for control in range(n_qubits):\n",
    "    for target in range(n_qubits):\n",
    "        if control != target:\n",
    "            indexed_cnots[str(count)] = [control, target]\n",
    "            count += 1\n",
    "number_of_cnots = len(indexed_cnots)\n",
    "#int(np.math.factorial(n_qubits)/np.math.factorial(n_qubits -2))\n",
    "\n",
    "# Create one_hot alphabet\n",
    "alphabet_gates = [cirq.CNOT, cirq.ry, cirq.rx(-np.pi/2), cirq.I]\n",
    "alphabet = []\n",
    "\n",
    "alphabet_length = number_of_cnots + (len(alphabet_gates)-1)*n_qubits\n",
    "for ind, k in enumerate(range(number_of_cnots + (len(alphabet_gates)-1)*n_qubits)): #5 accounts for 2 CNOTS and 3 other ops\n",
    "    one_hot_gate = [-1]*alphabet_length\n",
    "    one_hot_gate[ind] = 1\n",
    "    alphabet.append(one_hot_gate)\n"
   ]
  },
  {
   "cell_type": "code",
   "execution_count": null,
   "metadata": {},
   "outputs": [],
   "source": [
    "len(alphabet)"
   ]
  },
  {
   "cell_type": "code",
   "execution_count": null,
   "metadata": {},
   "outputs": [],
   "source": [
    "alphabet_gates"
   ]
  },
  {
   "cell_type": "markdown",
   "metadata": {},
   "source": []
  },
  {
   "cell_type": "code",
   "execution_count": null,
   "metadata": {},
   "outputs": [],
   "source": []
  },
  {
   "cell_type": "code",
   "execution_count": null,
   "metadata": {},
   "outputs": [],
   "source": []
  },
  {
   "cell_type": "code",
   "execution_count": null,
   "metadata": {},
   "outputs": [],
   "source": []
  },
  {
   "cell_type": "code",
   "execution_count": null,
   "metadata": {},
   "outputs": [],
   "source": []
  },
  {
   "cell_type": "code",
   "execution_count": null,
   "metadata": {},
   "outputs": [],
   "source": [
    "class VAnsatzSmart(CirqSmartSolver):\n",
    "    def __init__(self, n_qubits, observable_name, target_reward, trajectory):\n",
    "        \"\"\"\n",
    "        takes as input a list with actions, each action being an integer between 0 and len(self.alphabet).\n",
    "        \"\"\"\n",
    "        super(VAnsatzSmart, self).__init__(n_qubits, observable_name)\n",
    "\n",
    "        ws = [self.alphabet[int(g)] for g in trajectory]\n",
    "\n",
    "        ws = self.check_and_recheck(ws)\n",
    "        ws = self.detect_u3_and_reduce(ws)\n",
    "\n",
    "        #### this is as a checker, to be removed later on! ###\n",
    "        # val = np.sum(np.diag(np.array(self.alphabet)))\n",
    "        # if val != len(self.alphabet) :\n",
    "        #     print(val)\n",
    "        #     print(len(self.alphabet))\n",
    "        #     print(\"WARNING!!!!\")\n",
    "\n",
    "        circuit = []\n",
    "        params = []\n",
    "        for g in ws:\n",
    "            circuit, params = self.append_to_circuit(g,circuit, params)\n",
    "\n",
    "        self.circuit = cirq.Circuit(circuit)\n",
    "\n",
    "        #### check if there are qubits not called in the circuit  and add identity.\n",
    "        #### (otherwise a problem with observable appears)\n",
    "\n",
    "        effective_qubits = list(self.circuit.all_qubits())\n",
    "        for k in self.qubits:\n",
    "            if k not in effective_qubits:\n",
    "                self.circuit.append(cirq.I.on(k))\n",
    "        self.symbols = params\n",
    "\n",
    "    def get_state(self, qubits, params=None):\n",
    "        if params is None:\n",
    "            return self.circuit\n",
    "        resolver = {k: v for k, v in zip(self.symbols, params)}\n",
    "        return cirq.resolve_parameters(self.circuit, resolver)"
   ]
  },
  {
   "cell_type": "code",
   "execution_count": null,
   "metadata": {},
   "outputs": [],
   "source": []
  }
 ],
 "metadata": {
  "kernelspec": {
   "display_name": "Python 3",
   "language": "python",
   "name": "python3"
  },
  "language_info": {
   "codemirror_mode": {
    "name": "ipython",
    "version": 3
   },
   "file_extension": ".py",
   "mimetype": "text/x-python",
   "name": "python",
   "nbconvert_exporter": "python",
   "pygments_lexer": "ipython3",
   "version": "3.6.9"
  }
 },
 "nbformat": 4,
 "nbformat_minor": 4
}
