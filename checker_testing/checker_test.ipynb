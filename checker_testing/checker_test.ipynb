{
 "cells": [
  {
   "cell_type": "code",
   "execution_count": 260,
   "metadata": {},
   "outputs": [],
   "source": [
    "import numpy as np\n",
    "import sympy\n",
    "import cirq\n",
    "import tensorflow as tf\n",
    "import tensorflow_quantum as tfq\n",
    "\n",
    "class CirqSmartSolver:\n",
    "    def __init__(self, n_qubits=3, observable_name=None, ground_state_energy=None, qlr=0.01, qepochs=100,display_progress=0):\n",
    "\n",
    "        \"\"\"\n",
    "        observable_name:: specifies the hamiltonian; can be either string (if in templates, see load_observable function, a list\n",
    "        or numpy array.\n",
    "\n",
    "        target_reward:: minus the ground energy (or estimation), used as label for variational optimization.\n",
    "        display_progress:: 0 or 1 (no, yes)\n",
    "        \"\"\"\n",
    "\n",
    "        self.name = \"CirqSolver\"\n",
    "        self.n_qubits = n_qubits\n",
    "        self.qubits = cirq.GridQubit.rect(1, n_qubits)\n",
    "        self.observable_name = observable_name\n",
    "\n",
    "        # Value to use as label for continuous optimization; this appears in variational model\n",
    "        if ground_state_energy is None:\n",
    "            self.ground_state_energy = self.n_qubits  # mostly for the ising high transv fields.\n",
    "        else:\n",
    "            self.ground_state_energy = ground_state_energy\n",
    "\n",
    "        self.observable = self.load_observable(observable_name) #Ising hamiltonian with list of pauli_gates\n",
    "        self.qlr = qlr\n",
    "        self.qepochs=qepochs\n",
    "        self.display_progress=display_progress\n",
    "        # Indexed cnots total number n!/(n-2)! = n*(n-1) (if all connections are allowed)\n",
    "        self.indexed_cnots = {}\n",
    "        count = 0\n",
    "        for control in range(self.n_qubits):\n",
    "            for target in range(self.n_qubits):\n",
    "                if control != target:\n",
    "                    self.indexed_cnots[str(count)] = [control, target]\n",
    "                    count += 1\n",
    "        self.number_of_cnots = len(self.indexed_cnots)\n",
    "        #int(np.math.factorial(self.n_qubits)/np.math.factorial(self.n_qubits -2))\n",
    "\n",
    "        # Create one_hot a+lphabet\n",
    "        self.alphabet_gates = [cirq.CNOT, cirq.ry, cirq.rx(-np.pi/2), cirq.I]\n",
    "        self.alphabet = []\n",
    "\n",
    "        alphabet_length = self.number_of_cnots + (len(self.alphabet_gates)-1)*self.n_qubits\n",
    "        for ind, k in enumerate(range(self.number_of_cnots + (len(self.alphabet_gates)-1)*self.n_qubits)): #one hot encoding\n",
    "            one_hot_gate = [-1.]*alphabet_length\n",
    "            one_hot_gate[ind] = 1.\n",
    "            self.alphabet.append(one_hot_gate)\n",
    "\n",
    "    def load_observable(self, obs,g=1, J=0):\n",
    "        \"\"\"\n",
    "        obs can either be a string, a list with cirq's gates or a matrix (array)\n",
    "        \"\"\"\n",
    "        if obs == \"Ising_\":\n",
    "            observable = [g*cirq.X.on(q) for q in self.qubits] # -J \\sum_{i} Z_i Z_{i+1} - g \\sum_i X_i    when g>>J\n",
    "            for q in range(len(self.qubits)):\n",
    "                observable.append(J*cirq.Z.on(self.qubits[q])*cirq.Z.on(self.qubits[(q+1)%len(self.qubits)]))\n",
    "        else:\n",
    "            print(\"check previous versions to load other observables.\")\n",
    "        return observable\n",
    "\n",
    "    def append_to_circuit(self, one_hot_gate, circuit, params):\n",
    "        \"\"\"\n",
    "        appends to circuit the one_hot_gate;\n",
    "        and if one_hot_gate it implies a rotation,\n",
    "        appends to params a symbol\"\"\"\n",
    "\n",
    "        for ind,inst in enumerate(one_hot_gate):\n",
    "            if inst == 1:  # this is faster than numpy.where\n",
    "                if ind < self.number_of_cnots:\n",
    "                    control, target = self.indexed_cnots[str(ind)]\n",
    "                    circuit.append(self.alphabet_gates[0].on(self.qubits[control], self.qubits[target]))\n",
    "                    return circuit, params\n",
    "                elif self.number_of_cnots <= ind < self.number_of_cnots + self.n_qubits:\n",
    "                    new_param = \"th_\"+str(len(params))\n",
    "                    params.append(new_param)\n",
    "                    circuit.append(self.alphabet_gates[1](sympy.Symbol(new_param)).on(self.qubits[int(ind%self.n_qubits)]))\n",
    "                    return circuit, params\n",
    "                elif self.number_of_cnots + self.n_qubits <= ind < self.number_of_cnots + 2*self.n_qubits:\n",
    "                    circuit.append(self.alphabet_gates[2].on(self.qubits[int(ind%self.n_qubits)]))\n",
    "                    return circuit, params\n",
    "                elif self.number_of_cnots + 2*self.n_qubits <= ind < self.number_of_cnots+3*self.number_of_cnots:\n",
    "                    circuit.append(self.alphabet_gates[3].on(self.qubits[int(ind%self.n_qubits)]))\n",
    "                    return circuit, params\n",
    "                else:\n",
    "                    print(\"doing nothing! even not identity! careful\")\n",
    "                    return circuit, params\n",
    "\n",
    "\n",
    "    def TFQ_model(self, symbols):\n",
    "        circuit_input = tf.keras.Input(shape=(), dtype=tf.string)\n",
    "        output = tfq.layers.Expectation()(\n",
    "                circuit_input,\n",
    "                symbol_names=symbols,\n",
    "                operators=tfq.convert_to_tensor([self.observable]),\n",
    "                initializer=tf.keras.initializers.RandomNormal()) #this is not strictly necessary.\n",
    "        model = tf.keras.Model(inputs=circuit_input, outputs=output)\n",
    "        adam = tf.keras.optimizers.Adam(learning_rate=self.qlr)\n",
    "        model.compile(optimizer=adam, loss='mse')\n",
    "        return model\n",
    "\n",
    "    def give_circuit(self, lista,one_hot=False):\n",
    "        if not one_hot:\n",
    "            circuit, symbols = [], []\n",
    "            for k in lista:\n",
    "                circuit, symbols = self.append_to_circuit(self.alphabet[k],circuit,symbols)\n",
    "        else:\n",
    "            circuit, symbols = [], []\n",
    "            for k in lista:\n",
    "                circuit, symbols = self.append_to_circuit(k,circuit,symbols)\n",
    "        circuit = cirq.Circuit(circuit)\n",
    "        return circuit, symbols\n",
    "\n",
    "    def run_circuit(self, gates_index, sim_q_state=False):\n",
    "        \"\"\"\n",
    "        takes as input vector with actions described as integer (given by RL agent),\n",
    "        and outputsthe energy of that circuit (w.r.t self.observable)\n",
    "            \"\"\"\n",
    "        circuit, symbols = [], []\n",
    "        for k in gates_index:\n",
    "            circuit, symbols = self.append_to_circuit(self.alphabet[k],circuit,symbols)\n",
    "        circuit = cirq.Circuit(circuit)\n",
    "        tfqcircuit = tfq.convert_to_tensor([circuit])\n",
    "        if len(symbols) == 0:\n",
    "            expval = tfq.layers.Expectation()(\n",
    "                                            tfqcircuit,\n",
    "                                            operators=tfq.convert_to_tensor([self.observable]))\n",
    "            energy = np.float32(np.squeeze(tf.math.reduce_sum(expval, axis=-1, keepdims=True)))\n",
    "        else:\n",
    "            model = self.TFQ_model(symbols)\n",
    "            qoutput = tf.ones((1, 1))*self.ground_state_energy\n",
    "            model.fit(x=tfqcircuit, y=qoutput, batch_size=1, epochs=self.qepochs, verbose=self.display_progress)\n",
    "            energy = np.squeeze(tf.math.reduce_sum(model.predict(tfqcircuit), axis=-1))\n",
    "        #if sim_q_state:\n",
    "            #simulator = cirq.Simulator()\n",
    "            #result = simulator.simulate(circuit, qubit_order=self.qubits)\n",
    "            #probs = np.abs(result.final_state)**2\n",
    "            #return energy, probs\n",
    "        return energy"
   ]
  },
  {
   "cell_type": "code",
   "execution_count": 62,
   "metadata": {},
   "outputs": [],
   "source": [
    "solver = CirqSmartSolver(n_qubits=3, observable_name=\"Ising_\", qlr=0.1,qepochs=250, ground_state_energy=4, display_progress=0)\n",
    "gates_index = solver.number_of_cnots + np.arange(solver.n_qubits)\n",
    "#solver.run_circuit(gates_index)"
   ]
  },
  {
   "cell_type": "code",
   "execution_count": null,
   "metadata": {},
   "outputs": [],
   "source": []
  },
  {
   "cell_type": "code",
   "execution_count": null,
   "metadata": {},
   "outputs": [],
   "source": []
  },
  {
   "cell_type": "code",
   "execution_count": 215,
   "metadata": {},
   "outputs": [],
   "source": [
    "def rolling(a, window):\n",
    "    shape = (a.size - window + 1, window)\n",
    "    strides = (a.itemsize, a.itemsize)\n",
    "    return np.lib.stride_tricks.as_strided(a, shape=shape, strides=strides)\n",
    "\n",
    "\n",
    "class Checker():\n",
    "    def __init__(self, trajectory, solver):\n",
    "\n",
    "        \"\"\"\n",
    "        takes a trajectory drawn from solver alphabet (solver is an object), trajectory is list of integer indeces\n",
    "        from 0 to len(solver.alphabet)-1\n",
    "        \"\"\"\n",
    "\n",
    "        OneHotGates=[]\n",
    "        for g in trajectory:\n",
    "            if g == -1.:\n",
    "                break\n",
    "            else:\n",
    "                OneHotGates.append(solver.alphabet[int(g)])\n",
    "                #later on i'll loop on this!\n",
    "        self.solver = solver\n",
    "        self.OneHotGates=OneHotGates\n",
    "        \n",
    "        \n",
    "        \n",
    "    def check_two(self,ww1,ww2, c=0):\n",
    "        \"\"\"\n",
    "        input::   w_1, w_2 one_hot_gates\n",
    "                  c is an internal count used to interrupt the check_and_recheck if no more changes are done (used in an outer loop)\n",
    "\n",
    "        output::  w_1, w_2 one_hot_gate in a \"corrected form\"\n",
    "        \"\"\"\n",
    "        ind1 = np.where(np.array(ww1) == 1.)[0][0]\n",
    "        ind2 = np.where(np.array(ww2) == 1.)[0][0]\n",
    "\n",
    "        w1 = ww1.copy()\n",
    "        w2 = ww2.copy()\n",
    "\n",
    "        ## (i) both CNOTS, a) same CNOT, b) same targets, keep control on less index qubit first.\n",
    "        if (ind1 < self.solver.number_of_cnots) and (ind2 < self.solver.number_of_cnots):\n",
    "            if ind1 == ind2:\n",
    "                w1[ind1] = -1.\n",
    "                w2[ind2] = -1.\n",
    "                control, target = self.solver.indexed_cnots[str(ind1)]\n",
    "                w1[self.solver.number_of_cnots+2*self.solver.n_qubits + control] = 1. #change for identity in control\n",
    "                w2[self.solver.number_of_cnots+2*self.solver.n_qubits + target] = 1. #change for identity in target\n",
    "                return w1, w2, c+1\n",
    "            else:\n",
    "                control1, target1 = self.solver.indexed_cnots[str(ind1)]\n",
    "                control2, target2 = self.solver.indexed_cnots[str(ind2)]\n",
    "                if target1 == target2:\n",
    "                    if control1 > control2:\n",
    "                        return w2, w1, c+1\n",
    "                    else:\n",
    "                        return w1, w2, c\n",
    "                    \n",
    "                else:\n",
    "                    return w1, w2, c\n",
    "                    \n",
    "         ## (ii) #both rz, replace second rotation by I\n",
    "        if (self.solver.number_of_cnots <= ind1 < self.solver.number_of_cnots + self.solver.n_qubits) and (self.solver.number_of_cnots  <= ind2 < self.solver.number_of_cnots + self.solver.n_qubits):\n",
    "            if ind1 == ind2:\n",
    "                w2[ind1] = -1\n",
    "                w2[self.solver.number_of_cnots + 2*self.solver.n_qubits + (ind2-self.solver.number_of_cnots)%self.solver.n_qubits] = 1\n",
    "                return w1, w2, c+1\n",
    "            elif ind1 > ind2: #put all gates on onequbit first\n",
    "                return w2, w1, c+1\n",
    "\n",
    "            else:\n",
    "                return w1, w2, c\n",
    "        ## (iii) P after CNOT (convention: put P before)\n",
    "        if (ind1 < self.solver.number_of_cnots) and (self.solver.number_of_cnots + self.solver.n_qubits <= ind2 < self.solver.number_of_cnots + 2*self.solver.n_qubits):\n",
    "            control, target = self.solver.indexed_cnots[str(ind1)]\n",
    "            if target == (ind2- self.solver.number_of_cnots)%self.solver.n_qubits:\n",
    "                return w2, w1, c+1\n",
    "            else:\n",
    "                return w1, w2, c\n",
    "        ## (iv) rz after CNOT (convention: put rz before)\n",
    "        if (ind1 < self.solver.number_of_cnots) and (self.solver.number_of_cnots <= ind2 < self.solver.number_of_cnots + self.solver.n_qubits):\n",
    "            control, target = self.solver.indexed_cnots[str(ind1)]\n",
    "            if control == (ind2-self.solver.number_of_cnots)%self.solver.n_qubits:\n",
    "                return w2, w1, c+1\n",
    "            else:\n",
    "                return w1, w2, c\n",
    "            \n",
    "        ##(v) move CNOTS as much to the right as possible (not considering identity)\n",
    "        if (ind1 < self.solver.number_of_cnots) and (self.solver.number_of_cnots <= ind2 < self.solver.number_of_cnots + 2*self.solver.n_qubits): #\n",
    "            if (ind2-self.solver.number_of_cnots)%self.solver.n_qubits not in self.solver.indexed_cnots[str(ind1)]: #check if ind2 has something to do with control and targets of ind1..\n",
    "                return w2, w1, c+1\n",
    "            else:\n",
    "                return w1, w2, c\n",
    "\n",
    "        ## (vi) to impose an order on single qubit gates\n",
    "        if (self.solver.number_of_cnots <= ind1 < len(self.solver.alphabet)) and (self.solver.number_of_cnots <= ind2 < len(self.solver.alphabet)): #\n",
    "            if (ind1-self.solver.number_of_cnots)%self.solver.n_qubits > (ind2-self.solver.number_of_cnots)%self.solver.n_qubits:\n",
    "                return w2, w1, c+1\n",
    "            else:\n",
    "                return w1, w2, c\n",
    "\n",
    "        else:\n",
    "            return w1, w2, c\n",
    "        \n",
    "    def detect_u3_and_reduce(self,OneHotGates):\n",
    "        \"\"\"\n",
    "            this function scans the circuit (represented as collection of one_hot_gates)\n",
    "            and check if a pulse rz P rz P rz is found acting on a given qubit. If so\n",
    "            kills previous consecutive 1-qubit gates.\n",
    "        \"\"\"\n",
    "\n",
    "        cropped_circuit = np.array(OneHotGates)\n",
    "        iss, jss = np.where(np.array(OneHotGates) == 1)  # all indices with information of gate\n",
    "        c=0\n",
    "        internal_count_wire=0\n",
    "        u3_seq = np.array([0, 1, 0, 1, 0])\n",
    "\n",
    "        for i,j in zip(iss, jss):\n",
    "            if j>=self.solver.number_of_cnots: #I don't want CNOTs\n",
    "                while internal_count_wire == 0:\n",
    "                    internal_count_wire +=1\n",
    "                    qindfav = (j-self.solver.number_of_cnots)%self.solver.n_qubits  # after the CNOTS, we have cycles of self.n_qubits one-qubit gates. qindfav then tells which is the qubit we are watching.\n",
    "                    string_to_eval=[]\n",
    "                    indexes_saving = []\n",
    "\n",
    "                if (j-self.solver.number_of_cnots) % self.solver.n_qubits == qindfav:\n",
    "                    string_to_eval.append(int(np.trunc((j-self.solver.number_of_cnots)/self.solver.n_qubits)))\n",
    "                    indexes_saving.append(i)\n",
    "                    internal_count_wire+=1\n",
    "\n",
    "                    if i == iss[-1]:  # it can happen that it's at one extreme\n",
    "                        if internal_count_wire > 5:\n",
    "                            if u3_seq in rolling(np.array(string_to_eval), 5):  # this is u3\n",
    "                                ind=0\n",
    "                                for gind in indexes_saving:\n",
    "                                    cropped_circuit[gind] = -1  # erase everyone\n",
    "                                    if ind < 5:\n",
    "                                        cropped_circuit[gind][self.solver.number_of_cnots +(u3_seq[ind]*self.solver.n_qubits) + qindfav] = 1  # add each element of u3_seq in the corresponding position\n",
    "                                        ind += 1\n",
    "                                    else:\n",
    "                                        cropped_circuit[gind][self.solver.number_of_cnots + 2*self.solver.n_qubits + qindfav] = 1  # add identity\n",
    "\n",
    "                        internal_count_wire=0\n",
    "                        string_to_eval=[]\n",
    "                        indexes_saving = []\n",
    "                else:\n",
    "                    if internal_count_wire > 5:\n",
    "                        if u3_seq in rolling(np.array(string_to_eval), 5):  # this is u3\n",
    "                            ind = 0\n",
    "                            for gind in indexes_saving:  # erase everyone\n",
    "                                cropped_circuit[gind] = -1  # erase everyone\n",
    "                                if ind < 5:\n",
    "                                    cropped_circuit[gind][u3_seq[ind]*self.solver.n_qubits + qindfav] = 1  # add each element of u3_seq\n",
    "                                    ind += 1\n",
    "                                else:\n",
    "                                    cropped_circuit[gind][self.solver.number_of_cnots + 2*self.solver.n_qubits + qindfav] = 1  # add identity\n",
    "\n",
    "                    internal_count_wire=0\n",
    "                    string_to_eval=[]\n",
    "                    indexes_saving = []\n",
    "                c += 1\n",
    "            else:\n",
    "                internal_count_wire=0\n",
    "                c = 0\n",
    "        return cropped_circuit\n",
    "\n",
    "    \n",
    "    def check_and_recheck(self, instructions, its=100):\n",
    "        \"\"\"\n",
    "        instructions:: collection of One Hot gates.\n",
    "\n",
    "        its:: # of iterations (if no changes in one iteration, the loop is interrupted)\n",
    "        prining:: boolean, visualize evolution - useful for debugging\n",
    "\n",
    "        \"\"\"\n",
    "        ws_previous = instructions\n",
    "        for k in range(its):\n",
    "            count_changes = 0\n",
    "\n",
    "            ws_odd=[]\n",
    "            for d in range(0,len(ws_previous),2):\n",
    "                if d<len(ws_previous)-1:\n",
    "                    w1 = ws_previous[d]\n",
    "                    w2 = ws_previous[d+1]\n",
    "                    wc1, wc2, count_changes = self.check_two(w1, w2, count_changes)\n",
    "                    ws_odd.append(wc1)\n",
    "                    ws_odd.append(wc2)\n",
    "                else:\n",
    "                    w1 = ws_previous[d]\n",
    "                    ws_odd.append(w1)\n",
    "\n",
    "            ws_final = [ws_odd[0]]\n",
    "            for d in range(1, len(ws_odd), 2):\n",
    "                if d<len(ws_odd)-1:\n",
    "                    w1 = ws_odd[d]\n",
    "                    w2 = ws_odd[d+1]\n",
    "                    wc1, wc2, count_changes = self.check_two(w1, w2, count_changes)\n",
    "                    ws_final.append(wc1)\n",
    "                    ws_final.append(wc2)\n",
    "                else:\n",
    "                    w1 = ws_odd[d]\n",
    "                    ws_final.append(w1)\n",
    "            ws_previous = ws_final\n",
    "            ws_final = []\n",
    "            if count_changes == 0:\n",
    "                break\n",
    "        return ws_previous\n",
    "\n"
   ]
  },
  {
   "cell_type": "markdown",
   "metadata": {},
   "source": [
    "### Checking####"
   ]
  },
  {
   "cell_type": "code",
   "execution_count": 175,
   "metadata": {},
   "outputs": [],
   "source": [
    "solver = CirqSmartSolver(n_qubits=3, observable_name=\"Ising_\", qlr=0.1,qepochs=250, ground_state_energy=4, display_progress=0)"
   ]
  },
  {
   "cell_type": "code",
   "execution_count": 191,
   "metadata": {},
   "outputs": [
    {
     "data": {
      "text/plain": [
       "((0, 0): ───────@───\n",
       "               │\n",
       "(0, 1): ───@───┼───\n",
       "           │   │\n",
       "(0, 2): ───X───X───,\n",
       " [])"
      ]
     },
     "execution_count": 191,
     "metadata": {},
     "output_type": "execute_result"
    }
   ],
   "source": [
    "#Two CNOTS same target (notice order of gates)\n",
    "checker = Checker([],solver)\n",
    "x1,x2 = solver.alphabet[3], solver.alphabet[1]\n",
    "solver.give_circuit([x1,x2], one_hot=True)"
   ]
  },
  {
   "cell_type": "code",
   "execution_count": 177,
   "metadata": {},
   "outputs": [
    {
     "data": {
      "text/plain": [
       "((0, 0): ───@───────\n",
       "           │\n",
       "(0, 1): ───┼───@───\n",
       "           │   │\n",
       "(0, 2): ───X───X───,\n",
       " [])"
      ]
     },
     "execution_count": 177,
     "metadata": {},
     "output_type": "execute_result"
    }
   ],
   "source": [
    "y1,y2,_ = checker.check_two(x2,x1)\n",
    "solver.give_circuit([y1,y2], one_hot=True)"
   ]
  },
  {
   "cell_type": "code",
   "execution_count": 178,
   "metadata": {},
   "outputs": [
    {
     "data": {
      "text/plain": [
       "((0, 1): ───Ry(th_0)───Ry(th_1)───, ['th_0', 'th_1'])"
      ]
     },
     "execution_count": 178,
     "metadata": {},
     "output_type": "execute_result"
    }
   ],
   "source": [
    "#Two rotations (ii)\n",
    "checker = Checker([],solver)\n",
    "x1,x2 = solver.alphabet[solver.number_of_cnots+1], solver.alphabet[solver.number_of_cnots+1]\n",
    "solver.give_circuit([x1,x2], one_hot=True)"
   ]
  },
  {
   "cell_type": "code",
   "execution_count": 179,
   "metadata": {},
   "outputs": [
    {
     "data": {
      "text/plain": [
       "((0, 1): ───Ry(th_0)───I───, ['th_0'])"
      ]
     },
     "execution_count": 179,
     "metadata": {},
     "output_type": "execute_result"
    }
   ],
   "source": [
    "y1,y2,_ = checker.check_two(x2,x1)\n",
    "solver.give_circuit([y1,y2], one_hot=True)    "
   ]
  },
  {
   "cell_type": "code",
   "execution_count": null,
   "metadata": {},
   "outputs": [],
   "source": []
  },
  {
   "cell_type": "code",
   "execution_count": 180,
   "metadata": {},
   "outputs": [
    {
     "data": {
      "text/plain": [
       "((0, 0): ───@───────────────\n",
       "           │\n",
       "(0, 1): ───X───Rx(-0.5π)───, [])"
      ]
     },
     "execution_count": 180,
     "metadata": {},
     "output_type": "execute_result"
    }
   ],
   "source": [
    "# P + CNOT (iii)\n",
    "checker = Checker([],solver)\n",
    "x1,x2 = solver.alphabet[0], solver.alphabet[solver.number_of_cnots+solver.n_qubits+1]\n",
    "solver.give_circuit([x1,x2], one_hot=True)"
   ]
  },
  {
   "cell_type": "code",
   "execution_count": 181,
   "metadata": {},
   "outputs": [
    {
     "data": {
      "text/plain": [
       "((0, 0): ───────────────@───\n",
       "                       │\n",
       "(0, 1): ───Rx(-0.5π)───X───,\n",
       " [])"
      ]
     },
     "execution_count": 181,
     "metadata": {},
     "output_type": "execute_result"
    }
   ],
   "source": [
    "y1,y2,_ = checker.check_two(x1,x2)\n",
    "solver.give_circuit([y1,y2], one_hot=True)    "
   ]
  },
  {
   "cell_type": "code",
   "execution_count": null,
   "metadata": {},
   "outputs": [],
   "source": []
  },
  {
   "cell_type": "code",
   "execution_count": null,
   "metadata": {},
   "outputs": [],
   "source": []
  },
  {
   "cell_type": "code",
   "execution_count": 188,
   "metadata": {},
   "outputs": [
    {
     "data": {
      "text/html": [
       "<pre style=\"overflow: auto; white-space: pre;\">(0, 0): ───Ry(th_0)───Rx(-0.5π)───Ry(th_1)───Rx(-0.5π)───Ry(th_2)───</pre>"
      ],
      "text/plain": [
       "(0, 0): ───Ry(th_0)───Rx(-0.5π)───Ry(th_1)───Rx(-0.5π)───Ry(th_2)───"
      ]
     },
     "execution_count": 188,
     "metadata": {},
     "output_type": "execute_result"
    }
   ],
   "source": [
    "# P + CNOT (iii)\n",
    "checker = Checker([],solver)\n",
    "rz, p = solver.alphabet[solver.number_of_cnots], solver.alphabet[solver.number_of_cnots+solver.n_qubits]\n",
    "solver.give_circuit([rz,p,rz,p,rz], one_hot=True)[0]"
   ]
  },
  {
   "cell_type": "code",
   "execution_count": 192,
   "metadata": {},
   "outputs": [
    {
     "data": {
      "text/html": [
       "<pre style=\"overflow: auto; white-space: pre;\">(0, 0): ───Ry(th_0)───Rx(-0.5π)───Ry(th_1)───Rx(-0.5π)───Ry(th_2)───</pre>"
      ],
      "text/plain": [
       "(0, 0): ───Ry(th_0)───Rx(-0.5π)───Ry(th_1)───Rx(-0.5π)───Ry(th_2)───"
      ]
     },
     "execution_count": 192,
     "metadata": {},
     "output_type": "execute_result"
    }
   ],
   "source": [
    "# P + CNOT (iii)\n",
    "checker = Checker([],solver)\n",
    "rz, p = solver.alphabet[solver.number_of_cnots], solver.alphabet[solver.number_of_cnots+solver.n_qubits]\n",
    "solver.give_circuit([rz,p,rz,p,rz], one_hot=True)[0]"
   ]
  },
  {
   "cell_type": "code",
   "execution_count": 202,
   "metadata": {},
   "outputs": [],
   "source": [
    "news=checker.detect_u3_and_reduce([rz,p,rz,p,rz,p,p,p,rz,rz])"
   ]
  },
  {
   "cell_type": "code",
   "execution_count": 203,
   "metadata": {},
   "outputs": [
    {
     "data": {
      "text/html": [
       "<pre style=\"overflow: auto; white-space: pre;\">(0, 0): ───Ry(th_0)───Rx(-0.5π)───Ry(th_1)───Rx(-0.5π)───Ry(th_2)───I───I───I───I───I───</pre>"
      ],
      "text/plain": [
       "(0, 0): ───Ry(th_0)───Rx(-0.5π)───Ry(th_1)───Rx(-0.5π)───Ry(th_2)───I───I───I───I───I───"
      ]
     },
     "execution_count": 203,
     "metadata": {},
     "output_type": "execute_result"
    }
   ],
   "source": [
    "solver.give_circuit(news, one_hot=True)[0]"
   ]
  },
  {
   "cell_type": "code",
   "execution_count": null,
   "metadata": {},
   "outputs": [],
   "source": []
  },
  {
   "cell_type": "code",
   "execution_count": 257,
   "metadata": {},
   "outputs": [],
   "source": [
    "# P + CNOT (iii)\n",
    "gates_index = np.random.choice(range(len(solver.alphabet)),10)\n",
    "#checker = Checker(gates_index,solver)\n",
    "ii,symbols=solver.give_circuit(gates_index, one_hot=False)\n",
    "\n",
    "symbols=np.random.randn(len(symbols))\n",
    "resolver = {k: v for k, v in zip(params,symbols)}\n"
   ]
  },
  {
   "cell_type": "code",
   "execution_count": 258,
   "metadata": {},
   "outputs": [
    {
     "data": {
      "text/html": [
       "<pre style=\"overflow: auto; white-space: pre;\">               ┌──────────┐\n",
       "(0, 0): ────────@─────────────Rx(-0.5π)───Ry(th_0)────X───I───I───\n",
       "                │                                     │\n",
       "(0, 1): ───X────┼Rx(-0.5π)────@───────────────────────┼───────────\n",
       "           │    │             │                       │\n",
       "(0, 2): ───@────X─────────────X───────────Rx(-0.5π)───@───────────\n",
       "               └──────────┘</pre>"
      ],
      "text/plain": [
       "               ┌──────────┐\n",
       "(0, 0): ────────@─────────────Rx(-0.5π)───Ry(th_0)────X───I───I───\n",
       "                │                                     │\n",
       "(0, 1): ───X────┼Rx(-0.5π)────@───────────────────────┼───────────\n",
       "           │    │             │                       │\n",
       "(0, 2): ───@────X─────────────X───────────Rx(-0.5π)───@───────────\n",
       "               └──────────┘"
      ]
     },
     "execution_count": 258,
     "metadata": {},
     "output_type": "execute_result"
    }
   ],
   "source": [
    "ii"
   ]
  },
  {
   "cell_type": "code",
   "execution_count": 259,
   "metadata": {},
   "outputs": [
    {
     "data": {
      "text/html": [
       "<pre style=\"overflow: auto; white-space: pre;\">               ┌──────────┐\n",
       "(0, 0): ────────@─────────────Rx(-0.5π)───Ry(-0.458π)───X───I───I───\n",
       "                │                                       │\n",
       "(0, 1): ───X────┼Rx(-0.5π)────@─────────────────────────┼───────────\n",
       "           │    │             │                         │\n",
       "(0, 2): ───@────X─────────────X───────────Rx(-0.5π)─────@───────────\n",
       "               └──────────┘</pre>"
      ],
      "text/plain": [
       "               ┌──────────┐\n",
       "(0, 0): ────────@─────────────Rx(-0.5π)───Ry(-0.458π)───X───I───I───\n",
       "                │                                       │\n",
       "(0, 1): ───X────┼Rx(-0.5π)────@─────────────────────────┼───────────\n",
       "           │    │             │                         │\n",
       "(0, 2): ───@────X─────────────X───────────Rx(-0.5π)─────@───────────\n",
       "               └──────────┘"
      ]
     },
     "execution_count": 259,
     "metadata": {},
     "output_type": "execute_result"
    }
   ],
   "source": [
    "cirq.resolve_parameters(ii, resolver)"
   ]
  },
  {
   "cell_type": "code",
   "execution_count": null,
   "metadata": {},
   "outputs": [],
   "source": []
  },
  {
   "cell_type": "code",
   "execution_count": null,
   "metadata": {},
   "outputs": [],
   "source": [
    "class VAnsatzSmart(CirqSmartSolver):\n",
    "    def __init__(self, n_qubits, trajectory):\n",
    "        \"\"\"\n",
    "        takes as input a list with actions, each action being an integer between 0 and len(self.alphabet).\n",
    "        \"\"\"\n",
    "        super(VAnsatzSmart, self).__init__(n_qubits=3)\n",
    "        \n",
    "        ws = [self.alphabet[int(g)] for g in trajectory]\n",
    "        circuit = []\n",
    "        params = []\n",
    "        for g in ws:\n",
    "            circuit, params = self.append_to_circuit(g,circuit, params)\n",
    "\n",
    "        self.circuit = cirq.Circuit(circuit)\n",
    "\n",
    "        #### check if there are qubits not called in the circuit  and add identity.\n",
    "        #### (otherwise a problem with observable appears)\n",
    "\n",
    "        effective_qubits = list(self.circuit.all_qubits())\n",
    "        for k in self.qubits:\n",
    "            if k not in effective_qubits:\n",
    "                self.circuit.append(cirq.I.on(k))\n",
    "        self.symbols = params\n",
    "\n",
    "    def get_state(self, qubits, params=None):\n",
    "        if params is None:\n",
    "            return self.circuit\n",
    "        resolver = {k: v for k, v in zip(self.symbols, params)}\n",
    "        return cirq.resolve_parameters(self.circuit, resolver)"
   ]
  },
  {
   "cell_type": "code",
   "execution_count": null,
   "metadata": {},
   "outputs": [],
   "source": []
  },
  {
   "cell_type": "code",
   "execution_count": null,
   "metadata": {},
   "outputs": [],
   "source": []
  },
  {
   "cell_type": "code",
   "execution_count": 256,
   "metadata": {},
   "outputs": [
    {
     "ename": "ValueError",
     "evalue": "Circuit contains ops whose symbols were not specified in parameter sweep. Ops: [cirq.ry(sympy.Symbol('th_1')).on(cirq.GridQubit(0, 2))]",
     "output_type": "error",
     "traceback": [
      "\u001b[0;31m---------------------------------------------------------------------------\u001b[0m",
      "\u001b[0;31mValueError\u001b[0m                                Traceback (most recent call last)",
      "\u001b[0;32m<ipython-input-256-6925086ca16a>\u001b[0m in \u001b[0;36m<module>\u001b[0;34m\u001b[0m\n\u001b[1;32m      1\u001b[0m \u001b[0msimulator\u001b[0m \u001b[0;34m=\u001b[0m \u001b[0mcirq\u001b[0m\u001b[0;34m.\u001b[0m\u001b[0mSimulator\u001b[0m\u001b[0;34m(\u001b[0m\u001b[0;34m)\u001b[0m\u001b[0;34m\u001b[0m\u001b[0;34m\u001b[0m\u001b[0m\n\u001b[0;32m----> 2\u001b[0;31m \u001b[0mresult\u001b[0m \u001b[0;34m=\u001b[0m \u001b[0msimulator\u001b[0m\u001b[0;34m.\u001b[0m\u001b[0msimulate\u001b[0m\u001b[0;34m(\u001b[0m\u001b[0mcirq\u001b[0m\u001b[0;34m.\u001b[0m\u001b[0mresolve_parameters\u001b[0m\u001b[0;34m(\u001b[0m\u001b[0mii\u001b[0m\u001b[0;34m,\u001b[0m \u001b[0mresolver\u001b[0m\u001b[0;34m)\u001b[0m\u001b[0;34m,\u001b[0m \u001b[0mqubit_order\u001b[0m\u001b[0;34m=\u001b[0m\u001b[0msolver\u001b[0m\u001b[0;34m.\u001b[0m\u001b[0mqubits\u001b[0m\u001b[0;34m)\u001b[0m\u001b[0;34m\u001b[0m\u001b[0;34m\u001b[0m\u001b[0m\n\u001b[0m",
      "\u001b[0;32m~/.local/lib/python3.6/site-packages/cirq/sim/simulator.py\u001b[0m in \u001b[0;36msimulate\u001b[0;34m(self, program, param_resolver, qubit_order, initial_state)\u001b[0m\n\u001b[1;32m    223\u001b[0m             \u001b[0mstudy\u001b[0m\u001b[0;34m.\u001b[0m\u001b[0mParamResolver\u001b[0m\u001b[0;34m(\u001b[0m\u001b[0mparam_resolver\u001b[0m\u001b[0;34m)\u001b[0m\u001b[0;34m,\u001b[0m\u001b[0;34m\u001b[0m\u001b[0;34m\u001b[0m\u001b[0m\n\u001b[1;32m    224\u001b[0m             \u001b[0mqubit_order\u001b[0m\u001b[0;34m,\u001b[0m\u001b[0;34m\u001b[0m\u001b[0;34m\u001b[0m\u001b[0m\n\u001b[0;32m--> 225\u001b[0;31m             initial_state)[0]\n\u001b[0m\u001b[1;32m    226\u001b[0m \u001b[0;34m\u001b[0m\u001b[0m\n\u001b[1;32m    227\u001b[0m     \u001b[0;34m@\u001b[0m\u001b[0mabc\u001b[0m\u001b[0;34m.\u001b[0m\u001b[0mabstractmethod\u001b[0m\u001b[0;34m\u001b[0m\u001b[0;34m\u001b[0m\u001b[0m\n",
      "\u001b[0;32m~/.local/lib/python3.6/site-packages/cirq/sim/simulator.py\u001b[0m in \u001b[0;36msimulate_sweep\u001b[0;34m(self, program, params, qubit_order, initial_state)\u001b[0m\n\u001b[1;32m    298\u001b[0m         \u001b[0;32mfor\u001b[0m \u001b[0mparam_resolver\u001b[0m \u001b[0;32min\u001b[0m \u001b[0mstudy\u001b[0m\u001b[0;34m.\u001b[0m\u001b[0mto_resolvers\u001b[0m\u001b[0;34m(\u001b[0m\u001b[0mparams\u001b[0m\u001b[0;34m)\u001b[0m\u001b[0;34m:\u001b[0m\u001b[0;34m\u001b[0m\u001b[0;34m\u001b[0m\u001b[0m\n\u001b[1;32m    299\u001b[0m             all_step_results = self.simulate_moment_steps(\n\u001b[0;32m--> 300\u001b[0;31m                 program, param_resolver, qubit_order, initial_state)\n\u001b[0m\u001b[1;32m    301\u001b[0m             \u001b[0mmeasurements\u001b[0m \u001b[0;34m=\u001b[0m \u001b[0;34m{\u001b[0m\u001b[0;34m}\u001b[0m  \u001b[0;31m# type: Dict[str, np.ndarray]\u001b[0m\u001b[0;34m\u001b[0m\u001b[0;34m\u001b[0m\u001b[0m\n\u001b[1;32m    302\u001b[0m             \u001b[0;32mfor\u001b[0m \u001b[0mstep_result\u001b[0m \u001b[0;32min\u001b[0m \u001b[0mall_step_results\u001b[0m\u001b[0;34m:\u001b[0m\u001b[0;34m\u001b[0m\u001b[0;34m\u001b[0m\u001b[0m\n",
      "\u001b[0;32m~/.local/lib/python3.6/site-packages/cirq/sim/simulator.py\u001b[0m in \u001b[0;36msimulate_moment_steps\u001b[0;34m(self, circuit, param_resolver, qubit_order, initial_state)\u001b[0m\n\u001b[1;32m    340\u001b[0m             \u001b[0mstudy\u001b[0m\u001b[0;34m.\u001b[0m\u001b[0mParamResolver\u001b[0m\u001b[0;34m(\u001b[0m\u001b[0mparam_resolver\u001b[0m\u001b[0;34m)\u001b[0m\u001b[0;34m,\u001b[0m\u001b[0;34m\u001b[0m\u001b[0;34m\u001b[0m\u001b[0m\n\u001b[1;32m    341\u001b[0m             \u001b[0mqubit_order\u001b[0m\u001b[0;34m,\u001b[0m\u001b[0;34m\u001b[0m\u001b[0;34m\u001b[0m\u001b[0m\n\u001b[0;32m--> 342\u001b[0;31m             initial_state)\n\u001b[0m\u001b[1;32m    343\u001b[0m \u001b[0;34m\u001b[0m\u001b[0m\n\u001b[1;32m    344\u001b[0m     \u001b[0;34m@\u001b[0m\u001b[0mabc\u001b[0m\u001b[0;34m.\u001b[0m\u001b[0mabstractmethod\u001b[0m\u001b[0;34m\u001b[0m\u001b[0;34m\u001b[0m\u001b[0m\n",
      "\u001b[0;32m~/.local/lib/python3.6/site-packages/cirq/sim/sparse_simulator.py\u001b[0m in \u001b[0;36m_simulator_iterator\u001b[0;34m(self, circuit, param_resolver, qubit_order, initial_state)\u001b[0m\n\u001b[1;32m    228\u001b[0m         \u001b[0mparam_resolver\u001b[0m \u001b[0;34m=\u001b[0m \u001b[0mparam_resolver\u001b[0m \u001b[0;32mor\u001b[0m \u001b[0mstudy\u001b[0m\u001b[0;34m.\u001b[0m\u001b[0mParamResolver\u001b[0m\u001b[0;34m(\u001b[0m\u001b[0;34m{\u001b[0m\u001b[0;34m}\u001b[0m\u001b[0;34m)\u001b[0m\u001b[0;34m\u001b[0m\u001b[0;34m\u001b[0m\u001b[0m\n\u001b[1;32m    229\u001b[0m         \u001b[0mresolved_circuit\u001b[0m \u001b[0;34m=\u001b[0m \u001b[0mprotocols\u001b[0m\u001b[0;34m.\u001b[0m\u001b[0mresolve_parameters\u001b[0m\u001b[0;34m(\u001b[0m\u001b[0mcircuit\u001b[0m\u001b[0;34m,\u001b[0m \u001b[0mparam_resolver\u001b[0m\u001b[0;34m)\u001b[0m\u001b[0;34m\u001b[0m\u001b[0;34m\u001b[0m\u001b[0m\n\u001b[0;32m--> 230\u001b[0;31m         \u001b[0mself\u001b[0m\u001b[0;34m.\u001b[0m\u001b[0m_check_all_resolved\u001b[0m\u001b[0;34m(\u001b[0m\u001b[0mresolved_circuit\u001b[0m\u001b[0;34m)\u001b[0m\u001b[0;34m\u001b[0m\u001b[0;34m\u001b[0m\u001b[0m\n\u001b[0m\u001b[1;32m    231\u001b[0m         \u001b[0mactual_initial_state\u001b[0m \u001b[0;34m=\u001b[0m \u001b[0;36m0\u001b[0m \u001b[0;32mif\u001b[0m \u001b[0minitial_state\u001b[0m \u001b[0;32mis\u001b[0m \u001b[0;32mNone\u001b[0m \u001b[0;32melse\u001b[0m \u001b[0minitial_state\u001b[0m\u001b[0;34m\u001b[0m\u001b[0;34m\u001b[0m\u001b[0m\n\u001b[1;32m    232\u001b[0m         return self._base_iterator(resolved_circuit,\n",
      "\u001b[0;32m~/.local/lib/python3.6/site-packages/cirq/sim/sparse_simulator.py\u001b[0m in \u001b[0;36m_check_all_resolved\u001b[0;34m(self, circuit)\u001b[0m\n\u001b[1;32m    375\u001b[0m             raise ValueError(\n\u001b[1;32m    376\u001b[0m                 \u001b[0;34m'Circuit contains ops whose symbols were not specified in '\u001b[0m\u001b[0;34m\u001b[0m\u001b[0;34m\u001b[0m\u001b[0m\n\u001b[0;32m--> 377\u001b[0;31m                 'parameter sweep. Ops: {}'.format(unresolved))\n\u001b[0m\u001b[1;32m    378\u001b[0m \u001b[0;34m\u001b[0m\u001b[0m\n\u001b[1;32m    379\u001b[0m \u001b[0;34m\u001b[0m\u001b[0m\n",
      "\u001b[0;31mValueError\u001b[0m: Circuit contains ops whose symbols were not specified in parameter sweep. Ops: [cirq.ry(sympy.Symbol('th_1')).on(cirq.GridQubit(0, 2))]"
     ]
    }
   ],
   "source": [
    "simulator = cirq.Simulator()\n",
    "result = simulator.simulate(cirq.resolve_parameters(ii, resolver), qubit_order=solver.qubits)\n",
    "probs = np.abs(result.final_state)**2"
   ]
  },
  {
   "cell_type": "code",
   "execution_count": 216,
   "metadata": {},
   "outputs": [],
   "source": [
    "checker = Checker(gates_index,solver)"
   ]
  },
  {
   "cell_type": "code",
   "execution_count": 217,
   "metadata": {},
   "outputs": [
    {
     "data": {
      "text/plain": [
       "[[-1.0,\n",
       "  1.0,\n",
       "  -1.0,\n",
       "  -1.0,\n",
       "  -1.0,\n",
       "  -1.0,\n",
       "  -1.0,\n",
       "  -1.0,\n",
       "  -1.0,\n",
       "  -1.0,\n",
       "  -1.0,\n",
       "  -1.0,\n",
       "  -1.0,\n",
       "  -1.0,\n",
       "  -1.0],\n",
       " [-1.0,\n",
       "  -1.0,\n",
       "  -1.0,\n",
       "  1.0,\n",
       "  -1.0,\n",
       "  -1.0,\n",
       "  -1.0,\n",
       "  -1.0,\n",
       "  -1.0,\n",
       "  -1.0,\n",
       "  -1.0,\n",
       "  -1.0,\n",
       "  -1.0,\n",
       "  -1.0,\n",
       "  -1.0],\n",
       " [-1.0,\n",
       "  -1.0,\n",
       "  -1.0,\n",
       "  -1.0,\n",
       "  -1.0,\n",
       "  -1.0,\n",
       "  -1.0,\n",
       "  -1.0,\n",
       "  -1.0,\n",
       "  -1.0,\n",
       "  1.0,\n",
       "  -1.0,\n",
       "  -1.0,\n",
       "  -1.0,\n",
       "  -1.0],\n",
       " [-1.0,\n",
       "  -1.0,\n",
       "  -1.0,\n",
       "  -1.0,\n",
       "  -1.0,\n",
       "  -1.0,\n",
       "  -1.0,\n",
       "  -1.0,\n",
       "  -1.0,\n",
       "  -1.0,\n",
       "  1.0,\n",
       "  -1.0,\n",
       "  -1.0,\n",
       "  -1.0,\n",
       "  -1.0],\n",
       " [1.0,\n",
       "  -1.0,\n",
       "  -1.0,\n",
       "  -1.0,\n",
       "  -1.0,\n",
       "  -1.0,\n",
       "  -1.0,\n",
       "  -1.0,\n",
       "  -1.0,\n",
       "  -1.0,\n",
       "  -1.0,\n",
       "  -1.0,\n",
       "  -1.0,\n",
       "  -1.0,\n",
       "  -1.0],\n",
       " [-1.0,\n",
       "  1.0,\n",
       "  -1.0,\n",
       "  -1.0,\n",
       "  -1.0,\n",
       "  -1.0,\n",
       "  -1.0,\n",
       "  -1.0,\n",
       "  -1.0,\n",
       "  -1.0,\n",
       "  -1.0,\n",
       "  -1.0,\n",
       "  -1.0,\n",
       "  -1.0,\n",
       "  -1.0],\n",
       " [-1.0,\n",
       "  -1.0,\n",
       "  -1.0,\n",
       "  -1.0,\n",
       "  -1.0,\n",
       "  -1.0,\n",
       "  -1.0,\n",
       "  -1.0,\n",
       "  1.0,\n",
       "  -1.0,\n",
       "  -1.0,\n",
       "  -1.0,\n",
       "  -1.0,\n",
       "  -1.0,\n",
       "  -1.0],\n",
       " [-1.0,\n",
       "  -1.0,\n",
       "  1.0,\n",
       "  -1.0,\n",
       "  -1.0,\n",
       "  -1.0,\n",
       "  -1.0,\n",
       "  -1.0,\n",
       "  -1.0,\n",
       "  -1.0,\n",
       "  -1.0,\n",
       "  -1.0,\n",
       "  -1.0,\n",
       "  -1.0,\n",
       "  -1.0],\n",
       " [-1.0,\n",
       "  -1.0,\n",
       "  -1.0,\n",
       "  -1.0,\n",
       "  -1.0,\n",
       "  -1.0,\n",
       "  -1.0,\n",
       "  -1.0,\n",
       "  -1.0,\n",
       "  -1.0,\n",
       "  -1.0,\n",
       "  -1.0,\n",
       "  1.0,\n",
       "  -1.0,\n",
       "  -1.0],\n",
       " [-1.0,\n",
       "  -1.0,\n",
       "  -1.0,\n",
       "  -1.0,\n",
       "  1.0,\n",
       "  -1.0,\n",
       "  -1.0,\n",
       "  -1.0,\n",
       "  -1.0,\n",
       "  -1.0,\n",
       "  -1.0,\n",
       "  -1.0,\n",
       "  -1.0,\n",
       "  -1.0,\n",
       "  -1.0]]"
      ]
     },
     "execution_count": 217,
     "metadata": {},
     "output_type": "execute_result"
    }
   ],
   "source": [
    "checker.check_and_recheck(checker.OneHotGates)"
   ]
  },
  {
   "cell_type": "code",
   "execution_count": null,
   "metadata": {},
   "outputs": [],
   "source": []
  },
  {
   "cell_type": "code",
   "execution_count": null,
   "metadata": {},
   "outputs": [],
   "source": []
  }
 ],
 "metadata": {
  "kernelspec": {
   "display_name": "Python 3",
   "language": "python",
   "name": "python3"
  },
  "language_info": {
   "codemirror_mode": {
    "name": "ipython",
    "version": 3
   },
   "file_extension": ".py",
   "mimetype": "text/x-python",
   "name": "python",
   "nbconvert_exporter": "python",
   "pygments_lexer": "ipython3",
   "version": "3.6.9"
  }
 },
 "nbformat": 4,
 "nbformat_minor": 4
}
