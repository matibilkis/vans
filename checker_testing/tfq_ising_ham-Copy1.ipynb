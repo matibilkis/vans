{
 "cells": [
  {
   "cell_type": "code",
   "execution_count": 218,
   "metadata": {},
   "outputs": [],
   "source": [
    "import numpy as np\n",
    "import sympy\n",
    "import cirq\n",
    "import tensorflow as tf\n",
    "import tensorflow_quantum as tfq\n",
    "\n",
    "class CirqSmartSolver:\n",
    "    def __init__(self, n_qubits=3, observable_name=None, ground_state_energy=None):\n",
    "\n",
    "        \"\"\"\n",
    "        observable_name:: specifies the hamiltonian; can be either string (if in templates, see load_observable function, a list\n",
    "        or numpy array.\n",
    "\n",
    "        target_reward:: minus the ground energy (or estimation), used as label for variational optimization.\n",
    "        \"\"\"\n",
    "\n",
    "        self.name = \"CirqSolver\"\n",
    "        self.n_qubits = n_qubits\n",
    "        self.qubits = cirq.GridQubit.rect(1, n_qubits)\n",
    "        self.observable_name = observable_name\n",
    "\n",
    "        # Value to use as label for continuous optimization; this appears in variational model\n",
    "        if ground_state_energy is None:\n",
    "            self.ground_state_energy = self.n_qubits  # mostly for the ising high transv fields.\n",
    "        else:\n",
    "            self.ground_state_energy = ground_state_energy\n",
    "\n",
    "        self.observable = self.load_observable(observable_name) #Ising hamiltonian with list of pauli_gates\n",
    "\n",
    "        # Indexed cnots total number n!/(n-2)! = n*(n-1) (if all connections are allowed)\n",
    "        self.indexed_cnots = {}\n",
    "        count = 0\n",
    "        for control in range(self.n_qubits):\n",
    "            for target in range(self.n_qubits):\n",
    "                if control != target:\n",
    "                    self.indexed_cnots[str(count)] = [control, target]\n",
    "                    count += 1\n",
    "        self.number_of_cnots = len(self.indexed_cnots)\n",
    "        #int(np.math.factorial(self.n_qubits)/np.math.factorial(self.n_qubits -2))\n",
    "\n",
    "        # Create one_hot a+lphabet\n",
    "        self.alphabet_gates = [cirq.CNOT, cirq.ry, cirq.rx(-np.pi/2), cirq.I]\n",
    "        self.alphabet = []\n",
    "\n",
    "        alphabet_length = self.number_of_cnots + (len(self.alphabet_gates)-1)*self.n_qubits\n",
    "        for ind, k in enumerate(range(self.number_of_cnots + (len(self.alphabet_gates)-1)*self.n_qubits)): #one hot encoding\n",
    "            one_hot_gate = [-1]*alphabet_length\n",
    "            one_hot_gate[ind] = 1\n",
    "            self.alphabet.append(one_hot_gate)\n",
    "\n",
    "    def load_observable(self, obs,g=1, J=0):\n",
    "        \"\"\"\n",
    "        obs can either be a string, a list with cirq's gates or a matrix (array)\n",
    "        \"\"\"\n",
    "        if obs == \"Ising_\":\n",
    "            observable = [g*cirq.X.on(q) for q in self.qubits] # -J \\sum_{i} Z_i Z_{i+1} - g \\sum_i X_i    when g>>J\n",
    "            for q in range(len(self.qubits)):\n",
    "                observable.append(J*cirq.Z.on(self.qubits[q])*cirq.Z.on(self.qubits[(q+1)%len(self.qubits)]))\n",
    "        else:\n",
    "            print(\"check previous versions to load other observables.\")\n",
    "        return observable\n",
    "\n",
    "    def append_to_circuit(self, one_hot_gate, circuit, params):\n",
    "        \"\"\"\n",
    "        appends to circuit the one_hot_gate;\n",
    "        and if one_hot_gate it implies a rotation,\n",
    "        appends to params a symbol\"\"\"\n",
    "\n",
    "        for ind,inst in enumerate(one_hot_gate):\n",
    "            if inst == 1:  # this is faster than numpy.where\n",
    "                if ind < self.number_of_cnots:\n",
    "                    control, target = self.indexed_cnots[str(ind)]\n",
    "                    circuit.append(self.alphabet_gates[0].on(self.qubits[control], self.qubits[target]))\n",
    "                    return circuit, params\n",
    "                elif self.number_of_cnots <= ind < self.number_of_cnots + self.n_qubits:\n",
    "                    new_param = \"th_\"+str(len(params))\n",
    "                    params.append(new_param)\n",
    "                    circuit.append(self.alphabet_gates[1](sympy.Symbol(new_param)).on(self.qubits[int(ind%self.n_qubits)]))\n",
    "                    return circuit, params\n",
    "                elif self.number_of_cnots + self.n_qubits <= ind < self.number_of_cnots + 2*self.n_qubits:\n",
    "                    circuit.append(self.alphabet_gates[2].on(self.qubits[int(ind%self.n_qubits)]))\n",
    "                    return circuit, params\n",
    "                elif self.number_of_cnots + 2*self.n_qubits <= ind < self.number_of_cnots+3*self.number_of_cnots:\n",
    "                    circuit.append(self.alphabet_gates[3].on(self.qubits[int(ind%self.n_qubits)]))\n",
    "                    return circuit, params\n",
    "                else:\n",
    "                    print(\"doing nothing! even not identity! careful\")\n",
    "                    return circuit, params\n",
    "                \n",
    "                \n",
    "    def TFQ_model(self, symbols):\n",
    "        circuit_input = tf.keras.Input(shape=(), dtype=tf.string)\n",
    "        output = tfq.layers.Expectation()(\n",
    "                circuit_input,\n",
    "                symbol_names=symbols,\n",
    "                operators=tfq.convert_to_tensor([self.observable]),\n",
    "                initializer=tf.keras.initializers.RandomNormal()) #this is not strictly necessary.\n",
    "        model = tf.keras.Model(inputs=circuit_input, outputs=output)\n",
    "        adam = tf.keras.optimizers.Adam(learning_rate=0.01)\n",
    "        model.compile(optimizer=adam, loss='mse')\n",
    "        return model\n",
    "        \n",
    "    \n",
    "    def run_circuit(self, gates_index):\n",
    "        \"\"\"\n",
    "        takes as input vector with actions described as integer (given by RL agent),\n",
    "        and outputsthe energy of that circuit (w.r.t self.observable)\n",
    "            \"\"\"\n",
    "        circuit, symbols = [], []\n",
    "        for k in gates_index:\n",
    "            circuit, symbols = self.append_to_circuit(self.alphabet[k],circuit,symbols)\n",
    "        tfqcircuit = tfq.convert_to_tensor([cirq.Circuit(circuit)])\n",
    "        if len(params) == 0:\n",
    "            expval = tfq.layers.Expectation()(\n",
    "                                            tfqcircuit,\n",
    "                                            operators=tfq.convert_to_tensor([self.observable]))\n",
    "            energy = np.float32(np.squeeze(tf.math.reduce_sum(expval, axis=-1, keepdims=True)))\n",
    "        else:\n",
    "            model = self.TFQ_model(symbols)\n",
    "            qoutput = tf.ones((1, 1))*self.ground_state_energy\n",
    "            model.fit(x=tfqcircuit, y=qoutput, batch_size=1, epochs=150, verbose=0)\n",
    "            energy = np.squeeze(tf.math.reduce_sum(model.predict(tfqcircuit), axis=-1))\n",
    "            #energy = np.sum(energies)\n",
    "        return energy\n",
    "\n",
    "    "
   ]
  },
  {
   "cell_type": "code",
   "execution_count": 62,
   "metadata": {},
   "outputs": [],
   "source": [
    "for k in range(2,10):\n",
    "    solver = CirqSmartSolver(n_qubits=k, observable_name=\"Ising_\")\n",
    "    print(solver.number_of_cnots - solver.n_qubits*(solver.n_qubits-1))\n",
    "    #print(len(solver.alphabet) - 3*solver.n_qubits - solver.number_of_cnots)\n",
    "    #print(\"**\")"
   ]
  },
  {
   "cell_type": "code",
   "execution_count": null,
   "metadata": {},
   "outputs": [],
   "source": []
  },
  {
   "cell_type": "code",
   "execution_count": 224,
   "metadata": {},
   "outputs": [
    {
     "name": "stdout",
     "output_type": "stream",
     "text": [
      "0 \n",
      "\n",
      "(0, 0): ───@───\n",
      "           │\n",
      "(0, 1): ───X───\n",
      "\n",
      "****\n",
      "\n",
      "1 \n",
      "\n",
      "(0, 0): ───@───\n",
      "           │\n",
      "(0, 2): ───X───\n",
      "\n",
      "****\n",
      "\n",
      "2 \n",
      "\n",
      "(0, 0): ───X───\n",
      "           │\n",
      "(0, 1): ───@───\n",
      "\n",
      "****\n",
      "\n",
      "3 \n",
      "\n",
      "(0, 1): ───@───\n",
      "           │\n",
      "(0, 2): ───X───\n",
      "\n",
      "****\n",
      "\n",
      "4 \n",
      "\n",
      "(0, 0): ───X───\n",
      "           │\n",
      "(0, 2): ───@───\n",
      "\n",
      "****\n",
      "\n",
      "5 \n",
      "\n",
      "(0, 1): ───X───\n",
      "           │\n",
      "(0, 2): ───@───\n",
      "\n",
      "****\n",
      "\n",
      "6 \n",
      "\n",
      "(0, 0): ───Ry(th_0)───\n",
      "\n",
      "****\n",
      "\n",
      "7 \n",
      "\n",
      "(0, 1): ───Ry(th_0)───\n",
      "\n",
      "****\n",
      "\n",
      "8 \n",
      "\n",
      "(0, 2): ───Ry(th_0)───\n",
      "\n",
      "****\n",
      "\n",
      "9 \n",
      "\n",
      "(0, 0): ───Rx(-0.5π)───\n",
      "\n",
      "****\n",
      "\n",
      "10 \n",
      "\n",
      "(0, 1): ───Rx(-0.5π)───\n",
      "\n",
      "****\n",
      "\n",
      "11 \n",
      "\n",
      "(0, 2): ───Rx(-0.5π)───\n",
      "\n",
      "****\n",
      "\n",
      "12 \n",
      "\n",
      "(0, 0): ───I───\n",
      "\n",
      "****\n",
      "\n",
      "13 \n",
      "\n",
      "(0, 1): ───I───\n",
      "\n",
      "****\n",
      "\n",
      "14 \n",
      "\n",
      "(0, 2): ───I───\n",
      "\n",
      "****\n",
      "\n"
     ]
    }
   ],
   "source": [
    "solver = CirqSmartSolver(n_qubits=3, observable_name=\"Ising_\")\n",
    "for k in range(len(solver.alphabet)):\n",
    "    circuit,_ = [], []\n",
    "    circuit, _ = solver.append_to_circuit(solver.alphabet[k],circuit,_)\n",
    "    print(k,\"\\n\")\n",
    "    print(cirq.Circuit(circuit))\n",
    "    print(\"\\n****\\n\")"
   ]
  },
  {
   "cell_type": "code",
   "execution_count": 96,
   "metadata": {},
   "outputs": [],
   "source": [
    "solver = CirqSmartSolver(n_qubits=4, observable_name=\"Ising_\")\n",
    "gates_index = np.random.choice(range(len(solver.alphabet)),10)\n",
    "circuit, parms = [], []\n",
    "\n",
    "for k in gates_index:\n",
    "    circuit, params = solver.append_to_circuit(solver.alphabet[k],circuit,parms)\n",
    "circuit = cirq.Circuit(circuit)"
   ]
  },
  {
   "cell_type": "code",
   "execution_count": 100,
   "metadata": {},
   "outputs": [
    {
     "name": "stdout",
     "output_type": "stream",
     "text": [
      "36.2 ms ± 704 µs per loop (mean ± std. dev. of 7 runs, 10 loops each)\n"
     ]
    }
   ],
   "source": [
    "%timeit solver.vansatz_keras_model(circuit,solver.observable,params)"
   ]
  },
  {
   "cell_type": "code",
   "execution_count": null,
   "metadata": {},
   "outputs": [],
   "source": []
  },
  {
   "cell_type": "code",
   "execution_count": 131,
   "metadata": {},
   "outputs": [],
   "source": [
    "solver = CirqSmartSolver(n_qubits=4, observable_name=\"Ising_\")\n",
    "gates_index = list(np.random.choice(range(len(solver.alphabet)),10))\n",
    "for k in np.arange(len(solver.alphabet))[-4:]:\n",
    "    gates_index.append(k)\n",
    "#gates_index.append()\n",
    "#solver.run_circuit(gates_index)"
   ]
  },
  {
   "cell_type": "code",
   "execution_count": 144,
   "metadata": {},
   "outputs": [],
   "source": [
    "circuit, symbols = [], []\n",
    "for k in gates_index:\n",
    "    circuit, symbols = solver.append_to_circuit(solver.alphabet[k],circuit,symbols)\n",
    "#circuit = tfq.convert_to_tensor([cirq.Circuit(circuit)])\n"
   ]
  },
  {
   "cell_type": "code",
   "execution_count": 205,
   "metadata": {},
   "outputs": [],
   "source": [
    "solver = CirqSmartSolver(n_qubits=4, observable_name=\"Ising_\")\n",
    "gates_index = list(np.random.choice(range(len(solver.alphabet)),10))\n",
    "for k in np.arange(len(solver.alphabet))[-4:]:\n",
    "    gates_index.append(k)\n",
    "#gates_index.append()\n",
    "solver.run_circuit(gates_index)"
   ]
  },
  {
   "cell_type": "code",
   "execution_count": 209,
   "metadata": {},
   "outputs": [],
   "source": []
  },
  {
   "cell_type": "code",
   "execution_count": null,
   "metadata": {},
   "outputs": [],
   "source": []
  },
  {
   "cell_type": "code",
   "execution_count": 214,
   "metadata": {},
   "outputs": [
    {
     "data": {
      "text/plain": [
       "array(0.6932972, dtype=float32)"
      ]
     },
     "execution_count": 214,
     "metadata": {},
     "output_type": "execute_result"
    }
   ],
   "source": [
    "solver = CirqSmartSolver(n_qubits=3, observable_name=\"Ising_\")\n",
    "gates_index = solver.number_of_cnots + np.arange(solver.n_qubits)\n",
    "solver.run_circuit(gates_index)"
   ]
  },
  {
   "cell_type": "code",
   "execution_count": 215,
   "metadata": {},
   "outputs": [],
   "source": [
    "circuit, symbols = [], []\n",
    "for k in gates_index:\n",
    "    circuit, symbols = solver.append_to_circuit(solver.alphabet[k],circuit,symbols)"
   ]
  },
  {
   "cell_type": "code",
   "execution_count": 216,
   "metadata": {},
   "outputs": [
    {
     "data": {
      "text/html": [
       "<pre style=\"overflow: auto; white-space: pre;\">(0, 0): ───Ry(th_0)───\n",
       "\n",
       "(0, 1): ───Ry(th_1)───\n",
       "\n",
       "(0, 2): ───Ry(th_2)───</pre>"
      ],
      "text/plain": [
       "(0, 0): ───Ry(th_0)───\n",
       "\n",
       "(0, 1): ───Ry(th_1)───\n",
       "\n",
       "(0, 2): ───Ry(th_2)───"
      ]
     },
     "execution_count": 216,
     "metadata": {},
     "output_type": "execute_result"
    }
   ],
   "source": [
    "cirq.Circuit(circuit)"
   ]
  },
  {
   "cell_type": "code",
   "execution_count": 217,
   "metadata": {},
   "outputs": [
    {
     "data": {
      "text/html": [
       "<pre style=\"overflow: auto; white-space: pre;\">(0, 0): ───X───0j*Z((0, 0))*Z((0, 1))────────────────────────────0j*Z((0, 0))*Z((0, 2))───\n",
       "               │                                                 │\n",
       "(0, 1): ───X───#2───────────────────────0j*Z((0, 1))*Z((0, 2))───┼────────────────────────\n",
       "                                        │                        │\n",
       "(0, 2): ───X────────────────────────────#2───────────────────────#2───────────────────────</pre>"
      ],
      "text/plain": [
       "(0, 0): ───X───0j*Z((0, 0))*Z((0, 1))────────────────────────────0j*Z((0, 0))*Z((0, 2))───\n",
       "               │                                                 │\n",
       "(0, 1): ───X───#2───────────────────────0j*Z((0, 1))*Z((0, 2))───┼────────────────────────\n",
       "                                        │                        │\n",
       "(0, 2): ───X────────────────────────────#2───────────────────────#2───────────────────────"
      ]
     },
     "execution_count": 217,
     "metadata": {},
     "output_type": "execute_result"
    }
   ],
   "source": [
    "cirq.Circuit(solver.observable)"
   ]
  },
  {
   "cell_type": "code",
   "execution_count": null,
   "metadata": {},
   "outputs": [],
   "source": []
  }
 ],
 "metadata": {
  "kernelspec": {
   "display_name": "Python 3",
   "language": "python",
   "name": "python3"
  },
  "language_info": {
   "codemirror_mode": {
    "name": "ipython",
    "version": 3
   },
   "file_extension": ".py",
   "mimetype": "text/x-python",
   "name": "python",
   "nbconvert_exporter": "python",
   "pygments_lexer": "ipython3",
   "version": "3.6.9"
  }
 },
 "nbformat": 4,
 "nbformat_minor": 4
}
