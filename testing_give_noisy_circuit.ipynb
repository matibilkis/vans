{
 "cells": [
  {
   "cell_type": "code",
   "execution_count": 69,
   "metadata": {},
   "outputs": [
    {
     "name": "stdout",
     "output_type": "stream",
     "text": [
      "The autoreload extension is already loaded. To reload it, use:\n",
      "  %reload_ext autoreload\n"
     ]
    }
   ],
   "source": [
    "import os \n",
    "import numpy as np\n",
    "import sympy\n",
    "import cirq\n",
    "import tensorflow_quantum as tfq\n",
    "from tqdm import tqdm\n",
    "import tensorflow as tf\n",
    "\n",
    "from utilities.variational import VQE\n",
    "from utilities.circuit_basics import Evaluator\n",
    "from utilities.idinserter import IdInserter\n",
    "from utilities.simplifier import Simplifier\n",
    "from utilities.unitary_killer import UnitaryMurder\n",
    "\n",
    "%load_ext autoreload\n",
    "%autoreload 2\n",
    "\n",
    "\n",
    "n_qubits = 4\n",
    "qlr = 0.01\n",
    "qepochs = 10**3\n",
    "verbose=0\n",
    "g=1\n",
    "J=0\n",
    "noise=0.0\n",
    "problem=\"TFIM\"\n",
    "vqe_handler = VQE(n_qubits=n_qubits, lr=qlr, epochs=qepochs, patience=100,\n",
    "                  random_perturbations=True, verbose=verbose, g=g, J = J, \n",
    "                  problem=problem, noise_model={ \"channel\":\"depolarizing\", \"channel_params\":[0.01], \"q_batch_size\":10**2})\n",
    "\n",
    "iid = IdInserter(n_qubits=n_qubits)\n",
    "Simp = Simplifier(n_qubits=n_qubits)\n",
    "killer = UnitaryMurder(vqe_handler)\n"
   ]
  },
  {
   "cell_type": "code",
   "execution_count": 70,
   "metadata": {},
   "outputs": [
    {
     "data": {
      "text/plain": [
       "((0, 0): ───Rx(th_0)───\n",
       "\n",
       "(0, 1): ───Rx(th_1)───\n",
       "\n",
       "(0, 2): ───Rx(th_2)───\n",
       "\n",
       "(0, 3): ───Rx(th_3)───,\n",
       " ['th_0', 'th_1', 'th_2', 'th_3'],\n",
       " {0: 'th_0', 1: 'th_1', 2: 'th_2', 3: 'th_3'})"
      ]
     },
     "execution_count": 70,
     "metadata": {},
     "output_type": "execute_result"
    }
   ],
   "source": [
    "indexed_circuit = [vqe_handler.n_qubits+k+vqe_handler.number_of_cnots for k in range(vqe_handler.n_qubits)]\n",
    "vqe_handler.give_circuit(indexed_circuit)"
   ]
  },
  {
   "cell_type": "code",
   "execution_count": 71,
   "metadata": {},
   "outputs": [],
   "source": [
    "qbatch, symbols, index_to_symbols = vqe_handler.give_circuit_with_noise(indexed_circuit)\n",
    "qbatch_resolved=[]\n",
    "for k in qbatch:\n",
    "    qbatch_resolved.append(cirq.resolve_parameters(k,{s:0 for s in symbols}))\n",
    "tfq_circuit = tfq.convert_to_tensor(qbatch_resolved)\n",
    "expectation = tfq.layers.Expectation()\n",
    "tfq_layer = expectation(tfq_circuit, operators=tfq.convert_to_tensor([vqe_handler.observable]*vqe_handler.q_batch_size))\n",
    "averaged_unitaries = tf.math.reduce_mean(tfq_layer, axis=0)\n",
    "energy = np.squeeze(tf.math.reduce_sum(averaged_unitaries, axis=-1))\n",
    "noisy_energy.append(energy)"
   ]
  },
  {
   "cell_type": "code",
   "execution_count": 72,
   "metadata": {},
   "outputs": [
    {
     "data": {
      "text/plain": [
       "array(-3.98, dtype=float32)"
      ]
     },
     "execution_count": 72,
     "metadata": {},
     "output_type": "execute_result"
    }
   ],
   "source": []
  },
  {
   "cell_type": "code",
   "execution_count": 73,
   "metadata": {},
   "outputs": [
    {
     "data": {
      "text/plain": [
       "array(-4., dtype=float32)"
      ]
     },
     "execution_count": 73,
     "metadata": {},
     "output_type": "execute_result"
    }
   ],
   "source": [
    "circuit, symbols, idx = vqe_handler.give_circuit(indexed_circuit)\n",
    "circuit = cirq.resolve_parameters(circuit,{s:0 for s in symbols} )\n",
    "tfq_circuit = tfq.convert_to_tensor([circuit])\n",
    "expectation = tfq.layers.Expectation()\n",
    "tfq_layer = expectation(tfq_circuit, operators=tfq.convert_to_tensor([vqe_handler.observable]))\n",
    "averaged_unitaries = tf.math.reduce_mean(tfq_layer, axis=0)\n",
    "energy = np.squeeze(tf.math.reduce_sum(averaged_unitaries, axis=-1))\n",
    "energy"
   ]
  },
  {
   "cell_type": "code",
   "execution_count": null,
   "metadata": {},
   "outputs": [],
   "source": []
  },
  {
   "cell_type": "code",
   "execution_count": null,
   "metadata": {},
   "outputs": [],
   "source": []
  },
  {
   "cell_type": "code",
   "execution_count": 20,
   "metadata": {},
   "outputs": [
    {
     "data": {
      "text/plain": [
       "array([7])"
      ]
     },
     "execution_count": 20,
     "metadata": {},
     "output_type": "execute_result"
    }
   ],
   "source": [
    "pp=0.1*np.arange(1,10)\n",
    "np.random.choice(range(9), 1, p=pp/np.sum(pp))"
   ]
  },
  {
   "cell_type": "code",
   "execution_count": 16,
   "metadata": {},
   "outputs": [],
   "source": []
  },
  {
   "cell_type": "code",
   "execution_count": 17,
   "metadata": {},
   "outputs": [
    {
     "data": {
      "text/plain": [
       "array([0.1, 0.2, 0.3, 0.4, 0.5, 0.6, 0.7, 0.8, 0.9])"
      ]
     },
     "execution_count": 17,
     "metadata": {},
     "output_type": "execute_result"
    }
   ],
   "source": [
    "probs"
   ]
  },
  {
   "cell_type": "code",
   "execution_count": null,
   "metadata": {},
   "outputs": [],
   "source": []
  }
 ],
 "metadata": {
  "kernelspec": {
   "display_name": "Python 3",
   "language": "python",
   "name": "python3"
  }
 },
 "nbformat": 4,
 "nbformat_minor": 4
}
