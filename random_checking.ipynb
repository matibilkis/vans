{
 "cells": [
  {
   "cell_type": "code",
   "execution_count": 46,
   "metadata": {},
   "outputs": [
    {
     "name": "stdout",
     "output_type": "stream",
     "text": [
      "The autoreload extension is already loaded. To reload it, use:\n",
      "  %reload_ext autoreload\n"
     ]
    }
   ],
   "source": [
    "%load_ext autoreload\n",
    "%autoreload 2\n",
    "import tensorflow_quantum as tfq\n",
    "from utilities.variational import VQE\n",
    "from utilities.qmodels import *\n",
    "from utilities.evaluator import Evaluator\n",
    "from utilities.idinserter import IdInserter\n",
    "from utilities.unitary_killer import UnitaryMurder\n",
    "from utilities.simplifier import Simplifier\n",
    "import cirq"
   ]
  },
  {
   "cell_type": "code",
   "execution_count": 47,
   "metadata": {},
   "outputs": [
    {
     "name": "stdout",
     "output_type": "stream",
     "text": [
      "tf.Tensor([0.8191006], shape=(1,), dtype=float32) tf.Tensor([-7.9002028], shape=(1,), dtype=float32)\n",
      "tf.Tensor([-7.9002028], shape=(1,), dtype=float32) tf.Tensor([-8.99995], shape=(1,), dtype=float32)\n"
     ]
    }
   ],
   "source": [
    "\n",
    "vqe_handler = VQE(n_qubits=4, problem_config={\"problem\":\"XXZ\",\"g\":1,\"J\":2})\n",
    "iid_inserter = IdInserter(n_qubits = vqe_handler.n_qubits, selector_temperature=40, epsilon=0.1)\n",
    "simplifier = Simplifier(n_qubits=vqe_handler.n_qubits)\n",
    "\n",
    "indexed_circuit = [vqe_handler.number_of_cnots + k for k in range(vqe_handler.n_qubits, 2*vqe_handler.n_qubits )]\n",
    "circuit, symbols, index_to_symbols = vqe_handler.give_circuit(indexed_circuit)\n",
    "energy, resolver, history = vqe_handler.vqe(indexed_circuit)\n",
    "\n",
    "Mindexed_circuit, Mresolver, Mindex_to_symbols = iid_inserter.place_identities(indexed_circuit,symbol_to_value=resolver,rate_iids_per_step=10)\n",
    "Mcircuit = vqe_handler.give_unitary(Mindexed_circuit, Mresolver)\n",
    "\n",
    "model = QNN(symbols=list(Mresolver.keys()), observable=vqe_handler.observable)\n",
    "print(model(circuit), model(Mcircuit))\n",
    "\n",
    "OMenergy, OMresolver, OMhistory = vqe_handler.vqe(Mindexed_circuit, symbols_to_values=Mresolver)\n",
    "OMcircuit = vqe_handler.give_unitary(Mindexed_circuit, OMresolver)\n",
    "\n",
    "print(model(Mcircuit), model(OMcircuit))\n",
    "\n",
    "\n",
    "simplifier = Simplifier(n_qubits=vqe_handler.n_qubits)\n",
    "Sindexed_circuit, Sresolver, Sindex_to_symbols = simplifier.reduce_circuit(Mindexed_circuit, OMresolver, Mindex_to_symbols)"
   ]
  },
  {
   "cell_type": "code",
   "execution_count": 48,
   "metadata": {},
   "outputs": [
    {
     "name": "stdout",
     "output_type": "stream",
     "text": [
      "tf.Tensor([-8.999951], shape=(1,), dtype=float32) tf.Tensor(-8.999948, shape=(), dtype=float32)\n"
     ]
    }
   ],
   "source": [
    "Scircuit = vqe_handler.give_unitary(Sindexed_circuit,Sresolver)\n",
    "print(model(Scircuit),OMenergy)"
   ]
  },
  {
   "cell_type": "code",
   "execution_count": 49,
   "metadata": {},
   "outputs": [
    {
     "data": {
      "text/html": [
       "<pre style=\"overflow: auto; white-space: pre;\">(0, 0): ───Rx(-0.023π)───X────────────Rz(-0.024π)───Rx(0.023π)──────────────X───\n",
       "                         │                                                  │\n",
       "(0, 1): ───Rx(π)─────────@────────────Rz(-0.026π)───Rx(0.167π)───Rz(0.5π)───@───\n",
       "\n",
       "(0, 2): ───Rx(0.002π)────Rz(0.051π)───Rx(-0.002π)───X───────────────────────────\n",
       "                                                    │\n",
       "(0, 3): ───Rx(0.167π)────Rz(-0.5π)──────────────────@────────────Rx(-π)─────────</pre>"
      ],
      "text/plain": [
       "(0, 0): ───Rx(-0.023π)───X────────────Rz(-0.024π)───Rx(0.023π)──────────────X───\n",
       "                         │                                                  │\n",
       "(0, 1): ───Rx(π)─────────@────────────Rz(-0.026π)───Rx(0.167π)───Rz(0.5π)───@───\n",
       "\n",
       "(0, 2): ───Rx(0.002π)────Rz(0.051π)───Rx(-0.002π)───X───────────────────────────\n",
       "                                                    │\n",
       "(0, 3): ───Rx(0.167π)────Rz(-0.5π)──────────────────@────────────Rx(-π)─────────"
      ]
     },
     "execution_count": 49,
     "metadata": {},
     "output_type": "execute_result"
    }
   ],
   "source": [
    "Scircuit"
   ]
  },
  {
   "cell_type": "code",
   "execution_count": 50,
   "metadata": {},
   "outputs": [
    {
     "data": {
      "text/html": [
       "<pre style=\"overflow: auto; white-space: pre;\">(0, 0): ───Rx(0.004π)───X───Rx(-0.027π)───Rz(-0.024π)───Rx(0.023π)────X────────────\n",
       "                        │                                             │\n",
       "(0, 1): ───Rx(π)────────@───Rz(-0.026π)───Rx(0.167π)────Rz(0.5π)──────@────────────\n",
       "\n",
       "(0, 2): ───Rx(0.017π)───X───Rx(-0.015π)───Rz(0.051π)────Rx(-0.002π)───X────────────\n",
       "                        │                                             │\n",
       "(0, 3): ────────────────@───Rz(-0.032π)───Rx(0.167π)────Rz(-0.5π)─────@───Rx(-π)───</pre>"
      ],
      "text/plain": [
       "(0, 0): ───Rx(0.004π)───X───Rx(-0.027π)───Rz(-0.024π)───Rx(0.023π)────X────────────\n",
       "                        │                                             │\n",
       "(0, 1): ───Rx(π)────────@───Rz(-0.026π)───Rx(0.167π)────Rz(0.5π)──────@────────────\n",
       "\n",
       "(0, 2): ───Rx(0.017π)───X───Rx(-0.015π)───Rz(0.051π)────Rx(-0.002π)───X────────────\n",
       "                        │                                             │\n",
       "(0, 3): ────────────────@───Rz(-0.032π)───Rx(0.167π)────Rz(-0.5π)─────@───Rx(-π)───"
      ]
     },
     "execution_count": 50,
     "metadata": {},
     "output_type": "execute_result"
    }
   ],
   "source": [
    "OMcircuit"
   ]
  },
  {
   "cell_type": "code",
   "execution_count": 45,
   "metadata": {},
   "outputs": [
    {
     "data": {
      "text/plain": [
       "1.051"
      ]
     },
     "execution_count": 45,
     "metadata": {},
     "output_type": "execute_result"
    }
   ],
   "source": [
    "0.592+0.459"
   ]
  },
  {
   "cell_type": "code",
   "execution_count": 41,
   "metadata": {},
   "outputs": [
    {
     "data": {
      "text/plain": [
       "726"
      ]
     },
     "execution_count": 41,
     "metadata": {},
     "output_type": "execute_result"
    }
   ],
   "source": [
    "len(Mindexed_circuit)"
   ]
  },
  {
   "cell_type": "code",
   "execution_count": null,
   "metadata": {},
   "outputs": [],
   "source": []
  }
 ],
 "metadata": {
  "kernelspec": {
   "display_name": "Python 3",
   "language": "python",
   "name": "python3"
  },
  "language_info": {
   "codemirror_mode": {
    "name": "ipython",
    "version": 3
   },
   "file_extension": ".py",
   "mimetype": "text/x-python",
   "name": "python",
   "nbconvert_exporter": "python",
   "pygments_lexer": "ipython3",
   "version": "3.6.9"
  }
 },
 "nbformat": 4,
 "nbformat_minor": 4
}
