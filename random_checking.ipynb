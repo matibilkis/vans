{
 "cells": [
  {
   "cell_type": "code",
   "execution_count": 138,
   "metadata": {},
   "outputs": [
    {
     "name": "stdout",
     "output_type": "stream",
     "text": [
      "The autoreload extension is already loaded. To reload it, use:\n",
      "  %reload_ext autoreload\n"
     ]
    }
   ],
   "source": [
    "%load_ext autoreload\n",
    "%autoreload 2\n",
    "import tensorflow_quantum as tfq\n",
    "from utilities.variational import VQE\n",
    "from utilities.qmodels import *\n",
    "from utilities.evaluator import Evaluator\n",
    "from utilities.idinserter import IdInserter\n",
    "from utilities.unitary_killer import UnitaryMurder\n",
    "from utilities.simplifier import Simplifier\n",
    "import cirq"
   ]
  },
  {
   "cell_type": "code",
   "execution_count": 143,
   "metadata": {},
   "outputs": [
    {
     "name": "stdout",
     "output_type": "stream",
     "text": [
      "tf.Tensor([-0.42301735], shape=(1,), dtype=float32) tf.Tensor([-3.7217255], shape=(1,), dtype=float32)\n",
      "8\n",
      "3\n",
      "7\n",
      "8\n",
      "3\n",
      "8\n",
      "7\n",
      "7\n",
      "5\n",
      "5\n",
      "6\n",
      "7\n",
      "8\n",
      "5\n",
      "8\n",
      "7\n",
      "8\n",
      "****\n",
      "6\n",
      "4\n",
      "7\n",
      "HORROR\n"
     ]
    }
   ],
   "source": [
    "\n",
    "vqe_handler = VQE(n_qubits=2, problem_config={\"problem\":\"XXZ\",\"g\":1,\"J\":2})\n",
    "iid_inserter = IdInserter(n_qubits = vqe_handler.n_qubits, selector_temperature=40, epsilon=0.1)\n",
    "simplifier = Simplifier(n_qubits=vqe_handler.n_qubits)\n",
    "\n",
    "indexed_circuit = [vqe_handler.number_of_cnots + k for k in range(vqe_handler.n_qubits, 2*vqe_handler.n_qubits )]\n",
    "circuit, symbols, index_to_symbols = vqe_handler.give_circuit(indexed_circuit)\n",
    "energy, resolver, history = vqe_handler.vqe(indexed_circuit)\n",
    "\n",
    "Mindexed_circuit, Mresolver, Mindex_to_symbols = iid_inserter.place_identities(indexed_circuit,symbol_to_value=resolver,rate_iids_per_step=4)\n",
    "Mcircuit = vqe_handler.give_unitary(Mindexed_circuit, Mresolver)\n",
    "\n",
    "model = QNN(symbols=list(Mresolver.keys()), observable=vqe_handler.observable)\n",
    "print(model(circuit), model(Mcircuit))\n",
    "\n",
    "OMenergy, OMresolver, OMhistory = vqe_handler.vqe(Mindexed_circuit, symbols_to_values=Mresolver)\n",
    "OMcircuit = vqe_handler.give_unitary(Mindexed_circuit, OMresolver)\n",
    "\n",
    "#print(model(Mcircuit), model(OMcircuit))\n",
    "\n",
    "\n",
    "simplifier = Simplifier(n_qubits=vqe_handler.n_qubits)\n",
    "Sindexed_circuit, Sresolver, Sindex_to_symbols = simplifier.simplify_step(Mindexed_circuit, OMresolver, Mindex_to_symbols)\n",
    "Scircuit = vqe_handler.give_unitary(Sindexed_circuit,Sresolver)\n",
    "indexeds=[]\n",
    "resolvers=[]\n",
    "pps=[]\n",
    "for it in range(10):\n",
    "    print(\"****\")\n",
    "    e1 = model(Scircuit)\n",
    "    indexeds.append(Sindexed_circuit)\n",
    "    resolvers.append(Sresolver)\n",
    "    pps.append(Sindex_to_symbols)\n",
    "    Sindexed_circuit, Sresolver, Sindex_to_symbols = simplifier.simplify_step(Sindexed_circuit, Sresolver, Sindex_to_symbols )\n",
    "    Scircuit = vqe_handler.give_unitary(Sindexed_circuit,Sresolver)\n",
    "    e2 = model(Scircuit)\n",
    "    if np.abs(e2-OMenergy) > 1e-5:\n",
    "        print(\"HORROR\")\n",
    "        break"
   ]
  },
  {
   "cell_type": "code",
   "execution_count": 182,
   "metadata": {},
   "outputs": [
    {
     "name": "stdout",
     "output_type": "stream",
     "text": [
      "7\n",
      "cnt_rule 7\n",
      "2\n",
      "cnt_rule 2\n",
      "6\n",
      "cnt_rule 6\n",
      "7\n",
      "cnt_rule 7\n",
      "2\n",
      "cnt_rule 2\n",
      "7\n",
      "cnt_rule 7\n",
      "6\n",
      "cnt_rule 6\n",
      "6\n",
      "cnt_rule 6\n",
      "4\n",
      "cnt_rule 4\n",
      "4\n",
      "cnt_rule 4\n",
      "5\n",
      "cnt_rule 5\n",
      "6\n",
      "cnt_rule 6\n",
      "7\n",
      "cnt_rule 7\n",
      "4\n",
      "cnt_rule 4\n",
      "7\n",
      "cnt_rule 7\n",
      "6\n",
      "cnt_rule 6\n",
      "7\n",
      "cnt_rule 7\n"
     ]
    }
   ],
   "source": [
    "simplifier.testing=True\n",
    "Sindexed_circuit, Sresolver, Sindex_to_symbols = simplifier.simplify_step(Mindexed_circuit, OMresolver, Mindex_to_symbols)"
   ]
  },
  {
   "cell_type": "code",
   "execution_count": 183,
   "metadata": {},
   "outputs": [
    {
     "data": {
      "text/plain": [
       "<tf.Tensor: shape=(1,), dtype=float32, numpy=array([-7.5485353], dtype=float32)>"
      ]
     },
     "execution_count": 183,
     "metadata": {},
     "output_type": "execute_result"
    }
   ],
   "source": [
    "model(vqe_handler.give_unitary(Sindexed_circuit, Sresolver))"
   ]
  },
  {
   "cell_type": "code",
   "execution_count": null,
   "metadata": {},
   "outputs": [],
   "source": []
  },
  {
   "cell_type": "code",
   "execution_count": 192,
   "metadata": {},
   "outputs": [
    {
     "name": "stdout",
     "output_type": "stream",
     "text": [
      "[4, 1, 1, 3, 3, 5, 3, 5, 3, 4, 2, 4, 1, 3, 1, 3, 5, 0, 2, 4, 2, 5, 3, 5, 0, 3, 4, 2, 0, 2, 4, 2, 5, 3, 5, 0, 4, 1, 1, 3, 5, 3, 4, 2, 4, 1, 5, 3, 4, 2, 4, 3, 1, 0, 2, 4, 2, 5, 3, 5, 0, 3, 0, 2, 4, 2, 5, 3, 5, 0, 5, 3, 4, 2, 4, 1, 5, 3, 1, 2, 4, 2, 0, 2, 4, 2, 5, 3, 2, 4, 2, 1, 3, 5, 3, 4, 2, 4, 1, 5, 0, 5]\n"
     ]
    }
   ],
   "source": [
    "print(Mindexed_circuit)"
   ]
  },
  {
   "cell_type": "code",
   "execution_count": null,
   "metadata": {},
   "outputs": [],
   "source": []
  },
  {
   "cell_type": "code",
   "execution_count": null,
   "metadata": {},
   "outputs": [],
   "source": []
  },
  {
   "cell_type": "code",
   "execution_count": null,
   "metadata": {},
   "outputs": [],
   "source": []
  },
  {
   "cell_type": "code",
   "execution_count": null,
   "metadata": {},
   "outputs": [],
   "source": []
  },
  {
   "cell_type": "code",
   "execution_count": null,
   "metadata": {},
   "outputs": [],
   "source": []
  },
  {
   "cell_type": "code",
   "execution_count": null,
   "metadata": {},
   "outputs": [],
   "source": []
  },
  {
   "cell_type": "code",
   "execution_count": 163,
   "metadata": {},
   "outputs": [
    {
     "data": {
      "text/plain": [
       "<tf.Tensor: shape=(), dtype=float32, numpy=-8.000006>"
      ]
     },
     "execution_count": 163,
     "metadata": {},
     "output_type": "execute_result"
    }
   ],
   "source": [
    "OMenergy"
   ]
  },
  {
   "cell_type": "code",
   "execution_count": 176,
   "metadata": {},
   "outputs": [],
   "source": [
    "for k in range(3):\n",
    "    if isinstance(k,int):\n",
    "        if k==1:\n",
    "            if 1+1 == 2:\n",
    "                if \"c\" != \"ac\":\n",
    "\n",
    "                    print(k)\n",
    "                    break\n",
    "        else:\n",
    "            break"
   ]
  },
  {
   "cell_type": "code",
   "execution_count": null,
   "metadata": {},
   "outputs": [],
   "source": []
  },
  {
   "cell_type": "code",
   "execution_count": null,
   "metadata": {},
   "outputs": [],
   "source": []
  },
  {
   "cell_type": "code",
   "execution_count": null,
   "metadata": {},
   "outputs": [],
   "source": []
  },
  {
   "cell_type": "code",
   "execution_count": 154,
   "metadata": {},
   "outputs": [
    {
     "data": {
      "text/plain": [
       "<tf.Tensor: shape=(1,), dtype=float32, numpy=array([-5.534333], dtype=float32)>"
      ]
     },
     "execution_count": 154,
     "metadata": {},
     "output_type": "execute_result"
    }
   ],
   "source": [
    "Scircuit = vqe_handler.give_unitary(Sindexed_circuit,Sresolver)\n",
    "e2 = model(Scircuit)\n",
    "e2"
   ]
  },
  {
   "cell_type": "code",
   "execution_count": 155,
   "metadata": {},
   "outputs": [
    {
     "data": {
      "text/html": [
       "<pre style=\"overflow: auto; white-space: pre;\">(0, 0): ───Rx(0.951π)────Rz(-0.037π)───Rx(0.025π)─────────────────X───────────────X────────────────@───Rz(0.029π)────Rx(0.045π)───Rz(0.002π)───@───Rx(0.026π)────Rz(-0.057π)───@───Rx(0.026π)───Rz(-0.022π)─────────────────@───Rx(-0.066π)───Rz(-0.007π)───Rx(0.005π)────X───Rz(-0.02π)───Rx(0.032π)───X───@───Rz(-0.023π)───Rx(0.069π)───Rz(-0.109π)───@────────────────@───Rx(0.047π)────Rz(0.003π)──────────────────@───Rx(-0.041π)───Rz(-0.043π)───Rx(0.013π)───X─────────────────────────────X───Rz(0.083π)───Rx(0.027π)───Rz(0.109π)───@───Rx(0.097π)───Rz(0.17π)─────Rx(0.097π)───Rz(0.136π)───X───Rx(0.082π)───Rz(-0.157π)───Rx(-0.021π)───X────────────────@───\n",
       "                                                                  │               │                │                                           │                               │                                            │                                             │                             │   │                                            │                │                                             │                                            │                             │                                          │                                                        │                                            │                │\n",
       "(0, 1): ───Rz(-0.064π)───Rz(1.01π)─────Rx(0.05π)────Rz(-0.986π)───@───Rz(0.02π)───@───Rx(-0.03π)───X───Rz(-0.052π)───Rx(0.055π)────────────────X───Rz(-0.024π)─────────────────X───Rx(0.019π)───Rz(-0.012π)───Rx(-0.041π)───X───Rz(-0.016π)───Rx(0.016π)────Rz(-0.002π)───@───Rx(0.017π)───Rz(0.058π)───@───X───Rx(0.004π)────Rz(0.101π)───Rx(0.034π)────X───Rz(0.044π)───X───Rx(-0.023π)───Rz(-0.003π)───Rx(-0.024π)───X───Rz(-0.03π)───────────────────────────────@───Rx(0.026π)───Rz(0.074π)───@──────────────────────────────────────────X───Rx(0.156π)───Rz(-0.048π)─────────────────────────────@───Rx(0.037π)───Rz(0.071π)──────────────────@───Rx(0.007π)───X───</pre>"
      ],
      "text/plain": [
       "(0, 0): ───Rx(0.951π)────Rz(-0.037π)───Rx(0.025π)─────────────────X───────────────X────────────────@───Rz(0.029π)────Rx(0.045π)───Rz(0.002π)───@───Rx(0.026π)────Rz(-0.057π)───@───Rx(0.026π)───Rz(-0.022π)─────────────────@───Rx(-0.066π)───Rz(-0.007π)───Rx(0.005π)────X───Rz(-0.02π)───Rx(0.032π)───X───@───Rz(-0.023π)───Rx(0.069π)───Rz(-0.109π)───@────────────────@───Rx(0.047π)────Rz(0.003π)──────────────────@───Rx(-0.041π)───Rz(-0.043π)───Rx(0.013π)───X─────────────────────────────X───Rz(0.083π)───Rx(0.027π)───Rz(0.109π)───@───Rx(0.097π)───Rz(0.17π)─────Rx(0.097π)───Rz(0.136π)───X───Rx(0.082π)───Rz(-0.157π)───Rx(-0.021π)───X────────────────@───\n",
       "                                                                  │               │                │                                           │                               │                                            │                                             │                             │   │                                            │                │                                             │                                            │                             │                                          │                                                        │                                            │                │\n",
       "(0, 1): ───Rz(-0.064π)───Rz(1.01π)─────Rx(0.05π)────Rz(-0.986π)───@───Rz(0.02π)───@───Rx(-0.03π)───X───Rz(-0.052π)───Rx(0.055π)────────────────X───Rz(-0.024π)─────────────────X───Rx(0.019π)───Rz(-0.012π)───Rx(-0.041π)───X───Rz(-0.016π)───Rx(0.016π)────Rz(-0.002π)───@───Rx(0.017π)───Rz(0.058π)───@───X───Rx(0.004π)────Rz(0.101π)───Rx(0.034π)────X───Rz(0.044π)───X───Rx(-0.023π)───Rz(-0.003π)───Rx(-0.024π)───X───Rz(-0.03π)───────────────────────────────@───Rx(0.026π)───Rz(0.074π)───@──────────────────────────────────────────X───Rx(0.156π)───Rz(-0.048π)─────────────────────────────@───Rx(0.037π)───Rz(0.071π)──────────────────@───Rx(0.007π)───X───"
      ]
     },
     "execution_count": 155,
     "metadata": {},
     "output_type": "execute_result"
    }
   ],
   "source": [
    "vqe_handler.give_unitary(indexeds[0], resolvers[0],)"
   ]
  },
  {
   "cell_type": "code",
   "execution_count": 156,
   "metadata": {},
   "outputs": [
    {
     "data": {
      "text/html": [
       "<pre style=\"overflow: auto; white-space: pre;\">(0, 0): ───Rx(0.951π)───Rz(-0.037π)───Rx(0.025π)────X───X────────────────@───Rz(0.029π)────Rx(0.045π)───Rz(0.002π)───@───Rx(0.026π)────Rz(-0.057π)───@───Rx(0.026π)───Rz(-0.022π)─────────────────@───Rx(-0.066π)───Rz(-0.007π)───Rx(0.005π)────X───Rz(-0.02π)───Rx(0.032π)───X───@───Rz(-0.023π)───Rx(0.069π)───Rz(-0.109π)───@────────────────@───Rx(0.047π)────Rz(0.003π)──────────────────@───Rx(-0.041π)───Rz(-0.043π)───Rx(0.013π)───X─────────────────────────────X───Rz(0.083π)───Rx(0.027π)───Rz(0.109π)───@───Rz(0.089π)───Rx(0.188π)────Rz(0.225π)───X───Rx(0.17π)────Rz(0.097π)───Rx(0.082π)───X────────────────@───\n",
       "                                                    │   │                │                                           │                               │                                            │                                             │                             │   │                                            │                │                                             │                                            │                             │                                          │                                           │                                          │                │\n",
       "(0, 1): ───Rz(1.01π)────Rx(0.05π)─────Rz(-0.967π)───@───@───Rx(-0.03π)───X───Rz(-0.052π)───Rx(0.055π)────────────────X───Rz(-0.024π)─────────────────X───Rx(0.019π)───Rz(-0.012π)───Rx(-0.041π)───X───Rz(-0.016π)───Rx(0.016π)────Rz(-0.002π)───@───Rx(0.017π)───Rz(0.058π)───@───X───Rx(0.004π)────Rz(0.101π)───Rx(0.034π)────X───Rz(0.044π)───X───Rx(-0.023π)───Rz(-0.003π)───Rx(-0.024π)───X───Rz(-0.03π)───────────────────────────────@───Rx(0.026π)───Rz(0.074π)───@──────────────────────────────────────────X───Rx(0.156π)───Rz(-0.048π)────────────────@───Rx(0.037π)───Rz(0.071π)────────────────@───Rx(0.007π)───X───</pre>"
      ],
      "text/plain": [
       "(0, 0): ───Rx(0.951π)───Rz(-0.037π)───Rx(0.025π)────X───X────────────────@───Rz(0.029π)────Rx(0.045π)───Rz(0.002π)───@───Rx(0.026π)────Rz(-0.057π)───@───Rx(0.026π)───Rz(-0.022π)─────────────────@───Rx(-0.066π)───Rz(-0.007π)───Rx(0.005π)────X───Rz(-0.02π)───Rx(0.032π)───X───@───Rz(-0.023π)───Rx(0.069π)───Rz(-0.109π)───@────────────────@───Rx(0.047π)────Rz(0.003π)──────────────────@───Rx(-0.041π)───Rz(-0.043π)───Rx(0.013π)───X─────────────────────────────X───Rz(0.083π)───Rx(0.027π)───Rz(0.109π)───@───Rz(0.089π)───Rx(0.188π)────Rz(0.225π)───X───Rx(0.17π)────Rz(0.097π)───Rx(0.082π)───X────────────────@───\n",
       "                                                    │   │                │                                           │                               │                                            │                                             │                             │   │                                            │                │                                             │                                            │                             │                                          │                                           │                                          │                │\n",
       "(0, 1): ───Rz(1.01π)────Rx(0.05π)─────Rz(-0.967π)───@───@───Rx(-0.03π)───X───Rz(-0.052π)───Rx(0.055π)────────────────X───Rz(-0.024π)─────────────────X───Rx(0.019π)───Rz(-0.012π)───Rx(-0.041π)───X───Rz(-0.016π)───Rx(0.016π)────Rz(-0.002π)───@───Rx(0.017π)───Rz(0.058π)───@───X───Rx(0.004π)────Rz(0.101π)───Rx(0.034π)────X───Rz(0.044π)───X───Rx(-0.023π)───Rz(-0.003π)───Rx(-0.024π)───X───Rz(-0.03π)───────────────────────────────@───Rx(0.026π)───Rz(0.074π)───@──────────────────────────────────────────X───Rx(0.156π)───Rz(-0.048π)────────────────@───Rx(0.037π)───Rz(0.071π)────────────────@───Rx(0.007π)───X───"
      ]
     },
     "execution_count": 156,
     "metadata": {},
     "output_type": "execute_result"
    }
   ],
   "source": [
    "Scircuit"
   ]
  },
  {
   "cell_type": "code",
   "execution_count": 157,
   "metadata": {},
   "outputs": [
    {
     "data": {
      "text/plain": [
       "<tf.Tensor: shape=(1,), dtype=float32, numpy=array([-5.534333], dtype=float32)>"
      ]
     },
     "execution_count": 157,
     "metadata": {},
     "output_type": "execute_result"
    }
   ],
   "source": [
    "model(Scircuit)"
   ]
  },
  {
   "cell_type": "code",
   "execution_count": null,
   "metadata": {},
   "outputs": [],
   "source": []
  },
  {
   "cell_type": "code",
   "execution_count": null,
   "metadata": {},
   "outputs": [],
   "source": []
  },
  {
   "cell_type": "code",
   "execution_count": null,
   "metadata": {},
   "outputs": [],
   "source": []
  },
  {
   "cell_type": "code",
   "execution_count": 150,
   "metadata": {},
   "outputs": [
    {
     "data": {
      "text/html": [
       "<pre style=\"overflow: auto; white-space: pre;\">(0, 0): ───Rx(0.991π)───X───X───Rx(-0.041π)───Rz(-0.037π)───Rx(0.025π)─────────────────────────────────────────X─────────────────X─────────────────────────────@───Rz(0.029π)───Rx(0.045π)────Rz(0.002π)───@───Rx(0.026π)────Rz(0.003π)───@───Rz(-0.06π)────Rx(0.026π)────Rz(-0.022π)───@───Rx(-0.033π)───X───X───Rx(-0.033π)───Rz(-0.007π)───Rx(0.034π)───X───Rx(-0.03π)───Rz(-0.02π)───Rx(0.032π)───X───@───Rz(-0.023π)───Rx(0.069π)───Rz(-0.055π)───@─────────────────@───Rz(-0.055π)───Rx(0.047π)───Rz(0.003π)───@───Rx(-0.041π)───Rz(-0.043π)───Rx(0.013π)───X──────────────────────────────X───Rz(0.083π)───Rx(0.027π)───Rz(0.023π)───@───Rz(0.086π)───Rx(0.097π)───Rz(0.053π)───Rz(0.117π)───Rx(0.097π)───Rz(0.136π)───X───Rx(0.082π)───Rz(-0.157π)───Rx(-0.021π)───X─────────────────@─────────────────\n",
       "                        │   │                                                                                  │                 │                             │                                           │                              │                                             │                 │   │                                            │                                          │   │                                            │                 │                                           │                                            │                              │                                          │                                                                                 │                                            │                 │\n",
       "(0, 1): ────────────────@───@───Rz(-0.032π)───Rz(-0.032π)───Rx(-0.02π)───Rz(0.02π)───Rx(-0.03π)───Rz(0.006π)───@───Rz(-0.058π)───@───Rz(0.006π)───Rx(0.028π)───X───Rx(0.028π)───Rz(-0.024π)───Rx(0.019π)───X───Rz(-0.012π)────────────────X───Rx(-0.041π)───Rz(-0.016π)───Rx(0.016π)────X─────────────────@───@───Rz(-0.002π)───Rx(0.017π)────Rz(0.058π)───@───Rx(0.004π)───Rz(0.082π)───Rz(0.019π)───@───X───Rx(0.034π)────Rz(0.044π)───Rx(-0.023π)───X───Rz(-0.003π)───X───Rx(-0.024π)───Rz(-0.03π)───Rx(0.045π)───X───Rx(-0.019π)───Rz(0.074π)─────────────────@───Rx(0.156π)───Rz(-0.048π)───@──────────────────────────────────────────X───Rx(0.037π)───Rz(0.036π)───────────────────────────────────────────────────────@───Rz(0.036π)───Rx(0.007π)────Rz(-0.023π)───@───Rx(-0.043π)───X───Rx(-0.011π)───</pre>"
      ],
      "text/plain": [
       "(0, 0): ───Rx(0.991π)───X───X───Rx(-0.041π)───Rz(-0.037π)───Rx(0.025π)─────────────────────────────────────────X─────────────────X─────────────────────────────@───Rz(0.029π)───Rx(0.045π)────Rz(0.002π)───@───Rx(0.026π)────Rz(0.003π)───@───Rz(-0.06π)────Rx(0.026π)────Rz(-0.022π)───@───Rx(-0.033π)───X───X───Rx(-0.033π)───Rz(-0.007π)───Rx(0.034π)───X───Rx(-0.03π)───Rz(-0.02π)───Rx(0.032π)───X───@───Rz(-0.023π)───Rx(0.069π)───Rz(-0.055π)───@─────────────────@───Rz(-0.055π)───Rx(0.047π)───Rz(0.003π)───@───Rx(-0.041π)───Rz(-0.043π)───Rx(0.013π)───X──────────────────────────────X───Rz(0.083π)───Rx(0.027π)───Rz(0.023π)───@───Rz(0.086π)───Rx(0.097π)───Rz(0.053π)───Rz(0.117π)───Rx(0.097π)───Rz(0.136π)───X───Rx(0.082π)───Rz(-0.157π)───Rx(-0.021π)───X─────────────────@─────────────────\n",
       "                        │   │                                                                                  │                 │                             │                                           │                              │                                             │                 │   │                                            │                                          │   │                                            │                 │                                           │                                            │                              │                                          │                                                                                 │                                            │                 │\n",
       "(0, 1): ────────────────@───@───Rz(-0.032π)───Rz(-0.032π)───Rx(-0.02π)───Rz(0.02π)───Rx(-0.03π)───Rz(0.006π)───@───Rz(-0.058π)───@───Rz(0.006π)───Rx(0.028π)───X───Rx(0.028π)───Rz(-0.024π)───Rx(0.019π)───X───Rz(-0.012π)────────────────X───Rx(-0.041π)───Rz(-0.016π)───Rx(0.016π)────X─────────────────@───@───Rz(-0.002π)───Rx(0.017π)────Rz(0.058π)───@───Rx(0.004π)───Rz(0.082π)───Rz(0.019π)───@───X───Rx(0.034π)────Rz(0.044π)───Rx(-0.023π)───X───Rz(-0.003π)───X───Rx(-0.024π)───Rz(-0.03π)───Rx(0.045π)───X───Rx(-0.019π)───Rz(0.074π)─────────────────@───Rx(0.156π)───Rz(-0.048π)───@──────────────────────────────────────────X───Rx(0.037π)───Rz(0.036π)───────────────────────────────────────────────────────@───Rz(0.036π)───Rx(0.007π)────Rz(-0.023π)───@───Rx(-0.043π)───X───Rx(-0.011π)───"
      ]
     },
     "execution_count": 150,
     "metadata": {},
     "output_type": "execute_result"
    }
   ],
   "source": [
    "OMcircuit"
   ]
  },
  {
   "cell_type": "code",
   "execution_count": 119,
   "metadata": {},
   "outputs": [
    {
     "data": {
      "text/html": [
       "<pre style=\"overflow: auto; white-space: pre;\">(0, 0): ───Rx(-1.03π)───Rz(1.25π)─────Rx(1.36π)───X────────────────X───Rz(1.1π)─────Rx(0.041π)───Rz(1.64π)────@───Rx(-0.042π)───Rz(1.73π)───@───Rx(-0.909π)───Rz(-1.25π)───Rx(-0.01π)───X───Rz(-0.905π)───Rx(-1.28π)───\n",
       "                                                  │                │                                          │                             │                                           │\n",
       "(0, 1): ───Rx(0.677π)───Rz(-0.455π)───────────────@───Rx(-0.58π)───@───Rz(0.428π)───Rx(-1.99π)───Rz(0.796π)───X───Rz(0.156π)────Rx(1.21π)───X───Rz(-0.45π)──────────────────────────────@───Rx(-0.583π)────────────────</pre>"
      ],
      "text/plain": [
       "(0, 0): ───Rx(-1.03π)───Rz(1.25π)─────Rx(1.36π)───X────────────────X───Rz(1.1π)─────Rx(0.041π)───Rz(1.64π)────@───Rx(-0.042π)───Rz(1.73π)───@───Rx(-0.909π)───Rz(-1.25π)───Rx(-0.01π)───X───Rz(-0.905π)───Rx(-1.28π)───\n",
       "                                                  │                │                                          │                             │                                           │\n",
       "(0, 1): ───Rx(0.677π)───Rz(-0.455π)───────────────@───Rx(-0.58π)───@───Rz(0.428π)───Rx(-1.99π)───Rz(0.796π)───X───Rz(0.156π)────Rx(1.21π)───X───Rz(-0.45π)──────────────────────────────@───Rx(-0.583π)────────────────"
      ]
     },
     "execution_count": 119,
     "metadata": {},
     "output_type": "execute_result"
    }
   ],
   "source": [
    "Scircuit"
   ]
  },
  {
   "cell_type": "code",
   "execution_count": null,
   "metadata": {},
   "outputs": [],
   "source": []
  }
 ],
 "metadata": {
  "kernelspec": {
   "display_name": "Python 3",
   "language": "python",
   "name": "python3"
  },
  "language_info": {
   "codemirror_mode": {
    "name": "ipython",
    "version": 3
   },
   "file_extension": ".py",
   "mimetype": "text/x-python",
   "name": "python",
   "nbconvert_exporter": "python",
   "pygments_lexer": "ipython3",
   "version": "3.6.9"
  }
 },
 "nbformat": 4,
 "nbformat_minor": 4
}
