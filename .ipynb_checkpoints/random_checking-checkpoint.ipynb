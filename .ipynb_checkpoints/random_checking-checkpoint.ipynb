{
 "cells": [
  {
   "cell_type": "code",
   "execution_count": 15,
   "metadata": {},
   "outputs": [
    {
     "name": "stdout",
     "output_type": "stream",
     "text": [
      "The autoreload extension is already loaded. To reload it, use:\n",
      "  %reload_ext autoreload\n"
     ]
    }
   ],
   "source": [
    "%load_ext autoreload\n",
    "%autoreload 2\n",
    "import tensorflow_quantum as tfq\n",
    "from utilities.variational import VQE\n",
    "from utilities.qmodels import *\n",
    "from utilities.evaluator import Evaluator\n",
    "from utilities.idinserter import IdInserter\n",
    "from utilities.unitary_killer import UnitaryMurder\n",
    "from utilities.simplifier import Simplifier\n",
    "import cirq"
   ]
  },
  {
   "cell_type": "code",
   "execution_count": 28,
   "metadata": {},
   "outputs": [],
   "source": [
    "vqe_handler = VQE(n_qubits=2, problem_config={\"problem\":\"XXZ\",\"g\":1,\"J\":2})\n",
    "iid_inserter = IdInserter(n_qubits = vqe_handler.n_qubits, selector_temperature=0, epsilon=0.1)\n",
    "simplifier = Simplifier(n_qubits=vqe_handler.n_qubits)"
   ]
  },
  {
   "cell_type": "code",
   "execution_count": 29,
   "metadata": {},
   "outputs": [],
   "source": [
    "indexed_circuit = [vqe_handler.number_of_cnots + k for k in range(vqe_handler.n_qubits, 2*vqe_handler.n_qubits )]\n",
    "circuit, symbols, index_to_symbols = vqe_handler.give_circuit(indexed_circuit)\n",
    "energy, resolver, history = vqe_handler.vqe(indexed_circuit)"
   ]
  },
  {
   "cell_type": "code",
   "execution_count": 30,
   "metadata": {},
   "outputs": [],
   "source": [
    "Mindexed_circuit, Mresolver, Mindex_to_symbols = iid_inserter.place_identities(indexed_circuit,symbol_to_value=resolver)\n",
    "Mcircuit = vqe_handler.give_unitary(Mindexed_circuit, Mresolver)"
   ]
  },
  {
   "cell_type": "code",
   "execution_count": 31,
   "metadata": {},
   "outputs": [
    {
     "name": "stdout",
     "output_type": "stream",
     "text": [
      "tf.Tensor([2.522305], shape=(1,), dtype=float32) tf.Tensor([-3.9750285], shape=(1,), dtype=float32)\n"
     ]
    }
   ],
   "source": [
    "model = QNN(symbols=list(Mresolver.keys()), observable=vqe_handler.observable)\n",
    "print(model(circuit), model(Mcircuit))"
   ]
  },
  {
   "cell_type": "code",
   "execution_count": 32,
   "metadata": {},
   "outputs": [],
   "source": [
    "OMenergy, OMresolver, OMhistory = vqe_handler.vqe(Mindexed_circuit, symbols_to_values=Mresolver)\n",
    "OMcircuit = vqe_handler.give_unitary(Mindexed_circuit, OMresolver)"
   ]
  },
  {
   "cell_type": "code",
   "execution_count": 33,
   "metadata": {},
   "outputs": [
    {
     "name": "stdout",
     "output_type": "stream",
     "text": [
      "tf.Tensor([-3.9750285], shape=(1,), dtype=float32) tf.Tensor([-3.999978], shape=(1,), dtype=float32)\n"
     ]
    }
   ],
   "source": [
    "print(model(Mcircuit), model(OMcircuit))"
   ]
  },
  {
   "cell_type": "code",
   "execution_count": 34,
   "metadata": {},
   "outputs": [
    {
     "name": "stdout",
     "output_type": "stream",
     "text": [
      "connections\n",
      "{'0': ['rx'], '1': ['rz', 'rx', 'rz', 'rx']}\n",
      "\n",
      "\n",
      "places_gates:\n",
      "{'0': [0], '1': [1, 2, 3, 4]}\n",
      "\n",
      "\n",
      "******\n",
      "{'th_0': -18.849665}\n",
      "[4, 3, 5, 3, 5]\n",
      "{'0': ['th_0'], '1': []}\n",
      "******\n",
      "{'th_0': -18.849665, 'th_1': 0.034886662, 'th_2': -0.08674769, 'th_3': -15.742888}\n",
      "[4, -1, 5, 3, 5]\n",
      "{'0': ['th_0'], '1': ['th_1', 'th_2', 'th_3']}\n",
      "connections\n",
      "{'0': ['rx'], '1': ['rx', 'rz', 'rx']}\n",
      "\n",
      "\n",
      "places_gates:\n",
      "{'0': [0], '1': [1, 2, 3]}\n",
      "\n",
      "\n",
      "******\n",
      "{'th_0': -18.849665}\n",
      "[4, 5, 3, 5]\n",
      "{'0': ['th_0'], '1': []}\n",
      "******\n",
      "{'th_0': -18.849665, 'th_1': 0.034886662, 'th_2': -0.08674769, 'th_3': -15.742888}\n",
      "[4, 5, 3, 5]\n",
      "{'0': ['th_0'], '1': ['th_1', 'th_2', 'th_3']}\n",
      "connections\n",
      "{'0': ['rx'], '1': ['rx', 'rz', 'rx']}\n",
      "\n",
      "\n",
      "places_gates:\n",
      "{'0': [0], '1': [1, 2, 3]}\n",
      "\n",
      "\n",
      "******\n",
      "{'th_0': -18.849665}\n",
      "[4, 5, 3, 5]\n",
      "{'0': ['th_0'], '1': []}\n",
      "******\n",
      "{'th_0': -18.849665, 'th_1': 0.034886662, 'th_2': -0.08674769, 'th_3': -15.742888}\n",
      "[4, 5, 3, 5]\n",
      "{'0': ['th_0'], '1': ['th_1', 'th_2', 'th_3']}\n",
      "connections\n",
      "{'0': ['rx'], '1': ['rx', 'rz', 'rx']}\n",
      "\n",
      "\n",
      "places_gates:\n",
      "{'0': [0], '1': [1, 2, 3]}\n",
      "\n",
      "\n",
      "******\n",
      "{'th_0': -18.849665}\n",
      "[4, 5, 3, 5]\n",
      "{'0': ['th_0'], '1': []}\n",
      "******\n",
      "{'th_0': -18.849665, 'th_1': 0.034886662, 'th_2': -0.08674769, 'th_3': -15.742888}\n",
      "[4, 5, 3, 5]\n",
      "{'0': ['th_0'], '1': ['th_1', 'th_2', 'th_3']}\n",
      "connections\n",
      "{'0': ['rx'], '1': ['rx', 'rz', 'rx']}\n",
      "\n",
      "\n",
      "places_gates:\n",
      "{'0': [0], '1': [1, 2, 3]}\n",
      "\n",
      "\n",
      "******\n",
      "{'th_0': -18.849665}\n",
      "[4, 5, 3, 5]\n",
      "{'0': ['th_0'], '1': []}\n",
      "******\n",
      "{'th_0': -18.849665, 'th_1': 0.034886662, 'th_2': -0.08674769, 'th_3': -15.742888}\n",
      "[4, 5, 3, 5]\n",
      "{'0': ['th_0'], '1': ['th_1', 'th_2', 'th_3']}\n"
     ]
    }
   ],
   "source": [
    "simplifier = Simplifier(n_qubits=vqe_handler.n_qubits)\n",
    "Sindexed_circuit, Sresolver, Sindex_to_symbols = simplifier.reduce_circuit(Mindexed_circuit, OMresolver, Mindex_to_symbols)"
   ]
  },
  {
   "cell_type": "code",
   "execution_count": 35,
   "metadata": {},
   "outputs": [
    {
     "name": "stdout",
     "output_type": "stream",
     "text": [
      "tf.Tensor([-3.9999774], shape=(1,), dtype=float32) tf.Tensor(-3.9999776, shape=(), dtype=float32)\n"
     ]
    }
   ],
   "source": [
    "Scircuit = vqe_handler.give_unitary(Sindexed_circuit,Sresolver)\n",
    "print(model(Scircuit),OMenergy)"
   ]
  },
  {
   "cell_type": "code",
   "execution_count": 36,
   "metadata": {},
   "outputs": [
    {
     "data": {
      "text/html": [
       "<pre style=\"overflow: auto; white-space: pre;\">(0, 0): ───Rx(2π)──────────────────────────────────\n",
       "\n",
       "(0, 1): ───Rx(0.011π)───Rz(-0.028π)───Rx(-1.01π)───</pre>"
      ],
      "text/plain": [
       "(0, 0): ───Rx(2π)──────────────────────────────────\n",
       "\n",
       "(0, 1): ───Rx(0.011π)───Rz(-0.028π)───Rx(-1.01π)───"
      ]
     },
     "execution_count": 36,
     "metadata": {},
     "output_type": "execute_result"
    }
   ],
   "source": [
    "Scircuit"
   ]
  },
  {
   "cell_type": "code",
   "execution_count": 37,
   "metadata": {},
   "outputs": [
    {
     "data": {
      "text/html": [
       "<pre style=\"overflow: auto; white-space: pre;\">(0, 0): ───Rx(2π)────────────────────────────────────────────────\n",
       "\n",
       "(0, 1): ───Rz(-0.032π)───Rx(0.011π)───Rz(-0.028π)───Rx(-1.01π)───</pre>"
      ],
      "text/plain": [
       "(0, 0): ───Rx(2π)────────────────────────────────────────────────\n",
       "\n",
       "(0, 1): ───Rz(-0.032π)───Rx(0.011π)───Rz(-0.028π)───Rx(-1.01π)───"
      ]
     },
     "execution_count": 37,
     "metadata": {},
     "output_type": "execute_result"
    }
   ],
   "source": [
    "OMcircuit"
   ]
  },
  {
   "cell_type": "code",
   "execution_count": null,
   "metadata": {},
   "outputs": [],
   "source": []
  }
 ],
 "metadata": {
  "kernelspec": {
   "display_name": "Python 3",
   "language": "python",
   "name": "python3"
  },
  "language_info": {
   "codemirror_mode": {
    "name": "ipython",
    "version": 3
   },
   "file_extension": ".py",
   "mimetype": "text/x-python",
   "name": "python",
   "nbconvert_exporter": "python",
   "pygments_lexer": "ipython3",
   "version": "3.6.9"
  }
 },
 "nbformat": 4,
 "nbformat_minor": 4
}
