{
 "cells": [
  {
   "cell_type": "code",
   "execution_count": null,
   "metadata": {},
   "outputs": [
    {
     "name": "stdout",
     "output_type": "stream",
     "text": [
      "The autoreload extension is already loaded. To reload it, use:\n",
      "  %reload_ext autoreload\n"
     ]
    },
    {
     "name": "stderr",
     "output_type": "stream",
     "text": [
      "36it [1:06:53, 116.30s/it]"
     ]
    }
   ],
   "source": [
    "import os \n",
    "import numpy as np\n",
    "import sympy\n",
    "import cirq\n",
    "import tensorflow_quantum as tfq\n",
    "from tqdm import tqdm\n",
    "import tensorflow as tf\n",
    "from tqdm import tqdm\n",
    "import matplotlib.pyplot as plt\n",
    "import pickle\n",
    "\n",
    "from utilities.variational import VQE\n",
    "from utilities.circuit_basics import Evaluator\n",
    "from utilities.idinserter import IdInserter\n",
    "from utilities.simplifier import Simplifier\n",
    "from utilities.unitary_killer import UnitaryMurder\n",
    "\n",
    "%load_ext autoreload\n",
    "%autoreload 2\n",
    "\n",
    "\n",
    "n_qubits = 4\n",
    "qlr = 0.01\n",
    "qepochs = 10**3\n",
    "verbose=0\n",
    "g=1\n",
    "J=0\n",
    "noise=0.0\n",
    "problem=\"TFIM\"\n",
    "\n",
    "\n",
    "vqe_handler = VQE(n_qubits=n_qubits, lr=qlr, epochs=qepochs, patience=100,\n",
    "              random_perturbations=True, verbose=verbose, g=g, J = J, \n",
    "              problem=problem, noise_model=None)\n",
    "indexed_circuit = [vqe_handler.n_qubits+k+vqe_handler.number_of_cnots for k in range(vqe_handler.n_qubits)]\n",
    "circuit, symbols, idx = vqe_handler.give_circuit(indexed_circuit)\n",
    "clean_energy = vqe_handler.vqe(indexed_circuit)\n",
    "\n",
    "\n",
    "ps=[]\n",
    "for k in range(1,8)[::-1]:\n",
    "    ps = np.append(ps, np.linspace(10**(-k), 10**(-k+1),10))\n",
    "    noisy_energy=[]\n",
    "    \n",
    "\n",
    "els={}\n",
    "for ind,p in tqdm(enumerate(ps)):\n",
    "    vqe_handler = VQE(n_qubits=n_qubits, lr=qlr, epochs=10**3, patience=100,\n",
    "                          random_perturbations=True, verbose=0, g=g, J = J, \n",
    "                          problem=problem, noise_model={ \"channel\":\"depolarizing\", \"channel_params\":[p], \"q_batch_size\":10**3})\n",
    "    noisy_energy, noisy_symbols, nh = vqe_handler.vqe(indexed_circuit)\n",
    "    els[str(ind)] = [noisy_energy, noisy_symbols, nh.history[\"loss\"]]\n",
    "    \n",
    "\n",
    "with open(\"els1000.pkl\",\"wb\") as p:\n",
    "    pickle.dump(els,p,pickle.HIGHEST_PROTOCOL)\n",
    "    \n",
    "#with open(\"ens.pkl\",\"rb\") as f:\n",
    "    #g = pickle.load(f)"
   ]
  },
  {
   "cell_type": "code",
   "execution_count": 47,
   "metadata": {},
   "outputs": [
    {
     "data": {
      "text/plain": [
       "[]"
      ]
     },
     "execution_count": 47,
     "metadata": {},
     "output_type": "execute_result"
    }
   ],
   "source": [
    "gpus=tf.config.list_physical_devices(\"GPU\")\n",
    "if len(gpus)>0:\n",
    "    with tf.device(gpus[0]):"
   ]
  },
  {
   "cell_type": "code",
   "execution_count": 44,
   "metadata": {},
   "outputs": [
    {
     "name": "stdout",
     "output_type": "stream",
     "text": [
      "WARNING:tensorflow:From <ipython-input-44-17bb7203622b>:1: is_gpu_available (from tensorflow.python.framework.test_util) is deprecated and will be removed in a future version.\n",
      "Instructions for updating:\n",
      "Use `tf.config.list_physical_devices('GPU')` instead.\n"
     ]
    },
    {
     "data": {
      "text/plain": [
       "False"
      ]
     },
     "execution_count": 44,
     "metadata": {},
     "output_type": "execute_result"
    }
   ],
   "source": [
    "tf.test.is_gpu_available()"
   ]
  },
  {
   "cell_type": "code",
   "execution_count": 49,
   "metadata": {},
   "outputs": [
    {
     "name": "stdout",
     "output_type": "stream",
     "text": [
      "1.08 µs ± 14.2 ns per loop (mean ± std. dev. of 7 runs, 1000000 loops each)\n"
     ]
    }
   ],
   "source": [
    "%timeit tf.config.list_physical_devices(\"GPU\")"
   ]
  },
  {
   "cell_type": "code",
   "execution_count": 38,
   "metadata": {},
   "outputs": [],
   "source": [
    "noisy_energy=[]\n",
    "tosa={}\n",
    "for key,val in els.items():\n",
    "    tosa[key] =[val[0], val[1], val[2].history[\"loss\"]]\n",
    "    #plt.plot(val[-1].history[\"loss\"])\n",
    "    #noisy_energy.append(val[0])"
   ]
  },
  {
   "cell_type": "code",
   "execution_count": 29,
   "metadata": {},
   "outputs": [
    {
     "data": {
      "text/plain": [
       "array(-3.9999998, dtype=float32)"
      ]
     },
     "execution_count": 29,
     "metadata": {},
     "output_type": "execute_result"
    }
   ],
   "source": [
    "clean_energy[0]"
   ]
  },
  {
   "cell_type": "code",
   "execution_count": 30,
   "metadata": {},
   "outputs": [
    {
     "data": {
      "text/plain": [
       "[<matplotlib.lines.Line2D at 0x7fe5158fb860>]"
      ]
     },
     "execution_count": 30,
     "metadata": {},
     "output_type": "execute_result"
    },
    {
     "data": {
      "image/png": "[encoded data removed]",
      "text/plain": [
       "<Figure size 432x288 with 1 Axes>"
      ]
     },
     "metadata": {
      "needs_background": "light"
     },
     "output_type": "display_data"
    }
   ],
   "source": [
    "plt.plot(np.log10(ps),[clean_energy[0]]*len(noisy_energy), '--', linewidth=3, color=\"black\")\n",
    "plt.plot(np.log10(ps),noisy_energy, '.', color=\"blue\", alpha=0.7)"
   ]
  },
  {
   "cell_type": "code",
   "execution_count": null,
   "metadata": {},
   "outputs": [],
   "source": []
  }
 ],
 "metadata": {
  "kernelspec": {
   "display_name": "Python 3",
   "language": "python",
   "name": "python3"
  },
  "language_info": {
   "codemirror_mode": {
    "name": "ipython",
    "version": 3
   },
   "file_extension": ".py",
   "mimetype": "text/x-python",
   "name": "python",
   "nbconvert_exporter": "python",
   "pygments_lexer": "ipython3",
   "version": "3.6.9"
  }
 },
 "nbformat": 4,
 "nbformat_minor": 4
}
