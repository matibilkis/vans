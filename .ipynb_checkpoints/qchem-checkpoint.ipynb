{
 "cells": [
  {
   "cell_type": "code",
   "execution_count": 22,
   "metadata": {},
   "outputs": [],
   "source": [
    "import numpy as np\n",
    "from scipy.sparse import linalg\n",
    "import cirq\n",
    "import openfermion as of\n",
    "import openfermionpyscf as ofpyscf\n",
    "from tqdm import tqdm\n",
    "import matplotlib.pyplot as plt\n",
    "\n",
    "from openfermion.chem import MolecularData\n",
    "from openfermionpyscf import run_pyscf\n",
    "\n",
    "run_scf = 1\n",
    "run_mp2 = 1\n",
    "run_cisd = 0\n",
    "run_ccsd = 0\n",
    "run_fci = 1\n"
   ]
  },
  {
   "cell_type": "code",
   "execution_count": 23,
   "metadata": {},
   "outputs": [
    {
     "name": "stderr",
     "output_type": "stream",
     "text": [
      "100%|██████████| 20/20 [00:08<00:00,  2.37it/s]\n"
     ]
    }
   ],
   "source": [
    "ener= []\n",
    "hfs=[]\n",
    "fcis=[]\n",
    "bonds = np.linspace(0.5,2.3,20)\n",
    "for bd in tqdm(bonds):\n",
    "\n",
    "    bond_length=bd\n",
    "    geometry = [('H', (0., 0., 0.)), ('H', (0., 0., bond_length))]\n",
    "    hamiltonian = ofpyscf.generate_molecular_hamiltonian(geometry, basis=\"sto-3g\", multiplicity=1, charge=0)\n",
    "    qham = of.jordan_wigner(hamiltonian)\n",
    "    mani=of.get_sparse_operator(qham)\n",
    "    manim=mani.toarray()\n",
    "    ener.append(np.min(np.linalg.eigvals(manim)))\n",
    "    \n",
    "    molecule = MolecularData(\n",
    "        geometry, basis=\"sto-3g\", multiplicity=1,\n",
    "        description=str(round(bd, 2)))\n",
    "    \n",
    "    molecule = run_pyscf(molecule,\n",
    "                     run_scf=run_scf,\n",
    "                     run_mp2=run_mp2,\n",
    "                     run_cisd=run_cisd,\n",
    "                     run_ccsd=run_ccsd,\n",
    "                     run_fci=run_fci)\n",
    "\n",
    "    hfs.append(molecule.hf_energy)\n",
    "    fcis.append(molecule.fci_energy)"
   ]
  },
  {
   "cell_type": "markdown",
   "metadata": {},
   "source": [
    "Check that FCI is the lowest eigenvalue..."
   ]
  },
  {
   "cell_type": "code",
   "execution_count": 21,
   "metadata": {},
   "outputs": [
    {
     "data": {
      "text/plain": [
       "array([-2.22044605e-15+0.j, -2.22044605e-16+0.j,  4.44089210e-16+0.j,\n",
       "       -1.77635684e-15+0.j, -1.33226763e-15+0.j, -4.44089210e-16+0.j,\n",
       "       -2.22044605e-16+0.j, -4.44089210e-16+0.j,  2.22044605e-16+0.j,\n",
       "       -6.66133815e-16+0.j,  4.44089210e-16+0.j,  2.22044605e-16+0.j,\n",
       "        8.88178420e-16+0.j, -6.66133815e-16+0.j, -4.44089210e-16+0.j,\n",
       "        2.22044605e-16+0.j, -1.33226763e-15+0.j,  0.00000000e+00+0.j,\n",
       "        4.44089210e-16+0.j,  8.88178420e-16+0.j,  2.22044605e-16+0.j,\n",
       "        2.22044605e-16+0.j, -1.11022302e-16+0.j,  2.22044605e-16+0.j,\n",
       "       -7.77156117e-16+0.j,  3.33066907e-16+0.j,  8.88178420e-16+0.j,\n",
       "        1.11022302e-16+0.j, -6.66133815e-16+0.j, -3.33066907e-16+0.j,\n",
       "        2.22044605e-16+0.j,  9.99200722e-16+0.j,  2.22044605e-16+0.j,\n",
       "        2.22044605e-16+0.j, -1.11022302e-16+0.j, -2.22044605e-16+0.j,\n",
       "        3.33066907e-16+0.j, -1.11022302e-16+0.j,  5.55111512e-16+0.j,\n",
       "        6.66133815e-16+0.j])"
      ]
     },
     "execution_count": 21,
     "metadata": {},
     "output_type": "execute_result"
    }
   ],
   "source": [
    "np.array(fcis)-np.array(ener)"
   ]
  },
  {
   "cell_type": "markdown",
   "metadata": {},
   "source": [
    "Check how HF approximation differs"
   ]
  },
  {
   "cell_type": "code",
   "execution_count": 19,
   "metadata": {},
   "outputs": [
    {
     "name": "stderr",
     "output_type": "stream",
     "text": [
      "/home/cooper-cooper/.local/lib/python3.6/site-packages/numpy/core/_asarray.py:85: ComplexWarning: Casting complex values to real discards the imaginary part\n",
      "  return array(a, dtype, copy=False, order=order)\n",
      "/home/cooper-cooper/.local/lib/python3.6/site-packages/numpy/core/_asarray.py:85: ComplexWarning: Casting complex values to real discards the imaginary part\n",
      "  return array(a, dtype, copy=False, order=order)\n"
     ]
    },
    {
     "data": {
      "text/plain": [
       "[<matplotlib.lines.Line2D at 0x7feaa090eef0>]"
      ]
     },
     "execution_count": 19,
     "metadata": {},
     "output_type": "execute_result"
    },
    {
     "data": {
      "image/png": "[encoded data removed]",
      "text/plain": [
       "<Figure size 720x360 with 2 Axes>"
      ]
     },
     "metadata": {
      "needs_background": "light"
     },
     "output_type": "display_data"
    }
   ],
   "source": [
    "plt.figure(figsize=(10,5))\n",
    "ax1,ax2= [plt.subplot2grid((1,2),(0,k)) for k in range(2)]\n",
    "ax1.plot(np.array(ener)/np.array(hfs))\n",
    "ax2.plot(bonds,ener)"
   ]
  },
  {
   "cell_type": "markdown",
   "metadata": {},
   "source": [
    "###### Supuestamente this energy is measured in Hartrees.."
   ]
  },
  {
   "cell_type": "markdown",
   "metadata": {},
   "source": [
    "How do we map this hamiltonians to CIRQ ?!"
   ]
  },
  {
   "cell_type": "code",
   "execution_count": 128,
   "metadata": {},
   "outputs": [],
   "source": [
    "import pennylane_qchem as qmlc\n",
    "import tensorflow_quantum as tfq\n",
    "import tensorflow as tf\n",
    "import sympy"
   ]
  },
  {
   "cell_type": "code",
   "execution_count": 34,
   "metadata": {},
   "outputs": [
    {
     "data": {
      "text/plain": [
       "(array([-0.54137071,  0.05742184,  0.05742184,  0.01971784,  0.01971784,\n",
       "         0.12340149,  0.05712012,  0.12556563,  0.12556563,  0.05712012,\n",
       "         0.12839541, -0.06844551,  0.06844551,  0.06844551, -0.06844551]),\n",
       " [Identity(wires=[0]),\n",
       "  PauliZ(wires=[0]),\n",
       "  PauliZ(wires=[1]),\n",
       "  PauliZ(wires=[2]),\n",
       "  PauliZ(wires=[3]),\n",
       "  PauliZ(wires=[0]) @ PauliZ(wires=[1]),\n",
       "  PauliZ(wires=[0]) @ PauliZ(wires=[2]),\n",
       "  PauliZ(wires=[0]) @ PauliZ(wires=[3]),\n",
       "  PauliZ(wires=[1]) @ PauliZ(wires=[2]),\n",
       "  PauliZ(wires=[1]) @ PauliZ(wires=[3]),\n",
       "  PauliZ(wires=[2]) @ PauliZ(wires=[3]),\n",
       "  PauliX(wires=[0]) @ PauliX(wires=[1]) @ PauliY(wires=[2]) @ PauliY(wires=[3]),\n",
       "  PauliX(wires=[0]) @ PauliY(wires=[1]) @ PauliY(wires=[2]) @ PauliX(wires=[3]),\n",
       "  PauliY(wires=[0]) @ PauliX(wires=[1]) @ PauliX(wires=[2]) @ PauliY(wires=[3]),\n",
       "  PauliY(wires=[0]) @ PauliY(wires=[1]) @ PauliX(wires=[2]) @ PauliX(wires=[3])])"
      ]
     },
     "execution_count": 34,
     "metadata": {},
     "output_type": "execute_result"
    }
   ],
   "source": [
    "hpen.terms\n",
    "hpen=qmlc.qchem.convert_observable(qham)\n",
    "hpen.terms"
   ]
  },
  {
   "cell_type": "code",
   "execution_count": 37,
   "metadata": {},
   "outputs": [
    {
     "data": {
      "text/plain": [
       "{(): -0.5413707094106084,\n",
       " ((0, 'Z'),): 0.05742184307154377,\n",
       " ((1, 'Z'),): 0.057421843071543764,\n",
       " ((2, 'Z'),): 0.019717835404059275,\n",
       " ((3, 'Z'),): 0.019717835404059275,\n",
       " ((0, 'Z'), (1, 'Z')): 0.12340148737024778,\n",
       " ((0, 'Z'), (2, 'Z')): 0.05712011789414207,\n",
       " ((0, 'Z'), (3, 'Z')): 0.12556563142955757,\n",
       " ((1, 'Z'), (2, 'Z')): 0.12556563142955757,\n",
       " ((1, 'Z'), (3, 'Z')): 0.05712011789414207,\n",
       " ((2, 'Z'), (3, 'Z')): 0.1283954146678423,\n",
       " ((0, 'X'), (1, 'X'), (2, 'Y'), (3, 'Y')): -0.06844551353541549,\n",
       " ((0, 'X'), (1, 'Y'), (2, 'Y'), (3, 'X')): 0.06844551353541549,\n",
       " ((0, 'Y'), (1, 'X'), (2, 'X'), (3, 'Y')): 0.06844551353541549,\n",
       " ((0, 'Y'), (1, 'Y'), (2, 'X'), (3, 'X')): -0.06844551353541549}"
      ]
     },
     "execution_count": 37,
     "metadata": {},
     "output_type": "execute_result"
    }
   ],
   "source": [
    "qham.terms"
   ]
  },
  {
   "cell_type": "code",
   "execution_count": 129,
   "metadata": {},
   "outputs": [],
   "source": []
  },
  {
   "cell_type": "code",
   "execution_count": 131,
   "metadata": {},
   "outputs": [],
   "source": [
    "class OfQubit_to_Cirq:\n",
    "    def __init__(self):\n",
    "        pass\n",
    "    def str_to_gate(self,string):\n",
    "        if string == \"\":\n",
    "            return cirq.I\n",
    "        elif string == \"Z\":\n",
    "            return cirq.Z\n",
    "        elif string == \"X\":\n",
    "            return cirq.X\n",
    "        elif string == \"Y\":\n",
    "            return cirq.Y\n",
    "        else:\n",
    "            print(\"problemo!\")\n",
    "            return cirq.I\n",
    "        \n",
    "    def __call__(self, qham, qubits):\n",
    "        cir=[]\n",
    "        for ops, val in qham.terms.items():\n",
    "            if len(ops) == 0:\n",
    "                cir.append(float(val)*cirq.I.on(qubits[0]))\n",
    "            else:\n",
    "                gate = ops[0]\n",
    "                g=float(val)*self.str_to_gate(gate[-1]).on(qubits[gate[0]])\n",
    "                for gate in ops[1:]:\n",
    "                    g*=self.str_to_gate(gate[-1]).on(qubits[gate[0]])\n",
    "                cir.append(g)\n",
    "        return cir"
   ]
  },
  {
   "cell_type": "code",
   "execution_count": 38,
   "metadata": {},
   "outputs": [],
   "source": [
    "n_qubits = 4\n",
    "qubits = cirq.GridQubit.rect(1, n_qubits)\n",
    "converter = OfQubit_to_Cirq()\n",
    "oobservable = converter(qham,qubits)"
   ]
  },
  {
   "cell_type": "markdown",
   "metadata": {},
   "source": [
    "Let's now create a circuit"
   ]
  },
  {
   "cell_type": "code",
   "execution_count": 145,
   "metadata": {},
   "outputs": [],
   "source": [
    "circuit,symbols=[],[]\n",
    "for ind,k in enumerate(qubits):\n",
    "    sym = sympy.Symbol(\"t_{}\".format(ind))\n",
    "    symbols.append(sym)\n",
    "    #circuit.append(cirq.rx(sym).on(k))\n",
    "    circuit.append(cirq.I.on(k))\n",
    "#cii =cirq.resolve_parameters(cirq.Circuit(circuit), {s:k for s,k in zip(symbols, np.random.randn(len(symbols)))})\n",
    "cii = cirq.Circuit(circuit)"
   ]
  },
  {
   "cell_type": "markdown",
   "metadata": {},
   "source": [
    "We check that tensorflow_quantum reads correctly.."
   ]
  },
  {
   "cell_type": "code",
   "execution_count": 146,
   "metadata": {},
   "outputs": [
    {
     "data": {
      "text/plain": [
       "array(0.23007703, dtype=float32)"
      ]
     },
     "execution_count": 146,
     "metadata": {},
     "output_type": "execute_result"
    }
   ],
   "source": [
    "tfqcircuit = tfq.convert_to_tensor([cii])\n",
    "tfq_layer = tfq.layers.Expectation()(tfqcircuit, operators=tfq.convert_to_tensor([observable]))\n",
    "energy = np.squeeze(tf.math.reduce_sum(tfq_layer, axis=-1))\n",
    "energy"
   ]
  },
  {
   "cell_type": "code",
   "execution_count": 331,
   "metadata": {},
   "outputs": [],
   "source": [
    "ind_to_2 = {\"0\":np.eye(2), \"1\":cirq.unitary(cirq.X), \"2\":cirq.unitary(cirq.Y), \"3\":cirq.unitary(cirq.Z)}\n",
    "mat = np.zeros((2**len(qubits), 2**len(qubits))).astype(np.complex128)\n",
    "for oper in observable:\n",
    "    item = oper.dense(qubits)\n",
    "    string = item.pauli_mask\n",
    "    matrix = np.kron(*[np.kron(*[ind_to_2[str(int(ok))] for ok in string[:2]]), np.kron(*[ind_to_2[str(int(ok))] for ok in string[2:]])])\n",
    "    mat+=item.coefficient*matrix"
   ]
  },
  {
   "cell_type": "code",
   "execution_count": 334,
   "metadata": {},
   "outputs": [
    {
     "data": {
      "text/plain": [
       "(-0.9389223859872753+0j)"
      ]
     },
     "execution_count": 334,
     "metadata": {},
     "output_type": "execute_result"
    }
   ],
   "source": [
    "np.min(np.linalg.eigvals(mat))"
   ]
  },
  {
   "cell_type": "code",
   "execution_count": 338,
   "metadata": {},
   "outputs": [
    {
     "data": {
      "text/plain": [
       "array([[0.+0.j, 0.+0.j, 0.+0.j, 0.+0.j, 0.+0.j, 0.+0.j, 0.+0.j, 0.+0.j,\n",
       "        0.+0.j, 0.+0.j, 0.+0.j, 0.+0.j, 0.+0.j, 0.+0.j, 0.+0.j, 0.+0.j],\n",
       "       [0.+0.j, 0.+0.j, 0.+0.j, 0.+0.j, 0.+0.j, 0.+0.j, 0.+0.j, 0.+0.j,\n",
       "        0.+0.j, 0.+0.j, 0.+0.j, 0.+0.j, 0.+0.j, 0.+0.j, 0.+0.j, 0.+0.j],\n",
       "       [0.+0.j, 0.+0.j, 0.+0.j, 0.+0.j, 0.+0.j, 0.+0.j, 0.+0.j, 0.+0.j,\n",
       "        0.+0.j, 0.+0.j, 0.+0.j, 0.+0.j, 0.+0.j, 0.+0.j, 0.+0.j, 0.+0.j],\n",
       "       [0.+0.j, 0.+0.j, 0.+0.j, 0.+0.j, 0.+0.j, 0.+0.j, 0.+0.j, 0.+0.j,\n",
       "        0.+0.j, 0.+0.j, 0.+0.j, 0.+0.j, 0.+0.j, 0.+0.j, 0.+0.j, 0.+0.j],\n",
       "       [0.+0.j, 0.+0.j, 0.+0.j, 0.+0.j, 0.+0.j, 0.+0.j, 0.+0.j, 0.+0.j,\n",
       "        0.+0.j, 0.+0.j, 0.+0.j, 0.+0.j, 0.+0.j, 0.+0.j, 0.+0.j, 0.+0.j],\n",
       "       [0.+0.j, 0.+0.j, 0.+0.j, 0.+0.j, 0.+0.j, 0.+0.j, 0.+0.j, 0.+0.j,\n",
       "        0.+0.j, 0.+0.j, 0.+0.j, 0.+0.j, 0.+0.j, 0.+0.j, 0.+0.j, 0.+0.j],\n",
       "       [0.+0.j, 0.+0.j, 0.+0.j, 0.+0.j, 0.+0.j, 0.+0.j, 0.+0.j, 0.+0.j,\n",
       "        0.+0.j, 0.+0.j, 0.+0.j, 0.+0.j, 0.+0.j, 0.+0.j, 0.+0.j, 0.+0.j],\n",
       "       [0.+0.j, 0.+0.j, 0.+0.j, 0.+0.j, 0.+0.j, 0.+0.j, 0.+0.j, 0.+0.j,\n",
       "        0.+0.j, 0.+0.j, 0.+0.j, 0.+0.j, 0.+0.j, 0.+0.j, 0.+0.j, 0.+0.j],\n",
       "       [0.+0.j, 0.+0.j, 0.+0.j, 0.+0.j, 0.+0.j, 0.+0.j, 0.+0.j, 0.+0.j,\n",
       "        0.+0.j, 0.+0.j, 0.+0.j, 0.+0.j, 0.+0.j, 0.+0.j, 0.+0.j, 0.+0.j],\n",
       "       [0.+0.j, 0.+0.j, 0.+0.j, 0.+0.j, 0.+0.j, 0.+0.j, 0.+0.j, 0.+0.j,\n",
       "        0.+0.j, 0.+0.j, 0.+0.j, 0.+0.j, 0.+0.j, 0.+0.j, 0.+0.j, 0.+0.j],\n",
       "       [0.+0.j, 0.+0.j, 0.+0.j, 0.+0.j, 0.+0.j, 0.+0.j, 0.+0.j, 0.+0.j,\n",
       "        0.+0.j, 0.+0.j, 0.+0.j, 0.+0.j, 0.+0.j, 0.+0.j, 0.+0.j, 0.+0.j],\n",
       "       [0.+0.j, 0.+0.j, 0.+0.j, 0.+0.j, 0.+0.j, 0.+0.j, 0.+0.j, 0.+0.j,\n",
       "        0.+0.j, 0.+0.j, 0.+0.j, 0.+0.j, 0.+0.j, 0.+0.j, 0.+0.j, 0.+0.j],\n",
       "       [0.+0.j, 0.+0.j, 0.+0.j, 0.+0.j, 0.+0.j, 0.+0.j, 0.+0.j, 0.+0.j,\n",
       "        0.+0.j, 0.+0.j, 0.+0.j, 0.+0.j, 0.+0.j, 0.+0.j, 0.+0.j, 0.+0.j],\n",
       "       [0.+0.j, 0.+0.j, 0.+0.j, 0.+0.j, 0.+0.j, 0.+0.j, 0.+0.j, 0.+0.j,\n",
       "        0.+0.j, 0.+0.j, 0.+0.j, 0.+0.j, 0.+0.j, 0.+0.j, 0.+0.j, 0.+0.j],\n",
       "       [0.+0.j, 0.+0.j, 0.+0.j, 0.+0.j, 0.+0.j, 0.+0.j, 0.+0.j, 0.+0.j,\n",
       "        0.+0.j, 0.+0.j, 0.+0.j, 0.+0.j, 0.+0.j, 0.+0.j, 0.+0.j, 0.+0.j],\n",
       "       [0.+0.j, 0.+0.j, 0.+0.j, 0.+0.j, 0.+0.j, 0.+0.j, 0.+0.j, 0.+0.j,\n",
       "        0.+0.j, 0.+0.j, 0.+0.j, 0.+0.j, 0.+0.j, 0.+0.j, 0.+0.j, 0.+0.j]])"
      ]
     },
     "execution_count": 338,
     "metadata": {},
     "output_type": "execute_result"
    }
   ],
   "source": [
    "manim-mat"
   ]
  }
 ],
 "metadata": {
  "kernelspec": {
   "display_name": "Python 3",
   "language": "python",
   "name": "python3"
  },
  "language_info": {
   "codemirror_mode": {
    "name": "ipython",
    "version": 3
   },
   "file_extension": ".py",
   "mimetype": "text/x-python",
   "name": "python",
   "nbconvert_exporter": "python",
   "pygments_lexer": "ipython3",
   "version": "3.6.9"
  }
 },
 "nbformat": 4,
 "nbformat_minor": 4
}
