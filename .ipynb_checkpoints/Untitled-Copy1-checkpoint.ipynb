{
 "cells": [
  {
   "cell_type": "code",
   "execution_count": 1,
   "metadata": {},
   "outputs": [],
   "source": [
    "import numpy as np\n",
    "import sympy\n",
    "import cirq\n",
    "import tensorflow as tf\n",
    "import tensorflow_quantum as tfq\n",
    "import matplotlib.pyplot as plt\n",
    "from tqdm import tqdm\n",
    "import matplotlib.pyplot as plt\n",
    "\n",
    "\n",
    "class solver:\n",
    "    def __init__(self, n_qubits):\n",
    "\n",
    "        self.n_qubits=n_qubits\n",
    "        self.qubits = cirq.GridQubit.rect(1, n_qubits)\n",
    "\n",
    "        #observable = [-float(1/self.n_qubits)*cirq.Z.on(q)*cirq.Z.on(q) for q in qubits] \n",
    "        #for q in range(len(qubits)):\n",
    "        #    observable.append(-float(0.5)*cirq.X.on(qubits[q])*cirq.X.on(qubits[(q+1)%len(qubits)]))\n",
    "\n",
    "        #self.observable = observable\n",
    "        \n",
    "        self.indexed_cnots = {}\n",
    "        self.cnots_index = {}\n",
    "        count = 0\n",
    "        for control in range(self.n_qubits):\n",
    "            for target in range(self.n_qubits):\n",
    "                if control != target:\n",
    "                    self.indexed_cnots[str(count)] = [control, target]\n",
    "                    self.cnots_index[str([control,target])] = count\n",
    "                    count += 1\n",
    "        self.number_of_cnots = len(self.indexed_cnots)\n",
    "        self.parametrized_unitary = [cirq.rz, cirq.rx, cirq.rz]\n",
    "        \n",
    "\n",
    "    def append_to_circuit(self, ind, circuit, params, new_index=False):\n",
    "        if ind < self.number_of_cnots:\n",
    "            control, target = self.indexed_cnots[str(ind)]\n",
    "            circuit.append(cirq.CNOT.on(self.qubits[control], self.qubits[target]))\n",
    "            return circuit, params\n",
    "        else:\n",
    "            qubit = self.qubits[(ind-self.number_of_cnots)%self.n_qubits]\n",
    "            for par, gate in zip(range(3),self.parametrized_unitary):\n",
    "                new_param = \"th_\"+str(len(params))\n",
    "                params.append(new_param)\n",
    "                circuit.append(gate(sympy.Symbol(new_param)).on(qubit))\n",
    "            return circuit, params\n",
    "\n",
    "    def give_circuit(self, lista, one_hot=False):\n",
    "        circuit, symbols = [], []\n",
    "        for k in lista:\n",
    "            circuit, symbols = self.append_to_circuit(k,circuit,symbols)\n",
    "        circuit = cirq.Circuit(circuit)\n",
    "        return circuit, symbols\n",
    "    \n",
    "\n",
    "    def cirq_friendly_observable(self, obs):\n",
    "        PAULI_BASIS = {\n",
    "            'I': np.eye(2),\n",
    "            'X': np.array([[0., 1.], [1., 0.]]),\n",
    "            'Y': np.array([[0., -1j], [1j, 0.]]),\n",
    "            'Z': np.diag([1., -1]),\n",
    "        }\n",
    "\n",
    "        pauli3 = cirq.linalg.operator_spaces.kron_bases(PAULI_BASIS, repeat=self.n_qubits)\n",
    "        decomp = cirq.linalg.operator_spaces.expand_matrix_in_orthogonal_basis(obs, pauli3)\n",
    "\n",
    "        PAULI_BASIS_CIRQ = {\n",
    "            'I': cirq.X,\n",
    "            'X': cirq.X,\n",
    "            'Y': cirq.Y,\n",
    "            'Z': cirq.Z,\n",
    "        }\n",
    "\n",
    "        unt = []\n",
    "        for term in decomp.items():\n",
    "            gate_name = term[0]\n",
    "            coeff = term[1]\n",
    "            s = 0\n",
    "            ot = float(coeff)\n",
    "            for qpos, single_gate in enumerate(gate_name):\n",
    "                if single_gate == \"I\":\n",
    "                    ot *= PAULI_BASIS_CIRQ[single_gate](self.qubits[qpos])*PAULI_BASIS_CIRQ[single_gate](self.qubits[qpos])\n",
    "                else:\n",
    "                    ot *= PAULI_BASIS_CIRQ[single_gate](self.qubits[qpos])\n",
    "            if s < 3:\n",
    "                unt.append(ot)\n",
    "        return unt\n"
   ]
  },
  {
   "cell_type": "code",
   "execution_count": 9,
   "metadata": {},
   "outputs": [
    {
     "data": {
      "text/html": [
       "<pre style=\"overflow: auto; white-space: pre;\">(0, 0): ───@───Rz(th_0)───Rx(th_1)───Rz(th_2)───@───\n",
       "           │                                    │\n",
       "(0, 1): ───X───Rz(th_3)───Rx(th_4)───Rz(th_5)───X───</pre>"
      ],
      "text/plain": [
       "(0, 0): ───@───Rz(th_0)───Rx(th_1)───Rz(th_2)───@───\n",
       "           │                                    │\n",
       "(0, 1): ───X───Rz(th_3)───Rx(th_4)───Rz(th_5)───X───"
      ]
     },
     "execution_count": 9,
     "metadata": {},
     "output_type": "execute_result"
    }
   ],
   "source": [
    "sol=solver(2)\n",
    "circuit,symbols =sol.give_circuit([0,sol.number_of_cnots,sol.number_of_cnots+1,0])\n",
    "circuit"
   ]
  },
  {
   "cell_type": "code",
   "execution_count": 10,
   "metadata": {},
   "outputs": [],
   "source": [
    "tfqcircuit = tfq.convert_to_tensor([circuit])\n",
    "\n",
    "circuit_input = tf.keras.Input(shape=(), dtype=tf.string)"
   ]
  },
  {
   "cell_type": "code",
   "execution_count": 21,
   "metadata": {},
   "outputs": [],
   "source": [
    "outps = tfq.layers.PQC(circuit,[cirq.Z(sol.qubits[0]),cirq.Z(sol.qubits[0])])"
   ]
  },
  {
   "cell_type": "code",
   "execution_count": 36,
   "metadata": {},
   "outputs": [
    {
     "data": {
      "text/plain": [
       "<tf.Tensor: shape=(4, 2), dtype=float32, numpy=\n",
       "array([[-0.18480884, -0.18480884],\n",
       "       [ 0.1848088 ,  0.1848088 ],\n",
       "       [-0.18480888, -0.18480888],\n",
       "       [ 0.18480882,  0.18480882]], dtype=float32)>"
      ]
     },
     "execution_count": 36,
     "metadata": {},
     "output_type": "execute_result"
    }
   ],
   "source": [
    "outps(tfq.convert_to_tensor([cirq.Circuit(),cirq.Circuit(cirq.rx(-np.pi)(sol.qubits[0])),\n",
    "                             cirq.Circuit(cirq.rx(-np.pi)(sol.qubits[1])), cirq.Circuit([cirq.rx(-np.pi)(sol.qubits[0]), cirq.rx(-np.pi)(sol.qubits[1])])]))"
   ]
  },
  {
   "cell_type": "code",
   "execution_count": 35,
   "metadata": {},
   "outputs": [
    {
     "data": {
      "text/plain": [
       "measurements: (no measurements)\n",
       "output vector: 1j|1⟩"
      ]
     },
     "execution_count": 35,
     "metadata": {},
     "output_type": "execute_result"
    }
   ],
   "source": [
    "sim = cirq.Simulator()\n",
    "sim.simulate(cirq.Circuit(cirq.rx(-np.pi)(sol.qubits[0])))"
   ]
  },
  {
   "cell_type": "code",
   "execution_count": null,
   "metadata": {},
   "outputs": [],
   "source": []
  },
  {
   "cell_type": "code",
   "execution_count": null,
   "metadata": {},
   "outputs": [],
   "source": []
  },
  {
   "cell_type": "code",
   "execution_count": 77,
   "metadata": {},
   "outputs": [],
   "source": [
    "p0 = np.array([1, 0,0,0])\n",
    "pp0 = cirq.density_matrix_from_state_vector(p0)\n",
    "sol.observable=sol.cirq_friendly_observable(np.eye(2**sol.n_qubits)-0.01*pp0)"
   ]
  },
  {
   "cell_type": "code",
   "execution_count": 80,
   "metadata": {},
   "outputs": [
    {
     "data": {
      "text/plain": [
       "array([[ 0.  -0.j  , -0.01+0.02j,  0.8 +0.6j , -0.03-0.08j],\n",
       "       [-0.01+0.02j,  0.  +0.j  ,  0.09+0.j  ,  0.8 +0.59j],\n",
       "       [ 0.8 -0.6j ,  0.03-0.08j,  0.  +0.j  ,  0.01+0.02j],\n",
       "       [-0.09+0.j  ,  0.8 -0.59j,  0.01+0.02j,  0.  -0.j  ]])"
      ]
     },
     "execution_count": 80,
     "metadata": {},
     "output_type": "execute_result"
    }
   ],
   "source": [
    "effective_qubits = list(circuit.all_qubits())\n",
    "for k in sol.qubits:\n",
    "    if k not in effective_qubits:\n",
    "        circuit.append(cirq.I.on(k))\n",
    "\n",
    "tfqcircuit = tfq.convert_to_tensor([circuit])\n",
    "\n",
    "circuit_input = tf.keras.Input(shape=(), dtype=tf.string)\n",
    "output = tfq.layers.Expectation()(\n",
    "        circuit_input,\n",
    "        symbol_names=symbols,\n",
    "        operators=tfq.convert_to_tensor([sol.observable]),\n",
    "        initializer=tf.keras.initializers.RandomNormal()) #we may change this!!!\n",
    "\n",
    "model = tf.keras.Model(inputs=circuit_input, outputs=output)\n",
    "adam = tf.keras.optimizers.Adam(learning_rate=0.1)\n",
    "model.compile(optimizer=adam, loss='mse')\n",
    "\n",
    "qoutput = tf.ones((1, 1))\n",
    "h = model.fit(x=tfqcircuit, y=qoutput, batch_size=1, epochs=500, verbose=0)\n",
    "energy = np.squeeze(tf.math.reduce_sum(model.predict(tfqcircuit), axis=-1))\n",
    "final_params = model.trainable_variables[0].numpy()\n",
    "resolver = {\"th_\"+str(ind):var  for ind,var in enumerate(final_params)}\n",
    "\n",
    "np.round(cirq.unitary(cirq.resolve_parameters(circuit,resolver)),2)"
   ]
  },
  {
   "cell_type": "code",
   "execution_count": 86,
   "metadata": {},
   "outputs": [
    {
     "data": {
      "text/plain": [
       "[(0.9975+0j)*I]"
      ]
     },
     "execution_count": 86,
     "metadata": {},
     "output_type": "execute_result"
    }
   ],
   "source": [
    "[sol.observable[0]]"
   ]
  },
  {
   "cell_type": "code",
   "execution_count": 83,
   "metadata": {},
   "outputs": [
    {
     "data": {
      "text/plain": [
       "array([[ 0.9975    , -0.0024586 ,  0.00249728,  0.00246128]],\n",
       "      dtype=float32)"
      ]
     },
     "execution_count": 83,
     "metadata": {},
     "output_type": "execute_result"
    }
   ],
   "source": [
    "model.predict(tfqcircuit)"
   ]
  },
  {
   "cell_type": "code",
   "execution_count": 81,
   "metadata": {},
   "outputs": [
    {
     "data": {
      "text/plain": [
       "[<matplotlib.lines.Line2D at 0x7f3ee0486a90>]"
      ]
     },
     "execution_count": 81,
     "metadata": {},
     "output_type": "execute_result"
    },
    {
     "data": {
      "image/png": "[encoded data removed]",
      "text/plain": [
       "<Figure size 432x288 with 1 Axes>"
      ]
     },
     "metadata": {
      "needs_background": "light"
     },
     "output_type": "display_data"
    }
   ],
   "source": [
    "plt.plot(h.history[\"loss\"])"
   ]
  },
  {
   "cell_type": "markdown",
   "metadata": {},
   "source": []
  },
  {
   "cell_type": "code",
   "execution_count": 59,
   "metadata": {},
   "outputs": [
    {
     "data": {
      "text/html": [
       "<pre style=\"overflow: auto; white-space: pre;\">(0, 0): ───Rz(th_0)───Rx(th_1)───Rz(th_2)───@───Rz(th_6)───Rx(th_7)────Rz(th_8)────@───Rz(th_12)───Rx(th_13)───Rz(th_14)───@───Rz(th_18)───Rx(th_19)───Rz(th_20)───\n",
       "                                            │                                      │                                       │\n",
       "(0, 1): ───Rz(th_3)───Rx(th_4)───Rz(th_5)───X───Rz(th_9)───Rx(th_10)───Rz(th_11)───X───Rz(th_15)───Rx(th_16)───Rz(th_17)───X───Rz(th_21)───Rx(th_22)───Rz(th_23)───</pre>"
      ],
      "text/plain": [
       "(0, 0): ───Rz(th_0)───Rx(th_1)───Rz(th_2)───@───Rz(th_6)───Rx(th_7)────Rz(th_8)────@───Rz(th_12)───Rx(th_13)───Rz(th_14)───@───Rz(th_18)───Rx(th_19)───Rz(th_20)───\n",
       "                                            │                                      │                                       │\n",
       "(0, 1): ───Rz(th_3)───Rx(th_4)───Rz(th_5)───X───Rz(th_9)───Rx(th_10)───Rz(th_11)───X───Rz(th_15)───Rx(th_16)───Rz(th_17)───X───Rz(th_21)───Rx(th_22)───Rz(th_23)───"
      ]
     },
     "execution_count": 59,
     "metadata": {},
     "output_type": "execute_result"
    }
   ],
   "source": [
    "sol=solver(2)\n",
    "#circuit,symbols =sol.give_circuit([sol.number_of_cnots,sol.number_of_cnots+1,0,sol.number_of_cnots,sol.number_of_cnots+1,0,sol.number_of_cnots,sol.number_of_cnots+1,0,sol.number_of_cnots,sol.number_of_cnots+1])\n",
    "circuit"
   ]
  },
  {
   "cell_type": "code",
   "execution_count": 60,
   "metadata": {},
   "outputs": [
    {
     "data": {
      "text/plain": [
       "array([[ 0.98-0.18j,  0.  +0.02j, -0.  +0.02j, -0.01+0.j  ],\n",
       "       [ 0.  +0.02j,  0.99-0.17j, -0.01+0.j  , -0.  +0.02j],\n",
       "       [ 0.01+0.j  ,  0.  +0.02j, -0.01+0.02j,  0.98+0.18j],\n",
       "       [ 0.  +0.02j,  0.01+0.j  ,  0.99+0.16j, -0.  +0.02j]])"
      ]
     },
     "execution_count": 60,
     "metadata": {},
     "output_type": "execute_result"
    }
   ],
   "source": [
    "effective_qubits = list(circuit.all_qubits())\n",
    "for k in sol.qubits:\n",
    "    if k not in effective_qubits:\n",
    "        circuit.append(cirq.I.on(k))\n",
    "\n",
    "tfqcircuit = tfq.convert_to_tensor([circuit])\n",
    "\n",
    "circuit_input = tf.keras.Input(shape=(), dtype=tf.string)\n",
    "output = tfq.layers.Expectation()(\n",
    "        circuit_input,\n",
    "        symbol_names=symbols,\n",
    "        operators=tfq.convert_to_tensor([sol.observable]),\n",
    "        initializer=tf.keras.initializers.RandomNormal()) #we may change this!!!\n",
    "\n",
    "model = tf.keras.Model(inputs=circuit_input, outputs=output)\n",
    "adam = tf.keras.optimizers.Adam(learning_rate=0.1)\n",
    "model.compile(optimizer=adam, loss='mse')\n",
    "\n",
    "qoutput = tf.ones((1, 1))*-4.\n",
    "h = model.fit(x=tfqcircuit, y=qoutput, batch_size=1, epochs=500, verbose=0)\n",
    "energy = np.squeeze(tf.math.reduce_sum(model.predict(tfqcircuit), axis=-1))\n",
    "final_params = model.trainable_variables[0].numpy()\n",
    "resolver = {\"th_\"+str(ind):var  for ind,var in enumerate(final_params)}\n",
    "\n",
    "np.round(cirq.unitary(cirq.resolve_parameters(circuit,resolver)),2)"
   ]
  },
  {
   "cell_type": "code",
   "execution_count": 61,
   "metadata": {},
   "outputs": [
    {
     "data": {
      "text/plain": [
       "[<matplotlib.lines.Line2D at 0x7f3ec86d9978>]"
      ]
     },
     "execution_count": 61,
     "metadata": {},
     "output_type": "execute_result"
    },
    {
     "data": {
      "image/png": "[encoded data removed]",
      "text/plain": [
       "<Figure size 432x288 with 1 Axes>"
      ]
     },
     "metadata": {
      "needs_background": "light"
     },
     "output_type": "display_data"
    }
   ],
   "source": [
    "plt.plot(h.history[\"loss\"])"
   ]
  },
  {
   "cell_type": "code",
   "execution_count": null,
   "metadata": {},
   "outputs": [],
   "source": []
  }
 ],
 "metadata": {
  "kernelspec": {
   "display_name": "Python 3",
   "language": "python",
   "name": "python3"
  },
  "language_info": {
   "codemirror_mode": {
    "name": "ipython",
    "version": 3
   },
   "file_extension": ".py",
   "mimetype": "text/x-python",
   "name": "python",
   "nbconvert_exporter": "python",
   "pygments_lexer": "ipython3",
   "version": "3.6.9"
  }
 },
 "nbformat": 4,
 "nbformat_minor": 4
}
