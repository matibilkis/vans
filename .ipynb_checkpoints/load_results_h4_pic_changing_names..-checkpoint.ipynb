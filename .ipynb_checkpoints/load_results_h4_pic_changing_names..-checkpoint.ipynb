{
 "cells": [
  {
   "cell_type": "code",
   "execution_count": 9,
   "metadata": {},
   "outputs": [
    {
     "name": "stdout",
     "output_type": "stream",
     "text": [
      "The autoreload extension is already loaded. To reload it, use:\n",
      "  %reload_ext autoreload\n"
     ]
    }
   ],
   "source": [
    "from utilities.evaluator import Evaluator\n",
    "import numpy as np\n",
    "import matplotlib.pyplot as plt\n",
    "from IPython import display\n",
    "from tqdm import tqdm\n",
    "from utilities.misc import dict_to_json\n",
    "%load_ext autoreload\n",
    "%autoreload 2"
   ]
  },
  {
   "cell_type": "code",
   "execution_count": 10,
   "metadata": {},
   "outputs": [],
   "source": [
    "from utilities.variational import VQE\n",
    "from utilities.evaluator import Evaluator\n",
    "from utilities.idinserter import IdInserter\n",
    "from utilities.simplifier import Simplifier\n",
    "from utilities.unitary_killer import UnitaryMurder"
   ]
  },
  {
   "cell_type": "code",
   "execution_count": null,
   "metadata": {},
   "outputs": [],
   "source": []
  },
  {
   "cell_type": "code",
   "execution_count": 47,
   "metadata": {},
   "outputs": [
    {
     "name": "stderr",
     "output_type": "stream",
     "text": [
      "  0%|          | 0/8 [00:00<?, ?it/s]\n"
     ]
    },
    {
     "ename": "FileNotFoundError",
     "evalue": "[Errno 2] No such file or directory: 'utilities/hamiltonians/cm_hamiltonians.txt'",
     "output_type": "error",
     "traceback": [
      "\u001b[0;31m---------------------------------------------------------------------------\u001b[0m",
      "\u001b[0;31mFileNotFoundError\u001b[0m                         Traceback (most recent call last)",
      "\u001b[0;32m<ipython-input-47-16a1413f4722>\u001b[0m in \u001b[0;36m<module>\u001b[0;34m\u001b[0m\n\u001b[1;32m     24\u001b[0m              \u001b[0;34m\"noise_config\"\u001b[0m\u001b[0;34m:\u001b[0m\u001b[0;34m{\u001b[0m\u001b[0;34m}\u001b[0m\u001b[0;34m,\u001b[0m\u001b[0;34m\u001b[0m\u001b[0;34m\u001b[0m\u001b[0m\n\u001b[1;32m     25\u001b[0m             \"specific_folder_name\": paths[ind]}\n\u001b[0;32m---> 26\u001b[0;31m     \u001b[0mevaluator\u001b[0m \u001b[0;34m=\u001b[0m \u001b[0mEvaluator\u001b[0m\u001b[0;34m(\u001b[0m\u001b[0margs\u001b[0m\u001b[0;34m=\u001b[0m\u001b[0marguss\u001b[0m\u001b[0;34m,\u001b[0m\u001b[0mloading\u001b[0m\u001b[0;34m=\u001b[0m\u001b[0;32mTrue\u001b[0m\u001b[0;34m,\u001b[0m\u001b[0mpath\u001b[0m\u001b[0;34m=\u001b[0m\u001b[0;34m\"{}\"\u001b[0m\u001b[0;34m.\u001b[0m\u001b[0mformat\u001b[0m\u001b[0;34m(\u001b[0m\u001b[0;34m\"../data-vans/H4/\"\u001b[0m\u001b[0;34m)\u001b[0m\u001b[0;34m)\u001b[0m\u001b[0;34m\u001b[0m\u001b[0;34m\u001b[0m\u001b[0m\n\u001b[0m\u001b[1;32m     27\u001b[0m     \u001b[0mnconts\u001b[0m\u001b[0;34m[\u001b[0m\u001b[0mbond\u001b[0m\u001b[0;34m]\u001b[0m\u001b[0;34m=\u001b[0m \u001b[0mevaluator\u001b[0m\u001b[0;34m.\u001b[0m\u001b[0mnumber_cnots_best\u001b[0m\u001b[0;34m(\u001b[0m\u001b[0;34m)\u001b[0m\u001b[0;34m\u001b[0m\u001b[0;34m\u001b[0m\u001b[0m\n\u001b[1;32m     28\u001b[0m     \u001b[0mnparams\u001b[0m\u001b[0;34m[\u001b[0m\u001b[0mbond\u001b[0m\u001b[0;34m]\u001b[0m \u001b[0;34m=\u001b[0m \u001b[0mlen\u001b[0m\u001b[0;34m(\u001b[0m\u001b[0mevaluator\u001b[0m\u001b[0;34m.\u001b[0m\u001b[0mevolution\u001b[0m\u001b[0;34m[\u001b[0m\u001b[0mevaluator\u001b[0m\u001b[0;34m.\u001b[0m\u001b[0mget_best_iteration\u001b[0m\u001b[0;34m(\u001b[0m\u001b[0;34m)\u001b[0m\u001b[0;34m[\u001b[0m\u001b[0;36m0\u001b[0m\u001b[0;34m]\u001b[0m\u001b[0;34m]\u001b[0m\u001b[0;34m[\u001b[0m\u001b[0;36m2\u001b[0m\u001b[0;34m]\u001b[0m\u001b[0;34m)\u001b[0m\u001b[0;34m\u001b[0m\u001b[0;34m\u001b[0m\u001b[0m\n",
      "\u001b[0;32m~/Desktop/vans/utilities/evaluator.py\u001b[0m in \u001b[0;36m__init__\u001b[0;34m(self, args, info, loading, acceptance_percentage, reduce_acceptance_percentage, accuracy_to_end, nrun_load, path)\u001b[0m\n\u001b[1;32m     61\u001b[0m                 \u001b[0;32melse\u001b[0m\u001b[0;34m:\u001b[0m\u001b[0;34m\u001b[0m\u001b[0;34m\u001b[0m\u001b[0m\n\u001b[1;32m     62\u001b[0m                     \u001b[0margs_load\u001b[0m\u001b[0;34m[\u001b[0m\u001b[0mstr\u001b[0m\u001b[0;34m]\u001b[0m \u001b[0;34m=\u001b[0m \u001b[0margs\u001b[0m\u001b[0;34m[\u001b[0m\u001b[0mstr\u001b[0m\u001b[0;34m]\u001b[0m\u001b[0;34m\u001b[0m\u001b[0;34m\u001b[0m\u001b[0m\n\u001b[0;32m---> 63\u001b[0;31m             \u001b[0mproblem_identifier\u001b[0m \u001b[0;34m=\u001b[0m \u001b[0mself\u001b[0m\u001b[0;34m.\u001b[0m\u001b[0mget_problem_identifier\u001b[0m\u001b[0;34m(\u001b[0m\u001b[0margs_load\u001b[0m\u001b[0;34m[\u001b[0m\u001b[0;34m\"problem_config\"\u001b[0m\u001b[0;34m]\u001b[0m\u001b[0;34m)\u001b[0m\u001b[0;34m\u001b[0m\u001b[0;34m\u001b[0m\u001b[0m\n\u001b[0m\u001b[1;32m     64\u001b[0m             \u001b[0mnoise_identifier\u001b[0m \u001b[0;34m=\u001b[0m \u001b[0mself\u001b[0m\u001b[0;34m.\u001b[0m\u001b[0mget_noise_identifier\u001b[0m\u001b[0;34m(\u001b[0m\u001b[0margs_load\u001b[0m\u001b[0;34m[\u001b[0m\u001b[0;34m\"noise_config\"\u001b[0m\u001b[0;34m]\u001b[0m\u001b[0;34m)\u001b[0m\u001b[0;34m\u001b[0m\u001b[0;34m\u001b[0m\u001b[0m\n\u001b[1;32m     65\u001b[0m \u001b[0;34m\u001b[0m\u001b[0m\n",
      "\u001b[0;32m~/Desktop/vans/utilities/evaluator.py\u001b[0m in \u001b[0;36mget_problem_identifier\u001b[0;34m(self, args)\u001b[0m\n\u001b[1;32m     80\u001b[0m     \u001b[0;32mdef\u001b[0m \u001b[0mget_problem_identifier\u001b[0m\u001b[0;34m(\u001b[0m\u001b[0mself\u001b[0m\u001b[0;34m,\u001b[0m \u001b[0margs\u001b[0m\u001b[0;34m)\u001b[0m\u001b[0;34m:\u001b[0m\u001b[0;34m\u001b[0m\u001b[0;34m\u001b[0m\u001b[0m\n\u001b[1;32m     81\u001b[0m         \u001b[0;31m#### read possible hamiltonians to get id structure\u001b[0m\u001b[0;34m\u001b[0m\u001b[0;34m\u001b[0m\u001b[0;34m\u001b[0m\u001b[0m\n\u001b[0;32m---> 82\u001b[0;31m         \u001b[0;32mwith\u001b[0m \u001b[0mopen\u001b[0m\u001b[0;34m(\u001b[0m\u001b[0;34m\"utilities/hamiltonians/cm_hamiltonians.txt\"\u001b[0m\u001b[0;34m)\u001b[0m \u001b[0;32mas\u001b[0m \u001b[0mf\u001b[0m\u001b[0;34m:\u001b[0m\u001b[0;34m\u001b[0m\u001b[0;34m\u001b[0m\u001b[0m\n\u001b[0m\u001b[1;32m     83\u001b[0m             \u001b[0mhams\u001b[0m \u001b[0;34m=\u001b[0m \u001b[0mf\u001b[0m\u001b[0;34m.\u001b[0m\u001b[0mreadlines\u001b[0m\u001b[0;34m(\u001b[0m\u001b[0;34m)\u001b[0m\u001b[0;34m\u001b[0m\u001b[0;34m\u001b[0m\u001b[0m\n\u001b[1;32m     84\u001b[0m         \u001b[0mcm_hamiltonians\u001b[0m \u001b[0;34m=\u001b[0m \u001b[0;34m[\u001b[0m\u001b[0mx\u001b[0m\u001b[0;34m.\u001b[0m\u001b[0mstrip\u001b[0m\u001b[0;34m(\u001b[0m\u001b[0;34m)\u001b[0m\u001b[0;34m.\u001b[0m\u001b[0mupper\u001b[0m\u001b[0;34m(\u001b[0m\u001b[0;34m)\u001b[0m \u001b[0;32mfor\u001b[0m \u001b[0mx\u001b[0m \u001b[0;32min\u001b[0m \u001b[0mhams\u001b[0m\u001b[0;34m]\u001b[0m\u001b[0;34m\u001b[0m\u001b[0;34m\u001b[0m\u001b[0m\n",
      "\u001b[0;31mFileNotFoundError\u001b[0m: [Errno 2] No such file or directory: 'utilities/hamiltonians/cm_hamiltonians.txt'"
     ]
    }
   ],
   "source": [
    "nconts=[]\n",
    "fcis=[]\n",
    "bads=0\n",
    "nparams=[]\n",
    "lowestenergy=[]\n",
    "\n",
    "path=\"../data-vans/\"\n",
    "nconts, nparams, vansen = {}, {}, {}\n",
    "\n",
    "paths = [\"N8_geometry_H4_multip_[(H, (0.0, 0.0, 0.0)), (H, (0.0, 0.0, 0.3)), (H, (0.0, 0.0, 0.6)), (H, (0.0, 0.0, 0.99))]_charge_1_basis0_quiet\",\n",
    "\"N8_geometry_H4_multip_[(H, (0.0, 0.0, 0.0)), (H, (0.0, 0.0, 0.52)), (H, (0.0, 0.0, 1.04)), (H, (0.0, 0.0, 1.56))]_charge_1_basis0_quiet\",\n",
    "\"N8_geometry_H4_multip_[(H, (0.0, 0.0, 0.0)), (H, (0.0, 0.0, 0.75)), (H, (0.0, 0.0, 1.5)), (H, (0.0, 0.0, 2.25))]_charge_1_basis0_quiet\",\n",
    "\"N8_geometry_H4_multip_[(H, (0.0, 0.0, 0.0)), (H, (0.0, 0.0, 0.98)), (H, (0.0, 0.0, 1.96)), (H, (0.0, 0.0, 2.94))]_charge_1_basis0_quiet\",\n",
    "\"N8_geometry_H4_multip_[(H, (0.0, 0.0, 0.0)), (H, (0.0, 0.0, 1.2)), (H, (0.0, 0.0, 2.4)), (H, (0.0, 0.0, 3.6))]_charge_1_basis0_quiet\",\n",
    "\"N8_geometry_H4_multip_[(H, (0.0, 0.0, 0.0)), (H, (0.0, 0.0, 1.42)), (H, (0.0, 0.0, 2.84)), (H, (0.0, 0.0, 4.26))]_charge_1_basis0_quiet\",\n",
    "\"N8_geometry_H4_multip_[(H, (0.0, 0.0, 0.0)), (H, (0.0, 0.0, 1.65)), (H, (0.0, 0.0, 3.3)), (H, (0.0, 0.0, 4.95))]_charge_1_basis0_quiet\",\n",
    "\"N8_geometry_H4_multip_[(H, (0.0, 0.0, 0.0)), (H, (0.0, 0.0, 1.88)), (H, (0.0, 0.0, 3.76)), (H, (0.0, 0.0, 5.64))]_charge_1_basis0_quiet\"]\n",
    "\n",
    "for ind,bond in enumerate(tqdm(np.linspace(0.33,1.88,8))):\n",
    "    pp ={\"problem\" : \"H4\", \"geometry\": str( [('H', (0., 0., 0.)), ('H', (0., 0., np.round(bond,2))),\n",
    "                                                ('H', (0., 0., 2*bond)), ('H', (0., 0., 3*bond))]).replace(\"'\",\"\"), \n",
    "                               \"multiplicity\":1, \"charge\":0, \"basis\":\"sto-3g\"}\n",
    "    arguss= {\"n_qubits\":8,\"problem_config\":pp,\n",
    "             \"noise_config\":{},\n",
    "            \"specific_folder_name\": paths[ind]}\n",
    "    evaluator = Evaluator(args=arguss,loading=True,path=\"{}\".format(\"../data-vans/\"))\n",
    "    nconts[bond]= evaluator.number_cnots_best()\n",
    "    nparams[bond] = len(evaluator.evolution[evaluator.get_best_iteration()[0]][2])\n",
    "    vansen[bond] = evaluator.evolution[evaluator.get_best_iteration()[0]][4]"
   ]
  },
  {
   "cell_type": "code",
   "execution_count": 19,
   "metadata": {},
   "outputs": [],
   "source": [
    "os.chdir(path+\"H4/N8_geometry_H4_multip_[(H, (0.0, 0.0, 0.0)), (H, (0.0, 0.0, 0.3)), (H, (0.0, 0.0, 0.6)), (H, (0.0, 0.0, 0.99))]_charge_1_basis0_quiet\")"
   ]
  },
  {
   "cell_type": "code",
   "execution_count": 32,
   "metadata": {},
   "outputs": [
    {
     "ename": "FileNotFoundError",
     "evalue": "[Errno 2] No such file or directory: 'utilities/hamiltonians/cm_hamiltonians.txt'",
     "output_type": "error",
     "traceback": [
      "\u001b[0;31m---------------------------------------------------------------------------\u001b[0m",
      "\u001b[0;31mFileNotFoundError\u001b[0m                         Traceback (most recent call last)",
      "\u001b[0;32m<ipython-input-32-420c428308f3>\u001b[0m in \u001b[0;36m<module>\u001b[0;34m\u001b[0m\n\u001b[1;32m      5\u001b[0m          \"noise_config\":{},\"specific_folder_name\": \"\"}\n\u001b[1;32m      6\u001b[0m          \u001b[0;31m#\"N8_geometry_H4_multip_[(H, (0.0, 0.0, {})), (H, (0.0, 0.0, {})), (H, (0.0, 0.0, {})), (H, (0.0, 0.0, {}))]_charge_1_basis0_quiet\".format(0.0,bond,2*bond,3*bond)}\u001b[0m\u001b[0;34m\u001b[0m\u001b[0;34m\u001b[0m\u001b[0;34m\u001b[0m\u001b[0m\n\u001b[0;32m----> 7\u001b[0;31m \u001b[0mevaluator\u001b[0m \u001b[0;34m=\u001b[0m \u001b[0mEvaluator\u001b[0m\u001b[0;34m(\u001b[0m\u001b[0margs\u001b[0m\u001b[0;34m=\u001b[0m\u001b[0marguss\u001b[0m\u001b[0;34m,\u001b[0m\u001b[0mloading\u001b[0m\u001b[0;34m=\u001b[0m\u001b[0;32mTrue\u001b[0m\u001b[0;34m,\u001b[0m\u001b[0mpath\u001b[0m\u001b[0;34m=\u001b[0m\u001b[0;34m\"{}\"\u001b[0m\u001b[0;34m.\u001b[0m\u001b[0mformat\u001b[0m\u001b[0;34m(\u001b[0m\u001b[0;34m\"\"\u001b[0m\u001b[0;34m)\u001b[0m\u001b[0;34m)\u001b[0m\u001b[0;34m\u001b[0m\u001b[0;34m\u001b[0m\u001b[0m\n\u001b[0m",
      "\u001b[0;32m~/Desktop/vans/utilities/evaluator.py\u001b[0m in \u001b[0;36m__init__\u001b[0;34m(self, args, info, loading, acceptance_percentage, reduce_acceptance_percentage, accuracy_to_end, nrun_load, path)\u001b[0m\n\u001b[1;32m     61\u001b[0m                 \u001b[0;32melse\u001b[0m\u001b[0;34m:\u001b[0m\u001b[0;34m\u001b[0m\u001b[0;34m\u001b[0m\u001b[0m\n\u001b[1;32m     62\u001b[0m                     \u001b[0margs_load\u001b[0m\u001b[0;34m[\u001b[0m\u001b[0mstr\u001b[0m\u001b[0;34m]\u001b[0m \u001b[0;34m=\u001b[0m \u001b[0margs\u001b[0m\u001b[0;34m[\u001b[0m\u001b[0mstr\u001b[0m\u001b[0;34m]\u001b[0m\u001b[0;34m\u001b[0m\u001b[0;34m\u001b[0m\u001b[0m\n\u001b[0;32m---> 63\u001b[0;31m             \u001b[0mproblem_identifier\u001b[0m \u001b[0;34m=\u001b[0m \u001b[0mself\u001b[0m\u001b[0;34m.\u001b[0m\u001b[0mget_problem_identifier\u001b[0m\u001b[0;34m(\u001b[0m\u001b[0margs_load\u001b[0m\u001b[0;34m[\u001b[0m\u001b[0;34m\"problem_config\"\u001b[0m\u001b[0;34m]\u001b[0m\u001b[0;34m)\u001b[0m\u001b[0;34m\u001b[0m\u001b[0;34m\u001b[0m\u001b[0m\n\u001b[0m\u001b[1;32m     64\u001b[0m             \u001b[0mnoise_identifier\u001b[0m \u001b[0;34m=\u001b[0m \u001b[0mself\u001b[0m\u001b[0;34m.\u001b[0m\u001b[0mget_noise_identifier\u001b[0m\u001b[0;34m(\u001b[0m\u001b[0margs_load\u001b[0m\u001b[0;34m[\u001b[0m\u001b[0;34m\"noise_config\"\u001b[0m\u001b[0;34m]\u001b[0m\u001b[0;34m)\u001b[0m\u001b[0;34m\u001b[0m\u001b[0;34m\u001b[0m\u001b[0m\n\u001b[1;32m     65\u001b[0m \u001b[0;34m\u001b[0m\u001b[0m\n",
      "\u001b[0;32m~/Desktop/vans/utilities/evaluator.py\u001b[0m in \u001b[0;36mget_problem_identifier\u001b[0;34m(self, args)\u001b[0m\n\u001b[1;32m     80\u001b[0m     \u001b[0;32mdef\u001b[0m \u001b[0mget_problem_identifier\u001b[0m\u001b[0;34m(\u001b[0m\u001b[0mself\u001b[0m\u001b[0;34m,\u001b[0m \u001b[0margs\u001b[0m\u001b[0;34m)\u001b[0m\u001b[0;34m:\u001b[0m\u001b[0;34m\u001b[0m\u001b[0;34m\u001b[0m\u001b[0m\n\u001b[1;32m     81\u001b[0m         \u001b[0;31m#### read possible hamiltonians to get id structure\u001b[0m\u001b[0;34m\u001b[0m\u001b[0;34m\u001b[0m\u001b[0;34m\u001b[0m\u001b[0m\n\u001b[0;32m---> 82\u001b[0;31m         \u001b[0;32mwith\u001b[0m \u001b[0mopen\u001b[0m\u001b[0;34m(\u001b[0m\u001b[0;34m\"utilities/hamiltonians/cm_hamiltonians.txt\"\u001b[0m\u001b[0;34m)\u001b[0m \u001b[0;32mas\u001b[0m \u001b[0mf\u001b[0m\u001b[0;34m:\u001b[0m\u001b[0;34m\u001b[0m\u001b[0;34m\u001b[0m\u001b[0m\n\u001b[0m\u001b[1;32m     83\u001b[0m             \u001b[0mhams\u001b[0m \u001b[0;34m=\u001b[0m \u001b[0mf\u001b[0m\u001b[0;34m.\u001b[0m\u001b[0mreadlines\u001b[0m\u001b[0;34m(\u001b[0m\u001b[0;34m)\u001b[0m\u001b[0;34m\u001b[0m\u001b[0;34m\u001b[0m\u001b[0m\n\u001b[1;32m     84\u001b[0m         \u001b[0mcm_hamiltonians\u001b[0m \u001b[0;34m=\u001b[0m \u001b[0;34m[\u001b[0m\u001b[0mx\u001b[0m\u001b[0;34m.\u001b[0m\u001b[0mstrip\u001b[0m\u001b[0;34m(\u001b[0m\u001b[0;34m)\u001b[0m\u001b[0;34m.\u001b[0m\u001b[0mupper\u001b[0m\u001b[0;34m(\u001b[0m\u001b[0;34m)\u001b[0m \u001b[0;32mfor\u001b[0m \u001b[0mx\u001b[0m \u001b[0;32min\u001b[0m \u001b[0mhams\u001b[0m\u001b[0;34m]\u001b[0m\u001b[0;34m\u001b[0m\u001b[0;34m\u001b[0m\u001b[0m\n",
      "\u001b[0;31mFileNotFoundError\u001b[0m: [Errno 2] No such file or directory: 'utilities/hamiltonians/cm_hamiltonians.txt'"
     ]
    }
   ],
   "source": [
    "pp ={\"problem\" : \"H4\", \"geometry\": str( [('H', (0., 0., 0.)), ('H', (0., 0., np.round(bond,2))),\n",
    "                                            ('H', (0., 0., 2*bond)), ('H', (0., 0., 3*bond))]).replace(\"'\",\"\"), \n",
    "                           \"multiplicity\":1, \"charge\":0, \"basis\":\"sto-3g\"}\n",
    "arguss= {\"n_qubits\":8,\"problem_config\":pp,\n",
    "         \"noise_config\":{},\"specific_folder_name\": \"\"}\n",
    "         #\"N8_geometry_H4_multip_[(H, (0.0, 0.0, {})), (H, (0.0, 0.0, {})), (H, (0.0, 0.0, {})), (H, (0.0, 0.0, {}))]_charge_1_basis0_quiet\".format(0.0,bond,2*bond,3*bond)}\n",
    "evaluator = Evaluator(args=arguss,loading=True,path=\"{}\".format(\"\"))"
   ]
  },
  {
   "cell_type": "code",
   "execution_count": 44,
   "metadata": {},
   "outputs": [],
   "source": []
  },
  {
   "cell_type": "code",
   "execution_count": null,
   "metadata": {},
   "outputs": [],
   "source": []
  },
  {
   "cell_type": "code",
   "execution_count": 40,
   "metadata": {},
   "outputs": [
    {
     "ename": "FileNotFoundError",
     "evalue": "[Errno 2] No such file or directory: '/home/cooper-cooper/Desktop/data-vans/H4/N8_geometry_H4_multip_[(H, (0.0, 0.0, 0.0)), (H, (0.0, 0.0, {})), (H, (0.0, 0.0, {})), (H, (0.0, 0.0, {}))]_charge_1_basis0_quiet'",
     "output_type": "error",
     "traceback": [
      "\u001b[0;31m---------------------------------------------------------------------------\u001b[0m",
      "\u001b[0;31mFileNotFoundError\u001b[0m                         Traceback (most recent call last)",
      "\u001b[0;32m<ipython-input-40-5242a4773d57>\u001b[0m in \u001b[0;36m<module>\u001b[0;34m\u001b[0m\n\u001b[1;32m      1\u001b[0m \u001b[0;31m#\"N8_geometry_H4_multip_[(H, (0.0, 0.0, {})), (H, (0.0, 0.0, {})), (H, (0.0, 0.0, {})), (H, (0.0, 0.0, {}))]_charge_1_basis0_quiet\".format(0.0,bond,2*bond,3*bond)}\u001b[0m\u001b[0;34m\u001b[0m\u001b[0;34m\u001b[0m\u001b[0;34m\u001b[0m\u001b[0m\n\u001b[1;32m      2\u001b[0m os.chdir(\"/home/cooper-cooper/Desktop/data-vans/H4/\"+\n\u001b[0;32m----> 3\u001b[0;31m \u001b[0;34m\"N8_geometry_H4_multip_[(H, (0.0, 0.0, 0.0)), (H, (0.0, 0.0, {})), (H, (0.0, 0.0, {})), (H, (0.0, 0.0, {}))]_charge_1_basis0_quiet\"\u001b[0m\u001b[0;34m\u001b[0m\u001b[0;34m\u001b[0m\u001b[0m\n\u001b[0m\u001b[1;32m      4\u001b[0m         )\n",
      "\u001b[0;31mFileNotFoundError\u001b[0m: [Errno 2] No such file or directory: '/home/cooper-cooper/Desktop/data-vans/H4/N8_geometry_H4_multip_[(H, (0.0, 0.0, 0.0)), (H, (0.0, 0.0, {})), (H, (0.0, 0.0, {})), (H, (0.0, 0.0, {}))]_charge_1_basis0_quiet'"
     ]
    }
   ],
   "source": [
    "         #\"N8_geometry_H4_multip_[(H, (0.0, 0.0, {})), (H, (0.0, 0.0, {})), (H, (0.0, 0.0, {})), (H, (0.0, 0.0, {}))]_charge_1_basis0_quiet\".format(0.0,bond,2*bond,3*bond)}\n",
    "os.chdir(\"/home/cooper-cooper/Desktop/data-vans/H4/\"+\n",
    "         \"N8_geometry_H4_multip_[(H, (0.0, 0.0, 0.0)), (H, (0.0, 0.0, {})), (H, (0.0, 0.0, {})), (H, (0.0, 0.0, {}))]_charge_1_basis0_quiet\"\n",
    "        )"
   ]
  },
  {
   "cell_type": "code",
   "execution_count": 43,
   "metadata": {},
   "outputs": [
    {
     "ename": "FileNotFoundError",
     "evalue": "[Errno 2] No such file or directory: '/home/cooper-cooper/Desktop/data-vans/H4/N8_geometry_H4_multip_[(H,(0.0,0.0,0.0)),(H,(0.0,0.0,0.33)),(H,(0.0,0.0,0.66)),(H,(0.0,0.0,0.99))]_charge_1_basis0_quiet/'",
     "output_type": "error",
     "traceback": [
      "\u001b[0;31m---------------------------------------------------------------------------\u001b[0m",
      "\u001b[0;31mFileNotFoundError\u001b[0m                         Traceback (most recent call last)",
      "\u001b[0;32m<ipython-input-43-a6222cc5904e>\u001b[0m in \u001b[0;36m<module>\u001b[0;34m\u001b[0m\n\u001b[0;32m----> 1\u001b[0;31m \u001b[0mos\u001b[0m\u001b[0;34m.\u001b[0m\u001b[0mchdir\u001b[0m\u001b[0;34m(\u001b[0m\u001b[0;34m\"/home/cooper-cooper/Desktop/data-vans/H4/N8_geometry_H4_multip_[(H, (0.0, 0.0, 0.0)), (H, (0.0, 0.0, {})), (H, (0.0, 0.0, {})), (H, (0.0, 0.0, {}))]_charge_1_basis0_quiet/\"\u001b[0m\u001b[0;34m.\u001b[0m\u001b[0mformat\u001b[0m\u001b[0;34m(\u001b[0m\u001b[0mbond\u001b[0m\u001b[0;34m,\u001b[0m\u001b[0;36m2\u001b[0m\u001b[0;34m*\u001b[0m\u001b[0mbond\u001b[0m\u001b[0;34m,\u001b[0m\u001b[0;36m3\u001b[0m\u001b[0;34m*\u001b[0m\u001b[0mbond\u001b[0m\u001b[0;34m)\u001b[0m\u001b[0;34m.\u001b[0m\u001b[0mreplace\u001b[0m\u001b[0;34m(\u001b[0m\u001b[0;34m\" \"\u001b[0m\u001b[0;34m,\u001b[0m\u001b[0;34m\"\"\u001b[0m\u001b[0;34m)\u001b[0m\u001b[0;34m)\u001b[0m\u001b[0;34m\u001b[0m\u001b[0;34m\u001b[0m\u001b[0m\n\u001b[0m",
      "\u001b[0;31mFileNotFoundError\u001b[0m: [Errno 2] No such file or directory: '/home/cooper-cooper/Desktop/data-vans/H4/N8_geometry_H4_multip_[(H,(0.0,0.0,0.0)),(H,(0.0,0.0,0.33)),(H,(0.0,0.0,0.66)),(H,(0.0,0.0,0.99))]_charge_1_basis0_quiet/'"
     ]
    }
   ],
   "source": [
    "os.chdir(\"/home/cooper-cooper/Desktop/data-vans/H4/N8_geometry_H4_multip_[(H, (0.0, 0.0, 0.0)), (H, (0.0, 0.0, {})), (H, (0.0, 0.0, {})), (H, (0.0, 0.0, {}))]_charge_1_basis0_quiet\".format(bond,2*bond,3*bond).replace(\" \",\"\"))\n"
   ]
  },
  {
   "cell_type": "code",
   "execution_count": 5,
   "metadata": {},
   "outputs": [
    {
     "name": "stderr",
     "output_type": "stream",
     "text": [
      "  0%|          | 0/30 [00:00<?, ?it/s]"
     ]
    },
    {
     "name": "stdout",
     "output_type": "stream",
     "text": [
      "loaded !!\n",
      "loaded !!\n",
      "loaded !!\n",
      "loaded !!\n"
     ]
    },
    {
     "name": "stderr",
     "output_type": "stream",
     "text": [
      " 23%|██▎       | 7/30 [00:07<00:25,  1.10s/it]"
     ]
    },
    {
     "name": "stdout",
     "output_type": "stream",
     "text": [
      "loaded !!\n"
     ]
    },
    {
     "name": "stderr",
     "output_type": "stream",
     "text": [
      " 27%|██▋       | 8/30 [00:14<00:46,  2.13s/it]"
     ]
    },
    {
     "name": "stdout",
     "output_type": "stream",
     "text": [
      "loaded !!\n"
     ]
    },
    {
     "name": "stderr",
     "output_type": "stream",
     "text": [
      " 30%|███       | 9/30 [00:22<01:07,  3.20s/it]"
     ]
    },
    {
     "name": "stdout",
     "output_type": "stream",
     "text": [
      "loaded !!\n"
     ]
    },
    {
     "name": "stderr",
     "output_type": "stream",
     "text": [
      " 37%|███▋      | 11/30 [00:36<01:27,  4.63s/it]"
     ]
    },
    {
     "name": "stdout",
     "output_type": "stream",
     "text": [
      "loaded !!\n"
     ]
    },
    {
     "name": "stderr",
     "output_type": "stream",
     "text": [
      " 47%|████▋     | 14/30 [00:43<00:53,  3.35s/it]"
     ]
    },
    {
     "name": "stdout",
     "output_type": "stream",
     "text": [
      "loaded !!\n"
     ]
    },
    {
     "name": "stderr",
     "output_type": "stream",
     "text": [
      " 53%|█████▎    | 16/30 [00:48<00:43,  3.11s/it]"
     ]
    },
    {
     "name": "stdout",
     "output_type": "stream",
     "text": [
      "loaded !!\n"
     ]
    },
    {
     "name": "stderr",
     "output_type": "stream",
     "text": [
      " 57%|█████▋    | 17/30 [00:55<00:51,  3.93s/it]"
     ]
    },
    {
     "name": "stdout",
     "output_type": "stream",
     "text": [
      "loaded !!\n"
     ]
    },
    {
     "name": "stderr",
     "output_type": "stream",
     "text": [
      "100%|██████████| 30/30 [01:04<00:00,  2.14s/it]\n"
     ]
    }
   ],
   "source": [
    "nconts=[]\n",
    "fcis=[]\n",
    "bads=0\n",
    "nparams=[]\n",
    "lowestenergy=[]\n",
    "\n",
    "indices_to_kill=[]\n",
    "bonds_to_kill=[]\n",
    "\n",
    "path=\"../data-vans/\"\n",
    "\n",
    "for ind,bond in enumerate(tqdm(np.linspace(0.25,1.75,0.05))):\n",
    "    try:\n",
    "        try:\n",
    "            pp ={\"problem\" : \"H4\", \"geometry\": str( [('H', (0., 0., 0.)), ('H', (0., 0., bond)),\n",
    "                                                ('H', (0., 0., 2*bond)), ('H', (0., 0., 3*bond))]).replace(\"'\",\"\"), \n",
    "                               \"multiplicity\":1, \"charge\":0, \"basis\":\"sto-3g\"}\n",
    "            arguss= {\"n_qubits\":8,\"problem_config\":pp, \"noise_config\":{},\"specific_name\": \"__adagrad__\"}\n",
    "            evaluator = Evaluator(args=arguss,loading=True,path=\"{}\".format(path))\n",
    "            nconts[\"sgd\"][bond]= evaluator.number_cnots_best()\n",
    "            nparams[\"sgd\"][bond] = len(evaluator.evolution[evaluator.get_best_iteration()[0]][2])\n",
    "            vansen[\"sgd\"][bond] = evaluator.evolution[evaluator.get_best_iteration()[0]][4]\n",
    "        except Exception:\n",
    "            bond = np.round(bond,2)\n",
    "            pp ={\"problem\" : \"H4\", \"geometry\": str( [('H', (0., 0., 0.)), ('H', (0., 0., bond)),\n",
    "                                    ('H', (0., 0., 2*bond)), ('H', (0., 0., 3*bond))]).replace(\"'\",\"\"), \n",
    "                   \"multiplicity\":1, \"charge\":0, \"basis\":\"sto-3g\"}\n",
    "            arguss= {\"n_qubits\":8,\"problem_config\":pp, \"noise_config\":{},\"specific_name\": \"__sgd__\"}\n",
    "            evaluator = Evaluator(args=arguss,loading=True,path=\"{}\".format(path))\n",
    "            nconts[\"sgd\"][bond]= evaluator.number_cnots_best()\n",
    "            nparams[\"sgd\"][bond] = len(evaluator.evolution[evaluator.get_best_iteration()[0]][2])\n",
    "            vansen[\"sgd\"][bond] = evaluator.evolution[evaluator.get_best_iteration()[0]][4]\n",
    "            \n",
    "    except Exception as e:\n",
    "        print(e)\n",
    "        indices_to_kill.append(ind)\n",
    "        bonds_to_kill.append(bond)"
   ]
  },
  {
   "cell_type": "markdown",
   "metadata": {},
   "source": [
    "Compute FCIs"
   ]
  },
  {
   "cell_type": "code",
   "execution_count": 41,
   "metadata": {},
   "outputs": [
    {
     "name": "stderr",
     "output_type": "stream",
     "text": [
      "100%|██████████| 30/30 [00:51<00:00,  1.72s/it]\n"
     ]
    }
   ],
   "source": [
    "fcis={}\n",
    "for bond in tqdm(np.arange(0.25,1.75,0.05)): \n",
    "    problem_config ={\"problem\" : \"H4\", \"geometry\": [('H', (0., 0., 0.)), ('H', (0., 0., bond)),\n",
    "                                        ('H', (0., 0., 2*bond)), ('H', (0., 0., 3*bond))], \n",
    "                       \"multiplicity\":1, \"charge\":0, \"basis\":\"sto-3g\"}\n",
    "    q=8\n",
    "    vqe_handler = VQE(n_qubits=q, lr=0.01, epochs=2000,\n",
    "                        noise_config={}, problem_config=problem_config,\n",
    "                        patience=200, random_perturbations=True, \n",
    "                      return_lower_bound=1, optimizer=\"adam\")\n",
    "\n",
    "    fci = vqe_handler.lower_bound_energy\n",
    "    fcis[bond] = fci"
   ]
  },
  {
   "cell_type": "code",
   "execution_count": 42,
   "metadata": {},
   "outputs": [],
   "source": [
    "optimizer=\"sgd\"\n",
    "\n",
    "bondsrun=np.arange(0.25,1.75,0.05)\n",
    "fcihere = []\n",
    "bdhere=[]\n",
    "for ind,k in enumerate(list(vansen[optimizer].keys())):\n",
    "    try:\n",
    "        fcihere.append(fcis[k])\n",
    "        bdhere.append(k)\n",
    "    except Exception as e:\n",
    "        try:\n",
    "            nk=np.squeeze(np.argmin(np.abs(bondsrun-k)))\n",
    "            nk=bondsrun[nk]\n",
    "            fcihere.append(fcis[nk])\n",
    "            bdhere.append(nk)\n",
    "            \n",
    "        except Exception as f:\n",
    "            print(f,e)\n",
    "            break"
   ]
  },
  {
   "cell_type": "code",
   "execution_count": 49,
   "metadata": {},
   "outputs": [
    {
     "data": {
      "image/png": "[encoded data removed]",
      "text/plain": [
       "<Figure size 1440x720 with 4 Axes>"
      ]
     },
     "metadata": {
      "needs_background": "light"
     },
     "output_type": "display_data"
    }
   ],
   "source": [
    "plt.figure(figsize=(20,10))\n",
    "\n",
    "ax1, ax2,ax3,ax4 = [plt.subplot2grid((1,4),(0,k)) for k in range(4)]\n",
    "\n",
    "ind1=3\n",
    "optimizer=optimizer\n",
    "bdd = np.array(list(vansen[optimizer].keys()))[ind1:]\n",
    "plt.title(r'$H_4$')\n",
    "ax1.plot(bdd,np.array(fcihere)[ind1:],'--', label=\"FCI\")\n",
    "ax1.plot(bdd,np.array(list(vansen[optimizer].values()))[ind1:],'.',label=\"VAns\")\n",
    "ax1.set_xlabel(\"Bond Length\")\n",
    "\n",
    "\n",
    "diff = np.array(list(vansen[optimizer].values()))[ind1:]-np.array(fcihere)[ind1:]\n",
    "for i, v in enumerate(diff):\n",
    "    ax2.bar(i,v)\n",
    "ax2.set_ylabel(\"E(Vans)-E(FCI)\")\n",
    "ax2.plot(np.ones(len(diff))*0.0016, color=\"black\", label=\"chemical accuracy\")\n",
    "ax2.set_xlabel(\"Bond Length\")\n",
    "ax2.legend()\n",
    "\n",
    "\n",
    "ax3.set_title(\"Number of CNOTS\")\n",
    "for i, v in enumerate(np.array(list(nconts[optimizer].values()))[ind1:]):\n",
    "    ax3.bar(i,v)\n",
    "    \n",
    "ax4.set_title(\"Number of parameters\")\n",
    "for i, v in enumerate(np.array(list(nparams[optimizer].values()))[ind1:]):\n",
    "    ax4.bar(i,v)\n"
   ]
  },
  {
   "cell_type": "code",
   "execution_count": null,
   "metadata": {},
   "outputs": [],
   "source": []
  },
  {
   "cell_type": "code",
   "execution_count": null,
   "metadata": {},
   "outputs": [],
   "source": []
  },
  {
   "cell_type": "code",
   "execution_count": null,
   "metadata": {},
   "outputs": [],
   "source": []
  },
  {
   "cell_type": "code",
   "execution_count": null,
   "metadata": {},
   "outputs": [],
   "source": []
  },
  {
   "cell_type": "code",
   "execution_count": 50,
   "metadata": {},
   "outputs": [],
   "source": []
  },
  {
   "cell_type": "code",
   "execution_count": 14,
   "metadata": {},
   "outputs": [
    {
     "name": "stderr",
     "output_type": "stream",
     "text": [
      "  7%|▋         | 2/30 [00:14<03:23,  7.28s/it]"
     ]
    },
    {
     "name": "stdout",
     "output_type": "stream",
     "text": [
      "[Errno 2] No such file or directory: '/data/uab-giq/scratch/matias/data-vans/H4/N8_geometry_H4_multip_[(H, (0.0, 0.0, 0.0)), (H, (0.0, 0.0, 0.35)), (H, (0.0, 0.0, 0.7)), (H, (0.0, 0.0, 1.0499999999999998))]_charge_1_basis0_quiet/run_0/raw_history.pkl'\n",
      "[Errno 2] No such file or directory: '/data/uab-giq/scratch/matias/data-vans/H4/N8_geometry_H4_multip_[(H, (0.0, 0.0, 0.0)), (H, (0.0, 0.0, 0.4)), (H, (0.0, 0.0, 0.8)), (H, (0.0, 0.0, 1.2000000000000002))]_charge_1_basis0_quiet/run_0/raw_history.pkl'\n"
     ]
    },
    {
     "name": "stderr",
     "output_type": "stream",
     "text": [
      " 27%|██▋       | 8/30 [00:46<02:23,  6.52s/it]"
     ]
    },
    {
     "name": "stdout",
     "output_type": "stream",
     "text": [
      "[Errno 2] No such file or directory: '/data/uab-giq/scratch/matias/data-vans/H4/N8_geometry_H4_multip_[(H, (0.0, 0.0, 0.0)), (H, (0.0, 0.0, 0.65)), (H, (0.0, 0.0, 1.3)), (H, (0.0, 0.0, 1.9500000000000002))]_charge_1_basis0_quiet/run_0/raw_history.pkl'\n"
     ]
    },
    {
     "name": "stderr",
     "output_type": "stream",
     "text": [
      " 33%|███▎      | 10/30 [00:53<01:44,  5.23s/it]"
     ]
    },
    {
     "name": "stdout",
     "output_type": "stream",
     "text": [
      "[Errno 2] No such file or directory: '/data/uab-giq/scratch/matias/data-vans/H4/N8_geometry_H4_multip_[(H, (0.0, 0.0, 0.0)), (H, (0.0, 0.0, 0.75)), (H, (0.0, 0.0, 1.5)), (H, (0.0, 0.0, 2.25))]_charge_1_basis0_quiet/run_0/raw_history.pkl'\n"
     ]
    },
    {
     "name": "stderr",
     "output_type": "stream",
     "text": [
      "100%|██████████| 30/30 [01:22<00:00,  2.74s/it]"
     ]
    },
    {
     "name": "stdout",
     "output_type": "stream",
     "text": [
      "[Errno 2] No such file or directory: '/data/uab-giq/scratch/matias/data-vans/H4/N8_geometry_H4_multip_[(H, (0.0, 0.0, 0.0)), (H, (0.0, 0.0, 1.05)), (H, (0.0, 0.0, 2.1)), (H, (0.0, 0.0, 3.1500000000000004))]_charge_1_basis0_quiet/run_0/raw_history.pkl'\n",
      "[Errno 2] No such file or directory: '/data/uab-giq/scratch/matias/data-vans/H4/N8_geometry_H4_multip_[(H, (0.0, 0.0, 0.0)), (H, (0.0, 0.0, 1.1)), (H, (0.0, 0.0, 2.2)), (H, (0.0, 0.0, 3.3000000000000003))]_charge_1_basis0_quiet/run_0/raw_history.pkl'\n",
      "[Errno 2] No such file or directory: '/data/uab-giq/scratch/matias/data-vans/H4/N8_geometry_H4_multip_[(H, (0.0, 0.0, 0.0)), (H, (0.0, 0.0, 1.15)), (H, (0.0, 0.0, 2.3)), (H, (0.0, 0.0, 3.4499999999999997))]_charge_1_basis0_quiet/run_0/raw_history.pkl'\n",
      "[Errno 2] No such file or directory: '/data/uab-giq/scratch/matias/data-vans/H4/N8_geometry_H4_multip_[(H, (0.0, 0.0, 0.0)), (H, (0.0, 0.0, 1.2)), (H, (0.0, 0.0, 2.4)), (H, (0.0, 0.0, 3.5999999999999996))]_charge_1_basis0_quiet/run_0/raw_history.pkl'\n",
      "[Errno 2] No such file or directory: '/data/uab-giq/scratch/matias/data-vans/H4/N8_geometry_H4_multip_[(H, (0.0, 0.0, 0.0)), (H, (0.0, 0.0, 1.25)), (H, (0.0, 0.0, 2.5)), (H, (0.0, 0.0, 3.75))]_charge_1_basis0_quiet/run_0/raw_history.pkl'\n",
      "[Errno 2] No such file or directory: '/data/uab-giq/scratch/matias/data-vans/H4/N8_geometry_H4_multip_[(H, (0.0, 0.0, 0.0)), (H, (0.0, 0.0, 1.3)), (H, (0.0, 0.0, 2.6)), (H, (0.0, 0.0, 3.9000000000000004))]_charge_1_basis0_quiet/run_0/raw_history.pkl'\n",
      "[Errno 2] No such file or directory: '/data/uab-giq/scratch/matias/data-vans/H4/N8_geometry_H4_multip_[(H, (0.0, 0.0, 0.0)), (H, (0.0, 0.0, 1.35)), (H, (0.0, 0.0, 2.7)), (H, (0.0, 0.0, 4.050000000000001))]_charge_1_basis0_quiet/run_0/raw_history.pkl'\n",
      "[Errno 2] No such file or directory: '/data/uab-giq/scratch/matias/data-vans/H4/N8_geometry_H4_multip_[(H, (0.0, 0.0, 0.0)), (H, (0.0, 0.0, 1.4)), (H, (0.0, 0.0, 2.8)), (H, (0.0, 0.0, 4.199999999999999))]_charge_1_basis0_quiet/run_0/raw_history.pkl'\n",
      "[Errno 2] No such file or directory: '/data/uab-giq/scratch/matias/data-vans/H4/N8_geometry_H4_multip_[(H, (0.0, 0.0, 0.0)), (H, (0.0, 0.0, 1.45)), (H, (0.0, 0.0, 2.9)), (H, (0.0, 0.0, 4.35))]_charge_1_basis0_quiet/run_0/raw_history.pkl'\n",
      "[Errno 2] No such file or directory: '/data/uab-giq/scratch/matias/data-vans/H4/N8_geometry_H4_multip_[(H, (0.0, 0.0, 0.0)), (H, (0.0, 0.0, 1.5)), (H, (0.0, 0.0, 3.0)), (H, (0.0, 0.0, 4.5))]_charge_1_basis0_quiet/run_0/raw_history.pkl'\n",
      "[Errno 2] No such file or directory: '/data/uab-giq/scratch/matias/data-vans/H4/N8_geometry_H4_multip_[(H, (0.0, 0.0, 0.0)), (H, (0.0, 0.0, 1.55)), (H, (0.0, 0.0, 3.1)), (H, (0.0, 0.0, 4.65))]_charge_1_basis0_quiet/run_0/raw_history.pkl'\n",
      "[Errno 2] No such file or directory: '/data/uab-giq/scratch/matias/data-vans/H4/N8_geometry_H4_multip_[(H, (0.0, 0.0, 0.0)), (H, (0.0, 0.0, 1.6)), (H, (0.0, 0.0, 3.2)), (H, (0.0, 0.0, 4.800000000000001))]_charge_1_basis0_quiet/run_0/raw_history.pkl'\n",
      "[Errno 2] No such file or directory: '/data/uab-giq/scratch/matias/data-vans/H4/N8_geometry_H4_multip_[(H, (0.0, 0.0, 0.0)), (H, (0.0, 0.0, 1.65)), (H, (0.0, 0.0, 3.3)), (H, (0.0, 0.0, 4.949999999999999))]_charge_1_basis0_quiet/run_0/raw_history.pkl'\n",
      "[Errno 2] No such file or directory: '/data/uab-giq/scratch/matias/data-vans/H4/N8_geometry_H4_multip_[(H, (0.0, 0.0, 0.0)), (H, (0.0, 0.0, 1.7)), (H, (0.0, 0.0, 3.4)), (H, (0.0, 0.0, 5.1))]_charge_1_basis0_quiet/run_0/raw_history.pkl'\n"
     ]
    },
    {
     "name": "stderr",
     "output_type": "stream",
     "text": [
      "\n"
     ]
    }
   ],
   "source": [
    "optimizer=\"adam\"\n",
    "\n",
    "\n",
    "\n",
    "for ind,bond in enumerate(tqdm(np.arange(0.25,1.75,0.05))):\n",
    "    try:\n",
    "        try:\n",
    "            pp ={\"problem\" : \"H4\", \"geometry\": str( [('H', (0., 0., 0.)), ('H', (0., 0., bond)),\n",
    "                                                ('H', (0., 0., 2*bond)), ('H', (0., 0., 3*bond))]).replace(\"'\",\"\"),\n",
    "                               \"multiplicity\":1, \"charge\":0, \"basis\":\"sto-3g\"}\n",
    "            arguss= {\"n_qubits\":8,\"problem_config\":pp, \"noise_config\":{},\"specific_name\": \"\"}\n",
    "            evaluator = Evaluator(args=arguss,loading=True,path=\"{}\".format(path))\n",
    "            nconts[optimizer][bond]= evaluator.number_cnots_best()\n",
    "            nparams[optimizer][bond] = len(evaluator.evolution[evaluator.get_best_iteration()[0]][2])\n",
    "            vansen[optimizer][bond] = evaluator.evolution[evaluator.get_best_iteration()[0]][4]\n",
    "        except Exception:\n",
    "            bond = np.round(bond,2)\n",
    "            pp ={\"problem\" : \"H4\", \"geometry\": str( [('H', (0., 0., 0.)), ('H', (0., 0., bond)),\n",
    "                                    ('H', (0., 0., 2*bond)), ('H', (0., 0., 3*bond))]).replace(\"'\",\"\"),\n",
    "                   \"multiplicity\":1, \"charge\":0, \"basis\":\"sto-3g\"}\n",
    "            arguss= {\"n_qubits\":8,\"problem_config\":pp, \"noise_config\":{},\"specific_name\": \"\"}\n",
    "            evaluator = Evaluator(args=arguss,loading=True,path=\"{}\".format(path))\n",
    "            nconts[optimizer][bond]= evaluator.number_cnots_best()\n",
    "            nparams[optimizer][bond] = len(evaluator.evolution[evaluator.get_best_iteration()[0]][2])\n",
    "            vansen[optimizer][bond] = evaluator.evolution[evaluator.get_best_iteration()[0]][4]\n",
    "\n",
    "    except Exception as e:\n",
    "        print(e)\n",
    "        indices_to_kill.append(ind)\n",
    "        bonds_to_kill.append(bond)\n",
    "\n",
    "        \n",
    "\n",
    "bondsrun=np.arange(0.25,1.75,0.05)\n",
    "fcihere = []\n",
    "bdhere=[]\n",
    "for ind,k in enumerate(list(vansen[optimizer].keys())):\n",
    "    try:\n",
    "        fcihere.append(fcis[k])\n",
    "        bdhere.append(k)\n",
    "    except Exception as e:\n",
    "        try:\n",
    "            nk=np.squeeze(np.argmin(np.abs(bondsrun-k)))\n",
    "            nk=bondsrun[nk]\n",
    "            fcihere.append(fcis[nk])\n",
    "            bdhere.append(nk)\n",
    "            \n",
    "        except Exception as f:\n",
    "            print(f,e)\n",
    "            break"
   ]
  },
  {
   "cell_type": "code",
   "execution_count": 52,
   "metadata": {},
   "outputs": [
    {
     "data": {
      "image/png": "[encoded data removed]",
      "text/plain": [
       "<Figure size 1440x720 with 4 Axes>"
      ]
     },
     "metadata": {
      "needs_background": "light"
     },
     "output_type": "display_data"
    }
   ],
   "source": [
    "optimizer=\"adam\"\n",
    "\n",
    "plt.figure(figsize=(20,10))\n",
    "\n",
    "ax1, ax2,ax3,ax4 = [plt.subplot2grid((1,4),(0,k)) for k in range(4)]\n",
    "\n",
    "ind1=0\n",
    "optimizer=optimizer\n",
    "bdd = np.array(list(vansen[optimizer].keys()))[ind1:]\n",
    "plt.title(r'$H_4$')\n",
    "ax1.plot(bdd,np.array(fcihere)[ind1:],'--', label=\"FCI\")\n",
    "ax1.plot(bdd,np.array(list(vansen[optimizer].values()))[ind1:],'.',label=\"VAns\")\n",
    "ax1.set_xlabel(\"Bond Length\")\n",
    "\n",
    "\n",
    "diff = np.array(list(vansen[optimizer].values()))[ind1:]-np.array(fcihere)[ind1:]\n",
    "for i, v in enumerate(diff):\n",
    "    ax2.bar(i,v)\n",
    "ax2.set_ylabel(\"E(Vans)-E(FCI)\")\n",
    "ax2.plot(np.ones(len(diff))*0.0016, color=\"black\", label=\"chemical accuracy\")\n",
    "ax2.set_xlabel(\"Bond Length\")\n",
    "ax2.legend()\n",
    "\n",
    "\n",
    "ax3.set_title(\"Number of CNOTS\")\n",
    "for i, v in enumerate(np.array(list(nconts[optimizer].values()))[ind1:]):\n",
    "    ax3.bar(i,v)\n",
    "    \n",
    "ax4.set_title(\"Number of parameters\")\n",
    "for i, v in enumerate(np.array(list(nparams[optimizer].values()))[ind1:]):\n",
    "    ax4.bar(i,v)\n"
   ]
  },
  {
   "cell_type": "code",
   "execution_count": null,
   "metadata": {},
   "outputs": [],
   "source": []
  },
  {
   "cell_type": "code",
   "execution_count": null,
   "metadata": {},
   "outputs": [],
   "source": []
  },
  {
   "cell_type": "code",
   "execution_count": 59,
   "metadata": {},
   "outputs": [
    {
     "name": "stderr",
     "output_type": "stream",
     "text": [
      " 10%|█         | 3/30 [00:13<01:45,  3.90s/it]"
     ]
    },
    {
     "name": "stdout",
     "output_type": "stream",
     "text": [
      "[Errno 2] No such file or directory: '/data/uab-giq/scratch/matias/data-vans/H4/N8_geometry_H4_multip_[(H, (0.0, 0.0, 0.0)), (H, (0.0, 0.0, 0.55)), (H, (0.0, 0.0, 1.1)), (H, (0.0, 0.0, 1.6500000000000001))]_charge_1_basis0_quiet__adagrad__/run_0/raw_history.pkl'\n",
      "[Errno 2] No such file or directory: '/data/uab-giq/scratch/matias/data-vans/H4/N8_geometry_H4_multip_[(H, (0.0, 0.0, 0.0)), (H, (0.0, 0.0, 0.6)), (H, (0.0, 0.0, 1.2)), (H, (0.0, 0.0, 1.7999999999999998))]_charge_1_basis0_quiet__adagrad__/run_0/raw_history.pkl'\n",
      "[Errno 2] No such file or directory: '/data/uab-giq/scratch/matias/data-vans/H4/N8_geometry_H4_multip_[(H, (0.0, 0.0, 0.0)), (H, (0.0, 0.0, 0.65)), (H, (0.0, 0.0, 1.3)), (H, (0.0, 0.0, 1.9500000000000002))]_charge_1_basis0_quiet__adagrad__/run_0/raw_history.pkl'\n"
     ]
    },
    {
     "name": "stderr",
     "output_type": "stream",
     "text": [
      "100%|██████████| 30/30 [00:18<00:00,  1.63it/s]"
     ]
    },
    {
     "name": "stdout",
     "output_type": "stream",
     "text": [
      "[Errno 2] No such file or directory: '/data/uab-giq/scratch/matias/data-vans/H4/N8_geometry_H4_multip_[(H, (0.0, 0.0, 0.0)), (H, (0.0, 0.0, 0.75)), (H, (0.0, 0.0, 1.5)), (H, (0.0, 0.0, 2.25))]_charge_1_basis0_quiet__adagrad__/run_0/raw_history.pkl'\n",
      "[Errno 2] No such file or directory: '/data/uab-giq/scratch/matias/data-vans/H4/N8_geometry_H4_multip_[(H, (0.0, 0.0, 0.0)), (H, (0.0, 0.0, 0.8)), (H, (0.0, 0.0, 1.6)), (H, (0.0, 0.0, 2.4000000000000004))]_charge_1_basis0_quiet__adagrad__/run_0/raw_history.pkl'\n",
      "[Errno 2] No such file or directory: '/data/uab-giq/scratch/matias/data-vans/H4/N8_geometry_H4_multip_[(H, (0.0, 0.0, 0.0)), (H, (0.0, 0.0, 0.85)), (H, (0.0, 0.0, 1.7)), (H, (0.0, 0.0, 2.55))]_charge_1_basis0_quiet__adagrad__/run_0/raw_history.pkl'\n",
      "[Errno 2] No such file or directory: '/data/uab-giq/scratch/matias/data-vans/H4/N8_geometry_H4_multip_[(H, (0.0, 0.0, 0.0)), (H, (0.0, 0.0, 0.9)), (H, (0.0, 0.0, 1.8)), (H, (0.0, 0.0, 2.7))]_charge_1_basis0_quiet__adagrad__/run_0/raw_history.pkl'\n",
      "[Errno 2] No such file or directory: '/data/uab-giq/scratch/matias/data-vans/H4/N8_geometry_H4_multip_[(H, (0.0, 0.0, 0.0)), (H, (0.0, 0.0, 0.95)), (H, (0.0, 0.0, 1.9)), (H, (0.0, 0.0, 2.8499999999999996))]_charge_1_basis0_quiet__adagrad__/run_0/raw_history.pkl'\n",
      "[Errno 2] No such file or directory: '/data/uab-giq/scratch/matias/data-vans/H4/N8_geometry_H4_multip_[(H, (0.0, 0.0, 0.0)), (H, (0.0, 0.0, 1.0)), (H, (0.0, 0.0, 2.0)), (H, (0.0, 0.0, 3.0))]_charge_1_basis0_quiet__adagrad__/run_0/raw_history.pkl'\n",
      "[Errno 2] No such file or directory: '/data/uab-giq/scratch/matias/data-vans/H4/N8_geometry_H4_multip_[(H, (0.0, 0.0, 0.0)), (H, (0.0, 0.0, 1.05)), (H, (0.0, 0.0, 2.1)), (H, (0.0, 0.0, 3.1500000000000004))]_charge_1_basis0_quiet__adagrad__/run_0/raw_history.pkl'\n",
      "[Errno 2] No such file or directory: '/data/uab-giq/scratch/matias/data-vans/H4/N8_geometry_H4_multip_[(H, (0.0, 0.0, 0.0)), (H, (0.0, 0.0, 1.1)), (H, (0.0, 0.0, 2.2)), (H, (0.0, 0.0, 3.3000000000000003))]_charge_1_basis0_quiet__adagrad__/run_0/raw_history.pkl'\n",
      "[Errno 2] No such file or directory: '/data/uab-giq/scratch/matias/data-vans/H4/N8_geometry_H4_multip_[(H, (0.0, 0.0, 0.0)), (H, (0.0, 0.0, 1.15)), (H, (0.0, 0.0, 2.3)), (H, (0.0, 0.0, 3.4499999999999997))]_charge_1_basis0_quiet__adagrad__/run_0/raw_history.pkl'\n",
      "[Errno 2] No such file or directory: '/data/uab-giq/scratch/matias/data-vans/H4/N8_geometry_H4_multip_[(H, (0.0, 0.0, 0.0)), (H, (0.0, 0.0, 1.2)), (H, (0.0, 0.0, 2.4)), (H, (0.0, 0.0, 3.5999999999999996))]_charge_1_basis0_quiet__adagrad__/run_0/raw_history.pkl'\n",
      "[Errno 2] No such file or directory: '/data/uab-giq/scratch/matias/data-vans/H4/N8_geometry_H4_multip_[(H, (0.0, 0.0, 0.0)), (H, (0.0, 0.0, 1.25)), (H, (0.0, 0.0, 2.5)), (H, (0.0, 0.0, 3.75))]_charge_1_basis0_quiet__adagrad__/run_0/raw_history.pkl'\n",
      "[Errno 2] No such file or directory: '/data/uab-giq/scratch/matias/data-vans/H4/N8_geometry_H4_multip_[(H, (0.0, 0.0, 0.0)), (H, (0.0, 0.0, 1.3)), (H, (0.0, 0.0, 2.6)), (H, (0.0, 0.0, 3.9000000000000004))]_charge_1_basis0_quiet__adagrad__/run_0/raw_history.pkl'\n",
      "[Errno 2] No such file or directory: '/data/uab-giq/scratch/matias/data-vans/H4/N8_geometry_H4_multip_[(H, (0.0, 0.0, 0.0)), (H, (0.0, 0.0, 1.35)), (H, (0.0, 0.0, 2.7)), (H, (0.0, 0.0, 4.050000000000001))]_charge_1_basis0_quiet__adagrad__/run_0/raw_history.pkl'\n",
      "[Errno 2] No such file or directory: '/data/uab-giq/scratch/matias/data-vans/H4/N8_geometry_H4_multip_[(H, (0.0, 0.0, 0.0)), (H, (0.0, 0.0, 1.4)), (H, (0.0, 0.0, 2.8)), (H, (0.0, 0.0, 4.199999999999999))]_charge_1_basis0_quiet__adagrad__/run_0/raw_history.pkl'\n",
      "[Errno 2] No such file or directory: '/data/uab-giq/scratch/matias/data-vans/H4/N8_geometry_H4_multip_[(H, (0.0, 0.0, 0.0)), (H, (0.0, 0.0, 1.45)), (H, (0.0, 0.0, 2.9)), (H, (0.0, 0.0, 4.35))]_charge_1_basis0_quiet__adagrad__/run_0/raw_history.pkl'\n",
      "[Errno 2] No such file or directory: '/data/uab-giq/scratch/matias/data-vans/H4/N8_geometry_H4_multip_[(H, (0.0, 0.0, 0.0)), (H, (0.0, 0.0, 1.5)), (H, (0.0, 0.0, 3.0)), (H, (0.0, 0.0, 4.5))]_charge_1_basis0_quiet__adagrad__/run_0/raw_history.pkl'\n",
      "[Errno 2] No such file or directory: '/data/uab-giq/scratch/matias/data-vans/H4/N8_geometry_H4_multip_[(H, (0.0, 0.0, 0.0)), (H, (0.0, 0.0, 1.55)), (H, (0.0, 0.0, 3.1)), (H, (0.0, 0.0, 4.65))]_charge_1_basis0_quiet__adagrad__/run_0/raw_history.pkl'\n",
      "[Errno 2] No such file or directory: '/data/uab-giq/scratch/matias/data-vans/H4/N8_geometry_H4_multip_[(H, (0.0, 0.0, 0.0)), (H, (0.0, 0.0, 1.6)), (H, (0.0, 0.0, 3.2)), (H, (0.0, 0.0, 4.800000000000001))]_charge_1_basis0_quiet__adagrad__/run_0/raw_history.pkl'\n",
      "[Errno 2] No such file or directory: '/data/uab-giq/scratch/matias/data-vans/H4/N8_geometry_H4_multip_[(H, (0.0, 0.0, 0.0)), (H, (0.0, 0.0, 1.65)), (H, (0.0, 0.0, 3.3)), (H, (0.0, 0.0, 4.949999999999999))]_charge_1_basis0_quiet__adagrad__/run_0/raw_history.pkl'\n",
      "[Errno 2] No such file or directory: '/data/uab-giq/scratch/matias/data-vans/H4/N8_geometry_H4_multip_[(H, (0.0, 0.0, 0.0)), (H, (0.0, 0.0, 1.7)), (H, (0.0, 0.0, 3.4)), (H, (0.0, 0.0, 5.1))]_charge_1_basis0_quiet__adagrad__/run_0/raw_history.pkl'\n"
     ]
    },
    {
     "name": "stderr",
     "output_type": "stream",
     "text": [
      "\n"
     ]
    }
   ],
   "source": [
    "optimizer=\"adagrad\"\n",
    "\n",
    "\n",
    "\n",
    "for ind,bond in enumerate(tqdm(np.arange(0.25,1.75,0.05))):\n",
    "    try:\n",
    "        try:\n",
    "            pp ={\"problem\" : \"H4\", \"geometry\": str( [('H', (0., 0., 0.)), ('H', (0., 0., bond)),\n",
    "                                                ('H', (0., 0., 2*bond)), ('H', (0., 0., 3*bond))]).replace(\"'\",\"\"),\n",
    "                               \"multiplicity\":1, \"charge\":0, \"basis\":\"sto-3g\"}\n",
    "            arguss= {\"n_qubits\":8,\"problem_config\":pp, \"noise_config\":{}}\n",
    "            evaluator = Evaluator(args=arguss,loading=True,path=\"{}\".format(path))\n",
    "            nconts[optimizer][bond]= evaluator.number_cnots_best()\n",
    "            nparams[optimizer][bond] = len(evaluator.evolution[evaluator.get_best_iteration()[0]][2])\n",
    "            vansen[optimizer][bond] = evaluator.evolution[evaluator.get_best_iteration()[0]][4]\n",
    "        except Exception:\n",
    "            bond = np.round(bond,2)\n",
    "            pp ={\"problem\" : \"H4\", \"geometry\": str( [('H', (0., 0., 0.)), ('H', (0., 0., bond)),\n",
    "                                    ('H', (0., 0., 2*bond)), ('H', (0., 0., 3*bond))]).replace(\"'\",\"\"),\n",
    "                   \"multiplicity\":1, \"charge\":0, \"basis\":\"sto-3g\"}\n",
    "            arguss= {\"n_qubits\":8,\"problem_config\":pp, \"noise_config\":{}, \"specific_name\": \"__adagrad__\"}\n",
    "            evaluator = Evaluator(args=arguss,loading=True,path=\"{}\".format(path))\n",
    "            nconts[optimizer][bond]= evaluator.number_cnots_best()\n",
    "            nparams[optimizer][bond] = len(evaluator.evolution[evaluator.get_best_iteration()[0]][2])\n",
    "            vansen[optimizer][bond] = evaluator.evolution[evaluator.get_best_iteration()[0]][4]\n",
    "\n",
    "    except Exception as e:\n",
    "        print(e)\n",
    "        indices_to_kill.append(ind)\n",
    "        bonds_to_kill.append(bond)\n",
    "\n",
    "        \n",
    "\n",
    "bondsrun=np.arange(0.25,1.75,0.05)\n",
    "fcihere = []\n",
    "bdhere=[]\n",
    "for ind,k in enumerate(list(vansen[optimizer].keys())):\n",
    "    try:\n",
    "        fcihere.append(fcis[k])\n",
    "        bdhere.append(k)\n",
    "    except Exception as e:\n",
    "        try:\n",
    "            nk=np.squeeze(np.argmin(np.abs(bondsrun-k)))\n",
    "            nk=bondsrun[nk]\n",
    "            fcihere.append(fcis[nk])\n",
    "            bdhere.append(nk)\n",
    "            \n",
    "        except Exception as f:\n",
    "            print(f,e)\n",
    "            break"
   ]
  },
  {
   "cell_type": "code",
   "execution_count": null,
   "metadata": {},
   "outputs": [],
   "source": []
  },
  {
   "cell_type": "code",
   "execution_count": 57,
   "metadata": {},
   "outputs": [
    {
     "data": {
      "image/png": "[encoded data removed]",
      "text/plain": [
       "<Figure size 1440x720 with 4 Axes>"
      ]
     },
     "metadata": {
      "needs_background": "light"
     },
     "output_type": "display_data"
    }
   ],
   "source": [
    "optimizer=\"adagrad\"\n",
    "\n",
    "plt.figure(figsize=(20,10))\n",
    "\n",
    "ax1, ax2,ax3,ax4 = [plt.subplot2grid((1,4),(0,k)) for k in range(4)]\n",
    "\n",
    "ind1=3\n",
    "optimizer=optimizer\n",
    "bdd = np.array(list(vansen[optimizer].keys()))[ind1:]\n",
    "plt.title(r'$H_4$')\n",
    "ax1.plot(bdd,np.array(fcihere)[ind1:],'--', label=\"FCI\")\n",
    "ax1.plot(bdd,np.array(list(vansen[optimizer].values()))[ind1:],'.',label=\"VAns\")\n",
    "ax1.set_xlabel(\"Bond Length\")\n",
    "\n",
    "\n",
    "diff = np.array(list(vansen[optimizer].values()))[ind1:]-np.array(fcihere)[ind1:]\n",
    "for i, v in enumerate(diff):\n",
    "    ax2.bar(i,v)\n",
    "ax2.set_ylabel(\"E(Vans)-E(FCI)\")\n",
    "ax2.plot(np.ones(len(diff))*0.0016, color=\"black\", label=\"chemical accuracy\")\n",
    "ax2.set_xlabel(\"Bond Length\")\n",
    "ax2.legend()\n",
    "\n",
    "\n",
    "ax3.set_title(\"Number of CNOTS\")\n",
    "for i, v in enumerate(np.array(list(nconts[optimizer].values()))[ind1:]):\n",
    "    ax3.bar(i,v)\n",
    "    \n",
    "ax4.set_title(\"Number of parameters\")\n",
    "for i, v in enumerate(np.array(list(nparams[optimizer].values()))[ind1:]):\n",
    "    ax4.bar(i,v)\n"
   ]
  },
  {
   "cell_type": "code",
   "execution_count": 22,
   "metadata": {},
   "outputs": [
    {
     "name": "stderr",
     "output_type": "stream",
     "text": [
      " 17%|█▋        | 5/30 [01:06<04:59, 11.99s/it]"
     ]
    },
    {
     "name": "stdout",
     "output_type": "stream",
     "text": [
      "problem with 0.45\n"
     ]
    },
    {
     "name": "stderr",
     "output_type": "stream",
     "text": [
      " 47%|████▋     | 14/30 [03:07<03:03, 11.44s/it]"
     ]
    },
    {
     "name": "stdout",
     "output_type": "stream",
     "text": [
      "problem with 0.9\n"
     ]
    },
    {
     "name": "stderr",
     "output_type": "stream",
     "text": [
      " 57%|█████▋    | 17/30 [03:40<02:09,  9.96s/it]"
     ]
    },
    {
     "name": "stdout",
     "output_type": "stream",
     "text": [
      "problem with 1.05\n"
     ]
    },
    {
     "name": "stderr",
     "output_type": "stream",
     "text": [
      " 60%|██████    | 18/30 [03:42<01:32,  7.74s/it]"
     ]
    },
    {
     "name": "stdout",
     "output_type": "stream",
     "text": [
      "problem with 1.1\n"
     ]
    },
    {
     "name": "stderr",
     "output_type": "stream",
     "text": [
      " 67%|██████▋   | 20/30 [03:57<01:11,  7.13s/it]"
     ]
    },
    {
     "name": "stdout",
     "output_type": "stream",
     "text": [
      "problem with 1.2\n"
     ]
    },
    {
     "name": "stderr",
     "output_type": "stream",
     "text": [
      " 70%|███████   | 21/30 [03:59<00:51,  5.67s/it]"
     ]
    },
    {
     "name": "stdout",
     "output_type": "stream",
     "text": [
      "problem with 1.25\n"
     ]
    },
    {
     "name": "stderr",
     "output_type": "stream",
     "text": [
      " 73%|███████▎  | 22/30 [04:02<00:37,  4.70s/it]"
     ]
    },
    {
     "name": "stdout",
     "output_type": "stream",
     "text": [
      "problem with 1.3\n"
     ]
    },
    {
     "name": "stderr",
     "output_type": "stream",
     "text": [
      " 77%|███████▋  | 23/30 [04:04<00:27,  3.96s/it]"
     ]
    },
    {
     "name": "stdout",
     "output_type": "stream",
     "text": [
      "problem with 1.35\n"
     ]
    },
    {
     "name": "stderr",
     "output_type": "stream",
     "text": [
      " 80%|████████  | 24/30 [04:06<00:20,  3.46s/it]"
     ]
    },
    {
     "name": "stdout",
     "output_type": "stream",
     "text": [
      "problem with 1.4\n"
     ]
    },
    {
     "name": "stderr",
     "output_type": "stream",
     "text": [
      " 83%|████████▎ | 25/30 [04:09<00:15,  3.12s/it]"
     ]
    },
    {
     "name": "stdout",
     "output_type": "stream",
     "text": [
      "problem with 1.45\n"
     ]
    },
    {
     "name": "stderr",
     "output_type": "stream",
     "text": [
      " 87%|████████▋ | 26/30 [04:11<00:11,  2.86s/it]"
     ]
    },
    {
     "name": "stdout",
     "output_type": "stream",
     "text": [
      "problem with 1.5\n"
     ]
    },
    {
     "name": "stderr",
     "output_type": "stream",
     "text": [
      " 93%|█████████▎| 28/30 [04:26<00:09,  4.82s/it]"
     ]
    },
    {
     "name": "stdout",
     "output_type": "stream",
     "text": [
      "problem with 1.6\n"
     ]
    },
    {
     "name": "stderr",
     "output_type": "stream",
     "text": [
      " 97%|█████████▋| 29/30 [04:28<00:03,  3.98s/it]"
     ]
    },
    {
     "name": "stdout",
     "output_type": "stream",
     "text": [
      "problem with 1.65\n"
     ]
    },
    {
     "name": "stderr",
     "output_type": "stream",
     "text": [
      "100%|██████████| 30/30 [04:39<00:00,  9.31s/it]\n"
     ]
    }
   ],
   "source": [
    "#path=\"/data/uab-giq/scratch/matias/data-vans/\"\n",
    "path = \"../data-vans/\"\n",
    "nconts=[]\n",
    "fcis=[]\n",
    "bads=0\n",
    "nparams=[]\n",
    "lowestenergy=[]\n",
    "for bond in tqdm(np.arange(0.25,1.75,0.05)):\n",
    "    bond = np.round(bond,2)\n",
    "    try:\n",
    "        problem_config ={\"problem\" : \"H4\", \"geometry\": [('H', (0., 0., 0.)), ('H', (0., 0., bond)),\n",
    "                                            ('H', (0., 0., 2*bond)), ('H', (0., 0., 3*bond))], \n",
    "                           \"multiplicity\":1, \"charge\":0, \"basis\":\"sto-3g\"}\n",
    "        q=8\n",
    "        vqe_handler = VQE(n_qubits=q, lr=0.01, epochs=2000,\n",
    "                            noise_config={}, problem_config=problem_config,\n",
    "                            patience=200, random_perturbations=True, \n",
    "                          return_lower_bound=1, optimizer=\"adam\")\n",
    "\n",
    "        fci = vqe_handler.lower_bound_energy - 0.0016\n",
    "        fcis.append(fci)\n",
    "\n",
    "        pp ={\"problem\" : \"H4\", \"geometry\": str([('H', (0., 0., 0.)), ('H', (0., 0., bond)),\n",
    "                                                ('H', (0., 0., 2*bond)), ('H', (0., 0., 3*bond))]).replace(\"'\",\"\"), \n",
    "                           \"multiplicity\":1, \"charge\":0, \"basis\":\"sto-3g\"}\n",
    "\n",
    "        arguss= {\"n_qubits\":8,\"problem_config\":pp, \"noise_config\":{}}\n",
    "        evaluator = Evaluator(args=arguss,loading=True,path=\"{}\".format(path))\n",
    "        nconts.append(evaluator.number_cnots_best())\n",
    "        nparams.append(len(evaluator.evolution[evaluator.get_best_iteration()[0]][2]))\n",
    "        lowestenergy.append(evaluator.evolution[evaluator.get_best_iteration()[0]][4])\n",
    "\n",
    "    except Exception:\n",
    "        print(\"problem with {}\".format(bond))"
   ]
  },
  {
   "cell_type": "code",
   "execution_count": 73,
   "metadata": {},
   "outputs": [
    {
     "data": {
      "text/plain": [
       "1336"
      ]
     },
     "execution_count": 73,
     "metadata": {},
     "output_type": "execute_result"
    }
   ],
   "source": [
    "len(evaluator.raw_history.keys())"
   ]
  },
  {
   "cell_type": "code",
   "execution_count": 72,
   "metadata": {},
   "outputs": [
    {
     "data": {
      "text/plain": [
       "556"
      ]
     },
     "execution_count": 72,
     "metadata": {},
     "output_type": "execute_result"
    }
   ],
   "source": [
    "len(evaluator.evolution.keys())"
   ]
  },
  {
   "cell_type": "code",
   "execution_count": 46,
   "metadata": {},
   "outputs": [],
   "source": [
    "bds=np.round(np.arange(.25,1.75,.05),2)\n",
    "posi=[]\n",
    "positions = np.array([0.45, 0.9, 1.05, 1.1, 1.2, 1.25, 1.3, 1.35, 1.4, 1.45, 1.5, 1.6, 1.65])\n",
    "for k in range(len(positions)):\n",
    "    posi.append(np.squeeze(np.where(bds == positions[k])))"
   ]
  },
  {
   "cell_type": "code",
   "execution_count": 47,
   "metadata": {},
   "outputs": [],
   "source": [
    "fcits=[]\n",
    "bdd=[]\n",
    "for ind, o in enumerate(fcis):\n",
    "    if ind in posi:\n",
    "        pass\n",
    "    else:\n",
    "        fcits.append(o)\n",
    "        bdd.append(bds[ind])"
   ]
  },
  {
   "cell_type": "code",
   "execution_count": 88,
   "metadata": {},
   "outputs": [
    {
     "data": {
      "image/png": "[encoded data removed]",
      "text/plain": [
       "<Figure size 1440x720 with 4 Axes>"
      ]
     },
     "metadata": {
      "needs_background": "light"
     },
     "output_type": "display_data"
    }
   ],
   "source": [
    "plt.figure(figsize=(20,10))\n",
    "\n",
    "ax1, ax2,ax3,ax4 = [plt.subplot2grid((1,4),(0,k)) for k in range(4)]\n",
    "\n",
    "plt.title(r'$H_4$')\n",
    "ax1.plot(bdd,np.array(fcits),'--', label=\"FCI\")\n",
    "ax1.plot(bdd,np.array(lowestenergy),'.',label=\"VAns\")\n",
    "ax1.set_xlabel(\"Bond Length\")\n",
    "\n",
    "diff = np.array(lowestenergy)-np.array(fcits)\n",
    "for i, v in enumerate(diff):\n",
    "    ax2.bar(i,v)\n",
    "ax2.set_ylabel(\"E(Vans)-E(FCI)\")\n",
    "ax2.plot(np.ones(len(diff))*0.0016, color=\"black\", label=\"chemical accuracy\")\n",
    "ax2.set_xlabel(\"Bond Length\")\n",
    "ax2.legend()\n",
    "\n",
    "ax3.set_title(\"Number of CNOTS\")\n",
    "for i, v in enumerate(nconts):\n",
    "    ax3.bar(i,v)\n",
    "    \n",
    "ax4.set_title(\"Number of parameters\")\n",
    "for i, v in enumerate(nparams):\n",
    "    ax4.bar(i,v)\n",
    "    \n",
    "plt.savefig(\"H4_molecule.png\")"
   ]
  },
  {
   "cell_type": "code",
   "execution_count": 42,
   "metadata": {},
   "outputs": [
    {
     "data": {
      "text/plain": [
       "array([0.00996798, 0.00491226, 0.00566858, 0.00973936, 0.00924967,\n",
       "       0.01084246, 0.00880931, 0.00259689, 0.00855147, 0.00480152,\n",
       "       0.0294475 , 0.03021752, 0.04059683, 0.01792083, 0.00190773,\n",
       "       0.05551249, 0.00376396])"
      ]
     },
     "execution_count": 42,
     "metadata": {},
     "output_type": "execute_result"
    }
   ],
   "source": [
    "np.array(lowestenergy)-np.array(fcits)"
   ]
  },
  {
   "cell_type": "code",
   "execution_count": 35,
   "metadata": {},
   "outputs": [
    {
     "data": {
      "text/plain": [
       "17"
      ]
     },
     "execution_count": 35,
     "metadata": {},
     "output_type": "execute_result"
    }
   ],
   "source": [
    "len(np.array(lowestenergy))"
   ]
  },
  {
   "cell_type": "code",
   "execution_count": null,
   "metadata": {},
   "outputs": [],
   "source": []
  },
  {
   "cell_type": "code",
   "execution_count": 131,
   "metadata": {},
   "outputs": [],
   "source": [
    "nconts = np.array(nconts)\n",
    "lowestenergy=np.array(lowestenergy)\n",
    "nparams=np.array(nparams)\n",
    "np.save(\"resuh4run/nconts\",nconts)\n",
    "np.save(\"resuh4run/nparams\",nparams)\n",
    "np.save(\"resuh4run/lowestenergy\",lowestenergy)\n"
   ]
  },
  {
   "cell_type": "code",
   "execution_count": 8,
   "metadata": {},
   "outputs": [],
   "source": [
    "nconts=np.load(\"resuh4run/nconts.npy\")\n",
    "nparams=np.load(\"resuh4run/nparams.npy\")\n",
    "lowestenergy=np.load(\"resuh4run/lowestenergy.npy\")"
   ]
  },
  {
   "cell_type": "code",
   "execution_count": 9,
   "metadata": {},
   "outputs": [
    {
     "data": {
      "text/plain": [
       "array([-1.9949881, -1.994915 , -1.9947252, -1.994151 , -1.9940431,\n",
       "       -1.9904932, -1.9817305, -1.9790623, -1.9790249, -1.9779917,\n",
       "       -1.9752166, -1.9750679, -1.9678845, -1.9676579, -1.9657737,\n",
       "       -1.965331 , -1.9653306, -1.965158 , -1.9650952, -1.9645276,\n",
       "       -1.96279  , -1.962275 , -1.9559717, -1.9534771, -1.9525874,\n",
       "       -1.9451331, -1.94497  , -1.943763 , -1.9320862, -1.9306335,\n",
       "       -1.9253795, -1.9200417, -1.9181707, -1.9162221, -1.9160621,\n",
       "       -1.9150822, -1.912723 , -1.9122819, -1.9118679, -1.9098502,\n",
       "       -1.9098444, -1.9098265, -1.9079826, -1.9078243, -1.8977007,\n",
       "       -1.8956885, -1.8875704, -1.8866643, -1.8844371, -1.8819506,\n",
       "       -1.880651 , -1.8699474, -1.8671525, -1.8658078, -1.8636953,\n",
       "       -1.8521333, -1.8509231, -1.8418158, -1.8418138, -1.8329873,\n",
       "       -1.8302209, -1.822129 , -1.8132709, -1.8132707, -1.8132706,\n",
       "       -1.8132463, -1.8095202, -1.8080587, -1.7940155, -1.7924225,\n",
       "       -1.7924224, -1.7924223, -1.786678 , -1.7744936, -1.7404926,\n",
       "       -1.7319642, -1.731964 , -1.731964 , -1.731964 , -1.731964 ,\n",
       "       -1.731964 , -1.731964 , -1.731964 , -1.7319638, -1.7319638,\n",
       "       -1.7319638, -1.7319638, -1.7319635, -1.6721224], dtype=float32)"
      ]
     },
     "execution_count": 9,
     "metadata": {},
     "output_type": "execute_result"
    }
   ],
   "source": [
    "np.sort(lowestenergy)"
   ]
  },
  {
   "cell_type": "code",
   "execution_count": 20,
   "metadata": {},
   "outputs": [],
   "source": [
    "nconts=np.sort(np.load(\"resuh4run/nconts.npy\"))\n",
    "nparams=np.sort(np.load(\"resuh4run/nparams.npy\"))\n",
    "lowestenergy=np.sort(np.load(\"resuh4run/lowestenergy.npy\"))"
   ]
  },
  {
   "cell_type": "code",
   "execution_count": 14,
   "metadata": {},
   "outputs": [
    {
     "data": {
      "image/png": "[encoded data removed]",
      "text/plain": [
       "<Figure size 1440x720 with 3 Axes>"
      ]
     },
     "metadata": {
      "needs_background": "light"
     },
     "output_type": "display_data"
    }
   ],
   "source": [
    "plt.figure(figsize=(20,10))\n",
    "plt.title(\"H-H-H-H\\nBond-length 1.5 A\")\n",
    "ax = [plt.subplot2grid((1,3), (0,k)) for k in range(3)]\n",
    "\n",
    "for k, arr in zip(range(3), [lowestenergy,nconts,nparams]):\n",
    "    for v,b in enumerate(arr):\n",
    "        if k==0:\n",
    "            ax[k].bar(v,b-fci)\n",
    "        else:\n",
    "            ax[k].bar(v,b)\n",
    "        ax[k].set_title([r'$E-E_{FCI}$', \"Number of CNOTS\",\"Number of trainable parameters\"][k])\n",
    "#plt.savefig(\"h4_better_results.png\")"
   ]
  },
  {
   "cell_type": "code",
   "execution_count": 18,
   "metadata": {},
   "outputs": [
    {
     "data": {
      "text/plain": [
       "array([-4.37736511e-04, -3.64661217e-04, -1.74880028e-04,  3.99351120e-04,\n",
       "        5.07235527e-04,  4.05716896e-03,  1.28198862e-02,  1.54880285e-02,\n",
       "        1.55254602e-02,  1.65586472e-02,  1.93337202e-02,  1.94824934e-02,\n",
       "        2.66658068e-02,  2.68924236e-02,  2.87766457e-02,  2.92193890e-02,\n",
       "        2.92197466e-02,  2.93923616e-02,  2.94551849e-02,  3.00227404e-02,\n",
       "        3.17603350e-02,  3.22753191e-02,  3.85786295e-02,  4.10732031e-02,\n",
       "        4.19629812e-02,  4.94172573e-02,  4.95803356e-02,  5.07873297e-02,\n",
       "        6.24641180e-02,  6.39168024e-02,  6.91708326e-02,  7.45086670e-02,\n",
       "        7.63796568e-02,  7.83282518e-02,  7.84882307e-02,  7.94681311e-02,\n",
       "        8.18274021e-02,  8.22684765e-02,  8.26824903e-02,  8.47001076e-02,\n",
       "        8.47059488e-02,  8.47238302e-02,  8.65677595e-02,  8.67260695e-02,\n",
       "        9.68496799e-02,  9.88618135e-02,  1.06979966e-01,  1.07886076e-01,\n",
       "        1.10113263e-01,  1.12599730e-01,  1.13899350e-01,  1.24602914e-01,\n",
       "        1.27397895e-01,  1.28742576e-01,  1.30855083e-01,  1.42417073e-01,\n",
       "        1.43627286e-01,  1.52734518e-01,  1.52736545e-01,  1.61563039e-01,\n",
       "        1.64329410e-01,  1.72421336e-01,  1.81279421e-01,  1.81279659e-01,\n",
       "        1.81279778e-01,  1.81304097e-01,  1.85030103e-01,  1.86491609e-01,\n",
       "        2.00534821e-01,  2.02127814e-01,  2.02127934e-01,  2.02128053e-01,\n",
       "        2.07872391e-01,  2.20056772e-01,  2.54057765e-01,  2.62586117e-01,\n",
       "        2.62586355e-01,  2.62586355e-01,  2.62586355e-01,  2.62586355e-01,\n",
       "        2.62586355e-01,  2.62586355e-01,  2.62586355e-01,  2.62586594e-01,\n",
       "        2.62586594e-01,  2.62586594e-01,  2.62586594e-01,  2.62586832e-01,\n",
       "        3.22427988e-01], dtype=float32)"
      ]
     },
     "execution_count": 18,
     "metadata": {},
     "output_type": "execute_result"
    }
   ],
   "source": [
    "np.sort(lowestenergy-(fci+0.0016))"
   ]
  },
  {
   "cell_type": "code",
   "execution_count": 106,
   "metadata": {},
   "outputs": [],
   "source": [
    "positions = np.where(lowestenergy-chemac < 0)"
   ]
  },
  {
   "cell_type": "code",
   "execution_count": 13,
   "metadata": {},
   "outputs": [
    {
     "ename": "NameError",
     "evalue": "name 'positions' is not defined",
     "output_type": "error",
     "traceback": [
      "\u001b[0;31m---------------------------------------------------------------------------\u001b[0m",
      "\u001b[0;31mNameError\u001b[0m                                 Traceback (most recent call last)",
      "\u001b[0;32m<ipython-input-13-e28137aa81e9>\u001b[0m in \u001b[0;36m<module>\u001b[0;34m\u001b[0m\n\u001b[0;32m----> 1\u001b[0;31m \u001b[0mlowestenergy\u001b[0m\u001b[0;34m[\u001b[0m\u001b[0mpositions\u001b[0m\u001b[0;34m]\u001b[0m\u001b[0;34m-\u001b[0m\u001b[0mfci\u001b[0m\u001b[0;34m\u001b[0m\u001b[0;34m\u001b[0m\u001b[0m\n\u001b[0m",
      "\u001b[0;31mNameError\u001b[0m: name 'positions' is not defined"
     ]
    }
   ],
   "source": [
    "lowestenergy[positions]-fci"
   ]
  },
  {
   "cell_type": "code",
   "execution_count": 25,
   "metadata": {},
   "outputs": [],
   "source": []
  },
  {
   "cell_type": "code",
   "execution_count": 24,
   "metadata": {},
   "outputs": [
    {
     "data": {
      "text/plain": [
       "-1.9929503255188075"
      ]
     },
     "execution_count": 24,
     "metadata": {},
     "output_type": "execute_result"
    }
   ],
   "source": []
  },
  {
   "cell_type": "code",
   "execution_count": null,
   "metadata": {},
   "outputs": [],
   "source": []
  },
  {
   "cell_type": "code",
   "execution_count": null,
   "metadata": {},
   "outputs": [],
   "source": []
  },
  {
   "cell_type": "code",
   "execution_count": 4,
   "metadata": {},
   "outputs": [
    {
     "name": "stderr",
     "output_type": "stream",
     "text": [
      "100%|██████████| 63/63 [00:00<00:00, 11658.56it/s]\n"
     ]
    }
   ],
   "source": [
    "circ, energy, indexed_circuit,resolver, lowest_energy = evaluator.evolution[len(evaluator.evolution.keys())-1]\n",
    "itsen=[]\n",
    "itslen=[]\n",
    "ncnots=[]\n",
    "nparams=[]\n",
    "for k in tqdm(range(len(evaluator.evolution.keys()))):\n",
    "    things = evaluator.evolution[k]\n",
    "    itsen.append(things[1])\n",
    "    itslen.append(things[-1])\n",
    "    ncnots.append(vqe_handler.count_cnots(things[2]))\n",
    "    nparams.append(len(things[2]) - ncnots[-1])\n",
    "    if evaluator.evolution[k][1] == lowest_energy:\n",
    "        pcirc, penergy, pindexed_circuit,presolver, plowest_energy = things"
   ]
  },
  {
   "cell_type": "code",
   "execution_count": 5,
   "metadata": {},
   "outputs": [
    {
     "data": {
      "text/plain": [
       "[<matplotlib.lines.Line2D at 0x7f4e70dce438>]"
      ]
     },
     "execution_count": 5,
     "metadata": {},
     "output_type": "execute_result"
    },
    {
     "data": {
      "image/png": "[encoded data removed]",
      "text/plain": [
       "<Figure size 432x288 with 2 Axes>"
      ]
     },
     "metadata": {
      "needs_background": "light"
     },
     "output_type": "display_data"
    }
   ],
   "source": [
    "ax1, ax2 = [plt.subplot2grid((1,2),(0,k)) for k in range(2)]\n",
    "ax1.plot(itsen, label=\"energy of current circuit\")\n",
    "ax1.plot(itslen, label=\"lowest found\")\n",
    "ax1.plot(np.ones(len(itslen))*vqe_handler.lower_bound_energy,'--', label=\"FCI\")\n",
    "\n",
    "ax2.plot(ncnots)\n",
    "ax2.plot(nparams,'--')"
   ]
  },
  {
   "cell_type": "markdown",
   "metadata": {},
   "source": [
    "Let's try now to add gates to the circuit, so it converges :) "
   ]
  },
  {
   "cell_type": "code",
   "execution_count": 62,
   "metadata": {},
   "outputs": [
    {
     "data": {
      "text/plain": [
       "[<matplotlib.lines.Line2D at 0x7f15c1f7a898>]"
      ]
     },
     "execution_count": 62,
     "metadata": {},
     "output_type": "execute_result"
    },
    {
     "data": {
      "image/png": "[encoded data removed]",
      "text/plain": [
       "<Figure size 432x288 with 1 Axes>"
      ]
     },
     "metadata": {
      "needs_background": "light"
     },
     "output_type": "display_data"
    }
   ],
   "source": [
    "energy, symbol_to_value, training_evolution = vqe_handler.vqe(pindexed_circuit, symbols_to_values=presolver) #compute energy\n",
    "plt.plot(training_evolution.history[\"energy\"])"
   ]
  },
  {
   "cell_type": "code",
   "execution_count": 94,
   "metadata": {},
   "outputs": [],
   "source": [
    "def gate_counter_on_qubits(self, indexed_circuit):\n",
    "    ngates = {k:[0,0] for k in range(len(self.qubits))}\n",
    "    for ind in indexed_circuit:\n",
    "        if ind < self.number_of_cnots:\n",
    "            control, target = self.indexed_cnots[str(ind)]\n",
    "            ngates[control][1]+=1\n",
    "            ngates[target][1]+=1   \n",
    "        else:\n",
    "            qind = (ind-self.number_of_cnots)%self.n_qubits\n",
    "            ngates[qind][0]+=1\n",
    "    return ngates"
   ]
  },
  {
   "cell_type": "code",
   "execution_count": 93,
   "metadata": {},
   "outputs": [
    {
     "data": {
      "text/plain": [
       "{0: [3, 7],\n",
       " 1: [2, 4],\n",
       " 2: [1, 6],\n",
       " 3: [1, 10],\n",
       " 4: [1, 14],\n",
       " 5: [2, 12],\n",
       " 6: [1, 12],\n",
       " 7: [4, 9]}"
      ]
     },
     "execution_count": 93,
     "metadata": {},
     "output_type": "execute_result"
    }
   ],
   "source": [
    "gate_counter(vqe_handler, indexed_circuit)"
   ]
  },
  {
   "cell_type": "code",
   "execution_count": 107,
   "metadata": {},
   "outputs": [],
   "source": [
    "def choose_qubit_from_N1q(self, beta=10):\n",
    "    \"\"\"\n",
    "    Note that beta could be annealed as energy decreases.. (at beta = 0 we get uniform sampling)\n",
    "    function that selects qubit according to how many gates are acting on each one in the circuit\n",
    "    \"\"\"\n",
    "    gc=np.array(list(ngates.values()))[:,0] #### gives the gate population for each qubit\n",
    "    probs=np.exp(beta*(1-gc/np.sum(gc)))/np.sum(np.exp(beta*(1-gc/np.sum(gc))))\n",
    "    return np.random.choice(range(vqe_handler.n_qubits),1,p=probs)[0]"
   ]
  },
  {
   "cell_type": "code",
   "execution_count": 112,
   "metadata": {},
   "outputs": [],
   "source": [
    "gc=np.array(list(ngates.values()))[:,1] #### gives the gate population for each qubit\n",
    "probs=np.exp(beta*(1-gc/np.sum(gc)))/np.sum(np.exp(beta*(1-gc/np.sum(gc))))"
   ]
  },
  {
   "cell_type": "code",
   "execution_count": 124,
   "metadata": {},
   "outputs": [
    {
     "data": {
      "text/plain": [
       "array([3, 0])"
      ]
     },
     "execution_count": 124,
     "metadata": {},
     "output_type": "execute_result"
    }
   ],
   "source": [
    "np.random.choice(range(vqe_handler.n_qubits),2,p=probs, replace=False)"
   ]
  },
  {
   "cell_type": "code",
   "execution_count": 55,
   "metadata": {},
   "outputs": [
    {
     "ename": "TypeError",
     "evalue": "operation_at() missing 1 required positional argument: 'moment_index'",
     "output_type": "error",
     "traceback": [
      "\u001b[0;31m---------------------------------------------------------------------------\u001b[0m",
      "\u001b[0;31mTypeError\u001b[0m                                 Traceback (most recent call last)",
      "\u001b[0;32m<ipython-input-55-ac1dc5de37cb>\u001b[0m in \u001b[0;36m<module>\u001b[0;34m\u001b[0m\n\u001b[1;32m      1\u001b[0m \u001b[0mcircuit\u001b[0m \u001b[0;34m=\u001b[0m \u001b[0mvqe_handler\u001b[0m\u001b[0;34m.\u001b[0m\u001b[0mgive_circuit\u001b[0m\u001b[0;34m(\u001b[0m\u001b[0mindexed_circuit\u001b[0m\u001b[0;34m)\u001b[0m\u001b[0;34m[\u001b[0m\u001b[0;36m0\u001b[0m\u001b[0;34m]\u001b[0m\u001b[0;34m\u001b[0m\u001b[0;34m\u001b[0m\u001b[0m\n\u001b[0;32m----> 2\u001b[0;31m \u001b[0mcircuit\u001b[0m\u001b[0;34m.\u001b[0m\u001b[0moperation_at\u001b[0m\u001b[0;34m(\u001b[0m\u001b[0;36m0\u001b[0m\u001b[0;34m)\u001b[0m\u001b[0;34m\u001b[0m\u001b[0;34m\u001b[0m\u001b[0m\n\u001b[0m",
      "\u001b[0;31mTypeError\u001b[0m: operation_at() missing 1 required positional argument: 'moment_index'"
     ]
    }
   ],
   "source": [
    "circuit = vqe_handler.give_circuit(indexed_circuit)[0]\n"
   ]
  },
  {
   "cell_type": "code",
   "execution_count": 63,
   "metadata": {},
   "outputs": [],
   "source": [
    "import cirq"
   ]
  },
  {
   "cell_type": "code",
   "execution_count": 80,
   "metadata": {},
   "outputs": [
    {
     "data": {
      "text/plain": [
       "False"
      ]
     },
     "execution_count": 80,
     "metadata": {},
     "output_type": "execute_result"
    }
   ],
   "source": []
  },
  {
   "cell_type": "code",
   "execution_count": null,
   "metadata": {},
   "outputs": [],
   "source": []
  },
  {
   "cell_type": "code",
   "execution_count": null,
   "metadata": {},
   "outputs": [],
   "source": []
  },
  {
   "cell_type": "code",
   "execution_count": null,
   "metadata": {},
   "outputs": [],
   "source": [
    "iid.inserter(indexed_circuit,resolver,-1)"
   ]
  },
  {
   "cell_type": "code",
   "execution_count": null,
   "metadata": {},
   "outputs": [],
   "source": []
  },
  {
   "cell_type": "code",
   "execution_count": null,
   "metadata": {},
   "outputs": [],
   "source": []
  }
 ],
 "metadata": {
  "kernelspec": {
   "display_name": "Python 3",
   "language": "python",
   "name": "python3"
  },
  "language_info": {
   "codemirror_mode": {
    "name": "ipython",
    "version": 3
   },
   "file_extension": ".py",
   "mimetype": "text/x-python",
   "name": "python",
   "nbconvert_exporter": "python",
   "pygments_lexer": "ipython3",
   "version": "3.6.9"
  }
 },
 "nbformat": 4,
 "nbformat_minor": 4
}
