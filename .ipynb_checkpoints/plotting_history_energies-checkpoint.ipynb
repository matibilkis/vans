{
 "cells": [
  {
   "cell_type": "code",
   "execution_count": 13,
   "metadata": {},
   "outputs": [],
   "source": [
    "from utilities.circuit_basics import Evaluator\n",
    "import numpy as np\n",
    "import matplotlib.pyplot as plt\n",
    "from glob import glob"
   ]
  },
  {
   "cell_type": "code",
   "execution_count": 14,
   "metadata": {},
   "outputs": [],
   "source": [
    "evaluator = Evaluator(loading=True, args={\"n_qubits\":4, \"J\":1.1, \"g\":0.75,\"problem\":\"xxz\"})\n",
    "energies=[]\n",
    "for k in range(len(list(evaluator.raw_history.keys()))-1):\n",
    "    energies.append(evaluator.raw_history[k][1])"
   ]
  },
  {
   "cell_type": "code",
   "execution_count": 15,
   "metadata": {},
   "outputs": [
    {
     "data": {
      "text/plain": [
       "[<matplotlib.lines.Line2D at 0x7fd583a2a240>]"
      ]
     },
     "execution_count": 15,
     "metadata": {},
     "output_type": "execute_result"
    },
    {
     "data": {
      "image/png": "[encoded data removed]",
      "text/plain": [
       "<Figure size 432x288 with 1 Axes>"
      ]
     },
     "metadata": {
      "needs_background": "light"
     },
     "output_type": "display_data"
    }
   ],
   "source": [
    "plt.plot(energies)"
   ]
  },
  {
   "cell_type": "code",
   "execution_count": 16,
   "metadata": {},
   "outputs": [],
   "source": [
    "ground = np.genfromtxt('xxz.csv',delimiter=',')\n",
    "js,ans = ground[:,0], ground[:,1]"
   ]
  },
  {
   "cell_type": "code",
   "execution_count": 17,
   "metadata": {},
   "outputs": [
    {
     "data": {
      "text/plain": [
       "array([[-1.1       , -7.4       ],\n",
       "       [-0.98421053, -6.93684211],\n",
       "       [-0.86842105, -6.47368421],\n",
       "       [-0.75263158, -6.01052632],\n",
       "       [-0.63684211, -5.54736842],\n",
       "       [-0.52105263, -5.5       ],\n",
       "       [-0.40526316, -5.5       ],\n",
       "       [-0.28947368, -5.5       ],\n",
       "       [-0.17368421, -5.5       ],\n",
       "       [-0.05789474, -5.54224969],\n",
       "       [ 0.05789474, -5.77382864],\n",
       "       [ 0.17368421, -6.014878  ],\n",
       "       [ 0.28947368, -6.26535045],\n",
       "       [ 0.40526316, -6.52515254],\n",
       "       [ 0.52105263, -6.79414693],\n",
       "       [ 0.63684211, -7.07215569],\n",
       "       [ 0.75263158, -7.35896431],\n",
       "       [ 0.86842105, -7.65432641],\n",
       "       [ 0.98421053, -7.95796874],\n",
       "       [ 1.1       , -8.26959636]])"
      ]
     },
     "execution_count": 17,
     "metadata": {},
     "output_type": "execute_result"
    }
   ],
   "source": [
    "ground"
   ]
  },
  {
   "cell_type": "code",
   "execution_count": 18,
   "metadata": {},
   "outputs": [
    {
     "ename": "FileNotFoundError",
     "evalue": "[Errno 2] No such file or directory: 'xxz/4Q - J -1.1 g 0.75/run_2/raw_history.pkl'",
     "output_type": "error",
     "traceback": [
      "\u001b[0;31m---------------------------------------------------------------------------\u001b[0m",
      "\u001b[0;31mFileNotFoundError\u001b[0m                         Traceback (most recent call last)",
      "\u001b[0;32m<ipython-input-18-d5d5ba109863>\u001b[0m in \u001b[0;36m<module>\u001b[0;34m\u001b[0m\n\u001b[1;32m      4\u001b[0m     \u001b[0maxs\u001b[0m\u001b[0;34m=\u001b[0m\u001b[0;34m{\u001b[0m\u001b[0mind\u001b[0m\u001b[0;34m:\u001b[0m\u001b[0mplt\u001b[0m\u001b[0;34m.\u001b[0m\u001b[0msubplot2grid\u001b[0m\u001b[0;34m(\u001b[0m\u001b[0;34m(\u001b[0m\u001b[0;36m5\u001b[0m\u001b[0;34m,\u001b[0m\u001b[0;36m4\u001b[0m\u001b[0;34m)\u001b[0m\u001b[0;34m,\u001b[0m\u001b[0;34m(\u001b[0m\u001b[0mind\u001b[0m\u001b[0;34m%\u001b[0m\u001b[0;36m5\u001b[0m\u001b[0;34m,\u001b[0m\u001b[0mind\u001b[0m\u001b[0;34m%\u001b[0m\u001b[0;36m4\u001b[0m\u001b[0;34m)\u001b[0m\u001b[0;34m)\u001b[0m\u001b[0;34m}\u001b[0m\u001b[0;34m\u001b[0m\u001b[0;34m\u001b[0m\u001b[0m\n\u001b[1;32m      5\u001b[0m     \u001b[0mnrun_load\u001b[0m \u001b[0;34m=\u001b[0m \u001b[0mint\u001b[0m\u001b[0;34m(\u001b[0m\u001b[0mlen\u001b[0m\u001b[0;34m(\u001b[0m\u001b[0mglob\u001b[0m\u001b[0;34m(\u001b[0m\u001b[0;34m\"xxz/4Q - J {} g 0.75/*\"\u001b[0m\u001b[0;34m.\u001b[0m\u001b[0mformat\u001b[0m\u001b[0;34m(\u001b[0m\u001b[0mj\u001b[0m\u001b[0;34m)\u001b[0m\u001b[0;34m)\u001b[0m\u001b[0;34m)\u001b[0m\u001b[0;34m-\u001b[0m\u001b[0;36m1\u001b[0m\u001b[0;34m)\u001b[0m\u001b[0;34m\u001b[0m\u001b[0;34m\u001b[0m\u001b[0m\n\u001b[0;32m----> 6\u001b[0;31m     \u001b[0mevaluator\u001b[0m \u001b[0;34m=\u001b[0m \u001b[0mEvaluator\u001b[0m\u001b[0;34m(\u001b[0m\u001b[0mloading\u001b[0m\u001b[0;34m=\u001b[0m\u001b[0;32mTrue\u001b[0m\u001b[0;34m,\u001b[0m \u001b[0margs\u001b[0m\u001b[0;34m=\u001b[0m\u001b[0;34m{\u001b[0m\u001b[0;34m\"n_qubits\"\u001b[0m\u001b[0;34m:\u001b[0m\u001b[0;36m4\u001b[0m\u001b[0;34m,\u001b[0m \u001b[0;34m\"J\"\u001b[0m\u001b[0;34m:\u001b[0m\u001b[0mj\u001b[0m\u001b[0;34m,\u001b[0m \u001b[0;34m\"g\"\u001b[0m\u001b[0;34m:\u001b[0m\u001b[0;36m0.75\u001b[0m\u001b[0;34m,\u001b[0m\u001b[0;34m\"problem\"\u001b[0m\u001b[0;34m:\u001b[0m\u001b[0;34m\"xxz\"\u001b[0m\u001b[0;34m}\u001b[0m\u001b[0;34m,\u001b[0m\u001b[0mnrun_load\u001b[0m\u001b[0;34m=\u001b[0m\u001b[0mnrun_load\u001b[0m\u001b[0;34m)\u001b[0m\u001b[0;34m\u001b[0m\u001b[0;34m\u001b[0m\u001b[0m\n\u001b[0m\u001b[1;32m      7\u001b[0m     \u001b[0mraw\u001b[0m\u001b[0;34m=\u001b[0m\u001b[0;34m[\u001b[0m\u001b[0;34m]\u001b[0m\u001b[0;34m\u001b[0m\u001b[0;34m\u001b[0m\u001b[0m\n\u001b[1;32m      8\u001b[0m     \u001b[0mevolution\u001b[0m\u001b[0;34m=\u001b[0m\u001b[0;34m[\u001b[0m\u001b[0;34m]\u001b[0m\u001b[0;34m\u001b[0m\u001b[0;34m\u001b[0m\u001b[0m\n",
      "\u001b[0;32m~/Desktop/vans/utilities/circuit_basics.py\u001b[0m in \u001b[0;36m__init__\u001b[0;34m(self, args, info, loading, nrun_load)\u001b[0m\n\u001b[1;32m    128\u001b[0m                 \u001b[0;32melse\u001b[0m\u001b[0;34m:\u001b[0m\u001b[0;34m\u001b[0m\u001b[0;34m\u001b[0m\u001b[0m\n\u001b[1;32m    129\u001b[0m                     \u001b[0margs_load\u001b[0m\u001b[0;34m[\u001b[0m\u001b[0mstr\u001b[0m\u001b[0;34m]\u001b[0m \u001b[0;34m=\u001b[0m \u001b[0margs\u001b[0m\u001b[0;34m[\u001b[0m\u001b[0mstr\u001b[0m\u001b[0;34m]\u001b[0m\u001b[0;34m\u001b[0m\u001b[0;34m\u001b[0m\u001b[0m\n\u001b[0;32m--> 130\u001b[0;31m             \u001b[0mself\u001b[0m\u001b[0;34m.\u001b[0m\u001b[0mload\u001b[0m\u001b[0;34m(\u001b[0m\u001b[0margs_load\u001b[0m\u001b[0;34m,\u001b[0m\u001b[0mnrun\u001b[0m\u001b[0;34m=\u001b[0m\u001b[0mnrun_load\u001b[0m\u001b[0;34m)\u001b[0m\u001b[0;34m\u001b[0m\u001b[0;34m\u001b[0m\u001b[0m\n\u001b[0m\u001b[1;32m    131\u001b[0m \u001b[0;34m\u001b[0m\u001b[0m\n\u001b[1;32m    132\u001b[0m \u001b[0;34m\u001b[0m\u001b[0m\n",
      "\u001b[0;32m~/Desktop/vans/utilities/circuit_basics.py\u001b[0m in \u001b[0;36mload\u001b[0;34m(self, args, nrun)\u001b[0m\n\u001b[1;32m    171\u001b[0m         \u001b[0;32melse\u001b[0m\u001b[0;34m:\u001b[0m\u001b[0;34m\u001b[0m\u001b[0;34m\u001b[0m\u001b[0m\n\u001b[1;32m    172\u001b[0m             \u001b[0mname_folder\u001b[0m \u001b[0;34m=\u001b[0m \u001b[0margs\u001b[0m\u001b[0;34m[\u001b[0m\u001b[0;34m\"problem\"\u001b[0m\u001b[0;34m]\u001b[0m\u001b[0;34m+\u001b[0m\u001b[0;34m\"/\"\u001b[0m\u001b[0;34m+\u001b[0m\u001b[0mstr\u001b[0m\u001b[0;34m(\u001b[0m\u001b[0margs\u001b[0m\u001b[0;34m[\u001b[0m\u001b[0;34m\"n_qubits\"\u001b[0m\u001b[0;34m]\u001b[0m\u001b[0;34m)\u001b[0m\u001b[0;34m+\u001b[0m\u001b[0;34m\"Q - J \"\u001b[0m\u001b[0;34m+\u001b[0m\u001b[0mstr\u001b[0m\u001b[0;34m(\u001b[0m\u001b[0margs\u001b[0m\u001b[0;34m[\u001b[0m\u001b[0;34m\"J\"\u001b[0m\u001b[0;34m]\u001b[0m\u001b[0;34m)\u001b[0m\u001b[0;34m+\u001b[0m\u001b[0;34m\" g \"\u001b[0m\u001b[0;34m+\u001b[0m\u001b[0mstr\u001b[0m\u001b[0;34m(\u001b[0m\u001b[0margs\u001b[0m\u001b[0;34m[\u001b[0m\u001b[0;34m\"g\"\u001b[0m\u001b[0;34m]\u001b[0m\u001b[0;34m)\u001b[0m\u001b[0;34m\u001b[0m\u001b[0;34m\u001b[0m\u001b[0m\n\u001b[0;32m--> 173\u001b[0;31m         \u001b[0mself\u001b[0m\u001b[0;34m.\u001b[0m\u001b[0mload_dicts_and_displaying\u001b[0m\u001b[0;34m(\u001b[0m\u001b[0mname_folder\u001b[0m\u001b[0;34m+\u001b[0m\u001b[0;34m\"/run_\"\u001b[0m\u001b[0;34m+\u001b[0m\u001b[0mstr\u001b[0m\u001b[0;34m(\u001b[0m\u001b[0mnrun\u001b[0m\u001b[0;34m)\u001b[0m\u001b[0;34m)\u001b[0m\u001b[0;34m\u001b[0m\u001b[0;34m\u001b[0m\u001b[0m\n\u001b[0m\u001b[1;32m    174\u001b[0m         \u001b[0;32mreturn\u001b[0m\u001b[0;34m\u001b[0m\u001b[0;34m\u001b[0m\u001b[0m\n\u001b[1;32m    175\u001b[0m \u001b[0;34m\u001b[0m\u001b[0m\n",
      "\u001b[0;32m~/Desktop/vans/utilities/circuit_basics.py\u001b[0m in \u001b[0;36mload_dicts_and_displaying\u001b[0;34m(self, folder)\u001b[0m\n\u001b[1;32m    188\u001b[0m     \u001b[0;32mdef\u001b[0m \u001b[0mload_dicts_and_displaying\u001b[0m\u001b[0;34m(\u001b[0m\u001b[0mself\u001b[0m\u001b[0;34m,\u001b[0m\u001b[0mfolder\u001b[0m\u001b[0;34m)\u001b[0m\u001b[0;34m:\u001b[0m\u001b[0;34m\u001b[0m\u001b[0;34m\u001b[0m\u001b[0m\n\u001b[1;32m    189\u001b[0m \u001b[0;34m\u001b[0m\u001b[0m\n\u001b[0;32m--> 190\u001b[0;31m         \u001b[0;32mwith\u001b[0m \u001b[0mopen\u001b[0m\u001b[0;34m(\u001b[0m\u001b[0mfolder\u001b[0m\u001b[0;34m+\u001b[0m\u001b[0;34m\"/raw_history.pkl\"\u001b[0m \u001b[0;34m,\u001b[0m\u001b[0;34m\"rb\"\u001b[0m\u001b[0;34m)\u001b[0m \u001b[0;32mas\u001b[0m \u001b[0mh\u001b[0m\u001b[0;34m:\u001b[0m\u001b[0;34m\u001b[0m\u001b[0;34m\u001b[0m\u001b[0m\n\u001b[0m\u001b[1;32m    191\u001b[0m             \u001b[0mself\u001b[0m\u001b[0;34m.\u001b[0m\u001b[0mraw_history\u001b[0m \u001b[0;34m=\u001b[0m \u001b[0mpickle\u001b[0m\u001b[0;34m.\u001b[0m\u001b[0mload\u001b[0m\u001b[0;34m(\u001b[0m\u001b[0mh\u001b[0m\u001b[0;34m)\u001b[0m\u001b[0;34m\u001b[0m\u001b[0;34m\u001b[0m\u001b[0m\n\u001b[1;32m    192\u001b[0m         \u001b[0;32mwith\u001b[0m \u001b[0mopen\u001b[0m\u001b[0;34m(\u001b[0m\u001b[0mfolder\u001b[0m\u001b[0;34m+\u001b[0m\u001b[0;34m\"/evolution.pkl\"\u001b[0m\u001b[0;34m,\u001b[0m \u001b[0;34m\"rb\"\u001b[0m\u001b[0;34m)\u001b[0m \u001b[0;32mas\u001b[0m \u001b[0mhh\u001b[0m\u001b[0;34m:\u001b[0m\u001b[0;34m\u001b[0m\u001b[0;34m\u001b[0m\u001b[0m\n",
      "\u001b[0;31mFileNotFoundError\u001b[0m: [Errno 2] No such file or directory: 'xxz/4Q - J -1.1 g 0.75/run_2/raw_history.pkl'"
     ]
    },
    {
     "data": {
      "image/png": "[encoded data removed]",
      "text/plain": [
       "<Figure size 1440x1440 with 1 Axes>"
      ]
     },
     "metadata": {
      "needs_background": "light"
     },
     "output_type": "display_data"
    }
   ],
   "source": [
    "lw=3\n",
    "plt.figure(figsize=(20,20))\n",
    "for ind,j in enumerate(np.linspace(-1.1,1.1,20)): \n",
    "    axs={ind:plt.subplot2grid((5,4),(ind%5,ind%4))}\n",
    "    nrun_load = int(len(glob(\"xxz/4Q - J {} g 0.75/*\".format(j)))-2)    \n",
    "    evaluator = Evaluator(loading=True, args={\"n_qubits\":4, \"J\":j, \"g\":0.75,\"problem\":\"xxz\"},nrun_load=nrun_load)\n",
    "    raw=[]\n",
    "    evolution=[]\n",
    "    not_added=0\n",
    "    for k in range(len(list(evaluator.raw_history.keys()))-1):\n",
    "        raw.append(evaluator.raw_history[k][1])\n",
    "        if k>0:\n",
    "            if evaluator.evolution[not_added] != evaluator.raw_history[k]:\n",
    "                evolution.append(evaluator.evolution[not_added][1])\n",
    "                not_added+=1\n",
    "            else:\n",
    "                evolution.append(evolution[-1])\n",
    "        else:\n",
    "            evolution.append(evaluator.evolution[k][1])\n",
    "    axs[ind].set_title(\"J = {}\".format(np.round(j,2)),size=20)\n",
    "    axs[ind].plot(raw, label=\"energy at each step\",color=\"blue\", linewidth=lw)\n",
    "    axs[ind].plot(evolution, label=\"accepted energy\", color=\"red\", linewidth=lw)\n",
    "    axs[ind].plot([ans[ind]]*len(raw),label=\"numerical\", color=\"black\", linewidth=lw)\n",
    "    axs[ind].legend()\n",
    "plt.savefig(\"plotting_history_energies.png\")"
   ]
  },
  {
   "cell_type": "code",
   "execution_count": 17,
   "metadata": {},
   "outputs": [
    {
     "name": "stdout",
     "output_type": "stream",
     "text": [
      "0 -1.1\n",
      "1 -0.9842105263157895\n",
      "2 -0.868421052631579\n",
      "3 -0.7526315789473685\n",
      "4 -0.6368421052631579\n",
      "5 -0.5210526315789474\n",
      "6 -0.4052631578947369\n",
      "7 -0.2894736842105263\n",
      "8 -0.17368421052631577\n",
      "9 -0.05789473684210522\n",
      "10 0.05789473684210522\n",
      "11 0.17368421052631589\n",
      "12 0.2894736842105263\n",
      "13 0.405263157894737\n",
      "14 0.5210526315789474\n",
      "15 0.6368421052631581\n",
      "16 0.7526315789473685\n",
      "17 0.868421052631579\n",
      "18 0.9842105263157896\n",
      "19 1.1\n"
     ]
    }
   ],
   "source": [
    "for k, i in enumerate(np.linspace(-1.1,1.1,20)):\n",
    "    print(k,i)"
   ]
  },
  {
   "cell_type": "code",
   "execution_count": 11,
   "metadata": {},
   "outputs": [
    {
     "ename": "NameError",
     "evalue": "name 'j' is not defined",
     "output_type": "error",
     "traceback": [
      "\u001b[0;31m---------------------------------------------------------------------------\u001b[0m",
      "\u001b[0;31mNameError\u001b[0m                                 Traceback (most recent call last)",
      "\u001b[0;32m<ipython-input-11-0e2879e31980>\u001b[0m in \u001b[0;36m<module>\u001b[0;34m\u001b[0m\n\u001b[1;32m      1\u001b[0m \u001b[0;32mfrom\u001b[0m \u001b[0mglob\u001b[0m \u001b[0;32mimport\u001b[0m \u001b[0mglob\u001b[0m\u001b[0;34m\u001b[0m\u001b[0;34m\u001b[0m\u001b[0m\n\u001b[0;32m----> 2\u001b[0;31m \u001b[0mlen\u001b[0m\u001b[0;34m(\u001b[0m\u001b[0mglob\u001b[0m\u001b[0;34m(\u001b[0m\u001b[0;34m\"xxz/4Q - J {} g 0.75/*\"\u001b[0m\u001b[0;34m.\u001b[0m\u001b[0mformat\u001b[0m\u001b[0;34m(\u001b[0m\u001b[0mj\u001b[0m\u001b[0;34m)\u001b[0m\u001b[0;34m)\u001b[0m\u001b[0;34m)\u001b[0m\u001b[0;34m-\u001b[0m\u001b[0;36m1\u001b[0m\u001b[0;34m\u001b[0m\u001b[0;34m\u001b[0m\u001b[0m\n\u001b[0m",
      "\u001b[0;31mNameError\u001b[0m: name 'j' is not defined"
     ]
    }
   ],
   "source": []
  },
  {
   "cell_type": "code",
   "execution_count": 6,
   "metadata": {},
   "outputs": [
    {
     "data": {
      "text/plain": [
       "-0.05789473684210522"
      ]
     },
     "execution_count": 6,
     "metadata": {},
     "output_type": "execute_result"
    }
   ],
   "source": [
    "np.linspace(-1.1,1.1,20)[9]"
   ]
  },
  {
   "cell_type": "code",
   "execution_count": 20,
   "metadata": {},
   "outputs": [
    {
     "data": {
      "image/png": "[encoded data removed]",
      "text/plain": [
       "<Figure size 1800x1800 with 1 Axes>"
      ]
     },
     "metadata": {
      "needs_background": "light"
     },
     "output_type": "display_data"
    }
   ],
   "source": [
    "lw=3\n",
    "plt.figure(figsize=(25,25))\n",
    "for ind,j in enumerate([np.linspace(-1.1,1.1,20)[9]]): \n",
    "    axs={ind:plt.subplot2grid((5,4),(ind%5,ind%4))}\n",
    "    nrun_load = int(len(glob(\"xxz/4Q - J {} g 0.75/*\".format(j)))-1)    \n",
    "    evaluator = Evaluator(loading=True, args={\"n_qubits\":4, \"J\":j, \"g\":0.75,\"problem\":\"xxz\"},nrun_load=nrunload)\n",
    "    raw=[]\n",
    "    evolution=[]\n",
    "    not_added=0\n",
    "    for k in range(len(list(evaluator.raw_history.keys()))-1):\n",
    "        raw.append(evaluator.raw_history[k][1])\n",
    "        if k>0:\n",
    "            if evaluator.evolution[not_added] != evaluator.raw_history[k]:\n",
    "                evolution.append(evaluator.evolution[not_added][1])\n",
    "                not_added+=1\n",
    "            else:\n",
    "                evolution.append(evolution[-1])\n",
    "        else:\n",
    "            evolution.append(evaluator.evolution[k][1])\n",
    "    axs[ind].set_title(\"J = {}\".format(np.round(j,2)),size=20)\n",
    "    axs[ind].plot(raw, label=\"energy at each step\",color=\"blue\", linewidth=lw)\n",
    "    axs[ind].plot(evolution, label=\"accepted energy\", color=\"red\", linewidth=lw)\n",
    "    axs[ind].plot([ans[ind]]*len(raw),label=\"numerical\", color=\"black\", linewidth=lw)\n",
    "    axs[ind].legend()\n",
    "#plt.savefig(\"plotting_history_energies.png\")"
   ]
  },
  {
   "cell_type": "code",
   "execution_count": 25,
   "metadata": {},
   "outputs": [
    {
     "data": {
      "text/plain": [
       "-0.05789473684210522"
      ]
     },
     "execution_count": 25,
     "metadata": {},
     "output_type": "execute_result"
    }
   ],
   "source": [
    "j"
   ]
  },
  {
   "cell_type": "code",
   "execution_count": 27,
   "metadata": {},
   "outputs": [],
   "source": [
    "evaluator = Evaluator(loading=True, args={\"n_qubits\":4, \"J\":j, \"g\":0.75,\"problem\":\"xxz\"})\n",
    "ens=[]\n",
    "for k in range(len(list(evaluator.evolution.keys()))-1):\n",
    "    ens.append(evaluator.evolution[k][1])\n"
   ]
  },
  {
   "cell_type": "code",
   "execution_count": 29,
   "metadata": {},
   "outputs": [
    {
     "data": {
      "text/plain": [
       "71"
      ]
     },
     "execution_count": 29,
     "metadata": {},
     "output_type": "execute_result"
    }
   ],
   "source": [
    "len(list(evaluator.evolution.keys()))"
   ]
  },
  {
   "cell_type": "code",
   "execution_count": 30,
   "metadata": {},
   "outputs": [
    {
     "data": {
      "text/plain": [
       "81"
      ]
     },
     "execution_count": 30,
     "metadata": {},
     "output_type": "execute_result"
    }
   ],
   "source": [
    "len(list(evaluator.raw_history.keys()))"
   ]
  },
  {
   "cell_type": "code",
   "execution_count": 34,
   "metadata": {},
   "outputs": [
    {
     "name": "stdout",
     "output_type": "stream",
     "text": [
      "-0.030956732\n",
      "0.00047136785\n",
      "0.0020315116\n",
      "0.0027013528\n",
      "0.004638579\n",
      "-0.009426472\n",
      "-0.008752601\n",
      "-0.03024337\n",
      "0.0007671111\n",
      "0.00820082\n",
      "-0.005654165\n",
      "-0.0032564353\n",
      "-0.050725024\n",
      "-0.0687289\n",
      "0.016737813\n",
      "-0.009697325\n",
      "0.0018590771\n",
      "-0.0025349203\n",
      "0.009999948\n",
      "-0.0014634924\n",
      "-0.005920646\n",
      "-0.011906459\n",
      "0.01637138\n",
      "2.0482547\n",
      "-1.9616866\n",
      "0.0011810205\n",
      "-0.0053459387\n",
      "0.00041269517\n",
      "0.00987238\n",
      "-0.014555001\n",
      "0.0075072916\n",
      "0.004684217\n",
      "-0.0015631787\n",
      "-0.010933001\n",
      "0.013463863\n",
      "-0.0015683312\n",
      "-0.0043129274\n",
      "0.009745409\n",
      "-0.009883255\n",
      "0.002728379\n",
      "-0.002735235\n",
      "1.2137697e-06\n",
      "-0.0076812636\n",
      "0.0010413926\n",
      "0.0031856564\n",
      "0.0035696987\n",
      "-0.0022022997\n",
      "-0.00561452\n",
      "0.00014772713\n",
      "0.0008381332\n",
      "-0.0005425738\n",
      "0.007999398\n",
      "-0.008505565\n",
      "0.015260119\n",
      "-0.007310567\n",
      "-0.00044461706\n",
      "0.0013902197\n",
      "0.00038391704\n",
      "0.0031241935\n",
      "-0.004858805\n",
      "3.0173005e-05\n",
      "-0.00089307857\n",
      "0.0009381952\n",
      "-0.006347739\n",
      "0.014812745\n",
      "-0.0060422067\n",
      "-0.0015326453\n",
      "-0.00028505415\n",
      "0.0026517927\n"
     ]
    }
   ],
   "source": [
    "for ind,k in enumerate(ens[1:]):\n",
    "    print((k - ens[ind])/np.abs(ens[ind]))"
   ]
  },
  {
   "cell_type": "code",
   "execution_count": null,
   "metadata": {},
   "outputs": [],
   "source": [
    "evaluator = Evaluator(loading=True, args={\"n_qubits\":4, \"J\":j, \"g\":0.75,\"problem\":\"xxz\"})\n",
    "energies=[]\n",
    "for k in range(len(list(evaluator.evolution.keys()))-1):\n",
    "    energies.append(evaluator.evolution[k][1])"
   ]
  },
  {
   "cell_type": "code",
   "execution_count": 18,
   "metadata": {},
   "outputs": [
    {
     "data": {
      "text/plain": [
       "True"
      ]
     },
     "execution_count": 18,
     "metadata": {},
     "output_type": "execute_result"
    }
   ],
   "source": [
    "[\"1\",2] != [\"1\",3]"
   ]
  },
  {
   "cell_type": "code",
   "execution_count": null,
   "metadata": {},
   "outputs": [],
   "source": []
  },
  {
   "cell_type": "code",
   "execution_count": null,
   "metadata": {},
   "outputs": [],
   "source": []
  }
 ],
 "metadata": {
  "kernelspec": {
   "display_name": "Python 3",
   "language": "python",
   "name": "python3"
  },
  "language_info": {
   "codemirror_mode": {
    "name": "ipython",
    "version": 3
   },
   "file_extension": ".py",
   "mimetype": "text/x-python",
   "name": "python",
   "nbconvert_exporter": "python",
   "pygments_lexer": "ipython3",
   "version": "3.6.9"
  }
 },
 "nbformat": 4,
 "nbformat_minor": 4
}
