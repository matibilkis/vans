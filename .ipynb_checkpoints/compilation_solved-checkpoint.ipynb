{
 "cells": [
  {
   "cell_type": "code",
   "execution_count": 251,
   "metadata": {},
   "outputs": [
    {
     "name": "stdout",
     "output_type": "stream",
     "text": [
      "The autoreload extension is already loaded. To reload it, use:\n",
      "  %reload_ext autoreload\n"
     ]
    }
   ],
   "source": [
    "%load_ext autoreload\n",
    "%autoreload 2\n",
    "import tensorflow_quantum as tfq\n",
    "from utilities.variational import VQE\n",
    "from utilities.qmodels import *\n",
    "from utilities.evaluator import Evaluator\n",
    "from utilities.idinserter import IdInserter\n",
    "from utilities.unitary_killer import UnitaryMurder\n",
    "from utilities.simplifier import Simplifier\n",
    "import cirq\n",
    "import numpy as np"
   ]
  },
  {
   "cell_type": "code",
   "execution_count": 273,
   "metadata": {},
   "outputs": [
    {
     "name": "stdout",
     "output_type": "stream",
     "text": [
      "tf.Tensor([-8.000002], shape=(1,), dtype=float32) tf.Tensor(-7.999998, shape=(), dtype=float32)\n"
     ]
    }
   ],
   "source": [
    "\n",
    "vqe_handler = VQE(n_qubits=2, problem_config={\"problem\":\"XXZ\",\"g\":1,\"J\":2})\n",
    "iid_inserter = IdInserter(n_qubits = vqe_handler.n_qubits, selector_temperature=40, epsilon=0.1)\n",
    "simplifier = Simplifier(n_qubits=vqe_handler.n_qubits,testing=True)\n",
    "\n",
    "#indexed_circuit = [vqe_handler.number_of_cnots + k for k in range(vqe_handler.n_qubits, 2*vqe_handler.n_qubits )]\n",
    "#indexed_circuit = [5,4,2,4,3,5,3,0,5,5]\n",
    "indexed_circuit = [5,3,3,5,4,0,5,5,3,3,5,3,5]\n",
    "circuit, symbols, index_to_symbols = vqe_handler.give_circuit(indexed_circuit)\n",
    "energy, resolver, history = vqe_handler.vqe(indexed_circuit)\n",
    "\n",
    "model = QNN(symbols=list(resolver.keys()), observable=vqe_handler.observable)\n",
    "print(model(cirq.resolve_parameters(circuit,resolver)), energy)\n"
   ]
  },
  {
   "cell_type": "code",
   "execution_count": 274,
   "metadata": {},
   "outputs": [
    {
     "data": {
      "text/html": [
       "<pre style=\"overflow: auto; white-space: pre;\">(0, 0): ───Rx(1.5π)────────────────────────────────────────────@───────────────────────────────────────────────────────────────────────────────────────────\n",
       "                                                               │\n",
       "(0, 1): ───Rx(-0.465π)───Rz(-1.58π)───Rz(1.58π)───Rx(-1.35π)───X───Rx(-1.07π)───Rx(0.121π)───Rz(-1.38π)───Rz(1.74π)───Rx(1.65π)───Rz(-0.732π)───Rx(1.7π)───</pre>"
      ],
      "text/plain": [
       "(0, 0): ───Rx(1.5π)────────────────────────────────────────────@───────────────────────────────────────────────────────────────────────────────────────────\n",
       "                                                               │\n",
       "(0, 1): ───Rx(-0.465π)───Rz(-1.58π)───Rz(1.58π)───Rx(-1.35π)───X───Rx(-1.07π)───Rx(0.121π)───Rz(-1.38π)───Rz(1.74π)───Rx(1.65π)───Rz(-0.732π)───Rx(1.7π)───"
      ]
     },
     "execution_count": 274,
     "metadata": {},
     "output_type": "execute_result"
    }
   ],
   "source": [
    "#Mindexed_circuit, Mresolver, Mindex_to_symbols = iid_inserter.place_identities(indexed_circuit,symbol_to_value=resolver,rate_iids_per_step=2)\n",
    "Mcircuit = vqe_handler.give_unitary(indexed_circuit, resolver)\n",
    "Mcircuit"
   ]
  },
  {
   "cell_type": "code",
   "execution_count": 275,
   "metadata": {},
   "outputs": [
    {
     "name": "stdout",
     "output_type": "stream",
     "text": [
      "4\n",
      "7\n",
      "4\n",
      "7\n",
      "7\n",
      "7\n",
      "7\n",
      "7\n",
      "7\n",
      "7\n",
      "7\n",
      "7\n",
      "7\n",
      "7\n",
      "7\n"
     ]
    }
   ],
   "source": [
    "i,r,po=simplifier.reduce_circuit(indexed_circuit,resolver,index_to_symbols)"
   ]
  },
  {
   "cell_type": "code",
   "execution_count": null,
   "metadata": {},
   "outputs": [],
   "source": [
    "if k==4:\n",
    "    print(che)"
   ]
  },
  {
   "cell_type": "code",
   "execution_count": 276,
   "metadata": {},
   "outputs": [
    {
     "data": {
      "text/html": [
       "<pre style=\"overflow: auto; white-space: pre;\">(0, 0): ───Rx(1.5π)─────────────────────────@─────────────────────────────────────────────────────\n",
       "                                            │\n",
       "(0, 1): ───Rx(-0.465π)───Rz(0)───Rx(1.7π)───X───Rz(0.353π)───Rx(1.65π)───Rz(-0.732π)───Rx(1.7π)───</pre>"
      ],
      "text/plain": [
       "(0, 0): ───Rx(1.5π)─────────────────────────@─────────────────────────────────────────────────────\n",
       "                                            │\n",
       "(0, 1): ───Rx(-0.465π)───Rz(0)───Rx(1.7π)───X───Rz(0.353π)───Rx(1.65π)───Rz(-0.732π)───Rx(1.7π)───"
      ]
     },
     "execution_count": 276,
     "metadata": {},
     "output_type": "execute_result"
    }
   ],
   "source": [
    "nu=vqe_handler.give_unitary(i,r)\n",
    "nu"
   ]
  },
  {
   "cell_type": "code",
   "execution_count": 277,
   "metadata": {},
   "outputs": [
    {
     "data": {
      "text/plain": [
       "<tf.Tensor: shape=(1,), dtype=float32, numpy=array([-7.999999], dtype=float32)>"
      ]
     },
     "execution_count": 277,
     "metadata": {},
     "output_type": "execute_result"
    }
   ],
   "source": [
    "model(nu)"
   ]
  },
  {
   "cell_type": "code",
   "execution_count": null,
   "metadata": {},
   "outputs": [],
   "source": []
  },
  {
   "cell_type": "code",
   "execution_count": null,
   "metadata": {},
   "outputs": [],
   "source": []
  },
  {
   "cell_type": "code",
   "execution_count": null,
   "metadata": {},
   "outputs": [],
   "source": []
  },
  {
   "cell_type": "code",
   "execution_count": null,
   "metadata": {},
   "outputs": [],
   "source": []
  },
  {
   "cell_type": "code",
   "execution_count": null,
   "metadata": {},
   "outputs": [],
   "source": []
  },
  {
   "cell_type": "code",
   "execution_count": null,
   "metadata": {},
   "outputs": [],
   "source": []
  },
  {
   "cell_type": "code",
   "execution_count": null,
   "metadata": {},
   "outputs": [],
   "source": []
  },
  {
   "cell_type": "code",
   "execution_count": null,
   "metadata": {},
   "outputs": [],
   "source": []
  },
  {
   "cell_type": "markdown",
   "metadata": {},
   "source": [
    "play around with vlaues"
   ]
  },
  {
   "cell_type": "code",
   "execution_count": 263,
   "metadata": {},
   "outputs": [],
   "source": [
    "vals = np.array([1.12, -.679, -1.9, -.606])*np.pi"
   ]
  },
  {
   "cell_type": "code",
   "execution_count": 264,
   "metadata": {},
   "outputs": [],
   "source": [
    "inde = [5,3,5,3]\n",
    "c, symbols, posi = vqe_handler.give_circuit(inde)\n",
    "res = {r:m for r,m in zip(symbols,vals)}"
   ]
  },
  {
   "cell_type": "code",
   "execution_count": 265,
   "metadata": {},
   "outputs": [],
   "source": [
    "ii, rr, pp= simplifier.simplify_step(inde, res, posi)"
   ]
  },
  {
   "cell_type": "code",
   "execution_count": 266,
   "metadata": {},
   "outputs": [
    {
     "data": {
      "text/plain": [
       "<tf.Tensor: shape=(1,), dtype=float32, numpy=array([-3.7246099], dtype=float32)>"
      ]
     },
     "execution_count": 266,
     "metadata": {},
     "output_type": "execute_result"
    }
   ],
   "source": [
    "model(vqe_handler.give_unitary(ii,rr))"
   ]
  },
  {
   "cell_type": "code",
   "execution_count": 250,
   "metadata": {},
   "outputs": [
    {
     "data": {
      "text/plain": [
       "<tf.Tensor: shape=(1,), dtype=float32, numpy=array([-3.7246099], dtype=float32)>"
      ]
     },
     "execution_count": 250,
     "metadata": {},
     "output_type": "execute_result"
    }
   ],
   "source": [
    "co = vqe_handler.give_unitary(inde,res)\n",
    "co.append(cirq.rx(0).on(vqe_handler.qubits[0]))\n",
    "model(co)"
   ]
  },
  {
   "cell_type": "code",
   "execution_count": 192,
   "metadata": {},
   "outputs": [
    {
     "data": {
      "text/html": [
       "<pre style=\"overflow: auto; white-space: pre;\">(0, 0): ───Rx(th_1)───Rz(th_2)───Rx(th_3)──────────────@───Rz(th_13)─────────────────────────────────────────────────────────────\n",
       "                                                       │\n",
       "(0, 1): ───Rx(th_0)───Rz(th_4)───Rx(th_5)───Rz(th_6)───X───Rx(th_7)────Rx(th_8)───Rx(th_9)───Rx(th_10)───Rx(th_11)───Rx(th_12)───</pre>"
      ],
      "text/plain": [
       "(0, 0): ───Rx(th_1)───Rz(th_2)───Rx(th_3)──────────────@───Rz(th_13)─────────────────────────────────────────────────────────────\n",
       "                                                       │\n",
       "(0, 1): ───Rx(th_0)───Rz(th_4)───Rx(th_5)───Rz(th_6)───X───Rx(th_7)────Rx(th_8)───Rx(th_9)───Rx(th_10)───Rx(th_11)───Rx(th_12)───"
      ]
     },
     "execution_count": 192,
     "metadata": {},
     "output_type": "execute_result"
    }
   ],
   "source": [
    "vqe_handler.give_circuit(indexed_circuit)[0]"
   ]
  },
  {
   "cell_type": "code",
   "execution_count": 197,
   "metadata": {},
   "outputs": [
    {
     "data": {
      "text/plain": [
       "37.32575773325202"
      ]
     },
     "execution_count": 197,
     "metadata": {},
     "output_type": "execute_result"
    }
   ],
   "source": [
    "np.sum(list(resolver.values())[7:])"
   ]
  },
  {
   "cell_type": "code",
   "execution_count": null,
   "metadata": {},
   "outputs": [],
   "source": []
  },
  {
   "cell_type": "code",
   "execution_count": null,
   "metadata": {},
   "outputs": [],
   "source": []
  },
  {
   "cell_type": "code",
   "execution_count": 182,
   "metadata": {},
   "outputs": [
    {
     "name": "stdout",
     "output_type": "stream",
     "text": [
      "tf.Tensor([-1.035732], shape=(1,), dtype=float32)\n"
     ]
    }
   ],
   "source": [
    "\n",
    "vqe_handler = VQE(n_qubits=2, problem_config={\"problem\":\"XXZ\",\"g\":1,\"J\":2})\n",
    "iid_inserter = IdInserter(n_qubits = vqe_handler.n_qubits, selector_temperature=40, epsilon=0.1)\n",
    "simplifier = Simplifier(n_qubits=vqe_handler.n_qubits,testing=True)\n",
    "\n",
    "#indexed_circuit = [vqe_handler.number_of_cnots + k for k in range(vqe_handler.n_qubits, 2*vqe_handler.n_qubits )]\n",
    "indexed_circuit = [5,5,5,1,5,5,5]\n",
    "#indexed_circuit = [5,3,3,5,4,0,5,5,3,3,5,3,5]\n",
    "circuit, symbols, index_to_symbols = vqe_handler.give_circuit(indexed_circuit)\n",
    "resolver = {s:r for s,r in zip(symbols, np.random.randn(len(symbols)))}\n",
    "#energy, resolver, history = vqe_handler.vqe(indexed_circuit)\n",
    "\n",
    "model = QNN(symbols=list(resolver.keys()), observable=vqe_handler.observable)\n",
    "print(model(cirq.resolve_parameters(circuit,resolver)))\n"
   ]
  },
  {
   "cell_type": "code",
   "execution_count": 183,
   "metadata": {},
   "outputs": [
    {
     "name": "stdout",
     "output_type": "stream",
     "text": [
      "4\n",
      "here:  ['th_1', 'th_2']\n",
      "0.8779985591597353 th_0\n",
      "4\n",
      "here:  ['th_4', 'th_5']\n",
      "1.9401020044321542 th_1\n"
     ]
    }
   ],
   "source": [
    "i,r,po=simplifier.simplify_step(indexed_circuit,resolver,index_to_symbols)"
   ]
  },
  {
   "cell_type": "code",
   "execution_count": 184,
   "metadata": {},
   "outputs": [
    {
     "data": {
      "text/plain": [
       "<tf.Tensor: shape=(1,), dtype=float32, numpy=array([-1.0357327], dtype=float32)>"
      ]
     },
     "execution_count": 184,
     "metadata": {},
     "output_type": "execute_result"
    }
   ],
   "source": [
    "nu=vqe_handler.give_unitary(i,r)\n",
    "nu\n",
    "model(nu)"
   ]
  },
  {
   "cell_type": "code",
   "execution_count": null,
   "metadata": {},
   "outputs": [],
   "source": []
  }
 ],
 "metadata": {
  "kernelspec": {
   "display_name": "Python 3",
   "language": "python",
   "name": "python3"
  },
  "language_info": {
   "codemirror_mode": {
    "name": "ipython",
    "version": 3
   },
   "file_extension": ".py",
   "mimetype": "text/x-python",
   "name": "python",
   "nbconvert_exporter": "python",
   "pygments_lexer": "ipython3",
   "version": "3.6.9"
  }
 },
 "nbformat": 4,
 "nbformat_minor": 4
}
