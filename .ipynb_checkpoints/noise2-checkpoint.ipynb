{
 "cells": [
  {
   "cell_type": "markdown",
   "metadata": {},
   "source": [
    "In this notebook we explore different ways of adding noise to the circuits."
   ]
  },
  {
   "cell_type": "code",
   "execution_count": 40,
   "metadata": {},
   "outputs": [],
   "source": [
    "import numpy as np\n",
    "import sympy\n",
    "import cirq\n",
    "import tensorflow_quantum as tfq\n",
    "from tqdm import tqdm\n",
    "import tensorflow as tf\n",
    "\n",
    "from utilities.variational import VQE\n",
    "from utilities.circuit_basics import Evaluator\n",
    "from utilities.idinserter import IdInserter\n",
    "from utilities.simplifier import Simplifier\n",
    "from utilities.unitary_killer import UnitaryMurder\n",
    "\n",
    "n_qubits = 4\n",
    "qlr = 0.01\n",
    "qepochs = 10**3\n",
    "verbose=0\n",
    "g=1\n",
    "J=0\n",
    "noise=0.0\n",
    "problem=\"TFIM\"\n",
    "vqe_handler = VQE(n_qubits=n_qubits, lr=qlr, epochs=qepochs, patience=100,\n",
    "                  random_perturbations=True, verbose=verbose, g=g, J = J, noise=noise, problem=problem)\n",
    "\n",
    "iid = IdInserter(n_qubits=n_qubits)\n",
    "Simp = Simplifier(n_qubits=n_qubits)\n",
    "killer = UnitaryMurder(vqe_handler)\n",
    "indexed_circuit=[vqe_handler.number_of_cnots+k for k in range(vqe_handler.n_qubits,2*vqe_handler.n_qubits)]"
   ]
  },
  {
   "cell_type": "code",
   "execution_count": 41,
   "metadata": {},
   "outputs": [
    {
     "data": {
      "text/html": [
       "<pre style=\"overflow: auto; white-space: pre;\">(0, 0): ───Rx(th_0)───\n",
       "\n",
       "(0, 1): ───Rx(th_1)───\n",
       "\n",
       "(0, 2): ───Rx(th_2)───\n",
       "\n",
       "(0, 3): ───Rx(th_3)───</pre>"
      ],
      "text/plain": [
       "(0, 0): ───Rx(th_0)───\n",
       "\n",
       "(0, 1): ───Rx(th_1)───\n",
       "\n",
       "(0, 2): ───Rx(th_2)───\n",
       "\n",
       "(0, 3): ───Rx(th_3)───"
      ]
     },
     "execution_count": 41,
     "metadata": {},
     "output_type": "execute_result"
    }
   ],
   "source": [
    "circuit, symbols, idx_symbols = vqe_handler.give_circuit(indexed_circuit) \n",
    "circuit"
   ]
  },
  {
   "cell_type": "code",
   "execution_count": 42,
   "metadata": {},
   "outputs": [],
   "source": [
    "for q in vqe_handler.qubits:\n",
    "    circuit.append(cirq.DepolarizingChannel(0.2).on(q))"
   ]
  },
  {
   "cell_type": "code",
   "execution_count": 43,
   "metadata": {},
   "outputs": [
    {
     "data": {
      "text/html": [
       "<pre style=\"overflow: auto; white-space: pre;\">(0, 0): ───Rx(th_0)───D(0.2)───\n",
       "\n",
       "(0, 1): ───Rx(th_1)───D(0.2)───\n",
       "\n",
       "(0, 2): ───Rx(th_2)───D(0.2)───\n",
       "\n",
       "(0, 3): ───Rx(th_3)───D(0.2)───</pre>"
      ],
      "text/plain": [
       "(0, 0): ───Rx(th_0)───D(0.2)───\n",
       "\n",
       "(0, 1): ───Rx(th_1)───D(0.2)───\n",
       "\n",
       "(0, 2): ───Rx(th_2)───D(0.2)───\n",
       "\n",
       "(0, 3): ───Rx(th_3)───D(0.2)───"
      ]
     },
     "execution_count": 43,
     "metadata": {},
     "output_type": "execute_result"
    }
   ],
   "source": [
    "circuit"
   ]
  },
  {
   "cell_type": "code",
   "execution_count": 26,
   "metadata": {},
   "outputs": [],
   "source": [
    "circuit\n",
    "dens = cirq.DensityMatrixSimulator(noise=cirq.depolarize(0.00))\n",
    "result = dens.simulate(cirq.resolve_parameters(circuit, {s:k for s,k in zip(symbols, range(len(symbols)))}))\n",
    "rho_dm = result.final_density_matrix"
   ]
  },
  {
   "cell_type": "code",
   "execution_count": 44,
   "metadata": {},
   "outputs": [
    {
     "data": {
      "text/html": [
       "<pre style=\"overflow: auto; white-space: pre;\">(0, 0): ───Rx(th_0)───D(0.01)[<virtual>]───D(0.2)───D(0.01)[<virtual>]───\n",
       "\n",
       "(0, 1): ───Rx(th_1)───D(0.01)[<virtual>]───D(0.2)───D(0.01)[<virtual>]───\n",
       "\n",
       "(0, 2): ───Rx(th_2)───D(0.01)[<virtual>]───D(0.2)───D(0.01)[<virtual>]───\n",
       "\n",
       "(0, 3): ───Rx(th_3)───D(0.01)[<virtual>]───D(0.2)───D(0.01)[<virtual>]───</pre>"
      ],
      "text/plain": [
       "(0, 0): ───Rx(th_0)───D(0.01)[<virtual>]───D(0.2)───D(0.01)[<virtual>]───\n",
       "\n",
       "(0, 1): ───Rx(th_1)───D(0.01)[<virtual>]───D(0.2)───D(0.01)[<virtual>]───\n",
       "\n",
       "(0, 2): ───Rx(th_2)───D(0.01)[<virtual>]───D(0.2)───D(0.01)[<virtual>]───\n",
       "\n",
       "(0, 3): ───Rx(th_3)───D(0.01)[<virtual>]───D(0.2)───D(0.01)[<virtual>]───"
      ]
     },
     "execution_count": 44,
     "metadata": {},
     "output_type": "execute_result"
    }
   ],
   "source": [
    "circuit.with_noise(cirq.DepolarizingChannel(0.01))"
   ]
  },
  {
   "cell_type": "code",
   "execution_count": null,
   "metadata": {},
   "outputs": [],
   "source": []
  }
 ],
 "metadata": {
  "kernelspec": {
   "display_name": "Python 3",
   "language": "python",
   "name": "python3"
  },
  "language_info": {
   "codemirror_mode": {
    "name": "ipython",
    "version": 3
   },
   "file_extension": ".py",
   "mimetype": "text/x-python",
   "name": "python",
   "nbconvert_exporter": "python",
   "pygments_lexer": "ipython3",
   "version": "3.6.9"
  }
 },
 "nbformat": 4,
 "nbformat_minor": 4
}
