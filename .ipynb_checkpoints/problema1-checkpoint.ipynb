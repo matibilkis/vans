{
 "cells": [
  {
   "cell_type": "code",
   "execution_count": 385,
   "metadata": {},
   "outputs": [
    {
     "name": "stdout",
     "output_type": "stream",
     "text": [
      "The autoreload extension is already loaded. To reload it, use:\n",
      "  %reload_ext autoreload\n"
     ]
    }
   ],
   "source": [
    "%load_ext autoreload\n",
    "%autoreload 2\n",
    "import tensorflow_quantum as tfq\n",
    "from utilities.variational import VQE\n",
    "from utilities.qmodels import *\n",
    "from utilities.evaluator import Evaluator\n",
    "from utilities.idinserter import IdInserter\n",
    "from utilities.unitary_killer import UnitaryMurder\n",
    "from utilities.simplifier import Simplifier\n",
    "import cirq\n",
    "import numpy as np"
   ]
  },
  {
   "cell_type": "code",
   "execution_count": 450,
   "metadata": {},
   "outputs": [
    {
     "name": "stdout",
     "output_type": "stream",
     "text": [
      "tf.Tensor([-8.], shape=(1,), dtype=float32) tf.Tensor(-8.0, shape=(), dtype=float32)\n"
     ]
    }
   ],
   "source": [
    "\n",
    "vqe_handler = VQE(n_qubits=2, problem_config={\"problem\":\"XXZ\",\"g\":1,\"J\":2})\n",
    "iid_inserter = IdInserter(n_qubits = vqe_handler.n_qubits, selector_temperature=40, epsilon=0.1)\n",
    "simplifier = Simplifier(n_qubits=vqe_handler.n_qubits,testing=True)\n",
    "\n",
    "#indexed_circuit = [vqe_handler.number_of_cnots + k for k in range(vqe_handler.n_qubits, 2*vqe_handler.n_qubits )]\n",
    "#indexed_circuit = [5,4,2,4,3,5,3,0,5,5]\n",
    "#indexed_circuit = [5,3,3,5,4,0,5,5,3,3,5,3,5]\n",
    "indexed_circuit = [4, 1, 1, 3, 3, 5, 3, 5, 3, 4, 2, 4, 1, 3, 1, 3, 5, 0, 2, 4, 2, 5, 3, 5, 0, 3, 4, 2, 0, 2, 4, 2, 5, 3, 5, 0, 4, 1, 1, 3, 5, 3, 4, 2, 4, 1, 5, 3, 4, 2, 4, 3, 1, 0, 2, 4, 2, 5, 3, 5, 0, 3, 0, 2, 4, 2, 5, 3, 5, 0, 5, 3, 4, 2, 4, 1, 5, 3, 1, 2, 4, 2, 0, 2, 4, 2, 5, 3, 2, 4, 2, 1, 3, 5, 3, 4, 2, 4, 1, 5, 0, 5]\n",
    "indexed_circuit = indexed_circuit[5:20]\n",
    "circuit, symbols, index_to_symbols = vqe_handler.give_circuit(indexed_circuit)\n",
    "energy, resolver, history = vqe_handler.vqe(indexed_circuit)\n",
    "\n",
    "model = QNN(symbols=list(resolver.keys()), observable=vqe_handler.observable)\n",
    "print(model(cirq.resolve_parameters(circuit,resolver)), energy)\n"
   ]
  },
  {
   "cell_type": "code",
   "execution_count": 451,
   "metadata": {},
   "outputs": [
    {
     "data": {
      "text/html": [
       "<pre style=\"overflow: auto; white-space: pre;\">(0, 0): ───Rx(0.476π)───Rz(1.53π)─────Rx(1.23π)─────────────────X───────────────X────────────────────────────@───Rz(-1.96π)───Rx(-1.7π)───\n",
       "                                                                │               │                            │\n",
       "(0, 1): ───Rx(0.475π)───Rz(-0.817π)───Rx(-1.27π)───Rz(0.549π)───@───Rz(1.89π)───@───Rz(1.79π)───Rx(0.994π)───X────────────────────────────</pre>"
      ],
      "text/plain": [
       "(0, 0): ───Rx(0.476π)───Rz(1.53π)─────Rx(1.23π)─────────────────X───────────────X────────────────────────────@───Rz(-1.96π)───Rx(-1.7π)───\n",
       "                                                                │               │                            │\n",
       "(0, 1): ───Rx(0.475π)───Rz(-0.817π)───Rx(-1.27π)───Rz(0.549π)───@───Rz(1.89π)───@───Rz(1.79π)───Rx(0.994π)───X────────────────────────────"
      ]
     },
     "execution_count": 451,
     "metadata": {},
     "output_type": "execute_result"
    }
   ],
   "source": [
    "#Mindexed_circuit, Mresolver, Mindex_to_symbols = iid_inserter.place_identities(indexed_circuit,symbol_to_value=resolver,rate_iids_per_step=2)\n",
    "Mcircuit = vqe_handler.give_unitary(indexed_circuit, resolver)\n",
    "Mcircuit"
   ]
  },
  {
   "cell_type": "code",
   "execution_count": 452,
   "metadata": {},
   "outputs": [
    {
     "name": "stdout",
     "output_type": "stream",
     "text": [
      "5\n",
      "cnt_rule 5\n",
      "6\n",
      "cnt_rule 6\n",
      "3\n",
      "cnt_rule 3\n",
      "6\n",
      "cnt_rule 6\n",
      "2\n",
      "cnt_rule 2\n"
     ]
    }
   ],
   "source": [
    "i,r,po=simplifier.reduce_circuit(indexed_circuit,resolver,index_to_symbols)"
   ]
  },
  {
   "cell_type": "code",
   "execution_count": 453,
   "metadata": {},
   "outputs": [
    {
     "data": {
      "text/html": [
       "<pre style=\"overflow: auto; white-space: pre;\">(0, 0): ───Rx(0.476π)───Rz(1.53π)───Rx(1.23π)────@───Rz(-1.96π)───Rx(-1.7π)───\n",
       "                                                 │\n",
       "(0, 1): ───Rx(0.303π)───Rz(-0.5π)───Rx(-1.27π)───X────────────────────────────</pre>"
      ],
      "text/plain": [
       "(0, 0): ───Rx(0.476π)───Rz(1.53π)───Rx(1.23π)────@───Rz(-1.96π)───Rx(-1.7π)───\n",
       "                                                 │\n",
       "(0, 1): ───Rx(0.303π)───Rz(-0.5π)───Rx(-1.27π)───X────────────────────────────"
      ]
     },
     "execution_count": 453,
     "metadata": {},
     "output_type": "execute_result"
    }
   ],
   "source": [
    "nu=vqe_handler.give_unitary(i,r)\n",
    "nu"
   ]
  },
  {
   "cell_type": "code",
   "execution_count": 454,
   "metadata": {},
   "outputs": [
    {
     "data": {
      "text/plain": [
       "<tf.Tensor: shape=(1,), dtype=float32, numpy=array([-1.239749], dtype=float32)>"
      ]
     },
     "execution_count": 454,
     "metadata": {},
     "output_type": "execute_result"
    }
   ],
   "source": [
    "model(nu)"
   ]
  },
  {
   "cell_type": "code",
   "execution_count": null,
   "metadata": {},
   "outputs": [],
   "source": []
  },
  {
   "cell_type": "code",
   "execution_count": null,
   "metadata": {},
   "outputs": [],
   "source": []
  },
  {
   "cell_type": "code",
   "execution_count": null,
   "metadata": {},
   "outputs": [],
   "source": []
  },
  {
   "cell_type": "code",
   "execution_count": null,
   "metadata": {},
   "outputs": [],
   "source": []
  },
  {
   "cell_type": "code",
   "execution_count": null,
   "metadata": {},
   "outputs": [],
   "source": []
  },
  {
   "cell_type": "code",
   "execution_count": null,
   "metadata": {},
   "outputs": [],
   "source": []
  },
  {
   "cell_type": "code",
   "execution_count": null,
   "metadata": {},
   "outputs": [],
   "source": []
  },
  {
   "cell_type": "code",
   "execution_count": null,
   "metadata": {},
   "outputs": [],
   "source": []
  },
  {
   "cell_type": "code",
   "execution_count": 182,
   "metadata": {},
   "outputs": [
    {
     "name": "stdout",
     "output_type": "stream",
     "text": [
      "tf.Tensor([-1.035732], shape=(1,), dtype=float32)\n"
     ]
    }
   ],
   "source": [
    "\n",
    "vqe_handler = VQE(n_qubits=2, problem_config={\"problem\":\"XXZ\",\"g\":1,\"J\":2})\n",
    "iid_inserter = IdInserter(n_qubits = vqe_handler.n_qubits, selector_temperature=40, epsilon=0.1)\n",
    "simplifier = Simplifier(n_qubits=vqe_handler.n_qubits,testing=True)\n",
    "\n",
    "#indexed_circuit = [vqe_handler.number_of_cnots + k for k in range(vqe_handler.n_qubits, 2*vqe_handler.n_qubits )]\n",
    "indexed_circuit = [5,5,5,1,5,5,5]\n",
    "#indexed_circuit = [5,3,3,5,4,0,5,5,3,3,5,3,5]\n",
    "circuit, symbols, index_to_symbols = vqe_handler.give_circuit(indexed_circuit)\n",
    "resolver = {s:r for s,r in zip(symbols, np.random.randn(len(symbols)))}\n",
    "#energy, resolver, history = vqe_handler.vqe(indexed_circuit)\n",
    "\n",
    "model = QNN(symbols=list(resolver.keys()), observable=vqe_handler.observable)\n",
    "print(model(cirq.resolve_parameters(circuit,resolver)))\n"
   ]
  },
  {
   "cell_type": "code",
   "execution_count": 183,
   "metadata": {},
   "outputs": [
    {
     "name": "stdout",
     "output_type": "stream",
     "text": [
      "4\n",
      "here:  ['th_1', 'th_2']\n",
      "0.8779985591597353 th_0\n",
      "4\n",
      "here:  ['th_4', 'th_5']\n",
      "1.9401020044321542 th_1\n"
     ]
    }
   ],
   "source": [
    "i,r,po=simplifier.simplify_step(indexed_circuit,resolver,index_to_symbols)"
   ]
  },
  {
   "cell_type": "code",
   "execution_count": 184,
   "metadata": {},
   "outputs": [
    {
     "data": {
      "text/plain": [
       "<tf.Tensor: shape=(1,), dtype=float32, numpy=array([-1.0357327], dtype=float32)>"
      ]
     },
     "execution_count": 184,
     "metadata": {},
     "output_type": "execute_result"
    }
   ],
   "source": [
    "nu=vqe_handler.give_unitary(i,r)\n",
    "nu\n",
    "model(nu)"
   ]
  },
  {
   "cell_type": "code",
   "execution_count": null,
   "metadata": {},
   "outputs": [],
   "source": []
  }
 ],
 "metadata": {
  "kernelspec": {
   "display_name": "Python 3",
   "language": "python",
   "name": "python3"
  },
  "language_info": {
   "codemirror_mode": {
    "name": "ipython",
    "version": 3
   },
   "file_extension": ".py",
   "mimetype": "text/x-python",
   "name": "python",
   "nbconvert_exporter": "python",
   "pygments_lexer": "ipython3",
   "version": "3.6.9"
  }
 },
 "nbformat": 4,
 "nbformat_minor": 4
}
