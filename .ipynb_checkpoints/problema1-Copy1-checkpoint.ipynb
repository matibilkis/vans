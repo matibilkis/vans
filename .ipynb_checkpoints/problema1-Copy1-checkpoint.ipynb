{
 "cells": [
  {
   "cell_type": "code",
   "execution_count": 16,
   "metadata": {},
   "outputs": [
    {
     "name": "stdout",
     "output_type": "stream",
     "text": [
      "The autoreload extension is already loaded. To reload it, use:\n",
      "  %reload_ext autoreload\n"
     ]
    }
   ],
   "source": [
    "%load_ext autoreload\n",
    "%autoreload 2\n",
    "import tensorflow_quantum as tfq\n",
    "from utilities.variational import VQE\n",
    "from utilities.qmodels import *\n",
    "from utilities.evaluator import Evaluator\n",
    "from utilities.idinserter import IdInserter\n",
    "from utilities.unitary_killer import UnitaryMurder\n",
    "from utilities.simplifier import Simplifier\n",
    "import cirq\n",
    "import numpy as np"
   ]
  },
  {
   "cell_type": "code",
   "execution_count": 29,
   "metadata": {},
   "outputs": [
    {
     "name": "stdout",
     "output_type": "stream",
     "text": [
      "tf.Tensor([0.], shape=(1,), dtype=float32) tf.Tensor(0.0, shape=(), dtype=float32)\n"
     ]
    }
   ],
   "source": [
    "\n",
    "vqe_handler = VQE(n_qubits=2, problem_config={\"problem\":\"XXZ\",\"g\":1,\"J\":2})\n",
    "iid_inserter = IdInserter(n_qubits = vqe_handler.n_qubits, selector_temperature=40, epsilon=0.1)\n",
    "simplifier = Simplifier(n_qubits=vqe_handler.n_qubits,testing=True)\n",
    "\n",
    "#indexed_circuit = [vqe_handler.number_of_cnots + k for k in range(vqe_handler.n_qubits, 2*vqe_handler.n_qubits )]\n",
    "#indexed_circuit = [5,4,2,4,3,5,3,0,5,5]\n",
    "#indexed_circuit = [5,3,3,5,4,0,5,5,3,3,5,3,5]\n",
    "indexed_circuit =[5, 3, 5, 3, 4, 2, 4, 1, 3, 1, 3, 5, 0, 2, 4]\n",
    "circuit, symbols, index_to_symbols = vqe_handler.give_circuit(indexed_circuit)\n",
    "energy, resolver, history = vqe_handler.vqe(indexed_circuit)\n",
    "\n",
    "model = QNN(symbols=list(resolver.keys()), observable=vqe_handler.observable)\n",
    "print(model(cirq.resolve_parameters(circuit,resolver)), energy)\n"
   ]
  },
  {
   "cell_type": "code",
   "execution_count": 30,
   "metadata": {},
   "outputs": [
    {
     "name": "stdout",
     "output_type": "stream",
     "text": [
      "5\n",
      "cnt_rule 5\n",
      "6\n",
      "cnt_rule 6\n"
     ]
    }
   ],
   "source": [
    "i,r,po=simplifier.simplify_step(indexed_circuit,resolver,index_to_symbols)"
   ]
  },
  {
   "cell_type": "code",
   "execution_count": 31,
   "metadata": {},
   "outputs": [
    {
     "data": {
      "text/html": [
       "<pre style=\"overflow: auto; white-space: pre;\">(0, 0): ───Rx(-0.739π)───Rz(1.08π)─────Rx(1.75π)──────────────────X────────────────X────────────────────────────@───Rz(-1.56π)───Rx(-0.614π)───\n",
       "                                                                  │                │                            │\n",
       "(0, 1): ───Rx(-0.997π)───Rz(-0.855π)───Rx(-0.516π)───Rz(0.229π)───@───Rz(0.497π)───@───Rz(0.273π)───Rx(-1.9π)───X──────────────────────────────</pre>"
      ],
      "text/plain": [
       "(0, 0): ───Rx(-0.739π)───Rz(1.08π)─────Rx(1.75π)──────────────────X────────────────X────────────────────────────@───Rz(-1.56π)───Rx(-0.614π)───\n",
       "                                                                  │                │                            │\n",
       "(0, 1): ───Rx(-0.997π)───Rz(-0.855π)───Rx(-0.516π)───Rz(0.229π)───@───Rz(0.497π)───@───Rz(0.273π)───Rx(-1.9π)───X──────────────────────────────"
      ]
     },
     "execution_count": 31,
     "metadata": {},
     "output_type": "execute_result"
    }
   ],
   "source": [
    "cirq.resolve_parameters(circuit,resolver)"
   ]
  },
  {
   "cell_type": "code",
   "execution_count": 32,
   "metadata": {},
   "outputs": [
    {
     "data": {
      "text/html": [
       "<pre style=\"overflow: auto; white-space: pre;\">(0, 0): ───Rx(-0.739π)───Rz(1.08π)───Rx(1.75π)───X─────────────────X─────────────────@───Rz(-1.56π)───Rx(-0.614π)───\n",
       "                                                 │                 │                 │\n",
       "(0, 1): ───Rz(-0.145π)───Rx(1.52π)───Rz(1.23π)───@───Rz(-0.855π)───@───Rx(-0.516π)───X──────────────────────────────</pre>"
      ],
      "text/plain": [
       "(0, 0): ───Rx(-0.739π)───Rz(1.08π)───Rx(1.75π)───X─────────────────X─────────────────@───Rz(-1.56π)───Rx(-0.614π)───\n",
       "                                                 │                 │                 │\n",
       "(0, 1): ───Rz(-0.145π)───Rx(1.52π)───Rz(1.23π)───@───Rz(-0.855π)───@───Rx(-0.516π)───X──────────────────────────────"
      ]
     },
     "execution_count": 32,
     "metadata": {},
     "output_type": "execute_result"
    }
   ],
   "source": [
    "nu=vqe_handler.give_unitary(i,r)\n",
    "nu"
   ]
  },
  {
   "cell_type": "code",
   "execution_count": 33,
   "metadata": {},
   "outputs": [
    {
     "data": {
      "text/plain": [
       "<tf.Tensor: shape=(1,), dtype=float32, numpy=array([2.193197], dtype=float32)>"
      ]
     },
     "execution_count": 33,
     "metadata": {},
     "output_type": "execute_result"
    }
   ],
   "source": [
    "model(nu)"
   ]
  },
  {
   "cell_type": "code",
   "execution_count": 44,
   "metadata": {},
   "outputs": [
    {
     "data": {
      "text/plain": [
       "array([[ 0.09713736+0.72104911j, -0.57018634+0.38149711j],\n",
       "       [ 0.57018634+0.38149711j,  0.09713736-0.72104911j]])"
      ]
     },
     "execution_count": 44,
     "metadata": {},
     "output_type": "execute_result"
    }
   ],
   "source": [
    "cirq.unitary(cirq.Circuit([cirq.rx(-0.997*np.pi).on(q),cirq.rz(-0.855*np.pi).on(q),cirq.rx(-0.516*np.pi).on(q),cirq.rz(0.229*np.pi).on(q)]))"
   ]
  },
  {
   "cell_type": "code",
   "execution_count": 41,
   "metadata": {},
   "outputs": [
    {
     "data": {
      "text/plain": [
       "array([[ 0.09704128+0.72248062j, -0.56918012+0.380314j  ],\n",
       "       [ 0.56918012+0.380314j  ,  0.09704128-0.72248062j]])"
      ]
     },
     "execution_count": 41,
     "metadata": {},
     "output_type": "execute_result"
    }
   ],
   "source": [
    "cirq.unitary(cirq.Circuit([cirq.rz(-0.145*np.pi).on(q),cirq.rx(1.52*np.pi).on(q),cirq.rz(1.23*np.pi).on(q)]))"
   ]
  },
  {
   "cell_type": "code",
   "execution_count": 34,
   "metadata": {},
   "outputs": [
    {
     "ename": "TypeError",
     "evalue": "cirq.unitary failed. Value doesn't have a (non-parameterized) unitary effect.\n\ntype: <class 'list'>\nvalue: [cirq.rx(np.pi*-0.997).on(cirq.GridQubit(0, 1)), cirq.rz(np.pi*-0.855).on(cirq.GridQubit(0, 1)), cirq.rx(np.pi*-0.516).on(cirq.GridQubit(0, 1)), cirq.rz(np.pi*0.229).on(cirq.GridQubit(0, 1))]\n\nThe value failed to satisfy any of the following criteria:\n- A `_unitary_(self)` method that returned a value besides None or NotImplemented.\n- A `_decompose_(self)` method that returned a list of unitary operations.\n- An `_apply_unitary_(self, args) method that returned a value besides None or NotImplemented.",
     "output_type": "error",
     "traceback": [
      "\u001b[0;31m---------------------------------------------------------------------------\u001b[0m",
      "\u001b[0;31mTypeError\u001b[0m                                 Traceback (most recent call last)",
      "\u001b[0;32m<ipython-input-34-fd5aeeaa6755>\u001b[0m in \u001b[0;36m<module>\u001b[0;34m\u001b[0m\n\u001b[1;32m      1\u001b[0m \u001b[0mq\u001b[0m\u001b[0;34m=\u001b[0m\u001b[0mvqe_handler\u001b[0m\u001b[0;34m.\u001b[0m\u001b[0mqubits\u001b[0m\u001b[0;34m[\u001b[0m\u001b[0;36m1\u001b[0m\u001b[0;34m]\u001b[0m\u001b[0;34m\u001b[0m\u001b[0;34m\u001b[0m\u001b[0m\n\u001b[0;32m----> 2\u001b[0;31m \u001b[0msimplifier\u001b[0m\u001b[0;34m.\u001b[0m\u001b[0mgive_rz_rx_rz\u001b[0m\u001b[0;34m(\u001b[0m\u001b[0mcirq\u001b[0m\u001b[0;34m.\u001b[0m\u001b[0munitary\u001b[0m\u001b[0;34m(\u001b[0m\u001b[0;34m[\u001b[0m\u001b[0mcirq\u001b[0m\u001b[0;34m.\u001b[0m\u001b[0mrx\u001b[0m\u001b[0;34m(\u001b[0m\u001b[0;34m-\u001b[0m\u001b[0;36m0.997\u001b[0m\u001b[0;34m*\u001b[0m\u001b[0mnp\u001b[0m\u001b[0;34m.\u001b[0m\u001b[0mpi\u001b[0m\u001b[0;34m)\u001b[0m\u001b[0;34m.\u001b[0m\u001b[0mon\u001b[0m\u001b[0;34m(\u001b[0m\u001b[0mq\u001b[0m\u001b[0;34m)\u001b[0m\u001b[0;34m,\u001b[0m\u001b[0mcirq\u001b[0m\u001b[0;34m.\u001b[0m\u001b[0mrz\u001b[0m\u001b[0;34m(\u001b[0m\u001b[0;34m-\u001b[0m\u001b[0;36m0.855\u001b[0m\u001b[0;34m*\u001b[0m\u001b[0mnp\u001b[0m\u001b[0;34m.\u001b[0m\u001b[0mpi\u001b[0m\u001b[0;34m)\u001b[0m\u001b[0;34m.\u001b[0m\u001b[0mon\u001b[0m\u001b[0;34m(\u001b[0m\u001b[0mq\u001b[0m\u001b[0;34m)\u001b[0m\u001b[0;34m,\u001b[0m\u001b[0mcirq\u001b[0m\u001b[0;34m.\u001b[0m\u001b[0mrx\u001b[0m\u001b[0;34m(\u001b[0m\u001b[0;34m-\u001b[0m\u001b[0;36m0.516\u001b[0m\u001b[0;34m*\u001b[0m\u001b[0mnp\u001b[0m\u001b[0;34m.\u001b[0m\u001b[0mpi\u001b[0m\u001b[0;34m)\u001b[0m\u001b[0;34m.\u001b[0m\u001b[0mon\u001b[0m\u001b[0;34m(\u001b[0m\u001b[0mq\u001b[0m\u001b[0;34m)\u001b[0m\u001b[0;34m,\u001b[0m\u001b[0mcirq\u001b[0m\u001b[0;34m.\u001b[0m\u001b[0mrz\u001b[0m\u001b[0;34m(\u001b[0m\u001b[0;36m0.229\u001b[0m\u001b[0;34m*\u001b[0m\u001b[0mnp\u001b[0m\u001b[0;34m.\u001b[0m\u001b[0mpi\u001b[0m\u001b[0;34m)\u001b[0m\u001b[0;34m.\u001b[0m\u001b[0mon\u001b[0m\u001b[0;34m(\u001b[0m\u001b[0mq\u001b[0m\u001b[0;34m)\u001b[0m\u001b[0;34m]\u001b[0m\u001b[0;34m)\u001b[0m\u001b[0;34m)\u001b[0m\u001b[0;34m\u001b[0m\u001b[0;34m\u001b[0m\u001b[0m\n\u001b[0m",
      "\u001b[0;32m~/.local/lib/python3.6/site-packages/cirq/protocols/unitary_protocol.py\u001b[0m in \u001b[0;36munitary\u001b[0;34m(val, default)\u001b[0m\n\u001b[1;32m    149\u001b[0m         \u001b[0;34m\"list of unitary operations.\\n\"\u001b[0m\u001b[0;34m\u001b[0m\u001b[0;34m\u001b[0m\u001b[0m\n\u001b[1;32m    150\u001b[0m         \u001b[0;34m\"- An `_apply_unitary_(self, args) method that returned a value \"\u001b[0m\u001b[0;34m\u001b[0m\u001b[0;34m\u001b[0m\u001b[0m\n\u001b[0;32m--> 151\u001b[0;31m         \"besides None or NotImplemented.\".format(type(val), val))\n\u001b[0m\u001b[1;32m    152\u001b[0m \u001b[0;34m\u001b[0m\u001b[0m\n\u001b[1;32m    153\u001b[0m \u001b[0;34m\u001b[0m\u001b[0m\n",
      "\u001b[0;31mTypeError\u001b[0m: cirq.unitary failed. Value doesn't have a (non-parameterized) unitary effect.\n\ntype: <class 'list'>\nvalue: [cirq.rx(np.pi*-0.997).on(cirq.GridQubit(0, 1)), cirq.rz(np.pi*-0.855).on(cirq.GridQubit(0, 1)), cirq.rx(np.pi*-0.516).on(cirq.GridQubit(0, 1)), cirq.rz(np.pi*0.229).on(cirq.GridQubit(0, 1))]\n\nThe value failed to satisfy any of the following criteria:\n- A `_unitary_(self)` method that returned a value besides None or NotImplemented.\n- A `_decompose_(self)` method that returned a list of unitary operations.\n- An `_apply_unitary_(self, args) method that returned a value besides None or NotImplemented."
     ]
    }
   ],
   "source": [
    "q=vqe_handler.qubits[1]\n",
    "simplifier.give_rz_rx_rz()"
   ]
  },
  {
   "cell_type": "code",
   "execution_count": null,
   "metadata": {},
   "outputs": [],
   "source": []
  },
  {
   "cell_type": "code",
   "execution_count": null,
   "metadata": {},
   "outputs": [],
   "source": []
  },
  {
   "cell_type": "code",
   "execution_count": null,
   "metadata": {},
   "outputs": [],
   "source": []
  },
  {
   "cell_type": "code",
   "execution_count": null,
   "metadata": {},
   "outputs": [],
   "source": []
  },
  {
   "cell_type": "code",
   "execution_count": null,
   "metadata": {},
   "outputs": [],
   "source": []
  },
  {
   "cell_type": "code",
   "execution_count": null,
   "metadata": {},
   "outputs": [],
   "source": []
  },
  {
   "cell_type": "code",
   "execution_count": 182,
   "metadata": {},
   "outputs": [
    {
     "name": "stdout",
     "output_type": "stream",
     "text": [
      "tf.Tensor([-1.035732], shape=(1,), dtype=float32)\n"
     ]
    }
   ],
   "source": [
    "\n",
    "vqe_handler = VQE(n_qubits=2, problem_config={\"problem\":\"XXZ\",\"g\":1,\"J\":2})\n",
    "iid_inserter = IdInserter(n_qubits = vqe_handler.n_qubits, selector_temperature=40, epsilon=0.1)\n",
    "simplifier = Simplifier(n_qubits=vqe_handler.n_qubits,testing=True)\n",
    "\n",
    "#indexed_circuit = [vqe_handler.number_of_cnots + k for k in range(vqe_handler.n_qubits, 2*vqe_handler.n_qubits )]\n",
    "indexed_circuit = [5,5,5,1,5,5,5]\n",
    "#indexed_circuit = [5,3,3,5,4,0,5,5,3,3,5,3,5]\n",
    "circuit, symbols, index_to_symbols = vqe_handler.give_circuit(indexed_circuit)\n",
    "resolver = {s:r for s,r in zip(symbols, np.random.randn(len(symbols)))}\n",
    "#energy, resolver, history = vqe_handler.vqe(indexed_circuit)\n",
    "\n",
    "model = QNN(symbols=list(resolver.keys()), observable=vqe_handler.observable)\n",
    "print(model(cirq.resolve_parameters(circuit,resolver)))\n"
   ]
  },
  {
   "cell_type": "code",
   "execution_count": 183,
   "metadata": {},
   "outputs": [
    {
     "name": "stdout",
     "output_type": "stream",
     "text": [
      "4\n",
      "here:  ['th_1', 'th_2']\n",
      "0.8779985591597353 th_0\n",
      "4\n",
      "here:  ['th_4', 'th_5']\n",
      "1.9401020044321542 th_1\n"
     ]
    }
   ],
   "source": [
    "i,r,po=simplifier.simplify_step(indexed_circuit,resolver,index_to_symbols)"
   ]
  },
  {
   "cell_type": "code",
   "execution_count": 184,
   "metadata": {},
   "outputs": [
    {
     "data": {
      "text/plain": [
       "<tf.Tensor: shape=(1,), dtype=float32, numpy=array([-1.0357327], dtype=float32)>"
      ]
     },
     "execution_count": 184,
     "metadata": {},
     "output_type": "execute_result"
    }
   ],
   "source": [
    "nu=vqe_handler.give_unitary(i,r)\n",
    "nu\n",
    "model(nu)"
   ]
  },
  {
   "cell_type": "code",
   "execution_count": null,
   "metadata": {},
   "outputs": [],
   "source": []
  }
 ],
 "metadata": {
  "kernelspec": {
   "display_name": "Python 3",
   "language": "python",
   "name": "python3"
  },
  "language_info": {
   "codemirror_mode": {
    "name": "ipython",
    "version": 3
   },
   "file_extension": ".py",
   "mimetype": "text/x-python",
   "name": "python",
   "nbconvert_exporter": "python",
   "pygments_lexer": "ipython3",
   "version": "3.6.9"
  }
 },
 "nbformat": 4,
 "nbformat_minor": 4
}
