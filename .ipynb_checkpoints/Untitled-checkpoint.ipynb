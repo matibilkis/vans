{
 "cells": [
  {
   "cell_type": "code",
   "execution_count": 13,
   "metadata": {},
   "outputs": [
    {
     "name": "stdout",
     "output_type": "stream",
     "text": [
      "The autoreload extension is already loaded. To reload it, use:\n",
      "  %reload_ext autoreload\n"
     ]
    }
   ],
   "source": [
    "%load_ext autoreload\n",
    "%autoreload 2\n",
    "from utilities.circuit_basics import Evaluator\n",
    "evaluator = Evaluator(loading=True, args={\"n_qubits\":4, \"J\":0.0})\n",
    "unitary, energy, indices, resolver = evaluator.raw_history[len(list(evaluator.raw_history.keys()))-1]"
   ]
  },
  {
   "cell_type": "code",
   "execution_count": 7,
   "metadata": {},
   "outputs": [
    {
     "data": {
      "text/html": [
       "<pre style=\"overflow: auto; white-space: pre;\">(0, 0): ───Rx(-π)─────────────────────@───@───────────────────────────@────────────Rx(π)──────────────────────────────────────\n",
       "                                      │   │                           │\n",
       "(0, 1): ───Rx(0)──────────────────────┼───┼───────────────────────────┼───────────────────────────────────────────────────────\n",
       "                                      │   │                           │\n",
       "(0, 2): ──────────────────────────────┼───X─────────────Rz(0.161π)────X────────────@──────────────────────────────────@───X───\n",
       "                                      │                                            │                                  │   │\n",
       "(0, 3): ───Rx(-0.69π)───Rz(-0.496π)───X───Rz(-0.639π)───Rx(-0.505π)───Rz(0.398π)───X───────Rz(0.424π)───Rx(-0.237π)───X───@───</pre>"
      ],
      "text/plain": [
       "(0, 0): ───Rx(-π)─────────────────────@───@───────────────────────────@────────────Rx(π)──────────────────────────────────────\n",
       "                                      │   │                           │\n",
       "(0, 1): ───Rx(0)──────────────────────┼───┼───────────────────────────┼───────────────────────────────────────────────────────\n",
       "                                      │   │                           │\n",
       "(0, 2): ──────────────────────────────┼───X─────────────Rz(0.161π)────X────────────@──────────────────────────────────@───X───\n",
       "                                      │                                            │                                  │   │\n",
       "(0, 3): ───Rx(-0.69π)───Rz(-0.496π)───X───Rz(-0.639π)───Rx(-0.505π)───Rz(0.398π)───X───────Rz(0.424π)───Rx(-0.237π)───X───@───"
      ]
     },
     "execution_count": 7,
     "metadata": {},
     "output_type": "execute_result"
    }
   ],
   "source": [
    "unitary"
   ]
  },
  {
   "cell_type": "code",
   "execution_count": 14,
   "metadata": {},
   "outputs": [],
   "source": [
    "from utilities.variational import VQE\n",
    "from utilities.circuit_basics import Evaluator\n",
    "from utilities.idinserter import IdInserter\n",
    "from utilities.simplifier import Simplifier\n",
    "from utilities.unitary_killer import UnitaryMurder"
   ]
  },
  {
   "cell_type": "code",
   "execution_count": 15,
   "metadata": {},
   "outputs": [],
   "source": [
    "iid = IdInserter(n_qubits=evaluator.n_qubits)\n",
    "#Simplifier reduces gates number as much as possible while keeping same expected value of target hamiltonian\n",
    "Simp = Simplifier(n_qubits=evaluator.n_qubits)\n"
   ]
  },
  {
   "cell_type": "code",
   "execution_count": 16,
   "metadata": {},
   "outputs": [
    {
     "data": {
      "text/plain": [
       "[16, 19, 15, 2, 15, 19, 15, 1, 14, 1, 16, 17, 8, 15, 19, 8, 11]"
      ]
     },
     "execution_count": 16,
     "metadata": {},
     "output_type": "execute_result"
    }
   ],
   "source": [
    "indices"
   ]
  },
  {
   "cell_type": "code",
   "execution_count": 12,
   "metadata": {},
   "outputs": [
    {
     "data": {
      "text/html": [
       "<pre style=\"overflow: auto; white-space: pre;\">(0, 0): ───Rx(-π)─────────────────────@───@───────────────────────────@────────────Rx(π)──────────────────────────────────────────────────────────────────────────────\n",
       "                                      │   │                           │\n",
       "(0, 1): ───Rx(0)──────────────────────┼───┼───────────────────────────┼───────────────────────────────────────────────────────────────────────────────────────────────\n",
       "                                      │   │                           │\n",
       "(0, 2): ──────────────────────────────┼───X─────────────Rz(0.161π)────X────────────@──────────────────────────────────@───Rz(0.032π)───Rx(-0.032π)───Rz(0.032π)───X───\n",
       "                                      │                                            │                                  │                                           │\n",
       "(0, 3): ───Rx(-0.69π)───Rz(-0.496π)───X───Rz(-0.639π)───Rx(-0.505π)───Rz(0.398π)───X───────Rz(0.424π)───Rx(-0.237π)───X───────────────────────────────────────────@───</pre>"
      ],
      "text/plain": [
       "(0, 0): ───Rx(-π)─────────────────────@───@───────────────────────────@────────────Rx(π)──────────────────────────────────────────────────────────────────────────────\n",
       "                                      │   │                           │\n",
       "(0, 1): ───Rx(0)──────────────────────┼───┼───────────────────────────┼───────────────────────────────────────────────────────────────────────────────────────────────\n",
       "                                      │   │                           │\n",
       "(0, 2): ──────────────────────────────┼───X─────────────Rz(0.161π)────X────────────@──────────────────────────────────@───Rz(0.032π)───Rx(-0.032π)───Rz(0.032π)───X───\n",
       "                                      │                                            │                                  │                                           │\n",
       "(0, 3): ───Rx(-0.69π)───Rz(-0.496π)───X───Rz(-0.639π)───Rx(-0.505π)───Rz(0.398π)───X───────Rz(0.424π)───Rx(-0.237π)───X───────────────────────────────────────────@───"
      ]
     },
     "execution_count": 12,
     "metadata": {},
     "output_type": "execute_result"
    }
   ],
   "source": [
    "block_to_insert = [resolver.number_of_cnots+(p*qubit%resolver.n_qubits) for p in [1,2,1]]\n",
    "M_indices, M_symbols_to_values, M_idx_to_symbols = iid.place_almost_identity(indices, resolver, random=False, )\n",
    "evaluator.give_unitary(M_indices,M_symbols_to_values)"
   ]
  },
  {
   "cell_type": "code",
   "execution_count": null,
   "metadata": {},
   "outputs": [],
   "source": []
  }
 ],
 "metadata": {
  "kernelspec": {
   "display_name": "Python 3",
   "language": "python",
   "name": "python3"
  },
  "language_info": {
   "codemirror_mode": {
    "name": "ipython",
    "version": 3
   },
   "file_extension": ".py",
   "mimetype": "text/x-python",
   "name": "python",
   "nbconvert_exporter": "python",
   "pygments_lexer": "ipython3",
   "version": "3.6.9"
  }
 },
 "nbformat": 4,
 "nbformat_minor": 4
}
