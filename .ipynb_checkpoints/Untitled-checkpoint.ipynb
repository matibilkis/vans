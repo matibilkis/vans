{
 "cells": [
  {
   "cell_type": "code",
   "execution_count": 1,
   "metadata": {},
   "outputs": [],
   "source": [
    "import numpy as np\n",
    "import matplotlib.pyplot as plt\n",
    "import matplotlib\n",
    "import os\n",
    "import sys\n",
    "from tqdm import tqdm\n",
    "sys.path[0] = \"~/vans\"\n",
    "from utilities.evaluator import Evaluator\n",
    "import os\n"
   ]
  },
  {
   "cell_type": "code",
   "execution_count": 5,
   "metadata": {},
   "outputs": [
    {
     "name": "stderr",
     "output_type": "stream",
     "text": [
      " 11%|█         | 1/9 [00:01<00:11,  1.47s/it]"
     ]
    },
    {
     "name": "stdout",
     "output_type": "stream",
     "text": [
      "[Errno 2] No such file or directory: 'results/xxz/plot/energies4xxz_lowest.npy'\n"
     ]
    },
    {
     "name": "stderr",
     "output_type": "stream",
     "text": [
      " 22%|██▏       | 2/9 [00:02<00:10,  1.47s/it]"
     ]
    },
    {
     "name": "stdout",
     "output_type": "stream",
     "text": [
      "[Errno 2] No such file or directory: 'results/xxz/plot/energies4xxz_lowest.npy'\n"
     ]
    },
    {
     "name": "stderr",
     "output_type": "stream",
     "text": [
      " 33%|███▎      | 3/9 [00:04<00:08,  1.50s/it]"
     ]
    },
    {
     "name": "stdout",
     "output_type": "stream",
     "text": [
      "[Errno 2] No such file or directory: 'results/xxz/plot/energies4xxz_lowest.npy'\n"
     ]
    },
    {
     "name": "stderr",
     "output_type": "stream",
     "text": [
      " 44%|████▍     | 4/9 [00:06<00:07,  1.54s/it]"
     ]
    },
    {
     "name": "stdout",
     "output_type": "stream",
     "text": [
      "[Errno 2] No such file or directory: 'results/xxz/plot/energies4xxz_lowest.npy'\n"
     ]
    },
    {
     "name": "stderr",
     "output_type": "stream",
     "text": [
      " 56%|█████▌    | 5/9 [00:07<00:06,  1.51s/it]"
     ]
    },
    {
     "name": "stdout",
     "output_type": "stream",
     "text": [
      "[Errno 2] No such file or directory: 'results/xxz/plot/energies4xxz_lowest.npy'\n"
     ]
    },
    {
     "name": "stderr",
     "output_type": "stream",
     "text": [
      " 67%|██████▋   | 6/9 [00:09<00:04,  1.52s/it]"
     ]
    },
    {
     "name": "stdout",
     "output_type": "stream",
     "text": [
      "[Errno 2] No such file or directory: 'results/xxz/plot/energies4xxz_lowest.npy'\n"
     ]
    },
    {
     "name": "stderr",
     "output_type": "stream",
     "text": [
      " 78%|███████▊  | 7/9 [00:10<00:02,  1.35s/it]"
     ]
    },
    {
     "name": "stdout",
     "output_type": "stream",
     "text": [
      "[Errno 2] No such file or directory: 'results/xxz/plot/energies4xxz_lowest.npy'\n"
     ]
    },
    {
     "name": "stderr",
     "output_type": "stream",
     "text": [
      " 89%|████████▉ | 8/9 [00:11<00:01,  1.33s/it]"
     ]
    },
    {
     "name": "stdout",
     "output_type": "stream",
     "text": [
      "[Errno 2] No such file or directory: 'results/xxz/plot/energies4xxz_lowest.npy'\n"
     ]
    },
    {
     "name": "stderr",
     "output_type": "stream",
     "text": [
      "100%|██████████| 9/9 [00:13<00:00,  1.47s/it]"
     ]
    },
    {
     "name": "stdout",
     "output_type": "stream",
     "text": [
      "[Errno 2] No such file or directory: 'results/xxz/plot/energies4xxz_lowest.npy'\n"
     ]
    },
    {
     "name": "stderr",
     "output_type": "stream",
     "text": [
      "\n"
     ]
    }
   ],
   "source": [
    "js = np.arange(0,2.25,.25)\n",
    "jss=[]\n",
    "energies=[]\n",
    "for j in tqdm(js):\n",
    "    try:\n",
    "\n",
    "        args={\"n_qubits\":4,\"problem_config\":{\"problem\" : \"XXZ\", \"g\":1.0, \"J\": j}, \"load_displaying\":False}\n",
    "        evaluator = Evaluator(args,loading=True, path=\"/data/uab-giq/scratch/matias/data-vans/\")\n",
    "        energies.append(evaluator.raw_history[len(list(evaluator.raw_history.keys()))-1][4])\n",
    "        np.save(\"results/xxz/energies4xxz_lowest\",energies)\n",
    "        np.save(\"results/xxz/jsenergies4xxz_lowest\",jss)        \n",
    "        jss.append(j)\n",
    "    except Exception as e:\n",
    "        print(e)\n",
    "        pass"
   ]
  },
  {
   "cell_type": "code",
   "execution_count": 1,
   "metadata": {},
   "outputs": [],
   "source": [
    "\n",
    "\n",
    "matplotlib.rcParams['text.latex.preamble'] = [r'\\boldmath']\n",
    "matplotlib.rc('font', serif='cm10')\n",
    "matplotlib.rc('text', usetex=True)\n",
    "# #\n",
    "axinticks=[]\n",
    "plt.rcParams.update({'font.size': 45})\n",
    "\n",
    "#\n",
    "ground = np.genfromtxt('results/xxz/plot/xxz14.csv',delimiter=',')\n",
    "js,ans = ground[:,0], ground[:,1]\n",
    "energies = []\n",
    "# #\n",
    "\n",
    "\n",
    "energies = np.load(\"results/xxz/plot/energies14xxz_lowest.npy\")\n",
    "plt.figure(figsize=(20,20))\n",
    "ax1 = plt.subplot2grid((2,1),(0,0))\n",
    "ax2 = plt.subplot2grid((2,1),(1,0))\n",
    "\n",
    "\n",
    "plt.suptitle(\"14 qubits\\n\"+r'$H = g \\sum_j \\sigma_j^{z} + \\sum_j \\sigma_{j}^{x} \\sigma_{j+1}^{x} +  \\sigma_{j}^{y} \\sigma_{j+1}^{y} + J  \\sigma_{j}^{z} \\sigma_{j+1}^{z}$', size=20)\n",
    "ax1.scatter(js,energies, s=20, color=\"red\", label=\"lowest energy found (vans)\" )\n",
    "ax1.plot(js, ans, color=\"black\",label=\"true ground state energy\")\n",
    "ax2.scatter(js,np.abs((energies-ans)/ans), s=30, color=\"red\")\n",
    "ax2.set_ylabel(r'$\\frac{\\Delta E}{E_g}$', size=20)\n",
    "ax2.set_xlabel(\"J\", size=30)\n",
    "#for a in [ax1, ax2]:#\n",
    "    #a.set_xticks(np.arange(0,4.6,0.4))\n",
    "ax1.legend(prop={\"size\":15})\n",
    "plt.savefig(\"results/xxz/plot/xxz14.png\")\n",
    "# # # plt.plot(energies)\n",
    "# # # plt.show()\n"
   ]
  },
  {
   "cell_type": "code",
   "execution_count": 5,
   "metadata": {},
   "outputs": [],
   "source": []
  },
  {
   "cell_type": "code",
   "execution_count": null,
   "metadata": {},
   "outputs": [],
   "source": []
  },
  {
   "cell_type": "code",
   "execution_count": null,
   "metadata": {},
   "outputs": [],
   "source": []
  },
  {
   "cell_type": "code",
   "execution_count": 4,
   "metadata": {},
   "outputs": [
    {
     "data": {
      "text/plain": [
       "<matplotlib.collections.PathCollection at 0x7fda9f480f28>"
      ]
     },
     "execution_count": 4,
     "metadata": {},
     "output_type": "execute_result"
    },
    {
     "data": {
      "image/png": "[encoded data removed]",
      "text/plain": [
       "<Figure size 432x288 with 1 Axes>"
      ]
     },
     "metadata": {
      "needs_background": "light"
     },
     "output_type": "display_data"
    }
   ],
   "source": [
    "plt.scatter(range(10),range(10),color=converter.to_rgb(\"#D79922\"))"
   ]
  },
  {
   "cell_type": "code",
   "execution_count": null,
   "metadata": {},
   "outputs": [],
   "source": []
  }
 ],
 "metadata": {
  "kernelspec": {
   "display_name": "qenv_bilkis",
   "language": "python",
   "name": "qenv_bilkis"
  },
  "language_info": {
   "codemirror_mode": {
    "name": "ipython",
    "version": 3
   },
   "file_extension": ".py",
   "mimetype": "text/x-python",
   "name": "python",
   "nbconvert_exporter": "python",
   "pygments_lexer": "ipython3",
   "version": "3.6.8"
  }
 },
 "nbformat": 4,
 "nbformat_minor": 4
}
