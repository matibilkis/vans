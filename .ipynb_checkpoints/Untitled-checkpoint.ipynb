{
 "cells": [
  {
   "cell_type": "code",
   "execution_count": 8,
   "metadata": {},
   "outputs": [],
   "source": [
    "import numpy as np\n",
    "\n",
    "\n",
    "def ep(k, J=1, h=1):\n",
    "    return 2*J*np.sqrt((np.cos(k)-(h/J))**2  + np.sin(l)**2  )\n",
    "\n",
    "\n",
    "def ks(L):\n",
    "    if L%2 == 0:\n",
    "        l0 = -L/2\n",
    "    else:\n",
    "        l0 = -(L+1)/2\n",
    "    ks=[l0]\n",
    "    for n in range(1,L):\n",
    "        kk=(ks[-1]+n)*np.pi*2/L\n",
    "        if kk != np.pi and kk > 0:\n",
    "            \n",
    "        ks.append(ks[-1]+n)\n",
    "    return np.array(ks)\n",
    "\n",
    "#def e0(J=1,h=1):"
   ]
  },
  {
   "cell_type": "code",
   "execution_count": 9,
   "metadata": {},
   "outputs": [
    {
     "data": {
      "text/plain": [
       "array([-2., -1.,  1.])"
      ]
     },
     "execution_count": 9,
     "metadata": {},
     "output_type": "execute_result"
    }
   ],
   "source": [
    "ks(3)"
   ]
  },
  {
   "cell_type": "code",
   "execution_count": null,
   "metadata": {},
   "outputs": [],
   "source": []
  }
 ],
 "metadata": {
  "kernelspec": {
   "display_name": "Python 3",
   "language": "python",
   "name": "python3"
  },
  "language_info": {
   "codemirror_mode": {
    "name": "ipython",
    "version": 3
   },
   "file_extension": ".py",
   "mimetype": "text/x-python",
   "name": "python",
   "nbconvert_exporter": "python",
   "pygments_lexer": "ipython3",
   "version": "3.6.9"
  }
 },
 "nbformat": 4,
 "nbformat_minor": 4
}
