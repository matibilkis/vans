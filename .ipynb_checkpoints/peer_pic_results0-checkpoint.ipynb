{
 "cells": [
  {
   "cell_type": "code",
   "execution_count": 1,
   "metadata": {},
   "outputs": [],
   "source": [
    "from utilities.evaluator import Evaluator\n",
    "import numpy as np\n",
    "import matplotlib.pyplot as plt\n",
    "from IPython import display\n",
    "from utilities.misc import dict_to_json\n",
    "%load_ext autoreload\n",
    "%autoreload 2"
   ]
  },
  {
   "cell_type": "code",
   "execution_count": 8,
   "metadata": {},
   "outputs": [
    {
     "ename": "FileNotFoundError",
     "evalue": "[Errno 2] No such file or directory: '../data-vans/H4/N8_geometry_H4_multip_[(H, (0.0, 0.0, 0.0)), (H, (0.0, 0.0, 1.5)), (H, (0.0, 0.0, 3.0)), (H, (0.0, 0.0, 4.5))]_charge_1_basis0_quiet_rate_10/run_0/raw_history.pkl'",
     "output_type": "error",
     "traceback": [
      "\u001b[0;31m---------------------------------------------------------------------------\u001b[0m",
      "\u001b[0;31mFileNotFoundError\u001b[0m                         Traceback (most recent call last)",
      "\u001b[0;32m<ipython-input-8-881c49cfcf58>\u001b[0m in \u001b[0;36m<module>\u001b[0;34m\u001b[0m\n\u001b[1;32m      2\u001b[0m \u001b[0mproblem_config\u001b[0m\u001b[0;34m=\u001b[0m\u001b[0;34m{\u001b[0m\u001b[0;34m\"problem\"\u001b[0m \u001b[0;34m:\u001b[0m \u001b[0;34m\"H4\"\u001b[0m\u001b[0;34m,\u001b[0m \u001b[0;34m\"geometry\"\u001b[0m\u001b[0;34m:\u001b[0m \u001b[0mstr\u001b[0m\u001b[0;34m(\u001b[0m\u001b[0;34m[\u001b[0m\u001b[0;34m(\u001b[0m\u001b[0;34m'H'\u001b[0m\u001b[0;34m,\u001b[0m \u001b[0;34m(\u001b[0m\u001b[0;36m0.\u001b[0m\u001b[0;34m,\u001b[0m \u001b[0;36m0.\u001b[0m\u001b[0;34m,\u001b[0m \u001b[0;36m0.\u001b[0m\u001b[0;34m)\u001b[0m\u001b[0;34m)\u001b[0m\u001b[0;34m,\u001b[0m \u001b[0;34m(\u001b[0m\u001b[0;34m'H'\u001b[0m\u001b[0;34m,\u001b[0m \u001b[0;34m(\u001b[0m\u001b[0;36m0.\u001b[0m\u001b[0;34m,\u001b[0m \u001b[0;36m0.\u001b[0m\u001b[0;34m,\u001b[0m \u001b[0mbond\u001b[0m\u001b[0;34m)\u001b[0m\u001b[0;34m)\u001b[0m\u001b[0;34m,\u001b[0m \u001b[0;34m(\u001b[0m\u001b[0;34m'H'\u001b[0m\u001b[0;34m,\u001b[0m \u001b[0;34m(\u001b[0m\u001b[0;36m0.\u001b[0m\u001b[0;34m,\u001b[0m \u001b[0;36m0.\u001b[0m\u001b[0;34m,\u001b[0m \u001b[0;36m2\u001b[0m\u001b[0;34m*\u001b[0m\u001b[0mbond\u001b[0m\u001b[0;34m)\u001b[0m\u001b[0;34m)\u001b[0m\u001b[0;34m,\u001b[0m \u001b[0;34m(\u001b[0m\u001b[0;34m'H'\u001b[0m\u001b[0;34m,\u001b[0m \u001b[0;34m(\u001b[0m\u001b[0;36m0.\u001b[0m\u001b[0;34m,\u001b[0m \u001b[0;36m0.\u001b[0m\u001b[0;34m,\u001b[0m \u001b[0;36m3\u001b[0m\u001b[0;34m*\u001b[0m\u001b[0mbond\u001b[0m\u001b[0;34m)\u001b[0m\u001b[0;34m)\u001b[0m\u001b[0;34m]\u001b[0m\u001b[0;34m)\u001b[0m\u001b[0;34m.\u001b[0m\u001b[0mreplace\u001b[0m\u001b[0;34m(\u001b[0m\u001b[0;34m\"'\"\u001b[0m\u001b[0;34m,\u001b[0m\u001b[0;34m\"\"\u001b[0m\u001b[0;34m)\u001b[0m\u001b[0;34m,\u001b[0m \u001b[0;34m\"multiplicity\"\u001b[0m\u001b[0;34m:\u001b[0m\u001b[0;36m1\u001b[0m\u001b[0;34m,\u001b[0m \u001b[0;34m\"charge\"\u001b[0m\u001b[0;34m:\u001b[0m\u001b[0;36m0\u001b[0m\u001b[0;34m,\u001b[0m \u001b[0;34m\"basis\"\u001b[0m\u001b[0;34m:\u001b[0m\u001b[0;34m\"sto-3g\"\u001b[0m\u001b[0;34m}\u001b[0m\u001b[0;34m\u001b[0m\u001b[0;34m\u001b[0m\u001b[0m\n\u001b[1;32m      3\u001b[0m \u001b[0marguss\u001b[0m\u001b[0;34m=\u001b[0m \u001b[0;34m{\u001b[0m\u001b[0;34m\"n_qubits\"\u001b[0m\u001b[0;34m:\u001b[0m\u001b[0;36m8\u001b[0m\u001b[0;34m,\u001b[0m\u001b[0;34m\"problem_config\"\u001b[0m\u001b[0;34m:\u001b[0m\u001b[0mproblem_config\u001b[0m\u001b[0;34m,\u001b[0m\u001b[0;34m\"specific_name\"\u001b[0m\u001b[0;34m:\u001b[0m\u001b[0;34m\"_rate_{}\"\u001b[0m\u001b[0;34m.\u001b[0m\u001b[0mformat\u001b[0m\u001b[0;34m(\u001b[0m\u001b[0;36m10\u001b[0m\u001b[0;34m)\u001b[0m\u001b[0;34m,\u001b[0m \u001b[0;34m\"noise_config\"\u001b[0m\u001b[0;34m:\u001b[0m\u001b[0;34m{\u001b[0m\u001b[0;34m}\u001b[0m\u001b[0;34m}\u001b[0m\u001b[0;34m\u001b[0m\u001b[0;34m\u001b[0m\u001b[0m\n\u001b[0;32m----> 4\u001b[0;31m \u001b[0mevaluator\u001b[0m \u001b[0;34m=\u001b[0m \u001b[0mEvaluator\u001b[0m\u001b[0;34m(\u001b[0m\u001b[0margs\u001b[0m\u001b[0;34m=\u001b[0m\u001b[0marguss\u001b[0m\u001b[0;34m,\u001b[0m\u001b[0mloading\u001b[0m\u001b[0;34m=\u001b[0m\u001b[0;32mTrue\u001b[0m\u001b[0;34m,\u001b[0m\u001b[0mpath\u001b[0m\u001b[0;34m=\u001b[0m\u001b[0;34m\"../data-vans/\"\u001b[0m\u001b[0;34m)\u001b[0m\u001b[0;34m\u001b[0m\u001b[0;34m\u001b[0m\u001b[0m\n\u001b[0m",
      "\u001b[0;32m~/Desktop/vans/utilities/evaluator.py\u001b[0m in \u001b[0;36m__init__\u001b[0;34m(self, args, info, loading, acceptange_percentage, accuracy_to_end, nrun_load, path)\u001b[0m\n\u001b[1;32m     66\u001b[0m                 \u001b[0map\u001b[0m \u001b[0;34m=\u001b[0m \u001b[0margs_load\u001b[0m\u001b[0;34m[\u001b[0m\u001b[0;34m\"specific_name\"\u001b[0m\u001b[0;34m]\u001b[0m\u001b[0;34m\u001b[0m\u001b[0;34m\u001b[0m\u001b[0m\n\u001b[1;32m     67\u001b[0m             \u001b[0mself\u001b[0m\u001b[0;34m.\u001b[0m\u001b[0midentifier\u001b[0m \u001b[0;34m=\u001b[0m \u001b[0;34m\"{}/N{}_{}_{}\"\u001b[0m\u001b[0;34m.\u001b[0m\u001b[0mformat\u001b[0m\u001b[0;34m(\u001b[0m\u001b[0margs\u001b[0m\u001b[0;34m[\u001b[0m\u001b[0;34m\"problem_config\"\u001b[0m\u001b[0;34m]\u001b[0m\u001b[0;34m[\u001b[0m\u001b[0;34m\"problem\"\u001b[0m\u001b[0;34m]\u001b[0m\u001b[0;34m,\u001b[0m\u001b[0margs_load\u001b[0m\u001b[0;34m[\u001b[0m\u001b[0;34m\"n_qubits\"\u001b[0m\u001b[0;34m]\u001b[0m\u001b[0;34m,\u001b[0m\u001b[0mproblem_identifier\u001b[0m\u001b[0;34m,\u001b[0m \u001b[0mnoise_identifier\u001b[0m\u001b[0;34m)\u001b[0m\u001b[0;34m+\u001b[0m\u001b[0map\u001b[0m\u001b[0;34m\u001b[0m\u001b[0;34m\u001b[0m\u001b[0m\n\u001b[0;32m---> 68\u001b[0;31m             \u001b[0mself\u001b[0m\u001b[0;34m.\u001b[0m\u001b[0mload\u001b[0m\u001b[0;34m(\u001b[0m\u001b[0margs_load\u001b[0m\u001b[0;34m,\u001b[0m\u001b[0mnrun\u001b[0m\u001b[0;34m=\u001b[0m\u001b[0mnrun_load\u001b[0m\u001b[0;34m)\u001b[0m\u001b[0;34m\u001b[0m\u001b[0;34m\u001b[0m\u001b[0m\n\u001b[0m\u001b[1;32m     69\u001b[0m             \u001b[0;31m#if args_load[\"specific_name\"] is None:\u001b[0m\u001b[0;34m\u001b[0m\u001b[0;34m\u001b[0m\u001b[0;34m\u001b[0m\u001b[0m\n\u001b[1;32m     70\u001b[0m                        \u001b[0;31m# else:\u001b[0m\u001b[0;34m\u001b[0m\u001b[0;34m\u001b[0m\u001b[0;34m\u001b[0m\u001b[0m\n",
      "\u001b[0;32m~/Desktop/vans/utilities/evaluator.py\u001b[0m in \u001b[0;36mload\u001b[0;34m(self, args, nrun)\u001b[0m\n\u001b[1;32m    134\u001b[0m     \u001b[0;32mdef\u001b[0m \u001b[0mload\u001b[0m\u001b[0;34m(\u001b[0m\u001b[0mself\u001b[0m\u001b[0;34m,\u001b[0m\u001b[0margs\u001b[0m\u001b[0;34m,\u001b[0m \u001b[0mnrun\u001b[0m\u001b[0;34m=\u001b[0m\u001b[0;36m0\u001b[0m\u001b[0;34m)\u001b[0m\u001b[0;34m:\u001b[0m\u001b[0;34m\u001b[0m\u001b[0;34m\u001b[0m\u001b[0m\n\u001b[1;32m    135\u001b[0m         \u001b[0mname_folder\u001b[0m \u001b[0;34m=\u001b[0m \u001b[0mself\u001b[0m\u001b[0;34m.\u001b[0m\u001b[0mpath\u001b[0m\u001b[0;34m+\u001b[0m\u001b[0mself\u001b[0m\u001b[0;34m.\u001b[0m\u001b[0midentifier\u001b[0m\u001b[0;34m+\u001b[0m\u001b[0;34m\"/run_{}\"\u001b[0m\u001b[0;34m.\u001b[0m\u001b[0mformat\u001b[0m\u001b[0;34m(\u001b[0m\u001b[0mnrun\u001b[0m\u001b[0;34m)\u001b[0m\u001b[0;34m\u001b[0m\u001b[0;34m\u001b[0m\u001b[0m\n\u001b[0;32m--> 136\u001b[0;31m         \u001b[0mself\u001b[0m\u001b[0;34m.\u001b[0m\u001b[0mload_dicts_and_displaying\u001b[0m\u001b[0;34m(\u001b[0m\u001b[0mname_folder\u001b[0m\u001b[0;34m)\u001b[0m\u001b[0;34m\u001b[0m\u001b[0;34m\u001b[0m\u001b[0m\n\u001b[0m\u001b[1;32m    137\u001b[0m         \u001b[0;32mreturn\u001b[0m\u001b[0;34m\u001b[0m\u001b[0;34m\u001b[0m\u001b[0m\n\u001b[1;32m    138\u001b[0m \u001b[0;34m\u001b[0m\u001b[0m\n",
      "\u001b[0;32m~/Desktop/vans/utilities/evaluator.py\u001b[0m in \u001b[0;36mload_dicts_and_displaying\u001b[0;34m(self, folder, load_txt)\u001b[0m\n\u001b[1;32m    159\u001b[0m \u001b[0;34m\u001b[0m\u001b[0m\n\u001b[1;32m    160\u001b[0m     \u001b[0;32mdef\u001b[0m \u001b[0mload_dicts_and_displaying\u001b[0m\u001b[0;34m(\u001b[0m\u001b[0mself\u001b[0m\u001b[0;34m,\u001b[0m\u001b[0mfolder\u001b[0m\u001b[0;34m,\u001b[0m \u001b[0mload_txt\u001b[0m\u001b[0;34m=\u001b[0m\u001b[0;32mFalse\u001b[0m\u001b[0;34m)\u001b[0m\u001b[0;34m:\u001b[0m\u001b[0;34m\u001b[0m\u001b[0;34m\u001b[0m\u001b[0m\n\u001b[0;32m--> 161\u001b[0;31m         \u001b[0;32mwith\u001b[0m \u001b[0mopen\u001b[0m\u001b[0;34m(\u001b[0m\u001b[0mfolder\u001b[0m\u001b[0;34m+\u001b[0m\u001b[0;34m\"/raw_history.pkl\"\u001b[0m \u001b[0;34m,\u001b[0m\u001b[0;34m\"rb\"\u001b[0m\u001b[0;34m)\u001b[0m \u001b[0;32mas\u001b[0m \u001b[0mh\u001b[0m\u001b[0;34m:\u001b[0m\u001b[0;34m\u001b[0m\u001b[0;34m\u001b[0m\u001b[0m\n\u001b[0m\u001b[1;32m    162\u001b[0m             \u001b[0mself\u001b[0m\u001b[0;34m.\u001b[0m\u001b[0mraw_history\u001b[0m \u001b[0;34m=\u001b[0m \u001b[0mpickle\u001b[0m\u001b[0;34m.\u001b[0m\u001b[0mload\u001b[0m\u001b[0;34m(\u001b[0m\u001b[0mh\u001b[0m\u001b[0;34m)\u001b[0m\u001b[0;34m\u001b[0m\u001b[0;34m\u001b[0m\u001b[0m\n\u001b[1;32m    163\u001b[0m         \u001b[0;32mwith\u001b[0m \u001b[0mopen\u001b[0m\u001b[0;34m(\u001b[0m\u001b[0mfolder\u001b[0m\u001b[0;34m+\u001b[0m\u001b[0;34m\"/evolution.pkl\"\u001b[0m\u001b[0;34m,\u001b[0m \u001b[0;34m\"rb\"\u001b[0m\u001b[0;34m)\u001b[0m \u001b[0;32mas\u001b[0m \u001b[0mhh\u001b[0m\u001b[0;34m:\u001b[0m\u001b[0;34m\u001b[0m\u001b[0;34m\u001b[0m\u001b[0m\n",
      "\u001b[0;31mFileNotFoundError\u001b[0m: [Errno 2] No such file or directory: '../data-vans/H4/N8_geometry_H4_multip_[(H, (0.0, 0.0, 0.0)), (H, (0.0, 0.0, 1.5)), (H, (0.0, 0.0, 3.0)), (H, (0.0, 0.0, 4.5))]_charge_1_basis0_quiet_rate_10/run_0/raw_history.pkl'"
     ]
    }
   ],
   "source": [
    "bond=1.5\n",
    "problem_config={\"problem\" : \"H4\", \"geometry\": str([('H', (0., 0., 0.)), ('H', (0., 0., bond)), ('H', (0., 0., 2*bond)), ('H', (0., 0., 3*bond))]).replace(\"'\",\"\"), \"multiplicity\":1, \"charge\":0, \"basis\":\"sto-3g\"}\n",
    "arguss= {\"n_qubits\":8,\"problem_config\":problem_config,\"specific_name\":\"_rate_{}\".format(10), \"noise_config\":{}}\n",
    "evaluator = Evaluator(args=arguss,loading=True,path=\"../data-vans/\")"
   ]
  },
  {
   "cell_type": "code",
   "execution_count": 50,
   "metadata": {},
   "outputs": [
    {
     "name": "stdout",
     "output_type": "stream",
     "text": [
      "\n",
      " Hola, I'm VANS, and current local time is 2021-02-20 07:26:20.456853 \n",
      "len(n_qubits): 8\n",
      "noise: {}\n",
      "qlr: 0.01\n",
      "qepochs: 2000\n",
      "patience: 200\n",
      "genetic runs: 3000\n",
      "acceptange_percentage runs: 0.05\n",
      "rate_iids_per_step: 3.15\n",
      "problem_info: {'problem': 'H4', 'geometry': '[(H, (0.0, 0.0, 0.0)), (H, (0.0, 0.0, 1.5)), (H, (0.0, 0.0, 3.0)), (H, (0.0, 0.0, 4.5))]', 'multiplicity': '1', 'charge': '0', 'basis': 'sto-3g'}\n",
      "\n",
      "Iteration #0\n",
      "Time since beggining:0:00:15.562555\n",
      " best energy: None\n",
      " lower_bound: -1.9945503255188075\n",
      "Iteration #1\n",
      "Time since beggining:0:00:52.110269\n",
      " best energy: -1.774492859840393\n",
      " lower_bound: -1.9945503255188075\n",
      "Iteration #2\n",
      "Time since beggining:0:01:43.226449\n",
      " best energy: -1.774492859840393\n",
      " lower_bound: -1.9945503255188075\n",
      "Iteration #3\n",
      "Time since beggining:0:02:13.002763\n",
      " best energy: -1.774492859840393\n",
      " lower_bound: -1.9945503255188075\n",
      "Iteration #4\n",
      "Time since beggining:0:02:31.544637\n",
      " best energy: -1.774492859840393\n",
      " lower_bound: -1.9945503255188075\n",
      "Iteration #5\n",
      "Time since beggining:0:03:23.751397\n",
      " best energy: -1.8291375637054443\n",
      " lower_bound: -1.9945503255188075\n",
      "Iteration #6\n",
      "Time since beggining:0:03:42.097373\n",
      " best energy: -1.8291375637054443\n",
      " lower_bound: -1.9945503255188075\n",
      "Iteration #7\n",
      "Time since beggining:0:07:01.565504\n",
      " best energy: -1.8291375637054443\n",
      " lower_bound: -1.9945503255188075\n",
      "Iteration #8\n",
      "Time since beggining:0:07:19.806096\n",
      " best energy: -1.8291375637054443\n",
      " lower_bound: -1.9945503255188075\n",
      "Iteration #9\n",
      "Time since beggining:0:07:37.586064\n",
      " best energy: -1.8291375637054443\n",
      " lower_bound: -1.9945503255188075\n",
      "Iteration #10\n",
      "Time since beggining:0:08:18.049788\n",
      " best energy: -1.8291375637054443\n",
      " lower_bound: -1.9945503255188075\n",
      "Iteration #11\n",
      "Time since beggining:0:08:43.162473\n",
      " best energy: -1.8291375637054443\n",
      " lower_bound: -1.9945503255188075\n",
      "Iteration #12\n",
      "Time since beggining:0:10:02.937468\n",
      " best energy: -1.8291375637054443\n",
      " lower_bound: -1.9945503255188075\n",
      "Iteration #13\n",
      "Time since beggining:0:10:29.878878\n",
      " best energy: -1.8291375637054443\n",
      " lower_bound: -1.9945503255188075\n",
      "Iteration #14\n",
      "Time since beggining:0:10:47.068035\n",
      " best energy: -1.8291375637054443\n",
      " lower_bound: -1.9945503255188075\n",
      "Iteration #15\n",
      "Time since beggining:0:11:04.603765\n",
      " best energy: -1.8291375637054443\n",
      " lower_bound: -1.9945503255188075\n",
      "Iteration #16\n",
      "Time since beggining:0:11:37.927370\n",
      " best energy: -1.8291375637054443\n",
      " lower_bound: -1.9945503255188075\n",
      "Iteration #17\n",
      "Time since beggining:0:11:54.744908\n",
      " best energy: -1.8291375637054443\n",
      " lower_bound: -1.9945503255188075\n",
      "Iteration #18\n",
      "Time since beggining:0:12:50.060493\n",
      " best energy: -1.8291375637054443\n",
      " lower_bound: -1.9945503255188075\n"
     ]
    }
   ],
   "source": [
    "print(evaluator.displaying[\"information\"])"
   ]
  },
  {
   "cell_type": "code",
   "execution_count": null,
   "metadata": {},
   "outputs": [],
   "source": []
  }
 ],
 "metadata": {
  "kernelspec": {
   "display_name": "Python 3",
   "language": "python",
   "name": "python3"
  },
  "language_info": {
   "codemirror_mode": {
    "name": "ipython",
    "version": 3
   },
   "file_extension": ".py",
   "mimetype": "text/x-python",
   "name": "python",
   "nbconvert_exporter": "python",
   "pygments_lexer": "ipython3",
   "version": "3.6.9"
  }
 },
 "nbformat": 4,
 "nbformat_minor": 4
}
