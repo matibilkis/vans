{
 "cells": [
  {
   "cell_type": "code",
   "execution_count": 239,
   "metadata": {},
   "outputs": [
    {
     "name": "stdout",
     "output_type": "stream",
     "text": [
      "The autoreload extension is already loaded. To reload it, use:\n",
      "  %reload_ext autoreload\n"
     ]
    }
   ],
   "source": [
    "%load_ext autoreload\n",
    "%autoreload 2\n",
    "import tensorflow_quantum as tfq\n",
    "from utilities.variational import VQE\n",
    "from utilities.qmodels import *\n",
    "from utilities.evaluator import Evaluator\n",
    "from utilities.idinserter import IdInserter\n",
    "from utilities.unitary_killer import UnitaryMurder\n",
    "from utilities.simplifier import Simplifier\n",
    "import cirq"
   ]
  },
  {
   "cell_type": "code",
   "execution_count": 248,
   "metadata": {},
   "outputs": [
    {
     "name": "stdout",
     "output_type": "stream",
     "text": [
      "1\n",
      "cnt_rule 7\n",
      "cnt_rule 6\n",
      "cnt_rule 6\n",
      "cnt_rule 7\n",
      "cnt_rule 6\n",
      "cnt_rule 6\n",
      "cnt_rule 7\n",
      "cnt_rule 7\n",
      "cnt_rule 6\n",
      "cnt_rule 6\n",
      "cnt_rule 7\n",
      "2\n",
      "cnt_rule 7\n",
      "3\n",
      "cnt_rule 7\n",
      "cnt_rule 2\n",
      "cnt_rule 7\n",
      "cnt_rule 7\n",
      "cnt_rule 6\n",
      "cnt_rule 6\n",
      "cnt_rule 7\n",
      "cnt_rule 7\n",
      "cnt_rule 6\n",
      "cnt_rule 7\n",
      "cnt_rule 7\n",
      "cnt_rule 6\n",
      "cnt_rule 6\n",
      "cnt_rule 4\n",
      "cnt_rule 4\n",
      "cnt_rule 2\n",
      "cnt_rule 5\n",
      "cnt_rule 5\n",
      "cnt_rule 6\n",
      "cnt_rule 6\n",
      "4\n",
      "cnt_rule 5\n",
      "cnt_rule 5\n",
      "cnt_rule 7\n",
      "cnt_rule 3\n",
      "cnt_rule 3\n",
      "cnt_rule 6\n",
      "5\n",
      "cnt_rule 6\n",
      "cnt_rule 7\n",
      "cnt_rule 2\n",
      "cnt_rule 7\n",
      "cnt_rule 7\n",
      "cnt_rule 6\n",
      "cnt_rule 6\n",
      "cnt_rule 6\n",
      "cnt_rule 6\n",
      "cnt_rule 6\n",
      "cnt_rule 6\n",
      "cnt_rule 2\n",
      "cnt_rule 7\n",
      "cnt_rule 7\n",
      "cnt_rule 7\n",
      "cnt_rule 6\n",
      "cnt_rule 1\n",
      "cnt_rule 6\n",
      "cnt_rule 7\n",
      "cnt_rule 7\n",
      "cnt_rule 5\n",
      "cnt_rule 5\n",
      "cnt_rule 4\n",
      "cnt_rule 3\n",
      "cnt_rule 4\n",
      "cnt_rule 6\n",
      "cnt_rule 6\n",
      "cnt_rule 1\n",
      "cnt_rule 5\n",
      "6\n",
      "cnt_rule 7\n",
      "cnt_rule 7\n",
      "cnt_rule 1\n",
      "cnt_rule 3\n",
      "7\n",
      "cnt_rule 6\n",
      "cnt_rule 6\n",
      "cnt_rule 7\n",
      "cnt_rule 7\n",
      "cnt_rule 7\n",
      "cnt_rule 7\n",
      "cnt_rule 7\n",
      "cnt_rule 1\n",
      "cnt_rule 6\n",
      "cnt_rule 3\n",
      "8\n",
      "cnt_rule 5\n",
      "cnt_rule 5\n",
      "cnt_rule 7\n",
      "cnt_rule 6\n",
      "cnt_rule 6\n",
      "cnt_rule 6\n",
      "cnt_rule 6\n",
      "cnt_rule 4\n",
      "cnt_rule 6\n",
      "cnt_rule 6\n",
      "cnt_rule 6\n",
      "cnt_rule 6\n",
      "cnt_rule 6\n",
      "cnt_rule 6\n",
      "cnt_rule 7\n",
      "cnt_rule 7\n",
      "cnt_rule 7\n",
      "cnt_rule 5\n",
      "cnt_rule 6\n",
      "cnt_rule 7\n",
      "cnt_rule 5\n",
      "cnt_rule 7\n",
      "cnt_rule 6\n",
      "cnt_rule 6\n",
      "cnt_rule 6\n",
      "cnt_rule 6\n",
      "cnt_rule 4\n",
      "cnt_rule 5\n",
      "cnt_rule 6\n",
      "cnt_rule 7\n",
      "cnt_rule 7\n",
      "cnt_rule 6\n",
      "cnt_rule 6\n",
      "cnt_rule 6\n",
      "cnt_rule 6\n",
      "cnt_rule 7\n",
      "cnt_rule 7\n",
      "cnt_rule 6\n",
      "cnt_rule 7\n",
      "cnt_rule 5\n",
      "cnt_rule 7\n",
      "cnt_rule 7\n",
      "cnt_rule 5\n",
      "cnt_rule 3\n",
      "cnt_rule 6\n",
      "cnt_rule 5\n",
      "cnt_rule 2\n",
      "cnt_rule 6\n",
      "cnt_rule 5\n",
      "cnt_rule 6\n",
      "cnt_rule 6\n",
      "cnt_rule 6\n",
      "cnt_rule 6\n",
      "9\n",
      "cnt_rule 6\n",
      "cnt_rule 7\n",
      "cnt_rule 2\n",
      "cnt_rule 7\n",
      "cnt_rule 2\n",
      "cnt_rule 7\n",
      "cnt_rule 7\n",
      "cnt_rule 7\n",
      "cnt_rule 5\n",
      "cnt_rule 7\n",
      "cnt_rule 2\n",
      "cnt_rule 6\n",
      "cnt_rule 7\n",
      "cnt_rule 6\n",
      "cnt_rule 6\n",
      "cnt_rule 7\n",
      "cnt_rule 7\n",
      "cnt_rule 7\n",
      "cnt_rule 6\n",
      "cnt_rule 6\n",
      "cnt_rule 6\n",
      "cnt_rule 6\n",
      "cnt_rule 7\n",
      "cnt_rule 1\n",
      "cnt_rule 6\n",
      "cnt_rule 6\n",
      "cnt_rule 6\n",
      "cnt_rule 6\n",
      "cnt_rule 6\n",
      "cnt_rule 6\n",
      "cnt_rule 6\n",
      "cnt_rule 6\n",
      "cnt_rule 6\n",
      "cnt_rule 7\n",
      "cnt_rule 7\n",
      "cnt_rule 6\n",
      "cnt_rule 6\n",
      "cnt_rule 7\n",
      "cnt_rule 5\n",
      "cnt_rule 5\n",
      "cnt_rule 2\n",
      "cnt_rule 7\n",
      "cnt_rule 4\n",
      "cnt_rule 3\n",
      "cnt_rule 5\n",
      "cnt_rule 6\n",
      "10\n",
      "cnt_rule 7\n",
      "cnt_rule 7\n",
      "cnt_rule 2\n",
      "cnt_rule 7\n",
      "cnt_rule 1\n",
      "cnt_rule 5\n",
      "cnt_rule 3\n",
      "cnt_rule 4\n",
      "cnt_rule 3\n",
      "cnt_rule 5\n",
      "cnt_rule 3\n",
      "11\n",
      "cnt_rule 7\n",
      "cnt_rule 7\n",
      "cnt_rule 2\n",
      "cnt_rule 6\n",
      "cnt_rule 6\n",
      "cnt_rule 7\n",
      "cnt_rule 7\n",
      "cnt_rule 7\n",
      "cnt_rule 7\n",
      "cnt_rule 7\n",
      "cnt_rule 6\n",
      "cnt_rule 6\n",
      "cnt_rule 7\n",
      "cnt_rule 1\n",
      "cnt_rule 6\n",
      "cnt_rule 6\n",
      "cnt_rule 6\n",
      "cnt_rule 5\n",
      "cnt_rule 1\n",
      "cnt_rule 1\n",
      "cnt_rule 3\n",
      "12\n",
      "cnt_rule 7\n",
      "cnt_rule 7\n",
      "cnt_rule 1\n",
      "cnt_rule 5\n",
      "cnt_rule 3\n",
      "cnt_rule 3\n",
      "13\n",
      "cnt_rule 7\n",
      "cnt_rule 7\n",
      "cnt_rule 2\n",
      "cnt_rule 7\n",
      "cnt_rule 5\n",
      "cnt_rule 6\n",
      "cnt_rule 6\n",
      "cnt_rule 5\n",
      "14\n",
      "cnt_rule 7\n",
      "cnt_rule 6\n",
      "cnt_rule 7\n",
      "cnt_rule 7\n",
      "cnt_rule 6\n",
      "cnt_rule 6\n",
      "cnt_rule 1\n",
      "cnt_rule 7\n",
      "15\n",
      "cnt_rule 7\n",
      "cnt_rule 7\n",
      "cnt_rule 7\n",
      "cnt_rule 7\n",
      "cnt_rule 7\n",
      "cnt_rule 6\n",
      "cnt_rule 5\n",
      "cnt_rule 6\n",
      "cnt_rule 6\n",
      "cnt_rule 6\n",
      "cnt_rule 7\n",
      "cnt_rule 7\n",
      "cnt_rule 6\n",
      "cnt_rule 6\n",
      "16\n",
      "cnt_rule 6\n",
      "cnt_rule 7\n",
      "cnt_rule 6\n",
      "cnt_rule 6\n",
      "cnt_rule 2\n",
      "cnt_rule 7\n",
      "cnt_rule 5\n",
      "cnt_rule 6\n",
      "cnt_rule 6\n",
      "cnt_rule 7\n",
      "cnt_rule 7\n",
      "cnt_rule 5\n",
      "17\n",
      "cnt_rule 7\n",
      "cnt_rule 7\n",
      "cnt_rule 7\n",
      "cnt_rule 1\n",
      "cnt_rule 6\n",
      "cnt_rule 3\n",
      "18\n",
      "cnt_rule 7\n",
      "cnt_rule 7\n",
      "cnt_rule 6\n",
      "cnt_rule 2\n",
      "cnt_rule 5\n",
      "cnt_rule 1\n",
      "cnt_rule 6\n",
      "cnt_rule 5\n",
      "cnt_rule 3\n",
      "cnt_rule 5\n",
      "cnt_rule 3\n",
      "cnt_rule 1\n",
      "19\n",
      "cnt_rule 5\n",
      "cnt_rule 2\n",
      "cnt_rule 5\n",
      "cnt_rule 6\n",
      "cnt_rule 6\n",
      "cnt_rule 6\n",
      "cnt_rule 7\n",
      "cnt_rule 4\n",
      "cnt_rule 6\n",
      "cnt_rule 7\n",
      "cnt_rule 2\n",
      "cnt_rule 6\n",
      "cnt_rule 6\n",
      "cnt_rule 7\n",
      "cnt_rule 6\n",
      "cnt_rule 5\n",
      "cnt_rule 7\n",
      "cnt_rule 6\n",
      "cnt_rule 5\n",
      "cnt_rule 5\n",
      "cnt_rule 6\n",
      "cnt_rule 4\n",
      "cnt_rule 5\n",
      "20\n",
      "cnt_rule 6\n",
      "cnt_rule 6\n",
      "cnt_rule 6\n",
      "cnt_rule 6\n",
      "cnt_rule 7\n",
      "cnt_rule 6\n",
      "cnt_rule 6\n",
      "cnt_rule 7\n",
      "cnt_rule 7\n",
      "cnt_rule 7\n",
      "cnt_rule 7\n",
      "cnt_rule 6\n",
      "cnt_rule 7\n",
      "cnt_rule 5\n",
      "cnt_rule 6\n",
      "cnt_rule 1\n",
      "cnt_rule 6\n",
      "cnt_rule 7\n",
      "cnt_rule 6\n",
      "cnt_rule 6\n",
      "cnt_rule 6\n",
      "cnt_rule 7\n",
      "cnt_rule 6\n",
      "cnt_rule 7\n",
      "cnt_rule 4\n",
      "cnt_rule 7\n",
      "cnt_rule 2\n",
      "cnt_rule 3\n",
      "cnt_rule 5\n",
      "cnt_rule 5\n",
      "21\n",
      "cnt_rule 7\n",
      "cnt_rule 1\n",
      "cnt_rule 3\n",
      "22\n",
      "cnt_rule 7\n",
      "cnt_rule 7\n",
      "cnt_rule 1\n",
      "cnt_rule 3\n",
      "23\n",
      "cnt_rule 7\n",
      "cnt_rule 7\n",
      "24\n",
      "cnt_rule 7\n",
      "cnt_rule 7\n",
      "25\n",
      "cnt_rule 7\n",
      "26\n",
      "cnt_rule 7\n",
      "cnt_rule 6\n",
      "cnt_rule 7\n",
      "cnt_rule 7\n",
      "cnt_rule 6\n",
      "cnt_rule 6\n",
      "cnt_rule 1\n",
      "cnt_rule 6\n",
      "cnt_rule 7\n",
      "cnt_rule 3\n",
      "27\n",
      "cnt_rule 7\n",
      "cnt_rule 7\n",
      "cnt_rule 7\n",
      "cnt_rule 6\n",
      "cnt_rule 5\n",
      "cnt_rule 3\n",
      "cnt_rule 6\n",
      "cnt_rule 6\n",
      "cnt_rule 1\n",
      "cnt_rule 5\n",
      "cnt_rule 3\n",
      "28\n",
      "cnt_rule 7\n",
      "29\n",
      "cnt_rule 7\n",
      "cnt_rule 7\n",
      "cnt_rule 1\n",
      "cnt_rule 6\n",
      "cnt_rule 3\n",
      "30\n",
      "cnt_rule 7\n",
      "cnt_rule 5\n",
      "cnt_rule 3\n",
      "31\n",
      "cnt_rule 7\n",
      "cnt_rule 7\n",
      "cnt_rule 1\n",
      "cnt_rule 3\n",
      "32\n",
      "cnt_rule 6\n",
      "cnt_rule 2\n",
      "cnt_rule 7\n",
      "cnt_rule 6\n",
      "cnt_rule 7\n",
      "cnt_rule 5\n",
      "cnt_rule 6\n",
      "cnt_rule 7\n",
      "cnt_rule 7\n",
      "cnt_rule 5\n",
      "cnt_rule 6\n",
      "33\n",
      "cnt_rule 6\n",
      "cnt_rule 5\n",
      "cnt_rule 7\n",
      "cnt_rule 7\n",
      "cnt_rule 7\n",
      "cnt_rule 7\n",
      "cnt_rule 2\n",
      "cnt_rule 7\n",
      "cnt_rule 5\n",
      "cnt_rule 6\n",
      "cnt_rule 6\n",
      "cnt_rule 4\n",
      "cnt_rule 5\n",
      "cnt_rule 6\n",
      "34\n",
      "cnt_rule 7\n",
      "cnt_rule 3\n",
      "cnt_rule 7\n",
      "35\n",
      "cnt_rule 7\n",
      "cnt_rule 6\n",
      "cnt_rule 3\n",
      "cnt_rule 7\n",
      "36\n",
      "cnt_rule 7\n",
      "cnt_rule 7\n",
      "cnt_rule 1\n",
      "cnt_rule 3\n",
      "37\n",
      "cnt_rule 7\n",
      "cnt_rule 7\n",
      "cnt_rule 1\n",
      "cnt_rule 3\n",
      "38\n",
      "cnt_rule 7\n",
      "39\n",
      "cnt_rule 6\n",
      "cnt_rule 7\n",
      "cnt_rule 7\n",
      "cnt_rule 7\n",
      "cnt_rule 1\n",
      "cnt_rule 3\n",
      "40\n",
      "cnt_rule 7\n",
      "cnt_rule 6\n",
      "cnt_rule 7\n",
      "cnt_rule 7\n",
      "cnt_rule 1\n",
      "cnt_rule 6\n",
      "cnt_rule 2\n",
      "cnt_rule 3\n",
      "cnt_rule 5\n",
      "cnt_rule 5\n",
      "41\n",
      "cnt_rule 7\n",
      "cnt_rule 6\n",
      "cnt_rule 6\n",
      "cnt_rule 1\n",
      "cnt_rule 6\n",
      "cnt_rule 7\n",
      "cnt_rule 7\n",
      "cnt_rule 3\n",
      "cnt_rule 1\n",
      "cnt_rule 5\n",
      "42\n",
      "cnt_rule 7\n",
      "43\n",
      "cnt_rule 6\n",
      "cnt_rule 2\n",
      "cnt_rule 7\n",
      "cnt_rule 5\n",
      "cnt_rule 7\n",
      "cnt_rule 7\n",
      "cnt_rule 7\n",
      "cnt_rule 7\n",
      "cnt_rule 6\n",
      "cnt_rule 7\n",
      "cnt_rule 6\n",
      "cnt_rule 1\n",
      "cnt_rule 6\n",
      "cnt_rule 6\n",
      "cnt_rule 4\n",
      "cnt_rule 6\n",
      "cnt_rule 5\n",
      "cnt_rule 5\n",
      "cnt_rule 3\n",
      "cnt_rule 5\n",
      "cnt_rule 5\n",
      "cnt_rule 3\n",
      "cnt_rule 1\n",
      "cnt_rule 6\n",
      "44\n",
      "cnt_rule 7\n",
      "cnt_rule 6\n",
      "cnt_rule 7\n",
      "cnt_rule 4\n",
      "cnt_rule 7\n",
      "cnt_rule 1\n",
      "cnt_rule 3\n",
      "45\n",
      "cnt_rule 7\n",
      "cnt_rule 5\n",
      "cnt_rule 7\n",
      "cnt_rule 5\n",
      "cnt_rule 6\n",
      "cnt_rule 1\n",
      "cnt_rule 6\n",
      "cnt_rule 7\n",
      "cnt_rule 3\n",
      "cnt_rule 5\n",
      "cnt_rule 6\n",
      "cnt_rule 3\n",
      "cnt_rule 3\n",
      "46\n",
      "cnt_rule 7\n",
      "cnt_rule 6\n",
      "cnt_rule 6\n",
      "cnt_rule 6\n",
      "cnt_rule 4\n",
      "cnt_rule 7\n",
      "cnt_rule 7\n",
      "cnt_rule 7\n",
      "cnt_rule 7\n",
      "cnt_rule 7\n",
      "cnt_rule 5\n",
      "cnt_rule 6\n",
      "cnt_rule 7\n",
      "cnt_rule 7\n",
      "cnt_rule 7\n",
      "cnt_rule 2\n",
      "cnt_rule 7\n",
      "cnt_rule 5\n",
      "cnt_rule 6\n",
      "cnt_rule 6\n",
      "cnt_rule 6\n",
      "cnt_rule 6\n",
      "cnt_rule 6\n",
      "cnt_rule 6\n",
      "cnt_rule 7\n",
      "cnt_rule 7\n",
      "cnt_rule 6\n",
      "cnt_rule 6\n",
      "cnt_rule 6\n",
      "cnt_rule 6\n",
      "cnt_rule 6\n",
      "cnt_rule 6\n",
      "cnt_rule 6\n",
      "cnt_rule 7\n",
      "cnt_rule 6\n",
      "cnt_rule 5\n",
      "cnt_rule 7\n",
      "cnt_rule 5\n",
      "cnt_rule 6\n",
      "cnt_rule 6\n",
      "cnt_rule 6\n",
      "cnt_rule 6\n",
      "47\n",
      "cnt_rule 6\n",
      "cnt_rule 6\n",
      "cnt_rule 6\n",
      "cnt_rule 6\n",
      "cnt_rule 7\n",
      "cnt_rule 7\n",
      "cnt_rule 6\n",
      "cnt_rule 6\n",
      "cnt_rule 7\n",
      "cnt_rule 7\n",
      "cnt_rule 7\n",
      "cnt_rule 7\n",
      "cnt_rule 7\n",
      "cnt_rule 5\n",
      "cnt_rule 7\n",
      "cnt_rule 6\n",
      "cnt_rule 3\n",
      "cnt_rule 5\n",
      "cnt_rule 6\n",
      "cnt_rule 6\n",
      "cnt_rule 6\n",
      "cnt_rule 6\n",
      "cnt_rule 6\n",
      "cnt_rule 7\n",
      "cnt_rule 2\n",
      "cnt_rule 1\n",
      "cnt_rule 6\n",
      "cnt_rule 5\n",
      "cnt_rule 3\n",
      "48\n"
     ]
    },
    {
     "ename": "KeyboardInterrupt",
     "evalue": "",
     "output_type": "error",
     "traceback": [
      "\u001b[0;31m---------------------------------------------------------------------------\u001b[0m",
      "\u001b[0;31mKeyboardInterrupt\u001b[0m                         Traceback (most recent call last)",
      "\u001b[0;32m<ipython-input-248-a4e2bb935be0>\u001b[0m in \u001b[0;36m<module>\u001b[0;34m\u001b[0m\n\u001b[1;32m     15\u001b[0m     \u001b[0mMcircuit\u001b[0m \u001b[0;34m=\u001b[0m \u001b[0mvqe_handler\u001b[0m\u001b[0;34m.\u001b[0m\u001b[0mgive_unitary\u001b[0m\u001b[0;34m(\u001b[0m\u001b[0mMindexed_circuit\u001b[0m\u001b[0;34m,\u001b[0m \u001b[0mMresolver\u001b[0m\u001b[0;34m)\u001b[0m\u001b[0;34m\u001b[0m\u001b[0;34m\u001b[0m\u001b[0m\n\u001b[1;32m     16\u001b[0m \u001b[0;34m\u001b[0m\u001b[0m\n\u001b[0;32m---> 17\u001b[0;31m     \u001b[0mmodel\u001b[0m \u001b[0;34m=\u001b[0m \u001b[0mQNN\u001b[0m\u001b[0;34m(\u001b[0m\u001b[0msymbols\u001b[0m\u001b[0;34m=\u001b[0m\u001b[0mlist\u001b[0m\u001b[0;34m(\u001b[0m\u001b[0mMresolver\u001b[0m\u001b[0;34m.\u001b[0m\u001b[0mkeys\u001b[0m\u001b[0;34m(\u001b[0m\u001b[0;34m)\u001b[0m\u001b[0;34m)\u001b[0m\u001b[0;34m,\u001b[0m \u001b[0mobservable\u001b[0m\u001b[0;34m=\u001b[0m\u001b[0mvqe_handler\u001b[0m\u001b[0;34m.\u001b[0m\u001b[0mobservable\u001b[0m\u001b[0;34m)\u001b[0m\u001b[0;34m\u001b[0m\u001b[0;34m\u001b[0m\u001b[0m\n\u001b[0m\u001b[1;32m     18\u001b[0m \u001b[0;34m\u001b[0m\u001b[0m\n\u001b[1;32m     19\u001b[0m     \u001b[0mOMenergy\u001b[0m\u001b[0;34m,\u001b[0m \u001b[0mOMresolver\u001b[0m\u001b[0;34m,\u001b[0m \u001b[0mOMhistory\u001b[0m \u001b[0;34m=\u001b[0m \u001b[0mvqe_handler\u001b[0m\u001b[0;34m.\u001b[0m\u001b[0mvqe\u001b[0m\u001b[0;34m(\u001b[0m\u001b[0mMindexed_circuit\u001b[0m\u001b[0;34m,\u001b[0m \u001b[0msymbols_to_values\u001b[0m\u001b[0;34m=\u001b[0m\u001b[0mMresolver\u001b[0m\u001b[0;34m)\u001b[0m\u001b[0;34m\u001b[0m\u001b[0;34m\u001b[0m\u001b[0m\n",
      "\u001b[0;32m~/Desktop/vans/utilities/qmodels.py\u001b[0m in \u001b[0;36m__init__\u001b[0;34m(self, symbols, observable, batch_sizes)\u001b[0m\n\u001b[1;32m     12\u001b[0m         \u001b[0mbatch_size\u001b[0m\u001b[0;34m:\u001b[0m \u001b[0mhow\u001b[0m \u001b[0mmany\u001b[0m \u001b[0mcircuits\u001b[0m \u001b[0myou\u001b[0m \u001b[0mfeed\u001b[0m \u001b[0mthe\u001b[0m \u001b[0mmodel\u001b[0m \u001b[0mat\u001b[0m\u001b[0;34m,\u001b[0m \u001b[0mat\u001b[0m \u001b[0meach\u001b[0m \u001b[0mcall\u001b[0m \u001b[0;34m(\u001b[0m\u001b[0mthis\u001b[0m \u001b[0mmight\u001b[0m \u001b[0;34m)\u001b[0m\u001b[0;34m\u001b[0m\u001b[0;34m\u001b[0m\u001b[0m\n\u001b[1;32m     13\u001b[0m         \"\"\"\n\u001b[0;32m---> 14\u001b[0;31m         \u001b[0msuper\u001b[0m\u001b[0;34m(\u001b[0m\u001b[0mQNN\u001b[0m\u001b[0;34m,\u001b[0m\u001b[0mself\u001b[0m\u001b[0;34m)\u001b[0m\u001b[0;34m.\u001b[0m\u001b[0m__init__\u001b[0m\u001b[0;34m(\u001b[0m\u001b[0;34m)\u001b[0m\u001b[0;34m\u001b[0m\u001b[0;34m\u001b[0m\u001b[0m\n\u001b[0m\u001b[1;32m     15\u001b[0m         \u001b[0mself\u001b[0m\u001b[0;34m.\u001b[0m\u001b[0mexpectation_layer\u001b[0m \u001b[0;34m=\u001b[0m \u001b[0mtfq\u001b[0m\u001b[0;34m.\u001b[0m\u001b[0mlayers\u001b[0m\u001b[0;34m.\u001b[0m\u001b[0mExpectation\u001b[0m\u001b[0;34m(\u001b[0m\u001b[0;34m)\u001b[0m\u001b[0;34m\u001b[0m\u001b[0;34m\u001b[0m\u001b[0m\n\u001b[1;32m     16\u001b[0m         \u001b[0mself\u001b[0m\u001b[0;34m.\u001b[0m\u001b[0msymbols\u001b[0m \u001b[0;34m=\u001b[0m \u001b[0msymbols\u001b[0m\u001b[0;34m\u001b[0m\u001b[0;34m\u001b[0m\u001b[0m\n",
      "\u001b[0;32m~/.local/lib/python3.6/site-packages/tensorflow/python/training/tracking/base.py\u001b[0m in \u001b[0;36m_method_wrapper\u001b[0;34m(self, *args, **kwargs)\u001b[0m\n\u001b[1;32m    455\u001b[0m     \u001b[0mself\u001b[0m\u001b[0;34m.\u001b[0m\u001b[0m_self_setattr_tracking\u001b[0m \u001b[0;34m=\u001b[0m \u001b[0;32mFalse\u001b[0m  \u001b[0;31m# pylint: disable=protected-access\u001b[0m\u001b[0;34m\u001b[0m\u001b[0;34m\u001b[0m\u001b[0m\n\u001b[1;32m    456\u001b[0m     \u001b[0;32mtry\u001b[0m\u001b[0;34m:\u001b[0m\u001b[0;34m\u001b[0m\u001b[0;34m\u001b[0m\u001b[0m\n\u001b[0;32m--> 457\u001b[0;31m       \u001b[0mresult\u001b[0m \u001b[0;34m=\u001b[0m \u001b[0mmethod\u001b[0m\u001b[0;34m(\u001b[0m\u001b[0mself\u001b[0m\u001b[0;34m,\u001b[0m \u001b[0;34m*\u001b[0m\u001b[0margs\u001b[0m\u001b[0;34m,\u001b[0m \u001b[0;34m**\u001b[0m\u001b[0mkwargs\u001b[0m\u001b[0;34m)\u001b[0m\u001b[0;34m\u001b[0m\u001b[0;34m\u001b[0m\u001b[0m\n\u001b[0m\u001b[1;32m    458\u001b[0m     \u001b[0;32mfinally\u001b[0m\u001b[0;34m:\u001b[0m\u001b[0;34m\u001b[0m\u001b[0;34m\u001b[0m\u001b[0m\n\u001b[1;32m    459\u001b[0m       \u001b[0mself\u001b[0m\u001b[0;34m.\u001b[0m\u001b[0m_self_setattr_tracking\u001b[0m \u001b[0;34m=\u001b[0m \u001b[0mprevious_value\u001b[0m  \u001b[0;31m# pylint: disable=protected-access\u001b[0m\u001b[0;34m\u001b[0m\u001b[0;34m\u001b[0m\u001b[0m\n",
      "\u001b[0;32m~/.local/lib/python3.6/site-packages/tensorflow/python/keras/engine/training.py\u001b[0m in \u001b[0;36m__init__\u001b[0;34m(self, *args, **kwargs)\u001b[0m\n\u001b[1;32m    306\u001b[0m     \u001b[0mself\u001b[0m\u001b[0;34m.\u001b[0m\u001b[0m_steps_per_execution\u001b[0m \u001b[0;34m=\u001b[0m \u001b[0;32mNone\u001b[0m\u001b[0;34m\u001b[0m\u001b[0;34m\u001b[0m\u001b[0m\n\u001b[1;32m    307\u001b[0m \u001b[0;34m\u001b[0m\u001b[0m\n\u001b[0;32m--> 308\u001b[0;31m     \u001b[0mself\u001b[0m\u001b[0;34m.\u001b[0m\u001b[0m_init_batch_counters\u001b[0m\u001b[0;34m(\u001b[0m\u001b[0;34m)\u001b[0m\u001b[0;34m\u001b[0m\u001b[0;34m\u001b[0m\u001b[0m\n\u001b[0m\u001b[1;32m    309\u001b[0m     \u001b[0mself\u001b[0m\u001b[0;34m.\u001b[0m\u001b[0m_base_model_initialized\u001b[0m \u001b[0;34m=\u001b[0m \u001b[0;32mTrue\u001b[0m\u001b[0;34m\u001b[0m\u001b[0;34m\u001b[0m\u001b[0m\n\u001b[1;32m    310\u001b[0m     \u001b[0m_keras_api_gauge\u001b[0m\u001b[0;34m.\u001b[0m\u001b[0mget_cell\u001b[0m\u001b[0;34m(\u001b[0m\u001b[0;34m'model'\u001b[0m\u001b[0;34m)\u001b[0m\u001b[0;34m.\u001b[0m\u001b[0mset\u001b[0m\u001b[0;34m(\u001b[0m\u001b[0;32mTrue\u001b[0m\u001b[0;34m)\u001b[0m\u001b[0;34m\u001b[0m\u001b[0;34m\u001b[0m\u001b[0m\n",
      "\u001b[0;32m~/.local/lib/python3.6/site-packages/tensorflow/python/training/tracking/base.py\u001b[0m in \u001b[0;36m_method_wrapper\u001b[0;34m(self, *args, **kwargs)\u001b[0m\n\u001b[1;32m    455\u001b[0m     \u001b[0mself\u001b[0m\u001b[0;34m.\u001b[0m\u001b[0m_self_setattr_tracking\u001b[0m \u001b[0;34m=\u001b[0m \u001b[0;32mFalse\u001b[0m  \u001b[0;31m# pylint: disable=protected-access\u001b[0m\u001b[0;34m\u001b[0m\u001b[0;34m\u001b[0m\u001b[0m\n\u001b[1;32m    456\u001b[0m     \u001b[0;32mtry\u001b[0m\u001b[0;34m:\u001b[0m\u001b[0;34m\u001b[0m\u001b[0;34m\u001b[0m\u001b[0m\n\u001b[0;32m--> 457\u001b[0;31m       \u001b[0mresult\u001b[0m \u001b[0;34m=\u001b[0m \u001b[0mmethod\u001b[0m\u001b[0;34m(\u001b[0m\u001b[0mself\u001b[0m\u001b[0;34m,\u001b[0m \u001b[0;34m*\u001b[0m\u001b[0margs\u001b[0m\u001b[0;34m,\u001b[0m \u001b[0;34m**\u001b[0m\u001b[0mkwargs\u001b[0m\u001b[0;34m)\u001b[0m\u001b[0;34m\u001b[0m\u001b[0;34m\u001b[0m\u001b[0m\n\u001b[0m\u001b[1;32m    458\u001b[0m     \u001b[0;32mfinally\u001b[0m\u001b[0;34m:\u001b[0m\u001b[0;34m\u001b[0m\u001b[0;34m\u001b[0m\u001b[0m\n\u001b[1;32m    459\u001b[0m       \u001b[0mself\u001b[0m\u001b[0;34m.\u001b[0m\u001b[0m_self_setattr_tracking\u001b[0m \u001b[0;34m=\u001b[0m \u001b[0mprevious_value\u001b[0m  \u001b[0;31m# pylint: disable=protected-access\u001b[0m\u001b[0;34m\u001b[0m\u001b[0;34m\u001b[0m\u001b[0m\n",
      "\u001b[0;32m~/.local/lib/python3.6/site-packages/tensorflow/python/keras/engine/training.py\u001b[0m in \u001b[0;36m_init_batch_counters\u001b[0;34m(self)\u001b[0m\n\u001b[1;32m    315\u001b[0m     \u001b[0;31m# `evaluate`, and `predict`.\u001b[0m\u001b[0;34m\u001b[0m\u001b[0;34m\u001b[0m\u001b[0;34m\u001b[0m\u001b[0m\n\u001b[1;32m    316\u001b[0m     \u001b[0magg\u001b[0m \u001b[0;34m=\u001b[0m \u001b[0mvariables\u001b[0m\u001b[0;34m.\u001b[0m\u001b[0mVariableAggregationV2\u001b[0m\u001b[0;34m.\u001b[0m\u001b[0mONLY_FIRST_REPLICA\u001b[0m\u001b[0;34m\u001b[0m\u001b[0;34m\u001b[0m\u001b[0m\n\u001b[0;32m--> 317\u001b[0;31m     \u001b[0mself\u001b[0m\u001b[0;34m.\u001b[0m\u001b[0m_train_counter\u001b[0m \u001b[0;34m=\u001b[0m \u001b[0mvariables\u001b[0m\u001b[0;34m.\u001b[0m\u001b[0mVariable\u001b[0m\u001b[0;34m(\u001b[0m\u001b[0;36m0\u001b[0m\u001b[0;34m,\u001b[0m \u001b[0mdtype\u001b[0m\u001b[0;34m=\u001b[0m\u001b[0;34m'int64'\u001b[0m\u001b[0;34m,\u001b[0m \u001b[0maggregation\u001b[0m\u001b[0;34m=\u001b[0m\u001b[0magg\u001b[0m\u001b[0;34m)\u001b[0m\u001b[0;34m\u001b[0m\u001b[0;34m\u001b[0m\u001b[0m\n\u001b[0m\u001b[1;32m    318\u001b[0m     \u001b[0mself\u001b[0m\u001b[0;34m.\u001b[0m\u001b[0m_test_counter\u001b[0m \u001b[0;34m=\u001b[0m \u001b[0mvariables\u001b[0m\u001b[0;34m.\u001b[0m\u001b[0mVariable\u001b[0m\u001b[0;34m(\u001b[0m\u001b[0;36m0\u001b[0m\u001b[0;34m,\u001b[0m \u001b[0mdtype\u001b[0m\u001b[0;34m=\u001b[0m\u001b[0;34m'int64'\u001b[0m\u001b[0;34m,\u001b[0m \u001b[0maggregation\u001b[0m\u001b[0;34m=\u001b[0m\u001b[0magg\u001b[0m\u001b[0;34m)\u001b[0m\u001b[0;34m\u001b[0m\u001b[0;34m\u001b[0m\u001b[0m\n\u001b[1;32m    319\u001b[0m     self._predict_counter = variables.Variable(\n",
      "\u001b[0;32m~/.local/lib/python3.6/site-packages/tensorflow/python/ops/variables.py\u001b[0m in \u001b[0;36m__call__\u001b[0;34m(cls, *args, **kwargs)\u001b[0m\n\u001b[1;32m    260\u001b[0m       \u001b[0;32mreturn\u001b[0m \u001b[0mcls\u001b[0m\u001b[0;34m.\u001b[0m\u001b[0m_variable_v1_call\u001b[0m\u001b[0;34m(\u001b[0m\u001b[0;34m*\u001b[0m\u001b[0margs\u001b[0m\u001b[0;34m,\u001b[0m \u001b[0;34m**\u001b[0m\u001b[0mkwargs\u001b[0m\u001b[0;34m)\u001b[0m\u001b[0;34m\u001b[0m\u001b[0;34m\u001b[0m\u001b[0m\n\u001b[1;32m    261\u001b[0m     \u001b[0;32melif\u001b[0m \u001b[0mcls\u001b[0m \u001b[0;32mis\u001b[0m \u001b[0mVariable\u001b[0m\u001b[0;34m:\u001b[0m\u001b[0;34m\u001b[0m\u001b[0;34m\u001b[0m\u001b[0m\n\u001b[0;32m--> 262\u001b[0;31m       \u001b[0;32mreturn\u001b[0m \u001b[0mcls\u001b[0m\u001b[0;34m.\u001b[0m\u001b[0m_variable_v2_call\u001b[0m\u001b[0;34m(\u001b[0m\u001b[0;34m*\u001b[0m\u001b[0margs\u001b[0m\u001b[0;34m,\u001b[0m \u001b[0;34m**\u001b[0m\u001b[0mkwargs\u001b[0m\u001b[0;34m)\u001b[0m\u001b[0;34m\u001b[0m\u001b[0;34m\u001b[0m\u001b[0m\n\u001b[0m\u001b[1;32m    263\u001b[0m     \u001b[0;32melse\u001b[0m\u001b[0;34m:\u001b[0m\u001b[0;34m\u001b[0m\u001b[0;34m\u001b[0m\u001b[0m\n\u001b[1;32m    264\u001b[0m       \u001b[0;32mreturn\u001b[0m \u001b[0msuper\u001b[0m\u001b[0;34m(\u001b[0m\u001b[0mVariableMetaclass\u001b[0m\u001b[0;34m,\u001b[0m \u001b[0mcls\u001b[0m\u001b[0;34m)\u001b[0m\u001b[0;34m.\u001b[0m\u001b[0m__call__\u001b[0m\u001b[0;34m(\u001b[0m\u001b[0;34m*\u001b[0m\u001b[0margs\u001b[0m\u001b[0;34m,\u001b[0m \u001b[0;34m**\u001b[0m\u001b[0mkwargs\u001b[0m\u001b[0;34m)\u001b[0m\u001b[0;34m\u001b[0m\u001b[0;34m\u001b[0m\u001b[0m\n",
      "\u001b[0;32m~/.local/lib/python3.6/site-packages/tensorflow/python/ops/variables.py\u001b[0m in \u001b[0;36m_variable_v2_call\u001b[0;34m(cls, initial_value, trainable, validate_shape, caching_device, name, variable_def, dtype, import_scope, constraint, synchronization, aggregation, shape)\u001b[0m\n\u001b[1;32m    254\u001b[0m         \u001b[0msynchronization\u001b[0m\u001b[0;34m=\u001b[0m\u001b[0msynchronization\u001b[0m\u001b[0;34m,\u001b[0m\u001b[0;34m\u001b[0m\u001b[0;34m\u001b[0m\u001b[0m\n\u001b[1;32m    255\u001b[0m         \u001b[0maggregation\u001b[0m\u001b[0;34m=\u001b[0m\u001b[0maggregation\u001b[0m\u001b[0;34m,\u001b[0m\u001b[0;34m\u001b[0m\u001b[0;34m\u001b[0m\u001b[0m\n\u001b[0;32m--> 256\u001b[0;31m         shape=shape)\n\u001b[0m\u001b[1;32m    257\u001b[0m \u001b[0;34m\u001b[0m\u001b[0m\n\u001b[1;32m    258\u001b[0m   \u001b[0;32mdef\u001b[0m \u001b[0m__call__\u001b[0m\u001b[0;34m(\u001b[0m\u001b[0mcls\u001b[0m\u001b[0;34m,\u001b[0m \u001b[0;34m*\u001b[0m\u001b[0margs\u001b[0m\u001b[0;34m,\u001b[0m \u001b[0;34m**\u001b[0m\u001b[0mkwargs\u001b[0m\u001b[0;34m)\u001b[0m\u001b[0;34m:\u001b[0m\u001b[0;34m\u001b[0m\u001b[0;34m\u001b[0m\u001b[0m\n",
      "\u001b[0;32m~/.local/lib/python3.6/site-packages/tensorflow/python/ops/variables.py\u001b[0m in \u001b[0;36m<lambda>\u001b[0;34m(**kws)\u001b[0m\n\u001b[1;32m    235\u001b[0m                         shape=None):\n\u001b[1;32m    236\u001b[0m     \u001b[0;34m\"\"\"Call on Variable class. Useful to force the signature.\"\"\"\u001b[0m\u001b[0;34m\u001b[0m\u001b[0;34m\u001b[0m\u001b[0m\n\u001b[0;32m--> 237\u001b[0;31m     \u001b[0mprevious_getter\u001b[0m \u001b[0;34m=\u001b[0m \u001b[0;32mlambda\u001b[0m \u001b[0;34m**\u001b[0m\u001b[0mkws\u001b[0m\u001b[0;34m:\u001b[0m \u001b[0mdefault_variable_creator_v2\u001b[0m\u001b[0;34m(\u001b[0m\u001b[0;32mNone\u001b[0m\u001b[0;34m,\u001b[0m \u001b[0;34m**\u001b[0m\u001b[0mkws\u001b[0m\u001b[0;34m)\u001b[0m\u001b[0;34m\u001b[0m\u001b[0;34m\u001b[0m\u001b[0m\n\u001b[0m\u001b[1;32m    238\u001b[0m     \u001b[0;32mfor\u001b[0m \u001b[0m_\u001b[0m\u001b[0;34m,\u001b[0m \u001b[0mgetter\u001b[0m \u001b[0;32min\u001b[0m \u001b[0mops\u001b[0m\u001b[0;34m.\u001b[0m\u001b[0mget_default_graph\u001b[0m\u001b[0;34m(\u001b[0m\u001b[0;34m)\u001b[0m\u001b[0;34m.\u001b[0m\u001b[0m_variable_creator_stack\u001b[0m\u001b[0;34m:\u001b[0m  \u001b[0;31m# pylint: disable=protected-access\u001b[0m\u001b[0;34m\u001b[0m\u001b[0;34m\u001b[0m\u001b[0m\n\u001b[1;32m    239\u001b[0m       \u001b[0mprevious_getter\u001b[0m \u001b[0;34m=\u001b[0m \u001b[0m_make_getter\u001b[0m\u001b[0;34m(\u001b[0m\u001b[0mgetter\u001b[0m\u001b[0;34m,\u001b[0m \u001b[0mprevious_getter\u001b[0m\u001b[0;34m)\u001b[0m\u001b[0;34m\u001b[0m\u001b[0;34m\u001b[0m\u001b[0m\n",
      "\u001b[0;32m~/.local/lib/python3.6/site-packages/tensorflow/python/ops/variable_scope.py\u001b[0m in \u001b[0;36mdefault_variable_creator_v2\u001b[0;34m(next_creator, **kwargs)\u001b[0m\n\u001b[1;32m   2644\u001b[0m       \u001b[0msynchronization\u001b[0m\u001b[0;34m=\u001b[0m\u001b[0msynchronization\u001b[0m\u001b[0;34m,\u001b[0m\u001b[0;34m\u001b[0m\u001b[0;34m\u001b[0m\u001b[0m\n\u001b[1;32m   2645\u001b[0m       \u001b[0maggregation\u001b[0m\u001b[0;34m=\u001b[0m\u001b[0maggregation\u001b[0m\u001b[0;34m,\u001b[0m\u001b[0;34m\u001b[0m\u001b[0;34m\u001b[0m\u001b[0m\n\u001b[0;32m-> 2646\u001b[0;31m       shape=shape)\n\u001b[0m\u001b[1;32m   2647\u001b[0m \u001b[0;34m\u001b[0m\u001b[0m\n\u001b[1;32m   2648\u001b[0m \u001b[0;34m\u001b[0m\u001b[0m\n",
      "\u001b[0;32m~/.local/lib/python3.6/site-packages/tensorflow/python/ops/variables.py\u001b[0m in \u001b[0;36m__call__\u001b[0;34m(cls, *args, **kwargs)\u001b[0m\n\u001b[1;32m    262\u001b[0m       \u001b[0;32mreturn\u001b[0m \u001b[0mcls\u001b[0m\u001b[0;34m.\u001b[0m\u001b[0m_variable_v2_call\u001b[0m\u001b[0;34m(\u001b[0m\u001b[0;34m*\u001b[0m\u001b[0margs\u001b[0m\u001b[0;34m,\u001b[0m \u001b[0;34m**\u001b[0m\u001b[0mkwargs\u001b[0m\u001b[0;34m)\u001b[0m\u001b[0;34m\u001b[0m\u001b[0;34m\u001b[0m\u001b[0m\n\u001b[1;32m    263\u001b[0m     \u001b[0;32melse\u001b[0m\u001b[0;34m:\u001b[0m\u001b[0;34m\u001b[0m\u001b[0;34m\u001b[0m\u001b[0m\n\u001b[0;32m--> 264\u001b[0;31m       \u001b[0;32mreturn\u001b[0m \u001b[0msuper\u001b[0m\u001b[0;34m(\u001b[0m\u001b[0mVariableMetaclass\u001b[0m\u001b[0;34m,\u001b[0m \u001b[0mcls\u001b[0m\u001b[0;34m)\u001b[0m\u001b[0;34m.\u001b[0m\u001b[0m__call__\u001b[0m\u001b[0;34m(\u001b[0m\u001b[0;34m*\u001b[0m\u001b[0margs\u001b[0m\u001b[0;34m,\u001b[0m \u001b[0;34m**\u001b[0m\u001b[0mkwargs\u001b[0m\u001b[0;34m)\u001b[0m\u001b[0;34m\u001b[0m\u001b[0;34m\u001b[0m\u001b[0m\n\u001b[0m\u001b[1;32m    265\u001b[0m \u001b[0;34m\u001b[0m\u001b[0m\n\u001b[1;32m    266\u001b[0m \u001b[0;34m\u001b[0m\u001b[0m\n",
      "\u001b[0;32m~/.local/lib/python3.6/site-packages/tensorflow/python/ops/resource_variable_ops.py\u001b[0m in \u001b[0;36m__init__\u001b[0;34m(self, initial_value, trainable, collections, validate_shape, caching_device, name, dtype, variable_def, import_scope, constraint, distribute_strategy, synchronization, aggregation, shape)\u001b[0m\n\u001b[1;32m   1516\u001b[0m           \u001b[0maggregation\u001b[0m\u001b[0;34m=\u001b[0m\u001b[0maggregation\u001b[0m\u001b[0;34m,\u001b[0m\u001b[0;34m\u001b[0m\u001b[0;34m\u001b[0m\u001b[0m\n\u001b[1;32m   1517\u001b[0m           \u001b[0mshape\u001b[0m\u001b[0;34m=\u001b[0m\u001b[0mshape\u001b[0m\u001b[0;34m,\u001b[0m\u001b[0;34m\u001b[0m\u001b[0;34m\u001b[0m\u001b[0m\n\u001b[0;32m-> 1518\u001b[0;31m           distribute_strategy=distribute_strategy)\n\u001b[0m\u001b[1;32m   1519\u001b[0m \u001b[0;34m\u001b[0m\u001b[0m\n\u001b[1;32m   1520\u001b[0m   def _init_from_args(self,\n",
      "\u001b[0;32m~/.local/lib/python3.6/site-packages/tensorflow/python/ops/resource_variable_ops.py\u001b[0m in \u001b[0;36m_init_from_args\u001b[0;34m(self, initial_value, trainable, collections, caching_device, name, dtype, constraint, synchronization, aggregation, distribute_strategy, shape)\u001b[0m\n\u001b[1;32m   1664\u001b[0m               \u001b[0mshared_name\u001b[0m\u001b[0;34m=\u001b[0m\u001b[0mshared_name\u001b[0m\u001b[0;34m,\u001b[0m\u001b[0;34m\u001b[0m\u001b[0;34m\u001b[0m\u001b[0m\n\u001b[1;32m   1665\u001b[0m               \u001b[0mname\u001b[0m\u001b[0;34m=\u001b[0m\u001b[0mname\u001b[0m\u001b[0;34m,\u001b[0m\u001b[0;34m\u001b[0m\u001b[0;34m\u001b[0m\u001b[0m\n\u001b[0;32m-> 1666\u001b[0;31m               graph_mode=self._in_graph_mode)\n\u001b[0m\u001b[1;32m   1667\u001b[0m         \u001b[0;31m# pylint: disable=protected-access\u001b[0m\u001b[0;34m\u001b[0m\u001b[0;34m\u001b[0m\u001b[0;34m\u001b[0m\u001b[0m\n\u001b[1;32m   1668\u001b[0m         if (self._in_graph_mode and initial_value is not None and\n",
      "\u001b[0;32m~/.local/lib/python3.6/site-packages/tensorflow/python/ops/resource_variable_ops.py\u001b[0m in \u001b[0;36meager_safe_variable_handle\u001b[0;34m(initial_value, shape, shared_name, name, graph_mode)\u001b[0m\n\u001b[1;32m    241\u001b[0m   \u001b[0mdtype\u001b[0m \u001b[0;34m=\u001b[0m \u001b[0minitial_value\u001b[0m\u001b[0;34m.\u001b[0m\u001b[0mdtype\u001b[0m\u001b[0;34m.\u001b[0m\u001b[0mbase_dtype\u001b[0m\u001b[0;34m\u001b[0m\u001b[0;34m\u001b[0m\u001b[0m\n\u001b[1;32m    242\u001b[0m   return _variable_handle_from_shape_and_dtype(\n\u001b[0;32m--> 243\u001b[0;31m       shape, dtype, shared_name, name, graph_mode, initial_value)\n\u001b[0m\u001b[1;32m    244\u001b[0m \u001b[0;34m\u001b[0m\u001b[0m\n\u001b[1;32m    245\u001b[0m \u001b[0;34m\u001b[0m\u001b[0m\n",
      "\u001b[0;32m~/.local/lib/python3.6/site-packages/tensorflow/python/ops/resource_variable_ops.py\u001b[0m in \u001b[0;36m_variable_handle_from_shape_and_dtype\u001b[0;34m(shape, dtype, shared_name, name, graph_mode, initial_value)\u001b[0m\n\u001b[1;32m    179\u001b[0m     handle_data.shape_and_type.append(\n\u001b[1;32m    180\u001b[0m         cpp_shape_inference_pb2.CppShapeInferenceResult.HandleShapeAndType(\n\u001b[0;32m--> 181\u001b[0;31m             shape=shape.as_proto(), dtype=dtype.as_datatype_enum))\n\u001b[0m\u001b[1;32m    182\u001b[0m \u001b[0;34m\u001b[0m\u001b[0m\n\u001b[1;32m    183\u001b[0m     \u001b[0;32mif\u001b[0m \u001b[0minitial_value\u001b[0m \u001b[0;32mis\u001b[0m \u001b[0;32mnot\u001b[0m \u001b[0;32mNone\u001b[0m \u001b[0;32mand\u001b[0m \u001b[0minitial_value\u001b[0m\u001b[0;34m.\u001b[0m\u001b[0mdtype\u001b[0m \u001b[0;34m==\u001b[0m \u001b[0mdtypes\u001b[0m\u001b[0;34m.\u001b[0m\u001b[0mvariant\u001b[0m\u001b[0;34m:\u001b[0m\u001b[0;34m\u001b[0m\u001b[0;34m\u001b[0m\u001b[0m\n",
      "\u001b[0;31mKeyboardInterrupt\u001b[0m: "
     ]
    }
   ],
   "source": [
    "\n",
    "vqe_handler = VQE(n_qubits=4, problem_config={\"problem\":\"XXZ\",\"g\":1,\"J\":2})\n",
    "iid_inserter = IdInserter(n_qubits = vqe_handler.n_qubits, selector_temperature=40, epsilon=0.1)\n",
    "simplifier = Simplifier(n_qubits=vqe_handler.n_qubits)\n",
    "\n",
    "indexed_circuit = [vqe_handler.number_of_cnots + k for k in range(vqe_handler.n_qubits, 2*vqe_handler.n_qubits )]\n",
    "circuit, symbols, index_to_symbols = vqe_handler.give_circuit(indexed_circuit)\n",
    "energy, resolver, history = vqe_handler.vqe(indexed_circuit)\n",
    "\n",
    "cnt=0\n",
    "OJO=False\n",
    "while OJO is False:\n",
    "    cnt+=1\n",
    "    print(cnt)\n",
    "    Mindexed_circuit, Mresolver, Mindex_to_symbols = iid_inserter.place_identities(indexed_circuit,symbol_to_value=resolver,rate_iids_per_step=10)\n",
    "    Mcircuit = vqe_handler.give_unitary(Mindexed_circuit, Mresolver)\n",
    "\n",
    "    model = QNN(symbols=list(Mresolver.keys()), observable=vqe_handler.observable)\n",
    "\n",
    "    OMenergy, OMresolver, OMhistory = vqe_handler.vqe(Mindexed_circuit, symbols_to_values=Mresolver)\n",
    "    OMcircuit = vqe_handler.give_unitary(Mindexed_circuit, OMresolver)\n",
    "\n",
    "    simplifier = Simplifier(n_qubits=vqe_handler.n_qubits)\n",
    "    Sindexed_circuit, Sresolver, Sindex_to_symbols = simplifier.simplify_step(Mindexed_circuit, OMresolver, Mindex_to_symbols)\n",
    "    Scircuit = vqe_handler.give_unitary(Sindexed_circuit,Sresolver)\n",
    "    indexeds={}\n",
    "    resolvers={}\n",
    "    pps={}\n",
    "    #for it in range(100):\n",
    "    e1 = model(Scircuit)\n",
    "    indexeds[it] = Sindexed_circuit\n",
    "    resolvers[it] = Sresolver\n",
    "    pps[it] = Sindex_to_symbols\n",
    "    Sindexed_circuit, Sresolver, Sindex_to_symbols = simplifier.reduce_circuit(Sindexed_circuit, Sresolver, Sindex_to_symbols )\n",
    "    Scircuit = vqe_handler.give_unitary(Sindexed_circuit,Sresolver)\n",
    "    e2 = model(Scircuit)\n",
    "    if np.abs(e2-OMenergy) > 1e-2:\n",
    "        print(\"OJOOOO\")\n",
    "        OJO=True\n",
    "        break"
   ]
  },
  {
   "cell_type": "code",
   "execution_count": 241,
   "metadata": {},
   "outputs": [
    {
     "data": {
      "text/html": [
       "<pre style=\"overflow: auto; white-space: pre;\">                                                                                 ┌───────────┐                              ┌───────────┐\n",
       "(0, 0): ───Rx(-π)───────@────────────Rz(-0.032π)───Rx(0.032π)───Rz(0.032π)───@──────────────X────Rx(0.032π)───Rz(-0.032π)────Rx(0.032π)─────X────────\n",
       "                        │                                                    │              │                                               │\n",
       "(0, 1): ───Rx(2π)───X───X────────────Rx(-0.032π)───Rz(0.032π)───Rx(0.032π)───X────Rx(0.032π)┼────Rz(0.032π)───Rx(0.032π)───────────────X────┼────────\n",
       "                    │                                                                       │                                          │    │\n",
       "(0, 2): ───Rx(π)────┼───────────────────────────────────────────────────────────────────────@────Rz(0.032π)───Rx(-0.032π)────Rz(0.032π)┼────@────────\n",
       "                    │                                                                                                                  │\n",
       "(0, 3): ────────────@───Rz(0.032π)───Rx(0.032π)────Rz(0.032π)──────────────────────────────────────────────────────────────────────────@────Rx(2π)───\n",
       "                                                                                 └───────────┘                              └───────────┘</pre>"
      ],
      "text/plain": [
       "                                                                                 ┌───────────┐                              ┌───────────┐\n",
       "(0, 0): ───Rx(-π)───────@────────────Rz(-0.032π)───Rx(0.032π)───Rz(0.032π)───@──────────────X────Rx(0.032π)───Rz(-0.032π)────Rx(0.032π)─────X────────\n",
       "                        │                                                    │              │                                               │\n",
       "(0, 1): ───Rx(2π)───X───X────────────Rx(-0.032π)───Rz(0.032π)───Rx(0.032π)───X────Rx(0.032π)┼────Rz(0.032π)───Rx(0.032π)───────────────X────┼────────\n",
       "                    │                                                                       │                                          │    │\n",
       "(0, 2): ───Rx(π)────┼───────────────────────────────────────────────────────────────────────@────Rz(0.032π)───Rx(-0.032π)────Rz(0.032π)┼────@────────\n",
       "                    │                                                                                                                  │\n",
       "(0, 3): ────────────@───Rz(0.032π)───Rx(0.032π)────Rz(0.032π)──────────────────────────────────────────────────────────────────────────@────Rx(2π)───\n",
       "                                                                                 └───────────┘                              └───────────┘"
      ]
     },
     "execution_count": 241,
     "metadata": {},
     "output_type": "execute_result"
    }
   ],
   "source": [
    "Mcircuit"
   ]
  },
  {
   "cell_type": "code",
   "execution_count": 242,
   "metadata": {},
   "outputs": [
    {
     "data": {
      "text/html": [
       "<pre style=\"overflow: auto; white-space: pre;\">                                                                               ┌───────────┐                ┌────────────┐\n",
       "(0, 0): ───Rx(-1.29π)───@──────────Rz(0.035π)───Rx(0.347π)────Rz(0.017π)───@──────────────X────Rx(0.209π)────Rz(-0.426π)─────Rx(-0.436π)───X───\n",
       "                        │                                                  │              │                                                │\n",
       "(0, 1): ───Rx(1.97π)────X──────────Rz(0.412π)───Rx(-0.289π)────────────────X────Rz(-0.14π)┼────Rx(-0.04π)───────────────X──────────────────┼───\n",
       "                                                                                          │                             │                  │\n",
       "(0, 2): ───Rx(1.16π)──────────────────────────────────────────────────────────────────────@────Rz(0.001π)────Rx(-0.159π)┼────Rz(0.492π)────@───\n",
       "                                                                                                                        │\n",
       "(0, 3): ───Rx(0.039π)───Rz(0.5π)────────────────────────────────────────────────────────────────────────────────────────@────Rx(1.99π)─────────\n",
       "                                                                               └───────────┘                └────────────┘</pre>"
      ],
      "text/plain": [
       "                                                                               ┌───────────┐                ┌────────────┐\n",
       "(0, 0): ───Rx(-1.29π)───@──────────Rz(0.035π)───Rx(0.347π)────Rz(0.017π)───@──────────────X────Rx(0.209π)────Rz(-0.426π)─────Rx(-0.436π)───X───\n",
       "                        │                                                  │              │                                                │\n",
       "(0, 1): ───Rx(1.97π)────X──────────Rz(0.412π)───Rx(-0.289π)────────────────X────Rz(-0.14π)┼────Rx(-0.04π)───────────────X──────────────────┼───\n",
       "                                                                                          │                             │                  │\n",
       "(0, 2): ───Rx(1.16π)──────────────────────────────────────────────────────────────────────@────Rz(0.001π)────Rx(-0.159π)┼────Rz(0.492π)────@───\n",
       "                                                                                                                        │\n",
       "(0, 3): ───Rx(0.039π)───Rz(0.5π)────────────────────────────────────────────────────────────────────────────────────────@────Rx(1.99π)─────────\n",
       "                                                                               └───────────┘                └────────────┘"
      ]
     },
     "execution_count": 242,
     "metadata": {},
     "output_type": "execute_result"
    }
   ],
   "source": [
    "Scircuit"
   ]
  },
  {
   "cell_type": "code",
   "execution_count": 243,
   "metadata": {},
   "outputs": [
    {
     "data": {
      "text/plain": [
       "array([0.00650978], dtype=float32)"
      ]
     },
     "execution_count": 243,
     "metadata": {},
     "output_type": "execute_result"
    }
   ],
   "source": [
    "np.abs(e2-OMenergy) "
   ]
  },
  {
   "cell_type": "code",
   "execution_count": null,
   "metadata": {},
   "outputs": [],
   "source": []
  },
  {
   "cell_type": "code",
   "execution_count": null,
   "metadata": {},
   "outputs": [],
   "source": []
  },
  {
   "cell_type": "code",
   "execution_count": null,
   "metadata": {},
   "outputs": [],
   "source": []
  },
  {
   "cell_type": "code",
   "execution_count": null,
   "metadata": {},
   "outputs": [],
   "source": []
  },
  {
   "cell_type": "code",
   "execution_count": 216,
   "metadata": {},
   "outputs": [
    {
     "data": {
      "text/plain": [
       "<tf.Tensor: shape=(1,), dtype=float32, numpy=array([0.41818783], dtype=float32)>"
      ]
     },
     "execution_count": 216,
     "metadata": {},
     "output_type": "execute_result"
    }
   ],
   "source": [
    "e2"
   ]
  },
  {
   "cell_type": "code",
   "execution_count": 217,
   "metadata": {},
   "outputs": [
    {
     "data": {
      "text/plain": [
       "<tf.Tensor: shape=(), dtype=float32, numpy=-7.999998>"
      ]
     },
     "execution_count": 217,
     "metadata": {},
     "output_type": "execute_result"
    }
   ],
   "source": [
    "OMenergy"
   ]
  },
  {
   "cell_type": "code",
   "execution_count": null,
   "metadata": {},
   "outputs": [],
   "source": []
  },
  {
   "cell_type": "code",
   "execution_count": 195,
   "metadata": {},
   "outputs": [
    {
     "name": "stdout",
     "output_type": "stream",
     "text": [
      "6\n",
      "cnt_rule 6\n",
      "2\n",
      "cnt_rule 2\n",
      "7\n",
      "cnt_rule 7\n"
     ]
    }
   ],
   "source": [
    "simplifier.testing=True\n",
    "Sindexed_circuit, Sresolver, Sindex_to_symbols = simplifier.simplify_step(Mindexed_circuit, OMresolver, Mindex_to_symbols)"
   ]
  },
  {
   "cell_type": "code",
   "execution_count": 183,
   "metadata": {},
   "outputs": [
    {
     "data": {
      "text/plain": [
       "<tf.Tensor: shape=(1,), dtype=float32, numpy=array([-7.5485353], dtype=float32)>"
      ]
     },
     "execution_count": 183,
     "metadata": {},
     "output_type": "execute_result"
    }
   ],
   "source": [
    "model(vqe_handler.give_unitary(Sindexed_circuit, Sresolver))"
   ]
  },
  {
   "cell_type": "code",
   "execution_count": null,
   "metadata": {},
   "outputs": [],
   "source": []
  },
  {
   "cell_type": "code",
   "execution_count": 192,
   "metadata": {},
   "outputs": [
    {
     "name": "stdout",
     "output_type": "stream",
     "text": [
      "[4, 1, 1, 3, 3, 5, 3, 5, 3, 4, 2, 4, 1, 3, 1, 3, 5, 0, 2, 4, 2, 5, 3, 5, 0, 3, 4, 2, 0, 2, 4, 2, 5, 3, 5, 0, 4, 1, 1, 3, 5, 3, 4, 2, 4, 1, 5, 3, 4, 2, 4, 3, 1, 0, 2, 4, 2, 5, 3, 5, 0, 3, 0, 2, 4, 2, 5, 3, 5, 0, 5, 3, 4, 2, 4, 1, 5, 3, 1, 2, 4, 2, 0, 2, 4, 2, 5, 3, 2, 4, 2, 1, 3, 5, 3, 4, 2, 4, 1, 5, 0, 5]\n"
     ]
    }
   ],
   "source": [
    "print(Mindexed_circuit)"
   ]
  },
  {
   "cell_type": "code",
   "execution_count": null,
   "metadata": {},
   "outputs": [],
   "source": []
  },
  {
   "cell_type": "code",
   "execution_count": null,
   "metadata": {},
   "outputs": [],
   "source": []
  },
  {
   "cell_type": "code",
   "execution_count": null,
   "metadata": {},
   "outputs": [],
   "source": []
  },
  {
   "cell_type": "code",
   "execution_count": null,
   "metadata": {},
   "outputs": [],
   "source": []
  },
  {
   "cell_type": "code",
   "execution_count": null,
   "metadata": {},
   "outputs": [],
   "source": []
  },
  {
   "cell_type": "code",
   "execution_count": null,
   "metadata": {},
   "outputs": [],
   "source": []
  },
  {
   "cell_type": "code",
   "execution_count": 163,
   "metadata": {},
   "outputs": [
    {
     "data": {
      "text/plain": [
       "<tf.Tensor: shape=(), dtype=float32, numpy=-8.000006>"
      ]
     },
     "execution_count": 163,
     "metadata": {},
     "output_type": "execute_result"
    }
   ],
   "source": [
    "OMenergy"
   ]
  },
  {
   "cell_type": "code",
   "execution_count": 176,
   "metadata": {},
   "outputs": [],
   "source": [
    "for k in range(3):\n",
    "    if isinstance(k,int):\n",
    "        if k==1:\n",
    "            if 1+1 == 2:\n",
    "                if \"c\" != \"ac\":\n",
    "\n",
    "                    print(k)\n",
    "                    break\n",
    "        else:\n",
    "            break"
   ]
  },
  {
   "cell_type": "code",
   "execution_count": null,
   "metadata": {},
   "outputs": [],
   "source": []
  },
  {
   "cell_type": "code",
   "execution_count": null,
   "metadata": {},
   "outputs": [],
   "source": []
  },
  {
   "cell_type": "code",
   "execution_count": null,
   "metadata": {},
   "outputs": [],
   "source": []
  },
  {
   "cell_type": "code",
   "execution_count": 154,
   "metadata": {},
   "outputs": [
    {
     "data": {
      "text/plain": [
       "<tf.Tensor: shape=(1,), dtype=float32, numpy=array([-5.534333], dtype=float32)>"
      ]
     },
     "execution_count": 154,
     "metadata": {},
     "output_type": "execute_result"
    }
   ],
   "source": [
    "Scircuit = vqe_handler.give_unitary(Sindexed_circuit,Sresolver)\n",
    "e2 = model(Scircuit)\n",
    "e2"
   ]
  },
  {
   "cell_type": "code",
   "execution_count": 155,
   "metadata": {},
   "outputs": [
    {
     "data": {
      "text/html": [
       "<pre style=\"overflow: auto; white-space: pre;\">(0, 0): ───Rx(0.951π)────Rz(-0.037π)───Rx(0.025π)─────────────────X───────────────X────────────────@───Rz(0.029π)────Rx(0.045π)───Rz(0.002π)───@───Rx(0.026π)────Rz(-0.057π)───@───Rx(0.026π)───Rz(-0.022π)─────────────────@───Rx(-0.066π)───Rz(-0.007π)───Rx(0.005π)────X───Rz(-0.02π)───Rx(0.032π)───X───@───Rz(-0.023π)───Rx(0.069π)───Rz(-0.109π)───@────────────────@───Rx(0.047π)────Rz(0.003π)──────────────────@───Rx(-0.041π)───Rz(-0.043π)───Rx(0.013π)───X─────────────────────────────X───Rz(0.083π)───Rx(0.027π)───Rz(0.109π)───@───Rx(0.097π)───Rz(0.17π)─────Rx(0.097π)───Rz(0.136π)───X───Rx(0.082π)───Rz(-0.157π)───Rx(-0.021π)───X────────────────@───\n",
       "                                                                  │               │                │                                           │                               │                                            │                                             │                             │   │                                            │                │                                             │                                            │                             │                                          │                                                        │                                            │                │\n",
       "(0, 1): ───Rz(-0.064π)───Rz(1.01π)─────Rx(0.05π)────Rz(-0.986π)───@───Rz(0.02π)───@───Rx(-0.03π)───X───Rz(-0.052π)───Rx(0.055π)────────────────X───Rz(-0.024π)─────────────────X───Rx(0.019π)───Rz(-0.012π)───Rx(-0.041π)───X───Rz(-0.016π)───Rx(0.016π)────Rz(-0.002π)───@───Rx(0.017π)───Rz(0.058π)───@───X───Rx(0.004π)────Rz(0.101π)───Rx(0.034π)────X───Rz(0.044π)───X───Rx(-0.023π)───Rz(-0.003π)───Rx(-0.024π)───X───Rz(-0.03π)───────────────────────────────@───Rx(0.026π)───Rz(0.074π)───@──────────────────────────────────────────X───Rx(0.156π)───Rz(-0.048π)─────────────────────────────@───Rx(0.037π)───Rz(0.071π)──────────────────@───Rx(0.007π)───X───</pre>"
      ],
      "text/plain": [
       "(0, 0): ───Rx(0.951π)────Rz(-0.037π)───Rx(0.025π)─────────────────X───────────────X────────────────@───Rz(0.029π)────Rx(0.045π)───Rz(0.002π)───@───Rx(0.026π)────Rz(-0.057π)───@───Rx(0.026π)───Rz(-0.022π)─────────────────@───Rx(-0.066π)───Rz(-0.007π)───Rx(0.005π)────X───Rz(-0.02π)───Rx(0.032π)───X───@───Rz(-0.023π)───Rx(0.069π)───Rz(-0.109π)───@────────────────@───Rx(0.047π)────Rz(0.003π)──────────────────@───Rx(-0.041π)───Rz(-0.043π)───Rx(0.013π)───X─────────────────────────────X───Rz(0.083π)───Rx(0.027π)───Rz(0.109π)───@───Rx(0.097π)───Rz(0.17π)─────Rx(0.097π)───Rz(0.136π)───X───Rx(0.082π)───Rz(-0.157π)───Rx(-0.021π)───X────────────────@───\n",
       "                                                                  │               │                │                                           │                               │                                            │                                             │                             │   │                                            │                │                                             │                                            │                             │                                          │                                                        │                                            │                │\n",
       "(0, 1): ───Rz(-0.064π)───Rz(1.01π)─────Rx(0.05π)────Rz(-0.986π)───@───Rz(0.02π)───@───Rx(-0.03π)───X───Rz(-0.052π)───Rx(0.055π)────────────────X───Rz(-0.024π)─────────────────X───Rx(0.019π)───Rz(-0.012π)───Rx(-0.041π)───X───Rz(-0.016π)───Rx(0.016π)────Rz(-0.002π)───@───Rx(0.017π)───Rz(0.058π)───@───X───Rx(0.004π)────Rz(0.101π)───Rx(0.034π)────X───Rz(0.044π)───X───Rx(-0.023π)───Rz(-0.003π)───Rx(-0.024π)───X───Rz(-0.03π)───────────────────────────────@───Rx(0.026π)───Rz(0.074π)───@──────────────────────────────────────────X───Rx(0.156π)───Rz(-0.048π)─────────────────────────────@───Rx(0.037π)───Rz(0.071π)──────────────────@───Rx(0.007π)───X───"
      ]
     },
     "execution_count": 155,
     "metadata": {},
     "output_type": "execute_result"
    }
   ],
   "source": [
    "vqe_handler.give_unitary(indexeds[0], resolvers[0],)"
   ]
  },
  {
   "cell_type": "code",
   "execution_count": 156,
   "metadata": {},
   "outputs": [
    {
     "data": {
      "text/html": [
       "<pre style=\"overflow: auto; white-space: pre;\">(0, 0): ───Rx(0.951π)───Rz(-0.037π)───Rx(0.025π)────X───X────────────────@───Rz(0.029π)────Rx(0.045π)───Rz(0.002π)───@───Rx(0.026π)────Rz(-0.057π)───@───Rx(0.026π)───Rz(-0.022π)─────────────────@───Rx(-0.066π)───Rz(-0.007π)───Rx(0.005π)────X───Rz(-0.02π)───Rx(0.032π)───X───@───Rz(-0.023π)───Rx(0.069π)───Rz(-0.109π)───@────────────────@───Rx(0.047π)────Rz(0.003π)──────────────────@───Rx(-0.041π)───Rz(-0.043π)───Rx(0.013π)───X─────────────────────────────X───Rz(0.083π)───Rx(0.027π)───Rz(0.109π)───@───Rz(0.089π)───Rx(0.188π)────Rz(0.225π)───X───Rx(0.17π)────Rz(0.097π)───Rx(0.082π)───X────────────────@───\n",
       "                                                    │   │                │                                           │                               │                                            │                                             │                             │   │                                            │                │                                             │                                            │                             │                                          │                                           │                                          │                │\n",
       "(0, 1): ───Rz(1.01π)────Rx(0.05π)─────Rz(-0.967π)───@───@───Rx(-0.03π)───X───Rz(-0.052π)───Rx(0.055π)────────────────X───Rz(-0.024π)─────────────────X───Rx(0.019π)───Rz(-0.012π)───Rx(-0.041π)───X───Rz(-0.016π)───Rx(0.016π)────Rz(-0.002π)───@───Rx(0.017π)───Rz(0.058π)───@───X───Rx(0.004π)────Rz(0.101π)───Rx(0.034π)────X───Rz(0.044π)───X───Rx(-0.023π)───Rz(-0.003π)───Rx(-0.024π)───X───Rz(-0.03π)───────────────────────────────@───Rx(0.026π)───Rz(0.074π)───@──────────────────────────────────────────X───Rx(0.156π)───Rz(-0.048π)────────────────@───Rx(0.037π)───Rz(0.071π)────────────────@───Rx(0.007π)───X───</pre>"
      ],
      "text/plain": [
       "(0, 0): ───Rx(0.951π)───Rz(-0.037π)───Rx(0.025π)────X───X────────────────@───Rz(0.029π)────Rx(0.045π)───Rz(0.002π)───@───Rx(0.026π)────Rz(-0.057π)───@───Rx(0.026π)───Rz(-0.022π)─────────────────@───Rx(-0.066π)───Rz(-0.007π)───Rx(0.005π)────X───Rz(-0.02π)───Rx(0.032π)───X───@───Rz(-0.023π)───Rx(0.069π)───Rz(-0.109π)───@────────────────@───Rx(0.047π)────Rz(0.003π)──────────────────@───Rx(-0.041π)───Rz(-0.043π)───Rx(0.013π)───X─────────────────────────────X───Rz(0.083π)───Rx(0.027π)───Rz(0.109π)───@───Rz(0.089π)───Rx(0.188π)────Rz(0.225π)───X───Rx(0.17π)────Rz(0.097π)───Rx(0.082π)───X────────────────@───\n",
       "                                                    │   │                │                                           │                               │                                            │                                             │                             │   │                                            │                │                                             │                                            │                             │                                          │                                           │                                          │                │\n",
       "(0, 1): ───Rz(1.01π)────Rx(0.05π)─────Rz(-0.967π)───@───@───Rx(-0.03π)───X───Rz(-0.052π)───Rx(0.055π)────────────────X───Rz(-0.024π)─────────────────X───Rx(0.019π)───Rz(-0.012π)───Rx(-0.041π)───X───Rz(-0.016π)───Rx(0.016π)────Rz(-0.002π)───@───Rx(0.017π)───Rz(0.058π)───@───X───Rx(0.004π)────Rz(0.101π)───Rx(0.034π)────X───Rz(0.044π)───X───Rx(-0.023π)───Rz(-0.003π)───Rx(-0.024π)───X───Rz(-0.03π)───────────────────────────────@───Rx(0.026π)───Rz(0.074π)───@──────────────────────────────────────────X───Rx(0.156π)───Rz(-0.048π)────────────────@───Rx(0.037π)───Rz(0.071π)────────────────@───Rx(0.007π)───X───"
      ]
     },
     "execution_count": 156,
     "metadata": {},
     "output_type": "execute_result"
    }
   ],
   "source": [
    "Scircuit"
   ]
  },
  {
   "cell_type": "code",
   "execution_count": 157,
   "metadata": {},
   "outputs": [
    {
     "data": {
      "text/plain": [
       "<tf.Tensor: shape=(1,), dtype=float32, numpy=array([-5.534333], dtype=float32)>"
      ]
     },
     "execution_count": 157,
     "metadata": {},
     "output_type": "execute_result"
    }
   ],
   "source": [
    "model(Scircuit)"
   ]
  },
  {
   "cell_type": "code",
   "execution_count": null,
   "metadata": {},
   "outputs": [],
   "source": []
  },
  {
   "cell_type": "code",
   "execution_count": null,
   "metadata": {},
   "outputs": [],
   "source": []
  },
  {
   "cell_type": "code",
   "execution_count": null,
   "metadata": {},
   "outputs": [],
   "source": []
  },
  {
   "cell_type": "code",
   "execution_count": 150,
   "metadata": {},
   "outputs": [
    {
     "data": {
      "text/html": [
       "<pre style=\"overflow: auto; white-space: pre;\">(0, 0): ───Rx(0.991π)───X───X───Rx(-0.041π)───Rz(-0.037π)───Rx(0.025π)─────────────────────────────────────────X─────────────────X─────────────────────────────@───Rz(0.029π)───Rx(0.045π)────Rz(0.002π)───@───Rx(0.026π)────Rz(0.003π)───@───Rz(-0.06π)────Rx(0.026π)────Rz(-0.022π)───@───Rx(-0.033π)───X───X───Rx(-0.033π)───Rz(-0.007π)───Rx(0.034π)───X───Rx(-0.03π)───Rz(-0.02π)───Rx(0.032π)───X───@───Rz(-0.023π)───Rx(0.069π)───Rz(-0.055π)───@─────────────────@───Rz(-0.055π)───Rx(0.047π)───Rz(0.003π)───@───Rx(-0.041π)───Rz(-0.043π)───Rx(0.013π)───X──────────────────────────────X───Rz(0.083π)───Rx(0.027π)───Rz(0.023π)───@───Rz(0.086π)───Rx(0.097π)───Rz(0.053π)───Rz(0.117π)───Rx(0.097π)───Rz(0.136π)───X───Rx(0.082π)───Rz(-0.157π)───Rx(-0.021π)───X─────────────────@─────────────────\n",
       "                        │   │                                                                                  │                 │                             │                                           │                              │                                             │                 │   │                                            │                                          │   │                                            │                 │                                           │                                            │                              │                                          │                                                                                 │                                            │                 │\n",
       "(0, 1): ────────────────@───@───Rz(-0.032π)───Rz(-0.032π)───Rx(-0.02π)───Rz(0.02π)───Rx(-0.03π)───Rz(0.006π)───@───Rz(-0.058π)───@───Rz(0.006π)───Rx(0.028π)───X───Rx(0.028π)───Rz(-0.024π)───Rx(0.019π)───X───Rz(-0.012π)────────────────X───Rx(-0.041π)───Rz(-0.016π)───Rx(0.016π)────X─────────────────@───@───Rz(-0.002π)───Rx(0.017π)────Rz(0.058π)───@───Rx(0.004π)───Rz(0.082π)───Rz(0.019π)───@───X───Rx(0.034π)────Rz(0.044π)───Rx(-0.023π)───X───Rz(-0.003π)───X───Rx(-0.024π)───Rz(-0.03π)───Rx(0.045π)───X───Rx(-0.019π)───Rz(0.074π)─────────────────@───Rx(0.156π)───Rz(-0.048π)───@──────────────────────────────────────────X───Rx(0.037π)───Rz(0.036π)───────────────────────────────────────────────────────@───Rz(0.036π)───Rx(0.007π)────Rz(-0.023π)───@───Rx(-0.043π)───X───Rx(-0.011π)───</pre>"
      ],
      "text/plain": [
       "(0, 0): ───Rx(0.991π)───X───X───Rx(-0.041π)───Rz(-0.037π)───Rx(0.025π)─────────────────────────────────────────X─────────────────X─────────────────────────────@───Rz(0.029π)───Rx(0.045π)────Rz(0.002π)───@───Rx(0.026π)────Rz(0.003π)───@───Rz(-0.06π)────Rx(0.026π)────Rz(-0.022π)───@───Rx(-0.033π)───X───X───Rx(-0.033π)───Rz(-0.007π)───Rx(0.034π)───X───Rx(-0.03π)───Rz(-0.02π)───Rx(0.032π)───X───@───Rz(-0.023π)───Rx(0.069π)───Rz(-0.055π)───@─────────────────@───Rz(-0.055π)───Rx(0.047π)───Rz(0.003π)───@───Rx(-0.041π)───Rz(-0.043π)───Rx(0.013π)───X──────────────────────────────X───Rz(0.083π)───Rx(0.027π)───Rz(0.023π)───@───Rz(0.086π)───Rx(0.097π)───Rz(0.053π)───Rz(0.117π)───Rx(0.097π)───Rz(0.136π)───X───Rx(0.082π)───Rz(-0.157π)───Rx(-0.021π)───X─────────────────@─────────────────\n",
       "                        │   │                                                                                  │                 │                             │                                           │                              │                                             │                 │   │                                            │                                          │   │                                            │                 │                                           │                                            │                              │                                          │                                                                                 │                                            │                 │\n",
       "(0, 1): ────────────────@───@───Rz(-0.032π)───Rz(-0.032π)───Rx(-0.02π)───Rz(0.02π)───Rx(-0.03π)───Rz(0.006π)───@───Rz(-0.058π)───@───Rz(0.006π)───Rx(0.028π)───X───Rx(0.028π)───Rz(-0.024π)───Rx(0.019π)───X───Rz(-0.012π)────────────────X───Rx(-0.041π)───Rz(-0.016π)───Rx(0.016π)────X─────────────────@───@───Rz(-0.002π)───Rx(0.017π)────Rz(0.058π)───@───Rx(0.004π)───Rz(0.082π)───Rz(0.019π)───@───X───Rx(0.034π)────Rz(0.044π)───Rx(-0.023π)───X───Rz(-0.003π)───X───Rx(-0.024π)───Rz(-0.03π)───Rx(0.045π)───X───Rx(-0.019π)───Rz(0.074π)─────────────────@───Rx(0.156π)───Rz(-0.048π)───@──────────────────────────────────────────X───Rx(0.037π)───Rz(0.036π)───────────────────────────────────────────────────────@───Rz(0.036π)───Rx(0.007π)────Rz(-0.023π)───@───Rx(-0.043π)───X───Rx(-0.011π)───"
      ]
     },
     "execution_count": 150,
     "metadata": {},
     "output_type": "execute_result"
    }
   ],
   "source": [
    "OMcircuit"
   ]
  },
  {
   "cell_type": "code",
   "execution_count": 119,
   "metadata": {},
   "outputs": [
    {
     "data": {
      "text/html": [
       "<pre style=\"overflow: auto; white-space: pre;\">(0, 0): ───Rx(-1.03π)───Rz(1.25π)─────Rx(1.36π)───X────────────────X───Rz(1.1π)─────Rx(0.041π)───Rz(1.64π)────@───Rx(-0.042π)───Rz(1.73π)───@───Rx(-0.909π)───Rz(-1.25π)───Rx(-0.01π)───X───Rz(-0.905π)───Rx(-1.28π)───\n",
       "                                                  │                │                                          │                             │                                           │\n",
       "(0, 1): ───Rx(0.677π)───Rz(-0.455π)───────────────@───Rx(-0.58π)───@───Rz(0.428π)───Rx(-1.99π)───Rz(0.796π)───X───Rz(0.156π)────Rx(1.21π)───X───Rz(-0.45π)──────────────────────────────@───Rx(-0.583π)────────────────</pre>"
      ],
      "text/plain": [
       "(0, 0): ───Rx(-1.03π)───Rz(1.25π)─────Rx(1.36π)───X────────────────X───Rz(1.1π)─────Rx(0.041π)───Rz(1.64π)────@───Rx(-0.042π)───Rz(1.73π)───@───Rx(-0.909π)───Rz(-1.25π)───Rx(-0.01π)───X───Rz(-0.905π)───Rx(-1.28π)───\n",
       "                                                  │                │                                          │                             │                                           │\n",
       "(0, 1): ───Rx(0.677π)───Rz(-0.455π)───────────────@───Rx(-0.58π)───@───Rz(0.428π)───Rx(-1.99π)───Rz(0.796π)───X───Rz(0.156π)────Rx(1.21π)───X───Rz(-0.45π)──────────────────────────────@───Rx(-0.583π)────────────────"
      ]
     },
     "execution_count": 119,
     "metadata": {},
     "output_type": "execute_result"
    }
   ],
   "source": [
    "Scircuit"
   ]
  },
  {
   "cell_type": "code",
   "execution_count": null,
   "metadata": {},
   "outputs": [],
   "source": []
  }
 ],
 "metadata": {
  "kernelspec": {
   "display_name": "Python 3",
   "language": "python",
   "name": "python3"
  },
  "language_info": {
   "codemirror_mode": {
    "name": "ipython",
    "version": 3
   },
   "file_extension": ".py",
   "mimetype": "text/x-python",
   "name": "python",
   "nbconvert_exporter": "python",
   "pygments_lexer": "ipython3",
   "version": "3.6.9"
  }
 },
 "nbformat": 4,
 "nbformat_minor": 4
}
