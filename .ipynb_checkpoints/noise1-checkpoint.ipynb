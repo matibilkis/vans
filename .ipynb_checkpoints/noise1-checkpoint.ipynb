{
 "cells": [
  {
   "cell_type": "markdown",
   "metadata": {},
   "source": [
    "In this notebook we explore different ways of adding noise to the circuits."
   ]
  },
  {
   "cell_type": "code",
   "execution_count": null,
   "metadata": {},
   "outputs": [],
   "source": [
    "import numpy as np\n",
    "import sympy\n",
    "import cirq\n",
    "import tensorflow_quantum as tfq\n",
    "from tqdm import tqdm\n",
    "import tensorflow as tf\n",
    "\n",
    "from utilities.variational import VQE\n",
    "from utilities.circuit_basics import Evaluator\n",
    "from utilities.idinserter import IdInserter\n",
    "from utilities.simplifier import Simplifier\n",
    "from utilities.unitary_killer import UnitaryMurder\n",
    "\n",
    "vqe_handler = VQE(n_qubits=n_qubits, lr=qlr, epochs=qepochs, patience=100, random_perturbations=True, verbose=verbose, g=g, J = J, noise=noise, problem=problem)\n",
    "\n",
    "start = datetime.now()\n",
    "info = f\"len(n_qubits): {vqe_handler.n_qubits}\\n\" \\\n",
    "                    f\"g: {vqe_handler.g}, \\n\" \\\n",
    "                    f\"noise: {noise}\\n\"\\\n",
    "                    f\"J: {vqe_handler.J}\\n\" \\\n",
    "                    f\"qlr: {vqe_handler.lr}\\n\" \\\n",
    "                    f\"qepochs: {vqe_handler.epochs}\\n\" \\\n",
    "                    f\"patience: {vqe_handler.patience}\\n\" \\\n",
    "                    f\"genetic runs: {reps}\\n\"\n",
    "print(info)\n",
    "\n",
    "#Evaluator keeps a record of the circuit and accepts or not certain configuration\n",
    "evaluator = Evaluator(args, info=info)\n",
    "evaluator.displaying +=info\n",
    "#IdInserter appends to a given circuit an identity resolution\n",
    "iid = IdInserter(n_qubits=n_qubits)\n",
    "\n",
    "#Simplifier reduces gates number as much as possible while keeping same expected value of target hamiltonian\n",
    "Simp = Simplifier(n_qubits=n_qubits)\n",
    "\n",
    "#UnitaryMuerder is in charge of evaluating changes on the energy while setting apart one (or more) parametrized gates. If\n",
    "killer = UnitaryMurder(vqe_handler)\n",
    "\n",
    "\n",
    "### begin with a product ansatz\n",
    "indexed_circuit=[vqe_handler.number_of_cnots+k for k in range(vqe_handler.n_qubits,2*vqe_handler.n_qubits)]\n",
    "energy, symbol_to_value, training_evolution = vqe_handler.vqe(indexed_circuit) #compute energy\n",
    "\n",
    "#add initial info to evaluator\n",
    "evaluator.add_step(indexed_circuit, symbol_to_value, energy, relevant=True)\n",
    "evaluator.lowest_energy = energy\n"
   ]
  }
 ],
 "metadata": {
  "kernelspec": {
   "display_name": "Python 3",
   "language": "python",
   "name": "python3"
  },
  "language_info": {
   "codemirror_mode": {
    "name": "ipython",
    "version": 3
   },
   "file_extension": ".py",
   "mimetype": "text/x-python",
   "name": "python",
   "nbconvert_exporter": "python",
   "pygments_lexer": "ipython3",
   "version": "3.6.9"
  }
 },
 "nbformat": 4,
 "nbformat_minor": 4
}
