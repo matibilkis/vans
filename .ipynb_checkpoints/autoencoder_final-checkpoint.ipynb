{
 "cells": [
  {
   "cell_type": "code",
   "execution_count": 1,
   "metadata": {},
   "outputs": [],
   "source": [
    "import sys\n",
    "import os \n",
    "%load_ext autoreload\n",
    "%autoreload 2\n",
    "\n",
    "os.chdir(\"/home/cooper-cooper/Desktop/vans/\")\n",
    "\n",
    "sys.path[0] = \"/home/cooper-cooper/Desktop/vans/\"\n",
    "\n",
    "\n",
    "from utilities.variational import Autoencoder\n",
    "import tensorflow_quantum as tfq\n",
    "from utilities.qmodels import QNN,EnergyLoss\n",
    "\n",
    "import tensorflow as tf\n",
    "\n",
    "from utilities.evaluator import Evaluator\n",
    "import numpy as np\n",
    "\n",
    "import matplotlib.pyplot as plt\n",
    "from IPython import display\n",
    "from tqdm import tqdm\n",
    "from utilities.variational import VQE\n",
    "import cirq\n",
    "\n",
    "from datetime import datetime\n",
    "\n",
    "from utilities.variational import VQE\n",
    "from utilities.evaluator import Evaluator\n",
    "from utilities.idinserter import IdInserter\n",
    "from utilities.simplifier import Simplifier\n",
    "from utilities.unitary_killer_autoencoder import UnitaryMurder\n",
    "from utilities.misc import scheduler_selector_temperature, scheduler_parameter_perturbation_wall #this outputs always 10 for now.\n",
    "\n",
    "\n"
   ]
  },
  {
   "cell_type": "code",
   "execution_count": 2,
   "metadata": {},
   "outputs": [
    {
     "name": "stderr",
     "output_type": "stream",
     "text": [
      "100%|██████████| 8/8 [00:03<00:00,  2.24it/s]\n"
     ]
    }
   ],
   "source": [
    "\n",
    "### load pure states\n",
    "\n",
    "indexed_pure_states=[]\n",
    "resolver_pure_states=[]\n",
    "train_bonds=[]\n",
    "energsin=[]\n",
    "js=np.linspace(0.5,2.3,16)[0::2]\n",
    "fcisfull=np.load(\"results/autoencoder/H2/fcisfull.npy\")\n",
    "isok=[]\n",
    "teners=[]\n",
    "compis=[]\n",
    "for bond in tqdm(js):\n",
    "    problem_config ={\"problem\" : \"H2\", \"geometry\": str([('H', (0., 0., 0.)), ('H', (0., 0., bond))]).replace(\"\\'\",\"\"), \"multiplicity\":1, \"charge\":0, \"basis\":\"sto-3g\"}\n",
    "    args={\"n_qubits\":4,\"problem_config\":problem_config, \"load_displaying\":False}\n",
    "    evaluator_load = Evaluator(args,loading=True, path=\"../data-vans/\")\n",
    "    #energies.append(evaluator.raw_history[len(list(evaluator.raw_history.keys()))-1][-1])\n",
    "    vqe_handler = VQE(n_qubits=4,noise_config={}, problem_config=problem_config,\n",
    "                            return_lower_bound=True, lr=0.01, epochs=10000, patience=1000)\n",
    "    siro, cuener, indexed_circuit, resolver, bestener,low = evaluator_load.evolution[evaluator_load.get_best_iteration()]#evaluator_load.get_best_iteration()]\n",
    "\n",
    "    indexed_pure_states.append(indexed_circuit)\n",
    "    resolver_pure_states.append(resolver)\n",
    "\n",
    "    teners.append(np.squeeze(modelito(tfq.convert_to_tensor([optio]))))\n",
    "    train_bonds.append(bond)"
   ]
  },
  {
   "cell_type": "code",
   "execution_count": 3,
   "metadata": {},
   "outputs": [
    {
     "data": {
      "text/plain": [
       "[<matplotlib.lines.Line2D at 0x7fbc478a0710>]"
      ]
     },
     "execution_count": 3,
     "metadata": {},
     "output_type": "execute_result"
    },
    {
     "data": {
      "image/png": "[encoded data removed]",
      "text/plain": [
       "<Figure size 432x288 with 1 Axes>"
      ]
     },
     "metadata": {
      "needs_background": "light"
     },
     "output_type": "display_data"
    }
   ],
   "source": [
    "plt.plot(train_bonds,teners,'.')\n",
    "plt.plot(np.linspace(.5,2.3,100),fcisfull)"
   ]
  },
  {
   "cell_type": "code",
   "execution_count": null,
   "metadata": {},
   "outputs": [],
   "source": []
  },
  {
   "cell_type": "code",
   "execution_count": 8,
   "metadata": {},
   "outputs": [
    {
     "name": "stdout",
     "output_type": "stream",
     "text": [
      "beggining to train!\n",
      "\n",
      "Iteration #0\n",
      "Time since beggining:0:00:04.557093\n",
      " best energy: 0.12752926349639893\n",
      "current_energy 0.12752926349639893\n",
      " lower_bound: 0.0\n",
      "I killed 1 unitaries, Ef - Ei: 0.0\n",
      "I killed 2 unitaries, Ef - Ei: -5.960464477539063e-08\n",
      "I killed 3 unitaries, Ef - Ei: -5.960464477539063e-08\n",
      "I killed 4 unitaries, Ef - Ei: -1.1920928955078125e-07\n",
      "I killed 5 unitaries, Ef - Ei: -1.7881393432617188e-07\n",
      "I killed 6 unitaries, Ef - Ei: -1.7881393432617188e-07\n",
      "I killed 7 unitaries, Ef - Ei: -1.7881393432617188e-07\n",
      "I killed 8 unitaries, Ef - Ei: -1.7881393432617188e-07\n",
      "I killed 9 unitaries, Ef - Ei: -1.7881393432617188e-07\n",
      "I killed 10 unitaries, Ef - Ei: -1.7881393432617188e-07\n",
      "I killed 11 unitaries, Ef - Ei: -1.7881393432617188e-07\n",
      "I killed 12 unitaries, Ef - Ei: -1.7881393432617188e-07\n",
      "I killed 13 unitaries, Ef - Ei: -1.7881393432617188e-07\n",
      "I killed 14 unitaries, Ef - Ei: -1.7881393432617188e-07\n",
      "I killed 15 unitaries, Ef - Ei: 5.960464477539063e-08\n",
      "I killed 16 unitaries, Ef - Ei: 5.960464477539063e-08\n",
      "\n",
      "Iteration #1\n",
      "Time since beggining:0:02:30.550782\n",
      " best energy: 0.12750673294067383\n",
      "current energy: 0.12750673294067383\n",
      " lower_bound: 0.0\n",
      "I killed 1 unitaries, Ef - Ei: -5.960464477539063e-08\n",
      "I killed 2 unitaries, Ef - Ei: -5.960464477539063e-08\n",
      "\n",
      "Iteration #2\n",
      "Time since beggining:0:03:33.848265\n",
      " best energy: 8.732080459594727e-05\n",
      "current energy: 8.732080459594727e-05\n",
      " lower_bound: 0.0\n",
      "\n",
      "Iteration #3\n",
      "Time since beggining:0:03:58.516284\n",
      " best energy: 8.732080459594727e-05\n",
      "current energy: 8.732080459594727e-05\n",
      " lower_bound: 0.0\n",
      "I killed 1 unitaries, Ef - Ei: -4.172325134277344e-07\n",
      "I killed 2 unitaries, Ef - Ei: -4.172325134277344e-07\n",
      "I killed 3 unitaries, Ef - Ei: -4.172325134277344e-07\n",
      "I killed 4 unitaries, Ef - Ei: -3.5762786865234375e-07\n",
      "I killed 5 unitaries, Ef - Ei: -4.172325134277344e-07\n",
      "I killed 6 unitaries, Ef - Ei: -3.5762786865234375e-07\n",
      "I killed 7 unitaries, Ef - Ei: -3.5762786865234375e-07\n",
      "\n",
      "Iteration #4\n",
      "Time since beggining:0:07:22.519873\n",
      " best energy: 6.091594696044922e-05\n",
      "current energy: 6.091594696044922e-05\n",
      " lower_bound: 0.0\n",
      "I killed 1 unitaries, Ef - Ei: 2.384185791015625e-07\n",
      "\n",
      "Iteration #5\n",
      "Time since beggining:0:07:56.910808\n",
      " best energy: 6.091594696044922e-05\n",
      "current energy: 6.103515625e-05\n",
      " lower_bound: 0.0\n",
      "I killed 1 unitaries, Ef - Ei: -2.384185791015625e-07\n",
      "I killed 2 unitaries, Ef - Ei: -2.384185791015625e-07\n",
      "I killed 3 unitaries, Ef - Ei: -2.384185791015625e-07\n",
      "I killed 4 unitaries, Ef - Ei: -1.1920928955078125e-07\n",
      "I killed 5 unitaries, Ef - Ei: -1.1920928955078125e-07\n",
      "\n",
      "Iteration #6\n",
      "Time since beggining:0:11:14.528532\n",
      " best energy: 5.5789947509765625e-05\n",
      "current energy: 5.5789947509765625e-05\n",
      " lower_bound: 0.0\n",
      "I killed 1 unitaries, Ef - Ei: 3.5762786865234375e-07\n",
      "\n",
      "Iteration #7\n",
      "Time since beggining:0:12:21.027270\n",
      " best energy: 5.5789947509765625e-05\n",
      "current energy: 5.5789947509765625e-05\n",
      " lower_bound: 0.0\n",
      "I killed 1 unitaries, Ef - Ei: -2.384185791015625e-07\n",
      "I killed 2 unitaries, Ef - Ei: -2.384185791015625e-07\n",
      "I killed 3 unitaries, Ef - Ei: -2.384185791015625e-07\n",
      "I killed 4 unitaries, Ef - Ei: -2.384185791015625e-07\n",
      "I killed 5 unitaries, Ef - Ei: -1.7881393432617188e-07\n",
      "I killed 6 unitaries, Ef - Ei: -1.1920928955078125e-07\n",
      "I killed 7 unitaries, Ef - Ei: -1.1920928955078125e-07\n",
      "\n",
      "Iteration #8\n",
      "Time since beggining:0:20:33.045687\n",
      " best energy: 5.519390106201172e-05\n",
      "current energy: 5.519390106201172e-05\n",
      " lower_bound: 0.0\n",
      "\n",
      "Iteration #9\n",
      "Time since beggining:0:21:00.760578\n",
      " best energy: 5.519390106201172e-05\n",
      "current energy: 5.519390106201172e-05\n",
      " lower_bound: 0.0\n",
      "\n",
      "Iteration #10\n",
      "Time since beggining:0:21:18.507103\n",
      " best energy: 5.519390106201172e-05\n",
      "current energy: 5.519390106201172e-05\n",
      " lower_bound: 0.0\n",
      "I killed 1 unitaries, Ef - Ei: -2.384185791015625e-07\n",
      "I killed 2 unitaries, Ef - Ei: -2.384185791015625e-07\n",
      "I killed 3 unitaries, Ef - Ei: -1.1920928955078125e-07\n",
      "I killed 4 unitaries, Ef - Ei: 0.0\n",
      "I killed 5 unitaries, Ef - Ei: 0.0\n",
      "\n",
      "Iteration #11\n",
      "Time since beggining:0:27:23.959723\n",
      " best energy: 5.447864532470703e-05\n",
      "current energy: 5.447864532470703e-05\n",
      " lower_bound: 0.0\n",
      "\n",
      "Iteration #12\n",
      "Time since beggining:0:27:49.445683\n",
      " best energy: 5.447864532470703e-05\n",
      "current energy: 5.447864532470703e-05\n",
      " lower_bound: 0.0\n",
      "\n",
      "Iteration #13\n",
      "Time since beggining:0:28:43.103118\n",
      " best energy: 5.447864532470703e-05\n",
      "current energy: 5.447864532470703e-05\n",
      " lower_bound: 0.0\n",
      "\n",
      "Iteration #14\n",
      "Time since beggining:0:29:34.780858\n",
      " best energy: 5.447864532470703e-05\n",
      "current energy: 5.447864532470703e-05\n",
      " lower_bound: 0.0\n",
      "\n",
      "Iteration #15\n",
      "Time since beggining:0:30:28.099564\n",
      " best energy: 5.447864532470703e-05\n",
      "current energy: 5.447864532470703e-05\n",
      " lower_bound: 0.0\n",
      "\n",
      "Iteration #16\n",
      "Time since beggining:0:31:21.461974\n",
      " best energy: 5.447864532470703e-05\n",
      "current energy: 5.447864532470703e-05\n",
      " lower_bound: 0.0\n",
      "\n",
      "Iteration #17\n",
      "Time since beggining:0:32:19.680620\n",
      " best energy: 5.447864532470703e-05\n",
      "current energy: 5.447864532470703e-05\n",
      " lower_bound: 0.0\n",
      "I killed 1 unitaries, Ef - Ei: 1.1920928955078125e-07\n",
      "\n",
      "Iteration #18\n",
      "Time since beggining:0:33:51.647281\n",
      " best energy: 5.412101745605469e-05\n",
      "current energy: 5.412101745605469e-05\n",
      " lower_bound: 0.0\n",
      "I killed 1 unitaries, Ef - Ei: -1.1920928955078125e-07\n",
      "I killed 2 unitaries, Ef - Ei: 0.0\n",
      "I killed 3 unitaries, Ef - Ei: 0.0\n",
      "\n",
      "Iteration #19\n",
      "Time since beggining:0:39:03.282841\n",
      " best energy: 5.352497100830078e-05\n",
      "current energy: 5.352497100830078e-05\n",
      " lower_bound: 0.0\n",
      "\n",
      "Iteration #20\n",
      "Time since beggining:0:39:28.057040\n",
      " best energy: 5.352497100830078e-05\n",
      "current energy: 5.352497100830078e-05\n",
      " lower_bound: 0.0\n",
      "\n",
      "Iteration #21\n",
      "Time since beggining:0:40:19.180417\n",
      " best energy: 5.352497100830078e-05\n",
      "current energy: 5.352497100830078e-05\n",
      " lower_bound: 0.0\n",
      "I killed 1 unitaries, Ef - Ei: 1.1920928955078125e-07\n",
      "\n",
      "Iteration #22\n",
      "Time since beggining:0:43:20.682852\n",
      " best energy: 4.494190216064453e-05\n",
      "current energy: 4.494190216064453e-05\n",
      " lower_bound: 0.0\n",
      "\n",
      "Iteration #23\n",
      "Time since beggining:0:43:44.841109\n",
      " best energy: 4.494190216064453e-05\n",
      "current energy: 4.494190216064453e-05\n",
      " lower_bound: 0.0\n",
      "\n",
      "Iteration #24\n",
      "Time since beggining:0:44:46.589294\n",
      " best energy: 4.494190216064453e-05\n",
      "current energy: 4.494190216064453e-05\n",
      " lower_bound: 0.0\n",
      "\n",
      "Iteration #25\n",
      "Time since beggining:0:45:44.398330\n",
      " best energy: 4.494190216064453e-05\n",
      "current energy: 4.494190216064453e-05\n",
      " lower_bound: 0.0\n"
     ]
    }
   ],
   "source": [
    "\n",
    "auto_handler = Autoencoder(n_qubits=4,problem_config=problem_config, nb=2, lr = 0.01,\n",
    "                        epochs=5000, verbose=0,\n",
    "                        patience=200, optimizer=\"adam\",\n",
    "                        many_indexed_circuits=indexed_pure_states, many_symbols_to_values=resolver_pure_states)\n",
    "\n",
    "au_evaluator = Evaluator(args={\"n_qubits\":4,\n",
    "                            \"problem_config\":{\"problem\":\"AutoencoderH2\",\"n_qubits\":len(auto_handler.qubits)},\n",
    "                            \"noise_config\":{}},\n",
    "                      info=\"\", \n",
    "                      path=\"../data-vans/\", acceptance_percentage=1e-5,\n",
    "                      accuracy_to_end=0., reduce_acceptance_percentage=True)\n",
    "\n",
    "info = \"AUTOENCODEr\\ntotal_qubits: {}\\ntrash_qubits: {}\\n\".format(len(auto_handler.qubits), auto_handler.nb)\n",
    "au_evaluator.displaying[\"information\"]+=info\n",
    "\n",
    "\n",
    "start = datetime.now()\n",
    "\n",
    "\n",
    "selector_temperature=20\n",
    "reps=25\n",
    "rate_iids_per_step=1.5\n",
    "wait_to_get_back=10\n",
    "\n",
    "iid = IdInserter(n_qubits=len(auto_handler.qubits))\n",
    "iid.selector_temperature = selector_temperature\n",
    "\n",
    "#Simplifier reduces gates number as much as possible while keeping same expected value of target hamiltonian\n",
    "Simp = Simplifier(n_qubits=len(auto_handler.qubits))\n",
    "\n",
    "#UnitaryMuerder is in charge of evaluating changes on the energy while setting apart one (or more) parametrized gates. If\n",
    "killer = UnitaryMurder(auto_handler, many_indexed_circuits=indexed_pure_states,\n",
    "                       many_symbols_to_values=resolver_pure_states, noise_config={}, accept_wall=2/au_evaluator.acceptance_percentage)\n",
    "\n",
    "#indexed_circuit = auto_handler.hea_ansatz_indexed_circuit(L=3)\n",
    "inexed_circuit = [auto_handler.number_of_cnots+k for k in range(auto_handler.n_qubits,2*vqe_handler.n_qubits)]\n",
    "print(\"beggining to train!\")\n",
    "energy, symbol_to_value, training_evolution = auto_handler.autoencoder(indexed_circuit) #compute energy\n",
    "#add initial info to au_evaluator\n",
    "\n",
    "\n",
    "to_print=\"\\nIteration #{}\\nTime since beggining:{}\\n best energy: {}\\ncurrent_energy {}\\n lower_bound: {}\".format(0, datetime.now()-start, energy, energy, au_evaluator.accuracy_to_end)\n",
    "print(to_print)\n",
    "au_evaluator.displaying[\"information\"]+=to_print\n",
    "\n",
    "au_evaluator.add_step(indexed_circuit, symbol_to_value, energy, relevant=True)\n",
    "au_evaluator.lowest_energy = energy\n",
    "\n",
    "for iteration in range(1,reps+1):\n",
    "    relevant=False\n",
    "\n",
    "    ### create a mutation M (maybe this word is too fancy); we add (probably more than one) identity resolution\n",
    "    iid.selector_temperature=scheduler_selector_temperature(energy, au_evaluator.lowest_energy, when_on=selector_temperature)\n",
    "    M_indices, M_symbols_to_values, M_idx_to_symbols = iid.place_identities(indexed_circuit, symbol_to_value, rate_iids_per_step= rate_iids_per_step)\n",
    "\n",
    "    ### simplify the circuit as much as possible\n",
    "    Sindices, Ssymbols_to_values, Sindex_to_symbols = Simp.reduce_circuit(M_indices, M_symbols_to_values, M_idx_to_symbols)\n",
    "\n",
    "    ## compute the energy of the mutated-simplified circuit [Note 1]\n",
    "    MSenergy, MSsymbols_to_values, _ = auto_handler.autoencoder(\n",
    "        Sindices, symbols_to_values=Ssymbols_to_values,\n",
    "        parameter_perturbation_wall=scheduler_parameter_perturbation_wall(its_without_improvig=au_evaluator.its_without_improvig))\n",
    "\n",
    "    if au_evaluator.accept_energy(MSenergy):\n",
    "        indexed_circuit, symbol_to_value, index_to_symbols = Sindices, MSsymbols_to_values, Sindex_to_symbols\n",
    "        # unitary slaughter: delete as many 1-qubit gates as possible, as long as the energy doesn't go up (we allow %1 increments per iteration)\n",
    "        cnt=0\n",
    "        reduced=True\n",
    "        lmax=len(indexed_circuit)\n",
    "        while reduced and cnt < lmax:\n",
    "            indexed_circuit, symbol_to_value, index_to_symbols, energy, reduced = killer.unitary_slaughter(indexed_circuit, symbol_to_value, index_to_symbols, reference_energy=MSenergy)\n",
    "            indexed_circuit, symbol_to_value, index_to_symbols = Simp.reduce_circuit(indexed_circuit, symbol_to_value, index_to_symbols)\n",
    "            cnt+=1\n",
    "        relevant=True\n",
    "    au_evaluator.add_step(indexed_circuit, symbol_to_value, energy, relevant=relevant)\n",
    "\n",
    "    to_print=\"\\nIteration #{}\\nTime since beggining:{}\\n best energy: {}\\ncurrent energy: {}\\n lower_bound: {}\".format(iteration, datetime.now()-start, au_evaluator.lowest_energy,energy, au_evaluator.accuracy_to_end)\n",
    "    print(to_print)\n",
    "    au_evaluator.displaying[\"information\"]+=to_print\n",
    "\n",
    "    au_evaluator.save_dicts_and_displaying()\n",
    "\n",
    "    if au_evaluator.if_finish_ok is True:\n",
    "        print(\"HOMEWORK DONE! \\nBeers on me ;)\")\n",
    "        break\n",
    "\n",
    "    if au_evaluator.its_without_improvig == wait_to_get_back:\n",
    "        print(\"Getting back to favorite, it's been already {} iterations\".format(wait_to_get_back))\n",
    "        _, energy, indices, resolver, _, _ =  au_evaluator.evolution[au_evaluator.get_best_iteration()]\n",
    "        au_evaluator.its_without_improvig = 0\n"
   ]
  },
  {
   "cell_type": "code",
   "execution_count": 50,
   "metadata": {},
   "outputs": [],
   "source": [
    "WW = cirq.resolve_parameters(auto_handler.give_circuit(indexed_circuit)[0], symbol_to_value)"
   ]
  },
  {
   "cell_type": "code",
   "execution_count": 51,
   "metadata": {},
   "outputs": [],
   "source": [
    "inverse_indexed_circuit, inversolver, Wdagger = auto_handler.give_inverse(indexed_circuit,symbol_to_value)\n",
    "Wdagger=cirq.unitary(Wdagger)"
   ]
  },
  {
   "cell_type": "code",
   "execution_count": 35,
   "metadata": {},
   "outputs": [],
   "source": []
  },
  {
   "cell_type": "code",
   "execution_count": 36,
   "metadata": {},
   "outputs": [],
   "source": [
    "\n",
    "def compute_fidelity(input_state, encoding, channel, decoding):\n",
    "    \"\"\"\n",
    "    we assume input_state is a ket.\n",
    "    \"\"\"\n",
    "    st = np.dot(encoding, input_state)\n",
    "    st = np.dot(channel, st)\n",
    "    st = np.dot(decoding, st)\n",
    "    return np.round(np.dot(np.conjugate(input_state),st), 16)\n",
    "\n",
    "def compute_energy(input_state, encoding, channel, decoding, observable):\n",
    "    \"\"\"\n",
    "    we assume input_state is a ket.\n",
    "    \"\"\"\n",
    "    st = np.dot(encoding, input_state)\n",
    "    st = np.dot(channel, st)\n",
    "    st = np.dot(decoding, st)\n",
    "    return np.dot(np.conjugate(st),np.dot(observable,st))\n"
   ]
  },
  {
   "cell_type": "code",
   "execution_count": 37,
   "metadata": {},
   "outputs": [
    {
     "name": "stderr",
     "output_type": "stream",
     "text": [
      "100%|██████████| 16/16 [00:53<00:00,  3.36s/it]\n"
     ]
    }
   ],
   "source": [
    "\n",
    "\n",
    "\n",
    "bond_train=np.linspace(0.5,2.3,16)[0::3]\n",
    "bond_test=[]\n",
    "test_energies = []\n",
    "test_states=[]\n",
    "train_energies=[]\n",
    "fcis=[]\n",
    "fcis_test=[]\n",
    "eners=[]\n",
    "fcis_train=[]\n",
    "train_states=[]\n",
    "\n",
    "for b in tqdm(np.linspace(0.5,2.3,16)):\n",
    "    \n",
    "    problem_config ={\"problem\" : \"H2\", \"geometry\": str([('H', (0., 0., 0.)), ('H', (0., 0., b))]).replace(\"\\'\",\"\"), \"multiplicity\":1, \"charge\":0, \"basis\":\"sto-3g\"}\n",
    "    args={\"n_qubits\":4,\"problem_config\":problem_config, \"load_displaying\":False}\n",
    "    \n",
    "    vqe_evaluator = Evaluator(args,loading=True, path=\"../data-vans/\")\n",
    "\n",
    "    vqe_handler = VQE(n_qubits=4,noise_config={}, problem_config=problem_config,\n",
    "                            return_lower_bound=True, lr=0.01, epochs=4000,patience=400)\n",
    "    \n",
    "    siro, cuener, indexed_circuit, resolver, bestener,low = vqe_evaluator.raw_history[len(list(vqe_evaluator.raw_history.keys()))-1]#evaluator_load.get_best_iteration()]\n",
    "    things = vqe_handler.vqe(indexed_circuit, symbols_to_values=resolver,parameter_perturbation_wall=0)\n",
    "\n",
    "    optio = cirq.resolve_parameters(vqe_handler.give_circuit(indexed_circuit)[0], things[1])\n",
    "    modelito = QNN(symbols=list(resolver.keys()), observable=vqe_handler.observable, batch_sizes=1)\n",
    "    modelito.compile(loss=EnergyLoss())\n",
    "    ene = np.squeeze(modelito(tfq.convert_to_tensor([optio])))\n",
    "\n",
    "    \n",
    "    if not (b in bond_train):\n",
    "        bond_test.append(b)\n",
    "        test_energies.append(ene)\n",
    "        fcis_test.append(vqe_handler.lower_bound_energy)\n",
    "        test_states.append(cirq.unitary(optio)[:,0])\n",
    "        \n",
    "    else:\n",
    "        train_states.append(cirq.unitary(optio)[:,0])\n",
    "        train_energies.append(ene)\n",
    "        fcis_train.append(vqe_handler.lower_bound_energy)\n"
   ]
  },
  {
   "cell_type": "code",
   "execution_count": 52,
   "metadata": {},
   "outputs": [
    {
     "data": {
      "text/plain": [
       "(16, 16)"
      ]
     },
     "execution_count": 52,
     "metadata": {},
     "output_type": "execute_result"
    }
   ],
   "source": [
    "from utilities.misc import give_kronecker_of_list\n",
    "projector = give_kronecker_of_list([auto_handler.zero_proj(vqe_handler.qubits[k]).matrix() for k in range(auto_handler.nb)])\n",
    "channel = np.kron(projector, np.eye(4))\n",
    "\n",
    "channel.shape"
   ]
  },
  {
   "cell_type": "code",
   "execution_count": 53,
   "metadata": {},
   "outputs": [
    {
     "data": {
      "text/plain": [
       "[(-0.0035994592705075+0.0414419071120331j),\n",
       " (-0.0050566155508611+0.0397897419777237j),\n",
       " (-0.0086975282452865+0.0350957061906729j),\n",
       " (-0.0112036601155757+0.0319698903111875j),\n",
       " (-0.0171124264892279+0.0231685303196568j),\n",
       " (-0.0203637405905322+0.0177393474438284j),\n",
       " (-0.02672471081723+0.0057605150056584j),\n",
       " (-0.0296762716165839-0.0002085031500022j),\n",
       " (-0.03382248772886-0.0101385161394862j),\n",
       " (-0.0354852002940691-0.0147794396906558j)]"
      ]
     },
     "execution_count": 53,
     "metadata": {},
     "output_type": "execute_result"
    }
   ],
   "source": [
    "[compute_fidelity(test_states[k], cirq.unitary(WW), channel, Wdagger) for k in range(len(test_states))]"
   ]
  },
  {
   "cell_type": "code",
   "execution_count": 54,
   "metadata": {},
   "outputs": [
    {
     "data": {
      "text/plain": [
       "[(-0.0025393188816288+0.0428619370275485j),\n",
       " (-0.0068046473434975+0.0377144503508972j),\n",
       " (-0.0142171596173498+0.0281553675439968j),\n",
       " (-0.0236471389912643+0.0118373963457566j),\n",
       " (-0.0299098744454981-0.0053553393474247j),\n",
       " (-0.0359828709671637-0.0174928819012873j)]"
      ]
     },
     "execution_count": 54,
     "metadata": {},
     "output_type": "execute_result"
    }
   ],
   "source": [
    "[compute_fidelity(train_states[k], cirq.unitary(WW), channel, Wdagger) for k in range(len(train_states))]"
   ]
  },
  {
   "cell_type": "code",
   "execution_count": null,
   "metadata": {},
   "outputs": [],
   "source": [
    "#fcisfull=[]\n",
    "#for b in tqdm(np.linspace(0.5,2.3,100)):\n",
    "#    problem_config ={\"problem\" : \"H2\", \"geometry\": [('H', (0., 0., 0.)), ('H', (0., 0., b))], \"multiplicity\":1, \"charge\":0, \"basis\":\"sto-3g\"}\n",
    "#    args={\"n_qubits\":8,\"problem_config\":problem_config, \"load_displaying\":False,\"specific_folder_name\":\"4_bd_{}\".format(b)}\n",
    "#    vqe_handler = VQE(n_qubits=4,noise_config={}, problem_config=problem_config,\n",
    "#                            return_lower_bound=True)\n",
    "#    fcisfull.append(vqe_handler.lower_bound_energy)\n",
    "fcisfull=np.load(\"results/autoencoder/H2/fcisfull.npy\")\n",
    "\n",
    "\n",
    "plt.figure(figsize=(10,10))\n",
    "plt.plot(np.linspace(0.5,2.3,100),fcisfull,color=\"red\",linewidth=5,alpha=0.5,label=\"FCI\")\n",
    "\n",
    "plt.scatter(bond_train, train_energies,s=300, color=\"green\",label=\"Train points\")\n",
    "plt.scatter(bond_test, test_energies, s=300,color=\"blue\",label=\"Test points\")\n",
    "\n",
    "#plt.scatter(bond_train, fcis_train,s=300, color=\"green\",label=\"Train points\")\n",
    "#plt.scatter(bond_test, fcis_test, s=300,color=\"blue\",label=\"Test points\")\n",
    "plt.xlabel(\"bond length\",size=20)\n",
    "plt.ylabel(\"bond length\",size=20)\n",
    "plt.legend(prop={\"size\":20})\n",
    "#plt.savefig(fol+\"energies.png\")"
   ]
  },
  {
   "cell_type": "code",
   "execution_count": null,
   "metadata": {},
   "outputs": [],
   "source": []
  },
  {
   "cell_type": "code",
   "execution_count": null,
   "metadata": {},
   "outputs": [],
   "source": []
  },
  {
   "cell_type": "code",
   "execution_count": null,
   "metadata": {},
   "outputs": [],
   "source": []
  },
  {
   "cell_type": "code",
   "execution_count": null,
   "metadata": {},
   "outputs": [],
   "source": [
    "auto_handler.nb"
   ]
  },
  {
   "cell_type": "code",
   "execution_count": null,
   "metadata": {},
   "outputs": [],
   "source": []
  },
  {
   "cell_type": "code",
   "execution_count": null,
   "metadata": {},
   "outputs": [],
   "source": []
  },
  {
   "cell_type": "code",
   "execution_count": null,
   "metadata": {},
   "outputs": [],
   "source": []
  },
  {
   "cell_type": "code",
   "execution_count": null,
   "metadata": {},
   "outputs": [],
   "source": [
    "from utilities.misc import give_kronecker_of_list\n",
    "projector = give_kronecker_of_list([auto_handler.zero_proj(vqe_handler.qubits[k]).matrix() for k in range(auto_handler.nb)])\n",
    "channel = np.kron(projector, np.eye(8))\n",
    "\n",
    "\n",
    "bond_train=np.linspace(0.5,2.3,16)[0::3]\n",
    "bond_test=[]\n",
    "test_energies = []\n",
    "test_states=[]\n",
    "train_energies=[]\n",
    "fcis=[]\n",
    "fcis_test=[]\n",
    "eners=[]\n",
    "fcis_train=[]\n",
    "train_states=[]\n",
    "\n",
    "for b in tqdm(np.linspace(0.5,2.3,16)):\n",
    "    problem_config ={\"problem\" : \"H2\", \"geometry\": [('H', (0., 0., 0.)), ('H', (0., 0., b))], \"multiplicity\":1, \"charge\":0, \"basis\":\"sto-3g\"}\n",
    "    args={\"n_qubits\":8,\"problem_config\":problem_config, \"load_displaying\":False,\"specific_folder_name\":\"4_bd_{}\".format(b)}\n",
    "    vqe_evaluator = Evaluator(args,loading=True, path=\"../data-vans/data-in-paper-2marzo/\")\n",
    "\n",
    "    vqe_handler = VQE(n_qubits=4,noise_config={}, problem_config=problem_config,\n",
    "                            return_lower_bound=True)\n",
    "    VAnsCircuit, cuener, indexed_circuit, resolver, bestener = vqe_evaluator.evolution[vqe_evaluator.get_best_iteration()]\n",
    "    \n",
    "    eners.append(cuener)\n",
    "    model = QNN(symbols=list(resolver.keys()), observable=vqe_handler.observable, batch_sizes=1)\n",
    "    model.compile(loss=EnergyLoss())\n",
    "    fcis.append(vqe_handler.lower_bound_energy)\n",
    "\n",
    "    ene=compute_energy(cirq.unitary(VAnsCircuit)[:,0], cirq.unitary(W), channel, Wdagger, sum(vqe_handler.observable).matrix())   \n",
    "\n",
    "    if not (b in bond_train):\n",
    "        bond_test.append(b)\n",
    "        test_energies.append(ene)\n",
    "        fcis_test.append(vqe_handler.lower_bound_energy)\n",
    "        test_states.append(cirq.unitary(VAnsCircuit)[:,0])\n",
    "        \n",
    "    else:\n",
    "        train_states.append(cirq.unitary(VAnsCircuit)[:,0])\n",
    "        train_energies.append(ene)\n",
    "        fcis_train.append(vqe_handler.lower_bound_energy)"
   ]
  },
  {
   "cell_type": "code",
   "execution_count": null,
   "metadata": {},
   "outputs": [],
   "source": []
  },
  {
   "cell_type": "code",
   "execution_count": null,
   "metadata": {},
   "outputs": [],
   "source": []
  },
  {
   "cell_type": "code",
   "execution_count": null,
   "metadata": {},
   "outputs": [],
   "source": [
    "np.linspace(.5,2.3,16)"
   ]
  },
  {
   "cell_type": "code",
   "execution_count": null,
   "metadata": {},
   "outputs": [],
   "source": []
  },
  {
   "cell_type": "code",
   "execution_count": null,
   "metadata": {},
   "outputs": [],
   "source": []
  },
  {
   "cell_type": "code",
   "execution_count": null,
   "metadata": {},
   "outputs": [],
   "source": [
    "encoding = cirq.unitary(W)\n",
    "channel = channel\n",
    "decoding = Wdagger\n",
    "input_state=train_states[0]\n",
    "\n",
    "st = np.dot(encoding, input_state)\n",
    "st = np.dot(channel, st)\n",
    "st = np.dot(decoding, st)"
   ]
  },
  {
   "cell_type": "code",
   "execution_count": null,
   "metadata": {},
   "outputs": [],
   "source": [
    "st"
   ]
  },
  {
   "cell_type": "code",
   "execution_count": null,
   "metadata": {},
   "outputs": [],
   "source": [
    "b=0.5\n",
    "propor ={\"problem\" : \"H2\", \"geometry\": str([('H', (0., 0., 0.)), ('H', (0., 0., b))]).replace(\"\\'\",\"\"), \"multiplicity\":1, \"charge\":0, \"basis\":\"sto-3g\"}\n",
    "args={\"n_qubits\":4,\"problem_config\":propor, \"load_displaying\":False}\n",
    "vva = Evaluator(args,loading=True, path=\"../data-vans/\")\n",
    "\n",
    "bebe = VQE(n_qubits=4,noise_config={}, problem_config=propor,\n",
    "                        return_lower_bound=True)\n",
    "vanidad, cuener, indexed_circuit, resolver, bestener,_ = vva.evolution[vva.get_best_iteration()]\n"
   ]
  },
  {
   "cell_type": "code",
   "execution_count": null,
   "metadata": {},
   "outputs": [],
   "source": [
    "compute_fidelity(cirq.unitary(vanidad)[:,0], cirq.unitary(W), channel, Wdagger)"
   ]
  },
  {
   "cell_type": "code",
   "execution_count": null,
   "metadata": {},
   "outputs": [],
   "source": [
    "np.dot(np.conjugate(st),cirq.unitary(vanidad)[:,0])"
   ]
  },
  {
   "cell_type": "code",
   "execution_count": null,
   "metadata": {},
   "outputs": [],
   "source": [
    "v = cirq.unitary(vanidad)[:,0]\n",
    "ob =sum(bebe.observable).matrix()\n",
    "np.dot(np.conjugate(v),np.dot(ob,v))"
   ]
  },
  {
   "cell_type": "code",
   "execution_count": null,
   "metadata": {},
   "outputs": [],
   "source": [
    "model=QNN(symbols= list(resolver.keys()),observable=bebe.observable)\n",
    "model(tfq.convert_to_tensor([vanidad]))"
   ]
  },
  {
   "cell_type": "code",
   "execution_count": null,
   "metadata": {},
   "outputs": [],
   "source": [
    "cir = cirq.resolve_parameters(vqe_handler.give_circuit(indexed_circuit)[0], resolver)\n",
    "circ=tfq.convert_to_tensor([cir])"
   ]
  },
  {
   "cell_type": "code",
   "execution_count": null,
   "metadata": {},
   "outputs": [],
   "source": [
    "model(circ)"
   ]
  },
  {
   "cell_type": "code",
   "execution_count": null,
   "metadata": {},
   "outputs": [],
   "source": [
    "??QNN"
   ]
  },
  {
   "cell_type": "code",
   "execution_count": null,
   "metadata": {},
   "outputs": [],
   "source": [
    "\n",
    "cost_value=[]\n",
    "for k in list(evaluator.evolution.values()):\n",
    "    cost_value.append(k[1])\n",
    "    \n",
    "    \n",
    "\n",
    "color1=\"#D79922\"\n",
    "color2=\"#4056A1\"\n",
    "color3=\"#F13C20\"\n",
    "color4=\"#5D001E\"\n",
    "color5=\"#8E8D8A\"\n",
    "import matplotlib\n",
    "\n",
    "plt.style.use('results/plots/style.mplstyle')\n",
    "matplotlib.rc(\"text\",usetex=True)\n",
    "plt.rcParams[\"font.family\"] = \"Times New Roman\"\n",
    "\n",
    "import matplotlib.colors as colors\n",
    "converter = colors.ColorConverter()\n",
    "plt.rcParams.update({'font.size': 45})\n",
    "\n",
    "\n",
    "plt.figure(figsize=(20,20))\n",
    "plt.plot(np.log10(cost_value),color=converter.to_rgb(color2),linewidth=10,alpha=0.5,label=\"VAns cost function\")\n",
    "plt.tick_params(direction='out', length=6, width=2, colors='black', grid_alpha=0.5,labelsize=40)\n",
    "#plt.xticks([0.5,2.0,1.0,1.5,2.0,2.3])\n",
    "plt.xlabel(\"Accepted modification\")\n",
    "plt.ylabel(\"Cost value \"+r'$[\\log _{10}]$')\n",
    "plt.legend(prop={\"size\":45})\n",
    "plt.savefig(\"cost_value_separable.pdf\",format=\"pdf\")"
   ]
  },
  {
   "cell_type": "markdown",
   "metadata": {},
   "source": [
    "Let's check fidelities in both train and test set"
   ]
  },
  {
   "cell_type": "code",
   "execution_count": null,
   "metadata": {},
   "outputs": [],
   "source": [
    "vqe_handler = VQE(n_qubits=4,noise_config={}, problem_config=problem_config,\n",
    "                        return_lower_bound=True)\n",
    "VAnsCircuit, cuener, indexed_circuit, resolver, bestener = vqe_evaluator.evolution[vqe_evaluator.get_best_iteration()]\n",
    "\n",
    "model = QNN(symbols=list(resolver.keys()), observable=vqe_handler.observable, batch_sizes=1)\n",
    "model.compile(loss=EnergyLoss())\n"
   ]
  },
  {
   "cell_type": "code",
   "execution_count": null,
   "metadata": {},
   "outputs": [],
   "source": [
    "model.trainable_variables[0].assign(np.array(list(resolver.values())))"
   ]
  },
  {
   "cell_type": "code",
   "execution_count": null,
   "metadata": {},
   "outputs": [],
   "source": [
    "things = auto_evaluator.evolution[auto_evaluator.get_best_iteration()]"
   ]
  },
  {
   "cell_type": "code",
   "execution_count": null,
   "metadata": {},
   "outputs": [],
   "source": [
    "things[1]"
   ]
  },
  {
   "cell_type": "code",
   "execution_count": null,
   "metadata": {},
   "outputs": [],
   "source": []
  },
  {
   "cell_type": "code",
   "execution_count": null,
   "metadata": {},
   "outputs": [],
   "source": []
  },
  {
   "cell_type": "code",
   "execution_count": null,
   "metadata": {},
   "outputs": [],
   "source": [
    "#### CHECK AT TRAIN FIDELITIES\n",
    "\n",
    "fidelities = []\n",
    "for k in range(len(auto_handler.qbatch)):\n",
    "    input_state = cirq.unitary(auto_handler.qbatch[k])[:,0]\n",
    "    channel = (np.kron(np.kron(*[auto_handler.zero_proj(vqe_handler.qubits[k]).matrix() for k in range(2)]), np.eye(4)))\n",
    "    fidelities.append(np.real(compute_fidelity(input_state, cirq.unitary(W), channel, Wdagger)))\n",
    "fidelities"
   ]
  },
  {
   "cell_type": "code",
   "execution_count": null,
   "metadata": {},
   "outputs": [],
   "source": [
    "#### CHECK AT TRAIN FIDELITIES\n",
    "\n",
    "fidelities = []\n",
    "for k in test_states:\n",
    "    input_state = k#cirq.unitary(auto_handler.qbatch[k])[:,0]\n",
    "    channel = (np.kron(np.kron(*[auto_handler.zero_proj(vqe_handler.qubits[k]).matrix() for k in range(2)]), np.eye(4)))\n",
    "    fidelities.append(np.real(compute_fidelity(input_state, cirq.unitary(W), channel, Wdagger)))\n",
    "fidelities"
   ]
  },
  {
   "cell_type": "code",
   "execution_count": null,
   "metadata": {},
   "outputs": [],
   "source": [
    "#### CHECK AT TRAIN FIDELITIES\n",
    "\n",
    "fidelities = []\n",
    "for k in train_states:\n",
    "    input_state = k#cirq.unitary(auto_handler.qbatch[k])[:,0]\n",
    "    channel = (np.kron(np.kron(*[auto_handler.zero_proj(vqe_handler.qubits[k]).matrix() for k in range(2)]), np.eye(4)))\n",
    "    fidelities.append(np.real(compute_fidelity(input_state, cirq.unitary(W), channel, Wdagger)))\n",
    "fidelities"
   ]
  },
  {
   "cell_type": "code",
   "execution_count": null,
   "metadata": {},
   "outputs": [],
   "source": [
    "st =np.dot(cirq.unitary(W),train_states[0])"
   ]
  },
  {
   "cell_type": "code",
   "execution_count": null,
   "metadata": {},
   "outputs": [],
   "source": []
  },
  {
   "cell_type": "code",
   "execution_count": null,
   "metadata": {},
   "outputs": [],
   "source": [
    "b=0.5\n",
    "problem_config ={\"problem\" : \"H2\", \"geometry\": [('H', (0., 0., 0.)), ('H', (0., 0., b))], \"multiplicity\":1, \"charge\":0, \"basis\":\"sto-3g\"}\n",
    "  \n",
    "vqe_handler = VQE(n_qubits=4,noise_config={}, problem_config=problem_config,\n",
    "                            return_lower_bound=True)"
   ]
  },
  {
   "cell_type": "code",
   "execution_count": null,
   "metadata": {},
   "outputs": [],
   "source": [
    "def compute_energy(input_state, encoding, channel, decoding, observable):\n",
    "    \"\"\"\n",
    "    we assume input_state is a ket.\n",
    "    \"\"\"\n",
    "    st = np.dot(encoding, input_state)\n",
    "    st = np.dot(channel, st)\n",
    "    st = np.dot(decoding, st)\n",
    "    return np.dot(np.conjugate(st),np.dot(observable,st))\n",
    "\n",
    "channel = (np.kron(np.kron(*[auto_handler.zero_proj(vqe_handler.qubits[k]).matrix() for k in range(2)]), np.eye(4)))\n",
    "ene=compute_energy(cirq.unitary(VAnsCircuit)[:,0], cirq.unitary(W), channel, Wdagger, sum(vqe_handler.observable).matrix())   \n",
    "print(ene,cuener)"
   ]
  },
  {
   "cell_type": "code",
   "execution_count": null,
   "metadata": {},
   "outputs": [],
   "source": [
    "b=0.5\n",
    "problem_config ={\"problem\" : \"H2\", \"geometry\": [('H', (0., 0., 0.)), ('H', (0., 0., b))], \"multiplicity\":1, \"charge\":0, \"basis\":\"sto-3g\"}\n",
    "args={\"n_qubits\":8,\"problem_config\":problem_config, \"load_displaying\":False,\"specific_folder_name\":\"4_bd_{}\".format(b)}\n",
    "vqe_evaluator = Evaluator(args,loading=True, path=\"../data-vans/data-in-paper-2marzo/\")\n",
    "\n",
    "vqe_handler = VQE(n_qubits=4,noise_config={}, problem_config=problem_config,\n",
    "                        return_lower_bound=True)\n",
    "VAnsCircuit, cuener, indexed_circuit, resolver, bestener = vqe_evaluator.evolution[vqe_evaluator.get_best_iteration()]\n"
   ]
  },
  {
   "cell_type": "code",
   "execution_count": null,
   "metadata": {},
   "outputs": [],
   "source": []
  },
  {
   "cell_type": "code",
   "execution_count": null,
   "metadata": {},
   "outputs": [],
   "source": [
    "projector = give_kronecker_of_list([auto_handler.zero_proj(vqe_handler.qubits[k]).matrix() for k in range(auto_handler.nb)])\n",
    "channel = np.kron(projector, np.eye(4))\n",
    "compute_energy(cirq.unitary(VAnsCircuit)[:,0],cirq.unitary(W), channel, Wdagger, sum(vqe_handler.observable).matrix())"
   ]
  },
  {
   "cell_type": "code",
   "execution_count": null,
   "metadata": {},
   "outputs": [],
   "source": [
    "compute_fidelity(cirq.unitary(VAnsCircuit)[:,0], cirq.unitary(W), channel, Wdagger)"
   ]
  },
  {
   "cell_type": "code",
   "execution_count": null,
   "metadata": {},
   "outputs": [],
   "source": []
  },
  {
   "cell_type": "code",
   "execution_count": null,
   "metadata": {},
   "outputs": [],
   "source": [
    "test_fidelities = []\n",
    "for k in test_states:\n",
    "    input_state = k#cirq.unitary(auto_handler.qbatch[k])[:,0]\n",
    "    channel = (np.kron(np.kron(*[auto_handler.zero_proj(vqe_handler.qbits[k]).matrix() for k in range(2)]), np.eye(4)))\n",
    "    test_fidelities.append(np.real(compute_fidelity(input_state, cirq.unitary(W), channel, Wdagger)))\n",
    "test_fidelities"
   ]
  },
  {
   "cell_type": "code",
   "execution_count": null,
   "metadata": {},
   "outputs": [],
   "source": [
    "train_fidelities = []\n",
    "for k in train_states:\n",
    "    input_state = k#cirq.unitary(auto_handler.qbatch[k])[:,0]\n",
    "    channel = (np.kron(np.kron(*[auto_handler.zero_proj(vqe_handler.qubits[k]).matrix() for k in range(2)]), np.eye(4)))\n",
    "    train_fidelities.append(np.real(compute_fidelity(input_state, cirq.unitary(W), channel, Wdagger)))\n",
    "train_fidelities"
   ]
  },
  {
   "cell_type": "code",
   "execution_count": null,
   "metadata": {},
   "outputs": [],
   "source": []
  },
  {
   "cell_type": "code",
   "execution_count": null,
   "metadata": {},
   "outputs": [],
   "source": []
  },
  {
   "cell_type": "code",
   "execution_count": null,
   "metadata": {},
   "outputs": [],
   "source": []
  },
  {
   "cell_type": "code",
   "execution_count": null,
   "metadata": {},
   "outputs": [],
   "source": [
    "channel = np.eye(2**len(auto_handler.qubits)) - (1/auto_handler.nb)*(np.kron(np.kron(*[auto_handler.zero_proj(vqe_handler.qubits[k]).matrix() for k in range(2)]), np.eye(4)))\n",
    "\n",
    "test_fidelities = []\n",
    "for state in test_states:\n",
    "    test_fidelities.append(compute_fidelity(state, W, channel, Wdagger))\n",
    "    \n",
    "train_fidelities = []\n",
    "for state in train_states:\n",
    "    train_fidelities.append(compute_fidelity(state, W, channel, Wdagger))"
   ]
  },
  {
   "cell_type": "code",
   "execution_count": null,
   "metadata": {},
   "outputs": [],
   "source": []
  },
  {
   "cell_type": "code",
   "execution_count": null,
   "metadata": {},
   "outputs": [],
   "source": []
  },
  {
   "cell_type": "code",
   "execution_count": null,
   "metadata": {},
   "outputs": [],
   "source": [
    "import os \n",
    "fol=\"results/autoencoder/H2/\"\n",
    "os.makedirs(fol,exist_ok=True)\n",
    "sts=[\"fcis_train\", \"fcis_test\", \"bond_train\",\"bond_test\", \"bonds\", \"test_fidelities\", \"train_fidelities\",\"fcisfull\"]\n",
    "fis=[fcis_train, fcis_test, bond_train, bond_test,np.linspace(0.5,2.3,16), test_fidelities, train_fidelities,fcisfull]\n",
    "for strfi, thi in zip(sts, fis):\n",
    "    np.save(fol+strfi,thi)"
   ]
  },
  {
   "cell_type": "code",
   "execution_count": null,
   "metadata": {},
   "outputs": [],
   "source": [
    "bonds=np.linspace(0.5,2.3,16)\n",
    "plt.figure(figsize=(10,10))\n",
    "plt.plot(bonds,np.ones(len(bonds)),color=\"black\",alpha=0.5,label=\"1\")\n",
    "plt.scatter(bond_train, train_fidelities, color=\"red\",label=\"Train points\")\n",
    "plt.scatter(bond_test, test_fidelities, color=\"green\",label=\"Test points\")\n",
    "plt.xlabel(\"bond length\",size=20)\n",
    "plt.ylabel(\"bond length\",size=20)\n",
    "plt.legend(prop={\"size\":20})\n",
    "plt.savefig(\"fidelities.png\")"
   ]
  }
 ],
 "metadata": {
  "kernelspec": {
   "display_name": "Python 3",
   "language": "python",
   "name": "python3"
  },
  "language_info": {
   "codemirror_mode": {
    "name": "ipython",
    "version": 3
   },
   "file_extension": ".py",
   "mimetype": "text/x-python",
   "name": "python",
   "nbconvert_exporter": "python",
   "pygments_lexer": "ipython3",
   "version": "3.6.9"
  }
 },
 "nbformat": 4,
 "nbformat_minor": 4
}
