{
 "cells": [
  {
   "cell_type": "code",
   "execution_count": 20,
   "metadata": {},
   "outputs": [
    {
     "name": "stdout",
     "output_type": "stream",
     "text": [
      "The autoreload extension is already loaded. To reload it, use:\n",
      "  %reload_ext autoreload\n"
     ]
    },
    {
     "data": {
      "text/html": [
       "<pre style=\"overflow: auto; white-space: pre;\">(0, 0): ───Rx(th_0)───\n",
       "\n",
       "(0, 1): ───Rx(th_1)───\n",
       "\n",
       "(0, 2): ───Rx(th_2)───\n",
       "\n",
       "(0, 3): ───Rx(th_3)───</pre>"
      ],
      "text/plain": [
       "(0, 0): ───Rx(th_0)───\n",
       "\n",
       "(0, 1): ───Rx(th_1)───\n",
       "\n",
       "(0, 2): ───Rx(th_2)───\n",
       "\n",
       "(0, 3): ───Rx(th_3)───"
      ]
     },
     "execution_count": 20,
     "metadata": {},
     "output_type": "execute_result"
    }
   ],
   "source": [
    "import os \n",
    "import numpy as np\n",
    "import sympy\n",
    "import cirq\n",
    "import tensorflow_quantum as tfq\n",
    "from tqdm import tqdm\n",
    "import tensorflow as tf\n",
    "from tqdm import tqdm\n",
    "import matplotlib.pyplot as plt\n",
    "\n",
    "from utilities.variational import VQE\n",
    "from utilities.circuit_basics import Evaluator\n",
    "from utilities.idinserter import IdInserter\n",
    "from utilities.simplifier import Simplifier\n",
    "from utilities.unitary_killer import UnitaryMurder\n",
    "\n",
    "%load_ext autoreload\n",
    "%autoreload 2\n",
    "\n",
    "\n",
    "n_qubits = 4\n",
    "qlr = 0.01\n",
    "qepochs = 10**3\n",
    "verbose=0\n",
    "g=1\n",
    "J=0\n",
    "noise=0.0\n",
    "problem=\"TFIM\"\n",
    "\n",
    "\n",
    "vqe_handler = VQE(n_qubits=n_qubits, lr=qlr, epochs=qepochs, patience=100,\n",
    "              random_perturbations=True, verbose=verbose, g=g, J = J, \n",
    "              problem=problem, noise_model=None)\n",
    "indexed_circuit = [vqe_handler.n_qubits+k+vqe_handler.number_of_cnots for k in range(vqe_handler.n_qubits)]\n",
    "circuit, symbols, idx = vqe_handler.give_circuit(indexed_circuit)\n",
    "clean_energy = vqe_handler.give_energy(indexed_circuit,{s:0 for s in symbols})\n",
    "circuit"
   ]
  },
  {
   "cell_type": "code",
   "execution_count": 21,
   "metadata": {},
   "outputs": [],
   "source": [
    "ps=[]\n",
    "for k in range(5)[::-1]:\n",
    "    ps = np.append(ps, np.linspace(10**(-k), 10**(-k+1),10))\n",
    "\n",
    "noisy_energy=[]\n",
    "for p in tqdm(ps):\n",
    "\n",
    "    vqe_handler = VQE(n_qubits=n_qubits, lr=qlr, epochs=qepochs, patience=100,\n",
    "                      random_perturbations=True, verbose=verbose, g=g, J = J, \n",
    "                      problem=problem, noise_model={ \"channel\":\"depolarizing\", \"channel_params\":[0.01], \"q_batch_size\":10**2})\n",
    "\n",
    "    qbatch, symbols, index_to_symbols = vqe_handler.give_circuit_with_noise(indexed_circuit)\n",
    "    qbatch_resolved=[]\n",
    "    for k in qbatch:\n",
    "        qbatch_resolved.append(cirq.resolve_parameters(k,{s:0 for s in symbols}))\n",
    "    tfq_circuit = tfq.convert_to_tensor(qbatch_resolved)\n",
    "    expectation = tfq.layers.Expectation()\n",
    "    tfq_layer = expectation(tfq_circuit, operators=tfq.convert_to_tensor([vqe_handler.observable]*vqe_handler.q_batch_size))\n",
    "    averaged_unitaries = tf.math.reduce_mean(tfq_layer, axis=0)\n",
    "    energy = np.squeeze(tf.math.reduce_sum(averaged_unitaries, axis=-1))\n",
    "    noisy_energy.append(energy)"
   ]
  },
  {
   "cell_type": "code",
   "execution_count": 31,
   "metadata": {},
   "outputs": [
    {
     "data": {
      "text/plain": [
       "[<matplotlib.lines.Line2D at 0x7f658a653dd8>]"
      ]
     },
     "execution_count": 31,
     "metadata": {},
     "output_type": "execute_result"
    },
    {
     "data": {
      "image/png": "[encoded data removed]",
      "text/plain": [
       "<Figure size 432x288 with 1 Axes>"
      ]
     },
     "metadata": {
      "needs_background": "light"
     },
     "output_type": "display_data"
    }
   ],
   "source": [
    "plt.plot(np.log10(ps),[clean_energy]*len(noisy_energy), '--', linewidth=3, color=\"black\")\n",
    "plt.plot(np.log10(ps),noisy_energy, '.', color=\"blue\", alpha=0.7)"
   ]
  }
 ],
 "metadata": {
  "kernelspec": {
   "display_name": "Python 3",
   "language": "python",
   "name": "python3"
  },
  "language_info": {
   "codemirror_mode": {
    "name": "ipython",
    "version": 3
   },
   "file_extension": ".py",
   "mimetype": "text/x-python",
   "name": "python",
   "nbconvert_exporter": "python",
   "pygments_lexer": "ipython3",
   "version": "3.6.9"
  }
 },
 "nbformat": 4,
 "nbformat_minor": 4
}
