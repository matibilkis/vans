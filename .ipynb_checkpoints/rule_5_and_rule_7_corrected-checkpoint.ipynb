{
 "cells": [
  {
   "cell_type": "code",
   "execution_count": 1,
   "metadata": {},
   "outputs": [],
   "source": [
    "%load_ext autoreload\n",
    "%autoreload 2\n",
    "import tensorflow_quantum as tfq\n",
    "from utilities.variational import VQE\n",
    "from utilities.qmodels import *\n",
    "from utilities.evaluator import Evaluator\n",
    "from utilities.idinserter import IdInserter\n",
    "from utilities.unitary_killer import UnitaryMurder\n",
    "from utilities.simplifier import Simplifier\n",
    "import cirq"
   ]
  },
  {
   "cell_type": "code",
   "execution_count": 2,
   "metadata": {},
   "outputs": [
    {
     "name": "stdout",
     "output_type": "stream",
     "text": [
      "tf.Tensor([5.5994363], shape=(1,), dtype=float32) tf.Tensor([-3.9598854], shape=(1,), dtype=float32)\n",
      "tf.Tensor([-3.9598854], shape=(1,), dtype=float32) tf.Tensor([-8.000001], shape=(1,), dtype=float32)\n"
     ]
    }
   ],
   "source": [
    "\n",
    "vqe_handler = VQE(n_qubits=1, problem_config={\"problem\":\"XXZ\",\"g\":1,\"J\":2})\n",
    "iid_inserter = IdInserter(n_qubits = vqe_handler.n_qubits, selector_temperature=40, epsilon=0.1)\n",
    "simplifier = Simplifier(n_qubits=vqe_handler.n_qubits)\n",
    "\n",
    "indexed_circuit = [vqe_handler.number_of_cnots + k for k in range(vqe_handler.n_qubits, 2*vqe_handler.n_qubits )]\n",
    "circuit, symbols, index_to_symbols = vqe_handler.give_circuit(indexed_circuit)\n",
    "energy, resolver, history = vqe_handler.vqe(indexed_circuit)\n",
    "\n",
    "Mindexed_circuit, Mresolver, Mindex_to_symbols = iid_inserter.place_identities(indexed_circuit,symbol_to_value=resolver,rate_iids_per_step=2)\n",
    "Mcircuit = vqe_handler.give_unitary(Mindexed_circuit, Mresolver)\n",
    "\n",
    "model = QNN(symbols=list(Mresolver.keys()), observable=vqe_handler.observable)\n",
    "print(model(circuit), model(Mcircuit))\n",
    "\n",
    "OMenergy, OMresolver, OMhistory = vqe_handler.vqe(Mindexed_circuit, symbols_to_values=Mresolver)\n",
    "OMcircuit = vqe_handler.give_unitary(Mindexed_circuit, OMresolver)\n",
    "\n",
    "print(model(Mcircuit), model(OMcircuit))\n",
    "\n",
    "\n",
    "simplifier = Simplifier(n_qubits=vqe_handler.n_qubits)\n",
    "Sindexed_circuit, Sresolver, Sindex_to_symbols = simplifier.reduce_circuit(Mindexed_circuit, OMresolver, Mindex_to_symbols)"
   ]
  },
  {
   "cell_type": "code",
   "execution_count": null,
   "metadata": {},
   "outputs": [],
   "source": []
  },
  {
   "cell_type": "code",
   "execution_count": null,
   "metadata": {},
   "outputs": [],
   "source": []
  },
  {
   "cell_type": "code",
   "execution_count": null,
   "metadata": {},
   "outputs": [],
   "source": []
  },
  {
   "cell_type": "code",
   "execution_count": null,
   "metadata": {},
   "outputs": [],
   "source": []
  },
  {
   "cell_type": "code",
   "execution_count": null,
   "metadata": {},
   "outputs": [],
   "source": []
  },
  {
   "cell_type": "code",
   "execution_count": 3,
   "metadata": {},
   "outputs": [
    {
     "name": "stdout",
     "output_type": "stream",
     "text": [
      "tf.Tensor([-8.000002], shape=(1,), dtype=float32) tf.Tensor(-7.999997, shape=(), dtype=float32)\n"
     ]
    }
   ],
   "source": [
    "Scircuit = vqe_handler.give_unitary(Sindexed_circuit,Sresolver)\n",
    "print(model(Scircuit),OMenergy)"
   ]
  },
  {
   "cell_type": "code",
   "execution_count": 4,
   "metadata": {},
   "outputs": [
    {
     "data": {
      "text/html": [
       "<pre style=\"overflow: auto; white-space: pre;\">(0, 0): ───Rx(2π)───@───Rz(0.328π)───Rx(1.5π)────Rz(0.5π)───@───\n",
       "                    │                                       │\n",
       "(0, 1): ────────────X───Rx(-π)───────Rz(1.19π)───Rx(0)──────X───</pre>"
      ],
      "text/plain": [
       "(0, 0): ───Rx(2π)───@───Rz(0.328π)───Rx(1.5π)────Rz(0.5π)───@───\n",
       "                    │                                       │\n",
       "(0, 1): ────────────X───Rx(-π)───────Rz(1.19π)───Rx(0)──────X───"
      ]
     },
     "execution_count": 4,
     "metadata": {},
     "output_type": "execute_result"
    }
   ],
   "source": [
    "Scircuit"
   ]
  },
  {
   "cell_type": "code",
   "execution_count": 5,
   "metadata": {},
   "outputs": [
    {
     "data": {
      "text/html": [
       "<pre style=\"overflow: auto; white-space: pre;\">(0, 0): ───Rx(2π)───@───Rz(0.328π)───Rx(1.5π)────Rz(0.5π)─────@─────────────────\n",
       "                    │                                         │\n",
       "(0, 1): ────────────X───Rx(-π)───────Rz(1.19π)───Rx(0.157π)───X───Rx(-0.157π)───</pre>"
      ],
      "text/plain": [
       "(0, 0): ───Rx(2π)───@───Rz(0.328π)───Rx(1.5π)────Rz(0.5π)─────@─────────────────\n",
       "                    │                                         │\n",
       "(0, 1): ────────────X───Rx(-π)───────Rz(1.19π)───Rx(0.157π)───X───Rx(-0.157π)───"
      ]
     },
     "execution_count": 5,
     "metadata": {},
     "output_type": "execute_result"
    }
   ],
   "source": [
    "OMcircuit"
   ]
  },
  {
   "cell_type": "markdown",
   "metadata": {},
   "source": []
  },
  {
   "cell_type": "code",
   "execution_count": null,
   "metadata": {},
   "outputs": [],
   "source": []
  },
  {
   "cell_type": "code",
   "execution_count": null,
   "metadata": {},
   "outputs": [],
   "source": []
  },
  {
   "cell_type": "code",
   "execution_count": null,
   "metadata": {},
   "outputs": [],
   "source": []
  },
  {
   "cell_type": "code",
   "execution_count": 19,
   "metadata": {},
   "outputs": [
    {
     "data": {
      "text/plain": [
       "<matplotlib.colorbar.Colorbar at 0x7f06905f88d0>"
      ]
     },
     "execution_count": 19,
     "metadata": {},
     "output_type": "execute_result"
    },
    {
     "data": {
      "image/png": "[encoded data removed]",
      "text/plain": [
       "<Figure size 432x288 with 2 Axes>"
      ]
     },
     "metadata": {
      "needs_background": "light"
     },
     "output_type": "display_data"
    }
   ],
   "source": [
    "import matplotlib.pyplot as plt\n",
    "import numpy as np\n",
    "\n",
    "fig=plt.figure()\n",
    "a=plt.imshow(np.real(cirq.unitary(OMcircuit)-cirq.unitary(Scircuit)))\n",
    "fig.colorbar(a)"
   ]
  },
  {
   "cell_type": "code",
   "execution_count": 13,
   "metadata": {},
   "outputs": [
    {
     "data": {
      "text/plain": [
       "array([-8.93885497e-05+1.21486534e-04j, -3.87237722e-01-5.91645538e-01j,\n",
       "       -1.45619744e-01+6.91951799e-01j, -1.66325960e-04-2.28942587e-04j])"
      ]
     },
     "execution_count": 13,
     "metadata": {},
     "output_type": "execute_result"
    }
   ],
   "source": []
  },
  {
   "cell_type": "code",
   "execution_count": null,
   "metadata": {},
   "outputs": [],
   "source": []
  }
 ],
 "metadata": {
  "kernelspec": {
   "display_name": "Python 3",
   "language": "python",
   "name": "python3"
  },
  "language_info": {
   "codemirror_mode": {
    "name": "ipython",
    "version": 3
   },
   "file_extension": ".py",
   "mimetype": "text/x-python",
   "name": "python",
   "nbconvert_exporter": "python",
   "pygments_lexer": "ipython3",
   "version": "3.6.9"
  }
 },
 "nbformat": 4,
 "nbformat_minor": 4
}
