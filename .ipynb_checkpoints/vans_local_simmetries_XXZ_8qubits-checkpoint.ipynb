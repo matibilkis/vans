{
 "cells": [
  {
   "cell_type": "code",
   "execution_count": 15,
   "metadata": {},
   "outputs": [],
   "source": [
    "import numpy as np\n",
    "import matplotlib.pyplot as plt\n",
    "import matplotlib\n",
    "import os\n",
    "import sys\n",
    "from tqdm import tqdm\n",
    "#sys.path[0] = \"/home/cooper-cooper/Desktop/vans/\"\n",
    "from utilities.evaluator import Evaluator\n",
    "import os\n",
    "from utilities.variational import VQE\n",
    "import cirq"
   ]
  },
  {
   "cell_type": "code",
   "execution_count": 151,
   "metadata": {},
   "outputs": [
    {
     "name": "stderr",
     "output_type": "stream",
     "text": [
      "100%|██████████| 51/51 [01:03<00:00,  1.25s/it]\n"
     ]
    }
   ],
   "source": [
    "ge=[]\n",
    "for j in tqdm(np.arange(0,5.1,0.1)):\n",
    "\n",
    "    args={\"n_qubits\":8,\"problem_config\":{\"problem\" : \"XXZ\", \"g\":1.0, \"J\": j}, \"specific_name\":\"XXZ/8Q - J {} g 1.0\".format(np.round(j,3))}\n",
    "    evaluator = Evaluator(args,loading=True)\n",
    "\n",
    "    #VQE module, in charge of continuous optimization\n",
    "    vqe_handler = VQE(n_qubits=args[\"n_qubits\"],problem_config=args[\"problem_config\"])\n",
    "    obs = vqe_handler.observable\n",
    "    \n",
    "    ge.append(compute_ground_energy(obs))"
   ]
  },
  {
   "cell_type": "code",
   "execution_count": 147,
   "metadata": {},
   "outputs": [],
   "source": [
    "def compute_ground_energy(obse,qubits):\n",
    "    ind_to_2 = {\"0\":np.eye(2), \"1\":cirq.unitary(cirq.X), \"2\":cirq.unitary(cirq.Y), \"3\":cirq.unitary(cirq.Z)}\n",
    "    ham = np.zeros((2**vqe_handler.n_qubits,2**vqe_handler.n_qubits)).astype(np.complex128)\n",
    "    for kham in obse:\n",
    "        item= kham.dense(qubits)\n",
    "        string = item.pauli_mask\n",
    "        matrices = [ind_to_2[str(int(ok))] for ok in string]\n",
    "        ham += give_kr_prod(matrices)\n",
    "    return np.sort(np.real(np.linalg.eigvals(ham)))[0]"
   ]
  },
  {
   "cell_type": "code",
   "execution_count": 144,
   "metadata": {},
   "outputs": [
    {
     "data": {
      "text/plain": [
       "array([ 1.40000000e+01, -1.46043736e+01,  1.20000000e+01,  1.28284271e+01,\n",
       "        1.28284271e+01, -1.45136763e+01, -1.25136763e+01,  1.08284271e+01,\n",
       "       -1.05136763e+01, -1.07985126e+01,  1.08284271e+01,  8.98791841e+00,\n",
       "        1.01027485e+01,  1.00000000e+01,  1.00000000e+01,  1.01027485e+01,\n",
       "       -9.83495404e+00, -1.18349540e+01,  8.57649122e+00,  8.57649122e+00,\n",
       "       -9.83495404e+00, -1.18349540e+01, -1.05805935e+01,  1.00000000e+01,\n",
       "       -1.12077509e+01,  7.17157288e+00, -6.00000000e+00, -9.20775094e+00,\n",
       "        7.32023496e+00,  8.82842712e+00,  8.82842712e+00, -7.83495404e+00,\n",
       "       -8.58059350e+00, -8.58059350e+00, -7.83495404e+00, -9.41855072e+00,\n",
       "       -9.41855072e+00,  7.78290397e+00,  8.10274848e+00,  8.10274848e+00,\n",
       "        7.78290397e+00,  8.00000000e+00,  8.00000000e+00,  8.00000000e+00,\n",
       "       -1.05805935e+01, -4.82842712e+00, -7.20775094e+00, -7.41855072e+00,\n",
       "       -9.06814039e+00,  7.17157288e+00,  6.98791841e+00,  6.82842712e+00,\n",
       "       -6.47213595e+00, -6.58059350e+00, -6.58059350e+00,  5.74806410e+00,\n",
       "        6.57649122e+00,  6.82842712e+00,  5.84201948e+00,  5.78290397e+00,\n",
       "        6.00000000e+00,  6.00000000e+00, -9.06814039e+00, -7.41855072e+00,\n",
       "       -5.20775094e+00,  5.74806410e+00,  6.10274848e+00,  8.00000000e+00,\n",
       "       -6.80655870e+00, -7.06814039e+00,  5.17157288e+00,  5.17157288e+00,\n",
       "       -8.57649122e+00, -8.57649122e+00, -6.47213595e+00, -6.82842712e+00,\n",
       "       -6.82842712e+00, -4.82842712e+00,  6.57649122e+00,  5.32023496e+00,\n",
       "        5.57077343e+00, -7.06814039e+00,  6.10274848e+00, -5.41855072e+00,\n",
       "       -5.41855072e+00,  4.98791841e+00,  5.57077343e+00, -6.00000000e+00,\n",
       "       -4.80655870e+00, -5.78016747e+00, -5.43569420e+00, -6.57649122e+00,\n",
       "       -6.57649122e+00, -5.74806410e+00, -5.06814039e+00, -5.06814039e+00,\n",
       "       -5.74806410e+00,  5.78290397e+00, -3.20775094e+00,  4.57649122e+00,\n",
       "        4.57649122e+00,  4.82842712e+00, -5.03460809e+00,  6.00000000e+00,\n",
       "        6.00000000e+00, -4.57649122e+00, -4.57649122e+00, -5.43569420e+00,\n",
       "        2.21983253e+00,  4.82842712e+00,  3.57077343e+00,  2.96539191e+00,\n",
       "        2.96539191e+00, -3.43569420e+00, -3.43569420e+00, -5.03460809e+00,\n",
       "       -4.51351371e+00, -4.51351371e+00,  6.00000000e+00,  8.28427125e-01,\n",
       "       -3.78016747e+00, -2.80655870e+00, -2.90443778e+00, -3.04350689e+00,\n",
       "        3.32023496e+00,  3.57077343e+00,  3.80642385e+00, -4.38787313e+00,\n",
       "       -4.38787313e+00,  2.25193590e+00,  2.25193590e+00,  3.74806410e+00,\n",
       "        3.74806410e+00, -4.05073281e+00,  3.80642385e+00,  3.17157288e+00,\n",
       "        3.17157288e+00,  3.06181085e+00,  3.06181085e+00, -4.00000000e+00,\n",
       "       -4.00000000e+00, -3.06814039e+00, -3.06814039e+00, -5.76491223e-01,\n",
       "       -5.76491223e-01, -2.57649122e+00, -2.57649122e+00,  8.28427125e-01,\n",
       "        1.50881142e+00, -1.78016747e+00,  2.98791841e+00,  2.47213595e+00,\n",
       "       -1.06814039e+00, -1.06814039e+00,  2.47213595e+00,  4.10274848e+00,\n",
       "        4.10274848e+00, -1.43569420e+00, -1.43569420e+00, -4.05073281e+00,\n",
       "        2.19832528e-01, -3.74806410e+00, -3.74806410e+00, -2.51351371e+00,\n",
       "       -2.51351371e+00,  9.65391910e-01, -2.38787313e+00,  3.78290397e+00,\n",
       "        1.74806410e+00, -2.38787313e+00,  1.17157288e+00,  1.17157288e+00,\n",
       "        1.06181085e+00,  1.06181085e+00, -2.05073281e+00, -2.05073281e+00,\n",
       "       -3.87873133e-01, -1.74806410e+00, -1.74806410e+00, -1.03460809e+00,\n",
       "       -1.03460809e+00,  2.51935902e-01,  2.51935902e-01, -5.13513708e-01,\n",
       "       -5.13513708e-01,  2.57649122e+00,  9.65391910e-01,  9.87918415e-01,\n",
       "        1.80642385e+00,  1.80642385e+00, -3.87873133e-01, -1.17157288e+00,\n",
       "       -1.17157288e+00, -5.07328123e-02, -5.07328123e-02,  3.78290397e+00,\n",
       "        1.74806410e+00, -2.00000000e+00, -2.82842712e+00, -3.03460809e+00,\n",
       "       -3.03460809e+00,  2.82842712e+00,  2.82842712e+00, -2.25193590e+00,\n",
       "        2.57649122e+00,  1.57077343e+00,  4.00000000e+00,  4.00000000e+00,\n",
       "        4.00000000e+00,  4.00000000e+00, -2.82842712e+00,  5.76491223e-01,\n",
       "       -2.25193590e+00,  1.57077343e+00,  2.00000000e+00,  2.10274848e+00,\n",
       "        2.10274848e+00, -9.38189154e-01, -9.38189154e-01, -8.28427125e-01,\n",
       "       -8.28427125e-01, -2.51935902e-01, -2.51935902e-01, -1.93576148e-01,\n",
       "       -1.93576148e-01, -2.00000000e+00, -2.00000000e+00, -2.00000000e+00,\n",
       "        5.76491223e-01,  4.00000000e+00,  4.00000000e+00, -2.00000000e+00,\n",
       "        2.00000000e+00,  3.43305404e-16,  1.69703729e-16,  2.00000000e+00,\n",
       "        2.00000000e+00,  2.00000000e+00, -1.54215295e-15,  4.63950996e-16,\n",
       "       -1.49196905e-16, -7.88972933e-16, -3.13661374e-16,  2.00000000e+00,\n",
       "        2.00000000e+00,  2.00000000e+00, -4.00000000e+00, -4.00000000e+00,\n",
       "       -2.00000000e+00, -2.00000000e+00,  4.00000000e+00, -2.00000000e+00,\n",
       "        2.00000000e+00, -2.20982364e-16,  1.60000000e+01,  0.00000000e+00])"
      ]
     },
     "execution_count": 144,
     "metadata": {},
     "output_type": "execute_result"
    }
   ],
   "source": [
    "np.real(np.linalg.eigvals(ham))"
   ]
  },
  {
   "cell_type": "code",
   "execution_count": 112,
   "metadata": {},
   "outputs": [],
   "source": [
    "def give_kr_prod(matrices):\n",
    "    #matrices list of 2 (or more in principle) matrices\n",
    "    while len(matrices) != 1:\n",
    "        sm, smf=[],[]\n",
    "        for ind in range(len(matrices)):\n",
    "            sm.append(matrices[ind])\n",
    "            if ind%2==1 and ind>0:\n",
    "                smf.append(np.kron(*sm))\n",
    "                sm=[]\n",
    "        matrices = smf\n",
    "    return matrices[0]"
   ]
  },
  {
   "cell_type": "code",
   "execution_count": 65,
   "metadata": {},
   "outputs": [],
   "source": [
    "kk=[np.kron(*[ind_to_2[str(int(ok))] for ok in string[2*ind:2*(ind+1)]]) for ind in range(int(len(string)/2))]"
   ]
  },
  {
   "cell_type": "code",
   "execution_count": 70,
   "metadata": {},
   "outputs": [
    {
     "ename": "TypeError",
     "evalue": "_kron_dispatcher() missing 1 required positional argument: 'b'",
     "output_type": "error",
     "traceback": [
      "\u001b[0;31m---------------------------------------------------------------------------\u001b[0m",
      "\u001b[0;31mTypeError\u001b[0m                                 Traceback (most recent call last)",
      "\u001b[0;32m<ipython-input-70-07dd7a24744e>\u001b[0m in \u001b[0;36m<module>\u001b[0;34m\u001b[0m\n\u001b[0;32m----> 1\u001b[0;31m \u001b[0;34m[\u001b[0m\u001b[0;34m[\u001b[0m\u001b[0mnp\u001b[0m\u001b[0;34m.\u001b[0m\u001b[0mkron\u001b[0m\u001b[0;34m(\u001b[0m\u001b[0;34m*\u001b[0m\u001b[0;34m[\u001b[0m\u001b[0mok\u001b[0m\u001b[0;34m]\u001b[0m\u001b[0;34m)\u001b[0m \u001b[0;32mfor\u001b[0m \u001b[0mok\u001b[0m \u001b[0;32min\u001b[0m \u001b[0mkk\u001b[0m\u001b[0;34m[\u001b[0m\u001b[0;36m2\u001b[0m\u001b[0;34m*\u001b[0m\u001b[0mind\u001b[0m\u001b[0;34m:\u001b[0m\u001b[0;36m2\u001b[0m\u001b[0;34m*\u001b[0m\u001b[0;34m(\u001b[0m\u001b[0mind\u001b[0m\u001b[0;34m+\u001b[0m\u001b[0;36m1\u001b[0m\u001b[0;34m)\u001b[0m\u001b[0;34m]\u001b[0m\u001b[0;34m]\u001b[0m \u001b[0;32mfor\u001b[0m \u001b[0mind\u001b[0m \u001b[0;32min\u001b[0m \u001b[0mrange\u001b[0m\u001b[0;34m(\u001b[0m\u001b[0mint\u001b[0m\u001b[0;34m(\u001b[0m\u001b[0mlen\u001b[0m\u001b[0;34m(\u001b[0m\u001b[0mkk\u001b[0m\u001b[0;34m)\u001b[0m\u001b[0;34m/\u001b[0m\u001b[0;36m2\u001b[0m\u001b[0;34m)\u001b[0m\u001b[0;34m)\u001b[0m\u001b[0;34m]\u001b[0m\u001b[0;34m\u001b[0m\u001b[0;34m\u001b[0m\u001b[0m\n\u001b[0m",
      "\u001b[0;32m<ipython-input-70-07dd7a24744e>\u001b[0m in \u001b[0;36m<listcomp>\u001b[0;34m(.0)\u001b[0m\n\u001b[0;32m----> 1\u001b[0;31m \u001b[0;34m[\u001b[0m\u001b[0;34m[\u001b[0m\u001b[0mnp\u001b[0m\u001b[0;34m.\u001b[0m\u001b[0mkron\u001b[0m\u001b[0;34m(\u001b[0m\u001b[0;34m*\u001b[0m\u001b[0;34m[\u001b[0m\u001b[0mok\u001b[0m\u001b[0;34m]\u001b[0m\u001b[0;34m)\u001b[0m \u001b[0;32mfor\u001b[0m \u001b[0mok\u001b[0m \u001b[0;32min\u001b[0m \u001b[0mkk\u001b[0m\u001b[0;34m[\u001b[0m\u001b[0;36m2\u001b[0m\u001b[0;34m*\u001b[0m\u001b[0mind\u001b[0m\u001b[0;34m:\u001b[0m\u001b[0;36m2\u001b[0m\u001b[0;34m*\u001b[0m\u001b[0;34m(\u001b[0m\u001b[0mind\u001b[0m\u001b[0;34m+\u001b[0m\u001b[0;36m1\u001b[0m\u001b[0;34m)\u001b[0m\u001b[0;34m]\u001b[0m\u001b[0;34m]\u001b[0m \u001b[0;32mfor\u001b[0m \u001b[0mind\u001b[0m \u001b[0;32min\u001b[0m \u001b[0mrange\u001b[0m\u001b[0;34m(\u001b[0m\u001b[0mint\u001b[0m\u001b[0;34m(\u001b[0m\u001b[0mlen\u001b[0m\u001b[0;34m(\u001b[0m\u001b[0mkk\u001b[0m\u001b[0;34m)\u001b[0m\u001b[0;34m/\u001b[0m\u001b[0;36m2\u001b[0m\u001b[0;34m)\u001b[0m\u001b[0;34m)\u001b[0m\u001b[0;34m]\u001b[0m\u001b[0;34m\u001b[0m\u001b[0;34m\u001b[0m\u001b[0m\n\u001b[0m",
      "\u001b[0;32m<ipython-input-70-07dd7a24744e>\u001b[0m in \u001b[0;36m<listcomp>\u001b[0;34m(.0)\u001b[0m\n\u001b[0;32m----> 1\u001b[0;31m \u001b[0;34m[\u001b[0m\u001b[0;34m[\u001b[0m\u001b[0mnp\u001b[0m\u001b[0;34m.\u001b[0m\u001b[0mkron\u001b[0m\u001b[0;34m(\u001b[0m\u001b[0;34m*\u001b[0m\u001b[0;34m[\u001b[0m\u001b[0mok\u001b[0m\u001b[0;34m]\u001b[0m\u001b[0;34m)\u001b[0m \u001b[0;32mfor\u001b[0m \u001b[0mok\u001b[0m \u001b[0;32min\u001b[0m \u001b[0mkk\u001b[0m\u001b[0;34m[\u001b[0m\u001b[0;36m2\u001b[0m\u001b[0;34m*\u001b[0m\u001b[0mind\u001b[0m\u001b[0;34m:\u001b[0m\u001b[0;36m2\u001b[0m\u001b[0;34m*\u001b[0m\u001b[0;34m(\u001b[0m\u001b[0mind\u001b[0m\u001b[0;34m+\u001b[0m\u001b[0;36m1\u001b[0m\u001b[0;34m)\u001b[0m\u001b[0;34m]\u001b[0m\u001b[0;34m]\u001b[0m \u001b[0;32mfor\u001b[0m \u001b[0mind\u001b[0m \u001b[0;32min\u001b[0m \u001b[0mrange\u001b[0m\u001b[0;34m(\u001b[0m\u001b[0mint\u001b[0m\u001b[0;34m(\u001b[0m\u001b[0mlen\u001b[0m\u001b[0;34m(\u001b[0m\u001b[0mkk\u001b[0m\u001b[0;34m)\u001b[0m\u001b[0;34m/\u001b[0m\u001b[0;36m2\u001b[0m\u001b[0;34m)\u001b[0m\u001b[0;34m)\u001b[0m\u001b[0;34m]\u001b[0m\u001b[0;34m\u001b[0m\u001b[0;34m\u001b[0m\u001b[0m\n\u001b[0m",
      "\u001b[0;32m<__array_function__ internals>\u001b[0m in \u001b[0;36mkron\u001b[0;34m(*args, **kwargs)\u001b[0m\n",
      "\u001b[0;31mTypeError\u001b[0m: _kron_dispatcher() missing 1 required positional argument: 'b'"
     ]
    }
   ],
   "source": [
    "[[np.kron(*[ok]) for ok in kk[2*ind:2*(ind+1)]] for ind in range(int(len(kk)/2))]"
   ]
  },
  {
   "cell_type": "code",
   "execution_count": 73,
   "metadata": {},
   "outputs": [
    {
     "ename": "TypeError",
     "evalue": "'int' object is not iterable",
     "output_type": "error",
     "traceback": [
      "\u001b[0;31m---------------------------------------------------------------------------\u001b[0m",
      "\u001b[0;31mTypeError\u001b[0m                                 Traceback (most recent call last)",
      "\u001b[0;32m<ipython-input-73-6784b4de3f73>\u001b[0m in \u001b[0;36m<module>\u001b[0;34m\u001b[0m\n\u001b[1;32m      1\u001b[0m \u001b[0mli\u001b[0m \u001b[0;34m=\u001b[0m \u001b[0;34m[\u001b[0m\u001b[0;34m]\u001b[0m\u001b[0;34m\u001b[0m\u001b[0;34m\u001b[0m\u001b[0m\n\u001b[0;32m----> 2\u001b[0;31m \u001b[0;32mfor\u001b[0m \u001b[0mind\u001b[0m\u001b[0;34m,\u001b[0m\u001b[0mit\u001b[0m \u001b[0;32min\u001b[0m \u001b[0mrange\u001b[0m\u001b[0;34m(\u001b[0m\u001b[0mlen\u001b[0m\u001b[0;34m(\u001b[0m\u001b[0mkk\u001b[0m\u001b[0;34m)\u001b[0m\u001b[0;34m)\u001b[0m\u001b[0;34m:\u001b[0m\u001b[0;34m\u001b[0m\u001b[0;34m\u001b[0m\u001b[0m\n\u001b[0m\u001b[1;32m      3\u001b[0m     \u001b[0mli\u001b[0m\u001b[0;34m.\u001b[0m\u001b[0mappend\u001b[0m\u001b[0;34m(\u001b[0m\u001b[0;34m[\u001b[0m\u001b[0mit\u001b[0m\u001b[0;34m]\u001b[0m\u001b[0;34m)\u001b[0m\u001b[0;34m\u001b[0m\u001b[0;34m\u001b[0m\u001b[0m\n\u001b[1;32m      4\u001b[0m \u001b[0mkk\u001b[0m\u001b[0;34m\u001b[0m\u001b[0;34m\u001b[0m\u001b[0m\n",
      "\u001b[0;31mTypeError\u001b[0m: 'int' object is not iterable"
     ]
    }
   ],
   "source": [
    "li = []\n",
    "for ind,it in range(len(kk)):\n",
    "    li.append([it]) \n",
    "kk"
   ]
  },
  {
   "cell_type": "code",
   "execution_count": 17,
   "metadata": {},
   "outputs": [
    {
     "data": {
      "text/plain": [
       "[array([[ 1.+0.j,  0.+0.j],\n",
       "        [ 0.+0.j, -1.+0.j]]),\n",
       " array([[1., 0.],\n",
       "        [0., 1.]])]"
      ]
     },
     "execution_count": 17,
     "metadata": {},
     "output_type": "execute_result"
    }
   ],
   "source": [
    "[ind_to_2[str(int(ok))] for ok in string[:2]]"
   ]
  },
  {
   "cell_type": "code",
   "execution_count": 18,
   "metadata": {},
   "outputs": [
    {
     "data": {
      "text/plain": [
       "array([3, 0, 0, 0, 0, 0, 0, 0], dtype=uint8)"
      ]
     },
     "execution_count": 18,
     "metadata": {},
     "output_type": "execute_result"
    }
   ],
   "source": [
    "string"
   ]
  },
  {
   "cell_type": "code",
   "execution_count": null,
   "metadata": {},
   "outputs": [],
   "source": []
  }
 ],
 "metadata": {
  "kernelspec": {
   "display_name": "Python 3",
   "language": "python",
   "name": "python3"
  },
  "language_info": {
   "codemirror_mode": {
    "name": "ipython",
    "version": 3
   },
   "file_extension": ".py",
   "mimetype": "text/x-python",
   "name": "python",
   "nbconvert_exporter": "python",
   "pygments_lexer": "ipython3",
   "version": "3.6.9"
  }
 },
 "nbformat": 4,
 "nbformat_minor": 4
}
