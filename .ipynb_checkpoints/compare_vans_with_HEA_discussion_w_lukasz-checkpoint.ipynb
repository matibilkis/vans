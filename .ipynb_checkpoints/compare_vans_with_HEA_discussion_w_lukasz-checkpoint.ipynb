{
 "cells": [
  {
   "cell_type": "code",
   "execution_count": 20,
   "metadata": {},
   "outputs": [
    {
     "name": "stdout",
     "output_type": "stream",
     "text": [
      "The autoreload extension is already loaded. To reload it, use:\n",
      "  %reload_ext autoreload\n"
     ]
    }
   ],
   "source": [
    "%load_ext autoreload\n",
    "%autoreload 2\n",
    "from utilities.variational import *\n",
    "from utilities.misc import *\n",
    "from utilities.chemical import *\n",
    "from utilities.idinserter import IdInserter\n",
    "from openfermion.chem import MolecularData\n",
    "from openfermionpyscf import run_pyscf\n",
    "import matplotlib.pyplot as plt\n",
    "from tqdm import tqdm\n",
    "from utilities.simplifier import Simplifier\n",
    "from utilities.unitary_killer import UnitaryMurder\n",
    "from utilities.variational import VQE\n",
    "\n",
    "\n",
    "bd= 1.5\n",
    "problem_config ={\"problem\" : \"H2\", \"geometry\": [('H', (0., 0., 0.)), ('H', (0., 0., bd)), ('H', (0., 0., 2*bd)), ('H', (0., 0., 3*bd))], \n",
    "                  \"multiplicity\":1, \"charge\":0, \"basis\":\"sto-3g\"}"
   ]
  },
  {
   "cell_type": "code",
   "execution_count": 21,
   "metadata": {},
   "outputs": [
    {
     "name": "stderr",
     "output_type": "stream",
     "text": [
      "100%|██████████| 10/10 [04:36<00:00, 27.67s/it]\n"
     ]
    }
   ],
   "source": [
    "vqe_handler = VQE(n_qubits=8,problem_config=problem_config, optimizer=\"sgd\", lr=.01,verbose=0)\n",
    "\n",
    "heas = {}\n",
    "for L in tqdm(range(10)):\n",
    "    hea_indices = vqe_handler.hea_ansatz_indexed_circuit(L,full=True)\n",
    "    vv = vqe_handler.vqe(hea_indices)\n",
    "    heas[L]=np.min(vv[-1].history[\"energy\"])"
   ]
  },
  {
   "cell_type": "code",
   "execution_count": 26,
   "metadata": {},
   "outputs": [],
   "source": [
    "ls = list(heas.keys())[1:]\n",
    "vals = list(heas.values())[1:]"
   ]
  },
  {
   "cell_type": "code",
   "execution_count": 37,
   "metadata": {},
   "outputs": [
    {
     "data": {
      "text/plain": [
       "Text(0.5, 0, 'HEA DEPTH (LAYERS)')"
      ]
     },
     "execution_count": 37,
     "metadata": {},
     "output_type": "execute_result"
    },
    {
     "data": {
      "image/png": "[encoded data removed]",
      "text/plain": [
       "<Figure size 432x288 with 1 Axes>"
      ]
     },
     "metadata": {
      "needs_background": "light"
     },
     "output_type": "display_data"
    }
   ],
   "source": [
    "plt.scatter(ls, vals,color=\"black\",s=30,label=\"Lowest found during training (HEA)\")\n",
    "plt.plot(ls,np.ones(len(ls))*vqe_handler.lower_bound_energy,'--',label=\"FCI\")\n",
    "plt.xlabel(\"HEA DEPTH (LAYERS)\")"
   ]
  },
  {
   "cell_type": "code",
   "execution_count": null,
   "metadata": {},
   "outputs": [],
   "source": [
    "idens = {}\n",
    "for L in tqdm(range(2,16,2)):\n",
    "    c=[vqe_handler.number_of_cnots+k for k in range(vqe_handler.n_qubits,2*vqe_handler.n_qubits)]\n",
    "    for k in range(8):\n",
    "        for i in range(len(vqe_handler.qubits)):\n",
    "            c+=idins.resolution_2cnots(i,(i+1)%len(vqe_handler.qubits))\n",
    "        c+=[vqe_handler.number_of_cnots+k for k in range(vqe_handler.n_qubits,2*vqe_handler.n_qubits)]\n",
    "\n",
    "\n",
    "\n",
    "vv = vqe_handler.vqe(c)"
   ]
  },
  {
   "cell_type": "code",
   "execution_count": 18,
   "metadata": {},
   "outputs": [
    {
     "data": {
      "text/plain": [
       "[<matplotlib.lines.Line2D at 0x7f82cc93f6a0>]"
      ]
     },
     "execution_count": 18,
     "metadata": {},
     "output_type": "execute_result"
    },
    {
     "data": {
      "image/png": "[encoded data removed]",
      "text/plain": [
       "<Figure size 432x288 with 1 Axes>"
      ]
     },
     "metadata": {
      "needs_background": "light"
     },
     "output_type": "display_data"
    }
   ],
   "source": [
    "plt.plot(vv[-1].history[\"energy\"])\n",
    "plt.plot(range(len(vv[-1].history[\"energy\"])),np.ones(len(vv[-1].history[\"energy\"]))*vqe_handler.lower_bound_energy,'--')"
   ]
  },
  {
   "cell_type": "code",
   "execution_count": null,
   "metadata": {},
   "outputs": [],
   "source": []
  }
 ],
 "metadata": {
  "kernelspec": {
   "display_name": "Python 3",
   "language": "python",
   "name": "python3"
  },
  "language_info": {
   "codemirror_mode": {
    "name": "ipython",
    "version": 3
   },
   "file_extension": ".py",
   "mimetype": "text/x-python",
   "name": "python",
   "nbconvert_exporter": "python",
   "pygments_lexer": "ipython3",
   "version": "3.6.9"
  }
 },
 "nbformat": 4,
 "nbformat_minor": 4
}
